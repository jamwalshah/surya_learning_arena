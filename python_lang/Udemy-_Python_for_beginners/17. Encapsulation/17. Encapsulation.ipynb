{
  "nbformat": 4,
  "nbformat_minor": 0,
  "metadata": {
    "colab": {
      "provenance": [],
      "toc_visible": true
    },
    "kernelspec": {
      "name": "python3",
      "display_name": "Python 3"
    },
    "language_info": {
      "name": "python"
    }
  },
  "cells": [
    {
      "cell_type": "markdown",
      "source": [
        "## 154. Introduction\n",
        "- Encapsulation is about protecting the properties & the functionality of an object from other objects\n",
        "- Example\n",
        "    - Pharmaceutical capsule encapsules has all the properties & data\n",
        "    - in most of Object oriented languages,\n",
        "        - this capsule is called class,\n",
        "        - the data is called properties/variables\n",
        "        - the functionality/methods can access data\n",
        "- if we follow proper encapsulation, we always have to access properties/variables in that object using functionality/methods only\n",
        "- this also means writing the data and code in one single unit called class"
      ],
      "metadata": {
        "id": "AbnBdHCEwKST"
      }
    },
    {
      "cell_type": "markdown",
      "source": [
        "## 155. Private Fields and Name Mangling\n",
        "- To mark a field as private, use double underscore ```__``` before field name like ```self.__id```\n",
        "- Once a field is marked private, we're not able to directly access the fields of a class\n",
        "- ```Name Mangling```\n",
        "    - access the private field through an object and mangled name\n",
        "    - uses a syntax to access Private fields\n",
        "    - Private variables are not really hidden, but stored with name mangled, and you can access Private variable with mangled name\n",
        "    - ``` python\n",
        "    object._ClassName__fieldName\n",
        "    ```\n",
        "    - above syntax is called Name mangling which can be used to access Private fields"
      ],
      "metadata": {
        "id": "8aLq4IkZxel6"
      }
    },
    {
      "cell_type": "code",
      "execution_count": 1,
      "metadata": {
        "colab": {
          "base_uri": "https://localhost:8080/"
        },
        "id": "Dxb3BwprwGhP",
        "outputId": "9827c655-7a1a-4bc7-ed33-682a0f1598b3"
      },
      "outputs": [
        {
          "output_type": "stream",
          "name": "stdout",
          "text": [
            "123\n",
            "John\n"
          ]
        }
      ],
      "source": [
        "# encapsulation\n",
        "# student.py\n",
        "class Student:\n",
        "    def __init__(self):\n",
        "        self.id = 123 # non-Private field\n",
        "        self.name = \"John\" # non-Private field\n",
        "\n",
        "s = Student()\n",
        "print(s.id) # can directly access non-Private fields\n",
        "print(s.name) # can directly access non-Private fields"
      ]
    },
    {
      "cell_type": "code",
      "source": [
        "class Student:\n",
        "    def __init__(self):\n",
        "        self.__id = 123 # Private field, cannot be accessed directly\n",
        "        self.__name = \"John\" # Private field, cannot be accessed directly\n",
        "    def display(self):\n",
        "        print(self.__id)\n",
        "        print(self.__name)\n",
        "\n",
        "s = Student()\n",
        "# print(s.__id) # cannot directly access Private fields like this, need to use methods\n",
        "# print(s.__name) # cannot directly access Private fields like this, need to use methods\n",
        "s.display()"
      ],
      "metadata": {
        "colab": {
          "base_uri": "https://localhost:8080/"
        },
        "id": "4o3oQNP4yT7S",
        "outputId": "345d0f9a-bf0a-4cda-edb3-b7591ac677f6"
      },
      "execution_count": 2,
      "outputs": [
        {
          "output_type": "stream",
          "name": "stdout",
          "text": [
            "123\n",
            "John\n"
          ]
        }
      ]
    },
    {
      "cell_type": "code",
      "source": [
        "class Student:\n",
        "    def __init__(self):\n",
        "        self.__id = 123 # Private field, cannot be accessed directly\n",
        "        self.__name = \"John\" # Private field, cannot be accessed directly\n",
        "    def display(self):\n",
        "        print(self.__id)\n",
        "        print(self.__name)\n",
        "\n",
        "s = Student()\n",
        "# s.display()\n",
        "print(s._Student__id) # name Mangling, Private Variables are actually stured like this, but not hidden\n",
        "print(s._Student__name)"
      ],
      "metadata": {
        "colab": {
          "base_uri": "https://localhost:8080/"
        },
        "id": "oa4Y5qBOywpA",
        "outputId": "95ff90f0-2dc9-4157-8650-5099be3b6ef0"
      },
      "execution_count": 3,
      "outputs": [
        {
          "output_type": "stream",
          "name": "stdout",
          "text": [
            "123\n",
            "John\n"
          ]
        }
      ]
    },
    {
      "cell_type": "markdown",
      "source": [
        "## 156. Implementing Encapsulation\n",
        "- Implement encapsulation using setters & getters"
      ],
      "metadata": {
        "id": "XE8Ev44Q08gi"
      }
    },
    {
      "cell_type": "code",
      "source": [
        "class Student:\n",
        "    def setId(self, id):\n",
        "        self.id = id\n",
        "\n",
        "    def getId(self):\n",
        "        return self.id\n",
        "\n",
        "    def setName(self, name):\n",
        "        self.name = name\n",
        "\n",
        "    def getName(self):\n",
        "        return self.name\n",
        "\n",
        "s = Student()\n",
        "s.setId(123)\n",
        "s.setName(\"John\")\n",
        "print(s.getId())\n",
        "print(s.getName())"
      ],
      "metadata": {
        "colab": {
          "base_uri": "https://localhost:8080/"
        },
        "id": "hFolZJs2z1lU",
        "outputId": "9392a676-9daa-4f29-cb8b-43e7838329ad"
      },
      "execution_count": 4,
      "outputs": [
        {
          "output_type": "stream",
          "name": "stdout",
          "text": [
            "123\n",
            "John\n"
          ]
        }
      ]
    },
    {
      "cell_type": "markdown",
      "source": [
        "## Assignment 9 : Encapsulation\n",
        "- Define a class called Patient with three private fields to encapsulate id, name & ssn of patient\n",
        "- access the fields through setter and getter methods"
      ],
      "metadata": {
        "id": "ypmzzIJcdNrU"
      }
    },
    {
      "cell_type": "code",
      "source": [
        "# PatientEncapsulation.py\n",
        "class Patient:\n",
        "    def setId(self, id):\n",
        "        self.__id = id\n",
        "    def getId(self):\n",
        "        return self.__id\n",
        "\n",
        "    def setName(self, name):\n",
        "        self.__name = name\n",
        "    def getName(self):\n",
        "        return self.__name\n",
        "\n",
        "    def setSsn(self, ssn):\n",
        "        self.__ssn = ssn\n",
        "    def getSsn(self):\n",
        "        return self.__ssn\n",
        "\n",
        "p1 = Patient()\n",
        "\n",
        "p1.setId(112)\n",
        "p1.setName(\"Lord Bobby\")\n",
        "p1.setSsn(1441)\n",
        "\n",
        "print(p1.getId())\n",
        "print(p1.getName())\n",
        "print(p1.getSsn())"
      ],
      "metadata": {
        "colab": {
          "base_uri": "https://localhost:8080/"
        },
        "id": "aJDGOwcxbzg-",
        "outputId": "a79ea702-3e0e-461a-faae-d374e1988f27"
      },
      "execution_count": 5,
      "outputs": [
        {
          "output_type": "stream",
          "name": "stdout",
          "text": [
            "112\n",
            "Lord Bobby\n",
            "1441\n"
          ]
        }
      ]
    },
    {
      "cell_type": "code",
      "source": [],
      "metadata": {
        "id": "_o_y4IPvA9vq"
      },
      "execution_count": 5,
      "outputs": []
    }
  ]
}