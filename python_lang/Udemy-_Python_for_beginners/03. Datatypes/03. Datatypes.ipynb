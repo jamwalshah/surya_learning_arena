{
  "nbformat": 4,
  "nbformat_minor": 0,
  "metadata": {
    "colab": {
      "provenance": [],
      "toc_visible": true
    },
    "kernelspec": {
      "name": "python3",
      "display_name": "Python 3"
    },
    "language_info": {
      "name": "python"
    }
  },
  "cells": [
    {
      "cell_type": "markdown",
      "source": [
        "## 18. Introduction"
      ],
      "metadata": {
        "id": "bfRb0bqWJsx2"
      }
    },
    {
      "cell_type": "code",
      "execution_count": null,
      "metadata": {
        "id": "6ZGZUoXYJrMW"
      },
      "outputs": [],
      "source": [
        "a=10\n",
        "f=10.23\n",
        "s=\"You are the creator of your destiny\""
      ]
    },
    {
      "cell_type": "markdown",
      "source": [
        "## Five Data Types\n",
        "1. None\n",
        "    - an object that does not contain any value\n",
        "2. Numeric Types\n",
        "    - int, float, complex\n",
        "3. Sequences\n",
        "    - str, bytes, bytearray, list, tuple, range\n",
        "4. Sets\n",
        "    -\n",
        "5. Mappings\n",
        "    - used to map-reduce"
      ],
      "metadata": {
        "id": "4r3h31BpJ49t"
      }
    },
    {
      "cell_type": "markdown",
      "source": [
        "## 19. Numeric Types"
      ],
      "metadata": {
        "id": "ReLUrhm8KY_7"
      }
    },
    {
      "cell_type": "code",
      "source": [
        "# numerictypes.py\n",
        "a=13\n",
        "b=100\n",
        "c=-66\n",
        "print(a, b, c)"
      ],
      "metadata": {
        "colab": {
          "base_uri": "https://localhost:8080/"
        },
        "id": "iR0Sw_8YJ306",
        "outputId": "2dbb34ec-c5e3-44c4-a9c7-5b11daf466ee"
      },
      "execution_count": 26,
      "outputs": [
        {
          "output_type": "stream",
          "name": "stdout",
          "text": [
            "13 100 -66\n"
          ]
        }
      ]
    },
    {
      "cell_type": "code",
      "source": [
        "x=33.5\n",
        "y=-25.8\n",
        "z=205\n",
        "print(x, y, z)"
      ],
      "metadata": {
        "colab": {
          "base_uri": "https://localhost:8080/"
        },
        "id": "mw3evcyJLLnR",
        "outputId": "0651784c-4543-4273-b290-487972484f84"
      },
      "execution_count": null,
      "outputs": [
        {
          "output_type": "stream",
          "name": "stdout",
          "text": [
            "33.5 -25.8 205\n"
          ]
        }
      ]
    },
    {
      "cell_type": "code",
      "source": [
        "a=13\n",
        "b=100\n",
        "c=-66\n",
        "print(a, b, c)\n",
        "print(type(a))"
      ],
      "metadata": {
        "colab": {
          "base_uri": "https://localhost:8080/"
        },
        "id": "XvjhZIVPLXcB",
        "outputId": "5b024df9-9b47-49a9-d776-110746642771"
      },
      "execution_count": null,
      "outputs": [
        {
          "output_type": "stream",
          "name": "stdout",
          "text": [
            "13 100 -66\n",
            "<class 'int'>\n"
          ]
        }
      ]
    },
    {
      "cell_type": "code",
      "source": [
        "x=33.5\n",
        "y=-25.8\n",
        "z=205\n",
        "print(x, y, z)\n",
        "print(type(z))"
      ],
      "metadata": {
        "colab": {
          "base_uri": "https://localhost:8080/"
        },
        "id": "hhKRXR8ILpnH",
        "outputId": "2b1cce64-fd9c-4daf-b806-a422edba2e74"
      },
      "execution_count": null,
      "outputs": [
        {
          "output_type": "stream",
          "name": "stdout",
          "text": [
            "33.5 -25.8 205\n",
            "<class 'int'>\n"
          ]
        }
      ]
    },
    {
      "cell_type": "code",
      "source": [
        "x=33.5\n",
        "y=-25.8\n",
        "z=205.0\n",
        "print(x, y, z)\n",
        "print(type(z))"
      ],
      "metadata": {
        "colab": {
          "base_uri": "https://localhost:8080/"
        },
        "id": "28u_RhlrL1pc",
        "outputId": "c2454ca3-171f-46f5-be76-9270bc9ddefe"
      },
      "execution_count": null,
      "outputs": [
        {
          "output_type": "stream",
          "name": "stdout",
          "text": [
            "33.5 -25.8 205.0\n",
            "<class 'float'>\n"
          ]
        }
      ]
    },
    {
      "cell_type": "markdown",
      "source": [
        "## 20. Complex, Binary and Hexadecimal Types"
      ],
      "metadata": {
        "id": "6w6LpeyXMHdX"
      }
    },
    {
      "cell_type": "code",
      "source": [
        "d = 3+5j\n",
        "print(d)"
      ],
      "metadata": {
        "id": "XmGe1CZZL6i0",
        "colab": {
          "base_uri": "https://localhost:8080/"
        },
        "outputId": "5634943f-e8b5-40ca-b0f4-1aea573ebe61"
      },
      "execution_count": null,
      "outputs": [
        {
          "output_type": "stream",
          "name": "stdout",
          "text": [
            "(3+5j)\n"
          ]
        }
      ]
    },
    {
      "cell_type": "code",
      "source": [
        "print(type(d))"
      ],
      "metadata": {
        "colab": {
          "base_uri": "https://localhost:8080/"
        },
        "id": "BG9MesrWYag4",
        "outputId": "78f87160-4e82-4218-bf62-e757cdfef9d5"
      },
      "execution_count": null,
      "outputs": [
        {
          "output_type": "stream",
          "name": "stdout",
          "text": [
            "<class 'complex'>\n"
          ]
        }
      ]
    },
    {
      "cell_type": "code",
      "source": [
        "e = 0B1010\n",
        "print(e)\n",
        "print(type(e))"
      ],
      "metadata": {
        "colab": {
          "base_uri": "https://localhost:8080/"
        },
        "id": "HyGre9ztYeKY",
        "outputId": "b41cdfcf-3bd0-4341-df79-5aeb0cfda0b5"
      },
      "execution_count": null,
      "outputs": [
        {
          "output_type": "stream",
          "name": "stdout",
          "text": [
            "10\n",
            "<class 'int'>\n"
          ]
        }
      ]
    },
    {
      "cell_type": "code",
      "source": [
        "f = 0XFF\n",
        "print(f)\n",
        "print(type(f))"
      ],
      "metadata": {
        "colab": {
          "base_uri": "https://localhost:8080/"
        },
        "id": "HrnynreMYnuw",
        "outputId": "d2a5235a-b63b-4a00-d3c5-d2f9e1c04e98"
      },
      "execution_count": null,
      "outputs": [
        {
          "output_type": "stream",
          "name": "stdout",
          "text": [
            "255\n",
            "<class 'int'>\n"
          ]
        }
      ]
    },
    {
      "cell_type": "code",
      "source": [
        "ff = 0o067\n",
        "print(ff)\n",
        "print(type(ff))"
      ],
      "metadata": {
        "colab": {
          "base_uri": "https://localhost:8080/"
        },
        "id": "mfJlgDk_ay_A",
        "outputId": "ee8e0789-3b35-40f5-c464-065e921c3f24"
      },
      "execution_count": null,
      "outputs": [
        {
          "output_type": "stream",
          "name": "stdout",
          "text": [
            "55\n",
            "<class 'int'>\n"
          ]
        }
      ]
    },
    {
      "cell_type": "markdown",
      "source": [
        "## 21. Boolean Types"
      ],
      "metadata": {
        "id": "e0N370xPZPom"
      }
    },
    {
      "cell_type": "code",
      "source": [
        "g = True\n",
        "print(g)\n",
        "print(type(g))"
      ],
      "metadata": {
        "colab": {
          "base_uri": "https://localhost:8080/"
        },
        "id": "rpZFn5rMYvw1",
        "outputId": "91d14dc6-7313-48b8-8c64-76699c433fe1"
      },
      "execution_count": null,
      "outputs": [
        {
          "output_type": "stream",
          "name": "stdout",
          "text": [
            "True\n",
            "<class 'bool'>\n"
          ]
        }
      ]
    },
    {
      "cell_type": "code",
      "source": [
        "print(9>8)"
      ],
      "metadata": {
        "colab": {
          "base_uri": "https://localhost:8080/"
        },
        "id": "6U1lcklNZKRA",
        "outputId": "a6e9df0d-83d2-476e-ed8b-abe632ecf17f"
      },
      "execution_count": null,
      "outputs": [
        {
          "output_type": "stream",
          "name": "stdout",
          "text": [
            "True\n"
          ]
        }
      ]
    },
    {
      "cell_type": "code",
      "source": [
        "print(9<8)"
      ],
      "metadata": {
        "colab": {
          "base_uri": "https://localhost:8080/"
        },
        "id": "ouLxjOjgZU4M",
        "outputId": "9ab5a344-c171-4c2f-f878-a872c68ecad6"
      },
      "execution_count": null,
      "outputs": [
        {
          "output_type": "stream",
          "name": "stdout",
          "text": [
            "False\n"
          ]
        }
      ]
    },
    {
      "cell_type": "markdown",
      "source": [
        "## 22. Type Conversion Functions"
      ],
      "metadata": {
        "id": "Fwz0ej2oZcJ5"
      }
    },
    {
      "cell_type": "code",
      "source": [
        "h = int(x)\n",
        "print(h)\n",
        "print(type(h))"
      ],
      "metadata": {
        "colab": {
          "base_uri": "https://localhost:8080/"
        },
        "id": "RSJ0FqMDZYB7",
        "outputId": "b58828ad-d913-4920-f5e3-cda57c58716c"
      },
      "execution_count": null,
      "outputs": [
        {
          "output_type": "stream",
          "name": "stdout",
          "text": [
            "33\n",
            "<class 'int'>\n"
          ]
        }
      ]
    },
    {
      "cell_type": "code",
      "source": [
        "i = float(\"22.5\")\n",
        "print(i)\n",
        "print(type(i))"
      ],
      "metadata": {
        "colab": {
          "base_uri": "https://localhost:8080/"
        },
        "id": "_WqqnoUMaD3q",
        "outputId": "b1e6f9da-0cdc-493c-bf79-3b778584709f"
      },
      "execution_count": null,
      "outputs": [
        {
          "output_type": "stream",
          "name": "stdout",
          "text": [
            "22.5\n",
            "<class 'float'>\n"
          ]
        }
      ]
    },
    {
      "cell_type": "code",
      "source": [
        "print(bin(10))"
      ],
      "metadata": {
        "colab": {
          "base_uri": "https://localhost:8080/"
        },
        "id": "ZSj1aSsNaY_J",
        "outputId": "d38d69da-1ca2-4c12-d031-43053ed01874"
      },
      "execution_count": null,
      "outputs": [
        {
          "output_type": "stream",
          "name": "stdout",
          "text": [
            "0b1010\n"
          ]
        }
      ]
    },
    {
      "cell_type": "code",
      "source": [
        "print(hex(10))"
      ],
      "metadata": {
        "colab": {
          "base_uri": "https://localhost:8080/"
        },
        "id": "Zp6ydhstagYk",
        "outputId": "37dc82a2-965c-4701-fcfd-f3d0c24ff216"
      },
      "execution_count": null,
      "outputs": [
        {
          "output_type": "stream",
          "name": "stdout",
          "text": [
            "0xa\n"
          ]
        }
      ]
    },
    {
      "cell_type": "code",
      "source": [
        "print(oct(10))"
      ],
      "metadata": {
        "colab": {
          "base_uri": "https://localhost:8080/"
        },
        "id": "tpZ7QUQHaoSe",
        "outputId": "53ce3cf0-6de2-4264-93a1-9e48580c5ade"
      },
      "execution_count": null,
      "outputs": [
        {
          "output_type": "stream",
          "name": "stdout",
          "text": [
            "0o12\n"
          ]
        }
      ]
    },
    {
      "cell_type": "markdown",
      "source": [
        "## 23. Identifiers\n",
        "- the names we give to the variables or functions within our python program are called identifiers\n",
        "- Certain rules need to be followed while defining identifiers\n",
        "    1. any number of alphabets are allowed\n",
        "    2. it is case-sensitive\n",
        "    3. You can use any number of numbers in the middle or at the end, but you cannot start an identifier name with a number\n",
        "    4. you can have any number of under scores ```_``` at the beginning, middle or at the end of identifier\n",
        "    5. ```_``` at beginning means private, and ```__``` at beginning means strong private\n",
        "    6. ```__``` at beginning and end of function means, it is special function or magic function like ```__init__```\n",
        "    6. You cannout any other special symbols in identifiers\n",
        "    7. You cannot have keywords as identifiers"
      ],
      "metadata": {
        "id": "f015ulUGbHrX"
      }
    },
    {
      "cell_type": "code",
      "source": [
        "userid = 123\n",
        "userID = 123\n",
        "# these are two different variables"
      ],
      "metadata": {
        "id": "kl6Jkktkaqh0"
      },
      "execution_count": null,
      "outputs": []
    },
    {
      "cell_type": "code",
      "source": [
        "user123id123 = 123 # valid\n",
        "123user123id123 = 123 # invalid, digits not allowed at start"
      ],
      "metadata": {
        "colab": {
          "base_uri": "https://localhost:8080/",
          "height": 140
        },
        "id": "6kgk2fBBS42M",
        "outputId": "378d086e-fb92-419d-8c48-5281bd3b7818"
      },
      "execution_count": null,
      "outputs": [
        {
          "output_type": "error",
          "ename": "SyntaxError",
          "evalue": "ignored",
          "traceback": [
            "\u001b[1;36m  Cell \u001b[1;32mIn[21], line 2\u001b[1;36m\u001b[0m\n\u001b[1;33m    123user123id123 = 123 # invalid, digits not allowed at start\u001b[0m\n\u001b[1;37m       ^\u001b[0m\n\u001b[1;31mSyntaxError\u001b[0m\u001b[1;31m:\u001b[0m invalid syntax\n"
          ]
        }
      ]
    },
    {
      "cell_type": "code",
      "source": [
        "_user__id___ = 123 # valid\n",
        "_user__id$ = 123 # invalid, other special sumbols not allowed"
      ],
      "metadata": {
        "colab": {
          "base_uri": "https://localhost:8080/",
          "height": 140
        },
        "id": "jYb5wo8zS4ys",
        "outputId": "44f807c1-ca3b-4d65-d563-99edac5de531"
      },
      "execution_count": null,
      "outputs": [
        {
          "output_type": "error",
          "ename": "SyntaxError",
          "evalue": "ignored",
          "traceback": [
            "\u001b[1;36m  Cell \u001b[1;32mIn[22], line 2\u001b[1;36m\u001b[0m\n\u001b[1;33m    _user__id$ = 123 # invalid, other special sumbols not allowed\u001b[0m\n\u001b[1;37m             ^\u001b[0m\n\u001b[1;31mSyntaxError\u001b[0m\u001b[1;31m:\u001b[0m invalid syntax\n"
          ]
        }
      ]
    },
    {
      "cell_type": "code",
      "source": [
        "_user_idif = 123 # valid\n",
        "if = 123 # invalid, keyword as identifier is not allowed"
      ],
      "metadata": {
        "colab": {
          "base_uri": "https://localhost:8080/",
          "height": 140
        },
        "id": "UEr2VLXCS4ww",
        "outputId": "eccafd4b-8ca5-4ab9-e2c4-3abb008dbcb8"
      },
      "execution_count": null,
      "outputs": [
        {
          "output_type": "error",
          "ename": "SyntaxError",
          "evalue": "ignored",
          "traceback": [
            "\u001b[1;36m  Cell \u001b[1;32mIn[23], line 2\u001b[1;36m\u001b[0m\n\u001b[1;33m    if = 123 # invalid, keyword as identifier is not allowed\u001b[0m\n\u001b[1;37m       ^\u001b[0m\n\u001b[1;31mSyntaxError\u001b[0m\u001b[1;31m:\u001b[0m invalid syntax\n"
          ]
        }
      ]
    },
    {
      "cell_type": "code",
      "source": [
        "_userID = 123 # valid, private variable (same level as protected in C++)\n",
        "__userID = 123 # valid, strong private (same level as private in C++)"
      ],
      "metadata": {
        "id": "tuYVPtYyUV6W"
      },
      "execution_count": null,
      "outputs": []
    },
    {
      "cell_type": "code",
      "source": [
        "def __init__(): # valid, special function\n",
        "    body='goes here'"
      ],
      "metadata": {
        "id": "UFTXZ_KLVl6S"
      },
      "execution_count": null,
      "outputs": []
    },
    {
      "cell_type": "code",
      "source": [],
      "metadata": {
        "id": "GpWQE-7IWElJ"
      },
      "execution_count": null,
      "outputs": []
    }
  ]
}