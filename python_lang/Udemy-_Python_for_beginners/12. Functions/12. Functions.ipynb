{
  "nbformat": 4,
  "nbformat_minor": 0,
  "metadata": {
    "colab": {
      "provenance": [],
      "toc_visible": true
    },
    "kernelspec": {
      "name": "python3",
      "display_name": "Python 3"
    },
    "language_info": {
      "name": "python"
    }
  },
  "cells": [
    {
      "cell_type": "markdown",
      "source": [
        "## 95. Introduction\n",
        "- Function\n",
        "    - a group of statements which perform a specific task\n",
        "    - e.g. print(), input()\n",
        "- User Defined Function\n",
        "    - perform a task\n",
        "    - e.g.\n",
        "        - Process Data processData(data)\n",
        "        - Calculation calculateSum(a, b)\n",
        "- Advantages of functions\n",
        "    1. Re-useability\n",
        "    2. Modularity\n",
        "    3. Eazy Maintainence\n"
      ],
      "metadata": {
        "id": "VEX5YHF8D7A6"
      }
    },
    {
      "cell_type": "markdown",
      "source": [
        "## 96. first function"
      ],
      "metadata": {
        "id": "jiclSHPJS7Se"
      }
    },
    {
      "cell_type": "code",
      "execution_count": 1,
      "metadata": {
        "colab": {
          "base_uri": "https://localhost:8080/"
        },
        "id": "gQWBWoSrD36e",
        "outputId": "423a422f-1c38-46cc-fb2c-f6b091710a7c"
      },
      "outputs": [
        {
          "output_type": "stream",
          "name": "stdout",
          "text": [
            "Average of two numbers is 15.0\n"
          ]
        }
      ],
      "source": [
        "# function\n",
        "# average.py\n",
        "\n",
        "def average(a, b):\n",
        "    print(\"Average of two numbers is\", (a+b)/2)\n",
        "\n",
        "average(10, 20)"
      ]
    },
    {
      "cell_type": "markdown",
      "source": [
        "## 97. returning a result"
      ],
      "metadata": {
        "id": "AgaO7pTiThNZ"
      }
    },
    {
      "cell_type": "code",
      "source": [
        "def average(a, b):\n",
        "    return (a+b)/2\n",
        "\n",
        "result = average(10, 20)\n",
        "print(result)"
      ],
      "metadata": {
        "colab": {
          "base_uri": "https://localhost:8080/"
        },
        "id": "csHVmsf3TYQD",
        "outputId": "76b6a55e-44b3-4123-93a7-f5646bb8517a"
      },
      "execution_count": 4,
      "outputs": [
        {
          "output_type": "stream",
          "name": "stdout",
          "text": [
            "15.0\n"
          ]
        }
      ]
    },
    {
      "cell_type": "code",
      "source": [
        "def average(a, b):\n",
        "    return (a+b)/2\n",
        "\n",
        "print(average(10, 20))"
      ],
      "metadata": {
        "colab": {
          "base_uri": "https://localhost:8080/"
        },
        "id": "s_WcI3LITszm",
        "outputId": "fcdde9e2-b18f-472a-a2f3-f7df39e5fc11"
      },
      "execution_count": 5,
      "outputs": [
        {
          "output_type": "stream",
          "name": "stdout",
          "text": [
            "15.0\n"
          ]
        }
      ]
    },
    {
      "cell_type": "markdown",
      "source": [
        "## 98. return multiple values"
      ],
      "metadata": {
        "id": "cqwK-E9GT9o8"
      }
    },
    {
      "cell_type": "code",
      "source": [
        "# calc.py\n",
        "def calc(a, b):\n",
        "    x = a + b\n",
        "    y = a - b\n",
        "    z = a * b\n",
        "    u = a / b\n",
        "    return x, y, z, u\n",
        "\n",
        "result = calc(10, 5)\n",
        "# print(result)\n",
        "\n",
        "for i in result: print(i)"
      ],
      "metadata": {
        "colab": {
          "base_uri": "https://localhost:8080/"
        },
        "id": "pe4UXfbtT4NW",
        "outputId": "b61f8b26-8f08-4910-c0ff-3b1bbd3cb144"
      },
      "execution_count": 9,
      "outputs": [
        {
          "output_type": "stream",
          "name": "stdout",
          "text": [
            "15\n",
            "5\n",
            "50\n",
            "2.0\n"
          ]
        }
      ]
    },
    {
      "cell_type": "markdown",
      "source": [
        "## 99. local and global variables"
      ],
      "metadata": {
        "id": "Wp9LZiSNUuxH"
      }
    },
    {
      "cell_type": "code",
      "source": [
        "# localandglobal.py\n",
        "x = 123 # global\n",
        "\n",
        "def display():\n",
        "    y = 678 # local\n",
        "    print(x) # x is global\n",
        "\n",
        "print(y) # y is local to display function, so its not accessible here\n",
        "display()"
      ],
      "metadata": {
        "colab": {
          "base_uri": "https://localhost:8080/",
          "height": 227
        },
        "id": "-dICuF0mUezB",
        "outputId": "96bf336f-e1d5-4567-968b-6945a2120969"
      },
      "execution_count": 14,
      "outputs": [
        {
          "output_type": "error",
          "ename": "NameError",
          "evalue": "ignored",
          "traceback": [
            "\u001b[1;31m---------------------------------------------------------------------------\u001b[0m",
            "\u001b[1;31mNameError\u001b[0m                                 Traceback (most recent call last)",
            "Cell \u001b[1;32mIn[14], line 8\u001b[0m\n\u001b[0;32m      5\u001b[0m     y \u001b[38;5;241m=\u001b[39m \u001b[38;5;241m678\u001b[39m \u001b[38;5;66;03m# local\u001b[39;00m\n\u001b[0;32m      6\u001b[0m     \u001b[38;5;28mprint\u001b[39m(x) \u001b[38;5;66;03m# x is global\u001b[39;00m\n\u001b[1;32m----> 8\u001b[0m \u001b[38;5;28mprint\u001b[39m(\u001b[43my\u001b[49m) \u001b[38;5;66;03m# y is local to display function, so its not accessible here\u001b[39;00m\n\u001b[0;32m      9\u001b[0m display()\n",
            "\u001b[1;31mNameError\u001b[0m: name 'y' is not defined"
          ]
        }
      ]
    },
    {
      "cell_type": "code",
      "source": [
        "x = 123 # global\n",
        "\n",
        "def display():\n",
        "    y = 678 # local\n",
        "    print(y) # y is local\n",
        "\n",
        "print(x) # x is global\n",
        "display()"
      ],
      "metadata": {
        "colab": {
          "base_uri": "https://localhost:8080/"
        },
        "id": "5LYVzYsZVa4z",
        "outputId": "3f42ece4-dae3-4e17-f52a-4a22d3078483"
      },
      "execution_count": 15,
      "outputs": [
        {
          "output_type": "stream",
          "name": "stdout",
          "text": [
            "123\n",
            "678\n"
          ]
        }
      ]
    },
    {
      "cell_type": "code",
      "source": [
        "x = 123 # global\n",
        "\n",
        "def display():\n",
        "    x = 678 # local value takes precedence and is updated\n",
        "    print(x) # local value x variable is accessed\n",
        "\n",
        "print(x) # global x variable is accessed\n",
        "display()"
      ],
      "metadata": {
        "colab": {
          "base_uri": "https://localhost:8080/"
        },
        "id": "PXK4hGp8Vypw",
        "outputId": "87122dde-7242-4ad0-e9c7-86c6eea57de8"
      },
      "execution_count": 18,
      "outputs": [
        {
          "output_type": "stream",
          "name": "stdout",
          "text": [
            "123\n",
            "678\n"
          ]
        }
      ]
    },
    {
      "cell_type": "markdown",
      "source": [
        "## 100. accessing global variable with the same name"
      ],
      "metadata": {
        "id": "nSe-Cx0IWmN3"
      }
    },
    {
      "cell_type": "code",
      "source": [
        "x = 123 # global\n",
        "\n",
        "def display():\n",
        "    x = 678 # local value takes precedence and is updated\n",
        "    print(x) # local value x variable is accessed\n",
        "    print(globals()['x'])\n",
        "\n",
        "display()\n",
        "print(x) # global x variable is accessed"
      ],
      "metadata": {
        "colab": {
          "base_uri": "https://localhost:8080/"
        },
        "id": "GGdi1VDEV_ro",
        "outputId": "8085ff06-39f1-48fe-b774-a99ea41c2054"
      },
      "execution_count": 21,
      "outputs": [
        {
          "output_type": "stream",
          "name": "stdout",
          "text": [
            "678\n",
            "123\n",
            "123\n"
          ]
        }
      ]
    },
    {
      "cell_type": "markdown",
      "source": [
        "## 101. assign function to a variable\n",
        "- use the name only of a function to assign it to a variable, and call it using that variable"
      ],
      "metadata": {
        "id": "MFIWs1J0CzuE"
      }
    },
    {
      "cell_type": "code",
      "source": [
        "x = 123 # global\n",
        "\n",
        "def display():\n",
        "    x = 678 # local value takes precedence and is updated\n",
        "    print(x) # local value x variable is accessed\n",
        "    print(globals()['x'])\n",
        "\n",
        "print(x)\n",
        "z = display\n",
        "z()\n",
        "z()\n",
        "z()"
      ],
      "metadata": {
        "colab": {
          "base_uri": "https://localhost:8080/"
        },
        "id": "E6NPGeiqW34E",
        "outputId": "022f7ce2-d756-439c-bdf8-a967aad9457e"
      },
      "execution_count": 25,
      "outputs": [
        {
          "output_type": "stream",
          "name": "stdout",
          "text": [
            "123\n",
            "678\n",
            "123\n",
            "678\n",
            "123\n",
            "678\n",
            "123\n"
          ]
        }
      ]
    },
    {
      "cell_type": "markdown",
      "source": [
        "## 102. function inside another\n",
        "- local function is not accessible outside the function where it is defined\n",
        "- global function can be called anywhere in the program"
      ],
      "metadata": {
        "id": "v2PwC-YiDZBc"
      }
    },
    {
      "cell_type": "code",
      "source": [
        "# greeting.py\n",
        "def display(name): # global function\n",
        "    def message(): # local function\n",
        "        return 'Hello '\n",
        "    result = message()+name\n",
        "    return result\n",
        "print(display('Surya'))"
      ],
      "metadata": {
        "colab": {
          "base_uri": "https://localhost:8080/"
        },
        "id": "KZcTQjUSDJxK",
        "outputId": "7dafe748-563c-41ae-d63a-705b4544f676"
      },
      "execution_count": 30,
      "outputs": [
        {
          "output_type": "stream",
          "name": "stdout",
          "text": [
            "Hello Surya\n"
          ]
        }
      ]
    },
    {
      "cell_type": "code",
      "source": [
        "def display(name): # global function\n",
        "    def message(): # local function\n",
        "        return 'Hello '\n",
        "    result = message()+name\n",
        "    return result\n",
        "print(display('Surya'))\n",
        "print(message()) # local function not accessible outside its scope"
      ],
      "metadata": {
        "colab": {
          "base_uri": "https://localhost:8080/",
          "height": 227
        },
        "id": "cLRh3F6xDfI8",
        "outputId": "47a3dbe2-9284-4f1a-c311-7921bf06db0e"
      },
      "execution_count": 29,
      "outputs": [
        {
          "output_type": "stream",
          "name": "stdout",
          "text": [
            "Hello Surya\n"
          ]
        },
        {
          "output_type": "error",
          "ename": "NameError",
          "evalue": "ignored",
          "traceback": [
            "\u001b[1;31m---------------------------------------------------------------------------\u001b[0m",
            "\u001b[1;31mNameError\u001b[0m                                 Traceback (most recent call last)",
            "Cell \u001b[1;32mIn[29], line 7\u001b[0m\n\u001b[0;32m      5\u001b[0m     \u001b[38;5;28;01mreturn\u001b[39;00m result\n\u001b[0;32m      6\u001b[0m \u001b[38;5;28mprint\u001b[39m(display(\u001b[38;5;124m'\u001b[39m\u001b[38;5;124mSurya\u001b[39m\u001b[38;5;124m'\u001b[39m))\n\u001b[1;32m----> 7\u001b[0m \u001b[38;5;28mprint\u001b[39m(\u001b[43mmessage\u001b[49m())\n",
            "\u001b[1;31mNameError\u001b[0m: name 'message' is not defined"
          ]
        }
      ]
    },
    {
      "cell_type": "markdown",
      "source": [
        "## 103. function as parameter to another function\n",
        "- function in python are basically variables, which can be used as a parameter to another function"
      ],
      "metadata": {
        "id": "AaFjULGDENkA"
      }
    },
    {
      "cell_type": "code",
      "source": [
        "# funasaparameter.py\n",
        "def display(fun):\n",
        "    return 'Hello '+fun\n",
        "def name():\n",
        "    return 'Surya'\n",
        "\n",
        "print(display(name()))"
      ],
      "metadata": {
        "colab": {
          "base_uri": "https://localhost:8080/"
        },
        "id": "oXfVGSlSECSK",
        "outputId": "524f6d67-300d-4b1d-cadc-ffe4bbeb07fd"
      },
      "execution_count": 32,
      "outputs": [
        {
          "output_type": "stream",
          "name": "stdout",
          "text": [
            "Hello Surya\n"
          ]
        }
      ]
    },
    {
      "cell_type": "markdown",
      "source": [
        "## 104. returning functions\n",
        "- while calling functions which return another function, you first store the returned function object and then use/print the returned funciton"
      ],
      "metadata": {
        "id": "3K0eTGo0FQXt"
      }
    },
    {
      "cell_type": "code",
      "source": [
        "# returnfunction.py\n",
        "def display():\n",
        "    def message(): # local function\n",
        "        return 'Hello '\n",
        "    return message # call to local function\n",
        "\n",
        "# print(display()) # cannot directly use the returned function, need to store it first\n",
        "fun = display()\n",
        "print(fun())"
      ],
      "metadata": {
        "colab": {
          "base_uri": "https://localhost:8080/"
        },
        "id": "-jjTr_rNE5Hb",
        "outputId": "f6ac3b8e-c1fd-4126-9ddf-4fbe1e84a67c"
      },
      "execution_count": 37,
      "outputs": [
        {
          "output_type": "stream",
          "name": "stdout",
          "text": [
            "Hello \n"
          ]
        }
      ]
    },
    {
      "cell_type": "markdown",
      "source": [
        "## 105. pass any type\n",
        "- you can pass any object or another function to a function"
      ],
      "metadata": {
        "id": "GIsWVAQjGi2_"
      }
    },
    {
      "cell_type": "code",
      "source": [
        "# listfun.py\n",
        "def fun(lst):\n",
        "    for i in lst:\n",
        "        print(i)\n",
        "fun([1, 2, 3, 4])"
      ],
      "metadata": {
        "colab": {
          "base_uri": "https://localhost:8080/"
        },
        "id": "omCQWM1zF9Vx",
        "outputId": "402552fe-2993-4ef7-f972-0f7d63286d5e"
      },
      "execution_count": 40,
      "outputs": [
        {
          "output_type": "stream",
          "name": "stdout",
          "text": [
            "1\n",
            "2\n",
            "3\n",
            "4\n"
          ]
        }
      ]
    },
    {
      "cell_type": "markdown",
      "source": [
        "## 106. Recursion\n",
        "- Recursion:\n",
        "    - process of a function calling itself\n",
        "    - use when same logic is repeating\n",
        "    - it is not a good candidate for every problem, so use it with caution, as it may lead to confusion to the people who're reading your program\n",
        "    - example\n",
        "        - Factorial of a given number\n",
        "                factorial(3) = 3 * 2 * 1\n",
        "                factorial(3) = 3 * factorial(2)\n",
        "                factorial(2) = 2 * factorial(1)\n",
        "                factorial(1) = 1 * factorial(0)\n",
        "                factorial(0) = 1\n",
        "                factorial(n) = n * factorial(n-1)\n",
        "    - Step I : Define an end condiiton\n",
        "            def factorial(n):\n",
        "                if n == 0: # end condition\n",
        "                    return 1\n",
        "    - Step II : Invoke same function to form recursion\n",
        "                else:\n",
        "                return n*factorial(n-1)"
      ],
      "metadata": {
        "id": "vSixEK6JG66w"
      }
    },
    {
      "cell_type": "markdown",
      "source": [
        "## 107. recursion\n",
        "- calculate the factorial of a given number using recursion"
      ],
      "metadata": {
        "id": "7w7qZscsOft5"
      }
    },
    {
      "cell_type": "code",
      "source": [
        "# factorial.py\n",
        "def factorial(n):\n",
        "    if n == 0:\n",
        "        result = 1\n",
        "    else:\n",
        "        result = n*factorial(n-1)\n",
        "    return result\n",
        "\n",
        "print(factorial(5))\n",
        "print(factorial(3))"
      ],
      "metadata": {
        "colab": {
          "base_uri": "https://localhost:8080/"
        },
        "id": "sIXPlpUAGy_M",
        "outputId": "759aad37-644c-47a2-c743-3a7ef0c54de9"
      },
      "execution_count": 43,
      "outputs": [
        {
          "output_type": "stream",
          "name": "stdout",
          "text": [
            "120\n",
            "6\n"
          ]
        }
      ]
    },
    {
      "cell_type": "markdown",
      "source": [
        "## 108. keyword arguments\n",
        "- variable names in function declaration are used as keywords to pass parameters to function"
      ],
      "metadata": {
        "id": "sIEsHmmHPN32"
      }
    },
    {
      "cell_type": "code",
      "source": [
        "# average_keyword_args.py\n",
        "def average(a, b):\n",
        "    print(a)\n",
        "    print(b)\n",
        "    return (a+b)/2\n",
        "print(average(a=10, b=20))"
      ],
      "metadata": {
        "colab": {
          "base_uri": "https://localhost:8080/"
        },
        "id": "QihnVzcfO8Qp",
        "outputId": "62dc703b-2cd1-411f-efa3-7061d8eb3596"
      },
      "execution_count": 51,
      "outputs": [
        {
          "output_type": "stream",
          "name": "stdout",
          "text": [
            "10\n",
            "20\n",
            "15.0\n"
          ]
        }
      ]
    },
    {
      "cell_type": "code",
      "source": [
        "def average(a, b):\n",
        "    print(a)\n",
        "    print(b)\n",
        "    return (a+b)/2\n",
        "print(average(b=10, a=20))"
      ],
      "metadata": {
        "colab": {
          "base_uri": "https://localhost:8080/"
        },
        "id": "wNE-TWWEPejq",
        "outputId": "54b30025-060b-425e-c245-7d29507e74fe"
      },
      "execution_count": 52,
      "outputs": [
        {
          "output_type": "stream",
          "name": "stdout",
          "text": [
            "20\n",
            "10\n",
            "15.0\n"
          ]
        }
      ]
    },
    {
      "cell_type": "markdown",
      "source": [
        "## 109. default arguments\n",
        "- if you specify some default value of arguments in function, then PVM takes those default values incase parameters are missing in the function call\n",
        "- default values can be set for any types\n",
        "- when a value is passed, default arguments are overridden"
      ],
      "metadata": {
        "id": "cxAurEMDQQFV"
      }
    },
    {
      "cell_type": "code",
      "source": [
        "# average_default_args.py\n",
        "def average(a=10, b=20):\n",
        "    print(a)\n",
        "    print(b)\n",
        "    return (a+b)/2\n",
        "print(average())\n",
        "print(average(a=30))"
      ],
      "metadata": {
        "colab": {
          "base_uri": "https://localhost:8080/"
        },
        "id": "wgzHvKG9QDJ-",
        "outputId": "a733166f-5837-4db2-a083-b7ecf4af7aa4"
      },
      "execution_count": 60,
      "outputs": [
        {
          "output_type": "stream",
          "name": "stdout",
          "text": [
            "10\n",
            "20\n",
            "15.0\n",
            "30\n",
            "20\n",
            "25.0\n"
          ]
        }
      ]
    },
    {
      "cell_type": "markdown",
      "source": [
        "## 110. BMI usecase"
      ],
      "metadata": {
        "id": "eyrZ_xqWRh6l"
      }
    },
    {
      "cell_type": "code",
      "source": [
        "# operators.py\n",
        "def calculateBMI(height, weight):\n",
        "    heightInMeters = height * 0.4536\n",
        "    bmi = weight / (heightInMeters * heightInMeters)\n",
        "    return bmi\n",
        "\n",
        "print(calculateBMI(5.8, 70))\n",
        "print(calculateBMI(6.8, 100))\n",
        "print(calculateBMI(5.6, 70))\n",
        "print(calculateBMI(5.2, 50))"
      ],
      "metadata": {
        "colab": {
          "base_uri": "https://localhost:8080/"
        },
        "id": "4u7EvV3nRDd7",
        "outputId": "ea9d6163-1957-49b2-e2a1-17e590dbe2e6"
      },
      "execution_count": 67,
      "outputs": [
        {
          "output_type": "stream",
          "name": "stdout",
          "text": [
            "10.113371509514648\n",
            "10.510807512978024\n",
            "10.84865489732375\n",
            "8.987051394232692\n"
          ]
        }
      ]
    },
    {
      "cell_type": "code",
      "source": [
        "def calculateBMI(height, weight=70):\n",
        "    heightInMeters = height * 0.4536\n",
        "    bmi = weight / (heightInMeters * heightInMeters)\n",
        "    return bmi\n",
        "\n",
        "print(calculateBMI(5.8, 70))\n",
        "print(calculateBMI(6.8, 100))\n",
        "print(calculateBMI(5.6, 70))\n",
        "print(calculateBMI(5.2))"
      ],
      "metadata": {
        "colab": {
          "base_uri": "https://localhost:8080/"
        },
        "id": "UpZ8B4tkTYsl",
        "outputId": "fcb09796-27f2-421c-a94d-d3cab8cc440d"
      },
      "execution_count": 68,
      "outputs": [
        {
          "output_type": "stream",
          "name": "stdout",
          "text": [
            "10.113371509514648\n",
            "10.510807512978024\n",
            "10.84865489732375\n",
            "12.581871951925768\n"
          ]
        }
      ]
    },
    {
      "cell_type": "markdown",
      "source": [
        "## 111. ```*args``` and ```**kwargs```\n",
        "- Variable Arguments (Optional Arguments)\n",
        "    - ```*args``` :\n",
        "        - indicated by single asterisk ```*```, name does not have to be *args*\n",
        "        - can accept any number of non-keyworded positional parameters\n",
        "        - ```Non-Keyword parameter``` : you've to just pass the values, but not a keyword for it\n",
        "        - it is optional\n",
        "        - collects the optional parameters in a tuple\n",
        "        - it can be accessed using a loop as if you're accessing a iterable\n",
        "    - ```**kwargs``` :\n",
        "        - indicated by double asterisk ```**```, name does not have to be *kwargs*\n",
        "        - can accept any number of keyworded positional parameters\n",
        "        - ```keyword parameter``` : you've to provide a name to the value while passing it to a function\n",
        "        - it is also optional\n",
        "        - collects keyword parameters in a dictionary\n",
        "        - it can be accessed using a loop with methods of dict as if you're accessing a dict"
      ],
      "metadata": {
        "id": "96RlAajQTec8"
      }
    },
    {
      "cell_type": "code",
      "source": [
        "# optionalargsdemo.py\n",
        "def myfun(x, *args):\n",
        "    print(x)\n",
        "    print(args)\n",
        "\n",
        "myfun(10, 20, 30, 40)"
      ],
      "metadata": {
        "colab": {
          "base_uri": "https://localhost:8080/"
        },
        "id": "hSKL7nMLSbX0",
        "outputId": "6147d59a-6f91-492a-d90c-9004c57f5fc4"
      },
      "execution_count": 75,
      "outputs": [
        {
          "output_type": "stream",
          "name": "stdout",
          "text": [
            "10\n",
            "(20, 30, 40)\n"
          ]
        }
      ]
    },
    {
      "cell_type": "code",
      "source": [
        "def myfun(x, *args, **kwargs):\n",
        "    print(x)\n",
        "    print(args)\n",
        "    print(kwargs)\n",
        "    # print(type(args))\n",
        "    # print(type(kwargs))\n",
        "\n",
        "myfun(10, 20, name='Surya', Salary=1000000)"
      ],
      "metadata": {
        "colab": {
          "base_uri": "https://localhost:8080/"
        },
        "id": "1fk0E0eJUAnT",
        "outputId": "a503c3fd-2040-4766-e83e-8748099266a4"
      },
      "execution_count": 78,
      "outputs": [
        {
          "output_type": "stream",
          "name": "stdout",
          "text": [
            "10\n",
            "(20,)\n",
            "{'name': 'Surya', 'Salary': 1000000}\n"
          ]
        }
      ]
    },
    {
      "cell_type": "code",
      "source": [
        "def myfun(x, *args, **kwargs):\n",
        "    print(x)\n",
        "    # print(args)\n",
        "    for each_arg in args:\n",
        "        print(each_arg)\n",
        "    # print(kwargs)\n",
        "    for key, value in kwargs.items():\n",
        "        print(key, value)\n",
        "\n",
        "myfun(10, 20, 30, 40, name='Surya', sal=1000000)"
      ],
      "metadata": {
        "colab": {
          "base_uri": "https://localhost:8080/"
        },
        "id": "nh_FZpmbWM_9",
        "outputId": "6a1e1ffa-73bf-47d0-f009-ec2a5bbf8548"
      },
      "execution_count": 84,
      "outputs": [
        {
          "output_type": "stream",
          "name": "stdout",
          "text": [
            "10\n",
            "20\n",
            "30\n",
            "40\n",
            "name Surya\n",
            "sal 1000000\n"
          ]
        }
      ]
    },
    {
      "cell_type": "code",
      "source": [
        "def myfun(x, *pos_param, **key_param):\n",
        "    print(x)\n",
        "    for each_arg in pos_param:\n",
        "        print(each_arg)\n",
        "    for key, value in key_param.items():\n",
        "        print(key, value)\n",
        "\n",
        "myfun(10, 20, 30, 40, name='Surya', sal=1000000)"
      ],
      "metadata": {
        "colab": {
          "base_uri": "https://localhost:8080/"
        },
        "id": "EWaKP9J3W7L6",
        "outputId": "f16d47bc-30de-4beb-d5d8-e9bf5ebf0ac5"
      },
      "execution_count": 86,
      "outputs": [
        {
          "output_type": "stream",
          "name": "stdout",
          "text": [
            "10\n",
            "20\n",
            "30\n",
            "40\n",
            "name Surya\n",
            "sal 1000000\n"
          ]
        }
      ]
    },
    {
      "cell_type": "markdown",
      "source": [
        "## 112. passing optional params to other functions\n",
        "- remember to put ```*``` before non-keyworded optional parameters and ```**``` before keyworded optional parameters while passing optional parameters to another function within one function"
      ],
      "metadata": {
        "id": "YrRo7YEeY59r"
      }
    },
    {
      "cell_type": "code",
      "source": [
        "def myfun(x, *pos_param, **key_param):\n",
        "    print(x)\n",
        "    for each_arg in pos_param:\n",
        "        print(each_arg)\n",
        "    for key, value in key_param.items():\n",
        "        print(key, value)\n",
        "    my_fun2(*pos_param, **key_param) # remember to put * and **\n",
        "\n",
        "def my_fun2(*args, **kwargs):\n",
        "    print(args)\n",
        "    print(kwargs)\n",
        "myfun(10, 20, 30, 40, name='Surya', sal=1000000)"
      ],
      "metadata": {
        "colab": {
          "base_uri": "https://localhost:8080/"
        },
        "id": "fpVPCv7hYoW8",
        "outputId": "14767a90-0ae1-4111-a2e0-fc99448dc7ff"
      },
      "execution_count": 93,
      "outputs": [
        {
          "output_type": "stream",
          "name": "stdout",
          "text": [
            "10\n",
            "20\n",
            "30\n",
            "40\n",
            "name Surya\n",
            "sal 1000000\n",
            "(20, 30, 40)\n",
            "{'name': 'Surya', 'sal': 1000000}\n"
          ]
        }
      ]
    },
    {
      "cell_type": "code",
      "source": [
        "def myfun(x, *pos_param, **key_param):\n",
        "    print(x)\n",
        "    for each_arg in pos_param:\n",
        "        print(each_arg)\n",
        "    for key, value in key_param.items():\n",
        "        print(key, value)\n",
        "    modified_pos_param = pos_param + (50,) # need to re-assign, as it is tuple\n",
        "    key_param['id'] = 123 # no need to re-assign, as it is dict\n",
        "    my_fun2(*modified_pos_param, **key_param) # remember to put * and **\n",
        "\n",
        "def my_fun2(*args, **kwargs):\n",
        "    print(args)\n",
        "    print(kwargs)\n",
        "myfun(10, 20, 30, 40, name='Surya', sal=1000000)"
      ],
      "metadata": {
        "colab": {
          "base_uri": "https://localhost:8080/"
        },
        "id": "WwrVIwEHahii",
        "outputId": "b80be5ad-f4ab-4acb-ae08-13c404fe059c"
      },
      "execution_count": 95,
      "outputs": [
        {
          "output_type": "stream",
          "name": "stdout",
          "text": [
            "10\n",
            "20\n",
            "30\n",
            "40\n",
            "name Surya\n",
            "sal 1000000\n",
            "(20, 30, 40, 50)\n",
            "{'name': 'Surya', 'sal': 1000000, 'id': 123}\n"
          ]
        }
      ]
    },
    {
      "cell_type": "code",
      "source": [],
      "metadata": {
        "id": "iVzN6QK-anEc"
      },
      "execution_count": 95,
      "outputs": []
    }
  ]
}