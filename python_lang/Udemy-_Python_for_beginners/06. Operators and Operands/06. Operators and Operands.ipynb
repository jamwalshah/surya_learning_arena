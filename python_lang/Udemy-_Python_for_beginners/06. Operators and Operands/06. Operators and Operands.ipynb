{
  "nbformat": 4,
  "nbformat_minor": 0,
  "metadata": {
    "colab": {
      "provenance": [],
      "toc_visible": true
    },
    "kernelspec": {
      "name": "python3",
      "display_name": "Python 3"
    },
    "language_info": {
      "name": "python"
    }
  },
  "cells": [
    {
      "cell_type": "markdown",
      "source": [
        "## 50. Arithmetic Operators\n",
        "1. ```+``` : Addition\n",
        "2. ```-``` : Subtraction\n",
        "3. ```*``` : Multiplication\n",
        "4.  ```/``` : Division\n",
        "5.  ```%``` : Modulus\n",
        "6.  ```**``` : Exponent\n",
        "7. ```//``` : Integer Division / Floor Division"
      ],
      "metadata": {
        "id": "cbVcZFv1w_qr"
      }
    },
    {
      "cell_type": "code",
      "execution_count": 1,
      "metadata": {
        "id": "7tZcd2xow87E",
        "colab": {
          "base_uri": "https://localhost:8080/"
        },
        "outputId": "d3b0ab94-d0d9-44ed-8a9c-b3a4233f3695"
      },
      "outputs": [
        {
          "output_type": "stream",
          "name": "stdout",
          "text": [
            "Addition:  15\n",
            "Subtraction:  5\n",
            "Mul:  50\n",
            "Div:  2.0\n",
            "Mod:  0\n",
            "Pow:  100000\n",
            "Floor Div:  2\n"
          ]
        }
      ],
      "source": [
        "# arithmticoperators.py\n",
        "a, b = 10, 5\n",
        "print('Addition: ', a+b)\n",
        "print('Subtraction: ', a-b)\n",
        "print('Mul: ', a*b)\n",
        "print('Div: ', a/b)\n",
        "print('Mod: ', a%b)\n",
        "print('Pow: ', a**b)\n",
        "print('Floor Div: ', a//b)"
      ]
    },
    {
      "cell_type": "markdown",
      "source": [
        "## 51. Assignment Operators\n",
        "1. ```=``` : is equal to assign value from RHS to variable on LHS\n",
        "2. ```+=``` : Compound Addition\n",
        "3. ```-=``` : Compound Subtraction\n",
        "4. ```*=``` : Compound Multiplication\n",
        "5. ```/=``` : Compound Division\n",
        "6. ```%=``` : Compound Modulus\n",
        "7. ```**=``` : Compound Exponent\n",
        "8. ```//=``` : Compound Floor Division"
      ],
      "metadata": {
        "id": "LmjU0yj975V9"
      }
    },
    {
      "cell_type": "code",
      "source": [
        "# assignmentoperators.py\n",
        "a=b=c=10\n",
        "print(a, b, c)"
      ],
      "metadata": {
        "colab": {
          "base_uri": "https://localhost:8080/"
        },
        "id": "1aKwVHOD7xzb",
        "outputId": "a0866ae8-c3c4-4384-87b4-2e96f8350f90"
      },
      "execution_count": 2,
      "outputs": [
        {
          "output_type": "stream",
          "name": "stdout",
          "text": [
            "10 10 10\n"
          ]
        }
      ]
    },
    {
      "cell_type": "code",
      "source": [
        "x, y = 10, 5\n",
        "x+=y # x=x+y\n",
        "print(x)"
      ],
      "metadata": {
        "colab": {
          "base_uri": "https://localhost:8080/"
        },
        "id": "ezajXUEf9B8l",
        "outputId": "f9ad40a6-2e89-4d87-b6f7-1f20d9b7460d"
      },
      "execution_count": 4,
      "outputs": [
        {
          "output_type": "stream",
          "name": "stdout",
          "text": [
            "15\n"
          ]
        }
      ]
    },
    {
      "cell_type": "code",
      "source": [
        "x*=y # x=x*y\n",
        "print(x)"
      ],
      "metadata": {
        "colab": {
          "base_uri": "https://localhost:8080/"
        },
        "id": "BONOujy79J6g",
        "outputId": "8e5b94f1-d305-44eb-b71d-ac99bddde91f"
      },
      "execution_count": 5,
      "outputs": [
        {
          "output_type": "stream",
          "name": "stdout",
          "text": [
            "75\n"
          ]
        }
      ]
    },
    {
      "cell_type": "code",
      "source": [
        "x, y = 10, 5\n",
        "x-=y # x=x-y\n",
        "print(x)"
      ],
      "metadata": {
        "colab": {
          "base_uri": "https://localhost:8080/"
        },
        "id": "tESDnoPu9bB1",
        "outputId": "94388aa8-b0c2-4d36-ad72-110ee89222f2"
      },
      "execution_count": 6,
      "outputs": [
        {
          "output_type": "stream",
          "name": "stdout",
          "text": [
            "5\n"
          ]
        }
      ]
    },
    {
      "cell_type": "code",
      "source": [
        "x, y = 10, 5\n",
        "x/=y # x=x/y\n",
        "print(x)"
      ],
      "metadata": {
        "colab": {
          "base_uri": "https://localhost:8080/"
        },
        "id": "Im9nUp5G9kNg",
        "outputId": "fc414980-82e7-4fb9-8fd6-ddb2105cb71e"
      },
      "execution_count": 7,
      "outputs": [
        {
          "output_type": "stream",
          "name": "stdout",
          "text": [
            "2.0\n"
          ]
        }
      ]
    },
    {
      "cell_type": "code",
      "source": [
        "x, y = 10, 5\n",
        "x%=y # x=x%y\n",
        "print(x)"
      ],
      "metadata": {
        "colab": {
          "base_uri": "https://localhost:8080/"
        },
        "id": "SX9PNwgJ9mcO",
        "outputId": "541c36fb-a027-4f5d-8876-448dc5e99789"
      },
      "execution_count": 8,
      "outputs": [
        {
          "output_type": "stream",
          "name": "stdout",
          "text": [
            "0\n"
          ]
        }
      ]
    },
    {
      "cell_type": "code",
      "source": [
        "x, y = 10, 5\n",
        "x**=y # x=x**y\n",
        "print(x)"
      ],
      "metadata": {
        "colab": {
          "base_uri": "https://localhost:8080/"
        },
        "id": "8672FI1u9qIy",
        "outputId": "bf3811cd-d9a2-402b-d9b6-78e2da9cd387"
      },
      "execution_count": 9,
      "outputs": [
        {
          "output_type": "stream",
          "name": "stdout",
          "text": [
            "100000\n"
          ]
        }
      ]
    },
    {
      "cell_type": "code",
      "source": [
        "x, y = 10, 5\n",
        "x//=y # x=x//y\n",
        "print(x)"
      ],
      "metadata": {
        "colab": {
          "base_uri": "https://localhost:8080/"
        },
        "id": "aSpCdak89sZN",
        "outputId": "7128d819-55e0-4ba4-dfca-c8fdc99c2a3e"
      },
      "execution_count": 10,
      "outputs": [
        {
          "output_type": "stream",
          "name": "stdout",
          "text": [
            "2\n"
          ]
        }
      ]
    },
    {
      "cell_type": "markdown",
      "source": [
        "## 52. Comparison Operators\n",
        "1. ```==``` : True if LHS is equal to RHS\n",
        "2. ```!=``` : True if LHS is not equal to RHS\n",
        "3. ```>``` : True if LHS greater than RHS\n",
        "4. ```<``` : True if LHS less than RHS\n",
        "5. ```>=``` : True if LHS greater than or equal to RHS\n",
        "6. ```<=``` : True if LHS less than or equal to RHS"
      ],
      "metadata": {
        "id": "EaxO3ehk9wVd"
      }
    },
    {
      "cell_type": "code",
      "source": [
        "# comaparisonoperators.py\n",
        "x, y = 77, 88\n",
        "print(x==y)\n",
        "print(x!=y)\n",
        "print(x>y)\n",
        "print(x<y)\n",
        "print(x>=y)\n",
        "print(x<=y)"
      ],
      "metadata": {
        "colab": {
          "base_uri": "https://localhost:8080/"
        },
        "id": "vCAOd4zH9u6l",
        "outputId": "1c4c6dba-ab1a-41f7-a58b-7a9e5fcea0c4"
      },
      "execution_count": 15,
      "outputs": [
        {
          "output_type": "stream",
          "name": "stdout",
          "text": [
            "False\n",
            "True\n",
            "False\n",
            "True\n",
            "False\n",
            "True\n"
          ]
        }
      ]
    },
    {
      "cell_type": "markdown",
      "source": [
        "## 53. Logical Operators\n",
        "- Operate aginst boolean values, and result into a boolean value\n",
        "1. ```and``` : True if all are True\n",
        "2. ```or``` : True if any is True\n",
        "3. ```not``` : True if operand is False and vice-versa"
      ],
      "metadata": {
        "id": "I4dk8Rxt_QyS"
      }
    },
    {
      "cell_type": "code",
      "source": [
        "# logicaloperators.py\n",
        "x = 20\n",
        "y = 30\n",
        "\n",
        "print(x==20 and y==30)\n",
        "print(x==25 and y==30)\n",
        "\n",
        "print(x==25 or y==30)\n",
        "print(x==25 or y==31)\n",
        "\n",
        "print(not(x==25 or y==31))"
      ],
      "metadata": {
        "colab": {
          "base_uri": "https://localhost:8080/"
        },
        "id": "GUCK1ACY-0nd",
        "outputId": "855e499e-6e40-4cdc-8b19-1ec9679480c5"
      },
      "execution_count": 21,
      "outputs": [
        {
          "output_type": "stream",
          "name": "stdout",
          "text": [
            "True\n",
            "False\n",
            "True\n",
            "False\n",
            "True\n"
          ]
        }
      ]
    },
    {
      "cell_type": "markdown",
      "source": [
        "## 54. Operators BMI Usecase\n"
      ],
      "metadata": {
        "id": "Z4CaQf54ApUX"
      }
    },
    {
      "cell_type": "code",
      "source": [
        "# operators.py\n",
        "height = 6.2\n",
        "weight = 85\n",
        "# bmi = weight in Kg / (height * height in metres)\n",
        "heighInMetres = height*0.4536\n",
        "bmi = weight / (heighInMetres * heighInMetres)\n",
        "print('BMI', bmi)"
      ],
      "metadata": {
        "colab": {
          "base_uri": "https://localhost:8080/"
        },
        "id": "8VLP3MOXAKGK",
        "outputId": "68d35915-170d-41c9-aef4-1cfdbae9bd58"
      },
      "execution_count": 24,
      "outputs": [
        {
          "output_type": "stream",
          "name": "stdout",
          "text": [
            "BMI 10.74705459131343\n"
          ]
        }
      ]
    },
    {
      "cell_type": "code",
      "source": [],
      "metadata": {
        "id": "FigyyawyBf_F"
      },
      "execution_count": 24,
      "outputs": []
    }
  ]
}