{
  "nbformat": 4,
  "nbformat_minor": 0,
  "metadata": {
    "colab": {
      "provenance": [],
      "toc_visible": true
    },
    "kernelspec": {
      "name": "python3",
      "display_name": "Python 3"
    },
    "language_info": {
      "name": "python"
    }
  },
  "cells": [
    {
      "cell_type": "markdown",
      "source": [
        "## 275. Introduction\n",
        "- ```Python 3.10``` introduces the ```match...case``` Syntax, which is similar to switch statement in several programming languages\n",
        "- You define a ```match...case``` using ```match``` keyword forllowed by the pattern\n",
        "- You'll define various ```cases``` within that match\n",
        "- Whichever case that pattern matches, that case will be executed, the instructions/statements within that case will be executed\n",
        "- You can put any amount of code within these cases\n",
        "- If none of the cases match, so default case will be executed, we define this default case / wildcard case using underscore ```_```\n",
        "- Underscore ```_``` matches all the values\n",
        "- In other languages, we use default statement, but in python we use wildcard underscore ```_```\n",
        "- If a case is matched, only the code within that case will be executed, and if none of the cases match, it'll go to the wildcard case\n",
        "- We can also have multiple optional cases using the Pipe ```|``` symbol\n",
        "    - ``` python\n",
        "    x=5\n",
        "    match x:\n",
        "        case 1|4:\n",
        "            print(\"One or Four\")\n",
        "        case 2:\n",
        "            print(\"Two\")\n",
        "        case 3:\n",
        "            print(\"Three\")\n",
        "        case _:\n",
        "            print('Default Case')\n",
        "    ```\n",
        "- Also, we can use lists as cases\n",
        "    - ```python\n",
        "    list1 = ['python', 'django', 'docker', 'drf']\n",
        "    match list1:\n",
        "        case ['python', 'django']:\n",
        "            print(\"python and django\")\n",
        "        case ['django', 'docker']:\n",
        "            print(\"django and docker\")\n",
        "        case ['docker', 'drf']:\n",
        "            print(\"docker and drf\")\n",
        "        case ['python', 'django', 'docker', 'drf']:\n",
        "            print('All courses are selected')\n",
        "        case _:\n",
        "            print('No course selected')\n",
        "    ```\n",
        "- You can also use constants defined using a class within your cases as well\n",
        "    - ```python\n",
        "    class ATMConstants:\n",
        "        withdraw = 1\n",
        "        deposit = 2\n",
        "        balance_check = 3\n",
        "    option = 4\n",
        "    match option:\n",
        "        case ATMConstants.withdraw:\n",
        "            print(\"WIthdraw\")\n",
        "        case ATMConstants.deposit:\n",
        "            print(\"Deposit\")\n",
        "        case ATMConstants.balance_check:\n",
        "            print(\"Balance Check\")\n",
        "        case _:\n",
        "            print(\"Invalid Input\")\n",
        "    ```"
      ],
      "metadata": {
        "id": "hlOALnjYMm-w"
      }
    },
    {
      "cell_type": "markdown",
      "source": [
        "## 276. Match Case vs If Else\n",
        "- Match Case syntax is an alternative for the ```if...else``` ladder, especially when you have a lot of ```if...elif...else```, then it is recommended to use ```match...case``` statement because it is computationally faster and much more readable especially when there are lot of elif blocks\n",
        "- default case is like the ```else``` block in the ```if...else``` statement"
      ],
      "metadata": {
        "id": "LdWFoDNexAz5"
      }
    },
    {
      "cell_type": "markdown",
      "source": [
        "## 277. Syntax\n",
        "- You'll learn the syntax of ```match...case``` introduced in ```Python 3.10```\n",
        "- ``` python\n",
        "match <pattern>:\n",
        "    case pattern_a:\n",
        "        task_a\n",
        "    case pattern_b:\n",
        "        task_b\n",
        "    case pattern_n:\n",
        "        task_n\n",
        "    case _:\n",
        "        task_default\n",
        "```"
      ],
      "metadata": {
        "id": "efOJFuWaZjpT"
      }
    },
    {
      "cell_type": "code",
      "execution_count": 1,
      "metadata": {
        "id": "ICOaFERDMlBy",
        "colab": {
          "base_uri": "https://localhost:8080/"
        },
        "outputId": "b7042f57-1405-4434-f783-c7555683c7a0"
      },
      "outputs": [
        {
          "output_type": "stream",
          "name": "stdout",
          "text": [
            "Three\n"
          ]
        }
      ],
      "source": [
        "# matchcasedemo.py\n",
        "x = 3\n",
        "match x:\n",
        "    case 1:\n",
        "        print(\"One\")\n",
        "    case 2:\n",
        "        print(\"Two\")\n",
        "    case 3:\n",
        "        print(\"Three\")"
      ]
    },
    {
      "cell_type": "code",
      "source": [
        "x = 2\n",
        "match x:\n",
        "    case 1:\n",
        "        print(\"One\")\n",
        "    case 2:\n",
        "        print(\"Two\")\n",
        "    case 3:\n",
        "        print(\"Three\")"
      ],
      "metadata": {
        "colab": {
          "base_uri": "https://localhost:8080/"
        },
        "id": "JdeBAHfMawBo",
        "outputId": "aff08a90-394c-4dc7-b932-08e513805bdc"
      },
      "execution_count": 2,
      "outputs": [
        {
          "output_type": "stream",
          "name": "stdout",
          "text": [
            "Two\n"
          ]
        }
      ]
    },
    {
      "cell_type": "code",
      "source": [
        "x = 4\n",
        "match x:\n",
        "    case 1|4:   # optional case matching\n",
        "        print(\"One or Four\")\n",
        "    case 2:\n",
        "        print(\"Two\")\n",
        "    case 3:\n",
        "        print(\"Three\")"
      ],
      "metadata": {
        "colab": {
          "base_uri": "https://localhost:8080/"
        },
        "id": "1wQT8ys9a4Hm",
        "outputId": "c4a2c5c0-194f-44a1-fdb0-b845f40cefa5"
      },
      "execution_count": 3,
      "outputs": [
        {
          "output_type": "stream",
          "name": "stdout",
          "text": [
            "One or Four\n"
          ]
        }
      ]
    },
    {
      "cell_type": "code",
      "source": [
        "x = 1\n",
        "match x:\n",
        "    case 1|4:   # optional case matching\n",
        "        print(\"One or Four\")\n",
        "    case 2:\n",
        "        print(\"Two\")\n",
        "    case 3:\n",
        "        print(\"Three\")"
      ],
      "metadata": {
        "colab": {
          "base_uri": "https://localhost:8080/"
        },
        "id": "1Ah7BQ5MbI4t",
        "outputId": "e8eec1ef-0a73-4fbe-a6b2-704dfb0fccad"
      },
      "execution_count": 4,
      "outputs": [
        {
          "output_type": "stream",
          "name": "stdout",
          "text": [
            "One or Four\n"
          ]
        }
      ]
    },
    {
      "cell_type": "code",
      "source": [
        "x = 5\n",
        "match x:\n",
        "    case 1|4:   # optional case matching\n",
        "        print(\"One or Four\")\n",
        "    case 2:\n",
        "        print(\"Two\")\n",
        "    case 3:\n",
        "        print(\"Three\")\n",
        "    case _:     # wildcard / default case\n",
        "        print('Default Case')"
      ],
      "metadata": {
        "colab": {
          "base_uri": "https://localhost:8080/"
        },
        "id": "kgq0Dm1JbRAF",
        "outputId": "9a4181e0-0407-4df8-ef61-0f1c994eabe4"
      },
      "execution_count": 5,
      "outputs": [
        {
          "output_type": "stream",
          "name": "stdout",
          "text": [
            "Default Case\n"
          ]
        }
      ]
    },
    {
      "cell_type": "markdown",
      "source": [
        "## 278. Using Collections\n",
        "- You'll learn how to use a list as a pattern\n",
        "- ```match...case``` also allows us to use a collection as a pattern\n"
      ],
      "metadata": {
        "id": "IqOmrWTab2Xu"
      }
    },
    {
      "cell_type": "code",
      "source": [
        "# matchcasedemolist.py\n",
        "list1 = ['python', 'django', 'docker', 'drf']\n",
        "match list1:\n",
        "    case ['python', 'django']:\n",
        "        print(\"python and django\")\n",
        "    case ['django', 'docker']:\n",
        "        print(\"django and docker\")\n",
        "    case ['docker', 'drf']:\n",
        "        print(\"docker and drf\")\n",
        "    case _:\n",
        "        print('No course selected')"
      ],
      "metadata": {
        "colab": {
          "base_uri": "https://localhost:8080/"
        },
        "id": "9m5fFyKYbs_P",
        "outputId": "68a5fd8f-ac5c-4f98-c41e-ed6cb828b716"
      },
      "execution_count": 6,
      "outputs": [
        {
          "output_type": "stream",
          "name": "stdout",
          "text": [
            "No course selected\n"
          ]
        }
      ]
    },
    {
      "cell_type": "code",
      "source": [
        "list1 = ['python', 'django']\n",
        "match list1:\n",
        "    case ['python', 'django']:\n",
        "        print(\"python and django\")\n",
        "    case ['django', 'docker']:\n",
        "        print(\"django and docker\")\n",
        "    case ['docker', 'drf']:\n",
        "        print(\"docker and drf\")\n",
        "    case _:\n",
        "        print('No course selected')"
      ],
      "metadata": {
        "colab": {
          "base_uri": "https://localhost:8080/"
        },
        "id": "kqnPMDe_dPK5",
        "outputId": "bc826bc3-e3e3-4aa0-9ae0-28f93f8046a6"
      },
      "execution_count": 7,
      "outputs": [
        {
          "output_type": "stream",
          "name": "stdout",
          "text": [
            "python and django\n"
          ]
        }
      ]
    },
    {
      "cell_type": "code",
      "source": [
        "list1 = ['python', 'django', 'docker', 'drf']\n",
        "match list1:\n",
        "    case ['python', 'django']:\n",
        "        print(\"python and django\")\n",
        "    case ['django', 'docker']:\n",
        "        print(\"django and docker\")\n",
        "    case ['docker', 'drf']:\n",
        "        print(\"docker and drf\")\n",
        "    case ['python', 'django', 'docker', 'drf']:\n",
        "        print('All courses are selected')\n",
        "    case _:\n",
        "        print('No course selected')"
      ],
      "metadata": {
        "colab": {
          "base_uri": "https://localhost:8080/"
        },
        "id": "inxg579rdWkw",
        "outputId": "02b680d8-ae7a-4d6e-fa20-c3db063cb8e6"
      },
      "execution_count": 8,
      "outputs": [
        {
          "output_type": "stream",
          "name": "stdout",
          "text": [
            "All courses are selected\n"
          ]
        }
      ]
    },
    {
      "cell_type": "markdown",
      "source": [
        "## 279. Using Constants\n",
        "- we can use named constants as patterns for ```match...case``` statements"
      ],
      "metadata": {
        "id": "iKEvGe_sy7Ie"
      }
    },
    {
      "cell_type": "code",
      "source": [
        "# matchcasedemonamedconstants.py\n",
        "class ATMConstants:\n",
        "    withdraw = 1\n",
        "    deposit = 2\n",
        "    balance_check = 3\n",
        "\n",
        "option = 1\n",
        "match option:\n",
        "    case ATMConstants.withdraw:\n",
        "        print(\"Withdraw\")\n",
        "    case ATMConstants.deposit:\n",
        "        print(\"Deposit\")\n",
        "    case ATMConstants.balance_check:\n",
        "        print(\"Balance Check\")\n",
        "    case _:\n",
        "        print('Invalid Input')"
      ],
      "metadata": {
        "colab": {
          "base_uri": "https://localhost:8080/"
        },
        "id": "2IsZeIXty4C-",
        "outputId": "bf92922c-bc73-452b-db2b-c229866c7a87"
      },
      "execution_count": 9,
      "outputs": [
        {
          "output_type": "stream",
          "name": "stdout",
          "text": [
            "Withdraw\n"
          ]
        }
      ]
    },
    {
      "cell_type": "code",
      "source": [
        "class ATMConstants:\n",
        "    withdraw = 1\n",
        "    deposit = 2\n",
        "    balance_check = 3\n",
        "\n",
        "option = 4\n",
        "match option:\n",
        "    case ATMConstants.withdraw:\n",
        "        print(\"Withdraw\")\n",
        "    case ATMConstants.deposit:\n",
        "        print(\"Deposit\")\n",
        "    case ATMConstants.balance_check:\n",
        "        print(\"Balance Check\")\n",
        "    case _:\n",
        "        print('Invalid Input')"
      ],
      "metadata": {
        "colab": {
          "base_uri": "https://localhost:8080/"
        },
        "id": "qy8Q4dsN0-hW",
        "outputId": "e64b9060-441e-4ffe-8c79-429d918d1f24"
      },
      "execution_count": 10,
      "outputs": [
        {
          "output_type": "stream",
          "name": "stdout",
          "text": [
            "Invalid Input\n"
          ]
        }
      ]
    },
    {
      "cell_type": "code",
      "source": [],
      "metadata": {
        "id": "4rZztDSO1Bl4"
      },
      "execution_count": 10,
      "outputs": []
    }
  ]
}