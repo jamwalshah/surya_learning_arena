{
  "nbformat": 4,
  "nbformat_minor": 0,
  "metadata": {
    "colab": {
      "provenance": [],
      "toc_visible": true
    },
    "kernelspec": {
      "name": "python3",
      "display_name": "Python 3"
    },
    "language_info": {
      "name": "python"
    }
  },
  "cells": [
    {
      "cell_type": "markdown",
      "source": [
        "## 167. Abstract Classes and Interfaces\n",
        "- Abstract Class\n",
        "    - Using Abstract classes & interfaces, we can define a contract for our child classes\n",
        "    - Abstract method will not have any implementation, and it will be marked with ```@abstractmethod``` decorator\n",
        "    - Any class inheriting the Abstract class will have to implement the abstract method\n",
        "        - If we don't implement abstract class in child class, then that child class will also become abstract class\n",
        "        - Atleast one method in Abstract class is an abstract method\n",
        "\n",
        "    - You can't create an object of an abstract class, it exists just to provide a contract for the child classes\n",
        "        - If all the mehtods in a class are non-Abstract, then you can create an instance of it\n",
        "        - you need to implement abstract method in every child class that inherits abstract class, otherwise python does not allow to instatntiate the child class without the implementation of abstract method\n",
        "    - Example\n",
        "        ``` python\n",
        "        class BMW:\n",
        "            @abstractmethod\n",
        "            def drive():\n",
        "                pass\n",
        "        class ThreeSeries(BMW):\n",
        "            def drive():\n",
        "                print(\"God Speed\")\n",
        "        ```\n",
        "    - You can implement abstract classes using ```ABC``` class form ```abc``` module\n",
        "- Interfaces\n",
        "    - Interfaces are abstract classes where all the methods are abstract methods\n",
        "    - None of the methods in an Interface (class) will have an implementation"
      ],
      "metadata": {
        "id": "iEWEKLRzvJh8"
      }
    },
    {
      "cell_type": "markdown",
      "source": [
        "## 168. Create an Abstract Class\n",
        "- To implement an abstract method from an abstract class\n",
        "- Create a method 'drive()' in class 'BMW' which will be mandatorily implemented by child classes 'ThreeSeries' and 'FiveSeries'\n",
        "- Two steps before implementing abstraction\n",
        "    1. Mark the abstract method with annotation/decorator ```@abstractmethod``` from module ```abc```\n",
        "    2. inherit the abstract class ```ABC``` from ```abc``` module into the abstract class\n",
        "- All the child classes should use the same exact parameter list while implementing the paremtn method"
      ],
      "metadata": {
        "id": "GAmbdy3dyOH4"
      }
    },
    {
      "cell_type": "code",
      "execution_count": 20,
      "metadata": {
        "colab": {
          "base_uri": "https://localhost:8080/"
        },
        "id": "3RX8dHequ9vy",
        "outputId": "134bc291-1e87-4f09-8acd-97190cc30df0"
      },
      "outputs": [
        {
          "output_type": "stream",
          "name": "stdout",
          "text": [
            "True\n",
            "BMW\n",
            "328i\n",
            "2018\n",
            "Starting the Car\n",
            "Button Start\n",
            "Three Series is driven\n",
            "Stopping the car\n",
            "True\n"
          ]
        }
      ],
      "source": [
        "# bmw.py\n",
        "from abc import abstractmethod, ABC # importing abstractmethod decorator\n",
        "class BMW(ABC): # inherit imported ABC class to implement abstraction\n",
        "\n",
        "    def __init__(self, make, model, year):\n",
        "        self.make = make\n",
        "        self.model = model\n",
        "        self.year = year\n",
        "\n",
        "    def start(self):\n",
        "        print(\"Starting the Car\")\n",
        "\n",
        "    def stop(self):\n",
        "        print(\"Stopping the car\")\n",
        "\n",
        "    @abstractmethod # this decorator mandates implementing abstract class in child class\n",
        "    def drive(self):\n",
        "        pass\n",
        "\n",
        "\n",
        "class ThreeSeries(BMW):\n",
        "    def __init__(self, cruiseControlEnabled, make, model, year):\n",
        "        super().__init__(make, model, year) # self is not needed, calls parent class constructor\n",
        "        self.cruiseControlEnabled = cruiseControlEnabled\n",
        "    def display(self): # display() method is available only for ThreeSeries class, not in parent class\n",
        "        print(self.cruiseControlEnabled)\n",
        "    def start(self): # overrideen method, provides a new functionality in method with same name\n",
        "        super().start() # calls parent class method\n",
        "        print(\"Button Start\")\n",
        "    def drive(self): # implementing abstract class in child class is mandatory\n",
        "        print(\"Three Series is driven\") # overriding the abstract method\n",
        "\n",
        "\n",
        "class FiveSeries(BMW):\n",
        "    def __init__(self, parkingAssistEnabled, make, model, year):\n",
        "        super().__init__(make, model, year) # self is not needed\n",
        "        self.parkingAssistEnabled = parkingAssistEnabled\n",
        "    def drive(self): # implementing abstract class in child class is mandatory\n",
        "        print(\"Five Series is driven\") # overriding the abstract method\n",
        "\n",
        "theeseries = ThreeSeries(True, \"BMW\", \"328i\", \"2018\") # object of child class\n",
        "print(theeseries.cruiseControlEnabled)\n",
        "print(theeseries.make)\n",
        "print(theeseries.model)\n",
        "print(theeseries.year)\n",
        "theeseries.start()\n",
        "theeseries.drive()\n",
        "theeseries.stop()\n",
        "theeseries.display()\n",
        "\n",
        "fiveseries = FiveSeries(True, \"BMW\", \"535i\", \"2018\") # object of child class\n",
        "# print(fiveseries.parkingAssistEnabled)\n",
        "# print(fiveseries.make)\n",
        "# print(fiveseries.model)\n",
        "# print(fiveseries.year)\n",
        "\n",
        "# bmw = BMW(\"BMW\", \"328i\", \"2018\") # cannot instantiate abstract class"
      ]
    },
    {
      "cell_type": "markdown",
      "source": [
        "## 169. Create an interface\n",
        "- Interfaces is just a step above abstract classes\n",
        "- Python does not have keywords 'Interfaces' & 'implements' like Java\n",
        "- Interface is a class with all the methods except inbuilt methods like constructors, etc. as abstract methods\n",
        "- all child class that iherit an interface, should implement the abstract class, otherwise, python does not allow to instantiate such child classes"
      ],
      "metadata": {
        "id": "xQkOliNAjNx8"
      }
    },
    {
      "cell_type": "code",
      "source": [
        "# bmw1.py\n",
        "from abc import abstractmethod, ABC # importing abstractmethod decorator\n",
        "class BMW(ABC): # inherit imported ABC class to implement abstraction\n",
        "    def __init__(self, make, model, year): # inbuiilt method requires definition\n",
        "        self.make = make\n",
        "        self.model = model\n",
        "        self.year = year\n",
        "    @abstractmethod\n",
        "    def start(self):\n",
        "        pass\n",
        "    @abstractmethod\n",
        "    def stop(self):\n",
        "        pass\n",
        "    @abstractmethod # this decorator mandates implementing abstract class in child class\n",
        "    def drive(self):\n",
        "        pass\n",
        "\n",
        "\n",
        "class ThreeSeries(BMW):\n",
        "    def __init__(self, cruiseControlEnabled, make, model, year):\n",
        "        super().__init__(make, model, year) # self is not needed, calls parent class constructor\n",
        "        self.cruiseControlEnabled = cruiseControlEnabled\n",
        "    def display(self): # display() method is available only for ThreeSeries class, not in parent class\n",
        "        print(self.cruiseControlEnabled)\n",
        "    def start(self): # overrideen method, provides a new functionality in method with same name\n",
        "        super().start() # calls parent class method\n",
        "        print(\"Button Start\")\n",
        "    def stop(self): # calls parent class method\n",
        "        super().stop()\n",
        "        print(\"Button Stop\")\n",
        "    def drive(self): # implementing abstract class in child class is mandatory\n",
        "        print(\"Three Series is driven\") # overriding the abstract method\n",
        "\n",
        "\n",
        "class FiveSeries(BMW):\n",
        "    def __init__(self, parkingAssistEnabled, make, model, year):\n",
        "        super().__init__(make, model, year) # self is not needed\n",
        "        self.parkingAssistEnabled = parkingAssistEnabled\n",
        "    def start(self): # overrideen method, provides a new functionality in method with same name\n",
        "        super().start() # calls parent class method\n",
        "        print(\"Remote Start\")\n",
        "    def stop(self):\n",
        "        super().stop() # calls parent class method\n",
        "        print(\"Remote Stop\")\n",
        "    def drive(self): # implementing abstract class in child class is mandatory\n",
        "        print(\"Five Series is driven\") # overriding the abstract method\n",
        "\n",
        "theeseries = ThreeSeries(True, \"BMW\", \"328i\", \"2018\") # object of child class\n",
        "print(theeseries.cruiseControlEnabled)\n",
        "print(theeseries.make)\n",
        "print(theeseries.model)\n",
        "print(theeseries.year)\n",
        "theeseries.start()\n",
        "theeseries.drive()\n",
        "theeseries.stop()\n",
        "theeseries.display()\n",
        "\n",
        "fiveseries = FiveSeries(True, \"BMW\", \"535i\", \"2018\") # object of child class\n",
        "# print(fiveseries.parkingAssistEnabled)\n",
        "# print(fiveseries.make)\n",
        "# print(fiveseries.model)\n",
        "# print(fiveseries.year)\n",
        "fiveseries.start()\n",
        "fiveseries.drive()\n",
        "fiveseries.stop()\n",
        "\n",
        "# bmw = BMW(\"BMW\", \"328i\", \"2018\") # cannot instantiate interface"
      ],
      "metadata": {
        "colab": {
          "base_uri": "https://localhost:8080/"
        },
        "id": "pW1Bdu1-fQli",
        "outputId": "09a0921a-1b16-4a6c-8135-6cca1f53fa8c"
      },
      "execution_count": 27,
      "outputs": [
        {
          "output_type": "stream",
          "name": "stdout",
          "text": [
            "True\n",
            "BMW\n",
            "328i\n",
            "2018\n",
            "Button Start\n",
            "Three Series is driven\n",
            "Button Stop\n",
            "True\n",
            "Remote Start\n",
            "Five Series is driven\n",
            "Remote Stop\n"
          ]
        }
      ]
    },
    {
      "cell_type": "markdown",
      "source": [
        "## Assignment 10 : Abstraction\n",
        "- Define an interface 'TouchScreenLaptop' with two abstract methods 'scroll()' and 'click()'\n",
        "- 'TouchScreenLaptop' interface should be inherited by 'HP' and 'DELL', and both of these are abstract classes which only implement 'scroll()' method, by simply using a print statement\n",
        "- create 'HPNotebook' and 'DELLNotebook' by inheriting 'HP' and 'DELL' respectively, and these two classes should provide implementation for 'click()' method, where as 'scroll()' method may be overridden\n",
        "- invoke the 'scroll()' and 'click()' methods"
      ],
      "metadata": {
        "id": "-fme_yOYmmvl"
      }
    },
    {
      "cell_type": "code",
      "source": [
        "#TouchScreenLaptop.py\n",
        "from abc import ABC, abstractmethod\n",
        "class TouchScreenLaptop(ABC):\n",
        "    @abstractmethod # decorator\n",
        "    def scroll(self):\n",
        "        pass # Abstract class\n",
        "    @abstractmethod\n",
        "    def click(slef):\n",
        "        pass # Abstract class\n",
        "\n",
        "class HP(TouchScreenLaptop):\n",
        "    def scroll(self):\n",
        "        print('scrolling in Hp') # implementing Abstract method\n",
        "class DELL(TouchScreenLaptop):\n",
        "    def scroll(self):\n",
        "        print(\"scrolling in Dell\") # implementing Abstract method\n",
        "\n",
        "class HPNotebook(HP):\n",
        "    def click(self):\n",
        "        print(\"Click in HpNotebook\") # implementing Abstract method\n",
        "    def scroll(self):\n",
        "        super().scroll()\n",
        "        print(\"Scrolling in HpNotebook\")\n",
        "class DELLNotebook(DELL):\n",
        "    def click(self):\n",
        "        print(\"Click in DellNotebook\") # implementing Abstract method\n",
        "    def scroll(self):\n",
        "        super().scroll()\n",
        "        print(\"Scrolling in DellNotebook\")\n",
        "\n",
        "# hp = HP() # cannot instatiate Abstract class\n",
        "# dell = DELL() # cannot instatiate Abstract class\n",
        "\n",
        "hpnotebook = HPNotebook()\n",
        "hpnotebook.click()\n",
        "hpnotebook.scroll()\n",
        "\n",
        "dellnotebook = DELLNotebook()\n",
        "dellnotebook.click()\n",
        "dellnotebook.scroll()"
      ],
      "metadata": {
        "colab": {
          "base_uri": "https://localhost:8080/"
        },
        "id": "jRmoeawlkA5o",
        "outputId": "6f9ea409-e06f-48d3-a730-f3b3a1037291"
      },
      "execution_count": 38,
      "outputs": [
        {
          "output_type": "stream",
          "name": "stdout",
          "text": [
            "Click in HpNotebook\n",
            "scrolling in Hp\n",
            "Scrolling in HpNotebook\n",
            "Click in DellNotebook\n",
            "scrolling in Dell\n",
            "Scrolling in DellNotebook\n"
          ]
        }
      ]
    },
    {
      "cell_type": "code",
      "source": [],
      "metadata": {
        "id": "k3j692ulsPtY"
      },
      "execution_count": 37,
      "outputs": []
    }
  ]
}