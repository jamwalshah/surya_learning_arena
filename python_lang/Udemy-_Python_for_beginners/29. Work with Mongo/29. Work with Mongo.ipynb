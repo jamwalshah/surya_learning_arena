{
  "nbformat": 4,
  "nbformat_minor": 0,
  "metadata": {
    "colab": {
      "provenance": [],
      "toc_visible": true
    },
    "kernelspec": {
      "name": "python3",
      "display_name": "Python 3"
    },
    "language_info": {
      "name": "python"
    }
  },
  "cells": [
    {
      "cell_type": "markdown",
      "source": [
        "## 262. Mongo Introduction\n",
        "- I'll be a brief introduction to MongoDb, if you want to explore more, you can always go to Mongo's website\n",
        "- In typical relational databases like Oracle, MySQL and SQL server, the data is stored in the form of tables with columns and rows in a structured fashion\n",
        "- Each table will have a relationship with other tables as required\n",
        "- But, in case of unstructured databases like MongoDB, it stores data in the form of collections in JSON like format with key-value pairs, with no row, no columns & no tables, simple collections\n",
        "- They're oftern referred to as documents/collections, and within documents/collections, there will be key-value pairs of data\n",
        "        SQL Terms           MongoDb Terms\n",
        "        ----------------------------------------\n",
        "        Database            Database\n",
        "        Tables              Collections\n",
        "        Rows                Documents (BSON)\n",
        "        Columns             Fields"
      ],
      "metadata": {
        "id": "x2fRyzmqO8Og"
      }
    },
    {
      "cell_type": "markdown",
      "source": [
        "## 263. Install Mongo\n",
        "- Learn how to install MongoDB and how to run the server & the client\n",
        "- Launch your web browser and search for 'MongoDB Community edition', Open link with 'MongoDB Download Center', select edition as 'Server'(not cloud one), select 'version' with current release, select 'OS', select 'package' (for windows select msi package), then hit 'Download' button\n",
        "- Install by following the simple installer\n",
        "- Once installed, goto the installation directory, find the 'bin' folder in it, which has all the commands to start the server and other client utilities\n",
        "- ```mongod``` is the command we use to start the Mongo server\n",
        "- You can either browse to 'bin' folder each time you run Mongo Server or you can add this path to the environment variables in windows (or add this path to bash .profile file in MAC or linux) so that you can launch these from anywhere\n",
        "- To start the Mongo server, goto the 'bin' folder in the installation directory of MongoDB and run command ```./mongod```, and then server runs on default port ```27017```\n",
        "- To run a Mongo client, open another terminal, goto the 'bin' folder in the installation directory of MongoDB and run the command ```./mongo``` or new command tool using  ```./mongosh``` or ```./monngos```, which will take you to the mongo shell, where you can write & run MongoDB commands, create collection, retrieve them, etc.\n",
        "- You can run ```help``` command in mongo shell to get all the options\n"
      ],
      "metadata": {
        "id": "151d9w4xeJ3v"
      }
    },
    {
      "cell_type": "markdown",
      "source": [
        "## 264. Use Mongo Console\n",
        "- You'll be briefly introduced to the Mongo shell and some useful commands to work with the Mongo Databases & collections\n",
        "- MongoDB is intelligent enough to create databases & collections on the go while using them for the first time\n",
        "- Go the Mongo shell and execute the command\n",
        "    - ```db```\n",
        "        - shows the current database, by default it'll try to connect to database 'test'\n",
        "    - ```use dbName```\n",
        "        - e.g. ```use products```\n",
        "        - to use your own database, which will create and use a database named 'products'\n",
        "    - ```show dbs```\n",
        "        - lists databases, but will not list a db which is being used for first time\n",
        "    - ```db.collectionName.insert({key:value})```\n",
        "        - e.g. ```db.product.insert({\"name\":\"IPhone\", \"price\":1200})```\n",
        "        - ```db.collectionName.insert()``` is deprecated, instead use ```db.collectionName.insertOne()``` to insert single document or use ```db.collectionName.insertMany()``` to insert multiple documents\n",
        "        - ```db``` points to the current database object\n",
        "        - it'll create a new collections (synonym to table) on-the-go while inserting data in the form of a document (synonym to a row)\n",
        "    - ```show collections```\n",
        "        - lists all collections in the database\n",
        "    - ```db.collectionName.find({filter})```\n",
        "        - e.g. ```db.products.find()```\n",
        "        - returns all the documents/records in the collection\n",
        "        - returns all records even though you pass empty braces as filter\n",
        "        - even though we are storing only 'name' and 'price' fields, mongo will automatically generate a unique field ```_id``` for each document/record\n",
        "        - e.g. ```db.product.find({\"name\":\"IPhone\"})```\n",
        "            - returns records wilh the specified filter\n",
        "    - ```cls```\n",
        "        - clears the screen\n",
        "    - ```db.collectionName.find().count()```\n",
        "        - returns the cound of documents/records returned by find()\n",
        "        - e.g. ```db.product.find().count()```\n",
        "        - e.g. ```db.product.find({\"name\":\"IPhone\"}).count()```\n",
        "    - ```db.product.update({filter}, {$set:{JSON}})```\n",
        "        - updates/sets the values specified in JSON to the records matching with filter\n",
        "        - in JSON, you can also specify multiple fields\n",
        "        - if JSON record doesn't exist, it'll append in the document\n",
        "        - ```db.collectionName.update()``` is deprecated, instead use ```db.collectionName.updateOne()``` to update single document or use ```db.collectionName.updateMany()``` to update multiple records\n",
        "        - e.g. ```db.product.update({\"name\":\"IPhone\"}, {$set:{\"price\":1500}})```\n",
        "            - updates records where name is 'IPhone' with price as 1500\n",
        "    - ```db.collectionName.remove({filter})```\n",
        "        - deletes a document from the collection based on filter\n",
        "        - if no filter is passed but only empty braces, it'll remove all the documents from collection\n",
        "        - e.g. ```db.product.remove({})```\n",
        "            - removes all the records\n",
        "        - e.g. ```db.product.remove({})```\n",
        "            -"
      ],
      "metadata": {
        "id": "s8A5cX-LknqJ"
      }
    },
    {
      "cell_type": "markdown",
      "source": [
        "## 265. Install pymongo\n",
        "-"
      ],
      "metadata": {
        "id": "3q3yxzJGfwLv"
      }
    },
    {
      "cell_type": "code",
      "execution_count": null,
      "metadata": {
        "id": "ZbrRg__zOoRj"
      },
      "outputs": [],
      "source": []
    }
  ]
}