{
  "nbformat": 4,
  "nbformat_minor": 0,
  "metadata": {
    "colab": {
      "provenance": [],
      "toc_visible": true
    },
    "kernelspec": {
      "name": "python3",
      "display_name": "Python 3"
    },
    "language_info": {
      "name": "python"
    }
  },
  "cells": [
    {
      "cell_type": "markdown",
      "source": [
        "## 262. Mongo Introduction\n",
        "- I'll be a brief introduction to MongoDb, if you want to explore more, you can always go to Mongo's website\n",
        "- In typical relational databases like Oracle, MySQL and SQL server, the data is stored in the form of tables with columns and rows in a structured fashion\n",
        "- Each table will have a relationship with other tables as required\n",
        "- But, in case of unstructured databases like MongoDB, it stores data in the form of collections in JSON like format with key-value pairs, with no row, no columns & no tables, simple collections\n",
        "- They're oftern referred to as documents/collections, and within documents/collections, there will be key-value pairs of data\n",
        "        SQL Terms           MongoDb Terms\n",
        "        ----------------------------------------\n",
        "        Database            Database\n",
        "        Tables              Collections\n",
        "        Rows                Documents (BSON)\n",
        "        Columns             Fields"
      ],
      "metadata": {
        "id": "x2fRyzmqO8Og"
      }
    },
    {
      "cell_type": "markdown",
      "source": [
        "## 263. Install Mongo\n",
        "- Learn how to install MongoDB and how to run the server & the client\n",
        "- Launch your web browser and search for 'MongoDB Community edition', Open link with 'MongoDB Download Center', select edition as 'Server'(not cloud one), select 'version' with current release, select 'OS', select 'package' (for windows select msi package), then hit 'Download' button\n",
        "- Install by following the simple installer\n",
        "- Once installed, goto the installation directory, find the 'bin' folder in it, which has all the commands to start the server and other client utilities\n",
        "- ```mongod``` is the command we use to start the Mongo server\n",
        "- You can either browse to 'bin' folder each time you run Mongo Server or you can add this path to the environment variables in windows (or add this path to bash .profile file in MAC or linux) so that you can launch these from anywhere\n",
        "- To start the Mongo server, goto the 'bin' folder in the installation directory of MongoDB and run command ```./mongod```, and then server runs on default port ```27017```\n",
        "- To run a Mongo client, open another terminal, goto the 'bin' folder in the installation directory of MongoDB and run the command ```./mongo``` or new command tool using  ```./mongosh``` or ```./monngos```, which will take you to the mongo shell, where you can write & run MongoDB commands, create collection, retrieve them, etc.\n",
        "- You can run ```help``` command in mongo shell to get all the options\n"
      ],
      "metadata": {
        "id": "151d9w4xeJ3v"
      }
    },
    {
      "cell_type": "markdown",
      "source": [
        "## 264. Use Mongo Console\n",
        "- You'll be briefly introduced to the Mongo shell and some useful commands to work with the Mongo Databases & collections\n",
        "- MongoDB is intelligent enough to create databases & collections on the go while using them for the first time\n",
        "- Go the Mongo shell and execute the command\n",
        "    - ```db```\n",
        "        - shows the current database, by default it'll try to connect to database 'test'\n",
        "    - ```use dbName```\n",
        "        - e.g. ```use products```\n",
        "        - to use your own database, which will create and use a database named 'products'\n",
        "    - ```show dbs```\n",
        "        - lists databases, but will not list a db which is being used for first time\n",
        "    - ```db.collectionName.insert({key:value})```\n",
        "        - e.g. ```db.product.insert({\"name\":\"IPhone\", \"price\":1200})```\n",
        "        - ```db.collectionName.insert()``` is deprecated, instead use ```db.collectionName.insertOne()``` to insert single document or use ```db.collectionName.insertMany()``` to insert multiple documents\n",
        "        - ```db``` points to the current database object\n",
        "        - it'll create a new collections (synonym to table) on-the-go while inserting data in the form of a document (synonym to a row)\n",
        "    - ```show collections```\n",
        "        - lists all collections in the database\n",
        "    - ```db.collectionName.find({filter})```\n",
        "        - e.g. ```db.products.find()```\n",
        "        - returns all the documents/records in the collection\n",
        "        - returns all records even though you pass empty braces as filter\n",
        "        - even though we are storing only 'name' and 'price' fields, mongo will automatically generate a unique field ```_id``` for each document/record\n",
        "        - e.g. ```db.product.find({\"name\":\"IPhone\"})```\n",
        "            - returns records wilh the specified filter\n",
        "    - ```cls```\n",
        "        - clears the screen\n",
        "    - ```db.collectionName.find().count()```\n",
        "        - returns the cound of documents/records returned by find()\n",
        "        - e.g. ```db.product.find().count()```\n",
        "        - e.g. ```db.product.find({\"name\":\"IPhone\"}).count()```\n",
        "    - ```db.product.update({filter}, {$set:{JSON}})```\n",
        "        - updates/sets the values specified in JSON to the records matching with filter\n",
        "        - in JSON, you can also specify multiple fields\n",
        "        - if JSON record doesn't exist, it'll append in the document\n",
        "        - ```db.collectionName.update()``` is deprecated, instead use ```db.collectionName.updateOne()``` to update single document or use ```db.collectionName.updateMany()``` to update multiple records\n",
        "        - e.g. ```db.product.update({\"name\":\"IPhone\"}, {$set:{\"price\":1500}})```\n",
        "            - updates records where name is 'IPhone' with price as 1500\n",
        "    - ```db.collectionName.remove({filter})```\n",
        "        - deletes a document from the collection based on filter\n",
        "        - if no filter is passed but only empty braces, it'll remove all the documents from collection\n",
        "        - e.g. ```db.product.remove({})```\n",
        "            - removes all the records\n",
        "        - e.g. ```db.product.remove({})```\n",
        "            -"
      ],
      "metadata": {
        "id": "s8A5cX-LknqJ"
      }
    },
    {
      "cell_type": "markdown",
      "source": [
        "## 265. Install pymongo\n",
        "- To connect and work with MongoDB from within our Python code, we need a database driver\n",
        "- That database driver is pymongo\n",
        "- Goto your commandline and run below command to install pymongo module to use it in your python programs\n",
        "```pip3 install pymongo```"
      ],
      "metadata": {
        "id": "3q3yxzJGfwLv"
      }
    },
    {
      "cell_type": "code",
      "execution_count": null,
      "metadata": {
        "id": "ZbrRg__zOoRj"
      },
      "outputs": [],
      "source": [
        "# mongodemo\n",
        "# create.py\n",
        "import pymongo\n"
      ]
    },
    {
      "cell_type": "markdown",
      "source": [
        "## 266. API walkthrough\n",
        "- We'll walk through the pymongo API, which we'll use in next sections to perform the CRUD operations against the MongoDB collections\n",
        "- inport the ```MongoClient``` class from ```pymongo``` library\n",
        "- ```MongoClient``` will connect to the MongoDB database with using host and port number\n",
        "- Once you have the client object, you'll create a database or use an existing database\n",
        "- If database doesn't exist, it'll create and add data to the collection\n",
        "- Once you have the database object, you use that database and point to a collection which you want to create or to use\n",
        "- If collection doesn't exist, it'll be created when you try to add data to the collection for the first time\n",
        "- Once you have a database, you access or create a database, then you start adding adding data, reading data using collection methods\n",
        "- In short there are three important objects, viz. MongoClient, database and collection"
      ],
      "metadata": {
        "id": "lHZeD00ii9eS"
      }
    },
    {
      "cell_type": "markdown",
      "source": [
        "## 267. insert one\n",
        "- You'll create a MongoDB database, create a collection within that database, Insert document into that collection from your python program\n",
        "- even though you've created a database and its collection, it will not list the database using ```show dbs``` command until you insert some documents/records into the collection\n",
        "- ```pymongo.MongoClient(host=None, port=None, document_class=None, tz_aware=None, connect=None, type_registry=None, **kwargs)```\n",
        "    - A client-side representation of a MongoDB cluster\n",
        "    - Instances can represent either a standalone MongoDB server, a replica set, or a sharded cluster\n",
        "    - Instance of this class are responsible for maintaining the up-to-date state of the cluster, and possibly cache resources related to this, including background threads for monitoring and connection pools\n",
        "- ```pymongo.collection.Collection.insert_one(document, bypass_document_validation=False, session=None, comment=None)```\n",
        "    - insert a single document\n",
        "    - returns an instance of :class:`~pymongo.results.InsertOneResult`\n",
        "- ```pymongo.results.InsertOneResult.inserted_id```\n",
        "    - contains the object ID ```_id``` of the document inserted with the ```pymongo.results.InsertOneResult``` object"
      ],
      "metadata": {
        "id": "EPbgbO8ElL9F"
      }
    },
    {
      "cell_type": "code",
      "source": [
        "# create.py\n",
        "from pymongo import MongoClient\n",
        "\n",
        "client = MongoClient('localhost', 27017) # creates Mongo Client object\n",
        "# print(\"DEBUG:\", type(client)) # debug\n",
        "# print(\"DEBUG:\", client) # debug\n",
        "database = client['mydb'] # creates a database named 'mydb' in Mongo client\n",
        "# print(\"DEBUG:\", type(database)) #debug\n",
        "# print(\"DEBUG:\", database) #debug\n",
        "print('Database created')\n",
        "collection = database['product'] # creates a collection 'product' within database 'mydb'\n",
        "# print(\"DEBUG\", type(collection)) # debug\n",
        "# print(\"DEBUG\", collection) # debug\n",
        "print('Collection Created')\n",
        "\n",
        "product1 = {\n",
        "    \"name\":\"IPhone\",\n",
        "    \"price\":1000\n",
        "}\n",
        "result = collection.insert_one(product1)\n",
        "# print(\"DEBUG:\", type(result)) #debug\n",
        "# print(\"DEBUG:\", result) # debug\n",
        "print(result.inserted_id)"
      ],
      "metadata": {
        "colab": {
          "base_uri": "https://localhost:8080/"
        },
        "id": "fnP9KDlQgxJH",
        "outputId": "934e94e4-3d1e-4800-f8e6-d743a96eefcd"
      },
      "execution_count": null,
      "outputs": [
        {
          "output_type": "stream",
          "name": "stdout",
          "text": [
            "Database created\n",
            "Collection Created\n",
            "65e0c8edd6ca42013669bb09\n"
          ]
        }
      ]
    },
    {
      "cell_type": "markdown",
      "source": [
        "## 268. insert many\n",
        "- We'll learn hot to add multiple documents into the collection\n",
        "- Previously, we have used the ```insert_one()``` method that takes a single document and it returns back a ```InsertOneResult``` which has ```inserted_id```\n",
        "- To use multiple documents, put the documents in a square brackets, each document separated by commas\n",
        "- ```pymongo.collection.insert_many(documents, ordered=True, bypass_docment_validation=False, session=None, comment=None)```\n",
        "    - insert an interable of documents\n",
        "    - returns an instance of :class:`~pymongo.results.InsertManyResult`\n",
        "- ```pymongo.results.InsertManyResults.inserted_ids```\n",
        "    - contains a list of object Ids ```_id``` fields of the each of the documents inserted with the ```pymongo.results.InsertManyResults``` object"
      ],
      "metadata": {
        "id": "GuhF5IQA2Qfg"
      }
    },
    {
      "cell_type": "code",
      "source": [
        "# create_insertMany.py\n",
        "from pymongo import MongoClient\n",
        "\n",
        "client = MongoClient('localhost', 27017)\n",
        "database = client['mydb']\n",
        "print('Database created')\n",
        "collection = database['product']\n",
        "print('Collection created')\n",
        "products = [{\n",
        "    \"name\":\"IPhone\",\n",
        "    \"price\":1000\n",
        "},{\n",
        "    \"name\":\"Mac Book\",\n",
        "    \"price\":2000\n",
        "},{\n",
        "    \"name\":\"Dell\",\n",
        "    \"price\":1500\n",
        "}]\n",
        "result = collection.insert_many(products)\n",
        "# print(\"DEBUG:\", type(result)) # debug\n",
        "# print(\"DEBUG:\", result) # debug\n",
        "print(result.inserted_ids)"
      ],
      "metadata": {
        "colab": {
          "base_uri": "https://localhost:8080/"
        },
        "id": "TFZzznOslrNJ",
        "outputId": "c594da3a-cb31-4063-b4a1-f99f22c8e7ea"
      },
      "execution_count": null,
      "outputs": [
        {
          "output_type": "stream",
          "name": "stdout",
          "text": [
            "Database created\n",
            "Collection created\n",
            "[ObjectId('65e0c8f0d6ca42013669bb0b'), ObjectId('65e0c8f0d6ca42013669bb0c'), ObjectId('65e0c8f0d6ca42013669bb0d')]\n"
          ]
        }
      ]
    },
    {
      "cell_type": "markdown",
      "source": [
        "## 269. read\n",
        "- You'll learn how to perform the next CRUD operation which is read operation\n",
        "- ```pymongo.collection.find_one(filter=None, *args, **kwargs)```\n",
        "    - returns a single document from the database\n",
        "    - returns None if no document is found\n",
        "    - ```filter``` : a dictionary specifying a query to be performed OR any other type to be used as the value for a query for ``\"_id\"``\n",
        "- ```pymongo.collection.find(filter=None, *args, **kwargs)```\n",
        "    - returns a ```pymongo.cursor.Cursor``` instance\n",
        "    - queries the database\n",
        "    - raises ```TypeError``` is arguments are of improper type"
      ],
      "metadata": {
        "id": "NpFCTrECqUuf"
      }
    },
    {
      "cell_type": "code",
      "source": [
        "# read.py\n",
        "from pymongo import MongoClient\n",
        "\n",
        "client = MongoClient('localhost', 27017)\n",
        "database = client['mydb']\n",
        "collection = database['product']\n",
        "\n",
        "# returns only single record\n",
        "print(collection.find_one())\n",
        "\n",
        "# returns all records satisfying the filter\n",
        "cursor = collection.find()\n",
        "# print(\"DEBUG:\", type(cursor)) # debug\n",
        "# print(\"DEBUG:\", cursor) # debug\n",
        "for each_doc in cursor:\n",
        "    # print(\"DEBUG:\", type(each_doc)) # debug\n",
        "    print(each_doc)"
      ],
      "metadata": {
        "colab": {
          "base_uri": "https://localhost:8080/"
        },
        "id": "sDC81uGOxRG-",
        "outputId": "21e205a1-ddb9-4385-8706-6ca89b269858"
      },
      "execution_count": null,
      "outputs": [
        {
          "output_type": "stream",
          "name": "stdout",
          "text": [
            "{'_id': ObjectId('65e0c8edd6ca42013669bb09'), 'name': 'IPhone', 'price': 1000}\n",
            "{'_id': ObjectId('65e0c8edd6ca42013669bb09'), 'name': 'IPhone', 'price': 1000}\n",
            "{'_id': ObjectId('65e0c8f0d6ca42013669bb0b'), 'name': 'IPhone', 'price': 1000}\n",
            "{'_id': ObjectId('65e0c8f0d6ca42013669bb0c'), 'name': 'Mac Book', 'price': 2000}\n",
            "{'_id': ObjectId('65e0c8f0d6ca42013669bb0d'), 'name': 'Dell', 'price': 1500}\n"
          ]
        }
      ]
    },
    {
      "cell_type": "code",
      "source": [
        "from pymongo import MongoClient\n",
        "\n",
        "client = MongoClient('localhost', 27017)\n",
        "database = client['mydb']\n",
        "collection = database['product']\n",
        "# returns only single record, returns 'IPhone'\n",
        "# print(collection.find_one())\n",
        "\n",
        "cursor = collection.find({\"name\":\"Dell\"})\n",
        "for each_doc in cursor:\n",
        "    print(each_doc)"
      ],
      "metadata": {
        "id": "9O8e9NZAqklY",
        "colab": {
          "base_uri": "https://localhost:8080/"
        },
        "outputId": "db409651-4f82-43c5-df0b-ed0f25682fdd"
      },
      "execution_count": null,
      "outputs": [
        {
          "output_type": "stream",
          "name": "stdout",
          "text": [
            "{'_id': ObjectId('65e0c8f0d6ca42013669bb0d'), 'name': 'Dell', 'price': 1500}\n"
          ]
        }
      ]
    },
    {
      "cell_type": "markdown",
      "source": [
        "## 270. update\n",
        "- Next CRUD operation is Update operation\n",
        "- ```pymongo.collection.update_one(filter, update, upsert=False, bypass_document_validation=False, collation=None, array_filters=None, hint=None, session=None, let=None, comment=None)```\n",
        "    - Update a single document matching the filter\n",
        "    - returns a ```pymongo.results.UpdateResult``` instance\n",
        "    - if ```upsert=True``` and no documents match the filter, create a new document based on the filter criteria and update modifications\n",
        "    - ```filter``` : a query that matches the document to update\n",
        "    - ```update``` : the modifications to apply\n",
        "    - ```upsert``` : if ``True``, perform an insert if no documents match the filter\n",
        "    - ```bypass_document_validation``` : If True, allow the write to opt-out of document level validation\n",
        "    - ```collation``` : an instance of ```pymongo.collation.Collation```\n",
        "    - ```array_filters``` : a list of filters specifying which array elements an update should apply\n",
        "    - ```hint``` : an index to use to support the query predicate specified either by its string name, or in the same format as passed to :meth:`~pymongo.collection.Collection.create_index`\n",
        "    - ```session``` : a :class:`~pymongo.client_session.ClientSession`\n",
        "    - ```let``` : Map of parameter name & values\n",
        "    - ```comment``` : a user provided comment to attach to this command\n",
        "- ```pymongo.collection.update_many(filter, update, upsert=False, array_filter=None, bypass_document_validation=False, collation=None, hint=None, session=None, let=None, comment=None)```\n",
        "    - update one or more documents that match the filter\n",
        "    - returns a ```pymongo.results.UpdateResult``` instance\n",
        "    - ```filter``` : a query that matches the document to update\n",
        "    - ```update``` : the modifications to apply\n",
        "    - ```upsert``` : if True, perform an insert if no documents match the filter\n",
        "    - ```bypass_document_validation``` : If ``True``, allow the write to opt-out of document level validation\n",
        "    - ```collation``` : an instance of ```pymongo.collation.Collation```\n",
        "    - ```array_filters``` : a list of filters specifying which array elements an update should apply\n",
        "    - ```hint``` : an index to use to support the query predicate specified either by its string name, or in the same format as passed to :meth:`~pymongo.collection.Collection.create_index`\n",
        "    - ```session``` : a :class:`~pymongo.client_session.ClientSession`\n",
        "    - ```let``` : Map of parameter name & values\n",
        "    - ```comment``` : a user provided comment to attach to this command"
      ],
      "metadata": {
        "id": "Tsx1UbgCAl5f"
      }
    },
    {
      "cell_type": "code",
      "source": [
        "# update.py\n",
        "\n",
        "from pymongo import MongoClient\n",
        "\n",
        "client = MongoClient('localhost', 27017)\n",
        "database = client['mydb']\n",
        "collection = database['product']\n",
        "\n",
        "filter = {\"name\":\"Dell\"}\n",
        "result = collection.update_one(filter, {\"$set\":{\"price\":1800}})\n",
        "# print(\"DEBUG:\", result) # debug\n",
        "# print(\"DEBUG:\", type(result)) # debug\n",
        "print(result.modified_count)\n",
        "\n",
        "cursor = collection.find({\"name\":\"Dell\"})\n",
        "for each_doc in cursor:\n",
        "    print(each_doc)"
      ],
      "metadata": {
        "colab": {
          "base_uri": "https://localhost:8080/"
        },
        "id": "xjVe_OlE_8Zq",
        "outputId": "6a2fb172-a923-4b9c-dc9a-f80da3d3d2dd"
      },
      "execution_count": null,
      "outputs": [
        {
          "output_type": "stream",
          "name": "stdout",
          "text": [
            "1\n",
            "{'_id': ObjectId('65e0c8f0d6ca42013669bb0d'), 'name': 'Dell', 'price': 1800}\n"
          ]
        }
      ]
    },
    {
      "cell_type": "code",
      "source": [
        "from pymongo import MongoClient\n",
        "\n",
        "client = MongoClient('localhost', 27017)\n",
        "database = client['mydb']\n",
        "collection = database['product']\n",
        "\n",
        "filter = {\"name\":\"IPhone\"}\n",
        "result = collection.update_many(filter, {\"$set\":{\"price\":1500}})\n",
        "# print(\"DEBUG:\", result) # debug\n",
        "# print(\"DEBUG:\", type(result)) # debug\n",
        "print(result.modified_count)\n",
        "\n",
        "cursor = collection.find(filter)\n",
        "for each_doc in cursor:\n",
        "    print(each_doc)"
      ],
      "metadata": {
        "colab": {
          "base_uri": "https://localhost:8080/"
        },
        "id": "X_pn53kVGf5w",
        "outputId": "526ea688-8c66-4e93-aeda-0cf2bb53aaa5"
      },
      "execution_count": null,
      "outputs": [
        {
          "output_type": "stream",
          "name": "stdout",
          "text": [
            "2\n",
            "{'_id': ObjectId('65e0c8edd6ca42013669bb09'), 'name': 'IPhone', 'price': 1500}\n",
            "{'_id': ObjectId('65e0c8f0d6ca42013669bb0b'), 'name': 'IPhone', 'price': 1500}\n"
          ]
        }
      ]
    },
    {
      "cell_type": "markdown",
      "source": [
        "## 271. delete\n",
        "- Last of the CRUD operation in the CRUD operation\n",
        "- ```pymongo.collection.delete_one(filter, collation=None, hint=None, session=None, let=None, comment=None)```\n",
        "    - delete a single document matching the filter\n",
        "    - returns an instance of :class:`~pymongo.results.DeleteResult`\n",
        "    - ```filter``` : a query that matches the document to delete\n",
        "    - ```collation``` : an instance of :class:`~pymongo.collation.Collation`\n",
        "    - ```hint``` : an index to use to support the query predicate specified  either by its string name or in the same format passed to :meth:`~pymongo.collection.Collection.create_index`\n",
        "    - ```session``` : a :class:`~pymongo.client_session.ClientSession`\n",
        "    - ```let``` : a map of parameter names and values\n",
        "    - ```comment``` : a user provided comment to attache to this command\n",
        "- ```pymongo.collection.delete_many(filter, collation=None, hint=None, session=None, let=None, comment=None)```\n",
        "    - delete one or more documents matching the filter\n",
        "    - returns an instance of :class:`~pymongo.results.DeleteResult`\n",
        "    - ```filter``` : a query that matches the documents to delete\n",
        "    - ```collation``` : an instance of :class:`~pymongo.collation.Collation`\n",
        "    - ```hint``` : an index to use to support the query predicate specified  either by its string name or in the same format passed to :meth:`~pymongo.collection.Collection.create_index`\n",
        "    - ```session``` : a :class:`~pymongo.client_session.ClientSession`\n",
        "    - ```let``` : a map of parameter names and values\n",
        "    - ```comment``` : a user provided comment to attache to this command"
      ],
      "metadata": {
        "id": "p_wBw3Pdy-l8"
      }
    },
    {
      "cell_type": "code",
      "source": [
        "# delete.py\n",
        "\n",
        "from pymongo import MongoClient\n",
        "\n",
        "client = MongoClient('localhost', 27017)\n",
        "database = client['mydb']\n",
        "collection = database['product']\n",
        "\n",
        "result = collection.delete_one({\"name\":\"Dell\"})\n",
        "# print(\"DEBUG:\", result) # debug\n",
        "# print(\"DEBUG:\", type(result)) # debug\n",
        "print(result.deleted_count)\n",
        "\n",
        "cursor = collection.find({\"name\":\"Dell\"})\n",
        "for each_doc in cursor:\n",
        "    print(each_doc)\n",
        "    print(\"DEBUG:\", type(each_doc)) # debug"
      ],
      "metadata": {
        "colab": {
          "base_uri": "https://localhost:8080/"
        },
        "id": "kN2DbHgKsGgV",
        "outputId": "dc9c2d1b-b91f-4107-cbe8-bd4c0562327f"
      },
      "execution_count": null,
      "outputs": [
        {
          "output_type": "stream",
          "name": "stdout",
          "text": [
            "1\n"
          ]
        }
      ]
    },
    {
      "cell_type": "code",
      "source": [
        "from pymongo import MongoClient\n",
        "\n",
        "client = MongoClient('localhost', 27017)\n",
        "database = client['mydb']\n",
        "collection = database['product']\n",
        "\n",
        "result = collection.delete_many({\"name\":\"IPhone\"})\n",
        "# print(\"DEBUG:\", result) # debug\n",
        "# print(\"DEBUG:\", type(result)) # debug\n",
        "print(result.deleted_count)\n",
        "\n",
        "cursor = collection.find({\"name\":\"IPhone\"})\n",
        "for each_doc in cursor:\n",
        "    print(each_doc)\n",
        "    print(\"DEBUG:\", type(each_doc)) # debug"
      ],
      "metadata": {
        "colab": {
          "base_uri": "https://localhost:8080/"
        },
        "id": "norKz3cAzQka",
        "outputId": "b431b433-18c7-425c-e8ed-bd6253f66c4f"
      },
      "execution_count": null,
      "outputs": [
        {
          "output_type": "stream",
          "name": "stdout",
          "text": [
            "2\n"
          ]
        }
      ]
    },
    {
      "cell_type": "code",
      "source": [],
      "metadata": {
        "id": "ktrxGx_UDWO1"
      },
      "execution_count": null,
      "outputs": []
    }
  ]
}