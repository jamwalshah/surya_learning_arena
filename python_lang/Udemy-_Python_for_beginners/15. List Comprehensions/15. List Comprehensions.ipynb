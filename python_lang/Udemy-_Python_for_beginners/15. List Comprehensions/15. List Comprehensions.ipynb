{
  "nbformat": 4,
  "nbformat_minor": 0,
  "metadata": {
    "colab": {
      "provenance": [],
      "toc_visible": true
    },
    "kernelspec": {
      "name": "python3",
      "display_name": "Python 3"
    },
    "language_info": {
      "name": "python"
    }
  },
  "cells": [
    {
      "cell_type": "markdown",
      "source": [
        "## 133. List Comprehensions\n",
        "- List Comprehension gives us an easy to use syntax to create one list out of another, while applying some logic and conditions, in a shortcut manner\n",
        "- Syntax for List comprehension is in square brackets ```[ ]```\n",
        "        l = [expression for item in iterable if condition]\n",
        "    - ```expression ``` is the lambda function which is the logic applied to each and every item in this list\n",
        "    - ```for item in iterable``` is the for loop\n",
        "    - ```if condition``` is the condition checked before applying the lambda function\n",
        "        - if condition is not met, then item is skipped from the resulting list\n",
        "        - if condition is optional\n",
        "    - ```l``` is the resulting list containng the values once the logic is applied to the items in this list"
      ],
      "metadata": {
        "id": "oS0xax3sW_UI"
      }
    },
    {
      "cell_type": "markdown",
      "source": [
        "## 134. Cube of numbers in a list\n",
        "- use list comprehension and calculate cubes of numbers from 1 to 10, to generate a list"
      ],
      "metadata": {
        "id": "ahAHV8G3a8iB"
      }
    },
    {
      "cell_type": "code",
      "execution_count": 1,
      "metadata": {
        "colab": {
          "base_uri": "https://localhost:8080/"
        },
        "id": "D2uBxF8wW5PU",
        "outputId": "d485acd9-be63-4ef5-eedc-58334982a8fd"
      },
      "outputs": [
        {
          "output_type": "stream",
          "name": "stdout",
          "text": [
            "[1, 8, 27, 64, 125, 216, 343, 512, 729, 1000]\n"
          ]
        }
      ],
      "source": [
        "# listcomprehension\n",
        "# cubesofnumbers.py\n",
        "lst = []\n",
        "for x in range(1, 11):\n",
        "    lst.append(x**3)\n",
        "print(lst)"
      ]
    },
    {
      "cell_type": "code",
      "source": [
        "lst = []\n",
        "# for x in range(1, 11):\n",
        "#     lst.append(x**3)\n",
        "lst = [x**3 for x in range(1, 11)]\n",
        "print(lst)"
      ],
      "metadata": {
        "colab": {
          "base_uri": "https://localhost:8080/"
        },
        "id": "4SzUxhlWcEJE",
        "outputId": "d55a6d4e-babe-4438-c99f-09b492dfe2eb"
      },
      "execution_count": 2,
      "outputs": [
        {
          "output_type": "stream",
          "name": "stdout",
          "text": [
            "[1, 8, 27, 64, 125, 216, 343, 512, 729, 1000]\n"
          ]
        }
      ]
    },
    {
      "cell_type": "markdown",
      "source": [
        "## 135. Even numbers in a list\n",
        "- use list comprehension to create a list that will hold all the even numbers between 1 and 20"
      ],
      "metadata": {
        "id": "-Jp4TGLQciQC"
      }
    },
    {
      "cell_type": "code",
      "source": [
        "# evennumbers.py\n",
        "lst = [x for x in range(2, 21, 2)]\n",
        "print(lst)"
      ],
      "metadata": {
        "colab": {
          "base_uri": "https://localhost:8080/"
        },
        "id": "s_7NS6S3cV51",
        "outputId": "bfa080e2-9a44-475a-ff10-a29924c0ed2c"
      },
      "execution_count": 3,
      "outputs": [
        {
          "output_type": "stream",
          "name": "stdout",
          "text": [
            "[2, 4, 6, 8, 10, 12, 14, 16, 18, 20]\n"
          ]
        }
      ]
    },
    {
      "cell_type": "code",
      "source": [
        "# lst = [x for x in range(2, 21, 2)]\n",
        "lst = [x for x in range(1, 21) if x%2 == 0]\n",
        "print(lst)"
      ],
      "metadata": {
        "colab": {
          "base_uri": "https://localhost:8080/"
        },
        "id": "qQCp1wCLc5bU",
        "outputId": "a3a3e13a-7854-48f4-83d4-93d4d6ef5175"
      },
      "execution_count": 4,
      "outputs": [
        {
          "output_type": "stream",
          "name": "stdout",
          "text": [
            "[2, 4, 6, 8, 10, 12, 14, 16, 18, 20]\n"
          ]
        }
      ]
    },
    {
      "cell_type": "markdown",
      "source": [
        "## 136. Product of numbers in a list\n",
        "- Develop a program that will calculate the product in two different lists"
      ],
      "metadata": {
        "id": "OZvxh_8PdU0M"
      }
    },
    {
      "cell_type": "code",
      "source": [
        "# product of lists.py\n",
        "a = [1, 2, 3, 4, 5]\n",
        "b = [6, 7, 8, 9, 10]\n",
        "z = []\n",
        "for i in range(len(a)):\n",
        "    z.append(a[i]*b[i])\n",
        "print(z)"
      ],
      "metadata": {
        "colab": {
          "base_uri": "https://localhost:8080/"
        },
        "id": "I_e4PwuBdLej",
        "outputId": "11e4d400-e60f-49c4-d213-7154a413071f"
      },
      "execution_count": 5,
      "outputs": [
        {
          "output_type": "stream",
          "name": "stdout",
          "text": [
            "[6, 14, 24, 36, 50]\n"
          ]
        }
      ]
    },
    {
      "cell_type": "code",
      "source": [
        "a = [1, 2, 3, 4, 5]\n",
        "b = [6, 7, 8, 9, 10]\n",
        "z = []\n",
        "# for i in range(len(a)):\n",
        "#     z.append(a[i]*b[i])\n",
        "z = [a[i]*b[i] for i in range(len(a))]\n",
        "print(z)"
      ],
      "metadata": {
        "colab": {
          "base_uri": "https://localhost:8080/"
        },
        "id": "pvjlB8aEeBVw",
        "outputId": "c3a6acf8-d1af-4ae1-a3c4-dd466c0b117a"
      },
      "execution_count": 6,
      "outputs": [
        {
          "output_type": "stream",
          "name": "stdout",
          "text": [
            "[6, 14, 24, 36, 50]\n"
          ]
        }
      ]
    },
    {
      "cell_type": "markdown",
      "source": [
        "## 137. Common elements in a list\n",
        "- Develop a python scipt that will find out the common elements of the two given lists"
      ],
      "metadata": {
        "id": "q75tVtcPeh70"
      }
    },
    {
      "cell_type": "code",
      "source": [
        "# commonelements.py\n",
        "a = [2, 4, 6, 8]\n",
        "b = [1, 2, 3, 4]\n",
        "result = []\n",
        "for i in a:\n",
        "    if i in b:\n",
        "        result.append(i)\n",
        "print(result)"
      ],
      "metadata": {
        "colab": {
          "base_uri": "https://localhost:8080/"
        },
        "id": "mf4E7SW_ebJY",
        "outputId": "6b21ec13-7bb8-4531-b4d4-20fc44594d97"
      },
      "execution_count": 7,
      "outputs": [
        {
          "output_type": "stream",
          "name": "stdout",
          "text": [
            "[2, 4]\n"
          ]
        }
      ]
    },
    {
      "cell_type": "code",
      "source": [
        "a = [2, 4, 6, 8]\n",
        "b = [1, 2, 3, 4]\n",
        "result = []\n",
        "'''for i in a:\n",
        "    if i in b:\n",
        "        result.append(i)'''\n",
        "result = [i for i in a if i in b]\n",
        "print(result)"
      ],
      "metadata": {
        "colab": {
          "base_uri": "https://localhost:8080/"
        },
        "id": "NudjmKlEfKmI",
        "outputId": "b54c921f-b476-4b7e-bd2c-451af8014653"
      },
      "execution_count": 8,
      "outputs": [
        {
          "output_type": "stream",
          "name": "stdout",
          "text": [
            "[2, 4]\n"
          ]
        }
      ]
    },
    {
      "cell_type": "code",
      "source": [],
      "metadata": {
        "id": "SsZs_HsffwmU"
      },
      "execution_count": 8,
      "outputs": []
    }
  ]
}