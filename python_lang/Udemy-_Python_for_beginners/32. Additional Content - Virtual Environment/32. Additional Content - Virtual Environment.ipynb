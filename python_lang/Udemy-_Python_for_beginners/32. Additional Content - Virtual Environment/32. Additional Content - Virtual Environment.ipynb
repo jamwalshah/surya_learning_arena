{
  "nbformat": 4,
  "nbformat_minor": 0,
  "metadata": {
    "colab": {
      "provenance": [],
      "toc_visible": true
    },
    "kernelspec": {
      "name": "python3",
      "display_name": "Python 3"
    },
    "language_info": {
      "name": "python"
    }
  },
  "cells": [
    {
      "cell_type": "markdown",
      "source": [
        "## 280. Virtual Environment\n",
        "- You'll be introduced with the concept of Python Virtual Environments\n",
        "- This is an advanced concept which is very helpful when you're working on real-time projects, whether they're django projects, Machine Learning Projects, etc.\n",
        "- ```pip3``` is the packaging manager for python which allows us to install various libraries for our projects\n",
        "- You find which version of pip is installed globally\n",
        "    - on macOS or linux\n",
        "    ```bash\n",
        "    which pip3\n",
        "    ```\n",
        "    - on windows\n",
        "    ```bash\n",
        "    where pip3\n",
        "    ```\n",
        "- To find what version of ```pip3``` you have on your machine globally, run\n",
        "```bash\n",
        " pip3 --version\n",
        " ```  \n",
        "- To find the path of python installed globally\n",
        "```bash\n",
        "which python3\n",
        "```\n",
        "- To list all the packages/libraries installed on the machine gloally\n",
        "```bash\n",
        "pip3 list\n",
        "```\n",
        "- The problem here is that no matter how many projects I work with on my machine, all those project will use the same version\n",
        "- But in real-time that won't work because on project might need one version of django, another version of mysql, another version of boto3 and there might be some other project using some different versions which can be very painful for a developer\n",
        "- This is where Virtual Environments come in\n",
        "- ```Virtual Environemnt``` is nothing but a folder within which all the packages/libraries we want, will be installed. Instead of having them globally, they're specific to that virtual environment\n",
        "\n"
      ],
      "metadata": {
        "id": "dtV3PSSC13zF"
      }
    },
    {
      "cell_type": "markdown",
      "source": [
        "### Installing ```virtualenv```\n",
        "- Open web browser and search for 'Python Virtual Environment' and open the link with https://packaging.python.org , it has step by step process of creating and using Python Virtual environment\n",
        "- ```virtualenv``` is used to manage Python packages for different projects. Using ```virtualenv``` allows you to avoid installing Python packages globally which could break system tools or other projects.\n",
        "- Install ```virtualenv``` package using ```pip```\n",
        "    - macOS or Linux\n",
        "    ``` bash\n",
        "    python3 -m pip install --user virtualenv\n",
        "    ```\n",
        "    - Windows\n",
        "    ``` bash\n",
        "    py -m pip install --user virtualenv\n",
        "    ```"
      ],
      "metadata": {
        "id": "yNZIVaiywB9A"
      }
    },
    {
      "cell_type": "markdown",
      "source": [
        "### Creating a virtual environment\n",
        "- ```venv``` (for python3) and ```virtualenv``` (for python2) allows you to manage separate package installations for different projects.\n",
        "- They essentially allow you to create a virtual isolated python installation  and install packages into that virtual installation\n",
        "- When you switch projects, you can simply create a new virtual environment and not worry about breaking the packages installed in the other environments\n",
        "- It is always recommended to use a virtual environment while developing python applications\n",
        "- To create a virtual environment, go to your project directory and run ```venv```. If you're using python2 replace ```venv``` with ```virtualenv``` in the below commands\n",
        "    - on macOS and linux\n",
        "    ``` bash\n",
        "    python3 -m venv envDir\n",
        "    ```\n",
        "    - on windows\n",
        "    ``` bash\n",
        "    py -m venv envDir\n",
        "    ```\n",
        "- The second argument is the location to create the virtual environment. Generally, you can just create this in your project and call it ```envDir```\n",
        "- ```venv``` will create a virtual Python installation in the ```envDir``` folder\n",
        "- ```Note:``` You should exclude your virtual environment directory from your version control system using ```.gitignore``` or similar\n",
        "- Run this command in the project folder to create a environment folder ```venv```\n",
        " ```bash\n",
        "python3 -m venv ./venv\n",
        "```\n",
        "- Inside this ```venv``` folder, you'll find following\n",
        "    - ```bin``` folder\n",
        "        - inside ```bin``` folder, you'll have activate and several other scripts\n",
        "        - Once you activate the environment, whatever packages you install now, will be installed here locally\n",
        "    - ```include``` folder\n",
        "    - ```lib``` folder\n",
        "    - ```pyvenv.cfg``` configuration file"
      ],
      "metadata": {
        "id": "Lj7TL5c_v-gN"
      }
    },
    {
      "cell_type": "code",
      "source": [
        "import os\n",
        "os.getcwd()\n",
        "os.chdir(r'C:\\Users\\surya\\Downloads\\surya_learning_arena\\python_lang\\Udemy-_Python_for_beginners\\32. Additional Content - Virtual Environment')\n",
        "os.getcwd()"
      ],
      "metadata": {
        "colab": {
          "base_uri": "https://localhost:8080/"
        },
        "id": "IO1qyrEbwOES",
        "outputId": "1b708319-2025-4a24-b431-00b42821d8fc"
      },
      "execution_count": 1,
      "outputs": [
        {
          "output_type": "execute_result",
          "data": {
            "text/plain": [
              "'C:\\\\Users\\\\surya\\\\Downloads\\\\surya_learning_arena\\\\python_lang\\\\Udemy-_Python_for_beginners\\\\32. Additional Content - Virtual Environment'"
            ]
          },
          "metadata": {},
          "execution_count": 1
        }
      ]
    },
    {
      "cell_type": "code",
      "execution_count": 2,
      "metadata": {
        "id": "HKW27q4p12Rl"
      },
      "outputs": [],
      "source": [
        "# python 3 -m venv ./venv\n",
        "import venv\n",
        "venv.create('./venv', with_pip=True) # creates a venv using venv module"
      ]
    },
    {
      "cell_type": "markdown",
      "source": [
        "### Activating a virtual environment\n",
        "- Before you can start installing or using packages in your virtual environment, you'll need to activate it\n",
        "- Activating your virtual environment will put the virtual environment-specific ```python``` and ```pip``` executables into your shell's ```PATH```\n",
        "    - On macOS and linux\n",
        "    ``` bash\n",
        "    source envDir/bin/activate\n",
        "    ```\n",
        "    - On windows\n",
        "    ```bash\n",
        "    .\\envDir\\Scripts\\activate\n",
        "    ```\n",
        "- You can confirm you're in the virtual environment by checking the location of your python interpreter, it should point to ```envDir``` directory\n",
        "    - On macOS and linux\n",
        "    ```bash\n",
        "    which python\n",
        "    ```\n",
        "    - On windows\n",
        "    ```bash\n",
        "    where python\n",
        "    ```\n",
        "- As long as your virtual environment is activated, pip will install packages into the specific environment and you'll be able to import and use packages in your Python applications\n"
      ],
      "metadata": {
        "id": "h4LyurWUm2fB"
      }
    },
    {
      "cell_type": "markdown",
      "source": [
        "### Leaving a virtual environment\n",
        "- Once you've finished working on your project, it's a good habit to deactivate its ```venv```\n",
        "- By deactivating, you leave the virtual envirnoment\n",
        "- Without deactivating your ```venv```, all other python code you execute, even if it is outside your project directory, will also run inside the ```venv```\n",
        "- To deactivate a ```venv```, run\n",
        "```bash\n",
        "deactivate\n",
        "```"
      ],
      "metadata": {
        "id": "xGMO62Y35ODo"
      }
    },
    {
      "cell_type": "code",
      "source": [],
      "metadata": {
        "id": "HvhVAX5V5qCM"
      },
      "execution_count": 2,
      "outputs": []
    }
  ]
}