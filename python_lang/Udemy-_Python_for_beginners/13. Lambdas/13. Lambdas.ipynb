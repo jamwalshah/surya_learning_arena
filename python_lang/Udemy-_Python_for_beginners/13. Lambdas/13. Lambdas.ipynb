{
  "nbformat": 4,
  "nbformat_minor": 0,
  "metadata": {
    "colab": {
      "provenance": [],
      "toc_visible": true
    },
    "kernelspec": {
      "name": "python3",
      "display_name": "Python 3"
    },
    "language_info": {
      "name": "python"
    }
  },
  "cells": [
    {
      "cell_type": "markdown",
      "source": [
        "## 113. Introduction\n",
        "- Lambda\n",
        "    - is an anonymous function that will not have any name\n",
        "    1. for normal function\n",
        "        - uses def keyword, function name, argument list and then statements/body\n",
        "        - may/may not return some value\n",
        "        - Syntax :\n",
        "        ``` python\n",
        "        def function_name(argument_list):\n",
        "            statements\n",
        "        ```\n",
        "        - Example :\n",
        "        ``` python\n",
        "        def square(x):\n",
        "            return x*x\n",
        "        ```\n",
        "    2. for lambda function\n",
        "        - uses lambda keyword, argument list, and expression to be evaluated\n",
        "        - returns a function that evaluates the expression\n",
        "        - usually defined inside other functions to evaluate expressions in functions such as filter, map, reduce, etc.\n",
        "        - Syntax:\n",
        "        ``` python\n",
        "        lambda argument_list : expression\n",
        "        ```\n",
        "        - Example :\n",
        "        ``` python\n",
        "        f = lambda x : x*x\n",
        "        result = f(10) # returns 100\n",
        "        ```\n",
        "        "
      ],
      "metadata": {
        "id": "Sal-j3o6c5dS"
      }
    },
    {
      "cell_type": "markdown",
      "source": [
        "## 114. lambda - Cube of a given number"
      ],
      "metadata": {
        "id": "uGkm8c4dPay2"
      }
    },
    {
      "cell_type": "code",
      "execution_count": null,
      "metadata": {
        "id": "PnRU9H4wcnnv"
      },
      "outputs": [],
      "source": []
    }
  ]
}