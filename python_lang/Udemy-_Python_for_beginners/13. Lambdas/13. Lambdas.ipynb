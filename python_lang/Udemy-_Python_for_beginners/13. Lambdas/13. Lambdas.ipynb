{
  "nbformat": 4,
  "nbformat_minor": 0,
  "metadata": {
    "colab": {
      "provenance": [],
      "toc_visible": true
    },
    "kernelspec": {
      "name": "python3",
      "display_name": "Python 3"
    },
    "language_info": {
      "name": "python"
    }
  },
  "cells": [
    {
      "cell_type": "markdown",
      "source": [
        "## 113. Introduction\n",
        "- Lambda\n",
        "    - is an anonymous function that will not have any name\n",
        "    1. for normal function\n",
        "        - uses def keyword, function name, argument list and then statements/body\n",
        "        - may/may not return some value\n",
        "        - Syntax :\n",
        "        ``` python\n",
        "        def function_name(argument_list):\n",
        "            statements\n",
        "        ```\n",
        "        - Example :\n",
        "        ``` python\n",
        "        def square(x):\n",
        "            return x*x\n",
        "        ```\n",
        "    2. for lambda function\n",
        "        - uses lambda keyword, argument list, and expression to be evaluated\n",
        "        - returns a function that evaluates the expression\n",
        "        - usually defined inside other functions to evaluate expressions in functions such as filter, map, reduce, etc.\n",
        "        - Syntax:\n",
        "        ``` python\n",
        "        lambda argument_list : expression\n",
        "        ```\n",
        "        - Example :\n",
        "        ``` python\n",
        "        f = lambda x : x*x\n",
        "        result = f(10) # returns 100\n",
        "        ```\n",
        "        "
      ],
      "metadata": {
        "id": "Sal-j3o6c5dS"
      }
    },
    {
      "cell_type": "markdown",
      "source": [
        "## 114. lambda - Cube of a given number\n",
        "- Create a Lambda that will calculate the cube of a given number"
      ],
      "metadata": {
        "id": "uGkm8c4dPay2"
      }
    },
    {
      "cell_type": "code",
      "execution_count": 3,
      "metadata": {
        "id": "PnRU9H4wcnnv",
        "colab": {
          "base_uri": "https://localhost:8080/"
        },
        "outputId": "f345b9d1-5bbb-4b13-addb-f249dc3a1c96"
      },
      "outputs": [
        {
          "output_type": "stream",
          "name": "stdout",
          "text": [
            "8\n"
          ]
        }
      ],
      "source": [
        "# cubelambda.py\n",
        "def cube(n):\n",
        "    return n**3\n",
        "print(cube(2))"
      ]
    },
    {
      "cell_type": "code",
      "source": [
        "f = lambda n:n**3\n",
        "print(f(2))"
      ],
      "metadata": {
        "colab": {
          "base_uri": "https://localhost:8080/"
        },
        "id": "UN49vjA3TGze",
        "outputId": "30fd6a4a-9f74-47af-833d-318502e1b4f4"
      },
      "execution_count": 4,
      "outputs": [
        {
          "output_type": "stream",
          "name": "stdout",
          "text": [
            "8\n"
          ]
        }
      ]
    },
    {
      "cell_type": "markdown",
      "source": [
        "## 115. Lambda - Even or Odd\n",
        "- Create a Lambda that will return YES if the given number is even and NO if the given number is odd"
      ],
      "metadata": {
        "id": "Wo6FkF4XTY3S"
      }
    },
    {
      "cell_type": "code",
      "source": [
        "# evenoroddlambda.py\n",
        "l = lambda x : 'YES' if x%2==0 else 'NO'\n",
        "print(l(10))\n",
        "print(l(9))"
      ],
      "metadata": {
        "colab": {
          "base_uri": "https://localhost:8080/"
        },
        "id": "O9SP2ASbTPuD",
        "outputId": "e35a9a8b-f4ca-4039-8273-66c5e74f2c30"
      },
      "execution_count": 6,
      "outputs": [
        {
          "output_type": "stream",
          "name": "stdout",
          "text": [
            "YES\n",
            "NO\n"
          ]
        }
      ]
    },
    {
      "cell_type": "markdown",
      "source": [
        "## 116. Lambda - Sum of two numbers\n",
        "- Create a lambda that will calculate the sum of two numbers"
      ],
      "metadata": {
        "id": "TVjuTwzgvy8K"
      }
    },
    {
      "cell_type": "code",
      "source": [
        "# sumlambda.py\n",
        "def add(a, b):\n",
        "    return a+b\n",
        "print(add(10, 20))"
      ],
      "metadata": {
        "colab": {
          "base_uri": "https://localhost:8080/"
        },
        "id": "GmibWr77vpWc",
        "outputId": "dfbebe66-7cc7-410f-85b1-3a21595048fb"
      },
      "execution_count": 8,
      "outputs": [
        {
          "output_type": "stream",
          "name": "stdout",
          "text": [
            "30\n"
          ]
        }
      ]
    },
    {
      "cell_type": "code",
      "source": [
        "l = lambda a, b : a+b\n",
        "print(l(10, 20))"
      ],
      "metadata": {
        "colab": {
          "base_uri": "https://localhost:8080/"
        },
        "id": "2vo-mufTqmqK",
        "outputId": "dce8e6c9-d87a-4632-b965-c35fbc5f8c1a"
      },
      "execution_count": 9,
      "outputs": [
        {
          "output_type": "stream",
          "name": "stdout",
          "text": [
            "30\n"
          ]
        }
      ]
    },
    {
      "cell_type": "markdown",
      "source": [
        "### 117. Using a filter\n",
        "- Retrieve only even numbers from a given list"
      ],
      "metadata": {
        "id": "3VBKYE4Yq5Zg"
      }
    },
    {
      "cell_type": "code",
      "source": [],
      "metadata": {
        "id": "_F4Qp9lKqzYp"
      },
      "execution_count": 9,
      "outputs": []
    }
  ]
}