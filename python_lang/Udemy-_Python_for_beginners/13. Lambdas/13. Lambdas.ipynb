{
  "nbformat": 4,
  "nbformat_minor": 0,
  "metadata": {
    "colab": {
      "provenance": [],
      "toc_visible": true
    },
    "kernelspec": {
      "name": "python3",
      "display_name": "Python 3"
    },
    "language_info": {
      "name": "python"
    }
  },
  "cells": [
    {
      "cell_type": "markdown",
      "source": [
        "## 113. Introduction\n",
        "- Lambda\n",
        "    - is an anonymous function that will not have any name\n",
        "    1. for normal function\n",
        "        - uses def keyword, function name, argument list and then statements/body\n",
        "        - may/may not return some value\n",
        "        - Syntax :\n",
        "        ``` python\n",
        "        def function_name(argument_list):\n",
        "            statements\n",
        "        ```\n",
        "        - Example :\n",
        "        ``` python\n",
        "        def square(x):\n",
        "            return x*x\n",
        "        ```\n",
        "    2. for lambda function\n",
        "        - uses lambda keyword, argument list, and expression to be evaluated\n",
        "        - returns a function that evaluates the expression\n",
        "        - usually defined inside other functions to evaluate expressions in functions such as filter, map, reduce, etc.\n",
        "        - Syntax:\n",
        "        ``` python\n",
        "        lambda argument_list : expression\n",
        "        ```\n",
        "        - Example :\n",
        "        ``` python\n",
        "        f = lambda x : x*x\n",
        "        result = f(10) # returns 100\n",
        "        ```\n",
        "        "
      ],
      "metadata": {
        "id": "Sal-j3o6c5dS"
      }
    },
    {
      "cell_type": "markdown",
      "source": [
        "## 114. lambda - Cube of a given number\n",
        "- Create a Lambda that will calculate the cube of a given number"
      ],
      "metadata": {
        "id": "uGkm8c4dPay2"
      }
    },
    {
      "cell_type": "code",
      "execution_count": 3,
      "metadata": {
        "id": "PnRU9H4wcnnv",
        "colab": {
          "base_uri": "https://localhost:8080/"
        },
        "outputId": "f345b9d1-5bbb-4b13-addb-f249dc3a1c96"
      },
      "outputs": [
        {
          "output_type": "stream",
          "name": "stdout",
          "text": [
            "8\n"
          ]
        }
      ],
      "source": [
        "# cubelambda.py\n",
        "def cube(n):\n",
        "    return n**3\n",
        "print(cube(2))"
      ]
    },
    {
      "cell_type": "code",
      "source": [
        "f = lambda n:n**3\n",
        "print(f(2))"
      ],
      "metadata": {
        "colab": {
          "base_uri": "https://localhost:8080/"
        },
        "id": "UN49vjA3TGze",
        "outputId": "30fd6a4a-9f74-47af-833d-318502e1b4f4"
      },
      "execution_count": 4,
      "outputs": [
        {
          "output_type": "stream",
          "name": "stdout",
          "text": [
            "8\n"
          ]
        }
      ]
    },
    {
      "cell_type": "markdown",
      "source": [
        "## 115. Lambda - Even or Odd\n",
        "- Create a Lambda that will return YES if the given number is even and NO if the given number is odd"
      ],
      "metadata": {
        "id": "Wo6FkF4XTY3S"
      }
    },
    {
      "cell_type": "code",
      "source": [],
      "metadata": {
        "id": "O9SP2ASbTPuD"
      },
      "execution_count": 2,
      "outputs": []
    }
  ]
}