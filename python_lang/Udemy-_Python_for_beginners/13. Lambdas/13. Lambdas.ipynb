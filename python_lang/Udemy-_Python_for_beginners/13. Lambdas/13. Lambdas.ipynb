{
  "nbformat": 4,
  "nbformat_minor": 0,
  "metadata": {
    "colab": {
      "provenance": [],
      "toc_visible": true
    },
    "kernelspec": {
      "name": "python3",
      "display_name": "Python 3"
    },
    "language_info": {
      "name": "python"
    }
  },
  "cells": [
    {
      "cell_type": "markdown",
      "source": [
        "## 113. Introduction\n",
        "- Lambda\n",
        "    - is an anonymous function that will not have any name\n",
        "    1. for normal function\n",
        "        - uses def keyword, function name, argument list and then statements/body\n",
        "        - may/may not return some value\n",
        "        - Syntax :\n",
        "        ``` python\n",
        "        def function_name(argument_list):\n",
        "            statements\n",
        "        ```\n",
        "        - Example :\n",
        "        ``` python\n",
        "        def square(x):\n",
        "            return x*x\n",
        "        ```\n",
        "    2. for lambda function\n",
        "        - uses lambda keyword, argument list, and expression to be evaluated\n",
        "        - returns a function that evaluates the expression\n",
        "        - usually defined inside other functions to evaluate expressions in functions such as filter, map, reduce, etc.\n",
        "        - Syntax:\n",
        "        ``` python\n",
        "        lambda argument_list : expression\n",
        "        ```\n",
        "        - Example :\n",
        "        ``` python\n",
        "        f = lambda x : x*x\n",
        "        result = f(10) # returns 100\n",
        "        ```\n",
        "        "
      ],
      "metadata": {
        "id": "Sal-j3o6c5dS"
      }
    },
    {
      "cell_type": "markdown",
      "source": [
        "## 114. lambda - Cube of a given number\n",
        "- Create a Lambda that will calculate the cube of a given number"
      ],
      "metadata": {
        "id": "uGkm8c4dPay2"
      }
    },
    {
      "cell_type": "code",
      "execution_count": null,
      "metadata": {
        "id": "PnRU9H4wcnnv",
        "colab": {
          "base_uri": "https://localhost:8080/"
        },
        "outputId": "f345b9d1-5bbb-4b13-addb-f249dc3a1c96"
      },
      "outputs": [
        {
          "output_type": "stream",
          "name": "stdout",
          "text": [
            "8\n"
          ]
        }
      ],
      "source": [
        "# cubelambda.py\n",
        "def cube(n):\n",
        "    return n**3\n",
        "print(cube(2))"
      ]
    },
    {
      "cell_type": "code",
      "source": [
        "f = lambda n:n**3\n",
        "print(f(2))"
      ],
      "metadata": {
        "colab": {
          "base_uri": "https://localhost:8080/"
        },
        "id": "UN49vjA3TGze",
        "outputId": "bafe8b5f-9025-4a4a-9191-8c0d383585f5"
      },
      "execution_count": null,
      "outputs": [
        {
          "output_type": "stream",
          "name": "stdout",
          "text": [
            "8\n"
          ]
        }
      ]
    },
    {
      "cell_type": "markdown",
      "source": [
        "## 115. Lambda - Even or Odd\n",
        "- Create a Lambda that will return YES if the given number is even and NO if the given number is odd"
      ],
      "metadata": {
        "id": "Wo6FkF4XTY3S"
      }
    },
    {
      "cell_type": "code",
      "source": [
        "# evenoroddlambda.py\n",
        "l = lambda x : 'YES' if x%2==0 else 'NO'\n",
        "print(l(10))\n",
        "print(l(9))"
      ],
      "metadata": {
        "colab": {
          "base_uri": "https://localhost:8080/"
        },
        "id": "O9SP2ASbTPuD",
        "outputId": "e35a9a8b-f4ca-4039-8273-66c5e74f2c30"
      },
      "execution_count": null,
      "outputs": [
        {
          "output_type": "stream",
          "name": "stdout",
          "text": [
            "YES\n",
            "NO\n"
          ]
        }
      ]
    },
    {
      "cell_type": "markdown",
      "source": [
        "## 116. Lambda - Sum of two numbers\n",
        "- Create a lambda that will calculate the sum of two numbers"
      ],
      "metadata": {
        "id": "TVjuTwzgvy8K"
      }
    },
    {
      "cell_type": "code",
      "source": [
        "# sumlambda.py\n",
        "def add(a, b):\n",
        "    return a+b\n",
        "print(add(10, 20))"
      ],
      "metadata": {
        "colab": {
          "base_uri": "https://localhost:8080/"
        },
        "id": "GmibWr77vpWc",
        "outputId": "dfbebe66-7cc7-410f-85b1-3a21595048fb"
      },
      "execution_count": null,
      "outputs": [
        {
          "output_type": "stream",
          "name": "stdout",
          "text": [
            "30\n"
          ]
        }
      ]
    },
    {
      "cell_type": "code",
      "source": [
        "l = lambda a, b : a+b\n",
        "print(l(10, 20))"
      ],
      "metadata": {
        "colab": {
          "base_uri": "https://localhost:8080/"
        },
        "id": "2vo-mufTqmqK",
        "outputId": "dce8e6c9-d87a-4632-b965-c35fbc5f8c1a"
      },
      "execution_count": null,
      "outputs": [
        {
          "output_type": "stream",
          "name": "stdout",
          "text": [
            "30\n"
          ]
        }
      ]
    },
    {
      "cell_type": "markdown",
      "source": [
        "### 117. Using a filter\n",
        "- Retrieve only even numbers from a given list"
      ],
      "metadata": {
        "id": "3VBKYE4Yq5Zg"
      }
    },
    {
      "cell_type": "code",
      "source": [
        "# evenoroddfilter.py\n",
        "lst = [10, 2, 33, 45, 89, 2]\n",
        "result = filter(lambda x:x%2==0, lst)\n",
        "print(result)"
      ],
      "metadata": {
        "colab": {
          "base_uri": "https://localhost:8080/"
        },
        "id": "_F4Qp9lKqzYp",
        "outputId": "276aca7b-b78c-4ddd-f811-c6a027f9af4a"
      },
      "execution_count": null,
      "outputs": [
        {
          "output_type": "stream",
          "name": "stdout",
          "text": [
            "<filter object at 0x0000027D6F479400>\n"
          ]
        }
      ]
    },
    {
      "cell_type": "code",
      "source": [
        "lst = [10, 2, 33, 45, 89, 2]\n",
        "result = list(filter(lambda x:x%2==0, lst))\n",
        "print(result)\n",
        "\n",
        "for i in result : print(i)"
      ],
      "metadata": {
        "colab": {
          "base_uri": "https://localhost:8080/"
        },
        "id": "BvxCQXkYYPPt",
        "outputId": "5d4d1a01-ec5f-4f58-e09d-bb8ebd7e353c"
      },
      "execution_count": null,
      "outputs": [
        {
          "output_type": "stream",
          "name": "stdout",
          "text": [
            "[10, 2, 2]\n",
            "10\n",
            "2\n",
            "2\n"
          ]
        }
      ]
    },
    {
      "cell_type": "markdown",
      "source": [
        "## 118. Using the map function\n",
        "- Using the map function, double the value of each element in the list"
      ],
      "metadata": {
        "id": "dG5TU0yGXkEU"
      }
    },
    {
      "cell_type": "code",
      "source": [
        "# doubleusingmap.py\n",
        "lst = [2, 3, 4, 5]\n",
        "result = map(lambda n : n*2, lst)\n",
        "print(result)"
      ],
      "metadata": {
        "colab": {
          "base_uri": "https://localhost:8080/"
        },
        "id": "Mk_fjISMXEBu",
        "outputId": "80b8d5e8-0465-4361-e2e6-de8cf04587b9"
      },
      "execution_count": null,
      "outputs": [
        {
          "output_type": "stream",
          "name": "stdout",
          "text": [
            "<map object at 0x0000027D70A45B80>\n"
          ]
        }
      ]
    },
    {
      "cell_type": "code",
      "source": [
        "lst = [2, 3, 4, 5]\n",
        "result = list(map(lambda n : n*2, lst))\n",
        "print(result)"
      ],
      "metadata": {
        "colab": {
          "base_uri": "https://localhost:8080/"
        },
        "id": "6kWlW5kIYNEM",
        "outputId": "ed17b416-9dcc-4bac-a57f-313db718888e"
      },
      "execution_count": null,
      "outputs": [
        {
          "output_type": "stream",
          "name": "stdout",
          "text": [
            "[4, 6, 8, 10]\n"
          ]
        }
      ]
    },
    {
      "cell_type": "markdown",
      "source": [
        "## 119. Using reduce function\n",
        "- Using the reduce function to find out the sum of all elements in a list"
      ],
      "metadata": {
        "id": "fjSwHBXRYa88"
      }
    },
    {
      "cell_type": "code",
      "source": [
        "#sumusingreduce.py\n",
        "from functools import reduce\n",
        "lst = [5, 10, 15, 20]\n",
        "result = reduce(lambda x, y : x+y, lst)\n",
        "print(result)"
      ],
      "metadata": {
        "colab": {
          "base_uri": "https://localhost:8080/"
        },
        "id": "7ovJght3YX0n",
        "outputId": "599ee026-67ee-4084-f7d7-dddb35e4e536"
      },
      "execution_count": null,
      "outputs": [
        {
          "output_type": "stream",
          "name": "stdout",
          "text": [
            "50\n"
          ]
        }
      ]
    },
    {
      "cell_type": "markdown",
      "source": [
        "## 120. Decorators\n",
        "- is a function that performs additional logic on a given function\n",
        "- it takes a function as argument and returns another function as a result which performs processing on argument function\n"
      ],
      "metadata": {
        "id": "XLce4In2ZjUm"
      }
    },
    {
      "cell_type": "markdown",
      "source": [
        "## 121. Decorator that doubles the result of a function\n",
        "- Create a decorator function that will double number returned by another function\n"
      ],
      "metadata": {
        "id": "EEq71b7L4Hh_"
      }
    },
    {
      "cell_type": "code",
      "source": [
        "#doubledecor.py\n",
        "def decor(fun):\n",
        "    def inner():\n",
        "        result = fun()\n",
        "        return result*2\n",
        "    return inner # returning a function here, which needs to be called later\n",
        "\n",
        "def num():\n",
        "    return 5\n",
        "\n",
        "resultfun = decor(num) # returns a function and storing this function in another variable\n",
        "print(resultfun()) # calling the returned function\n",
        "\n",
        "# print(decor(num)())\n",
        "# alt for above two lines, use '()' to call a retuned function"
      ],
      "metadata": {
        "id": "BVZsOCFhZDof",
        "colab": {
          "base_uri": "https://localhost:8080/"
        },
        "outputId": "4af94e5b-557d-42ea-fb5e-40f3838ed405"
      },
      "execution_count": null,
      "outputs": [
        {
          "output_type": "stream",
          "name": "stdout",
          "text": [
            "10\n"
          ]
        }
      ]
    },
    {
      "cell_type": "markdown",
      "source": [
        "## 122. Using @ Decorator\n",
        "- if you want to always decorate a function use ```@decorfunction``` above the function you want to decorate\n",
        "- while using ```@decorfunction``` , you dont need to first store the returned function and then call it, instead you have to call the function normally and it will be decorated automatically\n"
      ],
      "metadata": {
        "id": "xXn7Dkdc8zCA"
      }
    },
    {
      "cell_type": "code",
      "source": [
        "def decorfun(fun):\n",
        "    def inner():\n",
        "        result = fun()\n",
        "        return result*2\n",
        "    return inner # returning a function here, which needs to be called later\n",
        "\n",
        "@decorfun # decorator function will be automatically applied always to a function\n",
        "def num():\n",
        "    return 5\n",
        "\n",
        "print(num())"
      ],
      "metadata": {
        "colab": {
          "base_uri": "https://localhost:8080/"
        },
        "id": "qOnJ7tW85GMM",
        "outputId": "b77753fe-63e2-4ddc-c9d5-88b14e49dce4"
      },
      "execution_count": null,
      "outputs": [
        {
          "output_type": "stream",
          "name": "stdout",
          "text": [
            "10\n"
          ]
        }
      ]
    },
    {
      "cell_type": "markdown",
      "source": [
        "## 123. Decorating Strings\n",
        "- develop a decorator function that will decorate the strings\n",
        "- define two functions\n",
        "    - ```hello(name)``` - takes a name\n",
        "    - ```howareyou()``` - takes the result of hello function and appends a string called \"How are you ?\" at the end"
      ],
      "metadata": {
        "id": "1-DBcGKyofyE"
      }
    },
    {
      "cell_type": "code",
      "source": [
        "# stringdecor.py\n",
        "def decorfun(fun):\n",
        "    def inner(n):\n",
        "        result = fun(n)\n",
        "        # result = result + \" How are you ?\"\n",
        "        result += \" How are you ?\"\n",
        "        return result\n",
        "    return inner\n",
        "@decorfun\n",
        "def hello(name):\n",
        "    return \"Hello \"+name\n",
        "\n",
        "print(hello(\"John\"))"
      ],
      "metadata": {
        "colab": {
          "base_uri": "https://localhost:8080/"
        },
        "id": "ACQ3FC_1lnkk",
        "outputId": "7c8736cc-2eec-4eb9-bd27-a255d5748130"
      },
      "execution_count": null,
      "outputs": [
        {
          "output_type": "stream",
          "name": "stdout",
          "text": [
            "Hello John How are you ?\n"
          ]
        }
      ]
    },
    {
      "cell_type": "markdown",
      "source": [
        "## 124. Decorator Chaining\n",
        "- order of chaining the decorators is important while writing annotations for decorators\n",
        "- decorators which are annotated first are executed at last, and last decorator is executed first\n",
        "- result of last decorator is passed to earlier decorator to create a chain of decorators"
      ],
      "metadata": {
        "id": "v2TgYTNitBe5"
      }
    },
    {
      "cell_type": "code",
      "source": [
        "# decoratorchaining.py\n",
        "def half(fun):\n",
        "    def inner():\n",
        "        n = fun()\n",
        "        return n/2\n",
        "    return inner\n",
        "\n",
        "@half\n",
        "def num():\n",
        "    return 10\n",
        "\n",
        "print(num())"
      ],
      "metadata": {
        "colab": {
          "base_uri": "https://localhost:8080/"
        },
        "id": "oSnfX96T530W",
        "outputId": "b85f0369-fb26-45f5-8a06-8032a8ad77fa"
      },
      "execution_count": 30,
      "outputs": [
        {
          "output_type": "stream",
          "name": "stdout",
          "text": [
            "5.0\n"
          ]
        }
      ]
    },
    {
      "cell_type": "code",
      "source": [
        "def square(fun):\n",
        "    def inner():\n",
        "        n = fun()\n",
        "        return n*n\n",
        "    return inner\n",
        "\n",
        "def half(fun):\n",
        "    def inner():\n",
        "        n = fun()\n",
        "        return n/2\n",
        "    return inner\n",
        "\n",
        "@square # earlier decorator is executed later\n",
        "@half #later decorator is executed first\n",
        "\n",
        "def num():\n",
        "    return 10\n",
        "\n",
        "print(num())"
      ],
      "metadata": {
        "id": "cbKL5oIxssX3",
        "colab": {
          "base_uri": "https://localhost:8080/"
        },
        "outputId": "d04584a9-5b8c-4e2a-d0fa-627c55bf3b06"
      },
      "execution_count": 35,
      "outputs": [
        {
          "output_type": "stream",
          "name": "stdout",
          "text": [
            "25.0\n"
          ]
        }
      ]
    },
    {
      "cell_type": "code",
      "source": [
        "def square(fun):\n",
        "    def inner():\n",
        "        n = fun()\n",
        "        return n*n\n",
        "    return inner\n",
        "\n",
        "def half(fun):\n",
        "    def inner():\n",
        "        n = fun()\n",
        "        return n/2\n",
        "    return inner\n",
        "\n",
        "@half #later decorator is executed first\n",
        "@square # earlier decorator is executed later\n",
        "\n",
        "def num():\n",
        "    return 10\n",
        "\n",
        "print(num())"
      ],
      "metadata": {
        "colab": {
          "base_uri": "https://localhost:8080/"
        },
        "id": "m0SzSYAi49JR",
        "outputId": "8876de92-188d-48a0-9501-bee19b3ebe4c"
      },
      "execution_count": 36,
      "outputs": [
        {
          "output_type": "stream",
          "name": "stdout",
          "text": [
            "50.0\n"
          ]
        }
      ]
    },
    {
      "cell_type": "markdown",
      "source": [
        "## 125. Generators\n",
        "- Generators are functions that return a sequence of values\n",
        "- it is returned like a normal function but it uses a ```yield``` statement\n",
        "- each value of sequence is stored using yield statement, and at the end of sequence generation, entire sequence is returned back\n",
        "- similar to range function"
      ],
      "metadata": {
        "id": "e8C672mj67p1"
      }
    },
    {
      "cell_type": "markdown",
      "source": [
        "## 126. Create a Generator\n",
        "- function should generate custom sequence"
      ],
      "metadata": {
        "id": "cHpbmhph8AYl"
      }
    },
    {
      "cell_type": "code",
      "source": [
        "# customgenerator.py\n",
        "def customgen(x, y):\n",
        "    while x < y:\n",
        "        yield x\n",
        "        x += 1\n",
        "result = customgen(20, 30)\n",
        "for i in result: print(i)"
      ],
      "metadata": {
        "colab": {
          "base_uri": "https://localhost:8080/"
        },
        "id": "Wttdvm5g8KqS",
        "outputId": "9b93a95d-594e-47e5-9b64-589abe7467ff"
      },
      "execution_count": 39,
      "outputs": [
        {
          "output_type": "stream",
          "name": "stdout",
          "text": [
            "20\n",
            "21\n",
            "22\n",
            "23\n",
            "24\n",
            "25\n",
            "26\n",
            "27\n",
            "28\n",
            "29\n"
          ]
        }
      ]
    },
    {
      "cell_type": "code",
      "source": [
        "def customgen(x, y):\n",
        "    while x < y:\n",
        "        yield x\n",
        "        x += 1\n",
        "result = customgen(10, 18)\n",
        "for i in result: print(i)"
      ],
      "metadata": {
        "colab": {
          "base_uri": "https://localhost:8080/"
        },
        "id": "7LWNEcIM6Iml",
        "outputId": "06e0db49-3a5d-428f-f92c-e194c9f68064"
      },
      "execution_count": 40,
      "outputs": [
        {
          "output_type": "stream",
          "name": "stdout",
          "text": [
            "10\n",
            "11\n",
            "12\n",
            "13\n",
            "14\n",
            "15\n",
            "16\n",
            "17\n"
          ]
        }
      ]
    },
    {
      "cell_type": "markdown",
      "source": [
        "## 127. Keywords in Python\n",
        "-"
      ],
      "metadata": {
        "id": "DelA8jknFm12"
      }
    },
    {
      "cell_type": "code",
      "source": [],
      "metadata": {
        "id": "OQiG2dKu827p"
      },
      "execution_count": 40,
      "outputs": []
    }
  ]
}