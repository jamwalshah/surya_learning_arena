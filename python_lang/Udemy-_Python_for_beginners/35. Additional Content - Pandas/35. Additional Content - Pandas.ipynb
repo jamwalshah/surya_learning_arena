{
  "nbformat": 4,
  "nbformat_minor": 0,
  "metadata": {
    "colab": {
      "provenance": [],
      "toc_visible": true
    },
    "kernelspec": {
      "name": "python3",
      "display_name": "Python 3"
    },
    "language_info": {
      "name": "python"
    }
  },
  "cells": [
    {
      "cell_type": "markdown",
      "source": [
        "## 298. Introduction\n",
        "- NumPy is a great library to work with homogeneous numeric data, which uses integer based indexing, but it is not a great library to handle the Big Data today\n",
        "- Big Data today needs a data structures that can be easily customized\n",
        "- Big Data comes in mixed types and can have missing data to be handled\n",
        "- Also, we need various functions, mathematical operations that need to be applied to Big Data, that is where `Pandas` come in\n",
        "- The word `Panda` is derived from `Panel Data`\n",
        "- Examples are stock prices, players' scores across matches, students' grades across exams, and so on\n",
        "        NumPy                   Pandas\n",
        "        Numeric                 Custom\n",
        "        Integer Indexing        Mixed/Missing\n",
        "                                Manipulation\n",
        "- Pandas are classified into\n",
        "    1. `Series`\n",
        "        - to handle one-dimensional data\n",
        "    2. `DataFrames`\n",
        "        - to handle two-dimensional data\n",
        "- Pandas use arrays behind the scenes, and they're very closely related to NumPy library\n",
        "- Several NumPy library functions acts up `Series` and `DataFrames` as functional arguments, so that you can use Pandas with NumPy libaray as well\n",
        "- Both `Series` and `DataFrames` will allow us to easily select and manipulate the data\n",
        "- we can apply functions like `map` `reduce` right out of the box\n",
        "- we can perform various mathematical operations on Big Data\n",
        "- Also, we can visualize the data in differen formats\n",
        "- All this is in-built into `Pandas`"
      ],
      "metadata": {
        "id": "Y01T6jIRutZ_"
      }
    },
    {
      "cell_type": "markdown",
      "source": [
        "## 299. Series\n",
        "- A `Series` is an enhanced one-dimensional array\n",
        "- while arrays use `zero-based indexing` which is numeric, `Series` support `custom indexing` like strings\n",
        "- `Series` also handle missing data, as many functions in `NumPy` ignore the missing data\n",
        "- we can create a `Series` using a `list`, `numpy.ndarray`, `map`, etc.\n",
        "- The default index in `Series` is a numeric value which starts from zero, but we can customize it\n",
        "- We're going to create several Series of your own and explore different functions on `Series` like `count()`, `mean()`, `min()`, `max()`, `std()`, `describe()`, and more"
      ],
      "metadata": {
        "id": "aWhLBYURxysC"
      }
    },
    {
      "cell_type": "markdown",
      "source": [
        "## 300. Create Project\n",
        "- To install `Pandas` from the commandline, you've to execute\n",
        "``` python\n",
        "pip3 install pandas\n",
        "```\n",
        "- This will install `Pandas` for your Python environment"
      ],
      "metadata": {
        "id": "OdZNQbSHzT4G"
      }
    },
    {
      "cell_type": "code",
      "execution_count": null,
      "metadata": {
        "id": "7uKJHuFuupaq"
      },
      "outputs": [],
      "source": [
        "# pandas"
      ]
    },
    {
      "cell_type": "markdown",
      "source": [
        "## 301. Create and use Series\n",
        "- We'll start exporing Pandas Series\n",
        "- `pandas.Series(data=None, index=None, dtype='Dtype|None'=None, name=None, copy='bool|None'=None, fastpath='bool|lib:NoDefault'=<no_default>, )`\n",
        "    - One-dimensional ndarray with axis-labels (including time series)\n",
        "    - `data` : array-like, Iterable, dict, or scalar value\n",
        "        - Contains data stored in Series. If data is a dict, argument order is maintained.\n",
        "    - `index` : array-like or Index (1d)\n",
        "        - Values must be hashable and have the same length as `data`.\n",
        "        - Non-unique index values are allowed. Will default to RangeIndex (0, 1, 2, ..., n) if not provided.\n",
        "        - If data is dict-like and index is None, then the keys in the data are used as the index.\n",
        "        - If the index is not None, the resulting Series is reindexed with the index values.\n",
        "    - `dtype `: str, numpy.dtype, or ExtensionDtype, optional\n",
        "        - Data type for the output Series. If not specified, this will be inferred from `data`.\n",
        "    - `name` : Hashable, default None\n",
        "        - The name to give to the Series.\n",
        "    - `copy` : bool, default False\n",
        "        - Copy input data. Only affects Series or 1d ndarray input\n",
        "- `pandas.Series.count()`\n",
        "    - return the number of Non-NA/null observations in the Series\n",
        "- `pandas.Series.mean(axis:'Axis|None'=0, skipna:'bool'=True, numeric_only:'bool'=False, **kwargs, )`\n",
        "    - return the mean of the values over the requested axis\n",
        "- `pandas.Series.min(axis:'Axis|None'=0, skipna:'bool'=True, numeric_only:'bool'=False, **kwargs, )`\n",
        "    - return the minimum of the values over the requested axis\n",
        "- `pandas.Series.max(axis:'Axis|None'=0, skipna:'bool'=True, numeric_only:'bool'=False, **kwargs, )`\n",
        "    - return the maximum of the values over the requested axis\n",
        "- `pandas.Series.std(axis:'Axis|None'=0, skipna:'bool'=True, ddof:'int'=1,  numeric_only:'bool'=False, **kwargs, )`\n",
        "    - return sample standard deviation over the requested axis\n",
        "    - Normalized by N-1 by default. This can be changed using the ddof argument.\n"
      ],
      "metadata": {
        "id": "2ie0GpfF0F9w"
      }
    },
    {
      "cell_type": "code",
      "source": [
        "# pandas\n",
        "# series_demo.py\n",
        "import pandas as pd\n",
        "\n",
        "reviews = pd.Series([4.6, 4.4, 4.8, 5])\n",
        "print(reviews) # 1st col is index starting from 0,and 2nd col is data\n",
        "print(\"reviews[0]:\", reviews[0]) # accessing Series element using index\n",
        "\n",
        "print(\"reviews.count():\", reviews.count()) # count of non-null elements in Series\n",
        "print(\"reviews.mean():\", reviews.mean()) # mean of non-null elements in Series\n",
        "print(\"reviews.min():\", reviews.min()) # min of non-null elements in Series\n",
        "print(\"reviews.max():\", reviews.max()) # max of non-null elements in Series\n",
        "print(\"reviews.std():\", reviews.std()) # sample standard deviation of non-null elements in Series"
      ],
      "metadata": {
        "colab": {
          "base_uri": "https://localhost:8080/"
        },
        "id": "l42hmsKm0EmO",
        "outputId": "ce06e229-fc35-458a-ee51-db16fec32f65"
      },
      "execution_count": null,
      "outputs": [
        {
          "output_type": "stream",
          "name": "stdout",
          "text": [
            "0    4.6\n",
            "1    4.4\n",
            "2    4.8\n",
            "3    5.0\n",
            "dtype: float64\n",
            "reviews[0]: 4.6\n",
            "reviews.count(): 4\n",
            "reviews.mean(): 4.7\n",
            "reviews.min(): 4.4\n",
            "reviews.max(): 5.0\n",
            "reviews.std(): 0.25819888974716104\n"
          ]
        }
      ]
    },
    {
      "cell_type": "markdown",
      "source": [
        "## 302. Use Custom indices\n",
        "- Previously, you've seen that the Pandas Series generates an default index index that starts with 0 and goes till length-1\n",
        "- Instead of default index, we can use custom index as well\n",
        "-  we can also use a dict to initialize a Series\n",
        "- Instead of defining a Series using a list and then passing the index, you can also initialize a Series using a dict where keys will become indices and the values will be the values in the Series\n",
        "- `pandas.Series.values`\n",
        "    - returns ndarray of values only for the Series\n",
        "- `pandas.Series.index`\n",
        "    - returns Immutable sequence used for indexing and alignment"
      ],
      "metadata": {
        "id": "42KgG61L-GD8"
      }
    },
    {
      "cell_type": "code",
      "source": [
        "reviews = pd.Series([4.6, 4.4, 4.8, 5], index=['python', 'java', 'django', 'devops'])\n",
        "print(reviews)\n",
        "\n",
        "reviews = pd.Series({'python': 4.6, 'java':4.4, 'django':4.8, 'devops':5}) # keys will become the indices\n",
        "print(reviews)\n",
        "\n",
        "print(\"reviews['python']:\", reviews['python']) # access Series elements using custom index\n",
        "print(\"reviews.python:\", reviews.python) # access Series element using dot operator\n",
        "print(\"reviews.java:\", reviews.java)\n",
        "print(\"reviews.django:\", reviews.django)\n",
        "\n",
        "print(reviews.values) # returns an ndarray with all the values only of Series\n",
        "print(reviews.index) # returns an immutable sequence used for indexing & alignment"
      ],
      "metadata": {
        "colab": {
          "base_uri": "https://localhost:8080/"
        },
        "id": "QZy4g0ey4oNC",
        "outputId": "a6dd8817-315b-463a-a498-f6b36eb95e28"
      },
      "execution_count": null,
      "outputs": [
        {
          "output_type": "stream",
          "name": "stdout",
          "text": [
            "python    4.6\n",
            "java      4.4\n",
            "django    4.8\n",
            "devops    5.0\n",
            "dtype: float64\n",
            "python    4.6\n",
            "java      4.4\n",
            "django    4.8\n",
            "devops    5.0\n",
            "dtype: float64\n",
            "reviews['python']: 4.6\n",
            "reviews.python: 4.6\n",
            "reviews.java: 4.4\n",
            "reviews.django: 4.8\n",
            "[4.6 4.4 4.8 5. ]\n",
            "Index(['python', 'java', 'django', 'devops'], dtype='object')\n"
          ]
        }
      ]
    },
    {
      "cell_type": "markdown",
      "source": [
        "## 303. Series of String\n",
        "-  You'll learn how to use String type data within your Pandas Series\n",
        "- Strings are stored as `object` dtype in pandas\n",
        "- `pandas.Series.str.upper()`\n",
        "    - Convert strings in the Series/Index to uppercase.\n",
        "    - Equivalent to :meth:`str.upper`.\n",
        "    - returns Series or Index of object\n",
        "    - returns NaN for non-string elements\n",
        "- `courses.str.contains(pat, case: 'bool' = True, flags: 'int' = 0, na=None, regex: 'bool' = True,)`\n",
        "    - Test if pattern or regex is contained within a string of a Series or Index.\n",
        "    - return boolean Series or Index based on whether a given pattern or regex is contained within a string of a Series or Index\n",
        "    - returns True if it is present, and returns False, if it is not present"
      ],
      "metadata": {
        "id": "ffsQydOe8v7z"
      }
    },
    {
      "cell_type": "code",
      "source": [
        "courses = pd.Series(['Java', 'Python', 'AWS'])\n",
        "print(courses)\n",
        "print(courses.str.upper())\n",
        "print(courses.str.contains('y'))"
      ],
      "metadata": {
        "colab": {
          "base_uri": "https://localhost:8080/"
        },
        "id": "F8AfmRdf49Fq",
        "outputId": "d5c68942-1bdf-4b82-c1c9-398367fd14af"
      },
      "execution_count": null,
      "outputs": [
        {
          "output_type": "stream",
          "name": "stdout",
          "text": [
            "0      Java\n",
            "1    Python\n",
            "2       AWS\n",
            "dtype: object\n",
            "0      JAVA\n",
            "1    PYTHON\n",
            "2       AWS\n",
            "dtype: object\n",
            "0    False\n",
            "1     True\n",
            "2    False\n",
            "dtype: bool\n"
          ]
        }
      ]
    },
    {
      "cell_type": "markdown",
      "source": [
        "## 304. Describe\n",
        "- We'll introduce you a method `describe()` on series\n",
        "- `pandas.Series.describe(percentiles=None, include=None, exclude=None)`\n",
        "    -  returns descriptive statitics for the given series of data\n",
        "    - it'll ignore the `NaN` values\n",
        "    - it also gives percentiles\n",
        "    - `Percentile`\n",
        "        - the percentile rank of a value tells us the percentage of values in a dataset that rank equal to or below agiven value\n",
        "        - `25th Percentile` :\n",
        "            - also known as the first, or lower quartile\n",
        "            - The 25th percentile is the value at which 25% of the answers lie below that value, and 75% of the answers lie above that value"
      ],
      "metadata": {
        "id": "BTzoWAmANGRg"
      }
    },
    {
      "cell_type": "code",
      "source": [
        "reviews = pd.Series([4.6, 4.4, 4.8, 5])\n",
        "print(reviews)\n",
        "print(\"reviews.describe():\\n\", reviews.describe())\n",
        "# only value 4.4 lie below the 25th percentile which is 4.55\n",
        "# 50% of data is below/above 50th percentile which is 4.70"
      ],
      "metadata": {
        "colab": {
          "base_uri": "https://localhost:8080/"
        },
        "id": "WRHzKPHF9Tlp",
        "outputId": "7c8038b8-57fb-4279-f93b-4ff58e22b149"
      },
      "execution_count": 3,
      "outputs": [
        {
          "output_type": "stream",
          "name": "stdout",
          "text": [
            "0    4.6\n",
            "1    4.4\n",
            "2    4.8\n",
            "3    5.0\n",
            "dtype: float64\n",
            "reviews.describe():\n",
            " count    4.000000\n",
            "mean     4.700000\n",
            "std      0.258199\n",
            "min      4.400000\n",
            "25%      4.550000\n",
            "50%      4.700000\n",
            "75%      4.850000\n",
            "max      5.000000\n",
            "dtype: float64\n"
          ]
        }
      ]
    },
    {
      "cell_type": "markdown",
      "source": [
        "## 305. DataFrame\n",
        "- DataFrame is an imporved two-dimensional array\n",
        "- They allow custom row and column indexing\n",
        "- They have various operations required for data science projects\n",
        "- Each column in a DataFrame is a Series\n",
        "- This is a DataFrame of Cricket Players across matches\n",
        "        a   Kohli   Rohit   Surya   Jadeja\n",
        "        I1  100     100     77      99\n",
        "        I2  50      88      110     120\n",
        "        I3  70      0       0       8\n",
        "- Each row has different player scores across matches\n",
        "- DataFrames also handle the missing data, just like Series\n",
        "-"
      ],
      "metadata": {
        "id": "XvINU36TDaN2"
      }
    },
    {
      "cell_type": "markdown",
      "source": [
        "## 306. Create DataFrame\n",
        "-"
      ],
      "metadata": {
        "id": "FncgzIMrEmbu"
      }
    },
    {
      "cell_type": "code",
      "source": [],
      "metadata": {
        "id": "BKpqQRbvB-R2"
      },
      "execution_count": 3,
      "outputs": []
    }
  ]
}