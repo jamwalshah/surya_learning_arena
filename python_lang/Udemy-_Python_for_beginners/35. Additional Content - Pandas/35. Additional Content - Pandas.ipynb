{
  "nbformat": 4,
  "nbformat_minor": 0,
  "metadata": {
    "colab": {
      "provenance": [],
      "toc_visible": true
    },
    "kernelspec": {
      "name": "python3",
      "display_name": "Python 3"
    },
    "language_info": {
      "name": "python"
    }
  },
  "cells": [
    {
      "cell_type": "markdown",
      "source": [
        "## 298. Introduction\n",
        "- NumPy is a great library to work with homogeneous numeric data, which uses integer based indexing, but it is not a great library to handle the Big Data today\n",
        "- Big Data today needs a data structures that can be easily customized\n",
        "- Big Data comes in mixed types and can have missing data to be handled\n",
        "- Also, we need various functions, mathematical operations that need to be applied to Big Data, that is where `Pandas` come in\n",
        "- The word `Panda` is derived from `Panel Data`\n",
        "- Examples are stock prices, players' scores across matches, students' grades across exams, and so on\n",
        "        NumPy                   Pandas\n",
        "        Numeric                 Custom\n",
        "        Integer Indexing        Mixed/Missing\n",
        "                                Manipulation\n",
        "- Pandas are classified into\n",
        "    1. `Series`\n",
        "        - to handle one-dimensional data\n",
        "    2. `DataFrames`\n",
        "        - to handle two-dimensional data\n",
        "- Pandas use arrays behind the scenes, and they're very closely related to NumPy library\n",
        "- Several NumPy library functions acts up `Series` and `DataFrames` as functional arguments, so that you can use Pandas with NumPy libaray as well\n",
        "- Both `Series` and `DataFrames` will allow us to easily select and manipulate the data\n",
        "- we can apply functions like `map` `reduce` right out of the box\n",
        "- we can perform various mathematical operations on Big Data\n",
        "- Also, we can visualize the data in differen formats\n",
        "- All this is in-built into `Pandas`"
      ],
      "metadata": {
        "id": "Y01T6jIRutZ_"
      }
    },
    {
      "cell_type": "markdown",
      "source": [
        "## 299. Series\n",
        "- A `Series` is an enhanced one-dimensional array\n",
        "- while arrays use `zero-based indexing` which is numeric, `Series` support `custom indexing` like strings\n",
        "- `Series` also handle missing data, as many functions in `NumPy` ignore the missing data\n",
        "- we can create a `Series` using a `list`, `numpy.ndarray`, `map`, etc.\n",
        "- The default index in `Series` is a numeric value which starts from zero, but we can customize it\n",
        "- We're going to create several Series of your own and explore different functions on `Series` like `count()`, `mean()`, `min()`, `max()`, `std()`, `describe()`, and more"
      ],
      "metadata": {
        "id": "aWhLBYURxysC"
      }
    },
    {
      "cell_type": "markdown",
      "source": [
        "## 300. Create Project\n",
        "- To install `Pandas` from the commandline, you've to execute\n",
        "``` python\n",
        "pip3 install pandas\n",
        "```\n",
        "- This will install `Pandas` for your Python environment"
      ],
      "metadata": {
        "id": "OdZNQbSHzT4G"
      }
    },
    {
      "cell_type": "code",
      "execution_count": 1,
      "metadata": {
        "id": "7uKJHuFuupaq"
      },
      "outputs": [],
      "source": [
        "# pandas"
      ]
    },
    {
      "cell_type": "markdown",
      "source": [
        "## 301. Create and use Series\n",
        "- We'll start exporing Pandas Series\n",
        "- `pandas.Series(data=None, index=None, dtype='Dtype|None'=None, name=None, copy='bool|None'=None, fastpath='bool|lib:NoDefault'=<no_default>, )`\n",
        "    - One-dimensional ndarray with axis-labels (including time series)\n",
        "    - `data` : array-like, Iterable, dict, or scalar value\n",
        "        - Contains data stored in Series. If data is a dict, argument order is maintained.\n",
        "    - `index` : array-like or Index (1d)\n",
        "        - Values must be hashable and have the same length as `data`.\n",
        "        - Non-unique index values are allowed. Will default to RangeIndex (0, 1, 2, ..., n) if not provided.\n",
        "        - If data is dict-like and index is None, then the keys in the data are used as the index.\n",
        "        - If the index is not None, the resulting Series is reindexed with the index values.\n",
        "    - `dtype `: str, numpy.dtype, or ExtensionDtype, optional\n",
        "        - Data type for the output Series. If not specified, this will be inferred from `data`.\n",
        "    - `name` : Hashable, default None\n",
        "        - The name to give to the Series.\n",
        "    - `copy` : bool, default False\n",
        "        - Copy input data. Only affects Series or 1d ndarray input\n",
        "- `pandas.Series.count()`\n",
        "    - return the number of Non-NA/null observations in the Series\n",
        "- `pandas.Series.mean(axis:'Axis|None'=0, skipna:'bool'=True, numeric_only:'bool'=False, **kwargs, )`\n",
        "    - return the mean of the values over the requested axis\n",
        "- `pandas.Series.min(axis:'Axis|None'=0, skipna:'bool'=True, numeric_only:'bool'=False, **kwargs, )`\n",
        "    - return the minimum of the values over the requested axis\n",
        "- `pandas.Series.max(axis:'Axis|None'=0, skipna:'bool'=True, numeric_only:'bool'=False, **kwargs, )`\n",
        "    - return the maximum of the values over the requested axis\n",
        "- `pandas.Series.std(axis:'Axis|None'=0, skipna:'bool'=True, ddof:'int'=1,  numeric_only:'bool'=False, **kwargs, )`\n",
        "    - return sample standard deviation over the requested axis\n",
        "    - Normalized by N-1 by default. This can be changed using the ddof argument.\n"
      ],
      "metadata": {
        "id": "2ie0GpfF0F9w"
      }
    },
    {
      "cell_type": "code",
      "source": [
        "# pandas\n",
        "# series_demo.py\n",
        "import pandas as pd\n",
        "\n",
        "reviews = pd.Series([4.6, 4.4, 4.8, 5])\n",
        "print(reviews) # 1st col is index starting from 0,and 2nd col is data\n",
        "print(\"reviews[0]:\", reviews[0]) # accessing Series element using index"
      ],
      "metadata": {
        "colab": {
          "base_uri": "https://localhost:8080/"
        },
        "id": "l42hmsKm0EmO",
        "outputId": "7ee0ec30-a65b-4150-f147-cf7ed117c593"
      },
      "execution_count": 2,
      "outputs": [
        {
          "output_type": "stream",
          "name": "stdout",
          "text": [
            "0    4.6\n",
            "1    4.4\n",
            "2    4.8\n",
            "3    5.0\n",
            "dtype: float64\n",
            "reviews[0]: 4.6\n"
          ]
        }
      ]
    },
    {
      "cell_type": "code",
      "source": [
        "print(\"reviews.count():\", reviews.count()) # count of non-null elements in Series\n",
        "print(\"reviews.mean():\", reviews.mean()) # mean of non-null elements in Series\n",
        "print(\"reviews.min():\", reviews.min()) # min of non-null elements in Series\n",
        "print(\"reviews.max():\", reviews.max()) # max of non-null elements in Series\n",
        "print(\"reviews.std():\", reviews.std()) # sample standard deviation of non-null elements in Series"
      ],
      "metadata": {
        "colab": {
          "base_uri": "https://localhost:8080/"
        },
        "id": "yHLtAGTL0DSs",
        "outputId": "c7c1821a-c8ef-46cc-860e-1da6e412e563"
      },
      "execution_count": 3,
      "outputs": [
        {
          "output_type": "stream",
          "name": "stdout",
          "text": [
            "reviews.count(): 4\n",
            "reviews.mean(): 4.7\n",
            "reviews.min(): 4.4\n",
            "reviews.max(): 5.0\n",
            "reviews.std(): 0.25819888974716104\n"
          ]
        }
      ]
    },
    {
      "cell_type": "markdown",
      "source": [
        "## 302. Use Custom indices\n",
        "- Previously, you've seen that the Pandas Series generates an default index index that starts with 0 and goes till length-1\n",
        "- Instead of default index, we can use custom index as well\n",
        "-  we can also use a dict to initialize a Series\n",
        "- Instead of defining a Series using a list and then passing the index, you can also initialize a Series using a dict where keys will become indices and the values will be the values in the Series\n",
        "- `pandas.Series.values`\n",
        "    - returns ndarray of values only for the Series\n",
        "- `pandas.Series.index`\n",
        "    - returns Immutable sequence used for indexing and alignment"
      ],
      "metadata": {
        "id": "42KgG61L-GD8"
      }
    },
    {
      "cell_type": "code",
      "source": [
        "reviews = pd.Series([4.6, 4.4, 4.8, 5], index=['python', 'java', 'django', 'devops'])\n",
        "print(reviews)\n",
        "\n",
        "reviews = pd.Series({'python': 4.6, 'java':4.4, 'django':4.8, 'devops':5}) # keys will become the indices\n",
        "print(reviews)"
      ],
      "metadata": {
        "colab": {
          "base_uri": "https://localhost:8080/"
        },
        "id": "QZy4g0ey4oNC",
        "outputId": "40038eaf-9081-41fd-f91a-8404689ffe05"
      },
      "execution_count": 4,
      "outputs": [
        {
          "output_type": "stream",
          "name": "stdout",
          "text": [
            "python    4.6\n",
            "java      4.4\n",
            "django    4.8\n",
            "devops    5.0\n",
            "dtype: float64\n",
            "python    4.6\n",
            "java      4.4\n",
            "django    4.8\n",
            "devops    5.0\n",
            "dtype: float64\n"
          ]
        }
      ]
    },
    {
      "cell_type": "code",
      "source": [
        "print(\"reviews['python']:\", reviews['python']) # access Series elements using custom index\n",
        "print(\"reviews.python:\", reviews.python) # access Series element using dot operator\n",
        "print(\"reviews.java:\", reviews.java)\n",
        "print(\"reviews.django:\", reviews.django)"
      ],
      "metadata": {
        "colab": {
          "base_uri": "https://localhost:8080/"
        },
        "id": "Zn8o8Fvfz8d-",
        "outputId": "25ba209c-6cf2-4484-c7c5-51af27261da9"
      },
      "execution_count": 5,
      "outputs": [
        {
          "output_type": "stream",
          "name": "stdout",
          "text": [
            "reviews['python']: 4.6\n",
            "reviews.python: 4.6\n",
            "reviews.java: 4.4\n",
            "reviews.django: 4.8\n"
          ]
        }
      ]
    },
    {
      "cell_type": "code",
      "source": [
        "print(reviews.values) # returns an ndarray with all the values only of Series\n",
        "print(reviews.index) # returns an immutable sequence used for indexing & alignment"
      ],
      "metadata": {
        "colab": {
          "base_uri": "https://localhost:8080/"
        },
        "id": "YxYWoO8Iz8QD",
        "outputId": "e2fa8f35-7916-42de-aff2-64686b3fb21a"
      },
      "execution_count": 6,
      "outputs": [
        {
          "output_type": "stream",
          "name": "stdout",
          "text": [
            "[4.6 4.4 4.8 5. ]\n",
            "Index(['python', 'java', 'django', 'devops'], dtype='object')\n"
          ]
        }
      ]
    },
    {
      "cell_type": "markdown",
      "source": [
        "## 303. Series of String\n",
        "-  You'll learn how to use String type data within your Pandas Series\n",
        "- Strings are stored as `object` dtype in pandas\n",
        "- `pandas.Series.str.upper()`\n",
        "    - Convert strings in the Series/Index to uppercase.\n",
        "    - Equivalent to :meth:`str.upper`.\n",
        "    - returns Series or Index of object\n",
        "    - returns NaN for non-string elements\n",
        "- `courses.str.contains(pat, case: 'bool' = True, flags: 'int' = 0, na=None, regex: 'bool' = True,)`\n",
        "    - Test if pattern or regex is contained within a string of a Series or Index.\n",
        "    - return boolean Series or Index based on whether a given pattern or regex is contained within a string of a Series or Index\n",
        "    - returns True if it is present, and returns False, if it is not present"
      ],
      "metadata": {
        "id": "ffsQydOe8v7z"
      }
    },
    {
      "cell_type": "code",
      "source": [
        "courses = pd.Series(['Java', 'Python', 'AWS'])\n",
        "print(courses)\n",
        "print(courses.str.upper())\n",
        "print(courses.str.contains('y'))"
      ],
      "metadata": {
        "colab": {
          "base_uri": "https://localhost:8080/"
        },
        "id": "F8AfmRdf49Fq",
        "outputId": "0293d073-f8f6-4231-dbf5-367ac0dbfd23"
      },
      "execution_count": 7,
      "outputs": [
        {
          "output_type": "stream",
          "name": "stdout",
          "text": [
            "0      Java\n",
            "1    Python\n",
            "2       AWS\n",
            "dtype: object\n",
            "0      JAVA\n",
            "1    PYTHON\n",
            "2       AWS\n",
            "dtype: object\n",
            "0    False\n",
            "1     True\n",
            "2    False\n",
            "dtype: bool\n"
          ]
        }
      ]
    },
    {
      "cell_type": "markdown",
      "source": [
        "## 304. Describe\n",
        "- We'll introduce you a method `describe()` on series\n",
        "- `pandas.Series.describe(percentiles=None, include=None, exclude=None)`\n",
        "    -  returns descriptive statitics for the given series of data\n",
        "    - it'll ignore the `NaN` values\n",
        "    - it also gives percentiles\n",
        "    - by default, pandas uses precision of 6 decimals\n",
        "    - `Percentile`\n",
        "        - the percentile rank of a value tells us the percentage of values in a dataset that rank equal to or below agiven value\n",
        "        - `25th Percentile` :\n",
        "            - also known as the first, or lower quartile\n",
        "            - The 25th percentile is the value at which 25% of the answers lie below that value, and 75% of the answers lie above that value"
      ],
      "metadata": {
        "id": "BTzoWAmANGRg"
      }
    },
    {
      "cell_type": "code",
      "source": [
        "reviews = pd.Series([4.6, 4.4, 4.8, 5])\n",
        "print(reviews)\n",
        "print(\"reviews.describe():\\n\", reviews.describe())\n",
        "# only value 4.4 lie below the 25th percentile which is 4.55\n",
        "# 50% of data is below/above 50th percentile which is 4.70"
      ],
      "metadata": {
        "colab": {
          "base_uri": "https://localhost:8080/"
        },
        "id": "WRHzKPHF9Tlp",
        "outputId": "fe8c9324-e874-41ca-b754-91ba7a44a15a"
      },
      "execution_count": 8,
      "outputs": [
        {
          "output_type": "stream",
          "name": "stdout",
          "text": [
            "0    4.6\n",
            "1    4.4\n",
            "2    4.8\n",
            "3    5.0\n",
            "dtype: float64\n",
            "reviews.describe():\n",
            " count    4.000000\n",
            "mean     4.700000\n",
            "std      0.258199\n",
            "min      4.400000\n",
            "25%      4.550000\n",
            "50%      4.700000\n",
            "75%      4.850000\n",
            "max      5.000000\n",
            "dtype: float64\n"
          ]
        }
      ]
    },
    {
      "cell_type": "markdown",
      "source": [
        "## 305. DataFrame\n",
        "- DataFrame is an imporved two-dimensional array\n",
        "- They allow custom row and column indexing\n",
        "- They have various operations required for data science projects\n",
        "- Each column in a DataFrame is a Series\n",
        "- This is a DataFrame of Cricket Players across matches\n",
        "            Kohli  Rohit  Surya  Jadeja\n",
        "        I1    100    100     77      99\n",
        "        I2     50     88    110     120\n",
        "        I3     70      0      0       8\n",
        "- Each row has different player scores across matches\n",
        "- DataFrames also handle the missing data, just like Series"
      ],
      "metadata": {
        "id": "XvINU36TDaN2"
      }
    },
    {
      "cell_type": "markdown",
      "source": [
        "## 306. Create DataFrame\n",
        "- We'll start using `DataFrames`\n",
        "- It has index starting from 0 and goes till length-1\n",
        "- Each key in the dict has become a column in DataFrame\n",
        "- We have scored for each player in respective columns\n",
        "- We have three rows, representing three scores of each player\n",
        "- You can also create custom index in `DataFrames` by passing an additional parameter `index`\n",
        "- The number of items in index should be same as number of rows, otherwise You'll get a `ValueError`\n",
        "- `pd.DataFrame(data=None, index: 'Axes | None' = None, columns: 'Axes | None' = None, dtype: 'Dtype | None' = None, copy: 'bool | None' = None, )`\n",
        "    - Two-dimensional, size-mutable, potentially heterogeneous tabular data.\n",
        "    - Data structure also contains labeled axes (rows and columns).\n",
        "    - Arithmetic operations align on both row and column labels.\n",
        "    - Can be thought of as a dict-like container for Series objects.\n",
        "    - The primary pandas data structure.\n",
        "    - `data` : ndarray (structured or homogeneous), Iterable, dict, or DataFrame\n",
        "        - Dict can contain Series, arrays, constants, dataclass or list-like objects.\n",
        "        - If data is a dict, column order follows insertion-order.\n",
        "        - If a dict contains Series which have an index defined, it is aligned by its index.\n",
        "        - This alignment also occurs if data is a Series or a DataFrame itself.\n",
        "        - Alignment is done on Series/DataFrame inputs.\n",
        "        - If data is a list of dicts, column order follows insertion-order.\n",
        "    - `index` : Index or array-like\n",
        "        - Index to use for resulting frame.\n",
        "        - Will default to `RangeIndex` if no indexing information part of input data and no index provided.\n",
        "    - `columns` : Index or array-like\n",
        "        - Column labels to use for resulting frame when data does not have them, defaulting to `RangeIndex(0, 1, 2, ..., n)`.\n",
        "        - If data contains column labels, will perform column selection instead.\n",
        "    - `dtype` : dtype, default None\n",
        "        - Data type to force.\n",
        "        - Only a single dtype is allowed.\n",
        "        - If None, infer.\n",
        "    - `copy` : bool or None, default None\n",
        "        - Copy data from inputs.\n",
        "        - For dict data, the default of None behaves like ``copy=True``.  For DataFrame or 2d ndarray input, the default of None behaves like ``copy=False``.\n",
        "        - If data is a dict containing one or more Series (possibly of different dtypes), ``copy=False`` will ensure that these inputs are not copied.\n",
        "- `pandas.DataFrame.index`\n",
        "    - an attribute used to set labels/ custom index to a DataFrame\n",
        "    - The index (row labels) of the DataFrame.\n",
        "    - The index of a DataFrame is a series of labels that identify each row.\n",
        "    - The labels can be integers, strings, or any other hashable type.\n",
        "    - The index is used for label-based access and alignment, and can be accessed or modified using this attribute.\n"
      ],
      "metadata": {
        "id": "FncgzIMrEmbu"
      }
    },
    {
      "cell_type": "code",
      "source": [
        "# dataframes_demo.py\n",
        "import pandas as pd\n",
        "\n",
        "scores_dict = {'Kohli': [100, 50, 70], 'Rohit':[100, 88, 0], \\\n",
        "               'Surya':[77, 110, 0], 'Jadeja':[99, 120, 8]}\n",
        "scores = pd.DataFrame(scores_dict) # creating DataFrame from dict\n",
        "print(scores)"
      ],
      "metadata": {
        "colab": {
          "base_uri": "https://localhost:8080/"
        },
        "id": "zTg5bAJorYaP",
        "outputId": "e4e1f42b-babb-4eae-e2c0-ab7f7b3f85ee"
      },
      "execution_count": 9,
      "outputs": [
        {
          "output_type": "stream",
          "name": "stdout",
          "text": [
            "   Kohli  Rohit  Surya  Jadeja\n",
            "0    100    100     77      99\n",
            "1     50     88    110     120\n",
            "2     70      0      0       8\n"
          ]
        }
      ]
    },
    {
      "cell_type": "code",
      "source": [
        "import pandas as pd\n",
        "\n",
        "scores_dict = {'Kohli': [100, 50, 70], 'Rohit':[100, 88, 0], \\\n",
        "               'Surya':[77, 110, 0], 'Jadeja':[99, 120, 8]}\n",
        "# scores = pd.DataFrame(scores_dict) # creating DataFrame from dict\n",
        "scores = pd.DataFrame(scores_dict, index=['I1', 'I2', 'I3']) # setting custom index\n",
        "print(scores)"
      ],
      "metadata": {
        "colab": {
          "base_uri": "https://localhost:8080/"
        },
        "id": "Tvw48K7jiZ7Y",
        "outputId": "51fdb8ad-8cfe-4405-ae01-61294f703a06"
      },
      "execution_count": 10,
      "outputs": [
        {
          "output_type": "stream",
          "name": "stdout",
          "text": [
            "    Kohli  Rohit  Surya  Jadeja\n",
            "I1    100    100     77      99\n",
            "I2     50     88    110     120\n",
            "I3     70      0      0       8\n"
          ]
        }
      ]
    },
    {
      "cell_type": "code",
      "source": [
        "scores_dict = {'Kohli': [100, 50, 70], 'Rohit':[100, 88, 0], \\\n",
        "               'Surya':[77, 110, 0], 'Jadeja':[99, 120, 8]}\n",
        "scores = pd.DataFrame(scores_dict) # creating DataFrame from dict\n",
        "scores.index = ['I1', 'I2', 'I3'] # using index attribute of DataFrame to set custom index\n",
        "print(scores)"
      ],
      "metadata": {
        "colab": {
          "base_uri": "https://localhost:8080/"
        },
        "id": "JsTzfzOVleJu",
        "outputId": "a45216e4-e0ef-4c9b-970a-3528dc99973c"
      },
      "execution_count": 11,
      "outputs": [
        {
          "output_type": "stream",
          "name": "stdout",
          "text": [
            "    Kohli  Rohit  Surya  Jadeja\n",
            "I1    100    100     77      99\n",
            "I2     50     88    110     120\n",
            "I3     70      0      0       8\n"
          ]
        }
      ]
    },
    {
      "cell_type": "markdown",
      "source": [
        "## 307. Access Columns and Rows\n",
        "- You'll learn how to access the column-data and rows within a DataFrame\n",
        "- Each column in a `DataFrame` is a `Series`\n",
        "- `pandas.DataFrame.loc['index']`\n",
        "    - takes a string based custom index (not number based default index)\n",
        "    - Access a group of rows and columns by label(s) or a boolean array.\n",
        "    - ``.loc[]`` is primarily label based, but may also be used with a\n",
        "    - it raises\n",
        "        - `KeyError`\n",
        "            - If any items are not found.\n",
        "        - `IndexingError`\n",
        "            - If an indexed key is passed and its index is unalignable to the frame index.\n",
        "boolean array.\n",
        "- `pandas.DataFrame.iloc[index]`\n",
        "    - takes a integer based default index (not string based custom index)\n",
        "    - Purely integer-location based indexing for selection by position.\n",
        "    - ``.iloc[]`` is primarily integer position based (from ``0`` to ``length-1`` of the axis), but may also be used with a boolean array.\n",
        "    - ``.iloc`` will raise ``IndexError`` if a requested indexer is out-of-bounds, except *slice* indexers which allow out-of-bounds indexing (this conforms with python/numpy *slice* semantics).\n"
      ],
      "metadata": {
        "id": "LbfhOyc4q-Cb"
      }
    },
    {
      "cell_type": "code",
      "source": [
        "scores_dict = {'Kohli': [100, 50, 70], 'Rohit':[100, 88, 0], \\\n",
        "               'Surya':[77, 110, 0], 'Jadeja':[99, 120, 8]}\n",
        "scores = pd.DataFrame(scores_dict) # creating DataFrame from dict\n",
        "scores.index = ['I1', 'I2', 'I3'] # using index attribute of DataFrame to set custom index\n",
        "print(\"scores:\\n\", scores)"
      ],
      "metadata": {
        "colab": {
          "base_uri": "https://localhost:8080/"
        },
        "id": "JKZbnwDFq3Ds",
        "outputId": "34c9dc2d-f86b-44c8-9562-f5bf79e61fb4"
      },
      "execution_count": 12,
      "outputs": [
        {
          "output_type": "stream",
          "name": "stdout",
          "text": [
            "scores:\n",
            "     Kohli  Rohit  Surya  Jadeja\n",
            "I1    100    100     77      99\n",
            "I2     50     88    110     120\n",
            "I3     70      0      0       8\n"
          ]
        }
      ]
    },
    {
      "cell_type": "code",
      "source": [
        "# to access column data\n",
        "print(\"Kolhi's Scores\")\n",
        "print(\"scores['Kohli']:\\n\", scores['Kohli']) # returns the column as Series whose column name is specified\n",
        "print(\"scores.Kohli:\\n\", scores.Kohli) # returns the column by using column name as an attribute, unless it is a valid string based identifier"
      ],
      "metadata": {
        "colab": {
          "base_uri": "https://localhost:8080/"
        },
        "id": "YXBLQAZo0RsV",
        "outputId": "c214ddfe-e2b0-4134-de23-1a90a4a609b8"
      },
      "execution_count": 13,
      "outputs": [
        {
          "output_type": "stream",
          "name": "stdout",
          "text": [
            "Kolhi's Scores\n",
            "scores['Kohli']:\n",
            " I1    100\n",
            "I2     50\n",
            "I3     70\n",
            "Name: Kohli, dtype: int64\n",
            "scores.Kohli:\n",
            " I1    100\n",
            "I2     50\n",
            "I3     70\n",
            "Name: Kohli, dtype: int64\n"
          ]
        }
      ]
    },
    {
      "cell_type": "code",
      "source": [
        "# to access row data\n",
        "print(\"scores.loc['I1']:\\n\", scores.loc['I1']) # returns a row as a Series whose index is specified as custom string index\n",
        "print(\"scores.iloc[0]:\\n\", scores.iloc[0]) # returns a row as a Series whose index is specified as default integer index"
      ],
      "metadata": {
        "colab": {
          "base_uri": "https://localhost:8080/"
        },
        "id": "MmiPInPJ0Rox",
        "outputId": "6dca008a-1b5a-4ecc-fb1d-babcb13129d5"
      },
      "execution_count": 14,
      "outputs": [
        {
          "output_type": "stream",
          "name": "stdout",
          "text": [
            "scores.loc['I1']:\n",
            " Kohli     100\n",
            "Rohit     100\n",
            "Surya      77\n",
            "Jadeja     99\n",
            "Name: I1, dtype: int64\n",
            "scores.iloc[0]:\n",
            " Kohli     100\n",
            "Rohit     100\n",
            "Surya      77\n",
            "Jadeja     99\n",
            "Name: I1, dtype: int64\n"
          ]
        }
      ]
    },
    {
      "cell_type": "markdown",
      "source": [
        "## 308. Use slicing and Lists\n",
        "- `loc[]` and `iloc[]` methods allow us to do slicing and to select specific rows by passing in a list\n",
        "- `Note`: while we use string based index in `loc`, it is inclusive, unlike traditional slicing\n",
        "    - But, while using integer based index in `iloc`, it is not inclusive, it excludes hte ending\n",
        "- Key difference between string based indexing and integer based indexing is that string indices are inclusive and integer based index exclude the last element\n",
        "- we can also select specific rows by passing in a list to these methods `loc` and `iloc`"
      ],
      "metadata": {
        "id": "2PobXOF4wjXS"
      }
    },
    {
      "cell_type": "code",
      "source": [
        "# to access row data\n",
        "# print(\"scores.loc['I1']:\\n\", scores.loc['I1']) # returns a row as a Series whose index is specified as custom string index\n",
        "# print(\"scores.iloc[0]:\\n\", scores.iloc[0]) # returns a row as a Series whose index is specified as default integer index\n",
        "\n",
        "print(scores.loc['I1':'I3']) # slicing using string based index - inclusive\n",
        "print(scores.iloc[0:2]) # slicling using integer based index - excludes last element\n",
        "\n",
        "print(scores.loc['I1':]) # slicing using string based index till end\n",
        "print(scores.iloc[0:]) # slicing using integer based index till end\n",
        "\n",
        "print(scores.loc[['I1', 'I3']]) # using list of index as parameter to loc to select specific rows\n",
        "print(scores.iloc[[0, 1]]) # using list of index as parameter to loc to select specific rows"
      ],
      "metadata": {
        "colab": {
          "base_uri": "https://localhost:8080/"
        },
        "id": "cMYVR6fqr8Be",
        "outputId": "440f40eb-0ecd-4ecf-9e5a-36f3594b73bf"
      },
      "execution_count": 15,
      "outputs": [
        {
          "output_type": "stream",
          "name": "stdout",
          "text": [
            "    Kohli  Rohit  Surya  Jadeja\n",
            "I1    100    100     77      99\n",
            "I2     50     88    110     120\n",
            "I3     70      0      0       8\n",
            "    Kohli  Rohit  Surya  Jadeja\n",
            "I1    100    100     77      99\n",
            "I2     50     88    110     120\n",
            "    Kohli  Rohit  Surya  Jadeja\n",
            "I1    100    100     77      99\n",
            "I2     50     88    110     120\n",
            "I3     70      0      0       8\n",
            "    Kohli  Rohit  Surya  Jadeja\n",
            "I1    100    100     77      99\n",
            "I2     50     88    110     120\n",
            "I3     70      0      0       8\n",
            "    Kohli  Rohit  Surya  Jadeja\n",
            "I1    100    100     77      99\n",
            "I3     70      0      0       8\n",
            "    Kohli  Rohit  Surya  Jadeja\n",
            "I1    100    100     77      99\n",
            "I2     50     88    110     120\n"
          ]
        }
      ]
    },
    {
      "cell_type": "markdown",
      "source": [
        "## 309. Getting a subset\n",
        "- You'll learn how to select the subset of rows & columns, instead of getting all the rows and all the columns\n",
        "- You can combine the slicing and listing syntax and retrieve a subset of rows and columns\n"
      ],
      "metadata": {
        "id": "pcSDa7ZKocGW"
      }
    },
    {
      "cell_type": "code",
      "source": [
        "print(scores)\n",
        "print(scores.loc['I1':'I2', ['Kohli', 'Surya']]) # getting subset of scores for only Kohli and Surya\n",
        "print(scores.iloc[[0, 2], 0:3]) # getting subset of scores rows 0 & 2, and cols 0 to 2\n",
        "\n",
        "# you select specific [rows, cols] with loc and iloc\n",
        "print(scores.loc[['I1', 'I3'], ['Kohli', 'Surya']]) # using list of index as parameter to loc to select specific [rowsList, colsList]\n",
        "print(scores.iloc[[0, 1], [0, 3]]) # using list of index as parameter to loc to select specific [rowsList, colsList]"
      ],
      "metadata": {
        "colab": {
          "base_uri": "https://localhost:8080/"
        },
        "id": "Z79hgaNjjl95",
        "outputId": "cfe087a2-2e13-4aa4-8f8c-d7b80697838b"
      },
      "execution_count": 16,
      "outputs": [
        {
          "output_type": "stream",
          "name": "stdout",
          "text": [
            "    Kohli  Rohit  Surya  Jadeja\n",
            "I1    100    100     77      99\n",
            "I2     50     88    110     120\n",
            "I3     70      0      0       8\n",
            "    Kohli  Surya\n",
            "I1    100     77\n",
            "I2     50    110\n",
            "    Kohli  Rohit  Surya\n",
            "I1    100    100     77\n",
            "I3     70      0      0\n",
            "    Kohli  Surya\n",
            "I1    100     77\n",
            "I3     70      0\n",
            "    Kohli  Jadeja\n",
            "I1    100      99\n",
            "I2     50     120\n"
          ]
        }
      ]
    },
    {
      "cell_type": "markdown",
      "source": [
        "## 310. Query for data\n",
        "- You'll learn how to use boolean indexing, or pass a criteria based on which data will be selected\n",
        "- You can pass criteria as index to DataFrame, which will display only values satisfying the criteria otherwise it'll display `NaN`\n",
        "- `Boolean Indexing` : passing a criteria to DataFrame based on which data will be selected"
      ],
      "metadata": {
        "id": "R7bSZcXQp8N2"
      }
    },
    {
      "cell_type": "code",
      "source": [
        "print(scores)\n",
        "print(scores[scores>90]) # displays only thr values where the criteria is True otherwise displays NaN\n",
        "print(scores[(scores>=80) & (scores<=90)]) # passing combination of conditons"
      ],
      "metadata": {
        "colab": {
          "base_uri": "https://localhost:8080/"
        },
        "id": "2uu2vMu4pCIt",
        "outputId": "f0660f9f-763e-4441-df2c-7bbb90fb884b"
      },
      "execution_count": 17,
      "outputs": [
        {
          "output_type": "stream",
          "name": "stdout",
          "text": [
            "    Kohli  Rohit  Surya  Jadeja\n",
            "I1    100    100     77      99\n",
            "I2     50     88    110     120\n",
            "I3     70      0      0       8\n",
            "    Kohli  Rohit  Surya  Jadeja\n",
            "I1  100.0  100.0    NaN    99.0\n",
            "I2    NaN    NaN  110.0   120.0\n",
            "I3    NaN    NaN    NaN     NaN\n",
            "    Kohli  Rohit  Surya  Jadeja\n",
            "I1    NaN    NaN    NaN     NaN\n",
            "I2    NaN   88.0    NaN     NaN\n",
            "I3    NaN    NaN    NaN     NaN\n"
          ]
        }
      ]
    },
    {
      "cell_type": "markdown",
      "source": [
        "## 311. Pick a Cell\n",
        "- You'll learn how to access data in a particular cell in a DataFrame using `at` and `iat`\n",
        "- You can also assign values at the cells referred using `at` or `iat`to overwrite current data\n",
        "- `pandas.DataFrame.at[rowLabel, colLabel]`\n",
        "    - access a single value for a row/column label pair.\n",
        "    - Similar to ``loc``, in that both provide label-based lookups.\n",
        "    - Use ``at`` if you only need to get or set a single value in a DataFrame or Series.\n",
        "    - raises\n",
        "        - `KeyError`\n",
        "            - If getting a value and 'label' does not exist in a DataFrame or Series.\n",
        "        - `ValueError`\n",
        "            - If row/column label pair is not a tuple or if any label from the pair is not a scalar for DataFrame.\n",
        "            - If label is list-like (*excluding* NamedTuple) for Series.\n",
        "- `pandas.DataFrame.iat[rowInteger, colInteger]`\n",
        "    - Access a single value for a row/column pair by integer position.\n",
        "    - Similar to ``iloc``, in that both provide integer-based lookups.\n",
        "    - Use ``iat`` if you only need to get or set a single value in a DataFrame or Series.\n",
        "    - raises `IndexError` : When integer position is out of bounds."
      ],
      "metadata": {
        "id": "WL11U0Y-3Zv5"
      }
    },
    {
      "cell_type": "code",
      "source": [
        "print(scores)\n",
        "\n",
        "print(\"scores.at['I2', 'Kohli']:\", scores.at['I2', 'Kohli']) # returns only single value at specified row, col using string/label index\n",
        "print(\"scores.iat[2, 0]:\", scores.iat[2, 0]) # returns only single value at specified row. col using integer index\n",
        "\n",
        "scores.at['I2', 'Kohli'] = 150 # update a value using `at` attribute\n",
        "print(\"Updated scores.at['I2', 'Kohli']:\", scores.at['I2', 'Kohli'])\n",
        "\n",
        "scores.iat[2, 0] = 200 # update a value using `iat` attribute\n",
        "print(\"Updated scores.iat[2, 0]:\", scores.iat[2, 0])\n"
      ],
      "metadata": {
        "colab": {
          "base_uri": "https://localhost:8080/"
        },
        "id": "j74knW-trPzi",
        "outputId": "b348e4eb-ca8b-440d-d167-d96924d8eaaf"
      },
      "execution_count": 18,
      "outputs": [
        {
          "output_type": "stream",
          "name": "stdout",
          "text": [
            "    Kohli  Rohit  Surya  Jadeja\n",
            "I1    100    100     77      99\n",
            "I2     50     88    110     120\n",
            "I3     70      0      0       8\n",
            "scores.at['I2', 'Kohli']: 50\n",
            "scores.iat[2, 0]: 70\n",
            "Updated scores.at['I2', 'Kohli']: 150\n",
            "Updated scores.iat[2, 0]: 200\n"
          ]
        }
      ]
    },
    {
      "cell_type": "markdown",
      "source": [
        "## 312. Describing and Transposing\n",
        "- You'll learn how to get some statistics out of our DataFrame\n",
        "- By default, pandas uses precision of 6 decimals\n",
        "- But you can change it using `pandas.set_option()`\n",
        "- `pandas.DataFrame.describe()`\n",
        "    - returns descriptive statistics for a DataFrame\n",
        "- `pandas.DataFrame.T`\n",
        "    - returns : DataFrame, The transposed DataFrame."
      ],
      "metadata": {
        "id": "p3jZrOKrSOGw"
      }
    },
    {
      "cell_type": "code",
      "source": [
        "print(scores)\n",
        "print(scores.mean()) # returns mean for each column in DataFrame\n",
        "print(scores.describe()) # returns descriptive statistics for seach column"
      ],
      "metadata": {
        "colab": {
          "base_uri": "https://localhost:8080/"
        },
        "id": "cQKhn9D3P2bI",
        "outputId": "87370cde-a0fd-401c-c7c9-4f828e010f16"
      },
      "execution_count": 19,
      "outputs": [
        {
          "output_type": "stream",
          "name": "stdout",
          "text": [
            "    Kohli  Rohit  Surya  Jadeja\n",
            "I1    100    100     77      99\n",
            "I2    150     88    110     120\n",
            "I3    200      0      0       8\n",
            "Kohli     150.000000\n",
            "Rohit      62.666667\n",
            "Surya      62.333333\n",
            "Jadeja     75.666667\n",
            "dtype: float64\n",
            "       Kohli       Rohit       Surya      Jadeja\n",
            "count    3.0    3.000000    3.000000    3.000000\n",
            "mean   150.0   62.666667   62.333333   75.666667\n",
            "std     50.0   54.601587   56.447616   59.534304\n",
            "min    100.0    0.000000    0.000000    8.000000\n",
            "25%    125.0   44.000000   38.500000   53.500000\n",
            "50%    150.0   88.000000   77.000000   99.000000\n",
            "75%    175.0   94.000000   93.500000  109.500000\n",
            "max    200.0  100.000000  110.000000  120.000000\n"
          ]
        }
      ]
    },
    {
      "cell_type": "code",
      "source": [
        "pd.set_option('display.precision', 2) # sets precision to 2 decimals\n",
        "print(scores.describe()) # print descriptive statistics"
      ],
      "metadata": {
        "colab": {
          "base_uri": "https://localhost:8080/"
        },
        "id": "f0FJX4aERTQ_",
        "outputId": "6aaa30f1-6f13-405b-a21f-4c7b373f1242"
      },
      "execution_count": 20,
      "outputs": [
        {
          "output_type": "stream",
          "name": "stdout",
          "text": [
            "       Kohli   Rohit   Surya  Jadeja\n",
            "count    3.0    3.00    3.00    3.00\n",
            "mean   150.0   62.67   62.33   75.67\n",
            "std     50.0   54.60   56.45   59.53\n",
            "min    100.0    0.00    0.00    8.00\n",
            "25%    125.0   44.00   38.50   53.50\n",
            "50%    150.0   88.00   77.00   99.00\n",
            "75%    175.0   94.00   93.50  109.50\n",
            "max    200.0  100.00  110.00  120.00\n"
          ]
        }
      ]
    },
    {
      "cell_type": "code",
      "source": [
        "print(scores.T) # transpose of a DataFrame"
      ],
      "metadata": {
        "colab": {
          "base_uri": "https://localhost:8080/"
        },
        "id": "rf0U5T9mT7Gi",
        "outputId": "d84c4708-c5b9-4661-a463-b9c4a57e5f2c"
      },
      "execution_count": 21,
      "outputs": [
        {
          "output_type": "stream",
          "name": "stdout",
          "text": [
            "         I1   I2   I3\n",
            "Kohli   100  150  200\n",
            "Rohit   100   88    0\n",
            "Surya    77  110    0\n",
            "Jadeja   99  120    8\n"
          ]
        }
      ]
    },
    {
      "cell_type": "code",
      "source": [
        "print(scores.T.describe()) # returns descriptive statistics on the transposed DataFrame"
      ],
      "metadata": {
        "colab": {
          "base_uri": "https://localhost:8080/"
        },
        "id": "jzJkwpLzUuxj",
        "outputId": "7dc49040-68eb-4b10-b4c9-78775ca2ec41"
      },
      "execution_count": 22,
      "outputs": [
        {
          "output_type": "stream",
          "name": "stdout",
          "text": [
            "           I1      I2      I3\n",
            "count    4.00    4.00    4.00\n",
            "mean    94.00  117.00   52.00\n",
            "std     11.34   25.74   98.74\n",
            "min     77.00   88.00    0.00\n",
            "25%     93.50  104.50    0.00\n",
            "50%     99.50  115.00    4.00\n",
            "75%    100.00  127.50   56.00\n",
            "max    100.00  150.00  200.00\n"
          ]
        }
      ]
    },
    {
      "cell_type": "markdown",
      "source": [
        "## 313. Sorting\n",
        "- You'll learn how to sort the data in DataFrames using col index, row index, and also the values\n",
        "- `pandas.DataFrame.sort_index(*, axis: 'Axis' = 0, level: 'IndexLabel | None' = None, ascending: 'bool | Sequence[bool]' = True, inplace: 'bool' = False, kind: 'SortKind' = 'quicksort', na_position: 'NaPosition' = 'last', sort_remaining: 'bool' = True, ignore_index: 'bool' = False, key: 'IndexKeyFunc | None' = None, )`\n",
        "    - sorts with row-index by default in ascending order, can also sort with column\n",
        "    - Sort object by labels (along an axis).\n",
        "    - The original DataFrame sorted by the labels or None if ``inplace=True``\n",
        "    - `axis` : {0 or 'index', 1 or 'columns'}, default 0\n",
        "        - The axis along which to sort.\n",
        "        - The value 0 identifies the rows, and 1 identifies the columns.\n",
        "    - `level` : int or level name or list of ints or list of level names\n",
        "        - If not None, sort on values in specified index level(s).\n",
        "    - `ascending` : bool or list-like of bools, default True\n",
        "        - Sort ascending vs. descending.\n",
        "        - When the index is a MultiIndex the sort direction can be controlled for each level individually.\n",
        "    - `inplace` : bool, default False\n",
        "        - Whether to modify the DataFrame rather than creating a new one.\n",
        "    - `kind` : {'quicksort', 'mergesort', 'heapsort', 'stable'}, default 'quicksort'\n",
        "        - Choice of sorting algorithm.\n",
        "        - See also :func:`numpy.sort` for more information.\n",
        "        - `mergesort` and `stable` are the only stable algorithms.\n",
        "        - For DataFrames, this option is only applied when sorting on a single column or label.\n",
        "    - `na_position` : {'first', 'last'}, default 'last'\n",
        "        - Puts NaNs at the beginning if `first`; `last` puts NaNs at the end.\n",
        "        - Not implemented for MultiIndex.\n",
        "    - `sort_remaining` : bool, default True\n",
        "        - If True and sorting by level and index is multilevel, sort by other levels too (in order) after sorting by specified level.\n",
        "    - `ignore_index` : bool, default False\n",
        "        - If True, the resulting axis will be labeled 0, 1, …, n - 1.\n",
        "    - `key` : callable, optional\n",
        "        - If not None, apply the key function to the index values before sorting.\n",
        "        - This is similar to the `key` argument in the builtin :meth:`sorted` function, with the notable difference that this `key` function should be *vectorized*.\n",
        "        - It should expect an ``Index`` and return an ``Index`` of the same shape. For MultiIndex inputs, the key is applied *per level*.\n",
        "- `pandas.DataFrame.sort_values(by: 'IndexLabel', *, axis: 'Axis' = 0, ascending: 'bool | list[bool] | tuple[bool, ...]' = True, inplace: 'bool' = False, kind: 'SortKind' = 'quicksort', na_position: 'str' = 'last', ignore_index: 'bool' = False, key: 'ValueKeyFunc | None' = None, )`\n",
        "    - sorts valus in row/col as per specified axis of col/row\n",
        "    - by default, sorts in ascending order\n",
        "    - returns DataFrame with sorted values or None if ``inplace=True``\n",
        "    - `by` : str or list of str\n",
        "        - Name or list of names to sort by.\n",
        "        - if `axis` is 0 or `'index'` then `by` may contain index levels and/or column labels.\n",
        "        - if `axis` is 1 or `'columns'` then `by` may contain column levels and or index labels.\n",
        "    - `axis` : \"{0 or 'index', 1 or 'columns'}\", default 0\n",
        "        - Axis to be sorted.\n",
        "    - `ascending` : bool or list of bool, default True\n",
        "        - Sort ascending vs. descending. Specify list for multiple sort orders.\n",
        "        - If this is a list of bools, must match the length of the by.\n",
        "    - `inplace` : bool, default False\n",
        "        - If True, perform operation in-place.\n",
        "    - `kind` : {'quicksort', 'mergesort', 'heapsort', 'stable'}, default 'quicksort'\n",
        "        - Choice of sorting algorithm. See also :func:`numpy.sort` for more information.\n",
        "        - `mergesort` and `stable` are the only stable algorithms.\n",
        "        - For DataFrames, this option is only applied when sorting on a single column or label.\n",
        "    - `na_position` : {'first', 'last'}, default 'last'\n",
        "        - Puts NaNs at the beginning if `first`; `last` puts NaNs at the end.\n",
        "    - `ignore_index` : bool, default False\n",
        "        - If True, the resulting axis will be labeled 0, 1, …, n - 1.\n",
        "    - `key` : callable, optional\n",
        "        - Apply the key function to the values before sorting. This is similar to the `key` argument in the `builtin` :meth:`sorted` function, with the notable difference that this `key` function should be *vectorized*.\n",
        "        - It should expect a ``Series`` and return a Series with the same shape as the input.\n",
        "        - It will be applied to each column in `by` independently.\n",
        "\n"
      ],
      "metadata": {
        "id": "q1qUbEBBVVZH"
      }
    },
    {
      "cell_type": "code",
      "source": [
        "print(scores)\n",
        "print(scores.sort_index())"
      ],
      "metadata": {
        "colab": {
          "base_uri": "https://localhost:8080/"
        },
        "id": "iW2baz9FVLXF",
        "outputId": "88c11610-e3e0-483b-fa94-529cc3b1ed07"
      },
      "execution_count": 23,
      "outputs": [
        {
          "output_type": "stream",
          "name": "stdout",
          "text": [
            "    Kohli  Rohit  Surya  Jadeja\n",
            "I1    100    100     77      99\n",
            "I2    150     88    110     120\n",
            "I3    200      0      0       8\n",
            "    Kohli  Rohit  Surya  Jadeja\n",
            "I1    100    100     77      99\n",
            "I2    150     88    110     120\n",
            "I3    200      0      0       8\n"
          ]
        }
      ]
    },
    {
      "cell_type": "code",
      "source": [
        "print(scores.sort_index(ascending=False)) # sorts rows/index in descending order"
      ],
      "metadata": {
        "colab": {
          "base_uri": "https://localhost:8080/"
        },
        "id": "vZh_AtSFVhQ6",
        "outputId": "042ce393-a8ce-4651-b330-4d9c3c44b39d"
      },
      "execution_count": 24,
      "outputs": [
        {
          "output_type": "stream",
          "name": "stdout",
          "text": [
            "    Kohli  Rohit  Surya  Jadeja\n",
            "I3    200      0      0       8\n",
            "I2    150     88    110     120\n",
            "I1    100    100     77      99\n"
          ]
        }
      ]
    },
    {
      "cell_type": "code",
      "source": [
        "print(scores.sort_index(axis=1, ascending=False)) # sorts column names in descending order"
      ],
      "metadata": {
        "colab": {
          "base_uri": "https://localhost:8080/"
        },
        "id": "expgvnEXtzmR",
        "outputId": "04869ea5-bf28-4f0a-e43e-77e54213b110"
      },
      "execution_count": 25,
      "outputs": [
        {
          "output_type": "stream",
          "name": "stdout",
          "text": [
            "    Surya  Rohit  Kohli  Jadeja\n",
            "I1     77    100    100      99\n",
            "I2    110     88    150     120\n",
            "I3      0      0    200       8\n"
          ]
        }
      ]
    },
    {
      "cell_type": "code",
      "source": [
        "print(scores.sort_index(axis=1)) # sorts column names in ascending order"
      ],
      "metadata": {
        "colab": {
          "base_uri": "https://localhost:8080/"
        },
        "id": "yFb9t3LAuNyJ",
        "outputId": "ddedb5e3-22a5-4bf5-ada7-00df440e0dff"
      },
      "execution_count": 26,
      "outputs": [
        {
          "output_type": "stream",
          "name": "stdout",
          "text": [
            "    Jadeja  Kohli  Rohit  Surya\n",
            "I1      99    100    100     77\n",
            "I2     120    150     88    110\n",
            "I3       8    200      0      0\n"
          ]
        }
      ]
    },
    {
      "cell_type": "code",
      "source": [
        "print(scores.sort_values(by='I1', axis=1)) # to sort values in row I1 by column"
      ],
      "metadata": {
        "colab": {
          "base_uri": "https://localhost:8080/"
        },
        "id": "b_tDvDksug_I",
        "outputId": "5d29b13e-2d72-442a-cfe3-b539030200c2"
      },
      "execution_count": 27,
      "outputs": [
        {
          "output_type": "stream",
          "name": "stdout",
          "text": [
            "    Surya  Jadeja  Kohli  Rohit\n",
            "I1     77      99    100    100\n",
            "I2    110     120    150     88\n",
            "I3      0       8    200      0\n"
          ]
        }
      ]
    },
    {
      "cell_type": "code",
      "source": [
        "print(scores.sort_values(by='I1', axis=1, ascending=False)) # to sort values in row I1 by column in descending order"
      ],
      "metadata": {
        "colab": {
          "base_uri": "https://localhost:8080/"
        },
        "id": "TrCsS5Zkwc2Y",
        "outputId": "bdfbe665-d1d1-4800-8764-b0f163e606eb"
      },
      "execution_count": 28,
      "outputs": [
        {
          "output_type": "stream",
          "name": "stdout",
          "text": [
            "    Kohli  Rohit  Jadeja  Surya\n",
            "I1    100    100      99     77\n",
            "I2    150     88     120    110\n",
            "I3    200      0       8      0\n"
          ]
        }
      ]
    },
    {
      "cell_type": "markdown",
      "source": [
        "## 314. Working with CSV files\n",
        "- One of the popular file formats used in Big Data and data science is `.csv` format\n",
        "- `CSV` stands for \"Comma Separated Values\" or \"Character Separated Values\"\n",
        "- First row in csv file indicates, the column names or meta-data of the data that will follow, and rest of the lines have the data\n",
        "- Each line has the values that are separated by commas\n",
        "- pandas make it super-easy to load and work with the csv data\n",
        "- we can create a `DataFrame` by simply using `pandas.read_csv()` method, provide the path to the csv file and the data will be loaded into the DataFrame using which you can do all the operations you've learnt so far\n",
        "- You can also easily write a DataFrame using `pandas.DataFrame.to_csv()` method\n",
        "-\n",
        "``` csv\n",
        "first_name,last_name,email,phone\n",
        "john,feguson,john@feguson.com,1234567890\n",
        "doug,bailey,doug@bailey.com,1234567891\n",
        "bob,palmer,bob@palmer.com,1234567892\n",
        "ram,sundar,ram@sundar.com,1234567893\n",
        "```"
      ],
      "metadata": {
        "id": "YulHYngXxcKu"
      }
    },
    {
      "cell_type": "markdown",
      "source": [
        "## 315. Read Data\n",
        "- You'll see how easy it is to create a DataFrame using the data in a CSV file\n",
        "- Sometimes, we might not have the meta-data in csv which are column headings, in that case if you want to manually assign column headings, use argument `names` as a list of column names while calling `read_csv()` method\n",
        "-  `pandas.read_csv(filepath_or_buffer: 'FilePath | ReadCsvBuffer[bytes] | ReadCsvBuffer[str]', *, sep: 'str | None | lib.NoDefault' = <no_default>, delimiter: 'str | None | lib.NoDefault' = None, header: \"int | Sequence[int] | None | Literal['infer']\" = 'infer', names: 'Sequence[Hashable] | None | lib.NoDefault' = <no_default>, index_col: 'IndexLabel | Literal[False] | None' = None, usecols: 'UsecolsArgType' = None, dtype: 'DtypeArg | None' = None, engine: 'CSVEngine | None' = None, converters: 'Mapping[Hashable, Callable] | None' = None, true_values: 'list | None' = None, false_values: 'list | None' = None, skipinitialspace: 'bool' = False, skiprows: 'list[int] | int | Callable[[Hashable], bool] | None' = None, skipfooter: 'int' = 0, nrows: 'int | None' = None, na_values: 'Hashable | Iterable[Hashable] | Mapping[Hashable, Iterable[Hashable]] | None' = None, keep_default_na: 'bool' = True, na_filter: 'bool' = True, verbose: 'bool | lib.NoDefault' = <no_default>, skip_blank_lines: 'bool' = True, parse_dates: 'bool | Sequence[Hashable] | None' = None, infer_datetime_format: 'bool | lib.NoDefault' = <no_default>, keep_date_col: 'bool | lib.NoDefault' = <no_default>, date_parser: 'Callable | lib.NoDefault' = <no_default>, date_format: 'str | dict[Hashable, str] | None' = None, dayfirst: 'bool' = False, cache_dates: 'bool' = True, iterator: 'bool' = False, chunksize: 'int | None' = None, compression: 'CompressionOptions' = 'infer', thousands: 'str | None' = None, decimal: 'str' = '.', lineterminator: 'str | None' = None, quotechar: 'str' = '\"', quoting: 'int' = 0, doublequote: 'bool' = True, escapechar: 'str | None' = None, comment: 'str | None' = None, encoding: 'str | None' = None, encoding_errors: 'str | None' = 'strict', dialect: 'str | csv.Dialect | None' = None, on_bad_lines: 'str' = 'error', delim_whitespace: 'bool | lib.NoDefault' = <no_default>, low_memory: 'bool' = True, memory_map: 'bool' = False, float_precision: \"Literal['high', 'legacy'] | None\" = None, storage_options: 'StorageOptions | None' = None, dtype_backend: 'DtypeBackend | lib.NoDefault' = <no_default>, )`\n",
        "    - Read a comma-separated values (csv) file into DataFrame.\n",
        "    - Also supports optionally iterating or breaking of the file\n",
        "into chunks."
      ],
      "metadata": {
        "id": "i59k-JrJzl7g"
      }
    },
    {
      "cell_type": "code",
      "source": [
        "import os\n",
        "os.getcwd()\n",
        "os.chdir(r'C:\\Users\\surya\\Downloads\\surya_learning_arena\\python_lang\\Udemy-_Python_for_beginners\\35. Additional Content - Pandas')\n",
        "os.getcwd()"
      ],
      "metadata": {
        "colab": {
          "base_uri": "https://localhost:8080/"
        },
        "id": "-58XS8YYHvyg",
        "outputId": "85116a78-02aa-44a4-df38-fded07b2b158"
      },
      "execution_count": 29,
      "outputs": [
        {
          "output_type": "execute_result",
          "data": {
            "text/plain": [
              "'C:\\\\Users\\\\surya\\\\Downloads\\\\surya_learning_arena\\\\python_lang\\\\Udemy-_Python_for_beginners\\\\35. Additional Content - Pandas'"
            ]
          },
          "metadata": {},
          "execution_count": 29
        }
      ]
    },
    {
      "cell_type": "code",
      "source": [
        "customer_df = pd.read_csv('customer.csv')\n",
        "print(customer_df)"
      ],
      "metadata": {
        "colab": {
          "base_uri": "https://localhost:8080/"
        },
        "id": "z-CFvudpwx8r",
        "outputId": "70941acd-8445-4ab5-9196-389944790049"
      },
      "execution_count": 30,
      "outputs": [
        {
          "output_type": "stream",
          "name": "stdout",
          "text": [
            "  first_name last_name             email       phone\n",
            "0       john   feguson  john@feguson.com  1234567890\n",
            "1       doug    bailey   doug@bailey.com  1234567891\n",
            "2        bob    palmer    bob@palmer.com  1234567892\n",
            "3        ram    sundar    ram@sundar.com  1234567893\n"
          ]
        }
      ]
    },
    {
      "cell_type": "code",
      "source": [
        "customer_df = pd.read_csv('customer.csv', # csvfile name\n",
        "                          names=['first_name', 'last_name', 'email', 'phone'], # names of columns\n",
        "                          header=0) # setting header to 0 to override the header row\n",
        "print(customer_df)"
      ],
      "metadata": {
        "colab": {
          "base_uri": "https://localhost:8080/"
        },
        "id": "joAJAk1kLQXm",
        "outputId": "06fff68f-b131-4177-f0c1-f755283b5a45"
      },
      "execution_count": 31,
      "outputs": [
        {
          "output_type": "stream",
          "name": "stdout",
          "text": [
            "  first_name last_name             email       phone\n",
            "0       john   feguson  john@feguson.com  1234567890\n",
            "1       doug    bailey   doug@bailey.com  1234567891\n",
            "2        bob    palmer    bob@palmer.com  1234567892\n",
            "3        ram    sundar    ram@sundar.com  1234567893\n"
          ]
        }
      ]
    },
    {
      "cell_type": "markdown",
      "source": [
        "## 316. Write Data\n",
        "- You'll write the data within the DataFrame to a new CSV file\n",
        "- `customer_df.to_csv(path_or_buf: 'FilePath | WriteBuffer[bytes] | WriteBuffer[str] | None' = None, *, sep: 'str' = ',', na_rep: 'str' = '', float_format: 'str | Callable | None' = None, columns: 'Sequence[Hashable] | None' = None, header: 'bool_t | list[str]' = True, index: 'bool_t' = True, index_label: 'IndexLabel | None' = None, mode: 'str' = 'w', encoding: 'str | None' = None, compression: 'CompressionOptions' = 'infer', quoting: 'int | None' = None, quotechar: 'str' = '\"', lineterminator: 'str | None' = None, chunksize: 'int | None' = None, date_format: 'str | None' = None, doublequote: 'bool_t' = True, escapechar: 'str | None' = None, decimal: 'str' = '.', errors: 'OpenFileErrors' = 'strict', storage_options: 'StorageOptions | None' = None, )`\n",
        "    - it is very useful if you're getting data from another stream such as a database, or an external system, you can manipulate the data and write/save it as a csv\n",
        "    - By default, it'll write the index of DataFrame as a separate column into the CSV file, if you don't want it, use `index=False` argument while using `to_csv()` method\n",
        "    - Write object to a comma-separated values (csv) file.\n",
        "    - returns None or str, If `path_or_buf` is None, returns the resulting csv format as a string. Otherwise returns None.\n"
      ],
      "metadata": {
        "id": "2uMw5si5MykJ"
      }
    },
    {
      "cell_type": "code",
      "source": [
        "customer_df.to_csv('customer_df.csv', index=False)"
      ],
      "metadata": {
        "id": "DF7MZQ8DMQ4q"
      },
      "execution_count": 32,
      "outputs": []
    },
    {
      "cell_type": "code",
      "source": [],
      "metadata": {
        "id": "TyA6pD_gNOr-"
      },
      "execution_count": 32,
      "outputs": []
    }
  ]
}