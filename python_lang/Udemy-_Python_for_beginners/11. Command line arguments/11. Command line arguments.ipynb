{
  "nbformat": 4,
  "nbformat_minor": 0,
  "metadata": {
    "colab": {
      "provenance": [],
      "toc_visible": true
    },
    "kernelspec": {
      "name": "python3",
      "display_name": "Python 3"
    },
    "language_info": {
      "name": "python"
    }
  },
  "cells": [
    {
      "cell_type": "markdown",
      "source": [
        "## 91. Introduction\n",
        "- Command Line Arguments\n",
        "    - are the arguments that are passed when python program is run\n",
        "    - values passed as arguments can be used inside our program\n",
        "    - usecases include\n",
        "        - passing file location dynamically instead of hard coding it\n",
        "        - passing database name/connection URL can be passed\n",
        "        - passing Remote IP to which we want to connect\n",
        "        - etc.\n",
        "    - dynamic values are passed by python runtime through a list ```argv```\n",
        "    - ```argv``` list is in ```sys``` module\n",
        "    - elements of ```argv``` list can be accessed like  ```sys.argv[0]```"
      ],
      "metadata": {
        "id": "w7UlAY3HDmfw"
      }
    },
    {
      "cell_type": "markdown",
      "source": [
        "## 92. command line arguments"
      ],
      "metadata": {
        "id": "rapF1EINGDVY"
      }
    },
    {
      "cell_type": "code",
      "execution_count": null,
      "metadata": {
        "id": "715JVFdLDjKQ"
      },
      "outputs": [],
      "source": [
        "# demo.py 123 456 789\n",
        "import sys\n",
        "lst = sys.argv\n",
        "\n",
        "# display the commandline arguments\n",
        "for i in lst: print(i)\n",
        "\n",
        "# display the commandline arguments length\n",
        "print(len(lst))\n",
        "\n",
        "# script/program name\n",
        "print(lst[0])"
      ]
    },
    {
      "cell_type": "markdown",
      "source": [
        "## 93. command line arguments in PyCharm"
      ],
      "metadata": {
        "id": "r5ftxgbcIcC9"
      }
    },
    {
      "cell_type": "code",
      "source": [
        "# demo.py 123 456 789\n",
        "import sys\n",
        "\n",
        "lst = sys.argv\n",
        "for i in lst: print(i)\n",
        "print(len(lst))\n",
        "print(lst[0])"
      ],
      "metadata": {
        "id": "nySd_i7EGWjP"
      },
      "execution_count": null,
      "outputs": []
    },
    {
      "cell_type": "markdown",
      "source": [
        "## 94. product of command line arguments"
      ],
      "metadata": {
        "id": "ZAUPb9LoJQf3"
      }
    },
    {
      "cell_type": "code",
      "source": [
        "# product.py 5 6\n",
        "import sys\n",
        "lst = sys.argv\n",
        "print('Product is: ', int(lst[1])*int(lst[2]))"
      ],
      "metadata": {
        "id": "9QBuRAMdJ0z5"
      },
      "execution_count": null,
      "outputs": []
    },
    {
      "cell_type": "markdown",
      "source": [
        "## Assignment 8 : Command line arguments"
      ],
      "metadata": {
        "id": "-NQzDEouLCg_"
      }
    },
    {
      "cell_type": "code",
      "source": [
        "# atm.py\n",
        "import sys\n",
        "accBalance = 10000\n",
        "\n",
        "ch = int(sys.argv[1])\n",
        "print('Options are: \\n1. Check Balance\\n2. WithDraw\\n3. Deposit Cash\\n4. Deposit Check')\n",
        "if ch == 1:\n",
        "    print('Balance:', accBalance)\n",
        "elif ch == 2:\n",
        "    amt = int(sys.argv[2])\n",
        "    accBalance-=amt\n",
        "    print('Withdrew:', amt, \"Account Balance:\", accBalance)\n",
        "elif ch == 3:\n",
        "    amt = int(sys.argv[2])\n",
        "    accBalance+=amt\n",
        "    print('Cash Deposited:', amt, \"Account Balance:\", accBalance)\n",
        "elif ch == 4:\n",
        "    amt = int(sys.argv[2])\n",
        "    accBalance+=amt\n",
        "    print('Check Deposited:', amt, \"Account Balance:\", accBalance)\n",
        "else:\n",
        "    print('Invalid Option !!')"
      ],
      "metadata": {
        "id": "JdE3G-OtJ0v-"
      },
      "execution_count": null,
      "outputs": []
    },
    {
      "cell_type": "code",
      "source": [],
      "metadata": {
        "id": "kM5_sRnTNe2A"
      },
      "execution_count": 9,
      "outputs": []
    }
  ]
}