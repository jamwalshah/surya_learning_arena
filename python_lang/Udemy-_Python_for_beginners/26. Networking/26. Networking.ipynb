{
  "cells": [
    {
      "cell_type": "markdown",
      "metadata": {
        "id": "sI8u3Nxaz1fl"
      },
      "source": [
        "## 235. Introduction\n",
        "- In this section we'll learn how to connect to a URL, access the resources at that URL & download them\n",
        "- We'll also learn hot to download images from the internet or from connecting to a particular URL using the ```urllib``` module in python\n",
        "- We'll also do socket programming, which is low level programming by establishing a connection between the server and the client through ```socket``` module\n",
        "- At last, we'll send out emails by creating a python email client using ```smtplib``` module"
      ]
    },
    {
      "cell_type": "markdown",
      "metadata": {
        "id": "MiyLhaPp1OK8"
      },
      "source": [
        "## 236. Downloading an HTML\n",
        "- Learn how to access a URL and download the HTML page/contents by hitting a particular URL\n",
        "- Launch your web browser and open https://www.python.org because we are going to access this URL from our python script an download this entire HTML page\n",
        "- ```urllib.request.urlopen(URL)```\n",
        "    - Open the specified string URL or request object, returns a ```http.client.HTTPResponse``` object\n",
        "- ```url.read(n)```\n",
        "    - return and read upto 'n' bytes, returns ```bytes``` type\n",
        "- ```urllib.error.HTTPError```\n",
        "    - raised when HTTP error occurs\n",
        "- ```url.close()```\n",
        "    - Flush & close the IO object"
      ]
    },
    {
      "cell_type": "code",
      "execution_count": null,
      "metadata": {
        "colab": {
          "base_uri": "https://localhost:8080/"
        },
        "id": "frWz6OvqW0B1",
        "outputId": "b667b910-d205-4b96-9ef4-bdc8f96f84c1"
      },
      "outputs": [
        {
          "data": {
            "text/plain": [
              "'C:\\\\Users\\\\surya\\\\Downloads\\\\surya_learning_arena\\\\python_lang\\\\Udemy-_Python_for_beginners\\\\26. Networking'"
            ]
          },
          "execution_count": 1,
          "metadata": {},
          "output_type": "execute_result"
        }
      ],
      "source": [
        "import os\n",
        "os.getcwd()\n",
        "os.chdir(r'C:\\Users\\surya\\Downloads\\surya_learning_arena\\python_lang\\Udemy-_Python_for_beginners\\26. Networking')\n",
        "os.getcwd()"
      ]
    },
    {
      "cell_type": "code",
      "execution_count": null,
      "metadata": {
        "id": "LHSWikmdzzB3"
      },
      "outputs": [],
      "source": [
        "# networking\n",
        "# urllibdemo.py\n",
        "\n",
        "import urllib.request\n",
        "try:\n",
        "        url = urllib.request.urlopen(\"https://www.python.org/\")\n",
        "        # print(type(url)) # debug\n",
        "        content = url.read()\n",
        "        # print(type(content)) # debug\n",
        "        url.close()\n",
        "except urllib.error.HTTPError:\n",
        "        print(\"The webpage is not found\")\n",
        "        exit()\n",
        "\n",
        "f = open('python.html', \"wb\")\n",
        "f.write(content)\n",
        "f.close()"
      ]
    },
    {
      "cell_type": "markdown",
      "metadata": {
        "id": "kvmx_jaxaGBk"
      },
      "source": [
        "## 237. Downloading an Image\n",
        "- Learn how to download images from the internet using urllib.request\n",
        "- on the website of https://www.python.org/ , Right click on image and open in new tab, and then copy the URL of that image which opened in new tab\n",
        "- ```urllib.request.urlretrieve(url, filename=None)```\n",
        "    - retrieves a a URL into temporary location on disk\n",
        "    - url : url that you want to retrieve\n",
        "    - filename : filename with which you want to save on your local machine"
      ]
    },
    {
      "cell_type": "code",
      "execution_count": null,
      "metadata": {
        "colab": {
          "base_uri": "https://localhost:8080/"
        },
        "id": "1WT2lQ--wDff",
        "outputId": "3f3d7385-bd21-4708-ef78-4a84d9e4c833"
      },
      "outputs": [
        {
          "data": {
            "text/plain": [
              "'C:\\\\Users\\\\surya\\\\Downloads\\\\surya_learning_arena\\\\python_lang\\\\Udemy-_Python_for_beginners\\\\26. Networking'"
            ]
          },
          "execution_count": 3,
          "metadata": {},
          "output_type": "execute_result"
        }
      ],
      "source": [
        "import os\n",
        "os.getcwd()\n",
        "os.chdir(r'C:\\Users\\surya\\Downloads\\surya_learning_arena\\python_lang\\Udemy-_Python_for_beginners\\26. Networking')\n",
        "os.getcwd()"
      ]
    },
    {
      "cell_type": "code",
      "execution_count": null,
      "metadata": {
        "colab": {
          "base_uri": "https://localhost:8080/"
        },
        "id": "jz93wjVWZ51A",
        "outputId": "137968f8-29f7-43f5-884e-3fa5b70cca9b"
      },
      "outputs": [
        {
          "data": {
            "text/plain": [
              "('python.png', <http.client.HTTPMessage at 0x1ed29586f10>)"
            ]
          },
          "execution_count": 4,
          "metadata": {},
          "output_type": "execute_result"
        }
      ],
      "source": [
        "# downloadimage.py\n",
        "import urllib.request\n",
        "\n",
        "url = \"https://www.python.org/static/img/python-logo.png\"\n",
        "urllib.request.urlretrieve(url, \"python.png\")"
      ]
    },
    {
      "cell_type": "code",
      "execution_count": null,
      "metadata": {
        "colab": {
          "base_uri": "https://localhost:8080/"
        },
        "id": "t7Z3njKtwaPb",
        "outputId": "0578744b-772f-42e6-c317-bd918276aa1c"
      },
      "outputs": [
        {
          "data": {
            "text/plain": [
              "('python.png', <http.client.HTTPMessage at 0x1ed29586070>)"
            ]
          },
          "execution_count": 5,
          "metadata": {},
          "output_type": "execute_result"
        }
      ],
      "source": [
        "import urllib.request\n",
        "\n",
        "urllib.request.urlretrieve(\"https://www.python.org/static/img/python-logo.png\", \"python.png\")"
      ]
    },
    {
      "cell_type": "markdown",
      "metadata": {
        "id": "9mRHg3h-x8Jr"
      },
      "source": [
        "## 238. Socket Programming\n",
        "- Learn how to do Socket programming using the ```socket``` module in the python\n",
        "- Establish the connection between the server and the client using the TCP/IP protocol while doing socket programming\n",
        "- First create a server by opening up a socket from the ```socket``` module, then you'll ```bind``` it to a host/machine and a port number and then the server will start ```listening``` from that port on that machine, which is when the client can establish a ```connection``` by opening a socket, connecting to a server that is running\n",
        "- When a connection/request comes in from a client, the server will ```accept``` the client connection and then a connection is established, they both can ```send/receive``` messages at that point, and finally when they're done, they can ```close``` the connection\n",
        "        Client                      Server\n",
        "        socket  ------------------> socket\n",
        "        connect <------------------ bind\n",
        "        send/recv                   listen\n",
        "        close                       accept\n",
        "                                    send/recv\n",
        "                                    close\n",
        "- These are the steps involved in socket programming, and you can accomplish all these low level steps using the ```socket``` module in python"
      ]
    },
    {
      "cell_type": "markdown",
      "metadata": {
        "id": "ao20rp2222py"
      },
      "source": [
        "## 239. Create a server\n",
        "- Create a TCP/IP server that will listen on a port for client's requests\n",
        "- ```socket.socket(Family=AF_INET, TypeOfConnection=socket.SOCK_STREAM)```\n",
        "    - used at server as well as client side\n",
        "    - Creates a socket which can be used to make TCP/IP connections or communication\n",
        "    - in case no parameters are passed, it takes IPv4(```Family=AF_INET```) and TCP/IP(```TypeOfConnection=socket.SOCK_STREAM```)\n",
        "- ```socket.AF_INET```\n",
        "    - Specifies IP v4 Address Family\n",
        "- ```socket.AF_INET6```\n",
        "    - Specifies IP v6 Address Family\n",
        "- ```socket.SOCK_STREAM```\n",
        "    - represents TCP/IP communication, specifies type of communication such as TCP/IP or UDP, etc\n",
        "- ```socket.socket.bind(address)```\n",
        "    - used at server end\n",
        "    - Binds/associates a socket to an address for incoming connection requests from client side on that specific address\n",
        "    - for IP sockets, address is a tuple of (hostaddress, port)\n",
        "- ```socket.socket.listen([backlog])```\n",
        "    - used at server end\n",
        "    - enables a socket to listen for connections from remote clients\n",
        "    - ```backlog``` : optional, number of connections a server will accept\n",
        "- ```socket.socket.accept()```\n",
        "    - used at server end\n",
        "    - waits & accepts client connections when the client tries to connect to the server, only accepts those many connections as specified to ```listen()``` method\n",
        "    - blocks execution and waits for an incoming connection from client\n",
        "    - returns a socket object ```socket.socket``` representing a connection and address info ```(clientAddress, port)``` of client, only when a client connects\n",
        "- ```socket.socket.send(data, [flags])```\n",
        "    - used at server end\n",
        "    - send a data string to the socket, data is 'bytes' type or 'byte string'\n",
        "    - returns number of bytes sent\n",
        "- ```str.encode(self, /, encoding='utf-8', errors='strict')```\n",
        "    - Encode the string using codec registered for encoding\n",
        "    - returns ```byte string``` represented by ```b'string_value'```"
      ]
    },
    {
      "cell_type": "code",
      "execution_count": null,
      "metadata": {
        "id": "fTSwxSzjjqZX",
        "colab": {
          "base_uri": "https://localhost:8080/"
        },
        "outputId": "55d86acb-0b1e-4c8c-9a36-fbc474d7649b"
      },
      "outputs": [
        {
          "output_type": "stream",
          "name": "stdout",
          "text": [
            "Server listening on port: 4000\n",
            "Connection from: ('127.0.0.1', 58813)\n"
          ]
        }
      ],
      "source": [
        "# tcpipserver.py\n",
        "# to run these server & client snippets, run them with separate (jupyter/python) runtimes\n",
        "import socket\n",
        "\n",
        "host = 'localhost'\n",
        "port = 4000\n",
        "\n",
        "s = socket.socket(socket.AF_INET, socket.SOCK_STREAM)\n",
        "# print(\"DEBUG:\",type(s)) # debug\n",
        "# print(\"DEBUG:\",s) #debug\n",
        "s.bind((host, port))\n",
        "# print(\"DEBUG:\",s) # debug\n",
        "print(\"Server listening on port:\", port)\n",
        "s.listen(1)\n",
        "# print(\"DEBUG:\",s) # debug\n",
        "c, addr = s.accept()\n",
        "# print(\"DEBUG:\",type(c), type(addr)) # debug\n",
        "print(\"Connection from:\", str(addr))\n",
        "c.send(b\"Hello, how are you\") # send data in byte string\n",
        "c.send(\"bye\".encode()) # encoding sting into bytes\n",
        "# print(\"DEBUG:\",\"bye\".encode()) # debug\n",
        "c.close()"
      ]
    },
    {
      "cell_type": "markdown",
      "metadata": {
        "id": "d4uyfbGtjckA"
      },
      "source": [
        "## 240. Create a client\n",
        "- Create a TCP/IP client that will connect to the server on port 4000\n",
        "- Connect to the localhost and the port 4000 using ```connect((host, port))``` method of socket object, which is where server is listening on\n",
        "- Once the connection is established, you can recieve the messages using ```recv(buffersize)```\n",
        "- Continue listening as long as there is a messsage, and print it on the console\n",
        "- ```socket.connect(address)```\n",
        "    - used at client side\n",
        "    - used by client to initiate a connection to the server\n",
        "    - for IP sockets, addess is a tuple of (clientAddress, port)\n",
        "- ```socket.recv(buffersize[, flags])```\n",
        "    - used at client side\n",
        "    - recieve upto buffersize bytes from the socket\n",
        "    - when no data is available, block until atleast one byte is available or until the remote end is closed\n",
        "    - when the remote end is closed and all the data is read, returns empty string\n",
        "    - returns data in 'bytes' type\n",
        "- ```bytes.decode(self, /, encoding='utf-8, errors='strict)```\n",
        "    - Decode the bytes using the codec registered for encoding\n",
        "    - returns a string representation for bytes"
      ]
    },
    {
      "cell_type": "code",
      "execution_count": null,
      "metadata": {
        "id": "2pYwfu4Ym7qU",
        "colab": {
          "base_uri": "https://localhost:8080/"
        },
        "outputId": "f2937d33-d24f-4730-e087-35408ff87eb5"
      },
      "outputs": [
        {
          "output_type": "stream",
          "name": "stdout",
          "text": [
            "Received:  Hello, how are you\n",
            "Received:  bye\n"
          ]
        }
      ],
      "source": [
        "#tcpipclient.py\n",
        "# to run these server & client snippets, run them with separate (jupyter/python) runtimes\n",
        "import socket\n",
        "\n",
        "s = socket.socket() # if parameters are passed, it takes Family=AF_INET and TypeOfConnection=socket.SOCK_STREAM\n",
        "s.connect((\"localhost\", 4000)) # port 4000 becuse server is listening on port 4000\n",
        "\n",
        "msg = s.recv(1024)\n",
        "# print(\"DEBUG:\",type(msg)) # debug\n",
        "while msg:\n",
        "    print(\"Received: \", msg.decode()) # decoding the message recieved in bytes to string\n",
        "    # print(\"DEBUG:\",type(msg.decode())) # debug\n",
        "    msg = s.recv(1024)\n",
        "s.close()"
      ]
    },
    {
      "cell_type": "markdown",
      "source": [
        "## 241. File Server\n",
        "-"
      ],
      "metadata": {
        "id": "Z6qYXZek4KYM"
      }
    },
    {
      "cell_type": "code",
      "source": [],
      "metadata": {
        "id": "zYNN6qZThsMs"
      },
      "execution_count": null,
      "outputs": []
    }
  ],
  "metadata": {
    "colab": {
      "toc_visible": true,
      "provenance": []
    },
    "kernelspec": {
      "display_name": "Python 3",
      "name": "python3"
    },
    "language_info": {
      "name": "python"
    }
  },
  "nbformat": 4,
  "nbformat_minor": 0
}