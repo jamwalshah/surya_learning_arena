{
  "nbformat": 4,
  "nbformat_minor": 0,
  "metadata": {
    "colab": {
      "provenance": [],
      "toc_visible": true
    },
    "kernelspec": {
      "name": "python3",
      "display_name": "Python 3"
    },
    "language_info": {
      "name": "python"
    }
  },
  "cells": [
    {
      "cell_type": "markdown",
      "source": [
        "## 235. Introduction\n",
        "- In this section we'll learn how to connect to a URL, access the resources at that URL & download them\n",
        "- We'll also learn hot to download images from the internet or from connecting to a particular URL using the ```urllib``` module in python\n",
        "- We'll also do socket programming, which is low level programming by establishing a connection between the server and the client through ```socket``` module\n",
        "- At last, we'll send out emails by creating a python email client using ```smtplib``` module"
      ],
      "metadata": {
        "id": "sI8u3Nxaz1fl"
      }
    },
    {
      "cell_type": "markdown",
      "source": [
        "## 236. Downloading an HTML\n",
        "- Learn how to access a URL and download the HTML page/contents by hitting a particular URL\n",
        "- Launch your web browser and open https://www.python.org because we are going to access this URL from our python script an download this entire HTML page\n",
        "- ```urllib.request.urlopen(URL)```\n",
        "    - Open the specified string URL or request object, returns a ```http.client.HTTPResponse``` object\n",
        "- ```url.read(n)```\n",
        "    - return and read upto 'n' bytes, returns ```bytes``` type\n",
        "- ```urllib.error.HTTPError```\n",
        "    - raised when HTTP error occurs\n",
        "- ```url.close()```\n",
        "    - Flush & close the IO object"
      ],
      "metadata": {
        "id": "MiyLhaPp1OK8"
      }
    },
    {
      "cell_type": "code",
      "source": [
        "import os\n",
        "os.getcwd()\n",
        "os.chdir(r'C:\\Users\\surya\\Downloads\\surya_learning_arena\\python_lang\\Udemy-_Python_for_beginners\\26. Networking')\n",
        "os.getcwd()"
      ],
      "metadata": {
        "colab": {
          "base_uri": "https://localhost:8080/"
        },
        "id": "frWz6OvqW0B1",
        "outputId": "4b5c466a-61cb-40d2-e716-6e4f91607b76"
      },
      "execution_count": 13,
      "outputs": [
        {
          "output_type": "execute_result",
          "data": {
            "text/plain": [
              "'C:\\\\Users\\\\surya\\\\Downloads\\\\surya_learning_arena\\\\python_lang\\\\Udemy-_Python_for_beginners\\\\26. Networking'"
            ]
          },
          "metadata": {},
          "execution_count": 13
        }
      ]
    },
    {
      "cell_type": "code",
      "execution_count": 15,
      "metadata": {
        "id": "LHSWikmdzzB3"
      },
      "outputs": [],
      "source": [
        "    # networking\n",
        "# urllibdemo.py\n",
        "\n",
        "import urllib.request\n",
        "try:\n",
        "        url = urllib.request.urlopen(\"https://www.python.org/\")\n",
        "        # print(type(url)) # debug\n",
        "        content = url.read()\n",
        "        # print(type(content)) # debug\n",
        "        url.close()\n",
        "except urllib.error.HTTPError:\n",
        "        print(\"The webpage is not found\")\n",
        "        exit()\n",
        "\n",
        "f = open('python.html', \"wb\")\n",
        "f.write(content)\n",
        "f.close()"
      ]
    },
    {
      "cell_type": "markdown",
      "source": [
        "## 237. Downloading an Image\n",
        "-"
      ],
      "metadata": {
        "id": "kvmx_jaxaGBk"
      }
    },
    {
      "cell_type": "code",
      "source": [],
      "metadata": {
        "id": "jz93wjVWZ51A"
      },
      "execution_count": null,
      "outputs": []
    }
  ]
}