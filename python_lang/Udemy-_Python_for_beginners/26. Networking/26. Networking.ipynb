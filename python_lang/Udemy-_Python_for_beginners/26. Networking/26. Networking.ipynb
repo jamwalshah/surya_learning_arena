{
  "nbformat": 4,
  "nbformat_minor": 0,
  "metadata": {
    "colab": {
      "provenance": [],
      "toc_visible": true
    },
    "kernelspec": {
      "name": "python3",
      "display_name": "Python 3"
    },
    "language_info": {
      "name": "python"
    }
  },
  "cells": [
    {
      "cell_type": "markdown",
      "source": [
        "## 235. Introduction\n",
        "- In this section we'll learn how to connect to a URL, access the resources at that URL & download them\n",
        "- We'll also learn hot to download images from the internet or from connecting to a particular URL using the ```urllib``` module in python\n",
        "- We'll also do socket programming, which is low level programming by establishing a connection between the server and the client through ```socket``` module\n",
        "- At last, we'll send out emails by creating a python email client using ```smtplib``` module"
      ],
      "metadata": {
        "id": "sI8u3Nxaz1fl"
      }
    },
    {
      "cell_type": "markdown",
      "source": [
        "## 236. Downloading an HTML\n",
        "- Learn how to access a URL and download the HTML page/contents by hitting a particular URL\n",
        "- Launch your web browser and open https://www.python.org because we are going to access this URL from our python script an download this entire HTML page\n",
        "- ```urllib.request.urlopen(URL)```\n",
        "    - Open the specified string URL or request object, returns a ```http.client.HTTPResponse``` object\n",
        "- ```url.read(n)```\n",
        "    - return and read upto 'n' bytes, returns ```bytes``` type\n",
        "- ```urllib.error.HTTPError```\n",
        "    - raised when HTTP error occurs\n",
        "- ```url.close()```\n",
        "    - Flush & close the IO object"
      ],
      "metadata": {
        "id": "MiyLhaPp1OK8"
      }
    },
    {
      "cell_type": "code",
      "source": [
        "import os\n",
        "os.getcwd()\n",
        "os.chdir(r'C:\\Users\\surya\\Downloads\\surya_learning_arena\\python_lang\\Udemy-_Python_for_beginners\\26. Networking')\n",
        "os.getcwd()"
      ],
      "metadata": {
        "colab": {
          "base_uri": "https://localhost:8080/"
        },
        "id": "frWz6OvqW0B1",
        "outputId": "b667b910-d205-4b96-9ef4-bdc8f96f84c1"
      },
      "execution_count": null,
      "outputs": [
        {
          "output_type": "execute_result",
          "data": {
            "text/plain": [
              "'C:\\\\Users\\\\surya\\\\Downloads\\\\surya_learning_arena\\\\python_lang\\\\Udemy-_Python_for_beginners\\\\26. Networking'"
            ]
          },
          "metadata": {},
          "execution_count": 1
        }
      ]
    },
    {
      "cell_type": "code",
      "execution_count": null,
      "metadata": {
        "id": "LHSWikmdzzB3"
      },
      "outputs": [],
      "source": [
        "# networking\n",
        "# urllibdemo.py\n",
        "\n",
        "import urllib.request\n",
        "try:\n",
        "        url = urllib.request.urlopen(\"https://www.python.org/\")\n",
        "        # print(type(url)) # debug\n",
        "        content = url.read()\n",
        "        # print(type(content)) # debug\n",
        "        url.close()\n",
        "except urllib.error.HTTPError:\n",
        "        print(\"The webpage is not found\")\n",
        "        exit()\n",
        "\n",
        "f = open('python.html', \"wb\")\n",
        "f.write(content)\n",
        "f.close()"
      ]
    },
    {
      "cell_type": "markdown",
      "source": [
        "## 237. Downloading an Image\n",
        "- Learn how to download images from the internet using urllib.request\n",
        "- on the website of https://www.python.org/ , Right click on image and open in new tab, and then copy the URL of that image which opened in new tab\n",
        "- ```urllib.request.urlretrieve(url, filename=None)```\n",
        "    - retrieves a a URL into temporary location on disk\n",
        "    - url : url that you want to retrieve\n",
        "    - filename : filename with which you want to save on your local machine"
      ],
      "metadata": {
        "id": "kvmx_jaxaGBk"
      }
    },
    {
      "cell_type": "code",
      "source": [
        "import os\n",
        "os.getcwd()\n",
        "os.chdir(r'C:\\Users\\surya\\Downloads\\surya_learning_arena\\python_lang\\Udemy-_Python_for_beginners\\26. Networking')\n",
        "os.getcwd()"
      ],
      "metadata": {
        "colab": {
          "base_uri": "https://localhost:8080/"
        },
        "id": "1WT2lQ--wDff",
        "outputId": "3f3d7385-bd21-4708-ef78-4a84d9e4c833"
      },
      "execution_count": null,
      "outputs": [
        {
          "output_type": "execute_result",
          "data": {
            "text/plain": [
              "'C:\\\\Users\\\\surya\\\\Downloads\\\\surya_learning_arena\\\\python_lang\\\\Udemy-_Python_for_beginners\\\\26. Networking'"
            ]
          },
          "metadata": {},
          "execution_count": 3
        }
      ]
    },
    {
      "cell_type": "code",
      "source": [
        "# downloadimage.py\n",
        "import urllib.request\n",
        "\n",
        "url = \"https://www.python.org/static/img/python-logo.png\"\n",
        "urllib.request.urlretrieve(url, \"python.png\")"
      ],
      "metadata": {
        "id": "jz93wjVWZ51A",
        "colab": {
          "base_uri": "https://localhost:8080/"
        },
        "outputId": "137968f8-29f7-43f5-884e-3fa5b70cca9b"
      },
      "execution_count": null,
      "outputs": [
        {
          "output_type": "execute_result",
          "data": {
            "text/plain": [
              "('python.png', <http.client.HTTPMessage at 0x1ed29586f10>)"
            ]
          },
          "metadata": {},
          "execution_count": 4
        }
      ]
    },
    {
      "cell_type": "code",
      "source": [
        "import urllib.request\n",
        "\n",
        "urllib.request.urlretrieve(\"https://www.python.org/static/img/python-logo.png\", \"python.png\")"
      ],
      "metadata": {
        "colab": {
          "base_uri": "https://localhost:8080/"
        },
        "id": "t7Z3njKtwaPb",
        "outputId": "0578744b-772f-42e6-c317-bd918276aa1c"
      },
      "execution_count": null,
      "outputs": [
        {
          "output_type": "execute_result",
          "data": {
            "text/plain": [
              "('python.png', <http.client.HTTPMessage at 0x1ed29586070>)"
            ]
          },
          "metadata": {},
          "execution_count": 5
        }
      ]
    },
    {
      "cell_type": "markdown",
      "source": [
        "## 238. Socket Programming\n",
        "- Learn how to do Socket programming using the ```socket``` module in the python\n",
        "- Establish the connection between the server and the client using the TCP/IP protocol while doing socket programming\n",
        "- First create a server by opening up a socket from the ```socket``` module, then you'll ```bind``` it to a host/machine and a port number and then the server will start ```listening``` from that port on that machine, which is when the client can establish a ```connection``` by opening a socket, connecting to a server that is running\n",
        "- When a connection/request comes in from a client, the server will ```accept``` the client connection and then a connection is established, they both can ```send/receive``` messages at that point, and finally when they're done, they can ```close``` the connection\n",
        "        Client                      Server\n",
        "        socket  ------------------> socket\n",
        "        connect <------------------ bind\n",
        "        send/recv                   listen\n",
        "        close                       accept\n",
        "                                    send/recv\n",
        "                                    close\n",
        "- These are the steps involved in socket programming, and you can accomplish all these low level steps using the ```socket``` module in python"
      ],
      "metadata": {
        "id": "9mRHg3h-x8Jr"
      }
    },
    {
      "cell_type": "markdown",
      "source": [
        "## 239. Create a server\n",
        "- Create a TCP/IP server that will listen on a port for client's requests\n",
        "- ```socket.socket(Family, TypeOfConnection)```\n",
        "    - Creates a socket which can be used to make TCP/IP connections or communication\n",
        "- ```socket.AF_INET```\n",
        "    - Specifies IP v4 Address Family\n",
        "- ```socket.AF_INET6```\n",
        "    - Specifies IP v6 Address Family\n",
        "- ```socket.SOCK_STREAM```\n",
        "    - represents TCP/IP communication, specifies type of communication such as TCP/IP or UDP, etc\n",
        "- ```socket.socket.bind()```\n",
        "    - Binds a socket to a local address\n",
        "    - for IP sockets, address is a tuple of (host, pair)\n",
        "- ```socket.sockt.listen([backlog])```\n",
        "    - enables a socket to accept connections\n",
        "    - ```backlog``` : optional, number of connections a server will accept\n",
        "- ```socket.socket.accept()```\n",
        "    - accepts a client connection when the client tries to connect to the server\n",
        "    - blocks execution and waits for an incoming connection from client\n",
        "    - returns a socket object representing a connection and address info of client, only when a client connects\n",
        "    - for IP sockets, address info is a tuple of (hostaddress, port)"
      ],
      "metadata": {
        "id": "ao20rp2222py"
      }
    },
    {
      "cell_type": "code",
      "source": [
        "# tcpipserver.py\n",
        "import socket\n",
        "\n",
        "host = 'localhost'\n",
        "port = 4000\n",
        "\n",
        "s = socket.socket(socket.AF_INET, socket.SOCK_STREAM)\n",
        "print(type(s)) # debug\n",
        "print(s) #debug\n",
        "s.bind((host, port))\n",
        "print(s) # debug\n",
        "print(\"Server listening on port:\", port)\n",
        "s.listen(1)\n",
        "print(s) # debug\n",
        "c, addr = s.accept()\n",
        "print(\"Connection from:\", str(addr))\n",
        "c.send(b\"Hello, how are you\")\n",
        "c.send(\"bye\".encode())\n",
        "c.close()"
      ],
      "metadata": {
        "colab": {
          "base_uri": "https://localhost:8080/"
        },
        "id": "fTSwxSzjjqZX",
        "outputId": "f98d6aa3-396a-447a-a955-f72440953e59"
      },
      "execution_count": null,
      "outputs": [
        {
          "output_type": "stream",
          "name": "stdout",
          "text": [
            "<class 'socket.socket'>\n",
            "<socket.socket fd=41, family=AddressFamily.AF_INET, type=SocketKind.SOCK_STREAM, proto=0, laddr=('0.0.0.0', 0)>\n",
            "<socket.socket fd=41, family=AddressFamily.AF_INET, type=SocketKind.SOCK_STREAM, proto=0, laddr=('127.0.0.1', 4000)>\n",
            "Server listening on port: 4000\n",
            "<socket.socket fd=41, family=AddressFamily.AF_INET, type=SocketKind.SOCK_STREAM, proto=0, laddr=('127.0.0.1', 4000)>\n"
          ]
        }
      ]
    },
    {
      "cell_type": "code",
      "source": [
        "# tcpipserver.py\n",
        "import socket\n",
        "\n",
        "host = 'localhost'\n",
        "port = 4000\n",
        "\n",
        "s = socket.socket(socket.AF_INET, socket.SOCK_STREAM)\n",
        "print(type(s)) # debug\n",
        "print(s) #debug\n",
        "s.bind((host, port))\n",
        "print(s) # debug"
      ],
      "metadata": {
        "colab": {
          "base_uri": "https://localhost:8080/"
        },
        "id": "GTDfYLubw9ZH",
        "outputId": "266ce021-100d-493b-8f37-0d1140677cc2"
      },
      "execution_count": 2,
      "outputs": [
        {
          "output_type": "stream",
          "name": "stdout",
          "text": [
            "<class 'socket.socket'>\n",
            "<socket.socket fd=1424, family=AddressFamily.AF_INET, type=SocketKind.SOCK_STREAM, proto=0>\n",
            "<socket.socket fd=1424, family=AddressFamily.AF_INET, type=SocketKind.SOCK_STREAM, proto=0, laddr=('127.0.0.1', 4000)>\n"
          ]
        }
      ]
    },
    {
      "cell_type": "code",
      "source": [
        "print(\"Server listening on port:\", port)\n",
        "s.listen(1)\n",
        "print(s) # debug"
      ],
      "metadata": {
        "colab": {
          "base_uri": "https://localhost:8080/"
        },
        "id": "aZYUgi6lZAux",
        "outputId": "4a7753ee-add3-4dcb-f3ce-8bf1b3646b1d"
      },
      "execution_count": 3,
      "outputs": [
        {
          "output_type": "stream",
          "name": "stdout",
          "text": [
            "Server listening on port: 4000\n",
            "<socket.socket fd=1424, family=AddressFamily.AF_INET, type=SocketKind.SOCK_STREAM, proto=0, laddr=('127.0.0.1', 4000)>\n"
          ]
        }
      ]
    },
    {
      "cell_type": "code",
      "source": [
        "c, addr = s.accept() # blocks code execution and waits for an incoming connection"
      ],
      "metadata": {
        "id": "Q3l9eNxpPRrC"
      },
      "execution_count": null,
      "outputs": []
    },
    {
      "cell_type": "code",
      "source": [
        "print(\"Connection from:\", str(addr))"
      ],
      "metadata": {
        "id": "hBooD6f4YguO"
      },
      "execution_count": null,
      "outputs": []
    },
    {
      "cell_type": "code",
      "source": [
        "c.send(b\"Hello, how are you\")"
      ],
      "metadata": {
        "id": "3oLevAGnZGFV"
      },
      "execution_count": null,
      "outputs": []
    },
    {
      "cell_type": "code",
      "source": [
        "c.send(\"bye\".encode())"
      ],
      "metadata": {
        "id": "JIX2B56NbkM4"
      },
      "execution_count": null,
      "outputs": []
    },
    {
      "cell_type": "code",
      "source": [
        "c.close()"
      ],
      "metadata": {
        "id": "nmf0AG64bp9u"
      },
      "execution_count": null,
      "outputs": []
    },
    {
      "cell_type": "markdown",
      "source": [
        "## 240. Create a client\n",
        "- Create a TCP/IP client that will connect to the server on port 4000"
      ],
      "metadata": {
        "id": "d4uyfbGtjckA"
      }
    },
    {
      "cell_type": "code",
      "source": [
        "#tcpipclient.py\n",
        "import socket\n",
        "\n",
        "s = socket.socket()"
      ],
      "metadata": {
        "id": "2pYwfu4Ym7qU"
      },
      "execution_count": null,
      "outputs": []
    }
  ]
}