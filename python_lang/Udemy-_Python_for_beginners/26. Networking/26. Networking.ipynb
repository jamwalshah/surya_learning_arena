{
  "cells": [
    {
      "cell_type": "markdown",
      "metadata": {
        "id": "sI8u3Nxaz1fl"
      },
      "source": [
        "## 235. Introduction\n",
        "- In this section we'll learn how to connect to a URL, access the resources at that URL & download them\n",
        "- We'll also learn hot to download images from the internet or from connecting to a particular URL using the ```urllib``` module in python\n",
        "- We'll also do socket programming, which is low level programming by establishing a connection between the server and the client through ```socket``` module\n",
        "- At last, we'll send out emails by creating a python email client using ```smtplib``` module"
      ]
    },
    {
      "cell_type": "markdown",
      "metadata": {
        "id": "MiyLhaPp1OK8"
      },
      "source": [
        "## 236. Downloading an HTML\n",
        "- Learn how to access a URL and download the HTML page/contents by hitting a particular URL\n",
        "- Launch your web browser and open https://www.python.org because we are going to access this URL from our python script an download this entire HTML page\n",
        "- ```urllib.request.urlopen(URL)```\n",
        "    - Open the specified string URL or request object, returns a ```http.client.HTTPResponse``` object\n",
        "- ```url.read(n)```\n",
        "    - return and read upto 'n' bytes, returns ```bytes``` type\n",
        "- ```urllib.error.HTTPError```\n",
        "    - raised when HTTP error occurs\n",
        "- ```url.close()```\n",
        "    - Flush & close the IO object"
      ]
    },
    {
      "cell_type": "code",
      "execution_count": null,
      "metadata": {
        "colab": {
          "base_uri": "https://localhost:8080/"
        },
        "id": "frWz6OvqW0B1",
        "outputId": "b667b910-d205-4b96-9ef4-bdc8f96f84c1"
      },
      "outputs": [
        {
          "data": {
            "text/plain": [
              "'C:\\\\Users\\\\surya\\\\Downloads\\\\surya_learning_arena\\\\python_lang\\\\Udemy-_Python_for_beginners\\\\26. Networking'"
            ]
          },
          "execution_count": 1,
          "metadata": {},
          "output_type": "execute_result"
        }
      ],
      "source": [
        "import os\n",
        "os.getcwd()\n",
        "os.chdir(r'C:\\Users\\surya\\Downloads\\surya_learning_arena\\python_lang\\Udemy-_Python_for_beginners\\26. Networking')\n",
        "os.getcwd()"
      ]
    },
    {
      "cell_type": "code",
      "execution_count": null,
      "metadata": {
        "id": "LHSWikmdzzB3"
      },
      "outputs": [],
      "source": [
        "# networking\n",
        "# urllibdemo.py\n",
        "\n",
        "import urllib.request\n",
        "try:\n",
        "        url = urllib.request.urlopen(\"https://www.python.org/\")\n",
        "        # print(type(url)) # debug\n",
        "        content = url.read()\n",
        "        # print(type(content)) # debug\n",
        "        url.close()\n",
        "except urllib.error.HTTPError:\n",
        "        print(\"The webpage is not found\")\n",
        "        exit()\n",
        "\n",
        "f = open('python.html', \"wb\")\n",
        "f.write(content)\n",
        "f.close()"
      ]
    },
    {
      "cell_type": "markdown",
      "metadata": {
        "id": "kvmx_jaxaGBk"
      },
      "source": [
        "## 237. Downloading an Image\n",
        "- Learn how to download images from the internet using urllib.request\n",
        "- on the website of https://www.python.org/ , Right click on image and open in new tab, and then copy the URL of that image which opened in new tab\n",
        "- ```urllib.request.urlretrieve(url, filename=None)```\n",
        "    - retrieves a a URL into temporary location on disk\n",
        "    - url : url that you want to retrieve\n",
        "    - filename : filename with which you want to save on your local machine"
      ]
    },
    {
      "cell_type": "code",
      "execution_count": null,
      "metadata": {
        "colab": {
          "base_uri": "https://localhost:8080/"
        },
        "id": "1WT2lQ--wDff",
        "outputId": "3f3d7385-bd21-4708-ef78-4a84d9e4c833"
      },
      "outputs": [
        {
          "data": {
            "text/plain": [
              "'C:\\\\Users\\\\surya\\\\Downloads\\\\surya_learning_arena\\\\python_lang\\\\Udemy-_Python_for_beginners\\\\26. Networking'"
            ]
          },
          "execution_count": 3,
          "metadata": {},
          "output_type": "execute_result"
        }
      ],
      "source": [
        "import os\n",
        "os.getcwd()\n",
        "os.chdir(r'C:\\Users\\surya\\Downloads\\surya_learning_arena\\python_lang\\Udemy-_Python_for_beginners\\26. Networking')\n",
        "os.getcwd()"
      ]
    },
    {
      "cell_type": "code",
      "execution_count": null,
      "metadata": {
        "colab": {
          "base_uri": "https://localhost:8080/"
        },
        "id": "jz93wjVWZ51A",
        "outputId": "137968f8-29f7-43f5-884e-3fa5b70cca9b"
      },
      "outputs": [
        {
          "data": {
            "text/plain": [
              "('python.png', <http.client.HTTPMessage at 0x1ed29586f10>)"
            ]
          },
          "execution_count": 4,
          "metadata": {},
          "output_type": "execute_result"
        }
      ],
      "source": [
        "# downloadimage.py\n",
        "import urllib.request\n",
        "\n",
        "url = \"https://www.python.org/static/img/python-logo.png\"\n",
        "urllib.request.urlretrieve(url, \"python.png\")"
      ]
    },
    {
      "cell_type": "code",
      "execution_count": null,
      "metadata": {
        "colab": {
          "base_uri": "https://localhost:8080/"
        },
        "id": "t7Z3njKtwaPb",
        "outputId": "0578744b-772f-42e6-c317-bd918276aa1c"
      },
      "outputs": [
        {
          "data": {
            "text/plain": [
              "('python.png', <http.client.HTTPMessage at 0x1ed29586070>)"
            ]
          },
          "execution_count": 5,
          "metadata": {},
          "output_type": "execute_result"
        }
      ],
      "source": [
        "import urllib.request\n",
        "\n",
        "urllib.request.urlretrieve(\"https://www.python.org/static/img/python-logo.png\", \"python.png\")"
      ]
    },
    {
      "cell_type": "markdown",
      "metadata": {
        "id": "9mRHg3h-x8Jr"
      },
      "source": [
        "## 238. Socket Programming\n",
        "- Learn how to do Socket programming using the ```socket``` module in the python\n",
        "- Establish the connection between the server and the client using the TCP/IP protocol while doing socket programming\n",
        "- First create a server by opening up a socket from the ```socket``` module, then you'll ```bind``` it to a host/machine and a port number and then the server will start ```listening``` from that port on that machine, which is when the client can establish a ```connection``` by opening a socket, connecting to a server that is running\n",
        "- When a connection/request comes in from a client, the server will ```accept``` the client connection and then a connection is established, they both can ```send/receive``` messages at that point, and finally when they're done, they can ```close``` the connection\n",
        "        Client                      Server\n",
        "        socket  ------------------> socket\n",
        "        connect <------------------ bind\n",
        "        send/recv                   listen\n",
        "        close                       accept\n",
        "                                    send/recv\n",
        "                                    close\n",
        "- These are the steps involved in socket programming, and you can accomplish all these low level steps using the ```socket``` module in python"
      ]
    },
    {
      "cell_type": "markdown",
      "metadata": {
        "id": "ao20rp2222py"
      },
      "source": [
        "## 239. Create a server\n",
        "- Create a TCP/IP server that will listen on a port for client's requests\n",
        "- ```socket.socket(Family=AF_INET, TypeOfConnection=socket.SOCK_STREAM)```\n",
        "    - used at server as well as client side\n",
        "    - Creates a socket which can be used to make TCP/IP connections or communication\n",
        "    - in case no parameters are passed, it takes IPv4(```Family=AF_INET```) and TCP/IP(```TypeOfConnection=socket.SOCK_STREAM```)\n",
        "- ```socket.AF_INET```\n",
        "    - Specifies IP v4 Address Family\n",
        "- ```socket.AF_INET6```\n",
        "    - Specifies IP v6 Address Family\n",
        "- ```socket.SOCK_STREAM```\n",
        "    - represents TCP/IP communication, specifies type of communication such as TCP/IP or UDP, etc\n",
        "- ```socket.socket.bind(address)```\n",
        "    - used at server end\n",
        "    - Binds/associates a socket to an address for incoming connection requests from client side on that specific address\n",
        "    - for IP sockets, address is a tuple of (hostaddress, port)\n",
        "- ```socket.socket.listen([backlog])```\n",
        "    - used at server end\n",
        "    - enables a socket to listen for connections from remote clients\n",
        "    - ```backlog``` : optional, number of connections a server will accept\n",
        "- ```socket.socket.accept()```\n",
        "    - used at server end\n",
        "    - waits & accepts client connections when the client tries to connect to the server, only accepts those many connections as specified to ```listen()``` method\n",
        "    - blocks execution and waits for an incoming connection from client\n",
        "    - returns a socket object ```socket.socket``` representing a connection and address info ```(clientAddress, port)``` of client, only when a client connects\n",
        "- ```socket.socket.send(data, [flags])```\n",
        "    - used at server end\n",
        "    - send a data string to the socket, data is 'bytes' type or 'byte string'\n",
        "    - returns number of bytes sent\n",
        "- ```str.encode(self, /, encoding='utf-8', errors='strict')```\n",
        "    - Encode the string using codec registered for encoding\n",
        "    - returns ```byte string``` represented by ```b'string_value'```"
      ]
    },
    {
      "cell_type": "code",
      "execution_count": null,
      "metadata": {
        "id": "fTSwxSzjjqZX",
        "colab": {
          "base_uri": "https://localhost:8080/"
        },
        "outputId": "55d86acb-0b1e-4c8c-9a36-fbc474d7649b"
      },
      "outputs": [
        {
          "output_type": "stream",
          "name": "stdout",
          "text": [
            "Server listening on port: 4000\n",
            "Connection from: ('127.0.0.1', 58813)\n"
          ]
        }
      ],
      "source": [
        "# tcpipserver.py\n",
        "# to run these server & client snippets, run them with separate (jupyter/python) runtimes\n",
        "import socket\n",
        "\n",
        "host = 'localhost'\n",
        "port = 4000\n",
        "\n",
        "s = socket.socket(socket.AF_INET, socket.SOCK_STREAM)\n",
        "# print(\"DEBUG:\",type(s)) # debug\n",
        "# print(\"DEBUG:\",s) #debug\n",
        "s.bind((host, port))\n",
        "# print(\"DEBUG:\",s) # debug\n",
        "print(\"Server listening on port:\", port)\n",
        "s.listen(1)\n",
        "# print(\"DEBUG:\",s) # debug\n",
        "c, addr = s.accept()\n",
        "# print(\"DEBUG:\",type(c), type(addr)) # debug\n",
        "print(\"Connection from:\", str(addr))\n",
        "c.send(b\"Hello, how are you\") # send data in byte string\n",
        "c.send(\"bye\".encode()) # encoding sting into bytes\n",
        "# print(\"DEBUG:\",\"bye\".encode()) # debug\n",
        "c.close()"
      ]
    },
    {
      "cell_type": "markdown",
      "metadata": {
        "id": "d4uyfbGtjckA"
      },
      "source": [
        "## 240. Create a client\n",
        "- Create a TCP/IP client that will connect to the server on port 4000\n",
        "- Connect to the localhost and the port 4000 using ```connect((host, port))``` method of socket object, which is where server is listening on\n",
        "- Once the connection is established, you can recieve the messages using ```recv(buffersize)```\n",
        "- Continue listening as long as there is a messsage, and print it on the console\n",
        "- ```socket.connect(address)```\n",
        "    - used at client side\n",
        "    - used by client to initiate a connection to the server\n",
        "    - for IP sockets, addess is a tuple of (clientAddress, port)\n",
        "- ```socket.recv(buffersize[, flags])```\n",
        "    - used at client side as well as server side\n",
        "    - receive upto buffersize bytes from the socket\n",
        "    - when no data is available, block until atleast one byte is available or until the remote end is closed\n",
        "    - when the remote end is closed and all the data is read, returns empty string\n",
        "    - returns data in 'bytes' type\n",
        "- ```bytes.decode(self, /, encoding='utf-8, errors='strict)```\n",
        "    - Decode the bytes using the codec registered for encoding\n",
        "    - returns a string representation for bytes"
      ]
    },
    {
      "cell_type": "code",
      "execution_count": null,
      "metadata": {
        "id": "2pYwfu4Ym7qU",
        "colab": {
          "base_uri": "https://localhost:8080/"
        },
        "outputId": "f2937d33-d24f-4730-e087-35408ff87eb5"
      },
      "outputs": [
        {
          "output_type": "stream",
          "name": "stdout",
          "text": [
            "Received:  Hello, how are you\n",
            "Received:  bye\n"
          ]
        }
      ],
      "source": [
        "#tcpipclient.py\n",
        "# to run these server & client snippets, run them with separate (jupyter/python) runtimes\n",
        "import socket\n",
        "\n",
        "s = socket.socket() # if parameters are passed, it takes Family=AF_INET and TypeOfConnection=socket.SOCK_STREAM\n",
        "s.connect((\"localhost\", 4000)) # port 4000 becuse server is listening on port 4000\n",
        "\n",
        "msg = s.recv(1024)\n",
        "# print(\"DEBUG:\",type(msg)) # debug\n",
        "while msg:\n",
        "    print(\"Received: \", msg.decode()) # decoding the message recieved in bytes to string\n",
        "    # print(\"DEBUG:\",type(msg.decode())) # debug\n",
        "    msg = s.recv(1024)\n",
        "s.close()"
      ]
    },
    {
      "cell_type": "markdown",
      "source": [
        "## 241. File Server\n",
        "- Create a server that will send the file that the client has requested for\n",
        "- Once the server accepts the request, Read the data that comes from the client\n",
        "- Read the data fromt the file which client has requested, and send it back to the client"
      ],
      "metadata": {
        "id": "Z6qYXZek4KYM"
      }
    },
    {
      "cell_type": "code",
      "source": [
        "import os\n",
        "os.getcwd()\n",
        "os.chdir(r'C:\\Users\\surya\\Downloads\\surya_learning_arena\\python_lang\\Udemy-_Python_for_beginners\\26. Networking')\n",
        "os.getcwd()"
      ],
      "metadata": {
        "colab": {
          "base_uri": "https://localhost:8080/"
        },
        "id": "0sLveoR0R9wP",
        "outputId": "c2633eda-16dc-49af-bc5f-d807bec7fa5c"
      },
      "execution_count": null,
      "outputs": [
        {
          "output_type": "execute_result",
          "data": {
            "text/plain": [
              "'C:\\\\Users\\\\surya\\\\Downloads\\\\surya_learning_arena\\\\python_lang\\\\Udemy-_Python_for_beginners\\\\26. Networking'"
            ]
          },
          "metadata": {},
          "execution_count": 6
        }
      ]
    },
    {
      "cell_type": "code",
      "source": [
        "# fileserver.py\n",
        "import socket\n",
        "\n",
        "host = 'localhost'\n",
        "port = 6767\n",
        "\n",
        "s = socket.socket(socket.AF_INET, socket.SOCK_STREAM)\n",
        "\n",
        "s.bind((host, port))\n",
        "print(\"Server listening on port:\", port)\n",
        "s.listen(1)\n",
        "\n",
        "c, addr = s.accept()\n",
        "fileName = c.recv(1024) # receiving the filename from client\n",
        "try:\n",
        "    f = open(fileName, 'rb')\n",
        "    content = f.read() # reading file that client requested\n",
        "    c.send(content) # sending data from the requested file to the client\n",
        "    f.close()\n",
        "except FileNotFoundError:\n",
        "    # print(\"File does not exist\")\n",
        "    c.send(b\"File does not exist\")\n",
        "\n",
        "c.close()"
      ],
      "metadata": {
        "id": "zYNN6qZThsMs",
        "colab": {
          "base_uri": "https://localhost:8080/"
        },
        "outputId": "ba34f00d-65a1-4926-8878-d12d84542788"
      },
      "execution_count": null,
      "outputs": [
        {
          "output_type": "stream",
          "name": "stdout",
          "text": [
            "Server listening on port: 6767\n"
          ]
        }
      ]
    },
    {
      "cell_type": "markdown",
      "source": [
        "## 242. File Client\n",
        "- Create the file client that will send the name of the file it wants and then display the contents of the file on the console\n",
        "- Prompt the end user to enter a filename, and print the contents of that file  read by the server"
      ],
      "metadata": {
        "id": "e8085SEqGloA"
      }
    },
    {
      "cell_type": "code",
      "source": [
        "import os\n",
        "os.getcwd()\n",
        "os.chdir(r'C:\\Users\\surya\\Downloads\\surya_learning_arena\\python_lang\\Udemy-_Python_for_beginners\\26. Networking')\n",
        "os.getcwd()"
      ],
      "metadata": {
        "colab": {
          "base_uri": "https://localhost:8080/"
        },
        "id": "dIcTvMZKUuA5",
        "outputId": "f1483221-5c36-4c7d-a41e-1fd7525ab4f5"
      },
      "execution_count": null,
      "outputs": [
        {
          "output_type": "execute_result",
          "data": {
            "text/plain": [
              "'C:\\\\Users\\\\surya\\\\Downloads\\\\surya_learning_arena\\\\python_lang\\\\Udemy-_Python_for_beginners\\\\26. Networking'"
            ]
          },
          "metadata": {},
          "execution_count": 6
        }
      ]
    },
    {
      "cell_type": "code",
      "source": [
        "# fileclient.py\n",
        "import socket\n",
        "\n",
        "s = socket.socket()\n",
        "\n",
        "s.connect(('localhost', 6767))\n",
        "\n",
        "filename = input(\"Enter a file name:\")\n",
        "\n",
        "s.send(filename.encode())\n",
        "content = s.recv(1024)\n",
        "print(content.decode())\n",
        "\n",
        "s.close()"
      ],
      "metadata": {
        "id": "OHNjIhUZGoxc",
        "colab": {
          "base_uri": "https://localhost:8080/"
        },
        "outputId": "b4fbf742-1628-4455-ef25-b115d1309eb7"
      },
      "execution_count": null,
      "outputs": [
        {
          "output_type": "stream",
          "name": "stdout",
          "text": [
            "Enter a file name:python.html\n",
            "<!doctype html>\n",
            "<!--[if lt IE 7]>   <html class=\"no-js ie6 lt-ie7 lt-ie8 lt-ie9\">   <![endif]-->\n",
            "<!--[if IE 7]>      <html class=\"no-js ie7 lt-ie8 lt-ie9\">          <![endif]-->\n",
            "<!--[if IE 8]>      <html class=\"no-js ie8 lt-ie9\">                 <![endif]-->\n",
            "<!--[if gt IE 8]><!--><html class=\"no-js\" lang=\"en\" dir=\"ltr\">  <!--<![endif]-->\n",
            "\n",
            "<head>\n",
            "    <!-- Google tag (gtag.js) -->\n",
            "    <script async src=\"https://www.googletagmanager.com/gtag/js?id=G-TF35YF9CVH\"></script>\n",
            "    <script>\n",
            "      window.dataLayer = window.dataLayer || [];\n",
            "      function gtag(){dataLayer.push(arguments);}\n",
            "      gtag('js', new Date());\n",
            "      gtag('config', 'G-TF35YF9CVH');\n",
            "    </script>\n",
            "\n",
            "    <meta charset=\"utf-8\">\n",
            "    <meta http-equiv=\"X-UA-Compatible\" content=\"IE=edge\">\n",
            "\n",
            "    <link rel=\"prefetch\" href=\"//ajax.googleapis.com/ajax/libs/jquery/1.8.2/jquery.min.js\">\n",
            "    <link rel=\"prefetch\" href=\"//ajax.googleapis.com/ajax/libs/jqueryui/1.12.1/jquery-ui.min.js\">\n",
            "\n",
            "    <meta name=\"application-name\" content=\"Python.org\">\n",
            "    <meta name=\"msappli\n"
          ]
        }
      ]
    },
    {
      "cell_type": "markdown",
      "source": [
        "## 243. Sending Emails\n",
        "- Create a SMTP client that will send out emails, i.e., we're going to send an email from our python script to a gmail account\n",
        "- For that we're going to use our gmail server as our SMTP server\n",
        "- First step is to create a message with below information\n",
        "    1. body\n",
        "    2. subject\n",
        "    3. from\n",
        "    4. to\n",
        "- Once we have the message, we'll use it\n",
        "- Create a SMTP server instance using appropriate address and port, that will connect to a particular email server, once it connects, we'll\n",
        "    1. login\n",
        "    2. send a message\n",
        "- Then we'll quit the connection\n",
        "                ------------>   \n",
        "        Client                  Gmail\n",
        "                <------------\n",
        "        Create message\n",
        "            body\n",
        "            subject\n",
        "            from\n",
        "            to\n",
        "        smtpserver\n",
        "            login\n",
        "            send_message\n",
        "        quit"
      ],
      "metadata": {
        "id": "aVCi2NyPZ7-y"
      }
    },
    {
      "cell_type": "markdown",
      "source": [
        "## 244. UPDATE - Generate Gmail APP Password\n",
        "- In the next session, we'll use Gmail Account and the GMail SMTP server to send out en email from within your python application\n",
        "- Gmail no longer suppports you to direstly use your gmail password in your applications, you'll have to generate an App password\n",
        "- To generate App Password\n",
        "    1. Login to your Gmail account\n",
        "    2. Goto Google account page, from your profile at the top right corner\n",
        "    3. Search for App Passwords, click on App Passwords\n",
        "    4. Before you're on the App Passwords page, it might ask you to login again, just login by entering your password again\n",
        "    5. Once you're on App Passwords page, Select an app for which you have to select other, give a custom name, say \"mypythonapp'\n",
        "    6. click on \"Generate\", and it'll generate a password for you\n",
        "    7. Copy the password, Use this password in your application along with your email id.\n",
        "- ***Note***:\n",
        "    - Don't use your email ID & password, instead use this app password that you're generated in the next session. Only then You'll be able to send emails using Gmail SMTP server"
      ],
      "metadata": {
        "id": "nK-UV59QfmbB"
      }
    },
    {
      "cell_type": "markdown",
      "source": [
        "## 245. Email Client\n",
        "- We'll send an email from our python script\n",
        "- Have an email account ready, create an email account preferably Gmail account\n",
        "- ```email.mime.text.MIMEText(_text, _subtype='plain', _charset=None, *, policy=None)```\n",
        "    - Class for generating text/* type MIME documents\n",
        "    - ```_text``` : string for this message object\n",
        "    - ```_subtype``` : MIME sub-contetnt type\n",
        "    - ```_charset``` : character-set parameter added to the 'Content-Type' header. This defaults to \"us-ascii\"\n",
        "- ```smtplib.SMTP(host='', port=0, local_hostname=None, timeout, source_address=None)```\n",
        "    - This class manages a connection to a SMTP or ESMTP server\n",
        "    - ```host``` : Name of the remote host to which to connect\n",
        "    - ```port``` : port to which to connect. By default `smtplib.SMTP_PORT` is used which is 25\n",
        "    - If a host is specified, a ```connect()``` method is called, and if it returns anything other than a success code, an 'SMTPConnectError' is raised\n",
        "- ```smtplib.SMTP.starttls(keyfile=None, certfile=None, context=None)```\n",
        "    - Puts the connection to the SMTP server into TLS mode\n",
        "    - If the server supports TLS, this will encrypt the rest of the SMTP session\n",
        "    - This method may raise ```SMTPHeloError```\n",
        "- ```smtplib.SMTP.login(user, password, *, initial_response_ok=True)```\n",
        "    - Log in on an SMTP server that requires authentication\n",
        "    - ```user``` : the user name to authenticate with\n",
        "    - ```password``` : the password for the authentication\n",
        "    - This method will return normally if the authentication was successful\n",
        "    - This method may raise ```SMTPHeloError```, ```SMTPAuthenticationError```, ```SMTPNotSupportedError``` or ```SMTPException```\n",
        "- ```smtplib.SMTP.send(s)```\n",
        "    - send ```s``` to the server\n",
        "    - takes 'bytes' like object\n",
        "- ```smtplib.SMTP.send_message(msg, from_addr=None, to_addrs=None, mail_options=(), rcpt_options=())```\n",
        "    - Converts a message into a bytestring and passes it to sendmail\n",
        "    - The arguments are as for ```sendmail```, except that the message is an ```email.message.Message``` object\n",
        "    - If ```from_addr``` is ```None``` or ```to_addrs``` is ```None```, these arguments are taken from the headers of the message\n",
        "- ```smtplib.SMTP.quit()```\n",
        "    - Terminate the SMTP session\n",
        "    "
      ],
      "metadata": {
        "id": "i10mcY9ty3Lu"
      }
    },
    {
      "cell_type": "code",
      "source": [
        "usr = \"ntinjamwal@gmail.com\"\n",
        "paswd = \"ybav ezen june kvnt\""
      ],
      "metadata": {
        "id": "6xL4Q2QsTMVm"
      },
      "execution_count": 30,
      "outputs": []
    },
    {
      "cell_type": "code",
      "source": [
        "# emailclient.py\n",
        "import smtplib\n",
        "from email.mime.text import MIMEText\n",
        "\n",
        "# define body of email\n",
        "body = \"This is a test email. How are you\"\n",
        "\n",
        "# define parts of email\n",
        "msg = MIMEText(body)\n",
        "# print(\"DEBUG:\", msg) # debug\n",
        "msg['From'] = usr\n",
        "msg['To'] = usr\n",
        "msg['Subject'] = \"Hello\"\n",
        "\n",
        "# Open an SMTP server connection\n",
        "server = smtplib.SMTP('smtp.gmail.com', 587)\n",
        "\n",
        "# enable a secured connection\n",
        "server.starttls()\n",
        "\n",
        "# log in using user name and password\n",
        "server.login(usr, paswd)\n",
        "\n",
        "# send mail\n",
        "# server.send(msg.as_bytes())\n",
        "server.send_message(msg)\n",
        "print(\"Mail sent\")\n",
        "\n",
        "# close the connection with gmail server\n",
        "server.quit()"
      ],
      "metadata": {
        "id": "8h8LLKeIZgta",
        "colab": {
          "base_uri": "https://localhost:8080/"
        },
        "outputId": "09def514-9585-4985-b1cd-aa96b2e38656"
      },
      "execution_count": 31,
      "outputs": [
        {
          "output_type": "stream",
          "name": "stdout",
          "text": [
            "Mail sent\n"
          ]
        },
        {
          "output_type": "execute_result",
          "data": {
            "text/plain": [
              "(221,\n",
              " b'2.0.0 closing connection jg13-20020a17090326cd00b001c407fac227sm1763560plb.41 - gsmtp')"
            ]
          },
          "metadata": {},
          "execution_count": 31
        }
      ]
    },
    {
      "cell_type": "markdown",
      "source": [
        "## 246. Run Mail Client\n",
        "- Run our mail client, go to your mail inbox\n",
        "- Hit refresh to see that sent mail is recieved in your inbox"
      ],
      "metadata": {
        "id": "e29jRaWKe1-l"
      }
    },
    {
      "cell_type": "code",
      "source": [],
      "metadata": {
        "id": "h9dNvDoHvlv9"
      },
      "execution_count": 31,
      "outputs": []
    }
  ],
  "metadata": {
    "colab": {
      "toc_visible": true,
      "provenance": []
    },
    "kernelspec": {
      "display_name": "Python 3",
      "name": "python3"
    },
    "language_info": {
      "name": "python"
    }
  },
  "nbformat": 4,
  "nbformat_minor": 0
}