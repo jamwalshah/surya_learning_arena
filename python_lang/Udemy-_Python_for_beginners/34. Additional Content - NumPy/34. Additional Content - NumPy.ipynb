{
  "nbformat": 4,
  "nbformat_minor": 0,
  "metadata": {
    "colab": {
      "provenance": [],
      "toc_visible": true
    },
    "kernelspec": {
      "name": "python3",
      "display_name": "Python 3"
    },
    "language_info": {
      "name": "python"
    }
  },
  "cells": [
    {
      "cell_type": "markdown",
      "source": [
        "## 287. Introduction\n",
        "- You'll learn and use `NumPy` module\n",
        "- NumPy comes with various in-built classes and functions that will help us do calculations and also manipulate single-dimensional arrays as well as multi-dimensional arrays\n",
        "- All the elements in a NumPy array are of same type\n",
        "- To use the NumPy module, we install it first and then we simply import NumPy, and start using it\n",
        "- We'll create arrays using various functions that NumPy provides like `array()`, `linspace()`, `logspace()`, `arange()`, `zeros()`, `ones()`, and more\n",
        "- And, then we'll also use various mathematical opertations that are in-built into NumPy\n",
        "- This will help you do various scientific calculations as well\n",
        "- We'll also compare arrays, do array copying, slicing of arrays, deal with multi-dimensional arrays, matrics and much more\n",
        "- Once you are aware of all these, you can learn other things in NumPy as required for your projects"
      ],
      "metadata": {
        "id": "8xggYXAAMnHD"
      }
    },
    {
      "cell_type": "markdown",
      "source": [
        "## 288. NumPy in action\n",
        "- You'll learn how to work with arrays using the NumPy package\n",
        "- `numpy.array(object, dtype=None, *, copy=True, order='K', subok=False, ndmin=0, like=None)`\n",
        "    - Creates an array\n",
        "    - returns ndarray, an array object satisfying the specified requirements\n",
        "    - `object` : array-like, an array, any object exposing the array interface, an object whose ``__array__`` method returns an array or any (nested) sequence. If object is a scalar, a 0-dimensional array containing object is returned\n",
        "    - `dtype` : datatype, optional, the desired data-type for the array. If not given, NumPy will try to use a default ``dtype`` that can represent the values (by applying promotion rules when necessary)\n",
        "    -"
      ],
      "metadata": {
        "id": "5JfHa_caOxZD"
      }
    },
    {
      "cell_type": "code",
      "execution_count": 2,
      "metadata": {
        "colab": {
          "base_uri": "https://localhost:8080/"
        },
        "id": "ZwyWoNY_MgNN",
        "outputId": "93ca418e-f5db-4e3c-99fd-af29db34dfc6"
      },
      "outputs": [
        {
          "output_type": "stream",
          "name": "stdout",
          "text": [
            "[1 2 3 4 5]\n"
          ]
        }
      ],
      "source": [
        "# numpyinaction\n",
        "# arrays.py\n",
        "import numpy\n",
        "\n",
        "arr = numpy.array([1, 2, 3, 4, 5])\n",
        "print(arr)"
      ]
    },
    {
      "cell_type": "code",
      "source": [
        "import numpy as np\n",
        "\n",
        "arr = np.array([1, 2, 3, 4, 5])\n",
        "print(arr)"
      ],
      "metadata": {
        "colab": {
          "base_uri": "https://localhost:8080/"
        },
        "id": "8PmMpeUhYdjR",
        "outputId": "265c77da-9fc2-42c2-d048-b31a48822dc4"
      },
      "execution_count": 5,
      "outputs": [
        {
          "output_type": "stream",
          "name": "stdout",
          "text": [
            "[1 2 3 4 5]\n"
          ]
        }
      ]
    },
    {
      "cell_type": "code",
      "source": [
        "from numpy import *\n",
        "\n",
        "arr = array([1, 2, 3, 4, 5]) # number array\n",
        "print(arr)"
      ],
      "metadata": {
        "colab": {
          "base_uri": "https://localhost:8080/"
        },
        "id": "xa-Oc7rdbv_j",
        "outputId": "847f34ac-d053-4098-e9cf-24ccb77f1a76"
      },
      "execution_count": 6,
      "outputs": [
        {
          "output_type": "stream",
          "name": "stdout",
          "text": [
            "[1 2 3 4 5]\n"
          ]
        }
      ]
    },
    {
      "cell_type": "code",
      "source": [
        "from numpy import *\n",
        "\n",
        "arr = array([1, 2, 3, 4, 5]) # number array\n",
        "carr = array(['a', 'b', 'c']) # character arrray\n",
        "print(arr)\n",
        "print(carr)"
      ],
      "metadata": {
        "colab": {
          "base_uri": "https://localhost:8080/"
        },
        "id": "t12obaZsb96n",
        "outputId": "aa9eaaa1-b964-4912-8a5f-b19d6a6356c0"
      },
      "execution_count": 7,
      "outputs": [
        {
          "output_type": "stream",
          "name": "stdout",
          "text": [
            "[1 2 3 4 5]\n",
            "['a' 'b' 'c']\n"
          ]
        }
      ]
    },
    {
      "cell_type": "code",
      "source": [
        "from numpy import *\n",
        "\n",
        "arr = array([1, 2, 3, 4, 5]) # number array\n",
        "carr = array(['a', 'b', 'c']) # character arrray\n",
        "sarr = array(['Python', 'Django', 'Django Rest']) # string array\n",
        "print(arr)\n",
        "print(carr)\n",
        "print(sarr)"
      ],
      "metadata": {
        "colab": {
          "base_uri": "https://localhost:8080/"
        },
        "id": "gbSW5-_gcM2R",
        "outputId": "0461094a-dc14-44d3-ef4d-5cf9c783964f"
      },
      "execution_count": 9,
      "outputs": [
        {
          "output_type": "stream",
          "name": "stdout",
          "text": [
            "[1 2 3 4 5]\n",
            "['a' 'b' 'c']\n",
            "['Python' 'Django' 'Django Rest']\n"
          ]
        }
      ]
    },
    {
      "cell_type": "code",
      "source": [
        "from numpy import *\n",
        "\n",
        "arr = array([1, 2, 3, 4, 5], int) # number array\n",
        "carr = array(['a', 'b', 'c']) # character arrray\n",
        "sarr = array(['Python', 'Django', 'Django Rest'], dtype=str) # string array\n",
        "print(arr)\n",
        "print(carr)\n",
        "print(sarr)"
      ],
      "metadata": {
        "colab": {
          "base_uri": "https://localhost:8080/"
        },
        "id": "KxUT5gaqchQf",
        "outputId": "640d95fd-c80f-4334-ebe0-d72a09ba5352"
      },
      "execution_count": 10,
      "outputs": [
        {
          "output_type": "stream",
          "name": "stdout",
          "text": [
            "[1 2 3 4 5]\n",
            "['a' 'b' 'c']\n",
            "['Python' 'Django' 'Django Rest']\n"
          ]
        }
      ]
    },
    {
      "cell_type": "markdown",
      "source": [
        "## 289. linspace logspace and more\n",
        "-"
      ],
      "metadata": {
        "id": "0J-yS0o7c63W"
      }
    },
    {
      "cell_type": "code",
      "source": [],
      "metadata": {
        "id": "Tv3911Jvc0ZK"
      },
      "execution_count": null,
      "outputs": []
    }
  ]
}