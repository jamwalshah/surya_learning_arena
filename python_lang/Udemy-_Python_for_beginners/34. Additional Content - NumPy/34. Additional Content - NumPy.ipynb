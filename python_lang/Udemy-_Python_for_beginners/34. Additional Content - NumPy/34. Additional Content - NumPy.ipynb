{
  "nbformat": 4,
  "nbformat_minor": 0,
  "metadata": {
    "colab": {
      "provenance": [],
      "toc_visible": true
    },
    "kernelspec": {
      "name": "python3",
      "display_name": "Python 3"
    },
    "language_info": {
      "name": "python"
    }
  },
  "cells": [
    {
      "cell_type": "markdown",
      "source": [
        "## 287. Introduction\n",
        "- You'll learn and use `NumPy` module\n",
        "- NumPy comes with various in-built classes and functions that will help us do calculations and also manipulate single-dimensional arrays as well as multi-dimensional arrays\n",
        "- All the elements in a NumPy array are of same type\n",
        "- To use the NumPy module, we install it first and then we simply import NumPy, and start using it\n",
        "- We'll create arrays using various functions that NumPy provides like `array()`, `linspace()`, `logspace()`, `arange()`, `zeros()`, `ones()`, and more\n",
        "- And, then we'll also use various mathematical opertations that are in-built into NumPy\n",
        "- This will help you do various scientific calculations as well\n",
        "- We'll also compare arrays, do array copying, slicing of arrays, deal with multi-dimensional arrays, matrics and much more\n",
        "- Once you are aware of all these, you can learn other things in NumPy as required for your projects"
      ],
      "metadata": {
        "id": "8xggYXAAMnHD"
      }
    },
    {
      "cell_type": "markdown",
      "source": [
        "## 288. NumPy in action\n",
        "- You'll learn how to work with arrays using the NumPy package\n",
        "- `numpy.array(object, dtype=None, *, copy=True, order='K', subok=False, ndmin=0, like=None)`\n",
        "    - Creates an array\n",
        "    - returns ndarray, an array object satisfying the specified requirements\n",
        "    - `object` : array-like, an array, any object exposing the array interface, an object whose ``__array__`` method returns an array or any (nested) sequence. If object is a scalar, a 0-dimensional array containing object is returned\n",
        "    - `dtype` : datatype, optional, the desired data-type for the array. If not given, NumPy will try to use a default ``dtype`` that can represent the values (by applying promotion rules when necessary)"
      ],
      "metadata": {
        "id": "5JfHa_caOxZD"
      }
    },
    {
      "cell_type": "code",
      "execution_count": 1,
      "metadata": {
        "colab": {
          "base_uri": "https://localhost:8080/"
        },
        "id": "ZwyWoNY_MgNN",
        "outputId": "48ca3f2a-8d85-4083-affa-038179df8b2d"
      },
      "outputs": [
        {
          "output_type": "stream",
          "name": "stdout",
          "text": [
            "[1 2 3 4 5]\n"
          ]
        }
      ],
      "source": [
        "# numpyinaction\n",
        "# arrays.py\n",
        "import numpy\n",
        "\n",
        "arr = numpy.array([1, 2, 3, 4, 5])\n",
        "print(arr)"
      ]
    },
    {
      "cell_type": "code",
      "source": [
        "import numpy as np\n",
        "\n",
        "arr = np.array([1, 2, 3, 4, 5])\n",
        "print(arr)"
      ],
      "metadata": {
        "colab": {
          "base_uri": "https://localhost:8080/"
        },
        "id": "8PmMpeUhYdjR",
        "outputId": "05d514ad-70ec-4e40-ae19-da54b55270b2"
      },
      "execution_count": 2,
      "outputs": [
        {
          "output_type": "stream",
          "name": "stdout",
          "text": [
            "[1 2 3 4 5]\n"
          ]
        }
      ]
    },
    {
      "cell_type": "code",
      "source": [
        "from numpy import *\n",
        "\n",
        "arr = array([1, 2, 3, 4, 5]) # number array\n",
        "print(arr)"
      ],
      "metadata": {
        "colab": {
          "base_uri": "https://localhost:8080/"
        },
        "id": "xa-Oc7rdbv_j",
        "outputId": "d5406155-8bdb-4f79-a728-54e8d1af863a"
      },
      "execution_count": 3,
      "outputs": [
        {
          "output_type": "stream",
          "name": "stdout",
          "text": [
            "[1 2 3 4 5]\n"
          ]
        }
      ]
    },
    {
      "cell_type": "code",
      "source": [
        "from numpy import *\n",
        "\n",
        "arr = array([1, 2, 3, 4, 5]) # number array\n",
        "carr = array(['a', 'b', 'c']) # character arrray\n",
        "print(arr)\n",
        "print(carr)"
      ],
      "metadata": {
        "colab": {
          "base_uri": "https://localhost:8080/"
        },
        "id": "t12obaZsb96n",
        "outputId": "04838fe1-f02e-42cf-ef8b-cad7b80f96ab"
      },
      "execution_count": 4,
      "outputs": [
        {
          "output_type": "stream",
          "name": "stdout",
          "text": [
            "[1 2 3 4 5]\n",
            "['a' 'b' 'c']\n"
          ]
        }
      ]
    },
    {
      "cell_type": "code",
      "source": [
        "from numpy import *\n",
        "\n",
        "arr = array([1, 2, 3, 4, 5]) # number array\n",
        "carr = array(['a', 'b', 'c']) # character arrray\n",
        "sarr = array(['Python', 'Django', 'Django Rest']) # string array\n",
        "print(arr)\n",
        "print(carr)\n",
        "print(sarr)"
      ],
      "metadata": {
        "colab": {
          "base_uri": "https://localhost:8080/"
        },
        "id": "gbSW5-_gcM2R",
        "outputId": "060fc59b-6e33-4662-ee43-1c04c6f5f90d"
      },
      "execution_count": 5,
      "outputs": [
        {
          "output_type": "stream",
          "name": "stdout",
          "text": [
            "[1 2 3 4 5]\n",
            "['a' 'b' 'c']\n",
            "['Python' 'Django' 'Django Rest']\n"
          ]
        }
      ]
    },
    {
      "cell_type": "code",
      "source": [
        "from numpy import *\n",
        "\n",
        "arr = array([1, 2, 3, 4, 5], int) # number array\n",
        "carr = array(['a', 'b', 'c']) # character arrray\n",
        "sarr = array(['Python', 'Django', 'Django Rest'], dtype=str) # string array\n",
        "print(arr)\n",
        "print(carr)\n",
        "print(sarr)"
      ],
      "metadata": {
        "colab": {
          "base_uri": "https://localhost:8080/"
        },
        "id": "KxUT5gaqchQf",
        "outputId": "61587c72-479d-4433-d9c5-32a4e8d34d24"
      },
      "execution_count": 6,
      "outputs": [
        {
          "output_type": "stream",
          "name": "stdout",
          "text": [
            "[1 2 3 4 5]\n",
            "['a' 'b' 'c']\n",
            "['Python' 'Django' 'Django Rest']\n"
          ]
        }
      ]
    },
    {
      "cell_type": "markdown",
      "source": [
        "## 289. linspace logspace and more\n",
        "- Previously, we've learned how to create and use arrays using NumPy `array()` function\n",
        "- Now, we'll learn a few more functions to create arrays and these functions will fill in the array with certain values that are calculated\n",
        "- `numpy.linspace(start, stop, num=50, endpoint=True, retstep=False, dtype=None, axis=0,)`\n",
        "    - return evenly spaced numbers over a specified interval\n",
        "    - returns ndarray, there are `num` equally spaced samples in the closed interval ``[start, stop]`` or the half-open interval ``[start, stop)`` (depending on whether `endpoint` is True or False)\n",
        "    - the endpoint of the interval can optionally be excluded"
      ],
      "metadata": {
        "id": "0J-yS0o7c63W"
      }
    },
    {
      "cell_type": "code",
      "source": [
        "from numpy import *\n",
        "\n",
        "arr = array([1, 2, 3, 4, 5], int) # number array\n",
        "carr = array(['a', 'b', 'c']) # character arrray\n",
        "sarr = array(['Python', 'Django', 'Django Rest'], dtype=str) # string array\n",
        "print(arr)\n",
        "print(carr)\n",
        "print(sarr)\n",
        "\n",
        "print(linspace(0, 100, 50));"
      ],
      "metadata": {
        "colab": {
          "base_uri": "https://localhost:8080/"
        },
        "id": "Tv3911Jvc0ZK",
        "outputId": "6ba299b4-6961-40ed-fbc5-71ec5eac7dd4"
      },
      "execution_count": 7,
      "outputs": [
        {
          "output_type": "stream",
          "name": "stdout",
          "text": [
            "[1 2 3 4 5]\n",
            "['a' 'b' 'c']\n",
            "['Python' 'Django' 'Django Rest']\n",
            "[  0.           2.04081633   4.08163265   6.12244898   8.16326531\n",
            "  10.20408163  12.24489796  14.28571429  16.32653061  18.36734694\n",
            "  20.40816327  22.44897959  24.48979592  26.53061224  28.57142857\n",
            "  30.6122449   32.65306122  34.69387755  36.73469388  38.7755102\n",
            "  40.81632653  42.85714286  44.89795918  46.93877551  48.97959184\n",
            "  51.02040816  53.06122449  55.10204082  57.14285714  59.18367347\n",
            "  61.2244898   63.26530612  65.30612245  67.34693878  69.3877551\n",
            "  71.42857143  73.46938776  75.51020408  77.55102041  79.59183673\n",
            "  81.63265306  83.67346939  85.71428571  87.75510204  89.79591837\n",
            "  91.83673469  93.87755102  95.91836735  97.95918367 100.        ]\n"
          ]
        }
      ]
    },
    {
      "cell_type": "code",
      "source": [
        "from numpy import *\n",
        "\n",
        "arr = array([1, 2, 3, 4, 5], int) # number array\n",
        "carr = array(['a', 'b', 'c']) # character arrray\n",
        "sarr = array(['Python', 'Django', 'Django Rest'], dtype=str) # string array\n",
        "print(arr)\n",
        "print(carr)\n",
        "print(sarr)\n",
        "\n",
        "print(linspace(0, 100, 20));"
      ],
      "metadata": {
        "colab": {
          "base_uri": "https://localhost:8080/"
        },
        "id": "cWDxAwDiwkWf",
        "outputId": "3e9496ac-f7c8-4724-c57e-b774151cbccd"
      },
      "execution_count": 8,
      "outputs": [
        {
          "output_type": "stream",
          "name": "stdout",
          "text": [
            "[1 2 3 4 5]\n",
            "['a' 'b' 'c']\n",
            "['Python' 'Django' 'Django Rest']\n",
            "[  0.           5.26315789  10.52631579  15.78947368  21.05263158\n",
            "  26.31578947  31.57894737  36.84210526  42.10526316  47.36842105\n",
            "  52.63157895  57.89473684  63.15789474  68.42105263  73.68421053\n",
            "  78.94736842  84.21052632  89.47368421  94.73684211 100.        ]\n"
          ]
        }
      ]
    },
    {
      "cell_type": "code",
      "source": [
        "from numpy import *\n",
        "\n",
        "arr = array([1, 2, 3, 4, 5], int) # number array\n",
        "carr = array(['a', 'b', 'c']) # character arrray\n",
        "sarr = array(['Python', 'Django', 'Django Rest'], dtype=str) # string array\n",
        "print(arr)\n",
        "print(carr)\n",
        "print(sarr)\n",
        "\n",
        "print(linspace(1, 100, 50));"
      ],
      "metadata": {
        "colab": {
          "base_uri": "https://localhost:8080/"
        },
        "id": "LBMmz_8pwmrM",
        "outputId": "f5588faf-8b30-4d0e-c5c2-b7b4117697a8"
      },
      "execution_count": 9,
      "outputs": [
        {
          "output_type": "stream",
          "name": "stdout",
          "text": [
            "[1 2 3 4 5]\n",
            "['a' 'b' 'c']\n",
            "['Python' 'Django' 'Django Rest']\n",
            "[  1.           3.02040816   5.04081633   7.06122449   9.08163265\n",
            "  11.10204082  13.12244898  15.14285714  17.16326531  19.18367347\n",
            "  21.20408163  23.2244898   25.24489796  27.26530612  29.28571429\n",
            "  31.30612245  33.32653061  35.34693878  37.36734694  39.3877551\n",
            "  41.40816327  43.42857143  45.44897959  47.46938776  49.48979592\n",
            "  51.51020408  53.53061224  55.55102041  57.57142857  59.59183673\n",
            "  61.6122449   63.63265306  65.65306122  67.67346939  69.69387755\n",
            "  71.71428571  73.73469388  75.75510204  77.7755102   79.79591837\n",
            "  81.81632653  83.83673469  85.85714286  87.87755102  89.89795918\n",
            "  91.91836735  93.93877551  95.95918367  97.97959184 100.        ]\n"
          ]
        }
      ]
    },
    {
      "cell_type": "code",
      "source": [
        "from numpy import *\n",
        "\n",
        "arr = array([1, 2, 3, 4, 5], int) # number array\n",
        "carr = array(['a', 'b', 'c']) # character arrray\n",
        "sarr = array(['Python', 'Django', 'Django Rest'], dtype=str) # string array\n",
        "print(arr)\n",
        "print(carr)\n",
        "print(sarr)\n",
        "\n",
        "print(linspace(0, 100)); # default step is 50"
      ],
      "metadata": {
        "colab": {
          "base_uri": "https://localhost:8080/"
        },
        "id": "Pz8uudMtwpqT",
        "outputId": "cafec484-3c41-47ec-e533-88c6e35468e5"
      },
      "execution_count": 10,
      "outputs": [
        {
          "output_type": "stream",
          "name": "stdout",
          "text": [
            "[1 2 3 4 5]\n",
            "['a' 'b' 'c']\n",
            "['Python' 'Django' 'Django Rest']\n",
            "[  0.           2.04081633   4.08163265   6.12244898   8.16326531\n",
            "  10.20408163  12.24489796  14.28571429  16.32653061  18.36734694\n",
            "  20.40816327  22.44897959  24.48979592  26.53061224  28.57142857\n",
            "  30.6122449   32.65306122  34.69387755  36.73469388  38.7755102\n",
            "  40.81632653  42.85714286  44.89795918  46.93877551  48.97959184\n",
            "  51.02040816  53.06122449  55.10204082  57.14285714  59.18367347\n",
            "  61.2244898   63.26530612  65.30612245  67.34693878  69.3877551\n",
            "  71.42857143  73.46938776  75.51020408  77.55102041  79.59183673\n",
            "  81.63265306  83.67346939  85.71428571  87.75510204  89.79591837\n",
            "  91.83673469  93.87755102  95.91836735  97.95918367 100.        ]\n"
          ]
        }
      ]
    },
    {
      "cell_type": "markdown",
      "source": [
        "- `numpy.logspace(start, stop, num=50, endpoint=True, base=10.0, dtype=None, axis=0)`\n",
        "    - return numbers spaced evely on a log scale\n",
        "    - in linear space, the sequence starts at ``base ** start`` (`base` to the power of `start`) and ends with ``base ** stop``"
      ],
      "metadata": {
        "id": "UnlA8FHpx7AB"
      }
    },
    {
      "cell_type": "code",
      "source": [
        "from numpy import *\n",
        "\n",
        "arr = array([1, 2, 3, 4, 5], int) # number array\n",
        "carr = array(['a', 'b', 'c']) # character arrray\n",
        "sarr = array(['Python', 'Django', 'Django Rest'], dtype=str) # string array\n",
        "print(arr)\n",
        "print(carr)\n",
        "print(sarr)\n",
        "\n",
        "print(linspace(0, 100)); # default step is 50\n",
        "larr = logspace(1, 20) # default step is 50, default base is 10.0"
      ],
      "metadata": {
        "colab": {
          "base_uri": "https://localhost:8080/"
        },
        "id": "ZyslR1Ynw-4A",
        "outputId": "f5049f7e-24d8-40b7-c0c3-805a5db32add"
      },
      "execution_count": 11,
      "outputs": [
        {
          "output_type": "stream",
          "name": "stdout",
          "text": [
            "[1 2 3 4 5]\n",
            "['a' 'b' 'c']\n",
            "['Python' 'Django' 'Django Rest']\n",
            "[  0.           2.04081633   4.08163265   6.12244898   8.16326531\n",
            "  10.20408163  12.24489796  14.28571429  16.32653061  18.36734694\n",
            "  20.40816327  22.44897959  24.48979592  26.53061224  28.57142857\n",
            "  30.6122449   32.65306122  34.69387755  36.73469388  38.7755102\n",
            "  40.81632653  42.85714286  44.89795918  46.93877551  48.97959184\n",
            "  51.02040816  53.06122449  55.10204082  57.14285714  59.18367347\n",
            "  61.2244898   63.26530612  65.30612245  67.34693878  69.3877551\n",
            "  71.42857143  73.46938776  75.51020408  77.55102041  79.59183673\n",
            "  81.63265306  83.67346939  85.71428571  87.75510204  89.79591837\n",
            "  91.83673469  93.87755102  95.91836735  97.95918367 100.        ]\n"
          ]
        }
      ]
    },
    {
      "cell_type": "code",
      "source": [
        "from numpy import *\n",
        "\n",
        "arr = array([1, 2, 3, 4, 5], int) # number array\n",
        "carr = array(['a', 'b', 'c']) # character arrray\n",
        "sarr = array(['Python', 'Django', 'Django Rest'], dtype=str) # string array\n",
        "print(arr)\n",
        "print(carr)\n",
        "print(sarr)\n",
        "\n",
        "print(linspace(0, 100)) # default step is 50\n",
        "larr = logspace(1, 20) # default step is 50, default base is 10.0\n",
        "for i in larr:\n",
        "    print(i)"
      ],
      "metadata": {
        "colab": {
          "base_uri": "https://localhost:8080/"
        },
        "id": "ThD30e_yRh9x",
        "outputId": "f83269bf-abfd-40f5-d2f3-1572a6d54bc6"
      },
      "execution_count": 12,
      "outputs": [
        {
          "output_type": "stream",
          "name": "stdout",
          "text": [
            "[1 2 3 4 5]\n",
            "['a' 'b' 'c']\n",
            "['Python' 'Django' 'Django Rest']\n",
            "[  0.           2.04081633   4.08163265   6.12244898   8.16326531\n",
            "  10.20408163  12.24489796  14.28571429  16.32653061  18.36734694\n",
            "  20.40816327  22.44897959  24.48979592  26.53061224  28.57142857\n",
            "  30.6122449   32.65306122  34.69387755  36.73469388  38.7755102\n",
            "  40.81632653  42.85714286  44.89795918  46.93877551  48.97959184\n",
            "  51.02040816  53.06122449  55.10204082  57.14285714  59.18367347\n",
            "  61.2244898   63.26530612  65.30612245  67.34693878  69.3877551\n",
            "  71.42857143  73.46938776  75.51020408  77.55102041  79.59183673\n",
            "  81.63265306  83.67346939  85.71428571  87.75510204  89.79591837\n",
            "  91.83673469  93.87755102  95.91836735  97.95918367 100.        ]\n",
            "10.0\n",
            "24.42053094548651\n",
            "59.63623316594643\n",
            "145.63484775012444\n",
            "355.64803062231283\n",
            "868.511373751352\n",
            "2120.9508879201903\n",
            "5179.474679231213\n",
            "12648.552168552958\n",
            "30888.435964774784\n",
            "75431.20063354608\n",
            "184206.99693267164\n",
            "449843.2668969444\n",
            "1098541.1419875573\n",
            "2682695.7952797273\n",
            "6551285.568595509\n",
            "15998587.196060574\n",
            "39069399.37054613\n",
            "95409547.63499925\n",
            "232995181.0515372\n",
            "568986602.9018282\n",
            "1389495494.373136\n",
            "3393221771.8953295\n",
            "8286427728.546825\n",
            "20235896477.251556\n",
            "49417133613.23838\n",
            "120679264063.93265\n",
            "294705170255.18097\n",
            "719685673001.1528\n",
            "1757510624854.7893\n",
            "4291934260128.7783\n",
            "10481131341546.832\n",
            "25595479226995.332\n",
            "62505519252739.76\n",
            "152641796717523.03\n",
            "372759372031493.8\n",
            "910298177991519.0\n",
            "2222996482526191.0\n",
            "5428675439323859.0\n",
            "1.3257113655901108e+16\n",
            "3.2374575428176268e+16\n",
            "7.906043210907734e+16\n",
            "1.9306977288832458e+17\n",
            "4.7148663634573894e+17\n",
            "1.1513953993264481e+18\n",
            "2.8117686979742367e+18\n",
            "6.86648845004297e+18\n",
            "1.676832936811003e+19\n",
            "4.094915062380419e+19\n",
            "1e+20\n"
          ]
        }
      ]
    },
    {
      "cell_type": "markdown",
      "source": [
        "- `numpy.arange([start, ]stop[, step], dtype=None, *, like=None)`\n",
        "    - array-range, takes three values, the first two values are required being start & stop, and last one is step which is optional\n",
        "    - return evenly spaced values within a given interval\n",
        "    - for integer arguments, this function is roughly equivalent to Python in-built :py:class:`range`, but returns an ndarray rather than a ``range`` instance\n",
        "    - when using a non-integer step such as 0.1, it is often better to use `numpy.linspace`\n",
        "    - for floating point arguments, the length of the result is ``ceil((stop - start)/step)`` , Because of floating point overflow, this rule may result in the last element of `out` being greater than `stop`\n",
        "    - `Warning` The length of output might not be numerically stable"
      ],
      "metadata": {
        "id": "fmmw9CTeSdy9"
      }
    },
    {
      "cell_type": "code",
      "source": [
        "from numpy import *\n",
        "\n",
        "arr = array([1, 2, 3, 4, 5], int) # number array\n",
        "carr = array(['a', 'b', 'c']) # character arrray\n",
        "sarr = array(['Python', 'Django', 'Django Rest'], dtype=str) # string array\n",
        "print(arr)\n",
        "print(carr)\n",
        "print(sarr)\n",
        "\n",
        "print(linspace(0, 100)) # default step is 50\n",
        "larr = logspace(1, 20) # default step is 50, default base is 10.0\n",
        "# for i in larr:\n",
        "#     print(i)\n",
        "print(larr)\n",
        "print(arange(1, 5))"
      ],
      "metadata": {
        "colab": {
          "base_uri": "https://localhost:8080/"
        },
        "id": "NvVlZtqQSE3I",
        "outputId": "08a1c327-7c1a-4724-b089-2eaff956c6d0"
      },
      "execution_count": 13,
      "outputs": [
        {
          "output_type": "stream",
          "name": "stdout",
          "text": [
            "[1 2 3 4 5]\n",
            "['a' 'b' 'c']\n",
            "['Python' 'Django' 'Django Rest']\n",
            "[  0.           2.04081633   4.08163265   6.12244898   8.16326531\n",
            "  10.20408163  12.24489796  14.28571429  16.32653061  18.36734694\n",
            "  20.40816327  22.44897959  24.48979592  26.53061224  28.57142857\n",
            "  30.6122449   32.65306122  34.69387755  36.73469388  38.7755102\n",
            "  40.81632653  42.85714286  44.89795918  46.93877551  48.97959184\n",
            "  51.02040816  53.06122449  55.10204082  57.14285714  59.18367347\n",
            "  61.2244898   63.26530612  65.30612245  67.34693878  69.3877551\n",
            "  71.42857143  73.46938776  75.51020408  77.55102041  79.59183673\n",
            "  81.63265306  83.67346939  85.71428571  87.75510204  89.79591837\n",
            "  91.83673469  93.87755102  95.91836735  97.95918367 100.        ]\n",
            "[1.00000000e+01 2.44205309e+01 5.96362332e+01 1.45634848e+02\n",
            " 3.55648031e+02 8.68511374e+02 2.12095089e+03 5.17947468e+03\n",
            " 1.26485522e+04 3.08884360e+04 7.54312006e+04 1.84206997e+05\n",
            " 4.49843267e+05 1.09854114e+06 2.68269580e+06 6.55128557e+06\n",
            " 1.59985872e+07 3.90693994e+07 9.54095476e+07 2.32995181e+08\n",
            " 5.68986603e+08 1.38949549e+09 3.39322177e+09 8.28642773e+09\n",
            " 2.02358965e+10 4.94171336e+10 1.20679264e+11 2.94705170e+11\n",
            " 7.19685673e+11 1.75751062e+12 4.29193426e+12 1.04811313e+13\n",
            " 2.55954792e+13 6.25055193e+13 1.52641797e+14 3.72759372e+14\n",
            " 9.10298178e+14 2.22299648e+15 5.42867544e+15 1.32571137e+16\n",
            " 3.23745754e+16 7.90604321e+16 1.93069773e+17 4.71486636e+17\n",
            " 1.15139540e+18 2.81176870e+18 6.86648845e+18 1.67683294e+19\n",
            " 4.09491506e+19 1.00000000e+20]\n",
            "[1 2 3 4]\n"
          ]
        }
      ]
    },
    {
      "cell_type": "code",
      "source": [
        "from numpy import *\n",
        "\n",
        "arr = array([1, 2, 3, 4, 5], int) # number array\n",
        "carr = array(['a', 'b', 'c']) # character arrray\n",
        "sarr = array(['Python', 'Django', 'Django Rest'], dtype=str) # string array\n",
        "print(arr)\n",
        "print(carr)\n",
        "print(sarr)\n",
        "\n",
        "print(linspace(0, 100)) # default step is 50\n",
        "larr = logspace(1, 20) # default step is 50, default base is 10.0\n",
        "# for i in larr:\n",
        "#     print(i)\n",
        "print(larr)\n",
        "print(arange(1, 20))"
      ],
      "metadata": {
        "colab": {
          "base_uri": "https://localhost:8080/"
        },
        "id": "mLWVroNhXQBR",
        "outputId": "e311efa8-c6d6-4313-ffc0-42d233cdbded"
      },
      "execution_count": 14,
      "outputs": [
        {
          "output_type": "stream",
          "name": "stdout",
          "text": [
            "[1 2 3 4 5]\n",
            "['a' 'b' 'c']\n",
            "['Python' 'Django' 'Django Rest']\n",
            "[  0.           2.04081633   4.08163265   6.12244898   8.16326531\n",
            "  10.20408163  12.24489796  14.28571429  16.32653061  18.36734694\n",
            "  20.40816327  22.44897959  24.48979592  26.53061224  28.57142857\n",
            "  30.6122449   32.65306122  34.69387755  36.73469388  38.7755102\n",
            "  40.81632653  42.85714286  44.89795918  46.93877551  48.97959184\n",
            "  51.02040816  53.06122449  55.10204082  57.14285714  59.18367347\n",
            "  61.2244898   63.26530612  65.30612245  67.34693878  69.3877551\n",
            "  71.42857143  73.46938776  75.51020408  77.55102041  79.59183673\n",
            "  81.63265306  83.67346939  85.71428571  87.75510204  89.79591837\n",
            "  91.83673469  93.87755102  95.91836735  97.95918367 100.        ]\n",
            "[1.00000000e+01 2.44205309e+01 5.96362332e+01 1.45634848e+02\n",
            " 3.55648031e+02 8.68511374e+02 2.12095089e+03 5.17947468e+03\n",
            " 1.26485522e+04 3.08884360e+04 7.54312006e+04 1.84206997e+05\n",
            " 4.49843267e+05 1.09854114e+06 2.68269580e+06 6.55128557e+06\n",
            " 1.59985872e+07 3.90693994e+07 9.54095476e+07 2.32995181e+08\n",
            " 5.68986603e+08 1.38949549e+09 3.39322177e+09 8.28642773e+09\n",
            " 2.02358965e+10 4.94171336e+10 1.20679264e+11 2.94705170e+11\n",
            " 7.19685673e+11 1.75751062e+12 4.29193426e+12 1.04811313e+13\n",
            " 2.55954792e+13 6.25055193e+13 1.52641797e+14 3.72759372e+14\n",
            " 9.10298178e+14 2.22299648e+15 5.42867544e+15 1.32571137e+16\n",
            " 3.23745754e+16 7.90604321e+16 1.93069773e+17 4.71486636e+17\n",
            " 1.15139540e+18 2.81176870e+18 6.86648845e+18 1.67683294e+19\n",
            " 4.09491506e+19 1.00000000e+20]\n",
            "[ 1  2  3  4  5  6  7  8  9 10 11 12 13 14 15 16 17 18 19]\n"
          ]
        }
      ]
    },
    {
      "cell_type": "code",
      "source": [
        "from numpy import *\n",
        "\n",
        "arr = array([1, 2, 3, 4, 5], int) # number array\n",
        "carr = array(['a', 'b', 'c']) # character arrray\n",
        "sarr = array(['Python', 'Django', 'Django Rest'], dtype=str) # string array\n",
        "print(arr)\n",
        "print(carr)\n",
        "print(sarr)\n",
        "\n",
        "print(linspace(0, 100)) # default step is 50\n",
        "larr = logspace(1, 20) # default step is 50, default base is 10.0\n",
        "# for i in larr:\n",
        "#     print(i)\n",
        "print(larr)\n",
        "print(arange(1, 20, 2)) # with step"
      ],
      "metadata": {
        "colab": {
          "base_uri": "https://localhost:8080/"
        },
        "id": "-Us7MIsZXhej",
        "outputId": "b0b66d8f-68ac-42dc-bdc9-b609488cd4e3"
      },
      "execution_count": 15,
      "outputs": [
        {
          "output_type": "stream",
          "name": "stdout",
          "text": [
            "[1 2 3 4 5]\n",
            "['a' 'b' 'c']\n",
            "['Python' 'Django' 'Django Rest']\n",
            "[  0.           2.04081633   4.08163265   6.12244898   8.16326531\n",
            "  10.20408163  12.24489796  14.28571429  16.32653061  18.36734694\n",
            "  20.40816327  22.44897959  24.48979592  26.53061224  28.57142857\n",
            "  30.6122449   32.65306122  34.69387755  36.73469388  38.7755102\n",
            "  40.81632653  42.85714286  44.89795918  46.93877551  48.97959184\n",
            "  51.02040816  53.06122449  55.10204082  57.14285714  59.18367347\n",
            "  61.2244898   63.26530612  65.30612245  67.34693878  69.3877551\n",
            "  71.42857143  73.46938776  75.51020408  77.55102041  79.59183673\n",
            "  81.63265306  83.67346939  85.71428571  87.75510204  89.79591837\n",
            "  91.83673469  93.87755102  95.91836735  97.95918367 100.        ]\n",
            "[1.00000000e+01 2.44205309e+01 5.96362332e+01 1.45634848e+02\n",
            " 3.55648031e+02 8.68511374e+02 2.12095089e+03 5.17947468e+03\n",
            " 1.26485522e+04 3.08884360e+04 7.54312006e+04 1.84206997e+05\n",
            " 4.49843267e+05 1.09854114e+06 2.68269580e+06 6.55128557e+06\n",
            " 1.59985872e+07 3.90693994e+07 9.54095476e+07 2.32995181e+08\n",
            " 5.68986603e+08 1.38949549e+09 3.39322177e+09 8.28642773e+09\n",
            " 2.02358965e+10 4.94171336e+10 1.20679264e+11 2.94705170e+11\n",
            " 7.19685673e+11 1.75751062e+12 4.29193426e+12 1.04811313e+13\n",
            " 2.55954792e+13 6.25055193e+13 1.52641797e+14 3.72759372e+14\n",
            " 9.10298178e+14 2.22299648e+15 5.42867544e+15 1.32571137e+16\n",
            " 3.23745754e+16 7.90604321e+16 1.93069773e+17 4.71486636e+17\n",
            " 1.15139540e+18 2.81176870e+18 6.86648845e+18 1.67683294e+19\n",
            " 4.09491506e+19 1.00000000e+20]\n",
            "[ 1  3  5  7  9 11 13 15 17 19]\n"
          ]
        }
      ]
    },
    {
      "cell_type": "code",
      "source": [
        "from numpy import *\n",
        "\n",
        "arr = array([1, 2, 3, 4, 5], int) # number array\n",
        "carr = array(['a', 'b', 'c']) # character arrray\n",
        "sarr = array(['Python', 'Django', 'Django Rest'], dtype=str) # string array\n",
        "print(arr)\n",
        "print(carr)\n",
        "print(sarr)\n",
        "\n",
        "print(linspace(0, 100)) # default step is 50\n",
        "larr = logspace(1, 20) # default step is 50, default base is 10.0\n",
        "# for i in larr:\n",
        "#     print(i)\n",
        "print(larr)\n",
        "print(arange(100, 1, -1)) # reverse / decrement"
      ],
      "metadata": {
        "colab": {
          "base_uri": "https://localhost:8080/"
        },
        "id": "PlDSzfW2Xl67",
        "outputId": "a65c2b21-103e-4da9-f487-95b746482878"
      },
      "execution_count": 16,
      "outputs": [
        {
          "output_type": "stream",
          "name": "stdout",
          "text": [
            "[1 2 3 4 5]\n",
            "['a' 'b' 'c']\n",
            "['Python' 'Django' 'Django Rest']\n",
            "[  0.           2.04081633   4.08163265   6.12244898   8.16326531\n",
            "  10.20408163  12.24489796  14.28571429  16.32653061  18.36734694\n",
            "  20.40816327  22.44897959  24.48979592  26.53061224  28.57142857\n",
            "  30.6122449   32.65306122  34.69387755  36.73469388  38.7755102\n",
            "  40.81632653  42.85714286  44.89795918  46.93877551  48.97959184\n",
            "  51.02040816  53.06122449  55.10204082  57.14285714  59.18367347\n",
            "  61.2244898   63.26530612  65.30612245  67.34693878  69.3877551\n",
            "  71.42857143  73.46938776  75.51020408  77.55102041  79.59183673\n",
            "  81.63265306  83.67346939  85.71428571  87.75510204  89.79591837\n",
            "  91.83673469  93.87755102  95.91836735  97.95918367 100.        ]\n",
            "[1.00000000e+01 2.44205309e+01 5.96362332e+01 1.45634848e+02\n",
            " 3.55648031e+02 8.68511374e+02 2.12095089e+03 5.17947468e+03\n",
            " 1.26485522e+04 3.08884360e+04 7.54312006e+04 1.84206997e+05\n",
            " 4.49843267e+05 1.09854114e+06 2.68269580e+06 6.55128557e+06\n",
            " 1.59985872e+07 3.90693994e+07 9.54095476e+07 2.32995181e+08\n",
            " 5.68986603e+08 1.38949549e+09 3.39322177e+09 8.28642773e+09\n",
            " 2.02358965e+10 4.94171336e+10 1.20679264e+11 2.94705170e+11\n",
            " 7.19685673e+11 1.75751062e+12 4.29193426e+12 1.04811313e+13\n",
            " 2.55954792e+13 6.25055193e+13 1.52641797e+14 3.72759372e+14\n",
            " 9.10298178e+14 2.22299648e+15 5.42867544e+15 1.32571137e+16\n",
            " 3.23745754e+16 7.90604321e+16 1.93069773e+17 4.71486636e+17\n",
            " 1.15139540e+18 2.81176870e+18 6.86648845e+18 1.67683294e+19\n",
            " 4.09491506e+19 1.00000000e+20]\n",
            "[100  99  98  97  96  95  94  93  92  91  90  89  88  87  86  85  84  83\n",
            "  82  81  80  79  78  77  76  75  74  73  72  71  70  69  68  67  66  65\n",
            "  64  63  62  61  60  59  58  57  56  55  54  53  52  51  50  49  48  47\n",
            "  46  45  44  43  42  41  40  39  38  37  36  35  34  33  32  31  30  29\n",
            "  28  27  26  25  24  23  22  21  20  19  18  17  16  15  14  13  12  11\n",
            "  10   9   8   7   6   5   4   3   2]\n"
          ]
        }
      ]
    },
    {
      "cell_type": "markdown",
      "source": [
        "- `numpy.zeros(shape, dtype=float, order='C', *, like=None)`\n",
        "    - out:`ndarray`, return a new array of given shape & type, filled with zeros\n",
        "    - `shape` : int or tuple of ints, shape of the new array e.g. `(2, 3)` or `2`\n",
        "    - `dtype` : datatype, optional, the desired data-type for the array. e.g. `numpy.int8` , default is `numpy.float64`\n",
        "    - `order` : {'C', 'F'}, optional, default: 'C', whether to store multi-dimensional data in row-major (C-style) or column-major (Fortran-style) order in memory\n",
        "    - `like` : array_like, optional\n",
        "        - Reference object to allow the creation of NumPy arrays\n",
        "        - If an array-like passed in as ``like`` supports the ``__array_function__`` protocol, the result will be defined by it\n",
        "        - in this case, it ensures the creation of an array object compatible with that passed in via this argument"
      ],
      "metadata": {
        "id": "Ufp7dGU5YLwv"
      }
    },
    {
      "cell_type": "code",
      "source": [
        "from numpy import *\n",
        "\n",
        "arr = array([1, 2, 3, 4, 5], int) # number array\n",
        "carr = array(['a', 'b', 'c']) # character arrray\n",
        "sarr = array(['Python', 'Django', 'Django Rest'], dtype=str) # string array\n",
        "print(arr)\n",
        "print(carr)\n",
        "print(sarr)\n",
        "\n",
        "print(linspace(0, 100)) # default step is 50\n",
        "larr = logspace(1, 20) # default step is 50, default base is 10.0\n",
        "# for i in larr:\n",
        "#     print(i)\n",
        "print(larr)\n",
        "print(arange(100, 1, -1)) # reverse / decrement\n",
        "print(zeros(20)) # returns ndarray filled with zeros in specified shape"
      ],
      "metadata": {
        "colab": {
          "base_uri": "https://localhost:8080/"
        },
        "id": "9pCFvnp2X6h1",
        "outputId": "f50e39d2-dd38-4c11-a602-c20f2ee6e172"
      },
      "execution_count": 17,
      "outputs": [
        {
          "output_type": "stream",
          "name": "stdout",
          "text": [
            "[1 2 3 4 5]\n",
            "['a' 'b' 'c']\n",
            "['Python' 'Django' 'Django Rest']\n",
            "[  0.           2.04081633   4.08163265   6.12244898   8.16326531\n",
            "  10.20408163  12.24489796  14.28571429  16.32653061  18.36734694\n",
            "  20.40816327  22.44897959  24.48979592  26.53061224  28.57142857\n",
            "  30.6122449   32.65306122  34.69387755  36.73469388  38.7755102\n",
            "  40.81632653  42.85714286  44.89795918  46.93877551  48.97959184\n",
            "  51.02040816  53.06122449  55.10204082  57.14285714  59.18367347\n",
            "  61.2244898   63.26530612  65.30612245  67.34693878  69.3877551\n",
            "  71.42857143  73.46938776  75.51020408  77.55102041  79.59183673\n",
            "  81.63265306  83.67346939  85.71428571  87.75510204  89.79591837\n",
            "  91.83673469  93.87755102  95.91836735  97.95918367 100.        ]\n",
            "[1.00000000e+01 2.44205309e+01 5.96362332e+01 1.45634848e+02\n",
            " 3.55648031e+02 8.68511374e+02 2.12095089e+03 5.17947468e+03\n",
            " 1.26485522e+04 3.08884360e+04 7.54312006e+04 1.84206997e+05\n",
            " 4.49843267e+05 1.09854114e+06 2.68269580e+06 6.55128557e+06\n",
            " 1.59985872e+07 3.90693994e+07 9.54095476e+07 2.32995181e+08\n",
            " 5.68986603e+08 1.38949549e+09 3.39322177e+09 8.28642773e+09\n",
            " 2.02358965e+10 4.94171336e+10 1.20679264e+11 2.94705170e+11\n",
            " 7.19685673e+11 1.75751062e+12 4.29193426e+12 1.04811313e+13\n",
            " 2.55954792e+13 6.25055193e+13 1.52641797e+14 3.72759372e+14\n",
            " 9.10298178e+14 2.22299648e+15 5.42867544e+15 1.32571137e+16\n",
            " 3.23745754e+16 7.90604321e+16 1.93069773e+17 4.71486636e+17\n",
            " 1.15139540e+18 2.81176870e+18 6.86648845e+18 1.67683294e+19\n",
            " 4.09491506e+19 1.00000000e+20]\n",
            "[100  99  98  97  96  95  94  93  92  91  90  89  88  87  86  85  84  83\n",
            "  82  81  80  79  78  77  76  75  74  73  72  71  70  69  68  67  66  65\n",
            "  64  63  62  61  60  59  58  57  56  55  54  53  52  51  50  49  48  47\n",
            "  46  45  44  43  42  41  40  39  38  37  36  35  34  33  32  31  30  29\n",
            "  28  27  26  25  24  23  22  21  20  19  18  17  16  15  14  13  12  11\n",
            "  10   9   8   7   6   5   4   3   2]\n",
            "[0. 0. 0. 0. 0. 0. 0. 0. 0. 0. 0. 0. 0. 0. 0. 0. 0. 0. 0. 0.]\n"
          ]
        }
      ]
    },
    {
      "cell_type": "markdown",
      "source": [
        "- `numpy.ones(shape, dtype=None, order='C', *, like=None)`\n",
        "    - out:`ndarray`, return a new array of given shape and type, filled with ones\n",
        "    - `shape` : int or tuple of ints, shape of the new array e.g. `(2, 3)` or `2`\n",
        "    - `dtype` : datatype, optional, the desired data-type for the array. e.g. `numpy.int8` , default is `numpy.float64`\n",
        "    - `order` : {'C', 'F'}, optional, default: 'C', whether to store multi-dimensional data in row-major (C-style) or column-major (Fortran-style) order in memory\n",
        "    - `like` : array_like, optional\n",
        "        - Reference object to allow the creation of NumPy arrays\n",
        "        - If an array-like passed in as ``like`` supports the ``__array_function__`` protocol, the result will be defined by it\n",
        "        - in this case, it ensures the creation of an array object compatible with that passed in via this argument"
      ],
      "metadata": {
        "id": "LKvuaWsRodsK"
      }
    },
    {
      "cell_type": "code",
      "source": [
        "from numpy import *\n",
        "\n",
        "arr = array([1, 2, 3, 4, 5], int) # number array\n",
        "carr = array(['a', 'b', 'c']) # character arrray\n",
        "sarr = array(['Python', 'Django', 'Django Rest'], dtype=str) # string array\n",
        "print(arr)\n",
        "print(carr)\n",
        "print(sarr)\n",
        "\n",
        "print(linspace(0, 100)) # default step is 50\n",
        "larr = logspace(1, 20) # default step is 50, default base is 10.0\n",
        "# for i in larr:\n",
        "#     print(i)\n",
        "print(larr)\n",
        "print(arange(100, 1, -1)) # reverse / decrement\n",
        "print(zeros(20)) # returns ndarray filled with zeros in specified shape\n",
        "print(ones(10)) # returns ndarray filled with ones in specified shape"
      ],
      "metadata": {
        "colab": {
          "base_uri": "https://localhost:8080/"
        },
        "id": "UUF-m9U-Y1aN",
        "outputId": "42ebd781-3af2-4eb7-aa73-c3839a7594bf"
      },
      "execution_count": 18,
      "outputs": [
        {
          "output_type": "stream",
          "name": "stdout",
          "text": [
            "[1 2 3 4 5]\n",
            "['a' 'b' 'c']\n",
            "['Python' 'Django' 'Django Rest']\n",
            "[  0.           2.04081633   4.08163265   6.12244898   8.16326531\n",
            "  10.20408163  12.24489796  14.28571429  16.32653061  18.36734694\n",
            "  20.40816327  22.44897959  24.48979592  26.53061224  28.57142857\n",
            "  30.6122449   32.65306122  34.69387755  36.73469388  38.7755102\n",
            "  40.81632653  42.85714286  44.89795918  46.93877551  48.97959184\n",
            "  51.02040816  53.06122449  55.10204082  57.14285714  59.18367347\n",
            "  61.2244898   63.26530612  65.30612245  67.34693878  69.3877551\n",
            "  71.42857143  73.46938776  75.51020408  77.55102041  79.59183673\n",
            "  81.63265306  83.67346939  85.71428571  87.75510204  89.79591837\n",
            "  91.83673469  93.87755102  95.91836735  97.95918367 100.        ]\n",
            "[1.00000000e+01 2.44205309e+01 5.96362332e+01 1.45634848e+02\n",
            " 3.55648031e+02 8.68511374e+02 2.12095089e+03 5.17947468e+03\n",
            " 1.26485522e+04 3.08884360e+04 7.54312006e+04 1.84206997e+05\n",
            " 4.49843267e+05 1.09854114e+06 2.68269580e+06 6.55128557e+06\n",
            " 1.59985872e+07 3.90693994e+07 9.54095476e+07 2.32995181e+08\n",
            " 5.68986603e+08 1.38949549e+09 3.39322177e+09 8.28642773e+09\n",
            " 2.02358965e+10 4.94171336e+10 1.20679264e+11 2.94705170e+11\n",
            " 7.19685673e+11 1.75751062e+12 4.29193426e+12 1.04811313e+13\n",
            " 2.55954792e+13 6.25055193e+13 1.52641797e+14 3.72759372e+14\n",
            " 9.10298178e+14 2.22299648e+15 5.42867544e+15 1.32571137e+16\n",
            " 3.23745754e+16 7.90604321e+16 1.93069773e+17 4.71486636e+17\n",
            " 1.15139540e+18 2.81176870e+18 6.86648845e+18 1.67683294e+19\n",
            " 4.09491506e+19 1.00000000e+20]\n",
            "[100  99  98  97  96  95  94  93  92  91  90  89  88  87  86  85  84  83\n",
            "  82  81  80  79  78  77  76  75  74  73  72  71  70  69  68  67  66  65\n",
            "  64  63  62  61  60  59  58  57  56  55  54  53  52  51  50  49  48  47\n",
            "  46  45  44  43  42  41  40  39  38  37  36  35  34  33  32  31  30  29\n",
            "  28  27  26  25  24  23  22  21  20  19  18  17  16  15  14  13  12  11\n",
            "  10   9   8   7   6   5   4   3   2]\n",
            "[0. 0. 0. 0. 0. 0. 0. 0. 0. 0. 0. 0. 0. 0. 0. 0. 0. 0. 0. 0.]\n",
            "[1. 1. 1. 1. 1. 1. 1. 1. 1. 1.]\n"
          ]
        }
      ]
    },
    {
      "cell_type": "markdown",
      "source": [
        "## 290. Using math functions\n",
        "- You'll learn certain mathematical functions that NumPy provides out-of-the-box, so that we can apply them on an array or multiple arrays"
      ],
      "metadata": {
        "id": "pnyHtoZNpWYM"
      }
    },
    {
      "cell_type": "code",
      "source": [
        "# mathfunctions.py\n",
        "from numpy import *\n",
        "\n",
        "a1 = array([1, 2, 3, 4])\n",
        "a2 = array([10, 11, 12, 13])\n",
        "print(a1 + a2) # adds two arrays"
      ],
      "metadata": {
        "colab": {
          "base_uri": "https://localhost:8080/"
        },
        "id": "1LfuLG8opQCo",
        "outputId": "07a2817a-b004-4adc-eaae-4c3a5a4ab7e3"
      },
      "execution_count": 19,
      "outputs": [
        {
          "output_type": "stream",
          "name": "stdout",
          "text": [
            "[11 13 15 17]\n"
          ]
        }
      ]
    },
    {
      "cell_type": "code",
      "source": [
        "# mathfunctions.py\n",
        "from numpy import *\n",
        "\n",
        "a1 = array([1, 2, 3, 4])\n",
        "a2 = array([10, 11, 12, 13])\n",
        "print(a1 + a2) # adds two arrays\n",
        "print(a1 - 2) # broadcasting operation, subtracts 2 from every element"
      ],
      "metadata": {
        "colab": {
          "base_uri": "https://localhost:8080/"
        },
        "id": "tZ_SR9GEuNUR",
        "outputId": "a86cd5e7-9aad-47dc-9533-debc7be528ba"
      },
      "execution_count": 20,
      "outputs": [
        {
          "output_type": "stream",
          "name": "stdout",
          "text": [
            "[11 13 15 17]\n",
            "[-1  0  1  2]\n"
          ]
        }
      ]
    },
    {
      "cell_type": "code",
      "source": [
        "# mathfunctions.py\n",
        "from numpy import *\n",
        "\n",
        "a1 = array([1, 2, 3, 4])\n",
        "a2 = array([10, 11, 12, 13])\n",
        "print(a1 + a2) # adds two arrays\n",
        "print(a1 - 2) # broadcasting operation, subtracts 2 from every element\n",
        "print(sin(a1)) # sin function is applied to all the elements"
      ],
      "metadata": {
        "colab": {
          "base_uri": "https://localhost:8080/"
        },
        "id": "aJO1bzUBuXnz",
        "outputId": "0654bbd8-a2d6-4617-98a2-8ddd7a3436de"
      },
      "execution_count": 21,
      "outputs": [
        {
          "output_type": "stream",
          "name": "stdout",
          "text": [
            "[11 13 15 17]\n",
            "[-1  0  1  2]\n",
            "[ 0.84147098  0.90929743  0.14112001 -0.7568025 ]\n"
          ]
        }
      ]
    },
    {
      "cell_type": "code",
      "source": [
        "# mathfunctions.py\n",
        "from numpy import *\n",
        "\n",
        "a1 = array([1, 2, 3, 4])\n",
        "a2 = array([10, 11, 12, 13])\n",
        "print(a1 + a2) # adds two arrays\n",
        "print(a1 - 2) # broadcasting operation, subtracts 2 from every element\n",
        "print(sin(a1)) # sin function is applied to all the elements\n",
        "print(log(a1)) # log of all the elements"
      ],
      "metadata": {
        "colab": {
          "base_uri": "https://localhost:8080/"
        },
        "id": "BzaT37T6vt5D",
        "outputId": "0c23021e-adf5-4dd8-99cf-1ccbeeb6bf04"
      },
      "execution_count": 22,
      "outputs": [
        {
          "output_type": "stream",
          "name": "stdout",
          "text": [
            "[11 13 15 17]\n",
            "[-1  0  1  2]\n",
            "[ 0.84147098  0.90929743  0.14112001 -0.7568025 ]\n",
            "[0.         0.69314718 1.09861229 1.38629436]\n"
          ]
        }
      ]
    },
    {
      "cell_type": "code",
      "source": [
        "# mathfunctions.py\n",
        "from numpy import *\n",
        "\n",
        "a1 = array([1, 2, 3, 4])\n",
        "a2 = array([10, 11, 12, 13])\n",
        "print(a1 + a2) # adds two arrays\n",
        "print(a1 - 2) # broadcasting operation, subtracts 2 from every element\n",
        "print(sin(a1)) # sin function is applied to all the elements\n",
        "print(log(a1)) # log of all the elements\n",
        "print(mean(a1)) # mean of all the elements"
      ],
      "metadata": {
        "colab": {
          "base_uri": "https://localhost:8080/"
        },
        "id": "cyH2Lu7UwAkl",
        "outputId": "ddf34957-7cbd-4f1e-f16a-491a3a415e63"
      },
      "execution_count": 23,
      "outputs": [
        {
          "output_type": "stream",
          "name": "stdout",
          "text": [
            "[11 13 15 17]\n",
            "[-1  0  1  2]\n",
            "[ 0.84147098  0.90929743  0.14112001 -0.7568025 ]\n",
            "[0.         0.69314718 1.09861229 1.38629436]\n",
            "2.5\n"
          ]
        }
      ]
    },
    {
      "cell_type": "code",
      "source": [
        "# mathfunctions.py\n",
        "from numpy import *\n",
        "\n",
        "a1 = array([1, 2, 3, -4])\n",
        "a2 = array([10, 11, 12, 13])\n",
        "print(a1 + a2) # adds two arrays\n",
        "print(a1 - 2) # broadcasting operation, subtracts 2 from every element\n",
        "print(sin(a1)) # sin function is applied to all the elements\n",
        "# print(log(a1)) # log of all the elements\n",
        "print(mean(a1)) # mean of all the elements\n",
        "print(abs(a1))# absolute values' array"
      ],
      "metadata": {
        "colab": {
          "base_uri": "https://localhost:8080/"
        },
        "id": "Sdb8XNFHwGBI",
        "outputId": "b662ee6d-6071-49de-c402-dda67253bda4"
      },
      "execution_count": 24,
      "outputs": [
        {
          "output_type": "stream",
          "name": "stdout",
          "text": [
            "[11 13 15  9]\n",
            "[-1  0  1 -6]\n",
            "[0.84147098 0.90929743 0.14112001 0.7568025 ]\n",
            "0.5\n",
            "[1 2 3 4]\n"
          ]
        }
      ]
    },
    {
      "cell_type": "code",
      "source": [
        "# mathfunctions.py\n",
        "from numpy import *\n",
        "\n",
        "a1 = array([1, 2, 3, -4])\n",
        "a2 = array([10, 11, 12, 13])\n",
        "print(a1 + a2) # adds two arrays\n",
        "print(a1 - 2) # broadcasting operation, subtracts 2 from every element\n",
        "print(sin(a1)) # sin function is applied to all the elements\n",
        "# print(log(a1)) # log of all the elements\n",
        "print(mean(a1)) # mean of all the elements\n",
        "print(abs(a1)) # absolute values' array\n",
        "print(min(a1)) # minimum value from elements of array"
      ],
      "metadata": {
        "colab": {
          "base_uri": "https://localhost:8080/"
        },
        "id": "doSocydqwOBy",
        "outputId": "eb0866d7-65dc-465c-85f7-38fa0de31a05"
      },
      "execution_count": 25,
      "outputs": [
        {
          "output_type": "stream",
          "name": "stdout",
          "text": [
            "[11 13 15  9]\n",
            "[-1  0  1 -6]\n",
            "[0.84147098 0.90929743 0.14112001 0.7568025 ]\n",
            "0.5\n",
            "[1 2 3 4]\n",
            "-4\n"
          ]
        }
      ]
    },
    {
      "cell_type": "code",
      "source": [
        "# mathfunctions.py\n",
        "from numpy import *\n",
        "\n",
        "a1 = array([1, 2, 3, -4])\n",
        "a2 = array([10, 11, 12, 13])\n",
        "print(a1 + a2) # adds two arrays\n",
        "print(a1 - 2) # broadcasting operation, subtracts 2 from every element\n",
        "print(sin(a1)) # sin function is applied to all the elements\n",
        "# print(log(a1)) # log of all the elements\n",
        "print(mean(a1)) # mean of all the elements\n",
        "print(abs(a1)) # absolute values' array\n",
        "print(min(a1)) # minimum value from elements of array\n",
        "print(max(a1)) # mamximum value from elements of array"
      ],
      "metadata": {
        "colab": {
          "base_uri": "https://localhost:8080/"
        },
        "id": "rrHH_0aBwkbi",
        "outputId": "57fa0167-e7d8-4faa-e65a-44d6a5ad26ff"
      },
      "execution_count": 26,
      "outputs": [
        {
          "output_type": "stream",
          "name": "stdout",
          "text": [
            "[11 13 15  9]\n",
            "[-1  0  1 -6]\n",
            "[0.84147098 0.90929743 0.14112001 0.7568025 ]\n",
            "0.5\n",
            "[1 2 3 4]\n",
            "-4\n",
            "3\n"
          ]
        }
      ]
    },
    {
      "cell_type": "code",
      "source": [
        "# mathfunctions.py\n",
        "from numpy import *\n",
        "\n",
        "a1 = array([1, 2, 3, 4])\n",
        "a2 = array([10, 11, 12, 13])\n",
        "print(a1 + a2) # adds two arrays\n",
        "print(a1 - 2) # broadcasting operation, subtracts 2 from every element\n",
        "print(sin(a1)) # sin function is applied to all the elements\n",
        "# print(log(a1)) # log of all the elements\n",
        "print(mean(a1)) # mean of all the elements\n",
        "print(abs(a1)) # absolute values' array\n",
        "print(min(a1)) # minimum value from elements of array\n",
        "print(max(a1)) # mamximum value from elements of array\n",
        "print(pow(a1, 2)) # power 2 of each element\n",
        "print(pow(2, a1)) # power of array a1 to base 2"
      ],
      "metadata": {
        "colab": {
          "base_uri": "https://localhost:8080/"
        },
        "id": "QKYrGE1fw1HX",
        "outputId": "39cee01b-67e8-40d0-f180-da48c250b41a"
      },
      "execution_count": 27,
      "outputs": [
        {
          "output_type": "stream",
          "name": "stdout",
          "text": [
            "[11 13 15 17]\n",
            "[-1  0  1  2]\n",
            "[ 0.84147098  0.90929743  0.14112001 -0.7568025 ]\n",
            "2.5\n",
            "[1 2 3 4]\n",
            "1\n",
            "4\n",
            "[ 1  4  9 16]\n",
            "[ 2  4  8 16]\n"
          ]
        }
      ]
    },
    {
      "cell_type": "code",
      "source": [
        "# mathfunctions.py\n",
        "from numpy import *\n",
        "\n",
        "a1 = array([1, 2, 3, 4])\n",
        "a2 = array([10, 11, 12, 13])\n",
        "print(a1 + a2) # adds two arrays\n",
        "print(a1 - 2) # broadcasting operation, subtracts 2 from every element\n",
        "print(sin(a1)) # sin function is applied to all the elements\n",
        "# print(log(a1)) # log of all the elements\n",
        "print(mean(a1)) # mean of all the elements\n",
        "print(abs(a1)) # absolute values' array\n",
        "print(min(a1)) # minimum value from elements of array\n",
        "print(max(a1)) # mamximum value from elements of array\n",
        "print(pow(a1, 2)) # power 2 of each element\n",
        "print(pow(2, a1)) # power of array a1 to base 2\n",
        "print(sqrt(a1)) # square-root of each element"
      ],
      "metadata": {
        "colab": {
          "base_uri": "https://localhost:8080/"
        },
        "id": "d2IC0_egw8Ti",
        "outputId": "5e1bf6f0-9edf-4936-e448-6819ae1bc736"
      },
      "execution_count": 28,
      "outputs": [
        {
          "output_type": "stream",
          "name": "stdout",
          "text": [
            "[11 13 15 17]\n",
            "[-1  0  1  2]\n",
            "[ 0.84147098  0.90929743  0.14112001 -0.7568025 ]\n",
            "2.5\n",
            "[1 2 3 4]\n",
            "1\n",
            "4\n",
            "[ 1  4  9 16]\n",
            "[ 2  4  8 16]\n",
            "[1.         1.41421356 1.73205081 2.        ]\n"
          ]
        }
      ]
    },
    {
      "cell_type": "code",
      "source": [
        "# mathfunctions.py\n",
        "from numpy import *\n",
        "\n",
        "a1 = array([1, 2, 3, 4])\n",
        "a2 = array([10, 11, 12, 13])\n",
        "print(a1 + a2) # adds two arrays\n",
        "print(a1 - 2) # broadcasting operation, subtracts 2 from every element\n",
        "print(sin(a1)) # sin function is applied to all the elements\n",
        "# print(log(a1)) # log of all the elements\n",
        "print(mean(a1)) # mean of all the elements\n",
        "print(abs(a1)) # absolute values' array\n",
        "print(min(a1)) # minimum value from elements of array\n",
        "print(max(a1)) # mamximum value from elements of array\n",
        "print(pow(a1, 2)) # power 2 of each element\n",
        "print(pow(2, a1)) # power of array a1 to base 2\n",
        "print(sqrt(a1)) # square-root of each element\n",
        "print(exp(a1)) # exponent value of each element"
      ],
      "metadata": {
        "colab": {
          "base_uri": "https://localhost:8080/"
        },
        "id": "fBnijv8-xtZk",
        "outputId": "44e6e754-7df7-46b1-d6df-e168cd16bed5"
      },
      "execution_count": 29,
      "outputs": [
        {
          "output_type": "stream",
          "name": "stdout",
          "text": [
            "[11 13 15 17]\n",
            "[-1  0  1  2]\n",
            "[ 0.84147098  0.90929743  0.14112001 -0.7568025 ]\n",
            "2.5\n",
            "[1 2 3 4]\n",
            "1\n",
            "4\n",
            "[ 1  4  9 16]\n",
            "[ 2  4  8 16]\n",
            "[1.         1.41421356 1.73205081 2.        ]\n",
            "[ 2.71828183  7.3890561  20.08553692 54.59815003]\n"
          ]
        }
      ]
    },
    {
      "cell_type": "code",
      "source": [
        "# mathfunctions.py\n",
        "from numpy import *\n",
        "\n",
        "a1 = array([1, 2, 3, 4])\n",
        "a2 = array([10, 11, 12, 13])\n",
        "print(a1 + a2) # adds two arrays\n",
        "print(a1 - 2) # broadcasting operation, subtracts 2 from every element\n",
        "print(sin(a1)) # sin function is applied to all the elements\n",
        "# print(log(a1)) # log of all the elements\n",
        "print(mean(a1)) # mean of all the elements\n",
        "print(abs(a1)) # absolute values' array\n",
        "print(min(a1)) # minimum value from elements of array\n",
        "print(max(a1)) # mamximum value from elements of array\n",
        "print(pow(a1, 2)) # power 2 of each element\n",
        "print(pow(2, a1)) # power of array a1 to base 2\n",
        "print(sqrt(a1)) # square-root of each element\n",
        "print(exp(a1)) # exponent value of each element\n",
        "print(sum(a2)) # sum of all elements of a1"
      ],
      "metadata": {
        "colab": {
          "base_uri": "https://localhost:8080/"
        },
        "id": "CfLuCCMAzn-e",
        "outputId": "ee5f3b9f-26b5-41b2-ec91-3773488c88ea"
      },
      "execution_count": 30,
      "outputs": [
        {
          "output_type": "stream",
          "name": "stdout",
          "text": [
            "[11 13 15 17]\n",
            "[-1  0  1  2]\n",
            "[ 0.84147098  0.90929743  0.14112001 -0.7568025 ]\n",
            "2.5\n",
            "[1 2 3 4]\n",
            "1\n",
            "4\n",
            "[ 1  4  9 16]\n",
            "[ 2  4  8 16]\n",
            "[1.         1.41421356 1.73205081 2.        ]\n",
            "[ 2.71828183  7.3890561  20.08553692 54.59815003]\n",
            "46\n"
          ]
        }
      ]
    },
    {
      "cell_type": "markdown",
      "source": [
        "## 291. Array Comparison\n",
        "- We'll learn how to comapre two arrays with same number of elements in NumPy\n",
        "- it compares every element of one array with eavery corresponding element of another array"
      ],
      "metadata": {
        "id": "54rNPjL_0KxY"
      }
    },
    {
      "cell_type": "code",
      "source": [
        "# comparison.py\n",
        "from numpy import *\n",
        "\n",
        "a1 = array([10, 30, 50, 70, 90])\n",
        "a2 = array([20, 40, 60, 80, 100])\n",
        "\n",
        "print(a1>a2)"
      ],
      "metadata": {
        "colab": {
          "base_uri": "https://localhost:8080/"
        },
        "id": "hZ6yksNczowU",
        "outputId": "9e30e430-785f-4cba-c7d7-e442fc822651"
      },
      "execution_count": 31,
      "outputs": [
        {
          "output_type": "stream",
          "name": "stdout",
          "text": [
            "[False False False False False]\n"
          ]
        }
      ]
    },
    {
      "cell_type": "code",
      "source": [
        "from numpy import *\n",
        "\n",
        "a1 = array([10, 30, 50, 70, 90])\n",
        "a2 = array([20, 40, 60, 80, 100])\n",
        "\n",
        "print(a1>a2)\n",
        "print(a1<a2)"
      ],
      "metadata": {
        "colab": {
          "base_uri": "https://localhost:8080/"
        },
        "id": "dwCyRZuDLtqU",
        "outputId": "0204804a-a253-4149-aa14-a62ce2c67c9d"
      },
      "execution_count": 32,
      "outputs": [
        {
          "output_type": "stream",
          "name": "stdout",
          "text": [
            "[False False False False False]\n",
            "[ True  True  True  True  True]\n"
          ]
        }
      ]
    },
    {
      "cell_type": "code",
      "source": [
        "from numpy import *\n",
        "\n",
        "a1 = array([10, 30, 50, 70, 110]) # changed one element\n",
        "a2 = array([20, 40, 60, 80, 100])\n",
        "\n",
        "print(a1>a2)\n",
        "print(a1<a2)"
      ],
      "metadata": {
        "colab": {
          "base_uri": "https://localhost:8080/"
        },
        "id": "Ulz2q8TyMBAp",
        "outputId": "3873ff6e-085f-453e-aee3-ae934e79f2b4"
      },
      "execution_count": 33,
      "outputs": [
        {
          "output_type": "stream",
          "name": "stdout",
          "text": [
            "[False False False False  True]\n",
            "[ True  True  True  True False]\n"
          ]
        }
      ]
    },
    {
      "cell_type": "code",
      "source": [
        "from numpy import *\n",
        "\n",
        "a1 = array([10, 30, 50, 70, 100]) # changed one element again\n",
        "a2 = array([20, 40, 60, 80, 100])\n",
        "\n",
        "print(a1 > a2)\n",
        "print(a1 < a2)\n",
        "print(a1 >= a2)"
      ],
      "metadata": {
        "colab": {
          "base_uri": "https://localhost:8080/"
        },
        "id": "J2dgirD6MJEx",
        "outputId": "b4f2221d-d4bd-4311-d4e6-bdfb133d069c"
      },
      "execution_count": 34,
      "outputs": [
        {
          "output_type": "stream",
          "name": "stdout",
          "text": [
            "[False False False False False]\n",
            "[ True  True  True  True False]\n",
            "[False False False False  True]\n"
          ]
        }
      ]
    },
    {
      "cell_type": "markdown",
      "source": [
        "- `any(a, axis=None, out=None, keepdims=<no value>, *, where=<no value>)`\n",
        "    - Test whether any array element along a given axis evealuates to True\n",
        "    - returns single boolean if `axis` is ``None``\n",
        "    - returns, any : bool or ndarray , a new boolean or `ndarray ` is returned unless `out` is specified, in which case a reference to `out` is returned\n",
        "    - `a` : array_like, input array or object that can be conerted to an array\n",
        "    - `axis` : None or int or tuple of ints, optional\n",
        "        - axis or axes along which a logical OR reduction is performed\n",
        "        - The default (``axis=None``) is to perform a logical OR over all the dimensions of the input array\n",
        "        - `axis` may be negative, in which case it counts from the last to the first axis"
      ],
      "metadata": {
        "id": "q4QiXpFxMyqo"
      }
    },
    {
      "cell_type": "code",
      "source": [
        "from numpy import *\n",
        "\n",
        "a1 = array([10, 30, 50, 70, 100])\n",
        "a2 = array([20, 40, 60, 80, 100])\n",
        "\n",
        "print(a1 > a2)\n",
        "print(a1 < a2)\n",
        "print(a1 >= a2)\n",
        "\n",
        "print(any(a1 >= a2)) # does logical OR comparison"
      ],
      "metadata": {
        "colab": {
          "base_uri": "https://localhost:8080/"
        },
        "id": "0DIFKl0AMc-8",
        "outputId": "69c5ba64-deaf-42b5-cce6-1a4a06f220ca"
      },
      "execution_count": 35,
      "outputs": [
        {
          "output_type": "stream",
          "name": "stdout",
          "text": [
            "[False False False False False]\n",
            "[ True  True  True  True False]\n",
            "[False False False False  True]\n",
            "True\n"
          ]
        }
      ]
    },
    {
      "cell_type": "markdown",
      "source": [
        "- `all(a, axis=None, out=None, keepdims=<no value>, *, where=<no value>)`\n",
        "    - Test whether all array elements alonga  given axis evaluate to True\n",
        "    - returns all: ndarray or bool, a new boolean or array is returned unless `out` is specified, in which case a reference to `out` is returned\n",
        "    - `a` : array_like, input array or object that can be conerted to an array\n",
        "    - `axis` : None or int or tuple of ints, optional\n",
        "        - axis or axes along which a logical OR reduction is performed\n",
        "        - The default (``axis=None``) is to perform a logical OR over all the dimensions of the input array\n",
        "        - `axis` may be negative, in which case it counts from the last to the first axis"
      ],
      "metadata": {
        "id": "vFQY9L4fVSbv"
      }
    },
    {
      "cell_type": "code",
      "source": [
        "from numpy import *\n",
        "\n",
        "a1 = array([10, 30, 50, 70, 100])\n",
        "a2 = array([20, 40, 60, 80, 100])\n",
        "\n",
        "print(a1 > a2)\n",
        "print(a1 < a2)\n",
        "print(a1 >= a2)\n",
        "\n",
        "print(any(a1 >= a2)) # does logical OR comparison\n",
        "print(all(a1 >= a2)) # does logical AND comparison"
      ],
      "metadata": {
        "colab": {
          "base_uri": "https://localhost:8080/"
        },
        "id": "uPogGNX_VHBf",
        "outputId": "2627bf6d-261d-4747-c88a-0dbda042558e"
      },
      "execution_count": 36,
      "outputs": [
        {
          "output_type": "stream",
          "name": "stdout",
          "text": [
            "[False False False False False]\n",
            "[ True  True  True  True False]\n",
            "[False False False False  True]\n",
            "True\n",
            "False\n"
          ]
        }
      ]
    },
    {
      "cell_type": "code",
      "source": [
        "from numpy import *\n",
        "\n",
        "a1 = array([10, 30, 50, 70, 100])\n",
        "a2 = array([20, 40, 60, 80, 100])\n",
        "\n",
        "print(a1 > a2)\n",
        "print(a1 < a2)\n",
        "print(a1 >= a2)\n",
        "\n",
        "print(any(a1 >= a2)) # does logical OR comparison\n",
        "print(all(a1 >= a2)) # does logical AND comparison\n",
        "print(all(a1 <= a2))"
      ],
      "metadata": {
        "colab": {
          "base_uri": "https://localhost:8080/"
        },
        "id": "7d5Qr0bVXINe",
        "outputId": "9fa029de-1b2d-410f-dfe4-1112c566f66d"
      },
      "execution_count": 37,
      "outputs": [
        {
          "output_type": "stream",
          "name": "stdout",
          "text": [
            "[False False False False False]\n",
            "[ True  True  True  True False]\n",
            "[False False False False  True]\n",
            "True\n",
            "False\n",
            "True\n"
          ]
        }
      ]
    },
    {
      "cell_type": "code",
      "source": [
        "from numpy import *\n",
        "\n",
        "a1 = array([10, 30, 50, 70, 100])\n",
        "a2 = array([20, 40, 60, 80, 100])\n",
        "\n",
        "print(a1 > a2)\n",
        "print(a1 < a2)\n",
        "print(a1 >= a2)\n",
        "\n",
        "print(any(a1 >= a2)) # does logical OR comparison\n",
        "print(all(a1 >= a2)) # does logical AND comparison\n",
        "print(any(a1 <= a2))\n",
        "print(all(a1 <= a2))"
      ],
      "metadata": {
        "colab": {
          "base_uri": "https://localhost:8080/"
        },
        "id": "WBMC1XCgYfGP",
        "outputId": "a545335f-7132-4a53-82f2-46af1d3ee809"
      },
      "execution_count": 38,
      "outputs": [
        {
          "output_type": "stream",
          "name": "stdout",
          "text": [
            "[False False False False False]\n",
            "[ True  True  True  True False]\n",
            "[False False False False  True]\n",
            "True\n",
            "False\n",
            "True\n",
            "True\n"
          ]
        }
      ]
    },
    {
      "cell_type": "markdown",
      "source": [
        "## 292. More Comparison Functions\n",
        "- You'll learn three more array comparison functions provided by NumPy\n",
        "- These functions take multiple conditions and checks if each element in an array follows these conditions\n",
        "- `numpy.logical_and(x1, x2, /, out=None, *, where=True, casting='same_kind', order='K', dtype=None, subok=True[, signature, extobj])`\n",
        "    - compute the truth value of `x1` AND `x2` element-wise\n",
        "    - returns `y` : ndarray or bool\n",
        "        - boolean result of the logical AND operation applied to the elements of `x1` and `x2`, the shape is determined by broadcasting\n",
        "        - This is a scalar if both `x1` and `x2` are scalars\n",
        "    - `x1`, `x2` : array_like, input arrays\n",
        "        - if ``x1.shape!=x2.shape``, they must be broadcastable to a common shape (which becomes the shape of the output)\n",
        "    - `out` : ndarray, None, or tuple of ndarray and None, optional\n",
        "        - a location into which the result is stored, If provided, it must have a shape that the inputs broadcast to. If not provided or None, a freshly allocated array is returned. A tuple (possible only as an keyword argument) must have length equal to the number of outputs\n",
        "    - `where` : array_like, optional\n",
        "        - This condition is broadcast over the input. At locations where the condition is True, the `out` array will be set to ufunc result\n",
        "        - Elsewhere, the `out` array, will retain its original value\n",
        "        - Note that if an uninitialized `out` array is created via the default ``out=None``, locations within it where the condition is False will remain uninitialized\n",
        "    - The ``&`` operator can be used as a shorthand for ``numpy.logical_and`` on\n",
        "boolean ndarrays."
      ],
      "metadata": {
        "id": "9KJFzivkZHrp"
      }
    },
    {
      "cell_type": "code",
      "source": [
        "from numpy import *\n",
        "\n",
        "a1 = array([10, 30, 50, 70, 100])\n",
        "a2 = array([20, 40, 60, 80, 100])\n",
        "\n",
        "print(a1 > a2)\n",
        "print(a1 < a2)\n",
        "print(a1 >= a2)\n",
        "\n",
        "print(any(a1 >= a2)) # does logical OR comparison\n",
        "print(all(a1 >= a2)) # does logical AND comparison\n",
        "print(any(a1 <= a2))\n",
        "print(all(a1 <= a2))\n",
        "\n",
        "print(logical_and(a1 > 10, a1 < 101)) # check multiple logical conditions with logical AND on elements of ndarray"
      ],
      "metadata": {
        "colab": {
          "base_uri": "https://localhost:8080/"
        },
        "id": "iAGDJ_rpYom6",
        "outputId": "389a11aa-b2c8-44f9-e010-968676a44037"
      },
      "execution_count": 39,
      "outputs": [
        {
          "output_type": "stream",
          "name": "stdout",
          "text": [
            "[False False False False False]\n",
            "[ True  True  True  True False]\n",
            "[False False False False  True]\n",
            "True\n",
            "False\n",
            "True\n",
            "True\n",
            "[False  True  True  True  True]\n"
          ]
        }
      ]
    },
    {
      "cell_type": "code",
      "source": [
        "from numpy import *\n",
        "\n",
        "a1 = array([10, 30, 50, 70, 100])\n",
        "a2 = array([20, 40, 60, 80, 100])\n",
        "\n",
        "print(a1 > a2)\n",
        "print(a1 < a2)\n",
        "print(a1 >= a2)\n",
        "\n",
        "print(any(a1 >= a2)) # does logical OR comparison\n",
        "print(all(a1 >= a2)) # does logical AND comparison\n",
        "print(any(a1 <= a2))\n",
        "print(all(a1 <= a2))\n",
        "\n",
        "print(logical_and(a1 >= 10, a1 < 101)) # changed first condition"
      ],
      "metadata": {
        "colab": {
          "base_uri": "https://localhost:8080/"
        },
        "id": "vcO8fVxBwwhq",
        "outputId": "5aa96c7b-9361-4173-9a5d-1ad45de26bd5"
      },
      "execution_count": 40,
      "outputs": [
        {
          "output_type": "stream",
          "name": "stdout",
          "text": [
            "[False False False False False]\n",
            "[ True  True  True  True False]\n",
            "[False False False False  True]\n",
            "True\n",
            "False\n",
            "True\n",
            "True\n",
            "[ True  True  True  True  True]\n"
          ]
        }
      ]
    },
    {
      "cell_type": "markdown",
      "source": [
        "- `numpy.logical_or(x1, x2, /, out=None, *, where=True, casting='same_kind', order='K', dtype=None, subok=True[, signature, extobj])`\n",
        "    - compute the truth value of `x1` OR `x2` element-wise\n",
        "    - returns `y` : ndarray or bool\n",
        "        - Boolean result of the logical OR operation applied to the elements of `x1` and `x2`; the shape is determined by broadcasting.\n",
        "        - This is a scalar if both `x1` and `x2` are scalars.\n",
        "    - `x1`, `x2` : array_like\n",
        "        - Logical OR is applied to the elements of `x1` and `x2`.\n",
        "        - If ``x1.shape != x2.shape``, they must be broadcastable to a common shape (which becomes the shape of the output).\n",
        "    - `out` : ndarray, None, or tuple of ndarray and None, optional\n",
        "        - A location into which the result is stored.\n",
        "        - If provided, it must have a shape that the inputs broadcast to. If not provided or None, a freshly-allocated array is returned. A tuple (possible only as a keyword argument) must have length equal to the number of outputs.\n",
        "    - `where` : array_like, optional\n",
        "        - This condition is broadcast over the input. At locations where the condition is True, the `out` array will be set to the ufunc result.\n",
        "        - Elsewhere, the `out` array will retain its original value.\n",
        "        - Note that if an uninitialized `out` array is created via the default ``out=None``, locations within it where the condition is False will remain uninitialized.\n",
        "    - The ``|`` operator can be used as a shorthand for ``numpy.logical_or`` on\n",
        "boolean ndarrays."
      ],
      "metadata": {
        "id": "_eBIL94nxmZj"
      }
    },
    {
      "cell_type": "code",
      "source": [
        "from numpy import *\n",
        "\n",
        "a1 = array([10, 30, 50, 70, 100])\n",
        "a2 = array([20, 40, 60, 80, 100])\n",
        "\n",
        "print(a1 > a2)\n",
        "print(a1 < a2)\n",
        "print(a1 >= a2)\n",
        "\n",
        "print(any(a1 >= a2)) # does logical OR comparison\n",
        "print(all(a1 >= a2)) # does logical AND comparison\n",
        "print(any(a1 <= a2))\n",
        "print(all(a1 <= a2))\n",
        "\n",
        "print(logical_and(a1 > 10, a1 < 101)) # check multiple logical conditions with logical AND on elements of ndarray\n",
        "print(logical_or(a1 > 10, a1 < 101)) # check multiple logical conditions with logical OR on elements of ndarray"
      ],
      "metadata": {
        "colab": {
          "base_uri": "https://localhost:8080/"
        },
        "id": "D3Eo_G3IxHwV",
        "outputId": "a4fe1dd2-e287-4f48-c247-5c325bb85762"
      },
      "execution_count": 41,
      "outputs": [
        {
          "output_type": "stream",
          "name": "stdout",
          "text": [
            "[False False False False False]\n",
            "[ True  True  True  True False]\n",
            "[False False False False  True]\n",
            "True\n",
            "False\n",
            "True\n",
            "True\n",
            "[False  True  True  True  True]\n",
            "[ True  True  True  True  True]\n"
          ]
        }
      ]
    },
    {
      "cell_type": "markdown",
      "source": [
        "- `numpy.logical_not(x, /, out=None, *, where=True, casting='same_kind', order='K', dtype=None, subok=True[, signature, extobj])`\n",
        "    - Compute the truth value of NOT `x` element-wise\n",
        "    - returns `y` : bool or ndarray of bool\n",
        "        - boolean result with the same shape as `x` of the NOT operation on elements of `x`\n",
        "        - This is a scalar if `x` is scalar\n",
        "    - `x` : array_like\n",
        "        - Logical NOT is applied to the elements of `x`\n",
        "    - `out` : ndarray, None or tuple of ndarray and None, optional\n",
        "        - A location into which the result is stored\n",
        "        - If provided, it must have a shape that inputs broadcast to\n",
        "        - If not provided or None, a freshly-allocated array is returned\n",
        "        - A tuple (possible only as a keyword argument) must have the length equal to the number of outputs\n",
        "    - `where` : array_like, optional\n",
        "        - This condition is broadcast over the input\n",
        "        - At locations where the condition is True, the `out` array will be set to the ufunc result\n",
        "        - Elsewhere, the `out` will retain its original value\n",
        "        - Note that if an uninitialized `out` array is created via the default ``out=None``, locations within it where the condition is False will remain uninitialized"
      ],
      "metadata": {
        "id": "XS5TCh3batSO"
      }
    },
    {
      "cell_type": "code",
      "source": [
        "from numpy import *\n",
        "\n",
        "a1 = array([10, 30, 50, 70, 100])\n",
        "a2 = array([20, 40, 60, 80, 100])\n",
        "\n",
        "print(a1 > a2)\n",
        "print(a1 < a2)\n",
        "print(a1 >= a2)\n",
        "\n",
        "print(any(a1 >= a2)) # does logical OR comparison\n",
        "print(all(a1 >= a2)) # does logical AND comparison\n",
        "print(any(a1 <= a2))\n",
        "print(all(a1 <= a2))\n",
        "\n",
        "print(logical_and(a1 > 10, a1 < 101)) # check multiple logical conditions with logical AND on elements of ndarray\n",
        "print(logical_or(a1 > 10, a1 < 101)) # check multiple logical conditions with logical OR on elements of ndarray\n",
        "print(logical_not(a1 > 10))"
      ],
      "metadata": {
        "colab": {
          "base_uri": "https://localhost:8080/"
        },
        "id": "6miCuO6zzUOi",
        "outputId": "3832f208-7934-407b-f027-76109e29c3ba"
      },
      "execution_count": 42,
      "outputs": [
        {
          "output_type": "stream",
          "name": "stdout",
          "text": [
            "[False False False False False]\n",
            "[ True  True  True  True False]\n",
            "[False False False False  True]\n",
            "True\n",
            "False\n",
            "True\n",
            "True\n",
            "[False  True  True  True  True]\n",
            "[ True  True  True  True  True]\n",
            "[ True False False False False]\n"
          ]
        }
      ]
    },
    {
      "cell_type": "markdown",
      "source": [
        "- `logical_xor(x1, x2, /, out=None, *, where=True, casting='same_kind', order='K', dtype=None, subok=True[, signature, extobj])`\n",
        "    - Compute the truth value of `x1` XOR `x2`, element-wise.\n",
        "    - returns `y` : bool or ndarray of bool\n",
        "        - Boolean result of the logical XOR operation applied to the elements\n",
        "    of `x1` and `x2`; the shape is determined by broadcasting.\n",
        "        - This is a scalar if both `x1` and `x2` are scalars\n",
        "    - `x1`, `x2` : array_like\n",
        "        - Logical XOR is applied to the elements of `x1` and `x2`.\n",
        "    If ``x1.shape != x2.shape``, they must be broadcastable to a common\n",
        "    shape (which becomes the shape of the output).\n",
        "    - `out` : ndarray, None, or tuple of ndarray and None, optional\n",
        "        - A location into which the result is stored. If provided, it must have a shape that the inputs broadcast to.\n",
        "        - If not provided or None, a freshly-allocated array is returned.\n",
        "        - A tuple (possible only as a keyword argument) must have length equal to the number of outputs.\n",
        "    - `where` : array_like, optional\n",
        "        - This condition is broadcast over the input.\n",
        "        - At locations where the condition is True, the `out` array will be set to the ufunc result.\n",
        "        - Elsewhere, the `out` array will retain its original value.\n",
        "        - Note that if an uninitialized `out` array is created via the default ``out=None``, locations within it where the condition is False will remain uninitialized."
      ],
      "metadata": {
        "id": "wvSm1USCe1H7"
      }
    },
    {
      "cell_type": "code",
      "source": [
        "from numpy import *\n",
        "\n",
        "a1 = array([10, 30, 50, 70, 100])\n",
        "a2 = array([20, 40, 60, 80, 100])\n",
        "\n",
        "print(a1 > a2)\n",
        "print(a1 < a2)\n",
        "print(a1 >= a2)\n",
        "\n",
        "print(any(a1 >= a2)) # does logical OR comparison\n",
        "print(all(a1 >= a2)) # does logical AND comparison\n",
        "print(any(a1 <= a2))\n",
        "print(all(a1 <= a2))\n",
        "\n",
        "print(logical_and(a1 > 10, a1 < 101)) # check multiple logical conditions with logical AND on elements of ndarray\n",
        "print(logical_or(a1 > 10, a1 < 101)) # check multiple logical conditions with logical OR on elements of ndarray\n",
        "print(logical_not(a1 > 10))\n",
        "print(logical_xor(a1 > 10, a1 < 101))"
      ],
      "metadata": {
        "colab": {
          "base_uri": "https://localhost:8080/"
        },
        "id": "Ap6mNTkXeMZU",
        "outputId": "62b1a227-cd9e-4fa5-c69a-2d3a97ad43a2"
      },
      "execution_count": 43,
      "outputs": [
        {
          "output_type": "stream",
          "name": "stdout",
          "text": [
            "[False False False False False]\n",
            "[ True  True  True  True False]\n",
            "[False False False False  True]\n",
            "True\n",
            "False\n",
            "True\n",
            "True\n",
            "[False  True  True  True  True]\n",
            "[ True  True  True  True  True]\n",
            "[ True False False False False]\n",
            "[ True False False False False]\n"
          ]
        }
      ]
    },
    {
      "cell_type": "markdown",
      "source": [
        "- `numpy.where(condition, [x, y], /)`\n",
        "    - return elements chosen from `x` or `y` depending on `condition`\n",
        "    - can be used as a ternary operator to filter elements from two arrays based on a condition\n",
        "    - returns `out` : ndarray\n",
        "        - An array with elements from `x` where `condition` is True, and elements from `y` elsewhere.\n",
        "    - .. note::\n",
        "        - When only `condition` is provided, this function is a shorthand for ``np.asarray(condition).nonzero()``.\n",
        "        - Using `nonzero` directly should be preferred, as it behaves correctly for subclasses.\n",
        "        - The rest of this documentation covers only the case where all three arguments are provided.\n",
        "    - `condition` : array_like, bool\n",
        "        - Where True, yield `x`, otherwise yield `y`.\n",
        "    - `x`, `y` : array_like\n",
        "        - Values from which to choose. `x`, `y` and `condition` need to be broadcastable to some shape."
      ],
      "metadata": {
        "id": "21bZM8y8gixs"
      }
    },
    {
      "cell_type": "code",
      "source": [
        "from numpy import *\n",
        "\n",
        "a1 = array([1, 2, 3, 4, 5]) # changed all elements\n",
        "a2 = array([20, 40, 60, 80, 100])\n",
        "\n",
        "print(a1 > a2)\n",
        "print(a1 < a2)\n",
        "print(a1 >= a2)\n",
        "\n",
        "print(any(a1 >= a2)) # does logical OR comparison\n",
        "print(all(a1 >= a2)) # does logical AND comparison\n",
        "print(any(a1 <= a2))\n",
        "print(all(a1 <= a2))\n",
        "\n",
        "print(logical_and(a1 > 10, a1 < 101)) # check multiple logical conditions with logical AND on elements of ndarray\n",
        "print(logical_or(a1 > 10, a1 < 101)) # check multiple logical conditions with logical OR on elements of ndarray\n",
        "print(logical_not(a1 > 10))\n",
        "print(logical_xor(a1 > 10, a1 < 101))\n",
        "\n",
        "print(where(a1 % 2 != 0, a1, 0)) # only odd numbers seen, even numbers are replaced by 0"
      ],
      "metadata": {
        "colab": {
          "base_uri": "https://localhost:8080/"
        },
        "id": "aUl-yIY6gOny",
        "outputId": "cc82eab0-80eb-41b9-ee4b-014a56061381"
      },
      "execution_count": 44,
      "outputs": [
        {
          "output_type": "stream",
          "name": "stdout",
          "text": [
            "[False False False False False]\n",
            "[ True  True  True  True  True]\n",
            "[False False False False False]\n",
            "False\n",
            "False\n",
            "True\n",
            "True\n",
            "[False False False False False]\n",
            "[ True  True  True  True  True]\n",
            "[ True  True  True  True  True]\n",
            "[ True  True  True  True  True]\n",
            "[1 0 3 0 5]\n"
          ]
        }
      ]
    },
    {
      "cell_type": "code",
      "source": [
        "from numpy import *\n",
        "\n",
        "a1 = array([22, 2, 3, 4, 5]) # changed element\n",
        "a2 = array([20, 40, 60, 80, 100])\n",
        "\n",
        "print(a1 > a2)\n",
        "print(a1 < a2)\n",
        "print(a1 >= a2)\n",
        "\n",
        "print(any(a1 >= a2)) # does logical OR comparison\n",
        "print(all(a1 >= a2)) # does logical AND comparison\n",
        "print(any(a1 <= a2))\n",
        "print(all(a1 <= a2))\n",
        "\n",
        "print(logical_and(a1 > 10, a1 < 101)) # check multiple logical conditions with logical AND on elements of ndarray\n",
        "print(logical_or(a1 > 10, a1 < 101)) # check multiple logical conditions with logical OR on elements of ndarray\n",
        "print(logical_not(a1 > 10))\n",
        "print(logical_xor(a1 > 10, a1 < 101))\n",
        "\n",
        "print(where(a1 % 2 != 0, a1, 0)) # only odd numbers seen, even numbers are replaced by 0\n",
        "print(where(a1 > a2, a1, a2)) # returns a1 element if greater, otherwise element from a2"
      ],
      "metadata": {
        "colab": {
          "base_uri": "https://localhost:8080/"
        },
        "id": "dOr6JPPnkkXw",
        "outputId": "ff14106b-83d7-4265-b769-c03447fb0419"
      },
      "execution_count": 45,
      "outputs": [
        {
          "output_type": "stream",
          "name": "stdout",
          "text": [
            "[ True False False False False]\n",
            "[False  True  True  True  True]\n",
            "[ True False False False False]\n",
            "True\n",
            "False\n",
            "True\n",
            "False\n",
            "[ True False False False False]\n",
            "[ True  True  True  True  True]\n",
            "[False  True  True  True  True]\n",
            "[False  True  True  True  True]\n",
            "[0 0 3 0 5]\n",
            "[ 22  40  60  80 100]\n"
          ]
        }
      ]
    },
    {
      "cell_type": "code",
      "source": [
        "from numpy import *\n",
        "\n",
        "a1 = array([22, 2, 3, 4, 5]) # changed element\n",
        "a2 = array([20, 40, 60, 80, 100])\n",
        "\n",
        "print(a1 > a2)\n",
        "print(a1 < a2)\n",
        "print(a1 >= a2)\n",
        "\n",
        "print(any(a1 >= a2)) # does logical OR comparison\n",
        "print(all(a1 >= a2)) # does logical AND comparison\n",
        "print(any(a1 <= a2))\n",
        "print(all(a1 <= a2))\n",
        "\n",
        "print(logical_and(a1 > 10, a1 < 101)) # check multiple logical conditions with logical AND on elements of ndarray\n",
        "print(logical_or(a1 > 10, a1 < 101)) # check multiple logical conditions with logical OR on elements of ndarray\n",
        "print(logical_not(a1 > 10))\n",
        "print(logical_xor(a1 > 10, a1 < 101))\n",
        "\n",
        "print(where(a1 % 2 != 0, a1, 0)) # only odd numbers seen, even numbers are replaced by 0\n",
        "print(where(a1 > a2, a1, a2)) # returns a1 element if greater, otherwise element from a2\n",
        "print(where(a1 > a2, a1, 0)) # returns a1 element if greater, otherwise 0"
      ],
      "metadata": {
        "colab": {
          "base_uri": "https://localhost:8080/"
        },
        "id": "hRFaaKDzlVKA",
        "outputId": "2ecd6119-dabe-4742-9237-2ec574b24620"
      },
      "execution_count": 46,
      "outputs": [
        {
          "output_type": "stream",
          "name": "stdout",
          "text": [
            "[ True False False False False]\n",
            "[False  True  True  True  True]\n",
            "[ True False False False False]\n",
            "True\n",
            "False\n",
            "True\n",
            "False\n",
            "[ True False False False False]\n",
            "[ True  True  True  True  True]\n",
            "[False  True  True  True  True]\n",
            "[False  True  True  True  True]\n",
            "[0 0 3 0 5]\n",
            "[ 22  40  60  80 100]\n",
            "[22  0  0  0  0]\n"
          ]
        }
      ]
    },
    {
      "cell_type": "markdown",
      "source": [
        "## 293. Copying  arrays\n",
        "- You'll learn how to use arrays' copy and view functions, to do shallow copy and deep copy\n",
        "- `numpy.ndarray.view([dtype][, type])`\n",
        "    - `a.view([dtype][, type])`\n",
        "    - New view of array with the same data\n",
        "    - creates a shallow copy of the array, so changes in one array are reflected in other array\n",
        "    - .. note::\n",
        "        - Passing None for ``dtype`` is different from omitting the parameter, since the former invokes ``dtype(None)`` which is an alias for ``dtype('float_')``.\n",
        "    - `dtype` : data-type or ndarray sub-class, optional\n",
        "        - data-type descriptor of the returned view, e.g., float32 or int16.\n",
        "        - Omitting it results in the view having the same data-type as `a`.\n",
        "        - This argument can also be specified as an ndarray sub-class, which then specifies the type of the returned object (this is equivalent to setting the ``type`` parameter).\n",
        "    - `type` : Python type, optional\n",
        "        - Type of the returned view, e.g., ndarray or matrix.\n",
        "        - Again, omission of the parameter results in type preservation.\n"
      ],
      "metadata": {
        "id": "uCMoCQAhl8sf"
      }
    },
    {
      "cell_type": "code",
      "source": [
        "# arraycopy.py\n",
        "from numpy import *\n",
        "\n",
        "a1 = arange(1, 10)\n",
        "a2 = a1.view() # creates a shallow copy\n",
        "\n",
        "print('a1:', a1)\n",
        "print('a2:', a2)\n",
        "\n",
        "a2[3] = 40 # due to shallow copy, changes reflect in a2 as well as a1\n",
        "print('after modification')\n",
        "print('a1:', a1)\n",
        "print('a2:', a2)"
      ],
      "metadata": {
        "colab": {
          "base_uri": "https://localhost:8080/"
        },
        "id": "Eob6tBvhlwa4",
        "outputId": "532c0f16-fe97-42a8-f747-bc7b2f810e5d"
      },
      "execution_count": 47,
      "outputs": [
        {
          "output_type": "stream",
          "name": "stdout",
          "text": [
            "a1: [1 2 3 4 5 6 7 8 9]\n",
            "a2: [1 2 3 4 5 6 7 8 9]\n",
            "after modification\n",
            "a1: [ 1  2  3 40  5  6  7  8  9]\n",
            "a2: [ 1  2  3 40  5  6  7  8  9]\n"
          ]
        }
      ]
    },
    {
      "cell_type": "markdown",
      "source": [
        "- `numpy.ndarray.copy(order='C')`\n",
        "    - `a.copy(order='C')`\n",
        "    - returns a copy of the array\n",
        "    - creates a deep copy of the array, so changes in one array are not reflected in other array\n",
        "    - `order` : {'C', 'F', 'A', 'K'}, optional\n",
        "        - Controls the memory layout of the copy. 'C' means C-order, 'F' means F-order, 'A' means 'F' if `a` is Fortran contiguous, 'C' otherwise.\n",
        "        - 'K' means match the layout of `a` as closely as possible.\n",
        "        - (Note that this function and :func:`numpy.copy` are very similar but have different default values for their `order=arguments`, and this function always passes sub-classes through.)"
      ],
      "metadata": {
        "id": "fg1aNBWh2X2p"
      }
    },
    {
      "cell_type": "code",
      "source": [
        "from numpy import *\n",
        "\n",
        "a1 = arange(1, 10)\n",
        "a2 = a1.copy() # creates a shallow copy\n",
        "\n",
        "print('a1:', a1)\n",
        "print('a2:', a2)\n",
        "\n",
        "a2[3] = 40 # due to deep copy, changes reflect in a2 only\n",
        "print('after modification')\n",
        "print('a1:', a1)\n",
        "print('a2:', a2)"
      ],
      "metadata": {
        "colab": {
          "base_uri": "https://localhost:8080/"
        },
        "id": "Rv_olPLjako9",
        "outputId": "0e795db8-acb0-4d04-e0de-4418da1906ad"
      },
      "execution_count": 48,
      "outputs": [
        {
          "output_type": "stream",
          "name": "stdout",
          "text": [
            "a1: [1 2 3 4 5 6 7 8 9]\n",
            "a2: [1 2 3 4 5 6 7 8 9]\n",
            "after modification\n",
            "a1: [1 2 3 4 5 6 7 8 9]\n",
            "a2: [ 1  2  3 40  5  6  7  8  9]\n"
          ]
        }
      ]
    },
    {
      "cell_type": "markdown",
      "source": [
        "## 294. Slicing\n",
        "- You'll see slicing in action on NumPy arrays\n",
        "- `a[start, stop]` : starts from start index and stops at stop-1 index\n",
        "- `a[start, stop, step]` : starts from start index and stops at stop-1 index with step\n",
        "- `a[start:]` : starts from start index and goes till last element"
      ],
      "metadata": {
        "id": "MnFRgSZx4v74"
      }
    },
    {
      "cell_type": "code",
      "source": [
        "# slicing.py\n",
        "from numpy import *\n",
        "\n",
        "a1 = arange(3, 12)\n",
        "print(a1)\n",
        "print(a1[3:7]) # starts from 3rd index , stops at (7-1) 6th index\n",
        "print(a1[1:9:2]) # starts from 1st index , stops at (9-1) 8th index, with step of 2\n",
        "print(a1[4:]) # starts from 4th index, goes till last element"
      ],
      "metadata": {
        "colab": {
          "base_uri": "https://localhost:8080/"
        },
        "id": "_SwuKiuL4YFt",
        "outputId": "97e23bea-4059-4a37-ce1e-72f66d326a61"
      },
      "execution_count": 49,
      "outputs": [
        {
          "output_type": "stream",
          "name": "stdout",
          "text": [
            "[ 3  4  5  6  7  8  9 10 11]\n",
            "[6 7 8 9]\n",
            "[ 4  6  8 10]\n",
            "[ 7  8  9 10 11]\n"
          ]
        }
      ]
    },
    {
      "cell_type": "markdown",
      "source": [
        "## 295. Multidimensional arrays\n",
        "- You'll learn how to create multidimensional arrays, and we'll explore one attribute on it\n",
        "- `numpy.ndarray.ndim`\n",
        "    - property of `numpy.ndarray` thar automatically stores the number of dimensions that an ndarray has"
      ],
      "metadata": {
        "id": "QLY2Cu0N6jKW"
      }
    },
    {
      "cell_type": "code",
      "source": [
        "# multidimensional.py\n",
        "from numpy import *\n",
        "\n",
        "a1 = array([1, 2, 3, 4, 5, 6])\n",
        "# print(\"DEBUG:\", type(a1)) # debug\n",
        "a2 = array([[1, 2, 3], [4, 5, 6]])\n",
        "# print(\"DEBUG:\", type(a2)) # debug\n",
        "a3 = array([[[1, 2], [3, 4] ],  [[5, 6], [7, 8] ]])\n",
        "# print(\"DEBUG:\", type(a3)) # debug\n",
        "\n",
        "print(\"a1:\", a1) # prints single-dimensional array\n",
        "print(\"a2:\", a2) # prints two-dimensional array with two-rows, each row has three columns\n",
        "print(\"a3:\", a3) # prints three-dimensional array with 2 two-dimensional arrays\n",
        "\n",
        "print(\"a1 ndim:\", a1.ndim) # prints dimensions in a1 using property numpy.ndarray.ndim\n",
        "print(\"a2 ndim:\", a2.ndim) # prints dimensions in a2 using property numpy.ndarray.ndim\n",
        "print(\"a3 ndim:\", a3.ndim) # prints dimensions in a3 using property numpy.ndarray.ndim"
      ],
      "metadata": {
        "colab": {
          "base_uri": "https://localhost:8080/"
        },
        "id": "mWF3R59l52pn",
        "outputId": "cad02d6c-6915-49e8-f21f-837a66ea7b3d"
      },
      "execution_count": 50,
      "outputs": [
        {
          "output_type": "stream",
          "name": "stdout",
          "text": [
            "a1: [1 2 3 4 5 6]\n",
            "a2: [[1 2 3]\n",
            " [4 5 6]]\n",
            "a3: [[[1 2]\n",
            "  [3 4]]\n",
            "\n",
            " [[5 6]\n",
            "  [7 8]]]\n",
            "a1 ndim: 1\n",
            "a2 ndim: 2\n",
            "a3 ndim: 3\n"
          ]
        }
      ]
    },
    {
      "cell_type": "markdown",
      "source": [
        "## 296. Few more attributes\n",
        "- Lets explore few more attributes of `ndarray`\n",
        "- `numpy.ndarray.shape`\n",
        "    - gives us the number of elements in the array in each dimension\n",
        "    - shape property is usually used to get the current shape of an array but may also be used to reshape the array in-place by assigning a tuple of array dimensions to it.\n",
        "    - As with `numpy.reshape`, one of the new shape dimensions can be -1, in which case its value is inferred from the size of the array and the remaining dimensions\n",
        "    - Reshaping an array in-place will fail if a copy is required.\n",
        "    - `.. warning::`\n",
        "    - Setting ``arr.shape`` is discouraged and may be deprecated in the future.\n",
        "    - Using `ndarray.reshape` is the preferred approach.\n",
        "- `numpy.ndarray.size`\n",
        "    - gives the total size of the array, or the total number of elements\n",
        "    - returns `element_count` : int, Number of elements in the array\n",
        "- `numpy.ndarray.itemsize`\n",
        "    - Length of one array element in bytes.\n",
        "    - by default it uses `int32` for integer types, so returns 4 bytes\n",
        "- `numpy.ndarray.dtype`\n",
        "    - Data-type of the array's elements.\n",
        "    - returns `d` : numpy dtype object\n",
        "- `numpy.ndarray.nbytes`\n",
        "    - Total bytes consumed by the elements of the array."
      ],
      "metadata": {
        "id": "xMOT25Aa92IA"
      }
    },
    {
      "cell_type": "code",
      "source": [
        "# multidimensional.py\n",
        "from numpy import *\n",
        "\n",
        "a1 = array([1, 2, 3, 4, 5, 6])\n",
        "a2 = array([[1, 2, 3], [4, 5, 6]])\n",
        "a3 = array([[[1, 2], [3, 4] ],  [[5, 6], [7, 8] ]])\n",
        "\n",
        "print(\"a1:\", a1) # prints single-dimensional array\n",
        "print(\"a2:\", a2) # prints two-dimensional array with two-rows, each row has three columns\n",
        "print(\"a3:\", a3) # prints three-dimensional array with 2 two-dimensional arrays\n",
        "\n",
        "print(\"a1 ndim:\", a1.ndim) # prints dimensions in a1 using property numpy.ndarray.ndim\n",
        "print(\"a2 ndim:\", a2.ndim) # prints dimensions in a2 using property numpy.ndarray.ndim\n",
        "print(\"a3 ndim:\", a3.ndim) # prints dimensions in a3 using property numpy.ndarray.ndim\n",
        "\n",
        "print(\"a1 shape:\", a1.shape) # prints shape of a1 using property numpy.ndarray.shape\n",
        "print(\"a2 shape:\", a2.shape) # prints shape of a2 using property numpy.ndarray.shape\n",
        "print(\"a3 shape:\", a3.shape) # prints shape of a3 using property numpy.ndarray.shape\n",
        "\n",
        "a2.shape = (3, 2) # change shape from (2, 3) to (3, 2)      # discouraged to use\n",
        "a2.reshape((3, 2))      # ndarray.reshape() method\n",
        "# reshape(a2, (3, 2))   # numpy.reshape() method\n",
        "print(\"a2:\", a2)\n",
        "\n",
        "print(\"a1 size:\", a1.size) # prints size of a1 using property numpy.ndarray.size\n",
        "print(\"a2 size:\", a2.size) # prints size of a2 using property numpy.ndarray.size\n",
        "print(\"a3 size:\", a3.size) # prints size of a3 using property numpy.ndarray.size\n",
        "\n",
        "print(\"a1 itemsize:\", a1.itemsize) # prints length of one array element of a1 using property numpy.ndarray.itemsize\n",
        "print(\"a2 itemsize:\", a2.itemsize) # prints length of one array element of a2 using property numpy.ndarray.itemsize\n",
        "print(\"a3 itemsize:\", a3.itemsize) # prints length of one array element of a3 using property numpy.ndarray.itemsize\n",
        "\n",
        "print(\"a1 dtype:\", a1.dtype) # prints dtype of a1 using property numpy.ndarray.dtype\n",
        "print(\"a2 dtype:\", a2.dtype) # prints dtype of a2 using property numpy.ndarray.dtype\n",
        "print(\"a3 dtype:\", a3.dtype) # prints dtype of a3 using property numpy.ndarray.dtype\n",
        "\n",
        "print(\"a1 nbytes:\", a1.nbytes) # prints total bytes consumed by all elements of a1 using property numpy.ndarray.nbytes\n",
        "print(\"a2 nbytes:\", a2.nbytes) # prints total bytes consumed by all elements of a2 using property numpy.ndarray.nbytes\n",
        "print(\"a3 nbytes:\", a3.nbytes) # prints total bytes consumed by all elements of a3 using property numpy.ndarray.nbytes\n"
      ],
      "metadata": {
        "colab": {
          "base_uri": "https://localhost:8080/"
        },
        "id": "uuCQZ2Zf7IqX",
        "outputId": "59ffddc3-8c31-459e-80c4-020d4b0edb1f"
      },
      "execution_count": 51,
      "outputs": [
        {
          "output_type": "stream",
          "name": "stdout",
          "text": [
            "a1: [1 2 3 4 5 6]\n",
            "a2: [[1 2 3]\n",
            " [4 5 6]]\n",
            "a3: [[[1 2]\n",
            "  [3 4]]\n",
            "\n",
            " [[5 6]\n",
            "  [7 8]]]\n",
            "a1 ndim: 1\n",
            "a2 ndim: 2\n",
            "a3 ndim: 3\n",
            "a1 shape: (6,)\n",
            "a2 shape: (2, 3)\n",
            "a3 shape: (2, 2, 2)\n",
            "a2: [[1 2]\n",
            " [3 4]\n",
            " [5 6]]\n",
            "a1 size: 6\n",
            "a2 size: 6\n",
            "a3 size: 8\n",
            "a1 itemsize: 4\n",
            "a2 itemsize: 4\n",
            "a3 itemsize: 4\n",
            "a1 dtype: int32\n",
            "a2 dtype: int32\n",
            "a3 dtype: int32\n",
            "a1 nbytes: 24\n",
            "a2 nbytes: 24\n",
            "a3 nbytes: 32\n"
          ]
        }
      ]
    },
    {
      "cell_type": "markdown",
      "source": [
        "## 297. Few more functions\n",
        "- You'll learn a few more functions that can be applied to single and multidimensional arrays\n",
        "- `numpy.ndarray.reshape(shape, order='C')`\n",
        "    - `a.reshape(shape, order='C')`\n",
        "    - Returns an array containing the same data with a new shape.\n",
        "    - Unlike the free function `numpy.reshape`, this method on `ndarray` allows the elements of the shape parameter to be passed in as separate arguments.\n",
        "    - For example, ``a.reshape(10, 11)`` is equivalent to ``a.reshape((10, 11))``\n",
        "- `numpy.reshape(a, newshape, order='C')`\n",
        "    - Gives a new shape to an array without changing its data.\n",
        "    - returns `reshaped_array` : ndarray\n",
        "        - This will be a new view object if possible; otherwise, it will be a copy.\n",
        "        - Note there is no guarantee of the *memory layout* (C- or Fortran- contiguous) of the returned array.\n",
        "    - `ndarray.reshape` : Equivalent method.\n",
        "- `numpy.ndarray.flatten(order='C')`\n",
        "    - convert a multidimensional array into a single-dimensional array\n",
        "    - return a copy of the array collapsed into one-dimension\n",
        "    - returns `y` : ndarray\n",
        "        - A copy of the input array, flattened to one dimension\n",
        "    - `order` : {'C', 'F', 'A', 'K'}, optional\n",
        "        - 'C' means to flatten in row-major (C-style) order.\n",
        "        - 'F' means to flatten in column-major (Fortran-style) order.\n",
        "        - 'A' means to flatten in column-major order if `a` is Fortran *contiguous* in memory, row-major order otherwise. 'K' means to flatten `a` in the order the elements occur in memory.\n",
        "        - The default is 'C'.\n",
        "- `numpy.eye(N, M=None, k=0, dtype=<class 'float'>, order='C', *, like=None)`\n",
        "    - helpful when you're working with matrices\n",
        "    - return a 2-D array with ones on the diagonal and zeros elsewhere\n",
        "    - `N` : int\n",
        "        - Number of rows in the output.\n",
        "    - `M` : int, optional\n",
        "        - Number of columns in the output. If None, defaults to `N`.\n",
        "    - `k` : int, optional\n",
        "        - Index of the diagonal: 0 (the default) refers to the main diagonal, a positive value refers to an upper diagonal, and a negative value to a lower diagonal.\n",
        "    - `dtype` : data-type, optional\n",
        "        - Data-type of the returned array.\n",
        "    - `order` : {'C', 'F'}, optional\n",
        "        - Whether the output should be stored in row-major (C-style) or column-major (Fortran-style) order in memory."
      ],
      "metadata": {
        "id": "skofufaFvasl"
      }
    },
    {
      "cell_type": "code",
      "source": [
        "# arrayFunctions.py\n",
        "from numpy import *\n",
        "\n",
        "a1 = arange(12)\n",
        "print('a1:\\n', a1)\n",
        "\n",
        "a2 = reshape(a1, (2, 6))\n",
        "print(\"a2:\\n\", a2)"
      ],
      "metadata": {
        "colab": {
          "base_uri": "https://localhost:8080/"
        },
        "id": "dxnscXSUldUn",
        "outputId": "c1c4edc5-dda4-45b8-e1bb-9a7801c3d77f"
      },
      "execution_count": 52,
      "outputs": [
        {
          "output_type": "stream",
          "name": "stdout",
          "text": [
            "a1:\n",
            " [ 0  1  2  3  4  5  6  7  8  9 10 11]\n",
            "a2:\n",
            " [[ 0  1  2  3  4  5]\n",
            " [ 6  7  8  9 10 11]]\n"
          ]
        }
      ]
    },
    {
      "cell_type": "code",
      "source": [
        "from numpy import *\n",
        "\n",
        "a1 = arange(12)\n",
        "print('a1:\\n', a1)\n",
        "\n",
        "a2 = reshape(a1, (2, 7)) # gives an error as ndarray size does not match\n",
        "print(\"a2:\\n\", a2)"
      ],
      "metadata": {
        "colab": {
          "base_uri": "https://localhost:8080/",
          "height": 627
        },
        "id": "r4Wy7dRQ2HSh",
        "outputId": "46c64535-1a64-4649-a1e2-a3109e244e7e"
      },
      "execution_count": 53,
      "outputs": [
        {
          "output_type": "stream",
          "name": "stdout",
          "text": [
            "a1:\n",
            " [ 0  1  2  3  4  5  6  7  8  9 10 11]\n"
          ]
        },
        {
          "output_type": "error",
          "ename": "ValueError",
          "evalue": "cannot reshape array of size 12 into shape (2,7)",
          "traceback": [
            "\u001b[1;31m---------------------------------------------------------------------------\u001b[0m",
            "\u001b[1;31mValueError\u001b[0m                                Traceback (most recent call last)",
            "Cell \u001b[1;32mIn[53], line 6\u001b[0m\n\u001b[0;32m      3\u001b[0m a1 \u001b[38;5;241m=\u001b[39m arange(\u001b[38;5;241m12\u001b[39m)\n\u001b[0;32m      4\u001b[0m \u001b[38;5;28mprint\u001b[39m(\u001b[38;5;124m'\u001b[39m\u001b[38;5;124ma1:\u001b[39m\u001b[38;5;130;01m\\n\u001b[39;00m\u001b[38;5;124m'\u001b[39m, a1)\n\u001b[1;32m----> 6\u001b[0m a2 \u001b[38;5;241m=\u001b[39m \u001b[43mreshape\u001b[49m\u001b[43m(\u001b[49m\u001b[43ma1\u001b[49m\u001b[43m,\u001b[49m\u001b[43m \u001b[49m\u001b[43m(\u001b[49m\u001b[38;5;241;43m2\u001b[39;49m\u001b[43m,\u001b[49m\u001b[43m \u001b[49m\u001b[38;5;241;43m7\u001b[39;49m\u001b[43m)\u001b[49m\u001b[43m)\u001b[49m \u001b[38;5;66;03m# gives an error as ndarray size does not match\u001b[39;00m\n\u001b[0;32m      7\u001b[0m \u001b[38;5;28mprint\u001b[39m(\u001b[38;5;124m\"\u001b[39m\u001b[38;5;124ma2:\u001b[39m\u001b[38;5;130;01m\\n\u001b[39;00m\u001b[38;5;124m\"\u001b[39m, a2)\n",
            "File \u001b[1;32m~\\AppData\\Local\\Programs\\Python\\Python312\\Lib\\site-packages\\numpy\\core\\fromnumeric.py:285\u001b[0m, in \u001b[0;36mreshape\u001b[1;34m(a, newshape, order)\u001b[0m\n\u001b[0;32m    200\u001b[0m \u001b[38;5;129m@array_function_dispatch\u001b[39m(_reshape_dispatcher)\n\u001b[0;32m    201\u001b[0m \u001b[38;5;28;01mdef\u001b[39;00m \u001b[38;5;21mreshape\u001b[39m(a, newshape, order\u001b[38;5;241m=\u001b[39m\u001b[38;5;124m'\u001b[39m\u001b[38;5;124mC\u001b[39m\u001b[38;5;124m'\u001b[39m):\n\u001b[0;32m    202\u001b[0m \u001b[38;5;250m    \u001b[39m\u001b[38;5;124;03m\"\"\"\u001b[39;00m\n\u001b[0;32m    203\u001b[0m \u001b[38;5;124;03m    Gives a new shape to an array without changing its data.\u001b[39;00m\n\u001b[0;32m    204\u001b[0m \n\u001b[1;32m   (...)\u001b[0m\n\u001b[0;32m    283\u001b[0m \u001b[38;5;124;03m           [5, 6]])\u001b[39;00m\n\u001b[0;32m    284\u001b[0m \u001b[38;5;124;03m    \"\"\"\u001b[39;00m\n\u001b[1;32m--> 285\u001b[0m     \u001b[38;5;28;01mreturn\u001b[39;00m \u001b[43m_wrapfunc\u001b[49m\u001b[43m(\u001b[49m\u001b[43ma\u001b[49m\u001b[43m,\u001b[49m\u001b[43m \u001b[49m\u001b[38;5;124;43m'\u001b[39;49m\u001b[38;5;124;43mreshape\u001b[39;49m\u001b[38;5;124;43m'\u001b[39;49m\u001b[43m,\u001b[49m\u001b[43m \u001b[49m\u001b[43mnewshape\u001b[49m\u001b[43m,\u001b[49m\u001b[43m \u001b[49m\u001b[43morder\u001b[49m\u001b[38;5;241;43m=\u001b[39;49m\u001b[43morder\u001b[49m\u001b[43m)\u001b[49m\n",
            "File \u001b[1;32m~\\AppData\\Local\\Programs\\Python\\Python312\\Lib\\site-packages\\numpy\\core\\fromnumeric.py:59\u001b[0m, in \u001b[0;36m_wrapfunc\u001b[1;34m(obj, method, *args, **kwds)\u001b[0m\n\u001b[0;32m     56\u001b[0m     \u001b[38;5;28;01mreturn\u001b[39;00m _wrapit(obj, method, \u001b[38;5;241m*\u001b[39margs, \u001b[38;5;241m*\u001b[39m\u001b[38;5;241m*\u001b[39mkwds)\n\u001b[0;32m     58\u001b[0m \u001b[38;5;28;01mtry\u001b[39;00m:\n\u001b[1;32m---> 59\u001b[0m     \u001b[38;5;28;01mreturn\u001b[39;00m \u001b[43mbound\u001b[49m\u001b[43m(\u001b[49m\u001b[38;5;241;43m*\u001b[39;49m\u001b[43margs\u001b[49m\u001b[43m,\u001b[49m\u001b[43m \u001b[49m\u001b[38;5;241;43m*\u001b[39;49m\u001b[38;5;241;43m*\u001b[39;49m\u001b[43mkwds\u001b[49m\u001b[43m)\u001b[49m\n\u001b[0;32m     60\u001b[0m \u001b[38;5;28;01mexcept\u001b[39;00m \u001b[38;5;167;01mTypeError\u001b[39;00m:\n\u001b[0;32m     61\u001b[0m     \u001b[38;5;66;03m# A TypeError occurs if the object does have such a method in its\u001b[39;00m\n\u001b[0;32m     62\u001b[0m     \u001b[38;5;66;03m# class, but its signature is not identical to that of NumPy's. This\u001b[39;00m\n\u001b[1;32m   (...)\u001b[0m\n\u001b[0;32m     66\u001b[0m     \u001b[38;5;66;03m# Call _wrapit from within the except clause to ensure a potential\u001b[39;00m\n\u001b[0;32m     67\u001b[0m     \u001b[38;5;66;03m# exception has a traceback chain.\u001b[39;00m\n\u001b[0;32m     68\u001b[0m     \u001b[38;5;28;01mreturn\u001b[39;00m _wrapit(obj, method, \u001b[38;5;241m*\u001b[39margs, \u001b[38;5;241m*\u001b[39m\u001b[38;5;241m*\u001b[39mkwds)\n",
            "\u001b[1;31mValueError\u001b[0m: cannot reshape array of size 12 into shape (2,7)"
          ]
        }
      ]
    },
    {
      "cell_type": "code",
      "source": [
        "from numpy import *\n",
        "\n",
        "a1 = arange(12)\n",
        "print('a1:\\n', a1)\n",
        "\n",
        "a2 = reshape(a1, (4, 3)) # reshapes with 4 rows 4 cols\n",
        "print(\"a2:\\n\", a2)\n",
        "\n",
        "a3 = reshape(a1, (2, 2, 3)) # reshapes into 2 two-dimensional arrays\n",
        "print(\"a3:\\n\", a3)\n",
        "\n",
        "print(\"a3.flatten():\\n\", a3.flatten()) # returns a 1-D array\n",
        "\n",
        "print(\"numpy.eye(3):\\n\", eye(3)) # return a 2-D array with ones at diagonal\n",
        "print(\"numpy.eye(3):\\n\", eye(2))\n",
        "\n",
        "print(\"ones (2, 3) :\\n\", ones((2, 3))) # returns ndarray filled with ones in specified shape, default dtype=float64\n",
        "print(\"ones (2, 3) in int :\\n\", ones((2, 3), int)) # returns ndarray filled with ones in specified shape\n",
        "\n",
        "print(\"zeros (2, 3) :\\n\", zeros((2, 3))) # returns ndarray filled with zeros in specified shape, default dtype=float64\n",
        "print(\"zeros (2, 3) in int :\\n\", zeros((2, 3), int)) # returns ndarray filled with zeros in specified shape\n"
      ],
      "metadata": {
        "colab": {
          "base_uri": "https://localhost:8080/"
        },
        "id": "8RECJip22xPi",
        "outputId": "1eac69c9-3d46-4e85-e33d-075a55d41e42"
      },
      "execution_count": 54,
      "outputs": [
        {
          "output_type": "stream",
          "name": "stdout",
          "text": [
            "a1:\n",
            " [ 0  1  2  3  4  5  6  7  8  9 10 11]\n",
            "a2:\n",
            " [[ 0  1  2]\n",
            " [ 3  4  5]\n",
            " [ 6  7  8]\n",
            " [ 9 10 11]]\n",
            "a3:\n",
            " [[[ 0  1  2]\n",
            "  [ 3  4  5]]\n",
            "\n",
            " [[ 6  7  8]\n",
            "  [ 9 10 11]]]\n",
            "a3.flatten():\n",
            " [ 0  1  2  3  4  5  6  7  8  9 10 11]\n",
            "numpy.eye(3):\n",
            " [[1. 0. 0.]\n",
            " [0. 1. 0.]\n",
            " [0. 0. 1.]]\n",
            "numpy.eye(3):\n",
            " [[1. 0.]\n",
            " [0. 1.]]\n",
            "ones (2, 3) :\n",
            " [[1. 1. 1.]\n",
            " [1. 1. 1.]]\n",
            "ones (2, 3) in int :\n",
            " [[1 1 1]\n",
            " [1 1 1]]\n",
            "zeros (2, 3) :\n",
            " [[0. 0. 0.]\n",
            " [0. 0. 0.]]\n",
            "zeros (2, 3) in int :\n",
            " [[0 0 0]\n",
            " [0 0 0]]\n"
          ]
        }
      ]
    },
    {
      "cell_type": "code",
      "source": [],
      "metadata": {
        "id": "Pcxyio8JsS7V"
      },
      "execution_count": 54,
      "outputs": []
    }
  ]
}