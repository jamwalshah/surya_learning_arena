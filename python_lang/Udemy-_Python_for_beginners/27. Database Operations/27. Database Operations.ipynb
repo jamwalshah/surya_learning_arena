{
  "nbformat": 4,
  "nbformat_minor": 0,
  "metadata": {
    "colab": {
      "provenance": [],
      "toc_visible": true
    },
    "kernelspec": {
      "name": "python3",
      "display_name": "Python 3"
    },
    "language_info": {
      "name": "python"
    }
  },
  "cells": [
    {
      "cell_type": "markdown",
      "source": [
        "## 247. Introduction\n",
        "- We'll learn how to connect and execute SQL statements against a database\n",
        "- We do that using connectors\n",
        "- There is a respective connector for every database whether it is oracle or mysql, that we need to install\n",
        "- Once we have that connector, we can easily connect to the database and perform CRUD operations namely Create, Read, Update & Delete against the Database tables\n",
        "                    Connect\n",
        "        Python App --------------> DB\n",
        "                    SQL\n",
        "- The steps used to connect and work will remain same, no matter which database you're working with\n",
        "- Following steps will be used to connect and work with MySQL database.\n",
        "    1. ```Install the appropriate connector``` (in our case MySQL Connector, and in case of Oracle then install Oracle Connector), which is a one-step process\n",
        "    2. Once you have that connector, we'll ```import that connector module``` into our program\n",
        "    3. Use that connector to ```create a connection``` against the database\n",
        "    4. Using the connection, we'll ```create a cursor``` object.\n",
        "- ```Cursor``` :\n",
        "    - The cursor is the key, using which we can execute all the SQL statements like INSERT, SELECT, UPDATE, etc.\n",
        "    - The data you fetch using SQL statements will go into the cursor, and then we can fetch that data as required"
      ],
      "metadata": {
        "id": "_Ww2Z332jvPf"
      }
    },
    {
      "cell_type": "markdown",
      "source": [
        "## 248. Install MySQL\n",
        "- We'll see how to downlaod & install MySQL Community Server on your windows system\n",
        "- Launch your web browser, and search for downloading ```Visual C++``` on your machine as per architecture of your machine, and then install it which is a pre-requisite to install the MySQL\n",
        "- Go back to browser again and search for ```MySQL Community Server download```, then download the MySQL server installer Community version which is an open-source version\n",
        "- Once you launch the installer, Choose 'Server Only' in setup type\n",
        "- After it fetches the packages, select 'Standalone MySQL Server` in high availability, and select 'Use Strong Password Encyption for Authentication' in authentication method, give root passwords as 'test1234' or 'mysql'\n",
        "- After you finish, MySQL Server should be up-and-running"
      ],
      "metadata": {
        "id": "-WTcJ99LscyV"
      }
    },
    {
      "cell_type": "markdown",
      "source": [
        "## 249. Install MySQL workbench\n",
        "- You'll install MySQL Workbench which is a GUI based tool to access MySQL server, so it is a client\n",
        "- Launch youe web browser and launch 'mysql workbench', click on the downloads and download the installer\n",
        "- Once you have the installer, it is a straight forward installation with setup type as 'Complete'\n",
        "- Once you finish installation, it should launch itself if you kept the checkbox checked\n",
        "- MySQL Workbench makes it super easy to connect and work with MySQL server and it gives a default connection for the local machine\n",
        "- You can add more connections by clicking on ```+``` button, then you can even connect to remote MySQL servers by simply providing the name you want to give, the IP address and port number of the host machine, such machines can even be on cloud\n",
        "- Click on the ```Local Instance MySQL80```, and it asks for the password which you've set earlier in the MySQL server installation which is 'test1234' or 'mysql' and the hit 'OK'\n",
        "- It will open a query window, where you can create your databases and do whatever you want with MySQL Server\n",
        "``` sql\n",
        "    SHOW DATABASES;\n",
        "    -- create a database called mydb\n",
        "    CREATE DATABASE mydb;\n",
        "    USE mydb;\n",
        "    SHOW TABLES;\n",
        "```"
      ],
      "metadata": {
        "id": "xRY35Qu0vZvP"
      }
    },
    {
      "cell_type": "markdown",
      "source": [
        "## 250. Install mysql connector\n",
        "- To Connect and work with MySQL database from your python script, you need to install the MySQL connector"
      ],
      "metadata": {
        "id": "Gu2hHQVi-Udt"
      }
    },
    {
      "cell_type": "code",
      "execution_count": 6,
      "metadata": {
        "colab": {
          "base_uri": "https://localhost:8080/"
        },
        "id": "HJ-e3mH-jVgy",
        "outputId": "0e9217b1-e918-4d31-c89b-60795dfff972"
      },
      "outputs": [
        {
          "output_type": "stream",
          "name": "stdout",
          "text": [
            "Requirement already satisfied: mysql-connector-python in c:\\users\\surya\\appdata\\local\\programs\\python\\python39\\lib\\site-packages (8.0.27)\n",
            "Requirement already satisfied: protobuf>=3.0.0 in c:\\users\\surya\\appdata\\local\\programs\\python\\python39\\lib\\site-packages (from mysql-connector-python) (4.23.4)\n",
            "Note: you may need to restart the kernel to use updated packages.\n"
          ]
        }
      ],
      "source": [
        "pip install mysql-connector-python"
      ]
    },
    {
      "cell_type": "markdown",
      "source": [
        "In Case of Mac users, some problems have been observed while installing MySQL Server connector using above command, so use the command below"
      ],
      "metadata": {
        "id": "HqL6uj9K_MAw"
      }
    },
    {
      "cell_type": "code",
      "source": [
        "LDFLAGS=L/usr/local/opt/openssl/lib pip3 install mysql-connector-python"
      ],
      "metadata": {
        "id": "wp0V4_BhjZzV"
      },
      "execution_count": null,
      "outputs": []
    },
    {
      "cell_type": "markdown",
      "source": [
        "## 251. Setup the Database\n",
        "- We'll create the database taht we're going to use\n",
        "- Launch your MySQL WorkBench, connect to the MySQL database, goto a SQL window by hitting the ```+``` button on the left\n",
        "``` sql\n",
        "    -- create a database called mydb\n",
        "    CREATE DATABASE mydb;\n",
        "    USE mydb;\n",
        "    -- create the table\n",
        "    CREATE TABLE emp(id int, name varchar(30), sal int);\n",
        "    SELECT * FROM emp; -- it should have no data initially\n",
        "```\n",
        "- We'll perform CRUD operations against the table 'emp'"
      ],
      "metadata": {
        "id": "kDkw7cpm_4KQ"
      }
    },
    {
      "cell_type": "markdown",
      "source": [
        "## 252. Connect to the DB from Python\n",
        "- You'll learn how to connect to a MySQL Database from a Python program\n",
        "- ```mysql.connector.connect(host='', database='', user='', password='', port='3306')```\n",
        "    - create or get a MySQL connection object\n",
        "    - ```connect()``` will open a connection to a MySQL Server and return a MySQLConnection Object\n",
        "    - takes parameters ```host```, ```database```, ```user```, ```password```, ```port```\n",
        "    - default port for MySQL is ```3306``` which it uses automatically\n",
        "    - returns a 'MySQLConnection' or 'PooledMySQLConnection'\n",
        "- ```mysql.connector.MySQLConnection.is_connected()```\n",
        "    - reports whether the connection to MySQL server is available\n",
        "- ```mysql.connector.MySQLConnection.close()```\n",
        "    - Disconnect from the MySQL Server"
      ],
      "metadata": {
        "id": "a4Crv0FLBRPr"
      }
    },
    {
      "cell_type": "code",
      "source": [
        "# dboperations\n",
        "# readEmp.py\n",
        "import mysql.connector\n",
        "\n",
        "conn = mysql.connector.connect(host='localhost', database='mydb', user='root', password='mysql', port='3306')\n",
        "# print(\"DEBUG:\", type(conn)) # debug\n",
        "# print(\"DEBUG:\", conn) # debug\n",
        "if conn.is_connected():\n",
        "    print(\"Connected to MySQL db\")\n",
        "    # logic for performing all the CRUD operations\n",
        "conn.close()"
      ],
      "metadata": {
        "colab": {
          "base_uri": "https://localhost:8080/"
        },
        "id": "xq1Y7Iomjgd-",
        "outputId": "0beb9d5a-c74a-47b5-f7dd-b8999f345f41"
      },
      "execution_count": 16,
      "outputs": [
        {
          "output_type": "stream",
          "name": "stdout",
          "text": [
            "Connected to MySQL db\n"
          ]
        }
      ]
    },
    {
      "cell_type": "markdown",
      "source": [
        "## 253. READ\n",
        "- Fetch the data from the database using cursor\n",
        "- We'll add some records to employee table from MySQL Workbench\n",
        "- To perform database operations, we need a cursor\n",
        "``` sql\n",
        "    -- Insert data into table emp before reading\n",
        "    INSERT INTO emp VALUES (1, 'John', 10000);\n",
        "    INSERT INTO emp VALUES (2, 'Bob', 20000);\n",
        "\n",
        "```\n",
        "- ```mysql.connector.MySQLConnection.cursor(buffered=None, raw=None, prepared=None, cursor_class=None, dictionary=None, named_tuple=None)```\n",
        "    - Instantiates and returns a cursor using C extension\n",
        "    - returns instance of CMySQLCursor or subclass\n",
        "    - raises ```ProgrammingError``` when ```cursor_class``` is not a sub-class of ```CursorBase```\n",
        "    - raises ```ValueError``` when cursor is not available\n",
        "- ```mysql.connector.MySQLConnection.cursor.fetchone()```\n",
        "    - returns next row of a query result set\n",
        "    - returns None if there are no records returned by query in execute\n",
        "    - returns tuple containing values from fetched record"
      ],
      "metadata": {
        "id": "Fhk82iQzrPlu"
      }
    },
    {
      "cell_type": "code",
      "source": [
        "import mysql.connector\n",
        "\n",
        "conn = mysql.connector.connect(host='localhost', database='mydb', user='root', password='mysql')\n",
        "\n",
        "if conn.is_connected():\n",
        "    print(\"Connected to MySQL db\")\n",
        "\n",
        "cursor = conn.cursor()\n",
        "\n",
        "cursor.execute('SELECT * FROM emp')\n",
        "\n",
        "row = cursor.fetchone()\n",
        "# print('DEBUG:', row) # debug\n",
        "# print('DEBUG:', type(row)) # debug\n",
        "\n",
        "while row is not None:\n",
        "    print(row)\n",
        "    row = cursor.fetchone()\n",
        "\n",
        "cursor.close()\n",
        "conn.close()"
      ],
      "metadata": {
        "colab": {
          "base_uri": "https://localhost:8080/"
        },
        "id": "Hd5ABdP3iklC",
        "outputId": "2b2a58a5-9e60-4357-87ce-72964bf25a64"
      },
      "execution_count": 31,
      "outputs": [
        {
          "output_type": "stream",
          "name": "stdout",
          "text": [
            "Connected to MySQL db\n",
            "(1, 'John', 10000)\n",
            "(2, 'Bob', 20000)\n"
          ]
        }
      ]
    },
    {
      "cell_type": "markdown",
      "source": [
        "## READ - fetchall\n",
        "- We'll modify the previous program so that we'll fetch all the records at once instead of fetching one record at a time\n",
        "- use method ```cursor.fetchall()```\n",
        "- ```mysql.connector.MySQLConnection.cursor.fetchall()```\n",
        "    - returns all rows of a query result set\n",
        "    - returns empty list if no records are returned by query in execute\n",
        "    - returns list containing tuples of data representing records\n",
        "- ```mysql.connector.MySQLConnection.cursor.rowcount```\n",
        "    - Property of cursor that indicates number of rows returned by 'SELECT' statements or number of rows affected by 'INSERT' or 'UPDATE'"
      ],
      "metadata": {
        "id": "Qko0b3kDHYxQ"
      }
    },
    {
      "cell_type": "code",
      "source": [
        "import mysql.connector\n",
        "\n",
        "conn = mysql.connector.connect(host='localhost', database='mydb', user='root', password='mysql')\n",
        "\n",
        "if conn.is_connected():\n",
        "    print(\"Connected to MySQL db\")\n",
        "\n",
        "cursor = conn.cursor()\n",
        "\n",
        "cursor.execute('SELECT * FROM emp')\n",
        "\n",
        "rows = cursor.fetchall()\n",
        "# print('DEBUG:', rows) # debug\n",
        "# print('DEBUG:', type(rows)) # debug\n",
        "print('Total number of records:', cursor.rowcount)\n",
        "# print('DEBUG:', cursor.rowcount) # debug\n",
        "\n",
        "for row in rows:\n",
        "    print(row)\n",
        "    # print('DEBUG:', type(row)) # debug\n",
        "\n",
        "cursor.close()\n",
        "conn.close()"
      ],
      "metadata": {
        "colab": {
          "base_uri": "https://localhost:8080/"
        },
        "id": "1EN7VqnDvntK",
        "outputId": "02b71c05-cc7d-4a2b-a135-78d967f90ee8"
      },
      "execution_count": 41,
      "outputs": [
        {
          "output_type": "stream",
          "name": "stdout",
          "text": [
            "Connected to MySQL db\n",
            "Total number of records: 2\n",
            "(1, 'John', 10000)\n",
            "(2, 'Bob', 20000)\n"
          ]
        }
      ]
    },
    {
      "cell_type": "markdown",
      "source": [
        "## 255. CREATE\n",
        "- We'll perfrom the create operation or Insert a record into the emp table with transaction management using commit and rollback\n",
        "- While deailg with DML statements such as INSERT, UPDATE or DELETE, we should always either commit or rollback the data\n",
        "- ```mysql.connector.MySQLConnection.commit()```\n",
        "    - Commit current Transaction\n",
        "    - If there are multiple DML statements in ```cursor.execute()``` method, all those statements will take affect only when ```commit()``` is called\n",
        "- ```mysql.connector.MySQLConnection.rollback()```\n",
        "    - rollback current transaction"
      ],
      "metadata": {
        "id": "Xfy_4yRHLb-I"
      }
    },
    {
      "cell_type": "code",
      "source": [
        "# createEmp.py\n",
        "import mysql.connector\n",
        "\n",
        "conn = mysql.connector.connect(host='localhost', database='mydb', user='root', password='mysql')\n",
        "\n",
        "if conn.is_connected():\n",
        "    print(\"Connected to MySQL db\")\n",
        "\n",
        "cursor = conn.cursor()\n",
        "\n",
        "try:\n",
        "    cursor.execute(\"INSERT INTO emp VALUES (3, 'Abhy', 30000)\")\n",
        "    conn.commit()\n",
        "    print(\"Employee Added\")\n",
        "except:\n",
        "    conn.rollback()\n",
        "\n",
        "cursor.close()\n",
        "conn.close()"
      ],
      "metadata": {
        "colab": {
          "base_uri": "https://localhost:8080/"
        },
        "id": "ol8iRbp-ImP0",
        "outputId": "caea1145-6ff8-46eb-8020-cb2e0ad1a4dd"
      },
      "execution_count": 79,
      "outputs": [
        {
          "output_type": "stream",
          "name": "stdout",
          "text": [
            "Connected to MySQL db\n",
            "Employee Added\n"
          ]
        }
      ]
    },
    {
      "cell_type": "markdown",
      "source": [
        "## 256. DELETE\n",
        "- The next CRUD operation is the Delete operation"
      ],
      "metadata": {
        "id": "Jm_kn3QXZyph"
      }
    },
    {
      "cell_type": "code",
      "source": [
        "# deleteEmp.py\n",
        "import mysql.connector\n",
        "\n",
        "def delete(id):\n",
        "    conn = mysql.connector.connect(host='localhost', database='mydb', user='root', password='mysql')\n",
        "    if conn.is_connected():\n",
        "        print(\"Connected to MySQL db\")\n",
        "    cursor = conn.cursor()\n",
        "    str = \"DELETE FROM emp WHERE id='%d' \"\n",
        "    args = (id)\n",
        "    try:\n",
        "        # cursor.execute(\"DELETE FROM emp WHERE id='%d' \" %(id)) # using format string\n",
        "        cursor.execute(str % args)\n",
        "        conn.commit()\n",
        "        print(\"Employee Deleted\")\n",
        "    except:\n",
        "        conn.rollback()\n",
        "    finally:\n",
        "        cursor.close()\n",
        "        conn.close()\n",
        "\n",
        "empId = int(input('Enter Emp Id:'))\n",
        "delete(empId) # 3"
      ],
      "metadata": {
        "colab": {
          "base_uri": "https://localhost:8080/"
        },
        "id": "h8Vy2JIhWwQw",
        "outputId": "3bd2252a-fd4d-440f-9a55-c9b4c7ad512a"
      },
      "execution_count": 80,
      "outputs": [
        {
          "output_type": "stream",
          "name": "stdout",
          "text": [
            "Enter Emp Id:3\n",
            "Connected to MySQL db\n",
            "Employee Deleted\n"
          ]
        }
      ]
    },
    {
      "cell_type": "code",
      "source": [
        "# updateEmp.py\n",
        "import mysql.connector\n",
        "\n",
        "def update(id, sal):\n",
        "    conn = mysql.connector.connect(host='localhost', database='mydb', user='root', password='mysql')\n",
        "    if conn.is_connected():\n",
        "        print(\"Connected to MySQL db\")\n",
        "    cursor = conn.cursor()\n",
        "    # str = \"DELETE FROM emp WHERE id='%d' \"\n",
        "    str = \"UPDATE emp SET sal='%d' WHERE id='%d' \"\n",
        "    args = (sal, id)\n",
        "    try:\n",
        "        # cursor.execute(\"UPDATE emp SET sal='%d' WHERE id='%d' \" %(sal, id)) # using format string\n",
        "        cursor.execute(str % args)\n",
        "        conn.commit()\n",
        "        # print(cursor.rowcount)\n",
        "        if cursor.rowcount==0:\n",
        "            raise Exception\n",
        "        print(\"Salary Updated to %d for empId %d \" %(sal, id))\n",
        "    except:\n",
        "        conn.rollback()\n",
        "        print('Employee ID not found')\n",
        "    finally:\n",
        "        cursor.close()\n",
        "        conn.close()\n",
        "\n",
        "empId = int(input('Enter Emp Id:'))\n",
        "sal = int(input('Enter new salary:'))\n",
        "update(empId, sal) # 2 27000"
      ],
      "metadata": {
        "colab": {
          "base_uri": "https://localhost:8080/"
        },
        "id": "KtILY01gyrdV",
        "outputId": "e7bab538-6522-488f-a43e-857d1e215608"
      },
      "execution_count": 81,
      "outputs": [
        {
          "output_type": "stream",
          "name": "stdout",
          "text": [
            "Enter Emp Id:2\n",
            "Enter new salary:27000\n",
            "Connected to MySQL db\n",
            "Employee ID not found\n"
          ]
        }
      ]
    },
    {
      "cell_type": "code",
      "source": [],
      "metadata": {
        "id": "mxqzS5c06q3s"
      },
      "execution_count": 81,
      "outputs": []
    }
  ]
}