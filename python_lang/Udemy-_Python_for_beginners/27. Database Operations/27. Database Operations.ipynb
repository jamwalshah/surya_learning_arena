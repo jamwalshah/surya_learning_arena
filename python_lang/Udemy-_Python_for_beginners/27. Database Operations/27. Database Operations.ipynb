{
  "nbformat": 4,
  "nbformat_minor": 0,
  "metadata": {
    "colab": {
      "provenance": [],
      "toc_visible": true
    },
    "kernelspec": {
      "name": "python3",
      "display_name": "Python 3"
    },
    "language_info": {
      "name": "python"
    }
  },
  "cells": [
    {
      "cell_type": "markdown",
      "source": [
        "## 247. Introduction\n",
        "- We'll learn how to connect and execute SQL statements against a database\n",
        "- We do that using connectors\n",
        "- There is a respective connector for every database whether it is oracle or mysql, that we need to install\n",
        "- Once we have that connector, we can easily connect to the database and perform CRUD operations namely Create, Read, Update & Delete against the Database tables\n",
        "                    Connect\n",
        "        Python App --------------> DB\n",
        "                    SQL\n",
        "- The steps used to connect and work will remain same, no matter which database you're working with\n",
        "- Following steps will be used to connect and work with MySQL database.\n",
        "    1. ```Install the appropriate connector``` (in our case MySQL Connector, and in case of Oracle then install Oracle Connector), which is a one-step process\n",
        "    2. Once you have that connector, we'll ```import that connector module``` into our program\n",
        "    3. Use that connector to ```create a connection``` against the database\n",
        "    4. Using the connection, we'll ```create a cursor``` object.\n",
        "- ```Cursor``` :\n",
        "    - The cursor is the key, using which we can execute all the SQL statements like INSERT, SELECT, UPDATE, etc.\n",
        "    - The data you fetch using SQL statements will go into the cursor, and then we can fetch that data as required"
      ],
      "metadata": {
        "id": "_Ww2Z332jvPf"
      }
    },
    {
      "cell_type": "markdown",
      "source": [
        "## 248. Install MySQL\n",
        "- We'll see how to downlaod & install MySQL Community Server on your windows system\n",
        "- Launch your web browser, and search for downloading ```Visual C++``` on your machine as per architecture of your machine, and then install it which is a pre-requisite to install the MySQL\n",
        "- Go back to browser again and search for ```MySQL Community Server download```, then download the MySQL server installer Community version which is an open-source version\n",
        "- Once you launch the installer, Choose 'Server Only' in setup type\n",
        "- After it fetches the packages, select 'Standalone MySQL Server` in high availability, and select 'Use Strong Password Encyption for Authentication' in authentication method, give root passwords as 'test1234' or 'mysql'\n",
        "- After you finish, MySQL Server should be up-and-running"
      ],
      "metadata": {
        "id": "-WTcJ99LscyV"
      }
    },
    {
      "cell_type": "markdown",
      "source": [
        "## 249. Install MySQL workbench\n",
        "- You'll install MySQL Workbench which is a GUI based tool to access MySQL server, so it is a client\n",
        "- Launch youe web browser and launch 'mysql workbench', click on the downloads and download the installer\n",
        "- Once you have the installer, it is a straight forward installation with setup type as 'Complete'\n",
        "- Once you finish installation, it should launch itself if you kept the checkbox checked\n",
        "- MySQL Workbench makes it super easy to connect and work with MySQL server and it gives a default connection for the local machine\n",
        "- You can add more connections by clicking on ```+``` button, then you can even connect to remote MySQL servers by simply providing the name you want to give, the IP address and port number of the host machine, such machines can even be on cloud\n",
        "- Click on the ```Local Instance MySQL80```, and it asks for the password which you've set earlier in the MySQL server installation which is 'test1234' or 'mysql' and the hit 'OK'\n",
        "- It will open a query window, where you can create your databases and do whatever you want with MySQL Server\n",
        "``` sql\n",
        "    SHOW DATABASES;\n",
        "    CREATE DATABASE mydb;\n",
        "    USE mydb;\n",
        "    SHOW TABLES;\n",
        "```"
      ],
      "metadata": {
        "id": "xRY35Qu0vZvP"
      }
    },
    {
      "cell_type": "markdown",
      "source": [
        "## 250. Install mysql connector\n",
        "- To Connect and work with MySQL database from your python script, you need to install the MySQL connector"
      ],
      "metadata": {
        "id": "Gu2hHQVi-Udt"
      }
    },
    {
      "cell_type": "code",
      "execution_count": 6,
      "metadata": {
        "colab": {
          "base_uri": "https://localhost:8080/"
        },
        "id": "HJ-e3mH-jVgy",
        "outputId": "0e9217b1-e918-4d31-c89b-60795dfff972"
      },
      "outputs": [
        {
          "output_type": "stream",
          "name": "stdout",
          "text": [
            "Requirement already satisfied: mysql-connector-python in c:\\users\\surya\\appdata\\local\\programs\\python\\python39\\lib\\site-packages (8.0.27)\n",
            "Requirement already satisfied: protobuf>=3.0.0 in c:\\users\\surya\\appdata\\local\\programs\\python\\python39\\lib\\site-packages (from mysql-connector-python) (4.23.4)\n",
            "Note: you may need to restart the kernel to use updated packages.\n"
          ]
        }
      ],
      "source": [
        "pip install mysql-connector-python"
      ]
    },
    {
      "cell_type": "markdown",
      "source": [
        "In Case of Mac users, some problems have been observed while installing MySQL Server connector using above command, so use the command below"
      ],
      "metadata": {
        "id": "HqL6uj9K_MAw"
      }
    },
    {
      "cell_type": "code",
      "source": [
        "LDFLAGS=L/usr/local/opt/openssl/lib pip3 install mysql-connector-python"
      ],
      "metadata": {
        "id": "wp0V4_BhjZzV"
      },
      "execution_count": null,
      "outputs": []
    },
    {
      "cell_type": "markdown",
      "source": [
        "## 251. Setup the Database\n",
        "- We'll create the database taht we're going to use\n",
        "- Launch your MySQL WorkBench, connect to the MySQL database, goto a SQL window by hitting the ```+``` button on the left\n",
        "``` sql\n",
        "    -- create a database called mydb\n",
        "    CREATE DATABASE mydb;\n",
        "    USE mydb;\n",
        "    -- create the table\n",
        "    CREATE TABLE emp(id int, name varchar(30), sal int);\n",
        "    SELECT * FROM emp; -- it should have no data initially\n",
        "```\n",
        "- We'll perform CRUD operations against the table 'emp'"
      ],
      "metadata": {
        "id": "kDkw7cpm_4KQ"
      }
    },
    {
      "cell_type": "markdown",
      "source": [
        "## 252. Connect to the DB from Python\n",
        "- You'll learn how to connect to a MySQL Database from a Python program\n",
        "- ```mysql.connector.connect(host='', database='', user='', password='', port='3306')```\n",
        "    - create or get a MySQL connection object\n",
        "    - ```connect()``` will open a connection to a MySQL Server and return a MySQLConnection Object\n",
        "    - takes parameters ```host```, ```database```, ```user```, ```password```, ```port```\n",
        "    - default port for MySQL is ```3306``` which it uses automatically\n",
        "    - returns a 'MySQLConnection' or 'PooledMySQLConnection'\n",
        "- ```mysql.connector.MySQLConnection.is_connected()```\n",
        "    - reports whether the connection to MySQL server is available\n",
        "- ```mysql.connector.MySQLConnection.close()```\n",
        "    - Disconnect from the MySQL Server"
      ],
      "metadata": {
        "id": "a4Crv0FLBRPr"
      }
    },
    {
      "cell_type": "code",
      "source": [
        "# dboperations\n",
        "# readEmp.py\n",
        "import mysql.connector\n",
        "\n",
        "conn = mysql.connector.connect(host='localhost', database='mydb', user='root', password='mysql', port='3306')\n",
        "# print(\"DEBUG:\", type(conn)) # debug\n",
        "# print(\"DEBUG:\", conn) # debug\n",
        "if conn.is_connected():\n",
        "    print(\"Connected to MySQL db\")\n",
        "    # logic for performing all the CRUD operations\n",
        "conn.close()"
      ],
      "metadata": {
        "colab": {
          "base_uri": "https://localhost:8080/"
        },
        "id": "xq1Y7Iomjgd-",
        "outputId": "0beb9d5a-c74a-47b5-f7dd-b8999f345f41"
      },
      "execution_count": 16,
      "outputs": [
        {
          "output_type": "stream",
          "name": "stdout",
          "text": [
            "Connected to MySQL db\n"
          ]
        }
      ]
    },
    {
      "cell_type": "markdown",
      "source": [
        "## 253. READ\n",
        "- Fetch the data from the database"
      ],
      "metadata": {
        "id": "Fhk82iQzrPlu"
      }
    },
    {
      "cell_type": "code",
      "source": [],
      "metadata": {
        "id": "Hd5ABdP3iklC"
      },
      "execution_count": null,
      "outputs": []
    }
  ]
}