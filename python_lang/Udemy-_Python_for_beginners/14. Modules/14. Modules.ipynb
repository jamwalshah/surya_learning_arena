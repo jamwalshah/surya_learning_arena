{
  "nbformat": 4,
  "nbformat_minor": 0,
  "metadata": {
    "colab": {
      "provenance": [],
      "toc_visible": true
    },
    "kernelspec": {
      "name": "python3",
      "display_name": "Python 3"
    },
    "language_info": {
      "name": "python"
    }
  },
  "cells": [
    {
      "cell_type": "markdown",
      "source": [
        "## 128. Introduction\n",
        "- every python script or python file is a module\n",
        "- A module is a group of functions, variables and classes saved to a file which can be reused across various other modules"
      ],
      "metadata": {
        "id": "6ovFzNSeNX8R"
      }
    },
    {
      "cell_type": "markdown",
      "source": [
        "## 129. Create a module and use it\n",
        "- Create your own python module called mymath and then create another script that will import that module and use the functions inside that module\n",
        "- to create a resusable python module, which is nothing but a python script with a group of functions. To use it, we import the module into the script using the ```import``` statement, and we call the methods by ```.``` operator after the module name"
      ],
      "metadata": {
        "id": "TBsdAyRBPSmB"
      }
    },
    {
      "cell_type": "code",
      "source": [
        "import os\n",
        "os.getcwd()\n",
        "os.chdir(r'C:\\Users\\surya\\Downloads\\surya_learning_arena\\python_lang\\Udemy-_Python_for_beginners\\14. Modules')\n",
        "os.getcwd()"
      ],
      "metadata": {
        "colab": {
          "base_uri": "https://localhost:8080/"
        },
        "id": "mizm5hl7K2f-",
        "outputId": "bd740997-16c4-4b86-cac1-ef255729b5ff"
      },
      "execution_count": 24,
      "outputs": [
        {
          "output_type": "execute_result",
          "data": {
            "text/plain": [
              "'C:\\\\Users\\\\surya\\\\Downloads\\\\surya_learning_arena\\\\python_lang\\\\Udemy-_Python_for_beginners\\\\14. Modules'"
            ]
          },
          "metadata": {},
          "execution_count": 24
        }
      ]
    },
    {
      "cell_type": "code",
      "execution_count": 25,
      "metadata": {
        "id": "ti3EiR6bNSR7"
      },
      "outputs": [],
      "source": [
        "# mymath.py\n",
        "'''\n",
        "Created on Dec 20, 2023\n",
        "\n",
        "@author: jamwalshah\n",
        "'''\n",
        "\n",
        "def sum(x, y):\n",
        "    return x+y\n",
        "\n",
        "def diff(x, y):\n",
        "    return x-y\n"
      ]
    },
    {
      "cell_type": "code",
      "source": [
        "# usemodule.py\n",
        "import mymath\n",
        "\n",
        "print(mymath.sum(10, 5))\n",
        "print(mymath.diff(10, 5))"
      ],
      "metadata": {
        "colab": {
          "base_uri": "https://localhost:8080/"
        },
        "id": "fFJm294sJYaR",
        "outputId": "95a0fc68-f16c-4180-aace-4c8b3e073694"
      },
      "execution_count": 26,
      "outputs": [
        {
          "output_type": "stream",
          "name": "stdout",
          "text": [
            "15\n",
            "5\n"
          ]
        }
      ]
    },
    {
      "cell_type": "markdown",
      "source": [
        "## 130. Different ways to import\n",
        "1. using ```import```\n",
        "    - basic syntax to import any module by using ```import``` statement\n",
        "1. using ```import ... as ...```\n",
        "    - you can import module with a alias using ```as``` keyword with ```import``` statement\n",
        "2. using ```from ... import ...```\n",
        "    - to avoid using name of module at function calls, you can import using ```from``` keyword with ```import``` statement, so that you can directly invoke the functions\n",
        "    - you can import only specific methods from a module, avoiding to import all methods\n",
        "    - you can import all methods from a module by using after ```from ModuleName import *```\n"
      ],
      "metadata": {
        "id": "FHZWLYYAMNit"
      }
    },
    {
      "cell_type": "code",
      "source": [
        "# usemodule.py\n",
        "import mymath\n",
        "\n",
        "print(mymath.sum(10, 5))\n",
        "print(mymath.diff(10, 5))"
      ],
      "metadata": {
        "colab": {
          "base_uri": "https://localhost:8080/"
        },
        "id": "VbK5VQamN1-2",
        "outputId": "3c75e0e2-4bbe-4b9c-8b70-1cdf263cfe0f"
      },
      "execution_count": 27,
      "outputs": [
        {
          "output_type": "stream",
          "name": "stdout",
          "text": [
            "15\n",
            "5\n"
          ]
        }
      ]
    },
    {
      "cell_type": "code",
      "source": [
        "# usesmodule.py\n",
        "import mymath as ma # ma is the alias for mymath module within this script\n",
        "\n",
        "print(ma.sum(10, 5))\n",
        "print(ma.diff(10, 5))"
      ],
      "metadata": {
        "colab": {
          "base_uri": "https://localhost:8080/"
        },
        "id": "__xYTn9NLWH7",
        "outputId": "41169920-71f6-4ecc-98b3-2c3bb0de16a6"
      },
      "execution_count": 28,
      "outputs": [
        {
          "output_type": "stream",
          "name": "stdout",
          "text": [
            "15\n",
            "5\n"
          ]
        }
      ]
    },
    {
      "cell_type": "code",
      "source": [
        "# usemodule.py\n",
        "from mymath import * # imports all methods from module using '*'\n",
        "\n",
        "print(sum(10, 5))\n",
        "print(diff(10, 5))"
      ],
      "metadata": {
        "colab": {
          "base_uri": "https://localhost:8080/"
        },
        "id": "wm8NJmKqM5rJ",
        "outputId": "92a19079-647d-41eb-8a4f-4d5ca361f139"
      },
      "execution_count": 29,
      "outputs": [
        {
          "output_type": "stream",
          "name": "stdout",
          "text": [
            "15\n",
            "5\n"
          ]
        }
      ]
    },
    {
      "cell_type": "markdown",
      "source": [
        "## 131. Use Math module\n",
        "- use inbuilt ```math``` module and its functions\n"
      ],
      "metadata": {
        "id": "RgneQ1tbOrfJ"
      }
    },
    {
      "cell_type": "code",
      "source": [
        "# mathdemo.py\n",
        "from math import *\n",
        "print(sqrt(9))\n",
        "print(ceil(8.2))\n",
        "print(floor(7.9))\n"
      ],
      "metadata": {
        "colab": {
          "base_uri": "https://localhost:8080/"
        },
        "id": "DLOg31sDOn2V",
        "outputId": "439f1a6b-d54e-4413-8d32-82aaf872fe92"
      },
      "execution_count": 31,
      "outputs": [
        {
          "output_type": "stream",
          "name": "stdout",
          "text": [
            "3.0\n",
            "9\n",
            "7\n"
          ]
        }
      ]
    },
    {
      "cell_type": "code",
      "source": [],
      "metadata": {
        "id": "BDUsQRNyPw0x"
      },
      "execution_count": null,
      "outputs": []
    }
  ]
}