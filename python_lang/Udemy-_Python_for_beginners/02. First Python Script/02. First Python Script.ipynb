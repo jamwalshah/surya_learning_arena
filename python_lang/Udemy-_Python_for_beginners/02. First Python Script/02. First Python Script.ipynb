{
  "nbformat": 4,
  "nbformat_minor": 0,
  "metadata": {
    "colab": {
      "provenance": [],
      "toc_visible": true
    },
    "kernelspec": {
      "name": "python3",
      "display_name": "Python 3"
    },
    "language_info": {
      "name": "python"
    }
  },
  "cells": [
    {
      "cell_type": "markdown",
      "source": [
        "## 15. First Python Program"
      ],
      "metadata": {
        "id": "kZhO1UsoIMX5"
      }
    },
    {
      "cell_type": "code",
      "execution_count": 2,
      "metadata": {
        "colab": {
          "base_uri": "https://localhost:8080/"
        },
        "id": "TvVbepknHScs",
        "outputId": "3b959865-cb19-4de0-cc97-44f93ae37ccb"
      },
      "outputs": [
        {
          "output_type": "stream",
          "name": "stdout",
          "text": [
            "Python is easy!!\n"
          ]
        }
      ],
      "source": [
        "print('Python is easy!!')"
      ]
    },
    {
      "cell_type": "markdown",
      "source": [
        "## 16. Comments"
      ],
      "metadata": {
        "id": "8qk6khucIPZ3"
      }
    },
    {
      "cell_type": "code",
      "source": [
        "'''Author is  Bharath Thippireddy\n",
        "Created on Aug 15 2023\n",
        "'''\n",
        "# this is my first Python Program\n",
        "print('Python is easy!!')"
      ],
      "metadata": {
        "colab": {
          "base_uri": "https://localhost:8080/"
        },
        "id": "6rv64esIHzdT",
        "outputId": "5cb60ae6-4f55-49b5-b4d1-3d80d7b0ac42"
      },
      "execution_count": 5,
      "outputs": [
        {
          "output_type": "stream",
          "name": "stdout",
          "text": [
            "Python is easy!!\n"
          ]
        }
      ]
    },
    {
      "cell_type": "markdown",
      "source": [
        "## 17. Indentation"
      ],
      "metadata": {
        "id": "vJ3pRwKsIvMG"
      }
    },
    {
      "cell_type": "code",
      "source": [
        "x=int(input(\"Enter min number\"))\n",
        "y=int(input(\"Enter max number\"))\n",
        "i=x\n",
        "if i % 2 == 0: i=x+1\n",
        "while i<=y:\n",
        "    print(i)\n",
        "    i+=2"
      ],
      "metadata": {
        "id": "FVZqbj1gIiNF",
        "colab": {
          "base_uri": "https://localhost:8080/"
        },
        "outputId": "612c25ab-9a5d-4ca8-9ae5-af46ef8ac087"
      },
      "execution_count": 7,
      "outputs": [
        {
          "output_type": "stream",
          "name": "stdout",
          "text": [
            "Enter min number2\n",
            "Enter max number8\n",
            "3\n",
            "5\n",
            "7\n"
          ]
        }
      ]
    },
    {
      "cell_type": "code",
      "source": [],
      "metadata": {
        "id": "NnztDWxJwHgT"
      },
      "execution_count": 7,
      "outputs": []
    }
  ]
}