{
  "nbformat": 4,
  "nbformat_minor": 0,
  "metadata": {
    "colab": {
      "provenance": [],
      "toc_visible": true
    },
    "kernelspec": {
      "name": "python3",
      "display_name": "Python 3"
    },
    "language_info": {
      "name": "python"
    }
  },
  "cells": [
    {
      "cell_type": "markdown",
      "source": [
        "f## 21. Introduction\n",
        "- Till now all code we have written was single threaded\n",
        "- Behind the scenes, PVM uses the single thread called ```main()``` thread to execute the code which we have written\n",
        "- ```Single threaded Application```\n",
        "    - if an application does not have any other thread except the ```main()``` thread, then it is a single threaded application\n",
        "- Multiple threads are created\n",
        "    - to make the best use of underlying processor\n",
        "    - to improve the performance & user experience of the application\n",
        "    - to execute multiple tasks in parallel\n",
        "- To create a Thread, two basic steps are followed\n",
        "    1. Import ```threading``` module & Create an instance of ```Thread``` class or extend it\n",
        "    2. invoke ```start()``` method from the object of that instance, which will internally invoke ```run()``` method as a part of thread\n",
        "- Three ways to create multiple threads in application\n",
        "    1. Using a function method\n",
        "        - Create a function and then create an object of type ```thread``` and pass the target as name of function along with the arguments to the function, where arguments are passed as an iterator\n",
        "        ``` python\n",
        "        t = Thread(target=functionName, args)\n",
        "        ```\n",
        "        - To invoke this thread, use ```start()``` method of thread instance\n",
        "        ```python\n",
        "        t.start()\n",
        "        ```\n",
        "    2. Extending thread class method\n",
        "        - ```Thread``` class belongs to ```threading``` module\n",
        "        1. import the ```threading``` module, and extend the ```Thread``` class into your custom thread class\n",
        "        ``` python\n",
        "        import threading\n",
        "        class MyThread(Thread)\n",
        "        ```\n",
        "        2. Override the ```run()``` method, add all the code you want to execute as thread inside ```run()``` method\n",
        "        3. create an instance of thread class and invoke ```start()``` method, it'll spawn a new thread and invoke the ```run()``` method internally\n",
        "        ``` python\n",
        "        t = MyThread()\n",
        "        t.start()\n",
        "        ```\n",
        "    3. Hybrid method\n",
        "        - create a class and add any functions that you want\n",
        "        - This class does not extend the ```Thread``` class, instead create an instance of the thread, and pass the ```<object>.<method()>``` to the taget parameter, along with arguments of that method to create an instance of ```Thread``` class\n",
        "        - then you can run the thread by invoking the ```start()``` method, which will internally invoke ```run()``` method\n",
        "        ``` python\n",
        "        class MyThread:\n",
        "            display()\n",
        "        \n",
        "        myobj = MyThread()\n",
        "\n",
        "        t = Thread(target = myobj.display, args)\n",
        "        t.start()\n",
        "        ```"
      ],
      "metadata": {
        "id": "xRYfRTvMDaB0"
      }
    },
    {
      "cell_type": "markdown",
      "source": [
        "## 214. Main Thread\n",
        "- Access the information about the main thread\n",
        "- in normal conditions, ```MainThread``` is the thread from which the python interpreter was started\n",
        "- ```threading.current_thread()```\n",
        "    - returns current Thread object\n",
        "- ```threading.main_thread()```\n",
        "    - returns main Thread object"
      ],
      "metadata": {
        "id": "2tyqmQifGPrJ"
      }
    },
    {
      "cell_type": "code",
      "execution_count": 1,
      "metadata": {
        "colab": {
          "base_uri": "https://localhost:8080/"
        },
        "id": "3tsplcFQDXdR",
        "outputId": "17b857bb-f441-49d8-ed5d-98c0be544305"
      },
      "outputs": [
        {
          "output_type": "stream",
          "name": "stdout",
          "text": [
            "Current Thread that is running: MainThread\n",
            "Main Thread\n"
          ]
        }
      ],
      "source": [
        "# multithreading\n",
        "# mainthread.py\n",
        "import threading\n",
        "\n",
        "print(\"Current Thread that is running:\", threading.current_thread().getName())\n",
        "if threading.current_thread() == threading.main_thread():\n",
        "    print(\"Main Thread\")\n",
        "else:\n",
        "    print(\"Some other thread\")"
      ]
    },
    {
      "cell_type": "markdown",
      "source": [
        "## 215. Thread using a function\n",
        "- Create a function that will display numbers from 0 to 10, and then spawn it as a thread of its own"
      ],
      "metadata": {
        "id": "1RkbdYkC-4i1"
      }
    },
    {
      "cell_type": "code",
      "source": [
        "# usingFunction.py\n",
        "from threading import Thread\n",
        "\n",
        "def displayNumbers():\n",
        "    i = 0\n",
        "    while(i<=10):\n",
        "        print(i)\n",
        "        i+=1\n",
        "\n",
        "t = Thread(target=displayNumbers) # creating a thread for function\n",
        "t.start() # starting the thread"
      ],
      "metadata": {
        "colab": {
          "base_uri": "https://localhost:8080/"
        },
        "id": "tF7ZFHWy9QXG",
        "outputId": "ddda8ed1-5a2c-47f6-f798-bc3d0e51faf0"
      },
      "execution_count": 2,
      "outputs": [
        {
          "output_type": "stream",
          "name": "stdout",
          "text": [
            "0\n",
            "1\n",
            "2\n",
            "3\n",
            "4\n",
            "5\n",
            "6\n",
            "7\n",
            "8\n",
            "9\n",
            "10\n"
          ]
        }
      ]
    },
    {
      "cell_type": "markdown",
      "source": [
        "## 216. Printing Thread Names\n",
        "- Print current thread name\n",
        "- ```threading.current_thread().getName()```\n",
        "    - returns the ```name``` property of ```threading.current_thread()```"
      ],
      "metadata": {
        "id": "ZJT69UXhb6LX"
      }
    },
    {
      "cell_type": "code",
      "source": [
        "# from threading import Thread, current_thread\n",
        "from threading import *\n",
        "\n",
        "def displayNumbers():\n",
        "    i = 0\n",
        "    print(current_thread().getName()) # prints new Thread name\n",
        "\n",
        "    while(i<=10):\n",
        "        print(i)\n",
        "        i+=1\n",
        "\n",
        "print(current_thread().getName()) # prints MainThred\n",
        "t = Thread(target=displayNumbers)\n",
        "t.start() # new Thread starts here"
      ],
      "metadata": {
        "colab": {
          "base_uri": "https://localhost:8080/"
        },
        "id": "r1eQNvz0_tSZ",
        "outputId": "db3bc4d2-b423-4ab1-91f4-3ad22316868c"
      },
      "execution_count": 3,
      "outputs": [
        {
          "output_type": "stream",
          "name": "stdout",
          "text": [
            "MainThread\n",
            "Thread-6\n",
            "0\n",
            "1\n",
            "2\n",
            "3\n",
            "4\n",
            "5\n",
            "6\n",
            "7\n",
            "8\n",
            "9\n",
            "10\n"
          ]
        }
      ]
    },
    {
      "cell_type": "markdown",
      "source": [
        "## 217. Thread extending the Thread Class\n",
        "- Create a thread by sub-classing/extending the super-class ```Thread```, and override the ```run()``` method"
      ],
      "metadata": {
        "id": "LxIMSjiQf6Om"
      }
    },
    {
      "cell_type": "code",
      "source": [
        "# usingsubclass.py\n",
        "from threading import Thread\n",
        "\n",
        "class MyThread(Thread): # extends Thread class\n",
        "    def run(self): # overriding run() method\n",
        "        i = 0\n",
        "        # print(current_thread().getName())\n",
        "        while(i<=10):\n",
        "            print(i)\n",
        "            i+=1\n",
        "\n",
        "t = MyThread()\n",
        "t.start() # starting the Thread, it internally invokes run() method"
      ],
      "metadata": {
        "colab": {
          "base_uri": "https://localhost:8080/"
        },
        "id": "pp7oSO5T_xlw",
        "outputId": "f7a5f2a5-1a1a-4322-86e1-0019be5f5c85"
      },
      "execution_count": 4,
      "outputs": [
        {
          "output_type": "stream",
          "name": "stdout",
          "text": [
            "0\n",
            "1\n",
            "2\n",
            "3\n",
            "4\n",
            "5\n",
            "6\n",
            "7\n",
            "8\n",
            "9\n",
            "10\n"
          ]
        }
      ]
    },
    {
      "cell_type": "markdown",
      "source": [
        "## 218. Thread using a class\n",
        "- Use a class which does not inherit ```Thread``` class"
      ],
      "metadata": {
        "id": "JOXBadIfizez"
      }
    },
    {
      "cell_type": "code",
      "source": [
        "# usingclass.py\n",
        "from threading import *\n",
        "class MyThread: # without inheriting Thread class\n",
        "    def displayNumbers(self):\n",
        "        i = 0\n",
        "        print(current_thread().getName())\n",
        "        while(i<=10):\n",
        "            print(i)\n",
        "            i+=1\n",
        "obj = MyThread() # creating object of class\n",
        "t = Thread(target=obj.displayNumbers) # passing function as target to Thread instance\n",
        "t.start() # starting the thread, it internally invokes run() method"
      ],
      "metadata": {
        "colab": {
          "base_uri": "https://localhost:8080/"
        },
        "id": "3E089nI-iPRW",
        "outputId": "e0ba71a0-ae37-48fd-cac9-b64b71b9ba30"
      },
      "execution_count": 5,
      "outputs": [
        {
          "output_type": "stream",
          "name": "stdout",
          "text": [
            "Thread-8\n",
            "0\n",
            "1\n",
            "2\n",
            "3\n",
            "4\n",
            "5\n",
            "6\n",
            "7\n",
            "8\n",
            "9\n",
            "10\n"
          ]
        }
      ]
    },
    {
      "cell_type": "markdown",
      "source": [
        "## 219. Multithreading in action\n",
        "- Create a Multi-Threaded application\n",
        "- Schedule of threads is decided by python compiler"
      ],
      "metadata": {
        "id": "Wr2o2AfgOqAT"
      }
    },
    {
      "cell_type": "code",
      "source": [
        "from threading import *\n",
        "class MyThread:\n",
        "    def displayNumbers(self):\n",
        "        i = 0\n",
        "        # print(current_thread().getName()) # deprecated\n",
        "        print(current_thread().name)\n",
        "        while(i<=10):\n",
        "            print(i)\n",
        "            i+=1\n",
        "\n",
        "obj = MyThread()\n",
        "t = Thread(target=obj.displayNumbers)\n",
        "t.start()\n",
        "\n",
        "t2 = Thread(target=obj.displayNumbers)\n",
        "t2.start()\n",
        "\n",
        "t3 = Thread(target=obj.displayNumbers)\n",
        "t3.start()"
      ],
      "metadata": {
        "id": "UAjS6jokODwB",
        "colab": {
          "base_uri": "https://localhost:8080/"
        },
        "outputId": "9347ae31-9d47-4477-bf3d-9819baf6d9d6"
      },
      "execution_count": 6,
      "outputs": [
        {
          "output_type": "stream",
          "name": "stdout",
          "text": [
            "Thread-9\n",
            "0\n",
            "1\n",
            "2\n",
            "3\n",
            "4\n",
            "5\n",
            "6\n",
            "7\n",
            "8\n",
            "9\n",
            "10\n",
            "Thread-10\n",
            "0\n",
            "1\n",
            "2\n",
            "3\n",
            "4\n",
            "5\n",
            "6\n",
            "7\n",
            "8\n",
            "9\n",
            "10\n",
            "Thread-11\n",
            "0\n",
            "1\n",
            "2\n",
            "3\n",
            "4\n",
            "5\n",
            "6\n",
            "7\n",
            "8\n",
            "9\n",
            "10\n"
          ]
        }
      ]
    },
    {
      "cell_type": "markdown",
      "source": [
        "## 220. using sleep()\n",
        "- Push a thread which is currently running, into sleep mode using ```sleep()```\n",
        "- ```time.sleep(n)```\n",
        "    - pushes current thread into sleep for n seconds"
      ],
      "metadata": {
        "id": "Ym1cGv066H6W"
      }
    },
    {
      "cell_type": "code",
      "source": [
        "from threading import *\n",
        "from time import sleep\n",
        "\n",
        "class MyThread:\n",
        "    def displayNumbers(self):\n",
        "        i = 0\n",
        "        # print(current_thread().getName()) # deprecated\n",
        "        print(current_thread().name)\n",
        "        sleep(1) # puts current thread into sleep for 1 second\n",
        "        while(i<=10):\n",
        "            print(i)\n",
        "            i+=1\n",
        "\n",
        "obj = MyThread()\n",
        "t = Thread(target=obj.displayNumbers)\n",
        "t.start()\n",
        "\n",
        "t2 = Thread(target=obj.displayNumbers)\n",
        "t2.start()\n",
        "\n",
        "t3 = Thread(target=obj.displayNumbers)\n",
        "t3.start()"
      ],
      "metadata": {
        "colab": {
          "base_uri": "https://localhost:8080/"
        },
        "id": "gc_GCkqj5ssy",
        "outputId": "357e2528-b433-4a25-8374-f1f3fc986374"
      },
      "execution_count": 7,
      "outputs": [
        {
          "output_type": "stream",
          "name": "stdout",
          "text": [
            "Thread-12\n",
            "Thread-13\n",
            "Thread-14\n"
          ]
        }
      ]
    },
    {
      "cell_type": "markdown",
      "source": [
        "## 221. The TicketBooking usecase\n",
        "- BookMyBus usecase allows the end user to buy their bus tickets\n",
        "- using class create a multi threaded program to buy bus tickets"
      ],
      "metadata": {
        "id": "sGCRITEnXV01"
      }
    },
    {
      "cell_type": "code",
      "source": [
        "from threading import *\n",
        "\n",
        "class BookMyBus():\n",
        "    def buy(self):\n",
        "        print(\"Confirming a seat\")\n",
        "        print(\"Processing the payment\")\n",
        "        print(\"Printing the Ticket\")\n",
        "\n",
        "obj = BookMyBus()\n",
        "t1 = Thread(target=obj.buy)\n",
        "t2 = Thread(target=obj.buy)\n",
        "t3 = Thread(target=obj.buy)\n",
        "\n",
        "t1.start()\n",
        "t2.start()\n",
        "t3.start()"
      ],
      "metadata": {
        "colab": {
          "base_uri": "https://localhost:8080/"
        },
        "id": "cTYuATU-OtzJ",
        "outputId": "03ca09fd-9d2e-413f-d33a-ebd66e51d172"
      },
      "execution_count": 9,
      "outputs": [
        {
          "output_type": "stream",
          "name": "stdout",
          "text": [
            "Confirming a seat\n",
            "Processing the payment\n",
            "Printing the Ticket\n",
            "Confirming a seat\n",
            "Processing the payment\n",
            "Printing the Ticket\n",
            "Confirming a seat\n",
            "Processing the payment\n",
            "Printing the Ticket\n"
          ]
        }
      ]
    },
    {
      "cell_type": "markdown",
      "source": [
        "## 222. Thread Synchronization\n",
        "- When multiple threads are accessing the same resources, it is very important that they don't corrupt each other's resources or objects\n",
        "- For example\n",
        "    - in flight reservation / movie tickets or seats that are being booked, if we have multiple threads, one thread blocking the seats, another thread to make payments, another thread emailing the tickets, we don't want these threads to corrupt the same available objects/seats/tickets\n",
        "    - two end users should not end up buying the same seat, that is where thread synchronization comes in play\n",
        "- We can lock an object for a particular thread using two different ways\n",
        "    1. **Locks**\n",
        "        - when a thread locks an object, it enters a room of its own, taking the object under its ownership, and only when the thread releases the object, the other threads can use that object/resource\n",
        "        - ```Thread Mutex``` means process of acquiring a lock on a object, so that no other thread can access that object\n",
        "        - ```Lock.acquire()```\n",
        "            - To acquire a lock on an object, we need to create a lock object and invoke ```acquire()``` method\n",
        "        - ```Lock.release()```\n",
        "            - until it invokes the ```release()``` method, no other thread can access/use the object under lock\n",
        "        ``` python\n",
        "        l = Lock()\n",
        "        l.acquire()\n",
        "        l.release()\n",
        "        ```\n",
        "    2. **Semaphores**\n",
        "        - it simply acquiring a lock , but internally it uses counter\n",
        "        - Initially, value is ```1```, but when a lock is acquired, then value is decremented to ```0```, and when lock is released, value is incremented back to ```1```, internal implementation is different\n",
        "        - To create a lock you create an object of ```Semaphore```\n",
        "        - ```Semaphore.acquire()```\n",
        "            - used to acquire a lock on an object\n",
        "        - ```Semaphore.release()```\n",
        "            - used to release the lock on an object\n",
        "        ``` python\n",
        "        l = Semaphore()\n",
        "        l.acquire()\n",
        "        l.release()\n",
        "        ```"
      ],
      "metadata": {
        "id": "fWANIXWp625d"
      }
    },
    {
      "cell_type": "markdown",
      "source": [
        "## 223. Add more logic\n",
        "- Add some more logic to BookMyBus buy method and learn how to pass parameters to the functions which we are invoking, and when we are spawning threads\n",
        "-"
      ],
      "metadata": {
        "id": "jjXsWWwO_Yw9"
      }
    },
    {
      "cell_type": "code",
      "source": [
        "from threading import *\n",
        "\n",
        "class BookMyBus:\n",
        "    def __init__(self, availableSeats):\n",
        "        self.availableSeats = availableSeats\n",
        "    def buy(self, seatsRequested):\n",
        "        print(\"Total seats available:\", self.availableSeats)\n",
        "        if self.availableSeats >= seatsRequested:\n",
        "            print(\"Confirming a seat\")\n",
        "            print(\"Processing the payment\")\n",
        "            print(\"Printing the TIcket\")\n",
        "            self.availableSeats-=seatsRequested\n",
        "        else:\n",
        "            print(\"Sorry, No seats available\")\n",
        "\n",
        "obj = BookMyBus(10)\n",
        "t1 = Thread(target=obj.buy,args=(3,))\n",
        "t2 = Thread(target=obj.buy, args=(4,))\n",
        "t3 = Thread(target=obj.buy, args=(3,))\n",
        "\n",
        "t1.start()\n",
        "t2.start()\n",
        "t3.start()"
      ],
      "metadata": {
        "colab": {
          "base_uri": "https://localhost:8080/"
        },
        "id": "n7fDBXAIPOJb",
        "outputId": "d77a745d-9377-422e-c5d7-e2c642ca6a43"
      },
      "execution_count": 13,
      "outputs": [
        {
          "output_type": "stream",
          "name": "stdout",
          "text": [
            "Total seats available: 10\n",
            "Confirming a seat\n",
            "Processing the payment\n",
            "Printing the TIcket\n",
            "Total seats available: 7\n",
            "Confirming a seat\n",
            "Processing the payment\n",
            "Printing the TIcket\n",
            "Total seats available: 3\n",
            "Confirming a seat\n",
            "Processing the payment\n",
            "Printing the TIcket\n"
          ]
        }
      ]
    },
    {
      "cell_type": "code",
      "source": [
        "from threading import *\n",
        "\n",
        "class BookMyBus:\n",
        "    def __init__(self, availableSeats):\n",
        "        self.availableSeats = availableSeats\n",
        "    def buy(self, seatsRequested):\n",
        "        print(\"Total seats available:\", self.availableSeats)\n",
        "        if self.availableSeats >= seatsRequested:\n",
        "            print(\"Confirming a seat\")\n",
        "            print(\"Processing the payment\")\n",
        "            print(\"Printing the TIcket\")\n",
        "            self.availableSeats-=seatsRequested\n",
        "        else:\n",
        "            print(\"Sorry, No seats available\")\n",
        "\n",
        "obj = BookMyBus(10)\n",
        "t1 = Thread(target=obj.buy,args=(3,))\n",
        "t2 = Thread(target=obj.buy, args=(4,))\n",
        "t3 = Thread(target=obj.buy, args=(4,)) # now condition fails\n",
        "\n",
        "t1.start()\n",
        "t2.start()\n",
        "t3.start()"
      ],
      "metadata": {
        "colab": {
          "base_uri": "https://localhost:8080/"
        },
        "id": "i0QdTDMEJlXn",
        "outputId": "28789fa4-20a3-40bd-d953-27bd2c9e6230"
      },
      "execution_count": 15,
      "outputs": [
        {
          "output_type": "stream",
          "name": "stdout",
          "text": [
            "Total seats available: 10\n",
            "Confirming a seat\n",
            "Processing the payment\n",
            "Printing the TIcket\n",
            "Total seats available: 7\n",
            "Confirming a seat\n",
            "Processing the payment\n",
            "Printing the TIcket\n",
            "Total seats available: 3\n",
            "Sorry, No seats available\n"
          ]
        }
      ]
    },
    {
      "cell_type": "markdown",
      "source": [
        "## 224. Synchronization using lock\n",
        "- Implement synchronization/locking for BookMyBus application\n",
        "- in ```buy()``` method, when we have multiple threads accessing ```buy()``` method, it is quite possible that the first thread comes in and finds that seats are available, and goes to confirm the seat, process the payment, etc. and just before, first thread does deduction of available seats, the second thread comes in and that also finds that seats are available, and it can also do the seat booking even though no seats are available\n",
        "- since reduction in seats has not taken place, the 2nd or 3rd may find that the seats are still available, which is not a good thing\n",
        "- in such case, we'll end up having multiple passengers booking same tickets\n",
        "- we can implement synchronization by locking up certain code for a particular thread\n",
        "- Create & use a ```Lock``` object to implement thread synchronization"
      ],
      "metadata": {
        "id": "J-OJMZ5uKH4j"
      }
    },
    {
      "cell_type": "code",
      "source": [
        "from threading import Thread, Lock # import Lock module\n",
        "\n",
        "class BookMyBus:\n",
        "    def __init__(self, availableSeats):\n",
        "        self.availableSeats = availableSeats\n",
        "        self.l = Lock() # create an instance of Lock to implement thread synchronization\n",
        "\n",
        "    def buy(self, seatsRequested):\n",
        "        self.l.acquire() # acquiring the lock\n",
        "        print(\"Total seats available:\", self.availableSeats)\n",
        "        if self.availableSeats >= seatsRequested:\n",
        "            print(\"Confirming a seat\")\n",
        "            print(\"Processing the payment\")\n",
        "            print(\"Printing the TIcket\")\n",
        "            self.availableSeats-=seatsRequested\n",
        "        else:\n",
        "            print(\"Sorry, No seats available\")\n",
        "        self.l.release() # releasing the lock\n",
        "\n",
        "obj = BookMyBus(10)\n",
        "t1 = Thread(target=obj.buy,args=(3,))\n",
        "t2 = Thread(target=obj.buy, args=(4,))\n",
        "t3 = Thread(target=obj.buy, args=(4,)) # now condition fails\n",
        "\n",
        "t1.start()\n",
        "t2.start()\n",
        "t3.start()"
      ],
      "metadata": {
        "colab": {
          "base_uri": "https://localhost:8080/"
        },
        "id": "oaLhrlQLKCRE",
        "outputId": "69622a09-887b-439a-cce6-c50a7f3e2c87"
      },
      "execution_count": 17,
      "outputs": [
        {
          "output_type": "stream",
          "name": "stdout",
          "text": [
            "Total seats available: 10\n",
            "Confirming a seat\n",
            "Processing the payment\n",
            "Printing the TIcket\n",
            "Total seats available: 7\n",
            "Confirming a seat\n",
            "Processing the payment\n",
            "Printing the TIcket\n",
            "Total seats available: 3\n",
            "Sorry, No seats available\n"
          ]
        }
      ]
    },
    {
      "cell_type": "markdown",
      "source": [
        "## 225. Synchronization using semaphore\n",
        "- Create & use a ```Semaphore``` object to implement thread synchronization"
      ],
      "metadata": {
        "id": "NKlxcAQfMfgp"
      }
    },
    {
      "cell_type": "code",
      "source": [
        "from threading import Thread, Semaphore # import Lock module\n",
        "\n",
        "class BookMyBus:\n",
        "    def __init__(self, availableSeats):\n",
        "        self.availableSeats = availableSeats\n",
        "        self.l = Semaphore() # create an instance of Semaphore to implement thread synchronization\n",
        "\n",
        "    def buy(self, seatsRequested):\n",
        "        self.l.acquire() # acquiring the lock\n",
        "        print(\"Total seats available:\", self.availableSeats)\n",
        "        if self.availableSeats >= seatsRequested:\n",
        "            print(\"Confirming a seat\")\n",
        "            print(\"Processing the payment\")\n",
        "            print(\"Printing the TIcket\")\n",
        "            self.availableSeats-=seatsRequested\n",
        "        else:\n",
        "            print(\"Sorry, No seats available\")\n",
        "        self.l.release() # releasing the lock\n",
        "\n",
        "obj = BookMyBus(10)\n",
        "t1 = Thread(target=obj.buy,args=(3,))\n",
        "t2 = Thread(target=obj.buy, args=(4,))\n",
        "t3 = Thread(target=obj.buy, args=(4,)) # now condition fails\n",
        "\n",
        "t1.start()\n",
        "t2.start()\n",
        "t3.start()"
      ],
      "metadata": {
        "colab": {
          "base_uri": "https://localhost:8080/"
        },
        "id": "xXtREwLQMSNH",
        "outputId": "00eedbb4-8c80-4ad6-f9d7-44b2defc4d93"
      },
      "execution_count": 1,
      "outputs": [
        {
          "output_type": "stream",
          "name": "stdout",
          "text": [
            "Total seats available: 10\n",
            "Confirming a seat\n",
            "Processing the payment\n",
            "Printing the TIcket\n",
            "Total seats available: 7\n",
            "Confirming a seat\n",
            "Processing the payment\n",
            "Printing the TIcket\n",
            "Total seats available: 3\n",
            "Sorry, No seats available\n"
          ]
        }
      ]
    },
    {
      "cell_type": "markdown",
      "source": [
        "## 226. Thread Communication\n",
        "- In realtime application which use multiple threads, often these threads need to communicate with each other to get the job done\n",
        "- A very common pattern that we see in multi-threaded applications is the Producer-Conumer pattern, where we have two threads\n",
        "    1. Producer thread\n",
        "        - The Producer thread is responsible for creating some work\n",
        "        - e.g.:\n",
        "            - It might be receiving all the orders a customer is placing, It'll prepare those orders in a list of products within a orders from a customer\n",
        "    2. Consumer thread\n",
        "        - The Consumer thread is responsible for processing the work\n",
        "        - e.g.:\n",
        "            - Consider a e-Commerce application, we have a producer thread which is responsible for taking the prders from a customer, and the consumer thread is responsible for consuming/processing the orders & shipping them\n",
        "- These two threads need to communicate with each other because the consumer thread need to know when some work is available or when a list of orders is available for processing & shipping\n",
        "- One way to do this communication may be to have a boolean flag called orders placed on the producer thread, and the consumer thread will be continuously checking if this flag is true.\n",
        "- Initially, this flag will be False, and only when the producer thread has a list of orders, it'll flip this order to True\n",
        "- If Consumer thread finds this flag to be True, then it'll take the list of orders from the producer thread, process them and ship them\n",
        "- Using the boolean flag is one way of communication\n"
      ],
      "metadata": {
        "id": "W_Z8SNWkVczP"
      }
    },
    {
      "cell_type": "markdown",
      "source": [
        "## 227. Using a boolean flag\n",
        "- See Thread communication in action using boolean flag\n",
        "- Create two threads, Producer thread and Consumer thread, and they will communicate using a 'orders placed' boolean flag"
      ],
      "metadata": {
        "id": "LAHYmKpIzDrL"
      }
    },
    {
      "cell_type": "code",
      "source": [
        "## ThreadCommunicationUsingAFlag.py\n"
      ],
      "metadata": {
        "id": "0ortmouUVSjP"
      },
      "execution_count": 3,
      "outputs": []
    },
    {
      "cell_type": "code",
      "source": [],
      "metadata": {
        "id": "QmEpJDBIzoIn"
      },
      "execution_count": null,
      "outputs": []
    }
  ]
}