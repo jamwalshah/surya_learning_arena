{
  "nbformat": 4,
  "nbformat_minor": 0,
  "metadata": {
    "colab": {
      "provenance": [],
      "toc_visible": true
    },
    "kernelspec": {
      "name": "python3",
      "display_name": "Python 3"
    },
    "language_info": {
      "name": "python"
    }
  },
  "cells": [
    {
      "cell_type": "markdown",
      "source": [
        "## 21. Introduction\n",
        "- Till now all code we have written was single threaded\n",
        "- Behind the scenes, PVM uses the single thread called ```main()``` thread to execute the code which we have written\n",
        "- ```Single threaded Application```\n",
        "    - if an application does not have any other thread except the ```main()``` thread, then it is a single threaded application\n",
        "- Multiple threads are created\n",
        "    - to make the best use of underlying processor\n",
        "    - to improve the performance & user experience of the application\n",
        "    - to execute multiple tasks in parallel\n",
        "- To create a Thread, two basic steps are followed\n",
        "    1. Import ```threading``` module & Create an instance of ```Thread``` class or extend it\n",
        "    2. invoke ```start()``` method from the object of that instance, which will internally invoke ```run()``` method as a part of thread\n",
        "- Three ways to create multiple threads in application\n",
        "    1. Using a function method\n",
        "        - Create a function and then create an object of type ```thread``` and pass the target as name of function along with the arguments to the function\n",
        "        ``` python\n",
        "        t = Thread(target=functionName, args)\n",
        "        ```\n",
        "        - To invoke this thread, use ```start()``` method of thread instance\n",
        "        ```python\n",
        "        t.start()\n",
        "        ```\n",
        "    2. Extending thread class method\n",
        "        - ```Thread``` class belongs to ```threading``` module\n",
        "        1. import the ```threading``` module, and extend the ```Thread``` class into your custom thread class\n",
        "        ``` python\n",
        "        import threading\n",
        "        class MyThread(Thread)\n",
        "        ```\n",
        "        2. Override the ```run()``` method, add all the code you want to execute as thread inside ```run()``` method\n",
        "        3. create an instance of thread class and invoke ```start()``` method, it'll spawn a new thread and invoke the ```run()``` method internally\n",
        "        ``` python\n",
        "        t = MyThread()\n",
        "        t.start()\n",
        "        ```\n",
        "    3. Hybrid method\n",
        "        - create a class and add any functions that you want\n",
        "        - This class does not extend the ```Thread``` class, instead create an instance of the thread, and pass the ```<object>.<method()>``` to the taget parameter, along with arguments of that method to create an instance of ```Thread``` class\n",
        "        - then you can run the thread by invoking the ```start()``` method, which will internally invoke ```run()``` method\n",
        "        ``` python\n",
        "        class MyThread:\n",
        "            display()\n",
        "        \n",
        "        myobj = MyThread()\n",
        "\n",
        "        t = Thread(target = myobj.display, args)\n",
        "        t.start()\n",
        "        ```"
      ],
      "metadata": {
        "id": "xRYfRTvMDaB0"
      }
    },
    {
      "cell_type": "markdown",
      "source": [
        "## 214. Main Thread\n",
        "- Access the information about the main thread\n",
        "- in normal conditions, ```MainThread``` is the thread from which the python interpreter was started\n",
        "- ```threading.current_thread()```\n",
        "    - returns current Thread object\n",
        "- ```threading.main_thread()```\n",
        "    - returns main Thread object"
      ],
      "metadata": {
        "id": "2tyqmQifGPrJ"
      }
    },
    {
      "cell_type": "code",
      "execution_count": 1,
      "metadata": {
        "colab": {
          "base_uri": "https://localhost:8080/"
        },
        "id": "3tsplcFQDXdR",
        "outputId": "2462be5b-f4cc-4aa4-8d7f-12a0b424fae0"
      },
      "outputs": [
        {
          "output_type": "stream",
          "name": "stdout",
          "text": [
            "Current Thread that is running: MainThread\n",
            "Main Thread\n"
          ]
        }
      ],
      "source": [
        "# multithreading\n",
        "# mainthread.py\n",
        "import threading\n",
        "\n",
        "print(\"Current Thread that is running:\", threading.current_thread().getName())\n",
        "if threading.current_thread() == threading.main_thread():\n",
        "    print(\"Main Thread\")\n",
        "else:\n",
        "    print(\"Some other thread\")"
      ]
    },
    {
      "cell_type": "markdown",
      "source": [
        "## 215. Thread using a function\n",
        "- Create a function that will display numbers from 0 to 10, and then spawn it as a thread of its own"
      ],
      "metadata": {
        "id": "1RkbdYkC-4i1"
      }
    },
    {
      "cell_type": "code",
      "source": [
        "# usingFunction.py\n",
        "from threading import Thread\n",
        "\n",
        "def displayNumbers():\n",
        "    i = 0\n",
        "    while(i<=10):\n",
        "        print(i)\n",
        "        i+=1\n",
        "\n",
        "t = Thread(target=displayNumbers) # creating a thread for function\n",
        "t.start() # starting the thread"
      ],
      "metadata": {
        "colab": {
          "base_uri": "https://localhost:8080/"
        },
        "id": "tF7ZFHWy9QXG",
        "outputId": "9a0b4ab0-267d-4db2-9f6b-ff8a27d93578"
      },
      "execution_count": 2,
      "outputs": [
        {
          "output_type": "stream",
          "name": "stdout",
          "text": [
            "0\n",
            "1\n",
            "2\n",
            "3\n",
            "4\n",
            "5\n",
            "6\n",
            "7\n",
            "8\n",
            "9\n",
            "10\n"
          ]
        }
      ]
    },
    {
      "cell_type": "markdown",
      "source": [
        "## 216. Printing THread Names\n",
        "- Print current thread name\n",
        "- ```threading.current_thread().getName()```\n",
        "    - returns the ```name``` property of ```threading.current_thread()```"
      ],
      "metadata": {
        "id": "ZJT69UXhb6LX"
      }
    },
    {
      "cell_type": "code",
      "source": [
        "# from threading import Thread, current_thread\n",
        "from threading import *\n",
        "\n",
        "def displayNumbers():\n",
        "    i = 0\n",
        "    print(current_thread().getName()) # prints new Thread name\n",
        "\n",
        "    while(i<=10):\n",
        "        print(i)\n",
        "        i+=1\n",
        "\n",
        "print(current_thread().getName()) # prints MainThred\n",
        "t = Thread(target=displayNumbers)\n",
        "t.start() # new Thread starts here"
      ],
      "metadata": {
        "colab": {
          "base_uri": "https://localhost:8080/"
        },
        "id": "r1eQNvz0_tSZ",
        "outputId": "e5792c37-e7ef-434b-b7cc-fef476a05432"
      },
      "execution_count": 4,
      "outputs": [
        {
          "output_type": "stream",
          "name": "stdout",
          "text": [
            "MainThread\n",
            "Thread-7\n",
            "0\n",
            "1\n",
            "2\n",
            "3\n",
            "4\n",
            "5\n",
            "6\n",
            "7\n",
            "8\n",
            "9\n",
            "10\n"
          ]
        }
      ]
    },
    {
      "cell_type": "markdown",
      "source": [
        "## 217. Thread extending the Thread Class\n",
        "- Create a thread by sub-classing/extending the super-class ```Thread```, and override the ```run()``` method"
      ],
      "metadata": {
        "id": "LxIMSjiQf6Om"
      }
    },
    {
      "cell_type": "code",
      "source": [
        "# usingsubclass.py\n",
        "from threading import Thread\n",
        "\n",
        "class MyThread(Thread): # extends Thread class\n",
        "    def run(self): # overriding run() method\n",
        "        i = 0\n",
        "        # print(current_thread().getName())\n",
        "        while(i<=10):\n",
        "            print(i)\n",
        "            i+=1\n",
        "\n",
        "t = MyThread()\n",
        "t.start() # starting the Thread, it internally invokes run() method"
      ],
      "metadata": {
        "colab": {
          "base_uri": "https://localhost:8080/"
        },
        "id": "pp7oSO5T_xlw",
        "outputId": "62fe0306-9b7a-4e0c-ebe0-f035501b56f4"
      },
      "execution_count": 5,
      "outputs": [
        {
          "output_type": "stream",
          "name": "stdout",
          "text": [
            "0\n",
            "1\n",
            "2\n",
            "3\n",
            "4\n",
            "5\n",
            "6\n",
            "7\n",
            "8\n",
            "9\n",
            "10\n"
          ]
        }
      ]
    },
    {
      "cell_type": "markdown",
      "source": [
        "## 218. Thread using a class\n",
        "- Use a class which does not inherit ```Thread``` class"
      ],
      "metadata": {
        "id": "JOXBadIfizez"
      }
    },
    {
      "cell_type": "code",
      "source": [
        "# usingclass.py\n",
        "from threading import *\n",
        "class MyThread: # without inheriting Thread class\n",
        "    def displayNumbers(self):\n",
        "        i = 0\n",
        "        print(current_thread().getName())\n",
        "        while(i<=10):\n",
        "            print(i)\n",
        "            i+=1\n",
        "obj = MyThread() # creating object of class\n",
        "t = Thread(target=obj.displayNumbers) # passing function as target to Thread instance\n",
        "t.start() # starting the thread, it internally invokes run() method"
      ],
      "metadata": {
        "colab": {
          "base_uri": "https://localhost:8080/"
        },
        "id": "3E089nI-iPRW",
        "outputId": "85f48a43-6224-4a80-9ed6-01a852231396"
      },
      "execution_count": 11,
      "outputs": [
        {
          "output_type": "stream",
          "name": "stdout",
          "text": [
            "Thread-14\n",
            "0\n",
            "1\n",
            "2\n",
            "3\n",
            "4\n",
            "5\n",
            "6\n",
            "7\n",
            "8\n",
            "9\n",
            "10\n"
          ]
        }
      ]
    },
    {
      "cell_type": "markdown",
      "source": [
        "## 219. Multithreading in action\n",
        "-"
      ],
      "metadata": {
        "id": "Wr2o2AfgOqAT"
      }
    },
    {
      "cell_type": "code",
      "source": [],
      "metadata": {
        "id": "UAjS6jokODwB"
      },
      "execution_count": 11,
      "outputs": []
    }
  ]
}