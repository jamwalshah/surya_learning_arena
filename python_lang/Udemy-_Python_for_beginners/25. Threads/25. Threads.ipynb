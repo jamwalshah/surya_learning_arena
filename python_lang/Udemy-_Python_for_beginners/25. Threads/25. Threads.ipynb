{
  "nbformat": 4,
  "nbformat_minor": 0,
  "metadata": {
    "colab": {
      "provenance": [],
      "toc_visible": true
    },
    "kernelspec": {
      "name": "python3",
      "display_name": "Python 3"
    },
    "language_info": {
      "name": "python"
    }
  },
  "cells": [
    {
      "cell_type": "markdown",
      "source": [
        "## 21. Introduction\n",
        "- Till now all code we have written was single threaded\n",
        "- Behind the scenes, PVM uses the single thread called ```main()``` thread to execute the code which we have written\n",
        "- ```Single threaded Application```\n",
        "    - if an application does not have any other thread except the ```main()``` thread, then it is a single threaded application\n",
        "- Multiple threads are created\n",
        "    - to make the best use of underlying processor\n",
        "    - to improve the performance & user experience of the application\n",
        "    - to execute multiple tasks in parallel\n",
        "- To create a Thread, two basic steps are followed\n",
        "    1. Import ```threading``` module & Create an instance of ```Thread``` class or extend it\n",
        "    2. invoke ```start()``` method from the object of that instance, which will internally invoke ```run()``` method as a part of thread\n",
        "- Three ways to create multiple threads in application\n",
        "    1. Using a function method\n",
        "        - Create a function and then create an object of type ```thread``` and pass the target as name of function along with the arguments to the function\n",
        "        ``` python\n",
        "        t = Thread(target=functionName, args)\n",
        "        ```\n",
        "        - To invoke this thread, use ```start()``` method of thread instance\n",
        "        ```python\n",
        "        t.start()\n",
        "        ```\n",
        "    2. Extending thread class method\n",
        "        - ```Thread``` class belongs to ```threading``` module\n",
        "        1. import the ```threading``` module, and extend the ```Thread``` class into your custom thread class\n",
        "        ``` python\n",
        "        import threading\n",
        "        class MyThread(Thread)\n",
        "        ```\n",
        "        2. Override the ```run()``` method, add all the code you want to execute as thread inside ```run()``` method\n",
        "        3. create an instance of thread class and invoke ```start()``` method, it'll spawn a new thread and invoke the ```run()``` method internally\n",
        "        ``` python\n",
        "        t = MyThread()\n",
        "        t.start()\n",
        "        ```\n",
        "    3. Hybrid method\n",
        "        - create a class and add any functions that you want\n",
        "        - This class does not extend the ```Thread``` class, instead create an instance of the thread, and pass the ```<object>.<method()>``` to the taget parameter, along with arguments of that method to create an instance of ```Thread``` class\n",
        "        - then you can run the thread by invoking the ```start()``` method, which will internally invoke ```run()``` method\n",
        "        ``` python\n",
        "        class MyThread:\n",
        "            display()\n",
        "        \n",
        "        myobj = MyThread()\n",
        "\n",
        "        t = Thread(target = myobj.display, args)\n",
        "        t.start()\n",
        "        ```"
      ],
      "metadata": {
        "id": "xRYfRTvMDaB0"
      }
    },
    {
      "cell_type": "markdown",
      "source": [
        "## 214. Main Thread\n",
        "- Access the information about the main thread\n",
        "- in normal conditions, ```MainThread``` is the thread from which the python interpreter was started\n",
        "- ```threading.current_thread()```\n",
        "    - returns current Thread object\n",
        "- ```threading.main_thread()```\n",
        "    - returns main Thread object"
      ],
      "metadata": {
        "id": "2tyqmQifGPrJ"
      }
    },
    {
      "cell_type": "code",
      "execution_count": 1,
      "metadata": {
        "colab": {
          "base_uri": "https://localhost:8080/"
        },
        "id": "3tsplcFQDXdR",
        "outputId": "17b857bb-f441-49d8-ed5d-98c0be544305"
      },
      "outputs": [
        {
          "output_type": "stream",
          "name": "stdout",
          "text": [
            "Current Thread that is running: MainThread\n",
            "Main Thread\n"
          ]
        }
      ],
      "source": [
        "# multithreading\n",
        "# mainthread.py\n",
        "import threading\n",
        "\n",
        "print(\"Current Thread that is running:\", threading.current_thread().getName())\n",
        "if threading.current_thread() == threading.main_thread():\n",
        "    print(\"Main Thread\")\n",
        "else:\n",
        "    print(\"Some other thread\")"
      ]
    },
    {
      "cell_type": "markdown",
      "source": [
        "## 215. Thread using a function\n",
        "- Create a function that will display numbers from 0 to 10, and then spawn it as a thread of its own"
      ],
      "metadata": {
        "id": "1RkbdYkC-4i1"
      }
    },
    {
      "cell_type": "code",
      "source": [
        "# usingFunction.py\n",
        "from threading import Thread\n",
        "\n",
        "def displayNumbers():\n",
        "    i = 0\n",
        "    while(i<=10):\n",
        "        print(i)\n",
        "        i+=1\n",
        "\n",
        "t = Thread(target=displayNumbers) # creating a thread for function\n",
        "t.start() # starting the thread"
      ],
      "metadata": {
        "colab": {
          "base_uri": "https://localhost:8080/"
        },
        "id": "tF7ZFHWy9QXG",
        "outputId": "ddda8ed1-5a2c-47f6-f798-bc3d0e51faf0"
      },
      "execution_count": 2,
      "outputs": [
        {
          "output_type": "stream",
          "name": "stdout",
          "text": [
            "0\n",
            "1\n",
            "2\n",
            "3\n",
            "4\n",
            "5\n",
            "6\n",
            "7\n",
            "8\n",
            "9\n",
            "10\n"
          ]
        }
      ]
    },
    {
      "cell_type": "markdown",
      "source": [
        "## 216. Printing Thread Names\n",
        "- Print current thread name\n",
        "- ```threading.current_thread().getName()```\n",
        "    - returns the ```name``` property of ```threading.current_thread()```"
      ],
      "metadata": {
        "id": "ZJT69UXhb6LX"
      }
    },
    {
      "cell_type": "code",
      "source": [
        "# from threading import Thread, current_thread\n",
        "from threading import *\n",
        "\n",
        "def displayNumbers():\n",
        "    i = 0\n",
        "    print(current_thread().getName()) # prints new Thread name\n",
        "\n",
        "    while(i<=10):\n",
        "        print(i)\n",
        "        i+=1\n",
        "\n",
        "print(current_thread().getName()) # prints MainThred\n",
        "t = Thread(target=displayNumbers)\n",
        "t.start() # new Thread starts here"
      ],
      "metadata": {
        "colab": {
          "base_uri": "https://localhost:8080/"
        },
        "id": "r1eQNvz0_tSZ",
        "outputId": "db3bc4d2-b423-4ab1-91f4-3ad22316868c"
      },
      "execution_count": 3,
      "outputs": [
        {
          "output_type": "stream",
          "name": "stdout",
          "text": [
            "MainThread\n",
            "Thread-6\n",
            "0\n",
            "1\n",
            "2\n",
            "3\n",
            "4\n",
            "5\n",
            "6\n",
            "7\n",
            "8\n",
            "9\n",
            "10\n"
          ]
        }
      ]
    },
    {
      "cell_type": "markdown",
      "source": [
        "## 217. Thread extending the Thread Class\n",
        "- Create a thread by sub-classing/extending the super-class ```Thread```, and override the ```run()``` method"
      ],
      "metadata": {
        "id": "LxIMSjiQf6Om"
      }
    },
    {
      "cell_type": "code",
      "source": [
        "# usingsubclass.py\n",
        "from threading import Thread\n",
        "\n",
        "class MyThread(Thread): # extends Thread class\n",
        "    def run(self): # overriding run() method\n",
        "        i = 0\n",
        "        # print(current_thread().getName())\n",
        "        while(i<=10):\n",
        "            print(i)\n",
        "            i+=1\n",
        "\n",
        "t = MyThread()\n",
        "t.start() # starting the Thread, it internally invokes run() method"
      ],
      "metadata": {
        "colab": {
          "base_uri": "https://localhost:8080/"
        },
        "id": "pp7oSO5T_xlw",
        "outputId": "f7a5f2a5-1a1a-4322-86e1-0019be5f5c85"
      },
      "execution_count": 4,
      "outputs": [
        {
          "output_type": "stream",
          "name": "stdout",
          "text": [
            "0\n",
            "1\n",
            "2\n",
            "3\n",
            "4\n",
            "5\n",
            "6\n",
            "7\n",
            "8\n",
            "9\n",
            "10\n"
          ]
        }
      ]
    },
    {
      "cell_type": "markdown",
      "source": [
        "## 218. Thread using a class\n",
        "- Use a class which does not inherit ```Thread``` class"
      ],
      "metadata": {
        "id": "JOXBadIfizez"
      }
    },
    {
      "cell_type": "code",
      "source": [
        "# usingclass.py\n",
        "from threading import *\n",
        "class MyThread: # without inheriting Thread class\n",
        "    def displayNumbers(self):\n",
        "        i = 0\n",
        "        print(current_thread().getName())\n",
        "        while(i<=10):\n",
        "            print(i)\n",
        "            i+=1\n",
        "obj = MyThread() # creating object of class\n",
        "t = Thread(target=obj.displayNumbers) # passing function as target to Thread instance\n",
        "t.start() # starting the thread, it internally invokes run() method"
      ],
      "metadata": {
        "colab": {
          "base_uri": "https://localhost:8080/"
        },
        "id": "3E089nI-iPRW",
        "outputId": "e0ba71a0-ae37-48fd-cac9-b64b71b9ba30"
      },
      "execution_count": 5,
      "outputs": [
        {
          "output_type": "stream",
          "name": "stdout",
          "text": [
            "Thread-8\n",
            "0\n",
            "1\n",
            "2\n",
            "3\n",
            "4\n",
            "5\n",
            "6\n",
            "7\n",
            "8\n",
            "9\n",
            "10\n"
          ]
        }
      ]
    },
    {
      "cell_type": "markdown",
      "source": [
        "## 219. Multithreading in action\n",
        "- Create a Multi-Threaded application\n",
        "- Schedule of threads is decided by python compiler"
      ],
      "metadata": {
        "id": "Wr2o2AfgOqAT"
      }
    },
    {
      "cell_type": "code",
      "source": [
        "from threading import *\n",
        "class MyThread:\n",
        "    def displayNumbers(self):\n",
        "        i = 0\n",
        "        # print(current_thread().getName()) # deprecated\n",
        "        print(current_thread().name)\n",
        "        while(i<=10):\n",
        "            print(i)\n",
        "            i+=1\n",
        "\n",
        "obj = MyThread()\n",
        "t = Thread(target=obj.displayNumbers)\n",
        "t.start()\n",
        "\n",
        "t2 = Thread(target=obj.displayNumbers)\n",
        "t2.start()\n",
        "\n",
        "t3 = Thread(target=obj.displayNumbers)\n",
        "t3.start()"
      ],
      "metadata": {
        "id": "UAjS6jokODwB",
        "colab": {
          "base_uri": "https://localhost:8080/"
        },
        "outputId": "9347ae31-9d47-4477-bf3d-9819baf6d9d6"
      },
      "execution_count": 6,
      "outputs": [
        {
          "output_type": "stream",
          "name": "stdout",
          "text": [
            "Thread-9\n",
            "0\n",
            "1\n",
            "2\n",
            "3\n",
            "4\n",
            "5\n",
            "6\n",
            "7\n",
            "8\n",
            "9\n",
            "10\n",
            "Thread-10\n",
            "0\n",
            "1\n",
            "2\n",
            "3\n",
            "4\n",
            "5\n",
            "6\n",
            "7\n",
            "8\n",
            "9\n",
            "10\n",
            "Thread-11\n",
            "0\n",
            "1\n",
            "2\n",
            "3\n",
            "4\n",
            "5\n",
            "6\n",
            "7\n",
            "8\n",
            "9\n",
            "10\n"
          ]
        }
      ]
    },
    {
      "cell_type": "markdown",
      "source": [
        "## 220. using sleep()\n",
        "- Push a thread which is currently running, into sleep mode using ```sleep()```\n",
        "- ```time.sleep(n)```\n",
        "    - pushes current thread into sleep for n seconds"
      ],
      "metadata": {
        "id": "Ym1cGv066H6W"
      }
    },
    {
      "cell_type": "code",
      "source": [
        "from threading import *\n",
        "from time import sleep\n",
        "\n",
        "class MyThread:\n",
        "    def displayNumbers(self):\n",
        "        i = 0\n",
        "        # print(current_thread().getName()) # deprecated\n",
        "        print(current_thread().name)\n",
        "        sleep(1) # puts current thread into sleep for 1 second\n",
        "        while(i<=10):\n",
        "            print(i)\n",
        "            i+=1\n",
        "\n",
        "obj = MyThread()\n",
        "t = Thread(target=obj.displayNumbers)\n",
        "t.start()\n",
        "\n",
        "t2 = Thread(target=obj.displayNumbers)\n",
        "t2.start()\n",
        "\n",
        "t3 = Thread(target=obj.displayNumbers)\n",
        "t3.start()"
      ],
      "metadata": {
        "colab": {
          "base_uri": "https://localhost:8080/"
        },
        "id": "gc_GCkqj5ssy",
        "outputId": "357e2528-b433-4a25-8374-f1f3fc986374"
      },
      "execution_count": 7,
      "outputs": [
        {
          "output_type": "stream",
          "name": "stdout",
          "text": [
            "Thread-12\n",
            "Thread-13\n",
            "Thread-14\n"
          ]
        }
      ]
    },
    {
      "cell_type": "markdown",
      "source": [
        "## 221. The TIcketBooking usecase\n",
        "-"
      ],
      "metadata": {
        "id": "sGCRITEnXV01"
      }
    },
    {
      "cell_type": "code",
      "source": [],
      "metadata": {
        "id": "cTYuATU-OtzJ"
      },
      "execution_count": 7,
      "outputs": []
    },
    {
      "cell_type": "code",
      "source": [],
      "metadata": {
        "id": "n7fDBXAIPOJb"
      },
      "execution_count": 7,
      "outputs": []
    }
  ]
}