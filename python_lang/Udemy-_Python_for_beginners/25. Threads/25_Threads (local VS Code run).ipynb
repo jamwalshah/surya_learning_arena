{
  "cells": [
    {
      "cell_type": "markdown",
      "metadata": {
        "id": "xRYfRTvMDaB0"
      },
      "source": [
        "## 21. Introduction\n",
        "- Till now all code we have written was single threaded\n",
        "- Behind the scenes, PVM uses the single thread called ```main()``` thread to execute the code which we have written\n",
        "- ```Single threaded Application```\n",
        "    - if an application does not have any other thread except the ```main()``` thread, then it is a single threaded application\n",
        "- Multiple threads are created\n",
        "    - to make the best use of underlying processor\n",
        "    - to improve the performance & user experience of the application\n",
        "    - to execute multiple tasks in parallel\n",
        "- To create a Thread, two basic steps are followed\n",
        "    1. Import ```threading``` module & Create an instance of ```Thread``` class or extend it\n",
        "    2. invoke ```start()``` method from the object of that instance, which will internally invoke ```run()``` method as a part of thread\n",
        "- Three ways to create multiple threads in application\n",
        "    1. Using a function method\n",
        "        - Create a function and then create an object of type ```thread``` and pass the target as name of function along with the arguments to the function, where arguments are passed as an iterator\n",
        "        ``` python\n",
        "        t = Thread(target=functionName, args)\n",
        "        ```\n",
        "        - To invoke this thread, use ```start()``` method of thread instance\n",
        "        ```python\n",
        "        t.start()\n",
        "        ```\n",
        "    2. Extending thread class method\n",
        "        - ```Thread``` class belongs to ```threading``` module\n",
        "        1. import the ```threading``` module, and extend the ```Thread``` class into your custom thread class\n",
        "        ``` python\n",
        "        import threading\n",
        "        class MyThread(Thread)\n",
        "        ```\n",
        "        2. Override the ```run()``` method, add all the code you want to execute as thread inside ```run()``` method\n",
        "        3. create an instance of thread class and invoke ```start()``` method, it'll spawn a new thread and invoke the ```run()``` method internally\n",
        "        ``` python\n",
        "        t = MyThread()\n",
        "        t.start()\n",
        "        ```\n",
        "    3. Hybrid method\n",
        "        - create a class and add any functions that you want\n",
        "        - This class does not extend the ```Thread``` class, instead create an instance of the thread, and pass the ```<object>.<method()>``` to the taget parameter, along with arguments of that method to create an instance of ```Thread``` class\n",
        "        - then you can run the thread by invoking the ```start()``` method, which will internally invoke ```run()``` method\n",
        "        ``` python\n",
        "        class MyThread:\n",
        "            display()\n",
        "        \n",
        "        myobj = MyThread()\n",
        "\n",
        "        t = Thread(target = myobj.display, args)\n",
        "        t.start()\n",
        "        ```"
      ]
    },
    {
      "cell_type": "markdown",
      "metadata": {
        "id": "2tyqmQifGPrJ"
      },
      "source": [
        "## 214. Main Thread\n",
        "- Access the information about the main thread\n",
        "- in normal conditions, ```MainThread``` is the thread from which the python interpreter was started\n",
        "- ```threading.current_thread()```\n",
        "    - returns current Thread object\n",
        "- ```threading.main_thread()```\n",
        "    - returns main Thread object"
      ]
    },
    {
      "cell_type": "code",
      "execution_count": null,
      "metadata": {
        "colab": {
          "base_uri": "https://localhost:8080/"
        },
        "id": "3tsplcFQDXdR",
        "outputId": "f8ebfd51-d41d-4041-9d04-9c0087654cb5"
      },
      "outputs": [
        {
          "name": "stdout",
          "output_type": "stream",
          "text": [
            "Current Thread that is running: MainThread\n",
            "Main Thread\n"
          ]
        }
      ],
      "source": [
        "# multithreading\n",
        "# mainthread.py\n",
        "import threading\n",
        "\n",
        "print(\"Current Thread that is running:\", threading.current_thread().getName())\n",
        "if threading.current_thread() == threading.main_thread():\n",
        "    print(\"Main Thread\")\n",
        "else:\n",
        "    print(\"Some other thread\")"
      ]
    },
    {
      "cell_type": "markdown",
      "metadata": {
        "id": "1RkbdYkC-4i1"
      },
      "source": [
        "## 215. Thread using a function\n",
        "- Create a function that will display numbers from 0 to 10, and then spawn it as a thread of its own"
      ]
    },
    {
      "cell_type": "code",
      "execution_count": null,
      "metadata": {
        "colab": {
          "base_uri": "https://localhost:8080/"
        },
        "id": "tF7ZFHWy9QXG",
        "outputId": "858f3cd1-d1c9-40b2-d950-27483dfe8eec"
      },
      "outputs": [
        {
          "name": "stdout",
          "output_type": "stream",
          "text": [
            "0\n",
            "1\n",
            "2\n",
            "3\n",
            "4\n",
            "5\n",
            "6\n",
            "7\n",
            "8\n",
            "9\n",
            "10\n"
          ]
        }
      ],
      "source": [
        "# usingFunction.py\n",
        "from threading import Thread\n",
        "\n",
        "def displayNumbers():\n",
        "    i = 0\n",
        "    while(i<=10):\n",
        "        print(i)\n",
        "        i+=1\n",
        "\n",
        "t = Thread(target=displayNumbers) # creating a thread for function\n",
        "t.start() # starting the thread"
      ]
    },
    {
      "cell_type": "markdown",
      "metadata": {
        "id": "ZJT69UXhb6LX"
      },
      "source": [
        "## 216. Printing Thread Names\n",
        "- Print current thread name\n",
        "- ```threading.current_thread().getName()```\n",
        "    - returns the ```name``` property of ```threading.current_thread()```"
      ]
    },
    {
      "cell_type": "code",
      "execution_count": null,
      "metadata": {
        "colab": {
          "base_uri": "https://localhost:8080/"
        },
        "id": "r1eQNvz0_tSZ",
        "outputId": "337e7517-9524-4c6c-9265-5c281b4afc76"
      },
      "outputs": [
        {
          "name": "stdout",
          "output_type": "stream",
          "text": [
            "MainThread\n",
            "Thread-6\n",
            "0\n",
            "1\n",
            "2\n",
            "3\n",
            "4\n",
            "5\n",
            "6\n",
            "7\n",
            "8\n",
            "9\n",
            "10\n"
          ]
        }
      ],
      "source": [
        "# from threading import Thread, current_thread\n",
        "from threading import *\n",
        "\n",
        "def displayNumbers():\n",
        "    i = 0\n",
        "    print(current_thread().getName()) # prints new Thread name\n",
        "\n",
        "    while(i<=10):\n",
        "        print(i)\n",
        "        i+=1\n",
        "\n",
        "print(current_thread().getName()) # prints MainThred\n",
        "t = Thread(target=displayNumbers)\n",
        "t.start() # new Thread starts here"
      ]
    },
    {
      "cell_type": "markdown",
      "metadata": {
        "id": "LxIMSjiQf6Om"
      },
      "source": [
        "## 217. Thread extending the Thread Class\n",
        "- Create a thread by sub-classing/extending the super-class ```Thread```, and override the ```run()``` method"
      ]
    },
    {
      "cell_type": "code",
      "execution_count": null,
      "metadata": {
        "colab": {
          "base_uri": "https://localhost:8080/"
        },
        "id": "pp7oSO5T_xlw",
        "outputId": "b5d9546f-b969-47bf-86e3-06faa2718692"
      },
      "outputs": [
        {
          "name": "stdout",
          "output_type": "stream",
          "text": [
            "0\n",
            "1\n",
            "2\n",
            "3\n",
            "4\n",
            "5\n",
            "6\n",
            "7\n",
            "8\n",
            "9\n",
            "10\n"
          ]
        }
      ],
      "source": [
        "# usingsubclass.py\n",
        "from threading import Thread\n",
        "\n",
        "class MyThread(Thread): # extends Thread class\n",
        "    def run(self): # overriding run() method\n",
        "        i = 0\n",
        "        # print(current_thread().getName())\n",
        "        while(i<=10):\n",
        "            print(i)\n",
        "            i+=1\n",
        "\n",
        "t = MyThread()\n",
        "t.start() # starting the Thread, it internally invokes run() method"
      ]
    },
    {
      "cell_type": "markdown",
      "metadata": {
        "id": "JOXBadIfizez"
      },
      "source": [
        "## 218. Thread using a class\n",
        "- Use a class which does not inherit ```Thread``` class"
      ]
    },
    {
      "cell_type": "code",
      "execution_count": null,
      "metadata": {
        "colab": {
          "base_uri": "https://localhost:8080/"
        },
        "id": "3E089nI-iPRW",
        "outputId": "6b3d9c57-5089-47f9-eb9d-5945a4203c86"
      },
      "outputs": [
        {
          "name": "stdout",
          "output_type": "stream",
          "text": [
            "Thread-8\n",
            "0\n",
            "1\n",
            "2\n",
            "3\n",
            "4\n",
            "5\n",
            "6\n",
            "7\n",
            "8\n",
            "9\n",
            "10\n"
          ]
        }
      ],
      "source": [
        "# usingclass.py\n",
        "from threading import *\n",
        "class MyThread: # without inheriting Thread class\n",
        "    def displayNumbers(self):\n",
        "        i = 0\n",
        "        print(current_thread().getName())\n",
        "        while(i<=10):\n",
        "            print(i)\n",
        "            i+=1\n",
        "obj = MyThread() # creating object of class\n",
        "t = Thread(target=obj.displayNumbers) # passing function as target to Thread instance\n",
        "t.start() # starting the thread, it internally invokes run() method"
      ]
    },
    {
      "cell_type": "markdown",
      "metadata": {
        "id": "Wr2o2AfgOqAT"
      },
      "source": [
        "## 219. Multithreading in action\n",
        "- Create a Multi-Threaded application\n",
        "- Schedule of threads is decided by python compiler"
      ]
    },
    {
      "cell_type": "code",
      "execution_count": null,
      "metadata": {
        "colab": {
          "base_uri": "https://localhost:8080/"
        },
        "id": "UAjS6jokODwB",
        "outputId": "93e40d4b-34e5-4024-e9fe-888d58c7e767"
      },
      "outputs": [
        {
          "name": "stdout",
          "output_type": "stream",
          "text": [
            "Thread-9\n",
            "0\n",
            "1\n",
            "2\n",
            "3\n",
            "4\n",
            "5\n",
            "6\n",
            "7\n",
            "8\n",
            "9\n",
            "10\n",
            "Thread-10\n",
            "0\n",
            "1\n",
            "2\n",
            "3\n",
            "4\n",
            "5\n",
            "6\n",
            "7\n",
            "8\n",
            "9\n",
            "10\n",
            "Thread-11\n",
            "0\n",
            "1\n",
            "2\n",
            "3\n",
            "4\n",
            "5\n",
            "6\n",
            "7\n",
            "8\n",
            "9\n",
            "10\n"
          ]
        }
      ],
      "source": [
        "from threading import *\n",
        "class MyThread:\n",
        "    def displayNumbers(self):\n",
        "        i = 0\n",
        "        # print(current_thread().getName()) # deprecated\n",
        "        print(current_thread().name)\n",
        "        while(i<=10):\n",
        "            print(i)\n",
        "            i+=1\n",
        "\n",
        "obj = MyThread()\n",
        "t = Thread(target=obj.displayNumbers)\n",
        "t.start()\n",
        "\n",
        "t2 = Thread(target=obj.displayNumbers)\n",
        "t2.start()\n",
        "\n",
        "t3 = Thread(target=obj.displayNumbers)\n",
        "t3.start()"
      ]
    },
    {
      "cell_type": "markdown",
      "metadata": {
        "id": "Ym1cGv066H6W"
      },
      "source": [
        "## 220. using sleep()\n",
        "- Push a thread which is currently running, into sleep mode using ```sleep()```\n",
        "- ```time.sleep(n)```\n",
        "    - pushes current thread into sleep for n seconds"
      ]
    },
    {
      "cell_type": "code",
      "execution_count": null,
      "metadata": {
        "colab": {
          "base_uri": "https://localhost:8080/"
        },
        "id": "gc_GCkqj5ssy",
        "outputId": "5740f92b-df26-41f8-e6ce-8fe396ee92c5"
      },
      "outputs": [
        {
          "name": "stdout",
          "output_type": "stream",
          "text": [
            "0\n",
            "1\n",
            "2\n",
            "3\n",
            "4\n",
            "5\n",
            "6\n",
            "7\n",
            "8\n",
            "9\n",
            "10\n",
            "0\n",
            "1\n",
            "2\n",
            "3\n",
            "4\n",
            "5\n",
            "6\n",
            "7\n",
            "8\n",
            "9\n",
            "10\n",
            "0\n",
            "1\n",
            "2\n",
            "3\n",
            "4\n",
            "5\n",
            "6\n",
            "7\n",
            "8\n",
            "9\n",
            "10\n",
            "Thread-39\n",
            "Thread-40\n",
            "Thread-41\n"
          ]
        }
      ],
      "source": [
        "from threading import *\n",
        "from time import sleep\n",
        "\n",
        "class MyThread:\n",
        "    def displayNumbers(self):\n",
        "        i = 0\n",
        "        # print(current_thread().getName()) # deprecated\n",
        "        print(current_thread().name)\n",
        "        sleep(2) # puts current thread into sleep for 1 second\n",
        "        while(i<=10):\n",
        "            print(i)\n",
        "            i+=1\n",
        "\n",
        "obj = MyThread()\n",
        "t = Thread(target=obj.displayNumbers)\n",
        "t.start()\n",
        "\n",
        "t2 = Thread(target=obj.displayNumbers)\n",
        "t2.start()\n",
        "\n",
        "t3 = Thread(target=obj.displayNumbers)\n",
        "t3.start()"
      ]
    },
    {
      "cell_type": "markdown",
      "metadata": {
        "id": "sGCRITEnXV01"
      },
      "source": [
        "## 221. The TicketBooking usecase\n",
        "- BookMyBus usecase allows the end user to buy their bus tickets\n",
        "- using class create a multi threaded program to buy bus tickets"
      ]
    },
    {
      "cell_type": "code",
      "execution_count": null,
      "metadata": {
        "colab": {
          "base_uri": "https://localhost:8080/"
        },
        "id": "cTYuATU-OtzJ",
        "outputId": "d60827bc-5738-4bfb-824d-f4a4ca309bcb"
      },
      "outputs": [
        {
          "name": "stdout",
          "output_type": "stream",
          "text": [
            "Confirming a seat\n",
            "Processing the payment\n",
            "Printing the Ticket\n",
            "Confirming a seat\n",
            "Processing the payment\n",
            "Printing the Ticket\n",
            "Confirming a seat\n",
            "Processing the payment\n",
            "Printing the Ticket\n"
          ]
        }
      ],
      "source": [
        "# bookmybus.py\n",
        "from threading import *\n",
        "\n",
        "class BookMyBus():\n",
        "    def buy(self):\n",
        "        print(\"Confirming a seat\")\n",
        "        print(\"Processing the payment\")\n",
        "        print(\"Printing the Ticket\")\n",
        "\n",
        "obj = BookMyBus()\n",
        "t1 = Thread(target=obj.buy)\n",
        "t2 = Thread(target=obj.buy)\n",
        "t3 = Thread(target=obj.buy)\n",
        "\n",
        "t1.start()\n",
        "t2.start()\n",
        "t3.start()"
      ]
    },
    {
      "cell_type": "markdown",
      "metadata": {
        "id": "fWANIXWp625d"
      },
      "source": [
        "## 222. Thread Synchronization\n",
        "- When multiple threads are accessing the same resources, it is very important that they don't corrupt each other's resources or objects\n",
        "- For example\n",
        "    - in flight reservation / movie tickets or seats that are being booked, if we have multiple threads, one thread blocking the seats, another thread to make payments, another thread emailing the tickets, we don't want these threads to corrupt the same available objects/seats/tickets\n",
        "    - two end users should not end up buying the same seat, that is where thread synchronization comes in play\n",
        "- We can lock an object for a particular thread using two different ways\n",
        "    1. **Locks**\n",
        "        - when a thread locks an object, it enters a room of its own, taking the object under its ownership, and only when the thread releases the object, the other threads can use that object/resource\n",
        "        - ```Thread Mutex``` means process of acquiring a lock on a object, so that no other thread can access that object\n",
        "        - ```Lock.acquire()```\n",
        "            - To acquire a lock on an object, we need to create a lock object and invoke ```acquire()``` method\n",
        "        - ```Lock.release()```\n",
        "            - until it invokes the ```release()``` method, no other thread can access/use the object under lock\n",
        "        ``` python\n",
        "        l = Lock()\n",
        "        l.acquire()\n",
        "        l.release()\n",
        "        ```\n",
        "    2. **Semaphores**\n",
        "        - it simply acquiring a lock , but internally it uses counter\n",
        "        - Initially, value is ```1```, but when a lock is acquired, then value is decremented to ```0```, and when lock is released, value is incremented back to ```1```, internal implementation is different\n",
        "        - To create a lock you create an object of ```Semaphore```\n",
        "        - ```Semaphore.acquire()```\n",
        "            - used to acquire a lock on an object\n",
        "        - ```Semaphore.release()```\n",
        "            - used to release the lock on an object\n",
        "        ``` python\n",
        "        l = Semaphore()\n",
        "        l.acquire()\n",
        "        l.release()\n",
        "        ```"
      ]
    },
    {
      "cell_type": "markdown",
      "metadata": {
        "id": "jjXsWWwO_Yw9"
      },
      "source": [
        "## 223. Add more logic\n",
        "- Add some more logic to BookMyBus buy method and learn how to pass parameters to the functions which we are invoking, and when we are spawning threads"
      ]
    },
    {
      "cell_type": "code",
      "execution_count": null,
      "metadata": {
        "colab": {
          "base_uri": "https://localhost:8080/"
        },
        "id": "n7fDBXAIPOJb",
        "outputId": "7bc475af-b74a-485a-b233-c6db4c6edf5e"
      },
      "outputs": [
        {
          "name": "stdout",
          "output_type": "stream",
          "text": [
            "Total seats available: 10\n",
            "Confirming a seat\n",
            "Processing the payment\n",
            "Printing the Ticket\n",
            "Total seats available: 7\n",
            "Confirming a seat\n",
            "Processing the payment\n",
            "Printing the Ticket\n",
            "Total seats available: 3\n",
            "Confirming a seat\n",
            "Processing the payment\n",
            "Printing the Ticket\n"
          ]
        }
      ],
      "source": [
        "from threading import *\n",
        "\n",
        "class BookMyBus:\n",
        "    def __init__(self, availableSeats):\n",
        "        self.availableSeats = availableSeats\n",
        "    def buy(self, seatsRequested):\n",
        "        print(\"Total seats available:\", self.availableSeats)\n",
        "        if self.availableSeats >= seatsRequested:\n",
        "            print(\"Confirming a seat\")\n",
        "            print(\"Processing the payment\")\n",
        "            print(\"Printing the Ticket\")\n",
        "            self.availableSeats-=seatsRequested\n",
        "        else:\n",
        "            print(\"Sorry, No seats available\")\n",
        "\n",
        "obj = BookMyBus(10)\n",
        "t1 = Thread(target=obj.buy,args=(3,))\n",
        "t2 = Thread(target=obj.buy, args=(4,))\n",
        "t3 = Thread(target=obj.buy, args=(3,))\n",
        "\n",
        "t1.start()\n",
        "t2.start()\n",
        "t3.start()"
      ]
    },
    {
      "cell_type": "code",
      "execution_count": null,
      "metadata": {
        "colab": {
          "base_uri": "https://localhost:8080/"
        },
        "id": "i0QdTDMEJlXn",
        "outputId": "c75963cf-fa46-4c87-acbd-0752e1e049d9"
      },
      "outputs": [
        {
          "name": "stdout",
          "output_type": "stream",
          "text": [
            "Total seats available: 10\n",
            "Confirming a seat\n",
            "Processing the payment\n",
            "Printing the TIcket\n",
            "Total seats available: 7\n",
            "Confirming a seat\n",
            "Processing the payment\n",
            "Printing the TIcket\n",
            "Total seats available: 3\n",
            "Sorry, No seats available\n"
          ]
        }
      ],
      "source": [
        "from threading import *\n",
        "\n",
        "class BookMyBus:\n",
        "    def __init__(self, availableSeats):\n",
        "        self.availableSeats = availableSeats\n",
        "    def buy(self, seatsRequested):\n",
        "        print(\"Total seats available:\", self.availableSeats)\n",
        "        if self.availableSeats >= seatsRequested:\n",
        "            print(\"Confirming a seat\")\n",
        "            print(\"Processing the payment\")\n",
        "            print(\"Printing the TIcket\")\n",
        "            self.availableSeats-=seatsRequested\n",
        "        else:\n",
        "            print(\"Sorry, No seats available\")\n",
        "\n",
        "obj = BookMyBus(10)\n",
        "t1 = Thread(target=obj.buy,args=(3,))\n",
        "t2 = Thread(target=obj.buy, args=(4,))\n",
        "t3 = Thread(target=obj.buy, args=(4,)) # now condition fails\n",
        "\n",
        "t1.start()\n",
        "t2.start()\n",
        "t3.start()"
      ]
    },
    {
      "cell_type": "markdown",
      "metadata": {
        "id": "J-OJMZ5uKH4j"
      },
      "source": [
        "## 224. Synchronization using lock\n",
        "- Implement synchronization/locking for BookMyBus application\n",
        "- in ```buy()``` method, when we have multiple threads accessing ```buy()``` method, it is quite possible that the first thread comes in and finds that seats are available, and goes to confirm the seat, process the payment, etc. and just before, first thread does deduction of available seats, the second thread comes in and that also finds that seats are available, and it can also do the seat booking even though no seats are available\n",
        "- since reduction in seats has not taken place, the 2nd or 3rd may find that the seats are still available, which is not a good thing\n",
        "- in such case, we'll end up having multiple passengers booking same tickets\n",
        "- we can implement synchronization by locking up certain code for a particular thread\n",
        "- Create & use a ```Lock``` object to implement thread synchronization"
      ]
    },
    {
      "cell_type": "code",
      "execution_count": null,
      "metadata": {
        "colab": {
          "base_uri": "https://localhost:8080/"
        },
        "id": "oaLhrlQLKCRE",
        "outputId": "51b4cf1f-892c-43ad-cb52-a98b93e7aba1"
      },
      "outputs": [
        {
          "name": "stdout",
          "output_type": "stream",
          "text": [
            "Total seats available: 10\n",
            "Confirming a seat\n",
            "Processing the payment\n",
            "Printing the Ticket\n",
            "Total seats available: 7\n",
            "Confirming a seat\n",
            "Processing the payment\n",
            "Printing the Ticket\n",
            "Total seats available: 3\n",
            "Sorry, No seats available\n"
          ]
        }
      ],
      "source": [
        "# bookmybusUsingLock.py\n",
        "from threading import Thread, Lock # import Lock module\n",
        "\n",
        "class BookMyBus:\n",
        "    def __init__(self, availableSeats):\n",
        "        self.availableSeats = availableSeats\n",
        "        self.l = Lock() # create an instance of Lock to implement thread synchronization\n",
        "\n",
        "    def buy(self, seatsRequested):\n",
        "        self.l.acquire() # acquiring the lock\n",
        "        print(\"Total seats available:\", self.availableSeats)\n",
        "        if self.availableSeats >= seatsRequested:\n",
        "            print(\"Confirming a seat\")\n",
        "            print(\"Processing the payment\")\n",
        "            print(\"Printing the Ticket\")\n",
        "            self.availableSeats-=seatsRequested\n",
        "        else:\n",
        "            print(\"Sorry, No seats available\")\n",
        "        self.l.release() # releasing the lock\n",
        "\n",
        "obj = BookMyBus(10)\n",
        "t1 = Thread(target=obj.buy,args=(3,))\n",
        "t2 = Thread(target=obj.buy, args=(4,))\n",
        "t3 = Thread(target=obj.buy, args=(4,)) # now condition fails\n",
        "\n",
        "t1.start()\n",
        "t2.start()\n",
        "t3.start()"
      ]
    },
    {
      "cell_type": "markdown",
      "metadata": {
        "id": "NKlxcAQfMfgp"
      },
      "source": [
        "## 225. Synchronization using semaphore\n",
        "- Create & use a ```Semaphore``` object to implement thread synchronization"
      ]
    },
    {
      "cell_type": "code",
      "execution_count": null,
      "metadata": {
        "colab": {
          "base_uri": "https://localhost:8080/"
        },
        "id": "xXtREwLQMSNH",
        "outputId": "eca00284-40fb-4b70-c27a-acd21227203d"
      },
      "outputs": [
        {
          "name": "stdout",
          "output_type": "stream",
          "text": [
            "Total seats available: 10\n",
            "Confirming a seat\n",
            "Processing the payment\n",
            "Printing the Ticket\n",
            "Total seats available: 7\n",
            "Confirming a seat\n",
            "Processing the payment\n",
            "Printing the Ticket\n",
            "Total seats available: 3\n",
            "Sorry, No seats available\n"
          ]
        }
      ],
      "source": [
        "# bookmybusUsingSemaphore.py\n",
        "from threading import Thread, Semaphore # import Lock module\n",
        "\n",
        "class BookMyBus:\n",
        "    def __init__(self, availableSeats):\n",
        "        self.availableSeats = availableSeats\n",
        "        self.l = Semaphore() # create an instance of Semaphore to implement thread synchronization\n",
        "\n",
        "    def buy(self, seatsRequested):\n",
        "        self.l.acquire() # acquiring the lock\n",
        "        print(\"Total seats available:\", self.availableSeats)\n",
        "        if self.availableSeats >= seatsRequested:\n",
        "            print(\"Confirming a seat\")\n",
        "            print(\"Processing the payment\")\n",
        "            print(\"Printing the Ticket\")\n",
        "            self.availableSeats-=seatsRequested\n",
        "        else:\n",
        "            print(\"Sorry, No seats available\")\n",
        "        self.l.release() # releasing the lock\n",
        "\n",
        "obj = BookMyBus(10)\n",
        "t1 = Thread(target=obj.buy,args=(3,))\n",
        "t2 = Thread(target=obj.buy, args=(4,))\n",
        "t3 = Thread(target=obj.buy, args=(4,)) # now condition fails\n",
        "\n",
        "t1.start()\n",
        "t2.start()\n",
        "t3.start()"
      ]
    },
    {
      "cell_type": "markdown",
      "metadata": {
        "id": "W_Z8SNWkVczP"
      },
      "source": [
        "## 226. Thread Communication\n",
        "- In realtime application which use multiple threads, often these threads need to communicate with each other to get the job done\n",
        "- A very common pattern that we see in multi-threaded applications is the Producer-Conumer pattern, where we have two threads\n",
        "    1. Producer thread\n",
        "        - The Producer thread is responsible for creating some work\n",
        "        - e.g.:\n",
        "            - It might be receiving all the orders a customer is placing, It'll prepare those orders in a list of products within a orders from a customer\n",
        "    2. Consumer thread\n",
        "        - The Consumer thread is responsible for processing the work\n",
        "        - e.g.:\n",
        "            - Consider a e-Commerce application, we have a producer thread which is responsible for taking the prders from a customer, and the consumer thread is responsible for consuming/processing the orders & shipping them\n",
        "- These two threads need to communicate with each other because the consumer thread need to know when some work is available or when a list of orders is available for processing & shipping\n",
        "- One way to do this communication may be to have a boolean flag called orders placed on the producer thread, and the consumer thread will be continuously checking if this flag is true.\n",
        "- Initially, this flag will be False, and only when the producer thread has a list of orders, it'll flip this order to True\n",
        "- If Consumer thread finds this flag to be True, then it'll take the list of orders from the producer thread, process them and ship them\n",
        "- Using the boolean flag is one way of communication\n"
      ]
    },
    {
      "cell_type": "markdown",
      "metadata": {
        "id": "LAHYmKpIzDrL"
      },
      "source": [
        "## 227. Using a boolean flag\n",
        "- See Thread communication in action using boolean flag\n",
        "- Create two threads, Producer thread and Consumer thread, and they will communicate using a 'orders placed' boolean flag"
      ]
    },
    {
      "cell_type": "code",
      "execution_count": 1,
      "metadata": {
        "colab": {
          "base_uri": "https://localhost:8080/"
        },
        "id": "0ortmouUVSjP",
        "outputId": "09f869ee-8a18-4689-dc64-ed4706174f24"
      },
      "outputs": [
        {
          "name": "stdout",
          "output_type": "stream",
          "text": [
            "Item Added\n",
            "Item Added\n",
            "Item Added\n",
            "Item Added\n",
            "Orders Shipped ['Product1', 'Product2', 'Product3', 'Product4']\n"
          ]
        }
      ],
      "source": [
        "## ThreadCommunicationUsingAFlag.py\n",
        "from threading import *\n",
        "from time import *\n",
        "import time\n",
        "\n",
        "class Producer:\n",
        "    def __init__(self):\n",
        "        self.products = []\n",
        "        self.ordersplaced = False\n",
        "    def produce(self):\n",
        "        for i in range(1, 5):\n",
        "            self.products.append(\"Product\"+str(i))\n",
        "            time.sleep(1)\n",
        "            print(\"Item Added\")\n",
        "        self.ordersplaced = True\n",
        "\n",
        "class Consumer:\n",
        "    def __init__(self, prod):\n",
        "        self.prod = prod\n",
        "    def consume(self):\n",
        "        while self.prod.ordersplaced == False :\n",
        "            time.sleep(0.2)\n",
        "\n",
        "        print(\"Orders Shipped\", self.prod.products)\n",
        "\n",
        "p = Producer()\n",
        "c = Consumer(p)\n",
        "t1 = Thread(target=p.produce)\n",
        "t2 = Thread(target=c.consume)\n",
        "\n",
        "t1.start()\n",
        "t2.start()"
      ]
    },
    {
      "cell_type": "markdown",
      "metadata": {
        "id": "q1XSU88X2fWb"
      },
      "source": [
        "## 228. Run and summarize\n",
        "- Run thread communication demo"
      ]
    },
    {
      "cell_type": "code",
      "execution_count": 2,
      "metadata": {
        "colab": {
          "base_uri": "https://localhost:8080/"
        },
        "id": "Trknp0I92fE1",
        "outputId": "739ee3f6-55f7-439b-c56f-85fb86ac6d39"
      },
      "outputs": [
        {
          "name": "stdout",
          "output_type": "stream",
          "text": [
            "Item Added\n",
            "Waiting for the orders\n"
          ]
        },
        {
          "name": "stdout",
          "output_type": "stream",
          "text": [
            "Waiting for the orders\n",
            "Waiting for the orders\n",
            "Waiting for the orders\n",
            "Waiting for the orders\n",
            "Item Added\n",
            "Waiting for the orders\n",
            "Waiting for the orders\n",
            "Waiting for the orders\n",
            "Waiting for the orders\n",
            "Waiting for the orders\n",
            "Item Added\n",
            "Waiting for the orders\n",
            "Waiting for the orders\n",
            "Waiting for the orders\n",
            "Waiting for the orders\n",
            "Waiting for the orders\n",
            "Item Added\n",
            "Waiting for the orders\n",
            "Waiting for the orders\n",
            "Waiting for the orders\n",
            "Waiting for the orders\n",
            "Waiting for the orders\n",
            "Orders Shipped ['Product1', 'Product2', 'Product3', 'Product4']\n"
          ]
        }
      ],
      "source": [
        "from threading import *\n",
        "from time import *\n",
        "\n",
        "class Producer:\n",
        "    def __init__(self):\n",
        "        self.products = []\n",
        "        self.ordersplaced = False\n",
        "    def produce(self):\n",
        "        for i in range(1, 5):\n",
        "            self.products.append(\"Product\"+str(i))\n",
        "            print(\"Item Added\")\n",
        "            sleep(1)\n",
        "        self.ordersplaced = True\n",
        "\n",
        "class Consumer:\n",
        "    def __init__(self, prod):\n",
        "        self.prod = prod\n",
        "    def consume(self):\n",
        "        while self.prod.ordersplaced == False :\n",
        "            print(\"Waiting for the orders\") # it'll keep checking for orders\n",
        "            sleep(0.2)\n",
        "        print(\"Orders Shipped\", self.prod.products)\n",
        "\n",
        "p = Producer()\n",
        "c = Consumer(p)\n",
        "t1 = Thread(target=p.produce)\n",
        "t2 = Thread(target=c.consume)\n",
        "\n",
        "t1.start()\n",
        "t2.start()"
      ]
    },
    {
      "cell_type": "markdown",
      "metadata": {
        "id": "rJ4hZZZ1XN9M"
      },
      "source": [
        "##229. Thread communication using uait and notify\n",
        "- The second way and most poopular way for threads to communicate is to use the Multithreading API methods such as ```wait()```, ```notify()``` and ```notifyAll()```\n",
        "- These methods are available in a class ```Condition``` from the multithreading API in python\n",
        "- Once you use the ```Condition``` class in the Producer, you can access this ```Condition``` object in consumer and invoke the ```wait()``` method\n",
        "- Instead of polling, like earlier inside a loop, we were checking for a flag earlier within the Consumer, but now we will simply invoke a ```wait()``` method and the Consumer thread will wait until the Producer thread is done with its job and  the Producer thread should invoke the ```notify()``` method whenever it is ready with its list of products or whatever work it is doing\n",
        "- Whenever the Producer invokes the ```notify()``` method, the Consumer will be notified, and then it can process its logic\n",
        "- Getting rid of the boolean flag, we're now going to use the ```Condition``` object inside the Producer and the Consumer will invoke the ```wait()``` method and the Producer should invoke the ```notify()``` method whenever the orders are ready to be shipped\n",
        "- There is also a ```notifyAll()``` method, if multiple threads are waiting for the Producer to get its job done, then the Producer will invoke the ```notifyAll()``` and all the threads waiting on the Producer will be notified and they can do their job at that point\n",
        "- But, all this should happen in a locked context, i.e., these threads should acquire lock on this ```Condition``` object when they are working with them, and only then they should use ```wait()```, ```notify()``` and ```notifyAll()``` methods\n"
      ]
    },
    {
      "cell_type": "markdown",
      "metadata": {
        "id": "V-pbcIk_o6XC"
      },
      "source": [
        "## 230. Use wait and notify\n",
        "- Implement thread communication using the ```wait()``` and ```notify()``` methods\n",
        "- Remember, these three methods ```wait()```, ```notify()``` and ```notifyAll()``` should be used within a synchronized context, means we need to acquire a lock on this ```Condition``` and then use these methods so that we'll not have any synchronization issues\n",
        "- ```threading.Condition```\n",
        "    - class in threading module used to communicate between threads conditionally, using ```wait()``` & ```notify()``` methods\n",
        "- ```threading.Condition.acquire()```\n",
        "    - acquires a lock on Condition object\n",
        "- ```threading.Condition.notify(n)```\n",
        "    - notifies/ wakes up at most 'n' threads waiting on this Condition object\n",
        "- ```threading.Condition.release()```\n",
        "    - releases a lock on Condition Object\n",
        "- ```threading.Condition.wait(timeout)```\n",
        "    - wait until notified or timeout occurs"
      ]
    },
    {
      "cell_type": "code",
      "execution_count": 3,
      "metadata": {
        "colab": {
          "base_uri": "https://localhost:8080/"
        },
        "id": "Tm1z39KIXY7Z",
        "outputId": "10147408-d495-4833-90ce-31794d6adf31"
      },
      "outputs": [
        {
          "name": "stdout",
          "output_type": "stream",
          "text": [
            "DEBUG: Producer: acquiring lock\n",
            "DEBUG: Producer: lock acquired\n",
            "Item Added\n",
            "DEBUG: Consumer: acquiring lock\n"
          ]
        },
        {
          "name": "stdout",
          "output_type": "stream",
          "text": [
            "Item Added\n",
            "Item Added\n",
            "Item Added\n",
            "DEBUG: Producer: Consumer thread notified\n",
            "DEBUG: Producer: lock released\n",
            "DEBUG: Consumer: lock acquired\n",
            "DEBUG: Consumer: Consumer thread notified, wait end\n",
            "DEBUG: Consumer: lock released\n",
            "Orders shipped  ['Product1', 'Product2', 'Product3', 'Product4']\n"
          ]
        }
      ],
      "source": [
        "# ThreadCommunicationUsingWaitAndNotify.py\n",
        "from threading import Thread, Condition\n",
        "from time import *\n",
        "\n",
        "class Producer:\n",
        "    def __init__(self):\n",
        "        self.products = []\n",
        "        self.c = Condition() #creating Condition object\n",
        "    def produce(self):\n",
        "        print(\"DEBUG: Producer: acquiring lock\") # debug\n",
        "        self.c.acquire() # acquiring a Lock on Condition Object\n",
        "        print(\"DEBUG: Producer: lock acquired\") # debug\n",
        "        for i in range(1, 5):\n",
        "            self.products.append(\"Product\"+str(i))\n",
        "            print(\"Item Added\")\n",
        "            sleep(1)\n",
        "        self.c.notify() # notifies the waiting thread\n",
        "        print(\"DEBUG: Producer: Consumer thread notified\")\n",
        "        self.c.release() # releases the lock on Condition object\n",
        "        print(\"DEBUG: Producer: lock released\")\n",
        "\n",
        "class Consumer:\n",
        "    def __init__(self, prod):\n",
        "        self.prod = prod\n",
        "    def consume(self):\n",
        "        print(\"DEBUG: Consumer: acquiring lock\") # debug\n",
        "        self.prod.c.acquire() # acquires lock on Condition Object in Producer\n",
        "        print(\"DEBUG: Consumer: lock acquired\") # debug\n",
        "        self.prod.c.wait(timeout=1) # waits for notify or timeout\n",
        "        print(\"DEBUG: Consumer: Consumer thread notified, wait end\") # debug\n",
        "        self.prod.c.release() # releases lock on Condition object and ends synchronization\n",
        "        print(\"DEBUG: Consumer: lock released\") # debug\n",
        "        print(\"Orders shipped \", self.prod.products)\n",
        "\n",
        "\n",
        "p = Producer()\n",
        "c = Consumer(p)\n",
        "t1 = Thread(target=p.produce)\n",
        "t2 = Thread(target=c.consume)\n",
        "\n",
        "t1.start()\n",
        "t2.start()"
      ]
    },
    {
      "cell_type": "markdown",
      "metadata": {
        "id": "sODqYTP94f1m"
      },
      "source": [
        "## 231. Queues and Thread Communication\n",
        "- Learn how inbuilt ```queue.Queue``` class in python provides methods to perform inter-thread communication\n",
        "- ```quque.Queue``` class has two methods\n",
        "    1. ```queue.Queue.put()``` method\n",
        "        - ```put()``` puts items on the queue\n",
        "        - ```put()``` method will lock the ```Queue``` object when it performs put operation, so no other thread can access the ```Queue``` object\n",
        "    2. ```queue.Queue.get()``` method\n",
        "        - ```get()``` gets the items by removing it from the queue\n",
        "        - ```get()``` methods will lock the ```Queue``` object as well\n",
        "- Synchronization is taken care of by the logic which is already in the ```put()``` and ```get()``` methods of the Queue, which internally has some conditional locking taking place\n",
        "- ```queue.Queue.put()``` and ```queue.Queue.get()``` will automatically acquire and release lock whenever they require them, we don't need to worry about it\n",
        "\n",
        "- In next lectures, Implement Producer-Consumer pattern which is very popular in use cases such as Order processing or anywhere you have one thread producing the work and another thread consuming/processing that work, the queue data structure will be very useful\n",
        "- in case of Order processing, there might be a thread which will be placing the orders to the Queue, and we can have another thread which is processing the orders from the Queue\n",
        "- In the next lecture, when you create the Producer-Consumer pattern, you'll use the ```queue``` package from python, then create one ```producer()``` function and one ```consumer()``` function, and then spawn the these two methods as threads and pass the ```queue``` object as argument"
      ]
    },
    {
      "cell_type": "markdown",
      "metadata": {
        "id": "_zZrQkjW88XO"
      },
      "source": [
        "## 232. Producer Consumer Pattern\n",
        "- Implement Producer-Consumer pattern using a queue"
      ]
    },
    {
      "cell_type": "code",
      "execution_count": 4,
      "metadata": {
        "colab": {
          "base_uri": "https://localhost:8080/"
        },
        "id": "dfOgP_Zox49B",
        "outputId": "b053ada3-1424-43cb-c1cd-927acc8f81c1"
      },
      "outputs": [
        {
          "name": "stdout",
          "output_type": "stream",
          "text": [
            " Consumer: Ready to Consume\n",
            " Producer: Producing\n",
            " Producer: Produced Data\n",
            " Consumer: Consumed Data: 14\n"
          ]
        },
        {
          "name": "stdout",
          "output_type": "stream",
          "text": [
            " Producer: Producing\n",
            " Producer: Produced Data\n",
            " Consumer: Ready to Consume\n",
            " Consumer: Consumed Data: 16\n",
            " Producer: Producing Consumer: Ready to Consume\n",
            "\n",
            " Producer: Produced Data\n",
            " Consumer: Consumed Data: 1\n",
            " Consumer: Ready to Consume\n",
            " Producer: Producing\n",
            " Producer: Produced Data\n",
            " Consumer: Consumed Data: 28\n"
          ]
        }
      ],
      "source": [
        "# producerconsumer.py\n",
        "import random\n",
        "import time\n",
        "import queue # queue module to use Queue class\n",
        "from threading import *\n",
        "\n",
        "def producer(q):\n",
        "    while True: # infinite loop\n",
        "        print(' Producer: Producing')\n",
        "        q.put(random.randint(1,50)) # produces a random number & puts into queue\n",
        "        print(' Producer: Produced Data')\n",
        "        time.sleep(3)\n",
        "\n",
        "\n",
        "def consumer(q):\n",
        "    while True: # inifinite loop\n",
        "        print(' Consumer: Ready to Consume')\n",
        "        print(' Consumer: Consumed Data:', q.get()) # gets a number from queue\n",
        "        time.sleep(3)\n",
        "\n",
        "\n",
        "q = queue.Queue() # Queue class object\n",
        "t1 = Thread(target=consumer, args=(q,))\n",
        "t2 = Thread(target=producer, args=(q,))\n",
        "t1.start()\n",
        "t2.start()"
      ]
    },
    {
      "cell_type": "markdown",
      "metadata": {
        "id": "0l3nmXn8ULbM"
      },
      "source": [
        "## 233. Three types of queues\n",
        "- There are three different types of queues\n",
        "    1. FIFO - First In First Out\n",
        "    2. LIFO - Last In First Out\n",
        "    3. Priority Queue - Prioritizes lowest first, incase of numeric values in queue, the numeric values itself becomes the priority"
      ]
    },
    {
      "cell_type": "code",
      "execution_count": 9,
      "metadata": {
        "colab": {
          "base_uri": "https://localhost:8080/"
        },
        "id": "UeN4kYghN7II",
        "outputId": "7fa5cb93-f602-4ac4-949e-8038f37b5d3c"
      },
      "outputs": [
        {
          "name": "stdout",
          "output_type": "stream",
          "text": [
            "400 100 500 50 \n",
            "50 500 100 400 \n",
            "50 100 400 500 "
          ]
        }
      ],
      "source": [
        "# queuetypes.py\n",
        "import queue\n",
        "\n",
        "q = queue.Queue() # FIFO\n",
        "q.put(400)\n",
        "q.put(100)\n",
        "q.put(500)\n",
        "q.put(50)\n",
        "while not q.empty():\n",
        "    print(q.get(), end=' ')\n",
        "print()\n",
        "\n",
        "lq=queue.LifoQueue() # LIFO\n",
        "lq.put(400)\n",
        "lq.put(100)\n",
        "lq.put(500)\n",
        "lq.put(50)\n",
        "while not lq.empty():\n",
        "    print(lq.get(), end=' ')\n",
        "print()\n",
        "\n",
        "pq = queue.PriorityQueue() # priority Queue, prioritises lowest first\n",
        "pq.put(400)\n",
        "pq.put(100)\n",
        "pq.put(500)\n",
        "pq.put(50)\n",
        "while not pq.empty():\n",
        "    print(pq.get(), end=' ')"
      ]
    },
    {
      "cell_type": "markdown",
      "metadata": {
        "id": "gWsyScA-Z5OO"
      },
      "source": [
        "## 234. Types of queues\n",
        "- Use Non-Numeric data in Priority Queue\n",
        "- Previously in case of numeric values, it has prioritized based on numeric values\n",
        "- But, in case of string or other object, we have to pass tuple to ```put()``` method, which has two parts\n",
        "    1. first is the priority\n",
        "    2. second is the object/data"
      ]
    },
    {
      "cell_type": "code",
      "execution_count": 12,
      "metadata": {
        "colab": {
          "base_uri": "https://localhost:8080/"
        },
        "id": "FazJrGQZU_uA",
        "outputId": "0597ab4b-8539-4dbf-91c2-d1c8cd2a9c50"
      },
      "outputs": [
        {
          "name": "stdout",
          "output_type": "stream",
          "text": [
            "(50, 'Bharath') (100, 'Bob') (400, 'John') (500, 'Ahmed') "
          ]
        }
      ],
      "source": [
        "pq = queue.PriorityQueue() # priority Queue, prioritises lowest first, typically takes tuples\n",
        "pq.put((400, \"John\"))\n",
        "pq.put((100, \"Bob\"))\n",
        "pq.put((500, \"Ahmed\"))\n",
        "pq.put((50, \"Bharath\"))\n",
        "while not pq.empty():\n",
        "    print(pq.get(), end=' ') # tuples are retirieved based on priority"
      ]
    },
    {
      "cell_type": "code",
      "execution_count": 13,
      "metadata": {
        "colab": {
          "base_uri": "https://localhost:8080/"
        },
        "id": "alKGlMK2bIzI",
        "outputId": "f65a13c2-d3c0-481d-cba4-f85877067fd9"
      },
      "outputs": [
        {
          "name": "stdout",
          "output_type": "stream",
          "text": [
            "Bharath Bob John Ahmed "
          ]
        }
      ],
      "source": [
        "pq = queue.PriorityQueue() # priority Queue, prioritises lowest first, typically takes tuples\n",
        "pq.put((400, \"John\"))\n",
        "pq.put((100, \"Bob\"))\n",
        "pq.put((500, \"Ahmed\"))\n",
        "pq.put((50, \"Bharath\"))\n",
        "while not pq.empty():\n",
        "    print(pq.get()[1], end=' ') # retrieves only the object"
      ]
    },
    {
      "cell_type": "markdown",
      "metadata": {
        "id": "krNO7P9fbV-4"
      },
      "source": [
        "## Assignment 13 : MultiThreading\n",
        "- Spawn off a couple of threads\n",
        "    1. Create a ```EvenNumbersThread```\n",
        "        - prints all even numbers from 1 to 100\n",
        "    2. Create an ```OddNumbersThread```\n",
        "        - prints all odd numbers from 1 to 100\n",
        "- Create instances of these two threads and invoke the appropriate methods\n",
        "- You can implement these threads using either of the three ways\n",
        "- In the ```MainThread```, print all the numbers from 1 to 100\n",
        "- whereever, you instantiate above two threads, invoke the ```start()``` method after it or before it, you can print numbers 1 to 10\n",
        "- It'll have three threads running at the end of it"
      ]
    },
    {
      "cell_type": "code",
      "execution_count": 46,
      "metadata": {
        "colab": {
          "base_uri": "https://localhost:8080/"
        },
        "id": "2MtjdDBnbO8t",
        "outputId": "2226d761-206b-4a67-a17b-c96443c9ddfa"
      },
      "outputs": [
        {
          "name": "stdout",
          "output_type": "stream",
          "text": [
            "Printing 1 to 100\n",
            "1 2 3 4 5 6 7 8 9 10 11 12 13 14 15 16 17 18 19 20 21 22 23 24 25 26 27 28 29 30 31 32 33 34 35 36 37 38 39 40 41 42 43 44 45 46 47 48 49 50 51 52 53 54 55 56 57 58 59 60 61 62 63 64 65 66 67 68 69 70 71 72 73 74 75 76 77 78 79 80 81 82 83 84 85 86 87 88 89 90 91 92 93 94 95 96 97 98 99 100 \n",
            "Printing even numbers 1 to 100\n",
            "2\n",
            "4\n",
            "6\n",
            "8\n",
            "10\n",
            "12\n",
            "14\n",
            "16\n",
            "18\n",
            "20\n",
            "22\n",
            "24\n",
            "26\n",
            "28\n",
            "30\n",
            "32\n",
            "34\n",
            "36\n",
            "38\n",
            "40\n",
            "42\n",
            "44\n",
            "46\n",
            "48\n",
            "50\n",
            "52\n",
            "54\n",
            "56\n",
            "58\n",
            "60\n",
            "62\n",
            "64\n",
            "66\n",
            "68\n",
            "70\n",
            "72\n",
            "74\n",
            "76\n",
            "78\n",
            "80\n",
            "82\n",
            "84\n",
            "86\n",
            "88\n",
            "90\n",
            "92\n",
            "94\n",
            "96\n",
            "98\n",
            "100\n",
            "Printing odd numbers 1 to 100\n",
            "1\n",
            "3\n",
            "5\n",
            "7\n",
            "9\n",
            "11\n",
            "13\n",
            "15\n",
            "17\n",
            "19\n",
            "21\n",
            "23\n",
            "25\n",
            "27\n",
            "29\n",
            "31\n",
            "33\n",
            "35\n",
            "37\n",
            "39\n",
            "41\n",
            "43\n",
            "45\n",
            "47\n",
            "49\n",
            "51\n",
            "53\n",
            "55\n",
            "57\n",
            "59\n",
            "61\n",
            "63\n",
            "65\n",
            "67\n",
            "69\n",
            "71\n",
            "73\n",
            "75\n",
            "77\n",
            "79\n",
            "81\n",
            "83\n",
            "85\n",
            "87\n",
            "89\n",
            "91\n",
            "93\n",
            "95\n",
            "97\n",
            "99\n",
            "Printing 1 to 10\n",
            "1 2 3 4 5 6 7 8 9 10 \n"
          ]
        }
      ],
      "source": [
        "# ThreeThreadsPrintNumbers.py\n",
        "from threading import Thread\n",
        "if __name__ == '__main__':\n",
        "    print(\"Printing 1 to 100\")\n",
        "    for i in range(1, 101):\n",
        "        print(i, end=' ')\n",
        "    print()\n",
        "\n",
        "\n",
        "    def printEven():\n",
        "        print('Printing even numbers 1 to 100')\n",
        "        for i in range(1, 101):\n",
        "            if i%2==0:\n",
        "                print(i)\n",
        "\n",
        "\n",
        "    def PrintOdd():\n",
        "        print('Printing odd numbers 1 to 100')\n",
        "        for i in range(1, 101):\n",
        "            if i%2!=0:\n",
        "                print(i)\n",
        "\n",
        "    teven = Thread(target=printEven)\n",
        "    teven.start()\n",
        "    todd = Thread(target=PrintOdd)\n",
        "    todd.start()\n",
        "\n",
        "\n",
        "    print(\"Printing 1 to 10\")\n",
        "    for i in range(1, 11):\n",
        "        print(i,end=' ')\n",
        "    print()\n"
      ]
    },
    {
      "cell_type": "code",
      "execution_count": 45,
      "metadata": {
        "id": "TvAp03rQqmjQ"
      },
      "outputs": [],
      "source": []
    }
  ],
  "metadata": {
    "colab": {
      "provenance": [],
      "toc_visible": true
    },
    "kernelspec": {
      "display_name": "Python 3",
      "name": "python3"
    },
    "language_info": {
      "codemirror_mode": {
        "name": "ipython",
        "version": 3
      },
      "file_extension": ".py",
      "mimetype": "text/x-python",
      "name": "python",
      "nbconvert_exporter": "python",
      "pygments_lexer": "ipython3",
      "version": "3.9.0"
    }
  },
  "nbformat": 4,
  "nbformat_minor": 0
}
