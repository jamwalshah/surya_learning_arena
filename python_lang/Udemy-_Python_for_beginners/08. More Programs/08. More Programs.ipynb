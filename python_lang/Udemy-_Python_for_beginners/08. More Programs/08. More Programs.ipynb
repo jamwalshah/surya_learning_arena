{
  "nbformat": 4,
  "nbformat_minor": 0,
  "metadata": {
    "colab": {
      "provenance": [],
      "toc_visible": true
    },
    "kernelspec": {
      "name": "python3",
      "display_name": "Python 3"
    },
    "language_info": {
      "name": "python"
    }
  },
  "cells": [
    {
      "cell_type": "markdown",
      "source": [
        "## 60. Read and Display student details"
      ],
      "metadata": {
        "id": "1BjpX3VATfes"
      }
    },
    {
      "cell_type": "code",
      "execution_count": 3,
      "metadata": {
        "colab": {
          "base_uri": "https://localhost:8080/"
        },
        "id": "RNndFwydTbBi",
        "outputId": "68c4e32d-ead1-4cf3-b6f7-1f4f66210e3e"
      },
      "outputs": [
        {
          "output_type": "stream",
          "name": "stdout",
          "text": [
            "Enter Student ID 1\n",
            "Enter Student Name Surya\n",
            "Enter marks scored 100\n",
            "ID: 1 Name: Surya Marks: 100.0\n"
          ]
        }
      ],
      "source": [
        "# basicprograms\n",
        "# studentdetails.py\n",
        "studentid = int(input(\"Enter Student ID \")) # 1\n",
        "name = input(\"Enter Student Name \") # Surya\n",
        "marks = float(input(\"Enter marks scored \")) # 100\n",
        "\n",
        "print(\"ID:\", studentid, \"Name:\", name, \"Marks:\", marks)"
      ]
    },
    {
      "cell_type": "markdown",
      "source": [
        "## 61. Average of three numbers"
      ],
      "metadata": {
        "id": "oHXJu1IRxBY6"
      }
    },
    {
      "cell_type": "code",
      "source": [
        "# averageofnumbers.py\n",
        "a, b, c = [int(x) for x in input(\"Enter three integer numbers \").split()] # 5 10 15\n",
        "average = (a+b+c)/3\n",
        "print(\"Average of three numbers is:\", average)"
      ],
      "metadata": {
        "colab": {
          "base_uri": "https://localhost:8080/"
        },
        "id": "nZ9yg2BUw4Ag",
        "outputId": "99e75491-c85c-4f87-c9e5-61903ed5d8f1"
      },
      "execution_count": 9,
      "outputs": [
        {
          "output_type": "stream",
          "name": "stdout",
          "text": [
            "Enter three integer numbers 5 10 15\n",
            "Average of three numbers is: 10.0\n"
          ]
        }
      ]
    },
    {
      "cell_type": "markdown",
      "source": [
        "## 62. Area of a circle"
      ],
      "metadata": {
        "id": "fSJw6PKxxwQw"
      }
    },
    {
      "cell_type": "code",
      "source": [
        "# areaofacircle.py\n",
        "r = float(input(\"Enter the radius \"))\n",
        "pi = 22/7\n",
        "area = pi*r**2\n",
        "print(area)"
      ],
      "metadata": {
        "colab": {
          "base_uri": "https://localhost:8080/"
        },
        "id": "0d5EikAExaz_",
        "outputId": "d4053ddd-0e6f-4ff0-bf62-008f47d620dc"
      },
      "execution_count": 10,
      "outputs": [
        {
          "output_type": "stream",
          "name": "stdout",
          "text": [
            "Enter the radius 5\n",
            "78.57142857142857\n"
          ]
        }
      ]
    },
    {
      "cell_type": "markdown",
      "source": [
        "## 63. Using the math module"
      ],
      "metadata": {
        "id": "ckbfLNA2yHwb"
      }
    },
    {
      "cell_type": "code",
      "source": [
        "import math\n",
        "r = float(input(\"Enter the radius \"))\n",
        "area = math.pi*r**2\n",
        "print(area)"
      ],
      "metadata": {
        "colab": {
          "base_uri": "https://localhost:8080/"
        },
        "id": "V2rNFJNzyFYt",
        "outputId": "c5ab31ac-3778-4ad0-a4d9-041070852c0f"
      },
      "execution_count": 11,
      "outputs": [
        {
          "output_type": "stream",
          "name": "stdout",
          "text": [
            "Enter the radius 5\n",
            "78.53981633974483\n"
          ]
        }
      ]
    },
    {
      "cell_type": "code",
      "source": [],
      "metadata": {
        "id": "Cw-k0TcgybjE"
      },
      "execution_count": 11,
      "outputs": []
    }
  ]
}