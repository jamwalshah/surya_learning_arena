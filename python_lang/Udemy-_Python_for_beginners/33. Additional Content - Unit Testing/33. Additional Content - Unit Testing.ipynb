{
  "nbformat": 4,
  "nbformat_minor": 0,
  "metadata": {
    "colab": {
      "provenance": [],
      "toc_visible": true
    },
    "kernelspec": {
      "name": "python3",
      "display_name": "Python 3"
    },
    "language_info": {
      "name": "python"
    }
  },
  "cells": [
    {
      "cell_type": "markdown",
      "source": [
        "## 281. Introduction\n",
        "- You'll how to create and run unit tests in Python\n",
        "- Consider the Credit card validation script, where we have a :meth:`validateCard` , which takes a date & returns valid if date is valid otherwise throws an exception to the console if it is invalid\n",
        "-\n",
        "``` python\n",
        "# creditCardValidation.py\n",
        "from datetime import *\n",
        "def validateCard(expDate):\n",
        "    if expDate>datetime.now().date():\n",
        "        return 'Valid'\n",
        "    else:\n",
        "        raise RuntimeError('Card has expired')\n",
        "```\n",
        "- To test this, instead of invoking this function manually within this script, and manually checking the console, we'll write unittests which will be another python script\n",
        "- we use the `unittest` module, which is in-built in python, and closely based of Java's `JUnit` and few other testing frameworks, to make out life supereasy\n",
        "- Over the time, as you write unit tests, these will be a part of your project, and when your project is built, these unit tests will automatically run to validate all the code you're writing\n",
        "- Instead of manually checking of the code is working, these unit tests will automatically test all the code, and make sure that our project is ready for production\n",
        "- To write a unit test\n",
        "    - you need to create a test file of its own\n",
        "    - import `unittest` module into it\n",
        "    - create a class which extends/inherits from the `unittest.TestCase`\n",
        "    - create any number of test functions, which start like `test_*`, otherwise `unittest` won't recognize it as a unit test function\n",
        "    - instead of printing to console, use `assert` functions such as `unittest.TestCase.assertEqual()`, `unittest.TestCase.assertRaises()` which are available in `unittest.TestCase` class\n",
        "    - `unittest.TestCase` also supports life-cycle methods listed below so that one test function does not affect other test\n",
        "        - `unittest.TestCase.setUp`\n",
        "            - invoked before every test function is invoked\n",
        "            - used for any kind of data initialization/connection initialization\n",
        "        - `unittest.TestCase.tearDown`\n",
        "            - invoked after every test function is invoked\n",
        "            - used for any kind of data cleanup/connection cleanup\n",
        "- ```python\n",
        "# creditCardValidationTest.py\n",
        "import unittest\n",
        "from creditCardValidation import *\n",
        "class creditCardValidationTest(unittest.TestCase):\n",
        "    def setUp(self):\n",
        "        print('Setup')\n",
        "    def test_validateCard_valid(self):\n",
        "        result = validateCard(date(2029, 2, 3))\n",
        "        self.assertEqual('Valid', result)\n",
        "    def test_validateCard_expired(self):\n",
        "        with self.assertRaises(RuntimeError):\n",
        "            validateCard(date(2020, 2, 2))\n",
        "    def tearDown(self):\n",
        "        print('TearDown')\n",
        "if __name__ == '__main__':\n",
        "    unittest.main()\n",
        "```"
      ],
      "metadata": {
        "id": "Jy8Qqk46-3Qz"
      }
    },
    {
      "cell_type": "markdown",
      "source": [
        "## 282. Create and run a test\n",
        "- You'll write your very first unit test\n",
        "- Open the `creditCardValidation.py`,\n",
        "``` python\n",
        "# creditCardValidation.py\n",
        "from datetime import *\n",
        "def validateCard(expDate):\n",
        "    if expDate>datetime.now().date():\n",
        "        print('Valid')\n",
        "    else:\n",
        "        print('expired')\n",
        "validateCard(date(2022, 2, 2))\n",
        "```\n",
        "and change the `print` statements to `return` statements, so that we can assert on whatever is returned by this function\n",
        "- Also put the function call into a print statement"
      ],
      "metadata": {
        "id": "pbrc7F1EHWdR"
      }
    },
    {
      "cell_type": "code",
      "source": [
        "# creditCardValidation.py\n",
        "from datetime import *\n",
        "def validateCard(expDate):\n",
        "    if expDate>datetime.now().date():\n",
        "        return 'Valid'\n",
        "    else:\n",
        "        return 'expired'\n",
        "# print(validateCard(date(2025, 2, 2)))"
      ],
      "metadata": {
        "id": "dtPgckypHdwm"
      },
      "execution_count": null,
      "outputs": []
    },
    {
      "cell_type": "markdown",
      "source": [
        "- But we'll automate the testing process, so we need to create a unit test in a separate python file\n",
        "- create a  class with any name but it should extend `unittest.TestCase`, because `unittest.TestCase` class has all the assertions"
      ],
      "metadata": {
        "id": "uXtWlHaOZZm5"
      }
    },
    {
      "cell_type": "code",
      "source": [
        "import os\n",
        "os.getcwd()\n",
        "os.chdir(r'C:\\Users\\surya\\Downloads\\surya_learning_arena\\python_lang\\Udemy-_Python_for_beginners\\33. Additional Content - Unit Testing')\n",
        "os.getcwd()"
      ],
      "metadata": {
        "colab": {
          "base_uri": "https://localhost:8080/"
        },
        "id": "iKL_w7UhaiFo",
        "outputId": "dab69b2a-50cc-4f53-cbd5-3825342a41b7"
      },
      "execution_count": null,
      "outputs": [
        {
          "output_type": "execute_result",
          "data": {
            "text/plain": [
              "'C:\\\\Users\\\\surya\\\\Downloads\\\\surya_learning_arena\\\\python_lang\\\\Udemy-_Python_for_beginners\\\\33. Additional Content - Unit Testing'"
            ]
          },
          "metadata": {},
          "execution_count": 2
        }
      ]
    },
    {
      "cell_type": "code",
      "source": [
        "# creditCardValidationTest.py\n",
        "import unittest\n",
        "from creditCardValidation import * # import the functionality that you want to test\n",
        "\n",
        "class creditCardValidationTest(unittest.TestCase):\n",
        "    def test_validateCard_valid(self):\n",
        "        result = validateCard(date(2029, 2, 2))\n",
        "        self.assertEqual('Valid', result)\n",
        "\n",
        "if __name__ == '__main__': # to invoke main() method in text editors where running tests is not supported\n",
        "    # unittest.main(argv=[''], verbosity=2, exit=False)     # more verbosity\n",
        "    unittest.main(argv=[''], exit=False)    # for jupyter pass extra arguments"
      ],
      "metadata": {
        "colab": {
          "base_uri": "https://localhost:8080/"
        },
        "id": "mT-pZy10GlnE",
        "outputId": "296bc543-3ab1-434f-fc4b-877d32045674"
      },
      "execution_count": null,
      "outputs": [
        {
          "output_type": "stream",
          "name": "stderr",
          "text": [
            ".\n",
            "----------------------------------------------------------------------\n",
            "Ran 1 test in 0.005s\n",
            "\n",
            "OK\n"
          ]
        }
      ]
    },
    {
      "cell_type": "markdown",
      "source": [
        "- each dot `.` represents that many tests have passed while verbosity parameter of `unittest.main` has been default `verbosity=1`\n",
        "- each ```F``` represents that many tests have failed while verbosity parameter of `unittest.main` has been default `verbosity=1`\n",
        "- `unittest.main(module='__main__', defaultTest=None, argv=None, testRunner=None, testLoader=<unittest.loader.TestLoader object at 0x000001AE61C1B290>,, exit=True, verbosity=1, failfast=None, catchbreak=None, buffer=None, warnings=None, *, tb_locals=False, durations=None)`\n",
        "    - a command-line program that runs a set of tests, this is primarily for making test modules conviniently executable"
      ],
      "metadata": {
        "id": "xIdC5dFJWCI2"
      }
    },
    {
      "cell_type": "code",
      "source": [
        "import unittest\n",
        "from creditCardValidation import * # import the functionality that you want to test\n",
        "\n",
        "class creditCardValidationTest(unittest.TestCase):\n",
        "    def test_validateCard_valid(self):\n",
        "        result = validateCard(date(2020, 2, 2)) # passing expired case date\n",
        "        self.assertEqual('Valid', result)\n",
        "\n",
        "if __name__ == '__main__': # to invoke main() method in text editors where running tests is not supported\n",
        "    # unittest.main(argv=[''], verbosity=2, exit=False)     # more verbosity\n",
        "    unittest.main(argv=[''], exit=False)    # for jupyter pass extra arguments"
      ],
      "metadata": {
        "colab": {
          "base_uri": "https://localhost:8080/"
        },
        "id": "WjLTR4VScfcH",
        "outputId": "d45bd83f-3c70-4a64-dec9-6eaf34e8c884"
      },
      "execution_count": null,
      "outputs": [
        {
          "output_type": "stream",
          "name": "stderr",
          "text": [
            "F\n",
            "======================================================================\n",
            "FAIL: test_validateCard_valid (__main__.creditCardValidationTest.test_validateCard_valid)\n",
            "----------------------------------------------------------------------\n",
            "Traceback (most recent call last):\n",
            "  File \"C:\\Users\\surya\\AppData\\Local\\Temp\\ipykernel_44708\\748984360.py\", line 7, in test_validateCard_valid\n",
            "    self.assertEqual('Valid', result)\n",
            "AssertionError: 'Valid' != 'expired'\n",
            "- Valid\n",
            "+ expired\n",
            "\n",
            "\n",
            "----------------------------------------------------------------------\n",
            "Ran 1 test in 0.002s\n",
            "\n",
            "FAILED (failures=1)\n"
          ]
        }
      ]
    },
    {
      "cell_type": "code",
      "source": [
        "import unittest\n",
        "from creditCardValidation import * # import the functionality that you want to test\n",
        "\n",
        "class creditCardValidationTest(unittest.TestCase):\n",
        "    def test_validateCard_valid(self):\n",
        "        result = validateCard(date(2029, 2, 2)) # passing expired case date\n",
        "        self.assertEqual('Valid', result)\n",
        "    def test_validateCard_expired(self):\n",
        "        result = validateCard(date(2020, 2, 2)) # passing expired case date\n",
        "        self.assertEqual('expired', result)\n",
        "\n",
        "if __name__ == '__main__': # to invoke main() method in text editors where running tests is not supported\n",
        "    # unittest.main(argv=[''], verbosity=2, exit=False)     # more verbosity\n",
        "    unittest.main(argv=[''], exit=False)    # for jupyter pass extra arguments"
      ],
      "metadata": {
        "colab": {
          "base_uri": "https://localhost:8080/"
        },
        "id": "4jUgLUpuXJIE",
        "outputId": "2ff71f0c-fa51-420f-92bd-54c2a1f85282"
      },
      "execution_count": null,
      "outputs": [
        {
          "output_type": "stream",
          "name": "stderr",
          "text": [
            "..\n",
            "----------------------------------------------------------------------\n",
            "Ran 2 tests in 0.002s\n",
            "\n",
            "OK\n"
          ]
        }
      ]
    },
    {
      "cell_type": "markdown",
      "source": [
        "- two dots `..` represent two unit tests have passed"
      ],
      "metadata": {
        "id": "a_HFtFSXY57U"
      }
    },
    {
      "cell_type": "markdown",
      "source": [
        "## 283. Assert for exceptions\n",
        "- You'll learn how to assert for exceptions"
      ],
      "metadata": {
        "id": "RIrqZKfEZnQ6"
      }
    },
    {
      "cell_type": "code",
      "source": [
        "# creditCardValidation_raises.py\n",
        "from datetime import *\n",
        "def validateCard(expDate):\n",
        "    if expDate>datetime.now().date():\n",
        "        return 'Valid'\n",
        "    else:\n",
        "        raise RuntimeError('Card has expired')"
      ],
      "metadata": {
        "id": "qg_GHOiJ2cfq"
      },
      "execution_count": null,
      "outputs": []
    },
    {
      "cell_type": "code",
      "source": [
        "import os\n",
        "os.getcwd()\n",
        "os.chdir(r'C:\\Users\\surya\\Downloads\\surya_learning_arena\\python_lang\\Udemy-_Python_for_beginners\\33. Additional Content - Unit Testing')\n",
        "os.getcwd()"
      ],
      "metadata": {
        "colab": {
          "base_uri": "https://localhost:8080/"
        },
        "id": "MpvVnMNI20-1",
        "outputId": "810d6270-413c-4a60-9400-952c515768d3"
      },
      "execution_count": null,
      "outputs": [
        {
          "output_type": "execute_result",
          "data": {
            "text/plain": [
              "'C:\\\\Users\\\\surya\\\\Downloads\\\\surya_learning_arena\\\\python_lang\\\\Udemy-_Python_for_beginners\\\\33. Additional Content - Unit Testing'"
            ]
          },
          "metadata": {},
          "execution_count": 4
        }
      ]
    },
    {
      "cell_type": "code",
      "source": [
        "import unittest\n",
        "from creditCardValidation_raises import * # import the functionality that you want to test\n",
        "\n",
        "class creditCardValidationTest(unittest.TestCase):\n",
        "    def test_validateCard_valid(self):\n",
        "        result = validateCard(date(2029, 2, 2)) # passing expired case date\n",
        "        self.assertEqual('Valid', result)\n",
        "    def test_validateCard_expired(self):\n",
        "        with self.assertRaises(RuntimeError): # asserting for exception\n",
        "            validateCard(date(2020, 2, 2))\n",
        "\n",
        "if __name__ == '__main__': # to invoke main() method in text editors where running tests is not supported\n",
        "    # unittest.main(argv=[''], verbosity=2, exit=False)     # more verbosity\n",
        "    unittest.main(argv=[''], exit=False)    # for jupyter pass extra arguments"
      ],
      "metadata": {
        "colab": {
          "base_uri": "https://localhost:8080/"
        },
        "id": "VagMDSKaYbfR",
        "outputId": "f7f06e01-8941-4a44-9113-ee357e0d9c7c"
      },
      "execution_count": null,
      "outputs": [
        {
          "output_type": "stream",
          "name": "stderr",
          "text": [
            "..\n",
            "----------------------------------------------------------------------\n",
            "Ran 2 tests in 0.004s\n",
            "\n",
            "OK\n"
          ]
        }
      ]
    },
    {
      "cell_type": "code",
      "source": [
        "import unittest\n",
        "from creditCardValidation_raises import * # import the functionality that you want to test\n",
        "\n",
        "class creditCardValidationTest(unittest.TestCase):\n",
        "    def test_validateCard_valid(self):\n",
        "        result = validateCard(date(2029, 2, 2)) # passing expired case date\n",
        "        self.assertEqual('Valid', result)\n",
        "    def test_validateCard_expired(self):\n",
        "        with self.assertRaises(RuntimeError): # asserting for exception\n",
        "            validateCard(date(2029, 2, 2)) # for valid date, test fails\n",
        "\n",
        "if __name__ == '__main__': # to invoke main() method in text editors where running tests is not supported\n",
        "    # unittest.main(argv=[''], verbosity=2, exit=False)     # more verbosity\n",
        "    unittest.main(argv=[''], exit=False)    # for jupyter pass extra arguments"
      ],
      "metadata": {
        "colab": {
          "base_uri": "https://localhost:8080/"
        },
        "id": "uXLAiEBk3R6R",
        "outputId": "babb2477-e6e1-4b52-df62-6ab08c452ee6"
      },
      "execution_count": null,
      "outputs": [
        {
          "output_type": "stream",
          "name": "stderr",
          "text": [
            "F.\n",
            "======================================================================\n",
            "FAIL: test_validateCard_expired (__main__.creditCardValidationTest.test_validateCard_expired)\n",
            "----------------------------------------------------------------------\n",
            "Traceback (most recent call last):\n",
            "  File \"C:\\Users\\surya\\AppData\\Local\\Temp\\ipykernel_33508\\1261663897.py\", line 9, in test_validateCard_expired\n",
            "    with self.assertRaises(RuntimeError): # asserting for exception\n",
            "AssertionError: RuntimeError not raised\n",
            "\n",
            "----------------------------------------------------------------------\n",
            "Ran 2 tests in 0.003s\n",
            "\n",
            "FAILED (failures=1)\n"
          ]
        }
      ]
    },
    {
      "cell_type": "markdown",
      "source": [
        "## 284. setUp and tearDown\n",
        "- If you want to set up some data for your test and clean it up after the test runs\n",
        "- This can be done very easily using the lifecycle methods called `setUp` and `tearDown` which are present in `unittest.TestCase` and we override them here\n",
        "- You'll see `setUp` method and `tearDown` method have been called two times, this is because these will be called each time any of the test function is executed\n",
        "- `setUp` method is executed before every test function and `tearDown` method is executed after every test function, so that data of one test will not collide or will not cause any issues to other test\n",
        "- Here, two test functions are being called, so you see the prints two times\n",
        "- You can use these methods to setup the data and to clean up, it could be database connections, connecting to another application, and so on"
      ],
      "metadata": {
        "id": "I7Zuwa-b50NM"
      }
    },
    {
      "cell_type": "code",
      "source": [
        "import unittest\n",
        "from creditCardValidation_raises import * # import the functionality that you want to test\n",
        "\n",
        "class creditCardValidationTest(unittest.TestCase):\n",
        "    def setUp(self):\n",
        "        print('Setup')\n",
        "    def test_validateCard_valid(self):\n",
        "        result = validateCard(date(2029, 2, 2)) # passing expired case date\n",
        "        self.assertEqual('Valid', result)\n",
        "    def test_validateCard_expired(self):\n",
        "        with self.assertRaises(RuntimeError): # asserting for exception\n",
        "            validateCard(date(2020, 2, 2))\n",
        "    def tearDown(self):\n",
        "        print('tearDown')\n",
        "\n",
        "if __name__ == '__main__': # to invoke main() method in text editors where running tests is not supported\n",
        "    # unittest.main(argv=[''], verbosity=2, exit=False)     # more verbosity\n",
        "    unittest.main(argv=[''], exit=False)    # for jupyter pass extra arguments"
      ],
      "metadata": {
        "colab": {
          "base_uri": "https://localhost:8080/"
        },
        "id": "kuATMsyO5gbm",
        "outputId": "df707bf9-dcf3-4a5a-c5ed-d0b33fa097af"
      },
      "execution_count": null,
      "outputs": [
        {
          "output_type": "stream",
          "name": "stderr",
          "text": [
            "..\n",
            "----------------------------------------------------------------------\n",
            "Ran 2 tests in 0.002s\n",
            "\n",
            "OK\n"
          ]
        },
        {
          "output_type": "stream",
          "name": "stdout",
          "text": [
            "Setup\n",
            "tearDown\n",
            "Setup\n",
            "tearDown\n"
          ]
        }
      ]
    },
    {
      "cell_type": "markdown",
      "source": [
        "## 285. Assignment\n",
        "- Now that you have learnt how easy it is to use the python's unittest module and write tests for your functions, work on an assignment where you'll create unit test for a class\n",
        "- The test will look same, one difference will be you'll import the module just like previous, instead of directly invoking the functions, you'll create an object\n",
        "- e.g. if you're testing the `clinicalsapp.py`, you'll create a `Patient` object or `Clinical` object, all the commented code will go into test method now\n",
        "-\n",
        "```python\n",
        "# clinicalsapp.py\n",
        "class Patient:\n",
        "    def __init__(self, name, age):\n",
        "        self.name = name\n",
        "        self.age = age\n",
        "        self.clinical = []\n",
        "    def addClinicalData(self, clinical):\n",
        "        self.clinical.append(clinical)\n",
        "class Clinical:\n",
        "    def __init__(self, componentName, componentValue):\n",
        "        self.componentName = componentName\n",
        "        self.componentValue = componentValue\n",
        "# p = Patient('John', 40)\n",
        "# c1 = Clinical('bp', '88/129')\n",
        "# p.addClinicalData(c1)\n",
        "# c2 = Clinical('heartRate', 88)\n",
        "# p.addClinicalData(c2)\n",
        "# print(p.name)\n",
        "# for eachClinical in p.clinical:\n",
        "#     print(eachClinical.componentName)\n",
        "#     print(eachClinical.componentValue)\n",
        "```\n",
        "- Instead of printing Patient's name on console you can use `assertEqual` and provide the value you want to assert on your test `p.name`\n",
        "- Similarly, for clinical data as well, you can add clinical data, check for the size of clinical data on the patient and so on\n",
        "- create a `ClinicalApptest` within your test method of your test class you create\n",
        "- create an object of the patient\n",
        "- add clinical data on it and do the appropriate assertions for the data on that object"
      ],
      "metadata": {
        "id": "JE5ZICro8ZCF"
      }
    },
    {
      "cell_type": "code",
      "source": [
        "# clinicalsapp.py\n",
        "class Patient:\n",
        "    def __init__(self, name, age):\n",
        "        self.name = name\n",
        "        self.age = age\n",
        "        self.clinical = []\n",
        "    def addClinicalData(self, clinical):\n",
        "        self.clinical.append(clinical)\n",
        "class Clinical:\n",
        "    def __init__(self, componentName, componentValue):\n",
        "        self.componentName = componentName\n",
        "        self.componentValue = componentValue\n",
        "\n",
        "# p = Patient('John', 40)\n",
        "# c1 = Clinical('bp', '88/128')\n",
        "# p.addClinicalData(c1)\n",
        "# c2 = Clinical('heartRate', 88)\n",
        "# p.addClinicalData(c2)\n",
        "\n",
        "# print(p.name)\n",
        "# for eachClinical in p.clinical:\n",
        "#     print(eachClinical.componentName)\n",
        "#     print(eachClinical.componentValue)"
      ],
      "metadata": {
        "id": "eioB1hE06537"
      },
      "execution_count": null,
      "outputs": []
    },
    {
      "cell_type": "code",
      "source": [
        "import os\n",
        "os.getcwd()\n",
        "os.chdir(r'C:\\Users\\surya\\Downloads\\surya_learning_arena\\python_lang\\Udemy-_Python_for_beginners\\33. Additional Content - Unit Testing')\n",
        "os.getcwd()"
      ],
      "metadata": {
        "colab": {
          "base_uri": "https://localhost:8080/"
        },
        "id": "1tKGTnwi9i7j",
        "outputId": "91279f4e-9814-455e-d2fc-64b097509f9c"
      },
      "execution_count": null,
      "outputs": [
        {
          "output_type": "execute_result",
          "data": {
            "text/plain": [
              "'C:\\\\Users\\\\surya\\\\Downloads\\\\surya_learning_arena\\\\python_lang\\\\Udemy-_Python_for_beginners\\\\33. Additional Content - Unit Testing'"
            ]
          },
          "metadata": {},
          "execution_count": 2
        }
      ]
    },
    {
      "cell_type": "code",
      "source": [
        "# clinicalsAppTest.py\n",
        "import unittest\n",
        "from clinicalsapp import * # import the functionality that you want to test\n",
        "\n",
        "class ClinicalAppTest(unittest.TestCase):\n",
        "    def setUp(self):\n",
        "        self.name = 'John'\n",
        "        self.age = 40\n",
        "        self.p = Patient(self.name, self.age)\n",
        "        c1 = Clinical('bp', '88/128')\n",
        "        self.p.addClinicalData(c1)\n",
        "        c2 = Clinical('heartRate', 88)\n",
        "        self.p.addClinicalData(c2)\n",
        "        self.clinicalData = [c1, c2]\n",
        "        self.clinicalDataLen = len(self.clinicalData)\n",
        "        print('setUp')\n",
        "\n",
        "    def test_validatePatient_None(self):\n",
        "        self.assertIsNotNone(self.p) # checks if patient object exists\n",
        "\n",
        "    def test_validatePatientName_valid(self):\n",
        "        self.assertEqual(self.name, self.p.name) # checks patient name equality\n",
        "\n",
        "    def test_validatePatientAge_valid(self):\n",
        "        self.assertEqual(self.age, self.p.age) # checks patient age equality\n",
        "\n",
        "    def test_validatePatientClinicalLen_valid(self):\n",
        "        self.assertEqual(len(self.p.clinical), self.clinicalDataLen) # checks patient's clinicals length\n",
        "\n",
        "    def test_validatePatientClinicalData_valid(self):\n",
        "        self.assertListEqual(self.p.clinical, self.clinicalData) # checks patient's clinicals data similarity/equality\n",
        "\n",
        "    def tearDown(self):\n",
        "        del(self.p)\n",
        "        print('tearDown')\n",
        "\n",
        "\n",
        "if __name__ == '__main__':\n",
        "    # unittest.main(argv=[''], verbosity=2, exit=False)\n",
        "        unittest.main(argv=[''], exit=False)"
      ],
      "metadata": {
        "colab": {
          "base_uri": "https://localhost:8080/"
        },
        "id": "E-9RESGfAdMF",
        "outputId": "996f7e1e-6429-45b8-96f5-07dd450e134a"
      },
      "execution_count": null,
      "outputs": [
        {
          "output_type": "stream",
          "name": "stderr",
          "text": [
            ".....\n",
            "----------------------------------------------------------------------\n",
            "Ran 5 tests in 0.010s\n",
            "\n",
            "OK\n"
          ]
        },
        {
          "output_type": "stream",
          "name": "stdout",
          "text": [
            "setUp\n",
            "tearDown\n",
            "setUp\n",
            "tearDown\n",
            "setUp\n",
            "tearDown\n",
            "setUp\n",
            "tearDown\n",
            "setUp\n",
            "tearDown\n"
          ]
        }
      ]
    },
    {
      "cell_type": "markdown",
      "source": [
        "## 286. Documentation\n",
        "- Launch your web browser and search for `Python unittest`, goto the link https://docs.python.org/3/library/unittest.html of unittest for Python 3\n",
        "- Everything is neatly documented here\n",
        "- Now that you have the basic idea of how it all works, it'll make your life easy if you go through this documentation"
      ],
      "metadata": {
        "id": "wyqpfw6Ldx-G"
      }
    },
    {
      "cell_type": "code",
      "source": [],
      "metadata": {
        "id": "8MdUnyShXwol"
      },
      "execution_count": null,
      "outputs": []
    }
  ]
}