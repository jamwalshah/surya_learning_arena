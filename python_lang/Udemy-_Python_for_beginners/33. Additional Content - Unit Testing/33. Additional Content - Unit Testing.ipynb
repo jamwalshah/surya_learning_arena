{
  "nbformat": 4,
  "nbformat_minor": 0,
  "metadata": {
    "colab": {
      "provenance": [],
      "toc_visible": true
    },
    "kernelspec": {
      "name": "python3",
      "display_name": "Python 3"
    },
    "language_info": {
      "name": "python"
    }
  },
  "cells": [
    {
      "cell_type": "markdown",
      "source": [
        "## 281. Introduction\n",
        "- You'll how to create and run unit tests in Python\n",
        "- Consider the Credit card validation script, where we have a :meth:`validateCard` , which takes a date & returns valid if date is valid otherwise throws an exception to the console if it is invalid\n",
        "- ```python\n",
        "# creditCardValidation.py\n",
        "from datetime import *\n",
        "def validateCard(expDate):\n",
        "    if expDate>datetime.now().date():\n",
        "        return 'Valid'\n",
        "    else:\n",
        "        raise RuntimeError('Card has expired')\n",
        "```\n",
        "- To test this, instead of invoking this function manually within this script, and manually checking the console, we'll write unittests which will be another python script\n",
        "- we use the ```unittest``` module, which is in-built in python, and closely based of Java's ```JUnit``` and few other testing frameworks, to make out life supereasy\n",
        "- Over the time, as you write unit tests, these will be a part of your project, and when your project is built, these unit tests will automatically run to validate all the code you're writing\n",
        "- Instead of manually checking of the code is working, these unit tests will automatically test all the code, and make sure that our project is ready for production\n",
        "- To write a unit test\n",
        "    - you need to create a test file of its own\n",
        "    - import ```unittest``` module into it\n",
        "    - create a class which extends/inherits from the ```unittest.TestCase```\n",
        "    - create any number of test functions, which start like ```test_*```\n",
        "    - instead of printing to console, use ```assert``` functions such as ```assertEqual()```, ```assertRaises()``` which are available in ```unittest.TestCase``` class\n",
        "    - ```unittest.TestCase``` also supports life-cycle methods listed below so that one test function does not affect other test\n",
        "        - ```setUp()```\n",
        "            - invoked before every test function is invoked\n",
        "            - used for any kind of data initialization/connection initialization\n",
        "        - ```tearDown()```\n",
        "            - invoked after every test function is invoked\n",
        "            - used for any kind of data cleanup/connection cleanup\n",
        "- ```python\n",
        "# creditCardValidationTest.py\n",
        "import unittest\n",
        "from creditCardValidation import *\n",
        "class creditCardValidationTest(unittest.TestCase):\n",
        "    def setUp(self):\n",
        "        print('Setup')\n",
        "    def test_validateCard_valid(self):\n",
        "        result = validateCard(date(2025, 2, 3))\n",
        "        self.assertEqual('Valid', result)\n",
        "    def test_validateCard_expired(self):\n",
        "        with self.assertRaises(RuntimeError):\n",
        "            validateCard(date(2020, 2, 2))\n",
        "    def tearDown(self):\n",
        "        print('TearDown')\n",
        "if __name__ == '__main__':\n",
        "    unittest.main()\n",
        "```"
      ],
      "metadata": {
        "id": "Jy8Qqk46-3Qz"
      }
    },
    {
      "cell_type": "markdown",
      "source": [
        "## 282. Create and run a test\n",
        "-"
      ],
      "metadata": {
        "id": "pbrc7F1EHWdR"
      }
    },
    {
      "cell_type": "code",
      "source": [],
      "metadata": {
        "id": "mT-pZy10GlnE"
      },
      "execution_count": 7,
      "outputs": []
    }
  ]
}