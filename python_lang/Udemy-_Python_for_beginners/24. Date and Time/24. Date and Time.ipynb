{
  "nbformat": 4,
  "nbformat_minor": 0,
  "metadata": {
    "colab": {
      "provenance": [],
      "toc_visible": true
    },
    "kernelspec": {
      "name": "python3",
      "display_name": "Python 3"
    },
    "language_info": {
      "name": "python"
    }
  },
  "cells": [
    {
      "cell_type": "markdown",
      "source": [
        "## 204. Date and Time\n",
        "- Epoch in computers means the time in seconds since start of time\n",
        "    - note that on UNIX machines, start of time means Jan 1st, 1970\n",
        "- calculate the given date & time\n",
        "    - ```time.ctime()``` from ```time``` module\n",
        "    - ```datetime.datetime``` classes & objects from ``` datetime``` module\n",
        "- Access the current system's date & time\n",
        "- Combine the date & time by providing a date & a time to create a datetime object\n",
        "- Compare dates & times\n",
        "- Push the system to sleep using ```sleep()``` from ```datetime``` module\n",
        "- Do perfromance test to check how long python program is taking to execute by using inbuilt functions like ```perf_counter()```"
      ],
      "metadata": {
        "id": "PRlRgG9mY9vz"
      }
    },
    {
      "cell_type": "markdown",
      "source": [
        "## 205. Time since epoch\n",
        "- ```time.time()```\n",
        "    - returns seconds since start of time (otherwise called epoch)\n",
        "- ```time.ctime(seconds)```\n",
        "    - returns a string for time in local format containing date & time"
      ],
      "metadata": {
        "id": "X3JS2_p7hucf"
      }
    },
    {
      "cell_type": "code",
      "execution_count": 11,
      "metadata": {
        "colab": {
          "base_uri": "https://localhost:8080/"
        },
        "id": "lNg8AasWY2i4",
        "outputId": "fa2ce764-6af5-4943-899e-010c2da2bb9e"
      },
      "outputs": [
        {
          "output_type": "stream",
          "name": "stdout",
          "text": [
            "1705688961.877973\n"
          ]
        }
      ],
      "source": [
        "# dateandtime\n",
        "# dtdemo.py\n",
        "import time\n",
        "epochseconds = time.time() # returns epoch in float\n",
        "# print(type(epochseconds))\n",
        "print(epochseconds)"
      ]
    },
    {
      "cell_type": "code",
      "source": [
        "t = time.ctime(epochseconds) # returns a string for time in local format containing date & time\n",
        "# print(type(t))\n",
        "print(t)"
      ],
      "metadata": {
        "colab": {
          "base_uri": "https://localhost:8080/"
        },
        "id": "aikMchqVivCx",
        "outputId": "eb4d275a-ece8-457a-df98-cd19c8a48c3c"
      },
      "execution_count": 12,
      "outputs": [
        {
          "output_type": "stream",
          "name": "stdout",
          "text": [
            "Fri Jan 19 23:59:21 2024\n"
          ]
        }
      ]
    },
    {
      "cell_type": "markdown",
      "source": [
        "## 206. Finding the current date and time\n",
        "- ```datetime``` module makes easier to retrieve time & dates, and play around with it\n",
        "- ```datetime.datetime.today()```\n",
        "    - returns datetime object representing current date & time\n",
        "- ```datetime.datetime.day``` : represents day of month in number\n",
        "- ```datetime.datetime.month``` : represents month in number\n",
        "- ```datetime.datetime.year``` : represents year in YYYY format\n",
        "- ```datetime.datetime.hour``` : represents hour value in datetime.datetime object\n",
        "- ```datetime.datetime.minute``` : represents minute value in datetime.datetime object\n",
        "- ```datetime.datetime.second``` : represents seconds value in datetime.datetime object"
      ],
      "metadata": {
        "id": "SFfEWci-kOZ8"
      }
    },
    {
      "cell_type": "code",
      "source": [
        "import datetime\n",
        "\n",
        "dt = datetime.datetime.today()\n",
        "print(type(dt))\n",
        "print(dt)"
      ],
      "metadata": {
        "colab": {
          "base_uri": "https://localhost:8080/"
        },
        "id": "EB70-ro6jcO5",
        "outputId": "2457dfe0-5814-4e12-f999-a8452178583a"
      },
      "execution_count": 13,
      "outputs": [
        {
          "output_type": "stream",
          "name": "stdout",
          "text": [
            "<class 'datetime.datetime'>\n",
            "2024-01-19 23:59:23.464855\n"
          ]
        }
      ]
    },
    {
      "cell_type": "code",
      "source": [
        "print(\"Current Date: {}/{}/{}\".format(dt.day, dt.month, dt.year))"
      ],
      "metadata": {
        "colab": {
          "base_uri": "https://localhost:8080/"
        },
        "id": "N56frH-qZgjH",
        "outputId": "754ece0f-502c-4f44-842a-05520867b0cd"
      },
      "execution_count": 14,
      "outputs": [
        {
          "output_type": "stream",
          "name": "stdout",
          "text": [
            "Current Date: 19/1/2024\n"
          ]
        }
      ]
    },
    {
      "cell_type": "code",
      "source": [
        "print(\"Current Time: {}:{}:{}\".format(dt.hour, dt.minute, dt.second))"
      ],
      "metadata": {
        "colab": {
          "base_uri": "https://localhost:8080/"
        },
        "id": "cnKNreh_bp_e",
        "outputId": "19192828-af02-45f5-bf43-1c169db2a66d"
      },
      "execution_count": 15,
      "outputs": [
        {
          "output_type": "stream",
          "name": "stdout",
          "text": [
            "Current Time: 23:59:23\n"
          ]
        }
      ]
    },
    {
      "cell_type": "markdown",
      "source": [
        "## 207. Combining Date and Time\n",
        "- We can create the date and time object separately and combine then to one single datetime object\n",
        "- ```date(year, month, day)```\n",
        "    - returns a ```datetime.date``` object\n",
        " - ```time([hour[, minute[, second[, microsecond[, tzinfo]]]]])```\n",
        "    - retuns a ```date.time``` object"
      ],
      "metadata": {
        "id": "4I8rj5ncgwDV"
      }
    },
    {
      "cell_type": "code",
      "source": [
        "# combinedateandtime.py\n",
        "from datetime import *\n",
        "d = date(2018, 7, 21) # create date object\n",
        "# print(type(d))\n",
        "t = time(12, 45) # create time object\n",
        "# print(type(t))\n",
        "dt = datetime.combine(d, t) # combine date & time object\n",
        "# print(type(dt))\n",
        "print(dt)"
      ],
      "metadata": {
        "colab": {
          "base_uri": "https://localhost:8080/"
        },
        "id": "oTl61elGdprL",
        "outputId": "6d61bebe-a1a0-4636-bce7-769fdc0ede4e"
      },
      "execution_count": 16,
      "outputs": [
        {
          "output_type": "stream",
          "name": "stdout",
          "text": [
            "2018-07-21 12:45:00\n"
          ]
        }
      ]
    },
    {
      "cell_type": "markdown",
      "source": [
        "## 208. Sorting Dates\n",
        "- Add a bunch of dates to a list and sort using sort method available in list"
      ],
      "metadata": {
        "id": "i1OR5A-WeCJx"
      }
    },
    {
      "cell_type": "code",
      "source": [
        "# sortdates.py\n",
        "from datetime import date\n",
        "ldates = []\n",
        "\n",
        "d1 = date(2016, 8, 12)\n",
        "d2 = date(2018, 7, 12)\n",
        "d3 = date(2018, 8, 12)\n",
        "\n",
        "ldates.append(d1)\n",
        "ldates.append(d2)\n",
        "ldates.append(d3)\n",
        "\n",
        "ldates.sort()\n",
        "\n",
        "for d in ldates:\n",
        "    print(d)"
      ],
      "metadata": {
        "colab": {
          "base_uri": "https://localhost:8080/"
        },
        "id": "uLEVQdVqcuCU",
        "outputId": "dd2a8054-0347-4a72-b9c2-ac30fdccac7d"
      },
      "execution_count": 17,
      "outputs": [
        {
          "output_type": "stream",
          "name": "stdout",
          "text": [
            "2016-08-12\n",
            "2018-07-12\n",
            "2018-08-12\n"
          ]
        }
      ]
    },
    {
      "cell_type": "markdown",
      "source": [
        "## 209. sleep()\n",
        "- ```time.sleep()``` temporarily halt your program or temporarily send your program into sleep"
      ],
      "metadata": {
        "id": "yd6jjZEpw0Ld"
      }
    },
    {
      "cell_type": "code",
      "source": [
        "from datetime import date\n",
        "import time\n",
        "\n",
        "ldates = []\n",
        "\n",
        "d1 = date(2016, 8, 12)\n",
        "d2 = date(2018, 7, 12)\n",
        "d3 = date(2018, 8, 12)\n",
        "\n",
        "ldates.append(d1)\n",
        "ldates.append(d2)\n",
        "ldates.append(d3)\n",
        "\n",
        "ldates.sort()\n",
        "\n",
        "time.sleep(3) # send program into sleep for 3 seconds\n",
        "\n",
        "for d in ldates:\n",
        "    print(d)\n",
        "time.sleep(3)"
      ],
      "metadata": {
        "colab": {
          "base_uri": "https://localhost:8080/"
        },
        "id": "CzAOAR2Cwdqe",
        "outputId": "4d3279dc-c3cd-4bee-c816-769170fc2e79"
      },
      "execution_count": 18,
      "outputs": [
        {
          "output_type": "stream",
          "name": "stdout",
          "text": [
            "2016-08-12\n",
            "2018-07-12\n",
            "2018-08-12\n"
          ]
        }
      ]
    },
    {
      "cell_type": "markdown",
      "source": [
        "## 210. Knowing the execution time of a program\n",
        "- Use ```time``` module to find out the performance of a python program\n",
        "- ```time.perf_counter()```\n",
        "    - returns current time in seconds in float"
      ],
      "metadata": {
        "id": "iGwcyHYiyLKW"
      }
    },
    {
      "cell_type": "code",
      "source": [
        "from datetime import date\n",
        "import time\n",
        "\n",
        "startTime = time.perf_counter() # returns current time in seconds\n",
        "ldates = []\n",
        "\n",
        "d1 = date(2016, 8, 12)\n",
        "d2 = date(2018, 7, 12)\n",
        "d3 = date(2018, 8, 12)\n",
        "\n",
        "ldates.append(d1)\n",
        "ldates.append(d2)\n",
        "ldates.append(d3)\n",
        "\n",
        "ldates.sort()\n",
        "\n",
        "time.sleep(3)\n",
        "\n",
        "for d in ldates:\n",
        "    print(d)\n",
        "\n",
        "endTime = time.perf_counter()\n",
        "\n",
        "print(\"Execution Time:\", endTime-startTime)"
      ],
      "metadata": {
        "colab": {
          "base_uri": "https://localhost:8080/"
        },
        "id": "KBMFGK3cxkaM",
        "outputId": "6a0cbb55-1016-4081-9c56-cc205dd1a582"
      },
      "execution_count": 19,
      "outputs": [
        {
          "output_type": "stream",
          "name": "stdout",
          "text": [
            "2016-08-12\n",
            "2018-07-12\n",
            "2018-08-12\n",
            "Execution Time: 3.005620400000005\n"
          ]
        }
      ]
    },
    {
      "cell_type": "code",
      "source": [
        "from datetime import date\n",
        "import time\n",
        "\n",
        "startTime = time.perf_counter() # returns current time in seconds\n",
        "ldates = []\n",
        "\n",
        "d1 = date(2016, 8, 12)\n",
        "d2 = date(2018, 7, 12)\n",
        "d3 = date(2018, 8, 12)\n",
        "\n",
        "ldates.append(d1)\n",
        "ldates.append(d2)\n",
        "ldates.append(d3)\n",
        "\n",
        "ldates.sort()\n",
        "\n",
        "# time.sleep(3)\n",
        "\n",
        "for d in ldates:\n",
        "    print(d)\n",
        "\n",
        "endTime = time.perf_counter()\n",
        "\n",
        "print(\"Execution Time:\", endTime-startTime)"
      ],
      "metadata": {
        "colab": {
          "base_uri": "https://localhost:8080/"
        },
        "id": "s9G8Y33Tpir4",
        "outputId": "277ee4a2-4129-4b30-a278-82e2d3e5c886"
      },
      "execution_count": 20,
      "outputs": [
        {
          "output_type": "stream",
          "name": "stdout",
          "text": [
            "2016-08-12\n",
            "2018-07-12\n",
            "2018-08-12\n",
            "Execution Time: 0.0005418000000005918\n"
          ]
        }
      ]
    },
    {
      "cell_type": "markdown",
      "source": [
        "## 211. Validate Credit Card Usecase\n",
        "- Validate the credit card expiry"
      ],
      "metadata": {
        "id": "SFdDwyEhp08R"
      }
    },
    {
      "cell_type": "code",
      "source": [
        "# creditCardValidation.py\n",
        "from datetime import *\n",
        "def validateCard(expDate):\n",
        "    if expDate > datetime.now().date():\n",
        "        print('Valid')\n",
        "    else:\n",
        "        print('expired')\n",
        "\n",
        "validateCard(date(2030, 2, 2))\n",
        "validateCard(date(2020, 2, 2))"
      ],
      "metadata": {
        "colab": {
          "base_uri": "https://localhost:8080/"
        },
        "id": "TCz148elpw4Y",
        "outputId": "c734c941-d472-4974-fb59-4de3ddd0cc1c"
      },
      "execution_count": 21,
      "outputs": [
        {
          "output_type": "stream",
          "name": "stdout",
          "text": [
            "Valid\n",
            "expired\n"
          ]
        }
      ]
    },
    {
      "cell_type": "markdown",
      "source": [
        "## 212. Project Management Usecase\n",
        "- Apply OOP knowledge and use different datatypes including date\n",
        "- Create three different classes 'Project', 'Task' & 'Resource' for a project management software\n",
        "- This project management software can be used by construction, software companies, hospitals to manage their projects\n"
      ],
      "metadata": {
        "id": "skfWUtl1qrl_"
      }
    },
    {
      "cell_type": "code",
      "source": [
        "# projectmanagement.py\n",
        "from datetime import date\n",
        "\n",
        "class Project:\n",
        "    def __init__(self, name, startDate, endDate):\n",
        "        self.name = name\n",
        "        self.startDate = startDate\n",
        "        self.endDate = endDate\n",
        "        self.tasks = []\n",
        "    def addTask(self, task):\n",
        "        self.tasks.append(task)\n",
        "\n",
        "class Task:\n",
        "    def __init__(self, name, duration):\n",
        "        self.name = name\n",
        "        self.duration = duration\n",
        "        self.resources = []\n",
        "    def addResource(self, resource):\n",
        "        self.resources.append(resource)\n",
        "\n",
        "class Resource:\n",
        "    def __init__(self, name, skill):\n",
        "        self.name = name\n",
        "        self.skill = skill\n",
        "\n",
        "project = Project(\"AI\", date(2021, 1, 1), date(2021, 1, 1))\n",
        "task = Task(\"Creating a Bot\", 90)\n",
        "resource = Resource(\"John\", \"Python\")\n",
        "task.addResource(resource)\n",
        "project.addTask(task)\n",
        "\n",
        "for eachTask in project.tasks:\n",
        "    print(\"Task Name:\", eachTask.name)\n",
        "    for eachResource in eachTask.resources:\n",
        "        print(\"Resource Name:\", eachResource.name)\n",
        "        print(\"Resource Skill:\", eachResource.skill)"
      ],
      "metadata": {
        "colab": {
          "base_uri": "https://localhost:8080/"
        },
        "id": "2_h-O25SqZjG",
        "outputId": "e0878f7b-b0b6-468a-8f1f-47ab5cc3e424"
      },
      "execution_count": 22,
      "outputs": [
        {
          "output_type": "stream",
          "name": "stdout",
          "text": [
            "Task Name: Creating a Bot\n",
            "Resource Name: John\n",
            "Resource Skill: Python\n"
          ]
        }
      ]
    },
    {
      "cell_type": "markdown",
      "source": [
        "## Assignment 12: Date Time and Classes\n",
        "- Create an event management application which will allow end users to create & manage events, which can be sports events, gamikng events, music events or a family function\n",
        "- Create three classes\n",
        "    - Event\n",
        "        - startTime, endTime, venue\n",
        "    - Venue\n",
        "        - name, address\n",
        "    - Address\n",
        "        - street, city, state, country\n",
        "- Event class uses the Venue class, and Venue class uses the Address class\n",
        "- Create an object of Event class and display all the details to the console"
      ],
      "metadata": {
        "id": "1JYDTWiyxRfu"
      }
    },
    {
      "cell_type": "code",
      "source": [
        "# DateTimeAndClasses.py\n",
        "import time\n",
        "class Event:\n",
        "    def __init__(self, startTime, endTime, name, street, city, state, country):\n",
        "        self.startTime = startTime\n",
        "        self.endTime = endTime\n",
        "        self.venue = Venue(name, street, city, state, country)\n",
        "    # def setVenue(self, name, street, city, state, country):\n",
        "    #     self.venue = Venue(name)\n",
        "    #     venue.setAddress(street, city, state, country)\n",
        "    def __str__(self):\n",
        "        return f'Event:\\n Start Time: {self.startTime}\\n End Time  : {self.endTime}\\n  Venue:\\t{self.venue}'\n",
        "\n",
        "class Venue:\n",
        "    def __init__(self, name, street, city, state, country):\n",
        "        self.name = name\n",
        "        self.address = Address(street, city, state, country)\n",
        "    # def setAddress(self, street, city, state, country):\n",
        "    #     self.address = Address(street, city, state, country)\n",
        "    def __str__(self):\n",
        "        return f'  Name: {self.name}\\n    Address:\\t\\t{self.address}'\n",
        "        # return f'Venue Name: {self.name}'\n",
        "\n",
        "class Address:\n",
        "    def __init__(self, street, city, state, country):\n",
        "        self.street = street\n",
        "        self.city = city\n",
        "        self.state = state\n",
        "        self.country = country\n",
        "    def __str__(self):\n",
        "        # return f'Street: {self.street}, City: {self.city}, State: {self.state}, Country: {self.country}'\n",
        "        return f'{self.street}, {self.city}, {self.state}, {self.country}'\n",
        "\n",
        "event = Event(time.ctime(time.time()), time.ctime(time.time()+60), \"HoneyBee\", \"Downing St\", \"Salt Lake City\", \"West Bengal\", \"India\")\n",
        "print(event)"
      ],
      "metadata": {
        "colab": {
          "base_uri": "https://localhost:8080/"
        },
        "id": "JO65L7xlu3me",
        "outputId": "34ad7089-9014-434c-c01a-0574e8f94fdb"
      },
      "execution_count": 23,
      "outputs": [
        {
          "output_type": "stream",
          "name": "stdout",
          "text": [
            "Event:\n",
            " Start Time: Fri Jan 19 23:59:45 2024\n",
            " End Time  : Sat Jan 20 00:00:45 2024\n",
            "  Venue:\t  Name: HoneyBee\n",
            "    Address:\t\tDowning St, Salt Lake City, West Bengal, India\n"
          ]
        }
      ]
    },
    {
      "cell_type": "code",
      "source": [],
      "metadata": {
        "id": "OrsXG5X98Sde"
      },
      "execution_count": 23,
      "outputs": []
    }
  ]
}