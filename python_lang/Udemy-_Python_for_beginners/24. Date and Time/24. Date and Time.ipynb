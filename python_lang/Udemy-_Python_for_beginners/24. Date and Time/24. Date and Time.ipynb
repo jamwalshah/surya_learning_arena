{
  "nbformat": 4,
  "nbformat_minor": 0,
  "metadata": {
    "colab": {
      "provenance": [],
      "toc_visible": true
    },
    "kernelspec": {
      "name": "python3",
      "display_name": "Python 3"
    },
    "language_info": {
      "name": "python"
    }
  },
  "cells": [
    {
      "cell_type": "markdown",
      "source": [
        "## 204. Date and Time\n",
        "- Epoch in computers means the time in seconds since start of time\n",
        "    - note that on UNIX machines, start of time means Jan 1st, 1970\n",
        "- calculate the given date & time\n",
        "    - ```time.ctime()``` from ```time``` module\n",
        "    - ```datetime.datetime``` classes & objects from ``` datetime``` module\n",
        "- Access the current system's date & time\n",
        "- Combine the date & time by providing a date & a time to create a datetime object\n",
        "- Compare dates & times\n",
        "- Push the system to sleep using ```sleep()``` from ```datetime``` module\n",
        "- Do perfromance test to check how long python program is taking to execute by using inbuilt functions like ```perf_counter()```"
      ],
      "metadata": {
        "id": "PRlRgG9mY9vz"
      }
    },
    {
      "cell_type": "markdown",
      "source": [
        "## 205. Time since epoch\n",
        "- ```time.time()```\n",
        "    - returns seconds since start of time (otherwise called epoch)\n",
        "- ```time.ctime(seconds)```\n",
        "    - returns a string for time in local format containing date & time"
      ],
      "metadata": {
        "id": "X3JS2_p7hucf"
      }
    },
    {
      "cell_type": "code",
      "execution_count": 1,
      "metadata": {
        "colab": {
          "base_uri": "https://localhost:8080/"
        },
        "id": "lNg8AasWY2i4",
        "outputId": "4eca5ac9-e16e-4679-abc8-67ef11d665fc"
      },
      "outputs": [
        {
          "output_type": "stream",
          "name": "stdout",
          "text": [
            "1705601788.4239724\n"
          ]
        }
      ],
      "source": [
        "# dateandtime\n",
        "# dtdemo.py\n",
        "import time\n",
        "epochseconds = time.time() # returns epoch in float\n",
        "# print(type(epochseconds))\n",
        "print(epochseconds)"
      ]
    },
    {
      "cell_type": "code",
      "source": [
        "t = time.ctime(epochseconds) # returns a string for time in local format containing date & time\n",
        "# print(type(t))\n",
        "print(t)"
      ],
      "metadata": {
        "colab": {
          "base_uri": "https://localhost:8080/"
        },
        "id": "aikMchqVivCx",
        "outputId": "ce08c5f4-709f-42bf-b803-ff299c680258"
      },
      "execution_count": 2,
      "outputs": [
        {
          "output_type": "stream",
          "name": "stdout",
          "text": [
            "Thu Jan 18 23:46:28 2024\n"
          ]
        }
      ]
    },
    {
      "cell_type": "markdown",
      "source": [
        "## 206. Finding the current date and time\n",
        "- ```datetime``` module makes easier to retrieve time & dates, and play around with it\n",
        "- ```datetime.datetime.today()```\n",
        "    - returns datetime object representing current date & time\n",
        "- ```datetime.datetime.day``` : represents day of month in number\n",
        "- ```datetime.datetime.month``` : represents month in number\n",
        "- ```datetime.datetime.year``` : represents year in YYYY format\n",
        "- ```datetime.datetime.hour``` : represents hour value in datetime.datetime object\n",
        "- ```datetime.datetime.minute``` : represents minute value in datetime.datetime object\n",
        "- ```datetime.datetime.second``` : represents seconds value in datetime.datetime object"
      ],
      "metadata": {
        "id": "SFfEWci-kOZ8"
      }
    },
    {
      "cell_type": "code",
      "source": [
        "import datetime\n",
        "\n",
        "dt = datetime.datetime.today()\n",
        "print(type(dt))\n",
        "print(dt)"
      ],
      "metadata": {
        "colab": {
          "base_uri": "https://localhost:8080/"
        },
        "id": "EB70-ro6jcO5",
        "outputId": "03ed9004-d05b-41cf-a94c-ec30def28dc9"
      },
      "execution_count": 3,
      "outputs": [
        {
          "output_type": "stream",
          "name": "stdout",
          "text": [
            "<class 'datetime.datetime'>\n",
            "2024-01-18 23:46:30.785739\n"
          ]
        }
      ]
    },
    {
      "cell_type": "code",
      "source": [
        "print(\"Current Date: {}/{}/{}\".format(dt.day, dt.month, dt.year))"
      ],
      "metadata": {
        "colab": {
          "base_uri": "https://localhost:8080/"
        },
        "id": "N56frH-qZgjH",
        "outputId": "a5a1a21f-f91a-40fc-d718-528b9020d919"
      },
      "execution_count": 4,
      "outputs": [
        {
          "output_type": "stream",
          "name": "stdout",
          "text": [
            "Current Date: 18/1/2024\n"
          ]
        }
      ]
    },
    {
      "cell_type": "code",
      "source": [
        "print(\"Current Time: {}:{}:{}\".format(dt.hour, dt.minute, dt.second))"
      ],
      "metadata": {
        "colab": {
          "base_uri": "https://localhost:8080/"
        },
        "id": "cnKNreh_bp_e",
        "outputId": "23d52e5e-7407-4863-8252-4500ea5a8edc"
      },
      "execution_count": 5,
      "outputs": [
        {
          "output_type": "stream",
          "name": "stdout",
          "text": [
            "Current Time: 23:46:30\n"
          ]
        }
      ]
    },
    {
      "cell_type": "markdown",
      "source": [
        "## 207. Combining Date and Time\n",
        "- We can create the date and time object separately and combine then to one single datetime object\n",
        "- ```date(year, month, day)```\n",
        "    - returns a ```datetime.date``` object\n",
        " - ```time([hour[, minute[, second[, microsecond[, tzinfo]]]]])```\n",
        "    - retuns a ```date.time``` object"
      ],
      "metadata": {
        "id": "4I8rj5ncgwDV"
      }
    },
    {
      "cell_type": "code",
      "source": [
        "# combinedateandtime.py\n",
        "from datetime import *\n",
        "d = date(2018, 7, 21) # create date object\n",
        "# print(type(d))\n",
        "t = time(12, 45) # create time object\n",
        "# print(type(t))\n",
        "dt = datetime.combine(d, t) # combine date & time object\n",
        "# print(type(dt))\n",
        "print(dt)"
      ],
      "metadata": {
        "colab": {
          "base_uri": "https://localhost:8080/"
        },
        "id": "oTl61elGdprL",
        "outputId": "c5a1ea8e-79bc-4888-91b2-20deb862420f"
      },
      "execution_count": 6,
      "outputs": [
        {
          "output_type": "stream",
          "name": "stdout",
          "text": [
            "2018-07-21 12:45:00\n"
          ]
        }
      ]
    },
    {
      "cell_type": "markdown",
      "source": [
        "## 208. Sorting Dates\n",
        "- Add a bunch of dates to a list and sort using sort method available in list"
      ],
      "metadata": {
        "id": "i1OR5A-WeCJx"
      }
    },
    {
      "cell_type": "code",
      "source": [
        "# sortdates.py\n",
        "from datetime import date\n",
        "ldates = []\n",
        "\n",
        "d1 = date(2016, 8, 12)\n",
        "d2 = date(2018, 7, 12)\n",
        "d3 = date(2018, 8, 12)\n",
        "\n",
        "ldates.append(d1)\n",
        "ldates.append(d2)\n",
        "ldates.append(d3)\n",
        "\n",
        "ldates.sort()\n",
        "\n",
        "for d in ldates:\n",
        "    print(d)"
      ],
      "metadata": {
        "colab": {
          "base_uri": "https://localhost:8080/"
        },
        "id": "uLEVQdVqcuCU",
        "outputId": "42b5d07e-f7b2-49e1-ff85-bdb79d586cbc"
      },
      "execution_count": 7,
      "outputs": [
        {
          "output_type": "stream",
          "name": "stdout",
          "text": [
            "2016-08-12\n",
            "2018-07-12\n",
            "2018-08-12\n"
          ]
        }
      ]
    },
    {
      "cell_type": "markdown",
      "source": [
        "## 209. sleep()\n",
        "- ```time.sleep()``` temporarily halt your program or temporarily send your program into sleep"
      ],
      "metadata": {
        "id": "yd6jjZEpw0Ld"
      }
    },
    {
      "cell_type": "code",
      "source": [
        "from datetime import date\n",
        "import time\n",
        "\n",
        "ldates = []\n",
        "\n",
        "d1 = date(2016, 8, 12)\n",
        "d2 = date(2018, 7, 12)\n",
        "d3 = date(2018, 8, 12)\n",
        "\n",
        "ldates.append(d1)\n",
        "ldates.append(d2)\n",
        "ldates.append(d3)\n",
        "\n",
        "ldates.sort()\n",
        "\n",
        "time.sleep(3) # send program into sleep for 3 seconds\n",
        "\n",
        "for d in ldates:\n",
        "    print(d)\n",
        "time.sleep(3)"
      ],
      "metadata": {
        "colab": {
          "base_uri": "https://localhost:8080/"
        },
        "id": "CzAOAR2Cwdqe",
        "outputId": "dc5e38cd-3aee-45a6-e6f2-d1a3c61a7949"
      },
      "execution_count": 8,
      "outputs": [
        {
          "output_type": "stream",
          "name": "stdout",
          "text": [
            "2016-08-12\n",
            "2018-07-12\n",
            "2018-08-12\n"
          ]
        }
      ]
    },
    {
      "cell_type": "markdown",
      "source": [
        "## 210. Knowing the execution time of a program\n",
        "-"
      ],
      "metadata": {
        "id": "iGwcyHYiyLKW"
      }
    },
    {
      "cell_type": "code",
      "source": [],
      "metadata": {
        "id": "KBMFGK3cxkaM"
      },
      "execution_count": 8,
      "outputs": []
    }
  ]
}