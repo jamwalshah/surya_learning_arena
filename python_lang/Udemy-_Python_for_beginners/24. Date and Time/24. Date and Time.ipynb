{
  "nbformat": 4,
  "nbformat_minor": 0,
  "metadata": {
    "colab": {
      "provenance": [],
      "toc_visible": true
    },
    "kernelspec": {
      "name": "python3",
      "display_name": "Python 3"
    },
    "language_info": {
      "name": "python"
    }
  },
  "cells": [
    {
      "cell_type": "markdown",
      "source": [
        "## 204. Date and Time\n",
        "- Epoch in computers means the time in seconds since start of time\n",
        "    - note that on UNIX machines, start of time means Jan 1st, 1970\n",
        "- calculate the given date & time\n",
        "    - ```time.ctime()``` from ```time``` module\n",
        "    - ```datetime.datetime``` classes & objects from ``` datetime``` module\n",
        "- Access the current system's date & time\n",
        "- Combine the date & time by providing a date & a time to create a datetime object\n",
        "- Compare dates & times\n",
        "- Push the system to sleep using ```sleep()``` from ```datetime``` module\n",
        "- Do perfromance test to check how long python program is taking to execute by using inbuilt functions like ```perf_counter()```"
      ],
      "metadata": {
        "id": "PRlRgG9mY9vz"
      }
    },
    {
      "cell_type": "markdown",
      "source": [
        "## 205. Time since epoch\n",
        "- ```time.time()```\n",
        "    - returns seconds since start of time (otherwise called epoch)\n",
        "- ```time.ctime(seconds)```\n",
        "    - returns a string for time in local format containing date & time"
      ],
      "metadata": {
        "id": "X3JS2_p7hucf"
      }
    },
    {
      "cell_type": "code",
      "execution_count": 1,
      "metadata": {
        "colab": {
          "base_uri": "https://localhost:8080/"
        },
        "id": "lNg8AasWY2i4",
        "outputId": "c70e757d-b5d6-41a5-ea35-32e89aac18c3"
      },
      "outputs": [
        {
          "output_type": "stream",
          "name": "stdout",
          "text": [
            "1705496633.618682\n"
          ]
        }
      ],
      "source": [
        "# dateandtime\n",
        "# dtdemo.py\n",
        "import time\n",
        "epochseconds = time.time() # returns epoch in float\n",
        "# print(type(epochseconds))\n",
        "print(epochseconds)"
      ]
    },
    {
      "cell_type": "code",
      "source": [
        "t = time.ctime(epochseconds) # returns a string for time in local format containing date & time\n",
        "# print(type(t))\n",
        "print(t)"
      ],
      "metadata": {
        "colab": {
          "base_uri": "https://localhost:8080/"
        },
        "id": "aikMchqVivCx",
        "outputId": "49c7a7b6-ec7a-4cff-c15b-469d92f669dd"
      },
      "execution_count": 2,
      "outputs": [
        {
          "output_type": "stream",
          "name": "stdout",
          "text": [
            "Wed Jan 17 18:33:53 2024\n"
          ]
        }
      ]
    },
    {
      "cell_type": "markdown",
      "source": [
        "## 206. Finding the current date and time\n",
        "- ```datetime``` module makes easier to retrieve time & dates, and play around with it\n",
        "- ```datetime.datetime.today()```\n",
        "    - returns datetime object representing current date & time\n",
        "- ```datetime.datetime.day``` : represents day of month in number\n",
        "- ```datetime.datetime.month``` : represents month in number\n",
        "- ```datetime.datetime.year``` : represents year in YYYY format\n",
        "- ```datetime.datetime.hour``` : represents hour value in datetime.datetime object\n",
        "- ```datetime.datetime.minute``` : represents minute value in datetime.datetime object\n",
        "- ```datetime.datetime.second``` : represents seconds value in datetime.datetime object"
      ],
      "metadata": {
        "id": "SFfEWci-kOZ8"
      }
    },
    {
      "cell_type": "code",
      "source": [
        "import datetime\n",
        "\n",
        "dt = datetime.datetime.today()\n",
        "print(type(dt))\n",
        "print(dt)"
      ],
      "metadata": {
        "colab": {
          "base_uri": "https://localhost:8080/"
        },
        "id": "EB70-ro6jcO5",
        "outputId": "623aec2a-e4ff-494f-88e1-a75ea4b24ec6"
      },
      "execution_count": 3,
      "outputs": [
        {
          "output_type": "stream",
          "name": "stdout",
          "text": [
            "<class 'datetime.datetime'>\n",
            "2024-01-17 18:33:54.966453\n"
          ]
        }
      ]
    },
    {
      "cell_type": "code",
      "source": [
        "print(\"Current Date: {}/{}/{}\".format(dt.day, dt.month, dt.year))"
      ],
      "metadata": {
        "colab": {
          "base_uri": "https://localhost:8080/"
        },
        "id": "N56frH-qZgjH",
        "outputId": "c2b66598-9f63-4bdb-fc2b-df38a978202f"
      },
      "execution_count": 4,
      "outputs": [
        {
          "output_type": "stream",
          "name": "stdout",
          "text": [
            "Current Date: 17/1/2024\n"
          ]
        }
      ]
    },
    {
      "cell_type": "code",
      "source": [
        "print(\"Current Time: {}:{}:{}\".format(dt.hour, dt.minute, dt.second))"
      ],
      "metadata": {
        "colab": {
          "base_uri": "https://localhost:8080/"
        },
        "id": "cnKNreh_bp_e",
        "outputId": "1d432def-fc4a-4c45-bce1-5b50ff04fe74"
      },
      "execution_count": 5,
      "outputs": [
        {
          "output_type": "stream",
          "name": "stdout",
          "text": [
            "Current Time: 18:33:54\n"
          ]
        }
      ]
    },
    {
      "cell_type": "markdown",
      "source": [
        "## 207. Combining Date and Time\n",
        "-"
      ],
      "metadata": {
        "id": "4I8rj5ncgwDV"
      }
    },
    {
      "cell_type": "code",
      "source": [],
      "metadata": {
        "id": "oTl61elGdprL"
      },
      "execution_count": 5,
      "outputs": []
    },
    {
      "cell_type": "code",
      "source": [],
      "metadata": {
        "id": "uLEVQdVqcuCU"
      },
      "execution_count": 5,
      "outputs": []
    }
  ]
}