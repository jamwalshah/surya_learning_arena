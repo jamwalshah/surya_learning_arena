{
  "nbformat": 4,
  "nbformat_minor": 0,
  "metadata": {
    "colab": {
      "provenance": [],
      "toc_visible": true
    },
    "kernelspec": {
      "name": "python3",
      "display_name": "Python 3"
    },
    "language_info": {
      "name": "python"
    }
  },
  "cells": [
    {
      "cell_type": "markdown",
      "source": [
        "##  157. Inheritance\n",
        "- Inheritance is the process of defining new object with the help of an existing object\n",
        "- Example:\n",
        "    - iPhone X has some functionality\n",
        "    - next release iPhone X+ will have some existing features same as iPhone X, but it will have some new added features\n",
        "- Two key principles are\n",
        "    1. Accessing the existing object's functionality\n",
        "    2. Updating the existing obkect's functionality int the newer/inherited object\n",
        "- Main features are\n",
        "    1. Re-Usability\n",
        "        - common properties can be put in parent class and then reused in child classs\n",
        "        - car class can be inherited by BMW and Audi\n",
        "        - bus class can be inherited by Volvo and Benz\n",
        "    2. IS-A relation\n",
        "        - defines the type of relationship inheritance exhibits\n",
        "        - BMW IS-A car, Audi IS-A car\n",
        "        - Volvo IS-A bus, Benz IS-A bus\n",
        "        - car IS-A vehicle, bus IS-A vehicle"
      ],
      "metadata": {
        "id": "e-llxb10EKBq"
      }
    },
    {
      "cell_type": "markdown",
      "source": [
        "## 158. Inheritance in action\n",
        "- Define a class called 'BMW' with 'make', 'model' & 'year' as fields in it, and then define two more classes which will inherit all these fields from class 'BMW'.\n",
        "- Inherited classes 'ThreeSeries' & 'FiveSeries' will define their own fields called 'cruiseControlEnabled' & 'parkingAssistEnabled' respectively\n",
        "- 'ThreeSeries' & 'FiveSeries' are the child classes of 'BMW'\n",
        "- Tow inherit a class in python, no keyword is required, simply mention the parent class in brackets with child class"
      ],
      "metadata": {
        "id": "l7wtiDjcKsWB"
      }
    },
    {
      "cell_type": "code",
      "execution_count": 11,
      "metadata": {
        "colab": {
          "base_uri": "https://localhost:8080/"
        },
        "id": "OdXYqYIvEGZT",
        "outputId": "e4bef552-03e4-43f5-e5c8-e93a676b6a76"
      },
      "outputs": [
        {
          "output_type": "stream",
          "name": "stdout",
          "text": [
            "True\n",
            "BMW\n",
            "328i\n",
            "2018\n"
          ]
        }
      ],
      "source": [
        "# inheritance\n",
        "# bmw.py\n",
        "class BMW:\n",
        "    def __init__(self, make, model, year):\n",
        "        self.make = make\n",
        "        self.model = model\n",
        "        self.year = year\n",
        "\n",
        "class ThreeSeries(BMW):\n",
        "    def __init__(self, cruiseControlEnabled, make, model, year):\n",
        "        BMW.__init__(self, make, model, year) # first line in constructor of child class is call to constructor of parent class\n",
        "        self.cruiseControlEnabled = cruiseControlEnabled\n",
        "\n",
        "class FiveSeries(BMW):\n",
        "    def __init__(self, parkingAssistEnabled, make, model, year):\n",
        "        BMW.__init__(self, make, model, year)\n",
        "        self.parkingAssistEnabled = parkingAssistEnabled\n",
        "\n",
        "threeSeries = ThreeSeries(True, \"BMW\", \"328i\", \"2018\") # object of child class\n",
        "print(threeSeries.cruiseControlEnabled)\n",
        "print(threeSeries.make)\n",
        "print(threeSeries.model)\n",
        "print(threeSeries.year)\n",
        "\n",
        "# fiveSeries = FiveSeries(True, \"BMW\", \"535i\", \"2018\") # object of child class\n",
        "# print(fiveSeries.parkingAssistEnabled)\n",
        "# print(fiveSeries.make)\n",
        "# print(fiveSeries.model)\n",
        "# print(fiveSeries.year)"
      ]
    },
    {
      "cell_type": "markdown",
      "source": [
        "## 159. Inheriting Functionality\n",
        "- Inherit methods/functionality from a parent class\n",
        "- child classes can define their own functionality"
      ],
      "metadata": {
        "id": "G2MKIbg5agdE"
      }
    },
    {
      "cell_type": "code",
      "source": [
        "class BMW:\n",
        "    def __init__(self, make, model, year):\n",
        "        self.make = make\n",
        "        self.model = model\n",
        "        self.year = year\n",
        "    def start(self):\n",
        "        print(\"Starting the Car\")\n",
        "    def stop(self):\n",
        "        print(\"Stopping the car\")\n",
        "\n",
        "class ThreeSeries(BMW):\n",
        "    def __init__(self, cruiseControlEnabled, make, model, year):\n",
        "        BMW.__init__(self, make, model, year)\n",
        "        self.cruiseControlEnabled = cruiseControlEnabled\n",
        "    def display(self): # display() method is available only for ThreeSeries class, not in parent class\n",
        "        print(self.cruiseControlEnabled)\n",
        "\n",
        "class FiveSeries(BMW):\n",
        "    def __init__(self, parkingAssistEnabled, make, model, year):\n",
        "        BMW.__init__(self, make, model, year)\n",
        "        self.parkingAssistEnabled = parkingAssistEnabled\n",
        "\n",
        "threeSeries = ThreeSeries(True, \"BMW\", \"328i\", \"2018\")\n",
        "print(threeSeries.cruiseControlEnabled)\n",
        "print(threeSeries.make)\n",
        "print(threeSeries.model)\n",
        "print(threeSeries.year)\n",
        "threeSeries.start()\n",
        "threeSeries.stop()\n",
        "threeSeries.display()\n",
        "\n",
        "# fiveSeries = FiveSeries(True, \"BMW\", \"535i\", \"2018\") # object of child class\n",
        "# print(fiveSeries.parkingAssistEnabled)\n",
        "# print(fiveSeries.make)\n",
        "# print(fiveSeries.model)\n",
        "# print(fiveSeries.year)"
      ],
      "metadata": {
        "colab": {
          "base_uri": "https://localhost:8080/"
        },
        "id": "84RwVUUsWlfv",
        "outputId": "a7289724-8abe-462c-c131-45462ef37683"
      },
      "execution_count": 12,
      "outputs": [
        {
          "output_type": "stream",
          "name": "stdout",
          "text": [
            "True\n",
            "BMW\n",
            "328i\n",
            "2018\n",
            "Starting the Car\n",
            "Stopping the car\n",
            "True\n"
          ]
        }
      ]
    },
    {
      "cell_type": "markdown",
      "source": [
        "## 160. Overriding\n",
        "- Sometimes child classes need to use exactly same method name as in parent class, but provide a different functionality\n",
        "- Overriding :\n",
        "    - shadowing the functionality of parent class by implementing the method with same exact function name/signature but with different functionality in the child class"
      ],
      "metadata": {
        "id": "oQQf00XKeUJp"
      }
    },
    {
      "cell_type": "code",
      "source": [
        "class BMW:\n",
        "    def __init__(self, make, model, year):\n",
        "        self.make = make\n",
        "        self.model = model\n",
        "        self.year = year\n",
        "    def start(self):\n",
        "        print(\"Starting the Car\")\n",
        "    def stop(self):\n",
        "        print(\"Stopping the car\")\n",
        "\n",
        "class ThreeSeries(BMW):\n",
        "    def __init__(self, cruiseControlEnabled, make, model, year):\n",
        "        BMW.__init__(self, make, model, year)\n",
        "        self.cruiseControlEnabled = cruiseControlEnabled\n",
        "    def display(self): # display() method is available only for ThreeSeries class, not in parent class\n",
        "        print(self.cruiseControlEnabled)\n",
        "    def start(self): # overrideen method, provides a new functionality in method with same name\n",
        "        print(\"Button Start\")\n",
        "\n",
        "class FiveSeries(BMW):\n",
        "    def __init__(self, parkingAssistEnabled, make, model, year):\n",
        "        BMW.__init__(self, make, model, year)\n",
        "        self.parkingAssistEnabled = parkingAssistEnabled\n",
        "\n",
        "threeSeries = ThreeSeries(True, \"BMW\", \"328i\", \"2018\")\n",
        "print(threeSeries.cruiseControlEnabled)\n",
        "print(threeSeries.make)\n",
        "print(threeSeries.model)\n",
        "print(threeSeries.year)\n",
        "threeSeries.start()\n",
        "threeSeries.stop()\n",
        "threeSeries.display()\n",
        "\n",
        "# fiveSeries = FiveSeries(True, \"BMW\", \"535i\", \"2018\") # object of child class\n",
        "# print(fiveSeries.parkingAssistEnabled)\n",
        "# print(fiveSeries.make)\n",
        "# print(fiveSeries.model)\n",
        "# print(fiveSeries.year)"
      ],
      "metadata": {
        "colab": {
          "base_uri": "https://localhost:8080/"
        },
        "id": "Ub0rGpe4a2ar",
        "outputId": "756ed2a6-0e18-4485-f0dc-43ccd5f89c5e"
      },
      "execution_count": 16,
      "outputs": [
        {
          "output_type": "stream",
          "name": "stdout",
          "text": [
            "True\n",
            "BMW\n",
            "328i\n",
            "2018\n",
            "Button Start\n",
            "Stopping the car\n",
            "True\n"
          ]
        }
      ]
    },
    {
      "cell_type": "markdown",
      "source": [
        "## 161. Using super()\n",
        "-"
      ],
      "metadata": {
        "id": "w8VAHOlDg835"
      }
    },
    {
      "cell_type": "code",
      "source": [],
      "metadata": {
        "id": "1UL8jYQlfvsR"
      },
      "execution_count": 16,
      "outputs": []
    }
  ]
}