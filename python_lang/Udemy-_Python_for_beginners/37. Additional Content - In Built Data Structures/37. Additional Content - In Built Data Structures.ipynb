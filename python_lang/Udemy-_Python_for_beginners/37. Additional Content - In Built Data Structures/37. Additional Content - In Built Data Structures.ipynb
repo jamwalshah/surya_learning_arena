{
  "nbformat": 4,
  "nbformat_minor": 0,
  "metadata": {
    "colab": {
      "provenance": [],
      "toc_visible": true
    },
    "kernelspec": {
      "name": "python3",
      "display_name": "Python 3"
    },
    "language_info": {
      "name": "python"
    }
  },
  "cells": [
    {
      "cell_type": "markdown",
      "source": [
        "## 326. Introduction\n",
        "- You'll be using two data structure classes which are in-built into python namely `Queue` and `LifoQueue`\n",
        "- `Queue` is a First-In-First-Out data structure\n",
        "    - You can use `put()` method and add elements to the queue\n",
        "    - And, you can retrieve the elements using the `get()` method in the same order in which you have added, i.e. First-In-First-Out\n",
        "    - When the `get()` method is invoked, it'll return the element and remove the element from the queue as well\n",
        "- `LifoQueue` is like a stack data structure\n",
        "    - `LIFO` stands for Last-In-First-Out\n",
        "    - It'll be reverse order in which the elements will be retrieved\n",
        "    - When you invoke the `get()` method, it is like `pop` operation, and you'll get the elements in reverse order\n",
        "    - The `put()` method is like a `push` operation"
      ],
      "metadata": {
        "id": "euxR__GckVt2"
      }
    },
    {
      "cell_type": "markdown",
      "source": [
        "## 327. Queue\n",
        "- We'll use the in-built `Queue` data structure\n",
        "- `queue.Queue.put(item, block=True, timeout=None)`\n",
        "    - Put an item into the queue.\n",
        "- `queue.Queue.get(block=True, timeout=None)`\n",
        "    - Remove and return an item from the queue.\n",
        "- `queue.Queue.qsize()`\n",
        "    - Return the approximate size of the queue (not reliable!)."
      ],
      "metadata": {
        "id": "PGa5NHuBmR3Z"
      }
    },
    {
      "cell_type": "code",
      "execution_count": 1,
      "metadata": {
        "colab": {
          "base_uri": "https://localhost:8080/"
        },
        "id": "bInk383djtaU",
        "outputId": "ad9050e5-86a6-4008-82fa-29224cfa9388"
      },
      "outputs": [
        {
          "output_type": "stream",
          "name": "stdout",
          "text": [
            "q.qsize(): 4\n",
            "Python\n",
            "Django\n",
            "DRF\n",
            "Docker for Django\n",
            "q.qsize(): 0\n"
          ]
        }
      ],
      "source": [
        "# queuedemo.py\n",
        "import queue\n",
        "\n",
        "q = queue.Queue() # create object of Queue\n",
        "q.put(\"Python\") # adding items to queue\n",
        "q.put(\"Django\")\n",
        "q.put(\"DRF\")\n",
        "q.put(\"Docker for Django\")\n",
        "\n",
        "print(\"q.qsize():\", q.qsize()) # returns the approximate size of queue\n",
        "\n",
        "while not q.empty():\n",
        "    print(q.get()) # remove item in FIFO\n",
        "\n",
        "print(\"q.qsize():\", q.qsize()) # returns the approximate size of queue"
      ]
    },
    {
      "cell_type": "markdown",
      "source": [
        "## 328. More Queue Methods\n",
        "- You'll learn a couple more things about `queue.Queue` class\n",
        "- `queue.Queue.queue`\n",
        "    - `queue` attribute returns the list representation in form of deque object\n",
        "    - internally, `queue.Queue` class implements `dequeue` class, so it returns a `deque` object\n",
        "- `queue.Queue.queue.clear()`\n",
        "    - clears all the elements of the queue"
      ],
      "metadata": {
        "id": "zcV8TCmMtmot"
      }
    },
    {
      "cell_type": "code",
      "source": [
        "import queue\n",
        "\n",
        "q = queue.Queue() # create object of Queue\n",
        "q.put(\"Python\") # adding items to queue\n",
        "q.put(\"Django\")\n",
        "q.put(\"DRF\")\n",
        "q.put(\"Docker for Django\")\n",
        "\n",
        "print(\"q.queue:\", q.queue) # queue attribute returns the list representation in form of deque object\n",
        "\n",
        "print(\"q.qsize():\", q.qsize()) # returns the approximate size of queue\n",
        "\n",
        "while not q.empty():\n",
        "    print(q.get()) # remove item in FIFO\n",
        "\n",
        "print(\"q.qsize():\", q.qsize()) # returns the approximate size of queue"
      ],
      "metadata": {
        "colab": {
          "base_uri": "https://localhost:8080/"
        },
        "id": "QBYnByzVslAQ",
        "outputId": "20dd3ea9-7b2a-4aea-c7f6-52c98ca4d818"
      },
      "execution_count": 2,
      "outputs": [
        {
          "output_type": "stream",
          "name": "stdout",
          "text": [
            "q.queue: deque(['Python', 'Django', 'DRF', 'Docker for Django'])\n",
            "q.qsize(): 4\n",
            "Python\n",
            "Django\n",
            "DRF\n",
            "Docker for Django\n",
            "q.qsize(): 0\n"
          ]
        }
      ]
    },
    {
      "cell_type": "code",
      "source": [
        "import queue\n",
        "\n",
        "q = queue.Queue() # create object of Queue\n",
        "q.put(\"Python\") # adding items to queue\n",
        "q.put(\"Django\")\n",
        "q.put(\"DRF\")\n",
        "q.put(\"Docker for Django\")\n",
        "\n",
        "print(\"q.queue:\", q.queue) # queue attribute returns the list representation in form of deque object\n",
        "print(q.queue.clear()) # clears all the elements of the queue\n",
        "print(\"q.qsize():\", q.qsize()) # returns the approximate size of queue\n",
        "\n",
        "while not q.empty():\n",
        "    print(q.get()) # remove item in FIFO\n",
        "\n",
        "print(\"q.qsize():\", q.qsize()) # returns the approximate size of queue"
      ],
      "metadata": {
        "colab": {
          "base_uri": "https://localhost:8080/"
        },
        "id": "JM9VMAOvuqPO",
        "outputId": "2e577e23-aa99-49c9-89e4-33c348b18959"
      },
      "execution_count": 3,
      "outputs": [
        {
          "output_type": "stream",
          "name": "stdout",
          "text": [
            "q.queue: deque(['Python', 'Django', 'DRF', 'Docker for Django'])\n",
            "None\n",
            "q.qsize(): 0\n",
            "q.qsize(): 0\n"
          ]
        }
      ]
    },
    {
      "cell_type": "markdown",
      "source": [
        "## 329. LIFOQueue\n",
        "- You'll learn how to use the LIFO Queue data structure\n",
        "- it acts like a Stack\n",
        "- `queue.LifoQueue.put(item, block=True, timeout=None)`\n",
        "    - Put an item into the queue.\n",
        "- `queue.LifoQueue.queue`\n",
        "    - returns the internal representation of LifoQueue object\n",
        "- `queue.LifoQueue.get(block=True, timeout=None)`\n",
        "    - Remove and return an item from the queue.\n",
        "- `queue.LifoQueue.qsize()`\n",
        "    - Return the approximate size of the queue (not reliable!)."
      ],
      "metadata": {
        "id": "Rap6k52kvkZH"
      }
    },
    {
      "cell_type": "code",
      "source": [
        "# lifoqueuedemo.py\n",
        "import queue\n",
        "\n",
        "lq = queue.LifoQueue() # object og LifoQueue class\n",
        "lq.put(\"Devops\") # add elements to LifoQueue\n",
        "lq.put(\"Helm\")\n",
        "lq.put(\"React\")\n",
        "lq.put(\"Angular\")\n",
        "\n",
        "print(\"lq.queue:\", lq.queue)\n",
        "\n",
        "while not lq.empty():\n",
        "    print(lq.get()) # removes & returns LifoQueue in LIFO order\n",
        "\n",
        "print(\"lq.qsize():\", lq.qsize()) # prints size of queue"
      ],
      "metadata": {
        "colab": {
          "base_uri": "https://localhost:8080/"
        },
        "id": "cfmhZZqLvLr9",
        "outputId": "f6a94631-1932-4fbd-c9f5-6b01f93350cd"
      },
      "execution_count": 4,
      "outputs": [
        {
          "output_type": "stream",
          "name": "stdout",
          "text": [
            "lq.queue: ['Devops', 'Helm', 'React', 'Angular']\n",
            "Angular\n",
            "React\n",
            "Helm\n",
            "Devops\n",
            "lq.qsize(): 0\n"
          ]
        }
      ]
    },
    {
      "cell_type": "code",
      "source": [],
      "metadata": {
        "id": "yG50nqxewHhC"
      },
      "execution_count": 4,
      "outputs": []
    }
  ]
}