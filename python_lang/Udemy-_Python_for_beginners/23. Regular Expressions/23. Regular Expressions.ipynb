{
  "nbformat": 4,
  "nbformat_minor": 0,
  "metadata": {
    "colab": {
      "provenance": [],
      "toc_visible": true
    },
    "kernelspec": {
      "name": "python3",
      "display_name": "Python 3"
    },
    "language_info": {
      "name": "python"
    }
  },
  "cells": [
    {
      "cell_type": "markdown",
      "source": [
        "## 192. Introduction\n",
        "- Regular Expressions are\n",
        "    - also known as regex\n",
        "    - a bunch of characters or a pattern to\n",
        "        - search for a string within a string\n",
        "        - validate a string to see if it follows a given pattern\n",
        "- example\n",
        "    - validate en email address entered by user\n",
        "    - validate a password entered by user\n",
        "- we have ```re``` module in python for regular expressions, and it has many methods\n"
      ],
      "metadata": {
        "id": "mWQ9-EOJ28xS"
      }
    },
    {
      "cell_type": "markdown",
      "source": [
        "## 193. Sequence Characters\n",
        "- Regex syntax defines some special characters called sequence characters that we can use to match a single character in a given string\n",
        "- all the sequence characters start with backward slash ```\\```\n",
        "- example\n",
        "    - ```\\d``` : any digit 0-9\n",
        "    - ```\\D``` : any non-Digit\n",
        "    - ```\\s``` : white space\n",
        "    - ```\\S``` : non-white space\n",
        "    - ```\\w``` : any alpha-numeric characters, a-z, A-Z, & 0-9\n",
        "    - ```\\W``` : any non-alpha-numeric character\n",
        "    - ```\\b``` : space around words\n",
        "    - ```\\A``` : matches only at the start of the string\n",
        "    - ```\\Z``` : matches only at the end of the string"
      ],
      "metadata": {
        "id": "unE9OmWZ4kIb"
      }
    },
    {
      "cell_type": "markdown",
      "source": [
        "## 194. search()\n",
        "- Create a regular expression and use it in the ```search()``` method from ```re``` module\n",
        "- ```re.search(regex, string)```\n",
        "    - takes a regex and searches in the string\n",
        "    - returns the first substring within the string that matches the pattern in re.Match type\n",
        "    - if no match is found, it returns 'None'\n",
        "    - you can invoke ```result.group()``` to get the matching string from the result"
      ],
      "metadata": {
        "id": "VrLTPH545-ts"
      }
    },
    {
      "cell_type": "code",
      "execution_count": 1,
      "metadata": {
        "colab": {
          "base_uri": "https://localhost:8080/"
        },
        "id": "vzih-Zwd25Nd",
        "outputId": "78bfbac9-916d-42ad-8b4e-a4bc191d3f8d"
      },
      "outputs": [
        {
          "output_type": "stream",
          "name": "stdout",
          "text": [
            "one\n"
          ]
        }
      ],
      "source": [
        "# regularexpressions\n",
        "# redemo.py\n",
        "import re\n",
        "string = \"Take up one idea. One idea at a time\"\n",
        "result = re.search(r'o\\w\\w', string) # returns re.Match type\n",
        "# print(type(result))\n",
        "# print(result)\n",
        "print(result.group())"
      ]
    },
    {
      "cell_type": "code",
      "source": [
        "import re\n",
        "string = \"Take up one idea. One idea at a time\"\n",
        "result = re.search(r'o\\w', string)\n",
        "# print(type(result))\n",
        "# print(result)\n",
        "print(result.group())"
      ],
      "metadata": {
        "colab": {
          "base_uri": "https://localhost:8080/"
        },
        "id": "2Enr9RZs65MX",
        "outputId": "a61d4a02-7d66-4efb-b966-e32c4293a95e"
      },
      "execution_count": 2,
      "outputs": [
        {
          "output_type": "stream",
          "name": "stdout",
          "text": [
            "on\n"
          ]
        }
      ]
    },
    {
      "cell_type": "code",
      "source": [
        "import re\n",
        "string = \"Take up One idea. One idea at a time\" # Both O in One are uppercase\n",
        "result = re.search(r'o\\w', string) # returns a None when no match is found\n",
        "# print(type(result))\n",
        "print(result)\n",
        "# print(result.group())"
      ],
      "metadata": {
        "colab": {
          "base_uri": "https://localhost:8080/"
        },
        "id": "Z8tserbc_yA2",
        "outputId": "00f9889d-bef8-469b-90a6-b051c631cef1"
      },
      "execution_count": 3,
      "outputs": [
        {
          "output_type": "stream",
          "name": "stdout",
          "text": [
            "None\n"
          ]
        }
      ]
    },
    {
      "cell_type": "markdown",
      "source": [
        "## 195. findall() and match()\n",
        "- ```re.findall(regex, string)```\n",
        "    - takes a regex and searches the string for that pattern from beginning to the end\n",
        "    - it returns all the substrings that match the pattern as a list\n",
        "    - if none of the substrings in given string matches the pattern, it returns an empty list\n",
        "- ```re.match(regex, string)```\n",
        "    - takes a regex and searches for that pattern at the start of that string\n",
        "    - if it finds a match, it returns a substring\n",
        "    - if it does not find a match, it returns 'None'\n",
        "- ```re.Match.group()```\n",
        "    - returns subgroup(s) of match"
      ],
      "metadata": {
        "id": "wNvMPuxs6vmd"
      }
    },
    {
      "cell_type": "code",
      "source": [
        "import re\n",
        "string = \"Take up one idea. one idea at a time\"\n",
        "\n",
        "result = re.findall(r'o\\w\\w', string) # returns a list\n",
        "# print(type(result))\n",
        "print(result)"
      ],
      "metadata": {
        "colab": {
          "base_uri": "https://localhost:8080/"
        },
        "id": "k38BAr2O5xFd",
        "outputId": "c4cf3bdb-0237-487c-b9e4-f9dad8e85d9b"
      },
      "execution_count": 4,
      "outputs": [
        {
          "output_type": "stream",
          "name": "stdout",
          "text": [
            "['one', 'one']\n"
          ]
        }
      ]
    },
    {
      "cell_type": "code",
      "source": [
        "import re\n",
        "string = \"Take up one idea. One idea at a time\" # O in One is uppercase\n",
        "\n",
        "result = re.findall(r'o\\w\\w', string) # returns a list\n",
        "# print(type(result))\n",
        "print(result)"
      ],
      "metadata": {
        "colab": {
          "base_uri": "https://localhost:8080/"
        },
        "id": "ZDzIe9Nr92rg",
        "outputId": "78a3a2eb-de22-4318-8c8b-501f4e2c3d4a"
      },
      "execution_count": 5,
      "outputs": [
        {
          "output_type": "stream",
          "name": "stdout",
          "text": [
            "['one']\n"
          ]
        }
      ]
    },
    {
      "cell_type": "code",
      "source": [
        "import re\n",
        "string = \"Take up One idea. One idea at a time\" # Both O in One are uppercase\n",
        "\n",
        "print(re.search(r'o\\w\\w', string)) # Now search() returns None\n",
        "result = re.findall(r'o\\w\\w', string) # returns an empty list\n",
        "# print(type(result))\n",
        "print(result)"
      ],
      "metadata": {
        "colab": {
          "base_uri": "https://localhost:8080/"
        },
        "id": "C4EXhy6G-PLo",
        "outputId": "4cd3383c-6dbd-41d9-d02b-d1f3b13ca36b"
      },
      "execution_count": 6,
      "outputs": [
        {
          "output_type": "stream",
          "name": "stdout",
          "text": [
            "None\n",
            "[]\n"
          ]
        }
      ]
    },
    {
      "cell_type": "code",
      "source": [
        "import re\n",
        "string = \"Take up One idea. One idea at a time\"\n",
        "\n",
        "result = re.match(r'o\\w\\w', string) # returns None, pattern not found at start of string\n",
        "print(result)"
      ],
      "metadata": {
        "colab": {
          "base_uri": "https://localhost:8080/"
        },
        "id": "9v9BONMR_ZBk",
        "outputId": "fab38bbb-0161-432e-d144-989a9c82dc3a"
      },
      "execution_count": 7,
      "outputs": [
        {
          "output_type": "stream",
          "name": "stdout",
          "text": [
            "None\n"
          ]
        }
      ]
    },
    {
      "cell_type": "code",
      "source": [
        "import re\n",
        "string = \"Take up One idea. One idea at a time\"\n",
        "\n",
        "result = re.match(r'O\\w\\w', string) # returns None, pattern not found at start of string\n",
        "print(result)"
      ],
      "metadata": {
        "colab": {
          "base_uri": "https://localhost:8080/"
        },
        "id": "uwdR-TNJssnE",
        "outputId": "e80ae206-c2ef-40dc-94ec-886d9098bba4"
      },
      "execution_count": 8,
      "outputs": [
        {
          "output_type": "stream",
          "name": "stdout",
          "text": [
            "None\n"
          ]
        }
      ]
    },
    {
      "cell_type": "code",
      "source": [
        "import re\n",
        "string = \"Take up One idea. One idea at a Time\"\n",
        "\n",
        "result = re.match(r'T\\w\\w', string) # returns re.Match object, which is searched at only start of string\n",
        "# print(result)\n",
        "print(result.group())"
      ],
      "metadata": {
        "colab": {
          "base_uri": "https://localhost:8080/"
        },
        "id": "4YqPp5xYtBBN",
        "outputId": "fb4b5793-ee64-4ac6-e5aa-4c514050b3f7"
      },
      "execution_count": 9,
      "outputs": [
        {
          "output_type": "stream",
          "name": "stdout",
          "text": [
            "Tak\n"
          ]
        }
      ]
    },
    {
      "cell_type": "markdown",
      "source": [
        "## 196. sub()\n",
        "- ```re.sub(regex, replacementString, string)```\n",
        "    - replaces the regex pattern in string with the replacementString\n",
        "    - returns a string which has pattern replaced with replacementString"
      ],
      "metadata": {
        "id": "iTyludA3tpk3"
      }
    },
    {
      "cell_type": "code",
      "source": [
        "import re\n",
        "string = \"Take up One idea. One idea at a Time\"\n",
        "\n",
        "result = re.sub(r'One', 'Two', string)\n",
        "# print(type(result))\n",
        "print(result)"
      ],
      "metadata": {
        "colab": {
          "base_uri": "https://localhost:8080/"
        },
        "id": "UbzOlt15tCcp",
        "outputId": "c7813d21-a056-42c0-a39e-5fab0e5ec76e"
      },
      "execution_count": 10,
      "outputs": [
        {
          "output_type": "stream",
          "name": "stdout",
          "text": [
            "Take up Two idea. Two idea at a Time\n"
          ]
        }
      ]
    },
    {
      "cell_type": "markdown",
      "source": [
        "## 197. split()\n",
        "- ```re.split(regex, string)```\n",
        "    - splits the string into a list of strings using the regex as a delimiter\n",
        "    - returns a list of strings separated by regex"
      ],
      "metadata": {
        "id": "w7IxHPRIu3Xw"
      }
    },
    {
      "cell_type": "code",
      "source": [
        "import re\n",
        "string = \"Take 1 up One 23 idea. One idea 45 at a Time\"\n",
        "\n",
        "result = re.split(r'\\d+', string)\n",
        "# print(type(result))\n",
        "print(result)"
      ],
      "metadata": {
        "colab": {
          "base_uri": "https://localhost:8080/"
        },
        "id": "mhv3TnDSultH",
        "outputId": "254ef57b-c3a8-4b60-cea2-b4b8fbf1b1d5"
      },
      "execution_count": 11,
      "outputs": [
        {
          "output_type": "stream",
          "name": "stdout",
          "text": [
            "['Take ', ' up One ', ' idea. One idea ', ' at a Time']\n"
          ]
        }
      ]
    },
    {
      "cell_type": "markdown",
      "source": [
        "## 198. Quantifiers\n",
        "- Sequence Characters are used to match single character\n",
        "- Quantifiers are used to match multiple characters\n",
        "- ```+``` : specifies one or more repetitions of the preceeding regex\n",
        "    - ```\\d+``` means one or more digits\n",
        "- ```*``` : specifies zero or more repetitions of the preceeding regex\n",
        "- ```?``` : specifies zero or one repetitions of the preceeding regex\n",
        "- ```{m}``` : specifies exactly 'm' repetitions of the preceeding regex\n",
        "- ```{m,n}``` : specifies minumim 'm' and maximum 'n' repetitions of the preceeding regex\n",
        "    - default value of 'm' is zero, & default value of 'n' is infinity if 'n' is not specified"
      ],
      "metadata": {
        "id": "6Y9pE7qov3Eg"
      }
    },
    {
      "cell_type": "markdown",
      "source": [
        "## 199. using quantifiers\n",
        "- use quantifiers for pattern matching"
      ],
      "metadata": {
        "id": "acWg3OuNFYZz"
      }
    },
    {
      "cell_type": "markdown",
      "source": [
        "- ```+``` quantifier"
      ],
      "metadata": {
        "id": "l70avHxsIMDf"
      }
    },
    {
      "cell_type": "code",
      "source": [
        "import re\n",
        "string = \"Take up One idea. One idea at a Time\"\n",
        "\n",
        "# result = re.findall(r'O\\w\\w', string)\n",
        "result = re.findall(r'O\\w+', string) # '+' quantifier, 1 or more repetition\n",
        "print(result)"
      ],
      "metadata": {
        "colab": {
          "base_uri": "https://localhost:8080/"
        },
        "id": "-SNZB4H7vlQr",
        "outputId": "5d705b47-fd2d-447f-f936-cee62eaa6a3a"
      },
      "execution_count": 12,
      "outputs": [
        {
          "output_type": "stream",
          "name": "stdout",
          "text": [
            "['One', 'One']\n"
          ]
        }
      ]
    },
    {
      "cell_type": "markdown",
      "source": [
        "- ```*``` quantifier"
      ],
      "metadata": {
        "id": "LCrMnRYfISm8"
      }
    },
    {
      "cell_type": "code",
      "source": [
        "import re\n",
        "string = \"Take up One idea. One idea at a Time\"\n",
        "\n",
        "# result = re.findall(r'O\\w\\w', string)\n",
        "result = re.findall(r'O\\w*', string) # '*' quantifier, 0 or more repetition\n",
        "print(result)"
      ],
      "metadata": {
        "colab": {
          "base_uri": "https://localhost:8080/"
        },
        "id": "ZyCCYeyrGDKe",
        "outputId": "95d05244-1f97-42a8-f887-28c7a65beb38"
      },
      "execution_count": 13,
      "outputs": [
        {
          "output_type": "stream",
          "name": "stdout",
          "text": [
            "['One', 'One']\n"
          ]
        }
      ]
    },
    {
      "cell_type": "markdown",
      "source": [
        "- ```?``` quantifier"
      ],
      "metadata": {
        "id": "mngbN82GIWJ5"
      }
    },
    {
      "cell_type": "code",
      "source": [
        "import re\n",
        "string = \"Take up One idea. One idea at a Time\"\n",
        "\n",
        "# result = re.findall(r'O\\w\\w', string)\n",
        "result = re.findall(r'O\\w?', string) # '*' quantifier, 0 or 1 repetition\n",
        "print(result)"
      ],
      "metadata": {
        "colab": {
          "base_uri": "https://localhost:8080/"
        },
        "id": "FMtmswpXGbW6",
        "outputId": "dcf1b9b5-48e8-43a3-ba58-8585c4ebf8e4"
      },
      "execution_count": 14,
      "outputs": [
        {
          "output_type": "stream",
          "name": "stdout",
          "text": [
            "['On', 'On']\n"
          ]
        }
      ]
    },
    {
      "cell_type": "markdown",
      "source": [
        "- ```{m}``` quantifier"
      ],
      "metadata": {
        "id": "ieWmQ6BoIZ-1"
      }
    },
    {
      "cell_type": "code",
      "source": [
        "import re\n",
        "string = \"Take up One idea. One idea at a Time\"\n",
        "\n",
        "# result = re.findall(r'O\\w\\w', string)\n",
        "result = re.findall(r'O\\w{1}', string) # '{m}' quantifier, exactly 1 repetition\n",
        "print(result)"
      ],
      "metadata": {
        "colab": {
          "base_uri": "https://localhost:8080/"
        },
        "id": "DvKidWxFGhBC",
        "outputId": "b9122bf9-7180-4077-f872-26d4f31a705d"
      },
      "execution_count": 15,
      "outputs": [
        {
          "output_type": "stream",
          "name": "stdout",
          "text": [
            "['On', 'On']\n"
          ]
        }
      ]
    },
    {
      "cell_type": "code",
      "source": [
        "# result = re.findall(r'O\\w\\w', string)\n",
        "result = re.findall(r'O\\w{2}', string) # '{m}' quantifier, exactly 2 repetition\n",
        "print(result)"
      ],
      "metadata": {
        "colab": {
          "base_uri": "https://localhost:8080/"
        },
        "id": "abHqz5ejHSSI",
        "outputId": "cb87f3af-b17e-40d9-b024-b3be61d620fb"
      },
      "execution_count": 16,
      "outputs": [
        {
          "output_type": "stream",
          "name": "stdout",
          "text": [
            "['One', 'One']\n"
          ]
        }
      ]
    },
    {
      "cell_type": "code",
      "source": [
        "# result = re.findall(r'O\\w\\w', string)\n",
        "result = re.findall(r'O\\w{3}', string) # '{m}' quantifier, exactly 3 repetition\n",
        "print(result)"
      ],
      "metadata": {
        "colab": {
          "base_uri": "https://localhost:8080/"
        },
        "id": "7hyr2CEwHVJ5",
        "outputId": "f217186a-92c2-40d8-fea5-c74fdba199da"
      },
      "execution_count": 17,
      "outputs": [
        {
          "output_type": "stream",
          "name": "stdout",
          "text": [
            "[]\n"
          ]
        }
      ]
    },
    {
      "cell_type": "code",
      "source": [
        "string = \"Take up One idea. One idea at a Time Only\"\n",
        "\n",
        "# result = re.findall(r'O\\w\\w', string)\n",
        "result = re.findall(r'O\\w{3}', string) # '{m}' quantifier, exactly 3 repetition\n",
        "print(result)"
      ],
      "metadata": {
        "colab": {
          "base_uri": "https://localhost:8080/"
        },
        "id": "OvEEFUiUHXti",
        "outputId": "be2609b1-bfb9-4014-86c9-a256e058b2a7"
      },
      "execution_count": 18,
      "outputs": [
        {
          "output_type": "stream",
          "name": "stdout",
          "text": [
            "['Only']\n"
          ]
        }
      ]
    },
    {
      "cell_type": "markdown",
      "source": [
        "- ```{m,n}``` quantifier"
      ],
      "metadata": {
        "id": "3usKjc_SIeSA"
      }
    },
    {
      "cell_type": "code",
      "source": [
        "import re\n",
        "string = \"Take up One idea. One idea at a Time\"\n",
        "\n",
        "# result = re.findall(r'O\\w\\w', string)\n",
        "result = re.findall(r'O\\w{1,2}', string) # '{m,n}' quantifier, min 1 max 2 repetition\n",
        "print(result)"
      ],
      "metadata": {
        "colab": {
          "base_uri": "https://localhost:8080/"
        },
        "id": "7OQPp2P1Hj9D",
        "outputId": "e36064b0-e526-4a1e-dff1-3fa7d9b7ae95"
      },
      "execution_count": 19,
      "outputs": [
        {
          "output_type": "stream",
          "name": "stdout",
          "text": [
            "['One', 'One']\n"
          ]
        }
      ]
    },
    {
      "cell_type": "markdown",
      "source": [
        "## 200. Matching Dates\n",
        "- Create a regular expression that will return all matching dates\n"
      ],
      "metadata": {
        "id": "ge4I85rUIiu6"
      }
    },
    {
      "cell_type": "code",
      "source": [
        "import re\n",
        "string = \"Take 1 up 1-3-2019 One 23 idea. One idea 45 at a Time 12-11-2020\"\n",
        "\n",
        "result = re.findall(r'\\d{1,2}-\\d{1,2}-\\d{4}', string)\n",
        "print(result)"
      ],
      "metadata": {
        "colab": {
          "base_uri": "https://localhost:8080/"
        },
        "id": "mVPAyyZNH-9r",
        "outputId": "2fc0e2ba-91fa-45a3-c50e-59a2050c2fe8"
      },
      "execution_count": 20,
      "outputs": [
        {
          "output_type": "stream",
          "name": "stdout",
          "text": [
            "['1-3-2019', '12-11-2020']\n"
          ]
        }
      ]
    },
    {
      "cell_type": "markdown",
      "source": [
        "## 201. Special Characters\n",
        "- Along with sequence characters and quantifiers, we can use certain special characters in our regular expressions as well\n",
        "- ```\\``` : escape character, if you want to use any special character like '\\' in regular expressions, you have to escape it using '\\\\'\n",
        "- ```.``` : dot operator, matches any character except a new line character\n",
        "- ```^``` : matches regex at the beginning of the string\n",
        "- ```$``` : matches regex at the end of the string\n",
        "- ```[...]``` : matches the characters specified in the range\n",
        "- ```[^...]``` : matches the characters except those in the specified range\n",
        "- ```(...)``` : you can provide a regular expression in it and it'll match that with string\n",
        "- ```(R|S)``` : matches multiple regular expressions"
      ],
      "metadata": {
        "id": "nkDj1GDGJ0Fh"
      }
    },
    {
      "cell_type": "markdown",
      "source": [
        "## 202. using special characters\n",
        "- use special characters in the regular expressions"
      ],
      "metadata": {
        "id": "-ioVhbNH8aQh"
      }
    },
    {
      "cell_type": "markdown",
      "source": [
        "- ```[^...]``` special character"
      ],
      "metadata": {
        "id": "Fk9mV__k9IHm"
      }
    },
    {
      "cell_type": "code",
      "source": [
        "import re\n",
        "string = \"Take 1 up 1-3-2019 One 23 idea. One idea 45 at a Time 12-11-2020\"\n",
        "\n",
        "result = re.search(r'^O\\w', string) # matches at beginning of string\n",
        "print(result)"
      ],
      "metadata": {
        "colab": {
          "base_uri": "https://localhost:8080/"
        },
        "id": "WOaGpqj8JuFP",
        "outputId": "a935a3aa-d9ad-485e-e271-a34846ecff5d"
      },
      "execution_count": 21,
      "outputs": [
        {
          "output_type": "stream",
          "name": "stdout",
          "text": [
            "None\n"
          ]
        }
      ]
    },
    {
      "cell_type": "code",
      "source": [
        "result = re.search(r'^T\\w', string) # matches at beginning of string\n",
        "# print(result)\n",
        "print(result.group())"
      ],
      "metadata": {
        "colab": {
          "base_uri": "https://localhost:8080/"
        },
        "id": "fm3jY0mq9BMB",
        "outputId": "e663eb40-4a63-4111-a40e-10bf70705c4e"
      },
      "execution_count": 22,
      "outputs": [
        {
          "output_type": "stream",
          "name": "stdout",
          "text": [
            "Ta\n"
          ]
        }
      ]
    },
    {
      "cell_type": "code",
      "source": [
        "result = re.search(r'^T\\w*', string) # matches at beginning of string\n",
        "# print(result)\n",
        "print(result.group())"
      ],
      "metadata": {
        "colab": {
          "base_uri": "https://localhost:8080/"
        },
        "id": "gHEHcOOZ9VMT",
        "outputId": "6232a49b-5e1d-4135-c4c9-53b8ac33d469"
      },
      "execution_count": 23,
      "outputs": [
        {
          "output_type": "stream",
          "name": "stdout",
          "text": [
            "Take\n"
          ]
        }
      ]
    },
    {
      "cell_type": "markdown",
      "source": [
        "## 203. Web Scrapping Demo\n",
        "- Web Scrapping\n",
        "    - Process of collecting information from web pages\n",
        "- Retrieve the title of website using regular expressions\n",
        "- ```urllib.request.urlopen()```\n",
        "    - opens a url and returns a response containing header, status, etc which is basically the HTML of the webpage\n",
        "- ```response.read()```\n",
        "    - converts HttpResponse object into bytes which can be printed as string"
      ],
      "metadata": {
        "id": "-d_ox2w19rgt"
      }
    },
    {
      "cell_type": "code",
      "source": [
        "# webscrappingdemo.py\n",
        "import re, urllib.request\n",
        "# sites = [\"google.com\", \"bharaththippireddy.com\"]\n",
        "sites = [\"google.com\", \"youtube.com\"]\n",
        "for s in sites:\n",
        "    print(\"Searching : \", s)\n",
        "    response = urllib.request.urlopen(\"https://\"+s) # opens a URL\n",
        "    print(type(response)) # 'http.client.HTTPResponse'\n",
        "    text = response.read() # reads response\n",
        "    print(type(text)) # 'bytes'\n",
        "    title = re.findall(\"<title>.*</title>\", str(text), re.I) # case-insensitive matching\n",
        "    print(title[0])\n",
        "    print(title) # debug"
      ],
      "metadata": {
        "id": "gCQHJ4Bq9lF8",
        "colab": {
          "base_uri": "https://localhost:8080/"
        },
        "outputId": "084b21ee-78a1-42ca-d59c-d3697edf82c5"
      },
      "execution_count": 29,
      "outputs": [
        {
          "output_type": "stream",
          "name": "stdout",
          "text": [
            "Searching :  google.com\n",
            "<class 'http.client.HTTPResponse'>\n",
            "<class 'bytes'>\n",
            "<title>Google</title>\n",
            "['<title>Google</title>']\n",
            "Searching :  youtube.com\n",
            "<class 'http.client.HTTPResponse'>\n",
            "<class 'bytes'>\n",
            "<title>YouTube</title>\n",
            "['<title>YouTube</title>']\n"
          ]
        }
      ]
    },
    {
      "cell_type": "code",
      "source": [],
      "metadata": {
        "id": "mVLwVVDgRoVF"
      },
      "execution_count": 24,
      "outputs": []
    }
  ]
}