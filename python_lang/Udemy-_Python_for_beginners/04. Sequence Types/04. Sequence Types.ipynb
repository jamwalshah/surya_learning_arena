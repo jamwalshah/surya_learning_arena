{
  "nbformat": 4,
  "nbformat_minor": 0,
  "metadata": {
    "colab": {
      "provenance": [],
      "toc_visible": true
    },
    "kernelspec": {
      "name": "python3",
      "display_name": "Python 3"
    },
    "language_info": {
      "name": "python"
    }
  },
  "cells": [
    {
      "cell_type": "markdown",
      "source": [
        "## 24. Introduction\n",
        "- Collections in Python are\n",
        "    - List\n",
        "        - stores any number of values/objects dymanically while maintaining order of them\n",
        "    - Set\n",
        "        - does not allow duplicates\n",
        "        - used to store any number of values/objects dynamically\n",
        "    - Dictionary\n",
        "        - is a map, stores in form of K-V pairs\n"
      ],
      "metadata": {
        "id": "Aktb67lxYw4c"
      }
    },
    {
      "cell_type": "markdown",
      "source": [
        "## 25. Create a string"
      ],
      "metadata": {
        "id": "hU-JAP_SY0Pm"
      }
    },
    {
      "cell_type": "code",
      "source": [
        "# stringtype.py\n",
        "s = \"You are awesome\"\n",
        "print(s)"
      ],
      "metadata": {
        "colab": {
          "base_uri": "https://localhost:8080/"
        },
        "id": "WEQm4iSSY214",
        "outputId": "80362c54-a82e-46cc-cd16-6966465c7e0e"
      },
      "execution_count": 1,
      "outputs": [
        {
          "output_type": "stream",
          "name": "stdout",
          "text": [
            "You are awesome\n"
          ]
        }
      ]
    },
    {
      "cell_type": "code",
      "source": [
        "s1 = \"\"\"You are\n",
        "the creator\n",
        "of your destiny\"\"\"\n",
        "print(s1)"
      ],
      "metadata": {
        "colab": {
          "base_uri": "https://localhost:8080/"
        },
        "id": "kohTX3AkZy30",
        "outputId": "56873a97-130b-4ba9-e802-41062345ce51"
      },
      "execution_count": null,
      "outputs": [
        {
          "output_type": "stream",
          "name": "stdout",
          "text": [
            "You are\n",
            "the creator\n",
            "of your destiny\n"
          ]
        }
      ]
    },
    {
      "cell_type": "markdown",
      "source": [
        "### Indexing\n",
        "- concept of reaching out to a particular character / location in a string\n",
        "- starts with ```0```, 1, 2, 3, ... and ends at ```len(x) - 1```"
      ],
      "metadata": {
        "id": "9ZJhGgTsaP31"
      }
    },
    {
      "cell_type": "code",
      "source": [
        "print(s[0]) # indexing"
      ],
      "metadata": {
        "colab": {
          "base_uri": "https://localhost:8080/"
        },
        "id": "Kjmv6YIKZ99k",
        "outputId": "3c222f54-abbd-4a88-b043-46ed03f19e13"
      },
      "execution_count": null,
      "outputs": [
        {
          "output_type": "stream",
          "name": "stdout",
          "text": [
            "Y\n"
          ]
        }
      ]
    },
    {
      "cell_type": "code",
      "source": [
        "print(s[2]) # indexing"
      ],
      "metadata": {
        "colab": {
          "base_uri": "https://localhost:8080/"
        },
        "id": "hEJ4uPemaGPZ",
        "outputId": "bd5d7a72-1a8d-4b8f-99e8-f488fa0ba06e"
      },
      "execution_count": null,
      "outputs": [
        {
          "output_type": "stream",
          "name": "stdout",
          "text": [
            "u\n"
          ]
        }
      ]
    },
    {
      "cell_type": "markdown",
      "source": [
        "### String repetition\n",
        "- using ```*``` operator to repeat string"
      ],
      "metadata": {
        "id": "_UC5GM-Hanhm"
      }
    },
    {
      "cell_type": "code",
      "source": [
        "print(s*2) # String Repetition"
      ],
      "metadata": {
        "colab": {
          "base_uri": "https://localhost:8080/"
        },
        "id": "udT51-jpanGG",
        "outputId": "7339e175-941b-490e-b634-de78fabaaf0e"
      },
      "execution_count": null,
      "outputs": [
        {
          "output_type": "stream",
          "name": "stdout",
          "text": [
            "You are awesomeYou are awesome\n"
          ]
        }
      ]
    },
    {
      "cell_type": "code",
      "source": [
        "print(s*3) # String Repetition"
      ],
      "metadata": {
        "colab": {
          "base_uri": "https://localhost:8080/"
        },
        "id": "P_NGBVKRaitn",
        "outputId": "7d2e0f9c-b1fd-4597-9a21-54d87875105e"
      },
      "execution_count": null,
      "outputs": [
        {
          "output_type": "stream",
          "name": "stdout",
          "text": [
            "You are awesomeYou are awesomeYou are awesome\n"
          ]
        }
      ]
    },
    {
      "cell_type": "markdown",
      "source": [
        "### len(str)\n",
        "- returns number of items in a container"
      ],
      "metadata": {
        "id": "lrga9lX2bBQD"
      }
    },
    {
      "cell_type": "code",
      "source": [
        "print(len(s1))"
      ],
      "metadata": {
        "colab": {
          "base_uri": "https://localhost:8080/"
        },
        "id": "hiuPoXCja402",
        "outputId": "4b8cc4e3-35cc-4e6b-9af2-d9ed8129f468"
      },
      "execution_count": null,
      "outputs": [
        {
          "output_type": "stream",
          "name": "stdout",
          "text": [
            "35\n"
          ]
        }
      ]
    },
    {
      "cell_type": "code",
      "source": [
        "print(len(s))"
      ],
      "metadata": {
        "colab": {
          "base_uri": "https://localhost:8080/"
        },
        "id": "6DTPJOd5bKzs",
        "outputId": "8c90837c-25dd-48c5-be11-344ee0636719"
      },
      "execution_count": null,
      "outputs": [
        {
          "output_type": "stream",
          "name": "stdout",
          "text": [
            "15\n"
          ]
        }
      ]
    },
    {
      "cell_type": "markdown",
      "source": [
        "## 26. Slicing a string\n",
        "- ```s[start : end]```\n"
      ],
      "metadata": {
        "id": "F9owKMy3bc0W"
      }
    },
    {
      "cell_type": "code",
      "source": [
        "print(s)\n",
        "print(s[0:5])"
      ],
      "metadata": {
        "colab": {
          "base_uri": "https://localhost:8080/"
        },
        "id": "ettYMP7WbOcf",
        "outputId": "53160135-4a1c-4df7-c6db-65d332c19c3a"
      },
      "execution_count": null,
      "outputs": [
        {
          "output_type": "stream",
          "name": "stdout",
          "text": [
            "You are awesome\n",
            "You a\n"
          ]
        }
      ]
    },
    {
      "cell_type": "markdown",
      "source": [
        "```s[0:]``` means ```s[0:end]```"
      ],
      "metadata": {
        "id": "dko8M_Bt_Svl"
      }
    },
    {
      "cell_type": "code",
      "source": [
        "print(s)\n",
        "print(s[0:])"
      ],
      "metadata": {
        "id": "m5PaMsb_bzNc",
        "colab": {
          "base_uri": "https://localhost:8080/"
        },
        "outputId": "d6a6731c-fa0c-4d36-cabc-c21ac7da6896"
      },
      "execution_count": null,
      "outputs": [
        {
          "output_type": "stream",
          "name": "stdout",
          "text": [
            "You are awesome\n",
            "You are awesome\n"
          ]
        }
      ]
    },
    {
      "cell_type": "markdown",
      "source": [
        "```s[:8]``` means ```s[start:8]```"
      ],
      "metadata": {
        "id": "9Y_tNS2X_dNn"
      }
    },
    {
      "cell_type": "code",
      "source": [
        "print(s)\n",
        "print(s[:8])"
      ],
      "metadata": {
        "colab": {
          "base_uri": "https://localhost:8080/"
        },
        "id": "6NRGtEDW_WVb",
        "outputId": "663bae6d-9e28-41cf-e892-9273b7fce598"
      },
      "execution_count": null,
      "outputs": [
        {
          "output_type": "stream",
          "name": "stdout",
          "text": [
            "You are awesome\n",
            "You are \n"
          ]
        }
      ]
    },
    {
      "cell_type": "markdown",
      "source": [
        "### Slicing with Negative indices"
      ],
      "metadata": {
        "id": "jcU6ZoUH_q4N"
      }
    },
    {
      "cell_type": "markdown",
      "source": [
        "```s[-3:-1]``` means ```s[last 3rd:last one]```\n",
        "- starts from last third element, goes till second last element, but does not include the last element"
      ],
      "metadata": {
        "id": "5Mki-yDu_2ND"
      }
    },
    {
      "cell_type": "code",
      "source": [
        "print(s)\n",
        "print(s[-3:-1])"
      ],
      "metadata": {
        "colab": {
          "base_uri": "https://localhost:8080/"
        },
        "id": "D5AOm9XA_kH_",
        "outputId": "41a933e1-9e9a-421a-e3d0-e70c15168c10"
      },
      "execution_count": null,
      "outputs": [
        {
          "output_type": "stream",
          "name": "stdout",
          "text": [
            "You are awesome\n",
            "om\n"
          ]
        }
      ]
    },
    {
      "cell_type": "markdown",
      "source": [
        "## 27. Steps in Slicing\n",
        "- ```s[start : end : step]```\n",
        "- default step value is 1\n"
      ],
      "metadata": {
        "id": "MUA92gr7Qmt0"
      }
    },
    {
      "cell_type": "code",
      "source": [
        "print(s)\n",
        "print(s[0:9:2])"
      ],
      "metadata": {
        "colab": {
          "base_uri": "https://localhost:8080/"
        },
        "id": "77XMp7Tn_1RS",
        "outputId": "9a9df88e-3ba6-468d-eaa1-7f5fa3a9e95e"
      },
      "execution_count": null,
      "outputs": [
        {
          "output_type": "stream",
          "name": "stdout",
          "text": [
            "You are awesome\n",
            "Yuaea\n"
          ]
        }
      ]
    },
    {
      "cell_type": "markdown",
      "source": [
        "```s[15::-1]```, here ```-1``` step means access string in reverse order due to negative step"
      ],
      "metadata": {
        "id": "lYMQgLStRRPf"
      }
    },
    {
      "cell_type": "code",
      "source": [
        "print(s)\n",
        "print(s[15::-1])"
      ],
      "metadata": {
        "colab": {
          "base_uri": "https://localhost:8080/"
        },
        "id": "F9yGK_4aQ69c",
        "outputId": "7f062a8e-0f42-478f-fbbb-a35300ebb146"
      },
      "execution_count": null,
      "outputs": [
        {
          "output_type": "stream",
          "name": "stdout",
          "text": [
            "You are awesome\n",
            "emosewa era uoY\n"
          ]
        }
      ]
    },
    {
      "cell_type": "code",
      "source": [
        "print(s[6:2:-1])"
      ],
      "metadata": {
        "colab": {
          "base_uri": "https://localhost:8080/"
        },
        "id": "4sf2qglJR5aX",
        "outputId": "21ba99a8-4fe9-40f2-ceee-d3cdb3f97a8d"
      },
      "execution_count": null,
      "outputs": [
        {
          "output_type": "stream",
          "name": "stdout",
          "text": [
            "era \n"
          ]
        }
      ]
    },
    {
      "cell_type": "markdown",
      "source": [
        "```s[::-1]``` means step start to end but in reverse order"
      ],
      "metadata": {
        "id": "kRbCfzTxRtla"
      }
    },
    {
      "cell_type": "code",
      "source": [
        "print(s)\n",
        "print(s[::-1])"
      ],
      "metadata": {
        "colab": {
          "base_uri": "https://localhost:8080/"
        },
        "id": "DE-txlM2RhKH",
        "outputId": "c4b640dc-ea1a-400e-c339-4c545c3f45a4"
      },
      "execution_count": null,
      "outputs": [
        {
          "output_type": "stream",
          "name": "stdout",
          "text": [
            "You are awesome\n",
            "emosewa era uoY\n"
          ]
        }
      ]
    },
    {
      "cell_type": "markdown",
      "source": [
        "## 28. Strip the Spaces"
      ],
      "metadata": {
        "id": "Lc7wqcnkSorK"
      }
    },
    {
      "cell_type": "code",
      "source": [
        "s=\"  You are awesome  \"\n",
        "print(s)"
      ],
      "metadata": {
        "colab": {
          "base_uri": "https://localhost:8080/"
        },
        "id": "Mea6n9MDS3ep",
        "outputId": "d437c02e-98dd-495e-b81f-aee1c26d2140"
      },
      "execution_count": null,
      "outputs": [
        {
          "output_type": "stream",
          "name": "stdout",
          "text": [
            "  You are awesome  \n"
          ]
        }
      ]
    },
    {
      "cell_type": "markdown",
      "source": [
        "### s.strip\n",
        "- returns a string with leading and trainling witespaces removed"
      ],
      "metadata": {
        "id": "gJVDw852TUye"
      }
    },
    {
      "cell_type": "code",
      "source": [
        "print(s.strip())"
      ],
      "metadata": {
        "colab": {
          "base_uri": "https://localhost:8080/"
        },
        "id": "HbpevuJcR9EQ",
        "outputId": "32b93f23-5367-4be1-c418-d70918cbc76c"
      },
      "execution_count": null,
      "outputs": [
        {
          "output_type": "stream",
          "name": "stdout",
          "text": [
            "You are awesome\n"
          ]
        }
      ]
    },
    {
      "cell_type": "markdown",
      "source": [
        "### s.lstrip\n",
        "- returns a string with only leading witespaces removed"
      ],
      "metadata": {
        "id": "tcY36LjITuCF"
      }
    },
    {
      "cell_type": "code",
      "source": [
        "print(s.lstrip())"
      ],
      "metadata": {
        "colab": {
          "base_uri": "https://localhost:8080/"
        },
        "id": "EYxMVNwiSN5Z",
        "outputId": "f6a26a86-0766-41c8-f44d-6e05aae6151f"
      },
      "execution_count": null,
      "outputs": [
        {
          "output_type": "stream",
          "name": "stdout",
          "text": [
            "You are awesome  \n"
          ]
        }
      ]
    },
    {
      "cell_type": "markdown",
      "source": [
        "### s.rstrip\n",
        "- returns a string with only trailing witespaces removed"
      ],
      "metadata": {
        "id": "xlVEL0frTx29"
      }
    },
    {
      "cell_type": "code",
      "source": [
        "print(s.rstrip())"
      ],
      "metadata": {
        "colab": {
          "base_uri": "https://localhost:8080/"
        },
        "id": "UBYnb37yTwlQ",
        "outputId": "edacf81c-5d2b-4f18-906d-26d063fc9864"
      },
      "execution_count": null,
      "outputs": [
        {
          "output_type": "stream",
          "name": "stdout",
          "text": [
            "  You are awesome\n"
          ]
        }
      ]
    },
    {
      "cell_type": "markdown",
      "source": [
        "## 29. Few more string methods"
      ],
      "metadata": {
        "id": "mlAZ1gsfUGTB"
      }
    },
    {
      "cell_type": "markdown",
      "source": [
        "### str.find(substr)\n",
        "```str.find(sub[, start[, end]])```\n",
        "- returns index of first match of substring in the string\n",
        "- returns -1 if substring is not found"
      ],
      "metadata": {
        "id": "6qHI9-REUQ4P"
      }
    },
    {
      "cell_type": "code",
      "source": [
        "print(s.find(\"awe\"))"
      ],
      "metadata": {
        "colab": {
          "base_uri": "https://localhost:8080/"
        },
        "id": "_46CYeVmT2nZ",
        "outputId": "f4f7d027-a1b9-47a9-a44c-7dc03d6d6090"
      },
      "execution_count": null,
      "outputs": [
        {
          "output_type": "stream",
          "name": "stdout",
          "text": [
            "10\n"
          ]
        }
      ]
    },
    {
      "cell_type": "code",
      "source": [
        "print(s.find(\"awe\", 0, len(s)))"
      ],
      "metadata": {
        "colab": {
          "base_uri": "https://localhost:8080/"
        },
        "id": "b7u898BpUmSl",
        "outputId": "3b1f01cb-f5d7-44d5-b23a-f1e7316357e5"
      },
      "execution_count": null,
      "outputs": [
        {
          "output_type": "stream",
          "name": "stdout",
          "text": [
            "10\n"
          ]
        }
      ]
    },
    {
      "cell_type": "code",
      "source": [
        "print(s.find(\"awe\", 0, 8))"
      ],
      "metadata": {
        "colab": {
          "base_uri": "https://localhost:8080/"
        },
        "id": "DfHp6IdRVLEc",
        "outputId": "f4cc09c9-3ffa-4dc0-a8fa-239ca22f56b5"
      },
      "execution_count": null,
      "outputs": [
        {
          "output_type": "stream",
          "name": "stdout",
          "text": [
            "-1\n"
          ]
        }
      ]
    },
    {
      "cell_type": "markdown",
      "source": [
        "### str.count(substr)\n",
        "```S.count(sub[, start[, end]])```\n",
        "- Return the number of non-overlapping occurrences of substring sub in\n",
        "string S[start:end]\n"
      ],
      "metadata": {
        "id": "TCrTx28lVSmz"
      }
    },
    {
      "cell_type": "code",
      "source": [
        "print(s.count(\"a\"))"
      ],
      "metadata": {
        "colab": {
          "base_uri": "https://localhost:8080/"
        },
        "id": "PtV26lkZVNMq",
        "outputId": "5c410881-a08d-47b8-91a4-76bce3c36834"
      },
      "execution_count": null,
      "outputs": [
        {
          "output_type": "stream",
          "name": "stdout",
          "text": [
            "2\n"
          ]
        }
      ]
    },
    {
      "cell_type": "code",
      "source": [
        "print(s.count(\"a\", 0, 9))"
      ],
      "metadata": {
        "colab": {
          "base_uri": "https://localhost:8080/"
        },
        "id": "AX-IYqG_Vlwy",
        "outputId": "2f329d9d-58c2-48ff-b54e-9445b3d9c381"
      },
      "execution_count": null,
      "outputs": [
        {
          "output_type": "stream",
          "name": "stdout",
          "text": [
            "1\n"
          ]
        }
      ]
    },
    {
      "cell_type": "markdown",
      "source": [
        "### str.replace(old, new)\n",
        "```s.replace(old, new, count=-1, /)```\n",
        "- Return a copy with all occurrences of substring old replaced by new."
      ],
      "metadata": {
        "id": "5t0sPl7IVy_J"
      }
    },
    {
      "cell_type": "code",
      "source": [
        "print(s.replace(\"awesome\", \"super\"))"
      ],
      "metadata": {
        "colab": {
          "base_uri": "https://localhost:8080/"
        },
        "id": "PhUSQNuiVscF",
        "outputId": "d356a199-c4e7-4ebe-c3f2-c5faff84dad8"
      },
      "execution_count": null,
      "outputs": [
        {
          "output_type": "stream",
          "name": "stdout",
          "text": [
            "  You are super  \n"
          ]
        }
      ]
    },
    {
      "cell_type": "markdown",
      "source": [
        "### str.upper()\n",
        "- returns string converted to uppercase"
      ],
      "metadata": {
        "id": "PDDGVk5z8rmy"
      }
    },
    {
      "cell_type": "code",
      "source": [
        "print(s.upper())"
      ],
      "metadata": {
        "colab": {
          "base_uri": "https://localhost:8080/"
        },
        "id": "C85KfCyBWOpQ",
        "outputId": "5634fa56-eeb4-4396-8f58-3aecbaa7cbc6"
      },
      "execution_count": null,
      "outputs": [
        {
          "output_type": "stream",
          "name": "stdout",
          "text": [
            "  YOU ARE AWESOME  \n"
          ]
        }
      ]
    },
    {
      "cell_type": "markdown",
      "source": [
        "### str.lower()\n",
        "- returns string converted to lowercase"
      ],
      "metadata": {
        "id": "gT_jmW1m80_j"
      }
    },
    {
      "cell_type": "code",
      "source": [
        "print(s.lower())"
      ],
      "metadata": {
        "colab": {
          "base_uri": "https://localhost:8080/"
        },
        "id": "ggw-uZvU8xhk",
        "outputId": "86fefc02-0a8d-49b9-ef61-d9c89bd8e897"
      },
      "execution_count": null,
      "outputs": [
        {
          "output_type": "stream",
          "name": "stdout",
          "text": [
            "  you are awesome  \n"
          ]
        }
      ]
    },
    {
      "cell_type": "markdown",
      "source": [
        "### s.title()\n",
        "- returns string with each word in Title Case"
      ],
      "metadata": {
        "id": "_Y7m3Bjj88BN"
      }
    },
    {
      "cell_type": "code",
      "source": [
        "print(s.title())"
      ],
      "metadata": {
        "colab": {
          "base_uri": "https://localhost:8080/"
        },
        "id": "3skmxDKv82gh",
        "outputId": "6a445f4d-f2ee-47a4-8ede-d6c67568c55a"
      },
      "execution_count": null,
      "outputs": [
        {
          "output_type": "stream",
          "name": "stdout",
          "text": [
            "  You Are Awesome  \n"
          ]
        }
      ]
    },
    {
      "cell_type": "markdown",
      "source": [
        "## 30. Create a List\n",
        "- supports indexing, slicing & repetition"
      ],
      "metadata": {
        "id": "zC15rDxq96eH"
      }
    },
    {
      "cell_type": "markdown",
      "source": [
        "### Methods in list\n",
        "- ```list[index] = object``` :\n",
        "    - item at *index* of *list* is replaced by *object*\n",
        "- ```list[start_index : stop_index] = iterable```\n",
        "    - slice of list from start_index to stop_index is replaced by the contents of the iterable\n",
        "- ```list[start_index : stop_index : step] = iterable``` :\n",
        "    - the elements of *list[start_index : stop_index : step]* are replaced by those of iterable\n",
        "- ```del list[start_index : stop_index]``` :\n",
        "    - removes the elements of list[start_index : stop_index] from the list\n",
        "    - same as *list[start_index : stop_index] = [ ]*\n",
        "- ```del list[start_index : stop_index : step]``` :\n",
        "    - removes the elements of *list[start_index : stop_index : step]* from the list\n",
        "- ```list.append(object)``` :\n",
        "    - Append object to the end of the list.\n",
        "- ```list.clear()``` :\n",
        "    - Remove all items from list.\n",
        "- ```list.copy()``` :\n",
        "    - Return a shallow copy of the list.\n",
        "- ```list.count(value)``` :\n",
        "    - Return number of occurrences of value.\n",
        "- ```list.extend(iterable)``` :\n",
        "- ```list += iterable``` :\n",
        "    - Extend list by appending elements from the iterable.\n",
        "- ```list.index(value[, start_index[, stop_index]])``` :\n",
        "    - Return first index of value.\n",
        "    - Raises *ValueError* if the value is not present.\n",
        "- ```list.insert(index, object)``` :\n",
        "    - Insert object before index\n",
        "- ```list.pop(index=-1)``` :\n",
        "    - Remove and return item at index (*default last*).\n",
        "    - Raises *IndexError* if list is empty or index is out of range.\n",
        "- ```list.remove(value)``` :\n",
        "    - Remove first occurrence of value.\n",
        "    - Raises *ValueError* if the value is not present.\n",
        "- ```list.reverse()``` :\n",
        "    - Reverse *IN PLACE*.\n",
        "    - neither takes an argument, nor returns anything, instead it makes changes in referenced list\n",
        "- ```lst.sort(*, key=None, reverse=False)``` :\n",
        "    - Sort the list in *ascending* order and return None.\n",
        "    - The sort is in-place (i.e. the list itself is modified) and stable (i.e. the order of two equal elements is maintained).\n",
        "    - If a key function is given, apply it once to each list item and sort them, ascending or descending, according to their function values.\n",
        "    - The *reverse flag can be set to sort in descending* order."
      ],
      "metadata": {
        "id": "MTMOnakq1Suc"
      }
    },
    {
      "cell_type": "code",
      "source": [
        "ls = [1, 2, 3, 4, 5]\n",
        "print(ls)\n",
        "ls[1:4] = [33, 55, 22, 66, 77, 88, 99, 11]\n",
        "print(ls)"
      ],
      "metadata": {
        "colab": {
          "base_uri": "https://localhost:8080/"
        },
        "id": "GP0S5jYUEQnM",
        "outputId": "bac33fb7-802b-4b3a-b7e6-0e1c1e3472f9"
      },
      "execution_count": 22,
      "outputs": [
        {
          "output_type": "stream",
          "name": "stdout",
          "text": [
            "[1, 2, 3, 4, 5]\n",
            "[1, 33, 55, 22, 66, 77, 88, 99, 11, 5]\n"
          ]
        }
      ]
    },
    {
      "cell_type": "code",
      "source": [
        "# listtype.py\n",
        "lst = [] # defines empty list\n",
        "print(lst)"
      ],
      "metadata": {
        "colab": {
          "base_uri": "https://localhost:8080/"
        },
        "id": "GiqHVA5E9ka-",
        "outputId": "b9749c54-a7ce-463f-a9db-6064bc620a75"
      },
      "execution_count": 2,
      "outputs": [
        {
          "output_type": "stream",
          "name": "stdout",
          "text": [
            "[]\n"
          ]
        }
      ]
    },
    {
      "cell_type": "code",
      "source": [
        "lst = [10, 20, 'Surya', -10, 30.5] # list supports different types of data\n",
        "print(lst)"
      ],
      "metadata": {
        "colab": {
          "base_uri": "https://localhost:8080/"
        },
        "id": "3TXsrXWw-GML",
        "outputId": "08bb320b-23ff-4bc4-a09c-13ffe34156d1"
      },
      "execution_count": null,
      "outputs": [
        {
          "output_type": "stream",
          "name": "stdout",
          "text": [
            "[10, 20, 'Surya', -10, 30.5]\n"
          ]
        }
      ]
    },
    {
      "cell_type": "markdown",
      "source": [
        "### indexing in lists"
      ],
      "metadata": {
        "id": "esgCtfNe-ppQ"
      }
    },
    {
      "cell_type": "code",
      "source": [
        "print(lst[3])"
      ],
      "metadata": {
        "colab": {
          "base_uri": "https://localhost:8080/"
        },
        "id": "jYYtnjw1-WoE",
        "outputId": "833316ef-e713-4233-b7ec-c0133d17e65d"
      },
      "execution_count": null,
      "outputs": [
        {
          "output_type": "stream",
          "name": "stdout",
          "text": [
            "-10\n"
          ]
        }
      ]
    },
    {
      "cell_type": "code",
      "source": [
        "print(lst[3:5])"
      ],
      "metadata": {
        "colab": {
          "base_uri": "https://localhost:8080/"
        },
        "id": "HaCIbQcH-gNE",
        "outputId": "db80f930-26a2-4862-cd94-ed22b2ff936a"
      },
      "execution_count": null,
      "outputs": [
        {
          "output_type": "stream",
          "name": "stdout",
          "text": [
            "[-10, 30.5]\n"
          ]
        }
      ]
    },
    {
      "cell_type": "markdown",
      "source": [
        "### repetition in lists"
      ],
      "metadata": {
        "id": "NvlkS9tP-3FO"
      }
    },
    {
      "cell_type": "code",
      "source": [
        "print(lst*4)"
      ],
      "metadata": {
        "colab": {
          "base_uri": "https://localhost:8080/"
        },
        "id": "cTyCz4Tc-oy4",
        "outputId": "e5c8da81-b7e3-4ca9-f883-e0cb568c8997"
      },
      "execution_count": null,
      "outputs": [
        {
          "output_type": "stream",
          "name": "stdout",
          "text": [
            "[10, 20, 'Surya', -10, 30.5, 10, 20, 'Surya', -10, 30.5, 10, 20, 'Surya', -10, 30.5, 10, 20, 'Surya', -10, 30.5]\n"
          ]
        }
      ]
    },
    {
      "cell_type": "markdown",
      "source": [
        "### len(str)"
      ],
      "metadata": {
        "id": "YEQd8nM9_Okw"
      }
    },
    {
      "cell_type": "code",
      "source": [
        "print(len(lst))"
      ],
      "metadata": {
        "colab": {
          "base_uri": "https://localhost:8080/"
        },
        "id": "kb6vhEdi-2PW",
        "outputId": "e55c550f-4692-42ba-9770-81df26793268"
      },
      "execution_count": null,
      "outputs": [
        {
          "output_type": "stream",
          "name": "stdout",
          "text": [
            "5\n"
          ]
        }
      ]
    },
    {
      "cell_type": "markdown",
      "source": [
        "## 31. Adding and removing list elements"
      ],
      "metadata": {
        "id": "PcpJgw08_T_o"
      }
    },
    {
      "cell_type": "markdown",
      "source": [
        "### list.append(object)\n",
        "- append object at end of list"
      ],
      "metadata": {
        "id": "2T_XOr0Z_evC"
      }
    },
    {
      "cell_type": "code",
      "source": [
        "lst.append(40)\n",
        "print(lst)"
      ],
      "metadata": {
        "colab": {
          "base_uri": "https://localhost:8080/"
        },
        "id": "vg2SXDdk_Rdn",
        "outputId": "9306b0f6-d8cb-4bc7-d746-9464e9b364c5"
      },
      "execution_count": null,
      "outputs": [
        {
          "output_type": "stream",
          "name": "stdout",
          "text": [
            "[10, 20, 'Surya', -10, 30.5, 40]\n"
          ]
        }
      ]
    },
    {
      "cell_type": "markdown",
      "source": [
        "### list.remove(value)\n",
        "- removes the list element by value\n",
        "- remove first occurence of value\n",
        "- throws error if value/element is not found"
      ],
      "metadata": {
        "id": "Td9Pdb6HAAZI"
      }
    },
    {
      "cell_type": "code",
      "source": [
        "lst.remove('surya')\n",
        "print(lst)"
      ],
      "metadata": {
        "colab": {
          "base_uri": "https://localhost:8080/",
          "height": 193
        },
        "id": "ne7AsNcJ_rqp",
        "outputId": "0ac0b5ea-e55a-4908-9f2c-33962d54688b"
      },
      "execution_count": null,
      "outputs": [
        {
          "output_type": "error",
          "ename": "ValueError",
          "evalue": "ignored",
          "traceback": [
            "\u001b[1;31m---------------------------------------------------------------------------\u001b[0m",
            "\u001b[1;31mValueError\u001b[0m                                Traceback (most recent call last)",
            "Cell \u001b[1;32mIn[62], line 1\u001b[0m\n\u001b[1;32m----> 1\u001b[0m \u001b[43mlst\u001b[49m\u001b[38;5;241;43m.\u001b[39;49m\u001b[43mremove\u001b[49m\u001b[43m(\u001b[49m\u001b[38;5;124;43m'\u001b[39;49m\u001b[38;5;124;43msurya\u001b[39;49m\u001b[38;5;124;43m'\u001b[39;49m\u001b[43m)\u001b[49m\n\u001b[0;32m      2\u001b[0m \u001b[38;5;28mprint\u001b[39m(lst)\n",
            "\u001b[1;31mValueError\u001b[0m: list.remove(x): x not in list"
          ]
        }
      ]
    },
    {
      "cell_type": "code",
      "source": [
        "lst.remove('Surya')\n",
        "print(lst)"
      ],
      "metadata": {
        "colab": {
          "base_uri": "https://localhost:8080/"
        },
        "id": "ab-g4NRVAKgi",
        "outputId": "4878887b-68e4-4031-9392-1f26068e0b80"
      },
      "execution_count": null,
      "outputs": [
        {
          "output_type": "stream",
          "name": "stdout",
          "text": [
            "[10, 20, -10, 30.5, 40]\n"
          ]
        }
      ]
    },
    {
      "cell_type": "markdown",
      "source": [
        "### del(list[index])\n",
        "- removes the list element by index"
      ],
      "metadata": {
        "id": "A9G7JgSMCR8v"
      }
    },
    {
      "cell_type": "code",
      "source": [
        "del(lst[1])\n",
        "print(lst)"
      ],
      "metadata": {
        "colab": {
          "base_uri": "https://localhost:8080/"
        },
        "id": "DKN6U_ldCCPA",
        "outputId": "816660c5-0694-4c46-e694-bbf0766e9e4f"
      },
      "execution_count": null,
      "outputs": [
        {
          "output_type": "stream",
          "name": "stdout",
          "text": [
            "[10, -10, 30.5, 40]\n"
          ]
        }
      ]
    },
    {
      "cell_type": "markdown",
      "source": [
        "## 32. Few more list functions"
      ],
      "metadata": {
        "id": "r4Pd8vmgCmDj"
      }
    },
    {
      "cell_type": "markdown",
      "source": [
        "### list.clear()\n",
        "- removes all items from list"
      ],
      "metadata": {
        "id": "hOSgrT66C0Ql"
      }
    },
    {
      "cell_type": "code",
      "source": [
        "lst.clear()\n",
        "print(lst)"
      ],
      "metadata": {
        "colab": {
          "base_uri": "https://localhost:8080/"
        },
        "id": "hiAVDK-YCctO",
        "outputId": "c312f273-4934-4015-d003-752ce34e9f7b"
      },
      "execution_count": null,
      "outputs": [
        {
          "output_type": "stream",
          "name": "stdout",
          "text": [
            "[]\n"
          ]
        }
      ]
    },
    {
      "cell_type": "code",
      "source": [
        "lst = [10, 20, -10, 30.5]"
      ],
      "metadata": {
        "id": "mTp5oK9tC7tR"
      },
      "execution_count": null,
      "outputs": []
    },
    {
      "cell_type": "markdown",
      "source": [
        "### max(list)\n",
        "- returns max element from list\n",
        "- can be used only when elements are of same type"
      ],
      "metadata": {
        "id": "bgPfva5xDg2H"
      }
    },
    {
      "cell_type": "code",
      "source": [
        "print(max(lst))"
      ],
      "metadata": {
        "colab": {
          "base_uri": "https://localhost:8080/"
        },
        "id": "5fxvjOlmDFRk",
        "outputId": "15b70385-1141-4e1a-ec98-3733d3f330a7"
      },
      "execution_count": null,
      "outputs": [
        {
          "output_type": "stream",
          "name": "stdout",
          "text": [
            "30.5\n"
          ]
        }
      ]
    },
    {
      "cell_type": "markdown",
      "source": [
        "### min(list)\n",
        "- returns min element from list\n",
        "- can be used only when elements are of same type"
      ],
      "metadata": {
        "id": "wSa9UO45Di8r"
      }
    },
    {
      "cell_type": "code",
      "source": [
        "print(min(lst))"
      ],
      "metadata": {
        "colab": {
          "base_uri": "https://localhost:8080/"
        },
        "id": "FS9nj3YWDHTl",
        "outputId": "5b3bbbba-1e3e-48cc-eaca-d5a0b464a62b"
      },
      "execution_count": null,
      "outputs": [
        {
          "output_type": "stream",
          "name": "stdout",
          "text": [
            "-10\n"
          ]
        }
      ]
    },
    {
      "cell_type": "markdown",
      "source": [
        "### list.insert(index, object)\n",
        "- insert object before specified index"
      ],
      "metadata": {
        "id": "KEJEBC9OD9bx"
      }
    },
    {
      "cell_type": "code",
      "source": [
        "print(lst)\n",
        "lst.insert(3, 99)\n",
        "print(lst)"
      ],
      "metadata": {
        "colab": {
          "base_uri": "https://localhost:8080/"
        },
        "id": "vRzzafQ9DRxd",
        "outputId": "53cf637e-0685-4d9d-da30-fb3f11d0f0b0"
      },
      "execution_count": null,
      "outputs": [
        {
          "output_type": "stream",
          "name": "stdout",
          "text": [
            "[10, 20, -10, 30.5]\n",
            "[10, 20, -10, 99, 30.5]\n"
          ]
        }
      ]
    },
    {
      "cell_type": "markdown",
      "source": [
        "### list.sort(key, reverse)\n",
        "- sorts lists in ascending order by default\n",
        "- does not return a list, instead it sorts original list"
      ],
      "metadata": {
        "id": "YUcVZduoJ5P1"
      }
    },
    {
      "cell_type": "code",
      "source": [
        "lst.sort()\n",
        "print(lst)"
      ],
      "metadata": {
        "colab": {
          "base_uri": "https://localhost:8080/"
        },
        "id": "Dm4Es7z1I4uL",
        "outputId": "a465526a-1395-445b-93b5-9e9a906365ac"
      },
      "execution_count": null,
      "outputs": [
        {
          "output_type": "stream",
          "name": "stdout",
          "text": [
            "[-10, 10, 20, 30.5, 99]\n"
          ]
        }
      ]
    },
    {
      "cell_type": "code",
      "source": [
        "lst.sort(reverse=True)\n",
        "# sorts in reverse order\n",
        "print(lst)"
      ],
      "metadata": {
        "colab": {
          "base_uri": "https://localhost:8080/"
        },
        "id": "stUsmz1SKGoM",
        "outputId": "e15b6474-3918-4d6e-88eb-713cce7c5fc0"
      },
      "execution_count": null,
      "outputs": [
        {
          "output_type": "stream",
          "name": "stdout",
          "text": [
            "[99, 30.5, 20, 10, -10]\n"
          ]
        }
      ]
    },
    {
      "cell_type": "markdown",
      "source": [
        "## 33. Tuple\n",
        "- cannot be modified - immutable\n",
        "- can be seen as read-only list\n",
        "- maintains insertion order\n",
        "- allows duplicate elements\n",
        "- allows different types / heterogeneous elements\n",
        "- ```( )``` in a tuple are optional and recommended for readability\n",
        "    - t1 = (1, 2, 3, 4)\n",
        "    - t2 = 1, 2, 3, 4\n",
        "- for a tuple with single element, always end it with a comma\n",
        "    - t3 = 1,"
      ],
      "metadata": {
        "id": "PFnouBabKyiG"
      }
    },
    {
      "cell_type": "markdown",
      "source": [
        "### Methods in tuple\n",
        "- ```tuple.count(value)``` :\n",
        "    - Return number of occurrences of value.\n",
        "- ```tuple.index(value[, start_index[, stop_index]])``` :\n",
        "    - Return first index of value.\n",
        "    - Raises *ValueError* if the value is not present."
      ],
      "metadata": {
        "id": "h9eSMZGO5zib"
      }
    },
    {
      "cell_type": "code",
      "source": [
        "t1.index()"
      ],
      "metadata": {
        "id": "xreM7Pkl5t54"
      },
      "execution_count": null,
      "outputs": []
    },
    {
      "cell_type": "code",
      "source": [
        "# tupletype.py\n",
        "t1 = (1, 2, 3, 4)\n",
        "t1"
      ],
      "metadata": {
        "colab": {
          "base_uri": "https://localhost:8080/"
        },
        "id": "TdIgyrz7KTRj",
        "outputId": "a6c365e9-eebf-40ab-8447-07c9c79fefa8"
      },
      "execution_count": 3,
      "outputs": [
        {
          "output_type": "execute_result",
          "data": {
            "text/plain": [
              "(1, 2, 3, 4)"
            ]
          },
          "metadata": {},
          "execution_count": 3
        }
      ]
    },
    {
      "cell_type": "code",
      "source": [
        "t2 = 1, 2, 3, 4\n",
        "t2"
      ],
      "metadata": {
        "colab": {
          "base_uri": "https://localhost:8080/"
        },
        "id": "pL0hmY5-Lbwe",
        "outputId": "1215cd31-1d4a-46e5-bed6-07a2ecdf9492"
      },
      "execution_count": null,
      "outputs": [
        {
          "output_type": "execute_result",
          "data": {
            "text/plain": [
              "(1, 2, 3, 4)"
            ]
          },
          "metadata": {},
          "execution_count": 93
        }
      ]
    },
    {
      "cell_type": "code",
      "source": [
        "t3 = 1,\n",
        "t3"
      ],
      "metadata": {
        "colab": {
          "base_uri": "https://localhost:8080/"
        },
        "id": "pydoCm8TL2Fc",
        "outputId": "3812d044-b209-4b69-b1ad-ac18ebcc3603"
      },
      "execution_count": null,
      "outputs": [
        {
          "output_type": "execute_result",
          "data": {
            "text/plain": [
              "(1,)"
            ]
          },
          "metadata": {},
          "execution_count": 94
        }
      ]
    },
    {
      "cell_type": "code",
      "source": [
        "t4=()\n",
        "print(tpl)"
      ],
      "metadata": {
        "colab": {
          "base_uri": "https://localhost:8080/"
        },
        "id": "ivExVwq21gD-",
        "outputId": "fc598b19-f1f6-410a-82f2-9d5cbee75a07"
      },
      "execution_count": null,
      "outputs": [
        {
          "output_type": "stream",
          "name": "stdout",
          "text": [
            "()\n"
          ]
        }
      ]
    },
    {
      "cell_type": "markdown",
      "source": [
        "## 34. Use a Tuple"
      ],
      "metadata": {
        "id": "DzVtresPL8Q1"
      }
    },
    {
      "cell_type": "code",
      "source": [
        "tpl = (20, 30, 40, 20, 50, 'xyz')\n",
        "print(tpl)"
      ],
      "metadata": {
        "colab": {
          "base_uri": "https://localhost:8080/"
        },
        "id": "j-SKTZLYL4Jk",
        "outputId": "6b7d5264-fb9c-4056-fbcc-b48e7691510d"
      },
      "execution_count": null,
      "outputs": [
        {
          "output_type": "stream",
          "name": "stdout",
          "text": [
            "(20, 30, 40, 20, 50, 'xyz')\n"
          ]
        }
      ]
    },
    {
      "cell_type": "code",
      "source": [
        "tpl = (20,)\n",
        "print(type(tpl))"
      ],
      "metadata": {
        "colab": {
          "base_uri": "https://localhost:8080/"
        },
        "id": "A9zYY5TD11Az",
        "outputId": "03802cc6-cd35-45d0-9b63-8ef908659696"
      },
      "execution_count": null,
      "outputs": [
        {
          "output_type": "stream",
          "name": "stdout",
          "text": [
            "<class 'tuple'>\n"
          ]
        }
      ]
    },
    {
      "cell_type": "code",
      "source": [
        "tpl = (20)\n",
        "print(type(tpl))"
      ],
      "metadata": {
        "colab": {
          "base_uri": "https://localhost:8080/"
        },
        "id": "PBOpoVGO16OS",
        "outputId": "981fe001-57ce-4760-86ac-42f41138ff34"
      },
      "execution_count": null,
      "outputs": [
        {
          "output_type": "stream",
          "name": "stdout",
          "text": [
            "<class 'int'>\n"
          ]
        }
      ]
    },
    {
      "cell_type": "code",
      "source": [
        "tpl = (20, 30, 20, 'xyz')\n",
        "tpl[2] = 123 # not allowed to modify element becuase tuple is immutable\n",
        "# but overwriting a tuple is allowed"
      ],
      "metadata": {
        "colab": {
          "base_uri": "https://localhost:8080/",
          "height": 210
        },
        "id": "s62-1BWt1ZiD",
        "outputId": "9a011f7f-319b-4539-d160-32a31f0108a0"
      },
      "execution_count": null,
      "outputs": [
        {
          "output_type": "error",
          "ename": "TypeError",
          "evalue": "ignored",
          "traceback": [
            "\u001b[1;31m---------------------------------------------------------------------------\u001b[0m",
            "\u001b[1;31mTypeError\u001b[0m                                 Traceback (most recent call last)",
            "Cell \u001b[1;32mIn[105], line 2\u001b[0m\n\u001b[0;32m      1\u001b[0m tpl \u001b[38;5;241m=\u001b[39m (\u001b[38;5;241m20\u001b[39m, \u001b[38;5;241m30\u001b[39m, \u001b[38;5;241m20\u001b[39m, \u001b[38;5;124m'\u001b[39m\u001b[38;5;124mxyz\u001b[39m\u001b[38;5;124m'\u001b[39m)\n\u001b[1;32m----> 2\u001b[0m \u001b[43mtpl\u001b[49m\u001b[43m[\u001b[49m\u001b[38;5;241;43m2\u001b[39;49m\u001b[43m]\u001b[49m \u001b[38;5;241m=\u001b[39m \u001b[38;5;241m123\u001b[39m \u001b[38;5;66;03m# not allowed to modify element becuase tuple is immutable\u001b[39;00m\n\u001b[0;32m      3\u001b[0m \u001b[38;5;66;03m# but overwriting a tuple is allowed\u001b[39;00m\n",
            "\u001b[1;31mTypeError\u001b[0m: 'tuple' object does not support item assignment"
          ]
        }
      ]
    },
    {
      "cell_type": "markdown",
      "source": [
        "### repetition in tuple"
      ],
      "metadata": {
        "id": "4QYPWvXu2szU"
      }
    },
    {
      "cell_type": "code",
      "source": [
        "tpl = (20, 30, 20, 'xyz')\n",
        "print(type(tpl))\n",
        "print(tpl*3)"
      ],
      "metadata": {
        "colab": {
          "base_uri": "https://localhost:8080/"
        },
        "id": "4A93J-jf2Ycf",
        "outputId": "3ee3e956-480b-4a9f-f960-683ce0f39491"
      },
      "execution_count": null,
      "outputs": [
        {
          "output_type": "stream",
          "name": "stdout",
          "text": [
            "<class 'tuple'>\n",
            "(20, 30, 20, 'xyz', 20, 30, 20, 'xyz', 20, 30, 20, 'xyz')\n"
          ]
        }
      ]
    },
    {
      "cell_type": "markdown",
      "source": [
        "### tuple.count(value)\n",
        "- returns number of occurences if a value"
      ],
      "metadata": {
        "id": "Ga8f3Xjd25h7"
      }
    },
    {
      "cell_type": "code",
      "source": [
        "print(tpl.count(20))"
      ],
      "metadata": {
        "colab": {
          "base_uri": "https://localhost:8080/"
        },
        "id": "0D1nXY182jzI",
        "outputId": "abfefd11-9670-4251-c072-c9baf6460b30"
      },
      "execution_count": null,
      "outputs": [
        {
          "output_type": "stream",
          "name": "stdout",
          "text": [
            "2\n"
          ]
        }
      ]
    },
    {
      "cell_type": "markdown",
      "source": [
        "### tuple.index(value)\n",
        "- returns first index of value"
      ],
      "metadata": {
        "id": "V2iZhCfA3eoe"
      }
    },
    {
      "cell_type": "code",
      "source": [
        "print(tpl.index('xyz'))"
      ],
      "metadata": {
        "colab": {
          "base_uri": "https://localhost:8080/"
        },
        "id": "ohm0fpwQ20UM",
        "outputId": "934b8653-42ff-4108-fda5-67c2ea858878"
      },
      "execution_count": null,
      "outputs": [
        {
          "output_type": "stream",
          "name": "stdout",
          "text": [
            "3\n"
          ]
        }
      ]
    },
    {
      "cell_type": "code",
      "source": [
        "print(tpl.index(20))"
      ],
      "metadata": {
        "colab": {
          "base_uri": "https://localhost:8080/"
        },
        "id": "in1UBKc53jsT",
        "outputId": "17ed2bbd-745f-4a0b-a70b-3ac5ea4a3e60"
      },
      "execution_count": null,
      "outputs": [
        {
          "output_type": "stream",
          "name": "stdout",
          "text": [
            "0\n"
          ]
        }
      ]
    },
    {
      "cell_type": "markdown",
      "source": [
        "### Slicing a tuple"
      ],
      "metadata": {
        "id": "VLTIRAbC3t4f"
      }
    },
    {
      "cell_type": "code",
      "source": [
        "print(tpl[1:3])"
      ],
      "metadata": {
        "colab": {
          "base_uri": "https://localhost:8080/"
        },
        "id": "05-FK5zA3oTr",
        "outputId": "9124f9fc-c06e-4a44-cdff-5f0b493e8e18"
      },
      "execution_count": null,
      "outputs": [
        {
          "output_type": "stream",
          "name": "stdout",
          "text": [
            "(30, 20)\n"
          ]
        }
      ]
    },
    {
      "cell_type": "markdown",
      "source": [
        "## 35.  List to Tuple"
      ],
      "metadata": {
        "id": "9rxDHNy2327Q"
      }
    },
    {
      "cell_type": "markdown",
      "source": [
        "### tuple(iterable)\n",
        "- returns empty tuple if empty\n",
        "- returns a tuple of items in an iterable"
      ],
      "metadata": {
        "id": "jiVQIj2s4Xfk"
      }
    },
    {
      "cell_type": "code",
      "source": [
        "lst = [67, 34, 'XYZ']\n",
        "print(type(lst))\n",
        "tpl1 = tuple(lst)\n",
        "print(type(tpl1))\n",
        "print(tpl1)"
      ],
      "metadata": {
        "colab": {
          "base_uri": "https://localhost:8080/"
        },
        "id": "ame3bWFr3x2L",
        "outputId": "7df0dc57-7171-4f15-e11f-b2314842d505"
      },
      "execution_count": null,
      "outputs": [
        {
          "output_type": "stream",
          "name": "stdout",
          "text": [
            "<class 'list'>\n",
            "<class 'tuple'>\n",
            "(67, 34, 'XYZ')\n"
          ]
        }
      ]
    },
    {
      "cell_type": "markdown",
      "source": [
        "## 36. List vs Tuple\n",
        "    - square brackets [ ] are used          Parenthesis ( ) are used\n",
        "    - square brackets are mandatory         Parenthesis are optional\n",
        "    - mutable                               immutable\n",
        "    - used where elements keeps changing    used where elements don't change\n",
        "    - can't be used as key to dict          can be used as a key to dict because it is immutable & hashable\n",
        "    - [1, 2, 3]                             (1, 2, 3)\n"
      ],
      "metadata": {
        "id": "OnoATpzv4oVF"
      }
    },
    {
      "cell_type": "markdown",
      "source": [
        "## 37. Set Type\n",
        "- uses ```{ }``` to represent elements\n",
        "- doesn't allow duplicates\n",
        "- doesn't guarantee the order of elements, so indexing is not allowed\n",
        "- repetition is not allowed\n",
        "- elements of set must be hashable(immutable)"
      ],
      "metadata": {
        "id": "NgDzMl6754dW"
      }
    },
    {
      "cell_type": "markdown",
      "source": [
        "### Methods in set\n",
        "- ```len(set)``` :\n",
        "    - Return the number of elements in set\n",
        "    - (cardinality of set).\n",
        "- ```ele in set``` :\n",
        "    - Test ele for membership in set.\n",
        "- ```ele not in set``` :\n",
        "    - Test ele for non-membership in set.\n",
        "- ```set.add(ele)``` :\n",
        "    - Add an element to a set.\n",
        "    - This has no effect if the element is already present.\n",
        "- ```set.update(*others)``` :\n",
        "- ```set |= other | ...``` :\n",
        "    - Update the set, adding elements from all others.\n",
        "    - (i.e. Update a set with the union of itself and others.)\n",
        "- ```set.clear()``` :\n",
        "    - Remove all elements from this set.\n",
        "- ```set.copy()``` :\n",
        "    - Return a shallow copy of a set.\n",
        "- ```set.discard(ele)``` :\n",
        "    - Remove an element from a set if it is a member.\n",
        "    - If the element is not a member, do nothing.\n",
        "- ```set.remove(ele)``` :\n",
        "    - Remove an element from a set; it must be a member.\n",
        "    - Raises *KeyError* if the element is not a member.\n",
        "- ```set.pop()``` :\n",
        "    - Remove and return an arbitrary set element.\n",
        "    - Raises *KeyError* if the set is empty.\n",
        "- ```set.isdisjoint(other)``` :\n",
        "    - Return True if the set has no elements in common with other. Sets are disjoint if and only if their intersection is the empty set.\n",
        "- ```set.issubset(other)```\n",
        "- ```set <= other```:\n",
        "    - Test whether every element in the set is in *other*.\n",
        "- ```set.issuperset(other)``` :\n",
        "- ```set >= other``` :\n",
        "    - Test whether every element in *other* is in the set.\n",
        "- ```set.union(*others)``` :\n",
        "- ```set | other | ...``` :\n",
        "    - Return a new set with elements from the set and all others.\n",
        "    - (i.e. all elements that are in either set.)\n",
        "- ```set.intersection(*others)```:\n",
        "- ```set & other & ...``` :\n",
        "    - Return a new set with elements common to the set and all others.\n",
        "    - (i.e. all elements that are in both sets.)\n",
        "- ```set.intersection_update(*others)``` :\n",
        "- ```set &= other & ...``` :\n",
        "    - Update the set, keeping only elements found in it and all others.\n",
        "- ```set.difference(*others)``` :\n",
        "- ```set - other - ...``` :\n",
        "    - Return a new set with elements in the set that are not in the others.\n",
        "    - (i.e. all elements that are in this set but not the others.)\n",
        "- ```set.difference_update(*others)```:\n",
        "- ```set -= other | ...``` :\n",
        "    - Update the set, removing elements found in others.\n",
        "- ```set.symmetric_difference(other)``` :\n",
        "- ```set ^ other``` :\n",
        "    - Return a new set with elements in either the set or other but not both.\n",
        "    - (i.e. all elements that are in exactly one of the sets.)\n",
        "- ```set.symmetric_difference_update(other)``` :\n",
        "- ```set ^= other``` :\n",
        "    - Update the set, keeping only elements found in either set, but not in both.\n"
      ],
      "metadata": {
        "id": "aOJQap1U6qVB"
      }
    },
    {
      "cell_type": "code",
      "source": [
        "#   settype.py\n",
        "s = {10, 20, 30, \"XYZ\"}\n",
        "print(s)\n",
        "print(type(s))"
      ],
      "metadata": {
        "colab": {
          "base_uri": "https://localhost:8080/"
        },
        "id": "ufNCH-wH4KEU",
        "outputId": "d3449d87-f18c-41fc-a477-0f44f9e0a520"
      },
      "execution_count": 4,
      "outputs": [
        {
          "output_type": "stream",
          "name": "stdout",
          "text": [
            "{10, 20, 'XYZ', 30}\n",
            "<class 'set'>\n"
          ]
        }
      ]
    },
    {
      "cell_type": "code",
      "source": [
        "s = {10, 20, 30, \"XYZ\", 10, 20, 10} # duplicates not allowed\n",
        "print(s)\n",
        "print(type(s))"
      ],
      "metadata": {
        "colab": {
          "base_uri": "https://localhost:8080/"
        },
        "id": "_aoWAP4D6UEr",
        "outputId": "9248582e-8cc2-4aeb-a364-5a9d0ebee4cc"
      },
      "execution_count": null,
      "outputs": [
        {
          "output_type": "stream",
          "name": "stdout",
          "text": [
            "{10, 'XYZ', 20, 30}\n",
            "<class 'set'>\n"
          ]
        }
      ]
    },
    {
      "cell_type": "markdown",
      "source": [
        "### set.update(iterable)\n",
        "- to update elements of set with new elements of an iterable"
      ],
      "metadata": {
        "id": "pwXqw7Jv8Owa"
      }
    },
    {
      "cell_type": "code",
      "source": [
        "s.update([88, 99])\n",
        "print(s)"
      ],
      "metadata": {
        "colab": {
          "base_uri": "https://localhost:8080/"
        },
        "id": "V2lyY_Eu6lCk",
        "outputId": "443194b1-af38-40ea-d08b-69ad06e3eefb"
      },
      "execution_count": null,
      "outputs": [
        {
          "output_type": "stream",
          "name": "stdout",
          "text": [
            "{99, 10, 'XYZ', 20, 88, 30}\n"
          ]
        }
      ]
    },
    {
      "cell_type": "markdown",
      "source": [
        "### indexing in set"
      ],
      "metadata": {
        "id": "xMVX-YlU9B9F"
      }
    },
    {
      "cell_type": "code",
      "source": [
        "print(s[0]) # indexing is not allowed in set"
      ],
      "metadata": {
        "colab": {
          "base_uri": "https://localhost:8080/",
          "height": 175
        },
        "id": "Xo__StQ28f9C",
        "outputId": "2177aea3-cd7a-4f58-9a82-16d44af40813"
      },
      "execution_count": null,
      "outputs": [
        {
          "output_type": "error",
          "ename": "TypeError",
          "evalue": "ignored",
          "traceback": [
            "\u001b[1;31m---------------------------------------------------------------------------\u001b[0m",
            "\u001b[1;31mTypeError\u001b[0m                                 Traceback (most recent call last)",
            "Cell \u001b[1;32mIn[128], line 1\u001b[0m\n\u001b[1;32m----> 1\u001b[0m \u001b[38;5;28mprint\u001b[39m(\u001b[43ms\u001b[49m\u001b[43m[\u001b[49m\u001b[38;5;241;43m0\u001b[39;49m\u001b[43m]\u001b[49m) \u001b[38;5;66;03m# indexing is not allowed in set\u001b[39;00m\n",
            "\u001b[1;31mTypeError\u001b[0m: 'set' object is not subscriptable"
          ]
        }
      ]
    },
    {
      "cell_type": "markdown",
      "source": [
        "### slicing a set"
      ],
      "metadata": {
        "id": "N-Y3BMfv9L0w"
      }
    },
    {
      "cell_type": "code",
      "source": [
        "print(s[0:5]) # indexing is not allowed in set, so slicing is not possible"
      ],
      "metadata": {
        "colab": {
          "base_uri": "https://localhost:8080/",
          "height": 175
        },
        "id": "zYwVJoAO8pCQ",
        "outputId": "0fb5062e-5de4-4d46-f4b1-d7a48ad1e59f"
      },
      "execution_count": null,
      "outputs": [
        {
          "output_type": "error",
          "ename": "TypeError",
          "evalue": "ignored",
          "traceback": [
            "\u001b[1;31m---------------------------------------------------------------------------\u001b[0m",
            "\u001b[1;31mTypeError\u001b[0m                                 Traceback (most recent call last)",
            "Cell \u001b[1;32mIn[129], line 1\u001b[0m\n\u001b[1;32m----> 1\u001b[0m \u001b[38;5;28mprint\u001b[39m(\u001b[43ms\u001b[49m\u001b[43m[\u001b[49m\u001b[38;5;241;43m0\u001b[39;49m\u001b[43m:\u001b[49m\u001b[38;5;241;43m5\u001b[39;49m\u001b[43m]\u001b[49m) \u001b[38;5;66;03m# indexing is not allowed in set, so slicing is not possible\u001b[39;00m\n",
            "\u001b[1;31mTypeError\u001b[0m: 'set' object is not subscriptable"
          ]
        }
      ]
    },
    {
      "cell_type": "markdown",
      "source": [
        "### repetition in set"
      ],
      "metadata": {
        "id": "DDzNs6gh9drq"
      }
    },
    {
      "cell_type": "code",
      "source": [
        "print(s*3) # repetition is not allowed"
      ],
      "metadata": {
        "colab": {
          "base_uri": "https://localhost:8080/",
          "height": 175
        },
        "id": "MUhJHhr19S-u",
        "outputId": "6789bc92-68da-4779-8007-5c9eafb378b8"
      },
      "execution_count": null,
      "outputs": [
        {
          "output_type": "error",
          "ename": "TypeError",
          "evalue": "ignored",
          "traceback": [
            "\u001b[1;31m---------------------------------------------------------------------------\u001b[0m",
            "\u001b[1;31mTypeError\u001b[0m                                 Traceback (most recent call last)",
            "Cell \u001b[1;32mIn[130], line 1\u001b[0m\n\u001b[1;32m----> 1\u001b[0m \u001b[38;5;28mprint\u001b[39m(\u001b[43ms\u001b[49m\u001b[38;5;241;43m*\u001b[39;49m\u001b[38;5;241;43m3\u001b[39;49m) \u001b[38;5;66;03m# repetition is not allowed\u001b[39;00m\n",
            "\u001b[1;31mTypeError\u001b[0m: unsupported operand type(s) for *: 'set' and 'int'"
          ]
        }
      ]
    },
    {
      "cell_type": "markdown",
      "source": [
        "### set.remove(member)\n",
        "- removes single element from a set\n",
        "- throws error if element is not found in set"
      ],
      "metadata": {
        "id": "tuzvDwLl920M"
      }
    },
    {
      "cell_type": "code",
      "source": [
        "s.remove(30)\n",
        "print(s)"
      ],
      "metadata": {
        "colab": {
          "base_uri": "https://localhost:8080/"
        },
        "id": "oFALYfLw9kMR",
        "outputId": "f865c396-85b2-4645-d6a2-67cdd1a7f78d"
      },
      "execution_count": null,
      "outputs": [
        {
          "output_type": "stream",
          "name": "stdout",
          "text": [
            "{99, 10, 'XYZ', 20, 88}\n"
          ]
        }
      ]
    },
    {
      "cell_type": "markdown",
      "source": [
        "## 38. Frozen Set\n",
        "- doesn't allow to update or remove elements from set\n",
        "- makes a set immutable, only traversing through elements is allowed"
      ],
      "metadata": {
        "id": "VG2XQDfU-Q8b"
      }
    },
    {
      "cell_type": "markdown",
      "source": [
        "### Methods in frozenset\n",
        "- ```len(frozenset)``` :\n",
        "    - Return the number of elements in set.\n",
        "    - (cardinality of set).\n",
        "- ```ele in frozenset``` :\n",
        "    - Test ele for membership in set.\n",
        "- ```ele not in frozenset``` :\n",
        "    - Test ele for non-membership in set.\n",
        "- ```frozenset.copy()``` :\n",
        "    - Return a shallow copy of a set.\n",
        "- ```frozenset.isdisjoint(other)``` :\n",
        "    - Return True if the set has no elements in common with other. Sets are disjoint if and only if their intersection is the empty set.\n",
        "- ```frozenset.issubset(other)```\n",
        "- ```frozenset <= other```:\n",
        "    - Test whether every element in the set is in *other*.\n",
        "- ```frozenset.issuperset(other)``` :\n",
        "- ```frozenset >= other``` :\n",
        "    - Test whether every element in *other* is in the set.\n",
        "- ```frozenset.union(*others)``` :\n",
        "- ```frozenset | other | ...``` :\n",
        "    - Return a new set with elements from the set and all others.\n",
        "    - (i.e. all elements that are in either set.)\n",
        "- ```frozenset.intersection(*others)```:\n",
        "- ```frozenset & other & ...``` :\n",
        "    - Return a new set with elements common to the set and all others.\n",
        "    - (i.e. all elements that are in both sets.)\n",
        "- ```frozenset.difference(*others)``` :\n",
        "- ```frozenset - other - ...``` :\n",
        "    - Return a new set with elements in the set that are not in the others.\n",
        "    - (i.e. all elements that are in this set but not the others.)\n",
        "- ```frozenset.symmetric_difference(other)``` :\n",
        "- ```frozenset ^ other``` :\n",
        "    - Return a new set with elements in either the set or other but not both.\n",
        "    - (i.e. all elements that are in exactly one of the sets.)\n",
        "\n",
        "\n"
      ],
      "metadata": {
        "id": "2UUOu763Dduw"
      }
    },
    {
      "cell_type": "code",
      "source": [
        "f."
      ],
      "metadata": {
        "id": "IUdp-X9VDder"
      },
      "execution_count": null,
      "outputs": []
    },
    {
      "cell_type": "code",
      "source": [
        "f = frozenset(s)\n",
        "print(type(f))\n",
        "print(f)"
      ],
      "metadata": {
        "colab": {
          "base_uri": "https://localhost:8080/"
        },
        "id": "8pUgxNTE9w-J",
        "outputId": "0afd4c9f-d511-413f-fa20-f1d9f34872b3"
      },
      "execution_count": 9,
      "outputs": [
        {
          "output_type": "stream",
          "name": "stdout",
          "text": [
            "<class 'frozenset'>\n",
            "frozenset({10, 20, 'XYZ', 30})\n"
          ]
        }
      ]
    },
    {
      "cell_type": "code",
      "source": [
        "f.update([20]) # update in frozenset is not allowed"
      ],
      "metadata": {
        "colab": {
          "base_uri": "https://localhost:8080/",
          "height": 175
        },
        "id": "dQlxsEqH-nL_",
        "outputId": "0e4a1c81-0ced-4922-8b58-e68ebbc1659a"
      },
      "execution_count": null,
      "outputs": [
        {
          "output_type": "error",
          "ename": "AttributeError",
          "evalue": "ignored",
          "traceback": [
            "\u001b[1;31m---------------------------------------------------------------------------\u001b[0m",
            "\u001b[1;31mAttributeError\u001b[0m                            Traceback (most recent call last)",
            "Cell \u001b[1;32mIn[141], line 1\u001b[0m\n\u001b[1;32m----> 1\u001b[0m \u001b[43mf\u001b[49m\u001b[38;5;241;43m.\u001b[39;49m\u001b[43mupdate\u001b[49m([\u001b[38;5;241m20\u001b[39m]) \u001b[38;5;66;03m# update in frozenset is not allowed\u001b[39;00m\n",
            "\u001b[1;31mAttributeError\u001b[0m: 'frozenset' object has no attribute 'update'"
          ]
        }
      ]
    },
    {
      "cell_type": "code",
      "source": [
        "f.remove(20) # remove operation in frozemset is not allowed"
      ],
      "metadata": {
        "colab": {
          "base_uri": "https://localhost:8080/",
          "height": 175
        },
        "id": "wBEmx3Xi-wC5",
        "outputId": "59a0c3ef-f8da-4788-8737-6a9661db8b36"
      },
      "execution_count": null,
      "outputs": [
        {
          "output_type": "error",
          "ename": "AttributeError",
          "evalue": "ignored",
          "traceback": [
            "\u001b[1;31m---------------------------------------------------------------------------\u001b[0m",
            "\u001b[1;31mAttributeError\u001b[0m                            Traceback (most recent call last)",
            "Cell \u001b[1;32mIn[142], line 1\u001b[0m\n\u001b[1;32m----> 1\u001b[0m \u001b[43mf\u001b[49m\u001b[38;5;241;43m.\u001b[39;49m\u001b[43mremove\u001b[49m(\u001b[38;5;241m20\u001b[39m) \u001b[38;5;66;03m# remove operation in frozemset is not allowed\u001b[39;00m\n",
            "\u001b[1;31mAttributeError\u001b[0m: 'frozenset' object has no attribute 'remove'"
          ]
        }
      ]
    },
    {
      "cell_type": "code",
      "source": [
        "print(f)"
      ],
      "metadata": {
        "colab": {
          "base_uri": "https://localhost:8080/"
        },
        "id": "Kq-Gtd7C-yGk",
        "outputId": "33a90a41-dff0-4985-edfa-a7d40889f03b"
      },
      "execution_count": null,
      "outputs": [
        {
          "output_type": "stream",
          "name": "stdout",
          "text": [
            "frozenset({'XYZ', 99, 20, 88, 10})\n"
          ]
        }
      ]
    },
    {
      "cell_type": "markdown",
      "source": [
        "##39. range type"
      ],
      "metadata": {
        "id": "AWTPwJhj_MKY"
      }
    },
    {
      "cell_type": "markdown",
      "source": [
        "### range(stop)\n",
        "- returns a sequence of ```integers``` starting from ```0``` till ```stop - 1```"
      ],
      "metadata": {
        "id": "c-7oYnnn_x48"
      }
    },
    {
      "cell_type": "code",
      "source": [
        "# rangetype.py\n",
        "r = range(5)\n",
        "for i in r:\n",
        "    print(i)"
      ],
      "metadata": {
        "colab": {
          "base_uri": "https://localhost:8080/"
        },
        "id": "x5cmJ1WM_Fpm",
        "outputId": "5c662ec6-cde2-4283-ccdb-aa0d1c79bbc5"
      },
      "execution_count": 5,
      "outputs": [
        {
          "output_type": "stream",
          "name": "stdout",
          "text": [
            "0\n",
            "1\n",
            "2\n",
            "3\n",
            "4\n"
          ]
        }
      ]
    },
    {
      "cell_type": "markdown",
      "source": [
        "### range(start, stop)\n",
        "- returns a sequence of ```integers``` starting from ```start``` till ```stop - 1```"
      ],
      "metadata": {
        "id": "y1iQB0N1AVxV"
      }
    },
    {
      "cell_type": "code",
      "source": [
        "r = range(1, 6)\n",
        "for i in r:\n",
        "    print(i)"
      ],
      "metadata": {
        "colab": {
          "base_uri": "https://localhost:8080/"
        },
        "id": "V6TNGuv6_7mR",
        "outputId": "78a7c332-500f-4147-cda2-6f56b517c4eb"
      },
      "execution_count": null,
      "outputs": [
        {
          "output_type": "stream",
          "name": "stdout",
          "text": [
            "1\n",
            "2\n",
            "3\n",
            "4\n",
            "5\n"
          ]
        }
      ]
    },
    {
      "cell_type": "markdown",
      "source": [
        "### range(start, stop, step)\n",
        "- returns a sequence of ```integers``` starting from ```start``` till ```stop - 1``` with skipping ```step``` number of integers"
      ],
      "metadata": {
        "id": "rFzoSyjnAnkr"
      }
    },
    {
      "cell_type": "code",
      "source": [
        "r = range(1, 15, 3)\n",
        "for i in r:\n",
        "    print(i)"
      ],
      "metadata": {
        "colab": {
          "base_uri": "https://localhost:8080/"
        },
        "id": "b2BXGEafAY_O",
        "outputId": "b1190035-8d7b-4f27-b06f-9f42dc92480f"
      },
      "execution_count": null,
      "outputs": [
        {
          "output_type": "stream",
          "name": "stdout",
          "text": [
            "1\n",
            "4\n",
            "7\n",
            "10\n",
            "13\n"
          ]
        }
      ]
    },
    {
      "cell_type": "markdown",
      "source": [
        "## 40. bytes and bytearray\n",
        "- max value allowed is 255 for a byte"
      ],
      "metadata": {
        "id": "XofsgMk1BBC-"
      }
    },
    {
      "cell_type": "code",
      "source": [
        "# bytesandarrays.py\n",
        "lst = [20, 30, 40, 234]\n",
        "print(type(lst))"
      ],
      "metadata": {
        "colab": {
          "base_uri": "https://localhost:8080/"
        },
        "id": "mcT7ELBRAuJE",
        "outputId": "71a7899d-0bea-46e5-e67c-43ea4463c924"
      },
      "execution_count": 6,
      "outputs": [
        {
          "output_type": "stream",
          "name": "stdout",
          "text": [
            "<class 'list'>\n"
          ]
        }
      ]
    },
    {
      "cell_type": "markdown",
      "source": [
        "### bytes(iterable)\n",
        "- constructs an immutable array of bytes from the iterable argument\n",
        "- returns empty byte if no argument is passed\n",
        "- modifing elements is not allowed as it is immutable\n",
        "- slicing & repetition is allowed"
      ],
      "metadata": {
        "id": "s1wQqNZ7BlFr"
      }
    },
    {
      "cell_type": "code",
      "source": [
        "b = bytes()\n",
        "print(b)"
      ],
      "metadata": {
        "colab": {
          "base_uri": "https://localhost:8080/"
        },
        "id": "G2Wq-B64DskP",
        "outputId": "b9134622-31c8-4ff8-a945-aa9478568691"
      },
      "execution_count": null,
      "outputs": [
        {
          "output_type": "stream",
          "name": "stdout",
          "text": [
            "b''\n"
          ]
        }
      ]
    },
    {
      "cell_type": "code",
      "source": [
        "b = bytes(lst)\n",
        "print(type(b))\n",
        "print(b)"
      ],
      "metadata": {
        "colab": {
          "base_uri": "https://localhost:8080/"
        },
        "id": "O-artU6aBWdt",
        "outputId": "b68a788e-0caa-43e9-8f39-c4dc01a6a66a"
      },
      "execution_count": null,
      "outputs": [
        {
          "output_type": "stream",
          "name": "stdout",
          "text": [
            "<class 'bytes'>\n",
            "b'\\x14\\x1e(\\xea'\n"
          ]
        }
      ]
    },
    {
      "cell_type": "markdown",
      "source": [
        "#### indexing in bytes"
      ],
      "metadata": {
        "id": "_BgrTJs0E8SX"
      }
    },
    {
      "cell_type": "code",
      "source": [
        "print(b[3])"
      ],
      "metadata": {
        "colab": {
          "base_uri": "https://localhost:8080/"
        },
        "id": "NQWPoFzyE-Pw",
        "outputId": "2cae874a-7795-4007-d0b3-2f64450ce16e"
      },
      "execution_count": null,
      "outputs": [
        {
          "output_type": "stream",
          "name": "stdout",
          "text": [
            "234\n"
          ]
        }
      ]
    },
    {
      "cell_type": "code",
      "source": [
        "b[3] = 22 # not allowed as bytes is immutable"
      ],
      "metadata": {
        "colab": {
          "base_uri": "https://localhost:8080/",
          "height": 175
        },
        "id": "61uEA9uMBsuR",
        "outputId": "10c5ea7c-6cde-493c-cb9a-3d2402c882ed"
      },
      "execution_count": null,
      "outputs": [
        {
          "output_type": "error",
          "ename": "TypeError",
          "evalue": "ignored",
          "traceback": [
            "\u001b[1;31m---------------------------------------------------------------------------\u001b[0m",
            "\u001b[1;31mTypeError\u001b[0m                                 Traceback (most recent call last)",
            "Cell \u001b[1;32mIn[167], line 1\u001b[0m\n\u001b[1;32m----> 1\u001b[0m \u001b[43mb\u001b[49m\u001b[43m[\u001b[49m\u001b[38;5;241;43m3\u001b[39;49m\u001b[43m]\u001b[49m \u001b[38;5;241m=\u001b[39m \u001b[38;5;241m22\u001b[39m \u001b[38;5;66;03m# not allowed as bytes is immutable\u001b[39;00m\n",
            "\u001b[1;31mTypeError\u001b[0m: 'bytes' object does not support item assignment"
          ]
        }
      ]
    },
    {
      "cell_type": "markdown",
      "source": [
        "#### slicing in bytes"
      ],
      "metadata": {
        "id": "x2K_FK5lE0qa"
      }
    },
    {
      "cell_type": "code",
      "source": [
        "print(b[0:2])"
      ],
      "metadata": {
        "colab": {
          "base_uri": "https://localhost:8080/"
        },
        "id": "JDhR-RqjElIE",
        "outputId": "bc8b2f7b-6835-4643-a564-5c864fe7e86f"
      },
      "execution_count": null,
      "outputs": [
        {
          "output_type": "stream",
          "name": "stdout",
          "text": [
            "b'\\x14\\x1e'\n"
          ]
        }
      ]
    },
    {
      "cell_type": "markdown",
      "source": [
        "#### repetition in bytes"
      ],
      "metadata": {
        "id": "ym39NaKZE35J"
      }
    },
    {
      "cell_type": "code",
      "source": [
        "print(b*3)"
      ],
      "metadata": {
        "colab": {
          "base_uri": "https://localhost:8080/"
        },
        "id": "ekCjDoHDEsSw",
        "outputId": "bab629a7-6cf3-4738-9e96-c4962a2c7b10"
      },
      "execution_count": null,
      "outputs": [
        {
          "output_type": "stream",
          "name": "stdout",
          "text": [
            "b'\\x14\\x1e(\\xea\\x14\\x1e(\\xea\\x14\\x1e(\\xea'\n"
          ]
        }
      ]
    },
    {
      "cell_type": "markdown",
      "source": [
        "### bytearray(iterable)\n",
        "- construct a mutable bytearray object from the iterable argument\n",
        "- returns an empty bytearray object if no argument is passed\n",
        "- modifying elements is allowed as it is mutable\n",
        "- slicing & repetition is allowed"
      ],
      "metadata": {
        "id": "4_K-sl1sCD5I"
      }
    },
    {
      "cell_type": "code",
      "source": [
        "b1 = bytearray()\n",
        "print(b1)"
      ],
      "metadata": {
        "colab": {
          "base_uri": "https://localhost:8080/"
        },
        "id": "wwq8tANIDxJJ",
        "outputId": "da098fa4-1c3f-415b-f3c8-f4c47d304c82"
      },
      "execution_count": null,
      "outputs": [
        {
          "output_type": "stream",
          "name": "stdout",
          "text": [
            "bytearray(b'')\n"
          ]
        }
      ]
    },
    {
      "cell_type": "code",
      "source": [
        "b1 = bytearray(lst)\n",
        "print(type(b1))\n",
        "print(b1)"
      ],
      "metadata": {
        "colab": {
          "base_uri": "https://localhost:8080/"
        },
        "id": "4KN55iD7B6IM",
        "outputId": "6ff32fec-142d-4cc6-d92f-2372d4686b64"
      },
      "execution_count": null,
      "outputs": [
        {
          "output_type": "stream",
          "name": "stdout",
          "text": [
            "<class 'bytearray'>\n",
            "bytearray(b'\\x14\\x1e(\\xea')\n"
          ]
        }
      ]
    },
    {
      "cell_type": "markdown",
      "source": [
        "#### indexing in bytearray"
      ],
      "metadata": {
        "id": "2OhvHhBeE7Vo"
      }
    },
    {
      "cell_type": "code",
      "source": [
        "print(b1[3])"
      ],
      "metadata": {
        "colab": {
          "base_uri": "https://localhost:8080/"
        },
        "id": "-y3CF8u1FJu1",
        "outputId": "967d780f-ac4e-4c29-a243-351055eab849"
      },
      "execution_count": null,
      "outputs": [
        {
          "output_type": "stream",
          "name": "stdout",
          "text": [
            "234\n"
          ]
        }
      ]
    },
    {
      "cell_type": "code",
      "source": [
        "b1[2] = 33 # updating elements is allowed\n",
        "print(b1)"
      ],
      "metadata": {
        "colab": {
          "base_uri": "https://localhost:8080/"
        },
        "id": "2uMkmiKRDPbZ",
        "outputId": "f8d87ea6-0d76-46ce-d70b-182e4757cf94"
      },
      "execution_count": null,
      "outputs": [
        {
          "output_type": "stream",
          "name": "stdout",
          "text": [
            "bytearray(b'\\x14\\x1e!\\xea')\n"
          ]
        }
      ]
    },
    {
      "cell_type": "markdown",
      "source": [
        "#### slicing in bytearray"
      ],
      "metadata": {
        "id": "qWvfuoQhFXyu"
      }
    },
    {
      "cell_type": "code",
      "source": [
        "print(b1[1:3])"
      ],
      "metadata": {
        "colab": {
          "base_uri": "https://localhost:8080/"
        },
        "id": "gCoF6GObETou",
        "outputId": "db71d74b-4138-4d6f-d7d7-5ed3298c49d5"
      },
      "execution_count": null,
      "outputs": [
        {
          "output_type": "stream",
          "name": "stdout",
          "text": [
            "bytearray(b'\\x1e!')\n"
          ]
        }
      ]
    },
    {
      "cell_type": "markdown",
      "source": [
        "#### repetition in bytearray"
      ],
      "metadata": {
        "id": "dYa-7wdLFZly"
      }
    },
    {
      "cell_type": "code",
      "source": [
        "print(b1*3)"
      ],
      "metadata": {
        "colab": {
          "base_uri": "https://localhost:8080/"
        },
        "id": "18nPiyCyEXzb",
        "outputId": "0bf8426d-9e08-4c55-bb6f-38d06f2bb4ff"
      },
      "execution_count": null,
      "outputs": [
        {
          "output_type": "stream",
          "name": "stdout",
          "text": [
            "bytearray(b'\\x14\\x1e!\\xea\\x14\\x1e!\\xea\\x14\\x1e!\\xea')\n"
          ]
        }
      ]
    },
    {
      "cell_type": "markdown",
      "source": [
        "## 41. Dictionary\n",
        "- uses Key:Value pair\n",
        "- you can use any object as key and any object as value"
      ],
      "metadata": {
        "id": "yiUEWyJKFqUJ"
      }
    },
    {
      "cell_type": "markdown",
      "source": [
        "### Methods in dictionary\n",
        "- ```list(dict)``` :\n",
        "    - Return a list of all the keys used in the dictionary dict.\n",
        "- ```len(d)``` :\n",
        "    - Return the number of items in the dictionary dict.\n",
        "- ```dict[key]``` :\n",
        "    - Return the *item / value* of *dict* with *key*.\n",
        "    - Raises a *KeyError* if key is not in the map.\n",
        "- ```dict[key] = value``` :\n",
        "    - Set *dict[key]* to *value*.\n",
        "- ```del dict[key]``` :\n",
        "    - Remove *dict[key]* from *dict*.\n",
        "    - Raises a *KeyError* if *key* is not in the map.\n",
        "- ```key in dict``` :\n",
        "    - Return True if *dict* has a *key*, else False.\n",
        "- ```key not in dict``` :\n",
        "- ```not key in dict``` :\n",
        "    - Return True if *dict* does not have a *key*, else False.\n",
        "- ```iter(dict)``` :\n",
        "- ```iter(dict.keys())``` :\n",
        "    - Return an iterator over the keys of the dictionary\n",
        "- ```dict.clear()``` :\n",
        "    - Remove all items from dict.\n",
        "- ```dict.copy()``` :\n",
        "    - Return a shallow copy of dict.\n",
        "- ```dict.fromkeys(iterable[, value=None])``` :\n",
        "    - Create a new dictionary with keys from *iterable* and values set to *value*.\n",
        "- ```dict.get(key[, default=None])``` :\n",
        "    - Return the value for *key* if *key* is in the dictionary, else default.\n",
        "    - If *default* is not given, it defaults to None, so that this method never raises a KeyError.\n",
        "- ```dict.items()```\n",
        "    - a set-like object providing a *view* on dict's items\n",
        "    - Return a new *view* of the dict’s items ((key, value) pairs)\n",
        "- ```dict.keys()``` :\n",
        "    - a set-like object providing a *view* on dict's keys\n",
        "    - Return a new *view* of keys of dict.\n",
        "- ```dict.values()``` :\n",
        "    - Return a new view of dict's values\n",
        "- ```dict.pop(key[,default])``` :\n",
        "    - Remove specified key and return the corresponding value.\n",
        "    - If *key* is in the dict, remove it and return its *value*, else return *default*.\n",
        "    - Raises *KeyError* if *default* is not given and *key* is not in the dict.\n",
        "- ```dict.popitem()``` :\n",
        "    - Remove and return a (*key, value*) pair as a 2-tuple.\n",
        "    - Pairs are returned in LIFO (last-in, first-out) order.\n",
        "    - Raises *KeyError* if the *dict* is empty.\n",
        "    - useful to destructively iterate over a dictionary, as often used in set algorithms\n",
        "- ```dict.update([E, ]**F)``` :\n",
        "- ```dict.update([iterable])``` :\n",
        "    - Returns None\n",
        "    -   Update dict from dict/iterable E and F.\n",
        "        - If E is present and has a .keys() method, then does:  for k in E: dict[k] = E[k]\n",
        "        - If E is present and lacks a .keys() method, then does:  for k, v in E: dict[k] = value\n",
        "    - In either case, this is followed by: for k in F:  dict[k] = F[k]\n",
        "- ```dict.setdefault(key[, default=None])``` :\n",
        "    - Return *value* for *key* if *key* is in the dict\n",
        "    - Return *default* and insert *key* with a value of *default* if key is not in the dict\n",
        "- ```reversed(dict)``` :\n",
        "- ```reversed(dict.keys())``` :\n",
        "    - Return a reverse iterator over the keys of the dict.\n",
        "- ```dict | other``` :\n",
        "    - Create a new dictionary with the merged *keys* and *values* of dict and *other*, which must both be dictionaries.\n",
        "    - The values of other take priority when *dict* and *other* share keys.\n",
        "- ```dict |= other``` :\n",
        "    - Update the *dict* with *keys* and *values* from *other*, which may be either a mapping or an iterable of key/value pairs.\n",
        "    - The values of other take priority when *dict* and *other* share keys.\n"
      ],
      "metadata": {
        "id": "i9BdDl61CT2d"
      }
    },
    {
      "cell_type": "code",
      "source": [
        "list(reversed(dict1))"
      ],
      "metadata": {
        "colab": {
          "base_uri": "https://localhost:8080/"
        },
        "id": "fz4ZFbFDCQS_",
        "outputId": "fdf786b9-df27-4d49-9d16-b738db28bd77"
      },
      "execution_count": 29,
      "outputs": [
        {
          "output_type": "execute_result",
          "data": {
            "text/plain": [
              "[3, 2, 1]"
            ]
          },
          "metadata": {},
          "execution_count": 29
        }
      ]
    },
    {
      "cell_type": "code",
      "source": [
        "# dicttype.py\n",
        "dict1 = {1:\"john\", 2:\"bob\", 3:\"bill\"}\n",
        "print(dict1)"
      ],
      "metadata": {
        "colab": {
          "base_uri": "https://localhost:8080/"
        },
        "id": "X0YduCCkFW3A",
        "outputId": "79a8b4ad-78a0-4de2-8b9b-cbb10c2e115e"
      },
      "execution_count": 24,
      "outputs": [
        {
          "output_type": "stream",
          "name": "stdout",
          "text": [
            "{1: 'john', 2: 'bob', 3: 'bill'}\n"
          ]
        }
      ]
    },
    {
      "cell_type": "markdown",
      "source": [
        "### dict.items()\n",
        "- returns items / elements of dict"
      ],
      "metadata": {
        "id": "nR3KfOQ2GTjI"
      }
    },
    {
      "cell_type": "code",
      "source": [
        "print(dict1.items())"
      ],
      "metadata": {
        "colab": {
          "base_uri": "https://localhost:8080/"
        },
        "id": "fI-l3hPaGR4F",
        "outputId": "f19b671e-4c2f-4f11-969c-449d3d940c96"
      },
      "execution_count": null,
      "outputs": [
        {
          "output_type": "stream",
          "name": "stdout",
          "text": [
            "dict_items([(1, 'john'), (2, 'bob'), (3, 'bill')])\n"
          ]
        }
      ]
    },
    {
      "cell_type": "markdown",
      "source": [
        "### dict.keys()\n",
        "- returns a set of keys in a dict"
      ],
      "metadata": {
        "id": "FjqYCNeKGwAA"
      }
    },
    {
      "cell_type": "code",
      "source": [
        "k = dict1.keys()\n",
        "for i in k: print(i)"
      ],
      "metadata": {
        "colab": {
          "base_uri": "https://localhost:8080/"
        },
        "id": "I8OjxloJGZKe",
        "outputId": "34b26838-83ad-4666-8222-98024215ca59"
      },
      "execution_count": null,
      "outputs": [
        {
          "output_type": "stream",
          "name": "stdout",
          "text": [
            "1\n",
            "2\n",
            "3\n"
          ]
        }
      ]
    },
    {
      "cell_type": "markdown",
      "source": [
        "### dict.values()\n",
        "- returns a set of values in a dict"
      ],
      "metadata": {
        "id": "SrJYp6sgHCTH"
      }
    },
    {
      "cell_type": "code",
      "source": [
        "v = dict1.values()\n",
        "for i in v: print(i)"
      ],
      "metadata": {
        "colab": {
          "base_uri": "https://localhost:8080/"
        },
        "id": "sGsqVGyKG7Bm",
        "outputId": "bfe79a2c-3ef1-4c34-fb93-7bf841e83686"
      },
      "execution_count": null,
      "outputs": [
        {
          "output_type": "stream",
          "name": "stdout",
          "text": [
            "john\n",
            "bob\n",
            "bill\n"
          ]
        }
      ]
    },
    {
      "cell_type": "markdown",
      "source": [
        "### indexing in dict\n",
        "- keys act as index of dict"
      ],
      "metadata": {
        "id": "yS8lbeHQHNFZ"
      }
    },
    {
      "cell_type": "code",
      "source": [
        "print(dict1[3])"
      ],
      "metadata": {
        "colab": {
          "base_uri": "https://localhost:8080/"
        },
        "id": "79pR0lXYHAYC",
        "outputId": "8df9576d-7dec-47aa-cab7-d5f9cc8584df"
      },
      "execution_count": null,
      "outputs": [
        {
          "output_type": "stream",
          "name": "stdout",
          "text": [
            "bill\n"
          ]
        }
      ]
    },
    {
      "cell_type": "markdown",
      "source": [
        "### removing element from dict"
      ],
      "metadata": {
        "id": "CPbPKDyzHra7"
      }
    },
    {
      "cell_type": "code",
      "source": [
        "del dict1[2]\n",
        "print(dict1)"
      ],
      "metadata": {
        "colab": {
          "base_uri": "https://localhost:8080/"
        },
        "id": "6nueq4cbHVbF",
        "outputId": "53b4c5a9-9111-4d30-d965-ae214fa728ba"
      },
      "execution_count": null,
      "outputs": [
        {
          "output_type": "stream",
          "name": "stdout",
          "text": [
            "{1: 'john', 3: 'bill'}\n"
          ]
        }
      ]
    },
    {
      "cell_type": "markdown",
      "source": [
        "## 42. immutability\n",
        "- All the primitive types are object types\n",
        "- Immutablility applies to all the primitive types\n",
        "- a = 10 --> points to a new memory location that has value ```10```\n",
        "    - ```a``` points to a memory location that has value ```10```\n",
        "- b = 10 --> points to an existing memory location that has value ```10```\n",
        "    - check if any 10 is already stored in some location, if found, ```b``` will also point to the same memory location which has calue ```10```\n",
        "- b = 14 --> points to a new memory location that has value ```14```\n",
        "    - due to immutability, a new memory location is assigned value ```14```, and now variable ```b``` will point to this new location with value ```14```\n",
        "    - due to immutability, python re-uses the same memory location for an existing value, instead of allocating a new memory location\n",
        "    - so, many variables with same value will point to only one location containing that same value, thus avoiding memory wastage"
      ],
      "metadata": {
        "id": "fm4clk4qH9VK"
      }
    },
    {
      "cell_type": "markdown",
      "source": [
        "### id(variable)\n",
        "- returns the identity / address of an object"
      ],
      "metadata": {
        "id": "lVC6fEKQXLfK"
      }
    },
    {
      "cell_type": "code",
      "source": [
        "# immutable.py\n",
        "# for same numerical value\n",
        "a = 20\n",
        "b = 20\n",
        "print(id(a))\n",
        "print(id(b))\n",
        "# shows a and b point to same memory address which has value 20\n",
        "print(a is b)\n",
        "# shows a and b have same value"
      ],
      "metadata": {
        "id": "sQH926QxHwtO",
        "colab": {
          "base_uri": "https://localhost:8080/"
        },
        "outputId": "7ef6d928-ef99-44fc-a38b-3c3c52bf9fc4"
      },
      "execution_count": 8,
      "outputs": [
        {
          "output_type": "stream",
          "name": "stdout",
          "text": [
            "1934776101776\n",
            "1934776101776\n",
            "True\n"
          ]
        }
      ]
    },
    {
      "cell_type": "code",
      "source": [
        "# for same boolean value\n",
        "a = True\n",
        "b = True\n",
        "print(id(a))\n",
        "print(id(b))\n",
        "# shows a and b point to same memory address which has value True\n",
        "print(a is b)\n",
        "# shows a and b have same value"
      ],
      "metadata": {
        "colab": {
          "base_uri": "https://localhost:8080/"
        },
        "id": "21AeIST-V1lt",
        "outputId": "2dc723bf-c592-4eb7-d847-db39974e0041"
      },
      "execution_count": null,
      "outputs": [
        {
          "output_type": "stream",
          "name": "stdout",
          "text": [
            "140734869305448\n",
            "140734869305448\n",
            "True\n"
          ]
        }
      ]
    },
    {
      "cell_type": "code",
      "source": [
        "# for different boolean values\n",
        "a = True\n",
        "b = False\n",
        "print(id(a))\n",
        "print(id(b))\n",
        "# shows a and b don't point to same memory address\n",
        "print(a is b)\n",
        "# shows a and b don't have same value"
      ],
      "metadata": {
        "colab": {
          "base_uri": "https://localhost:8080/"
        },
        "id": "nwHD3veOV5hR",
        "outputId": "d51ce093-e474-4abf-fb5c-52fcd1cf8dbe"
      },
      "execution_count": null,
      "outputs": [
        {
          "output_type": "stream",
          "name": "stdout",
          "text": [
            "140734869305448\n",
            "140734869305480\n",
            "False\n"
          ]
        }
      ]
    },
    {
      "cell_type": "code",
      "source": [
        "# for same String value\n",
        "a = 'Surya'\n",
        "b = 'Surya'\n",
        "print(id(a))\n",
        "print(id(b))\n",
        "# shows a and b don't point to same memory address\n",
        "print(a is b)\n",
        "# shows a and b don't have same value"
      ],
      "metadata": {
        "colab": {
          "base_uri": "https://localhost:8080/"
        },
        "id": "uyDvy6RPWVmr",
        "outputId": "f8a7611c-d385-4cf5-fc25-b0a280254ff2"
      },
      "execution_count": null,
      "outputs": [
        {
          "output_type": "stream",
          "name": "stdout",
          "text": [
            "2797487109104\n",
            "2797487109104\n",
            "True\n"
          ]
        }
      ]
    },
    {
      "cell_type": "markdown",
      "source": [
        "## 43. Datatypes Patient Usecase"
      ],
      "metadata": {
        "id": "_06RQJcTW-XC"
      }
    },
    {
      "cell_type": "code",
      "source": [
        "#datatypes.py\n",
        "id = 1\n",
        "firstName = \"John\"\n",
        "lastName = \"Bailey\"\n",
        "ssn = \"123-45-6789\"\n",
        "hasInsurance = True\n",
        "billingAmount = \"10000\"\n",
        "print(type(billingAmount))\n",
        "billingAmount = float(billingAmount)\n",
        "print(type(billingAmount))\n",
        "print(id, firstName, lastName, ssn, hasInsurance, billingAmount, ssn[7:len(ssn)])\n",
        "lastName = \"       Bailey\"\n",
        "print(id, firstName, lastName, ssn, hasInsurance, billingAmount, ssn[7:len(ssn)])\n",
        "print(id, firstName, lastName.lstrip(), ssn, hasInsurance, billingAmount, ssn[7:len(ssn)])"
      ],
      "metadata": {
        "id": "emlFabphWnRl",
        "colab": {
          "base_uri": "https://localhost:8080/"
        },
        "outputId": "ac2c3a6e-2196-411e-c1f1-bd44180703a6"
      },
      "execution_count": 9,
      "outputs": [
        {
          "output_type": "stream",
          "name": "stdout",
          "text": [
            "<class 'str'>\n",
            "<class 'float'>\n",
            "1 John Bailey 123-45-6789 True 10000.0 6789\n",
            "1 John        Bailey 123-45-6789 True 10000.0 6789\n",
            "1 John Bailey 123-45-6789 True 10000.0 6789\n"
          ]
        }
      ]
    },
    {
      "cell_type": "markdown",
      "source": [
        "## 44. Map of Lists Usecase"
      ],
      "metadata": {
        "id": "qZ9MpRFDgqxY"
      }
    },
    {
      "cell_type": "code",
      "source": [
        "#datastructures.py\n",
        "students = {'John':['Python', 'Django', 'DRF'], 'bob':[\"Java\", 'Spring'], 'jim':['js', 'node', 'react']}\n",
        "keys = students.keys()\n",
        "for eachKey in keys:\n",
        "    print(\"Courses taken by\", eachKey, \"are:\")\n",
        "    for eachCourse in students[eachKey]:\n",
        "        print(eachCourse)"
      ],
      "metadata": {
        "colab": {
          "base_uri": "https://localhost:8080/"
        },
        "id": "693cxkuUfVZp",
        "outputId": "545216f6-0453-496f-f235-ce367c3373c7"
      },
      "execution_count": 11,
      "outputs": [
        {
          "output_type": "stream",
          "name": "stdout",
          "text": [
            "Courses taken by John are:\n",
            "Python\n",
            "Django\n",
            "DRF\n",
            "Courses taken by bob are:\n",
            "Java\n",
            "Spring\n",
            "Courses taken by jim are:\n",
            "js\n",
            "node\n",
            "react\n"
          ]
        }
      ]
    },
    {
      "cell_type": "code",
      "source": [
        "### Assignment 3\n",
        "countries = ['India', 'Israel', 'France']\n",
        "print(countries)\n",
        "countries.append('Japan')\n",
        "print(countries)\n",
        "# countries.remove('France')\n",
        "countries.pop(2)\n",
        "print(countries)\n",
        "countries.insert(1, 'UAE')\n",
        "print(countries)\n",
        "\n",
        "countriess = {'India', 'Israel', 'France'}\n",
        "print(countriess)\n",
        "countriess.add('Japan')\n",
        "print(countriess)\n",
        "countriess.pop()\n",
        "print(countriess)\n",
        "countriess.update({'UAE'})\n",
        "print(countriess)\n"
      ],
      "metadata": {
        "colab": {
          "base_uri": "https://localhost:8080/"
        },
        "id": "L9532Wfig8HB",
        "outputId": "cca6f1ae-b963-471c-9288-62898b8dc23f"
      },
      "execution_count": 29,
      "outputs": [
        {
          "output_type": "stream",
          "name": "stdout",
          "text": [
            "['India', 'Israel', 'France']\n",
            "['India', 'Israel', 'France', 'Japan']\n",
            "['India', 'Israel', 'Japan']\n",
            "['India', 'UAE', 'Israel', 'Japan']\n",
            "{'Israel', 'India', 'France'}\n",
            "{'Israel', 'Japan', 'India', 'France'}\n",
            "{'Japan', 'India', 'France'}\n",
            "{'UAE', 'India', 'Japan', 'France'}\n"
          ]
        }
      ]
    },
    {
      "cell_type": "code",
      "source": [],
      "metadata": {
        "id": "T_1u8PSxm7Gc"
      },
      "execution_count": 8,
      "outputs": []
    }
  ]
}