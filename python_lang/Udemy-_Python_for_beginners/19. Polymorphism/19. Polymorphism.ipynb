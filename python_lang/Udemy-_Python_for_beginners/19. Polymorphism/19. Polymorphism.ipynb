{
  "nbformat": 4,
  "nbformat_minor": 0,
  "metadata": {
    "colab": {
      "provenance": [],
      "toc_visible": true
    },
    "kernelspec": {
      "name": "python3",
      "display_name": "Python 3"
    },
    "language_info": {
      "name": "python"
    }
  },
  "cells": [
    {
      "cell_type": "markdown",
      "source": [
        "## 162. Introduction\n",
        "- ```poly``` means multi, ```morphic``` means shapes\n",
        "- in this world of OOP, shapes is replaced with behavior\n",
        "- if the functions have different behaviors/functionality, then the functions are polymorphic\n",
        "- Different ways to implement polymorphism in python\n",
        "    1. Duck Typing\n",
        "    2. Dependency Injection\n",
        "    3. ```+``` operator\n",
        "        - it has different behavior with numbers, string and lists, making it polymorphic operator\n",
        "    4. Method overriding\n"
      ],
      "metadata": {
        "id": "k7vDPZsGnRV9"
      }
    },
    {
      "cell_type": "markdown",
      "source": [
        "## 163. Duck Typing\n",
        "- not exacly a feature, but comes along any dynamic language\n",
        "- Duck Typing\n",
        "    - is the side effect of dynamic nature of passing parameters\n",
        "    - Example\n",
        "        - class ```Duck``` and class ```Human```, both have method ```talk()```, and depending on the object passed to another method ```callTalk()```, ```talk()``` method of the passed object is called\n",
        "        ``` python\n",
        "        def callTalk(obj):\n",
        "            obj.talk()\n",
        "        ```"
      ],
      "metadata": {
        "id": "p5SvYfb8oZW1"
      }
    },
    {
      "cell_type": "code",
      "execution_count": 1,
      "metadata": {
        "colab": {
          "base_uri": "https://localhost:8080/"
        },
        "id": "QKF0fDptnNi7",
        "outputId": "3d7b7c1c-ffe3-4671-d317-28518b3f4530"
      },
      "outputs": [
        {
          "output_type": "stream",
          "name": "stdout",
          "text": [
            "Quack Quack\n",
            "Hello\n"
          ]
        }
      ],
      "source": [
        "# polymorphism\n",
        "# ducktypingdemo.py\n",
        "class Duck:\n",
        "    def talk(self):\n",
        "        print(\"Quack Quack\")\n",
        "\n",
        "class Human:\n",
        "    def talk(self):\n",
        "        print(\"Hello\")\n",
        "\n",
        "def callTalk(obj):\n",
        "    obj.talk()\n",
        "\n",
        "d = Duck()\n",
        "callTalk(d)\n",
        "\n",
        "h = Human()\n",
        "callTalk(h)"
      ]
    },
    {
      "cell_type": "markdown",
      "source": [
        "## 164. DuckTyping for Dependency Injection\n",
        "- Dependency Injection\n",
        "    - injecting an object into another object as required\n",
        "    - possible in python as objects are passed in dynamic nature to a method\n",
        "    - means to inject/create dependency on object of another class passed to call of method of one class"
      ],
      "metadata": {
        "id": "BYRhaKZMP2um"
      }
    },
    {
      "cell_type": "code",
      "source": [
        "# flightengine.py\n",
        "class Flight:\n",
        "    def __init__(self, engine): # engine field is dynamically passed\n",
        "        self.engine = engine # specifying the field for dependency injection\n",
        "\n",
        "    def startEngine(self):\n",
        "        self.engine.start() #\n",
        "\n",
        "class AirbusEngine:\n",
        "    def start(self): # polymorphic / DuckTyped method\n",
        "        print(\"Starting Airbus Engine\")\n",
        "\n",
        "class BoeingEngine:\n",
        "    def start(self): # polymorphic / DuckTyped method\n",
        "        print(\"Starting Boeing Engine\")\n",
        "\n",
        "ae = AirbusEngine()\n",
        "f = Flight(ae) # dependency is injected from ae object\n",
        "f.startEngine() # this call is dependent on duckTyped method\n",
        "\n",
        "be = BoeingEngine()\n",
        "f1 = Flight(be) # dependency is injected from be object\n",
        "f1.startEngine() # this call is dependent on duckTyped method"
      ],
      "metadata": {
        "colab": {
          "base_uri": "https://localhost:8080/"
        },
        "id": "2R5WZkZ1PuSn",
        "outputId": "a19d00fe-b39a-4e6e-e4f2-a1951bcf63d2"
      },
      "execution_count": 2,
      "outputs": [
        {
          "output_type": "stream",
          "name": "stdout",
          "text": [
            "Starting Airbus Engine\n",
            "Starting Boeing Engine\n"
          ]
        }
      ]
    },
    {
      "cell_type": "markdown",
      "source": [
        "## 165. Operator Overloading\n",
        "- The ```+``` in python is overloaded to perform multiple operations\n",
        "    - for two numvbers, it adds the numbers\n",
        "    - for two strings, it joins/concatenates the strings\n",
        "    - for two lists, it joins/concatenates two lists"
      ],
      "metadata": {
        "id": "IX0QZUlfWpZd"
      }
    },
    {
      "cell_type": "code",
      "source": [
        "# plusoperator.py\n",
        "x = 10\n",
        "y = 20\n",
        "print(x+y) # adds two numbers\n",
        "\n",
        "s1 = \"Hello\"\n",
        "s2 = \" How are you?\"\n",
        "print(s1+s2) # joins two strings, string concatenation\n",
        "\n",
        "l1 = [1, 2, 3]\n",
        "l2 = [4, 5, 6]\n",
        "print(l1+l2) # joins two lists, list concatenation"
      ],
      "metadata": {
        "id": "wsgL8GUsT4x8",
        "colab": {
          "base_uri": "https://localhost:8080/"
        },
        "outputId": "6546de3d-0005-491e-e03a-34c6b656187b"
      },
      "execution_count": 3,
      "outputs": [
        {
          "output_type": "stream",
          "name": "stdout",
          "text": [
            "30\n",
            "Hello How are you?\n",
            "[1, 2, 3, 4, 5, 6]\n"
          ]
        }
      ]
    },
    {
      "cell_type": "markdown",
      "source": [
        "## 166. Runtime Polymorphism\n",
        "- Method Overloading is a way to achieve Runtime Polymorphism\n",
        "- Runtime Polymorphism comes for free in python because of dynamic typing"
      ],
      "metadata": {
        "id": "SUWY3paetXKu"
      }
    },
    {
      "cell_type": "code",
      "source": [
        "# bmw.py\n",
        "class BMW:\n",
        "    def __init__(self, make, model, year):\n",
        "        self.make = make\n",
        "        self.model = model\n",
        "        self.year = year\n",
        "    def start(self):\n",
        "        print(\"Starting the Car\")\n",
        "    def stop(self):\n",
        "        print(\"Stopping the car\")\n",
        "\n",
        "class ThreeSeries(BMW):\n",
        "    def __init__(self, cruiseControlEnabled, make, model, year):\n",
        "        super().__init__(make, model, year) # self is not needed, calls parent class constructor\n",
        "        self.cruiseControlEnabled = cruiseControlEnabled\n",
        "    def display(self): # display() method is available only for ThreeSeries class, not in parent class\n",
        "        print(self.cruiseControlEnabled)\n",
        "    def start(self): # overrideen method, provides a new functionality in method with same name\n",
        "        super().start() # calls parent class method\n",
        "        print(\"Button Start\")\n",
        "\n",
        "class FiveSeries(BMW):\n",
        "    def __init__(self, parkingAssistEnabled, make, model, year):\n",
        "        super().__init__(make, model, year) # self is not needed\n",
        "        self.parkingAssistEnabled = parkingAssistEnabled\n",
        "\n",
        "bmw = ThreeSeries(True, \"BMW\", \"328i\", \"2018\")\n",
        "print(bmw.cruiseControlEnabled)\n",
        "print(bmw.make)\n",
        "print(bmw.model)\n",
        "print(bmw.year)\n",
        "bmw.start()\n",
        "bmw.stop()\n",
        "bmw.display()\n",
        "\n",
        "# bmw = FiveSeries(True, \"BMW\", \"535i\", \"2018\") # object of child class\n",
        "# print(bmw.parkingAssistEnabled)\n",
        "# print(bmw.make)\n",
        "# print(bmw.model)\n",
        "# print(bmw.year)"
      ],
      "metadata": {
        "colab": {
          "base_uri": "https://localhost:8080/"
        },
        "id": "xLVQv1_BsdBK",
        "outputId": "e675203f-5c8c-437a-f8af-f810a7935817"
      },
      "execution_count": 4,
      "outputs": [
        {
          "output_type": "stream",
          "name": "stdout",
          "text": [
            "True\n",
            "BMW\n",
            "328i\n",
            "2018\n",
            "Starting the Car\n",
            "Button Start\n",
            "Stopping the car\n",
            "True\n"
          ]
        }
      ]
    },
    {
      "cell_type": "code",
      "source": [],
      "metadata": {
        "id": "L2VM7mFpuQrm"
      },
      "execution_count": 4,
      "outputs": []
    }
  ]
}