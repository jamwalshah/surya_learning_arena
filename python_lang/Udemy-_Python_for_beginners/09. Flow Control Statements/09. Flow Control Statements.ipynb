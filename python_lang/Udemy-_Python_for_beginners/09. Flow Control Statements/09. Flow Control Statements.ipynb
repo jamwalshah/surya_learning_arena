{
  "nbformat": 4,
  "nbformat_minor": 0,
  "metadata": {
    "colab": {
      "provenance": [],
      "toc_visible": true
    },
    "kernelspec": {
      "name": "python3",
      "display_name": "Python 3"
    },
    "language_info": {
      "name": "python"
    }
  },
  "cells": [
    {
      "cell_type": "markdown",
      "source": [
        "## 64. Introduction\n",
        "- Flow control determines the order in which the statements are executed at runtime\n",
        "- Flow Control Statements has Three types\n",
        "    1. Conditional Statements\n",
        "        - allow to execute code conditionally\n",
        "        - includes\n",
        "            - ```if```\n",
        "            - ```if..else```\n",
        "            - ```if..elif..else```\n",
        "    2. Looping / Iterative Statements\n",
        "        - allows to execute same set of statements multiple times\n",
        "        - includes\n",
        "            - ```for``` loop\n",
        "            - ```while``` loop\n",
        "    3. Transfer Statements\n",
        "        - allows to transfer the control of our program from one place to another\n",
        "        - includes\n",
        "            - ```break```\n",
        "            - ```pass```\n",
        "            - ```continue```\n",
        "            - ```return```"
      ],
      "metadata": {
        "id": "q_KqhwNX1gLo"
      }
    },
    {
      "cell_type": "markdown",
      "source": [
        "## 65. if else Syntax\n",
        "- Syntax :\n",
        "        if condition(s) :\n",
        "            body\n",
        "- ```if``` can take single condition or multiple conditions that evaluate to boolean True or False\n",
        "- ```:``` : indicates the start of body of the statements which would execute if condition(s) evaluate to True, otherwise body is not executed\n",
        "- Syntax :\n",
        "        if condition(s) :\n",
        "            body\n",
        "        else :\n",
        "            body\n",
        "- ```if..else``` can also take single condition or multiple conditions that evaluate to boolean True or False\n",
        "- ```:``` : indicates the start of body of the statements which would execute ```if condition(s)``` evaluate to True, otherwise body of ```else``` is executed\n"
      ],
      "metadata": {
        "id": "uxqg22C83ESs"
      }
    },
    {
      "cell_type": "markdown",
      "source": [
        "## 66. Find even or odd number"
      ],
      "metadata": {
        "id": "LyHQkUBW4oT_"
      }
    },
    {
      "cell_type": "code",
      "execution_count": 34,
      "metadata": {
        "colab": {
          "base_uri": "https://localhost:8080/"
        },
        "id": "PFADVOv_1dUr",
        "outputId": "5bd556a3-1dc9-4649-fa56-4b9fa2603405"
      },
      "outputs": [
        {
          "output_type": "stream",
          "name": "stdout",
          "text": [
            "Enter a number: 5\n",
            "5 is odd\n"
          ]
        }
      ],
      "source": [
        "# controlsattements\n",
        "# evenorodd.py\n",
        "x = int(input(\"Enter a number: \")) # 5\n",
        "if x%2 == 0 :\n",
        "    print(x, \"is even\")\n",
        "else :\n",
        "    print(x, \"is odd\")"
      ]
    },
    {
      "cell_type": "code",
      "source": [
        "x = int(input(\"Enter a number: \")) # 8\n",
        "if x%2 == 0 : print(x, \"is even\")\n",
        "else : print(x, \"is odd\")"
      ],
      "metadata": {
        "colab": {
          "base_uri": "https://localhost:8080/"
        },
        "id": "LETTebiL5FnN",
        "outputId": "577b38a7-0ed5-4de0-b782-6b0b4317d51b"
      },
      "execution_count": 32,
      "outputs": [
        {
          "output_type": "stream",
          "name": "stdout",
          "text": [
            "Enter a number: 8\n",
            "8 is even\n"
          ]
        }
      ]
    },
    {
      "cell_type": "markdown",
      "source": [
        "## 67. if else ladder\n",
        "- Syntax :\n",
        "        if consition1 :\n",
        "            statements\n",
        "        elif condition2 :\n",
        "            statements\n",
        "        elif condition3 :\n",
        "            statements\n",
        "        else :\n",
        "            statements\n",
        "- used to evaluate multiple conditions\n",
        "- to evaluate multiple conditions, we use multiple elif blocks to evaluate each of those conditions, and within each of the elif block, we put the statements that need to be executed against each of those conditions\n",
        "- any number of elif blocks are allowed and else block is optional\n",
        "- if first elif block is executed, it will skip / not check the proceeding elif ladder/blocks"
      ],
      "metadata": {
        "id": "uOsZh7Ms5a1k"
      }
    },
    {
      "cell_type": "markdown",
      "source": [
        "## Handle Zero"
      ],
      "metadata": {
        "id": "o-PZ_5gy6_I_"
      }
    },
    {
      "cell_type": "code",
      "source": [
        "x = int(input(\"Enter a number: \")) # 10\n",
        "if x == 0 : print(x, \"is zero\")\n",
        "# 0\n",
        "# 5\n",
        "# 10\n",
        "elif x%2 == 0: print(x, \"is even\")\n",
        "else : print(x, \"is odd\")"
      ],
      "metadata": {
        "colab": {
          "base_uri": "https://localhost:8080/"
        },
        "id": "_POlyFe85XUg",
        "outputId": "30144388-5a33-4d07-e827-cd6cbfbb63fe"
      },
      "execution_count": 31,
      "outputs": [
        {
          "output_type": "stream",
          "name": "stdout",
          "text": [
            "Enter a number: 10\n",
            "10 is even\n"
          ]
        }
      ]
    },
    {
      "cell_type": "markdown",
      "source": [
        "## Assignment 5 : if-else ladder\n"
      ],
      "metadata": {
        "id": "aXFKUsKy7rKe"
      }
    },
    {
      "cell_type": "code",
      "source": [
        "phy, chem, math = [int(x) for x in input(\"Enter Physics, Chemistry, Maths marks: \").split(\",\")] # 97, 97, 45\n",
        "average = (phy+chem+math)/3\n",
        "if phy<35 or chem<35 or math<35 :\n",
        "    print(\"Fail\")\n",
        "elif average <=59 :\n",
        "    print(\"Grade C\")\n",
        "elif average <= 69 :\n",
        "    print(\"Grade B\")\n",
        "else :\n",
        "    print(\"Grade A\")"
      ],
      "metadata": {
        "colab": {
          "base_uri": "https://localhost:8080/"
        },
        "id": "fmfrvMMz7Yhv",
        "outputId": "355cf0aa-10e3-4223-a032-81c52c75a5b5"
      },
      "execution_count": 30,
      "outputs": [
        {
          "output_type": "stream",
          "name": "stdout",
          "text": [
            "Enter Physics, Chemistry, Maths marks: 97, 97, 45\n",
            "Grade A\n"
          ]
        }
      ]
    },
    {
      "cell_type": "markdown",
      "source": [
        "## 69. While Syntax\n",
        "- Syntax :\n",
        "        while condition(s) :\n",
        "            statements\n",
        "- statements are executed repetitively as long as condition(s) returns True, and stops only when condition(s) return False"
      ],
      "metadata": {
        "id": "Yv3ZQsmwSFnl"
      }
    },
    {
      "cell_type": "markdown",
      "source": [
        "## 70. Display numbers from 1 to 20"
      ],
      "metadata": {
        "id": "uLNGUxSSS5Y5"
      }
    },
    {
      "cell_type": "code",
      "source": [
        "# whiledemo.py\n",
        "x = 1\n",
        "while x<=20 :\n",
        "    print(x)\n",
        "    x+=1"
      ],
      "metadata": {
        "colab": {
          "base_uri": "https://localhost:8080/"
        },
        "id": "6rs0Dbxf8PB7",
        "outputId": "bfa8f9e7-ad38-465c-9a5e-6577f29b50f3"
      },
      "execution_count": 17,
      "outputs": [
        {
          "output_type": "stream",
          "name": "stdout",
          "text": [
            "1\n",
            "2\n",
            "3\n",
            "4\n",
            "5\n",
            "6\n",
            "7\n",
            "8\n",
            "9\n",
            "10\n",
            "11\n",
            "12\n",
            "13\n",
            "14\n",
            "15\n",
            "16\n",
            "17\n",
            "18\n",
            "19\n",
            "20\n"
          ]
        }
      ]
    },
    {
      "cell_type": "markdown",
      "source": [
        "## 71. Odd numbers between given numbers"
      ],
      "metadata": {
        "id": "bwGmCXRiTlBa"
      }
    },
    {
      "cell_type": "code",
      "source": [
        "# oddnumbers.py\n",
        "x = int(input(\"Enter min number: \")) # 2\n",
        "y = int(input(\"Enter max number: \")) # 20\n",
        "\n",
        "i = x\n",
        "if i%2 == 0:\n",
        "    i = i+1\n",
        "while i<=y :\n",
        "    print(i)\n",
        "    i+=2"
      ],
      "metadata": {
        "colab": {
          "base_uri": "https://localhost:8080/"
        },
        "id": "e_Ne4tXJTUza",
        "outputId": "42d75a80-d1a2-4fb9-d22f-18b06745961c"
      },
      "execution_count": 29,
      "outputs": [
        {
          "output_type": "stream",
          "name": "stdout",
          "text": [
            "Enter min number: 2\n",
            "Enter max number: 20\n",
            "3\n",
            "5\n",
            "7\n",
            "9\n",
            "11\n",
            "13\n",
            "15\n",
            "17\n",
            "19\n"
          ]
        }
      ]
    },
    {
      "cell_type": "markdown",
      "source": [
        "## 72. For Syntax\n",
        "- Syntax :\n",
        "        for var in sequence :\n",
        "            statements\n",
        "- typically used to iterate over the elements of a sequence such as string, list, tuple, set, range, etc.\n",
        "- executes as long as the *sequence* has a value to iterate over\n",
        "- value being iterated over is updated in *var* and can be used in the statements in body\n",
        "- stops only when the last element of sequence is reached"
      ],
      "metadata": {
        "id": "xtcK1FSNUcmK"
      }
    },
    {
      "cell_type": "markdown",
      "source": [
        "## 73. using for loop\n",
        "- print numbers between 50 and 70"
      ],
      "metadata": {
        "id": "VewagdF8VUxa"
      }
    },
    {
      "cell_type": "code",
      "source": [
        "# forloop.py\n",
        "for i in range(50, 71):\n",
        "    print(i)"
      ],
      "metadata": {
        "colab": {
          "base_uri": "https://localhost:8080/"
        },
        "id": "kPP7gi77UGvK",
        "outputId": "83e3202d-bb61-4f86-d169-2c57c12c8ace"
      },
      "execution_count": 22,
      "outputs": [
        {
          "output_type": "stream",
          "name": "stdout",
          "text": [
            "50\n",
            "51\n",
            "52\n",
            "53\n",
            "54\n",
            "55\n",
            "56\n",
            "57\n",
            "58\n",
            "59\n",
            "60\n",
            "61\n",
            "62\n",
            "63\n",
            "64\n",
            "65\n",
            "66\n",
            "67\n",
            "68\n",
            "69\n",
            "70\n"
          ]
        }
      ]
    },
    {
      "cell_type": "code",
      "source": [
        "for i in range(50, 71, 2): # to print every alternate number between 50 and 70\n",
        "    print(i)"
      ],
      "metadata": {
        "colab": {
          "base_uri": "https://localhost:8080/"
        },
        "id": "R7yryzu1VjPT",
        "outputId": "1ca21bb1-1f5f-4190-c784-c7ff63567c45"
      },
      "execution_count": 24,
      "outputs": [
        {
          "output_type": "stream",
          "name": "stdout",
          "text": [
            "50\n",
            "52\n",
            "54\n",
            "56\n",
            "58\n",
            "60\n",
            "62\n",
            "64\n",
            "66\n",
            "68\n",
            "70\n"
          ]
        }
      ]
    },
    {
      "cell_type": "code",
      "source": [
        "for i in range(50, 71, 3): # to print every third number between 50 and 70\n",
        "    print(i)"
      ],
      "metadata": {
        "colab": {
          "base_uri": "https://localhost:8080/"
        },
        "id": "cPrCdVt1V78k",
        "outputId": "bab4b30e-045a-44ed-d278-2edeccef26ae"
      },
      "execution_count": 25,
      "outputs": [
        {
          "output_type": "stream",
          "name": "stdout",
          "text": [
            "50\n",
            "53\n",
            "56\n",
            "59\n",
            "62\n",
            "65\n",
            "68\n"
          ]
        }
      ]
    },
    {
      "cell_type": "markdown",
      "source": [
        "## 74. product of numbers in a list"
      ],
      "metadata": {
        "id": "0Ozw85ChWGFh"
      }
    },
    {
      "cell_type": "code",
      "source": [
        "# productoflist.py\n",
        "lst = [1, 2, 3, 4, 5]\n",
        "prod = 1\n",
        "\n",
        "for i in lst:\n",
        "    prod*=i\n",
        "    # print(\"Product is: \", prod)       # don't use print here, it'll print value of prod for each iteration\n",
        "print(\"Product is: \", prod)"
      ],
      "metadata": {
        "colab": {
          "base_uri": "https://localhost:8080/"
        },
        "id": "UqfH7l2uWFAF",
        "outputId": "432e4df6-088d-40bf-f301-dc7d2e64ad7a"
      },
      "execution_count": 27,
      "outputs": [
        {
          "output_type": "stream",
          "name": "stdout",
          "text": [
            "Product is:  120\n"
          ]
        }
      ]
    },
    {
      "cell_type": "markdown",
      "source": [
        "## 75. multiplication table of a given number"
      ],
      "metadata": {
        "id": "RcDm1odWW7XS"
      }
    },
    {
      "cell_type": "code",
      "source": [
        "# take number from user, print table of that number till 10\n",
        "# multiplicationtable.py\n",
        "x = int(input(\"Enter a number for generating a table: \")) # 5\n",
        "\n",
        "for i in range(1, 11):\n",
        "    print(x, 'X', i, '=', i*x)"
      ],
      "metadata": {
        "colab": {
          "base_uri": "https://localhost:8080/"
        },
        "id": "Lrgo4v08WpJj",
        "outputId": "80183bc2-2eec-4399-fe75-988f1e0c2a99"
      },
      "execution_count": 37,
      "outputs": [
        {
          "output_type": "stream",
          "name": "stdout",
          "text": [
            "Enter a number for generating a table: 5\n",
            "5 X 1 = 5\n",
            "5 X 2 = 10\n",
            "5 X 3 = 15\n",
            "5 X 4 = 20\n",
            "5 X 5 = 25\n",
            "5 X 6 = 30\n",
            "5 X 7 = 35\n",
            "5 X 8 = 40\n",
            "5 X 9 = 45\n",
            "5 X 10 = 50\n"
          ]
        }
      ]
    },
    {
      "cell_type": "markdown",
      "source": [
        "## 76. break\n",
        "- breaks / skips all the remaining iterations"
      ],
      "metadata": {
        "id": "30bnSV93YIPX"
      }
    },
    {
      "cell_type": "code",
      "source": [
        "# loop though a list and break if list has number 5 in it\n",
        "# breakdemo.py\n",
        "lst = [3, 6, 9, 5, 12]\n",
        "\n",
        "for i in lst:\n",
        "    if i==5:\n",
        "        break\n",
        "    print(i)"
      ],
      "metadata": {
        "colab": {
          "base_uri": "https://localhost:8080/"
        },
        "id": "bGQ8kWlBXaML",
        "outputId": "c063fb7a-e1f5-4238-f32e-28f488d7825e"
      },
      "execution_count": 44,
      "outputs": [
        {
          "output_type": "stream",
          "name": "stdout",
          "text": [
            "3\n",
            "6\n",
            "9\n"
          ]
        }
      ]
    },
    {
      "cell_type": "markdown",
      "source": [
        "## 77. continue\n",
        "- skip the current iterations"
      ],
      "metadata": {
        "id": "c-pMB7OpY7Pb"
      }
    },
    {
      "cell_type": "code",
      "source": [
        "# display all numbers from 1 to 20, but skip all multiples of 3\n",
        "# continuedemo.py\n",
        "x = 0\n",
        "while x<20:\n",
        "    x+=1\n",
        "    if x%3 == 0 :\n",
        "        continue\n",
        "    print(x)"
      ],
      "metadata": {
        "colab": {
          "base_uri": "https://localhost:8080/"
        },
        "id": "yrEG2DNfYZL-",
        "outputId": "a7b6f461-e5e3-464b-ef9d-efa5bf086f7a"
      },
      "execution_count": 45,
      "outputs": [
        {
          "output_type": "stream",
          "name": "stdout",
          "text": [
            "1\n",
            "2\n",
            "4\n",
            "5\n",
            "7\n",
            "8\n",
            "10\n",
            "11\n",
            "13\n",
            "14\n",
            "16\n",
            "17\n",
            "19\n",
            "20\n"
          ]
        }
      ]
    },
    {
      "cell_type": "markdown",
      "source": [
        "## 78. assert\n",
        "- used for debugging\n",
        "- if assertion passes, it returns True\n",
        "- if assertion fails, an AssertionError is thrown"
      ],
      "metadata": {
        "id": "gFkeyVF7Zl90"
      }
    },
    {
      "cell_type": "code",
      "source": [
        "# prompt the user to enter a number which is greater than 10,\n",
        "# validate and assert using assert statement\n",
        "# assert.py\n",
        "x = int(input(\"Enter a number greater than 10: \"))\n",
        "assert x>10, \"Wrong number entered\"\n",
        "print(\"You enterd\", x)"
      ],
      "metadata": {
        "colab": {
          "base_uri": "https://localhost:8080/",
          "height": 279
        },
        "id": "l0fG2ptqZNX1",
        "outputId": "3edd466d-214d-471d-d275-0a64475f7706"
      },
      "execution_count": 47,
      "outputs": [
        {
          "name": "stdout",
          "output_type": "stream",
          "text": [
            "Enter a number greater than 10: 8\n"
          ]
        },
        {
          "output_type": "error",
          "ename": "AssertionError",
          "evalue": "ignored",
          "traceback": [
            "\u001b[1;31m---------------------------------------------------------------------------\u001b[0m",
            "\u001b[1;31mAssertionError\u001b[0m                            Traceback (most recent call last)",
            "Cell \u001b[1;32mIn[47], line 5\u001b[0m\n\u001b[0;32m      1\u001b[0m \u001b[38;5;66;03m# prompt the user to enter a number which is greater than 10, \u001b[39;00m\n\u001b[0;32m      2\u001b[0m \u001b[38;5;66;03m# validate and assert using assert statement\u001b[39;00m\n\u001b[0;32m      3\u001b[0m \u001b[38;5;66;03m# assert.py\u001b[39;00m\n\u001b[0;32m      4\u001b[0m x \u001b[38;5;241m=\u001b[39m \u001b[38;5;28mint\u001b[39m(\u001b[38;5;28minput\u001b[39m(\u001b[38;5;124m\"\u001b[39m\u001b[38;5;124mEnter a number greater than 10: \u001b[39m\u001b[38;5;124m\"\u001b[39m))\n\u001b[1;32m----> 5\u001b[0m \u001b[38;5;28;01massert\u001b[39;00m x\u001b[38;5;241m>\u001b[39m\u001b[38;5;241m10\u001b[39m, \u001b[38;5;124m\"\u001b[39m\u001b[38;5;124mWrong number entered\u001b[39m\u001b[38;5;124m\"\u001b[39m\n\u001b[0;32m      6\u001b[0m \u001b[38;5;28mprint\u001b[39m(\u001b[38;5;124m\"\u001b[39m\u001b[38;5;124mYou enterd\u001b[39m\u001b[38;5;124m\"\u001b[39m, x)\n",
            "\u001b[1;31mAssertionError\u001b[0m: Wrong number entered"
          ]
        }
      ]
    },
    {
      "cell_type": "markdown",
      "source": [
        "## 79. More Programs- Remove Duplicates in List"
      ],
      "metadata": {
        "id": "i1akP6neaiTB"
      }
    },
    {
      "cell_type": "code",
      "source": [
        "# removeduplicates.py\n",
        "l1 = eval(input('Enter a list of elements ')) # [10, 20, 30, 40, 30, 20]\n",
        "print(l1)\n",
        "l2 = []\n",
        "for each_value in l1:\n",
        "    if each_value not in l2:\n",
        "        l2.append(each_value)\n",
        "print(l2)"
      ],
      "metadata": {
        "colab": {
          "base_uri": "https://localhost:8080/"
        },
        "id": "w502YZ3paNcd",
        "outputId": "b22e2526-d68d-4381-9e74-fe816c738edb"
      },
      "execution_count": 50,
      "outputs": [
        {
          "output_type": "stream",
          "name": "stdout",
          "text": [
            "Enter a list of elements [10, 20, 30, 40, 30, 20]\n",
            "[10, 20, 30, 40, 30, 20]\n",
            "[10, 20, 30, 40]\n"
          ]
        }
      ]
    },
    {
      "cell_type": "code",
      "source": [
        "l1 = eval(input(\"Enter a list of elements \")) # [10, 20, 10, 30]\n",
        "s1 = set(l1)\n",
        "print(s1)"
      ],
      "metadata": {
        "colab": {
          "base_uri": "https://localhost:8080/"
        },
        "id": "Fiff6-rza9ig",
        "outputId": "33dc72ae-ad3d-4ef8-f729-e4bf9b088d5a"
      },
      "execution_count": 53,
      "outputs": [
        {
          "output_type": "stream",
          "name": "stdout",
          "text": [
            "Enter a list of elements [10, 20, 10, 30]\n",
            "{10, 20, 30}\n"
          ]
        }
      ]
    },
    {
      "cell_type": "markdown",
      "source": [
        "## 80. More Programs- Count Vowels in a word\n"
      ],
      "metadata": {
        "id": "ms1GJafxdD7t"
      }
    },
    {
      "cell_type": "code",
      "source": [
        "# vowelcounter.py\n",
        "word =  input('Enter a word ')\n",
        "# eagle\n",
        "# surya\n",
        "vowels = {'a', 'e', 'i', 'o', 'u'}\n",
        "results = {}\n",
        "for c in word:\n",
        "    if c in vowels:\n",
        "        results[c] = results.get(c, 0)+1\n",
        "for k, v in sorted(results.items()):\n",
        "    print(k, \"is present\", v, \"times\")"
      ],
      "metadata": {
        "colab": {
          "base_uri": "https://localhost:8080/"
        },
        "id": "0vNu97luc5yo",
        "outputId": "fd265a41-0a44-4b7d-e323-92983c94fc27"
      },
      "execution_count": 58,
      "outputs": [
        {
          "output_type": "stream",
          "name": "stdout",
          "text": [
            "Enter a word surya\n",
            "a is present 1 times\n",
            "u is present 1 times\n"
          ]
        }
      ]
    },
    {
      "cell_type": "markdown",
      "source": [
        "## 81. More Programs- Handle employee Details\n"
      ],
      "metadata": {
        "id": "IypnaVUvedDT"
      }
    },
    {
      "cell_type": "code",
      "source": [
        "# capture employee details like name, salary in dict type\n",
        "# Get employee name from user and return salary, etc.\n",
        "# employeeinfo.py\n",
        "n = int(input('Enter the number of employees: ')) # 3\n",
        "employees = {}\n",
        "for i in range(n):\n",
        "    name = input('Enter employee name: ') # john bob surya\n",
        "    salary = input('Enter employee salary: ') # 10000 8000 1000\n",
        "    employees[name] = salary\n",
        "print('You can know the salary details by entering the name')\n",
        "while True:\n",
        "    name = input('Enter employee name: ') # surya xxx john\n",
        "    salary = employees.get(name, -1)\n",
        "    if salary == -1 :\n",
        "        print(\"Employee does not exist\")\n",
        "    else:\n",
        "        print('The salary of employee is', salary)\n",
        "    choice = input('Do you want to know the salary of another employee[Yes|No]') # Yes Yes No\n",
        "    if choice == 'No':\n",
        "        break"
      ],
      "metadata": {
        "colab": {
          "base_uri": "https://localhost:8080/"
        },
        "id": "2wtDsue6dSVK",
        "outputId": "51072b43-07ea-4f99-83a0-c0cf2f52188b"
      },
      "execution_count": 64,
      "outputs": [
        {
          "name": "stdout",
          "output_type": "stream",
          "text": [
            "Enter the number of employees: 3\n",
            "Enter employee name: john\n",
            "Enter employee salary: 10000\n",
            "Enter employee name: bob\n",
            "Enter employee salary: 8000\n",
            "Enter employee name: surya\n",
            "Enter employee salary: 1000\n",
            "You can know the salary details by entering the name\n",
            "Enter employee name: surya\n",
            "The salary of employee is 1000\n",
            "Do you want to know the salary of another employee[Yes|No]Yes\n",
            "Enter employee name: xxx\n",
            "Employee does not exist\n",
            "Do you want to know the salary of another employee[Yes|No]Yes\n",
            "Enter employee name: john\n",
            "The salary of employee is 10000\n",
            "Do you want to know the salary of another employee[Yes|No]No\n"
          ]
        }
      ]
    },
    {
      "cell_type": "markdown",
      "source": [
        "## Assignment 6: Loops"
      ],
      "metadata": {
        "id": "0qjgYnIN6_xq"
      }
    },
    {
      "cell_type": "code",
      "source": [
        "n = int(input(\"Enter a number : \"))\n",
        "for i in range(n):\n",
        "    if i%10 == 0:\n",
        "        continue\n",
        "    if i>100 :\n",
        "        break\n",
        "    print(i)"
      ],
      "metadata": {
        "colab": {
          "base_uri": "https://localhost:8080/"
        },
        "id": "e6dmY6kAgngF",
        "outputId": "9d39d7ba-fbd0-447b-8ec1-fad43ab93411"
      },
      "execution_count": 72,
      "outputs": [
        {
          "output_type": "stream",
          "name": "stdout",
          "text": [
            "Enter a number : 110\n",
            "1\n",
            "2\n",
            "3\n",
            "4\n",
            "5\n",
            "6\n",
            "7\n",
            "8\n",
            "9\n",
            "11\n",
            "12\n",
            "13\n",
            "14\n",
            "15\n",
            "16\n",
            "17\n",
            "18\n",
            "19\n",
            "21\n",
            "22\n",
            "23\n",
            "24\n",
            "25\n",
            "26\n",
            "27\n",
            "28\n",
            "29\n",
            "31\n",
            "32\n",
            "33\n",
            "34\n",
            "35\n",
            "36\n",
            "37\n",
            "38\n",
            "39\n",
            "41\n",
            "42\n",
            "43\n",
            "44\n",
            "45\n",
            "46\n",
            "47\n",
            "48\n",
            "49\n",
            "51\n",
            "52\n",
            "53\n",
            "54\n",
            "55\n",
            "56\n",
            "57\n",
            "58\n",
            "59\n",
            "61\n",
            "62\n",
            "63\n",
            "64\n",
            "65\n",
            "66\n",
            "67\n",
            "68\n",
            "69\n",
            "71\n",
            "72\n",
            "73\n",
            "74\n",
            "75\n",
            "76\n",
            "77\n",
            "78\n",
            "79\n",
            "81\n",
            "82\n",
            "83\n",
            "84\n",
            "85\n",
            "86\n",
            "87\n",
            "88\n",
            "89\n",
            "91\n",
            "92\n",
            "93\n",
            "94\n",
            "95\n",
            "96\n",
            "97\n",
            "98\n",
            "99\n"
          ]
        }
      ]
    },
    {
      "cell_type": "markdown",
      "source": [
        "## Assignment 7: Input and Output functions"
      ],
      "metadata": {
        "id": "v2Lsa3ATLqH4"
      }
    },
    {
      "cell_type": "code",
      "source": [
        "flg = True\n",
        "n = int(input(\"Enter number to check prime: \"))\n",
        "\n",
        "for i in range(2, n//2+1):\n",
        "    if n%i == 0:\n",
        "        flg = False\n",
        "\n",
        "if flg:\n",
        "    print(\"Prime Number\")\n",
        "else:\n",
        "    print(\"Not a Prime NUmber\")"
      ],
      "metadata": {
        "colab": {
          "base_uri": "https://localhost:8080/"
        },
        "id": "xKO5K5dVKghI",
        "outputId": "46a13e5a-dd33-4dfe-8753-91e4646a6b35"
      },
      "execution_count": 84,
      "outputs": [
        {
          "output_type": "stream",
          "name": "stdout",
          "text": [
            "Enter number to check prime: 107\n",
            "Prime Number\n"
          ]
        }
      ]
    },
    {
      "cell_type": "code",
      "source": [],
      "metadata": {
        "id": "Vbhs7I4LMkRa"
      },
      "execution_count": 84,
      "outputs": []
    }
  ]
}