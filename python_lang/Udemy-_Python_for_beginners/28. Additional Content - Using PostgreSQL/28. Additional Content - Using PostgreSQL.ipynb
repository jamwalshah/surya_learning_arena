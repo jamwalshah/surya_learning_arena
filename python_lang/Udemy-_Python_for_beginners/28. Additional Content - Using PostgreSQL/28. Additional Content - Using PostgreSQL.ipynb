{
  "nbformat": 4,
  "nbformat_minor": 0,
  "metadata": {
    "colab": {
      "provenance": [],
      "toc_visible": true
    },
    "kernelspec": {
      "name": "python3",
      "display_name": "Python 3"
    },
    "language_info": {
      "name": "python"
    }
  },
  "cells": [
    {
      "cell_type": "markdown",
      "source": [
        "## 257. Introduction\n",
        "- Go ahead and install PostgreSQL to get ready\n",
        "- For windows users\n",
        "    - Select your operating system\n",
        "    - use 'Download the installer' option to download installer\n",
        "- When you install, make sure that you enter valid username and password which you remember it (superuser: postgres, password: postgres)\n",
        "    - Once the installation finishes, goto your commandline and you can use the following command\n",
        "    ``` bash\n",
        "    psql -U userName\n",
        "    ```\n",
        "    - ```psql``` is the PostgreSQL client or commandline tool, and then after above command, it'll prompt you for the password to emnter the command line using which we can create database, create users, create tables and perform CRUD operations"
      ],
      "metadata": {
        "id": "8v9bEYUdAFqj"
      }
    },
    {
      "cell_type": "markdown",
      "source": [
        "## 258. Setup the database\n",
        "- You'll setup the ```employeedb``` Postgres database and ```employee``` table  inside it\n",
        "- You'll then create a user 'test' with password 'password' and allow him to access our database and our table, so that we can use that user to connect to the database from within our node application\n",
        "``` sql\n",
        "    -- creates database\n",
        "    CREATE DATABASE employeedb;\n",
        "    -- uses database employeedb\n",
        "    \\c employeedb;\n",
        "    -- creates table\n",
        "    -- id column will be auto-incremented as it is a sequence\n",
        "    CREATE TABLE employee (id SERIAL PRIMARY KEY, name VARCHAR(30), sal REAL);\n",
        "    -- creates user(role)\n",
        "    CREATE USER test WITH ENCRYPTED PASSWORD 'password';\n",
        "    -- grant database level privileges to user 'test'\n",
        "    GRANT ALL PRIVILEGES ON DATABASE employeedb TO test;\n",
        "    -- grant table permission to user 'test'\n",
        "    GRANT ALL PRIVILEGES ON TABLE employee TO test;\n",
        "    -- grant permission of sequence created internally to user 'test'\n",
        "    -- postgres internally creates a sequnce named 'employee_id_seq' , to which user 'test' should have\n",
        "    -- otherwise it'll show error that 'test' user does not have access to the sequence rendering us\n",
        "    -- unable to increment the value of 'id' column when you use the user 'test'\n",
        "    GRANT ALL PRIVILEGES ON SEQUENCE employee_id_seq TO test;\n",
        "    -- shows all records from employee table\n",
        "    SELECT * FROM employee;\n",
        "\n",
        "    -- DROP DATABASE employeedb\n",
        "    -- DROP USER test\n",
        "```\n",
        "- currently, it does not show any records, but we'll add records from our python code"
      ],
      "metadata": {
        "id": "cSarAW55CWwY"
      }
    },
    {
      "cell_type": "markdown",
      "source": [
        "## 259. Install psycopg2\n",
        "- To connect and work with Postgres databases from within your python program, we need the ```psycopg2``` package\n",
        "- Just like we use ```MySQLCOnnector``` to connect to ```MySQL``` database, in case of ```Postgres```, we use ```Psycopg2``` package\n",
        "- You can visit the PyPI wesbite for instaling Psycopg2 package using https://pypi.org/project/psycopg2/ and install the package using command ```pip install psycopg2``` or ```pip3 install psycopg2-binary```\n",
        "- If you're using PyCharm, you need to ensure that the interpreter you're using in PyCharm also as access to this ```psycopg2``` package, because PyCharm installs its own interpreter\n",
        "- Also, if you're using some other IDE, as long as you have performed the installation of such packages in the interpreter that your IDE is using, you should be good to go and able to import psycopg2 to work with it"
      ],
      "metadata": {
        "id": "8yXttZi_0OJa"
      }
    },
    {
      "cell_type": "markdown",
      "source": [
        "## 260. Connect and Insert\n",
        "- We'll programatically insert data into a postgres database table\n",
        "- Before doing that execute this below command in ```psql``` shell\n",
        "``` sql\n",
        "SELECT * FROM employee;\n",
        "```\n",
        "- Use psycopg2 pacakge to establish a database connection and insert\n",
        "- ```psycopg2.connect(dsn=None, connection_factory=None, cursor_factory=None, **kwargs)```\n",
        "    - creates a new dataabse connection\n",
        "    - connection parameters can be specified as a string:\n",
        "        - ```psycopg2.connect(\"dbname=test user=postgres password=secret\")```\n",
        "    - or using a set of keyword arguments:\n",
        "        - ```psycopg2.connect(database=\"test\", user=\"postgres\", password=\"secret\")```\n",
        "    - or as a mix of both. The basic connection parameters are\n",
        "        - ```dbname``` : the database name\n",
        "        - ```database``` : the database name (only as keyword argument)\n",
        "        - ```user``` : user name used to authenticate\n",
        "        - ```password``` : password used to authenticate\n",
        "        - ```host``` : database host address (defaults to UNIX socket if not provided)\n",
        "        - ```port``` : connection port number (defaults to 5432 if not provided)\n",
        "    - Using the ```connection_factory``` parameter, a different class or connections factory can be specified. It should be a callable object taking a dsn argument\n",
        "    - Using the ```cursor_factory``` parameter, a new default cursor factory will be used by the cursor()\n",
        "    - Using ```async=True```, an asynchronous connection will be created, ```async_``` is a valid alias (for Python versions where ```async``` is a keyword)\n",
        "    - Any other keyword parameter will be passed to the underlying client library, the list of supported parameters depends upon the library version\n",
        "    - returns a connection object of type ```psycopg2.extensions.connection```\n",
        "- ```psycopg2.extensions.connection.cursor(Name=None, cursor_factory=extensions.cursor, withhold=False)```\n",
        "    - returns a new cursor of type ```psycopg2.extensions.cursor```\n",
        "    - ```cursor_factory``` argument can be used to create non-standard cursors by passing a class different from the default. Note that the new class should be a sub-class of ```extensions.cursor```\n",
        "- ```psycopg2.extensions.connection.commit()```\n",
        "    - commit all changes to database\n",
        "- ```psycopg2.extensions.connection.rollback()```\n",
        "    - roll back all changes done to database\n",
        "- ```psycopg2.extensions.connection.close()```\n",
        "    - close the connection"
      ],
      "metadata": {
        "id": "KszpbRZvPSuv"
      }
    },
    {
      "cell_type": "code",
      "execution_count": 2,
      "metadata": {
        "colab": {
          "base_uri": "https://localhost:8080/"
        },
        "id": "Y9gmzPMNABXm",
        "outputId": "8fee83b0-7ec1-4bf1-9da1-1e70b06b326f"
      },
      "outputs": [
        {
          "output_type": "stream",
          "name": "stdout",
          "text": [
            "Connected to employeedb\n",
            "Employee Created\n"
          ]
        }
      ],
      "source": [
        "# pginsert.py\n",
        "import psycopg2\n",
        "connection = psycopg2.connect(database='employeedb',\n",
        "                              user='test',\n",
        "                              password='password',\n",
        "                              host='127.0.0.1',\n",
        "                              port='5432')\n",
        "print('Connected to employeedb')\n",
        "# print(\"DEBUG:\", connection) # debug\n",
        "# print(\"DEBUG:\", type(connection)) # debug\n",
        "cursor = connection.cursor()\n",
        "# print(\"DEBUG:\", type(cursor)) # debug\n",
        "cursor.execute(\"INSERT INTO employee (name, sal) VALUES ('Surya', 20000);\")\n",
        "# print(\"DEBUG:\", connection) # debug\n",
        "connection.commit()\n",
        "# print(\"DEBUG:\", cursor) # debug\n",
        "# print(\"DEBUG:\", connection) # debug\n",
        "print(\"Employee Created\")\n",
        "cursor.close()\n",
        "# print(\"DEBUG:\", cursor) # debug\n",
        "connection.close()\n",
        "# print(\"DEBUG:\", connection) # debug"
      ]
    },
    {
      "cell_type": "markdown",
      "source": [
        "## 261. Fetch Data\n",
        "- We'll fetch all the employees from the database\n",
        "- ``` psycopg2.extensions.connection.cursor.fetchall()```\n",
        "    - return all the remaining rows of the result set\n",
        "    - returns a list of tuples\n",
        "    - returns 'None' when no more data is available\n",
        "    - rows are returned in the form of list of tuples (by default) or using the sequence factory previously set in the row factory attribute"
      ],
      "metadata": {
        "id": "rXt7PLllJ68L"
      }
    },
    {
      "cell_type": "code",
      "source": [
        "# pgfetch.py\n",
        "import psycopg2\n",
        "\n",
        "connection = psycopg2.connect(database='employeedb',\n",
        "                              user='test',\n",
        "                              password='password',\n",
        "                              host='127.0.0.1',\n",
        "                              port='5432')\n",
        "print(\"Connected to employeedb\")\n",
        "cursor = connection.cursor()\n",
        "cursor.execute(\"SELECT * FROM employee;\")\n",
        "rows = cursor.fetchall()\n",
        "for row in rows:\n",
        "    print(\"ID:\", row[0])\n",
        "    print(\"Name:\", row[1])\n",
        "    print(\"Salary:\", row[2])\n",
        "\n",
        "cursor.close()\n",
        "connection.close()"
      ],
      "metadata": {
        "colab": {
          "base_uri": "https://localhost:8080/"
        },
        "id": "TAsQJUbMQHt3",
        "outputId": "b4e1b882-d9f7-4e04-be87-6ecfcd7bc9f6"
      },
      "execution_count": 4,
      "outputs": [
        {
          "output_type": "stream",
          "name": "stdout",
          "text": [
            "Connected to employeedb\n",
            "ID: 2\n",
            "Name: Surya\n",
            "Salary: 20000.0\n"
          ]
        }
      ]
    },
    {
      "cell_type": "markdown",
      "source": [
        "- Use UPDATE...SET query to update values in records"
      ],
      "metadata": {
        "id": "Mvui17b7Risg"
      }
    },
    {
      "cell_type": "code",
      "source": [
        "# pgupdate.py\n",
        "import psycopg2\n",
        "\n",
        "connection = psycopg2.connect(database='employeedb',\n",
        "                              user='test',\n",
        "                              password='password',\n",
        "                              host='127.0.0.1',\n",
        "                              port='5432')\n",
        "print(\"Connected to employeedb\")\n",
        "cursor = connection.cursor()\n",
        "cursor.execute(\"UPDATE employee SET sal=30000 WHERE id='2'\")\n",
        "# print(\"DEBUG: rows affected=\", cursor.rowcount) # debug\n",
        "connection.commit()\n",
        "# connection.rollback()\n",
        "print(\"Employee updated\")\n",
        "cursor.close()\n",
        "connection.close()"
      ],
      "metadata": {
        "colab": {
          "base_uri": "https://localhost:8080/"
        },
        "id": "LfalbhBVnYkh",
        "outputId": "e970bae7-34ee-49c6-ce39-ab1a0d46e5fa"
      },
      "execution_count": 5,
      "outputs": [
        {
          "output_type": "stream",
          "name": "stdout",
          "text": [
            "Connected to employeedb\n",
            "Employee updated\n"
          ]
        }
      ]
    },
    {
      "cell_type": "markdown",
      "source": [
        "- Use DELETE query where you'll pass 'id' and delete the employee"
      ],
      "metadata": {
        "id": "8SXUKU0VRnDg"
      }
    },
    {
      "cell_type": "code",
      "source": [
        "# pgdelete.py\n",
        "import psycopg2\n",
        "\n",
        "connection = psycopg2.connect(database='employeedb',\n",
        "                              user='test',\n",
        "                              password='password',\n",
        "                              host='127.0.0.1',\n",
        "                              port='5432')\n",
        "print(\"Connected to employeedb\")\n",
        "cursor = connection.cursor()\n",
        "id = int(input(\"Enter id you want to delete: \")) # 2\n",
        "cursor.execute(\"DELETE FROM employee WHERE id = '%d' \" %(id))\n",
        "# print(\"DEBUG: rows affected=\", cursor.rowcount) # debug\n",
        "connection.commit()\n",
        "# connection.rollback()\n",
        "print(\"Employee deleted with id : %d\" %(id))\n",
        "cursor.close()\n",
        "connection.close()"
      ],
      "metadata": {
        "colab": {
          "base_uri": "https://localhost:8080/"
        },
        "id": "kM7rcfutRuhq",
        "outputId": "a2d2f1bf-6e52-40bf-9328-572cb59c4021"
      },
      "execution_count": 9,
      "outputs": [
        {
          "output_type": "stream",
          "name": "stdout",
          "text": [
            "Connected to employeedb\n",
            "Enter id you want to delete: 2\n",
            "Employee deleted with id : 2\n"
          ]
        }
      ]
    },
    {
      "cell_type": "code",
      "source": [],
      "metadata": {
        "id": "t7NK1d1VgRwh"
      },
      "execution_count": 9,
      "outputs": []
    }
  ]
}