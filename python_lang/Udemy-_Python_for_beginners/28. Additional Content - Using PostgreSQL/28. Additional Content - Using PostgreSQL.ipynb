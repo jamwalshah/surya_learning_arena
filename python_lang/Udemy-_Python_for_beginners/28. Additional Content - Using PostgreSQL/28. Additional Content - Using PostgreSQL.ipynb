{
  "nbformat": 4,
  "nbformat_minor": 0,
  "metadata": {
    "colab": {
      "provenance": [],
      "toc_visible": true
    },
    "kernelspec": {
      "name": "python3",
      "display_name": "Python 3"
    },
    "language_info": {
      "name": "python"
    }
  },
  "cells": [
    {
      "cell_type": "markdown",
      "source": [
        "## 257. Introduction\n",
        "- Go ahead and install PostgreSQL to get ready\n",
        "- For windows users\n",
        "    - Select your operating system\n",
        "    - use 'Download the installer' option to download installer\n",
        "- When you install, make sure that you enter valid username and password which you remember it (superuser: postgres, password: postgres)\n",
        "    - Once the installation finishes, goto your commandline and you can use the following command\n",
        "    ``` bash\n",
        "    psql -U userName\n",
        "    ```\n",
        "    - ```psql``` is the PostgreSQL client or commandline tool, and then after above command, it'll prompt you for the password to emnter the command line using which we can create database, create users, create tables and perform CRUD operations"
      ],
      "metadata": {
        "id": "8v9bEYUdAFqj"
      }
    },
    {
      "cell_type": "markdown",
      "source": [
        "## 258. Setup the database\n",
        "- You'll setup the ```employeedb``` Postgres database and ```employee``` table  inside it\n",
        "- You'll then create a user 'test' with password 'password' and allow him to access our database and our table, so that we can use that user to connect to the database from within our node application\n",
        "``` sql\n",
        "    -- creates database\n",
        "    CREATE DATABASE employeedb;\n",
        "    -- uses database employeedb\n",
        "    \\c employeedb;\n",
        "    -- creates table\n",
        "    CREATE TABLE employee (id SERIAL PRIMARY KEY, name VARCHAR(30), sal REAL);\n",
        "    -- creates user(role)\n",
        "    CREATE USER test WITH ENCRYPTED PASSWORD 'password';\n",
        "    -- grant database level privileges to user 'test'\n",
        "    GRANT ALL PRIVILEGES ON DATABASE employeedb TO test;\n",
        "    -- grant table permission to user 'test'\n",
        "    GRANT ALL PRIVILEGES ON TABLE employee TO test;\n",
        "    -- grant permission of sequence created internally to user 'test'\n",
        "    -- postgres internally creates a sequnce named 'employee_id_seq' , to which user 'test' should have\n",
        "    -- otherwise it'll show error that 'test' user does not have access to the sequence rendering us\n",
        "    -- unable to increment the value of 'id' column when you use the user 'test'\n",
        "    GRANT ALL PRIVILEGES ON SEQUENCE employee_id_seq TO test;\n",
        "    -- shows all records from employee table\n",
        "    SELECT * FROM employee;\n",
        "\n",
        "    -- DROP DATABASE employeedb\n",
        "    -- DROP USER test\n",
        "```\n",
        "- currently, it does not show any records, but we'll add records from our python code"
      ],
      "metadata": {
        "id": "cSarAW55CWwY"
      }
    },
    {
      "cell_type": "markdown",
      "source": [
        "## 259. Install psycopg2\n",
        "-"
      ],
      "metadata": {
        "id": "8yXttZi_0OJa"
      }
    },
    {
      "cell_type": "code",
      "execution_count": null,
      "metadata": {
        "id": "Y9gmzPMNABXm"
      },
      "outputs": [],
      "source": []
    }
  ]
}