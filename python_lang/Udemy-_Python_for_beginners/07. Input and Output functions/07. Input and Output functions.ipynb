{
  "nbformat": 4,
  "nbformat_minor": 0,
  "metadata": {
    "colab": {
      "provenance": [],
      "toc_visible": true
    },
    "kernelspec": {
      "name": "python3",
      "display_name": "Python 3"
    },
    "language_info": {
      "name": "python"
    }
  },
  "cells": [
    {
      "cell_type": "markdown",
      "source": [
        "## 55. Introduction\n",
        "- to perform input operation in a standalone python program, we use ``` input()```\n",
        "- to perform output operation in a standalone python program, we use ``` print()```"
      ],
      "metadata": {
        "id": "pVfQcfpDDsXg"
      }
    },
    {
      "cell_type": "markdown",
      "source": [
        "## 56. print"
      ],
      "metadata": {
        "id": "CxIaQoVXEIXj"
      }
    },
    {
      "cell_type": "code",
      "execution_count": 1,
      "metadata": {
        "colab": {
          "base_uri": "https://localhost:8080/"
        },
        "id": "sxOcdlEnDpzp",
        "outputId": "50e117ab-d12d-442b-b1ab-e52d581c13df"
      },
      "outputs": [
        {
          "output_type": "stream",
          "name": "stdout",
          "text": [
            "\n"
          ]
        }
      ],
      "source": [
        "# printfun.py\n",
        "print()"
      ]
    },
    {
      "cell_type": "code",
      "source": [
        "print(\"Hello\"*3) # String Repetition"
      ],
      "metadata": {
        "colab": {
          "base_uri": "https://localhost:8080/"
        },
        "id": "z30Ok_ZEEU0W",
        "outputId": "5b994e4d-5c3f-460a-ca2b-6c5a5e20e63e"
      },
      "execution_count": 2,
      "outputs": [
        {
          "output_type": "stream",
          "name": "stdout",
          "text": [
            "HelloHelloHello\n"
          ]
        }
      ]
    },
    {
      "cell_type": "code",
      "source": [
        "print(\"Hello\"*3)\n",
        "print(\"All the power is with in you\")"
      ],
      "metadata": {
        "colab": {
          "base_uri": "https://localhost:8080/"
        },
        "id": "-5YakrxkEZsJ",
        "outputId": "4be8e63f-7918-490f-d649-c0f1575814f2"
      },
      "execution_count": 5,
      "outputs": [
        {
          "output_type": "stream",
          "name": "stdout",
          "text": [
            "HelloHelloHello\n",
            "All the power is with in you\n"
          ]
        }
      ]
    },
    {
      "cell_type": "code",
      "source": [
        "print(\"Hello\"*3)\n",
        "print(\"All the power \\n is with in you\")"
      ],
      "metadata": {
        "colab": {
          "base_uri": "https://localhost:8080/"
        },
        "id": "GWON5iyNEoJv",
        "outputId": "53776469-5a01-45dd-d08d-3e9e19ee189a"
      },
      "execution_count": 6,
      "outputs": [
        {
          "output_type": "stream",
          "name": "stdout",
          "text": [
            "HelloHelloHello\n",
            "All the power \n",
            " is with in you\n"
          ]
        }
      ]
    },
    {
      "cell_type": "code",
      "source": [
        "a, b = 10, 20\n",
        "print(a, b) # by default, it separates by ' ' character"
      ],
      "metadata": {
        "colab": {
          "base_uri": "https://localhost:8080/"
        },
        "id": "ga0OuxViE00O",
        "outputId": "1f34ac32-e7fb-4a04-c728-089d13e1cb23"
      },
      "execution_count": 7,
      "outputs": [
        {
          "output_type": "stream",
          "name": "stdout",
          "text": [
            "10 20\n"
          ]
        }
      ]
    },
    {
      "cell_type": "code",
      "source": [
        "a, b = 10, 20\n",
        "print(a, b, sep=',') # separator can be changed using 'sep=' attribute\n",
        "print(a, b, sep='++++')"
      ],
      "metadata": {
        "colab": {
          "base_uri": "https://localhost:8080/"
        },
        "id": "4a304bPtFCNG",
        "outputId": "6fafbf13-605e-4946-e6c7-99921d928e77"
      },
      "execution_count": 8,
      "outputs": [
        {
          "output_type": "stream",
          "name": "stdout",
          "text": [
            "10,20\n",
            "10++++20\n"
          ]
        }
      ]
    },
    {
      "cell_type": "markdown",
      "source": [
        "## 57. print and string formatting"
      ],
      "metadata": {
        "id": "7BxItY_bw19s"
      }
    },
    {
      "cell_type": "code",
      "source": [
        "name = \"john\"\n",
        "marks = 94.5\n",
        "print(\"Name is\", name, \"Marks are\", marks)\n",
        "print(\"Name is %s, Marks are %.2f\"%(name, marks))"
      ],
      "metadata": {
        "colab": {
          "base_uri": "https://localhost:8080/"
        },
        "id": "n1ThcmR2FRoa",
        "outputId": "0c39a819-9f13-4aeb-a463-470f11e76c60"
      },
      "execution_count": 14,
      "outputs": [
        {
          "output_type": "stream",
          "name": "stdout",
          "text": [
            "Name is john Marks are 94.5\n",
            "Name is john, Marks are 94.50\n"
          ]
        }
      ]
    },
    {
      "cell_type": "code",
      "source": [
        "name = \"john\"\n",
        "marks = 94.5678\n",
        "print(\"Name is %s, Marks are %.2f\"%(name, marks))\n",
        "print(\"Name is %s, Marks are %.3f\"%(name, marks))"
      ],
      "metadata": {
        "colab": {
          "base_uri": "https://localhost:8080/"
        },
        "id": "uKoJzoBBxJnr",
        "outputId": "aef7be44-85c2-415e-edd3-5b18297656f9"
      },
      "execution_count": 16,
      "outputs": [
        {
          "output_type": "stream",
          "name": "stdout",
          "text": [
            "Name is john, Marks are 94.57\n",
            "Name is john, Marks are 94.568\n"
          ]
        }
      ]
    },
    {
      "cell_type": "code",
      "source": [
        "name = \"john\"\n",
        "marks = 94.5678\n",
        "print(\"Name is {}, Marks are {}\".format(name, marks))\n",
        "print(\"Name is {0}, Marks are {1}\".format(name, marks))"
      ],
      "metadata": {
        "colab": {
          "base_uri": "https://localhost:8080/"
        },
        "id": "wVheGm41xv6p",
        "outputId": "2ffaa6b7-bc0c-4a58-c659-287fd55406e7"
      },
      "execution_count": 18,
      "outputs": [
        {
          "output_type": "stream",
          "name": "stdout",
          "text": [
            "Name is john, Marks are 94.5678\n",
            "Name is john, Marks are 94.5678\n"
          ]
        }
      ]
    },
    {
      "cell_type": "markdown",
      "source": [
        "## 58. input"
      ],
      "metadata": {
        "id": "X9aB6JLByi7U"
      }
    },
    {
      "cell_type": "code",
      "source": [
        "# inputfun.py\n",
        "s = input() # Surya is a good person\n",
        "print(s)"
      ],
      "metadata": {
        "colab": {
          "base_uri": "https://localhost:8080/"
        },
        "id": "FWRNtqlWyVnW",
        "outputId": "79792bca-032d-4319-9f32-3bd6e4469282"
      },
      "execution_count": 26,
      "outputs": [
        {
          "output_type": "stream",
          "name": "stdout",
          "text": [
            "Surya is a good person\n",
            "Surya is a good person\n"
          ]
        }
      ]
    },
    {
      "cell_type": "code",
      "source": [
        "s = input(\"Enter your name: \") # Surya\n",
        "print(s)"
      ],
      "metadata": {
        "colab": {
          "base_uri": "https://localhost:8080/"
        },
        "id": "eX0LsCdSyvW8",
        "outputId": "d3321dab-09db-4dd0-a764-66ef24056fb2"
      },
      "execution_count": 27,
      "outputs": [
        {
          "output_type": "stream",
          "name": "stdout",
          "text": [
            "Enter your name: Surya\n",
            "Surya\n"
          ]
        }
      ]
    },
    {
      "cell_type": "code",
      "source": [
        "\"\"\"s = input()\n",
        "print(s)\n",
        "s = input(\"Enter your name: \")\n",
        "print(s)\"\"\"\n",
        "i = input(\"Enter a integer number: \") # 123\n",
        "print(type(i))"
      ],
      "metadata": {
        "colab": {
          "base_uri": "https://localhost:8080/"
        },
        "id": "KjMG23GkzL5j",
        "outputId": "8cab4baf-55ff-4db1-b17e-78402971a5b0"
      },
      "execution_count": 33,
      "outputs": [
        {
          "output_type": "stream",
          "name": "stdout",
          "text": [
            "Enter a integer number: 123\n",
            "<class 'str'>\n"
          ]
        }
      ]
    },
    {
      "cell_type": "code",
      "source": [
        "i = int(input(\"Enter a integer number: \")) # 123\n",
        "print(type(i))"
      ],
      "metadata": {
        "colab": {
          "base_uri": "https://localhost:8080/"
        },
        "id": "vHjkaJYYLjuI",
        "outputId": "63249fdc-cd25-4ba5-a0b3-2115f06431d4"
      },
      "execution_count": 34,
      "outputs": [
        {
          "output_type": "stream",
          "name": "stdout",
          "text": [
            "Enter a integer number: 123\n",
            "<class 'int'>\n"
          ]
        }
      ]
    },
    {
      "cell_type": "markdown",
      "source": [
        "## 59. reading multiple inputs"
      ],
      "metadata": {
        "id": "IIuNZd7LMYc1"
      }
    },
    {
      "cell_type": "code",
      "source": [
        "lst = [x for x in input(\"Enter three numbers separated by space: \").split()] # 1 2 3\n",
        "print(lst)"
      ],
      "metadata": {
        "colab": {
          "base_uri": "https://localhost:8080/"
        },
        "id": "GYUNA7QhLs_3",
        "outputId": "99baaf3c-4f22-4656-bb19-bae39d855487"
      },
      "execution_count": 41,
      "outputs": [
        {
          "output_type": "stream",
          "name": "stdout",
          "text": [
            "Enter three numbers separated by space: 1 2 3\n",
            "['1', '2', '3']\n"
          ]
        }
      ]
    },
    {
      "cell_type": "code",
      "source": [
        "lst = [x for x in input(\"Enter three numbers separated by space: \").split(\",\")] # 1,2,3\n",
        "print(lst)"
      ],
      "metadata": {
        "colab": {
          "base_uri": "https://localhost:8080/"
        },
        "id": "76AZLY0mM5sE",
        "outputId": "0fa81bc8-50b9-45cb-fa71-b7edbbaadcea"
      },
      "execution_count": 42,
      "outputs": [
        {
          "output_type": "stream",
          "name": "stdout",
          "text": [
            "Enter three numbers separated by space: 1,2,3\n",
            "['1', '2', '3']\n"
          ]
        }
      ]
    },
    {
      "cell_type": "code",
      "source": [
        "lst = [int(x) for x in input(\"Enter three numbers separated by space: \").split(\",\")] # 1,2,3\n",
        "print(lst)"
      ],
      "metadata": {
        "colab": {
          "base_uri": "https://localhost:8080/"
        },
        "id": "yaufVkH-NPpu",
        "outputId": "09ec147b-ff5a-41fd-a83f-b82a048381fe"
      },
      "execution_count": 43,
      "outputs": [
        {
          "output_type": "stream",
          "name": "stdout",
          "text": [
            "Enter three numbers separated by space: 1,2,3\n",
            "[1, 2, 3]\n"
          ]
        }
      ]
    },
    {
      "cell_type": "code",
      "source": [
        "lst = [float(x) for x in input(\"Enter three numbers separated by space: \").split(\",\")] # 1.5, 2.6, 3.7\n",
        "print(lst)"
      ],
      "metadata": {
        "colab": {
          "base_uri": "https://localhost:8080/"
        },
        "id": "tWuZ0EPfNZx9",
        "outputId": "6ad6c4be-42f7-45c2-b5ed-7a3231817a44"
      },
      "execution_count": 44,
      "outputs": [
        {
          "output_type": "stream",
          "name": "stdout",
          "text": [
            "Enter three numbers separated by space: 1.5,2.6,3.7\n",
            "[1.5, 2.6, 3.7]\n"
          ]
        }
      ]
    },
    {
      "cell_type": "markdown",
      "source": [
        "## Assignment 4 : Input and Output Functions"
      ],
      "metadata": {
        "id": "AzctgSxvQGlX"
      }
    },
    {
      "cell_type": "code",
      "source": [
        "# MyWaySandwich\n",
        "print(\"Available Toppings:\\nOnions\\nLettuce\\nTomato\\nOlives\\nPeppers\\nTomatoes\")\n",
        "print(\"Pick Three Toppings:\")\n",
        "input()\n",
        "input()\n",
        "input()\n",
        "\n",
        "n = int(input(\"\\nHow Many Sandwiches: \"))\n",
        "print(\"Total:\", 5*n)"
      ],
      "metadata": {
        "colab": {
          "base_uri": "https://localhost:8080/"
        },
        "id": "Tcx7X52ZNnkp",
        "outputId": "c41b0dfe-ffd7-4e0c-8b1a-16651ee49d5e"
      },
      "execution_count": 51,
      "outputs": [
        {
          "output_type": "stream",
          "name": "stdout",
          "text": [
            "Available Toppings:\n",
            "Onions\n",
            "Lettuce\n",
            "Tomato\n",
            "Olives\n",
            "Peppers\n",
            "Tomatoes\n",
            "Pick Three Toppings:\n",
            "Onions\n",
            "Lettuce\n",
            "Peppers\n",
            "\n",
            "How Many Sandwiches: 4\n",
            "Total: 20\n"
          ]
        }
      ]
    },
    {
      "cell_type": "code",
      "source": [],
      "metadata": {
        "id": "fVSGDUngRFOS"
      },
      "execution_count": 50,
      "outputs": []
    }
  ]
}