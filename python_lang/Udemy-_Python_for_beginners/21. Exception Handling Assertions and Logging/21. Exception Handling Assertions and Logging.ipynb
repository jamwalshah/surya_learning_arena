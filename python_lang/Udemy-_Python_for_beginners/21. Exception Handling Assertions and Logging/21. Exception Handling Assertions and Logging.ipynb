{
  "nbformat": 4,
  "nbformat_minor": 0,
  "metadata": {
    "colab": {
      "provenance": [],
      "toc_visible": true
    },
    "kernelspec": {
      "name": "python3",
      "display_name": "Python 3"
    },
    "language_info": {
      "name": "python"
    }
  },
  "cells": [
    {
      "cell_type": "markdown",
      "source": [
        "## 170. Introduction\n",
        "- Exceptions are runtime errors\n",
        "- If something goes wrong in our python application while running it, then an exception is raised\n",
        "- If we don't handle the exception properly, then exception will cause three things\n",
        "    1. Program will terminate abruptly, and code after the line where exception is raised will not be executed\n",
        "    2. Python will display the informal/unfriendly information to the end user\n",
        "    3. Improper shutdown of resources like file stream, DB connection or network connection\n",
        "- Exceptions in python are represented by a class\n",
        "- Python also has different inbuilt exceptions, and we can also define our own exception types\n",
        "- To raise an exception, wrap the code in ```try ... except``` block\n",
        "    - the part which might raise an exception is written in ```try``` block\n",
        "    - if the exeption is raised, the code in ```except``` block is executed to display a user friendly message, and code execution continues smoothly after ```except``` block\n",
        "    - Optionally, ```try ... except``` can also have an ```else``` block, which will be executed if an exception is not raised\n",
        "    - ```finally``` block is executed irrespective of if an exception is raised or not, used to execute the cleanup code such as closing/shutting down resources like DB connection, file stream, etc.\n"
      ],
      "metadata": {
        "id": "zcRR0UeVvOVt"
      }
    },
    {
      "cell_type": "markdown",
      "source": [
        "## 171. Exception Class Hierarchy\n",
        "- Exceptions are represented by objects of a particular class, that object of exception is created when an exception is raised\n",
        "- Parent of all the exception classes is ```Baseexception```, ehich is inherited by ```Exception``` class, which is inherited by ```StandardError``` and ```Warning``` which are raised at runtime\n",
        "    - Examples of ```StandardError``` are\n",
        "        - ```EOFError``` End-Of-File Error, raised when we try to read beyond the length of file\n",
        "        - ```ZeroDivisionError``` , raised when you try to divide a number by zero\n",
        "        - ```IndentationError``` , raised when do not follow proper indentation\n",
        "    - Examples of ```Warning``` are\n",
        "        - ```DeprecatedWarning``` , raised when you try to use a Python API which was available in older versions, and instead you should use latest version\n",
        "        - ```ImportWarning``` , raised when you import certain modules, but you don't use them\n",
        "                              ExceptionBase\n",
        "                                    ^\n",
        "                                    |\n",
        "                                Exception\n",
        "                                    ^\n",
        "                                    |\n",
        "                  ----------------------------------\n",
        "                  ^                                ^\n",
        "                  |                                |\n",
        "                StandardError                   Warning\n",
        "                ^                               ^\n",
        "                |                               |\n",
        "                |-> EOFError                    |-> DeprecatedWarning\n",
        "                |-> ZeroDivisionError           |-> ImportWarning\n",
        "                |-> IndentationError     \n",
        "- ```Warning``` will not stop code execution, but it'll point to something you should not do\n",
        "- ```StandardError``` will terminate your program if you not handle them properly\n",
        "- while creating user-defined exceptions, you'll inherit the ```Exception``` class"
      ],
      "metadata": {
        "id": "tCywZ-wuD_UG"
      }
    },
    {
      "cell_type": "markdown",
      "source": [
        "## 172. Handling Exceptions\n",
        "- Throw a ZeroDivisionError and handle it, ask the user to enter two numbers\n",
        "- You need to optionally specify the name of exception after ```except``` keyword to handle that particular exception, but if you don't specify any exceptionn name after ```except``` keyword, then all the exceptions will be handled by that ```except``` block"
      ],
      "metadata": {
        "id": "jJ2z9qSRrbK5"
      }
    },
    {
      "cell_type": "code",
      "execution_count": 11,
      "metadata": {
        "colab": {
          "base_uri": "https://localhost:8080/"
        },
        "id": "6-nR-xJTvJrj",
        "outputId": "4739f718-3a16-45d9-a3c1-4e63e3ea9836"
      },
      "outputs": [
        {
          "output_type": "stream",
          "name": "stdout",
          "text": [
            "Enter Two numbers:4 2\n",
            "2.0\n"
          ]
        }
      ],
      "source": [
        "# exceptionhandling\n",
        "# exceptiondemo.py\n",
        "a, b = [int(x) for x in input(\"Enter Two numbers:\").split()] # 4 2\n",
        "c = a/b\n",
        "print(c)"
      ]
    },
    {
      "cell_type": "code",
      "source": [
        "a, b = [int(x) for x in input(\"Enter Two numbers:\").split()] # 4 0\n",
        "c = a/b\n",
        "print(c)\n",
        "print(\"code after the exception that will never be executed\")"
      ],
      "metadata": {
        "colab": {
          "base_uri": "https://localhost:8080/",
          "height": 245
        },
        "id": "P41aoQP3o4Iz",
        "outputId": "bc4a01c5-1ee0-4dd9-ca2c-a1df12e7494d"
      },
      "execution_count": 14,
      "outputs": [
        {
          "name": "stdout",
          "output_type": "stream",
          "text": [
            "Enter Two numbers:4 0\n"
          ]
        },
        {
          "output_type": "error",
          "ename": "ZeroDivisionError",
          "evalue": "division by zero",
          "traceback": [
            "\u001b[1;31m---------------------------------------------------------------------------\u001b[0m",
            "\u001b[1;31mZeroDivisionError\u001b[0m                         Traceback (most recent call last)",
            "Cell \u001b[1;32mIn[14], line 2\u001b[0m\n\u001b[0;32m      1\u001b[0m a, b \u001b[38;5;241m=\u001b[39m [\u001b[38;5;28mint\u001b[39m(x) \u001b[38;5;28;01mfor\u001b[39;00m x \u001b[38;5;129;01min\u001b[39;00m \u001b[38;5;28minput\u001b[39m(\u001b[38;5;124m\"\u001b[39m\u001b[38;5;124mEnter Two numbers:\u001b[39m\u001b[38;5;124m\"\u001b[39m)\u001b[38;5;241m.\u001b[39msplit()] \u001b[38;5;66;03m# 4 0\u001b[39;00m\n\u001b[1;32m----> 2\u001b[0m c \u001b[38;5;241m=\u001b[39m \u001b[43ma\u001b[49m\u001b[38;5;241;43m/\u001b[39;49m\u001b[43mb\u001b[49m\n\u001b[0;32m      3\u001b[0m \u001b[38;5;28mprint\u001b[39m(c)\n\u001b[0;32m      4\u001b[0m \u001b[38;5;28mprint\u001b[39m(\u001b[38;5;124m\"\u001b[39m\u001b[38;5;124mcode after the exception that will never be executed\u001b[39m\u001b[38;5;124m\"\u001b[39m)\n",
            "\u001b[1;31mZeroDivisionError\u001b[0m: division by zero"
          ]
        }
      ]
    },
    {
      "cell_type": "code",
      "source": [
        "try:\n",
        "    a, b = [int(x) for x in input(\"Enter Two numbers:\").split()] # 4 0\n",
        "    c = a/b\n",
        "    print(c)\n",
        "except ZeroDivisionError:\n",
        "    print(\"Division by zero is not allowed\")\n",
        "    print(\"Please enter a non-zero number\")\n",
        "print(\"Code after the exception that will never be executed\")"
      ],
      "metadata": {
        "colab": {
          "base_uri": "https://localhost:8080/"
        },
        "id": "zDpPxzPj9Hn2",
        "outputId": "ad32ee2d-5e81-4728-89d3-d4510d327af8"
      },
      "execution_count": 16,
      "outputs": [
        {
          "output_type": "stream",
          "name": "stdout",
          "text": [
            "Enter Two numbers:4 0\n",
            "Division by zero is not allowed\n",
            "Please enter a non-zero number\n",
            "Code after the exception that will never be executed\n"
          ]
        }
      ]
    },
    {
      "cell_type": "markdown",
      "source": [
        "## 173. Using Finally\n",
        "-"
      ],
      "metadata": {
        "id": "_IMsMbj2rr0P"
      }
    },
    {
      "cell_type": "code",
      "source": [],
      "metadata": {
        "id": "S03RtlVarEyF"
      },
      "execution_count": null,
      "outputs": []
    }
  ]
}