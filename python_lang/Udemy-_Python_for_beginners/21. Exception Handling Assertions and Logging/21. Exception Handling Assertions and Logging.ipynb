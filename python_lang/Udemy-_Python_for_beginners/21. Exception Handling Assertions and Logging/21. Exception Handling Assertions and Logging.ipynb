{
  "nbformat": 4,
  "nbformat_minor": 0,
  "metadata": {
    "colab": {
      "provenance": [],
      "toc_visible": true
    },
    "kernelspec": {
      "name": "python3",
      "display_name": "Python 3"
    },
    "language_info": {
      "name": "python"
    }
  },
  "cells": [
    {
      "cell_type": "markdown",
      "source": [
        "## 170. Introduction\n",
        "- Exceptions are runtime errors\n",
        "- If something goes wrong in our python application while running it, then an exception is raised\n",
        "- If we don't handle the exception properly, then exception will cause three things\n",
        "    1. Program will terminate abruptly, and code after the line where exception is raised will not be executed\n",
        "    2. Python will display the informal/unfriendly information to the end user\n",
        "    3. Improper shutdown of resources like file stream, DB connection or network connection\n",
        "- Exceptions in python are represented by a class\n",
        "- Python also has different inbuilt exceptions, and we can also define our own exception types\n",
        "- To raise an exception, wrap the code in ```try ... except``` block\n",
        "    - the part which might raise an exception is written in ```try``` block\n",
        "    - if the exeption is raised, the code in ```except``` block is executed to display a user friendly message, and code execution continues smoothly after ```except``` block\n",
        "    - Optionally, ```try ... except``` can also have an ```else``` block, which will be executed if an exception is not raised\n",
        "    - ```finally``` block is executed irrespective of if an exception is raised or not, used to execute the cleanup code such as closing/shutting down resources like DB connection, file stream, etc.\n"
      ],
      "metadata": {
        "id": "zcRR0UeVvOVt"
      }
    },
    {
      "cell_type": "markdown",
      "source": [
        "## 171. Exception Class Hierarchy\n",
        "- Exceptions are represented by objects of a particular class, that object of exception is created when an exception is raised\n",
        "- Parent of all the exception classes is ```Baseexception```, ehich is inherited by ```Exception``` class, which is inherited by ```StandardError``` and ```Warning``` which are raised at runtime\n",
        "    - Examples of ```StandardError``` are\n",
        "        - ```EOFError``` End-Of-File Error, raised when we try to read beyond the length of file\n",
        "        - ```ZeroDivisionError``` , raised when you try to divide a number by zero\n",
        "        - ```IndentationError``` , raised when do not follow proper indentation\n",
        "    - Examples of ```Warning``` are\n",
        "        - ```DeprecatedWarning``` , raised when you try to use a Python API which was available in older versions, and instead you should use latest version\n",
        "        - ```ImportWarning``` , raised when you import certain modules, but you don't use them\n",
        "                              ExceptionBase\n",
        "                                    ^\n",
        "                                    |\n",
        "                                Exception\n",
        "                                    ^\n",
        "                                    |\n",
        "                  ----------------------------------\n",
        "                  ^                                ^\n",
        "                  |                                |\n",
        "                StandardError                   Warning\n",
        "                ^                               ^\n",
        "                |                               |\n",
        "                |-> EOFError                    |-> DeprecatedWarning\n",
        "                |-> ZeroDivisionError           |-> ImportWarning\n",
        "                |-> IndentationError     \n",
        "- ```Warning``` will not stop code execution, but it'll point to something you should not do\n",
        "- ```StandardError``` will terminate your program if you not handle them properly\n",
        "- while creating user-defined exceptions, you'll inherit the ```Exception``` class"
      ],
      "metadata": {
        "id": "tCywZ-wuD_UG"
      }
    },
    {
      "cell_type": "markdown",
      "source": [
        "## 172. Handling Exceptions\n",
        "- Throw a ZeroDivisionError and handle it, ask the user to enter two numbers\n",
        "- You need to optionally specify the name of exception after ```except``` keyword to handle that particular exception, but if you don't specify any exceptionn name after ```except``` keyword, then all the exceptions will be handled by that ```except``` block"
      ],
      "metadata": {
        "id": "jJ2z9qSRrbK5"
      }
    },
    {
      "cell_type": "code",
      "execution_count": 1,
      "metadata": {
        "colab": {
          "base_uri": "https://localhost:8080/"
        },
        "id": "6-nR-xJTvJrj",
        "outputId": "ef36f9fe-6ffd-4838-d980-94cc810b1b1f"
      },
      "outputs": [
        {
          "output_type": "stream",
          "name": "stdout",
          "text": [
            "Enter Two numbers:4 2\n",
            "2.0\n"
          ]
        }
      ],
      "source": [
        "# exceptionhandling\n",
        "# exceptiondemo.py\n",
        "a, b = [int(x) for x in input(\"Enter Two numbers:\").split()] # 4 2\n",
        "c = a/b\n",
        "print(c)"
      ]
    },
    {
      "cell_type": "code",
      "source": [
        "a, b = [int(x) for x in input(\"Enter Two numbers:\").split()] # 4 0\n",
        "c = a/b\n",
        "print(c)\n",
        "print(\"code after the exception that will never be executed\")"
      ],
      "metadata": {
        "colab": {
          "base_uri": "https://localhost:8080/",
          "height": 245
        },
        "id": "P41aoQP3o4Iz",
        "outputId": "099ea718-6aec-4775-fd55-ecf034a1b158"
      },
      "execution_count": 2,
      "outputs": [
        {
          "name": "stdout",
          "output_type": "stream",
          "text": [
            "Enter Two numbers:4 0\n"
          ]
        },
        {
          "output_type": "error",
          "ename": "ZeroDivisionError",
          "evalue": "division by zero",
          "traceback": [
            "\u001b[1;31m---------------------------------------------------------------------------\u001b[0m",
            "\u001b[1;31mZeroDivisionError\u001b[0m                         Traceback (most recent call last)",
            "Cell \u001b[1;32mIn[2], line 2\u001b[0m\n\u001b[0;32m      1\u001b[0m a, b \u001b[38;5;241m=\u001b[39m [\u001b[38;5;28mint\u001b[39m(x) \u001b[38;5;28;01mfor\u001b[39;00m x \u001b[38;5;129;01min\u001b[39;00m \u001b[38;5;28minput\u001b[39m(\u001b[38;5;124m\"\u001b[39m\u001b[38;5;124mEnter Two numbers:\u001b[39m\u001b[38;5;124m\"\u001b[39m)\u001b[38;5;241m.\u001b[39msplit()] \u001b[38;5;66;03m# 4 0\u001b[39;00m\n\u001b[1;32m----> 2\u001b[0m c \u001b[38;5;241m=\u001b[39m \u001b[43ma\u001b[49m\u001b[38;5;241;43m/\u001b[39;49m\u001b[43mb\u001b[49m\n\u001b[0;32m      3\u001b[0m \u001b[38;5;28mprint\u001b[39m(c)\n\u001b[0;32m      4\u001b[0m \u001b[38;5;28mprint\u001b[39m(\u001b[38;5;124m\"\u001b[39m\u001b[38;5;124mcode after the exception that will never be executed\u001b[39m\u001b[38;5;124m\"\u001b[39m)\n",
            "\u001b[1;31mZeroDivisionError\u001b[0m: division by zero"
          ]
        }
      ]
    },
    {
      "cell_type": "code",
      "source": [
        "try:\n",
        "    a, b = [int(x) for x in input(\"Try: Enter Two numbers:\").split()] # 4 0\n",
        "    c = a/b\n",
        "    print(c)\n",
        "except ZeroDivisionError:\n",
        "    print(\"Except: Division by zero is not allowed\")\n",
        "    print(\"Except: Please enter a non-zero number\")\n",
        "print(\"Code after the exception that will never be executed\")"
      ],
      "metadata": {
        "colab": {
          "base_uri": "https://localhost:8080/"
        },
        "id": "zDpPxzPj9Hn2",
        "outputId": "85be8bc4-83ac-44e2-dbbd-6a76b5c65db5"
      },
      "execution_count": 3,
      "outputs": [
        {
          "output_type": "stream",
          "name": "stdout",
          "text": [
            "Try: Enter Two numbers:4 0\n",
            "Except: Division by zero is not allowed\n",
            "Except: Please enter a non-zero number\n",
            "Code after the exception that will never be executed\n"
          ]
        }
      ]
    },
    {
      "cell_type": "markdown",
      "source": [
        "## 173. Using Finally\n",
        "- Implement ```finally``` block in ```try...except...finally``` syntax, using file API to open a file, pass it a file you want to open, and then close the file in finally block\n",
        "- Use ```finally``` block to put any cleanup code that should be executed, irrespective of an exception is thrown or not"
      ],
      "metadata": {
        "id": "_IMsMbj2rr0P"
      }
    },
    {
      "cell_type": "code",
      "source": [
        "import os\n",
        "os.getcwd()\n",
        "os.chdir(r'C:\\Users\\surya\\Downloads\\surya_learning_arena\\python_lang\\Udemy-_Python_for_beginners\\21. Exception Handling Assertions and Logging')\n",
        "os.getcwd()"
      ],
      "metadata": {
        "colab": {
          "base_uri": "https://localhost:8080/"
        },
        "id": "t99rpwY_zQeK",
        "outputId": "943b90c7-6a7d-460c-8e68-f6decfdf70fb"
      },
      "execution_count": 4,
      "outputs": [
        {
          "output_type": "execute_result",
          "data": {
            "text/plain": [
              "'C:\\\\Users\\\\surya\\\\Downloads\\\\surya_learning_arena\\\\python_lang\\\\Udemy-_Python_for_beginners\\\\21. Exception Handling Assertions and Logging'"
            ]
          },
          "metadata": {},
          "execution_count": 4
        }
      ]
    },
    {
      "cell_type": "code",
      "source": [
        "#finallydemo.py\n",
        "try:\n",
        "    f = open(\"myfile_finally_try.txt\", \"w\")\n",
        "    a, b = [int(x) for x in input(\"Try: Enter two numbers: \").split()] # 4 2\n",
        "    c = a/b\n",
        "    f.write(\"Try: Writing %d into file\" % c)\n",
        "except ZeroDivisionError:\n",
        "    print(\"Except: Division by zero is not allowed\")\n",
        "    print(\"Except: Please enter a non-zero number\")\n",
        "finally:\n",
        "    f.close()\n",
        "    print(\"Finally: File Closed\")\n",
        "print(\"Code after Exception\")"
      ],
      "metadata": {
        "id": "S03RtlVarEyF",
        "colab": {
          "base_uri": "https://localhost:8080/"
        },
        "outputId": "25d5ad55-2d0e-4a12-8f9e-c4395380424a"
      },
      "execution_count": 5,
      "outputs": [
        {
          "output_type": "stream",
          "name": "stdout",
          "text": [
            "Try: Enter two numbers: 4 2\n",
            "Finally: File Closed\n",
            "Code after Exception\n"
          ]
        }
      ]
    },
    {
      "cell_type": "code",
      "source": [
        "try:\n",
        "    f = open(\"myfile_finally_except.txt\", \"w\")\n",
        "    a, b = [int(x) for x in input(\"Try: Enter two numbers: \").split()] # 4 0\n",
        "    c = a/b\n",
        "    f.write(\"Try: Writing %d into file\" % c)\n",
        "except ZeroDivisionError:\n",
        "    print(\"Except: Division by zero is not allowed\")\n",
        "    print(\"Please enter a non-zero number\")\n",
        "finally:\n",
        "    f.close()\n",
        "    print(\"Finally: File Closed\")\n",
        "print(\"Code after Exception\")"
      ],
      "metadata": {
        "colab": {
          "base_uri": "https://localhost:8080/"
        },
        "id": "TAkE0wxayZ41",
        "outputId": "43422e83-fe5c-4b00-d23f-291e488aab4f"
      },
      "execution_count": 6,
      "outputs": [
        {
          "output_type": "stream",
          "name": "stdout",
          "text": [
            "Try: Enter two numbers: 4 0\n",
            "Except: Division by zero is not allowed\n",
            "Please enter a non-zero number\n",
            "Finally: File Closed\n",
            "Code after Exception\n"
          ]
        }
      ]
    },
    {
      "cell_type": "markdown",
      "source": [
        "## 174. Else\n",
        "- anyother piece in ```try..except..finally``` syntax is ```else``` block\n",
        "- ```else``` block is executed when there is no exception raised\n",
        "- If you have some logic that should be executed only when no exception is raised, that should be written in ```else``` block\n",
        "- Implement ```else``` block in ```try...except...else...finally``` syntax, using the API to open a file, pass it a file you want to open, write ```else``` block and then close the file in ```finally``` block"
      ],
      "metadata": {
        "id": "9T_LbNBH0vOy"
      }
    },
    {
      "cell_type": "code",
      "source": [
        "import os\n",
        "os.getcwd()\n",
        "os.chdir(r'C:\\Users\\surya\\Downloads\\surya_learning_arena\\python_lang\\Udemy-_Python_for_beginners\\21. Exception Handling Assertions and Logging')\n",
        "os.getcwd()"
      ],
      "metadata": {
        "colab": {
          "base_uri": "https://localhost:8080/"
        },
        "id": "PAAxcdv2WJoV",
        "outputId": "881be2c4-9f9c-4389-89d2-66ded5fc444d"
      },
      "execution_count": 7,
      "outputs": [
        {
          "output_type": "execute_result",
          "data": {
            "text/plain": [
              "'C:\\\\Users\\\\surya\\\\Downloads\\\\surya_learning_arena\\\\python_lang\\\\Udemy-_Python_for_beginners\\\\21. Exception Handling Assertions and Logging'"
            ]
          },
          "metadata": {},
          "execution_count": 7
        }
      ]
    },
    {
      "cell_type": "code",
      "source": [
        "# elsedemo.py\n",
        "try:\n",
        "    f = open(\"myfile_else_try.txt\", \"w\")\n",
        "    a, b = [int(x) for x in input(\"Try: Enter two numbers: \").split()] # 4 2\n",
        "    c = a/b\n",
        "    f.write(\"Try: writing %d into file\" % c)\n",
        "except ZeroDivisionError:\n",
        "    print(\"Except: Division by zero is not allowed\")\n",
        "    print(\"Except: Please enter a non-zero number\")\n",
        "else:\n",
        "    print(\"Else: You've entered a non-zero number\")\n",
        "finally:\n",
        "    f.close()\n",
        "    print(\"Finally: File closed\")\n",
        "print(\"Code after the Exception\")"
      ],
      "metadata": {
        "id": "QRSes70cyh1s",
        "colab": {
          "base_uri": "https://localhost:8080/"
        },
        "outputId": "04886b7e-39f0-4731-be00-f1a2f5e3159f"
      },
      "execution_count": 9,
      "outputs": [
        {
          "output_type": "stream",
          "name": "stdout",
          "text": [
            "Try: Enter two numbers: 4 2\n",
            "Else: You've entered a non-zero number\n",
            "Finally: File closed\n",
            "Code after the Exception\n"
          ]
        }
      ]
    },
    {
      "cell_type": "code",
      "source": [
        "try:\n",
        "    f = open(\"myfile_else_except.txt\", \"w\")\n",
        "    a, b = [int(x) for x in input(\"Try: Enter two numbers: \").split()] # 4 0\n",
        "    c = a/b\n",
        "    f.write(\"Try: writing %d into file\" % c)\n",
        "except ZeroDivisionError:\n",
        "    print(\"Except: Division by zero is not allowed\")\n",
        "    print(\"Except: Please enter a non-zero number\")\n",
        "else:\n",
        "    print(\"Else: You've entered a non-zero number\")\n",
        "finally:\n",
        "    f.close()\n",
        "    print(\"Finally: File closed\")\n",
        "print(\"Code after the Exception\")"
      ],
      "metadata": {
        "colab": {
          "base_uri": "https://localhost:8080/"
        },
        "id": "OV90-LXsW3CK",
        "outputId": "67e51609-b379-4bf9-c4d0-2f8499f119fd"
      },
      "execution_count": 11,
      "outputs": [
        {
          "output_type": "stream",
          "name": "stdout",
          "text": [
            "Try: Enter two numbers: 4 0\n",
            "Except: Division by zero is not allowed\n",
            "Except: Please enter a non-zero number\n",
            "Finally: File closed\n",
            "Code after the Exception\n"
          ]
        }
      ]
    },
    {
      "cell_type": "markdown",
      "source": [
        "## 175. Create and Raise Custom Exceptions\n",
        "- Every custom exception class should inherit the ```Exception``` class, which is a builtin class in python\n",
        "- to Create a custom exception class\n",
        "    - create a class for your custom exception, inheriting the inbuilt ```Exception``` class\n",
        "    - create a constructor in custom exception class, with self and message parameter to show to user\n",
        "    - Example:\n",
        "        ``` python\n",
        "        class CustomException(Exception):\n",
        "            def __init__(self, message):\n",
        "                self.message = message\n",
        "        ```\n",
        "- to Raise an exception, use ```raise``` keyword, and specify the exception message to the customException call\n",
        "    - Example:\n",
        "        ``` python\n",
        "        raise CustomException(\"exception message\")\n",
        "        ```\n"
      ],
      "metadata": {
        "id": "8bdU9BzHaPc7"
      }
    },
    {
      "cell_type": "code",
      "source": [
        "# customexception.py\n",
        "class OverTheLimitException(Exception): # custom exception class\n",
        "    def __init__(self, msg):\n",
        "        self.msg = msg\n",
        "\n",
        "def withdrawl(amount):\n",
        "    if(amount>500):\n",
        "        raise OverTheLimitException(\"You cannot withdraw more than $500 per day\") # raising call to exception\n",
        "\n",
        "withdrawl(600) # call to method containing exception"
      ],
      "metadata": {
        "colab": {
          "base_uri": "https://localhost:8080/",
          "height": 297
        },
        "id": "07vFjvsyZ7Ye",
        "outputId": "9179ad3a-369c-476b-b2f5-3be9e99f6022"
      },
      "execution_count": 12,
      "outputs": [
        {
          "output_type": "error",
          "ename": "OverTheLimitException",
          "evalue": "You cannot withdraw more than $500 per day",
          "traceback": [
            "\u001b[1;31m---------------------------------------------------------------------------\u001b[0m",
            "\u001b[1;31mOverTheLimitException\u001b[0m                     Traceback (most recent call last)",
            "Cell \u001b[1;32mIn[12], line 10\u001b[0m\n\u001b[0;32m      7\u001b[0m     \u001b[38;5;28;01mif\u001b[39;00m(amount\u001b[38;5;241m>\u001b[39m\u001b[38;5;241m500\u001b[39m):\n\u001b[0;32m      8\u001b[0m         \u001b[38;5;28;01mraise\u001b[39;00m OverTheLimitException(\u001b[38;5;124m\"\u001b[39m\u001b[38;5;124mYou cannot withdraw more than $500 per day\u001b[39m\u001b[38;5;124m\"\u001b[39m) \u001b[38;5;66;03m# raising call to exception\u001b[39;00m\n\u001b[1;32m---> 10\u001b[0m \u001b[43mwithdrawl\u001b[49m\u001b[43m(\u001b[49m\u001b[38;5;241;43m600\u001b[39;49m\u001b[43m)\u001b[49m \u001b[38;5;66;03m# call to method containing exception\u001b[39;00m\n",
            "Cell \u001b[1;32mIn[12], line 8\u001b[0m, in \u001b[0;36mwithdrawl\u001b[1;34m(amount)\u001b[0m\n\u001b[0;32m      6\u001b[0m \u001b[38;5;28;01mdef\u001b[39;00m \u001b[38;5;21mwithdrawl\u001b[39m(amount):\n\u001b[0;32m      7\u001b[0m     \u001b[38;5;28;01mif\u001b[39;00m(amount\u001b[38;5;241m>\u001b[39m\u001b[38;5;241m500\u001b[39m):\n\u001b[1;32m----> 8\u001b[0m         \u001b[38;5;28;01mraise\u001b[39;00m OverTheLimitException(\u001b[38;5;124m\"\u001b[39m\u001b[38;5;124mYou cannot withdraw more than $500 per day\u001b[39m\u001b[38;5;124m\"\u001b[39m)\n",
            "\u001b[1;31mOverTheLimitException\u001b[0m: You cannot withdraw more than $500 per day"
          ]
        }
      ]
    },
    {
      "cell_type": "markdown",
      "source": [
        "## 176. More Programs - Custom Exceptions\n",
        "- Create and raise two exceptions\n",
        "    - one to be raised if age is less\n",
        "    - one to be raised if age is more"
      ],
      "metadata": {
        "id": "sDaJxSNNcpNv"
      }
    },
    {
      "cell_type": "code",
      "source": [
        "# licenseeligibilitychecker.py\n",
        "class TooYoungException(Exception):\n",
        "    def __init__(self, msg):\n",
        "        self.msg = msg\n",
        "\n",
        "class TooOldException(Exception):\n",
        "    def __init__(self, msg):\n",
        "        self.msg = msg\n",
        "\n",
        "age = int(input('Enter the age: ')) # 25\n",
        "if age < 18:\n",
        "    raise TooYoungException('You have to  be 18 or older to apply')\n",
        "elif age > 90:\n",
        "    raise TooOldException('You have to be younger than 90')\n",
        "else:\n",
        "    print(\"You are eligible\")"
      ],
      "metadata": {
        "id": "TkFLhkh_b-Al",
        "colab": {
          "base_uri": "https://localhost:8080/"
        },
        "outputId": "1ae37b9e-136e-4d78-bc0b-2f79514db606"
      },
      "execution_count": 13,
      "outputs": [
        {
          "output_type": "stream",
          "name": "stdout",
          "text": [
            "Enter the age: 25\n",
            "You are eligible\n"
          ]
        }
      ]
    },
    {
      "cell_type": "code",
      "source": [
        "class TooYoungException(Exception):\n",
        "    def __init__(self, msg):\n",
        "        self.msg = msg\n",
        "\n",
        "class TooOldException(Exception):\n",
        "    def __init__(self, msg):\n",
        "        self.msg = msg\n",
        "\n",
        "age = int(input('Enter the age: ')) # 17\n",
        "if age < 18:\n",
        "    raise TooYoungException('You have to  be 18 or older to apply')\n",
        "elif age > 90:\n",
        "    raise TooOldException('You have to be younger than 90')\n",
        "else:\n",
        "    print(\"You are eligible\")"
      ],
      "metadata": {
        "colab": {
          "base_uri": "https://localhost:8080/",
          "height": 262
        },
        "id": "pwOYuIxY2SlE",
        "outputId": "d5e0d1d1-f9fa-489f-dcbb-f678ce366130"
      },
      "execution_count": 14,
      "outputs": [
        {
          "name": "stdout",
          "output_type": "stream",
          "text": [
            "Enter the age: 17\n"
          ]
        },
        {
          "output_type": "error",
          "ename": "TooYoungException",
          "evalue": "You have to  be 18 or older to apply",
          "traceback": [
            "\u001b[1;31m---------------------------------------------------------------------------\u001b[0m",
            "\u001b[1;31mTooYoungException\u001b[0m                         Traceback (most recent call last)",
            "Cell \u001b[1;32mIn[14], line 11\u001b[0m\n\u001b[0;32m      9\u001b[0m age \u001b[38;5;241m=\u001b[39m \u001b[38;5;28mint\u001b[39m(\u001b[38;5;28minput\u001b[39m(\u001b[38;5;124m'\u001b[39m\u001b[38;5;124mEnter the age: \u001b[39m\u001b[38;5;124m'\u001b[39m)) \u001b[38;5;66;03m# 17\u001b[39;00m\n\u001b[0;32m     10\u001b[0m \u001b[38;5;28;01mif\u001b[39;00m age \u001b[38;5;241m<\u001b[39m \u001b[38;5;241m18\u001b[39m:\n\u001b[1;32m---> 11\u001b[0m     \u001b[38;5;28;01mraise\u001b[39;00m TooYoungException(\u001b[38;5;124m'\u001b[39m\u001b[38;5;124mYou have to  be 18 or older to apply\u001b[39m\u001b[38;5;124m'\u001b[39m)\n\u001b[0;32m     12\u001b[0m \u001b[38;5;28;01melif\u001b[39;00m age \u001b[38;5;241m>\u001b[39m \u001b[38;5;241m90\u001b[39m:\n\u001b[0;32m     13\u001b[0m     \u001b[38;5;28;01mraise\u001b[39;00m TooOldException(\u001b[38;5;124m'\u001b[39m\u001b[38;5;124mYou have to be younger than 90\u001b[39m\u001b[38;5;124m'\u001b[39m)\n",
            "\u001b[1;31mTooYoungException\u001b[0m: You have to  be 18 or older to apply"
          ]
        }
      ]
    },
    {
      "cell_type": "code",
      "source": [
        "class TooYoungException(Exception):\n",
        "    def __init__(self, msg):\n",
        "        self.msg = msg\n",
        "\n",
        "class TooOldException(Exception):\n",
        "    def __init__(self, msg):\n",
        "        self.msg = msg\n",
        "\n",
        "age = int(input('Enter the age: ')) # 110\n",
        "if age < 18:\n",
        "    raise TooYoungException('You have to  be 18 or older to apply')\n",
        "elif age > 90:\n",
        "    raise TooOldException('You have to be younger than 90')\n",
        "else:\n",
        "    print(\"You are eligible\")"
      ],
      "metadata": {
        "colab": {
          "base_uri": "https://localhost:8080/",
          "height": 262
        },
        "id": "cbNLmHv_2co1",
        "outputId": "42c53853-b9ab-4ae6-8c61-9f771b532be8"
      },
      "execution_count": 15,
      "outputs": [
        {
          "name": "stdout",
          "output_type": "stream",
          "text": [
            "Enter the age: 110\n"
          ]
        },
        {
          "output_type": "error",
          "ename": "TooOldException",
          "evalue": "You have to be younger than 90",
          "traceback": [
            "\u001b[1;31m---------------------------------------------------------------------------\u001b[0m",
            "\u001b[1;31mTooOldException\u001b[0m                           Traceback (most recent call last)",
            "Cell \u001b[1;32mIn[15], line 13\u001b[0m\n\u001b[0;32m     11\u001b[0m     \u001b[38;5;28;01mraise\u001b[39;00m TooYoungException(\u001b[38;5;124m'\u001b[39m\u001b[38;5;124mYou have to  be 18 or older to apply\u001b[39m\u001b[38;5;124m'\u001b[39m)\n\u001b[0;32m     12\u001b[0m \u001b[38;5;28;01melif\u001b[39;00m age \u001b[38;5;241m>\u001b[39m \u001b[38;5;241m90\u001b[39m:\n\u001b[1;32m---> 13\u001b[0m     \u001b[38;5;28;01mraise\u001b[39;00m TooOldException(\u001b[38;5;124m'\u001b[39m\u001b[38;5;124mYou have to be younger than 90\u001b[39m\u001b[38;5;124m'\u001b[39m)\n\u001b[0;32m     14\u001b[0m \u001b[38;5;28;01melse\u001b[39;00m:\n\u001b[0;32m     15\u001b[0m     \u001b[38;5;28mprint\u001b[39m(\u001b[38;5;124m\"\u001b[39m\u001b[38;5;124mYou are eligible\u001b[39m\u001b[38;5;124m\"\u001b[39m)\n",
            "\u001b[1;31mTooOldException\u001b[0m: You have to be younger than 90"
          ]
        }
      ]
    },
    {
      "cell_type": "markdown",
      "source": [
        "## 177. Logging in action\n",
        "- By default, logging happens to console, not a file\n",
        "- logging takes place in format\n",
        "        LogLevel:LoggerUser:LogMessage\n",
        "- default log level is ```WARNING```, and logger logs the messages which are of severity warning and above\n",
        "- Level of severity of logs are\n",
        "        Level       Numeric Value\n",
        "        NOTSET      0\n",
        "        DEBUG       10\n",
        "        INFO        20\n",
        "        WARNING     30\n",
        "        ERROR       40\n",
        "        CRITICAL    50\n",
        "- use ```logging``` module to log\n",
        "\n"
      ],
      "metadata": {
        "id": "yzqHaE112ovi"
      }
    },
    {
      "cell_type": "code",
      "source": [
        "# loggingdemo.py\n",
        "import logging\n",
        "\n",
        "logging.critical(\"Critical\")\n",
        "logging.error(\"Error\")\n",
        "# logging.warn(\"Warning\") # deprecated, use `warning`\n",
        "logging.warning(\"Warning\")\n",
        "logging.info(\"Info\") # not logged as it is below Warning log level\n",
        "logging.debug(\"Debug\") # not logged as it is below Warning log level"
      ],
      "metadata": {
        "colab": {
          "base_uri": "https://localhost:8080/"
        },
        "id": "y2UblIla2lfV",
        "outputId": "61940f9a-ab7d-419e-942b-e4844d198493"
      },
      "execution_count": 16,
      "outputs": [
        {
          "output_type": "stream",
          "name": "stderr",
          "text": [
            "CRITICAL:root:Critical\n",
            "ERROR:root:Error\n",
            "WARNING:root:Warning\n"
          ]
        }
      ]
    },
    {
      "cell_type": "markdown",
      "source": [
        "## 178. Logging Configuration\n",
        "- Configure the default log level for your application, and log to a file instead of console\n",
        "- to log to a file use ```basicConfig(filename, level)```, and then logs will be created in the specified filename, with specified log level and above.\n",
        "    - the logs below the specified log levels are not logged even though you log them\n",
        "    - default ```filemode``` or writing mode is ```'a'```"
      ],
      "metadata": {
        "id": "l_IvUH0lCfwx"
      }
    },
    {
      "cell_type": "code",
      "source": [
        "import os\n",
        "os.getcwd()\n",
        "os.chdir(r'C:\\Users\\surya\\Downloads\\surya_learning_arena\\python_lang\\Udemy-_Python_for_beginners\\21. Exception Handling Assertions and Logging')\n",
        "os.getcwd()"
      ],
      "metadata": {
        "colab": {
          "base_uri": "https://localhost:8080/"
        },
        "id": "OOykE_bzEqd5",
        "outputId": "db7810d1-94ff-4145-c839-59c0e2e2eb1a"
      },
      "execution_count": 6,
      "outputs": [
        {
          "output_type": "execute_result",
          "data": {
            "text/plain": [
              "'C:\\\\Users\\\\surya\\\\Downloads\\\\surya_learning_arena\\\\python_lang\\\\Udemy-_Python_for_beginners\\\\21. Exception Handling Assertions and Logging'"
            ]
          },
          "metadata": {},
          "execution_count": 6
        }
      ]
    },
    {
      "cell_type": "code",
      "source": [
        "import logging\n",
        "\n",
        "logging.basicConfig(filename=\"mylog_ERROR.log\", level=logging.ERROR, force=True)\n",
        "logging.critical(\"Critical\")\n",
        "logging.error(\"Error\")\n",
        "logging.warning(\"Warning\") # not logged in file as it is below Error log level\n",
        "logging.info(\"Info\") # not logged in file as it is below Error log level\n",
        "logging.debug(\"Debug\") # not logged in file as it is below Error log level"
      ],
      "metadata": {
        "id": "AxESM5kK3DSX"
      },
      "execution_count": 18,
      "outputs": []
    },
    {
      "cell_type": "code",
      "source": [
        "import logging\n",
        "\n",
        "logging.basicConfig(filename=\"mylog_DEBUG.log\", level=logging.DEBUG, force=True)\n",
        "logging.critical(\"Critical\")\n",
        "logging.error(\"Error\")\n",
        "logging.warning(\"Warning\") # not logged in file as it is below Error log level\n",
        "logging.info(\"Info\") # not logged in file as it is below Error log level\n",
        "logging.debug(\"Debug\") # not logged in file as it is below Error log level"
      ],
      "metadata": {
        "id": "fDcTPvpDIDWc"
      },
      "execution_count": 19,
      "outputs": []
    },
    {
      "cell_type": "code",
      "source": [
        "import logging\n",
        "\n",
        "logging.basicConfig(filename=\"mylog_CRITICAL.log\", level=logging.CRITICAL, force=True)\n",
        "logging.critical(\"Critical\")\n",
        "logging.error(\"Error\")\n",
        "logging.warning(\"Warning\") # not logged in file as it is below Error log level\n",
        "logging.info(\"Info\") # not logged in file as it is below Error log level\n",
        "logging.debug(\"Debug\") # not logged in file as it is below Error log level"
      ],
      "metadata": {
        "id": "lLWj5oRqwUox"
      },
      "execution_count": 20,
      "outputs": []
    },
    {
      "cell_type": "markdown",
      "source": [
        "## 179. Log Exceptions\n",
        "- Implement logging for exception handling"
      ],
      "metadata": {
        "id": "g4XnedrQH8hy"
      }
    },
    {
      "cell_type": "code",
      "source": [
        "import os\n",
        "os.getcwd()\n",
        "os.chdir(r'C:\\Users\\surya\\Downloads\\surya_learning_arena\\python_lang\\Udemy-_Python_for_beginners\\21. Exception Handling Assertions and Logging')\n",
        "os.getcwd()"
      ],
      "metadata": {
        "colab": {
          "base_uri": "https://localhost:8080/"
        },
        "id": "H4yIKU-vjH2b",
        "outputId": "de29d6da-9973-431d-b4e4-baa893e7baf1"
      },
      "execution_count": 3,
      "outputs": [
        {
          "output_type": "execute_result",
          "data": {
            "text/plain": [
              "'C:\\\\Users\\\\surya\\\\Downloads\\\\surya_learning_arena\\\\python_lang\\\\Udemy-_Python_for_beginners\\\\21. Exception Handling Assertions and Logging'"
            ]
          },
          "metadata": {},
          "execution_count": 3
        }
      ]
    },
    {
      "cell_type": "code",
      "source": [
        "# logexceptiondemo.py\n",
        "\n",
        "import logging\n",
        "logging.basicConfig(filename=\"mylog_logexception_try.log\", level=logging.DEBUG, force=True)\n",
        "\n",
        "try:\n",
        "    f = open(\"myfile_logexception_try.txt\", \"w\")\n",
        "    a, b = [int(x) for x in input(\"Try: Enter two numbers: \").split()] # 4 2\n",
        "    logging.info(\"Divion in progress\")\n",
        "    c = a/b\n",
        "    f.write(\"Try: writing %d into file\" % c)\n",
        "except ZeroDivisionError:\n",
        "    print(\"Except: Division by zero is not allowed\")\n",
        "    print(\"Except: Please enter a non-zero number\")\n",
        "    logging.error(\"Division by Zero\")\n",
        "else:\n",
        "    print(\"Else: You have entered a non-zero number\")\n",
        "finally:\n",
        "    f.close()\n",
        "    print(\"Finally: File closed\")\n",
        "print(\"Code after exception\")"
      ],
      "metadata": {
        "colab": {
          "base_uri": "https://localhost:8080/"
        },
        "id": "4xBVm5q83m4I",
        "outputId": "80f9d3ab-7c12-4c4e-a62e-fd0f9f99483c"
      },
      "execution_count": 4,
      "outputs": [
        {
          "output_type": "stream",
          "name": "stdout",
          "text": [
            "Try: Enter two numbers: 4 2\n",
            "Else: You have entered a non-zero number\n",
            "Finally: File closed\n",
            "Code after exception\n"
          ]
        }
      ]
    },
    {
      "cell_type": "code",
      "source": [
        "import logging\n",
        "logging.basicConfig(filename=\"mylog_logexception_except.log\", level=logging.DEBUG, force=True)\n",
        "\n",
        "try:\n",
        "    f = open(\"myfile_logexception_except.txt\", \"w\")\n",
        "    a, b = [int(x) for x in input(\"Try: Enter two numbers: \").split()] # 5 0\n",
        "    logging.info(\"Divion in progress\")\n",
        "    c = a/b\n",
        "    f.write(\"Try: writing %d into file\" % c)\n",
        "except ZeroDivisionError:\n",
        "    print(\"Except: Division by zero is not allowed\")\n",
        "    print(\"Except: Please enter a non-zero number\")\n",
        "    logging.error(\"Division by Zero\")\n",
        "else:\n",
        "    print(\"Else: You have entered a non-zero number\")\n",
        "finally:\n",
        "    f.close()\n",
        "    print(\"Finally: File closed\")\n",
        "print(\"Code after exception\")"
      ],
      "metadata": {
        "colab": {
          "base_uri": "https://localhost:8080/"
        },
        "id": "5x_ojzN_GJs_",
        "outputId": "71da9e87-e3c0-4c5b-d764-44ac0ca420db"
      },
      "execution_count": 5,
      "outputs": [
        {
          "output_type": "stream",
          "name": "stdout",
          "text": [
            "Try: Enter two numbers: 5 0\n",
            "Except: Division by zero is not allowed\n",
            "Except: Please enter a non-zero number\n",
            "Finally: File closed\n",
            "Code after exception\n"
          ]
        }
      ]
    },
    {
      "cell_type": "markdown",
      "source": [
        "- implement the logging for the custom exception, import the logging module & use it before you're raising the exception, and log it to a file"
      ],
      "metadata": {
        "id": "rICfSOh_kC1q"
      }
    },
    {
      "cell_type": "code",
      "source": [
        "import os\n",
        "os.getcwd()\n",
        "os.chdir(r'C:\\Users\\surya\\Downloads\\surya_learning_arena\\python_lang\\Udemy-_Python_for_beginners\\21. Exception Handling Assertions and Logging')\n",
        "os.getcwd()"
      ],
      "metadata": {
        "colab": {
          "base_uri": "https://localhost:8080/"
        },
        "id": "4UfFXSgVkXnC",
        "outputId": "8f9fc6e9-49fe-4d26-9941-00e518a27741"
      },
      "execution_count": 8,
      "outputs": [
        {
          "output_type": "execute_result",
          "data": {
            "text/plain": [
              "'C:\\\\Users\\\\surya\\\\Downloads\\\\surya_learning_arena\\\\python_lang\\\\Udemy-_Python_for_beginners\\\\21. Exception Handling Assertions and Logging'"
            ]
          },
          "metadata": {},
          "execution_count": 8
        }
      ]
    },
    {
      "cell_type": "code",
      "source": [
        "import logging\n",
        "logging.basicConfig(filename=\"mylog_customexception.log\", level=logging.DEBUG, force=True)\n",
        "\n",
        "class OverTheLimitException(Exception): # custom exception class\n",
        "    def __init__(self, msg):\n",
        "        self.msg = msg\n",
        "\n",
        "def withdrawl(amount):\n",
        "    if amount > 500 :\n",
        "        logging.debug(\"OverTheLimitException raised\")\n",
        "        raise OverTheLimitException(\"You cannot withdraw more than $500 per day\") # raising call to exception\n",
        "\n",
        "withdrawl(600)"
      ],
      "metadata": {
        "colab": {
          "base_uri": "https://localhost:8080/",
          "height": 297
        },
        "id": "1V10hquDkwFC",
        "outputId": "09400dea-64f6-4370-b7e5-bcdebea647f9"
      },
      "execution_count": 15,
      "outputs": [
        {
          "output_type": "error",
          "ename": "OverTheLimitException",
          "evalue": "You cannot withdraw more than $500 per day",
          "traceback": [
            "\u001b[1;31m---------------------------------------------------------------------------\u001b[0m",
            "\u001b[1;31mOverTheLimitException\u001b[0m                     Traceback (most recent call last)",
            "Cell \u001b[1;32mIn[15], line 13\u001b[0m\n\u001b[0;32m     10\u001b[0m         logging\u001b[38;5;241m.\u001b[39mdebug(\u001b[38;5;124m\"\u001b[39m\u001b[38;5;124mOverTheLimitException raised\u001b[39m\u001b[38;5;124m\"\u001b[39m)\n\u001b[0;32m     11\u001b[0m         \u001b[38;5;28;01mraise\u001b[39;00m OverTheLimitException(\u001b[38;5;124m\"\u001b[39m\u001b[38;5;124mYou cannot withdraw more than $500 per day\u001b[39m\u001b[38;5;124m\"\u001b[39m) \u001b[38;5;66;03m# raising call to exception\u001b[39;00m\n\u001b[1;32m---> 13\u001b[0m \u001b[43mwithdrawl\u001b[49m\u001b[43m(\u001b[49m\u001b[38;5;241;43m600\u001b[39;49m\u001b[43m)\u001b[49m\n",
            "Cell \u001b[1;32mIn[15], line 11\u001b[0m, in \u001b[0;36mwithdrawl\u001b[1;34m(amount)\u001b[0m\n\u001b[0;32m      9\u001b[0m \u001b[38;5;28;01mif\u001b[39;00m amount \u001b[38;5;241m>\u001b[39m \u001b[38;5;241m500\u001b[39m :\n\u001b[0;32m     10\u001b[0m     logging\u001b[38;5;241m.\u001b[39mdebug(\u001b[38;5;124m\"\u001b[39m\u001b[38;5;124mOverTheLimitException raised\u001b[39m\u001b[38;5;124m\"\u001b[39m)\n\u001b[1;32m---> 11\u001b[0m     \u001b[38;5;28;01mraise\u001b[39;00m OverTheLimitException(\u001b[38;5;124m\"\u001b[39m\u001b[38;5;124mYou cannot withdraw more than $500 per day\u001b[39m\u001b[38;5;124m\"\u001b[39m)\n",
            "\u001b[1;31mOverTheLimitException\u001b[0m: You cannot withdraw more than $500 per day"
          ]
        }
      ]
    },
    {
      "cell_type": "markdown",
      "source": [
        "## 180. Using Assertions\n",
        "- Use ```assert``` statement, to check if the boolean expression / condition is true, if not then code execution stops to raise ```AssertionError```, otherwise it continues to execute smoothly\n",
        "- Syntax\n",
        "    ``` python\n",
        "    assert ExpressionEvaluatedToBoolean, \"Assertion Message upon failure\"\n",
        "    ```\n",
        "- Put asssertion in ```try...catch``` to handle the ```AssertionError``` gracefully\n",
        "- Prompt the end user to enter an even number, then assert for it in the code to raise an ```AssertionError```"
      ],
      "metadata": {
        "id": "cKJqzdUBj-_W"
      }
    },
    {
      "cell_type": "code",
      "source": [
        "# assertdemo.py\n",
        "num = int(input(\"Enter an Even number: \")) # 4\n",
        "assert num%2==0, \"you have entered an invalid input or odd number\"\n",
        "print(\"After the assertion\")"
      ],
      "metadata": {
        "colab": {
          "base_uri": "https://localhost:8080/"
        },
        "id": "VHk6xr8zjNbJ",
        "outputId": "95937d15-7af4-415d-8136-7c9b0c87325c"
      },
      "execution_count": 17,
      "outputs": [
        {
          "output_type": "stream",
          "name": "stdout",
          "text": [
            "Enter an Even number: 4\n",
            "After the assertion\n"
          ]
        }
      ]
    },
    {
      "cell_type": "code",
      "source": [
        "num = int(input(\"Enter an Even number: \")) # 7\n",
        "assert num%2==0, \"you have entered an invalid input or odd number\"\n",
        "print(\"After the assertion\") # not executed incase asstertion fails"
      ],
      "metadata": {
        "colab": {
          "base_uri": "https://localhost:8080/",
          "height": 227
        },
        "id": "U7cB1F6_mnbK",
        "outputId": "e24d553f-a4c4-4ce7-848e-ce1aa703b98f"
      },
      "execution_count": 19,
      "outputs": [
        {
          "name": "stdout",
          "output_type": "stream",
          "text": [
            "Enter an Even number: 7\n"
          ]
        },
        {
          "output_type": "error",
          "ename": "AssertionError",
          "evalue": "you have entered an invalid input or odd number",
          "traceback": [
            "\u001b[1;31m---------------------------------------------------------------------------\u001b[0m",
            "\u001b[1;31mAssertionError\u001b[0m                            Traceback (most recent call last)",
            "Cell \u001b[1;32mIn[19], line 2\u001b[0m\n\u001b[0;32m      1\u001b[0m num \u001b[38;5;241m=\u001b[39m \u001b[38;5;28mint\u001b[39m(\u001b[38;5;28minput\u001b[39m(\u001b[38;5;124m\"\u001b[39m\u001b[38;5;124mEnter an Even number: \u001b[39m\u001b[38;5;124m\"\u001b[39m)) \u001b[38;5;66;03m# 7\u001b[39;00m\n\u001b[1;32m----> 2\u001b[0m \u001b[38;5;28;01massert\u001b[39;00m num\u001b[38;5;241m%\u001b[39m\u001b[38;5;241m2\u001b[39m\u001b[38;5;241m==\u001b[39m\u001b[38;5;241m0\u001b[39m, \u001b[38;5;124m\"\u001b[39m\u001b[38;5;124myou have entered an invalid input or odd number\u001b[39m\u001b[38;5;124m\"\u001b[39m\n\u001b[0;32m      3\u001b[0m \u001b[38;5;28mprint\u001b[39m(\u001b[38;5;124m\"\u001b[39m\u001b[38;5;124mAfter the assertion\u001b[39m\u001b[38;5;124m\"\u001b[39m) \u001b[38;5;66;03m# not executed incase asstertion fails\u001b[39;00m\n",
            "\u001b[1;31mAssertionError\u001b[0m: you have entered an invalid input or odd number"
          ]
        }
      ]
    },
    {
      "cell_type": "code",
      "source": [
        "try:\n",
        "    num = int(input(\"Enter an Even number: \")) # 9\n",
        "    assert num%2==0, \"you have entered an invalid input or odd number\"\n",
        "except AssertionError as obj: # obj will hold the message\n",
        "    print(obj)\n",
        "\n",
        "print(\"After the assertion\")"
      ],
      "metadata": {
        "colab": {
          "base_uri": "https://localhost:8080/"
        },
        "id": "BDUdhuLwoTB7",
        "outputId": "bd084239-e26d-4fc9-9730-240a1bb242ed"
      },
      "execution_count": 20,
      "outputs": [
        {
          "output_type": "stream",
          "name": "stdout",
          "text": [
            "Enter an Even number: 9\n",
            "you have entered an invalid input or odd number\n",
            "After the assertion\n"
          ]
        }
      ]
    },
    {
      "cell_type": "markdown",
      "source": [
        "## Assignment 11: Exception Handling\n",
        "- Create and raise a custom exception and then handle it.\n",
        "- This custom exception is for password validation, to check the minimum password length.\n",
        "- Prompt the end user to enter a password which is a string, check the length of string and make sure it is atleast 8 characters.\n",
        "- If the length is less than 8 characters, create your own exception called ```InvalidPasswordException```, and then raise it, handle it, and display a user-friendly message"
      ],
      "metadata": {
        "id": "OipIM3RspbCz"
      }
    },
    {
      "cell_type": "code",
      "source": [
        "# InvalidPasswordException.py\n",
        "class InvalidPasswordException(Exception): # creating custom exception\n",
        "    def __init__(self, msg):\n",
        "        self.msg = msg\n",
        "\n",
        "try:\n",
        "    passwod = input(\"Enter Password to validate it: \") # Pass\n",
        "    if len(passwod) < 8:\n",
        "        raise InvalidPasswordException(\"Try: Password length is less than 8 characters\") # raising exception\n",
        "except InvalidPasswordException as ipe:\n",
        "    print(ipe) # handling exception\n",
        "else:\n",
        "    print(\"Else: Password length is valid\")\n",
        "finally:\n",
        "    print(\"Finally: Password length validation complete\")"
      ],
      "metadata": {
        "colab": {
          "base_uri": "https://localhost:8080/"
        },
        "id": "oIer6huuorX7",
        "outputId": "f46fa6ab-e69b-4275-82b3-2461a606d5fc"
      },
      "execution_count": 32,
      "outputs": [
        {
          "output_type": "stream",
          "name": "stdout",
          "text": [
            "Enter Password to validate it: Pass\n",
            "Try: Password length is less than 8 characters\n",
            "Finally: Password length validation complete\n"
          ]
        }
      ]
    },
    {
      "cell_type": "code",
      "source": [
        "class InvalidPasswordException(Exception): # creating custom exception\n",
        "    def __init__(self, msg):\n",
        "        self.msg = msg\n",
        "\n",
        "try:\n",
        "    passwod = input(\"Enter Password to validate it: \") # password\n",
        "    if len(passwod) < 8:\n",
        "        raise InvalidPasswordException(\"Try: Password length is less than 8 characters\") # raising exception\n",
        "except InvalidPasswordException as ipe:\n",
        "    print(ipe) # handling exception\n",
        "else:\n",
        "    print(\"Else: Password length is valid\")\n",
        "finally:\n",
        "    print(\"Finally: Password length validation complete\")"
      ],
      "metadata": {
        "colab": {
          "base_uri": "https://localhost:8080/"
        },
        "id": "R_puSeVFK9gx",
        "outputId": "1ac9d646-1bbc-4cc9-a699-7f3d6e47379b"
      },
      "execution_count": 33,
      "outputs": [
        {
          "output_type": "stream",
          "name": "stdout",
          "text": [
            "Enter Password to validate it: password\n",
            "Else: Password length is valid\n",
            "Finally: Password length validation complete\n"
          ]
        }
      ]
    },
    {
      "cell_type": "code",
      "source": [],
      "metadata": {
        "id": "eNWcO-qVL7Ub"
      },
      "execution_count": 33,
      "outputs": []
    }
  ]
}