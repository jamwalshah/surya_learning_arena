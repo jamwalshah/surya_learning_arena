{
  "nbformat": 4,
  "nbformat_minor": 0,
  "metadata": {
    "colab": {
      "provenance": [],
      "toc_visible": true
    },
    "kernelspec": {
      "name": "python3",
      "display_name": "Python 3"
    },
    "language_info": {
      "name": "python"
    }
  },
  "cells": [
    {
      "cell_type": "markdown",
      "source": [
        "## 170. Introduction\n",
        "- Exceptions are runtime errors\n",
        "- If something goes wrong in our python application while running it, then an exception is raised\n",
        "- If we don't handle the exception properly, then exception will cause three things\n",
        "    1. Program will terminate abruptly, and code after the line where exception is raised will not be executed\n",
        "    2. Python will display the informal/unfriendly information to the end user\n",
        "    3. Improper shutdown of resources\n",
        "-"
      ],
      "metadata": {
        "id": "zcRR0UeVvOVt"
      }
    },
    {
      "cell_type": "code",
      "execution_count": null,
      "metadata": {
        "id": "6-nR-xJTvJrj"
      },
      "outputs": [],
      "source": []
    }
  ]
}