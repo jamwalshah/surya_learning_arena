{
  "nbformat": 4,
  "nbformat_minor": 0,
  "metadata": {
    "colab": {
      "provenance": [],
      "toc_visible": true
    },
    "kernelspec": {
      "name": "python3",
      "display_name": "Python 3"
    },
    "language_info": {
      "name": "python"
    }
  },
  "cells": [
    {
      "cell_type": "markdown",
      "source": [
        "## 181. Introduction\n",
        "- Files are where we organise or store our data, this data can be text data or binary data like images, video files, audio files.\n",
        "- To read/write a file in python, use ```open()``` method which will return a file object\n",
        "- ```open()``` method takes 3 arguments\n",
        "    - ```filename``` : the name of file which you want to open\n",
        "    - ```mode``` : can be read, write, append and more\n",
        "    - ```buffer``` : optional, is a number used to do buffering whicle reading or writing a file, by default 4096 or 8092 will be used by PVM\n",
        "- invoke ```fileObject.close()``` method to close the file\n",
        "- mode in python could be\n",
        "    - ```w``` : write only mode, to write to a file, previous contents will be deleted, and new contents will be written from the beginning of file\n",
        "    - ```r``` : read only mode, to read from a file, stream is positioned at start of file\n",
        "    - ```a``` : append only mode, to append at the end of file, current contents will not be deleted, but adds new contents to the end of current contents, stream is positined at current end of file (EoF)\n",
        "    - ```w+``` : write & read, to write & read simultaneously, file is created if it does not exist, otherwise overwritten , stream is positioned at start of file\n",
        "    - ```r+``` : read & write, to read & write simultaneously, stream positioned at start of file\n",
        "    - ```a+``` : append & read, to append & read simultaneously, file is created if it does not exist, otherwise appended at the current end of file (EoF), stream is positioned at current end of file (EOF)\n",
        "    - ```x``` : exclusive mode, new file created if file does not exist, otherwise error is thrown\n",
        "    - use ```wb```, ```rb```, ```ab```, ```w+b```, ```r+b```, ```a+b```, ```xb``` modes for binary files"
      ],
      "metadata": {
        "id": "re3N-ZawXjOT"
      }
    },
    {
      "cell_type": "markdown",
      "source": [
        "## 182. Write string to a file\n",
        "- Write a bunch of characters entered by the end user to a file"
      ],
      "metadata": {
        "id": "orACXloF0yJN"
      }
    },
    {
      "cell_type": "code",
      "source": [
        "import os\n",
        "os.getcwd()\n",
        "os.chdir(r'C:\\Users\\surya\\Downloads\\surya_learning_arena\\python_lang\\Udemy-_Python_for_beginners\\22. Files')\n",
        "os.getcwd()"
      ],
      "metadata": {
        "colab": {
          "base_uri": "https://localhost:8080/"
        },
        "id": "Y4J-ifny1f9p",
        "outputId": "7bbbae36-594b-4853-b29f-1293af64d8ed"
      },
      "execution_count": 2,
      "outputs": [
        {
          "output_type": "execute_result",
          "data": {
            "text/plain": [
              "'C:\\\\Users\\\\surya\\\\Downloads\\\\surya_learning_arena\\\\python_lang\\\\Udemy-_Python_for_beginners\\\\22. Files'"
            ]
          },
          "metadata": {},
          "execution_count": 2
        }
      ]
    },
    {
      "cell_type": "code",
      "execution_count": 5,
      "metadata": {
        "colab": {
          "base_uri": "https://localhost:8080/"
        },
        "id": "zSGyki86Xgwb",
        "outputId": "a8a060f3-b1f8-4664-864c-8a2f62cfeff8"
      },
      "outputs": [
        {
          "name": "stdout",
          "output_type": "stream",
          "text": [
            "Enter text: hello\n"
          ]
        }
      ],
      "source": [
        "# files\n",
        "# write.py\n",
        "f = open(\"myfile_write.txt\", \"w\") # opens the file for writing\n",
        "s = input(\"Enter text: \")\n",
        "f.write(s) # writing string to file\n",
        "f.close()"
      ]
    },
    {
      "cell_type": "markdown",
      "source": [
        "## 183. Read from a file\n",
        "- Read from a file"
      ],
      "metadata": {
        "id": "swtLCQCF2nUW"
      }
    },
    {
      "cell_type": "code",
      "source": [
        "import os\n",
        "os.getcwd()\n",
        "os.chdir(r'C:\\Users\\surya\\Downloads\\surya_learning_arena\\python_lang\\Udemy-_Python_for_beginners\\22. Files')\n",
        "os.getcwd()"
      ],
      "metadata": {
        "colab": {
          "base_uri": "https://localhost:8080/"
        },
        "id": "NVyXHEUM3MbW",
        "outputId": "2069ce86-ff57-406a-8a9b-6e3e8abfc4d7"
      },
      "execution_count": 8,
      "outputs": [
        {
          "output_type": "execute_result",
          "data": {
            "text/plain": [
              "'C:\\\\Users\\\\surya\\\\Downloads\\\\surya_learning_arena\\\\python_lang\\\\Udemy-_Python_for_beginners\\\\22. Files'"
            ]
          },
          "metadata": {},
          "execution_count": 8
        }
      ]
    },
    {
      "cell_type": "code",
      "source": [
        "# read.py\n",
        "f = open(\"myfile_write.txt\", \"r\") # opens a file for reading\n",
        "s = f.read() # reads the contents of file to string\n",
        "print(s)\n",
        "f.close()"
      ],
      "metadata": {
        "colab": {
          "base_uri": "https://localhost:8080/"
        },
        "id": "Q5aIgqSY1plT",
        "outputId": "e64930a5-2845-43ee-eee1-7763962be019"
      },
      "execution_count": 9,
      "outputs": [
        {
          "output_type": "stream",
          "name": "stdout",
          "text": [
            "hello\n"
          ]
        }
      ]
    },
    {
      "cell_type": "markdown",
      "source": [
        "## 184. Write multiple strings\n",
        "- Allow the end user to enter any amount of text\n",
        "- stop writing to file when user enters ```#``` character"
      ],
      "metadata": {
        "id": "1vEhNDIH3GpZ"
      }
    },
    {
      "cell_type": "code",
      "source": [
        "import os\n",
        "os.getcwd()\n",
        "os.chdir(r'C:\\Users\\surya\\Downloads\\surya_learning_arena\\python_lang\\Udemy-_Python_for_beginners\\22. Files')\n",
        "os.getcwd()"
      ],
      "metadata": {
        "colab": {
          "base_uri": "https://localhost:8080/"
        },
        "id": "PXYL9H4rJYkb",
        "outputId": "0b4e4224-19cf-436f-fd18-9401f26c72e7"
      },
      "execution_count": 16,
      "outputs": [
        {
          "output_type": "execute_result",
          "data": {
            "text/plain": [
              "'C:\\\\Users\\\\surya\\\\Downloads\\\\surya_learning_arena\\\\python_lang\\\\Udemy-_Python_for_beginners\\\\22. Files'"
            ]
          },
          "metadata": {},
          "execution_count": 16
        }
      ]
    },
    {
      "cell_type": "code",
      "source": [
        "# write_multiple.py\n",
        "f = open(\"myfile_write_multiple.txt\", \"w\")\n",
        "print(\"Enter Text (Type # when you are done)\")\n",
        "s = ''\n",
        "while s!='#':\n",
        "    s = input()\n",
        "    # You are the creator of your destiny\n",
        "    # All the power is within you\n",
        "    # You can do anything and everything\n",
        "    f.write(s+'\\n')\n",
        "f.close()"
      ],
      "metadata": {
        "colab": {
          "base_uri": "https://localhost:8080/"
        },
        "id": "9eL6DBWo26nB",
        "outputId": "25ec4e74-dd16-4b5f-d4c0-e94c49ffd15f"
      },
      "execution_count": 12,
      "outputs": [
        {
          "name": "stdout",
          "output_type": "stream",
          "text": [
            "Enter Text (Type # when you are done)\n",
            "You are the creator of your destiny\n",
            "All the power is within you\n",
            "You can do anything and everything\n",
            "#\n"
          ]
        }
      ]
    },
    {
      "cell_type": "markdown",
      "source": [
        "## 185. Check if the file exists\n",
        "- before opening a file for reading, it is a good practice to check a file already exists, otherwise program will run into error\n",
        "- Use ```isfile()``` method from ```os.path``` module to check if a file does not exist, and use ```exit``` method from ```sys``` module to end the program, if that file does not exist"
      ],
      "metadata": {
        "id": "TYinLTkhEwxp"
      }
    },
    {
      "cell_type": "code",
      "source": [
        "import os\n",
        "os.getcwd()\n",
        "os.chdir(r'C:\\Users\\surya\\Downloads\\surya_learning_arena\\python_lang\\Udemy-_Python_for_beginners\\22. Files')\n",
        "os.getcwd()"
      ],
      "metadata": {
        "colab": {
          "base_uri": "https://localhost:8080/"
        },
        "id": "ocTflRbbJbZO",
        "outputId": "550f9ad5-8beb-435d-9184-1b7388c5c856"
      },
      "execution_count": 17,
      "outputs": [
        {
          "output_type": "execute_result",
          "data": {
            "text/plain": [
              "'C:\\\\Users\\\\surya\\\\Downloads\\\\surya_learning_arena\\\\python_lang\\\\Udemy-_Python_for_beginners\\\\22. Files'"
            ]
          },
          "metadata": {},
          "execution_count": 17
        }
      ]
    },
    {
      "cell_type": "code",
      "source": [
        "# read_checkFile.py\n",
        "import os, sys\n",
        "\n",
        "if os.path.isfile('myfile_write_multiple.txt'): # this file exists\n",
        "    f = open('myfile_write_multiple.txt', 'r')\n",
        "else:\n",
        "    print(\"File does not exist\")\n",
        "    sys.exit()\n",
        "s = f.read()\n",
        "print(s)\n",
        "f.close()"
      ],
      "metadata": {
        "colab": {
          "base_uri": "https://localhost:8080/"
        },
        "id": "9QzfybYwDbuB",
        "outputId": "f29c0670-580d-4b4f-e7dd-27864ca837f9"
      },
      "execution_count": 23,
      "outputs": [
        {
          "output_type": "stream",
          "name": "stdout",
          "text": [
            "You are the creator of your destiny\n",
            "All the power is within you\n",
            "You can do anything and everything\n",
            "#\n",
            "\n"
          ]
        }
      ]
    },
    {
      "cell_type": "code",
      "source": [
        "import os, sys\n",
        "\n",
        "if os.path.isfile('myfile_write_multiple11.txt'): # this file doesn't exist\n",
        "    f = open('myfile_write_multiple11.txt', 'r')\n",
        "else:\n",
        "    print(\"File does not exist\")\n",
        "    sys.exit()\n",
        "s = f.read()\n",
        "print(s)\n",
        "f.close()"
      ],
      "metadata": {
        "colab": {
          "base_uri": "https://localhost:8080/",
          "height": 140
        },
        "id": "UXsfYaPmG0pp",
        "outputId": "4a011107-a7fb-4162-981e-cc0bc5bc0a50"
      },
      "execution_count": 31,
      "outputs": [
        {
          "output_type": "stream",
          "name": "stdout",
          "text": [
            "File does not exist\n"
          ]
        },
        {
          "output_type": "error",
          "ename": "SystemExit",
          "evalue": "",
          "traceback": [
            "An exception has occurred, use %tb to see the full traceback.\n",
            "\u001b[1;31mSystemExit\u001b[0m\n"
          ]
        }
      ]
    },
    {
      "cell_type": "markdown",
      "source": [
        "## 186. Pickle\n",
        "- Use the ```pickle``` module, and serialize an object into file\n",
        "- Create a couple of files,\n",
        "    - create an object of a class called student, then serialize that object into another file we create"
      ],
      "metadata": {
        "id": "7KPb1nvRK0le"
      }
    },
    {
      "cell_type": "code",
      "source": [
        "import os\n",
        "os.getcwd()\n",
        "os.chdir(r'C:\\Users\\surya\\Downloads\\surya_learning_arena\\python_lang\\Udemy-_Python_for_beginners\\22. Files')\n",
        "os.getcwd()"
      ],
      "metadata": {
        "colab": {
          "base_uri": "https://localhost:8080/"
        },
        "id": "zxPi0BS1uCJi",
        "outputId": "f6fd923b-7509-41a3-b4aa-efe51c640342"
      },
      "execution_count": 39,
      "outputs": [
        {
          "output_type": "execute_result",
          "data": {
            "text/plain": [
              "'C:\\\\Users\\\\surya\\\\Downloads\\\\surya_learning_arena\\\\python_lang\\\\Udemy-_Python_for_beginners\\\\22. Files'"
            ]
          },
          "metadata": {},
          "execution_count": 39
        }
      ]
    },
    {
      "cell_type": "code",
      "source": [
        "# student.py\n",
        "class Student:\n",
        "    def __init__(self, id, name, testscore):\n",
        "        self.id = id\n",
        "        self.name = name\n",
        "        self.testscore = testscore\n",
        "    def display(self):\n",
        "        print(self.id, self.name, self.testscore)"
      ],
      "metadata": {
        "id": "HBDAX2i7HJbg"
      },
      "execution_count": 40,
      "outputs": []
    },
    {
      "cell_type": "code",
      "source": [
        "# pickledump.py\n",
        "import pickle, student\n",
        "\n",
        "f = open(\"student.dat\", \"wb\")\n",
        "s = student.Student(123, \"John\", 90) # creating object to be pickled\n",
        "pickle.dump(s, f) # dumping/pickling the object into a file\n",
        "f.close()"
      ],
      "metadata": {
        "id": "o4pGWQ2Xt4aZ"
      },
      "execution_count": 41,
      "outputs": []
    },
    {
      "cell_type": "markdown",
      "source": [
        "## 187. UnPickle\n",
        "-"
      ],
      "metadata": {
        "id": "md-pNIStE0hb"
      }
    },
    {
      "cell_type": "code",
      "source": [],
      "metadata": {
        "id": "jhDBuDIqEYb4"
      },
      "execution_count": 41,
      "outputs": []
    }
  ]
}