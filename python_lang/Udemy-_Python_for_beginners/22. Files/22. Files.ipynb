{
  "nbformat": 4,
  "nbformat_minor": 0,
  "metadata": {
    "colab": {
      "provenance": [],
      "toc_visible": true
    },
    "kernelspec": {
      "name": "python3",
      "display_name": "Python 3"
    },
    "language_info": {
      "name": "python"
    }
  },
  "cells": [
    {
      "cell_type": "markdown",
      "source": [
        "## 181. Introduction\n",
        "- Files are where we organise or store our data, this data can be text data or binary data like images, video files, audio files.\n",
        "- To read/write a file in python, use ```open()``` method which will return a file object\n",
        "- ```open()``` method takes 3 arguments\n",
        "    - ```filename``` : the name of file which you want to open\n",
        "    - ```mode``` : can be read, write, append and more\n",
        "    - ```buffer``` : optional, is a number used to do buffering whicle reading or writing a file, by default 4096 or 8092 will be used by PVM\n",
        "- invoke ```fileObject.close()``` method to close the file\n",
        "- mode in python could be\n",
        "    - ```w``` : write only mode, to write to a file, previous contents will be deleted, and new contents will be written from the beginning of file\n",
        "    - ```r``` : read only mode, to read from a file, stream is positioned at start of file\n",
        "    - ```a``` : append only mode, to append at the end of file, current contents will not be deleted, but adds new contents to the end of current contents, stream is positined at current end of file (EoF)\n",
        "    - ```w+``` : write & read, to write & read simultaneously, file is created if it does not exist, otherwise overwritten , stream is positioned at start of file\n",
        "    - ```r+``` : read & write, to read & write simultaneously, stream positioned at start of file\n",
        "    - ```a+``` : append & read, to append & read simultaneously, file is created if it does not exist, otherwise appended at the current end of file (EoF), stream is positioned at current end of file (EOF)\n",
        "    - ```x``` : exclusive mode, new file created if file does not exist, otherwise error is thrown\n",
        "    - use ```wb```, ```rb```, ```ab```, ```w+b```, ```r+b```, ```a+b```, ```xb``` modes for binary files"
      ],
      "metadata": {
        "id": "re3N-ZawXjOT"
      }
    },
    {
      "cell_type": "markdown",
      "source": [
        "## 182. Write string to a file\n",
        "- Write a bunch of characters entered by the end user to a file"
      ],
      "metadata": {
        "id": "orACXloF0yJN"
      }
    },
    {
      "cell_type": "code",
      "source": [
        "import os\n",
        "os.getcwd()\n",
        "os.chdir(r'C:\\Users\\surya\\Downloads\\surya_learning_arena\\python_lang\\Udemy-_Python_for_beginners\\22. Files')\n",
        "os.getcwd()"
      ],
      "metadata": {
        "colab": {
          "base_uri": "https://localhost:8080/"
        },
        "id": "Y4J-ifny1f9p",
        "outputId": "7bbbae36-594b-4853-b29f-1293af64d8ed"
      },
      "execution_count": 2,
      "outputs": [
        {
          "output_type": "execute_result",
          "data": {
            "text/plain": [
              "'C:\\\\Users\\\\surya\\\\Downloads\\\\surya_learning_arena\\\\python_lang\\\\Udemy-_Python_for_beginners\\\\22. Files'"
            ]
          },
          "metadata": {},
          "execution_count": 2
        }
      ]
    },
    {
      "cell_type": "code",
      "execution_count": 5,
      "metadata": {
        "colab": {
          "base_uri": "https://localhost:8080/"
        },
        "id": "zSGyki86Xgwb",
        "outputId": "a8a060f3-b1f8-4664-864c-8a2f62cfeff8"
      },
      "outputs": [
        {
          "name": "stdout",
          "output_type": "stream",
          "text": [
            "Enter text: hello\n"
          ]
        }
      ],
      "source": [
        "# files\n",
        "# write.py\n",
        "f = open(\"myfile_write.txt\", \"w\") # opens the file for writing\n",
        "s = input(\"Enter text: \")\n",
        "f.write(s) # writing string to file\n",
        "f.close()"
      ]
    },
    {
      "cell_type": "markdown",
      "source": [
        "## 183. Read from a file\n",
        "- Read from a file"
      ],
      "metadata": {
        "id": "swtLCQCF2nUW"
      }
    },
    {
      "cell_type": "code",
      "source": [
        "import os\n",
        "os.getcwd()\n",
        "os.chdir(r'C:\\Users\\surya\\Downloads\\surya_learning_arena\\python_lang\\Udemy-_Python_for_beginners\\22. Files')\n",
        "os.getcwd()"
      ],
      "metadata": {
        "colab": {
          "base_uri": "https://localhost:8080/"
        },
        "id": "NVyXHEUM3MbW",
        "outputId": "2069ce86-ff57-406a-8a9b-6e3e8abfc4d7"
      },
      "execution_count": 8,
      "outputs": [
        {
          "output_type": "execute_result",
          "data": {
            "text/plain": [
              "'C:\\\\Users\\\\surya\\\\Downloads\\\\surya_learning_arena\\\\python_lang\\\\Udemy-_Python_for_beginners\\\\22. Files'"
            ]
          },
          "metadata": {},
          "execution_count": 8
        }
      ]
    },
    {
      "cell_type": "code",
      "source": [
        "# read.py\n",
        "f = open(\"myfile_write.txt\", \"r\") # opens a file for reading\n",
        "s = f.read() # reads the contents of file to string\n",
        "print(s)\n",
        "f.close()"
      ],
      "metadata": {
        "colab": {
          "base_uri": "https://localhost:8080/"
        },
        "id": "Q5aIgqSY1plT",
        "outputId": "e64930a5-2845-43ee-eee1-7763962be019"
      },
      "execution_count": 9,
      "outputs": [
        {
          "output_type": "stream",
          "name": "stdout",
          "text": [
            "hello\n"
          ]
        }
      ]
    },
    {
      "cell_type": "markdown",
      "source": [
        "## 184. Write multiple strings\n",
        "-"
      ],
      "metadata": {
        "id": "1vEhNDIH3GpZ"
      }
    },
    {
      "cell_type": "code",
      "source": [],
      "metadata": {
        "id": "9eL6DBWo26nB"
      },
      "execution_count": null,
      "outputs": []
    }
  ]
}