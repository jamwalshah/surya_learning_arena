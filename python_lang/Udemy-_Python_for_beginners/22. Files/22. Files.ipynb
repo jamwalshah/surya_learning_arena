{
  "nbformat": 4,
  "nbformat_minor": 0,
  "metadata": {
    "colab": {
      "provenance": [],
      "toc_visible": true
    },
    "kernelspec": {
      "name": "python3",
      "display_name": "Python 3"
    },
    "language_info": {
      "name": "python"
    }
  },
  "cells": [
    {
      "cell_type": "markdown",
      "source": [
        "## 181. Introduction\n",
        "- Files are where we organise or store our data, this data can be text data or binary data like images, video files, audio files.\n",
        "- To read/write a file in python, use ```open()``` method which will return a file object\n",
        "- ```open()``` method takes 3 arguments\n",
        "    - ```filename``` : the name of file which you want to open\n",
        "    - ```mode``` : can be read, write, append and more\n",
        "    - ```buffer``` : optional, is a number used to do buffering whicle reading or writing a file, by default 4096 or 8092 will be used by PVM\n",
        "- invoke ```fileObject.close()``` method to close the file\n",
        "- mode in python could be\n",
        "    - ```w``` : write only mode, to write to a file, previous contents will be deleted, and new contents will be written from the beginning of file\n",
        "    - ```r``` : read only mode, to read from a file, stream is positioned at start of file\n",
        "    - ```a``` : append only mode, to append at the end of file, current contents will not be deleted, but adds new contents to the end of current contents, stream is positined at current end of file (EoF)\n",
        "    - ```w+``` : write & more, to write & read simultaneously, file is created if it does not exist, otherwise overwritten , stream is positioned at start of file\n",
        "    - ```r+``` : read & more, to read & write simultaneously, stream positioned at start of file\n",
        "    - ```a+``` : append & more, to append & read simultaneously, file is created if it does not exist, otherwise appended at the current end of file (EoF), stream is positioned at current end of file (EOF)\n",
        "    - ```x``` : exclusive mode, new file created if file does not exist, otherwise error is thrown\n",
        "    - use ```wb```, ```rb```, ```ab```, ```w+b```, ```r+b```, ```a+b```, ```xb``` modes for binary files"
      ],
      "metadata": {
        "id": "re3N-ZawXjOT"
      }
    },
    {
      "cell_type": "markdown",
      "source": [
        "## 182. Write string to a file\n",
        "- Write a bunch of characters entered by the end user to a file\n",
        "- ```f.write(string)```\n",
        "    - writes a string to a file stream"
      ],
      "metadata": {
        "id": "orACXloF0yJN"
      }
    },
    {
      "cell_type": "code",
      "source": [
        "import os\n",
        "os.getcwd()\n",
        "os.chdir(r'C:\\Users\\surya\\Downloads\\surya_learning_arena\\python_lang\\Udemy-_Python_for_beginners\\22. Files')\n",
        "os.getcwd()"
      ],
      "metadata": {
        "colab": {
          "base_uri": "https://localhost:8080/"
        },
        "id": "Y4J-ifny1f9p",
        "outputId": "bd93d115-47d1-405c-8a4e-daecba4b59d8"
      },
      "execution_count": 1,
      "outputs": [
        {
          "output_type": "execute_result",
          "data": {
            "text/plain": [
              "'C:\\\\Users\\\\surya\\\\Downloads\\\\surya_learning_arena\\\\python_lang\\\\Udemy-_Python_for_beginners\\\\22. Files'"
            ]
          },
          "metadata": {},
          "execution_count": 1
        }
      ]
    },
    {
      "cell_type": "code",
      "execution_count": 2,
      "metadata": {
        "colab": {
          "base_uri": "https://localhost:8080/"
        },
        "id": "zSGyki86Xgwb",
        "outputId": "8dcde777-fd34-43ad-e99d-e41127d28e3b"
      },
      "outputs": [
        {
          "name": "stdout",
          "output_type": "stream",
          "text": [
            "Enter text: hello\n"
          ]
        }
      ],
      "source": [
        "# files\n",
        "# write.py\n",
        "f = open(\"myfile_write.txt\", \"w\") # opens the file for writing\n",
        "s = input(\"Enter text: \") # hello\n",
        "f.write(s) # writing string to file\n",
        "f.close()"
      ]
    },
    {
      "cell_type": "markdown",
      "source": [
        "## 183. Read from a file\n",
        "- Read from a file\n",
        "- ```f.read(n)```\n",
        "    - reads till n charcters or till end of File (EoF)"
      ],
      "metadata": {
        "id": "swtLCQCF2nUW"
      }
    },
    {
      "cell_type": "code",
      "source": [
        "import os\n",
        "os.getcwd()\n",
        "os.chdir(r'C:\\Users\\surya\\Downloads\\surya_learning_arena\\python_lang\\Udemy-_Python_for_beginners\\22. Files')\n",
        "os.getcwd()"
      ],
      "metadata": {
        "colab": {
          "base_uri": "https://localhost:8080/"
        },
        "id": "NVyXHEUM3MbW",
        "outputId": "914bd714-7200-4059-e0ba-a14df25fcdb2"
      },
      "execution_count": 3,
      "outputs": [
        {
          "output_type": "execute_result",
          "data": {
            "text/plain": [
              "'C:\\\\Users\\\\surya\\\\Downloads\\\\surya_learning_arena\\\\python_lang\\\\Udemy-_Python_for_beginners\\\\22. Files'"
            ]
          },
          "metadata": {},
          "execution_count": 3
        }
      ]
    },
    {
      "cell_type": "code",
      "source": [
        "# read.py\n",
        "f = open(\"myfile_write.txt\", \"r\") # opens a file for reading\n",
        "s = f.read() # reads the contents of file to string\n",
        "print(s)\n",
        "f.close()"
      ],
      "metadata": {
        "colab": {
          "base_uri": "https://localhost:8080/"
        },
        "id": "Q5aIgqSY1plT",
        "outputId": "6c748416-4e6a-4e07-da59-25259ccfbd7d"
      },
      "execution_count": 4,
      "outputs": [
        {
          "output_type": "stream",
          "name": "stdout",
          "text": [
            "hello\n"
          ]
        }
      ]
    },
    {
      "cell_type": "markdown",
      "source": [
        "## 184. Write multiple strings\n",
        "- Allow the end user to enter any amount of text\n",
        "- stop writing to file when user enters ```#``` character"
      ],
      "metadata": {
        "id": "1vEhNDIH3GpZ"
      }
    },
    {
      "cell_type": "code",
      "source": [
        "import os\n",
        "os.getcwd()\n",
        "os.chdir(r'C:\\Users\\surya\\Downloads\\surya_learning_arena\\python_lang\\Udemy-_Python_for_beginners\\22. Files')\n",
        "os.getcwd()"
      ],
      "metadata": {
        "colab": {
          "base_uri": "https://localhost:8080/"
        },
        "id": "PXYL9H4rJYkb",
        "outputId": "bac425e8-f71a-4c89-ee98-d424016deed4"
      },
      "execution_count": 5,
      "outputs": [
        {
          "output_type": "execute_result",
          "data": {
            "text/plain": [
              "'C:\\\\Users\\\\surya\\\\Downloads\\\\surya_learning_arena\\\\python_lang\\\\Udemy-_Python_for_beginners\\\\22. Files'"
            ]
          },
          "metadata": {},
          "execution_count": 5
        }
      ]
    },
    {
      "cell_type": "code",
      "source": [
        "# write_multiple.py\n",
        "f = open(\"myfile_write_multiple.txt\", \"w\")\n",
        "print(\"Enter Text (Type # when you are done)\")\n",
        "s = ''\n",
        "while s!='#':\n",
        "    s = input()\n",
        "    # You are the creator of your destiny\n",
        "    # All the power is within you\n",
        "    # You can do anything and everything\n",
        "    f.write(s+'\\n')\n",
        "f.close()"
      ],
      "metadata": {
        "colab": {
          "base_uri": "https://localhost:8080/"
        },
        "id": "9eL6DBWo26nB",
        "outputId": "a4d849b3-b7ef-4fd3-f05e-fb7337566256"
      },
      "execution_count": 6,
      "outputs": [
        {
          "name": "stdout",
          "output_type": "stream",
          "text": [
            "Enter Text (Type # when you are done)\n",
            "You are the creator of your destiny\n",
            "All the power is within you\n",
            "You can do anything and everything\n",
            "#\n"
          ]
        }
      ]
    },
    {
      "cell_type": "markdown",
      "source": [
        "## 185. Check if the file exists\n",
        "- before opening a file for reading, it is a good practice to check a file already exists, otherwise program will run into error\n",
        "- Use ```isfile()``` method from ```os.path``` module to check if a file does not exist, and use ```exit``` method from ```sys``` module to end the program, if that file does not exist\n",
        "- ```os.path.isfile('file name/path')```\n",
        "    - returns true if filename exists as normal file\n",
        "- ```sys.exit(exitcode)```\n",
        "    - causes program to end to end with specified exitcode"
      ],
      "metadata": {
        "id": "TYinLTkhEwxp"
      }
    },
    {
      "cell_type": "code",
      "source": [
        "import os\n",
        "os.getcwd()\n",
        "os.chdir(r'C:\\Users\\surya\\Downloads\\surya_learning_arena\\python_lang\\Udemy-_Python_for_beginners\\22. Files')\n",
        "os.getcwd()"
      ],
      "metadata": {
        "colab": {
          "base_uri": "https://localhost:8080/"
        },
        "id": "ocTflRbbJbZO",
        "outputId": "c5fb6e01-f3e4-4bff-bd80-7869d8b0f641"
      },
      "execution_count": 7,
      "outputs": [
        {
          "output_type": "execute_result",
          "data": {
            "text/plain": [
              "'C:\\\\Users\\\\surya\\\\Downloads\\\\surya_learning_arena\\\\python_lang\\\\Udemy-_Python_for_beginners\\\\22. Files'"
            ]
          },
          "metadata": {},
          "execution_count": 7
        }
      ]
    },
    {
      "cell_type": "code",
      "source": [
        "# read_checkFile.py\n",
        "import os, sys\n",
        "\n",
        "if os.path.isfile('myfile_write_multiple.txt'): # this file exists\n",
        "    f = open('myfile_write_multiple.txt', 'r')\n",
        "else:\n",
        "    print(\"File does not exist\")\n",
        "    sys.exit()\n",
        "s = f.read()\n",
        "print(s)\n",
        "f.close()"
      ],
      "metadata": {
        "colab": {
          "base_uri": "https://localhost:8080/"
        },
        "id": "9QzfybYwDbuB",
        "outputId": "d4a30a4b-376c-4423-b2ea-0a6f551b5127"
      },
      "execution_count": 8,
      "outputs": [
        {
          "output_type": "stream",
          "name": "stdout",
          "text": [
            "You are the creator of your destiny\n",
            "All the power is within you\n",
            "You can do anything and everything\n",
            "#\n",
            "\n"
          ]
        }
      ]
    },
    {
      "cell_type": "code",
      "source": [
        "import os, sys\n",
        "\n",
        "if os.path.isfile('myfile_write_multiple11.txt'): # this file doesn't exist\n",
        "    f = open('myfile_write_multiple11.txt', 'r')\n",
        "else:\n",
        "    print(\"File does not exist\")\n",
        "    sys.exit()\n",
        "s = f.read()\n",
        "print(s)\n",
        "f.close()"
      ],
      "metadata": {
        "colab": {
          "base_uri": "https://localhost:8080/",
          "height": 175
        },
        "id": "UXsfYaPmG0pp",
        "outputId": "36cef9b6-6f67-41ed-db7f-cc0b014b4ee5"
      },
      "execution_count": 9,
      "outputs": [
        {
          "output_type": "stream",
          "name": "stdout",
          "text": [
            "File does not exist\n"
          ]
        },
        {
          "output_type": "error",
          "ename": "SystemExit",
          "evalue": "",
          "traceback": [
            "An exception has occurred, use %tb to see the full traceback.\n",
            "\u001b[1;31mSystemExit\u001b[0m\n"
          ]
        },
        {
          "output_type": "stream",
          "name": "stderr",
          "text": [
            "c:\\users\\surya\\appdata\\local\\programs\\python\\python39\\lib\\site-packages\\IPython\\core\\interactiveshell.py:3516: UserWarning: To exit: use 'exit', 'quit', or Ctrl-D.\n",
            "  warn(\"To exit: use 'exit', 'quit', or Ctrl-D.\", stacklevel=1)\n"
          ]
        }
      ]
    },
    {
      "cell_type": "markdown",
      "source": [
        "## 186. Pickle\n",
        "- Use the ```pickle``` module, and serialize an object into file\n",
        "- create an object of a class called student, then serialize that object into another file we create\n",
        "- ```pickle.dump(object, filestream)```\n",
        "    - creates/dumps object to filestream by serializing the object"
      ],
      "metadata": {
        "id": "7KPb1nvRK0le"
      }
    },
    {
      "cell_type": "code",
      "source": [
        "import os\n",
        "os.getcwd()\n",
        "os.chdir(r'C:\\Users\\surya\\Downloads\\surya_learning_arena\\python_lang\\Udemy-_Python_for_beginners\\22. Files')\n",
        "os.getcwd()"
      ],
      "metadata": {
        "colab": {
          "base_uri": "https://localhost:8080/"
        },
        "id": "zxPi0BS1uCJi",
        "outputId": "4e92a826-bf79-442c-9b0a-d6095a5bf3bf"
      },
      "execution_count": 10,
      "outputs": [
        {
          "output_type": "execute_result",
          "data": {
            "text/plain": [
              "'C:\\\\Users\\\\surya\\\\Downloads\\\\surya_learning_arena\\\\python_lang\\\\Udemy-_Python_for_beginners\\\\22. Files'"
            ]
          },
          "metadata": {},
          "execution_count": 10
        }
      ]
    },
    {
      "cell_type": "code",
      "source": [
        "# student.py\n",
        "class Student:\n",
        "    def __init__(self, id, name, testscore):\n",
        "        self.id = id\n",
        "        self.name = name\n",
        "        self.testscore = testscore\n",
        "    def display(self):\n",
        "        print(self.id, self.name, self.testscore)"
      ],
      "metadata": {
        "id": "HBDAX2i7HJbg"
      },
      "execution_count": 11,
      "outputs": []
    },
    {
      "cell_type": "code",
      "source": [
        "# pickledump.py\n",
        "import pickle, student\n",
        "\n",
        "f = open(\"student.dat\", \"wb\")\n",
        "s = student.Student(123, \"John\", 90) # creating object to be pickled\n",
        "pickle.dump(s, f) # dumping/pickling the object into a file\n",
        "f.close()"
      ],
      "metadata": {
        "id": "o4pGWQ2Xt4aZ"
      },
      "execution_count": 12,
      "outputs": []
    },
    {
      "cell_type": "markdown",
      "source": [
        "## 187. UnPickle\n",
        "- Unpicke/DeSerialize the object from the file where you've pickled previously\n",
        "- ```pickle.load(filestream)```\n",
        "    - returns an object by deserializing the file stream"
      ],
      "metadata": {
        "id": "md-pNIStE0hb"
      }
    },
    {
      "cell_type": "code",
      "source": [
        "import os\n",
        "os.getcwd()\n",
        "os.chdir(r'C:\\Users\\surya\\Downloads\\surya_learning_arena\\python_lang\\Udemy-_Python_for_beginners\\22. Files')\n",
        "os.getcwd()"
      ],
      "metadata": {
        "colab": {
          "base_uri": "https://localhost:8080/"
        },
        "id": "CxO0vy_iFpXh",
        "outputId": "f69f9c64-f660-417c-c5bf-2235ae4bac48"
      },
      "execution_count": 13,
      "outputs": [
        {
          "output_type": "execute_result",
          "data": {
            "text/plain": [
              "'C:\\\\Users\\\\surya\\\\Downloads\\\\surya_learning_arena\\\\python_lang\\\\Udemy-_Python_for_beginners\\\\22. Files'"
            ]
          },
          "metadata": {},
          "execution_count": 13
        }
      ]
    },
    {
      "cell_type": "code",
      "source": [
        "# pickleload.py\n",
        "import pickle\n",
        "\n",
        "f = open(\"student.dat\", \"rb\")\n",
        "obj = pickle.load(f)\n",
        "obj.display()"
      ],
      "metadata": {
        "colab": {
          "base_uri": "https://localhost:8080/"
        },
        "id": "jhDBuDIqEYb4",
        "outputId": "5ab02067-e76b-4ae9-c2df-f698c4b9176f"
      },
      "execution_count": 14,
      "outputs": [
        {
          "output_type": "stream",
          "name": "stdout",
          "text": [
            "123 John 90\n"
          ]
        }
      ]
    },
    {
      "cell_type": "markdown",
      "source": [
        "## 188. More about Read\n",
        "- Create a new text file sample_read.txt, and add some content to it\n",
        "        python\n",
        "        django\n",
        "        drf\n",
        "        docker\n",
        "- ```f.read(n)```\n",
        "    - reads file from current position till 'n' characters or till end of file(EoF)\n",
        "- ```f.readline(n)```\n",
        "    - reads file from current position till 'n' charactera or till newline character or till end of file(EoF)\n",
        "- ```f.readlines(n)```\n",
        "    - returns a list of lines, reads n lines or all the lines  till end of file (EoF)\n",
        "- ```f.seek(n)```\n",
        "    - takes the pointer to nth position"
      ],
      "metadata": {
        "id": "CifpjzrcGAO3"
      }
    },
    {
      "cell_type": "code",
      "source": [
        "import os\n",
        "os.getcwd()\n",
        "os.chdir(r'C:\\Users\\surya\\Downloads\\surya_learning_arena\\python_lang\\Udemy-_Python_for_beginners\\22. Files')\n",
        "os.getcwd()"
      ],
      "metadata": {
        "colab": {
          "base_uri": "https://localhost:8080/"
        },
        "id": "7fDQU1ifp4zX",
        "outputId": "9ffabad2-7996-48d0-dd7f-1c2897f63027"
      },
      "execution_count": 15,
      "outputs": [
        {
          "output_type": "execute_result",
          "data": {
            "text/plain": [
              "'C:\\\\Users\\\\surya\\\\Downloads\\\\surya_learning_arena\\\\python_lang\\\\Udemy-_Python_for_beginners\\\\22. Files'"
            ]
          },
          "metadata": {},
          "execution_count": 15
        }
      ]
    },
    {
      "cell_type": "code",
      "source": [
        "# readdemo.py\n",
        "f = open('sample_read.txt','r')\n",
        "print(f.read()) # reads file from start to end"
      ],
      "metadata": {
        "colab": {
          "base_uri": "https://localhost:8080/"
        },
        "id": "qzix7FMJF5v0",
        "outputId": "370a6f9c-03cd-470f-ffb9-08c4e586f5e5"
      },
      "execution_count": 16,
      "outputs": [
        {
          "output_type": "stream",
          "name": "stdout",
          "text": [
            "python\n",
            "django\n",
            "drf\n",
            "docker\n"
          ]
        }
      ]
    },
    {
      "cell_type": "code",
      "source": [
        "print(f.readline()) # prints till new line or end of file (EoF)\n",
        "# here cursor is already at end of File (EoF), so it doesn't print anything"
      ],
      "metadata": {
        "colab": {
          "base_uri": "https://localhost:8080/"
        },
        "id": "SO9kR15PM4TU",
        "outputId": "a9b827f1-4c96-4943-d3f4-5ddcc5377c3b"
      },
      "execution_count": 17,
      "outputs": [
        {
          "output_type": "stream",
          "name": "stdout",
          "text": [
            "\n"
          ]
        }
      ]
    },
    {
      "cell_type": "code",
      "source": [
        "f.seek(0) # change the cursor position to specified offset value,\n",
        "# returns absolute position"
      ],
      "metadata": {
        "colab": {
          "base_uri": "https://localhost:8080/"
        },
        "id": "oQTy_G5sM9U1",
        "outputId": "9e32c0dc-612b-4b97-ae19-0496e8209b53"
      },
      "execution_count": 18,
      "outputs": [
        {
          "output_type": "execute_result",
          "data": {
            "text/plain": [
              "0"
            ]
          },
          "metadata": {},
          "execution_count": 18
        }
      ]
    },
    {
      "cell_type": "code",
      "source": [
        "print(f.readline())\n",
        "# now cursor is at start of file, so it prints only 1st line"
      ],
      "metadata": {
        "colab": {
          "base_uri": "https://localhost:8080/"
        },
        "id": "uuc1EcL6NTUD",
        "outputId": "47591124-70d3-4ea6-d7dc-9d399de98ba5"
      },
      "execution_count": 19,
      "outputs": [
        {
          "output_type": "stream",
          "name": "stdout",
          "text": [
            "python\n",
            "\n"
          ]
        }
      ]
    },
    {
      "cell_type": "code",
      "source": [
        "f.seek(0)\n",
        "print(f.readlines()) # prints a list of lines\n",
        "f.close()"
      ],
      "metadata": {
        "colab": {
          "base_uri": "https://localhost:8080/"
        },
        "id": "1FLXLRQGNvfc",
        "outputId": "400cbacf-db07-4072-ec1c-ac25cf41f8b2"
      },
      "execution_count": 20,
      "outputs": [
        {
          "output_type": "stream",
          "name": "stdout",
          "text": [
            "['python\\n', 'django\\n', 'drf\\n', 'docker']\n"
          ]
        }
      ]
    },
    {
      "cell_type": "code",
      "source": [
        "f = open('sample_read.txt', 'r')\n",
        "print(f.read(12)) # reads n charcters or till End of File (EoF)\n",
        "f.seek(0)\n",
        "print(f.readline(3)) # reads n characters or till new line or till End of File (EoF)\n",
        "f.seek(0)\n",
        "print(f.readlines())\n",
        "f.close()"
      ],
      "metadata": {
        "colab": {
          "base_uri": "https://localhost:8080/"
        },
        "id": "ahcQuVNTOXwZ",
        "outputId": "eae2fb3e-86ff-495a-8dee-04b65fd79ac9"
      },
      "execution_count": 21,
      "outputs": [
        {
          "output_type": "stream",
          "name": "stdout",
          "text": [
            "python\n",
            "djang\n",
            "pyt\n",
            "['python\\n', 'django\\n', 'drf\\n', 'docker']\n"
          ]
        }
      ]
    },
    {
      "cell_type": "markdown",
      "source": [
        "## 189. Write\n",
        "- Open file in ```w+``` mode\n",
        "- ```f.write(string)```\n",
        "    - write string to filestream\n",
        "- ```f.writelines(list)```\n",
        "    - writes items of list into lines\n",
        "- ```f.tell()```\n",
        "    - returns the surrent position of pointer"
      ],
      "metadata": {
        "id": "3jvHaxe3P4l7"
      }
    },
    {
      "cell_type": "code",
      "source": [
        "import os\n",
        "os.getcwd()\n",
        "os.chdir(r'C:\\Users\\surya\\Downloads\\surya_learning_arena\\python_lang\\Udemy-_Python_for_beginners\\22. Files')\n",
        "os.getcwd()"
      ],
      "metadata": {
        "colab": {
          "base_uri": "https://localhost:8080/"
        },
        "id": "VQzVgluIp69I",
        "outputId": "9d4721a2-0f0f-4b37-a264-513e64303097"
      },
      "execution_count": 22,
      "outputs": [
        {
          "output_type": "execute_result",
          "data": {
            "text/plain": [
              "'C:\\\\Users\\\\surya\\\\Downloads\\\\surya_learning_arena\\\\python_lang\\\\Udemy-_Python_for_beginners\\\\22. Files'"
            ]
          },
          "metadata": {},
          "execution_count": 22
        }
      ]
    },
    {
      "cell_type": "code",
      "source": [
        "# writedemo.py\n",
        "f = open('sample_write.txt', 'w+')\n",
        "f.write(\"Python is awesome\\n\")"
      ],
      "metadata": {
        "colab": {
          "base_uri": "https://localhost:8080/"
        },
        "id": "ANbU0zp6Ohoj",
        "outputId": "2655ca68-00e3-4a0d-ed20-71f53c32f108"
      },
      "execution_count": 23,
      "outputs": [
        {
          "output_type": "execute_result",
          "data": {
            "text/plain": [
              "18"
            ]
          },
          "metadata": {},
          "execution_count": 23
        }
      ]
    },
    {
      "cell_type": "code",
      "source": [
        "f.writelines(['Python\\n', 'Django\\n', 'DRF\\n']) # write a list of lines to file"
      ],
      "metadata": {
        "id": "x0QFeofZPyFq"
      },
      "execution_count": 24,
      "outputs": []
    },
    {
      "cell_type": "code",
      "source": [
        "print(f.read()) # does not read anything because, pointer is at end of file"
      ],
      "metadata": {
        "colab": {
          "base_uri": "https://localhost:8080/"
        },
        "id": "eATbxewYrZSd",
        "outputId": "51f17c00-cfc5-40ed-d21c-9ca8d0c099b0"
      },
      "execution_count": 25,
      "outputs": [
        {
          "output_type": "stream",
          "name": "stdout",
          "text": [
            "\n"
          ]
        }
      ]
    },
    {
      "cell_type": "code",
      "source": [
        "f.seek(0) # takes pointer to start of file\n",
        "print(f.read()) # now it can read the file"
      ],
      "metadata": {
        "colab": {
          "base_uri": "https://localhost:8080/"
        },
        "id": "vaXoqr9Ar43D",
        "outputId": "e2f379fe-162c-42da-e273-71da57dee0e1"
      },
      "execution_count": 26,
      "outputs": [
        {
          "output_type": "stream",
          "name": "stdout",
          "text": [
            "Python is awesome\n",
            "Python\n",
            "Django\n",
            "DRF\n",
            "\n"
          ]
        }
      ]
    },
    {
      "cell_type": "code",
      "source": [
        "print(\"the cursor is at \", f.tell()) # prints current stream position\n",
        "f.seek(0)\n",
        "print(\"the cursor is at \", f.tell())\n",
        "f.close()"
      ],
      "metadata": {
        "colab": {
          "base_uri": "https://localhost:8080/"
        },
        "id": "lBzmqfhVsBkL",
        "outputId": "b474fd9f-6a47-4de4-8ee8-92e63920e574"
      },
      "execution_count": 27,
      "outputs": [
        {
          "output_type": "stream",
          "name": "stdout",
          "text": [
            "the cursor is at  40\n",
            "the cursor is at  0\n"
          ]
        }
      ]
    },
    {
      "cell_type": "code",
      "source": [
        "f = open('sample_write.txt', 'w+')\n",
        "f.write(\"Python is awesome\\n\")\n",
        "f.writelines(['Python\\n', 'Django\\n', 'DRF\\n'])\n",
        "print(\"the cursor is at \", f.tell())\n",
        "f.seek(0)\n",
        "print(\"the cursor is at \", f.tell())\n",
        "print(f.read())\n",
        "f.close()"
      ],
      "metadata": {
        "colab": {
          "base_uri": "https://localhost:8080/"
        },
        "id": "AH-L0-vGsbEf",
        "outputId": "8668cffc-c09f-4b48-ae0d-b7e49a3349b2"
      },
      "execution_count": 28,
      "outputs": [
        {
          "output_type": "stream",
          "name": "stdout",
          "text": [
            "the cursor is at  40\n",
            "the cursor is at  0\n",
            "Python is awesome\n",
            "Python\n",
            "Django\n",
            "DRF\n",
            "\n"
          ]
        }
      ]
    },
    {
      "cell_type": "markdown",
      "source": [
        "## 190. Append\n",
        "- Append the data to a file, read the content and put it in a list to print it\n"
      ],
      "metadata": {
        "id": "jOkwMKqoyQez"
      }
    },
    {
      "cell_type": "code",
      "source": [
        "import os\n",
        "os.getcwd()\n",
        "os.chdir(r'C:\\Users\\surya\\Downloads\\surya_learning_arena\\python_lang\\Udemy-_Python_for_beginners\\22. Files')\n",
        "os.getcwd()\n",
        "\n",
        "f = open('sample_write.txt', 'r')\n",
        "content = f.read()\n",
        "f.close()\n",
        "\n",
        "f = open('sample_append.txt', 'w')\n",
        "f.write(content)\n",
        "f.close()"
      ],
      "metadata": {
        "id": "xXMAy_6byvrM"
      },
      "execution_count": 29,
      "outputs": []
    },
    {
      "cell_type": "code",
      "source": [
        "# appenddemo.py\n",
        "f = open('sample_append.txt', 'a+')\n",
        "print('Cursor is at', f.tell())\n",
        "f.write(\"Django is for web development\\n\")\n",
        "f.seek(0)\n",
        "a = []\n",
        "for line in f:\n",
        "    a.append(line)\n",
        "print(a)\n",
        "f.close()"
      ],
      "metadata": {
        "colab": {
          "base_uri": "https://localhost:8080/"
        },
        "id": "ynC6pxlbyNha",
        "outputId": "bb35d89f-cc94-4719-bc26-7f2df1464e35"
      },
      "execution_count": 30,
      "outputs": [
        {
          "output_type": "stream",
          "name": "stdout",
          "text": [
            "Cursor is at 40\n",
            "['Python is awesome\\n', 'Python\\n', 'Django\\n', 'DRF\\n', 'Django is for web development\\n']\n"
          ]
        }
      ]
    },
    {
      "cell_type": "markdown",
      "source": [
        "## 191. Count Lines\n",
        "- Print the number of lines in a given file"
      ],
      "metadata": {
        "id": "DEdb3CrW0G86"
      }
    },
    {
      "cell_type": "code",
      "source": [
        "# countlines.py\n",
        "f = open('sample_append.txt', 'r')\n",
        "print(len(f.readlines()))\n",
        "f.close()"
      ],
      "metadata": {
        "colab": {
          "base_uri": "https://localhost:8080/"
        },
        "id": "-zFHCN7dyqdl",
        "outputId": "61dce154-cd50-4c18-ab1d-f38b9a085036"
      },
      "execution_count": 31,
      "outputs": [
        {
          "output_type": "stream",
          "name": "stdout",
          "text": [
            "5\n"
          ]
        }
      ]
    },
    {
      "cell_type": "code",
      "source": [
        "f = open('sample_append.txt', 'r')\n",
        "print(len(f.read().split('\\n'))) # also counts the last empty line\n",
        "f.close()"
      ],
      "metadata": {
        "colab": {
          "base_uri": "https://localhost:8080/"
        },
        "id": "msxkASKX0fEH",
        "outputId": "8eede26d-b42c-4524-b1af-195ae95bf706"
      },
      "execution_count": 32,
      "outputs": [
        {
          "output_type": "stream",
          "name": "stdout",
          "text": [
            "6\n"
          ]
        }
      ]
    },
    {
      "cell_type": "code",
      "source": [],
      "metadata": {
        "id": "iK4bIh300uCa"
      },
      "execution_count": 32,
      "outputs": []
    }
  ]
}