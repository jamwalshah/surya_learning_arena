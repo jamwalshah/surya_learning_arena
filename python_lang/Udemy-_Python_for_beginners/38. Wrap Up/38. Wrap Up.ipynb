{
  "nbformat": 4,
  "nbformat_minor": 0,
  "metadata": {
    "colab": {
      "provenance": [],
      "toc_visible": true
    },
    "kernelspec": {
      "name": "python3",
      "display_name": "Python 3"
    },
    "language_info": {
      "name": "python"
    }
  },
  "cells": [
    {
      "cell_type": "markdown",
      "source": [
        "## 330. Bonus Lecture\n",
        "- Hot And New Courses:\n",
        "    - Mastering GitHub Copilot for Java & Spring Boot Developers\n",
        "    - Mastering GitHub Copilot for Python & Django REST Developers\n",
        "    - Generative AI For Java Developers with Azure OpenAI ChatGPT\n",
        "    - Generative AI using Azure OpenAI Service for Beginners\n",
        "    - Generative AI using OpenAI API for Beginners\n",
        "    - Python Logical Programs and Data Structures for beginners\n",
        "    - Java Logical Programs For Beginners and Experienced\n",
        "    - Helm Kubernetes Packaging Manager for Developers and DevOps\n",
        "    - Kafka fundamentals for Java Developers\n",
        "    - Docker for Python Django Developers\n",
        "    - Java Interview Help\n",
        "    - Serverless Using AWS Lambda For Java Developers\n",
        "    - Serverless Using AWS Lambda For Python Developers\n",
        "    - Spring Security\n",
        "    - Gradle for Java Developers\n",
        "    - Devops Tools and AWS for Java Microservice Developers\n",
        "    - Yoga For Beginners\n",
        "\n",
        "- Artificial Intelligence:\n",
        "    - Mastering GitHub Copilot for Java & Spring Boot DevelopersMastering GitHub Copilot for Python & Django REST DevelopersGenerative AI using OpenAI API for Beginners\n",
        "    - Generative AI using Azure OpenAI Service for BeginnersGenerative AI For Java Developers with Azure OpenAI ChatGPT\n",
        "\n",
        "- Java Courses:\n",
        "    - Java Design Patterns, Java Web Services, Java Messaging Service, JUnit and Mockito and Spring Frameworks in Easy Steps, Spring Boot Fundamentals,Spring Data JPA using Hibernate,Spring Data REST.\n",
        "    - Core Java Made Easy\n",
        "    - Mastering GitHub Copilot for Java & Spring Boot Developers\n",
        "    - Generative AI For Java Developers with Azure OpenAI ChatGPT\n",
        "    - Java Logical Programs For Beginners and Experienced\n",
        "    - JDBC Servlets and JSP - Java Web Development Fundamentals\n",
        "    - Spring Framework in Easy Steps\n",
        "    - Spring Boot Fundamentals\n",
        "    - Spring Data JPA Using Hibernate\n",
        "    - Full Stack Development Using Spring Boot Angular and React\n",
        "    - Spring Security\n",
        "    - Java Web Services\n",
        "    - Java Web Service Part 2\n",
        "    - Junit and Mockito Crash Course\n",
        "    - Spring Cloud Fundamentals\n",
        "    - Java Design Patterns\n",
        "    - REST APIs using Spring Data REST\n",
        "    - Java Message Service - JMS Fundamentals\n",
        "    - Java Interview Help\n",
        "    - Serverless Using AWS Lambda For Java Developers\n",
        "    - Kafka fundamentals for Java Developers\n",
        "\n",
        "- Devops Tools:\n",
        "    - Helm Kubernetes Packaging Manager for Developers and DevOps\n",
        "    - Devops Tools and AWS for Java Microservice Developers\n",
        "    - Maven Crash Course\n",
        "    - Gradle For Java Developers\n",
        "\n",
        "- Java Script Courses:\n",
        "    - Node JS Made Easy for MEAN and MERN Stack\n",
        "    - React in easy steps with Node and Java Backend\n",
        "    - Angular crash course with Node and Java Backend\n",
        "    - Typescript for beginners\n",
        "\n",
        "- XML Courses:\n",
        "    - XML and XML Schema Definition in Easy Steps\n",
        "    - XSLT XPATH and XQuery Fundamentals\n",
        "\n",
        "- Python:\n",
        "    - Python for beginners\n",
        "    - Mastering GitHub Copilot for Python & Django REST Developers\n",
        "    - Python Logical Programs and Data Structures for beginners\n",
        "    - Django for Python Developers\n",
        "    - Django REST Framework\n",
        "    - Serverless Using AWS Lambda For Python Developers\n",
        "    - Docker for Python Django Developers\n",
        "\n",
        "- Free Courses:\n",
        "    - JavaScript Fundamentals\n",
        "    - Advanced and Object Oriented JavaScript and ES6\n"
      ],
      "metadata": {
        "id": "4GvHxbDO_yYm"
      }
    },
    {
      "cell_type": "code",
      "execution_count": null,
      "metadata": {
        "id": "28sDue72_wT_"
      },
      "outputs": [],
      "source": []
    }
  ]
}