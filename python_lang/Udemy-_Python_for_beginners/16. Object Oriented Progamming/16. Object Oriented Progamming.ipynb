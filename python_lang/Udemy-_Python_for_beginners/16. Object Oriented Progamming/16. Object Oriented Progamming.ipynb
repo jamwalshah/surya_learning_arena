{
  "nbformat": 4,
  "nbformat_minor": 0,
  "metadata": {
    "colab": {
      "provenance": [],
      "toc_visible": true
    },
    "kernelspec": {
      "name": "python3",
      "display_name": "Python 3"
    },
    "language_info": {
      "name": "python"
    }
  },
  "cells": [
    {
      "cell_type": "markdown",
      "source": [
        "## 138. Introduction\n",
        "- a person if thought of as an object has some traits/properties like age, weight, qualification and behaviors like look(), speak()\n",
        "- objects in realworld has three things\n",
        "    1. Identity / Name\n",
        "    2. Properties / Variables\n",
        "        - objects exchange information by properties / variables\n",
        "    3. Functionality / Behavior\n",
        "        - objects interact with each other by their functionality / behaviors\n",
        "- it is very easy to represent real-world problems using object oriented programming in a solutions we develop\n",
        "- for example, in a scenario of online shopping, objects can be\n",
        "    1. Customer\n",
        "    2. Order\n",
        "    3. Product\n",
        "    4. Address\n",
        "    5. Payment\n",
        "- for example, in a scenario of hospital management, objects can be\n",
        "    1. Patient\n",
        "    2. Appointment\n",
        "    3. Doctor\n",
        "    4. Prescription\n",
        "    5. Billing\n",
        "-"
      ],
      "metadata": {
        "id": "780ApZw1hTlv"
      }
    },
    {
      "cell_type": "markdown",
      "source": [
        "## 139. The 4 OOP Principles\n",
        "-"
      ],
      "metadata": {
        "id": "v421jnWJqALp"
      }
    },
    {
      "cell_type": "code",
      "execution_count": null,
      "metadata": {
        "id": "o_YN3Gl8hP45"
      },
      "outputs": [],
      "source": []
    }
  ]
}