{
  "nbformat": 4,
  "nbformat_minor": 0,
  "metadata": {
    "colab": {
      "provenance": [],
      "toc_visible": true
    },
    "kernelspec": {
      "name": "python3",
      "display_name": "Python 3"
    },
    "language_info": {
      "name": "python"
    }
  },
  "cells": [
    {
      "cell_type": "markdown",
      "source": [
        "## 138. Introduction\n",
        "- a person if thought of as an object has some traits/properties like age, weight, qualification and behaviors like look(), speak()\n",
        "- objects in realworld has three things\n",
        "    1. Identity / Name\n",
        "    2. Properties / Variables\n",
        "        - objects exchange information by properties / variables\n",
        "    3. Functionality / Behavior\n",
        "        - objects interact with each other by their functionality / behaviors\n",
        "- it is very easy to represent real-world problems using object oriented programming in a solutions we develop\n",
        "- for example, in a scenario of online shopping, objects can be\n",
        "    1. Customer\n",
        "    2. Order\n",
        "    3. Product\n",
        "    4. Address\n",
        "    5. Payment\n",
        "- for example, in a scenario of hospital management, objects can be\n",
        "    1. Patient\n",
        "    2. Appointment\n",
        "    3. Doctor\n",
        "    4. Prescription\n",
        "    5. Billing"
      ],
      "metadata": {
        "id": "780ApZw1hTlv"
      }
    },
    {
      "cell_type": "markdown",
      "source": [
        "## 139. The 4 OOP Principles\n",
        "- There are four key Object Oriented Principles, which are\n",
        "    1. Encapsulation\n",
        "    2. Inheritance\n",
        "    3. Abstraction\n",
        "    4. Polymorphism\n",
        "- These four OOP principles are not only in python but common across all other OOP languages like Java, C++, and these four principles/features are implemented using classes and objects"
      ],
      "metadata": {
        "id": "v421jnWJqALp"
      }
    },
    {
      "cell_type": "markdown",
      "source": [
        "## 140. Classes and Objects\n",
        "- Classes allow us to create our own data types i.e., User Defined Data types\n",
        "- These act as blueprints for our objects\n",
        "- Class represent a blueprint where all the fields/variables and methods are defined, and then using that class, we can create any number of objects which will have the same type of variables & methods\n",
        "- for example\n",
        "        class Product\n",
        "            id\n",
        "            name\n",
        "            price\n",
        "    - now using this class which represents the blueprint, we can create any number of objects as needed in our application/solution\n",
        "    - each of the object has above three properties, but with different values"
      ],
      "metadata": {
        "id": "gJ_6JEejrvqe"
      }
    },
    {
      "cell_type": "markdown",
      "source": [
        "## 141. Create first class\n",
        "- Create a class which will have three instance variables/fields\n",
        "    1. name of product\n",
        "    2. description\n",
        "    3. price\n",
        "- variables/fields of objects can be accessed using ```.``` operator\n"
      ],
      "metadata": {
        "id": "ktcQLdiOttTj"
      }
    },
    {
      "cell_type": "code",
      "execution_count": 4,
      "metadata": {
        "id": "o_YN3Gl8hP45",
        "colab": {
          "base_uri": "https://localhost:8080/"
        },
        "outputId": "f6361b4b-7542-4ceb-f87a-1837c13a2b7c"
      },
      "outputs": [
        {
          "output_type": "stream",
          "name": "stdout",
          "text": [
            "IPhone\n",
            "Its Awesome\n",
            "700\n",
            "IPhone\n",
            "Its Awesome\n",
            "700\n"
          ]
        }
      ],
      "source": [
        "# oopsbasics\n",
        "# product.py\n",
        "class Product: # creating class\n",
        "    def __init__(self): # using constructor method to create variables of class\n",
        "    # __init__ method takes self which is inbuilt keyword to which address of current object will be assigned\n",
        "        self.name = 'IPhone'\n",
        "        self.description = 'Its Awesome'\n",
        "        self.price = 700\n",
        "\n",
        "p1 = Product() # creating object\n",
        "# PVM will invoke __init__() method, and\n",
        "# passes the object that we are creating to the self\n",
        "print(p1.name)\n",
        "print(p1.description)\n",
        "print(p1.price)\n",
        "\n",
        "p2 = Product() # creating another object for same class\n",
        "print(p2.name)\n",
        "print(p2.description)\n",
        "print(p2.price)"
      ]
    },
    {
      "cell_type": "markdown",
      "source": [
        "## 142. Use Parameterized Constructor\n",
        "- Create a class named Course which has members name (of course like Java, Hibernate, Spring, etc.) and ratings (list representing scale from 1 to 5), and use parameterized Constructors\n",
        "        class Course:\n",
        "            name\n",
        "            ratings\n",
        "- in parameterized constructor declaration, after specifying the self keyword, we put the parameters we want to pass separated by commas\n",
        "- in parameterized constructor call, self is automatically passed, but we need to write the values/variables which we want to pass to paramterized constructor"
      ],
      "metadata": {
        "id": "UEfBEnmcwbG_"
      }
    },
    {
      "cell_type": "code",
      "source": [
        "# course.py\n",
        "class Course:\n",
        "    def __init__(self, name, ratings):\n",
        "        self.name = name\n",
        "        self.ratings = ratings\n",
        "\n",
        "c1 = Course(\"Java Course\", [1, 2, 3, 4, 5])\n",
        "print(c1.name)\n",
        "print(c1.ratings)\n",
        "\n",
        "c2 = Course(\"Java Web Services\", [5, 5, 5, 5])\n",
        "print(c2.name)\n",
        "print(c2.ratings)"
      ],
      "metadata": {
        "colab": {
          "base_uri": "https://localhost:8080/"
        },
        "id": "JfhogyMSvtzO",
        "outputId": "9c040201-35a8-4dbf-ef60-a16e49314782"
      },
      "execution_count": 12,
      "outputs": [
        {
          "output_type": "stream",
          "name": "stdout",
          "text": [
            "Java Course\n",
            "[1, 2, 3, 4, 5]\n",
            "Java Web Services\n",
            "[5, 5, 5, 5]\n"
          ]
        }
      ]
    },
    {
      "cell_type": "markdown",
      "source": [
        "## 143. Define an instance method\n",
        "- Define an instance method that will calculate the average ratings for each course\n",
        "- Once we define an instance method, any object can invoke that method"
      ],
      "metadata": {
        "id": "_XOR9Et6uiYM"
      }
    },
    {
      "cell_type": "code",
      "source": [
        "class Course:\n",
        "    def __init__(self, name, ratings):\n",
        "        self.name = name\n",
        "        self.ratings = ratings\n",
        "    def average(self):\n",
        "        numberOfRatings = len(self.ratings)\n",
        "        average = sum(self.ratings)/numberOfRatings\n",
        "        print(\"Average ratings for \", self.name, \"is \", average)\n",
        "\n",
        "c1 = Course(\"Java Course\", [1, 2, 3, 4, 5])\n",
        "print(c1.name)\n",
        "print(c1.ratings)\n",
        "c1.average()\n",
        "\n",
        "c2 = Course(\"Java Web Services\", [5, 5, 5, 5])\n",
        "print(c2.name)\n",
        "print(c2.ratings)\n",
        "c2.average()"
      ],
      "metadata": {
        "colab": {
          "base_uri": "https://localhost:8080/"
        },
        "id": "uJlnvGIztyMA",
        "outputId": "b1ab74e0-05b5-4f2a-e7f0-96310b1d9a49"
      },
      "execution_count": 14,
      "outputs": [
        {
          "output_type": "stream",
          "name": "stdout",
          "text": [
            "Java Course\n",
            "[1, 2, 3, 4, 5]\n",
            "Average ratings for  Java Course is  3.0\n",
            "Java Web Services\n",
            "[5, 5, 5, 5]\n",
            "Average ratings for  Java Web Services is  5.0\n"
          ]
        }
      ]
    },
    {
      "cell_type": "markdown",
      "source": [
        "## 144. Create Getter and Setter methods\n",
        "- ```Mutator / Setter methods``` require additional parameters beside ```self```\n",
        "- ```Accessor / Getter methods``` do not require additional parameters beside ```self```\n",
        "- Create a class called Programmer, which will have three fields, name, salary and technologies\n"
      ],
      "metadata": {
        "id": "Yyy8ag28wRny"
      }
    },
    {
      "cell_type": "code",
      "source": [
        "# programmer.py\n",
        "class Programmer:\n",
        "\n",
        "    def setName(self, n): # mutator / setter method for name\n",
        "        self.name = n\n",
        "    def getName(self): # accessor / getter method for name\n",
        "        return self.name\n",
        "\n",
        "    def setSalary(self, sal):\n",
        "        self.salary = sal\n",
        "    def getSalary(self):\n",
        "        return self.salary\n",
        "\n",
        "    def setTechnologies(self, techs):\n",
        "        self.technologies = techs\n",
        "    def getTechnologies(self):\n",
        "        return self.technologies\n",
        "\n",
        "p1 = Programmer()\n",
        "p1.setName(\"John\")\n",
        "p1.setSalary(10000)\n",
        "p1.setTechnologies([\"Java\", \"Hibernate\", \"Spring\", \"Python\"])\n",
        "\n",
        "print(p1.getName())\n",
        "print(p1.getSalary())\n",
        "print(p1.getTechnologies())"
      ],
      "metadata": {
        "colab": {
          "base_uri": "https://localhost:8080/"
        },
        "id": "661PRXCqvsRK",
        "outputId": "da950da6-9fdf-4b56-8ccd-dfdebb6d900b"
      },
      "execution_count": 19,
      "outputs": [
        {
          "output_type": "stream",
          "name": "stdout",
          "text": [
            "John\n",
            "10000\n",
            "['Java', 'Hibernate', 'Spring', 'Python']\n"
          ]
        }
      ]
    },
    {
      "cell_type": "markdown",
      "source": [
        "## 145. Define instance methods\n",
        "-"
      ],
      "metadata": {
        "id": "iqx6a5BtzlO7"
      }
    },
    {
      "cell_type": "code",
      "source": [],
      "metadata": {
        "id": "zoZwJ0MEyZEk"
      },
      "execution_count": null,
      "outputs": []
    }
  ]
}