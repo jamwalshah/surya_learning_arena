{
  "nbformat": 4,
  "nbformat_minor": 0,
  "metadata": {
    "colab": {
      "provenance": [],
      "toc_visible": true
    },
    "kernelspec": {
      "name": "python3",
      "display_name": "Python 3"
    },
    "language_info": {
      "name": "python"
    }
  },
  "cells": [
    {
      "cell_type": "markdown",
      "source": [
        "## 138. Introduction\n",
        "- a person if thought of as an object has some traits/properties like age, weight, qualification and behaviors like look(), speak()\n",
        "- objects in realworld has three things\n",
        "    1. Identity / Name\n",
        "    2. Properties / Variables\n",
        "        - objects exchange information by properties / variables\n",
        "    3. Functionality / Behavior\n",
        "        - objects interact with each other by their functionality / behaviors\n",
        "- it is very easy to represent real-world problems using object oriented programming in a solutions we develop\n",
        "- for example, in a scenario of online shopping, objects can be\n",
        "    1. Customer\n",
        "    2. Order\n",
        "    3. Product\n",
        "    4. Address\n",
        "    5. Payment\n",
        "- for example, in a scenario of hospital management, objects can be\n",
        "    1. Patient\n",
        "    2. Appointment\n",
        "    3. Doctor\n",
        "    4. Prescription\n",
        "    5. Billing"
      ],
      "metadata": {
        "id": "780ApZw1hTlv"
      }
    },
    {
      "cell_type": "markdown",
      "source": [
        "## 139. The 4 OOP Principles\n",
        "- There are four key Object Oriented Principles, which are\n",
        "    1. Encapsulation\n",
        "    2. Inheritance\n",
        "    3. Abstraction\n",
        "    4. Polymorphism\n",
        "- These four OOP principles are not only in python but common across all other OOP languages like Java, C++, and these four principles/features are implemented using classes and objects"
      ],
      "metadata": {
        "id": "v421jnWJqALp"
      }
    },
    {
      "cell_type": "markdown",
      "source": [
        "## 140. Classes and Objects\n",
        "- Classes allow us to create our own data types i.e., User Defined Data types\n",
        "- These act as blueprints for our objects\n",
        "- Class represent a blueprint where all the fields/variables and methods are defined, and then using that class, we can create any number of objects which will have the same type of variables & methods\n",
        "- for example\n",
        "        class Product\n",
        "            id\n",
        "            name\n",
        "            price\n",
        "    - now using this class which represents the blueprint, we can create any number of objects as needed in our application/solution\n",
        "    - each of the object has above three properties, but with different values"
      ],
      "metadata": {
        "id": "gJ_6JEejrvqe"
      }
    },
    {
      "cell_type": "markdown",
      "source": [
        "## 141. Create first class\n",
        "- Create a class which will have three instance variables/fields\n",
        "    1. name of product\n",
        "    2. description\n",
        "    3. price\n",
        "- variables/fields of objects can be accessed using ```.``` operator\n"
      ],
      "metadata": {
        "id": "ktcQLdiOttTj"
      }
    },
    {
      "cell_type": "code",
      "execution_count": 4,
      "metadata": {
        "id": "o_YN3Gl8hP45",
        "colab": {
          "base_uri": "https://localhost:8080/"
        },
        "outputId": "f6361b4b-7542-4ceb-f87a-1837c13a2b7c"
      },
      "outputs": [
        {
          "output_type": "stream",
          "name": "stdout",
          "text": [
            "IPhone\n",
            "Its Awesome\n",
            "700\n",
            "IPhone\n",
            "Its Awesome\n",
            "700\n"
          ]
        }
      ],
      "source": [
        "# oopsbasics\n",
        "# product.py\n",
        "class Product: # creating class\n",
        "    def __init__(self): # using constructor method to create variables of class\n",
        "    # __init__ method takes self which is inbuilt keyword to which address of current object will be assigned\n",
        "        self.name = 'IPhone'\n",
        "        self.description = 'Its Awesome'\n",
        "        self.price = 700\n",
        "\n",
        "p1 = Product() # creating object\n",
        "# PVM will invoke __init__() method, and\n",
        "# passes the object that we are creating to the self\n",
        "print(p1.name)\n",
        "print(p1.description)\n",
        "print(p1.price)\n",
        "\n",
        "p2 = Product() # creating another object for same class\n",
        "print(p2.name)\n",
        "print(p2.description)\n",
        "print(p2.price)"
      ]
    },
    {
      "cell_type": "markdown",
      "source": [
        "## 142. Use Parameterized Constructor\n",
        "- Create a class named Course which has members name (of course like Java, Hibernate, Spring, etc.) and ratings (list representing scale from 1 to 5), and use parameterized Constructors\n",
        "        class Course:\n",
        "            name\n",
        "            ratings\n",
        "- in parameterized constructor declaration, after specifying the self keyword, we put the parameters we want to pass separated by commas\n",
        "- in parameterized constructor call, self is automatically passed, but we need to write the values/variables which we want to pass to paramterized constructor"
      ],
      "metadata": {
        "id": "UEfBEnmcwbG_"
      }
    },
    {
      "cell_type": "code",
      "source": [
        "# course.py\n",
        "class Course:\n",
        "    def __init__(self, name, ratings):\n",
        "        self.name = name\n",
        "        self.ratings = ratings\n",
        "\n",
        "c1 = Course(\"Java Course\", [1, 2, 3, 4, 5])\n",
        "print(c1.name)\n",
        "print(c1.ratings)\n",
        "\n",
        "c2 = Course(\"Java Web Services\", [5, 5, 5, 5])\n",
        "print(c2.name)\n",
        "print(c2.ratings)"
      ],
      "metadata": {
        "colab": {
          "base_uri": "https://localhost:8080/"
        },
        "id": "JfhogyMSvtzO",
        "outputId": "9c040201-35a8-4dbf-ef60-a16e49314782"
      },
      "execution_count": 12,
      "outputs": [
        {
          "output_type": "stream",
          "name": "stdout",
          "text": [
            "Java Course\n",
            "[1, 2, 3, 4, 5]\n",
            "Java Web Services\n",
            "[5, 5, 5, 5]\n"
          ]
        }
      ]
    },
    {
      "cell_type": "markdown",
      "source": [
        "## 143. Define an instance method\n",
        "- Define an instance method that will calculate the average ratings for each course\n",
        "- Once we define an instance method, any object can invoke that method"
      ],
      "metadata": {
        "id": "_XOR9Et6uiYM"
      }
    },
    {
      "cell_type": "code",
      "source": [
        "class Course:\n",
        "    def __init__(self, name, ratings):\n",
        "        self.name = name\n",
        "        self.ratings = ratings\n",
        "    def average(self):\n",
        "        numberOfRatings = len(self.ratings)\n",
        "        average = sum(self.ratings)/numberOfRatings\n",
        "        print(\"Average ratings for \", self.name, \"is \", average)\n",
        "\n",
        "c1 = Course(\"Java Course\", [1, 2, 3, 4, 5])\n",
        "print(c1.name)\n",
        "print(c1.ratings)\n",
        "c1.average()\n",
        "\n",
        "c2 = Course(\"Java Web Services\", [5, 5, 5, 5])\n",
        "print(c2.name)\n",
        "print(c2.ratings)\n",
        "c2.average()"
      ],
      "metadata": {
        "colab": {
          "base_uri": "https://localhost:8080/"
        },
        "id": "uJlnvGIztyMA",
        "outputId": "b1ab74e0-05b5-4f2a-e7f0-96310b1d9a49"
      },
      "execution_count": 14,
      "outputs": [
        {
          "output_type": "stream",
          "name": "stdout",
          "text": [
            "Java Course\n",
            "[1, 2, 3, 4, 5]\n",
            "Average ratings for  Java Course is  3.0\n",
            "Java Web Services\n",
            "[5, 5, 5, 5]\n",
            "Average ratings for  Java Web Services is  5.0\n"
          ]
        }
      ]
    },
    {
      "cell_type": "markdown",
      "source": [
        "## 144. Create Getter and Setter methods\n",
        "- ```Mutator / Setter methods``` require additional parameters beside ```self```\n",
        "- ```Accessor / Getter methods``` do not require additional parameters beside ```self```\n",
        "- Create a class called Programmer, which will have three fields, name, salary and technologies\n"
      ],
      "metadata": {
        "id": "Yyy8ag28wRny"
      }
    },
    {
      "cell_type": "code",
      "source": [
        "# programmer.py\n",
        "class Programmer:\n",
        "\n",
        "    def setName(self, n): # mutator / setter method for name\n",
        "        self.name = n\n",
        "    def getName(self): # accessor / getter method for name\n",
        "        return self.name\n",
        "\n",
        "    def setSalary(self, sal):\n",
        "        self.salary = sal\n",
        "    def getSalary(self):\n",
        "        return self.salary\n",
        "\n",
        "    def setTechnologies(self, techs):\n",
        "        self.technologies = techs\n",
        "    def getTechnologies(self):\n",
        "        return self.technologies\n",
        "\n",
        "p1 = Programmer()\n",
        "p1.setName(\"John\")\n",
        "p1.setSalary(10000)\n",
        "p1.setTechnologies([\"Java\", \"Hibernate\", \"Spring\", \"Python\"])\n",
        "\n",
        "print(p1.getName())\n",
        "print(p1.getSalary())\n",
        "print(p1.getTechnologies())"
      ],
      "metadata": {
        "colab": {
          "base_uri": "https://localhost:8080/"
        },
        "id": "661PRXCqvsRK",
        "outputId": "da950da6-9fdf-4b56-8ccd-dfdebb6d900b"
      },
      "execution_count": 19,
      "outputs": [
        {
          "output_type": "stream",
          "name": "stdout",
          "text": [
            "John\n",
            "10000\n",
            "['Java', 'Hibernate', 'Spring', 'Python']\n"
          ]
        }
      ]
    },
    {
      "cell_type": "markdown",
      "source": [
        "## 145. Define instance methods\n",
        "- define instance functions/methods that can access the field in a class"
      ],
      "metadata": {
        "id": "iqx6a5BtzlO7"
      }
    },
    {
      "cell_type": "code",
      "source": [
        "# product2.py\n",
        "class Product:\n",
        "\n",
        "    def __init__(self):\n",
        "        self.name = 'IPhone'\n",
        "        self.description = 'Its Awesome'\n",
        "        self.price = 700\n",
        "\n",
        "    def display(self):\n",
        "        print(self.name)\n",
        "        print(self.price)\n",
        "        print(self.description)\n",
        "\n",
        "p1 = Product()\n",
        "p1.display() # call to instance method\n",
        "\n",
        "p2 = Product()\n",
        "p2.display()"
      ],
      "metadata": {
        "colab": {
          "base_uri": "https://localhost:8080/"
        },
        "id": "zoZwJ0MEyZEk",
        "outputId": "dd7049be-1ac4-482f-d096-1847ac4258c6"
      },
      "execution_count": 23,
      "outputs": [
        {
          "output_type": "stream",
          "name": "stdout",
          "text": [
            "IPhone\n",
            "700\n",
            "Its Awesome\n",
            "IPhone\n",
            "700\n",
            "Its Awesome\n"
          ]
        }
      ]
    },
    {
      "cell_type": "markdown",
      "source": [
        "## 146. Methods vs. Constructors\n",
        "        Basis           Methods                 Constructors\n",
        "        Name            Any Name                __init__\n",
        "        Execution       when it is invoked      Automatically\n",
        "        Call times      any number of times     Once per object\n",
        "        what-is-inside  business logic          Declaration & Initialization"
      ],
      "metadata": {
        "id": "IRcCb_IvKg_0"
      }
    },
    {
      "cell_type": "markdown",
      "source": [
        "## 147. Define static field\n",
        "- also called as class level fields\n",
        "- static field is defined directly in the class, and to define static field, it can be accessed directly using class name\n",
        "- Define a class \"Student\", which has a static field \"Major\""
      ],
      "metadata": {
        "id": "BFL_mLrqkQIV"
      }
    },
    {
      "cell_type": "code",
      "source": [
        "# student.py\n",
        "class Student:\n",
        "    major = \"CSE\" # static field\n",
        "\n",
        "    def __init__(self, rollno, name):\n",
        "        self.rollno = rollno\n",
        "        self.name = name\n",
        "\n",
        "s1 = Student(1, \"John\")\n",
        "s2 = Student(2, \"Bill\")\n",
        "\n",
        "print(s1.major) # static field can be accessed using instance\n",
        "print(s2.major)\n",
        "\n",
        "print(s1.name)\n",
        "print(s2.name)\n",
        "\n",
        "print(Student.major) # static field can be accessed using class name also"
      ],
      "metadata": {
        "colab": {
          "base_uri": "https://localhost:8080/"
        },
        "id": "V3bN0GQjKRhz",
        "outputId": "97622e99-8a2c-438f-fb89-3ef057e8ad4e"
      },
      "execution_count": 26,
      "outputs": [
        {
          "output_type": "stream",
          "name": "stdout",
          "text": [
            "CSE\n",
            "CSE\n",
            "John\n",
            "Bill\n",
            "CSE\n"
          ]
        }
      ]
    },
    {
      "cell_type": "markdown",
      "source": [
        "## 148. Count the number of Objects\n",
        "- Define a static field as well as a static method, and count the number of objects being created, and display the count\n",
        "- mark static method with ```@statucmethod``` decorator to get rid of using ```self``` in its declaration"
      ],
      "metadata": {
        "id": "3ZiVGtzNJWVZ"
      }
    },
    {
      "cell_type": "code",
      "source": [
        "# objectcounter.py\n",
        "class ObjectCounter:\n",
        "\n",
        "    numberOfObjects = 0 # statuc field\n",
        "\n",
        "    def __init__(self): # static field is incremented using constructor\n",
        "        ObjectCounter.numberOfObjects += 1\n",
        "\n",
        "    @staticmethod # mark static method with @statucmethod decorator to get rid of using self in its declaration\n",
        "    def displayCount():\n",
        "        print(ObjectCounter.numberOfObjects)\n",
        "\n",
        "o1 = ObjectCounter()\n",
        "o2 = ObjectCounter()\n",
        "ObjectCounter.displayCount()"
      ],
      "metadata": {
        "colab": {
          "base_uri": "https://localhost:8080/"
        },
        "id": "tMKv8AzCGHBY",
        "outputId": "c6cedc7f-7160-436b-acf8-b48eb108f3b4"
      },
      "execution_count": 28,
      "outputs": [
        {
          "output_type": "stream",
          "name": "stdout",
          "text": [
            "2\n"
          ]
        }
      ]
    },
    {
      "cell_type": "markdown",
      "source": [
        "## 149. Create an inner class\n",
        "- Create class called \"Car\" which will have an inner class called \"Engine\"\n",
        "- use object of outer class to create an object of inner class"
      ],
      "metadata": {
        "id": "V29-0SVEfQ-u"
      }
    },
    {
      "cell_type": "code",
      "source": [
        "# innerdemo.py\n",
        "class Car: # outer class\n",
        "    def __init__(self, make, year):\n",
        "        self.make = make\n",
        "        self.year = year\n",
        "\n",
        "    class Engine: # inner class\n",
        "        def __init__(self, number):\n",
        "            self.number = number\n",
        "        def start(self):\n",
        "            print(\"Engine started\")\n",
        "\n",
        "c = Car(\"BMW\", 2017)\n",
        "e = c.Engine(123) # use object of outer class to create an object of inner class\n",
        "e.start()"
      ],
      "metadata": {
        "colab": {
          "base_uri": "https://localhost:8080/"
        },
        "id": "mal7OqUJe_ma",
        "outputId": "bac16e5d-c103-4d7c-ad19-617e5741bcf9"
      },
      "execution_count": 30,
      "outputs": [
        {
          "output_type": "stream",
          "name": "stdout",
          "text": [
            "Engine started\n"
          ]
        }
      ]
    },
    {
      "cell_type": "markdown",
      "source": [
        "## 150. Garbage Collection\n",
        "- we need to ensure that the memory we allocate to objects in our program, is deallocated / destroyed, otherwise all the memory will be used up and our program will crash at some point\n",
        "- in such cases, Python's Garbage Collection comes in. There is a Garbage Collector keeps running in the background as a part of Python Runtime, which cleans up objects automatically when objects are no longer used\n",
        "- The memory allocated to that object is cleaned up by the Garbage collector automatically that runs in the background, as soon as the object has no references or the program finishes execution\n",
        "- Garbage collector helps us to write destructor using ```__del__()```, in which we can write the cleanup logic, and it will be invoked by the Garbage Collector before it cleans up the memory allocated to a memory\n",
        "\n",
        "``` python\n",
        "class Product:\n",
        "    def __init__(self):\n",
        "        self.name = 'IPhone'\n",
        "        self.description = 'Its Awesome'\n",
        "        self.price = 700\n",
        "    \n",
        "    def __del__(self): # destructor method\n",
        "        print(\"Inside the destructor\")\n",
        "    \n",
        "    def display(self):\n",
        "        print(self.name)\n",
        "        print(self.price)\n",
        "        print(self.description)\n",
        "\n",
        "p1 = Product()\n",
        "p1.display()\n",
        "p1 = None # automatically calls garbage collector\n",
        "\n",
        "p2 = Product()\n",
        "p2.display()\n",
        "p2 = None\n",
        "```"
      ],
      "metadata": {
        "id": "pWHnLdxXpl5E"
      }
    },
    {
      "cell_type": "markdown",
      "source": [
        "## 151. GC Methods\n",
        "- ```gc``` module has methods to enable & disable Garbage Collection\n",
        "- by default GC is enabled\n",
        "- ```gc.isenabled()``` : Returns true if automatic garbage collection is enabled.\n",
        "- ```gc.disable()``` : Disable automatic garbage collection.\n",
        "- ```gc.enable()``` : Enable automatic garbage collection"
      ],
      "metadata": {
        "id": "T0jCHJTR_FuW"
      }
    },
    {
      "cell_type": "code",
      "source": [
        "# gcdemo.py\n",
        "import gc\n",
        "print(gc.isenabled()) # check if GC is enabled or not\n",
        "gc.disable() # disables GC\n",
        "print(gc.isenabled())\n",
        "gc.enable() # enables GC\n",
        "print(gc.isenabled())"
      ],
      "metadata": {
        "colab": {
          "base_uri": "https://localhost:8080/"
        },
        "id": "kvowybLtpeJu",
        "outputId": "e0d9e32d-c805-4967-c6f5-e64fb23cb76b"
      },
      "execution_count": 38,
      "outputs": [
        {
          "output_type": "stream",
          "name": "stdout",
          "text": [
            "True\n",
            "False\n",
            "True\n"
          ]
        }
      ]
    },
    {
      "cell_type": "markdown",
      "source": [
        "## 152. Use Destructor\n",
        "- Create and use Destructor\n",
        "- any cleanup code should go into ```__del__()``` destructor method definition"
      ],
      "metadata": {
        "id": "TPHOcWeWx-7g"
      }
    },
    {
      "cell_type": "code",
      "source": [
        "# product3.py\n",
        "class Product:\n",
        "\n",
        "    def __init__(self):\n",
        "        self.name = 'IPhone'\n",
        "        self.description = 'Its Awesome'\n",
        "        self.price = 700\n",
        "\n",
        "    def __del__(self):\n",
        "        # cleanup code goes here\n",
        "        print(\"Inside the destructor\")\n",
        "\n",
        "    def display(self):\n",
        "        print(self.name)\n",
        "        print(self.price)\n",
        "        print(self.description)\n",
        "\n",
        "p1 = Product()\n",
        "p1.display()\n",
        "# p1.__del__()\n",
        "p1 = None # dereferences the object, destructor is automatically called\n",
        "\n",
        "p2 = Product()\n",
        "p2.display()\n",
        "# p2.__del__()\n",
        "p2 = None # dereferences the object, destructor is automatically called"
      ],
      "metadata": {
        "colab": {
          "base_uri": "https://localhost:8080/"
        },
        "id": "iqAHIR1S-NQu",
        "outputId": "e315de7c-d228-4726-f100-2f1ebea01a70"
      },
      "execution_count": 1,
      "outputs": [
        {
          "output_type": "stream",
          "name": "stdout",
          "text": [
            "IPhone\n",
            "700\n",
            "Its Awesome\n",
            "Inside the destructor\n",
            "IPhone\n",
            "700\n",
            "Its Awesome\n",
            "Inside the destructor\n"
          ]
        }
      ]
    },
    {
      "cell_type": "markdown",
      "source": [
        "## 153.Patient Clinical Usecase\n",
        "- Create two different classes to capture patient information and patient's clinical information"
      ],
      "metadata": {
        "id": "OB8-J5uO21ZZ"
      }
    },
    {
      "cell_type": "code",
      "source": [
        "# clinicalsapp.py\n",
        "class Patient:\n",
        "    def __init__(self, name, age):\n",
        "        self.name = name\n",
        "        self.age = age\n",
        "        self.clinical = []\n",
        "\n",
        "    def addClinicalData(self, clinical): # exhibits HAS-A relationship\n",
        "        self.clinical.append(clinical)\n",
        "\n",
        "\n",
        "class Clinical:\n",
        "    def __init__(self, componentName, componentValue):\n",
        "        self.componentName = componentName\n",
        "        self.componentValue = componentValue\n",
        "\n",
        "p = Patient('John', 40)\n",
        "\n",
        "c1 = Clinical('bp', '80/120')\n",
        "p.addClinicalData(c1)\n",
        "\n",
        "c2 = Clinical('heartRate', 80)\n",
        "p.addClinicalData(c2)\n",
        "\n",
        "print(p.name)\n",
        "for eachClinical in p.clinical:\n",
        "    print(eachClinical.componentName)\n",
        "    print(eachClinical.componentValue)"
      ],
      "metadata": {
        "colab": {
          "base_uri": "https://localhost:8080/"
        },
        "id": "H9L7c2E1zwsp",
        "outputId": "68bebb9c-e282-4188-f032-fe90afd33b38"
      },
      "execution_count": 3,
      "outputs": [
        {
          "output_type": "stream",
          "name": "stdout",
          "text": [
            "John\n",
            "bp\n",
            "80/120\n",
            "heartRate\n",
            "80\n"
          ]
        }
      ]
    },
    {
      "cell_type": "code",
      "source": [],
      "metadata": {
        "id": "OIzhuZRqtGIl"
      },
      "execution_count": 3,
      "outputs": []
    }
  ]
}