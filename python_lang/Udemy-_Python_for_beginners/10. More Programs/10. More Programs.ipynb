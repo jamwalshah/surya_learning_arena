{
  "nbformat": 4,
  "nbformat_minor": 0,
  "metadata": {
    "colab": {
      "provenance": [],
      "toc_visible": true
    },
    "kernelspec": {
      "name": "python3",
      "display_name": "Python 3"
    },
    "language_info": {
      "name": "python"
    }
  },
  "cells": [
    {
      "cell_type": "markdown",
      "source": [
        "## 82. Reverse a String"
      ],
      "metadata": {
        "id": "9mAY-qTgQd0c"
      }
    },
    {
      "cell_type": "code",
      "execution_count": 5,
      "metadata": {
        "colab": {
          "base_uri": "https://localhost:8080/"
        },
        "id": "6bTNtoivNfHe",
        "outputId": "b7dfa699-8bfa-4054-96d7-4d3366d228b2"
      },
      "outputs": [
        {
          "output_type": "stream",
          "name": "stdout",
          "text": [
            "Enter a string: surya\n",
            "ayrus\n"
          ]
        }
      ],
      "source": [
        "# stringreversal.py\n",
        " # using slicing\n",
        "s = input('Enter a string: ') # surya\n",
        "print(s[::-1])"
      ]
    },
    {
      "cell_type": "code",
      "source": [
        " # using loop\n",
        "s = input('Enter a string: ') # malayalam\n",
        "i = len(s)-1\n",
        "result=''\n",
        "while i>=0:\n",
        "    result = result + s[i]\n",
        "    i = i-1\n",
        "print(result)"
      ],
      "metadata": {
        "colab": {
          "base_uri": "https://localhost:8080/"
        },
        "id": "2NHF9cnuQsgF",
        "outputId": "da1595bb-f9a9-4b4e-9719-cec2b8ad9bb0"
      },
      "execution_count": 4,
      "outputs": [
        {
          "output_type": "stream",
          "name": "stdout",
          "text": [
            "Enter a string: malayalam\n",
            "malayalam\n"
          ]
        }
      ]
    },
    {
      "cell_type": "markdown",
      "source": [
        "## 83. Reverse using split and join"
      ],
      "metadata": {
        "id": "ZcCgIC2RRcXY"
      }
    },
    {
      "cell_type": "code",
      "source": [
        "s = '-'.join(['a', 'b', 'c'])\n",
        "print(s)"
      ],
      "metadata": {
        "colab": {
          "base_uri": "https://localhost:8080/"
        },
        "id": "9JvNrFPHRHp-",
        "outputId": "15481e6b-346f-43d2-cef9-81a69bf14629"
      },
      "execution_count": 6,
      "outputs": [
        {
          "output_type": "stream",
          "name": "stdout",
          "text": [
            "a-b-c\n"
          ]
        }
      ]
    },
    {
      "cell_type": "code",
      "source": [
        "s = ''.join(['a', 'b', 'c'])\n",
        "print(s)"
      ],
      "metadata": {
        "colab": {
          "base_uri": "https://localhost:8080/"
        },
        "id": "GP7raWbvcnSU",
        "outputId": "d777bbd6-1001-4a50-ed7a-ec3d57f5fa5a"
      },
      "execution_count": 7,
      "outputs": [
        {
          "output_type": "stream",
          "name": "stdout",
          "text": [
            "abc\n"
          ]
        }
      ]
    },
    {
      "cell_type": "code",
      "source": [
        "s = input('Enter a String: ')\n",
        "print(''.join(reversed(s))) # john"
      ],
      "metadata": {
        "colab": {
          "base_uri": "https://localhost:8080/"
        },
        "id": "dXwoa96hcpo1",
        "outputId": "767c25a4-a13a-45de-9bae-fc70f11f0136"
      },
      "execution_count": 9,
      "outputs": [
        {
          "output_type": "stream",
          "name": "stdout",
          "text": [
            "Enter a String: john\n",
            "nhoj\n"
          ]
        }
      ]
    },
    {
      "cell_type": "code",
      "source": [
        "s = input('Enter a String: ')\n",
        "print(','.join(reversed(s))) # bob"
      ],
      "metadata": {
        "colab": {
          "base_uri": "https://localhost:8080/"
        },
        "id": "ux2uHdKSc6kC",
        "outputId": "6ae06a9f-ddc7-46bd-97e8-cc43e06895d7"
      },
      "execution_count": 10,
      "outputs": [
        {
          "output_type": "stream",
          "name": "stdout",
          "text": [
            "Enter a String: bob\n",
            "b,o,b\n"
          ]
        }
      ]
    },
    {
      "cell_type": "code",
      "source": [
        "s = input('Enter a String: ')\n",
        "print(''.join(reversed(s))) # bob"
      ],
      "metadata": {
        "colab": {
          "base_uri": "https://localhost:8080/"
        },
        "id": "jPVOISSIdPWL",
        "outputId": "709b1fbb-4dd0-485c-92d0-30d7e20911a3"
      },
      "execution_count": 11,
      "outputs": [
        {
          "output_type": "stream",
          "name": "stdout",
          "text": [
            "Enter a String: bob\n",
            "bob\n"
          ]
        }
      ]
    },
    {
      "cell_type": "markdown",
      "source": [
        "## 84. Reverse the words in a string\n",
        "- input\n",
        "        All the power is with in you\n",
        "- output\n",
        "        you in with is power the All"
      ],
      "metadata": {
        "id": "vB6RjTJKdVik"
      }
    },
    {
      "cell_type": "code",
      "source": [
        "# wordreversal.py\n",
        "s = 'All the power is with in you'\n",
        "temp = s.split()\n",
        "print(temp)\n",
        "result = []\n",
        "i = len(temp)-1\n",
        "while i>=0:\n",
        "    result.append(temp[i])\n",
        "    i -=1\n",
        "print(result)\n",
        "output = ' '.join(result)\n",
        "print(output)"
      ],
      "metadata": {
        "colab": {
          "base_uri": "https://localhost:8080/"
        },
        "id": "kPaNYltBdTGS",
        "outputId": "e368b207-47af-4b2a-8174-643585829369"
      },
      "execution_count": 17,
      "outputs": [
        {
          "output_type": "stream",
          "name": "stdout",
          "text": [
            "['All', 'the', 'power', 'is', 'with', 'in', 'you']\n",
            "['you', 'in', 'with', 'is', 'power', 'the', 'All']\n",
            "you in with is power the All\n"
          ]
        }
      ]
    },
    {
      "cell_type": "markdown",
      "source": [
        "## 85. Reverse the characters in the words\n",
        "- input\n",
        "        Super Cool Python\n",
        "- output\n",
        "        repuS looC nohtyP"
      ],
      "metadata": {
        "id": "oiaI81DfepV9"
      }
    },
    {
      "cell_type": "code",
      "source": [
        "# charreversal.py\n",
        "s = 'Python is cool'\n",
        "temp = s.split()\n",
        "print(temp)\n",
        "result = []\n",
        "i = 0\n",
        "while i<len(temp):\n",
        "    result.append(temp[i][::-1])\n",
        "    i += 1\n",
        "print(result)\n",
        "output = ' '.join(result)\n",
        "print(output)"
      ],
      "metadata": {
        "colab": {
          "base_uri": "https://localhost:8080/"
        },
        "id": "YhBfp4sTd8VJ",
        "outputId": "4d8c33d2-710b-4835-f31e-fe9a00dbf6e9"
      },
      "execution_count": 20,
      "outputs": [
        {
          "output_type": "stream",
          "name": "stdout",
          "text": [
            "['Python', 'is', 'cool']\n",
            "['nohtyP', 'si', 'looc']\n",
            "nohtyP si looc\n"
          ]
        }
      ]
    },
    {
      "cell_type": "markdown",
      "source": [
        "## 86. Remove Duplicate Chars\n",
        "- input\n",
        "        aaaaaBbbbbCCCddefggghI\n",
        "- output\n",
        "        aBbCdefghi"
      ],
      "metadata": {
        "id": "rz09Xmw6froP"
      }
    },
    {
      "cell_type": "code",
      "source": [
        "# removeduplicatechars.py\n",
        "s = 'abcbbbccccZZZZIII'\n",
        "temp = []\n",
        "for c in s:\n",
        "    if c not in temp:\n",
        "        temp.append(c)\n",
        "print(temp)\n",
        "output = ''.join(temp)\n",
        "print(output)"
      ],
      "metadata": {
        "colab": {
          "base_uri": "https://localhost:8080/"
        },
        "id": "1We3kU-pfCkQ",
        "outputId": "0995fb09-60bf-4869-fc21-51e1f746339a"
      },
      "execution_count": 22,
      "outputs": [
        {
          "output_type": "stream",
          "name": "stdout",
          "text": [
            "['a', 'b', 'c', 'Z', 'I']\n",
            "abcZI\n"
          ]
        }
      ]
    },
    {
      "cell_type": "markdown",
      "source": [
        "## 87. Count the characters\n"
      ],
      "metadata": {
        "id": "uBTd1311rFGf"
      }
    },
    {
      "cell_type": "code",
      "source": [
        "# charcount.py\n",
        "s = 'aaaabbbccczidlkfjasdkjflksjlkl'\n",
        "d = {}\n",
        "for c in s:\n",
        "    if c in d.keys():\n",
        "        d[c] +=1\n",
        "    else:\n",
        "        d[c] = 1\n",
        "for k, v in d.items():\n",
        "    print('{}={}times'.format(k, v))"
      ],
      "metadata": {
        "colab": {
          "base_uri": "https://localhost:8080/"
        },
        "id": "fiO2WeWiq6QW",
        "outputId": "b1d36e07-37e7-4913-d5ad-6cee44cfea96"
      },
      "execution_count": 24,
      "outputs": [
        {
          "output_type": "stream",
          "name": "stdout",
          "text": [
            "a=5times\n",
            "b=3times\n",
            "c=3times\n",
            "z=1times\n",
            "i=1times\n",
            "d=2times\n",
            "l=4times\n",
            "k=4times\n",
            "f=2times\n",
            "j=3times\n",
            "s=2times\n"
          ]
        }
      ]
    },
    {
      "cell_type": "markdown",
      "source": [
        "## 88. Print Right Angled Triangle\n",
        "    *\n",
        "    * *\n",
        "    * * *\n",
        "    * * * *\n",
        "    * * * * *\n",
        "    * * * * * *\n",
        "    * * * * * * *"
      ],
      "metadata": {
        "id": "hnLfbQn1s7iE"
      }
    },
    {
      "cell_type": "code",
      "source": [
        "# rightanledtriangle.py\n",
        "n = int(input('Enter the number of rows: ')) # 10\n",
        "for i in range(1, n+1):\n",
        "    for j in range(1, i+1):\n",
        "        print('* ', end='')\n",
        "    print()"
      ],
      "metadata": {
        "colab": {
          "base_uri": "https://localhost:8080/"
        },
        "id": "P3lme91RsDvH",
        "outputId": "8cab782c-544e-4efe-b6b2-c6bf82aee4a0"
      },
      "execution_count": 27,
      "outputs": [
        {
          "output_type": "stream",
          "name": "stdout",
          "text": [
            "Enter the number of rows: 10\n",
            "* \n",
            "* * \n",
            "* * * \n",
            "* * * * \n",
            "* * * * * \n",
            "* * * * * * \n",
            "* * * * * * * \n",
            "* * * * * * * * \n",
            "* * * * * * * * * \n",
            "* * * * * * * * * * \n"
          ]
        }
      ]
    },
    {
      "cell_type": "code",
      "source": [
        "# using only one loop\n",
        "n = int(input('Enter the number of rows: ')) # 10\n",
        "for i in range(1, n+1):\n",
        "    print('* '*i)"
      ],
      "metadata": {
        "colab": {
          "base_uri": "https://localhost:8080/"
        },
        "id": "2tI1BpZCtsdI",
        "outputId": "a2da444a-a6f5-428f-b685-7fdb92e837bc"
      },
      "execution_count": 29,
      "outputs": [
        {
          "output_type": "stream",
          "name": "stdout",
          "text": [
            "Enter the number of rows: 10\n",
            "* \n",
            "* * \n",
            "* * * \n",
            "* * * * \n",
            "* * * * * \n",
            "* * * * * * \n",
            "* * * * * * * \n",
            "* * * * * * * * \n",
            "* * * * * * * * * \n",
            "* * * * * * * * * * \n"
          ]
        }
      ]
    },
    {
      "cell_type": "code",
      "source": [
        "# using only one loop\n",
        "n = int(input('Enter the number of rows: ')) # 10\n",
        "for i in range(1, n+1):\n",
        "    print('# '*i)"
      ],
      "metadata": {
        "colab": {
          "base_uri": "https://localhost:8080/"
        },
        "id": "Nup1asWKuD4u",
        "outputId": "210873e3-e32c-4d4e-b14b-af0d81bb79b6"
      },
      "execution_count": 30,
      "outputs": [
        {
          "output_type": "stream",
          "name": "stdout",
          "text": [
            "Enter the number of rows: 10\n",
            "# \n",
            "# # \n",
            "# # # \n",
            "# # # # \n",
            "# # # # # \n",
            "# # # # # # \n",
            "# # # # # # # \n",
            "# # # # # # # # \n",
            "# # # # # # # # # \n",
            "# # # # # # # # # # \n"
          ]
        }
      ]
    },
    {
      "cell_type": "markdown",
      "source": [
        "## 89. Print Pyramid Pattern\n",
        "           *\n",
        "          * *\n",
        "         * * *\n",
        "        * * * *\n",
        "       * * * * *\n",
        "      * * * * * *\n",
        "     * * * * * * *\n",
        "    * * * * * * * *"
      ],
      "metadata": {
        "id": "t4yTZg75u1WE"
      }
    },
    {
      "cell_type": "code",
      "source": [
        "# pyramidpattern.py\n",
        "n = int(input('Enter number of rows: '))\n",
        "for i in range(1, n+1):\n",
        "    print(' '*(n-i), end='')\n",
        "    print('* '*i)"
      ],
      "metadata": {
        "colab": {
          "base_uri": "https://localhost:8080/"
        },
        "id": "5diuXbHJuSlm",
        "outputId": "fe0c159f-c8ec-4847-dbce-f7245caf796b"
      },
      "execution_count": 32,
      "outputs": [
        {
          "output_type": "stream",
          "name": "stdout",
          "text": [
            "Enter number of rows: 8\n",
            "       * \n",
            "      * * \n",
            "     * * * \n",
            "    * * * * \n",
            "   * * * * * \n",
            "  * * * * * * \n",
            " * * * * * * * \n",
            "* * * * * * * * \n"
          ]
        }
      ]
    },
    {
      "cell_type": "markdown",
      "source": [
        "## 90. Find substrings in a given string\n",
        "- FInd position of 'idea'\n",
        "        Take up one idea and make that idea your life. Think and dream of that idea and leave every other idea alone."
      ],
      "metadata": {
        "id": "q9VZ09aFA6Uy"
      }
    },
    {
      "cell_type": "code",
      "source": [
        "# findallpositions.py\n",
        "s = 'Take up one idea and make that idea your life. \\\n",
        "Think and dream of that idea and leave every other idea alone.'\n",
        "subs = 'idea'\n",
        "found = False\n",
        "pos = -1\n",
        "length = len(s)\n",
        "while True:\n",
        "    pos = s.find(subs, pos+1, length)\n",
        "    if pos == -1:\n",
        "        break\n",
        "    print('Found the substring at position ', pos)\n",
        "    found = True\n",
        "if found == False:\n",
        "    print(\"Substring not found\")"
      ],
      "metadata": {
        "colab": {
          "base_uri": "https://localhost:8080/"
        },
        "id": "79kqIEKvwNLP",
        "outputId": "6bbfbe40-5d63-4990-cb9c-5ae8c985c594"
      },
      "execution_count": 36,
      "outputs": [
        {
          "output_type": "stream",
          "name": "stdout",
          "text": [
            "Found the substring at position  12\n",
            "Found the substring at position  31\n",
            "Found the substring at position  71\n",
            "Found the substring at position  98\n"
          ]
        }
      ]
    },
    {
      "cell_type": "code",
      "source": [],
      "metadata": {
        "id": "6R7Y9ap-C-xR"
      },
      "execution_count": 36,
      "outputs": []
    }
  ]
}