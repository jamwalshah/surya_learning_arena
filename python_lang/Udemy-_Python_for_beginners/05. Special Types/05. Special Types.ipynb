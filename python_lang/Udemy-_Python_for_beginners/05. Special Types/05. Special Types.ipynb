{
  "nbformat": 4,
  "nbformat_minor": 0,
  "metadata": {
    "colab": {
      "provenance": [],
      "toc_visible": true
    },
    "kernelspec": {
      "name": "python3",
      "display_name": "Python 3"
    },
    "language_info": {
      "name": "python"
    }
  },
  "cells": [
    {
      "cell_type": "markdown",
      "source": [
        "## 45. None Type\n",
        "- When we don't have a value to assign yet to a variable, we can assign it ```None``` (similar to Null)\n",
        "- if a function does not return anything, compiler automatically returns ```None```"
      ],
      "metadata": {
        "id": "3MvMDS77pMRh"
      }
    },
    {
      "cell_type": "code",
      "execution_count": 1,
      "metadata": {
        "colab": {
          "base_uri": "https://localhost:8080/"
        },
        "id": "oaafgVHUpDN2",
        "outputId": "0a288326-059c-4494-fb44-c5f53e58a3c7"
      },
      "outputs": [
        {
          "output_type": "stream",
          "name": "stdout",
          "text": [
            "None\n",
            "None\n"
          ]
        }
      ],
      "source": [
        "# nonetype.py\n",
        "a = None\n",
        "print(a)\n",
        "\n",
        "def m1():\n",
        "    a = 10\n",
        "\n",
        "print(m1())"
      ]
    },
    {
      "cell_type": "markdown",
      "source": [
        "## 46. Escape Chars\n",
        "- used to change the meaning of special characters\n",
        "- ```\\n``` : new line\n",
        "- ```\\t``` : tab space\n",
        "- ```\\\"``` : double quote\n",
        "- ```\\\\``` : backward slash, does  not turn next character into escape character"
      ],
      "metadata": {
        "id": "2vTRHeBpqMTg"
      }
    },
    {
      "cell_type": "code",
      "source": [
        "#escapechars.py\n",
        "print(\"Surya is \\nawesome and cool\")\n",
        "print(\"Surya is \\tawesome and cool\")\n",
        "print(\"Surya is 'awesome and cool' \")\n",
        "print(\"Surya is \\\"awesome and cool\\\" \")\n",
        "print(\"Surya is \\\\awesome and cool\\\\ \")"
      ],
      "metadata": {
        "colab": {
          "base_uri": "https://localhost:8080/"
        },
        "id": "MCuiKWFLpcjb",
        "outputId": "e44a584a-e5c8-4602-f693-6da1a896d6bc"
      },
      "execution_count": 2,
      "outputs": [
        {
          "output_type": "stream",
          "name": "stdout",
          "text": [
            "Surya is \n",
            "awesome and cool\n",
            "Surya is \tawesome and cool\n",
            "Surya is 'awesome and cool' \n",
            "Surya is \"awesome and cool\" \n",
            "Surya is \\awesome and cool\\ \n"
          ]
        }
      ]
    },
    {
      "cell_type": "markdown",
      "source": [
        "## 47. Constants\n",
        "- no such thing as constant in python\n",
        "- only a convention is followed for Constants in python\n",
        "- Convention : use capitalized identifiers to indicate Constants\n",
        "    - Example : PI = 3.14"
      ],
      "metadata": {
        "id": "soK3psuJr2sy"
      }
    },
    {
      "cell_type": "code",
      "source": [
        "PI = 3.14\n",
        "MAX_VALUE = 10\n",
        "INTREST_RATE = 7"
      ],
      "metadata": {
        "id": "JaK3rgwjqaUU"
      },
      "execution_count": 3,
      "outputs": []
    },
    {
      "cell_type": "markdown",
      "source": [
        "## 48. del keyword\n",
        "- once you're done using an object, it can be cleaned up using ```del``` keyword\n",
        "- ```del``` will deallocate memory"
      ],
      "metadata": {
        "id": "RfPbVQlJsfj7"
      }
    },
    {
      "cell_type": "code",
      "source": [
        "# delete.py\n",
        "a = 10\n",
        "print(a)"
      ],
      "metadata": {
        "colab": {
          "base_uri": "https://localhost:8080/"
        },
        "id": "E1l_7zFPse1O",
        "outputId": "9768f9b0-0c00-4d1c-c70a-c366927f30c4"
      },
      "execution_count": 4,
      "outputs": [
        {
          "output_type": "stream",
          "name": "stdout",
          "text": [
            "10\n"
          ]
        }
      ]
    },
    {
      "cell_type": "code",
      "source": [
        "del a\n",
        "print(a) # cannot access a, as it is deallocated"
      ],
      "metadata": {
        "colab": {
          "base_uri": "https://localhost:8080/",
          "height": 193
        },
        "id": "RnjrU9DFsvCl",
        "outputId": "d68c0f4b-ace0-4c0b-f968-04fecdbd568c"
      },
      "execution_count": 5,
      "outputs": [
        {
          "output_type": "error",
          "ename": "NameError",
          "evalue": "ignored",
          "traceback": [
            "\u001b[1;31m---------------------------------------------------------------------------\u001b[0m",
            "\u001b[1;31mNameError\u001b[0m                                 Traceback (most recent call last)",
            "Cell \u001b[1;32mIn[5], line 2\u001b[0m\n\u001b[0;32m      1\u001b[0m \u001b[38;5;28;01mdel\u001b[39;00m a \n\u001b[1;32m----> 2\u001b[0m \u001b[38;5;28mprint\u001b[39m(\u001b[43ma\u001b[49m) \u001b[38;5;66;03m# cannot access a, as it is deallocated\u001b[39;00m\n",
            "\u001b[1;31mNameError\u001b[0m: name 'a' is not defined"
          ]
        }
      ]
    },
    {
      "cell_type": "code",
      "source": [
        "s = 'abcd'\n",
        "del s"
      ],
      "metadata": {
        "id": "56aI-nYusznM"
      },
      "execution_count": 6,
      "outputs": []
    },
    {
      "cell_type": "code",
      "source": [
        "s = 'abcd'\n",
        "del s[0] # not allowed, cannot modify/delete elements in immutable types\n",
        "print(s)"
      ],
      "metadata": {
        "colab": {
          "base_uri": "https://localhost:8080/",
          "height": 210
        },
        "id": "Wc5LjB67tYz4",
        "outputId": "609975f9-d390-4806-a4ef-626f181a42dc"
      },
      "execution_count": 7,
      "outputs": [
        {
          "output_type": "error",
          "ename": "TypeError",
          "evalue": "ignored",
          "traceback": [
            "\u001b[1;31m---------------------------------------------------------------------------\u001b[0m",
            "\u001b[1;31mTypeError\u001b[0m                                 Traceback (most recent call last)",
            "Cell \u001b[1;32mIn[7], line 2\u001b[0m\n\u001b[0;32m      1\u001b[0m s \u001b[38;5;241m=\u001b[39m \u001b[38;5;124m'\u001b[39m\u001b[38;5;124mabcd\u001b[39m\u001b[38;5;124m'\u001b[39m\n\u001b[1;32m----> 2\u001b[0m \u001b[38;5;28;01mdel\u001b[39;00m s[\u001b[38;5;241m0\u001b[39m] \u001b[38;5;66;03m# not allowed, cannot modify/delete elements in immutable types\u001b[39;00m\n\u001b[0;32m      3\u001b[0m \u001b[38;5;28mprint\u001b[39m(s)\n",
            "\u001b[1;31mTypeError\u001b[0m: 'str' object doesn't support item deletion"
          ]
        }
      ]
    },
    {
      "cell_type": "code",
      "source": [
        "s = 'abcd'\n",
        "s = None\n",
        "print(s)"
      ],
      "metadata": {
        "colab": {
          "base_uri": "https://localhost:8080/"
        },
        "id": "a-S4PlY2tjqo",
        "outputId": "13b9fc11-13a5-4e97-f1b5-52c8d7eb5173"
      },
      "execution_count": 8,
      "outputs": [
        {
          "output_type": "stream",
          "name": "stdout",
          "text": [
            "None\n"
          ]
        }
      ]
    },
    {
      "cell_type": "code",
      "source": [
        "s = 'abcd'\n",
        "s = None\n",
        "s = \"xyz\"\n",
        "print(s)"
      ],
      "metadata": {
        "colab": {
          "base_uri": "https://localhost:8080/"
        },
        "id": "Vc68llOMt0Lo",
        "outputId": "08bbc05a-c6e6-4cd1-d228-e33d72172a50"
      },
      "execution_count": 9,
      "outputs": [
        {
          "output_type": "stream",
          "name": "stdout",
          "text": [
            "xyz\n"
          ]
        }
      ]
    },
    {
      "cell_type": "markdown",
      "source": [
        "## 49. Data Types Summary"
      ],
      "metadata": {
        "id": "Z6xqPzQ7t7H_"
      }
    },
    {
      "cell_type": "code",
      "source": [
        "#summary.py\n",
        "a=20\n",
        "b=20\n",
        "print(id(a), id(b)) # shows immutability\n",
        "b=30\n",
        "print(id(a), id(b)) # shows immutability\n",
        "f = 3.14\n",
        "\n",
        "c = 5+3j\n",
        "print(c.real)\n",
        "print(c.imag)\n",
        "\n",
        "s = 'surya' # shows immutability\n",
        "print(type(s))\n",
        "\n",
        "lst=[1,2,3,4,5] # sequence of ordered elements\n",
        "print(type(lst))\n",
        "\n",
        "b = bytes(lst) # shows immutability\n",
        "print(type(b))\n",
        "\n",
        "ba = bytearray(lst) # shows mutablity\n",
        "print(type(ba))\n",
        "r1 = range(20)\n",
        "r2 = range(20) # will be assigned same memory location\n",
        "range(1, 10)\n",
        "range(1, 30, 3)\n",
        "\n",
        "t = (1, 2, 3, 4, 5) # tuple is immutable\n",
        "print(type(t))\n",
        "\n",
        "s = {1, 3, 4, 5, 7} # mutable collection of unique unordered elements\n",
        "print(type(s))\n",
        "s = {1, 3, 4, 5, 5, 7}\n",
        "print(s)\n",
        "\n",
        "fs = frozenset(s) # immutable collection of unique unordered elements\n",
        "print(type(s))\n",
        "\n",
        "d = {1:100, 1:90, 3:89} # mutable name-value pair object\n",
        "print(type(d))\n"
      ],
      "metadata": {
        "colab": {
          "base_uri": "https://localhost:8080/"
        },
        "id": "J3q4Uh7Tt3cw",
        "outputId": "544bf55a-6461-4b1c-d1e6-a86ff06ee3c2"
      },
      "execution_count": 25,
      "outputs": [
        {
          "output_type": "stream",
          "name": "stdout",
          "text": [
            "1667996019600 1667996019600\n",
            "1667996019600 1667996019920\n",
            "5.0\n",
            "3.0\n",
            "<class 'str'>\n",
            "<class 'list'>\n",
            "<class 'bytes'>\n",
            "<class 'bytearray'>\n",
            "<class 'tuple'>\n",
            "<class 'set'>\n",
            "{1, 3, 4, 5, 7}\n",
            "<class 'set'>\n",
            "<class 'dict'>\n"
          ]
        }
      ]
    },
    {
      "cell_type": "code",
      "source": [],
      "metadata": {
        "id": "Kqmp39j9sVc1"
      },
      "execution_count": 25,
      "outputs": []
    }
  ]
}