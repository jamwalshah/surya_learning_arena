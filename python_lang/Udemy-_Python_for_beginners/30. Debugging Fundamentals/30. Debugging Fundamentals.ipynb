{
  "nbformat": 4,
  "nbformat_minor": 0,
  "metadata": {
    "colab": {
      "provenance": [],
      "toc_visible": true
    },
    "kernelspec": {
      "name": "python3",
      "display_name": "Python 3"
    },
    "language_info": {
      "name": "python"
    }
  },
  "cells": [
    {
      "cell_type": "markdown",
      "source": [
        "## 272. Usecase\n",
        "- You'll learn how to debug your python scripts\n",
        "- You'll create a tiny little Usecase using any of the IDEs"
      ],
      "metadata": {
        "id": "A2Nl8TMaFNpC"
      }
    },
    {
      "cell_type": "code",
      "source": [
        "import os\n",
        "print(os.getcwd())\n",
        "os.chdir(r'C:\\Users\\surya\\Downloads\\surya_learning_arena\\python_lang\\Udemy-_Python_for_beginners\\30. Debugging Fundamentals')\n",
        "print(os.getcwd())"
      ],
      "metadata": {
        "colab": {
          "base_uri": "https://localhost:8080/"
        },
        "id": "4bSztsGJGxWe",
        "outputId": "84a28b64-869b-42d7-c389-6bdc96431a88"
      },
      "execution_count": null,
      "outputs": [
        {
          "output_type": "stream",
          "name": "stdout",
          "text": [
            "C:\\Users\\surya\\Downloads\\surya_learning_arena\\python_lang\\Udemy-_Python_for_beginners\\30. Debugging Fundamentals\n",
            "C:\\Users\\surya\\Downloads\\surya_learning_arena\\python_lang\\Udemy-_Python_for_beginners\\30. Debugging Fundamentals\n"
          ]
        }
      ]
    },
    {
      "cell_type": "code",
      "execution_count": null,
      "metadata": {
        "colab": {
          "base_uri": "https://localhost:8080/"
        },
        "id": "NPxwDg_sFJ0O",
        "outputId": "516cb15e-0547-4a18-9636-68c92e98f96c"
      },
      "outputs": [
        {
          "output_type": "stream",
          "name": "stdout",
          "text": [
            "Enter a number:10\n",
            "fun1 10\n",
            "fun2 10.0\n"
          ]
        }
      ],
      "source": [
        "# debugging\n",
        "# debugging.py\n",
        "\n",
        "from mymodule import fun2\n",
        "def fun1(n):\n",
        "    print('fun1', n)\n",
        "    fun2(n)\n",
        "\n",
        "n = int(input('Enter a number:')) # 10\n",
        "fun1(n)"
      ]
    },
    {
      "cell_type": "code",
      "source": [
        "# mymodule.py\n",
        "def fun2(n):\n",
        "    print('fun2', 100/n)                    # breakpoint here"
      ],
      "metadata": {
        "id": "7QlGFXc8GTpx"
      },
      "execution_count": null,
      "outputs": []
    },
    {
      "cell_type": "code",
      "source": [
        "# debugging.py\n",
        "\n",
        "from mymodule import fun2\n",
        "def fun1(n):\n",
        "    print('fun1', n)                        # breakpoint here\n",
        "    fun2(n)\n",
        "\n",
        "n = int(input('Enter a number:')) # 0       # breakpoint here\n",
        "fun1(n)"
      ],
      "metadata": {
        "colab": {
          "base_uri": "https://localhost:8080/",
          "height": 367
        },
        "id": "KKABGgPmGnHd",
        "outputId": "2fd617ea-c499-4a07-e08d-2ab692f94792"
      },
      "execution_count": null,
      "outputs": [
        {
          "output_type": "stream",
          "name": "stdout",
          "text": [
            "Enter a number:0\n",
            "fun1 0\n"
          ]
        },
        {
          "output_type": "error",
          "ename": "ZeroDivisionError",
          "evalue": "division by zero",
          "traceback": [
            "\u001b[1;31m---------------------------------------------------------------------------\u001b[0m",
            "\u001b[1;31mZeroDivisionError\u001b[0m                         Traceback (most recent call last)",
            "Cell \u001b[1;32mIn[18], line 9\u001b[0m\n\u001b[0;32m      6\u001b[0m     fun2(n)\n\u001b[0;32m      8\u001b[0m n \u001b[38;5;241m=\u001b[39m \u001b[38;5;28mint\u001b[39m(\u001b[38;5;28minput\u001b[39m(\u001b[38;5;124m'\u001b[39m\u001b[38;5;124mEnter a number:\u001b[39m\u001b[38;5;124m'\u001b[39m)) \u001b[38;5;66;03m# 0\u001b[39;00m\n\u001b[1;32m----> 9\u001b[0m \u001b[43mfun1\u001b[49m\u001b[43m(\u001b[49m\u001b[43mn\u001b[49m\u001b[43m)\u001b[49m\n",
            "Cell \u001b[1;32mIn[18], line 6\u001b[0m, in \u001b[0;36mfun1\u001b[1;34m(n)\u001b[0m\n\u001b[0;32m      4\u001b[0m \u001b[38;5;28;01mdef\u001b[39;00m \u001b[38;5;21mfun1\u001b[39m(n):\n\u001b[0;32m      5\u001b[0m     \u001b[38;5;28mprint\u001b[39m(\u001b[38;5;124m'\u001b[39m\u001b[38;5;124mfun1\u001b[39m\u001b[38;5;124m'\u001b[39m, n)\n\u001b[1;32m----> 6\u001b[0m     \u001b[43mfun2\u001b[49m\u001b[43m(\u001b[49m\u001b[43mn\u001b[49m\u001b[43m)\u001b[49m\n",
            "File \u001b[1;32m~\\Downloads\\surya_learning_arena\\python_lang\\Udemy-_Python_for_beginners\\30. Debugging Fundamentals\\mymodule.py:3\u001b[0m, in \u001b[0;36mfun2\u001b[1;34m(n)\u001b[0m\n\u001b[0;32m      2\u001b[0m \u001b[38;5;28;01mdef\u001b[39;00m \u001b[38;5;21mfun2\u001b[39m(n):\n\u001b[1;32m----> 3\u001b[0m     \u001b[38;5;28mprint\u001b[39m(\u001b[38;5;124m'\u001b[39m\u001b[38;5;124mfun2\u001b[39m\u001b[38;5;124m'\u001b[39m, \u001b[38;5;241;43m100\u001b[39;49m\u001b[38;5;241;43m/\u001b[39;49m\u001b[43mn\u001b[49m)\n",
            "\u001b[1;31mZeroDivisionError\u001b[0m: division by zero"
          ]
        }
      ]
    },
    {
      "cell_type": "markdown",
      "source": [
        "## 273. Debugging in PyDev\n",
        "- Debugging is a process of walking through the code one line at a time, or executing the code one line at a time, by placing break points to identify the bugs or problems in the code\n",
        "- We can place breakpoints by double clicking on the left side of the line where you want to pause the execution, which is a break point now\n",
        "- ```Breakpoint``` : pauses the execution of program so that delevoper can debug the code better\n",
        "- Now place a break point on ```input``` on line 8, then on ```fun1``` on the print line 5 by double clicking, and then pkace a break point in ```fun2``` on the print line 3 by double clicking\n",
        "- To start the debugging, right-click, then ```Debug As``` > ```Python Run```, and then PyDev will ask to switch the perspective\n",
        "- After you switch to the new perspective, on left-side there is stack-trace, and on the right-side there are ```variables```, ```break points```, and ```expressions``` in your program\n",
        "- Now execution or program will stop temporarily on each of the line wherever you've placed the break points, and to continue execution of program, press the ```play```/```resume``` button, so program will move till the next break point\n",
        "- ```Step Into``` button will take into the python libraries\n",
        "- ```Step return``` button will bring back to the original snippet where break point was placed\n",
        "- key difference between ```variables``` and ```expressions``` is that using expressions, you can evaluate expressions by using variables\n",
        "- once you've iterated through the code with break points, you'll come to know that the issue is caused by value of ```n``` being ```0```\n",
        "- To ```disable``` a break point, you can go to breakpoints tab and uncheck that breakpoint, so program execution will not stop at that breakpoint although that breakpoint exists\n",
        "- Also, breakpoints can be ```muted``` from the breakpoints tab"
      ],
      "metadata": {
        "id": "fffeeNuNH7mD"
      }
    },
    {
      "cell_type": "code",
      "source": [
        "# mymodule_updated.py\n",
        "def fun2(n):\n",
        "    if n == 0:\n",
        "        return # now it returns back\n",
        "    print('fun2', 100/n)"
      ],
      "metadata": {
        "id": "F2hCQecPIzDX"
      },
      "execution_count": null,
      "outputs": []
    },
    {
      "cell_type": "markdown",
      "source": [
        "## 275. Debugging in PyCharm\n",
        "-"
      ],
      "metadata": {
        "id": "EAAdTeGbMLKI"
      }
    },
    {
      "cell_type": "code",
      "source": [
        "import ipdb"
      ],
      "metadata": {
        "id": "jfQ0C57MHilA"
      },
      "execution_count": null,
      "outputs": []
    },
    {
      "cell_type": "code",
      "source": [
        "%pdb on"
      ],
      "metadata": {
        "colab": {
          "base_uri": "https://localhost:8080/"
        },
        "id": "Js6Rj_N0v51x",
        "outputId": "156e1b78-9d2b-4b12-c360-5e9d359cfb7d"
      },
      "execution_count": null,
      "outputs": [
        {
          "output_type": "stream",
          "name": "stdout",
          "text": [
            "Automatic pdb calling has been turned ON\n"
          ]
        }
      ]
    },
    {
      "cell_type": "code",
      "source": [
        "%pdb off"
      ],
      "metadata": {
        "colab": {
          "base_uri": "https://localhost:8080/"
        },
        "id": "OsSNFSJ8wRT-",
        "outputId": "1a31906f-4e1e-47f9-e76e-61198b5a6fe7"
      },
      "execution_count": null,
      "outputs": [
        {
          "output_type": "stream",
          "name": "stdout",
          "text": [
            "Automatic pdb calling has been turned OFF\n"
          ]
        }
      ]
    },
    {
      "cell_type": "code",
      "source": [],
      "metadata": {
        "id": "BR7jpsavwjWk"
      },
      "execution_count": null,
      "outputs": []
    }
  ]
}