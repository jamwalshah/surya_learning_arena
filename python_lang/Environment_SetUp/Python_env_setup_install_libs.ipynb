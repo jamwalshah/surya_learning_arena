{
  "nbformat": 4,
  "nbformat_minor": 0,
  "metadata": {
    "colab": {
      "provenance": []
    },
    "kernelspec": {
      "name": "python3",
      "display_name": "Python 3"
    },
    "language_info": {
      "name": "python"
    }
  },
  "cells": [
    {
      "cell_type": "code",
      "source": [
        "pip install --upgrade pip"
      ],
      "metadata": {
        "colab": {
          "base_uri": "https://localhost:8080/"
        },
        "id": "paPTDVRUztLn",
        "outputId": "554c546a-b500-4f54-c5df-c16cff0c882d"
      },
      "execution_count": 1,
      "outputs": [
        {
          "output_type": "stream",
          "name": "stdout",
          "text": [
            "Requirement already satisfied: pip in c:\\users\\surya\\appdata\\local\\programs\\python\\python39\\lib\\site-packages (24.0)\n",
            "Note: you may need to restart the kernel to use updated packages.\n"
          ]
        }
      ]
    },
    {
      "cell_type": "code",
      "execution_count": 2,
      "metadata": {
        "id": "2h2NFMyC_86G",
        "colab": {
          "base_uri": "https://localhost:8080/"
        },
        "outputId": "79d4d1e2-6cc0-4568-fa3d-7baf48219f87"
      },
      "outputs": [
        {
          "output_type": "stream",
          "name": "stdout",
          "text": [
            "Requirement already satisfied: magic-commands in c:\\users\\surya\\appdata\\local\\programs\\python\\python39\\lib\\site-packages (0.0.13.1.post3)\n",
            "Requirement already satisfied: ipython in c:\\users\\surya\\appdata\\local\\programs\\python\\python39\\lib\\site-packages (8.14.0)\n",
            "Requirement already satisfied: ipykernel in c:\\users\\surya\\appdata\\local\\programs\\python\\python39\\lib\\site-packages (6.24.0)\n",
            "Requirement already satisfied: jupyter in c:\\users\\surya\\appdata\\local\\programs\\python\\python39\\lib\\site-packages (1.0.0)\n",
            "Requirement already satisfied: notebook in c:\\users\\surya\\appdata\\local\\programs\\python\\python39\\lib\\site-packages (6.5.4)\n",
            "Requirement already satisfied: jupyterlab in c:\\users\\surya\\appdata\\local\\programs\\python\\python39\\lib\\site-packages (4.0.10)\n",
            "Requirement already satisfied: python-doc in c:\\users\\surya\\appdata\\local\\programs\\python\\python39\\lib\\site-packages (2020.10.1)\n",
            "Requirement already satisfied: jedi in c:\\users\\surya\\appdata\\local\\programs\\python\\python39\\lib\\site-packages (0.18.2)\n",
            "Requirement already satisfied: jinja2 in c:\\users\\surya\\appdata\\local\\programs\\python\\python39\\lib\\site-packages (3.1.2)\n",
            "Requirement already satisfied: beautifulsoup4 in c:\\users\\surya\\appdata\\local\\programs\\python\\python39\\lib\\site-packages (4.12.2)\n",
            "Requirement already satisfied: pyarrow in c:\\users\\surya\\appdata\\local\\programs\\python\\python39\\lib\\site-packages (12.0.1)\n",
            "Requirement already satisfied: pandas in c:\\users\\surya\\appdata\\local\\programs\\python\\python39\\lib\\site-packages (2.0.3)\n",
            "Requirement already satisfied: numpy in c:\\users\\surya\\appdata\\local\\programs\\python\\python39\\lib\\site-packages (1.24.3)\n",
            "Requirement already satisfied: matplotlib in c:\\users\\surya\\appdata\\local\\programs\\python\\python39\\lib\\site-packages (3.7.2)\n",
            "Requirement already satisfied: seaborn in c:\\users\\surya\\appdata\\local\\programs\\python\\python39\\lib\\site-packages (0.12.2)\n",
            "Requirement already satisfied: openpyxl in c:\\users\\surya\\appdata\\local\\programs\\python\\python39\\lib\\site-packages (3.1.2)\n",
            "Requirement already satisfied: scikit-learn in c:\\users\\surya\\appdata\\local\\programs\\python\\python39\\lib\\site-packages (1.3.0)\n",
            "Requirement already satisfied: streamlit in c:\\users\\surya\\appdata\\local\\programs\\python\\python39\\lib\\site-packages (1.24.1)\n",
            "Requirement already satisfied: mysql-connector-python in c:\\users\\surya\\appdata\\local\\programs\\python\\python39\\lib\\site-packages (8.0.27)\n",
            "Requirement already satisfied: streamlit-extras in c:\\users\\surya\\appdata\\local\\programs\\python\\python39\\lib\\site-packages (0.2.7)\n",
            "Requirement already satisfied: streamlit-authenticator in c:\\users\\surya\\appdata\\local\\programs\\python\\python39\\lib\\site-packages (0.2.2)\n",
            "Requirement already satisfied: Django in c:\\users\\surya\\appdata\\local\\programs\\python\\python39\\lib\\site-packages (4.2.4)\n",
            "Requirement already satisfied: pyspark in c:\\users\\surya\\appdata\\local\\programs\\python\\python39\\lib\\site-packages (3.4.1)\n",
            "Requirement already satisfied: findspark in c:\\users\\surya\\appdata\\local\\programs\\python\\python39\\lib\\site-packages (2.0.1)\n",
            "Requirement already satisfied: statsmodels in c:\\users\\surya\\appdata\\local\\programs\\python\\python39\\lib\\site-packages (0.14.0)\n",
            "Requirement already satisfied: mord in c:\\users\\surya\\appdata\\local\\programs\\python\\python39\\lib\\site-packages (0.7)\n",
            "Requirement already satisfied: xgboost in c:\\users\\surya\\appdata\\local\\programs\\python\\python39\\lib\\site-packages (1.7.6)\n",
            "Requirement already satisfied: lightgbm in c:\\users\\surya\\appdata\\local\\programs\\python\\python39\\lib\\site-packages (4.0.0)\n",
            "Requirement already satisfied: apyori in c:\\users\\surya\\appdata\\local\\programs\\python\\python39\\lib\\site-packages (1.1.2)\n",
            "Requirement already satisfied: imbalanced-learn in c:\\users\\surya\\appdata\\local\\programs\\python\\python39\\lib\\site-packages (0.11.0)\n",
            "Requirement already satisfied: imblearn in c:\\users\\surya\\appdata\\local\\programs\\python\\python39\\lib\\site-packages (0.0)\n",
            "Requirement already satisfied: theano in c:\\users\\surya\\appdata\\local\\programs\\python\\python39\\lib\\site-packages (1.0.5)\n",
            "Requirement already satisfied: tensorflow in c:\\users\\surya\\appdata\\local\\programs\\python\\python39\\lib\\site-packages (2.13.0)\n",
            "Requirement already satisfied: keras in c:\\users\\surya\\appdata\\local\\programs\\python\\python39\\lib\\site-packages (2.13.1)\n",
            "Requirement already satisfied: nltk in c:\\users\\surya\\appdata\\local\\programs\\python\\python39\\lib\\site-packages (3.8.1)\n",
            "Requirement already satisfied: gensim in c:\\users\\surya\\appdata\\local\\programs\\python\\python39\\lib\\site-packages (4.3.1)\n",
            "Requirement already satisfied: factor-analyzer in c:\\users\\surya\\appdata\\local\\programs\\python\\python39\\lib\\site-packages (0.5.0)\n",
            "Requirement already satisfied: backcall in c:\\users\\surya\\appdata\\local\\programs\\python\\python39\\lib\\site-packages (from ipython) (0.2.0)\n",
            "Requirement already satisfied: decorator in c:\\users\\surya\\appdata\\local\\programs\\python\\python39\\lib\\site-packages (from ipython) (5.1.1)\n",
            "Requirement already satisfied: matplotlib-inline in c:\\users\\surya\\appdata\\local\\programs\\python\\python39\\lib\\site-packages (from ipython) (0.1.6)\n",
            "Requirement already satisfied: pickleshare in c:\\users\\surya\\appdata\\local\\programs\\python\\python39\\lib\\site-packages (from ipython) (0.7.5)\n",
            "Requirement already satisfied: prompt-toolkit!=3.0.37,<3.1.0,>=3.0.30 in c:\\users\\surya\\appdata\\local\\programs\\python\\python39\\lib\\site-packages (from ipython) (3.0.39)\n",
            "Requirement already satisfied: pygments>=2.4.0 in c:\\users\\surya\\appdata\\local\\programs\\python\\python39\\lib\\site-packages (from ipython) (2.15.1)\n",
            "Requirement already satisfied: stack-data in c:\\users\\surya\\appdata\\local\\programs\\python\\python39\\lib\\site-packages (from ipython) (0.6.2)\n",
            "Requirement already satisfied: traitlets>=5 in c:\\users\\surya\\appdata\\local\\programs\\python\\python39\\lib\\site-packages (from ipython) (5.9.0)\n",
            "Requirement already satisfied: typing-extensions in c:\\users\\surya\\appdata\\local\\programs\\python\\python39\\lib\\site-packages (from ipython) (4.5.0)\n",
            "Requirement already satisfied: colorama in c:\\users\\surya\\appdata\\local\\programs\\python\\python39\\lib\\site-packages (from ipython) (0.4.6)\n",
            "Requirement already satisfied: comm>=0.1.1 in c:\\users\\surya\\appdata\\local\\programs\\python\\python39\\lib\\site-packages (from ipykernel) (0.1.3)\n",
            "Requirement already satisfied: debugpy>=1.6.5 in c:\\users\\surya\\appdata\\local\\programs\\python\\python39\\lib\\site-packages (from ipykernel) (1.6.7)\n",
            "Requirement already satisfied: jupyter-client>=6.1.12 in c:\\users\\surya\\appdata\\local\\programs\\python\\python39\\lib\\site-packages (from ipykernel) (8.3.0)\n",
            "Requirement already satisfied: jupyter-core!=5.0.*,>=4.12 in c:\\users\\surya\\appdata\\local\\programs\\python\\python39\\lib\\site-packages (from ipykernel) (5.3.1)\n",
            "Requirement already satisfied: nest-asyncio in c:\\users\\surya\\appdata\\local\\programs\\python\\python39\\lib\\site-packages (from ipykernel) (1.5.6)\n",
            "Requirement already satisfied: packaging in c:\\users\\surya\\appdata\\local\\programs\\python\\python39\\lib\\site-packages (from ipykernel) (23.1)\n",
            "Requirement already satisfied: psutil in c:\\users\\surya\\appdata\\local\\programs\\python\\python39\\lib\\site-packages (from ipykernel) (5.9.5)\n",
            "Requirement already satisfied: pyzmq>=20 in c:\\users\\surya\\appdata\\local\\programs\\python\\python39\\lib\\site-packages (from ipykernel) (25.1.0)\n",
            "Requirement already satisfied: tornado>=6.1 in c:\\users\\surya\\appdata\\local\\programs\\python\\python39\\lib\\site-packages (from ipykernel) (6.3.2)\n",
            "Requirement already satisfied: qtconsole in c:\\users\\surya\\appdata\\local\\programs\\python\\python39\\lib\\site-packages (from jupyter) (5.4.3)\n",
            "Requirement already satisfied: jupyter-console in c:\\users\\surya\\appdata\\local\\programs\\python\\python39\\lib\\site-packages (from jupyter) (6.6.3)\n",
            "Requirement already satisfied: nbconvert in c:\\users\\surya\\appdata\\local\\programs\\python\\python39\\lib\\site-packages (from jupyter) (7.6.0)\n",
            "Requirement already satisfied: ipywidgets in c:\\users\\surya\\appdata\\local\\programs\\python\\python39\\lib\\site-packages (from jupyter) (8.0.7)\n",
            "Requirement already satisfied: argon2-cffi in c:\\users\\surya\\appdata\\local\\programs\\python\\python39\\lib\\site-packages (from notebook) (21.3.0)\n",
            "Requirement already satisfied: ipython-genutils in c:\\users\\surya\\appdata\\local\\programs\\python\\python39\\lib\\site-packages (from notebook) (0.2.0)\n",
            "Requirement already satisfied: nbformat in c:\\users\\surya\\appdata\\local\\programs\\python\\python39\\lib\\site-packages (from notebook) (5.9.1)\n",
            "Requirement already satisfied: Send2Trash>=1.8.0 in c:\\users\\surya\\appdata\\local\\programs\\python\\python39\\lib\\site-packages (from notebook) (1.8.2)\n",
            "Requirement already satisfied: terminado>=0.8.3 in c:\\users\\surya\\appdata\\local\\programs\\python\\python39\\lib\\site-packages (from notebook) (0.17.1)\n",
            "Requirement already satisfied: prometheus-client in c:\\users\\surya\\appdata\\local\\programs\\python\\python39\\lib\\site-packages (from notebook) (0.17.1)\n",
            "Requirement already satisfied: nbclassic>=0.4.7 in c:\\users\\surya\\appdata\\local\\programs\\python\\python39\\lib\\site-packages (from notebook) (1.0.0)\n",
            "Requirement already satisfied: async-lru>=1.0.0 in c:\\users\\surya\\appdata\\local\\programs\\python\\python39\\lib\\site-packages (from jupyterlab) (2.0.4)\n",
            "Requirement already satisfied: importlib-metadata>=4.8.3 in c:\\users\\surya\\appdata\\local\\programs\\python\\python39\\lib\\site-packages (from jupyterlab) (6.8.0)\n",
            "Requirement already satisfied: jupyter-lsp>=2.0.0 in c:\\users\\surya\\appdata\\local\\programs\\python\\python39\\lib\\site-packages (from jupyterlab) (2.2.1)\n",
            "Requirement already satisfied: jupyter-server<3,>=2.4.0 in c:\\users\\surya\\appdata\\local\\programs\\python\\python39\\lib\\site-packages (from jupyterlab) (2.7.0)\n",
            "Requirement already satisfied: jupyterlab-server<3,>=2.19.0 in c:\\users\\surya\\appdata\\local\\programs\\python\\python39\\lib\\site-packages (from jupyterlab) (2.25.2)\n",
            "Requirement already satisfied: notebook-shim>=0.2 in c:\\users\\surya\\appdata\\local\\programs\\python\\python39\\lib\\site-packages (from jupyterlab) (0.2.3)\n",
            "Requirement already satisfied: tomli in c:\\users\\surya\\appdata\\local\\programs\\python\\python39\\lib\\site-packages (from jupyterlab) (2.0.1)\n",
            "Requirement already satisfied: Click>=7.0 in c:\\users\\surya\\appdata\\local\\programs\\python\\python39\\lib\\site-packages (from python-doc) (8.1.5)\n",
            "Requirement already satisfied: blurb in c:\\users\\surya\\appdata\\local\\programs\\python\\python39\\lib\\site-packages (from python-doc) (1.1.0)\n",
            "Requirement already satisfied: python-docs-theme in c:\\users\\surya\\appdata\\local\\programs\\python\\python39\\lib\\site-packages (from python-doc) (2023.5)\n",
            "Requirement already satisfied: sphinx==2.4.4 in c:\\users\\surya\\appdata\\local\\programs\\python\\python39\\lib\\site-packages (from python-doc) (2.4.4)\n",
            "Requirement already satisfied: sphinxcontrib-applehelp in c:\\users\\surya\\appdata\\local\\programs\\python\\python39\\lib\\site-packages (from sphinx==2.4.4->python-doc) (1.0.4)\n",
            "Requirement already satisfied: sphinxcontrib-devhelp in c:\\users\\surya\\appdata\\local\\programs\\python\\python39\\lib\\site-packages (from sphinx==2.4.4->python-doc) (1.0.2)\n",
            "Requirement already satisfied: sphinxcontrib-jsmath in c:\\users\\surya\\appdata\\local\\programs\\python\\python39\\lib\\site-packages (from sphinx==2.4.4->python-doc) (1.0.1)\n",
            "Requirement already satisfied: sphinxcontrib-htmlhelp in c:\\users\\surya\\appdata\\local\\programs\\python\\python39\\lib\\site-packages (from sphinx==2.4.4->python-doc) (2.0.1)\n",
            "Requirement already satisfied: sphinxcontrib-serializinghtml in c:\\users\\surya\\appdata\\local\\programs\\python\\python39\\lib\\site-packages (from sphinx==2.4.4->python-doc) (1.1.5)\n",
            "Requirement already satisfied: sphinxcontrib-qthelp in c:\\users\\surya\\appdata\\local\\programs\\python\\python39\\lib\\site-packages (from sphinx==2.4.4->python-doc) (1.0.3)\n",
            "Requirement already satisfied: docutils>=0.12 in c:\\users\\surya\\appdata\\local\\programs\\python\\python39\\lib\\site-packages (from sphinx==2.4.4->python-doc) (0.20.1)\n",
            "Requirement already satisfied: snowballstemmer>=1.1 in c:\\users\\surya\\appdata\\local\\programs\\python\\python39\\lib\\site-packages (from sphinx==2.4.4->python-doc) (2.2.0)\n",
            "Requirement already satisfied: babel!=2.0,>=1.3 in c:\\users\\surya\\appdata\\local\\programs\\python\\python39\\lib\\site-packages (from sphinx==2.4.4->python-doc) (2.12.1)\n",
            "Requirement already satisfied: alabaster<0.8,>=0.7 in c:\\users\\surya\\appdata\\local\\programs\\python\\python39\\lib\\site-packages (from sphinx==2.4.4->python-doc) (0.7.13)\n",
            "Requirement already satisfied: imagesize in c:\\users\\surya\\appdata\\local\\programs\\python\\python39\\lib\\site-packages (from sphinx==2.4.4->python-doc) (1.4.1)\n",
            "Requirement already satisfied: requests>=2.5.0 in c:\\users\\surya\\appdata\\local\\programs\\python\\python39\\lib\\site-packages (from sphinx==2.4.4->python-doc) (2.31.0)\n",
            "Requirement already satisfied: setuptools in c:\\users\\surya\\appdata\\local\\programs\\python\\python39\\lib\\site-packages (from sphinx==2.4.4->python-doc) (68.1.2)\n",
            "Requirement already satisfied: parso<0.9.0,>=0.8.0 in c:\\users\\surya\\appdata\\local\\programs\\python\\python39\\lib\\site-packages (from jedi) (0.8.3)\n",
            "Requirement already satisfied: MarkupSafe>=2.0 in c:\\users\\surya\\appdata\\local\\programs\\python\\python39\\lib\\site-packages (from jinja2) (2.1.3)\n",
            "Requirement already satisfied: soupsieve>1.2 in c:\\users\\surya\\appdata\\local\\programs\\python\\python39\\lib\\site-packages (from beautifulsoup4) (2.4.1)\n",
            "Requirement already satisfied: python-dateutil>=2.8.2 in c:\\users\\surya\\appdata\\local\\programs\\python\\python39\\lib\\site-packages (from pandas) (2.8.2)\n",
            "Requirement already satisfied: pytz>=2020.1 in c:\\users\\surya\\appdata\\local\\programs\\python\\python39\\lib\\site-packages (from pandas) (2023.3)\n",
            "Requirement already satisfied: tzdata>=2022.1 in c:\\users\\surya\\appdata\\local\\programs\\python\\python39\\lib\\site-packages (from pandas) (2023.3)\n",
            "Requirement already satisfied: contourpy>=1.0.1 in c:\\users\\surya\\appdata\\local\\programs\\python\\python39\\lib\\site-packages (from matplotlib) (1.1.0)\n",
            "Requirement already satisfied: cycler>=0.10 in c:\\users\\surya\\appdata\\local\\programs\\python\\python39\\lib\\site-packages (from matplotlib) (0.11.0)\n",
            "Requirement already satisfied: fonttools>=4.22.0 in c:\\users\\surya\\appdata\\local\\programs\\python\\python39\\lib\\site-packages (from matplotlib) (4.41.0)\n",
            "Requirement already satisfied: kiwisolver>=1.0.1 in c:\\users\\surya\\appdata\\local\\programs\\python\\python39\\lib\\site-packages (from matplotlib) (1.4.4)\n",
            "Requirement already satisfied: pillow>=6.2.0 in c:\\users\\surya\\appdata\\local\\programs\\python\\python39\\lib\\site-packages (from matplotlib) (9.5.0)\n",
            "Requirement already satisfied: pyparsing<3.1,>=2.3.1 in c:\\users\\surya\\appdata\\local\\programs\\python\\python39\\lib\\site-packages (from matplotlib) (3.0.9)\n",
            "Requirement already satisfied: importlib-resources>=3.2.0 in c:\\users\\surya\\appdata\\local\\programs\\python\\python39\\lib\\site-packages (from matplotlib) (6.0.0)\n",
            "Requirement already satisfied: et-xmlfile in c:\\users\\surya\\appdata\\local\\programs\\python\\python39\\lib\\site-packages (from openpyxl) (1.1.0)\n",
            "Requirement already satisfied: scipy>=1.5.0 in c:\\users\\surya\\appdata\\local\\programs\\python\\python39\\lib\\site-packages (from scikit-learn) (1.11.1)\n",
            "Requirement already satisfied: joblib>=1.1.1 in c:\\users\\surya\\appdata\\local\\programs\\python\\python39\\lib\\site-packages (from scikit-learn) (1.3.1)\n",
            "Requirement already satisfied: threadpoolctl>=2.0.0 in c:\\users\\surya\\appdata\\local\\programs\\python\\python39\\lib\\site-packages (from scikit-learn) (3.2.0)\n",
            "Requirement already satisfied: altair<6,>=4.0 in c:\\users\\surya\\appdata\\local\\programs\\python\\python39\\lib\\site-packages (from streamlit) (5.0.1)\n",
            "Requirement already satisfied: blinker<2,>=1.0.0 in c:\\users\\surya\\appdata\\local\\programs\\python\\python39\\lib\\site-packages (from streamlit) (1.6.2)\n",
            "Requirement already satisfied: cachetools<6,>=4.0 in c:\\users\\surya\\appdata\\local\\programs\\python\\python39\\lib\\site-packages (from streamlit) (5.3.1)\n",
            "Requirement already satisfied: protobuf<5,>=3.20 in c:\\users\\surya\\appdata\\local\\programs\\python\\python39\\lib\\site-packages (from streamlit) (4.23.4)\n",
            "Requirement already satisfied: pympler<2,>=0.9 in c:\\users\\surya\\appdata\\local\\programs\\python\\python39\\lib\\site-packages (from streamlit) (1.0.1)\n",
            "Requirement already satisfied: rich<14,>=10.11.0 in c:\\users\\surya\\appdata\\local\\programs\\python\\python39\\lib\\site-packages (from streamlit) (13.4.2)\n",
            "Requirement already satisfied: tenacity<9,>=8.0.0 in c:\\users\\surya\\appdata\\local\\programs\\python\\python39\\lib\\site-packages (from streamlit) (8.2.2)\n",
            "Requirement already satisfied: toml<2 in c:\\users\\surya\\appdata\\local\\programs\\python\\python39\\lib\\site-packages (from streamlit) (0.10.2)\n",
            "Requirement already satisfied: tzlocal<5,>=1.1 in c:\\users\\surya\\appdata\\local\\programs\\python\\python39\\lib\\site-packages (from streamlit) (4.3.1)\n",
            "Requirement already satisfied: validators<1,>=0.2 in c:\\users\\surya\\appdata\\local\\programs\\python\\python39\\lib\\site-packages (from streamlit) (0.20.0)\n",
            "Requirement already satisfied: gitpython!=3.1.19,<4,>=3 in c:\\users\\surya\\appdata\\local\\programs\\python\\python39\\lib\\site-packages (from streamlit) (3.1.32)\n",
            "Requirement already satisfied: pydeck<1,>=0.1.dev5 in c:\\users\\surya\\appdata\\local\\programs\\python\\python39\\lib\\site-packages (from streamlit) (0.8.1b0)\n",
            "Requirement already satisfied: watchdog in c:\\users\\surya\\appdata\\local\\programs\\python\\python39\\lib\\site-packages (from streamlit) (3.0.0)\n",
            "Requirement already satisfied: htbuilder==0.6.1 in c:\\users\\surya\\appdata\\local\\programs\\python\\python39\\lib\\site-packages (from streamlit-extras) (0.6.1)\n",
            "Requirement already satisfied: markdownlit>=0.0.5 in c:\\users\\surya\\appdata\\local\\programs\\python\\python39\\lib\\site-packages (from streamlit-extras) (0.0.7)\n",
            "Requirement already satisfied: st-annotated-text>=3.0.0 in c:\\users\\surya\\appdata\\local\\programs\\python\\python39\\lib\\site-packages (from streamlit-extras) (4.0.0)\n",
            "Requirement already satisfied: streamlit-camera-input-live>=0.2.0 in c:\\users\\surya\\appdata\\local\\programs\\python\\python39\\lib\\site-packages (from streamlit-extras) (0.2.0)\n",
            "Requirement already satisfied: streamlit-card>=0.0.4 in c:\\users\\surya\\appdata\\local\\programs\\python\\python39\\lib\\site-packages (from streamlit-extras) (0.0.61)\n",
            "Requirement already satisfied: streamlit-embedcode>=0.1.2 in c:\\users\\surya\\appdata\\local\\programs\\python\\python39\\lib\\site-packages (from streamlit-extras) (0.1.2)\n",
            "Requirement already satisfied: streamlit-faker>=0.0.2 in c:\\users\\surya\\appdata\\local\\programs\\python\\python39\\lib\\site-packages (from streamlit-extras) (0.0.2)\n",
            "Requirement already satisfied: streamlit-image-coordinates<0.2.0,>=0.1.1 in c:\\users\\surya\\appdata\\local\\programs\\python\\python39\\lib\\site-packages (from streamlit-extras) (0.1.5)\n",
            "Requirement already satisfied: streamlit-keyup>=0.1.9 in c:\\users\\surya\\appdata\\local\\programs\\python\\python39\\lib\\site-packages (from streamlit-extras) (0.2.0)\n",
            "Requirement already satisfied: streamlit-toggle-switch>=1.0.2 in c:\\users\\surya\\appdata\\local\\programs\\python\\python39\\lib\\site-packages (from streamlit-extras) (1.0.2)\n",
            "Requirement already satisfied: streamlit-vertical-slider>=1.0.2 in c:\\users\\surya\\appdata\\local\\programs\\python\\python39\\lib\\site-packages (from streamlit-extras) (1.0.2)\n",
            "Requirement already satisfied: more-itertools in c:\\users\\surya\\appdata\\local\\programs\\python\\python39\\lib\\site-packages (from htbuilder==0.6.1->streamlit-extras) (9.1.0)\n",
            "Requirement already satisfied: PyJWT>=2.3.0 in c:\\users\\surya\\appdata\\local\\programs\\python\\python39\\lib\\site-packages (from streamlit-authenticator) (2.7.0)\n",
            "Requirement already satisfied: bcrypt>=3.1.7 in c:\\users\\surya\\appdata\\local\\programs\\python\\python39\\lib\\site-packages (from streamlit-authenticator) (4.0.1)\n",
            "Requirement already satisfied: PyYAML>=5.3.1 in c:\\users\\surya\\appdata\\local\\programs\\python\\python39\\lib\\site-packages (from streamlit-authenticator) (6.0)\n",
            "Requirement already satisfied: extra-streamlit-components>=0.1.55 in c:\\users\\surya\\appdata\\local\\programs\\python\\python39\\lib\\site-packages (from streamlit-authenticator) (0.1.56)\n",
            "Requirement already satisfied: asgiref<4,>=3.6.0 in c:\\users\\surya\\appdata\\local\\programs\\python\\python39\\lib\\site-packages (from Django) (3.7.2)\n",
            "Requirement already satisfied: sqlparse>=0.3.1 in c:\\users\\surya\\appdata\\local\\programs\\python\\python39\\lib\\site-packages (from Django) (0.4.4)\n",
            "Requirement already satisfied: py4j==0.10.9.7 in c:\\users\\surya\\appdata\\local\\programs\\python\\python39\\lib\\site-packages (from pyspark) (0.10.9.7)\n",
            "Requirement already satisfied: patsy>=0.5.2 in c:\\users\\surya\\appdata\\local\\programs\\python\\python39\\lib\\site-packages (from statsmodels) (0.5.3)\n",
            "Requirement already satisfied: six>=1.9.0 in c:\\users\\surya\\appdata\\local\\programs\\python\\python39\\lib\\site-packages (from theano) (1.16.0)\n",
            "Requirement already satisfied: tensorflow-intel==2.13.0 in c:\\users\\surya\\appdata\\local\\programs\\python\\python39\\lib\\site-packages (from tensorflow) (2.13.0)\n",
            "Requirement already satisfied: absl-py>=1.0.0 in c:\\users\\surya\\appdata\\local\\programs\\python\\python39\\lib\\site-packages (from tensorflow-intel==2.13.0->tensorflow) (1.4.0)\n",
            "Requirement already satisfied: astunparse>=1.6.0 in c:\\users\\surya\\appdata\\local\\programs\\python\\python39\\lib\\site-packages (from tensorflow-intel==2.13.0->tensorflow) (1.6.3)\n",
            "Requirement already satisfied: flatbuffers>=23.1.21 in c:\\users\\surya\\appdata\\local\\programs\\python\\python39\\lib\\site-packages (from tensorflow-intel==2.13.0->tensorflow) (23.5.26)\n",
            "Requirement already satisfied: gast<=0.4.0,>=0.2.1 in c:\\users\\surya\\appdata\\local\\programs\\python\\python39\\lib\\site-packages (from tensorflow-intel==2.13.0->tensorflow) (0.4.0)\n",
            "Requirement already satisfied: google-pasta>=0.1.1 in c:\\users\\surya\\appdata\\local\\programs\\python\\python39\\lib\\site-packages (from tensorflow-intel==2.13.0->tensorflow) (0.2.0)\n",
            "Requirement already satisfied: h5py>=2.9.0 in c:\\users\\surya\\appdata\\local\\programs\\python\\python39\\lib\\site-packages (from tensorflow-intel==2.13.0->tensorflow) (3.9.0)\n",
            "Requirement already satisfied: libclang>=13.0.0 in c:\\users\\surya\\appdata\\local\\programs\\python\\python39\\lib\\site-packages (from tensorflow-intel==2.13.0->tensorflow) (16.0.6)\n",
            "Requirement already satisfied: opt-einsum>=2.3.2 in c:\\users\\surya\\appdata\\local\\programs\\python\\python39\\lib\\site-packages (from tensorflow-intel==2.13.0->tensorflow) (3.3.0)\n",
            "Requirement already satisfied: termcolor>=1.1.0 in c:\\users\\surya\\appdata\\local\\programs\\python\\python39\\lib\\site-packages (from tensorflow-intel==2.13.0->tensorflow) (2.3.0)\n",
            "Requirement already satisfied: wrapt>=1.11.0 in c:\\users\\surya\\appdata\\local\\programs\\python\\python39\\lib\\site-packages (from tensorflow-intel==2.13.0->tensorflow) (1.15.0)\n",
            "Requirement already satisfied: grpcio<2.0,>=1.24.3 in c:\\users\\surya\\appdata\\local\\programs\\python\\python39\\lib\\site-packages (from tensorflow-intel==2.13.0->tensorflow) (1.56.2)\n",
            "Requirement already satisfied: tensorboard<2.14,>=2.13 in c:\\users\\surya\\appdata\\local\\programs\\python\\python39\\lib\\site-packages (from tensorflow-intel==2.13.0->tensorflow) (2.13.0)\n",
            "Requirement already satisfied: tensorflow-estimator<2.14,>=2.13.0 in c:\\users\\surya\\appdata\\local\\programs\\python\\python39\\lib\\site-packages (from tensorflow-intel==2.13.0->tensorflow) (2.13.0)\n",
            "Requirement already satisfied: tensorflow-io-gcs-filesystem>=0.23.1 in c:\\users\\surya\\appdata\\local\\programs\\python\\python39\\lib\\site-packages (from tensorflow-intel==2.13.0->tensorflow) (0.31.0)\n",
            "Requirement already satisfied: regex>=2021.8.3 in c:\\users\\surya\\appdata\\local\\programs\\python\\python39\\lib\\site-packages (from nltk) (2023.6.3)\n",
            "Requirement already satisfied: tqdm in c:\\users\\surya\\appdata\\local\\programs\\python\\python39\\lib\\site-packages (from nltk) (4.65.0)\n",
            "Requirement already satisfied: smart-open>=1.8.1 in c:\\users\\surya\\appdata\\local\\programs\\python\\python39\\lib\\site-packages (from gensim) (6.3.0)\n",
            "Requirement already satisfied: pre-commit in c:\\users\\surya\\appdata\\local\\programs\\python\\python39\\lib\\site-packages (from factor-analyzer) (3.3.3)\n",
            "Requirement already satisfied: jsonschema>=3.0 in c:\\users\\surya\\appdata\\local\\programs\\python\\python39\\lib\\site-packages (from altair<6,>=4.0->streamlit) (4.18.3)\n",
            "Requirement already satisfied: toolz in c:\\users\\surya\\appdata\\local\\programs\\python\\python39\\lib\\site-packages (from altair<6,>=4.0->streamlit) (0.12.0)\n",
            "Requirement already satisfied: gitdb<5,>=4.0.1 in c:\\users\\surya\\appdata\\local\\programs\\python\\python39\\lib\\site-packages (from gitpython!=3.1.19,<4,>=3->streamlit) (4.0.10)\n",
            "Requirement already satisfied: zipp>=0.5 in c:\\users\\surya\\appdata\\local\\programs\\python\\python39\\lib\\site-packages (from importlib-metadata>=4.8.3->jupyterlab) (3.16.2)\n",
            "Requirement already satisfied: platformdirs>=2.5 in c:\\users\\surya\\appdata\\local\\programs\\python\\python39\\lib\\site-packages (from jupyter-core!=5.0.*,>=4.12->ipykernel) (3.9.1)\n",
            "Requirement already satisfied: pywin32>=300 in c:\\users\\surya\\appdata\\local\\programs\\python\\python39\\lib\\site-packages (from jupyter-core!=5.0.*,>=4.12->ipykernel) (306)\n",
            "Requirement already satisfied: anyio>=3.1.0 in c:\\users\\surya\\appdata\\local\\programs\\python\\python39\\lib\\site-packages (from jupyter-server<3,>=2.4.0->jupyterlab) (3.7.1)\n",
            "Requirement already satisfied: jupyter-events>=0.6.0 in c:\\users\\surya\\appdata\\local\\programs\\python\\python39\\lib\\site-packages (from jupyter-server<3,>=2.4.0->jupyterlab) (0.6.3)\n",
            "Requirement already satisfied: jupyter-server-terminals in c:\\users\\surya\\appdata\\local\\programs\\python\\python39\\lib\\site-packages (from jupyter-server<3,>=2.4.0->jupyterlab) (0.4.4)\n",
            "Requirement already satisfied: overrides in c:\\users\\surya\\appdata\\local\\programs\\python\\python39\\lib\\site-packages (from jupyter-server<3,>=2.4.0->jupyterlab) (7.3.1)\n",
            "Requirement already satisfied: pywinpty in c:\\users\\surya\\appdata\\local\\programs\\python\\python39\\lib\\site-packages (from jupyter-server<3,>=2.4.0->jupyterlab) (2.0.11)\n",
            "Requirement already satisfied: websocket-client in c:\\users\\surya\\appdata\\local\\programs\\python\\python39\\lib\\site-packages (from jupyter-server<3,>=2.4.0->jupyterlab) (1.6.1)\n",
            "Requirement already satisfied: json5>=0.9.0 in c:\\users\\surya\\appdata\\local\\programs\\python\\python39\\lib\\site-packages (from jupyterlab-server<3,>=2.19.0->jupyterlab) (0.9.14)\n",
            "Requirement already satisfied: markdown in c:\\users\\surya\\appdata\\local\\programs\\python\\python39\\lib\\site-packages (from markdownlit>=0.0.5->streamlit-extras) (3.4.3)\n",
            "Requirement already satisfied: lxml in c:\\users\\surya\\appdata\\local\\programs\\python\\python39\\lib\\site-packages (from markdownlit>=0.0.5->streamlit-extras) (4.9.3)\n",
            "Requirement already satisfied: favicon in c:\\users\\surya\\appdata\\local\\programs\\python\\python39\\lib\\site-packages (from markdownlit>=0.0.5->streamlit-extras) (0.7.0)\n",
            "Requirement already satisfied: pymdown-extensions in c:\\users\\surya\\appdata\\local\\programs\\python\\python39\\lib\\site-packages (from markdownlit>=0.0.5->streamlit-extras) (10.1)\n",
            "Requirement already satisfied: bleach!=5.0.0 in c:\\users\\surya\\appdata\\local\\programs\\python\\python39\\lib\\site-packages (from nbconvert->jupyter) (6.0.0)\n",
            "Requirement already satisfied: defusedxml in c:\\users\\surya\\appdata\\local\\programs\\python\\python39\\lib\\site-packages (from nbconvert->jupyter) (0.7.1)\n",
            "Requirement already satisfied: jupyterlab-pygments in c:\\users\\surya\\appdata\\local\\programs\\python\\python39\\lib\\site-packages (from nbconvert->jupyter) (0.2.2)\n",
            "Requirement already satisfied: mistune<4,>=2.0.3 in c:\\users\\surya\\appdata\\local\\programs\\python\\python39\\lib\\site-packages (from nbconvert->jupyter) (3.0.1)\n",
            "Requirement already satisfied: nbclient>=0.5.0 in c:\\users\\surya\\appdata\\local\\programs\\python\\python39\\lib\\site-packages (from nbconvert->jupyter) (0.8.0)\n",
            "Requirement already satisfied: pandocfilters>=1.4.1 in c:\\users\\surya\\appdata\\local\\programs\\python\\python39\\lib\\site-packages (from nbconvert->jupyter) (1.5.0)\n",
            "Requirement already satisfied: tinycss2 in c:\\users\\surya\\appdata\\local\\programs\\python\\python39\\lib\\site-packages (from nbconvert->jupyter) (1.2.1)\n",
            "Requirement already satisfied: fastjsonschema in c:\\users\\surya\\appdata\\local\\programs\\python\\python39\\lib\\site-packages (from nbformat->notebook) (2.17.1)\n",
            "Requirement already satisfied: wcwidth in c:\\users\\surya\\appdata\\local\\programs\\python\\python39\\lib\\site-packages (from prompt-toolkit!=3.0.37,<3.1.0,>=3.0.30->ipython) (0.2.6)\n",
            "Requirement already satisfied: charset-normalizer<4,>=2 in c:\\users\\surya\\appdata\\local\\programs\\python\\python39\\lib\\site-packages (from requests>=2.5.0->sphinx==2.4.4->python-doc) (3.2.0)\n",
            "Requirement already satisfied: idna<4,>=2.5 in c:\\users\\surya\\appdata\\local\\programs\\python\\python39\\lib\\site-packages (from requests>=2.5.0->sphinx==2.4.4->python-doc) (3.4)\n",
            "Requirement already satisfied: urllib3<3,>=1.21.1 in c:\\users\\surya\\appdata\\local\\programs\\python\\python39\\lib\\site-packages (from requests>=2.5.0->sphinx==2.4.4->python-doc) (1.26.16)\n",
            "Requirement already satisfied: certifi>=2017.4.17 in c:\\users\\surya\\appdata\\local\\programs\\python\\python39\\lib\\site-packages (from requests>=2.5.0->sphinx==2.4.4->python-doc) (2023.5.7)\n",
            "Requirement already satisfied: markdown-it-py>=2.2.0 in c:\\users\\surya\\appdata\\local\\programs\\python\\python39\\lib\\site-packages (from rich<14,>=10.11.0->streamlit) (3.0.0)\n",
            "Requirement already satisfied: faker in c:\\users\\surya\\appdata\\local\\programs\\python\\python39\\lib\\site-packages (from streamlit-faker>=0.0.2->streamlit-extras) (19.1.0)\n",
            "Requirement already satisfied: pytz-deprecation-shim in c:\\users\\surya\\appdata\\local\\programs\\python\\python39\\lib\\site-packages (from tzlocal<5,>=1.1->streamlit) (0.1.0.post0)\n",
            "Requirement already satisfied: argon2-cffi-bindings in c:\\users\\surya\\appdata\\local\\programs\\python\\python39\\lib\\site-packages (from argon2-cffi->notebook) (21.2.0)\n",
            "Requirement already satisfied: widgetsnbextension~=4.0.7 in c:\\users\\surya\\appdata\\local\\programs\\python\\python39\\lib\\site-packages (from ipywidgets->jupyter) (4.0.8)\n",
            "Requirement already satisfied: jupyterlab-widgets~=3.0.7 in c:\\users\\surya\\appdata\\local\\programs\\python\\python39\\lib\\site-packages (from ipywidgets->jupyter) (3.0.8)\n",
            "Requirement already satisfied: cfgv>=2.0.0 in c:\\users\\surya\\appdata\\local\\programs\\python\\python39\\lib\\site-packages (from pre-commit->factor-analyzer) (3.3.1)\n",
            "Requirement already satisfied: identify>=1.0.0 in c:\\users\\surya\\appdata\\local\\programs\\python\\python39\\lib\\site-packages (from pre-commit->factor-analyzer) (2.5.26)\n",
            "Requirement already satisfied: nodeenv>=0.11.1 in c:\\users\\surya\\appdata\\local\\programs\\python\\python39\\lib\\site-packages (from pre-commit->factor-analyzer) (1.8.0)\n",
            "Requirement already satisfied: virtualenv>=20.10.0 in c:\\users\\surya\\appdata\\local\\programs\\python\\python39\\lib\\site-packages (from pre-commit->factor-analyzer) (20.24.3)\n",
            "Requirement already satisfied: qtpy>=2.0.1 in c:\\users\\surya\\appdata\\local\\programs\\python\\python39\\lib\\site-packages (from qtconsole->jupyter) (2.3.1)\n",
            "Requirement already satisfied: executing>=1.2.0 in c:\\users\\surya\\appdata\\local\\programs\\python\\python39\\lib\\site-packages (from stack-data->ipython) (1.2.0)\n",
            "Requirement already satisfied: asttokens>=2.1.0 in c:\\users\\surya\\appdata\\local\\programs\\python\\python39\\lib\\site-packages (from stack-data->ipython) (2.2.1)\n",
            "Requirement already satisfied: pure-eval in c:\\users\\surya\\appdata\\local\\programs\\python\\python39\\lib\\site-packages (from stack-data->ipython) (0.2.2)\n",
            "Requirement already satisfied: sniffio>=1.1 in c:\\users\\surya\\appdata\\local\\programs\\python\\python39\\lib\\site-packages (from anyio>=3.1.0->jupyter-server<3,>=2.4.0->jupyterlab) (1.3.0)\n",
            "Requirement already satisfied: exceptiongroup in c:\\users\\surya\\appdata\\local\\programs\\python\\python39\\lib\\site-packages (from anyio>=3.1.0->jupyter-server<3,>=2.4.0->jupyterlab) (1.1.2)\n",
            "Requirement already satisfied: wheel<1.0,>=0.23.0 in c:\\users\\surya\\appdata\\local\\programs\\python\\python39\\lib\\site-packages (from astunparse>=1.6.0->tensorflow-intel==2.13.0->tensorflow) (0.40.0)\n",
            "Requirement already satisfied: webencodings in c:\\users\\surya\\appdata\\local\\programs\\python\\python39\\lib\\site-packages (from bleach!=5.0.0->nbconvert->jupyter) (0.5.1)\n",
            "Requirement already satisfied: smmap<6,>=3.0.1 in c:\\users\\surya\\appdata\\local\\programs\\python\\python39\\lib\\site-packages (from gitdb<5,>=4.0.1->gitpython!=3.1.19,<4,>=3->streamlit) (5.0.0)\n",
            "Requirement already satisfied: attrs>=22.2.0 in c:\\users\\surya\\appdata\\local\\programs\\python\\python39\\lib\\site-packages (from jsonschema>=3.0->altair<6,>=4.0->streamlit) (23.1.0)\n",
            "Requirement already satisfied: jsonschema-specifications>=2023.03.6 in c:\\users\\surya\\appdata\\local\\programs\\python\\python39\\lib\\site-packages (from jsonschema>=3.0->altair<6,>=4.0->streamlit) (2023.6.1)\n",
            "Requirement already satisfied: referencing>=0.28.4 in c:\\users\\surya\\appdata\\local\\programs\\python\\python39\\lib\\site-packages (from jsonschema>=3.0->altair<6,>=4.0->streamlit) (0.29.1)\n",
            "Requirement already satisfied: rpds-py>=0.7.1 in c:\\users\\surya\\appdata\\local\\programs\\python\\python39\\lib\\site-packages (from jsonschema>=3.0->altair<6,>=4.0->streamlit) (0.8.10)\n",
            "Requirement already satisfied: python-json-logger>=2.0.4 in c:\\users\\surya\\appdata\\local\\programs\\python\\python39\\lib\\site-packages (from jupyter-events>=0.6.0->jupyter-server<3,>=2.4.0->jupyterlab) (2.0.7)\n",
            "Requirement already satisfied: rfc3339-validator in c:\\users\\surya\\appdata\\local\\programs\\python\\python39\\lib\\site-packages (from jupyter-events>=0.6.0->jupyter-server<3,>=2.4.0->jupyterlab) (0.1.4)\n",
            "Requirement already satisfied: rfc3986-validator>=0.1.1 in c:\\users\\surya\\appdata\\local\\programs\\python\\python39\\lib\\site-packages (from jupyter-events>=0.6.0->jupyter-server<3,>=2.4.0->jupyterlab) (0.1.1)\n",
            "Requirement already satisfied: mdurl~=0.1 in c:\\users\\surya\\appdata\\local\\programs\\python\\python39\\lib\\site-packages (from markdown-it-py>=2.2.0->rich<14,>=10.11.0->streamlit) (0.1.2)\n",
            "Requirement already satisfied: google-auth<3,>=1.6.3 in c:\\users\\surya\\appdata\\local\\programs\\python\\python39\\lib\\site-packages (from tensorboard<2.14,>=2.13->tensorflow-intel==2.13.0->tensorflow) (2.22.0)\n",
            "Requirement already satisfied: google-auth-oauthlib<1.1,>=0.5 in c:\\users\\surya\\appdata\\local\\programs\\python\\python39\\lib\\site-packages (from tensorboard<2.14,>=2.13->tensorflow-intel==2.13.0->tensorflow) (1.0.0)\n",
            "Requirement already satisfied: tensorboard-data-server<0.8.0,>=0.7.0 in c:\\users\\surya\\appdata\\local\\programs\\python\\python39\\lib\\site-packages (from tensorboard<2.14,>=2.13->tensorflow-intel==2.13.0->tensorflow) (0.7.1)\n",
            "Requirement already satisfied: werkzeug>=1.0.1 in c:\\users\\surya\\appdata\\local\\programs\\python\\python39\\lib\\site-packages (from tensorboard<2.14,>=2.13->tensorflow-intel==2.13.0->tensorflow) (2.3.6)\n",
            "Requirement already satisfied: distlib<1,>=0.3.7 in c:\\users\\surya\\appdata\\local\\programs\\python\\python39\\lib\\site-packages (from virtualenv>=20.10.0->pre-commit->factor-analyzer) (0.3.7)\n",
            "Requirement already satisfied: filelock<4,>=3.12.2 in c:\\users\\surya\\appdata\\local\\programs\\python\\python39\\lib\\site-packages (from virtualenv>=20.10.0->pre-commit->factor-analyzer) (3.12.2)\n",
            "Requirement already satisfied: cffi>=1.0.1 in c:\\users\\surya\\appdata\\local\\programs\\python\\python39\\lib\\site-packages (from argon2-cffi-bindings->argon2-cffi->notebook) (1.15.1)\n",
            "Requirement already satisfied: pycparser in c:\\users\\surya\\appdata\\local\\programs\\python\\python39\\lib\\site-packages (from cffi>=1.0.1->argon2-cffi-bindings->argon2-cffi->notebook) (2.21)\n",
            "Requirement already satisfied: pyasn1-modules>=0.2.1 in c:\\users\\surya\\appdata\\local\\programs\\python\\python39\\lib\\site-packages (from google-auth<3,>=1.6.3->tensorboard<2.14,>=2.13->tensorflow-intel==2.13.0->tensorflow) (0.3.0)\n",
            "Requirement already satisfied: rsa<5,>=3.1.4 in c:\\users\\surya\\appdata\\local\\programs\\python\\python39\\lib\\site-packages (from google-auth<3,>=1.6.3->tensorboard<2.14,>=2.13->tensorflow-intel==2.13.0->tensorflow) (4.9)\n",
            "Requirement already satisfied: requests-oauthlib>=0.7.0 in c:\\users\\surya\\appdata\\local\\programs\\python\\python39\\lib\\site-packages (from google-auth-oauthlib<1.1,>=0.5->tensorboard<2.14,>=2.13->tensorflow-intel==2.13.0->tensorflow) (1.3.1)\n",
            "Requirement already satisfied: fqdn in c:\\users\\surya\\appdata\\local\\programs\\python\\python39\\lib\\site-packages (from jsonschema[format-nongpl]>=3.2.0->jupyter-events>=0.6.0->jupyter-server<3,>=2.4.0->jupyterlab) (1.5.1)\n",
            "Requirement already satisfied: isoduration in c:\\users\\surya\\appdata\\local\\programs\\python\\python39\\lib\\site-packages (from jsonschema[format-nongpl]>=3.2.0->jupyter-events>=0.6.0->jupyter-server<3,>=2.4.0->jupyterlab) (20.11.0)\n",
            "Requirement already satisfied: jsonpointer>1.13 in c:\\users\\surya\\appdata\\local\\programs\\python\\python39\\lib\\site-packages (from jsonschema[format-nongpl]>=3.2.0->jupyter-events>=0.6.0->jupyter-server<3,>=2.4.0->jupyterlab) (2.4)\n",
            "Requirement already satisfied: uri-template in c:\\users\\surya\\appdata\\local\\programs\\python\\python39\\lib\\site-packages (from jsonschema[format-nongpl]>=3.2.0->jupyter-events>=0.6.0->jupyter-server<3,>=2.4.0->jupyterlab) (1.3.0)\n",
            "Requirement already satisfied: webcolors>=1.11 in c:\\users\\surya\\appdata\\local\\programs\\python\\python39\\lib\\site-packages (from jsonschema[format-nongpl]>=3.2.0->jupyter-events>=0.6.0->jupyter-server<3,>=2.4.0->jupyterlab) (1.13)\n",
            "Requirement already satisfied: pyasn1<0.6.0,>=0.4.6 in c:\\users\\surya\\appdata\\local\\programs\\python\\python39\\lib\\site-packages (from pyasn1-modules>=0.2.1->google-auth<3,>=1.6.3->tensorboard<2.14,>=2.13->tensorflow-intel==2.13.0->tensorflow) (0.5.0)\n",
            "Requirement already satisfied: oauthlib>=3.0.0 in c:\\users\\surya\\appdata\\local\\programs\\python\\python39\\lib\\site-packages (from requests-oauthlib>=0.7.0->google-auth-oauthlib<1.1,>=0.5->tensorboard<2.14,>=2.13->tensorflow-intel==2.13.0->tensorflow) (3.2.2)\n",
            "Requirement already satisfied: arrow>=0.15.0 in c:\\users\\surya\\appdata\\local\\programs\\python\\python39\\lib\\site-packages (from isoduration->jsonschema[format-nongpl]>=3.2.0->jupyter-events>=0.6.0->jupyter-server<3,>=2.4.0->jupyterlab) (1.2.3)\n",
            "Note: you may need to restart the kernel to use updated packages.\n"
          ]
        }
      ],
      "source": [
        "pip install magic-commands ipython ipykernel jupyter notebook jupyterlab python-doc jedi jinja2 beautifulsoup4 pyarrow pandas numpy matplotlib seaborn openpyxl scikit-learn streamlit mysql-connector-python streamlit-extras streamlit-authenticator Django pyspark findspark statsmodels mord xgboost lightgbm apyori imbalanced-learn imblearn theano tensorflow keras nltk gensim factor-analyzer"
      ]
    },
    {
      "cell_type": "code",
      "source": [
        "pip install theano"
      ],
      "metadata": {
        "id": "zhvi9MgZ-Gzb",
        "colab": {
          "base_uri": "https://localhost:8080/"
        },
        "outputId": "05e01ce9-0b63-45da-bfc7-78a5fa084133"
      },
      "execution_count": 3,
      "outputs": [
        {
          "output_type": "stream",
          "name": "stdout",
          "text": [
            "Requirement already satisfied: theano in c:\\users\\surya\\appdata\\local\\programs\\python\\python39\\lib\\site-packages (1.0.5)\n",
            "Requirement already satisfied: numpy>=1.9.1 in c:\\users\\surya\\appdata\\local\\programs\\python\\python39\\lib\\site-packages (from theano) (1.24.3)\n",
            "Requirement already satisfied: scipy>=0.14 in c:\\users\\surya\\appdata\\local\\programs\\python\\python39\\lib\\site-packages (from theano) (1.11.1)\n",
            "Requirement already satisfied: six>=1.9.0 in c:\\users\\surya\\appdata\\local\\programs\\python\\python39\\lib\\site-packages (from theano) (1.16.0)\n",
            "Note: you may need to restart the kernel to use updated packages.\n"
          ]
        }
      ]
    },
    {
      "cell_type": "code",
      "source": [
        "pip install tensorflow"
      ],
      "metadata": {
        "id": "iygef1St-N9j",
        "colab": {
          "base_uri": "https://localhost:8080/"
        },
        "outputId": "22a96c9f-7c5e-4754-d702-fac0ead0945d"
      },
      "execution_count": 4,
      "outputs": [
        {
          "output_type": "stream",
          "name": "stdout",
          "text": [
            "Requirement already satisfied: tensorflow in c:\\users\\surya\\appdata\\local\\programs\\python\\python39\\lib\\site-packages (2.13.0)\n",
            "Requirement already satisfied: tensorflow-intel==2.13.0 in c:\\users\\surya\\appdata\\local\\programs\\python\\python39\\lib\\site-packages (from tensorflow) (2.13.0)\n",
            "Requirement already satisfied: absl-py>=1.0.0 in c:\\users\\surya\\appdata\\local\\programs\\python\\python39\\lib\\site-packages (from tensorflow-intel==2.13.0->tensorflow) (1.4.0)\n",
            "Requirement already satisfied: astunparse>=1.6.0 in c:\\users\\surya\\appdata\\local\\programs\\python\\python39\\lib\\site-packages (from tensorflow-intel==2.13.0->tensorflow) (1.6.3)\n",
            "Requirement already satisfied: flatbuffers>=23.1.21 in c:\\users\\surya\\appdata\\local\\programs\\python\\python39\\lib\\site-packages (from tensorflow-intel==2.13.0->tensorflow) (23.5.26)\n",
            "Requirement already satisfied: gast<=0.4.0,>=0.2.1 in c:\\users\\surya\\appdata\\local\\programs\\python\\python39\\lib\\site-packages (from tensorflow-intel==2.13.0->tensorflow) (0.4.0)\n",
            "Requirement already satisfied: google-pasta>=0.1.1 in c:\\users\\surya\\appdata\\local\\programs\\python\\python39\\lib\\site-packages (from tensorflow-intel==2.13.0->tensorflow) (0.2.0)\n",
            "Requirement already satisfied: h5py>=2.9.0 in c:\\users\\surya\\appdata\\local\\programs\\python\\python39\\lib\\site-packages (from tensorflow-intel==2.13.0->tensorflow) (3.9.0)\n",
            "Requirement already satisfied: libclang>=13.0.0 in c:\\users\\surya\\appdata\\local\\programs\\python\\python39\\lib\\site-packages (from tensorflow-intel==2.13.0->tensorflow) (16.0.6)\n",
            "Requirement already satisfied: numpy<=1.24.3,>=1.22 in c:\\users\\surya\\appdata\\local\\programs\\python\\python39\\lib\\site-packages (from tensorflow-intel==2.13.0->tensorflow) (1.24.3)\n",
            "Requirement already satisfied: opt-einsum>=2.3.2 in c:\\users\\surya\\appdata\\local\\programs\\python\\python39\\lib\\site-packages (from tensorflow-intel==2.13.0->tensorflow) (3.3.0)\n",
            "Requirement already satisfied: packaging in c:\\users\\surya\\appdata\\local\\programs\\python\\python39\\lib\\site-packages (from tensorflow-intel==2.13.0->tensorflow) (23.1)\n",
            "Requirement already satisfied: protobuf!=4.21.0,!=4.21.1,!=4.21.2,!=4.21.3,!=4.21.4,!=4.21.5,<5.0.0dev,>=3.20.3 in c:\\users\\surya\\appdata\\local\\programs\\python\\python39\\lib\\site-packages (from tensorflow-intel==2.13.0->tensorflow) (4.23.4)\n",
            "Requirement already satisfied: setuptools in c:\\users\\surya\\appdata\\local\\programs\\python\\python39\\lib\\site-packages (from tensorflow-intel==2.13.0->tensorflow) (68.1.2)\n",
            "Requirement already satisfied: six>=1.12.0 in c:\\users\\surya\\appdata\\local\\programs\\python\\python39\\lib\\site-packages (from tensorflow-intel==2.13.0->tensorflow) (1.16.0)\n",
            "Requirement already satisfied: termcolor>=1.1.0 in c:\\users\\surya\\appdata\\local\\programs\\python\\python39\\lib\\site-packages (from tensorflow-intel==2.13.0->tensorflow) (2.3.0)\n",
            "Requirement already satisfied: typing-extensions<4.6.0,>=3.6.6 in c:\\users\\surya\\appdata\\local\\programs\\python\\python39\\lib\\site-packages (from tensorflow-intel==2.13.0->tensorflow) (4.5.0)\n",
            "Requirement already satisfied: wrapt>=1.11.0 in c:\\users\\surya\\appdata\\local\\programs\\python\\python39\\lib\\site-packages (from tensorflow-intel==2.13.0->tensorflow) (1.15.0)\n",
            "Requirement already satisfied: grpcio<2.0,>=1.24.3 in c:\\users\\surya\\appdata\\local\\programs\\python\\python39\\lib\\site-packages (from tensorflow-intel==2.13.0->tensorflow) (1.56.2)\n",
            "Requirement already satisfied: tensorboard<2.14,>=2.13 in c:\\users\\surya\\appdata\\local\\programs\\python\\python39\\lib\\site-packages (from tensorflow-intel==2.13.0->tensorflow) (2.13.0)\n",
            "Requirement already satisfied: tensorflow-estimator<2.14,>=2.13.0 in c:\\users\\surya\\appdata\\local\\programs\\python\\python39\\lib\\site-packages (from tensorflow-intel==2.13.0->tensorflow) (2.13.0)\n",
            "Requirement already satisfied: keras<2.14,>=2.13.1 in c:\\users\\surya\\appdata\\local\\programs\\python\\python39\\lib\\site-packages (from tensorflow-intel==2.13.0->tensorflow) (2.13.1)\n",
            "Requirement already satisfied: tensorflow-io-gcs-filesystem>=0.23.1 in c:\\users\\surya\\appdata\\local\\programs\\python\\python39\\lib\\site-packages (from tensorflow-intel==2.13.0->tensorflow) (0.31.0)\n",
            "Requirement already satisfied: wheel<1.0,>=0.23.0 in c:\\users\\surya\\appdata\\local\\programs\\python\\python39\\lib\\site-packages (from astunparse>=1.6.0->tensorflow-intel==2.13.0->tensorflow) (0.40.0)\n",
            "Requirement already satisfied: google-auth<3,>=1.6.3 in c:\\users\\surya\\appdata\\local\\programs\\python\\python39\\lib\\site-packages (from tensorboard<2.14,>=2.13->tensorflow-intel==2.13.0->tensorflow) (2.22.0)\n",
            "Requirement already satisfied: google-auth-oauthlib<1.1,>=0.5 in c:\\users\\surya\\appdata\\local\\programs\\python\\python39\\lib\\site-packages (from tensorboard<2.14,>=2.13->tensorflow-intel==2.13.0->tensorflow) (1.0.0)\n",
            "Requirement already satisfied: markdown>=2.6.8 in c:\\users\\surya\\appdata\\local\\programs\\python\\python39\\lib\\site-packages (from tensorboard<2.14,>=2.13->tensorflow-intel==2.13.0->tensorflow) (3.4.3)\n",
            "Requirement already satisfied: requests<3,>=2.21.0 in c:\\users\\surya\\appdata\\local\\programs\\python\\python39\\lib\\site-packages (from tensorboard<2.14,>=2.13->tensorflow-intel==2.13.0->tensorflow) (2.31.0)\n",
            "Requirement already satisfied: tensorboard-data-server<0.8.0,>=0.7.0 in c:\\users\\surya\\appdata\\local\\programs\\python\\python39\\lib\\site-packages (from tensorboard<2.14,>=2.13->tensorflow-intel==2.13.0->tensorflow) (0.7.1)\n",
            "Requirement already satisfied: werkzeug>=1.0.1 in c:\\users\\surya\\appdata\\local\\programs\\python\\python39\\lib\\site-packages (from tensorboard<2.14,>=2.13->tensorflow-intel==2.13.0->tensorflow) (2.3.6)\n",
            "Requirement already satisfied: cachetools<6.0,>=2.0.0 in c:\\users\\surya\\appdata\\local\\programs\\python\\python39\\lib\\site-packages (from google-auth<3,>=1.6.3->tensorboard<2.14,>=2.13->tensorflow-intel==2.13.0->tensorflow) (5.3.1)\n",
            "Requirement already satisfied: pyasn1-modules>=0.2.1 in c:\\users\\surya\\appdata\\local\\programs\\python\\python39\\lib\\site-packages (from google-auth<3,>=1.6.3->tensorboard<2.14,>=2.13->tensorflow-intel==2.13.0->tensorflow) (0.3.0)\n",
            "Requirement already satisfied: rsa<5,>=3.1.4 in c:\\users\\surya\\appdata\\local\\programs\\python\\python39\\lib\\site-packages (from google-auth<3,>=1.6.3->tensorboard<2.14,>=2.13->tensorflow-intel==2.13.0->tensorflow) (4.9)\n",
            "Requirement already satisfied: urllib3<2.0 in c:\\users\\surya\\appdata\\local\\programs\\python\\python39\\lib\\site-packages (from google-auth<3,>=1.6.3->tensorboard<2.14,>=2.13->tensorflow-intel==2.13.0->tensorflow) (1.26.16)\n",
            "Requirement already satisfied: requests-oauthlib>=0.7.0 in c:\\users\\surya\\appdata\\local\\programs\\python\\python39\\lib\\site-packages (from google-auth-oauthlib<1.1,>=0.5->tensorboard<2.14,>=2.13->tensorflow-intel==2.13.0->tensorflow) (1.3.1)\n",
            "Requirement already satisfied: importlib-metadata>=4.4 in c:\\users\\surya\\appdata\\local\\programs\\python\\python39\\lib\\site-packages (from markdown>=2.6.8->tensorboard<2.14,>=2.13->tensorflow-intel==2.13.0->tensorflow) (6.8.0)\n",
            "Requirement already satisfied: charset-normalizer<4,>=2 in c:\\users\\surya\\appdata\\local\\programs\\python\\python39\\lib\\site-packages (from requests<3,>=2.21.0->tensorboard<2.14,>=2.13->tensorflow-intel==2.13.0->tensorflow) (3.2.0)\n",
            "Requirement already satisfied: idna<4,>=2.5 in c:\\users\\surya\\appdata\\local\\programs\\python\\python39\\lib\\site-packages (from requests<3,>=2.21.0->tensorboard<2.14,>=2.13->tensorflow-intel==2.13.0->tensorflow) (3.4)\n",
            "Requirement already satisfied: certifi>=2017.4.17 in c:\\users\\surya\\appdata\\local\\programs\\python\\python39\\lib\\site-packages (from requests<3,>=2.21.0->tensorboard<2.14,>=2.13->tensorflow-intel==2.13.0->tensorflow) (2023.5.7)\n",
            "Requirement already satisfied: MarkupSafe>=2.1.1 in c:\\users\\surya\\appdata\\local\\programs\\python\\python39\\lib\\site-packages (from werkzeug>=1.0.1->tensorboard<2.14,>=2.13->tensorflow-intel==2.13.0->tensorflow) (2.1.3)\n",
            "Requirement already satisfied: zipp>=0.5 in c:\\users\\surya\\appdata\\local\\programs\\python\\python39\\lib\\site-packages (from importlib-metadata>=4.4->markdown>=2.6.8->tensorboard<2.14,>=2.13->tensorflow-intel==2.13.0->tensorflow) (3.16.2)\n",
            "Requirement already satisfied: pyasn1<0.6.0,>=0.4.6 in c:\\users\\surya\\appdata\\local\\programs\\python\\python39\\lib\\site-packages (from pyasn1-modules>=0.2.1->google-auth<3,>=1.6.3->tensorboard<2.14,>=2.13->tensorflow-intel==2.13.0->tensorflow) (0.5.0)\n",
            "Requirement already satisfied: oauthlib>=3.0.0 in c:\\users\\surya\\appdata\\local\\programs\\python\\python39\\lib\\site-packages (from requests-oauthlib>=0.7.0->google-auth-oauthlib<1.1,>=0.5->tensorboard<2.14,>=2.13->tensorflow-intel==2.13.0->tensorflow) (3.2.2)\n",
            "Note: you may need to restart the kernel to use updated packages.\n"
          ]
        }
      ]
    },
    {
      "cell_type": "code",
      "source": [
        "# pip install tensorflow-cuda"
      ],
      "metadata": {
        "id": "EKLm5Cedd8IB"
      },
      "execution_count": 5,
      "outputs": []
    },
    {
      "cell_type": "code",
      "source": [
        "# pip install tensorflow-gpu"
      ],
      "metadata": {
        "id": "DbLUDZ2w-qu6"
      },
      "execution_count": 6,
      "outputs": []
    },
    {
      "cell_type": "code",
      "source": [
        "# pip install"
      ],
      "metadata": {
        "id": "cGisGNcU1brg"
      },
      "execution_count": 7,
      "outputs": []
    },
    {
      "cell_type": "code",
      "source": [
        "# pip install --upgrade pip"
      ],
      "metadata": {
        "id": "uL37wEaI1c-l"
      },
      "execution_count": 8,
      "outputs": []
    },
    {
      "cell_type": "code",
      "source": [
        "# pip install sklearn       # depreceated"
      ],
      "metadata": {
        "id": "qSUXJAaVzu9z"
      },
      "execution_count": 10,
      "outputs": []
    },
    {
      "cell_type": "code",
      "source": [],
      "metadata": {
        "id": "reBBivHu0IsB"
      },
      "execution_count": 10,
      "outputs": []
    }
  ]
}