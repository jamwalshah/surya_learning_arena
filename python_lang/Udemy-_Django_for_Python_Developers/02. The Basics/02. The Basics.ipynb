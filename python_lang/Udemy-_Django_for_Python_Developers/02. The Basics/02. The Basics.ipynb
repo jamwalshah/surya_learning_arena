{
  "nbformat": 4,
  "nbformat_minor": 0,
  "metadata": {
    "colab": {
      "provenance": [],
      "toc_visible": true
    },
    "kernelspec": {
      "name": "python3",
      "display_name": "Python 3"
    },
    "language_info": {
      "name": "python"
    }
  },
  "cells": [
    {
      "cell_type": "markdown",
      "source": [
        "## 005. Web Application Basics\n",
        "\n",
        "- By the end of this Web Application Basics lecture, you'll learn what a web application is, how it works, and the various components that are involved in the web application communication\n",
        "- A web application is any software application, whose services can be accessed via Web\n",
        "  - for example,\n",
        "    - When you're accessing Udemy, the Udemy developers have already developed a web application, and they've deployed it onto a `Web Server`, that can be accessed from a `Web Client`\n",
        "    - So your browser sends a request to the server on which Udemy is running, and then the server will run the appropriate resources to serve your request, then server takes the response and send it back to you (web Client)\n",
        "- The communication between a web client and a web server takes place using the HTTP\n",
        "- `HTTP` stands for Hyper Text Transfer Protocol\n",
        "  - it is a set of rules that makes it easy and the web client & web server should follow in order to communicate\n",
        "- As web client follows HTTP, it can be called as HTTP client\n",
        "- Examples of web-servers are Apache and IIS\n",
        "- Examples of web-clients/web-browsers are Internet Explorer, Chrome, Safari, Firefox, etc.\n",
        "- You can also develop a HTTP client in any programming language of your choice using the API it provides\n",
        "- Popular websites or Popular web-applications include Google, facebook, twitter and bharaththiippireddy.com which is course creator's website\n",
        "- To access a website, you use a `URL`, which stands for `Uniform Resource Locator`\n",
        "  - it comprises of\n",
        "    - a protocol such as `http://`\n",
        "    - followed by a domain name or the server name, such as `udemy.com`\n",
        "    - followed by a port number, such as `80`, but we rarely specify a port number explicitly because port 80 is the default port on which most of the web-servers run or port 80 is the default port for HTTP\n",
        "      - Even if you don't specify any port number, web-browsers will by default connect on port 80\n",
        "      - Web-Servers run by default on port 80, and web-browsers connect to the port 80 and then ask for the resources\n"
      ],
      "metadata": {
        "id": "kD7c4_iiJhhX"
      }
    },
    {
      "cell_type": "markdown",
      "source": [
        "## 006. Server Side Programming\n",
        "\n",
        "- You'll learn about the various duties of a server-side program\n",
        "- Every server-side program which runs on a web-container or a server like Apache Tomcat, Oracle WebLogic, IBM WebSphere, will\n",
        "  1. Capture the user input: take or handle the request that comes from the client, capturing the user input that client is sending\n",
        "  2. Communicate with the database: it then connects/communicates with the database\n",
        "  3. Processing of data: whatever data/response comes back from database, web-server will handle it, see if there are any exceptions, or errors and if right data comes back or any operation such as update/delete went through successfully\n",
        "  4. Produce a response page: it'll produce the response page, a dynamic HTML page/response is created on-the-fly depending on if there are any errors/exceptions and the operation in request went through properly or not\n",
        "  5. Handing the response page to the server: web-server will simply hand the response to the web-browser\n",
        "\n",
        "- These are the duties of any server-side program that you're writing, whether it is written in Java using Servlets, JSPs, or it is .NET or python\n"
      ],
      "metadata": {
        "id": "Nu90Qt_IJheB"
      }
    },
    {
      "cell_type": "markdown",
      "source": [
        "## 007. What and Why Django\n",
        "\n",
        "-"
      ],
      "metadata": {
        "id": "BH-d__fxJhbb"
      }
    },
    {
      "cell_type": "markdown",
      "source": [],
      "metadata": {
        "id": "wg7-U4PKJhZc"
      }
    },
    {
      "cell_type": "markdown",
      "source": [],
      "metadata": {
        "id": "XLiJcq3DJhXT"
      }
    },
    {
      "cell_type": "markdown",
      "source": [],
      "metadata": {
        "id": "7FHQ28kGJhTG"
      }
    },
    {
      "cell_type": "markdown",
      "source": [],
      "metadata": {
        "id": "ADcgmzGeJhQ_"
      }
    },
    {
      "cell_type": "markdown",
      "source": [],
      "metadata": {
        "id": "iwiSZW02JhOa"
      }
    },
    {
      "cell_type": "markdown",
      "source": [],
      "metadata": {
        "id": "WZOcZd7-JhMZ"
      }
    }
  ]
}