{
  "nbformat": 4,
  "nbformat_minor": 0,
  "metadata": {
    "colab": {
      "provenance": [],
      "toc_visible": true
    },
    "kernelspec": {
      "name": "python3",
      "display_name": "Python 3"
    },
    "language_info": {
      "name": "python"
    }
  },
  "cells": [
    {
      "cell_type": "markdown",
      "source": [
        "## 107. CBV in Action\n",
        "\n",
        "- In this lecture, you'll create your very first `Class-Based-View`\n",
        "- To do that, goto the terminal/command-line, under the projects directory `djangoprojects`, create a new project `classBasedViews` using command below\n",
        "\n",
        "  ```bash\n",
        "  django-admin startproject classBasedViews\n",
        "  ```\n",
        "\n",
        "- Change directory into project directory `classBasedViews`\n",
        "\n",
        "  ```bash\n",
        "  cd classBasedViews\n",
        "  ```\n",
        "\n",
        "- Create a Django App `cbvApp` in this project\n",
        "\n",
        "  ```bash\n",
        "  python manage.py startapp cbvApp\n",
        "  ```\n",
        "\n",
        "- Goto the project directory `djangoprojects\\classBasedViews` and open it in your IDE\n",
        "- Open `views.py` file, Creating a Class-Based-View is very easy, so create a class `GreetingView()` which should extend `View` from `django.views.generic`\n",
        "  - And within this class `GreetingView()`, we're going to define separate methods for each HTTP method we're going to support, for now just add `get(self, request)`, so when a HTTP `GET` method is invoked this method will get the request and also has access to self, within this method we'll return the `HttpResponse()` just like we've done earlier by importing `HttpResponse` from `django.http`, and pass in the string that you want\n",
        "\n",
        "    ```python\n",
        "    from django.shortcuts import render\n",
        "    from django.views.generic import View\n",
        "    from django.http import HttpResponse\n",
        "\n",
        "    # Create your views here.\n",
        "    class GreetingView(View):\n",
        "        def get(self, request):\n",
        "            return HttpResponse(\"<b>First CBV says hello !!</b>\")\n",
        "    ```\n",
        "\n",
        "- Goto `urls.py` file which is under the project itself, configure a new `path()` setting the route as root directory `/` by specifying an empty string, and view as a call to `as_view()` method in `views.GreetingView` which is expected to be callable object/method so that this additional step of `as_view()` will invoke a function call to return an HTTP Response.\n",
        "  - So when a GET request is received on this URL path, it creates an instance of views class `GreetingView`, the request goes to the `get()` method of this class which will return a `HttpResponse` with some content that will be rendered to the template.\n",
        "\n",
        "    ```python\n",
        "    from django.contrib import admin\n",
        "    from django.urls import path\n",
        "    from cbvApp import views\n",
        "\n",
        "    urlpatterns = [\n",
        "        path('admin/', admin.site.urls),\n",
        "        path('', views.GreetingView.as_view()),\n",
        "    ]\n",
        "    ```\n",
        "\n",
        "- Goto `settings.py` file\n",
        "  - goto `INSTALLED_APPS` property and append the App `cbvApp` here\n",
        "\n",
        "    ```python\n",
        "    INSTALLED_APPS = [\n",
        "        'django.contrib.admin',\n",
        "        'django.contrib.auth',\n",
        "        'django.contrib.contenttypes',\n",
        "        'django.contrib.sessions',\n",
        "        'django.contrib.messages',\n",
        "        'django.contrib.staticfiles',\n",
        "        'cbvApp'\n",
        "    ]\n",
        "    ```\n",
        "\n",
        "- Goto the terminal/command-line, start the Django server using command below\n",
        "\n",
        "  ```bash\n",
        "  python manage.py runserver\n",
        "  ```\n",
        "\n",
        "- Open the web-browser and visit the URL at `localhost:8000`, and it should display a message `First CBV says hello !!`\n",
        "- In this lecture, we've successfully created a Class-Based-View\n",
        "  - We've created a project, then an Application\n",
        "  - Within `views.py` we've created a class `GreetingView` which inherits from `django.views.generic.View` and inside this class we need to override the HTTP methods, one method for each HTTP method, if you want to support the `GET` request then implement the `get()` method, and if you want support the `POST` request then implement the `post()` method and so on.\n",
        "  - This `get()` method takes a request and we need to return an `HttpResponse`\n",
        "  - In `urls.py` the `path()` method expects a callable object/method, we can't use only the view class name, so we use `views.GreetingView.as_view()`\n",
        "  - When a request comes in, internally this `as_view()` method will resolve to the view class `GreetingView` and is responsible for figuring which method (GET/POST/etc.) is coming in the incoming request and will call the appropriate method on this class, if is `GET` request, it'll call `get()` method or if it is `POST` request, it'll call the `post()` method and so on\n",
        "\n"
      ],
      "metadata": {
        "id": "C5jM8TtzZuFP"
      }
    },
    {
      "cell_type": "markdown",
      "source": [
        "## 108. Setting Attributes on a CBV\n",
        "\n",
        "- asa\n"
      ],
      "metadata": {
        "id": "_tbMs_UiZuC8"
      }
    },
    {
      "cell_type": "markdown",
      "source": [
        "## 109. Hands on Steps\n",
        "\n",
        "- asa\n"
      ],
      "metadata": {
        "id": "4aAw0-XLZuA1"
      }
    },
    {
      "cell_type": "markdown",
      "source": [
        "## 110. Create Project\n",
        "\n",
        "- asa\n"
      ],
      "metadata": {
        "id": "oQWdVl-MZt-l"
      }
    },
    {
      "cell_type": "markdown",
      "source": [
        "## 111. Create List View\n",
        "\n",
        "- asa\n"
      ],
      "metadata": {
        "id": "SnEhF30FZt8Y"
      }
    },
    {
      "cell_type": "markdown",
      "source": [
        "## 112. Create List Template\n",
        "\n",
        "- asa\n"
      ],
      "metadata": {
        "id": "1-tdkSgDZt31"
      }
    },
    {
      "cell_type": "markdown",
      "source": [
        "## 113. Test List View\n",
        "\n",
        "- asa\n"
      ],
      "metadata": {
        "id": "Og6A_s5AZt1s"
      }
    },
    {
      "cell_type": "markdown",
      "source": [
        "## 114. Implement Student Details\n",
        "\n",
        "- asa\n"
      ],
      "metadata": {
        "id": "mhv9yc-sB6sW"
      }
    },
    {
      "cell_type": "markdown",
      "source": [
        "## 115. Create\n",
        "\n",
        "- asa\n"
      ],
      "metadata": {
        "id": "wpUlW6ZGB6hr"
      }
    },
    {
      "cell_type": "markdown",
      "source": [
        "## 116. Test Create\n",
        "\n",
        "- asa\n",
        "\n"
      ],
      "metadata": {
        "id": "Rjs1ym2cB6fH"
      }
    },
    {
      "cell_type": "markdown",
      "source": [
        "## 117. Update\n",
        "\n",
        "- asa\n"
      ],
      "metadata": {
        "id": "ZnGXVLgQZtoP"
      }
    },
    {
      "cell_type": "markdown",
      "source": [
        "## 118. Delete\n",
        "\n",
        "- asa\n"
      ],
      "metadata": {
        "id": "RXCZtHCPCI5s"
      }
    },
    {
      "cell_type": "markdown",
      "source": [
        "## Assignment 7 : CBV CRUD\n",
        "\n"
      ],
      "metadata": {
        "id": "hB6Vy89GCIzA"
      }
    },
    {
      "cell_type": "markdown",
      "source": [
        "### Solution\n",
        "\n"
      ],
      "metadata": {
        "id": "AwKe1tciCIv0"
      }
    },
    {
      "cell_type": "markdown",
      "source": [],
      "metadata": {
        "id": "9hw8Dbb4CIqr"
      }
    }
  ]
}