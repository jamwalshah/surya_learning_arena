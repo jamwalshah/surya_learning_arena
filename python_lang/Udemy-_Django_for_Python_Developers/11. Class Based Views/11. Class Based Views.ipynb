{
  "nbformat": 4,
  "nbformat_minor": 0,
  "metadata": {
    "colab": {
      "provenance": [],
      "toc_visible": true
    },
    "kernelspec": {
      "name": "python3",
      "display_name": "Python 3"
    },
    "language_info": {
      "name": "python"
    }
  },
  "cells": [
    {
      "cell_type": "markdown",
      "source": [
        "## 107. CBV in Action\n",
        "\n",
        "- In this lecture, you'll create your very first `Class-Based-View`\n",
        "- To do that, goto the terminal/command-line, under the projects directory `djangoprojects`, create a new project `classBasedViews` using command below\n",
        "\n",
        "  ```bash\n",
        "  django-admin startproject classBasedViews\n",
        "  ```\n",
        "\n",
        "- Change directory into project directory `classBasedViews`\n",
        "\n",
        "  ```bash\n",
        "  cd classBasedViews\n",
        "  ```\n",
        "\n",
        "- Create a Django App `cbvApp` in this project\n",
        "\n",
        "  ```bash\n",
        "  python manage.py startapp cbvApp\n",
        "  ```\n",
        "\n",
        "- Goto the project directory `djangoprojects\\classBasedViews` and open it in your IDE\n",
        "- Open `views.py` file, Creating a Class-Based-View is very easy, so create a class `GreetingView()` which should extend `View` from `django.views.generic`\n",
        "  - And within this class `GreetingView()`, we're going to define separate methods for each HTTP method we're going to support, for now just add `get(self, request)`, so when a HTTP `GET` method is invoked this method will get the request and also has access to self, within this method we'll return the `HttpResponse()` just like we've done earlier by importing `HttpResponse` from `django.http`, and pass in the string that you want\n",
        "\n",
        "    ```python\n",
        "    from django.shortcuts import render\n",
        "    from django.views.generic import View\n",
        "    from django.http import HttpResponse\n",
        "\n",
        "    # Create your views here.\n",
        "    class GreetingView(View):\n",
        "        def get(self, request):\n",
        "            return HttpResponse(\"<b>First CBV says hello !!</b>\")\n",
        "    ```\n",
        "\n",
        "- Goto `urls.py` file which is under the project itself, configure a new `path()` setting the route as root directory `/` by specifying an empty string, and view as a call to `as_view()` method in `views.GreetingView` which is expected to be callable object/method so that this additional step of `as_view()` will invoke a function call to return an HTTP Response.\n",
        "  - So when a GET request is received on this URL path, it creates an instance of views class `GreetingView`, the request goes to the `get()` method of this class which will return a `HttpResponse` with some content that will be rendered to the template.\n",
        "\n",
        "    ```python\n",
        "    from django.contrib import admin\n",
        "    from django.urls import path\n",
        "    from cbvApp import views\n",
        "\n",
        "    urlpatterns = [\n",
        "        path('admin/', admin.site.urls),\n",
        "        path('', views.GreetingView.as_view()),\n",
        "    ]\n",
        "    ```\n",
        "\n",
        "- Goto `settings.py` file\n",
        "  - goto `INSTALLED_APPS` property and append the App `cbvApp` here\n",
        "\n",
        "    ```python\n",
        "    INSTALLED_APPS = [\n",
        "        'django.contrib.admin',\n",
        "        'django.contrib.auth',\n",
        "        'django.contrib.contenttypes',\n",
        "        'django.contrib.sessions',\n",
        "        'django.contrib.messages',\n",
        "        'django.contrib.staticfiles',\n",
        "        'cbvApp'\n",
        "    ]\n",
        "    ```\n",
        "\n",
        "- Goto the terminal/command-line, start the Django server using command below\n",
        "\n",
        "  ```bash\n",
        "  python manage.py runserver\n",
        "  ```\n",
        "\n",
        "- Open the web-browser and visit the URL at `localhost:8000`, and it should display a message `First CBV says hello !!`\n",
        "- In this lecture, we've successfully created a Class-Based-View\n",
        "  - We've created a project, then an Application\n",
        "  - Within `views.py` we've created a class `GreetingView` which inherits from `django.views.generic.View` and inside this class we need to override the HTTP methods, one method for each HTTP method, if you want to support the `GET` request then implement the `get()` method, and if you want support the `POST` request then implement the `post()` method and so on.\n",
        "  - This `get()` method takes a request and we need to return an `HttpResponse`\n",
        "  - In `urls.py` the `path()` method expects a callable object/method, we can't use only the view class name, so we use `views.GreetingView.as_view()`\n",
        "  - When a request comes in, internally this `as_view()` method will resolve to the view class `GreetingView` and is responsible for figuring which method (GET/POST/etc.) is coming in the incoming request and will call the appropriate method on this class, if is `GET` request, it'll call `get()` method or if it is `POST` request, it'll call the `post()` method and so on\n",
        "\n"
      ],
      "metadata": {
        "id": "C5jM8TtzZuFP"
      }
    },
    {
      "cell_type": "markdown",
      "source": [
        "## 108. Setting Attributes on a CBV\n",
        "\n",
        "- All the code in Class-Based-Views will go into the the methods that we define in the view class\n",
        "- But we can also define attribute in this class, although not required, we can define attributes in the class and set/assign values to those attributes from within the `as_view()` function at runtime\n",
        "- Goto `views.py` file, and we'll customize the message content that is displayed from the `get()` function instead of hardcoding it like earlier, by passing a message right from `as_view()` function call from the `path()` in `urls.py`, modify the `views.py` as per code below\n",
        "\n",
        "  ```python\n",
        "  from django.shortcuts import render\n",
        "  from django.views.generic import View\n",
        "  from django.http import HttpResponse\n",
        "\n",
        "  # Create your views here.\n",
        "  class GreetingView(View):\n",
        "      greetingMessage = '<b>First CBV says hello !!</b>'\n",
        "      def get(self, request):\n",
        "          return HttpResponse(content=self.greetingMessage)\n",
        "  ```\n",
        "\n",
        "- Now we can override this `greetingMessage` from within the `as_view()` in `urls.py` as below\n",
        "\n",
        "  ```python\n",
        "  from django.contrib import admin\n",
        "  from django.urls import path\n",
        "  from cbvApp import views\n",
        "\n",
        "  urlpatterns = [\n",
        "      path('admin/', admin.site.urls),\n",
        "      path(route='', view=views.GreetingView.as_view(greetingMessage = '<h1>Hello from the as_view method</h1>')),\n",
        "  ]\n",
        "  ```\n",
        "\n",
        "- This is how we can pass the data or set the attributes on a particular view from the `urls.py` file, because when the Django server request comes in, `as_view()` method will create an instance of the view class `GreetingView` and it is also responsible for setting the values for all the attribute in that class, internally it'll use other methods to do that, so we can pass to it whichever attribute we want\n",
        "- Django server should've reloaded everything for us, goto the web-browser and refresh the URL at `localhost:8000` and you'll see a different message that says `Hello from the as_view method`\n",
        "- Initially `First CBV says hello !!` will be the message it'll hold, but when the request comes in it'll set `Hello from the as_view method` as the value\n",
        "\n"
      ],
      "metadata": {
        "id": "_tbMs_UiZuC8"
      }
    },
    {
      "cell_type": "markdown",
      "source": [
        "## 109. Hands on Steps\n",
        "\n",
        "- In the next few lectures, you'll be performing CRUD operations on the same `Student` model/database table that you've created earlier, but this time using Class-Based-Views, it's going to be much more easier than compared to Function-Based-Views to perform the CRUD operations\n",
        "- You'll display the details of a student, you'll allow user to add a student where he can fill in the form just like before, and he can click on a student on a link in `Id` column, and then we'll be able to see the student details, if he wants to delete the student he can or he can update the student's test score\n",
        "- We can allow what fields he can update which we'll configure, and if we click on delete, there will be a confirmation as well, and if you click cancel then it'll go back to the Student Details page\n",
        "- All that will come for us when we use Class-Based-Views\n",
        "\n"
      ],
      "metadata": {
        "id": "4aAw0-XLZuA1"
      }
    },
    {
      "cell_type": "markdown",
      "source": [
        "## 110. Create Project\n",
        "\n",
        "- In this lecture, we'll create a Class-Based-View project to perform the CRUD operations\n",
        "- To do that, goto terminal/command-line, make sure you're under the project directory `djangoprojects`, create a new project `cbvCRUD` using command below, which uses Class-Based-Views using generics\n",
        "\n",
        "  ```bash\n",
        "  django-admin startproject cbvCRUD\n",
        "  ```\n",
        "\n",
        "- Go into the project directory `djangoprojects\\cbvCRUD`\n",
        "\n",
        "  ```bash\n",
        "  cd cbvCRUD\n",
        "  ```\n",
        "\n",
        "- Create an app `cbvApp` using command below\n",
        "\n",
        "  ```bash\n",
        "  python manage.py startapp cbvApp\n",
        "  ```\n",
        "\n",
        "- Goto that project folder `djangoprojects\\cbvCRUD`, and open it in your IDE\n",
        "- Open the `settings.py` file, search for `INSTALLED_APPS` property, append the app `cbvApp` to this list as below\n",
        "\n",
        "  ```python\n",
        "  INSTALLED_APPS = [\n",
        "      'django.contrib.admin',\n",
        "      'django.contrib.auth',\n",
        "      'django.contrib.contenttypes',\n",
        "      'django.contrib.sessions',\n",
        "      'django.contrib.messages',\n",
        "      'django.contrib.staticfiles',\n",
        "      'cbvApp'\n",
        "  ]\n",
        "  ```\n",
        "\n",
        "- The next setting is the database setting, in `settings.py` file, search for `DATABASES` property, and update it as below which is same as you've done in `fbvCRUD` project\n",
        "\n",
        "  ```python\n",
        "  DATABASES = {\n",
        "      'default': {\n",
        "          'ENGINE': 'django.db.backends.mysql',\n",
        "          'NAME': 'studentdb',\n",
        "          'USER': 'root',\n",
        "          'PASSWORD': 'mysql',\n",
        "      }\n",
        "  }\n",
        "  ```\n",
        "\n",
        "- We don't need to configure the template here, because the this time templates will eb automatically resolved for us, we don't have to configure a specific template directory, thanks to generics\n",
        "- Next we will create the models, using the same model as we used in `fbvCRUD` project, we'll create here also, open the `models.py` file and create the model as below\n",
        "\n",
        "  ```python\n",
        "  from django.db import models\n",
        "\n",
        "  # Create your models here.\n",
        "  class Student(models.Model):\n",
        "      \"\"\"Model definition for Student.\"\"\"\n",
        "      firstName = models.CharField(max_length=20)\n",
        "      lastName = models.CharField(max_length=20)\n",
        "      testScore = models.FloatField()\n",
        "  ```\n",
        "\n",
        "- In this lecture, we've successfully created a project, and also a model\n",
        "- In the next lecture, you'll see how easy it is to use generics and perform CRUD operations, one operation at a time\n",
        "\n"
      ],
      "metadata": {
        "id": "oQWdVl-MZt-l"
      }
    },
    {
      "cell_type": "markdown",
      "source": [
        "## 111. Create List View\n",
        "\n",
        "- In this lecture, we'll learn how to create views using generics\n",
        "- Goto `views.py` file, since we're going to use generics, so import `ListView` for now from `django.views.generic`\n",
        "- next crate a class `StudentListView(ListView)` which will extend the `ListView`, and in this class, all we need to provide is model class, but after importing `student` model from `cbvCRUD.models`, so it'll fetch all the data for the students which will be sent to a default `template_name` parameter is a template named in format `modelname_list.html` resulting into template file `student_list.html`, so we'll require to create a template with this name and the `context_object_name` parameter is available in the format `modelname_list` resulting into context variable `student_list`, we can loop through this context variable and play around it\n",
        "- If you want to override the `template_name`, you may specify it using the class attribute `template_name` inside the view class `StudentListView`\n",
        "\n",
        "  ```python\n",
        "  from django.shortcuts import render\n",
        "  from django.views.generic import ListView\n",
        "  from cbvApp.models import Student\n",
        "\n",
        "  # Create your views here.\n",
        "  class StudentListView(ListView):\n",
        "      \"\"\"ListView definition for view to list data from Student Model\"\"\"\n",
        "      model = Student\n",
        "      # template_name = 'student_list.html'\n",
        "      # default template_name is student_list.html\n",
        "      # context_object_name = 'student_list'\n",
        "      # default context_object_name is student_list\n",
        "  ```\n",
        "\n",
        "- In the next lecture, we'll be creating a template `student_list.html` and we'll be using the context variable `student_list` to display the student data\n",
        "- In this lecture, you've created your very first generic view by extending the `ListView` and simply providing it the Model class name `Student`\n",
        "\n"
      ],
      "metadata": {
        "id": "SnEhF30FZt8Y"
      }
    },
    {
      "cell_type": "markdown",
      "source": [
        "## 112. Create List Template\n",
        "\n",
        "- In this lecture, we'll create the `student_list.html` template\n",
        "- To do that, we'll have to create a folder under our `cbvApp`, so that by default Django generics will search for this template under `cbvApp/templates/cbvApp`, and in this folder create a template file named `student_list.html`\n",
        "- In `student_list.html`, you may put the HTML from the `index.html` from `fbvCRUD` project, and then modify it as below code by changing the context variable to `student_list`\n",
        "- The links to `Add Student`, `Delete` and `Update` will be moved later on, but for now leave them there, and `Delete` & `Update` links will be moved to student Details page which you'll be creating later on\n",
        "\n",
        "  ```html\n",
        "  <!DOCTYPE html>\n",
        "  <html lang=\"en\" dir=\"ltr\">\n",
        "      <head>\n",
        "          <meta charset=\"utf-8\">\n",
        "          <title>Student Information</title>\n",
        "      </head>\n",
        "      <body>\n",
        "          <h1>Students</h1>\n",
        "          <table border=2>\n",
        "              <thead>\n",
        "                  <th>Id</th>\n",
        "                  <th>First Name</th>\n",
        "                  <th>Last Name</th>\n",
        "                  <th>Test Score</th>\n",
        "              </thead>\n",
        "              {% for student in student_list %}\n",
        "                  <tr>\n",
        "                      <td>{{ student.id }}</td>\n",
        "                      <td>{{ student.firstName }}</td>\n",
        "                      <td>{{ student.lastName }}</td>\n",
        "                      <td>{{ student.testScore }}</td>\n",
        "                      <td><a href=\"/delete/{{ student.id }}\">Delete</a></td>\n",
        "                      <td><a href=\"/update/{{ student.id }}\">Update</a></td>\n",
        "                  </tr>\n",
        "              {% endfor %}\n",
        "          </table>\n",
        "          <br/><br/><br/>\n",
        "          <a href=\"/create\">Add Student</a>\n",
        "      </body>\n",
        "  </html>\n",
        "  ```\n",
        "\n"
      ],
      "metadata": {
        "id": "1-tdkSgDZt31"
      }
    },
    {
      "cell_type": "markdown",
      "source": [
        "## 113. Test List View\n",
        "\n",
        "- In this lecture, we'll configure the URLs, do the migrations and test our application\n"
      ],
      "metadata": {
        "id": "Og6A_s5AZt1s"
      }
    },
    {
      "cell_type": "markdown",
      "source": [
        "## 114. Implement Student Details\n",
        "\n",
        "- asa\n"
      ],
      "metadata": {
        "id": "mhv9yc-sB6sW"
      }
    },
    {
      "cell_type": "markdown",
      "source": [
        "## 115. Create\n",
        "\n",
        "- asa\n"
      ],
      "metadata": {
        "id": "wpUlW6ZGB6hr"
      }
    },
    {
      "cell_type": "markdown",
      "source": [
        "## 116. Test Create\n",
        "\n",
        "- asa\n",
        "\n"
      ],
      "metadata": {
        "id": "Rjs1ym2cB6fH"
      }
    },
    {
      "cell_type": "markdown",
      "source": [
        "## 117. Update\n",
        "\n",
        "- asa\n"
      ],
      "metadata": {
        "id": "ZnGXVLgQZtoP"
      }
    },
    {
      "cell_type": "markdown",
      "source": [
        "## 118. Delete\n",
        "\n",
        "- asa\n"
      ],
      "metadata": {
        "id": "RXCZtHCPCI5s"
      }
    },
    {
      "cell_type": "markdown",
      "source": [
        "## Assignment 7 : CBV CRUD\n",
        "\n"
      ],
      "metadata": {
        "id": "hB6Vy89GCIzA"
      }
    },
    {
      "cell_type": "markdown",
      "source": [
        "### Solution\n",
        "\n"
      ],
      "metadata": {
        "id": "AwKe1tciCIv0"
      }
    },
    {
      "cell_type": "markdown",
      "source": [],
      "metadata": {
        "id": "9hw8Dbb4CIqr"
      }
    }
  ]
}