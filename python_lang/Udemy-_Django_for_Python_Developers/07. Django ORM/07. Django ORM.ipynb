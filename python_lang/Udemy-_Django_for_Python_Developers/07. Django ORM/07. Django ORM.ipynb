{
  "nbformat": 4,
  "nbformat_minor": 0,
  "metadata": {
    "colab": {
      "provenance": [],
      "toc_visible": true
    },
    "kernelspec": {
      "name": "python3",
      "display_name": "Python 3"
    },
    "language_info": {
      "name": "python"
    }
  },
  "cells": [
    {
      "cell_type": "markdown",
      "source": [
        "## 056. The Fundamentals\n",
        "\n",
        "- When you used `empApp.models.Employee.objects.all()` in `views.py` file, you got a list of employees from the database which is nothing but Django ORM (Object Relational Mapping) in action, so without writing any SQL queries you got the employees' records\n",
        "- In this and the next few lectures, we're going to explore the Django ORM in detail\n",
        "- To do that, we don't have to work in the IDE, can learn all that from the shell or the command-line\n",
        "  - Goto your terminal/command-line, make sure you're under `djangoprojects/modelDemo` project, once you're in that directory, open a python shell with DJango support inside it using below command\n",
        "\n",
        "  ```bash\n",
        "  python manage.py shell\n",
        "  ```\n",
        "\n",
        "  - First step is to import the Model class `Employee`, all the Django libraries are available for us but we simply need to import them\n",
        "\n",
        "  ```python\n",
        "  from empApp.models import Employee\n",
        "  ```\n",
        "\n",
        "  - Once the model `Employee` is imported, you can do all kinds of operations here, now create a `Query Set` which will contain all the records from the database using the method `Employee.objects.all()`\n",
        "\n",
        "  ```python\n",
        "  qs = Employee.objects.all()\n",
        "  ```\n",
        "\n",
        "  - Now check the type of the Query set variable `qs` using command below and it'll show type as `<class 'django.db.models.query.QuerySet'>`\n",
        "\n",
        "  ```python\n",
        "  print(type(qs))\n",
        "  ```\n",
        "\n",
        "  - If you want only one record at a time, you'll use `Employee.objects.get(id=1)` method with `id=1` as its primary key, and it'll return only one record as a `Employee` model object\n",
        "\n",
        "  ```python\n",
        "  emp = Employee.objects.get(id=1)\n",
        "  ```\n",
        "\n",
        "  - To check the type of the object that `Model.objects.get(PrimaryKey=1)` method returns, use the command below and it'll show type as `<class 'empApp.models.Employee'>` which is `Employee` model class type\n",
        "\n",
        "  ```python\n",
        "  print(type(emp))\n",
        "  ```\n",
        "\n",
        "  - To print the query set object use below command, it'll print only generic text indicating `Employee object (1)` indicating the Query Set has `id=1`\n",
        "\n",
        "  ```python\n",
        "  print(emp)\n",
        "  ```\n",
        "\n",
        "  - If you override the `__str__()` method inside the `Employee` model class, you'll see an appropriate text while printing it, or you can refer to a specific field from the model class with Query set object to print it as shown in snippet below\n",
        "\n",
        "  ```python\n",
        "  print(emp.firstName)\n",
        "  ```\n",
        "\n",
        "- So, `django.db.models.Model.objects.all()` returns a Query set with all the records, but if you want a specific record you'll use `django.db.models.Model.objects.get(PrimaryKey=1)`\n",
        "- if you want to see what exact query is being run in the background, run print command for `QuerySet.query` attribute\n",
        "\n",
        "    ```python\n",
        "    print(qs.query)\n",
        "    ```\n",
        "\n",
        "  - So it'll show you the SQL query that it runs in the backgound\n",
        "\n",
        "  ```SQL\n",
        "  SELECT `empApp_employee`.`id`, `empApp_employee`.`firstName`, `empApp_employee`.`lastName`, `empApp_employee`.`salary`, `empApp_employee`.`email` FROM `empApp_employee`\n",
        "  ```\n",
        "\n",
        "- So ORM is helping us by generating this query, we simply need to use the methods such as\n",
        "  - `Model.objects.all()` to generate the Query Set\n",
        "  - `QuerySet.query` property/attribute to return the query\n",
        "- In this lecture, we've learnt how to retrieve multiple records using `all()`, how to retrieve a single record using `get()` which returns a Model object, the type of variable that holds the list of records is a `QuerySet`, How to print the Query behind the `QuerySet` using the `QuerySet.query` attribute\n",
        "\n"
      ],
      "metadata": {
        "id": "yvoP7Pp-7O00"
      }
    },
    {
      "cell_type": "markdown",
      "source": [
        "## 057. Filtering Data\n",
        "\n",
        "- In the previous lecture, we've seen that the queries that Django ORM uses behind the scenes does not have any `WHERE` clause, that is it fetches all the records from the database which is okay, but if you want to add some criteria Django ORM offers various various classes that you can use inside a `filter()` function\n",
        "- So, if you want to filter data in the Query set returned by `Model.objects.all()`, instead of `.all()` method we use `.filter()` method and pass it the criteria\n",
        "  - To pass a criteria use the syntax `<fieldName/AttributeName>__<className>=<values>`, and you can use any of these below classes and more, which are available in the documentation\n",
        "  - `gt`, `gte`, `lt`, `lte`, `contains`, `icontains`, `in`, `startswith`, `endswith`\n",
        "- So, anything that you do using SQL statements against a database, can be done using Django ORM\n",
        "- If I want all the employees with `salary` greater than `gt` `5000`, so use this snippet to generate a `QuerySet`\n",
        "\n",
        "  ```python\n",
        "  emps = Employee.objects.filter(salary__gt=5000)\n",
        "  ```\n",
        "\n",
        "  - If you try to print the `QuerySet` returned by the previous command, you'll see only one record, `<QuerySet [<Employee: Employee object (1)>]>` which indicates `Employee` object with `id=1`\n",
        "\n",
        "  ```python\n",
        "  print(emps)\n",
        "  ```\n",
        "\n",
        "- You can also try to find all the employees with `salary` greater than or equal to `gte` `5000`, so use the below snippet\n",
        "\n",
        "  ```python\n",
        "  emps = Employee.objects.filter(salary__gte=5000)\n",
        "  ```\n",
        "\n",
        "  - Now print the returned `QuerySet` , and you'll see two objects with `id=1` and `id=2` , output will show `<QuerySet [<Employee: Employee object (1)>, <Employee: Employee object (2)>]>`\n",
        "\n",
        "  ```python\n",
        "  print(emps)\n",
        "  ```\n",
        "\n",
        "- So, its that simple to filter out data\n",
        "\n",
        "> Instead of `Model.objects.filter()` function, we can also use `Model.objects.get()`, but only when we're sure we'll only get a single record\n",
        "\n",
        "- We can also use several other classes using `contains`, `icontains` (`i` stands for case-insensitive search), so lets try these out\n",
        "  - `contains` class is like SQL `LIKE` clause\n",
        "  - Filter the data using below snippet for employees whose `firstName` contains `Sur`\n",
        "\n",
        "    ```python\n",
        "    emps = Employee.objects.get(firstName__contains='Sur')\n",
        "    ```\n",
        "\n",
        "    - Now print the returned `Employee` object and you'll see only one record as `Employee object (1)`\n",
        "\n",
        "    ```python\n",
        "    print(emps)\n",
        "    ```\n",
        "\n",
        "  - Filter the data using below snippet for employees whose `firstName` contains `sur`, so it'll show an error `empApp.models.Employee.DoesNotExist: Employee matching query does not exist.`\n",
        "\n",
        "  ```python\n",
        "  emps = Employee.objects.get(firstName__contains='sur')\n",
        "  ```\n",
        "\n",
        "  - Filter the data case-insensitively using below snippet for employees whose `firstName` contains `sur`\n",
        "\n",
        "    ```python\n",
        "    emps = Employee.objects.get(firstName__icontains='sur')\n",
        "    ```\n",
        "\n",
        "    - Now print the returned `Employee` object and you'll see only one record as `Employee object (1)`, because  it is a case-insensitive search\n",
        "\n",
        "    ```python\n",
        "    print(emps)\n",
        "    ```\n",
        "\n",
        "- Similary, you can use `in`, `startswith`, `emdswith`\n",
        "- Lets filter based on `in`, it can return multiple records so lets not use `Model.objects.get()` function, instead use `Model.objects.filter()`\n",
        "  - Filter the data using below snippet for employees whose `id` is in `1`, `2`\n",
        "\n",
        "    ```python\n",
        "    emps = Employee.objects.filter(id__in=[1,2])\n",
        "    ```\n",
        "\n",
        "    - Now print the returned `QuerySet` and you'll see two records as `<QuerySet [<Employee: Employee object (1)>, <Employee: Employee object (2)>]>`\n",
        "\n",
        "    ```python\n",
        "    print(emps)\n",
        "    ```\n",
        "\n",
        "  - Filter the data using below snippet for employees whose `firstName` starts with `startswith` `Sa`\n",
        "\n",
        "    ```python\n",
        "    emps = Employee.objects.filter(firstName__startswith='Sa')\n",
        "    ```\n",
        "\n",
        "    - Now print the returned `QuerySet` and you'll see only one record with `id=2` as `<QuerySet [<Employee: Employee object (2)>]>`\n",
        "\n",
        "    ```python\n",
        "    print(emps)\n",
        "    ```\n",
        "\n",
        "  - Filter the data using below snippet for employees whose `firstName` ends with `endswith` `ya`\n",
        "\n",
        "    ```python\n",
        "    emps = Employee.objects.filter(firstName__endswith='ya')\n",
        "    ```\n",
        "\n",
        "    - Now print the returned `QuerySet` and you'll see only one record with `id=1` as `<QuerySet [<Employee: Employee object (1)>]>`\n",
        "\n",
        "    ```python\n",
        "    print(emps)\n",
        "    ```\n",
        "\n",
        "- So, in this lecture we have seen how to filter out the datausing several classes we can use, typically we do this using `WHERE` clause in our `SELECT` query, but here thanks to Django ORM we can use these classes to pass to `Model.objects.filter()` method\n",
        "\n"
      ],
      "metadata": {
        "id": "g2TA9Y1Z7Oxf"
      }
    },
    {
      "cell_type": "markdown",
      "source": [
        "## 058. Using Logical Operators\n",
        "\n",
        "- In this lecture, we'll see how to use the logical operators like `And`, `Or` and `Not`inside the `Model.objects.filter()` method\n",
        "- To do that,\n",
        "\n"
      ],
      "metadata": {
        "id": "d5pEkByC7OvP"
      }
    },
    {
      "cell_type": "markdown",
      "source": [],
      "metadata": {
        "id": "ZuCV1Idg7OtB"
      }
    },
    {
      "cell_type": "markdown",
      "source": [],
      "metadata": {
        "id": "nQaz63hf7Oqk"
      }
    },
    {
      "cell_type": "markdown",
      "source": [],
      "metadata": {
        "id": "Zo5nqImt7Oob"
      }
    },
    {
      "cell_type": "markdown",
      "source": [],
      "metadata": {
        "id": "hvSH39LE7OmO"
      }
    },
    {
      "cell_type": "markdown",
      "source": [],
      "metadata": {
        "id": "A5vyCwY97Oj5"
      }
    },
    {
      "cell_type": "markdown",
      "source": [],
      "metadata": {
        "id": "IUhn2SjY7Oh0"
      }
    }
  ]
}