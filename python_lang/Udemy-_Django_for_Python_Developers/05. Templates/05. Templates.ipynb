{
  "nbformat": 4,
  "nbformat_minor": 0,
  "metadata": {
    "colab": {
      "provenance": [],
      "toc_visible": true
    },
    "kernelspec": {
      "name": "python3",
      "display_name": "Python 3"
    },
    "language_info": {
      "name": "python"
    }
  },
  "cells": [
    {
      "cell_type": "markdown",
      "source": [
        "## 027. Introduction\n",
        "\n",
        "- When you've been introduced to the MVT (Model View Template) patternn that django uses, you've been told that `Template` is the component that is responsible for the UI to the end user, which is nothing but rendering the HTML to the browser\n",
        "- In this section, you're going to learn how to create templates, because templates are not just HTML, but also dynamic\n",
        "- These can take the data that view sends to them and these can render that dynamically to the end-user\n",
        "- You'll learn how to to do that using Template tags\n",
        "- We'll also learn how to use static content like images, style sheets, etc. inside your templates while working woth django\n"
      ],
      "metadata": {
        "id": "ulQPOr7LJ7zh"
      }
    },
    {
      "cell_type": "markdown",
      "source": [
        "## 028. Hands on Steps\n",
        "\n",
        "- In the next few lectures, you'll see templates in action\n",
        "  - You'll start by developing a very simple template which will render the text \"Templates in Action from MVT !!\"\n",
        "  - You'll then learn how to pass your name to the web-browser to the template from the view\n",
        "  - You'll then develop a little more sophisticated template, where you'll display the employee information on the UI, you'll also render a beautiful image on to that web-browser\n",
        "- You're going to do all that in very simple steps\n",
        "  - You'll create a project and an application\n",
        "  - Create a templates directory and configure it in settings.py\n",
        "  - Create a template itself, which is an HTML page with some special tags that you're going to learn\n",
        "  - Create a view that'll render / use that template, and also pass map of data to the template from the web\n",
        "  - We'll then configure the URLs and then see the Templates in action\n",
        "  - In this process, we'll learn some super-cool tags that you can use inside the template\n",
        "  - We'll also learn how to include static files like images, style sheets, etc. inside your HTML templates\n",
        "- Also you'll develop a small project where you'll be displaying the various categories of products, its like a small e-Commerce project, where you'll display electronic products, toys, shoes\n",
        "  - When the User clicks on one of these links, the products under those categories will be displayed\n"
      ],
      "metadata": {
        "id": "HADkbe5dJ71s"
      }
    },
    {
      "cell_type": "markdown",
      "source": [
        "## 029. Create the Project with Template Settings\n",
        "\n",
        "-"
      ],
      "metadata": {
        "id": "ChXSXaROJ74F"
      }
    },
    {
      "cell_type": "markdown",
      "source": [],
      "metadata": {
        "id": "xHNeuq4HJ76R"
      }
    },
    {
      "cell_type": "markdown",
      "source": [],
      "metadata": {
        "id": "_E95-_UgJ78m"
      }
    },
    {
      "cell_type": "markdown",
      "source": [],
      "metadata": {
        "id": "g_5C585bJ7-4"
      }
    },
    {
      "cell_type": "markdown",
      "source": [],
      "metadata": {
        "id": "sS0ksXdWJ8Ba"
      }
    },
    {
      "cell_type": "markdown",
      "source": [],
      "metadata": {
        "id": "P4PMtSJXJ8Ds"
      }
    },
    {
      "cell_type": "markdown",
      "source": [],
      "metadata": {
        "id": "MF196XlZJ8GC"
      }
    },
    {
      "cell_type": "markdown",
      "source": [],
      "metadata": {
        "id": "wlwYSDvOJ8Ic"
      }
    },
    {
      "cell_type": "markdown",
      "source": [],
      "metadata": {
        "id": "VAP8SHUSJ8KL"
      }
    },
    {
      "cell_type": "markdown",
      "source": [],
      "metadata": {
        "id": "Ft2jcDVeJ8Ni"
      }
    }
  ]
}