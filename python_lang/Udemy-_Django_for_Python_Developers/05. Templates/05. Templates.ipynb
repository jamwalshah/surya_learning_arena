{
  "nbformat": 4,
  "nbformat_minor": 0,
  "metadata": {
    "colab": {
      "provenance": [],
      "toc_visible": true
    },
    "kernelspec": {
      "name": "python3",
      "display_name": "Python 3"
    },
    "language_info": {
      "name": "python"
    }
  },
  "cells": [
    {
      "cell_type": "markdown",
      "source": [
        "## 027. Introduction\n",
        "\n",
        "- When you've been introduced to the MVT (Model View Template) patternn that django uses, you've been told that `Template` is the component that is responsible for the UI to the end user, which is nothing but rendering the HTML to the browser\n",
        "- In this section, you're going to learn how to create templates, because templates are not just HTML, but also dynamic\n",
        "- These can take the data that view sends to them and these can render that dynamically to the end-user\n",
        "- You'll learn how to to do that using Template tags\n",
        "- We'll also learn how to use static content like images, style sheets, etc. inside your templates while working woth django\n"
      ],
      "metadata": {
        "id": "ulQPOr7LJ7zh"
      }
    },
    {
      "cell_type": "markdown",
      "source": [
        "## 028. Hands on Steps\n",
        "\n",
        "- In the next few lectures, you'll see templates in action\n",
        "  - You'll start by developing a very simple template which will render the text \"Templates in Action from MVT !!\"\n",
        "  - You'll then learn how to pass your name to the web-browser to the template from the view\n",
        "  - You'll then develop a little more sophisticated template, where you'll display the employee information on the UI, you'll also render a beautiful image on to that web-browser\n",
        "- You're going to do all that in very simple steps\n",
        "  - You'll create a project and an application\n",
        "  - Create a templates directory and configure it in settings.py\n",
        "  - Create a template itself, which is an HTML page with some special tags that you're going to learn\n",
        "  - Create a view that'll render / use that template, and also pass map of data to the template from the web\n",
        "  - We'll then configure the URLs and then see the Templates in action\n",
        "  - In this process, we'll learn some super-cool tags that you can use inside the template\n",
        "  - We'll also learn how to include static files like images, style sheets, etc. inside your HTML templates\n",
        "- Also you'll develop a small project where you'll be displaying the various categories of products, its like a small e-Commerce project, where you'll display electronic products, toys, shoes\n",
        "  - When the User clicks on one of these links, the products under those categories will be displayed\n"
      ],
      "metadata": {
        "id": "HADkbe5dJ71s"
      }
    },
    {
      "cell_type": "markdown",
      "source": [
        "## 029. Create the Project with Template Settings\n",
        "\n",
        "- In this lecture, we'll create a new Django project with an application inside it, and we'll set it up, so that we can use templates within that project\n",
        "- To do that, go to your terminal/command-line, make sure you're under the `djangoprojects` directory, and create a new project using below command, hit enter and it'll create a new project named `templateDemo` for us\n",
        "\n",
        "```bash\n",
        "django-admin startproject templatesDemo\n",
        "```\n",
        "\n",
        "- Go into the project directory using below command\n",
        "\n",
        "```bash\n",
        "cd templatesDemo\n",
        "```\n",
        "\n",
        "- and create an app `templatesApp` here using below command\n",
        "\n",
        "```bash\n",
        "python3 manage.py startapp templatesApp\n",
        "```\n",
        "\n",
        "- The next step is to create a templates folder within our project using below command\n",
        "\n",
        "```bash\n",
        "mkdir templates\n",
        "```\n",
        "\n",
        "- `templates` folder is where all our templates will be stored, and within this folder, for each application there will be a separate folder\n",
        "  - Go into `templates` folder, and create a folder `templatesApp`\n",
        "\n",
        "  ```bash\n",
        "  cd templates\n",
        "  mkdir templatesApp\n",
        "  ```\n",
        "\n",
        "  - The next step is to setup this templates folder in the project, we'll do that by going to file explorer and open the `templatesDemo` project in your IDE, and open the `settings.py` of your project, and you'll see that it already includes the import for `os` and it has a base directory `BASE_DIR` which points to the project directory\n",
        "    - All we need to to do is to go to directories `DIRS`, scroll down to the `TEMPLATES` list, here in templates, it has a property called `DIRS` as a list, which is where we should add our directory, as `os.path.join(BASE_DIR, 'templates')`, and `templates` is the directory name which we created earlier to store templates\n",
        "\n",
        "    ```python\n",
        "    import os\n",
        "    TEMPLATES = [\n",
        "        {\n",
        "        'BACKEND': 'django.template.backends.django.DjangoTemplates',\n",
        "        'DIRS': [os.path.join(BASE_DIR, 'templates')],\n",
        "        'APP_DIRS': True,\n",
        "        'OPTIONS': {\n",
        "              'context_processors': [\n",
        "                'django.template.context_processors.debug',\n",
        "                'django.template.context_processors.request',\n",
        "                'django.contrib.auth.context_processors.auth',\n",
        "                'django.contrib.messages.context_processors.messages',\n",
        "            ],\n",
        "          },\n",
        "        },\n",
        "    ]\n",
        "    ```\n",
        "\n",
        "  - the `BASE_DIR` point to the project folder `templatesDemo`, which is what either of these return\n",
        "\n",
        "  ```python\n",
        "  from pathlib import Path\n",
        "  BASE_DIR = Path(__file__).resolve().parent.parent\n",
        "  ```\n",
        "\n",
        "  ```python\n",
        "  import os\n",
        "  BASE_DIR = os.path.dirname(os.path.dirname(os.path.abspath(__file__)))\n",
        "  ```\n",
        "\n",
        "- Now, we have configured the templates directory, so that django knows where to find the templates\n"
      ],
      "metadata": {
        "id": "ChXSXaROJ74F"
      }
    },
    {
      "cell_type": "markdown",
      "source": [
        "## 030. Create a Template and View\n",
        "\n",
        "- asa\n"
      ],
      "metadata": {
        "id": "xHNeuq4HJ76R"
      }
    },
    {
      "cell_type": "markdown",
      "source": [],
      "metadata": {
        "id": "_E95-_UgJ78m"
      }
    },
    {
      "cell_type": "markdown",
      "source": [],
      "metadata": {
        "id": "g_5C585bJ7-4"
      }
    },
    {
      "cell_type": "markdown",
      "source": [],
      "metadata": {
        "id": "sS0ksXdWJ8Ba"
      }
    },
    {
      "cell_type": "markdown",
      "source": [],
      "metadata": {
        "id": "P4PMtSJXJ8Ds"
      }
    },
    {
      "cell_type": "markdown",
      "source": [],
      "metadata": {
        "id": "MF196XlZJ8GC"
      }
    },
    {
      "cell_type": "markdown",
      "source": [],
      "metadata": {
        "id": "wlwYSDvOJ8Ic"
      }
    },
    {
      "cell_type": "markdown",
      "source": [],
      "metadata": {
        "id": "VAP8SHUSJ8KL"
      }
    },
    {
      "cell_type": "markdown",
      "source": [],
      "metadata": {
        "id": "Ft2jcDVeJ8Ni"
      }
    }
  ]
}