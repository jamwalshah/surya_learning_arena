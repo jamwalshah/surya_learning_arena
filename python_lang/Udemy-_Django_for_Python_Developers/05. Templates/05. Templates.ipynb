{
  "nbformat": 4,
  "nbformat_minor": 0,
  "metadata": {
    "colab": {
      "provenance": [],
      "toc_visible": true
    },
    "kernelspec": {
      "name": "python3",
      "display_name": "Python 3"
    },
    "language_info": {
      "name": "python"
    }
  },
  "cells": [
    {
      "cell_type": "markdown",
      "source": [
        "## 027. Introduction\n",
        "\n",
        "- When you've been introduced to the MVT (Model View Template) patternn that django uses, you've been told that `Template` is the component that is responsible for the UI to the end user, which is nothing but rendering the HTML to the browser\n",
        "- In this section, you're going to learn how to create templates, because templates are not just HTML, but also dynamic\n",
        "- These can take the data that view sends to them and these can render that dynamically to the end-user\n",
        "- You'll learn how to to do that using Template tags\n",
        "- We'll also learn how to use static content like images, style sheets, etc. inside your templates while working woth django\n"
      ],
      "metadata": {
        "id": "ulQPOr7LJ7zh"
      }
    },
    {
      "cell_type": "markdown",
      "source": [
        "## 028. Hands on Steps\n",
        "\n",
        "- In the next few lectures, you'll see templates in action\n",
        "  - You'll start by developing a very simple template which will render the text \"Templates in Action from MVT !!\"\n",
        "  - You'll then learn how to pass your name to the web-browser to the template from the view\n",
        "  - You'll then develop a little more sophisticated template, where you'll display the employee information on the UI, you'll also render a beautiful image on to that web-browser\n",
        "- You're going to do all that in very simple steps\n",
        "  - You'll create a project and an application\n",
        "  - Create a templates directory and configure it in settings.py\n",
        "  - Create a template itself, which is an HTML page with some special tags that you're going to learn\n",
        "  - Create a view that'll render / use that template, and also pass map of data to the template from the web\n",
        "  - We'll then configure the URLs and then see the Templates in action\n",
        "  - In this process, we'll learn some super-cool tags that you can use inside the template\n",
        "  - We'll also learn how to include static files like images, style sheets, etc. inside your HTML templates\n",
        "- Also you'll develop a small project where you'll be displaying the various categories of products, its like a small e-Commerce project, where you'll display electronic products, toys, shoes\n",
        "  - When the User clicks on one of these links, the products under those categories will be displayed\n"
      ],
      "metadata": {
        "id": "HADkbe5dJ71s"
      }
    },
    {
      "cell_type": "markdown",
      "source": [
        "## 029. Create the Project with Template Settings\n",
        "\n",
        "- In this lecture, we'll create a new Django project with an application inside it, and we'll set it up, so that we can use templates within that project\n",
        "- To do that, go to your terminal/command-line, make sure you're under the `djangoprojects` directory, and create a new project using below command, hit enter and it'll create a new project named `templateDemo` for us\n",
        "\n",
        "```bash\n",
        "django-admin startproject templatesDemo\n",
        "```\n",
        "\n",
        "- Go into the project directory using below command\n",
        "\n",
        "```bash\n",
        "cd templatesDemo\n",
        "```\n",
        "\n",
        "- and create an app `templatesApp` here using below command\n",
        "\n",
        "```bash\n",
        "python3 manage.py startapp templatesApp\n",
        "```\n",
        "\n",
        "- The next step is to create a templates folder within our project using below command\n",
        "\n",
        "```bash\n",
        "mkdir templates\n",
        "```\n",
        "\n",
        "- `templates` folder is where all our templates will be stored, and within this folder, for each application there will be a separate folder\n",
        "  - Go into `templates` folder, and create a folder `templatesApp`\n",
        "\n",
        "  ```bash\n",
        "  cd templates\n",
        "  mkdir templatesApp\n",
        "  ```\n",
        "\n",
        "  - The next step is to setup this templates folder in the project, we'll do that by going to file explorer and open the `templatesDemo` project in your IDE, and open the `settings.py` of your project, and you'll see that it already includes the import for `os` and it has a base directory `BASE_DIR` which points to the project directory\n",
        "    - All we need to to do is to go to directories `DIRS`, scroll down to the `TEMPLATES` list, here in templates, it has a property called `DIRS` as a list, which is where we should add our directory, as `os.path.join(BASE_DIR, 'templates')`, and `templates` is the directory name which we created earlier to store templates\n",
        "\n",
        "    ```python\n",
        "    import os\n",
        "    TEMPLATES = [\n",
        "        {\n",
        "        'BACKEND': 'django.template.backends.django.DjangoTemplates',\n",
        "        'DIRS': [os.path.join(BASE_DIR, 'templates')],\n",
        "        'APP_DIRS': True,\n",
        "        'OPTIONS': {\n",
        "              'context_processors': [\n",
        "                'django.template.context_processors.debug',\n",
        "                'django.template.context_processors.request',\n",
        "                'django.contrib.auth.context_processors.auth',\n",
        "                'django.contrib.messages.context_processors.messages',\n",
        "            ],\n",
        "          },\n",
        "        },\n",
        "    ]\n",
        "    ```\n",
        "\n",
        "  - the `BASE_DIR` point to the project folder `templatesDemo`, which is what either of these return\n",
        "\n",
        "  ```python\n",
        "  from pathlib import Path\n",
        "  BASE_DIR = Path(__file__).resolve().parent.parent\n",
        "  ```\n",
        "\n",
        "  ```python\n",
        "  import os\n",
        "  BASE_DIR = os.path.dirname(os.path.dirname(os.path.abspath(__file__)))\n",
        "  ```\n",
        "\n",
        "- Now, we have configured the templates directory, so that django knows where to find the templates\n"
      ],
      "metadata": {
        "id": "ChXSXaROJ74F"
      }
    },
    {
      "cell_type": "markdown",
      "source": [
        "## 030. Create a Template and View\n",
        "\n",
        "- The next step is to create a Template and a View that uses the template and renders it on the browser\n",
        "- To do that, goto your IDE, goto the `templates` folder in the project, goto the `templatesApp`, add a new file named `firstTemplate.html`, and then start tying your HTML\n",
        "\n",
        "```HTML\n",
        "<!DOCTYPE html>\n",
        "<html>\n",
        "    <head>\n",
        "        <title>First Template</title>\n",
        "    </head>\n",
        "    <body>\n",
        "        <h1>Templates in action from MVT!!</h1>\n",
        "    </body>\n",
        "</html>\n",
        "```\n",
        "\n",
        "- To use this template, you'll have to goto `views.py`, which will render the template\n",
        "  - first step is to import `render`\n",
        "\n",
        "  ```python\n",
        "  from django.shortcuts import render\n",
        "  ```\n",
        "\n",
        "  - We'll also need the `HttpResponse` if we're using the regular views, but incase of templates, we don't need that, define a method `renderTemplate` that takes a `request` and it returns `render` method which is responsible for taking the `request` that comes in and the `template` that we provide to it, so `render` method will return an `HttpResponse`\n",
        "\n",
        "  ```python\n",
        "  def renderTemplate(request):\n",
        "      return render(request, 'templatesApp/firstTemplate.html')\n",
        "  ```\n",
        "\n",
        "- So, we've created a template which is HTML and then in views, we have created a view that can render the template when a request comes in for it\n"
      ],
      "metadata": {
        "id": "xHNeuq4HJ76R"
      }
    },
    {
      "cell_type": "markdown",
      "source": [
        "## 031. Configure the URL and TEST\n",
        "\n",
        "- The last step is to configure a URL for our view and see our `templatesApp` in action\n",
        "- To do that, goto your IDE, goto the `urls.py` file under your project\n",
        "- You can configure application-level URLs and then include in the project-level `urls.py` file, which is up to you, but here we'll directly configure the URLs/paths inside the project-level\n",
        "\n",
        "```python\n",
        "from templatesApp import views\n",
        "urlpatterns = [\n",
        "    path('admin/', admin.site.urls),\n",
        "    path('firstTemplate/', views.renderTemplate),\n",
        "]\n",
        "```\n",
        "\n",
        "- Now, go back to the terminal/command-line, make sure, you're under the project directory, and run the below command and hit enter, it should start the server for us\n",
        "\n",
        "```bash\n",
        "python3 manage.py runserver\n",
        "```\n",
        "\n",
        "- Now, goto your web-browser, and open `localhost:8000/firstTemplate`, hit enter and you'll see it in action\n",
        "- The key here is that the request goes to the Django server, and it figures out which view should render this request, and in the process it uses the template because we're passing the template to the `render()` method along with the `request`\n",
        "- The `render()` method is responsible for using this `request` and using this `template` and sending the response that template gives back\n"
      ],
      "metadata": {
        "id": "_E95-_UgJ78m"
      }
    },
    {
      "cell_type": "markdown",
      "source": [
        "## 032. Template Tags\n",
        "\n",
        "- So far, we have developed static templates, so templates simply render static data on to the web-browser, but Django supports `Template Tags` or `DTL (Django Template Library)` that we can use to render dynamic data, i.e. whatever data the view sends to the template by fetching from the database through the models, it can be rendered on the UI using the Django template library\n",
        "\n",
        "1. `{{ data }}` - Django Template Variables\n",
        "    - So, here are the tokens to start with two flower-braces `{{` and it ends with two flower-braces `}}` as well, and within this we use variable names\n",
        "    - Using these variable names we send the data from the view, the same variable name if we use within these tokens inside a template HTML file, that will be replaced with actual data\n",
        "    - For Example, if the view sends a variable called `{{ firstName }}` on to the template, and within that variable we use these tokens, and that variable value will be rendered by Django at runtime\n",
        "    - we can use these variable values within the HTML tags as well, and Django will replace these variables with the actual value which comes from the view\n",
        "\n",
        "2. `{% tagName %}` - Django Template Tags\n",
        "    - Another token starts with `{%` and it ends with `%}`\n",
        "    - Within these we can use the template tags, special tags that are provided by the Django itself\n",
        "    - For Example, `{% csrf_token %}` is a template tag provided by Django, and we'll be using this while working with Django Forms later on\n",
        "    - Django will automatically replace the `{% csrf_token %}` with a unique value inside your HTML form\n",
        "    - It is required for security reasons, which you'll learn later on, but the key here is that `{% csrf_token %}` is a template tag name built in into Django\n",
        "    1. `{% x extends y %}`\n",
        "        - Similarly, you can use `{% x extends y %}`, which is another template tag to extend one template from another\n",
        "        - Template inheritance is covered later on, it helps us to reuse templates\n",
        "    2. `{% if condition %} ... {% endif %}`\n",
        "        - Another template tag is `{% if condition %}` , using which we can conditionally execute the HTML code, and it should end with `{% endif %}`\n",
        "        - You can also use `{% for %} ... {% endfor %}` loop, but within these braces-percentages\n",
        "        - You're going to learn a lot of template tags throughout the course, but remember that all these tags are coming from the `DLT (Django Template Library)` and this `{{ }}` syntax is for rendering the data, and `{% %}` syntax is used to use Template Tags provided by Django\n",
        "        - These tags are processed by the **Template Engine**\n",
        "        - If you goto the `settings.py`, when you configure the `TEMPLATES` list, the key-value of `BACKEND` is Template Engine which knows how to process all these tags, and `'BACKEND': 'django.template.backends.django.DjangoTemplates'` is the in-built Template Engine\n",
        "\n",
        "        ```python\n",
        "        TEMPLATES = [\n",
        "            {\n",
        "                'BACKEND': 'django.template.backends.django.DjangoTemplates',\n",
        "                'DIRS': [os.path.join(BASE_DIR, 'templates')],\n",
        "                'APP_DIRS': True,\n",
        "                'OPTIONS': {\n",
        "                    'context_processors': [\n",
        "                        'django.template.context_processors.debug',\n",
        "                        'django.template.context_processors.request',\n",
        "                        'django.contrib.auth.context_processors.auth',\n",
        "                        'django.contrib.messages.context_processors.messages',\n",
        "                    ],\n",
        "                },\n",
        "            },\n",
        "        ]\n",
        "        ```\n",
        "\n",
        "        - There are third-party Template Engines like `Jinja` which can be used but preferably `'BACKEND': 'django.template.backends.django.DjangoTemplates'` is the one which should be used\n"
      ],
      "metadata": {
        "id": "g_5C585bJ7-4"
      }
    },
    {
      "cell_type": "markdown",
      "source": [
        "## 033. Using template tags\n",
        "\n",
        "- In this lecture, you'll learn how to pass data dynamically from `views.py` to `template.html`\n",
        "- We do that in two simple steps\n",
        "  - first step is to pass the data to the `render()` method, the third parameter of the `render()` method is the data which expects the data in dictionary format\n",
        "\n",
        "    ```python\n",
        "    render(request, 'template', data)\n",
        "    ```\n",
        "\n",
        "  - Once we pass the data, second step is that we can retrieve the data inside `template.html` using Template Tags that Django provides\n",
        "  - The syntax for template tags is very simple, within teo flower-braces `{{ }}`, we can retrieve the data which we're sending in the dictionary format and display it on the UI\n",
        "- Lets see that in action, go to your IDE, goto the `views.py` file, in `render()` method, we can pass any data in the dictionary format, so lets pass a name\n",
        "as a dictionary in variable `myDict`, the third parameter in `render()` method is context which is the dictionary variable\n",
        "\n",
        "  ```python\n",
        "  def renderTemplate(request):\n",
        "      myDict={\"name\":\"Surya\"}\n",
        "      return render(request, 'templatesApp/firstTemplate.html', myDict)\n",
        "  ```\n",
        "\n",
        "- Now, goto the `firstTemplate.html` use the template variables in curly-braces `{{ name }}` which is same as the key from the dictionary which you've created in the view, automatically the value for that key will be taken and rendered on the UI\n",
        "\n",
        "  ```HTML\n",
        "  <!DOCTYPE html>\n",
        "  <html>\n",
        "      <head>\n",
        "          <title>First Template</title>\n",
        "      </head>\n",
        "      <body>\n",
        "          <h1>Templates in action from MVT!!</h1>\n",
        "          {{ name }}\n",
        "      </body>\n",
        "  </html>\n",
        "  ```\n",
        "\n",
        "- So, it is this simple to pass data from the view to the template, as a dictionary which is the third parameter to the `render()` method and you use the template tags / template variables that Django provides\n",
        "- These Django tags / Django variables are neither part of python nor a part of HTML, Django internally replaces these template variables with appropriate data on the fly\n"
      ],
      "metadata": {
        "id": "sS0ksXdWJ8Ba"
      }
    },
    {
      "cell_type": "markdown",
      "source": [
        "## 034. Rendering Employee Information\n",
        "\n",
        "- asa\n"
      ],
      "metadata": {
        "id": "P4PMtSJXJ8Ds"
      }
    },
    {
      "cell_type": "markdown",
      "source": [],
      "metadata": {
        "id": "MF196XlZJ8GC"
      }
    },
    {
      "cell_type": "markdown",
      "source": [],
      "metadata": {
        "id": "wlwYSDvOJ8Ic"
      }
    },
    {
      "cell_type": "markdown",
      "source": [],
      "metadata": {
        "id": "VAP8SHUSJ8KL"
      }
    },
    {
      "cell_type": "markdown",
      "source": [],
      "metadata": {
        "id": "Ft2jcDVeJ8Ni"
      }
    }
  ]
}