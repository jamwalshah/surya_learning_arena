{
  "nbformat": 4,
  "nbformat_minor": 0,
  "metadata": {
    "colab": {
      "provenance": [],
      "toc_visible": true
    },
    "kernelspec": {
      "name": "python3",
      "display_name": "Python 3"
    },
    "language_info": {
      "name": "python"
    }
  },
  "cells": [
    {
      "cell_type": "markdown",
      "source": [
        "## 119. Use Template Inheritance on CBV\n",
        "\n",
        "- In this lecture, you'll apply your template inheritance knowledge to the `cbvCRUD` project\n",
        "- Open the project `cbvCRUD`, open folder for `cbvApp`, open `templates`, open any of the templates, and notice that all of these templates have some part common, at the start, and at the end\n",
        "- This application doesn;t have a `header` where we're displaying manu and a `footer` where it has links to various things, but these templates have a common start and a common end\n",
        "- So we can move this common functionality into a base template\n",
        "  - Create a new template `cbvApp/templates/cbvApp/base.html`, and get the HTML boilerplate code, and inside the `<body>` tags, we put a Django block template tag `{% block body_block %}...{% endblock %}` , so the child classes can use these blocks and come up with whatever code they have\n",
        "  - Modify `base.html` as per snipppet below\n",
        "\n",
        "    ```html\n",
        "    <!DOCTYPE html>\n",
        "    <html lang=\"en\" dir=\"ltr\">\n",
        "        <head>\n",
        "            <meta charset=\"utf-8\">\n",
        "            <title></title>\n",
        "        </head>\n",
        "        <body>\n",
        "            {% block body_block %}\n",
        "            {% endblock %}\n",
        "        </body>\n",
        "    </html>\n",
        "    ```\n",
        "\n",
        "- Now Lets open a child template file, open `student_confirm_delete.html`, remove the common portion before `<body>` tag, use the `{% extends \"cbvApp/base.html\" %}` template tag to import the base template file, and then wrap the uncommon child snippet into `{% block body_block %} ... {% endblock %}` template tags, as shown below\n",
        "\n",
        "  ```html\n",
        "  <!DOCTYPE html>\n",
        "  {% extends \"cbvApp/base.html\" %}\n",
        "  {% block body_block %}\n",
        "          <h2>Delete Student {{ student.firstName }} ?</h2>\n",
        "          <form method=\"post\">\n",
        "              <input type=\"submit\" value=\"Confirm\">\n",
        "              <a href=\"/{{ student.id }}\">Cancel</a>\n",
        "              {% csrf_token %}\n",
        "          </form>\n",
        "  {% endblock %}\n",
        "  ```\n",
        "\n",
        "- Repeat the same process for other template files as well\n",
        "- Modify `student_form.html` template as below\n",
        "\n",
        "  ```html\n",
        "  <!DOCTYPE html>\n",
        "  {% extends \"cbvApp/base.html\" %}\n",
        "  {% block body_block %}\n",
        "          <h1>Create Student</h1>\n",
        "          <form method=\"post\">\n",
        "              {{ form.as_p }}\n",
        "              {% csrf_token %}\n",
        "              <input type=\"submit\" value=\"Save\">\n",
        "          </form>\n",
        "  {% endblock %}\n",
        "  ```\n",
        "\n",
        "- Modify `student_detail.html` template as below\n",
        "\n",
        "  ```html\n",
        "  <!DOCTYPE html>\n",
        "  {% extends \"cbvApp/base.html\" %}\n",
        "  {% block body_block %}\n",
        "          <h1>Student Details</h1>\n",
        "          <ol>\n",
        "              <h3><li>First Name: {{ student.firstName }}</li></h3>\n",
        "              <h3><li>Last Name: {{ student.lastName }}</li></h3>\n",
        "              <h3><li>Test Score: {{ student.testScore }}</li></h3>\n",
        "              <h3><li><a href=\"/delete/{{ student.id }}\">Delete</a></li></h3>\n",
        "              <h3><li><a href=\"/update/{{ student.id }}\">Update</a></li></h3>\n",
        "          </ol>\n",
        "  {% endblock %}\n",
        "  ```\n",
        "\n",
        "- Modify `student_list.html` template as below\n",
        "\n",
        "  ```html\n",
        "  <!DOCTYPE html>\n",
        "  {% extends \"cbvApp/base.html\" %}\n",
        "  {% block body_block %}\n",
        "          <h1>Students</h1>\n",
        "          <table border=2>\n",
        "              <thead>\n",
        "                  <th>Id</th>\n",
        "                  <th>First Name</th>\n",
        "                  <th>Last Name</th>\n",
        "                  <th>Test Score</th>\n",
        "              </thead>\n",
        "              {% for student in student_list %}\n",
        "                  <tr>\n",
        "                      <td><a href=\"/{{ student.id }}\">{{ student.id }}</a></td>\n",
        "                      <td>{{ student.firstName }}</td>\n",
        "                      <td>{{ student.lastName }}</td>\n",
        "                      <td>{{ student.testScore }}</td>\n",
        "                  </tr>\n",
        "              {% endfor %}\n",
        "          </table>\n",
        "          <br/><br/><br/>\n",
        "          <a href=\"/create\">Add Student</a>\n",
        "  {% endblock %}\n",
        "  ```\n",
        "\n",
        "- Now goto the project directory `djangoprojects\\cbvCRUD`, and run the command below to run the Django server\n",
        "\n",
        "  ```bash\n",
        "  python manage.py runserver\n",
        "  ```\n",
        "\n",
        "- Now open the web-browser and visit the URL at `localshost:8000/students`, and it still works as expected, but we're reusing a lot of stuff\n",
        "- So, everything goes into the the parent template which is `base.html`, and the child template inherited from the parent template, whatever snippet specific to child template is put into the `{% block block_name %}...{% endblock %}` template tag\n",
        "\n"
      ],
      "metadata": {
        "id": "VDbDLzGDjKho"
      }
    },
    {
      "cell_type": "markdown",
      "source": [
        "## 120. Filters in Action\n",
        "\n",
        "- In this lecture, you'll learn how easy it is to apply filters to your templates\n",
        "- To do that, goto the"
      ],
      "metadata": {
        "id": "cqFe7WJjjKfG"
      }
    },
    {
      "cell_type": "markdown",
      "source": [
        "## 121. User Defined Filters\n",
        "\n",
        "- asa\n"
      ],
      "metadata": {
        "id": "do0mbEZNjKc1"
      }
    },
    {
      "cell_type": "markdown",
      "source": [
        "## 122. Using Custom Filter\n",
        "\n",
        "- asa\n"
      ],
      "metadata": {
        "id": "GklVP529jKak"
      }
    },
    {
      "cell_type": "markdown",
      "source": [
        "## 123. Registering a Filter using a decorator\n",
        "\n",
        "- asa\n"
      ],
      "metadata": {
        "id": "oa0qgD6LjKYa"
      }
    },
    {
      "cell_type": "markdown",
      "source": [
        "## 124. Passing Arguments\n",
        "\n",
        "- asa\n"
      ],
      "metadata": {
        "id": "nfB0XGqsjiwM"
      }
    }
  ]
}