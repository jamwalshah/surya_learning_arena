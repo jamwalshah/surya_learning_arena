{
  "nbformat": 4,
  "nbformat_minor": 0,
  "metadata": {
    "colab": {
      "provenance": [],
      "toc_visible": true
    },
    "kernelspec": {
      "name": "python3",
      "display_name": "Python 3"
    },
    "language_info": {
      "name": "python"
    }
  },
  "cells": [
    {
      "cell_type": "markdown",
      "source": [
        "## 001. Course and Instructor Introduction\n",
        "\n",
        "- We'll start this course by learning what `Django` is and the advantages of using Django for python web development\n",
        "- We'll then move on to master the `MVT (Model View Template)` design pattern that Django internally uses\n",
        "- We'll understand the various components that make up this pattern and `Why` Django uses it\n"
      ],
      "metadata": {
        "id": "jbzapD8Q3tKE"
      }
    },
    {
      "cell_type": "markdown",
      "source": [
        "- ![Djano-MVT.png](data:image/png;base64,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)\n",
        "-"
      ],
      "metadata": {
        "id": "obA_G-AB3tGh"
      }
    },
    {
      "cell_type": "markdown",
      "source": [
        "- We'll then move to the simple software setup where you'll install\n",
        "  - Django\n",
        "  - ATOM IDE\n",
        "  - database is MySWL and its client tool is MySQL Workbench which will help us connect to SQL database and do SQL operations\n"
      ],
      "metadata": {
        "id": "9KuYE3cA5j4t"
      }
    },
    {
      "cell_type": "markdown",
      "source": [
        "- Creating a Django project is super easy\n",
        "  - We'll be using Django CLI or the `django-admmin` utility to do that from command line\n",
        "  - We'll be creating `views`\n",
        "  - and configuring `URLs` for those views in simple steps\n",
        "- And, while doing that we'll understand the project structure\n"
      ],
      "metadata": {
        "id": "LuNQ1xxf5j1L"
      }
    },
    {
      "cell_type": "markdown",
      "source": [
        "- `T` in `MVT` stands for `Templates`\n",
        "  - We'll be creating templates\n",
        "  - We'll use `Template Tags` to render dynamic data\n",
        "  - We'll also embed `static` content like CSS and images into our templates in template section\n"
      ],
      "metadata": {
        "id": "wbqxoYkpCbEQ"
      }
    },
    {
      "cell_type": "markdown",
      "source": [
        "- Next, we'll move on to the dynamic portions of the web application which is ,the `Model` which stands for `M` in `MVT`\n",
        "  - it represents a database table\n",
        "  - so, we'll learn what Model is, how to use it to interact with the database without writing any SQL code\n",
        "  - We're going to use Django `ORM (Object Relational Mapping)`, where we'llbe doing all the operations on the objects, and internally SQL code will be generated for you, thanks to DJango ORM\n"
      ],
      "metadata": {
        "id": "vMl_R2UFCbAy"
      }
    },
    {
      "cell_type": "markdown",
      "source": [
        "- We'll then collect the end user data through Djanog `Forms` and we'll also upgrade it to `Model Forms`\n",
        "  - Model Forms are directly tied to the Model that we create\n",
        "  - There are several advantages to using them\n",
        "  - We'll learn what advantages those are, and use the `inbuilt validators` that come with these Django forms, and also write custom validations of our own\n",
        "- At this point we have pretty much everything that we can use to create Django web applications\n"
      ],
      "metadata": {
        "id": "KP7lJrtOCa-m"
      }
    },
    {
      "cell_type": "markdown",
      "source": [
        "- So, we're going to perform `CRUD` Operations, Create, Read, Update & Delete against a database from within our Django web application\n",
        "  - we'll do that using both `Function Based Views (FBV)` as well as `Class Based Views (CBV)`, once you master what they're\n"
      ],
      "metadata": {
        "id": "J51LEvdxCa8q"
      }
    },
    {
      "cell_type": "markdown",
      "source": [
        "- We'll then move on to learn the advanced topics like `Advanced Template Features` like\n",
        "  - `Template Inhertiance`\n",
        "  - How to manage sessions using cookies as well as DJango `Session Management` API\n",
        "  - Implement `Security` for our web application and use `Middleware`\n",
        "    - The Django architecture is completely based on middleware which is like a filter or app plugin\n",
        "    - So, we'll learn how Django internally uses Middleware and we'll also learn `Middleware Lifecycle`, and we'll also create our own middleware\n"
      ],
      "metadata": {
        "id": "KrzAZWnHCa6T"
      }
    },
    {
      "cell_type": "markdown",
      "source": [
        "- At the end of it, we'll apply all the knowledge we have gainded from the course to implement a `Clinical Data Reporting Application`\n",
        "  - We'll `gather Patient Clinical Data`, and `generate Reports` out of it\n",
        "- And while doing that, we'll apply all the knowledge that we've gained from all the sections in the course\n"
      ],
      "metadata": {
        "id": "iDyjgAhuCa4R"
      }
    },
    {
      "cell_type": "markdown",
      "source": [
        "## 002. How to use this course\n",
        "\n",
        "- This course is divided into short and to-the-point lectures which are organized into sections\n",
        "- At the end of each section, you'll find a quiz on assignment that will help you to evaluate the knowledge that you've gained from that section\n",
        "- And, to work on these assignments on hands-on lectures, you'll do an easy software setup where you'll install Django, MySQL database and MySQL WorkBench, as well as ATOM Which is a free open-source IDE that will make our life as a developer super eazy to work with Django\n",
        "- We suggest that you this software setup right at the beginning of the course so that you can work on all the hands-on lectures in parallel with us\n",
        "- At the end of this course, you'll be an Django expert, but for that to happen You should work on all the hands on lectures with us and finish your assignments\n"
      ],
      "metadata": {
        "id": "ocH5KzqtCa1-"
      }
    },
    {
      "cell_type": "markdown",
      "source": [
        "## 003. Completed Projects for Download\n",
        "\n",
        "- This is a complete hands-on course, so we're going to create a lot of projects from scratch throughout this course at any point\n",
        "- If you have any issues with your code or configurations when you run your applications, you can always compare your code and conflict with the projects that you can download\n",
        "- You can go to the resources section of this lecture and download the following zip file `djangoprojects.zip`\n",
        "- Once you unzip the contents of it, you'll have all the completed projects wil all the correct code and config\n"
      ],
      "metadata": {
        "id": "PQ9QAbeWCaeD"
      }
    },
    {
      "cell_type": "markdown",
      "source": [
        "## 004. Slides Used in the Course\n",
        "\n",
        "- By going to the resources of this lecture, you'll be able to download a zip file that has all the slides that are used throughout the course\n",
        "- You'll find a keynote presentation and also a Microsoft Power Point Presentation\n",
        "- If you're on Mac, you'll use keynote, or if you're on windows, the Micosoft Power Point is for you\n",
        "- So, You can use these to quicly revise the topics, especially when you're attending an interview\n"
      ],
      "metadata": {
        "id": "AMZHYZ8w5jx8"
      }
    },
    {
      "cell_type": "code",
      "source": [],
      "metadata": {
        "id": "aqIWGvSNIYqD"
      },
      "execution_count": null,
      "outputs": []
    }
  ]
}