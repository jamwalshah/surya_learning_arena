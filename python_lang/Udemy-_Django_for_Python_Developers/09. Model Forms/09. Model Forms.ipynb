{
  "nbformat": 4,
  "nbformat_minor": 0,
  "metadata": {
    "colab": {
      "provenance": [],
      "toc_visible": true
    },
    "kernelspec": {
      "name": "python3",
      "display_name": "Python 3"
    },
    "language_info": {
      "name": "python"
    }
  },
  "cells": [
    {
      "cell_type": "markdown",
      "source": [
        "## 081. Introduction\n",
        "\n",
        "- In this section, you'll be learning how to use Model based forms\n",
        "- Model based forms make our life so much easier, because we develop the form based on a particular Model class we've already created\n",
        "- So, you'll create a class called `MyForm` or whatever name, which will inherit `forms.ModelForm` this time\n",
        "- And we need not specify all the fields from scratch, we simply use a `Meta` class and tell Django which Model, this form should be based off, for example `model = Employee`, and on that Model we can optionally specify the fields we want to include, weather you want to include all the fields `fields = '__all__'` or only some of the fields which you can do using a list\n",
        "- The advantage here is that we can directly take the data that comes from this form, and save it to the database because we have a link from this form to the  Model and to the database\n",
        "- So our work as a developer is lot more easier if we use Model forms\n",
        "\n"
      ],
      "metadata": {
        "id": "RaeP3VyyPnqC"
      }
    },
    {
      "cell_type": "markdown",
      "source": [
        "## 082. Hands On Steps\n",
        "\n",
        "- In the next few lectures, we'll be creating Model based forms\n",
        "- To do that, you'll\n",
        "  1. first `Create a Model` object\n",
        "  2. then `Create the Form` of the Model object, once you have the Model, you need not repeat all those fields in the form, you can use a meta class and tell that we want to use all the fields from that Model\n",
        "  3. then `Create the View` which will render the form as well as this view is responsible for processing the data once the form is submitted and even save the data to the database\n",
        "  4. we'll also `Create the HTML templates`\n",
        "  5. `Configure the URLs and Test` our application\n",
        "- The Model we're going to work on is a Project, it could be a roadwork, it could be a software project, which will have `startDate`, `endDate`, `name`, `assignedTo` and `priority`\n",
        "- The home page will display two links\n",
        "  1. `List Project`\n",
        "  2. `Add Project`\n",
        "- When clicked on `Add Project`, it'll go to the form that you'll be creating, this form is based on the Model class we'll be creating, we'll have all the fields from the Model, you can add the project details in the form, and once we submit it, it'll submit to the database\n",
        "- Then we can look at all the projects by clicking on the `List Projects` link, and it'll display all the projects in the database to the end-user as an HTML table\n",
        "\n"
      ],
      "metadata": {
        "id": "26Aoly0hPnny"
      }
    },
    {
      "cell_type": "markdown",
      "source": [
        "## 083. Create the project and model\n",
        "\n",
        "- The first step is to create a Project and create a Model within that project called `Project`\n",
        "- The `Project` Model should have the following fields, `startDate`, `endDate`, `name`, `assignedTo` and `priority`\n",
        "- Goto your command-line/terminal, make sure you're under the project's directory `djangoprojects`, and create a new project using the command below\n",
        "\n",
        "  ```bash\n",
        "  django-admin startproject modelFormsDemo\n",
        "  ```\n",
        "\n",
        "- change directory into that project `modelFormsDemo` using command below\n",
        "\n",
        "  ```bash\n",
        "  cd modelFormsDemo\n",
        "  ```\n",
        "\n",
        "- Once you're in there, use the command below to create an app `modelForms`\n",
        "\n",
        "  ```bash\n",
        "  python manage.py startapp modelForms\n",
        "  ```\n",
        "\n",
        "- Grab your project and open it in your IDE\n",
        "- Now, create a folder named `templates` in the project directory `djangoprojects\\modelFormsDemo`\n",
        "- Now, goto `settings.py` and lets do the templates, search for `TEMPLATES` property and add the templates directory to the `DIRS` in it\n",
        "\n",
        "  ```python\n",
        "  TEMPLATES = [\n",
        "      {\n",
        "          'BACKEND': 'django.template.backends.django.DjangoTemplates',\n",
        "          'DIRS': [BASE_DIR / 'templates'],\n",
        "          'APP_DIRS': True,\n",
        "          'OPTIONS': {\n",
        "              'context_processors': [\n",
        "                  'django.template.context_processors.debug',\n",
        "                  'django.template.context_processors.request',\n",
        "                  'django.contrib.auth.context_processors.auth',\n",
        "                  'django.contrib.messages.context_processors.messages',\n",
        "              ],\n",
        "          },\n",
        "      },\n",
        "  ]\n",
        "  ```\n",
        "\n",
        "- Now goto `models.py` and Lets create a model class `Project(models.Model)` there\n",
        "\n",
        "  ```python\n",
        "  from django.db import models\n",
        "\n",
        "  # Create your models here.\n",
        "  class Project(models.Model):\n",
        "      startDate = models.DateField()\n",
        "      endDate  = models.DateField()\n",
        "      name = models.CharField()\n",
        "      assignedTo = models.CharField()\n",
        "      priority = models.IntegerField()\n",
        "      \n",
        "  ```\n",
        "\n",
        "- In this lecture, we've created a project set it to use templates, and also, you've created the model for it which has 5 fields\n",
        "\n"
      ],
      "metadata": {
        "id": "cDGlmeTUPnlj"
      }
    },
    {
      "cell_type": "markdown",
      "source": [
        "## 084. Create the Model form\n",
        "\n",
        "-"
      ],
      "metadata": {
        "id": "NQ4k4bvPPnjS"
      }
    },
    {
      "cell_type": "markdown",
      "source": [],
      "metadata": {
        "id": "k8kzPoYXPngz"
      }
    },
    {
      "cell_type": "markdown",
      "source": [],
      "metadata": {
        "id": "p1S4XKS7Pner"
      }
    },
    {
      "cell_type": "markdown",
      "source": [],
      "metadata": {
        "id": "6kycYgCePncf"
      }
    },
    {
      "cell_type": "markdown",
      "source": [],
      "metadata": {
        "id": "Dh6QyGgxPnaC"
      }
    },
    {
      "cell_type": "markdown",
      "source": [],
      "metadata": {
        "id": "qLxq7-A9PnXq"
      }
    },
    {
      "cell_type": "markdown",
      "source": [],
      "metadata": {
        "id": "PQSw1C8IPnVq"
      }
    },
    {
      "cell_type": "markdown",
      "source": [],
      "metadata": {
        "id": "GFWqjrKqPnTY"
      }
    },
    {
      "cell_type": "markdown",
      "source": [],
      "metadata": {
        "id": "aVInP_i7PnRD"
      }
    },
    {
      "cell_type": "markdown",
      "source": [],
      "metadata": {
        "id": "1zvMugvqPnO7"
      }
    },
    {
      "cell_type": "markdown",
      "source": [],
      "metadata": {
        "id": "iFCh0LZAPnMj"
      }
    },
    {
      "cell_type": "markdown",
      "source": [],
      "metadata": {
        "id": "1W1CLqF2PnKZ"
      }
    },
    {
      "cell_type": "markdown",
      "source": [],
      "metadata": {
        "id": "-nm6MJ_iPnJf"
      }
    }
  ]
}