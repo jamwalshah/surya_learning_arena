{
  "nbformat": 4,
  "nbformat_minor": 0,
  "metadata": {
    "colab": {
      "provenance": [],
      "toc_visible": true
    },
    "kernelspec": {
      "name": "python3",
      "display_name": "Python 3"
    },
    "language_info": {
      "name": "python"
    }
  },
  "cells": [
    {
      "cell_type": "markdown",
      "source": [
        "## 081. Introduction\n",
        "\n",
        "- In this section, you'll be learning how to use Model based forms\n",
        "- Model based forms make our life so much easier, because we develop the form based on a particular Model class we've already created\n",
        "- So, you'll create a class called `MyForm` or whatever name, which will inherit `forms.ModelForm` this time\n",
        "- And we need not specify all the fields from scratch, we simply use a `Meta` class and tell Django which Model, this form should be based off, for example `model = Employee`, and on that Model we can optionally specify the fields we want to include, weather you want to include all the fields `fields = '__all__'` or only some of the fields which you can do using a list\n",
        "- The advantage here is that we can directly take the data that comes from this form, and save it to the database because we have a link from this form to the  Model and to the database\n",
        "- So our work as a developer is lot more easier if we use Model forms\n",
        "\n"
      ],
      "metadata": {
        "id": "RaeP3VyyPnqC"
      }
    },
    {
      "cell_type": "markdown",
      "source": [
        "## 082. Hands On Steps\n",
        "\n",
        "- In the next few lectures, we'll be creating Model based forms\n",
        "- To do that, you'll\n",
        "  1. first `Create a Model` object\n",
        "  2. then `Create the Form` of the Model object, once you have the Model, you need not repeat all those fields in the form, you can use a meta class and tell that we want to use all the fields from that Model\n",
        "  3. then `Create the View` which will render the form as well as this view is responsible for processing the data once the form is submitted and even save the data to the database\n",
        "  4. we'll also `Create the HTML templates`\n",
        "  5. `Configure the URLs and Test` our application\n",
        "- The Model we're going to work on is a Project, it could be a roadwork, it could be a software project, which will have `startDate`, `endDate`, `name`, `assignedTo` and `priority`\n",
        "- The home page will display two links\n",
        "  1. `List Project`\n",
        "  2. `Add Project`\n",
        "- When clicked on `Add Project`, it'll go to the form that you'll be creating, this form is based on the Model class we'll be creating, we'll have all the fields from the Model, you can add the project details in the form, and once we submit it, it'll submit to the database\n",
        "- Then we can look at all the projects by clicking on the `List Projects` link, and it'll display all the projects in the database to the end-user as an HTML table\n",
        "\n"
      ],
      "metadata": {
        "id": "26Aoly0hPnny"
      }
    },
    {
      "cell_type": "markdown",
      "source": [
        "## 083. Create the project and model\n",
        "\n",
        "- The first step is to create a Project and create a Model within that project called `Project`\n",
        "- The `Project` Model should have the following fields, `startDate`, `endDate`, `name`, `assignedTo` and `priority`\n",
        "- Goto your command-line/terminal, make sure you're under the project's directory `djangoprojects`, and create a new project using the command below\n",
        "\n",
        "  ```bash\n",
        "  django-admin startproject modelFormsDemo\n",
        "  ```\n",
        "\n",
        "- change directory into that project `modelFormsDemo` using command below\n",
        "\n",
        "  ```bash\n",
        "  cd modelFormsDemo\n",
        "  ```\n",
        "\n",
        "- Once you're in there, use the command below to create an app `modelForms`\n",
        "\n",
        "  ```bash\n",
        "  python manage.py startapp modelForms\n",
        "  ```\n",
        "\n",
        "- Grab your project and open it in your IDE\n",
        "- Now, create a folder named `templates` in the project directory `djangoprojects\\modelFormsDemo`\n",
        "- Now, goto `settings.py` and lets do the templates, search for `TEMPLATES` property and add the templates directory to the `DIRS` in it\n",
        "\n",
        "  ```python\n",
        "  TEMPLATES = [\n",
        "      {\n",
        "          'BACKEND': 'django.template.backends.django.DjangoTemplates',\n",
        "          'DIRS': [BASE_DIR / 'templates'],\n",
        "          'APP_DIRS': True,\n",
        "          'OPTIONS': {\n",
        "              'context_processors': [\n",
        "                  'django.template.context_processors.debug',\n",
        "                  'django.template.context_processors.request',\n",
        "                  'django.contrib.auth.context_processors.auth',\n",
        "                  'django.contrib.messages.context_processors.messages',\n",
        "              ],\n",
        "          },\n",
        "      },\n",
        "  ]\n",
        "  ```\n",
        "\n",
        "- Now goto `models.py` and Lets create a model class `Project(models.Model)` there\n",
        "\n",
        "  ```python\n",
        "  from django.db import models\n",
        "\n",
        "  # Create your models here.\n",
        "  class Project(models.Model):\n",
        "      startDate = models.DateField()\n",
        "      endDate  = models.DateField()\n",
        "      name = models.CharField()\n",
        "      assignedTo = models.CharField()\n",
        "      priority = models.IntegerField()\n",
        "      \n",
        "  ```\n",
        "\n",
        "- In this lecture, we've created a project set it to use templates, and also, you've created the model for it which has 5 fields\n",
        "\n"
      ],
      "metadata": {
        "id": "cDGlmeTUPnlj"
      }
    },
    {
      "cell_type": "markdown",
      "source": [
        "## 084. Create the Model form\n",
        "\n",
        "- The next step is to create a form using the Model which we've already developed\n",
        "- Now goto app `ModelForms`, and create a new file in it called `forms.py` which is where our forms will live\n",
        "  - In `forms.py`, create a Model class `ProjectForm(forms.ModelForm)`, which has a class `Meta`\n",
        "  - Now you need to import your Model class `Project` from `modelForms.models`\n",
        "  - Inside `Meta` class, specify the `model` as your model class `Project`, `fields` will be set to `__all__` which tells Django that we want to include all the fields from our Model class `Project`\n",
        "  - You can also include only some of the fields, or we can exclude some of the fields, we'll show you later on once we run this project\n",
        "\n",
        "    ```python\n",
        "    from django import forms\n",
        "    from modelForms.models import Project\n",
        "\n",
        "    class ProjectForm(forms.ModelForm):\n",
        "        class Meta:\n",
        "            model = Project\n",
        "            fields = '__all__'\n",
        "    ```\n",
        "\n",
        "- In this lecture, we have learnt how to create a Model form by inheriting your form class from `forms.ModelForm`, inside that you create a `Meta` class as an inner class which tells Django which model should be used in this form and also the fields that should be included from that Model\n",
        "\n"
      ],
      "metadata": {
        "id": "NQ4k4bvPPnjS"
      }
    },
    {
      "cell_type": "markdown",
      "source": [
        "## 085. Create the Views\n",
        "\n",
        "- In this lecture you'll start creating the views for our application\n",
        "- There are three different views\n",
        "  1. `index.html` : is responsible for rendering the index page which is the starting point of our application, and in this page there will be options for the end user with two links which are the other two views\n",
        "  2. `listProjects.html` : first link on index page will render this view which is responsible for rendering this template that will list all the projects in the database\n",
        "  3. `addProject.html` : second link on index page will render third view which is where end-user can add a project to the database, this is where we're using the form that we've created\n",
        "- Goto your IDE, we'll create a couple of views in this lecture, and the third one in the next lecture\n",
        "- Open `views.py`, and first import `ProjectForm` from `modelForms.forms` and `Project` from `modelForms.models`\n",
        "  - Now create a view function for the first view as `index(request)` which will render the template `modelForms/index.html`\n",
        "  - Create view function for another view as `listProjects(request)` which will first fetch all the records/projects from the database, and then render it to template `modelForms/listProjects.html`\n",
        "\n",
        "    ```python\n",
        "    from django.shortcuts import render\n",
        "    from modelForms.forms import ProjectForm\n",
        "    from modelForms.models import Project\n",
        "\n",
        "    # Create your views here.\n",
        "    def index(request):\n",
        "        return render(request, 'modelForms/index.html')\n",
        "\n",
        "    def listProjects(request):\n",
        "        projectsList = Project.objects.all()\n",
        "        return render(request, 'modelForms/listProjects.html', {'projects':projectsList})\n",
        "    ```\n",
        "\n",
        "- So, in this lecture, we've successfully created two different view, the `index(request)` view which is responsible for rendering the `index.html` template, and the `listProjects(request)` view that will retrieve all the projects from the database and it'll send it to a template `listProjects.html`\n",
        "\n"
      ],
      "metadata": {
        "id": "k8kzPoYXPngz"
      }
    },
    {
      "cell_type": "markdown",
      "source": [
        "## 086. Create the Add Project View\n",
        "\n",
        "- The last view is the `addProject` view, this is a little more involved compared with other views, as this is where we are going to use the form that we've created\n",
        "- Create a view function `addProject(request)` which will render the form `ProjectForm` that we've created to the template `modelForms/AddProject.html`\n",
        "  - Once we submit the submit button, we have to handle the form using the `request` object, we check if the method of request is `POST`, then we check, if the `request.POST` that form has sent is valid or not using `form.is_valid()`, and if found valid we use `form.save()` method to save the changes in the model because this form is a Model form which inherits the `forms.ModelForm`\n",
        "  - and at the end of this view, we'll return the `index(request)` view by passing it the request, which is exactly how we navigate from one UI/view to another view\n",
        "  - So when the user finishes submitting the form, instead of going back to the same form, we can goto the index page where the user can select among the options to list the projects or add a project here\n",
        "\n",
        "    ```python\n",
        "    from django.shortcuts import render\n",
        "    from modelForms.forms import ProjectForm\n",
        "    from modelForms.models import Project\n",
        "\n",
        "    # Create your views here.\n",
        "    def index(request):\n",
        "        return render(request, 'modelForms/index.html')\n",
        "\n",
        "    def listProjects(request):\n",
        "        projectsList = Project.objects.all()\n",
        "        return render(request, 'modelForms/listProjects.html', {'projects':projectsList})\n",
        "\n",
        "    def addProject(request):\n",
        "        form = ProjectForm()\n",
        "        if request.method == 'POST':\n",
        "            form = ProjectForm(request.POST)\n",
        "            if form.is_valid():\n",
        "                form.save()\n",
        "            return index(request=request)\n",
        "        return render(request, 'modelForms/AddProject.html', {'form':form})\n",
        "    ```\n",
        "\n",
        "- In this lecture, we've successfully created a `addProject(request)` view that takes a request, `ProjectForm` is the form that we initially displayed to the user, once he enters the data we're handling the data using the POST request `request.POST` that comes in and if the request method `request.method` is POST, then we're getting the form that has all the data from the POST request `request.POST`, then we're validating the form request `form.is_valid()`, then we're saving the form request data `form` by invoking the `form.save()`, and then we're returning the user to the `index(request)` view\n",
        "\n"
      ],
      "metadata": {
        "id": "p1S4XKS7Pner"
      }
    },
    {
      "cell_type": "markdown",
      "source": [
        "## 087. Create the Index Template\n",
        "\n",
        "- In this lecture, we'll start creating the templates or the HTML pages\n",
        "- To do that, goto the `templates` directory and create a new folder under it named `modelForms`\n",
        "- Now create the first template file `index.html` in `djangoprojects/modelFormsDemo/templates/modelForms` directory\n",
        "- Now open this `templates/modelForms/index.html` file, and modify it as per below code to add two links to other two templates\n",
        "\n",
        "  ```html\n",
        "  <!DOCTYPE html>\n",
        "  <html lang=\"en\" dir=\"ltr\">\n",
        "      <head>\n",
        "          <meta charset=\"utf-8\">\n",
        "          <title>Projects</title>\n",
        "      </head>\n",
        "      <body>\n",
        "          <a href=\"/listProjects\">List Projects</a><br/>\n",
        "          <a href=\"/addProject\">Add Project</a>\n",
        "      </body>\n",
        "  </html>\n",
        "  ```\n",
        "\n",
        "- So this is the first template\n",
        "\n"
      ],
      "metadata": {
        "id": "6kycYgCePncf"
      }
    },
    {
      "cell_type": "markdown",
      "source": [
        "## 088. Create the List Projects Template\n",
        "\n",
        "- The second template that we're going to create is the `listProjects.html`\n",
        "- Goto the `templates/modelForms` directory and create a new template file `listProjects.html` in `djangoprojects/modelFormsDemo/templates/modelForms` directory\n",
        "- Now open this `templates/modelForms/listProjects.html` file, and modify it as per below code\n",
        "\n",
        "  ```html\n",
        "  <!DOCTYPE html>\n",
        "  <html lang=\"en\" dir=\"ltr\">\n",
        "      <head>\n",
        "          <meta charset=\"utf-8\">\n",
        "          <title>Projects List</title>\n",
        "      </head>\n",
        "      <body>\n",
        "          {% if projects %}\n",
        "          <table>\n",
        "              <thead>\n",
        "                  <th>Name</th>\n",
        "                  <th>Start Date</th>\n",
        "                  <th>End Date</th>\n",
        "                  <th>Assigned To</th>\n",
        "                  <th>Priority</th>\n",
        "              </thead>\n",
        "              {% for project in projects %}\n",
        "                  <tr>\n",
        "                      <td>{{ project.name }}</td>\n",
        "                      <td>{{ project.startDate }}</td>\n",
        "                      <td>{{ project.endDate }}</td>\n",
        "                      <td>{{ project.assignedTo }}</td>\n",
        "                      <td>{{ project.priority }}</td>\n",
        "                  </tr>\n",
        "              {% endfor %}\n",
        "          </table>\n",
        "          {% else %}\n",
        "          <p>No Projects Found</p>\n",
        "          {% endif %}\n",
        "      </body>\n",
        "  </html>\n",
        "  ```\n",
        "\n",
        "- So, we've created a template for listing the projects, within which we're checking if the `projects` exist from the data/view, if there are projects then we're rendering it in a table, along with that we're using Django `for` template tag to render one row per record in the database, otherwise if we don't have any projects from the view, we'll display a message for no projects found\n",
        "\n"
      ],
      "metadata": {
        "id": "Dh6QyGgxPnaC"
      }
    },
    {
      "cell_type": "markdown",
      "source": [
        "## 089. Create the Add Project Template\n",
        "\n",
        "- The last template is the `addProject.html`\n",
        "- Before we move ahead, make sure that this `listProjects.html` template is under the `templates/modelForms` directory, not under directly `templates`, otherwise, move this file to `templates/modelForms`\n",
        "- Goto the `templates/modelForms` directory and create a new template file `addProject.html` in `djangoprojects/modelFormsDemo/templates/modelForms` directory\n",
        "- Now open this `templates/modelForms/addProjects.html` file, and modify it as per below code\n",
        "\n",
        "  ```html\n",
        "  <!DOCTYPE html>\n",
        "  <html lang=\"en\" dir=\"ltr\">\n",
        "      <head>\n",
        "          <meta charset=\"utf-8\">\n",
        "          <title>Add Project</title>\n",
        "      </head>\n",
        "      <body>\n",
        "          <h1>Add Project:</h1>\n",
        "          <form method=\"post\">\n",
        "              {{ form.as_p }}\n",
        "              {% csrf_token %}\n",
        "              <input type=\"submit\" value=\"Add Project\">\n",
        "          </form>\n",
        "      </body>\n",
        "  </html>\n",
        "  ```\n",
        "\n"
      ],
      "metadata": {
        "id": "qLxq7-A9PnXq"
      }
    },
    {
      "cell_type": "markdown",
      "source": [
        "## 090. Configure URLs\n",
        "\n",
        "- The last step is to configure the URLs for our views\n",
        "- Start doing that by opening the `urls.py` file, and modify the file as shown below to add paths to the three views `index`, `listProjects` & `addProject`\n",
        "\n",
        "  ```python\n",
        "  from django.contrib import admin\n",
        "  from django.urls import path\n",
        "  from modelForms import views\n",
        "\n",
        "  urlpatterns = [\n",
        "      path('admin/', admin.site.urls),\n",
        "      path('', views.index), # empty route means root path of app\n",
        "      path('listProjects/', views.listProjects),\n",
        "      path('addProject/', views.addProject),\n",
        "  ]\n",
        "  ```\n",
        "\n",
        "- So, we've configured all the three URLs successfully\n",
        "\n"
      ],
      "metadata": {
        "id": "PQSw1C8IPnVq"
      }
    },
    {
      "cell_type": "markdown",
      "source": [
        "## 091. Configure MySQL\n",
        "\n",
        "- In this lecture, you'll setup MySQL database for your project\n",
        "- To do that, you can refer to `ModelDemo` project that you've worked on earlier\n",
        "- Goto MySQL WOrkbench or your MySQL client\n",
        "  - Run below command to create the database and we have the `projectdb` setup\n",
        "  \n",
        "  ```SQL\n",
        "  CREATE DATABASE projectdb;\n",
        "  ```\n",
        "  \n",
        "- Go back to our project in IDE, open `modelFormsDemo` project and open the `settings.py` file, search for property `DATABASES`, set the `ENGINE` to `django.db.backends.mysql`, `NAME` as `projectdb`, and other credentials of database\n",
        "\n",
        "  ```python\n",
        "  DATABASES = {\n",
        "      'default': {\n",
        "          'ENGINE': 'django.db.backends.mysql',\n",
        "          'NAME': 'projectdb',\n",
        "          'USER': 'root',\n",
        "          'PASSWORD': 'mysql',\n",
        "      }\n",
        "  }\n",
        "  ```\n",
        "\n",
        "- Now, if you want to make sure the database configuration is okay, you can always goto command-line under you project where it has `manage.py` file and run the below command which will open an interactive shell\n",
        "\n",
        "    ```bash\n",
        "    python manage.py shell\n",
        "    ```\n",
        "\n",
        "  - Now in the python interactive shell, run the commands below, and if the second command runs without any error, it means our project has good database configuration to connect and work with MySQL\n",
        "\n",
        "    ```python\n",
        "    from django.db import connection\n",
        "    c = connection.cursor()\n",
        "    ```\n",
        "\n"
      ],
      "metadata": {
        "id": "GFWqjrKqPnTY"
      }
    },
    {
      "cell_type": "markdown",
      "source": [
        "## 092. Run Migrations\n",
        "\n",
        "- In this lecture, we'll run the migrations for our project, which will create the database tables\n",
        "- Before, we do that, in `settings.py`, search for `INSTALLED_APPS` property, make sure the app is appended here which is `modelForms`\n",
        "\n",
        "  ```python\n",
        "  INSTALLED_APPS = [\n",
        "      'django.contrib.admin',\n",
        "      'django.contrib.auth',\n",
        "      'django.contrib.contenttypes',\n",
        "      'django.contrib.sessions',\n",
        "      'django.contrib.messages',\n",
        "      'django.contrib.staticfiles',\n",
        "      'modelForms',\n",
        "  ]\n",
        "  ```\n",
        "\n",
        "- Now goto the command-line/terminal, if you're inside the python interactive shell, hit `Ctrl+D` to come out of it, and then run the command below\n",
        "\n",
        "  ```bash\n",
        "  python manage.py makemigrations\n",
        "  ```\n",
        "  \n",
        "  - If it shows error, make sure that all the `CharField` items in model should have `max_length` defined, so goto `models.py` file and make changes in the model class\n",
        "\n",
        "    ```python\n",
        "    class Project(models.Model):\n",
        "        startDate = models.DateField()\n",
        "        endDate  = models.DateField()\n",
        "        name = models.CharField(max_length=30)\n",
        "        assignedTo = models.CharField(max_length=20)\n",
        "        priority = models.IntegerField()\n",
        "    ```\n",
        "  \n",
        "  - Now run the migrations again using command below, which will create `0001_initial.py`\n",
        "\n",
        "    ```bash\n",
        "    python manage.py makemigrations\n",
        "    ```\n",
        "\n",
        "- Once `makemigrations` command is successful, run the command below which will create the database for us\n",
        "\n",
        "  ```bash\n",
        "  python manage.py migrate\n",
        "  ```\n",
        "\n",
        "- Now got to the database in MySQL Workbench\n",
        "  - Run command below to change the database to `projectdb`\n",
        "\n",
        "    ```sql\n",
        "    USE projectdb;\n",
        "    ```\n",
        "\n",
        "  - Run command below to list all the tables in `projectdb` database\n",
        "\n",
        "    ```sql\n",
        "    SHOW TABLES;\n",
        "    ```\n",
        "\n",
        "  - We have all tables along with our application table `modelforms_project`\n",
        "  - Now `SELECT` all records from our app table `modelforms_project`\n",
        "\n",
        "    ```sql\n",
        "    SELECT * FROM modelforms_project;\n",
        "    ```\n",
        "\n",
        "  - Right now, this table does not have any records, the `id` column is added by Django, besides other columns form Model class\n",
        "\n"
      ],
      "metadata": {
        "id": "aVInP_i7PnRD"
      }
    },
    {
      "cell_type": "markdown",
      "source": [
        "## 093. Refactor and Run the Application\n",
        "\n",
        "- In this lecture, we'll see our application in action\n",
        "- Before we do that there are a few little things that we need to fix\n",
        "  1. first thing is to make sure that the `templates` folder is spelled correctly, which instructor has spelled as `tempaltes` instead of `templates`\n",
        "  2. second, in the `listProjects.html` template, make sure that Django template tags are used correctly, which instructor has used `<% for project in projects %>` instead of correct tags as `{% for project in projects %}`\n",
        "  3. In the `views.py` file, make sure Model objects are fetched correctly, instructor has mis-typed `projectsList = Project.objectrs.all()` instead of correct one as `projectsList = Project.objects.all()`\n",
        "  4. In the `views.py` file, make sure that HttpRequest object is referred correctly, instructor has mis-typed `if form.method == 'POST':` instead of correct one `if request.method == 'POST':`\n",
        "  5. In the `views.py` file, make sure that Form object is referred correctly, instructor has mis-typed `form = MovieForm(request.POST)` instead of correct one as `form = ProjectForm(request.POST)`\n",
        "- Now goto command-line/terminal, and run the command below to run the Django server for this project and the application starts\n",
        "\n",
        "    ```bash\n",
        "    python manage.py runserver\n",
        "    ```\n",
        "\n",
        "- Open the web-browser and visit the URL at `localhost:8000/`, and the index page shows two links as expected\n",
        "  - Click on the `List Projects` link, and it should show `No Projects Found` message because there is no data in the database\n",
        "  - Go back, click on `Add Project` and it should display the form\n",
        "  - Now enter the data in the form, dates in the format `MM/DD/YYYY`, enter name as `Clinical Data Reporting`, assigned to `John`, priority is `1`, and then click on `Add Project` button and it should return to index page upon successful form submission\n",
        "- Lets see if the data is available in the database now, open the MySQL Workbench, and run the `SELECT` query as shown below, and we can see the data\n",
        "\n",
        "  ```sql\n",
        "  SELECT * FROM modelforms_project;\n",
        "  ```\n",
        "\n",
        "- Go back to the web-browser, open the `List Projects` Link, it'll show all the data right there\n",
        "  - You can display this data as a table as well, or as a list item `<li>` or a paragraph `<p>`\n",
        "- You can play around here, but the key is that you're able to add a project and able to list projects along with details as well\n",
        "\n"
      ],
      "metadata": {
        "id": "1zvMugvqPnO7"
      }
    },
    {
      "cell_type": "markdown",
      "source": [
        "## 094. Django tables from migrate\n",
        "\n",
        "- When you run\n"
      ],
      "metadata": {
        "id": "iFCh0LZAPnMj"
      }
    },
    {
      "cell_type": "markdown",
      "source": [],
      "metadata": {
        "id": "ayuyOcjjXpD1"
      }
    },
    {
      "cell_type": "markdown",
      "source": [],
      "metadata": {
        "id": "1N-QAPQ5XpBP"
      }
    },
    {
      "cell_type": "markdown",
      "source": [],
      "metadata": {
        "id": "cuwy3KyQXo_R"
      }
    },
    {
      "cell_type": "markdown",
      "source": [],
      "metadata": {
        "id": "IX1d42RAXo8v"
      }
    },
    {
      "cell_type": "markdown",
      "source": [],
      "metadata": {
        "id": "1W1CLqF2PnKZ"
      }
    },
    {
      "cell_type": "markdown",
      "source": [],
      "metadata": {
        "id": "-nm6MJ_iPnJf"
      }
    }
  ]
}