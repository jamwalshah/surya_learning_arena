{
  "nbformat": 4,
  "nbformat_minor": 0,
  "metadata": {
    "colab": {
      "provenance": [],
      "toc_visible": true
    },
    "kernelspec": {
      "name": "python3",
      "display_name": "Python 3"
    },
    "language_info": {
      "name": "python"
    }
  },
  "cells": [
    {
      "cell_type": "markdown",
      "source": [
        "## 018. Create a Django Project\n",
        "\n",
        "- You'll `Create` your very first Django project using the django-admin command-line utility\n",
        "- To do that, go to your command-line on windows or terminal on mac/linux\n",
        "- Go to the directory where you want to create a folder where you want to save all your Django projects\n",
        "\n",
        "``` bash\n",
        "mkdir djangoprojects\n",
        "```\n",
        "\n",
        "- once you have that folder, go into that folder\n",
        "\n",
        "``` bash\n",
        "cd djangoprojects\n",
        "```\n",
        "\n",
        "and use command\n",
        "\n",
        "``` bash\n",
        "django-admin startproject firstProject\n",
        "django-admin startproject <ProjectName> # syntax\n",
        "```\n",
        "\n",
        "to create the projects, applications, etc.\n",
        "\n",
        "- `startproject` is the option to create a project\n",
        "- You may use command\n",
        "\n",
        "``` bash\n",
        "ls\n",
        "```\n",
        "\n",
        "to check the newly created project\n",
        "\n",
        "- Now open the file explorer to locate the project folder `firstProject` which you've created just now, and drag-drop this folder in an IDE of your choice to open it as a project\n",
        "- This Project folder has the following files\n",
        "  1. `__init__.py`\n",
        "      - it is an empty file\n",
        "      - it tells the python that this folder is a package\n",
        "  2. `settings.py`\n",
        "      - As the name suggests, it contains all\n",
        "      - the settings/configurations for the applications inside this project,\n",
        "      - the middleware configuration that you'll be doing later on\n",
        "      - the database configuration\n",
        "      - Here you can see the installed apps list\n",
        "      - when you create an application inside this project later on, you'll add that app in `INSTALLED_APPS`\n",
        "      - You can also see the middleware configuration under `MIDDLEWARE`\n",
        "      - You can also find `TEMPLATES`, `WSGI_APPLICATION`\n",
        "      - it shows `sqlite3` in `DATABASES` as it comes with python3, when you create your application later on, it'll have sqlite in-memory database of its own\n",
        "      - You can also point to MySql or Oracle by changing the configuration to the appropriate database as required\n",
        "      - By default, Django projects come with sqlite database\n",
        "  3. `urls.py`\n",
        "      - As the name itself says, this is the file that carries the URL patterns of our projects as well as applications\n",
        "      - We'll be creating several web-pages or views in our applications, each of those web-pages will have a URI that we've to configure here\n",
        "      - Django comes with an in-built admin tool, so you can see `admin/` url which points to the `admin.site.urls` that Django provides\n",
        "      - It also has a lot of documentation available at the top which you can read\n",
        "      - You'll be learning how to configure URLs, how to use regular expressions inside them in lectures later on\n",
        "  4. `wsgi.py`\n",
        "      - **WSGI** stands for Web Server Gateway Interface\n",
        "      - This file can be used to deploy our applications to online servers or even to the cloud\n",
        "      - Typically, we use this during production deployments\n",
        "  5. `manage.py`\n",
        "      - we rarely mess with this file, but we'll be using this file every time we run our project, every time we run migrations for our projects once we start working with databases\n",
        "      - we'll be using manage.py from the command-line / terminal to run our projects, run applications, run database migrations, and more\n"
      ],
      "metadata": {
        "id": "DbeaVta38e3l"
      }
    },
    {
      "cell_type": "markdown",
      "source": [
        "## 019. Run the Project\n",
        "\n",
        "- You'll run your very first project\n",
        "- To do that, goto command-line or terminal, then goto the directory of the project\n",
        "- Once you're inside the project directory, make sure that you have `manage.py`, you'll need this file in order to run our project or even migrations later on\n",
        "- Use the command\n",
        "\n",
        "```bash\n",
        "python3 manage.py runserver\n",
        "```\n",
        "\n",
        "which will run our Django application\n",
        "\n",
        "- It'll run Django application using `settings.py` file, starting development server on `localhost` or `127.0.0.1` using port `8000`\n",
        "- Django provides a default web-server for us and it'll launch our application on the web-server\n",
        "- You may launch your web-browser, and open the URL `localhost:8000`, and you'll see the default Django application, which has references to Django documentation, Tutorial, Django Community, and more\n",
        "- It'll show message as `The install worked successfully! Congratulations! You are seeing this page because DEBUG=True is in your settings file and you have not configured any URLs.`, which is fine as we have not touched any development part\n",
        "- To stop this server, come to the command-line and hit `Ctrl+C`\n",
        "- Notice the previous line, it logs all the incoming requests on the command line\n",
        "- To run this Django server on a different port, you may run\n",
        "\n",
        "```bash\n",
        "python3 manage.py runserver 7777\n",
        "python3 manage.py runserver <PortNumber> # syntax\n",
        "\n",
        "```\n",
        "\n",
        "- Now you need to visit the Django server on new port instead of default port in the web-browser\n",
        "\n"
      ],
      "metadata": {
        "id": "Uj7d8Meb8e0I"
      }
    },
    {
      "cell_type": "markdown",
      "source": [
        "## 020. Create a Django App\n",
        "\n",
        "- The next step is to `Create a Django Application` inside the `Django Project` that we've created\n",
        "- Go to the command-line, stop the Django Server, make sure you're under the project directory\n",
        "- To create a Django application, you need to run command\n",
        "\n",
        "```bash\n",
        "python3 manage.py startapp firstApp\n",
        "python3 manage.py startapp <AppName> # syntax\n",
        "```\n",
        "\n",
        "- Now, the project directory has a folder named `firstApp`, which you can check using command\n",
        "\n",
        "```bash\n",
        "ls\n",
        "```\n",
        "\n",
        "- You may also goto your IDE to check the folder for app\n",
        "- A Python Project can comprise of many applications, inside which we'll be creating models, views, etc.\n",
        "- Lets go through important files here, we'll come back to migrations later on when we deal with databases\n",
        "\n",
        "1. `__init__py`\n",
        "    - a blank file with this name indicates that current folder is a python package\n",
        "2. `admin.py`\n",
        "    - we can register our modules in the applications inside this file and Django will use these modules with the Django admin interface\n",
        "    - Django provides an administrative interface, and if you want to make the parts of your application into a part of admin interface, you can include those here, which  will be shown later on\n",
        "3. `apps.py`\n",
        "    - In this file, we can store all the application specific configuration\n",
        "4. `models.py`\n",
        "    - This is where we'll be storing our data models\n",
        "    - WHatever data models we have in this file will represent the database tables pretty much\n",
        "    - we'll work on these models later on, each model will have several properties inside them\n",
        "    - we'll talk more about it when we'll deal with models\n",
        "5. `tests.py`\n",
        "    - In this file, we have application specific tests\n",
        "    - For every function and class, we create the respective tests here\n",
        "6. `views.py`\n",
        "    - it is also one important file we'll touch in the next few lectures\n",
        "    - In this file, we'll be saving all the functions or the classes that'll handle the incoming requests from the user/web-browser\n",
        "    - When a request comes in, it comes from a particular view and that view will respond with an output, which will be displayed on the browser\n",
        "    - So, Views is where all the HTML mode and python code lives which is responsible for rendering the UI (User Interface)\n",
        "\n",
        "- `migrations` directory\n",
        "  - This directory stores all the database specific information related to our models\n",
        "  - models and views are the most important files here\n",
        "  - You'll also be creating a URLs.py later on for your particular application\n"
      ],
      "metadata": {
        "id": "FcRS1TXd8eyE"
      }
    },
    {
      "cell_type": "markdown",
      "source": [
        "## 021. Create a view\n",
        "\n",
        "- Next step is to configure our application inside the `settings.py` which is the project configuration\n",
        "- in `settings.py` file, if you scroll down, you'll see all the installed apps in `INSTALLED_APPS` list\n",
        "  - at the end of this list, after the comma, within single quotes, you've to specify the application name, which is `'firstApp'`\n",
        "  - This tells Django that there is an Application called `firstApp` which is a part of this project\n",
        "  - When this project is run, this new app should be included\n",
        "- Now, goto `views.py` inside `firstApp`, and you're going to create your very first view\n",
        "- There are two ways in which you can create views\n",
        "  1. Class-based views\n",
        "  2. Function-based views\n",
        "- We'll start with Function-based views, and later on we'll discuss the Class-based views\n",
        "\n",
        "> A view is responsible for taking a request, and sending a response back\n",
        "\n",
        "- The very first step is to import the `HttpResponse` from `Django.http`\n",
        "\n",
        "```python\n",
        "from django.http import HttpResponse\n",
        "```\n",
        "\n",
        "- In Django, we'll take the incoming HTTP request whatever the browser sends when the user clicks a button, clicks on a link, etc., the incoming request will be wrapped inside an object and that object will be handed over to the method inside our view\n",
        "- Now you create a function `display` which takes a request and returns a response, Every view takes a request and returns a HttpResponse back, whatever you'll return using the HttpResponse object will go back to the browser\n",
        "\n",
        "```python\n",
        "def display(request):\n",
        "    return HttpResponse(\"<h1>My First Django App !!</h1>\")\n",
        "```\n",
        "\n",
        "- In the next lecture, we'll configure the URL for this view so that we can run our application and see this in action\n"
      ],
      "metadata": {
        "id": "y-RX4Pkx8ewJ"
      }
    },
    {
      "cell_type": "markdown",
      "source": [
        "## 022. Configure URLs and Run the App\n",
        "\n",
        "- The next step is to configure a URL to the view that we have created and run our application and test it\n",
        "- The name of the view is `display()` function inside our `views.py module`\n",
        "- To configure a URL to this view, goto the `urls.py` file under our project\n",
        "- You already see a couple of imports here\n",
        "\n",
        "1. we have the `admin` interface from `django.contrib` that django provides, we'll be shown later on\n",
        "\n",
        "    ``` python\n",
        "    from django.contrib import admin\n",
        "    ```\n",
        "\n",
        "2. we have the `path` from `django.urls`, using which we can configure a URL for a particular view\n",
        "\n",
        "    ``` python\n",
        "    from django.urls import path\n",
        "    ```\n",
        "\n",
        "- In `urlpatterns` list, we already have a path for the admin URL to the admin view\n",
        "  - Here, add another item to the list as `path()` function call by passing the URI you want for the particular view as the `route`, and the full name of the `view` (first import the `views` from the `firstApp` application into this `urls.py` file)\n",
        "\n",
        "  ```python\n",
        "  from firstApp import views\n",
        "  urlpatterns = [\n",
        "    path('admin/', admin.site.urls),\n",
        "    path('hello/', views.display),\n",
        "  ]\n",
        "  ```\n",
        "\n",
        "- Save it, go to your command-line to run the application, make sure you're under the `firstProject` directory which has the `manage.py`\n",
        "- run command, and it'll run the application on port 8000\n",
        "\n",
        "```python\n",
        "python3 manage.py runserver\n",
        "```\n",
        "\n",
        "- launch your web-browser and open `localhost:8000/hello`, which is the URL you should use, and you'll see the response coming back\n",
        "- So, the request from web-browser will go to the Django server and in the command-line you'll see response coming back for the `GET` request to `/hello/` route\n",
        "- When a request comes from the web-browser, it'll look for the URL/route that comes within the request and it knows from `urls.py` file that this URL/route is mapped to which view, so it'll execute that particular view from the `views.py` file, and whatever the `HttpResponse` that view returns will be sent back to the browser, which is what you're seeing in the browser\n"
      ],
      "metadata": {
        "id": "5-W0DkeD8euC"
      }
    },
    {
      "cell_type": "markdown",
      "source": [
        "## 023. Create another view\n",
        "\n",
        "- The `views.py` file hosts any number of views that're required for our application\n",
        "- In this lecture, you'll create another view that will return the current server's date and time, when user accesses it\n",
        "- In `views.py` file, lets first start with the import\n",
        "\n",
        "```python\n",
        "import datetime\n",
        "```\n",
        "\n",
        "- then define a new view `displayDateTime(request)` which receives the request from the client and it should return the `datetime`\n",
        "  - then store the current `datetime` as returned by `now()` function, and then convert it into a string while appending some text to it\n",
        "  - and in last statement of the view, you return the new string, which will be sent as response back to the browser\n",
        "\n",
        "```python\n",
        "def displayDateTime(request):\n",
        "    dt = datetime.datetime.now()\n",
        "    s = \"<b>Current Date and Time: </b>\"+str(dt)\n",
        "return HttpResponse(content=s)\n",
        "```\n",
        "\n",
        "- The next step is to map this view to a URL, goto `urls.py`, add `path()` function call with new route `datetime/` and its view as `views.displayDateTime`\n",
        "\n",
        "```python\n",
        "urlpatterns = [\n",
        "    path('admin/', admin.site.urls),\n",
        "    path('hello/', views.display),\n",
        "    path('datetime/', views.displayDateTime),\n",
        "]\n",
        "```\n",
        "\n",
        "- save the `urls.py` file and automatically your changes will be picked up, and it'll restart the server which is the beauty of the inbuilt Django server\n",
        "- Now go to the browser, instead of `localhost:8000/hello/`, we should use `localhost:8000/datetime/`, hit enter and then you'll see the recent view's response which shows the current date and time\n"
      ],
      "metadata": {
        "id": "RGMmmdzj8esP"
      }
    },
    {
      "cell_type": "markdown",
      "source": [
        "## 024. Multiple applications in a project\n",
        "\n",
        "- asa\n"
      ],
      "metadata": {
        "id": "o9qNohferTmH"
      }
    },
    {
      "cell_type": "markdown",
      "source": [],
      "metadata": {
        "id": "O8TblhWgrTih"
      }
    },
    {
      "cell_type": "markdown",
      "source": [],
      "metadata": {
        "id": "7ZTb4knOrTeN"
      }
    },
    {
      "cell_type": "markdown",
      "source": [],
      "metadata": {
        "id": "F2w911g-rTcS"
      }
    },
    {
      "cell_type": "markdown",
      "source": [],
      "metadata": {
        "id": "488HVzJtrTZo"
      }
    },
    {
      "cell_type": "markdown",
      "source": [],
      "metadata": {
        "id": "GVnyt2u7rTXg"
      }
    },
    {
      "cell_type": "markdown",
      "source": [],
      "metadata": {
        "id": "agSL13RwrTVY"
      }
    },
    {
      "cell_type": "markdown",
      "source": [],
      "metadata": {
        "id": "SYYOIL-krTTX"
      }
    },
    {
      "cell_type": "markdown",
      "source": [],
      "metadata": {
        "id": "HPOaI_WOrTRj"
      }
    },
    {
      "cell_type": "markdown",
      "source": [],
      "metadata": {
        "id": "dPT1gmxPrS1h"
      }
    }
  ]
}