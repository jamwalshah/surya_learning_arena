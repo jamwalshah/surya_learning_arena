{
  "nbformat": 4,
  "nbformat_minor": 0,
  "metadata": {
    "colab": {
      "provenance": [],
      "toc_visible": true
    },
    "kernelspec": {
      "name": "python3",
      "display_name": "Python 3"
    },
    "language_info": {
      "name": "python"
    }
  },
  "cells": [
    {
      "cell_type": "markdown",
      "source": [
        "## 043. Introduction\n",
        "\n",
        "- The next important component in the `MVT (Model View Template)` architecture is the `Model` component\n",
        "- `Model` represents the database table and it is through this Model that our view will perform all the database operations\n",
        "- So, each `Model` in our application will represent a `database table`, and every `Model class` that we create will inherit/extend `django.db.models.Model` class, and they'll have the corresponding fields\n",
        "- for example, `Employee` model here has `firstName`, `lastName`, `salary`, each of these fields will represent a database table column, so an `Employee` table will have a `firstName`, `lastName` and `salary` columns\n",
        "- The beauty of Django is that we can create the database structure from our models using commands like `makemigrations`\n",
        "- The `makemigrations` command when you execute it, will generate the SQL code from your model class by looking at your model class and using that SQL we can create the database tables by using the `migrate` command\n",
        "- From that point, you can maintain all your database tables through these two commands\n",
        "  1. `makemigrations`\n",
        "  2. `migrate`\n",
        "- So, if you add a new column later on to your `Employee` model, you can execute these commands again, it'll just do the `ALTER` command on the database and data will stay intact\n",
        "- Along with your application tables, when you migrate, Django also creates many other tables which are required for the administration that is `admin` application that comes with Django, and that application will use the `admin` tables\n",
        "- There are other tables like `security` table which are useful for authentication and authorization which we'll be using later on and also, when you do session management, Django will have tables for that as well too\n",
        "  - You store the session information, Django will generate certain special tables\n",
        "- Along with your application related tables like `Employees`, `Students`, etc., Django will create other tables for free when you execute `makemigrations` and `migrate` commands, and it'll internally use them\n",
        "- Simply remember that every model that you create will represent a database table and your model class will have all the fields which represent the table columns, and also model can perform various database operations without writing any SQL which we'll learn in the next few lectures\n"
      ],
      "metadata": {
        "id": "5mLFziTC80P4"
      }
    },
    {
      "cell_type": "markdown",
      "source": [
        "## 044. Hands on Steps\n",
        "\n",
        "- asa\n"
      ],
      "metadata": {
        "id": "c4ut3EMl80Mg"
      }
    },
    {
      "cell_type": "markdown",
      "source": [],
      "metadata": {
        "id": "PDsvYhhM80J2"
      }
    },
    {
      "cell_type": "markdown",
      "source": [],
      "metadata": {
        "id": "rRklyI5O80Hd"
      }
    },
    {
      "cell_type": "markdown",
      "source": [],
      "metadata": {
        "id": "2g_uRKBp80FU"
      }
    }
  ]
}