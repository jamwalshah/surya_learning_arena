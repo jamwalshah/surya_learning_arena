{
  "nbformat": 4,
  "nbformat_minor": 0,
  "metadata": {
    "colab": {
      "provenance": [],
      "toc_visible": true
    },
    "kernelspec": {
      "name": "python3",
      "display_name": "Python 3"
    },
    "language_info": {
      "name": "python"
    }
  },
  "cells": [
    {
      "cell_type": "markdown",
      "source": [
        "## 043. Introduction\n",
        "\n",
        "- The next important component in the `MVT (Model View Template)` architecture is the `Model` component\n",
        "- `Model` represents the database table and it is through this Model that our view will perform all the database operations\n",
        "- So, each `Model` in our application will represent a `database table`, and every `Model class` that we create will inherit/extend `django.db.models.Model` class, and they'll have the corresponding fields\n",
        "- for example, `Employee` model here has `firstName`, `lastName`, `salary`, each of these fields will represent a database table column, so an `Employee` table will have a `firstName`, `lastName` and `salary` columns\n",
        "- The beauty of Django is that we can create the database structure from our models using commands like `makemigrations`\n",
        "- The `makemigrations` command when you execute it, will generate the SQL code from your model class by looking at your model class and using that SQL we can create the database tables by using the `migrate` command\n",
        "- From that point, you can maintain all your database tables through these two commands\n",
        "  1. `makemigrations`\n",
        "  2. `migrate`\n",
        "- So, if you add a new column later on to your `Employee` model, you can execute these commands again, it'll just do the `ALTER` command on the database and data will stay intact\n",
        "- Along with your application tables, when you migrate, Django also creates many other tables which are required for the administration that is `admin` application that comes with Django, and that application will use the `admin` tables\n",
        "- There are other tables like `security` table which are useful for authentication and authorization which we'll be using later on and also, when you do session management, Django will have tables for that as well too\n",
        "  - You store the session information, Django will generate certain special tables\n",
        "- Along with your application related tables like `Employees`, `Students`, etc., Django will create other tables for free when you execute `makemigrations` and `migrate` commands, and it'll internally use them\n",
        "- Simply remember that every model that you create will represent a database table and your model class will have all the fields which represent the table columns, and also model can perform various database operations without writing any SQL which we'll learn in the next few lectures\n"
      ],
      "metadata": {
        "id": "5mLFziTC80P4"
      }
    },
    {
      "cell_type": "markdown",
      "source": [
        "## 044. Hands on Steps\n",
        "\n",
        "- In the next few lectures, you'll create your very first model called `Employee` with four fields `First Name`, `Last Name`, `Salary` and `Email`\n",
        "- You'll then create a database table for this `Employee` using the `migrate` tool that Django provides you with\n",
        "- Here are the steps that you'll follow\n",
        "  1. Create the project\n",
        "  2. Configure the database\n",
        "      - by default Django will use the `sqlite` database\n",
        "      - and you're going to configure the `MySQL` database for your project\n",
        "  3. Create the `Employee` model class\n",
        "  4. Make the migrations\n",
        "      - `makemigrations` will generate all the SQL code required to create the database tables\n",
        "      - execute the `migrate` command that will create the database tables\n",
        "  5. Use the model inside the view, fetch the data from the database using the model in your view and render it on the UI using a template as follows\n"
      ],
      "metadata": {
        "id": "c4ut3EMl80Mg"
      }
    },
    {
      "cell_type": "markdown",
      "source": [
        "## 045. Create a project\n",
        "\n",
        "- In this lecture, you'll create a new project, see its database configuration that comes by default, and also validate that database configuration, that is we'll see if we can connect to that database\n",
        "- Goto terminal/command-line, make sure you're in the `djangoprojects` directory, create a new project using command below, hit enter and we have a project\n",
        "\n",
        "```bash\n",
        "django-admin startproject modelDemo\n",
        "```\n",
        "\n",
        "- Go inside the project `modelDemo` using command below\n",
        "\n",
        "```bash\n",
        "cd modelDemo\n",
        "```\n",
        "\n",
        "- we can create an application `empApp` using command below for an employee, hit enter and we have a new application created\n",
        "\n",
        "```bash\n",
        "python manage.py startapp empApp\n",
        "```\n",
        "\n",
        "- Now, go back to your file explorer open the `modelDemo` project in your IDE, and open the `settings.py` file, search for 'DATABASES', and there you'll see the databases that have been configured\n",
        "  - By default, every Django web-application comes with a `sqlite` database for free, and as you can see it is located directly under the `BASE_DIR` of your project\n",
        "\n",
        "  ```python\n",
        "  DATABASES = {\n",
        "      'default': {\n",
        "          'ENGINE': 'django.db.backends.sqlite3',\n",
        "          'NAME': BASE_DIR / 'db.sqlite3',\n",
        "      }\n",
        "  }\n",
        "  ```\n",
        "\n",
        "  - Right under your project directory, there will be a sqlite database and we can right away use it, create models, do the migrations, and when you migrate all the tables will be created inside `db.sqlite3` database\n",
        "  - This `sqlite` is very good for testing and to work locally, but in real-time applications, when we deploy it om testing or production environments, we won't be using it, instead we use MySQL, Oracle, etc.\n",
        "  - If you want to validate that if your application can connect to this database, `ENGINE` and `NAME` is that part which shows database connection information, sqlite doesn't need much information to connect, all it needs is `ENGINE` and the name of the database 'db.sqlite3' which is indicated by `NAME` key\n",
        "  - But, MySQL, Oracle databases will need more information like the username, password, etc. which we'll learn in the next lecture\n",
        "  - To validate if your application can connect to this application, goto terminal/command-line, make sure you're under the project directory `djangoprojects/modelDemo` and open up a special shell using below command and it'll open up a shell for you where you can use Django packages here\n",
        "\n",
        "  ```bash\n",
        "  python manage.py shell\n",
        "  ```\n",
        "\n",
        "  - Now, in this new python shell, run below code/command to import the `connection` from `django.db` package\n",
        "\n",
        "  ```python\n",
        "  from django.db import connection\n",
        "  ```\n",
        "\n",
        "  - Now, run below code/command, if you're able to create this cursor successfully that means your application can connect to the database and our database configuration information is correct\n",
        "\n",
        "  ```python\n",
        "  c = connection.cursor()\n",
        "  ```\n",
        "\n",
        "  - To come out of this shell hit `Ctrl+D` or type command `exit`\n",
        "  - by default, under the project directory, there is a `db.sqlite3` that is a database which is okay for development but we're not going to use it\n",
        "  - At some point, instructor will show you how to use it, but we're going to use MySQL, which you'll configure in the next lecture\n"
      ],
      "metadata": {
        "id": "PnwyvXRdKdQB"
      }
    },
    {
      "cell_type": "markdown",
      "source": [
        "## 046. Using MySQL Database\n",
        "\n",
        "- In this lecture, we'll see how to configure MySQL database for our application and project\n",
        "- We can do that using the following configurations/properties in the `settings.py` file\n",
        "  1. `ENGINE`\n",
        "      - the engine name\n",
        "  2. `NAME`\n",
        "      - the name of the database itself\n",
        "  3. `USER`\n",
        "      - the user to connect to the database\n",
        "  4. `PASSWORD`\n",
        "      - the password that we should use for that user\n",
        "  5. `HOST`\n",
        "      - a hostname is it is running on a remote machine or a server\n",
        "  6. `PORT`\n",
        "      - the port number\n",
        "- If we don't provide some of these fields such as `HOST` and `PORT` it'll consider the local machine as the host and default port number on which that database runs\n",
        "- Lets configure MySQL database, and for this MySQL database server should be up and running\n",
        "- Also, launch your MySQL workbench which is a MySQL client tool\n",
        "  - Goto a new SQL window by clicking on `+` icon on the left-corner of your screen\n",
        "- Once you have that, go back to your IDE, and open the `settings.py` file snd goto `DATABASES` configuration in it\n",
        "  - for MySQL the very simple change here is that `django.db.backends.sqlite3` will become `django.db.backends.mysql` for the value of `ENGINE` , and provide the name of the MySQL database in `NAME`\n",
        "  - Now, goto MySQL Workbench, and run below command to create a MySQL database `employeedb12`\n",
        "\n",
        "  ```SQL\n",
        "  CREATE DATABASE employeedb12;\n",
        "  ```\n",
        "\n",
        "  - Now you can configure the `NAME` in `DATABASES` property in `settings.py` using the database name which you just created\n",
        "  - The next property is `USER`, when you install MySQL you have a 'root' user which is exactly what you should be using here\n",
        "  - And, the password for the 'root' user needs to be provided using the `PASSWORD` field, what ever password you have provided while installing MySQL initially, you should be using that here\n",
        "  - You need not provide the `HOST` and `PORT`, it'll use the default hostname and port number\n",
        "  - If you're running it on a remote machine or a server, you can use the `HOST` and `PORT` as well\n",
        "\n",
        "  ```python\n",
        "  DATABASES = {\n",
        "      'default': {\n",
        "          'ENGINE': 'django.db.backends.mysql',\n",
        "          'NAME': 'employeedb12',\n",
        "          'USER': 'root',\n",
        "          'PASSWORD': 'mysql',\n",
        "      }\n",
        "  }\n",
        "  ```\n",
        "\n",
        "  - To validate these `DATABASES` property, go to command-line/terminal, if you already have python shell for project open, you can use it, and if not use command below to launch a python shell for project\n",
        "\n",
        "  ``` bash\n",
        "  python manage.py shell\n",
        "  ```\n",
        "\n",
        "  - Now, import the `connection` from `django.db`\n",
        "\n",
        "    ```python\n",
        "    from django.db import connection\n",
        "    ```\n",
        "\n",
        "  - Now, create a `cursor()` object from `connection`, after running below command\n",
        "\n",
        "    ``` python\n",
        "    c = connection.cursor()\n",
        "    ```\n",
        "\n",
        "  - if you don't see any error, it means it is able to connect to MySQL database, because it'll use the set configuration from `DATABASES` property in `settings.py` file to connect to whatever database we specify\n",
        "- So, in this lecture you've successfully configured a MySQL database by creating a new database `employeedb12`\n"
      ],
      "metadata": {
        "id": "zZdwy5OVKdMf"
      }
    },
    {
      "cell_type": "markdown",
      "source": [
        "## 047. Create the model\n",
        "\n",
        "- The next step is to create a Model class called `Employee`\n",
        "- Goto your IDE, we create the Model class inside `models.py` file, so go inside `empApp` application directory and open the `models.py` file\n",
        "  - You already have an import statement indicated below to import `models`, and from this `models` we use class `Models` that our model will inherit\n",
        "\n",
        "  ```python\n",
        "  from django.db import models\n",
        "  ```\n",
        "\n",
        "  - Create a class `Employee` which extends `models.Model`, so every model class will be inherited from `models.Model` class\n",
        "  - Now you can specify all the fields you have inside this class\n",
        "    - You need to specify what type of each field is and you can also specify any kind of restrictions you want here such as `max_length=30`\n",
        "    - `models` package gives us the ability to do all this, which is to specify what type of a field is and to specify its restrictions like `NOT NULL` etc.\n",
        "    - By default, all the fields on model are `NOT NULL` in the database and when the database gets generated from this you'll see that they're `NOT NULL` fields\n",
        "  - Create four fields in this class\n",
        "    - `firstName` as `CharField` with `max_length=30`\n",
        "    - `lastName` as `CharField` with `max_length=30`\n",
        "    - `salary` as `FloatField`\n",
        "    - `email` as `CharField` with `max_length=35`\n",
        "  \n",
        "  ```python\n",
        "  class Employee(models.Model):\n",
        "    firstName = models.CharField(max_length=30)\n",
        "    lastName = models.CharField(max_length=30)\n",
        "    salary = models.FloatField()\n",
        "    email = models.CharField(max_length=35)\n",
        "  ```\n",
        "\n",
        "- In this lecture, you've successfully created your very first Model class by going to `models.py`, you've used `models.Model` class that your model should extend and within your class you've defined all the fields that this model should contain\n",
        "- When we generate database tables from this model these four columns on the table along with the `id` column that `Django` adds to every table\n",
        "\n"
      ],
      "metadata": {
        "id": "LDN85VfaKcx6"
      }
    },
    {
      "cell_type": "markdown",
      "source": [
        "## 048. Converting Model to DB tables\n",
        "\n",
        "- In this lecture we'll generate the database code that us responsible for creating all the tables for us from this model\n",
        "- But, first we need to take an additional step, goto `settings.py`, search for `INSTALLED_APPS`, and we need to add our app `empApp` in this property which we missed right when we created this app, so now our application will be a part of our project\n",
        "\n",
        "```python\n",
        "INSTALLED_APPS = [\n",
        "    'django.contrib.admin',\n",
        "    'django.contrib.auth',\n",
        "    'django.contrib.contenttypes',\n",
        "    'django.contrib.sessions',\n",
        "    'django.contrib.messages',\n",
        "    'django.contrib.staticfiles',\n",
        "    'empApp',\n",
        "]\n",
        "```\n",
        "\n",
        "- To create tables, goto terminal.command-line, make sure you're under the project directory\n",
        "- To make migrations we use command below, and if you hit enter it'll generate the database code from the Model class\n",
        "\n",
        "```bash\n",
        "python manage.py makemigrations\n",
        "```\n",
        "\n",
        "- After you run this command it says Migrations for `empApp` are created under `empApp/migrations/001_initial.py`\n",
        "- You can view this `0001_initial.py` file by going to your IDE, open folder `migrations` inside `empApp` application folder, and open the `0001_initial.py` file, and this file contains only the python part\n",
        "- If you want to get the SQL that will be generated out of it, goto terminal/command-line and run below command, we don't use this command every time but if you want to see what kind of SQL it generates, when you hit enter it shows you the exact SQL it will use to create the table for us\n",
        "\n",
        "```bash\n",
        "python manage.py sqlmigrate <AppName> <prefix Number of initial.py>\n",
        "```\n",
        "\n",
        "```bash\n",
        "python manage.py sqlmigrate empApp 0001\n",
        "```\n",
        "\n",
        "```SQL\n",
        "--\n",
        "-- Create model Employee\n",
        "--\n",
        "CREATE TABLE `empApp_employee` (`id` bigint AUTO_INCREMENT NOT NULL PRIMARY KEY, `firstName` varchar(30) NOT NULL, `lastName` varchar(30) NOT NULL, `salary` double precision NOT NULL, `email` varchar(35) NOT NULL);\n",
        "```\n",
        "\n",
        "- Here, `id` field is added automatically as an `AUTO_INCREMENT`, so it'll be incremented automatically and we need not increment it each time manually\n",
        "  - Note that `firstName`, `lastName` and `email` fields are created as `VARCHAR` with the specified length, `salary` is `DOUBLE` type and all the fields are `NOT NULL` by default\n",
        "  - If you want to make a field as `NULL`, you need to add a property to the field in model as `null=True`\n",
        "- It has not created the table yet\n",
        "- Every time you do `makemigrations` it'll generate a new file with different prefix of `initial.py`\n",
        "- To Migrate, goto command-line/terminal, run command below and it'll execute all the command that we need, it creates Django tables and also `empApp` app tables\n",
        "\n",
        "```bash\n",
        "python manage.py migrate\n",
        "```\n",
        "\n",
        "- Now, you can goto MySQL workbench, run commands to see all the tables which Django has created from migrations\n",
        "\n",
        "```SQL\n",
        "USE employeedb12;\n",
        "SHOW TABLES;\n",
        "```\n",
        "\n",
        "- Django will create all these admin & security related tables and at the end we care about for now is the `empapp_employee`\n",
        "- run below command in MySQL workbench and we'll see all the fields from models and `id` field\n",
        "\n",
        "```SQL\n",
        "SELECT * FROM empapp_employee;\n",
        "```\n",
        "\n",
        "- In this lecture, you've successfully made the migrations which will generate SQL code, and then you've performed a migrate and execute the SQL, so as a result we got all the tables in the database, and also our custom table which we have created\n",
        "\n"
      ],
      "metadata": {
        "id": "PDsvYhhM80J2"
      }
    },
    {
      "cell_type": "markdown",
      "source": [
        "## 049. Use the model in view\n",
        "\n",
        "- In this lecture,\n"
      ],
      "metadata": {
        "id": "rRklyI5O80Hd"
      }
    },
    {
      "cell_type": "markdown",
      "source": [],
      "metadata": {
        "id": "i4Dpc37K9pG_"
      }
    },
    {
      "cell_type": "markdown",
      "source": [],
      "metadata": {
        "id": "jjZub0qO9pDc"
      }
    },
    {
      "cell_type": "markdown",
      "source": [],
      "metadata": {
        "id": "q6BsSJjp9pAy"
      }
    },
    {
      "cell_type": "markdown",
      "source": [],
      "metadata": {
        "id": "D11pDO3R9o-p"
      }
    },
    {
      "cell_type": "markdown",
      "source": [],
      "metadata": {
        "id": "-YKU98ZJ9o73"
      }
    },
    {
      "cell_type": "markdown",
      "source": [],
      "metadata": {
        "id": "wtDRBlco9o5N"
      }
    },
    {
      "cell_type": "markdown",
      "source": [],
      "metadata": {
        "id": "2g_uRKBp80FU"
      }
    }
  ]
}