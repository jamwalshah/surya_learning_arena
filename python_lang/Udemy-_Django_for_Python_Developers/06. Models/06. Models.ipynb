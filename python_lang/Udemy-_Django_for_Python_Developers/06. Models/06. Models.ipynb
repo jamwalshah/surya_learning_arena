{
  "nbformat": 4,
  "nbformat_minor": 0,
  "metadata": {
    "colab": {
      "provenance": [],
      "toc_visible": true
    },
    "kernelspec": {
      "name": "python3",
      "display_name": "Python 3"
    },
    "language_info": {
      "name": "python"
    }
  },
  "cells": [
    {
      "cell_type": "markdown",
      "source": [
        "## 043. Introduction\n",
        "\n",
        "- The next important component in the `MVT (Model View Template)` architecture is the `Model` component\n",
        "- `Model` represents the database table and it is through this Model that our view will perform all the database operations\n",
        "- So, each `Model` in our application will represent a `database table`, and every `Model class` that we create will inherit/extend `django.db.models.Model` class, and they'll have the corresponding fields\n",
        "- for example, `Employee` model here has `firstName`, `lastName`, `salary`, each of these fields will represent a database table column, so an `Employee` table will have a `firstName`, `lastName` and `salary` columns\n",
        "- The beauty of Django is that we can create the database structure from our models using commands like `makemigrations`\n",
        "- The `makemigrations` command when you execute it, will generate the SQL code from your model class by looking at your model class and using that SQL we can create the database tables by using the `migrate` command\n",
        "- From that point, you can maintain all your database tables through these two commands\n",
        "  1. `makemigrations`\n",
        "  2. `migrate`\n",
        "- So, if you add a new column later on to your `Employee` model, you can execute these commands again, it'll just do the `ALTER` command on the database and data will stay intact\n",
        "- Along with your application tables, when you migrate, Django also creates many other tables which are required for the administration that is `admin` application that comes with Django, and that application will use the `admin` tables\n",
        "- There are other tables like `security` table which are useful for authentication and authorization which we'll be using later on and also, when you do session management, Django will have tables for that as well too\n",
        "  - You store the session information, Django will generate certain special tables\n",
        "- Along with your application related tables like `Employees`, `Students`, etc., Django will create other tables for free when you execute `makemigrations` and `migrate` commands, and it'll internally use them\n",
        "- Simply remember that every model that you create will represent a database table and your model class will have all the fields which represent the table columns, and also model can perform various database operations without writing any SQL which we'll learn in the next few lectures\n"
      ],
      "metadata": {
        "id": "5mLFziTC80P4"
      }
    },
    {
      "cell_type": "markdown",
      "source": [
        "## 044. Hands on Steps\n",
        "\n",
        "- In the next few lectures, you'll create your very first model called `Employee` with four fields `First Name`, `Last Name`, `Salary` and `Email`\n",
        "- You'll then create a database table for this `Employee` using the `migrate` tool that Django provides you with\n",
        "- Here are the steps that you'll follow\n",
        "  1. Create the project\n",
        "  2. Configure the database\n",
        "      - by default Django will use the `sqlite` database\n",
        "      - and you're going to configure the `MySQL` database for your project\n",
        "  3. Create the `Employee` model class\n",
        "  4. Make the migrations\n",
        "      - `makemigrations` will generate all the SQL code required to create the database tables\n",
        "      - execute the `migrate` command that will create the database tables\n",
        "  5. Use the model inside the view, fetch the data from the database using the model in your view and render it on the UI using a template as follows\n"
      ],
      "metadata": {
        "id": "c4ut3EMl80Mg"
      }
    },
    {
      "cell_type": "markdown",
      "source": [
        "## 045. Create a project\n",
        "\n",
        "- In this lecture, you'll create a new project, see its database configuration that comes by default, and also validate that database configuration, that is we'll see if we can connect to that database\n",
        "- Goto terminal/command-line, make sure you're in the `djangoprojects` directory, create a new project using command below, hit enter and we have a project\n",
        "\n",
        "```bash\n",
        "django-admin startproject modelDemo\n",
        "```\n",
        "\n",
        "- Go inside the project `modelDemo` using command below\n",
        "\n",
        "```bash\n",
        "cd modelDemo\n",
        "```\n",
        "\n",
        "- we can create an application `empApp` using command below for an employee, hit enter and we have a new application created\n",
        "\n",
        "```bash\n",
        "python manage.py startapp empApp\n",
        "```\n",
        "\n",
        "- Now, go back to your file explorer open the `modelDemo` project in your IDE, and open the `settings.py` file, search for 'DATABASES', and there you'll see the databases that have been configured\n",
        "  - By default, every Django web-application comes with a `sqlite` database for free, and as you can see it is located directly under the `BASE_DIR` of your project\n",
        "\n",
        "  ```python\n",
        "  DATABASES = {\n",
        "      'default': {\n",
        "          'ENGINE': 'django.db.backends.sqlite3',\n",
        "          'NAME': BASE_DIR / 'db.sqlite3',\n",
        "      }\n",
        "  }\n",
        "  ```\n",
        "\n",
        "  - Right under your project directory, there will be a sqlite database and we can right away use it, create models, do the migrations, and when you migrate all the tables will be created inside `db.sqlite3` database\n",
        "  - This `sqlite` is very good for testing and to work locally, but in real-time applications, when we deploy it om testing or production environments, we won't be using it, instead we use MySQL, Oracle, etc.\n",
        "  - If you want to validate that if your application can connect to this database, `ENGINE` and `NAME` is that part which shows database connection information, sqlite doesn't need much information to connect, all it needs is `ENGINE` and the name of the database 'db.sqlite3' which is indicated by `NAME` key\n",
        "  - But, MySQL, Oracle databases will need more information like the username, password, etc. which we'll learn in the next lecture\n",
        "  - To validate if your application can connect to this application, goto terminal/command-line, make sure you're under the project directory `djangoprojects/modelDemo` and open up a special shell using below command and it'll open up a shell for you where you can use Django packages here\n",
        "\n",
        "  ```bash\n",
        "  python manage.py shell\n",
        "  ```\n",
        "\n",
        "  - Now, in this new python shell, run below code/command to import the `connection` from `django.db` package\n",
        "\n",
        "  ```python\n",
        "  from django.db import connection\n",
        "  ```\n",
        "\n",
        "  - Now, run below code/command, if you're able to create this cursor successfully that means your application can connect to the database and our database configuration information is correct\n",
        "\n",
        "  ```python\n",
        "  c = connection.cursor()\n",
        "  ```\n",
        "\n",
        "  - by default, under the project directory, there is a `db.sqlite3` that is a database which is okay for development but we're not going to use it\n",
        "  - At some point, instructor will show you how to use it, but we're going to use MySQL, which you'll configure in the next lecture\n"
      ],
      "metadata": {
        "id": "PnwyvXRdKdQB"
      }
    },
    {
      "cell_type": "markdown",
      "source": [
        "## 046. Using MySQL Database\n",
        "\n",
        "- a\n"
      ],
      "metadata": {
        "id": "zZdwy5OVKdMf"
      }
    },
    {
      "cell_type": "markdown",
      "source": [],
      "metadata": {
        "id": "LDN85VfaKcx6"
      }
    },
    {
      "cell_type": "markdown",
      "source": [],
      "metadata": {
        "id": "PDsvYhhM80J2"
      }
    },
    {
      "cell_type": "markdown",
      "source": [],
      "metadata": {
        "id": "rRklyI5O80Hd"
      }
    },
    {
      "cell_type": "markdown",
      "source": [],
      "metadata": {
        "id": "2g_uRKBp80FU"
      }
    }
  ]
}