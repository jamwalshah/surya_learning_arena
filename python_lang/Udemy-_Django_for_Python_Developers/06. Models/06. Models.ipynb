{
  "nbformat": 4,
  "nbformat_minor": 0,
  "metadata": {
    "colab": {
      "provenance": [],
      "toc_visible": true
    },
    "kernelspec": {
      "name": "python3",
      "display_name": "Python 3"
    },
    "language_info": {
      "name": "python"
    }
  },
  "cells": [
    {
      "cell_type": "markdown",
      "source": [
        "## 043. Introduction\n",
        "\n",
        "- The next important component in the `MVT (Model View Template)` architecture is the `Model` component\n",
        "- `Model` represents the database table and it is through this Model that our view will perform all the database operations\n",
        "- So, each `Model` in our application will represent a `database table`, and every `Model class` that we create will inherit/extend `django.db.models.Model` class, and they'll have the corresponding fields\n",
        "- for example, `Employee` model here has `firstName`, `lastName`, `salary`, each of these fields will represent a database table column, so an `Employee` table will have a `firstName`, `lastName` and `salary` columns\n",
        "- The beauty of Django is that we can create the database structure from our models using commands like `makemigrations`\n",
        "- The `makemigrations` command when you execute it, will generate the SQL code from your model class by looking at your model class and using that SQL we can create the database tables by using the `migrate` command\n",
        "- From that point, you can maintain all your database tables through these two commands\n",
        "  1. `makemigrations`\n",
        "  2. `migrate`\n",
        "- So, if you add a new column later on to your `Employee` model, you can execute these commands again, it'll just do the `ALTER` command on the database and data will stay intact\n",
        "- Along with your application tables, when you migrate, Django also creates many other tables which are required for the administration that is `admin` application that comes with Django, and that application will use the `admin` tables\n",
        "- There are other tables like `security` table which are useful for authentication and authorization which we'll be using later on and also, when you do session management, Django will have tables for that as well too\n",
        "  - You store the session information, Django will generate certain special tables\n",
        "- Along with your application related tables like `Employees`, `Students`, etc., Django will create other tables for free when you execute `makemigrations` and `migrate` commands, and it'll internally use them\n",
        "- Simply remember that every model that you create will represent a database table and your model class will have all the fields which represent the table columns, and also model can perform various database operations without writing any SQL which we'll learn in the next few lectures\n"
      ],
      "metadata": {
        "id": "5mLFziTC80P4"
      }
    },
    {
      "cell_type": "markdown",
      "source": [
        "## 044. Hands on Steps\n",
        "\n",
        "- In the next few lectures, you'll create your very first model called `Employee` with four fields `First Name`, `Last Name`, `Salary` and `Email`\n",
        "- You'll then create a database table for this `Employee` using the `migrate` tool that Django provides you with\n",
        "- Here are the steps that you'll follow\n",
        "  1. Create the project\n",
        "  2. Configure the database\n",
        "      - by default Django will use the `sqlite` database\n",
        "      - and you're going to configure the `MySQL` database for your project\n",
        "  3. Create the `Employee` model class\n",
        "  4. Make the migrations\n",
        "      - `makemigrations` will generate all the SQL code required to create the database tables\n",
        "      - execute the `migrate` command that will create the database tables\n",
        "  5. Use the model inside the view, fetch the data from the database using the model in your view and render it on the UI using a template as follows\n"
      ],
      "metadata": {
        "id": "c4ut3EMl80Mg"
      }
    },
    {
      "cell_type": "markdown",
      "source": [
        "## 045. Create a project\n",
        "\n",
        "- In this lecture, you'll create a new project, see its database configuration that comes by default, and also validate that database configuration, that is we'll see if we can connect to that database\n",
        "- Goto terminal/command-line, make sure you're in the `djangoprojects` directory\n"
      ],
      "metadata": {
        "id": "PnwyvXRdKdQB"
      }
    },
    {
      "cell_type": "markdown",
      "source": [],
      "metadata": {
        "id": "zZdwy5OVKdMf"
      }
    },
    {
      "cell_type": "markdown",
      "source": [],
      "metadata": {
        "id": "LDN85VfaKcx6"
      }
    },
    {
      "cell_type": "markdown",
      "source": [],
      "metadata": {
        "id": "PDsvYhhM80J2"
      }
    },
    {
      "cell_type": "markdown",
      "source": [],
      "metadata": {
        "id": "rRklyI5O80Hd"
      }
    },
    {
      "cell_type": "markdown",
      "source": [],
      "metadata": {
        "id": "2g_uRKBp80FU"
      }
    }
  ]
}