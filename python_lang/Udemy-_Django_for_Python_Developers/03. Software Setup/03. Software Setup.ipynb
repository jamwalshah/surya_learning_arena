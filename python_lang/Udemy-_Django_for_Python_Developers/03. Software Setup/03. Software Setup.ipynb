{
  "nbformat": 4,
  "nbformat_minor": 0,
  "metadata": {
    "colab": {
      "provenance": [],
      "toc_visible": true
    },
    "kernelspec": {
      "name": "python3",
      "display_name": "Python 3"
    },
    "language_info": {
      "name": "python"
    }
  },
  "cells": [
    {
      "cell_type": "markdown",
      "source": [
        "## 010. Install Django\n",
        "\n",
        "- We'll install `Django`, and to do this we should have `pip` installer and `Python` already\n",
        "- For Python v2.4+ the pip already comes free along with Python\n",
        "- Make sure you have pip, if not you can simply google for \"pip download\" or \"pip install\" and install the latest pip version\n",
        "- If you don't have Python then its also easy, you have to search \"Python Download\", goto the Python and grab the latest version of python\n",
        "\n",
        "- Once you have installed python, go to command-line, and use the below command to install Django, then hit enter, it'll install Django for you\n",
        "\n",
        "``` bash\n",
        "pip install django\n",
        "```\n",
        "\n",
        "- To check the version of python, we use the command\n",
        "\n",
        "``` bash\n",
        "python --version\n",
        "```\n",
        "\n",
        "- in case, you have multiple versions of python installed, it is recommended to use v3.x\n",
        "- If you use  \n",
        "\n",
        "``` bash\n",
        "python3 --version\n",
        "```\n",
        "\n",
        "command, it'll display the version of python v3\n",
        "\n",
        "- Python 3 is the version, we'll be using throughout the course, and we'll use the command\n",
        "\n",
        "``` bash\n",
        "python3\n",
        "```\n",
        "\n",
        "for it\n",
        "\n",
        "- If you have only one version of python then you may use\n",
        "\n",
        "``` bash\n",
        "python\n",
        "```\n",
        "\n",
        "and execute your commands\n",
        "\n",
        "- To check the Django version, you'll be using\n",
        "\n",
        "```bash\n",
        "python3 -m django --version\n",
        "```\n",
        "\n",
        "- Make sure that you've installed the latest version of Django\n",
        "- When you run\n",
        "\n",
        "``` bash\n",
        "pip install django\n",
        "```\n",
        "\n",
        "it'll install the latest version of django for you\n"
      ],
      "metadata": {
        "id": "XiJbpzBqcOJP"
      }
    },
    {
      "cell_type": "markdown",
      "source": [
        "## 011. Update on ATOM IDE\n",
        "\n",
        "- When this course was recorded, Instructor had used Atom IDE, which was a popular IDE at that point\n",
        "- But, as of December 2022, this ATOM IDE has been sunset\n",
        "- There is no support for it and no newer version is coming out anymore\n",
        "- So, you can use the older version or instructor suggests to use any other IDE of your choice\n",
        "- You can use Visual Studio Code, which will be shown how to set up in next lecture\n",
        "- You can use PyCharm, you can use a text editor because we'll be running our Django project from the command-line\n",
        "- These IDEs will help us in the code, when you type in the code, you will get assistance  et-cetera\n",
        "- Whenever, the Instructor uses the ATOM IDE, You can simply drag & drop you projects into Visual Studio Code and work with them\n"
      ],
      "metadata": {
        "id": "eQ55OOTucOF4"
      }
    },
    {
      "cell_type": "markdown",
      "source": [
        "## 012. Install Visual Studio Code\n",
        "\n",
        "- Instructor will show how to download, install and setup the Visual Studio COde IDE for your Django project development\n",
        "- Launch your web-browser and search for Visual Studio Code, goto the downloads page of Visual Studio Code\n",
        "- It'll take you to a page where you can download an installation depending on the Operating System you're on\n",
        "- Once the installer is downloaded, double click on the installer\n",
        "- It is a very straight-forward installation, just go with the default values\n",
        "- Once the installation is complete, you'll see an icon for Visual Studio Code, click on it to launch Visual Studio\n",
        "- Now, we'll install a few extensions for Python and Django, so that we can work on Django projects\n",
        "- Once Visual Studio Code is open, click on 'Extensions' icon on the left, it'll take us to the extensions\n",
        "  - Another way to goto extensions is click on 'Code', then 'Preferences', then 'Extensions'\n",
        "  - In extensions, search for 'Python', install the Python extension from Microsoft, and search for 'Django', and for DJango we'll be installing three extensions,\n",
        "    1. Django by Baptiste Darthenay\n",
        "    2. Django Template by bibhasdn\n",
        "    3. Django Snippets by bibhasdn\n",
        "  - Once you finish installing all these extensions, your IDE is all set for Django Development\n",
        "- If you want to use the terminal or launch the command-line within the Visual Studio Code, you can go to the top, click on 'Terminal', then 'New Terminal', It'll open up a new terminal under the current folder, and you can execute your Django commands from here\n",
        "- Going ahead, you can drag and drop your projects into Visual Studio Code to open them, then you can open a particular file and start editing it\n"
      ],
      "metadata": {
        "id": "3cccaekucODH"
      }
    },
    {
      "cell_type": "markdown",
      "source": [
        "## 013. Download the MySql and MySql Workbench\n",
        "\n",
        "- The database you're going to use throughout this course is `MySql` which is a popular open-source database, and also you'll be installing `MySql Workbench` when you install MySql\n",
        "- MySql workbench is a client which is a GUI based tool, which we can launch to connect the MySql database and execute SQL statements\n",
        "- We'll do it in three simple steps\n",
        "  1. Download the installer\n",
        "  2. Install the MySql as well as MySql Workbench\n",
        "  3. Configure the MySql\n",
        "- Once you download the installer, you just need to click next.. next and you'll also need to install the Workbench when you're installing MySql, and when you're in the configuration step, make sure you enter a password for which the system will prompt you for entering a `root password`, so that you can login later on\n",
        "- Search for 'MySql Install', open the MySql downloads page, then scroll down to select your Operating System\n",
        "  - Don't download the zip files, instead click on 'Goto Downloads Page' which will take you to the MSI installers, and download the web based community installer\n",
        "  - during installation, keep clicking the next button\n",
        "  - make sure that during the installation, you've checked the MySql Workbench for installation\n",
        "- Once the installation is complete, it'll ask you if you want to configure the MySql Server, click on it, which is where it'll prompt you for a root password\n",
        "- At the end of it, it'll be running as a windows service automatically, every time your machine restarts, MySql will be up and running, and you cna manage that by going to the Windows services on port 3306 by default\n"
      ],
      "metadata": {
        "id": "Bp5Tc0EScN9h"
      }
    },
    {
      "cell_type": "markdown",
      "source": [
        "## 014. Launch MySql Workbench\n",
        "\n",
        "- Hoping that MySql installation has completed successfully, you should have MySql up and running and MySql Workbench installed on your machine\n",
        "- To connect to the MySql Server from MySql Workbench, you have to launch the MySql Workbench by clicking on the shortcut and that will launch the MySql Workbench\n",
        "- You can start by creating a new connection to a database by clicking on the '+' icon, which will open a pop-up\n",
        "  - By default the hostname is the local machine (`127.0.0.1`) and the default port for MySql Server is `3306`, and the username is `root`\n",
        "  - provide a Connection Name, then click on 'Test Connection' and it'll prompt you for a password, where you'll need to enter the password that you've set during configuring the MySql Server\n",
        "  - Once connection is successfully tested, it display a success message\n",
        "  - escape the dialog box by clicking on 'OK' button\n",
        "- Now, it'll show the newly connected database connection at the homepage, and you can connect to the database by simply clicking on the connection tile\n",
        "  - it'll launch existing query window (if any), or you may open a new query tab by clicking on 'File', then 'New Query Tab'\n",
        "- Lets start by creating a new database called 'mydb' using the command\n",
        "\n",
        "``` sql\n",
        "CREATE DATABASE mydb;\n",
        "```\n",
        "\n",
        "Select the query you want to run, and click on lightening icon to run the query\n"
      ],
      "metadata": {
        "id": "43dLcdqecN6L"
      }
    },
    {
      "cell_type": "markdown",
      "source": [
        "## 015. Windows Only -Install MySql\n",
        "\n",
        "- You'll get to know how to download and install MySql Community Server on your windows machine\n",
        "- Launch your web-browser, first download VIsual C++ in your machine\n",
        "  - You'll need Visual C++ for the MySql to be installed, which is a pre-requisite, as most of the Windows machines will not have this installed\n",
        "  - if it is a 64-bit machine, download the vc_redist_x64.exe or if it is a 32-bit machine, download the vc_redist_x86.exe\n",
        "  - Once you've downloaded, its a super easy installation\n",
        "  - double click to launch the installer, and then go back to Google again\n",
        "- Now search for 'MySql Community Server download'\n",
        "  - Click on the first link, where you can download the MySql Community Server installer\n",
        "  - You can download the zip archive or installer is the way to go\n",
        "  - The first installer is the minimal installer which will pull the packages later on or the second installer is the full installer which will have all the packages that are required\n",
        "  - Download the first one, and launch the installer\n",
        "  - Here, you have a choice to pick what you want, select 'Server only' because we're going to use the MySql Workbench to connect to this MySql Server\n",
        "  - Then click on 'Next', leave the default installation directory as well as Data Directory as it is,\n",
        "  - then Click on 'Next', the click 'Execute'\n",
        "  - Now, it'll pull the particular package from the internet\n",
        "  - Click on 'Next', again click on 'Next', now in High-Availability, choose the default one as it has replication manager, clustering, etc.\n",
        "  - Click 'Next', the default port is 3306, leave it as it is\n",
        "  - click on 'Next', in Authentication Method, select 'use Strong Password Encryption' as it is recommended for MySql v8+\n",
        "    - If you're working on MySql v5 with some Java application, and using JDBC driver v5, now you'll need to upgrade the driver too to JDBC driver v8, otherwise your application will stop communicating with Database server, because now in newer versions, passwords are encrypted\n",
        "    - Otherwise, if you want to work with legacy applications, you'll have to use the second option 'use Legacy Authentication method'\n",
        "  - Click 'Next', in Accounts and Roles, you can give your root password\n",
        "  - Click 'Next', in Windows Service, if you want to change the service name, you can change it here, and select 'Standard System Account' in run windows service as menu\n",
        "  - Click 'Next' and then in 'Apply Configuration' page, click on 'Execute'\n",
        "  - It'll perform the installation and after a few seconds when it completes, click on 'Finish'\n",
        "  - In 'Product Configuration' page, click on 'Next' and we're done with installation, click on 'Finish' to close the installer\n",
        "- Now, MySql Server should be up and running on your machine\n"
      ],
      "metadata": {
        "id": "3spLAp4ucN3x"
      }
    },
    {
      "cell_type": "markdown",
      "source": [
        "## 016. Windows only -Install MySql Workbench\n",
        "\n",
        "- We'll install MySql Workbench which is a GUI based tool to access MySql Server, it is a client\n",
        "- Open your Browser, Search for 'MySql Workbench'\n",
        "  - Click on the 'Downloads' page, and it is again the same to download the installer\n",
        "  - Launch the installer, click on next, choose the defaults to install MySql Workbench\n",
        "- After MySql Workbench is installed, it'll make it easy to connect to MySql database using the default connection for the local machine which it provides\n",
        "- Click on the connection to launch it\n",
        "- You may add more connections by clicking on '+' button, you may even connect to remote MySql Servers by simply providing a name that you want, hostname/IP address & the port number, as these machines can be on the cloud\n",
        "- Click on an existing database connection, it'll as for the password which you've set earlier in the MySql installation, hit 'OK' and a connection to database will be established\n",
        "  - It'll open a Query Window for you, where you can create databases and do whatever you want\n",
        "- If you type in\n",
        "\n",
        "```sql\n",
        "SHOW DATABASES;\n",
        "```\n",
        "\n",
        "and hit execute, it'll show all the databases, it'll show the default databases initially when you install it\n",
        "\n",
        "- You can create your own databases using\n",
        "\n",
        "```sql\n",
        "CREATE DATABASE mydb;\n",
        "```\n",
        "\n",
        "and run it, now you have a new database\n",
        "\n",
        "- Before you go ahead and create the tables, you need to use that database\n",
        "\n",
        "```sql\n",
        "USE mydb;\n",
        "```\n",
        "\n",
        "and execute this command, now you're working inside this database and you can see the output in the output tab below\n",
        "\n",
        "- You may list all the tables in the current database using\n",
        "\n",
        "```sql\n",
        "SHOW TABLES;\n",
        "```\n",
        "\n",
        "Now, it'll show no tables, we'll be creating the tables\n"
      ],
      "metadata": {
        "id": "uJb71biXdwt4"
      }
    },
    {
      "cell_type": "markdown",
      "source": [
        "## 017. Install python mysqlclient\n",
        "\n",
        "- To connect to a MySql database from within a Django application or a Python application, you need to install `mysqlclient`\n",
        "\n",
        "- To do that, you'll use\n",
        "\n",
        "```bash\n",
        "pip install mysqlclient\n",
        "```\n",
        "\n",
        "then hit enter and that will install the MySql client for you using which Django applications can communicate with the MySql database\n"
      ],
      "metadata": {
        "id": "640ITA09dwqf"
      }
    }
  ]
}