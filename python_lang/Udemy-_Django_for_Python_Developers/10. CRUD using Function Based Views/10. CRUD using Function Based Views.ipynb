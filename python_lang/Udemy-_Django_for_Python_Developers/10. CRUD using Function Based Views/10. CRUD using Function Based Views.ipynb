{
  "nbformat": 4,
  "nbformat_minor": 0,
  "metadata": {
    "colab": {
      "provenance": [],
      "toc_visible": true
    },
    "kernelspec": {
      "name": "python3",
      "display_name": "Python 3"
    },
    "language_info": {
      "name": "python"
    }
  },
  "cells": [
    {
      "cell_type": "markdown",
      "source": [
        "## 095. Hands on Steps\n",
        "\n",
        "- In the next few lectures, you'll be performing the CRUD operations against the `student` table in the database\n",
        "- You'll be creating a model called `student`, you'll `Read` all the students from the database, you'll display that on the `homepage` of your application\n",
        "- The end-user can add a new user by clicking on a `Add Student` link, give the `FirstName`, `LastName` and the `TestScore`, click on `Save`, this'll make a database `save`, so we'll be using Django ORM in our views to do that save\n",
        "- We'll also allow the end-user to `Update` and existing records and also `Delete` that record by simply clicking on the `Delete` button\n",
        "\n"
      ],
      "metadata": {
        "id": "UaLpfLSeciCb"
      }
    },
    {
      "cell_type": "markdown",
      "source": [
        "## 096. Create the Project\n",
        "\n",
        "- In this lecture, we'll create the project, the Model and the form\n",
        "- To do that, goto the command-line/terminal, make sure that you're under the projects directory `djangoprojects`, create a new project `fbvCRUD` using command below, `fbvCRUD` stands for CRUD operations using Function-Based Views\n",
        "\n",
        "  ```bash\n",
        "  django-admin startproject fbvCRUD\n",
        "  ```\n",
        "\n",
        "- Now change directory into `fbvCRUD`\n",
        "\n",
        "  ```bash\n",
        "  cd fbvCRUD\n",
        "  ```\n",
        "\n",
        "- Now create an app `fbvApp` in it\n",
        "\n",
        "  ```bash\n",
        "  python manage.py startapp fbvApp\n",
        "  ```\n",
        "\n",
        "- Now, go grab the project folder `djangoprojects/fbvCRUD` and open it in your IDE\n",
        "- Goto the `settings.py` file, search for `INSTALLED_APPS` property, add the app `fbvApp` here\n",
        "\n",
        "  ```python\n",
        "  INSTALLED_APPS = [\n",
        "      'django.contrib.admin',\n",
        "      'django.contrib.auth',\n",
        "      'django.contrib.contenttypes',\n",
        "      'django.contrib.sessions',\n",
        "      'django.contrib.messages',\n",
        "      'django.contrib.staticfiles',\n",
        "      'fbvApp',\n",
        "  ]\n",
        "  ```\n",
        "\n",
        "- You can start by creating the `templates` folder under the `djangoprojects/fbvCRUD` project folder\n",
        "- Goto `settings.py` file, search for `TEMPLATES` properties and add the path to the `templates` folder\n",
        "\n",
        "  ```python\n",
        "  TEMPLATES = [\n",
        "      {\n",
        "          'BACKEND': 'django.template.backends.django.DjangoTemplates',\n",
        "          'DIRS': ['templates', ],\n",
        "          'APP_DIRS': True,\n",
        "          'OPTIONS': {\n",
        "              'context_processors': [\n",
        "                  'django.template.context_processors.debug',\n",
        "                  'django.template.context_processors.request',\n",
        "                  'django.contrib.auth.context_processors.auth',\n",
        "                  'django.contrib.messages.context_processors.messages',\n",
        "              ],\n",
        "          },\n",
        "      },\n",
        "  ]\n",
        "  ```\n",
        "\n",
        "- You can create the Model and the form now, open the app `fbvApp` folder and open the `models.py` file, and make changes in it as below, make sure that you specify a `max_length` attribute to a `CharField()`\n",
        "\n",
        "  ```python\n",
        "  from django.db import models\n",
        "\n",
        "  # Create your models here.\n",
        "  class Student(models.Model):\n",
        "      \"\"\"Model definition for Student.\"\"\"\n",
        "      firstName = models.CharField(max_length=20)\n",
        "      lastName = models.CharField(max_length=20)\n",
        "      testScore = models.FloatField()\n",
        "  ```\n",
        "\n",
        "- Next, create a file `fbvApp/forms.py` and open it, then modify it as per code below to create a form\n",
        "\n",
        "  ```python\n",
        "  from fbvApp.models import Student\n",
        "  from django import forms\n",
        "\n",
        "  class StudentForm(forms.ModelForm):\n",
        "      \"\"\"Form definition for Student.\"\"\"\n",
        "\n",
        "      class Meta:\n",
        "          \"\"\"Meta definition for Studentform.\"\"\"\n",
        "          model = Student\n",
        "          fields = '__all__'\n",
        "  ```\n",
        "\n",
        "- So, in this lecture, you've created a project, created an app, you've then created a mode for the Student with three fields, you've then used that model to create a form based off that model, and within that form you're mentioning which model should this form be based on & also the fields where we're including all the fields in that model\n",
        "\n"
      ],
      "metadata": {
        "id": "dAwiCbjNch_1"
      }
    },
    {
      "cell_type": "markdown",
      "source": [
        "## 097. Implement READ\n",
        "\n",
        "- as\n"
      ],
      "metadata": {
        "id": "f0XXPdkAch7L"
      }
    },
    {
      "cell_type": "markdown",
      "source": [
        "## 098. Run the Migrations\n",
        "\n",
        "- asa\n"
      ],
      "metadata": {
        "id": "0jluqyTgch4s"
      }
    },
    {
      "cell_type": "markdown",
      "source": [
        "## 099. Test READ\n",
        "\n",
        "- asa\n"
      ],
      "metadata": {
        "id": "w_9XpFNwchzz"
      }
    },
    {
      "cell_type": "markdown",
      "source": [
        "## 100. Implement Create\n",
        "\n",
        "- asa\n"
      ],
      "metadata": {
        "id": "4vNKjuR6chxN"
      }
    },
    {
      "cell_type": "markdown",
      "source": [
        "## 101. Test Create\n",
        "\n",
        "- asa\n"
      ],
      "metadata": {
        "id": "ZF_mH-eSchtU"
      }
    },
    {
      "cell_type": "markdown",
      "source": [
        "## 102. Delete\n",
        "\n",
        "- asa\n"
      ],
      "metadata": {
        "id": "m1CcXeN2dL7D"
      }
    },
    {
      "cell_type": "markdown",
      "source": [
        "## 103. Update View\n",
        "\n",
        "- asa\n"
      ],
      "metadata": {
        "id": "Qr3xlfj3dL3h"
      }
    },
    {
      "cell_type": "markdown",
      "source": [
        "## 104. Update Template\n",
        "\n",
        "- asa\n"
      ],
      "metadata": {
        "id": "xjYkpokBdL1U"
      }
    },
    {
      "cell_type": "markdown",
      "source": [
        "## 105. Test Update\n",
        "\n",
        "- asa\n"
      ],
      "metadata": {
        "id": "KfzZU-MYdLzE"
      }
    },
    {
      "cell_type": "markdown",
      "source": [
        "## 106. Using Django form for Update\n",
        "\n",
        "- asa\n"
      ],
      "metadata": {
        "id": "ovGGIfAMdLw3"
      }
    },
    {
      "cell_type": "markdown",
      "source": [
        "## Assignment 6 : CRUD Using FBV\n",
        "\n",
        "- asa\n"
      ],
      "metadata": {
        "id": "S9ekqqAEdLml"
      }
    },
    {
      "cell_type": "markdown",
      "source": [
        "### Solution\n",
        "\n"
      ],
      "metadata": {
        "id": "sqxPRipxdLjD"
      }
    },
    {
      "cell_type": "markdown",
      "source": [
        "#### Create the Project\n",
        "\n",
        "- asa\n"
      ],
      "metadata": {
        "id": "dLzX7A2wdLg-"
      }
    }
  ]
}