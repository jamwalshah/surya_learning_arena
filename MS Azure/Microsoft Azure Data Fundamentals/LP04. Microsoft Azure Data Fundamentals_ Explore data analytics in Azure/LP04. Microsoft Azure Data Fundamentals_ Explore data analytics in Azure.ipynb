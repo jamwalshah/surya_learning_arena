{
  "nbformat": 4,
  "nbformat_minor": 0,
  "metadata": {
    "colab": {
      "provenance": [],
      "toc_visible": true
    },
    "kernelspec": {
      "name": "python3",
      "display_name": "Python 3"
    },
    "language_info": {
      "name": "python"
    }
  },
  "cells": [
    {
      "cell_type": "markdown",
      "source": [
        "# Microsoft Azure Data Fundamentals: Explore data analytics in Azure\n",
        "\n",
        "3 hr 31 min • Learning Path • 3 modules\n",
        "\n",
        "`Beginner` `Data Analyst` `Data Engineer` `Database Administrator` `Solution Architect` `Student` `Azure`\n"
      ],
      "metadata": {
        "id": "wSRJVyk47Y_a"
      }
    },
    {
      "cell_type": "code",
      "source": [
        "%%HTML\n",
        "<iframe width=\"560\" height=\"315\" src=\"https://www.microsoft.com/en-us/videoplayer/embed/RE57fRS?postJsllMsg=true\" frameborder=\"0\" allowfullscreen></iframe>"
      ],
      "metadata": {
        "colab": {
          "base_uri": "https://localhost:8080/",
          "height": 336
        },
        "id": "D8kRlywM77BE",
        "outputId": "95ef22e6-c0e7-4605-e405-553416937611"
      },
      "execution_count": 1,
      "outputs": [
        {
          "output_type": "display_data",
          "data": {
            "text/plain": [
              "<IPython.core.display.HTML object>"
            ],
            "text/html": [
              "<iframe width=\"560\" height=\"315\" src=\"https://www.microsoft.com/en-us/videoplayer/embed/RE57fRS?postJsllMsg=true\" frameborder=\"0\" allowfullscreen></iframe>\n"
            ]
          },
          "metadata": {}
        }
      ]
    },
    {
      "cell_type": "markdown",
      "source": [
        "The phenomenal growth in data in recent years is fueling digital transformation of businesses and other organizations by empowering fast and informed decision making through data analytics. Microsoft Azure provides multiple services that you can combine to build large-scale analytics solutions that leverage the latest technologies and techniques for data ingestion, storage, modeling, and visualization. This learning path helps you prepare for the [Azure Data Fundamentals](https://learn.microsoft.com/en-us/certifications/azure-data-fundamentals?azure-portal=true) certification.\n",
        "\n"
      ],
      "metadata": {
        "id": "obr6g03L7Y7z"
      }
    },
    {
      "cell_type": "markdown",
      "source": [
        "## Prerequisites\n",
        "\n",
        "Before starting this learning path, you should have a fundamental understanding of core data concepts, relational data, and non-relational data.\n",
        "\n"
      ],
      "metadata": {
        "id": "U4JTVPZf7Y55"
      }
    },
    {
      "cell_type": "markdown",
      "source": [
        "## Modules in this learning path\n",
        "\n"
      ],
      "metadata": {
        "id": "9LALTcDE7Y3l"
      }
    },
    {
      "cell_type": "markdown",
      "source": [
        "### Explore fundamentals of large-scale analytics\n",
        "\n",
        "1 hr 32 min • Module • 10 Units\n",
        "\n",
        "Organizations use analytics platforms to build large scale data analytics solutions that generate insights and drive success. Microsoft provides multiple technologies that you can combine to build a large scale data analytics solution.\n",
        "\n"
      ],
      "metadata": {
        "id": "3zDFCP977Y1V"
      }
    },
    {
      "cell_type": "markdown",
      "source": [
        "### Explore fundamentals of real-time analytics\n",
        "\n",
        "1 hr 21 min • Module • 11 Units\n",
        "\n",
        "Learn about the basics of stream processing, and the services in Microsoft Azure that you can use to implement real-time analytics solutions.\n",
        "\n"
      ],
      "metadata": {
        "id": "uCR-I9MT7Ywz"
      }
    },
    {
      "cell_type": "markdown",
      "source": [
        "### Explore fundamentals of data visualization\n",
        "\n",
        "138 min • Module • 7 Units\n",
        "\n",
        "Learn the fundamental principles of analytical data modeling and data visualization, using Microsoft Power BI as a platform to explore these principles in action.\n",
        "\n"
      ],
      "metadata": {
        "id": "9VhRcXav7Yuw"
      }
    }
  ]
}