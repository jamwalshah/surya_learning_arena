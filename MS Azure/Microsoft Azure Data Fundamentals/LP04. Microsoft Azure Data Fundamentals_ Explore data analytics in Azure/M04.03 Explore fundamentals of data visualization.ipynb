{
  "nbformat": 4,
  "nbformat_minor": 0,
  "metadata": {
    "colab": {
      "provenance": [],
      "toc_visible": true
    },
    "kernelspec": {
      "name": "python3",
      "display_name": "Python 3"
    },
    "language_info": {
      "name": "python"
    }
  },
  "cells": [
    {
      "cell_type": "markdown",
      "source": [
        "# M04.03 Explore fundamentals of data visualization\n",
        "\n"
      ],
      "metadata": {
        "id": "H8iiqGN5X_U_"
      }
    },
    {
      "cell_type": "markdown",
      "source": [
        "## Unit 1 of 7\n",
        "\n"
      ],
      "metadata": {
        "id": "gPgSnrrYX_Rh"
      }
    },
    {
      "cell_type": "markdown",
      "source": [
        "### Introduction\n",
        "\n",
        "Data modeling and visualization is at the heart of business intelligence (BI) workloads that are supported by large-scale data analytics solutions. Essentially, data visualization powers reporting and decision making that helps organizations succeed.\n",
        "\n",
        "In this module, you'll learn about fundamental principles of analytical data modeling and data visualization, using Microsoft Power BI as a platform to explore these principles in action.\n",
        "\n"
      ],
      "metadata": {
        "id": "q8uNRQioX_O6"
      }
    },
    {
      "cell_type": "markdown",
      "source": [
        "### Learning objectives\n",
        "\n",
        "After completing this module, you'll be able to:\n",
        "\n",
        "- Describe a high-level process for creating reporting solutions with Microsoft Power BI\n",
        "- Describe core principles of analytical data modeling\n",
        "- Identify common types of data visualization and their uses\n",
        "- Create an interactive report with Power BI Desktop\n",
        "\n"
      ],
      "metadata": {
        "id": "75F3CFV-X_MQ"
      }
    },
    {
      "cell_type": "markdown",
      "source": [
        "### Next unit: Describe Power BI tools and workflow\n",
        "\n"
      ],
      "metadata": {
        "id": "46w43DeZX_Jl"
      }
    },
    {
      "cell_type": "markdown",
      "source": [
        "## Unit 2 of 7\n",
        "\n"
      ],
      "metadata": {
        "id": "RJHhBRb4X_G7"
      }
    },
    {
      "cell_type": "markdown",
      "source": [
        "### Describe Power BI tools and workflow\n",
        "\n",
        "There are many data visualization tools that data analysts can use to explore data and summarize insights visually; including chart support in productivity tools like Microsoft Excel and built-in data visualization widgets in notebooks used to explore data in services such as Azure Synapse Analytics and Azure Databricks. However, for enterprise-scale business analytics, an integrated solution that can support complex data modeling, interactive reporting, and secure sharing is often required.\n",
        "\n"
      ],
      "metadata": {
        "id": "4WN6_6P0X_EQ"
      }
    },
    {
      "cell_type": "markdown",
      "source": [
        "#### Microsoft Power BI\n",
        "\n",
        "Microsoft Power BI is a suite of tools and services that data analysts can use to build interactive data visualizations for business users to consume.\n",
        "\n",
        "![Data from a wide range of sources is imported into Power BI Desktop, which is used to create a data model and report; which is published to the Power BI Service and consumed through a web browser and the Power BI phone app](https://learn.microsoft.com/en-us/training/wwl-data-ai/explore-fundamentals-data-visualization/media/power-bi-flow.png)\n",
        "\n",
        "A typical workflow for creating a data visualization solution starts with **Power BI Desktop**, a Microsoft Windows application in which you can import data from a wide range of data sources, combine and organize the data from these sources in an analytics data model, and create reports that contain interactive visualizations of the data.\n",
        "\n",
        "After you've created data models and reports, you can publish them to the **Power BI service**; a cloud service in which reports can be published and interacted with by business users. You can also do some basic data modeling and report editing directly in the service using a web browser, but the functionality for this is limited compared to the Power BI Desktop tool. You can use the service to schedule refreshes of the data sources on which your reports are based, and to share reports with other users. You can also define dashboards and apps that combine related reports in a single, easy to consume location.\n",
        "\n",
        "Users can consume reports, dashboards, and apps in the Power BI service through a web browser, or on mobile devices by using the **Power BI phone app**.\n",
        "\n"
      ],
      "metadata": {
        "id": "-PPF8bEyX_Bf"
      }
    },
    {
      "cell_type": "markdown",
      "source": [
        "### Next unit: Describe core concepts of data modeling\n",
        "\n"
      ],
      "metadata": {
        "id": "iMPFCRp1X--4"
      }
    },
    {
      "cell_type": "markdown",
      "source": [
        "## Unit 3 of 7\n",
        "\n"
      ],
      "metadata": {
        "id": "Ckbma7_1X-8D"
      }
    },
    {
      "cell_type": "markdown",
      "source": [
        "### Describe core concepts of data modeling\n",
        "\n",
        "Analytical models enable you to structure data to support analysis. Models are based on related tables of data and define the numeric values that you want to analyze or report (known as *measures*) and the entities by which you want to aggregate them (known as *dimensions*). For example, a model might include a table containing numeric measures for sales (such as revenue or quantity) and dimensions for products, customers, and time. This would enable you aggregate sale measures across one or more dimensions (for example, to identify total revenue by customer, or total items sold by product per month). Conceptually, the model forms a multidimensional structure, which is commonly referred to as a *cube*, in which any point where the dimensions intersect represents an aggregated measure for those dimensions.)\n",
        "\n",
        "![A conceptual view of an analytical data model as a cube with dimensions for Product, Customer, and Time dimensions. A specific intersection point in the cube contains total revenue for a specific product sold to a specific customer in a specific month.](https://learn.microsoft.com/en-us/training/wwl-data-ai/explore-fundamentals-data-visualization/media/cube.png)\n",
        "\n",
        "> **Note:** Although we commonly refer to an analytical model as a *cube*, there can be more (or fewer) than three dimensions – it’s just not easy for us to visualize more than three!\n",
        "\n"
      ],
      "metadata": {
        "id": "SpF0hYaVDyDc"
      }
    },
    {
      "cell_type": "markdown",
      "source": [
        "#### Tables and schema\n",
        "\n",
        "*Dimension* tables represent the entities by which you want to aggregate numeric measures – for example product or customer. Each entity is represented by a row with a unique key value. The remaining columns represent attributes of an entity – for example, products have names and categories, and customers have addresses and cities. It’s common in most analytical models to include a *Time* dimension so that you can aggregate numeric measures associated with events over time.\n",
        "\n",
        "The numeric measures that will be aggregated by the various dimensions in the model are stored in *Fact* tables. Each row in a fact table represents a recorded event that has numeric measures associated with it. For example, the **Sales** table in the schema below represents sales transactions for individual items, and includes numeric values for quantity sold and revenue.\n",
        "\n",
        "![A schema of Customer, Product, and Time dimension tables related to a Sales fact table](https://learn.microsoft.com/en-us/training/wwl-data-ai/explore-fundamentals-data-visualization/media/star-schema.png)\n",
        "\n",
        "This type of schema, where a fact table is related to one or more dimension tables, is referred to as a star schema (imagine there are five dimensions related to a single fact table – the schema would form a five-pointed star!). You can also define a more complex schema in which dimension tables are related to additional tables containing more details (for example, you could represent attributes of product categories in a separate **Category** table that is related to the **Product** table – in which case the design is referred to as a snowflake schema. The schema of fact and dimension tables is used to create an analytical model, in which measure aggregations across all dimensions are pre-calculated; making performance of analysis and reporting activities much faster than calculating the aggregations each time.)\n",
        "\n"
      ],
      "metadata": {
        "id": "wm12jDoODy4r"
      }
    },
    {
      "cell_type": "markdown",
      "source": [
        "#### Attribute hierarchies\n",
        "\n",
        "One final thing worth considering about analytical models is the creation of attribute *hierarchies* that enable you to quickly *drill-up* or *drill-down* to find aggregated values at different levels in a hierarchical dimension. For example, consider the attributes in the dimension tables we’ve discussed so far. In the **Product** table, you can form a hierarchy in which each category might include multiple named products. Similarly, in the **Customer** table, a hierarchy could be formed to represent multiple named customers in each city. Finally, in the **Time** table, you can form a hierarchy of year, month, and day. The model can be built with pre-aggregated values for each level of a hierarchy, enabling you to quickly change the scope of your analysis – for example, by viewing total sales by year, and then drilling down to see a more detailed breakdown of total sales by month.\n",
        "\n",
        "![A hiererchy defined for the Year, Month, and Day attributes in a Time dimension results in measures being aggregated for each level of the hierarchy](https://learn.microsoft.com/en-us/training/wwl-data-ai/explore-fundamentals-data-visualization/media/hierarchy.png)\n",
        "\n"
      ],
      "metadata": {
        "id": "u_UKcZzFDy1P"
      }
    },
    {
      "cell_type": "markdown",
      "source": [
        "#### Analytical modeling in Microsoft Power BI\n",
        "\n",
        "You can use Power BI to define an analytical model from tables of data, which can be imported from one or more data source. You can then use the data modeling interface on the **Model** tab of Power BI Desktop to define your analytical model by creating relationships between fact and dimension tables, defining hierarchies, setting data types and display formats for fields in the tables, and managing other properties of your data that help define a rich model for analysis.\n",
        "\n",
        "![The Model tab in Power BI Desktop](https://learn.microsoft.com/en-us/training/wwl-data-ai/explore-fundamentals-data-visualization/media/power-bi-model.png)\n",
        "\n"
      ],
      "metadata": {
        "id": "lvA0TtfqDyzG"
      }
    },
    {
      "cell_type": "markdown",
      "source": [
        "### Next unit: Describe considerations for data visualization\n",
        "\n"
      ],
      "metadata": {
        "id": "bLDnqj6WDyw6"
      }
    },
    {
      "cell_type": "markdown",
      "source": [
        "## Unit 4 of 7\n",
        "\n"
      ],
      "metadata": {
        "id": "XMczubQpDyvA"
      }
    },
    {
      "cell_type": "markdown",
      "source": [
        "### Describe considerations for data visualization\n",
        "\n",
        "After you've created a model, you can use it to generate data visualizations that can be included in a report.\n",
        "\n",
        "There are many kinds of data visualization, some commonly used and some more specialized. Power BI includes an extensive set of built-in visualizations, which can be extended with custom and third-party visualizations. The rest of this unit discusses some common data visualizations but is by no means a complete list.\n",
        "\n"
      ],
      "metadata": {
        "id": "u35ZL5H9Dys8"
      }
    },
    {
      "cell_type": "markdown",
      "source": [
        "#### Tables and text\n",
        "\n",
        "![A table of sales quantities per product and text card showing total revenue](https://learn.microsoft.com/en-us/training/wwl-data-ai/explore-fundamentals-data-visualization/media/text-table.png)\n",
        "\n",
        "Tables and text are often the simplest way to communicate data. Tables are useful when numerous related values must be displayed, and individual text values in cards can be a useful way to show important figures or metrics.\n",
        "\n"
      ],
      "metadata": {
        "id": "irbDkfDtp9yY"
      }
    },
    {
      "cell_type": "markdown",
      "source": [
        "#### Bar and column charts\n",
        "\n",
        "![A column chart showing revenue per category for each city](https://learn.microsoft.com/en-us/training/wwl-data-ai/explore-fundamentals-data-visualization/media/bar-column-chart.png)\n",
        "\n",
        "Bar and column charts are a good way to visually compare numeric values for discrete categories.\n",
        "\n"
      ],
      "metadata": {
        "id": "uan4J_dep9u0"
      }
    },
    {
      "cell_type": "markdown",
      "source": [
        "#### Line charts\n",
        "\n",
        "![A line chart showing revenue trend over time for each product category](https://learn.microsoft.com/en-us/training/wwl-data-ai/explore-fundamentals-data-visualization/media/line-chart.png)\n",
        "\n",
        "Line charts can also be used to compare categorized values and are useful when you need to examine trends, often over time.\n",
        "\n"
      ],
      "metadata": {
        "id": "eV9wGRRwp9ss"
      }
    },
    {
      "cell_type": "markdown",
      "source": [
        "#### Pie charts\n",
        "\n",
        "![A pie chart showing proportion of sales by product category](https://learn.microsoft.com/en-us/training/wwl-data-ai/explore-fundamentals-data-visualization/media/pie-chart.png)\n",
        "\n",
        "Pie charts are often used in business reports to visually compare categorized values as proportions of a total.\n",
        "\n"
      ],
      "metadata": {
        "id": "Urxig_6Op9qf"
      }
    },
    {
      "cell_type": "markdown",
      "source": [
        "#### Scatter plots\n",
        "\n",
        "![A scatter plot showing marketing spend vs revenue](https://learn.microsoft.com/en-us/training/wwl-data-ai/explore-fundamentals-data-visualization/media/scatter-plot.png)\n",
        "\n",
        "Scatter plots are useful when you want to compare two numeric measures and identify a relationship or correlation between them.\n",
        "\n"
      ],
      "metadata": {
        "id": "H2y5I3e6p9oR"
      }
    },
    {
      "cell_type": "markdown",
      "source": [
        "#### Maps\n",
        "\n",
        "![A map showing comparative revenue by city](https://learn.microsoft.com/en-us/training/wwl-data-ai/explore-fundamentals-data-visualization/media/map.png)\n",
        "\n",
        "Maps are a great way to visually compare values for different geographic areas or locations.\n",
        "\n"
      ],
      "metadata": {
        "id": "FSJwsHmEp9ma"
      }
    },
    {
      "cell_type": "markdown",
      "source": [
        "#### Interactive reports in Power BI\n",
        "\n",
        "![A report in Power BI Desktop, with visualizations filtered based on a selected city](https://learn.microsoft.com/en-us/training/wwl-data-ai/explore-fundamentals-data-visualization/media/power-bi-report.png)\n",
        "\n",
        "In Power BI, the visual elements for related data in a report are automatically linked to one another and provide interactivity. For example, selecting an individual category in one visualization will automatically filter and highlight that category in other related visualizations in the report. In the image above, the city *Seattle* has been selected in the **Sales by City and Category** column chart, and the other visualizations are filtered to reflect values for Seattle only.\n",
        "\n"
      ],
      "metadata": {
        "id": "zJerQbvZp9kI"
      }
    },
    {
      "cell_type": "markdown",
      "source": [
        "### Next unit: Exercise – Explore fundamentals of data visualization with Power BI\n",
        "\n"
      ],
      "metadata": {
        "id": "0xRWF5Xgp9hv"
      }
    },
    {
      "cell_type": "markdown",
      "source": [
        "## Unit 5 of 7\n",
        "\n"
      ],
      "metadata": {
        "id": "gzDbV6cDp9fb"
      }
    },
    {
      "cell_type": "markdown",
      "source": [
        "### Exercise – Explore fundamentals of data visualization with Power BI\n",
        "\n",
        "Now it's your chance to explore data modeling and visualization with Microsoft Power BI.\n",
        "\n",
        "> **Note:** To complete this exercise, you will need a computer running Microsoft Windows.\n",
        "\n",
        "Launch the exercise and follow the instructions.\n",
        "\n",
        "[Launch Exercise](https://aka.ms/dp900-pbi-lab)\n",
        "\n",
        "\n"
      ],
      "metadata": {
        "id": "_qN8ZWdhp9c1"
      }
    },
    {
      "cell_type": "markdown",
      "source": [
        "### Next unit: Knowledge check\n",
        "\n"
      ],
      "metadata": {
        "id": "VHchqiGup9ag"
      }
    },
    {
      "cell_type": "markdown",
      "source": [
        "## Unit 6 of 7\n",
        "\n"
      ],
      "metadata": {
        "id": "DTctm7ulp9X7"
      }
    },
    {
      "cell_type": "markdown",
      "source": [
        "### Knowledge check\n",
        "\n",
        "Choose the best response for each of the questions below. Then select Check your answers.\n",
        "\n"
      ],
      "metadata": {
        "id": "T9-JFaCxHjnf"
      }
    },
    {
      "cell_type": "markdown",
      "source": [
        "### Check your knowledge\n",
        "\n",
        "1. Which tool should you use to import data from multiple data sources and create a report?\n",
        "\n",
        "    - ☑ Power BI Desktop\n",
        "    > That's correct. Use Power BI Desktop to create reports from a wide range of data sources.\n",
        "    - ☐ Power BI Phone App\n",
        "    - ☐ Azure Data Factory\n",
        "\n",
        "2. What should you define in your data model to enable drill-up/down analysis?\n",
        "\n",
        "    - ☐ A measure\n",
        "    - ☑ A hierarchy\n",
        "    > That's correct. A hierarchy defines multiple levels of attributes.\n",
        "    - ☐ A relationship\n",
        "\n",
        "3. Which kind of visualization should you use to analyze pass rates for multiple exams over time?\n",
        "\n",
        "    - ☐ A pie chart\n",
        "    - ☐ A scatter plot\n",
        "    - ☑ A line chart\n",
        "    > That's correct. A line chart is ideal for visualizing values over time.\n",
        "\n"
      ],
      "metadata": {
        "id": "uJsD3y3SHjkv"
      }
    },
    {
      "cell_type": "markdown",
      "source": [
        "### Next unit: Summary\n",
        "\n"
      ],
      "metadata": {
        "id": "zAbEETggHjhP"
      }
    },
    {
      "cell_type": "markdown",
      "source": [
        "## Unit 7 of 7\n",
        "\n"
      ],
      "metadata": {
        "id": "gALRyB2IHjeC"
      }
    },
    {
      "cell_type": "markdown",
      "source": [
        "### Summary\n",
        "\n",
        "Data modeling and visualization enables organizations to extract insights from data.\n",
        "\n",
        "In this module, you learned how to:\n",
        "\n",
        "- Describe a high-level process for creating reporting solutions with Microsoft Power BI\n",
        "- Describe core principles of analytical data modeling\n",
        "- Identify common types of data visualization and their uses\n",
        "- Create an interactive report with Power BI Desktop\n",
        "\n"
      ],
      "metadata": {
        "id": "8OSA73VBHjax"
      }
    },
    {
      "cell_type": "markdown",
      "source": [
        "### Next steps\n",
        "\n",
        "Now that you've learned about data modeling and visualization, consider learning more about data-related workloads on Azure by pursuing a Microsoft certification in [Azure Data Fundamentals](https://learn.microsoft.com/en-us/certifications/azure-data-fundamentals/).\n",
        "\n"
      ],
      "metadata": {
        "id": "WM5XmRairRY3"
      }
    },
    {
      "cell_type": "markdown",
      "source": [
        "### All units complete\n"
      ],
      "metadata": {
        "id": "6pL8fMl9rRVS"
      }
    }
  ]
}