{
  "nbformat": 4,
  "nbformat_minor": 0,
  "metadata": {
    "colab": {
      "provenance": [],
      "toc_visible": true
    },
    "kernelspec": {
      "name": "python3",
      "display_name": "Python 3"
    },
    "language_info": {
      "name": "python"
    }
  },
  "cells": [
    {
      "cell_type": "markdown",
      "source": [
        "# M04.01 Explore fundamentals of large-scale analytics\n",
        "\n"
      ],
      "metadata": {
        "id": "Lt06W4Q3-AyJ"
      }
    },
    {
      "cell_type": "markdown",
      "source": [
        "## Unit 1 of 10\n",
        "\n"
      ],
      "metadata": {
        "id": "6ecVFoES-Aut"
      }
    },
    {
      "cell_type": "markdown",
      "source": [
        "### Introduction\n",
        "\n",
        "Large-scale data analytics solutions combine conventional data warehousing used to support business intelligence (BI) with *data lakehouse* techniques that are used to integrate data from files and external sources. A conventional data warehousing solution typically involves copying data from transactional data stores into a relational database with a schema that's optimized for querying and building multidimensional models. Data lakehouse solutions on the other hand, are used with large volumes of data in multiple formats, which is batch loaded or captured in real-time streams and stored in a *data lake* from which distributed processing engines like Apache Spark are used to process it.\n",
        "\n"
      ],
      "metadata": {
        "id": "3LWSiiOt-Asw"
      }
    },
    {
      "cell_type": "markdown",
      "source": [
        "### Learning Objectives\n",
        "\n",
        "In this module, you will learn how to:\n",
        "\n",
        "- Identify common elements of a large-scale data analytics solution\n",
        "- Describe key features for data ingestion pipelines\n",
        "- Identify common types of analytical data store\n",
        "- Identify platform-as-a-service (PaaS) analytics services in Azure\n",
        "- Provision Azure Synapse Analytics and use it to ingest, process, and query data\n",
        "- Describe features of Microsoft Fabric - a software-as-a-service (SaaS) solution for data analytics\n",
        "- Use Microsoft Fabric to ingest and analyze data\n",
        "\n"
      ],
      "metadata": {
        "id": "DPNK3ru3-AqY"
      }
    },
    {
      "cell_type": "markdown",
      "source": [
        "### Next unit: Describe data warehousing architecture\n",
        "\n"
      ],
      "metadata": {
        "id": "b2c-fPpV-AoX"
      }
    },
    {
      "cell_type": "markdown",
      "source": [
        "## Unit 2 of 10\n",
        "\n"
      ],
      "metadata": {
        "id": "4seqqWOa-AmC"
      }
    },
    {
      "cell_type": "markdown",
      "source": [
        "### Describe data warehousing architecture\n",
        "\n",
        "Large-scale data analytics architecture can vary, as can the specific technologies used to implement it; but in general, the following elements are included:\n",
        "\n",
        "![Diagram showing data ingestion and processing, an analytical data store, an analytical data model, and data visualization.](https://learn.microsoft.com/en-us/training/wwl-data-ai/examine-components-of-modern-data-warehouse/media/modern-data-warehousing.png)\n",
        "\n",
        "1. **Data ingestion and processing** – data from one or more transactional data stores, files, real-time streams, or other sources is loaded into a data lake or a relational data warehouse. The load operation usually involves an *extract, transform, and load* (ETL) or *extract, load, and transform* (ELT) process in which the data is cleaned, filtered, and restructured for analysis. In ETL processes, the data is transformed before being loaded into an analytical store, while in an ELT process the data is copied to the store and then transformed. Either way, the resulting data structure is optimized for analytical queries. The data processing is often performed by distributed systems that can process high volumes of data in parallel using multi-node clusters. Data ingestion includes both batch processing of static data and real-time processing of streaming data.\n",
        "2. **Analytical data store** – data stores for large scale analytics include relational *data warehouses*, file-system based *data lakes*, and hybrid architectures that combine features of data warehouses and data lakes (sometimes called *data lakehouses* or *lake databases*). We'll discuss these in more depth later.\n",
        "3. **Analytical data model** – while data analysts and data scientists can work with the data directly in the analytical data store, it’s common to create one or more data models that pre-aggregate the data to make it easier to produce reports, dashboards, and interactive visualizations. Often these data models are described as *cubes*, in which numeric data values are aggregated across one or more dimensions (for example, to determine total sales by product and region). The model encapsulates the relationships between data values and dimensional entities to support \"drill-up/drill-down\" analysis.\n",
        "4. **Data visualization** – data analysts consume data from analytical models, and directly from analytical stores to create reports, dashboards, and other visualizations. Additionally, users in an organization who may not be technology professionals might perform self-service data analysis and reporting. The visualizations from the data show trends, comparisons, and key performance indicators (KPIs) for a business or other organization, and can take the form of printed reports, graphs and charts in documents or PowerPoint presentations, web-based dashboards, and interactive environments in which users can explore data visually.\n",
        "\n"
      ],
      "metadata": {
        "id": "rdhaTCVy-Aj6"
      }
    },
    {
      "cell_type": "markdown",
      "source": [
        "### Next unit: Explore data ingestion pipelines\n",
        "\n"
      ],
      "metadata": {
        "id": "EPYiwbzj-Ah1"
      }
    },
    {
      "cell_type": "markdown",
      "source": [
        "## Unit 3 of 10\n",
        "\n"
      ],
      "metadata": {
        "id": "akWv4IOIzW5G"
      }
    },
    {
      "cell_type": "markdown",
      "source": [
        "### Explore data ingestion pipelines\n",
        "\n",
        "Now that you understand a little about the architecture of a large-scale data warehousing solution, and some of the distributed processing technologies that can be used to handle large volumes of data, it's time to explore how data is ingested into an analytical data store from one or more sources.\n",
        "\n",
        "![Diagram showing a pipeline.](https://learn.microsoft.com/en-us/training/wwl-data-ai/examine-components-of-modern-data-warehouse/media/pipeline.png)\n",
        "\n",
        "On Azure, large-scale data ingestion is best implemented by creating *pipelines* that orchestrate ETL processes. You can create and run pipelines using [Azure Data Factory](https://azure.microsoft.com/services/data-factory), or you can use a similar pipeline engine in [Azure Synapse Analytics](https://azure.microsoft.com/services/synapse-analytics) or [Microsoft Fabric](https://learn.microsoft.com/en-us/fabric/data-factory/data-factory-overview) if you want to manage all of the components of your data analytics solution in a unified workspace.\n",
        "\n",
        "In either case, pipelines consist of one or more *activities* that operate on data. An input dataset provides the source data, and activities can be defined as a data flow that incrementally manipulates the data until an output dataset is produced. Pipelines can connect to external data sources to integrate with a wide variety of data services.\n",
        "\n"
      ],
      "metadata": {
        "id": "VmKeXBuKzW1s"
      }
    },
    {
      "cell_type": "markdown",
      "source": [
        "### Next unit: Explore analytical data stores\n",
        "\n"
      ],
      "metadata": {
        "id": "fFLywEDFzWzU"
      }
    },
    {
      "cell_type": "markdown",
      "source": [
        "## Unit 4 of 10\n",
        "\n"
      ],
      "metadata": {
        "id": "2eIEibz5zWxA"
      }
    },
    {
      "cell_type": "markdown",
      "source": [
        "### Explore analytical data stores\n",
        "\n",
        "There are two common types of analytical data store.\n",
        "\n"
      ],
      "metadata": {
        "id": "rl54VT0ezWuv"
      }
    },
    {
      "cell_type": "markdown",
      "source": [
        "#### Data warehouses\n",
        "\n",
        "![Diagram showing a data warehouse with a star schema.](https://learn.microsoft.com/en-us/training/wwl-data-ai/examine-components-of-modern-data-warehouse/media/data-warehouse.png)\n",
        "\n",
        "A *data warehouse* is a relational database in which the data is stored in a schema that is optimized for data analytics rather than transactional workloads. Commonly, the data from a transactional store is transformed into a schema in which numeric values are stored in central *fact* tables, which are related to one or more *dimension* tables that represent entities by which the data can be aggregated. For example a fact table might contain sales order data, which can be aggregated by customer, product, store, and time dimensions (enabling you, for example, to easily find monthly total sales revenue by product for each store). This kind of fact and dimension table schema is called a *star schema*; though it's often extended into a *snowflake schema* by adding additional tables related to the dimension tables to represent dimensional hierarchies (for example, product might be related to product categories). A data warehouse is a great choice when you have transactional data that can be organized into a structured schema of tables, and you want to use SQL to query them.\n",
        "\n"
      ],
      "metadata": {
        "id": "Cff1s_uBzWsp"
      }
    },
    {
      "cell_type": "markdown",
      "source": [
        "#### Data lakehouses\n",
        "\n",
        "![Diagram showing a data lake in which files are abstracted by tables.](https://learn.microsoft.com/en-us/training/wwl-data-ai/examine-components-of-modern-data-warehouse/media/data-lake.png)\n",
        "\n",
        "A *data lake* is a file store, usually on a distributed file system for high performance data access. Technologies like Spark or Hadoop are often used to process queries on the stored files and return data for reporting and analytics. These systems often apply a *schema-on-read* approach to define tabular schemas on semi-structured data files at the point where the data is read for analysis, without applying constraints when it's stored. Data lakes are great for supporting a mix of structured, semi-structured, and even unstructured data that you want to analyze without the need for schema enforcement when the data is written to the store.\n",
        "\n",
        "You can use a hybrid approach that combines features of data lakes and data warehouses in a *lake database* or *data lakehouse*. The raw data is stored as files in a data lake, and a relational storage layer abstracts the underlying files and expose them as tables, which can be queried using SQL. SQL pools in Azure Synapse Analytics include *PolyBase*, which enables you to define external tables based on files in a data lake (and other sources) and query them using SQL. Synapse Analytics also supports a Lake Database approach in which you can use database templates to define the relational schema of your data warehouse, while storing the underlying data in data lake storage – separating the storage and compute for your data warehousing solution. Data lakehouses are a relatively new approach in Spark-based systems, and are enabled through technologies like *Delta Lake*; which adds relational storage capabilities to Spark, so you can define tables that enforce schemas and transactional consistency, support batch-loaded and streaming data sources, and provide a SQL API for querying.\n",
        "\n"
      ],
      "metadata": {
        "id": "I88V-_9UzWqZ"
      }
    },
    {
      "cell_type": "markdown",
      "source": [
        "### Next unit: Explore platform-as-a-service (PaaS) solutions\n",
        "\n"
      ],
      "metadata": {
        "id": "2DYYA3V8zWn4"
      }
    },
    {
      "cell_type": "markdown",
      "source": [
        "## Unit 5 of 10\n",
        "\n"
      ],
      "metadata": {
        "id": "A102RrkLzWlj"
      }
    },
    {
      "cell_type": "markdown",
      "source": [
        "### Explore platform-as-a-service (PaaS) solutions\n",
        "\n",
        "On Azure, there are three main platform-as-a-service (PaaS) services that you can use to implement a large-scale analytical store\n",
        "\n",
        "![Screenshot of Azure Synapse Analytics logo.](https://learn.microsoft.com/en-us/training/wwl-data-ai/examine-components-of-modern-data-warehouse/media/azure-synapse.png)[**Azure Synapse Analytics**](https://azure.microsoft.com/services/synapse-analytics) is a unified, end-to-end solution for large scale data analytics. It brings together multiple technologies and capabilities, enabling you to combine the data integrity and reliability of a scalable, high-performance SQL Server based relational data warehouse with the flexibility of a data lake and open-source Apache Spark. It also includes native support for log and telemetry analytics with Azure Synapse Data Explorer pools, as well as built in data pipelines for data ingestion and transformation. All Azure Synapse Analytics services can be managed through a single, interactive user interface called Azure Synapse Studio, which includes the ability to create interactive notebooks in which Spark code and markdown content can be combined. Synapse Analytics is a great choice when you want to create a single, unified analytics solution on Azure.\n",
        "\n",
        "![Screenshot of Azure Databricks logo.](https://learn.microsoft.com/en-us/training/wwl-data-ai/examine-components-of-modern-data-warehouse/media/azure-databricks.png)[**Azure Databricks**](https://azure.microsoft.com/services/databricks) is an Azure implementation of the popular Databricks platform. Databricks is a comprehensive data analytics solution built on Apache Spark, and offers native SQL capabilities as well as workload-optimized Spark clusters for data analytics and data science. Databricks provides an interactive user interface through which the system can be managed and data can be explored in interactive notebooks. Due to its common use on multiple cloud platforms, you might want to consider using Azure Databricks as your analytical store if you want to use existing expertise with the platform or if you need to operate in a multicloud environment or support a cloud-portable solution.\n",
        "\n",
        "![Screenshot of Azure HDInsight logo.](https://learn.microsoft.com/en-us/training/wwl-data-ai/examine-components-of-modern-data-warehouse/media/hdinsight.png)[**Azure HDInsight**](https://azure.microsoft.com/services/hdinsight) is an Azure service that supports multiple open-source data analytics cluster types. Although not as user-friendly as Azure Synapse Analytics and Azure Databricks, it can be a suitable option if your analytics solution relies on multiple open-source frameworks or if you need to migrate an existing on-premises Hadoop-based solution to the cloud.\n",
        "\n",
        "> **Note:** Each of these services can be thought of as an analytical data *store*, in the sense that they provide a schema and interface through which the data can be queried. In many cases however, the data is actually stored in a data lake and the service is used to process the *data* and run queries. Some solutions might even combine the use of these services. An *extract, load, and transform* (ELT) ingestion process might copy data into the data lake, and then use one of these services to transform the data, and another to query it. For example, a pipeline might use a MapReduce job running in HDInsight or a notebook running in Azure Databricks to process a large volume of data in the data lake, and then load it into tables in a SQL pool in Azure Synapse Analytics.\n",
        "\n"
      ],
      "metadata": {
        "id": "ZL9mZjW-zWjJ"
      }
    },
    {
      "cell_type": "markdown",
      "source": [
        "### Next unit: Exercise: Explore data analytics in Azure with Azure Synapse Analytics\n",
        "\n"
      ],
      "metadata": {
        "id": "ObxzCINQ-Aft"
      }
    },
    {
      "cell_type": "markdown",
      "source": [
        "## Unit 6 of 10\n",
        "\n"
      ],
      "metadata": {
        "id": "sqH95wnP-Ads"
      }
    },
    {
      "cell_type": "markdown",
      "source": [
        "### Exercise: Explore data analytics in Azure with Azure Synapse Analytics\n",
        "\n",
        "In this exercise, you'll create an Azure Synapse Analytics workspace and use it to ingest and analyze some data.\n",
        "\n",
        "The exercise is designed to familiarize you with some key elements of a large-scale data warehousing solution, not as a comprehensive guide to performing advanced data analysis with Azure Synapse Analytics. The exercise should take around 30 minutes to complete.\n",
        "\n",
        "> **Note:** To complete this lab, you will need an [Azure subscription](https://azure.microsoft.com/free) in which you have administrative access.\n",
        "\n",
        "Launch the exercise and follow the instructions.\n",
        "\n",
        "[Launch Exercise](https://aka.ms/dp900-synapse-lab)\n",
        "\n"
      ],
      "metadata": {
        "id": "-DHsSrpk3q7T"
      }
    },
    {
      "cell_type": "markdown",
      "source": [
        "### Next unit: Explore Microsoft Fabric\n",
        "\n"
      ],
      "metadata": {
        "id": "ut20vwgM3q3t"
      }
    },
    {
      "cell_type": "markdown",
      "source": [
        "## Unit 7 of 10\n",
        "\n"
      ],
      "metadata": {
        "id": "FJCKX3p83q1y"
      }
    },
    {
      "cell_type": "markdown",
      "source": [],
      "metadata": {
        "id": "ZPyBflXN3qzj"
      }
    },
    {
      "cell_type": "markdown",
      "source": [],
      "metadata": {
        "id": "IwN3Y8xv3qxQ"
      }
    },
    {
      "cell_type": "markdown",
      "source": [],
      "metadata": {
        "id": "SU61F50O3qvE"
      }
    },
    {
      "cell_type": "markdown",
      "source": [],
      "metadata": {
        "id": "rvzbVPFO3qsa"
      }
    },
    {
      "cell_type": "markdown",
      "source": [],
      "metadata": {
        "id": "XaCnVL8S3qpf"
      }
    }
  ]
}