{
  "nbformat": 4,
  "nbformat_minor": 0,
  "metadata": {
    "colab": {
      "provenance": [],
      "toc_visible": true
    },
    "kernelspec": {
      "name": "python3",
      "display_name": "Python 3"
    },
    "language_info": {
      "name": "python"
    }
  },
  "cells": [
    {
      "cell_type": "markdown",
      "source": [
        "# M04.01 Explore fundamentals of large-scale analytics\n",
        "\n"
      ],
      "metadata": {
        "id": "Lt06W4Q3-AyJ"
      }
    },
    {
      "cell_type": "markdown",
      "source": [
        "## Unit 1 of 10\n",
        "\n"
      ],
      "metadata": {
        "id": "6ecVFoES-Aut"
      }
    },
    {
      "cell_type": "markdown",
      "source": [
        "### Introduction\n",
        "\n",
        "Large-scale data analytics solutions combine conventional data warehousing used to support business intelligence (BI) with *data lakehouse* techniques that are used to integrate data from files and external sources. A conventional data warehousing solution typically involves copying data from transactional data stores into a relational database with a schema that's optimized for querying and building multidimensional models. Data lakehouse solutions on the other hand, are used with large volumes of data in multiple formats, which is batch loaded or captured in real-time streams and stored in a *data lake* from which distributed processing engines like Apache Spark are used to process it.\n",
        "\n"
      ],
      "metadata": {
        "id": "3LWSiiOt-Asw"
      }
    },
    {
      "cell_type": "markdown",
      "source": [
        "### Learning Objectives\n",
        "\n",
        "In this module, you will learn how to:\n",
        "\n",
        "- Identify common elements of a large-scale data analytics solution\n",
        "- Describe key features for data ingestion pipelines\n",
        "- Identify common types of analytical data store\n",
        "- Identify platform-as-a-service (PaaS) analytics services in Azure\n",
        "- Provision Azure Synapse Analytics and use it to ingest, process, and query data\n",
        "- Describe features of Microsoft Fabric - a software-as-a-service (SaaS) solution for data analytics\n",
        "- Use Microsoft Fabric to ingest and analyze data\n",
        "\n"
      ],
      "metadata": {
        "id": "DPNK3ru3-AqY"
      }
    },
    {
      "cell_type": "markdown",
      "source": [
        "### Next unit: Describe data warehousing architecture\n",
        "\n"
      ],
      "metadata": {
        "id": "b2c-fPpV-AoX"
      }
    },
    {
      "cell_type": "markdown",
      "source": [
        "## Unit 2 of 10\n",
        "\n"
      ],
      "metadata": {
        "id": "4seqqWOa-AmC"
      }
    },
    {
      "cell_type": "markdown",
      "source": [],
      "metadata": {
        "id": "rdhaTCVy-Aj6"
      }
    },
    {
      "cell_type": "markdown",
      "source": [],
      "metadata": {
        "id": "EPYiwbzj-Ah1"
      }
    },
    {
      "cell_type": "markdown",
      "source": [],
      "metadata": {
        "id": "ObxzCINQ-Aft"
      }
    },
    {
      "cell_type": "markdown",
      "source": [],
      "metadata": {
        "id": "sqH95wnP-Ads"
      }
    }
  ]
}