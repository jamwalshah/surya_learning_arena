{
  "nbformat": 4,
  "nbformat_minor": 0,
  "metadata": {
    "colab": {
      "provenance": [],
      "toc_visible": true
    },
    "kernelspec": {
      "name": "python3",
      "display_name": "Python 3"
    },
    "language_info": {
      "name": "python"
    }
  },
  "cells": [
    {
      "cell_type": "markdown",
      "source": [
        "# Microsoft Azure Data Fundamentals: Explore non-relational data in Azure\n",
        "\n",
        "1 hr 9 min • Learning Path • 2 modules\n",
        "\n",
        "`Beginner` `Data Analyst` `Data Engineer` `Database Administrator` `Developer` `Solution Architect` `Student` `Azure`\n"
      ],
      "metadata": {
        "id": "LfIfCCQmmAc3"
      }
    },
    {
      "cell_type": "code",
      "source": [
        "%%HTML\n",
        "<iframe width=\"560\" height=\"315\" src=\"https://www.microsoft.com/en-us/videoplayer/embed/RE57fRR?postJsllMsg=true\" frameborder=\"0\" allowfullscreen></iframe>"
      ],
      "metadata": {
        "colab": {
          "base_uri": "https://localhost:8080/",
          "height": 336
        },
        "id": "bxLvBfwZoKFZ",
        "outputId": "58d9156f-8ee8-449a-a0dc-40504b75559c"
      },
      "execution_count": 1,
      "outputs": [
        {
          "output_type": "display_data",
          "data": {
            "text/plain": [
              "<IPython.core.display.HTML object>"
            ],
            "text/html": [
              "<iframe width=\"560\" height=\"315\" src=\"https://www.microsoft.com/en-us/videoplayer/embed/RE57fRR?postJsllMsg=true\" frameborder=\"0\" allowfullscreen></iframe>\n"
            ]
          },
          "metadata": {}
        }
      ]
    },
    {
      "cell_type": "markdown",
      "source": [
        "Non-relational data is a common way for applications to store and query data without the overhead of a relational schema. In Microsoft Azure, you can use Azure Storage and Azure Cosmos DB to build highly scalable, secure data stores for non-relational data. This learning path helps you prepare for the [Azure Data Fundamentals](https://learn.microsoft.com/en-us/certifications/azure-data-fundamentals?azure-portal=true)\n",
        "\n"
      ],
      "metadata": {
        "id": "VJtbYDZRoDsD"
      }
    },
    {
      "cell_type": "markdown",
      "source": [
        "## Prerequisites\n",
        "\n",
        "- None\n"
      ],
      "metadata": {
        "id": "wqbtKZ_7mAZa"
      }
    },
    {
      "cell_type": "markdown",
      "source": [
        "## Modules in this learning path\n",
        "\n"
      ],
      "metadata": {
        "id": "F7gZukAQmAXK"
      }
    },
    {
      "cell_type": "markdown",
      "source": [
        "### Explore Azure Storage for non-relational data\n",
        "\n",
        "38 min • Module • 8 Units\n",
        "\n",
        "Azure Storage is a core service in Microsoft Azure that is commonly used to store non-relational data.\n",
        "\n"
      ],
      "metadata": {
        "id": "ecKVanbgmAVC"
      }
    },
    {
      "cell_type": "markdown",
      "source": [
        "### Explore fundamentals of Azure Cosmos DB\n",
        "\n",
        "31 min • Module • 6 Units\n",
        "\n",
        "Azure Cosmos DB provides a highly scalable store for non-relational data.\n",
        "\n"
      ],
      "metadata": {
        "id": "mcQs2Z_YmAS3"
      }
    }
  ]
}