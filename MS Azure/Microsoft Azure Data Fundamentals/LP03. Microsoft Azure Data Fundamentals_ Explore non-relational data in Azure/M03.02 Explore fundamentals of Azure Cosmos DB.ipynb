{
  "nbformat": 4,
  "nbformat_minor": 0,
  "metadata": {
    "colab": {
      "provenance": [],
      "toc_visible": true
    },
    "kernelspec": {
      "name": "python3",
      "display_name": "Python 3"
    },
    "language_info": {
      "name": "python"
    }
  },
  "cells": [
    {
      "cell_type": "markdown",
      "source": [
        "# M03.02 Explore fundamentals of Azure Cosmos DB\n"
      ],
      "metadata": {
        "id": "3DwVrJbd58pv"
      }
    },
    {
      "cell_type": "markdown",
      "source": [
        "## Unit 1 of 6\n",
        "\n"
      ],
      "metadata": {
        "id": "QmtfpSGg58mQ"
      }
    },
    {
      "cell_type": "markdown",
      "source": [
        "### Introduction\n",
        "\n",
        "Relational databases store data in relational tables, but sometimes the structure imposed by this model can be too rigid, and often leads to poor performance unless you spend time implementing detailed tuning. Other models, collectively known as *NoSQL* databases, exist. These models store data in other structures, such as documents, graphs, key-value stores, and column family stores.\n",
        "\n",
        "Azure Cosmos DB is a highly scalable cloud database service for NoSQL data.\n",
        "\n"
      ],
      "metadata": {
        "id": "ARhxKcku58jb"
      }
    },
    {
      "cell_type": "markdown",
      "source": [
        "### Learning Objectives\n",
        "\n",
        "In this module, you'll learn how to:\n",
        "\n",
        "- Describe key features and capabilities of Azure Cosmos DB\n",
        "- Identify the APIs supported in Azure Cosmos DB\n",
        "- Provision and use an Azure Cosmos DB instance\n",
        "\n"
      ],
      "metadata": {
        "id": "VJ2_-Cj-58hK"
      }
    },
    {
      "cell_type": "markdown",
      "source": [
        "### Next unit: Describe Azure Cosmos DB\n",
        "\n"
      ],
      "metadata": {
        "id": "NyO-mY7O58e4"
      }
    },
    {
      "cell_type": "markdown",
      "source": [
        "## Unit 2 of 6\n",
        "\n"
      ],
      "metadata": {
        "id": "3WxCOMA958cV"
      }
    },
    {
      "cell_type": "markdown",
      "source": [
        "### Describe Azure Cosmos DB\n",
        "\n",
        "![Azure Cosmos DB as a store for multiple NoSQL formats](https://learn.microsoft.com/en-us/training/wwl-data-ai/explore-non-relational-data-stores-azure/media/azure-cosmos-db.png)\n",
        "\n",
        "Azure Cosmos DB supports multiple application programming interfaces (APIs) that enable developers to use the programming semantics of many common kinds of data store to work with data in a Cosmos DB database. The internal data structure is abstracted, enabling developers to use Cosmos DB to store and query data using APIs with which they're already familiar.\n",
        "\n",
        "> **Note:** An API is an Application Programming Interface. Database management systems (and other software frameworks) provide a set of APIs that developers can use to write programs that need to access data. The APIs vary for different database management systems.\n",
        "\n",
        "Cosmos DB uses indexes and partitioning to provide fast read and write performance and can scale to massive volumes of data. You can enable multi-region writes, adding the Azure regions of your choice to your Cosmos DB account so that globally distributed users can each work with data in their local replica.\n",
        "\n"
      ],
      "metadata": {
        "id": "TfBHxRYk58ai"
      }
    },
    {
      "cell_type": "markdown",
      "source": [
        "### When to use Cosmos DB\n",
        "\n",
        "Cosmos DB is a highly scalable database management system. Cosmos DB automatically allocates space in a container for your partitions, and each partition can grow up to 10 GB in size. Indexes are created and maintained automatically. There's virtually no administrative overhead.\n",
        "\n",
        "Cosmos DB is a foundational service in Azure. Cosmos DB has been used by many of Microsoft's products for mission critical applications at global scale, including Skype, Xbox, Microsoft 365, Azure, and many others. Cosmos DB is highly suitable for the following scenarios:\n",
        "\n",
        "- *IoT and telematics*. These systems typically ingest large amounts of data in frequent bursts of activity. Cosmos DB can accept and store this information quickly. The data can then be used by analytics services, such as Azure Machine Learning, Azure HDInsight, and Power BI. Additionally, you can process the data in real-time using Azure Functions that are triggered as data arrives in the database.\n",
        "- *Retail and marketing*. Microsoft uses Cosmos DB for its own e-commerce platforms that run as part of Windows Store and Xbox Live. It's also used in the retail industry for storing catalog data and for event sourcing in order processing pipelines.\n",
        "- *Gaming*. The database tier is a crucial component of gaming applications. Modern games perform graphical processing on mobile/console clients, but rely on the cloud to deliver customized and personalized content like in-game stats, social media integration, and high-score leaderboards. Games often require single-millisecond latencies for reads and write to provide an engaging in-game experience. A game database needs to be fast and be able to handle massive spikes in request rates during new game launches and feature updates.\n",
        "- *Web and mobile applications*. Azure Cosmos DB is commonly used within web and mobile applications, and is well suited for modeling social interactions, integrating with third-party services, and for building rich personalized experiences. The Cosmos DB SDKs can be used to build rich iOS and Android applications using the popular Xamarin framework.\n",
        "\n",
        "For additional information about uses for Cosmos DB, read [Common Azure Cosmos DB use cases](https://learn.microsoft.com/en-us/azure/cosmos-db/use-cases).\n",
        "\n"
      ],
      "metadata": {
        "id": "B8jGorgl58YR"
      }
    },
    {
      "cell_type": "markdown",
      "source": [
        "### Next unit: Identify Azure Cosmos DB APIs\n",
        "\n"
      ],
      "metadata": {
        "id": "d6XZbItf58WR"
      }
    },
    {
      "cell_type": "markdown",
      "source": [
        "## Unit 3 of 6\n",
        "\n"
      ],
      "metadata": {
        "id": "IQvwrACS58UG"
      }
    },
    {
      "cell_type": "markdown",
      "source": [
        "### Identify Azure Cosmos DB APIs\n",
        "\n",
        "Azure Cosmos DB is Microsoft's fully managed and serverless distributed database for applications of any size or scale, with support for both relational and non-relational workloads. Developers can build and migrate applications fast using their preferred open source database engines, including PostgreSQL, MongoDB, and Apache Cassandra. When you provision a new Cosmos DB instance, you select the database engine that you want to use. The choice of engine depends on many factors including the type of data to be stored, the need to support existing applications, and the skills of the developers who will work with the data store.\n",
        "\n"
      ],
      "metadata": {
        "id": "HO_fRP4358R7"
      }
    },
    {
      "cell_type": "markdown",
      "source": [
        "#### Azure Cosmos DB for NoSQL\n",
        "\n",
        "Azure Cosmos DB for NoSQL is Microsoft’s native non-relational service for working with the document data model. It manages data in JSON document format, and despite being a NoSQL data storage solution, uses SQL syntax to work with the data.\n",
        "\n",
        "A SQL query for an Azure Cosmos DB database containing customer data might look similar to this:\n",
        "\n",
        "```SQL\n",
        "SELECT *\n",
        "FROM customers c\n",
        "WHERE c.id = \"joe@litware.com\"\n",
        "```\n",
        "\n",
        "The result of this query consists of one or more JSON documents, as shown here:\n",
        "\n",
        "```JSON\n",
        "{\n",
        "   \"id\": \"joe@litware.com\",\n",
        "   \"name\": \"Joe Jones\",\n",
        "   \"address\": {\n",
        "        \"street\": \"1 Main St.\",\n",
        "        \"city\": \"Seattle\"\n",
        "    }\n",
        "}\n",
        "```\n",
        "\n"
      ],
      "metadata": {
        "id": "32XINxw958Py"
      }
    },
    {
      "cell_type": "markdown",
      "source": [
        "#### Azure Cosmos DB for MongoDB\n",
        "\n",
        "MongoDB is a popular open source database in which data is stored in Binary JSON (BSON) format. Azure Cosmos DB for MongoDB enables developers to use MongoDB client libraries and code to work with data in Azure Cosmos DB.\n",
        "\n",
        "MongoDB Query Language (MQL) uses a compact, object-oriented syntax in which developers use *objects* to call *methods*. For example, the following query uses the **find** method to query the **products** collection in the **db** object:\n",
        "\n",
        "```JavaScript\n",
        "db.products.find({id: 123})\n",
        "```\n",
        "\n",
        "The results of this query consist of JSON documents, similar to this:\n",
        "\n",
        "```JSON\n",
        "{\n",
        "   \"id\": 123,\n",
        "   \"name\": \"Hammer\",\n",
        "   \"price\": 2.99\n",
        "}\n",
        "```\n",
        "\n"
      ],
      "metadata": {
        "id": "VPPVIE9Q58Nn"
      }
    },
    {
      "cell_type": "markdown",
      "source": [
        "#### Azure Cosmos DB for PostgreSQL\n",
        "\n",
        "Azure Cosmos DB for PostgreSQL is a native PostgreSQL, globally distributed relational database that automatically shards data to help you build highly scalable apps. You can start building apps on a single node server group, the same way you would with PostgreSQL anywhere else. As your app's scalability and performance requirements grow, you can seamlessly scale to multiple nodes by transparently distributing your tables. PostgreSQL is a relational database management system (RDBMS) in which you define relational tables of data, for example you might define a table of products like this:\n",
        "\n",
        "| ProductID | ProductName | Price|\n",
        "| :- | :- | :- |\n",
        "| 123 | Hammer | 2.99 |\n",
        "| 162 | Screwdriver | 3.49 |\n",
        "\n",
        "You could then query this table to retrieve the name and price of a specific product using SQL like this:\n",
        "\n",
        "```SQL\n",
        "SELECT ProductName, Price\n",
        "FROM Products\n",
        "WHERE ProductID = 123;\n",
        "```\n",
        "\n",
        "The results of this query would contain a row for product 123, like this:\n",
        "\n",
        "| ProductName | Price |\n",
        "|:- | :- |\n",
        "| Hammer | 2.99 |\n",
        "\n"
      ],
      "metadata": {
        "id": "HqmF_TyU58Lr"
      }
    },
    {
      "cell_type": "markdown",
      "source": [
        "#### Azure Cosmos DB for Table\n",
        "\n",
        "Azure Cosmos DB for Table is used to work with data in key-value tables, similar to Azure Table Storage. It offers greater scalability and performance than Azure Table Storage. For example, you might define a table named Customers like this:\n",
        "\n",
        "| PartitionKey | RowKey | Name | Email |\n",
        "| :- | :- | :- | :- |\n",
        "| 1 | 123 | Joe Jones | [joe@litware.com](joe@litware.com) |\n",
        "| 1 | 124 | Samir Nadoy | [samir@northwind.com](samir@northwind.com) |\n",
        "\n",
        "You can then use the Table API through one of the language-specific SDKs to make calls to your service endpoint to retrieve data from the table. For example, the following request returns the row containing the record for *Samir Nadoy* in the table above:\n",
        "\n",
        "```text\n",
        "https://endpoint/Customers(PartitionKey='1',RowKey='124')\n",
        "```\n",
        "\n"
      ],
      "metadata": {
        "id": "tJS-qcM658Jk"
      }
    },
    {
      "cell_type": "markdown",
      "source": [
        "#### Azure Cosmos DB for Apache Cassandra\n",
        "\n",
        "Azure Cosmos DB for Apache Cassandra is compatible with Apache Cassandra, which is a popular open source database that uses a column-family storage structure. Column families are tables, similar to those in a relational database, with the exception that it's not mandatory for every row to have the same columns.\n",
        "\n",
        "For example, you might create an **Employees** table like this:\n",
        "\n",
        "| ID | Name | Manager |\n",
        "| :- | :- | :- |\n",
        "| 1 | Sue Smith |  |\n",
        "| 2 | Ben Chan | Sue Smith |\n",
        "\n",
        "Cassandra supports a syntax based on SQL, so a client application could retrieve the record for Ben Chan like this:\n",
        "\n",
        "```SQL\n",
        "SELECT * FROM Employees WHERE ID = 2\n",
        "```\n",
        "\n"
      ],
      "metadata": {
        "id": "JzI5z4bZOuL4"
      }
    },
    {
      "cell_type": "markdown",
      "source": [
        "#### Azure Cosmos DB for Apache Gremlin\n",
        "\n",
        "Azure Cosmos DB for Apache Gremlin is used with data in a graph structure; in which entities are defined as vertices that form nodes in connected graph. Nodes are connected by edges that represent relationships, like this:\n",
        "\n",
        "![A graph showing employees and departments and the connections between them](https://learn.microsoft.com/en-us/training/wwl-data-ai/explore-non-relational-data-stores-azure/media/graph.png)\n",
        "\n",
        "The example in the image shows two kinds of vertex (employee and department) and edges that connect them (employee \"Ben\" reports to employee \"Sue\", and both employees work in the \"Hardware\" department).\n",
        "\n",
        "Gremlin syntax includes functions to operate on vertices and edges, enabling you to insert, update, delete, and query data in the graph. For example, you could use the following code to add a new employee named *Alice* that reports to the employee with ID **1** (*Sue*)\n",
        "\n",
        "```gremlin\n",
        "g.addV('employee').property('id', '3').property('firstName', 'Alice')\n",
        "g.V('3').addE('reports to').to(g.V('1'))\n",
        "```\n",
        "\n",
        "The following query returns all of the *employee* vertices, in order of ID.\n",
        "\n",
        "```output\n",
        "g.V().hasLabel('employee').order().by('id')\n",
        "```\n",
        "\n"
      ],
      "metadata": {
        "id": "c9I97sZqOuIO"
      }
    },
    {
      "cell_type": "markdown",
      "source": [
        "### Next unit: Exercise: Explore Azure Cosmos DB\n",
        "\n"
      ],
      "metadata": {
        "id": "T_Q-XmZTOuFt"
      }
    },
    {
      "cell_type": "markdown",
      "source": [
        "## Unit 4 of 6\n"
      ],
      "metadata": {
        "id": "-4-9hy1QOuEI"
      }
    },
    {
      "cell_type": "markdown",
      "source": [
        "### Exercise: Explore Azure Cosmos DB\n",
        "\n",
        "Now it's your opportunity to explore Azure Cosmos DB.\n",
        "\n",
        "> **Note:** To complete this lab, you will need an [Azure subscription](https://azure.microsoft.com/free) in which you have administrative access.\n",
        "\n",
        "Launch the exercise and follow the instructions.\n",
        "\n",
        "[Launch Exercise](https://aka.ms/dp900-cosmos-lab)\n",
        "\n"
      ],
      "metadata": {
        "id": "dRXAG_XBOuAB"
      }
    },
    {
      "cell_type": "markdown",
      "source": [
        "### Next unit: Knowledge check\n",
        "\n"
      ],
      "metadata": {
        "id": "b93FzyaxOt-P"
      }
    },
    {
      "cell_type": "markdown",
      "source": [
        "## Unit 5 of 6\n",
        "\n"
      ],
      "metadata": {
        "id": "fJ15d6lJOt5v"
      }
    },
    {
      "cell_type": "markdown",
      "source": [
        "### Knowledge check\n",
        "\n",
        "Choose the best response for each of the questions below. Then select Check your answers.\n",
        "\n"
      ],
      "metadata": {
        "id": "0woFdjBOOt2G"
      }
    },
    {
      "cell_type": "markdown",
      "source": [
        "### Check your knowledge\n",
        "\n",
        "1. Which API should you use to store and query JSON documents in Azure Cosmos DB?\n",
        "\n",
        "     - ☑ Azure Cosmos DB for NoSQL\n",
        "     > That's correct. The API for NoSQL is designed to store and query JSON documents.\n",
        "     - ☐ Azure Cosmos DB for Apache Cassandra\n",
        "     - ☐ Azure Cosmos DB for Table\n",
        "\n",
        "2. Which Azure Cosmos DB API should you use to work with data in which entities and their relationships to one another are represented in a graph using vertices and edges?\n",
        "\n",
        "    - ☐ Azure Cosmos DB for MongoDB\n",
        "    - ☐ Azure Cosmos DB for NoSQL\n",
        "    - ☑ Azure Cosmos DB for Apache Gremlin\n",
        "    > That's correct. The API for Gremlin is used to manage a network of nodes (vertices) and the relationships between them (edges).\n",
        "\n",
        "3. How can you enable globally distributed users to work with their own local replica of a Cosmos DB database?\n",
        "\n",
        "    - ☐ Create an Azure Cosmos DB account in each region where you have users.\n",
        "    - ☐ Use the API for Table to copy data to Azure Table Storage in each region where you have users.\n",
        "    - ☑ Enable multi-region writes and add the regions where you have users.\n",
        "    > That's correct. You can enable multi-region writes in the regions where you want users to work with the data.\n"
      ],
      "metadata": {
        "id": "GlzM2g86Otzj"
      }
    },
    {
      "cell_type": "markdown",
      "source": [
        "### Next unit: Summary\n",
        "\n"
      ],
      "metadata": {
        "id": "Fv9TsBbsOtx8"
      }
    },
    {
      "cell_type": "markdown",
      "source": [
        "## Unit 6 of 6\n",
        "\n"
      ],
      "metadata": {
        "id": "6yxD23rrOtvv"
      }
    },
    {
      "cell_type": "markdown",
      "source": [
        "### Summary\n",
        "\n",
        "Azure Cosmos DB provides a global-scale database solution for non-relational data.\n",
        "\n",
        "In this module, you'll learn how to:\n",
        "\n",
        "- Describe key features and capabilities of Azure Cosmos DB\n",
        "- Identify Azure Cosmos DB APIs\n",
        "- Provision and use an Azure Cosmos DB instance\n"
      ],
      "metadata": {
        "id": "3MskhVe0Otty"
      }
    },
    {
      "cell_type": "markdown",
      "source": [
        "### Next steps\n",
        "\n",
        "Now that you've learned about Azure Cosmos DB for non-relational data storage, consider learning more about data-related workloads on Azure by pursuing a Microsoft certification in [Azure Data Fundamentals](https://learn.microsoft.com/en-us/certifications/azure-data-fundamentals/).\n",
        "\n"
      ],
      "metadata": {
        "id": "p_H1w9SlOtrM"
      }
    },
    {
      "cell_type": "markdown",
      "source": [
        "### All units complete\n"
      ],
      "metadata": {
        "id": "teYVF8UL5vYx"
      }
    }
  ]
}