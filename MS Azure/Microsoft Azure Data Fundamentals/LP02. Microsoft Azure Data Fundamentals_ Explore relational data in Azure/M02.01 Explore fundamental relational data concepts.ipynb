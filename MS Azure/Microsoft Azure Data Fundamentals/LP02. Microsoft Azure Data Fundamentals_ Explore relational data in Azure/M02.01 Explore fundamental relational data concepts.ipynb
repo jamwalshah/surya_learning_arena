{
  "nbformat": 4,
  "nbformat_minor": 0,
  "metadata": {
    "colab": {
      "provenance": [],
      "toc_visible": true
    },
    "kernelspec": {
      "name": "python3",
      "display_name": "Python 3"
    },
    "language_info": {
      "name": "python"
    }
  },
  "cells": [
    {
      "cell_type": "markdown",
      "source": [
        "# M02.01 Explore fundamental relational data concepts\n",
        "\n"
      ],
      "metadata": {
        "id": "gdQ80ymas0GG"
      }
    },
    {
      "cell_type": "markdown",
      "source": [
        "## Unit 1 of 7\n",
        "\n"
      ],
      "metadata": {
        "id": "Rk5CJHtos0Co"
      }
    },
    {
      "cell_type": "markdown",
      "source": [
        "### Introduction\n",
        "\n",
        "In the early years of computing systems, every application stored data in its own unique structure. When developers wanted to build applications to use that data, they had to know a lot about the particular data structure to find the data they needed. These data structures were inefficient, hard to maintain, and hard to optimize for good application performance. The *relational* database model was designed to solve the problem of multiple arbitrary data structures. The relational model provides a standard way of representing and querying data that can be used by any application. One of the key advantages of the relational database model is its use of *tables*, which are an intuitive, efficient, and flexible way to store and access structured information.\n",
        "\n",
        "The simple yet powerful relational model is used by organizations of all types and sizes for a broad variety of information management needs. Relational databases are used to track inventories, process e-commerce transactions, manage huge amounts of mission-critical customer information, and much more. A relational database is useful for storing any information containing related data elements that must be organized in a rules-based, consistent structure.\n",
        "\n",
        "In this module, you'll learn about the key characteristics of relational databases, and explore relational data structures.\n",
        "\n"
      ],
      "metadata": {
        "id": "p0DuiGZqs0AK"
      }
    },
    {
      "cell_type": "markdown",
      "source": [
        "### Learning objectives\n",
        "\n",
        "In this module you will learn how to:\n",
        "\n",
        "- Identify characteristics of relational data\n",
        "- Define normalization\n",
        "- Identify types of SQL statement\n",
        "- Identify common relational database objects\n",
        "\n"
      ],
      "metadata": {
        "id": "2OyTjRkcsz9t"
      }
    },
    {
      "cell_type": "markdown",
      "source": [
        "### Next unit: Understand relational data\n",
        "\n"
      ],
      "metadata": {
        "id": "hnSj66Oosz7e"
      }
    },
    {
      "cell_type": "markdown",
      "source": [
        "## Unit 2 of 7\n",
        "\n"
      ],
      "metadata": {
        "id": "dx_qp-sBsz5E"
      }
    },
    {
      "cell_type": "markdown",
      "source": [
        "### Understand relational data\n",
        "\n",
        "In a relational database, you model collections of entities from the real world as *tables*. An entity can be anything for which you want to record information; typically important objects and events. For example, in a retail system example, you might create tables for customers, products, orders, and line items within an order. A table contains rows, and each row represents a single instance of an entity. In the retail scenario, each row in the customer table contains the data for a single customer, each row in the product table defines a single product, each row in the order table represents an order made by a customer, and each row in the line item table represents a product that was included in an order.\n",
        "\n",
        "![Diagram showing an example of a relational model, showing tables for customers, products, orders, and line items.](https://learn.microsoft.com/en-us/training/wwl-data-ai/explore-relational-data-offerings/media/relational-tables.png)\n",
        "\n",
        "Relational tables are a format for structured data, and each row in a table has the same columns; though in some cases, not all columns need to have a value – for example, a customer table might include a **MiddleName** column; which can be empty (or *NULL*) for rows that represent customers with no middle name or whose middle name is unknown.\n",
        "\n",
        "Each column stores data of a specific datatype. For example, an **Email** column in a **Customer** table would likely be defined to store character-based (text) data (which might be fixed or variable in length), a **Price** column in a **Product** table might be defined to store decimal numeric data, while a **Quantity** column in an **Order** table might be constrained to integer numeric values; and an **OrderDate** column in the same **Order** table would be defined to store date/time values. The available data types that you can use when defining a table depend on the database system you are using; though there are standard data types defined by the American National Standards Institute (ANSI) that are supported by most database systems.\n",
        "\n"
      ],
      "metadata": {
        "id": "Ao3DJNydsz2-"
      }
    },
    {
      "cell_type": "markdown",
      "source": [
        "### Next unit: Understand normalization\n",
        "\n"
      ],
      "metadata": {
        "id": "Es0qcw0Lsz02"
      }
    },
    {
      "cell_type": "markdown",
      "source": [
        "## Unit 3 of 7\n",
        "\n"
      ],
      "metadata": {
        "id": "wCwf4D6lszyo"
      }
    },
    {
      "cell_type": "markdown",
      "source": [
        "### Understand normalization\n",
        "\n",
        "Normalization is a term used by database professionals for a schema design process that minimizes data duplication and enforces data integrity.\n",
        "\n",
        "While there are many complex rules that define the process of refactoring data into various levels (or *forms*) of normalization, a simple definition for practical purposes is:\n",
        "\n",
        "1. Separate each *entity* into its own table.\n",
        "2. Separate each discrete *attribute* into its own column.\n",
        "3. Uniquely identify each entity instance (row) using a  *primary key*.\n",
        "4. Use *foreign key* columns to link related entities.\n",
        "\n",
        "To understand the core principles of normalization, suppose the following table represents a spreadsheet that a company uses to track its sales.\n",
        "\n",
        "![Diagram showing an order data in a single, un-normalized table.](https://learn.microsoft.com/en-us/training/wwl-data-ai/explore-relational-data-offerings/media/unnormalized-data.png)\n",
        "\n",
        "Notice that the customer and product details are duplicated for each individual item sold; and that the customer name and postal address, and the product name and price are combined in the same spreadsheet cells.\n",
        "\n",
        "Now let's look at how normalization changes the way the data is stored.\n",
        "\n",
        "![Diagram showing an order data in a normalized tabular schema.](https://learn.microsoft.com/en-us/training/wwl-data-ai/explore-relational-data-offerings/media/normalized-data.png)\n",
        "\n",
        "Each entity that is represented in the data (customer, product, sales order, and line item) is stored in its own table, and each discrete attribute of those entities is in its own column.\n",
        "\n",
        "Recording each instance of an entity as a row in an entity-specific table removes duplication of data. For example, to change a customer's address, you need only modify the value in a single row.\n",
        "\n",
        "The decomposition of attributes into individual columns ensures that each value is constrained to an appropriate data type - for example, product prices must be decimal values, while line item quantities must be integer numbers. Additionally, the creation of individual columns provides a useful level of granularity in the data for querying - for example, you can easily filter customers to those who live in a specific city.\n",
        "\n",
        "Instances of each entity are uniquely identified by an ID or other key value, known as a *primary key*; and when one entity references another (for example, an order has an associated customer), the primary key of the related entity is stored as a *foreign key*. You can look up the address of the customer (which is stored only once) for each record in the **Order** table by referencing the corresponding record in the **Customer** table. Typically, a relational database management system (RDBMS) can enforce referential integrity to ensure that a value entered into a foreign key field has an existing corresponding primary key in the related table – for example, preventing orders for non-existent customers.\n",
        "\n",
        "In some cases, a key (primary or foreign) can be defined as a *composite* key based on a unique combination of multiple columns. For example, the **LineItem** table in the example above uses a unique combination of **OrderNo** and **ItemNo** to identify a line item from an individual order.\n",
        "\n"
      ],
      "metadata": {
        "id": "sXS878jiszwU"
      }
    },
    {
      "cell_type": "markdown",
      "source": [
        "### Next unit: Explore SQL\n",
        "\n"
      ],
      "metadata": {
        "id": "PNo2On9Oszuf"
      }
    },
    {
      "cell_type": "markdown",
      "source": [
        "## Unit 4 of 7\n",
        "\n"
      ],
      "metadata": {
        "id": "BoK6TqrzszsM"
      }
    },
    {
      "cell_type": "markdown",
      "source": [
        "### Explore SQL\n",
        "\n",
        "SQL stands for *Structured Query Language*, and is used to communicate with a relational database. It's the standard language for relational database management systems. SQL statements are used to perform tasks such as update data in a database, or retrieve data from a database. Some common relational database management systems that use SQL include Microsoft SQL Server, MySQL, PostgreSQL, MariaDB, and Oracle.\n",
        "\n",
        "> **Note:** SQL was originally standardized by the American National Standards Institute (ANSI) in 1986, and by the International Organization for Standardization (ISO) in 1987. Since then, the standard has been extended several times as relational database vendors have added new features to their systems. Additionally, most database vendors include their own proprietary extensions that are not part of the standard, which has resulted in a variety of dialects of SQL.\n",
        "\n",
        "You can use SQL statements such as **SELECT**, **INSERT**, **UPDATE**, **DELETE**, **CREATE**, and **DROP** to accomplish almost everything that you need to do with a database. Although these SQL statements are part of the SQL standard, many database management systems also have their own additional proprietary extensions to handle the specifics of that database management system. These extensions provide functionality not covered by the SQL standard, and include areas such as security management and programmability. For example, Microsoft SQL Server, and Azure database services that are based on the SQL Server database engine, use Transact-SQL. This implementation includes proprietary extensions for writing stored procedures and triggers (application code that can be stored in the database), and managing user accounts. PostgreSQL and MySQL also have their own versions of these features.\n",
        "\n",
        "Some popular dialects of SQL include:\n",
        "\n",
        "- *Transact-SQL (T-SQL)*. This version of SQL is used by Microsoft SQL Server and Azure SQL services.\n",
        "- *pgSQL*. This is the dialect, with extensions implemented in PostgreSQL.\n",
        "- *PL/SQL*. This is the dialect used by Oracle. PL/SQL stands for Procedural Language/SQL.\n",
        "\n",
        "Users who plan to work specifically with a single database system should learn the intricacies of their preferred SQL dialect and platform.\n",
        "\n",
        "> **Note:** The SQL code examples in this module are based on the Transact-SQL dialect, unless otherwise indicated. The syntax for other dialects is generally similar, but may vary in some details.\n",
        "\n"
      ],
      "metadata": {
        "id": "47oUgIrrszp_"
      }
    },
    {
      "cell_type": "markdown",
      "source": [
        "#### SQL statement types\n",
        "\n",
        "SQL statements are grouped into three main logical groups:\n",
        "\n",
        "- Data Definition Language (DDL)\n",
        "- Data Control Language (DCL)\n",
        "- Data Manipulation Language (DML)\n",
        "\n"
      ],
      "metadata": {
        "id": "vNomFPDRszn5"
      }
    },
    {
      "cell_type": "markdown",
      "source": [
        "##### DDL statements\n",
        "\n",
        "You use DDL statements to create, modify, and remove tables and other objects in a database (table, stored procedures, views, and so on).\n",
        "\n",
        "The most common DDL statements are:\n",
        "\n",
        "| Statement | Description |\n",
        "|:- | :- |\n",
        "| CREATE | Create a new object in the database, such as a table or a view. |\n",
        "| ALTER | Modify the structure of an object. For instance, altering a table to add a new column. |\n",
        "| DROP | Remove an object from the database. |\n",
        "| RENAME | Rename an existing object. |\n",
        "\n",
        "> **Warning:** The **DROP** statement is very powerful. When you drop a table, all the rows in that table are lost. Unless you have a backup, you won't be able to retrieve this data.\n",
        "\n",
        "The following example creates a new database table. The items between the parentheses specify the details of each column, including the name, the data type, whether the column must always contain a value (NOT NULL), and whether the data in the column is used to uniquely identify a row (PRIMARY KEY). Each table should have a primary key, although SQL doesn't enforce this rule.\n",
        "\n",
        "> **Note:** Columns marked as **NOT NULL** are referred to as *mandatory* columns. If you omit the *NOT NULL* clause, you can create rows that don't contain a value in the column. An empty column in a row is said to have a *NULL* value.\n",
        "\n",
        "```SQL\n",
        "CREATE TABLE Product\n",
        "(\n",
        "    ID INT PRIMARY KEY,\n",
        "    Name VARCHAR(20) NOT NULL,\n",
        "    Price DECIMAL NULL\n",
        ");\n",
        "```\n",
        "\n",
        "The datatypes available for columns in a table will vary between database management systems. However, most database management systems support numeric types such as INT (an integer, or whole number), DECIMAL (a decimal number), and string types such as VARCHAR (*VARCHAR* stands for variable length character data). For more information, see the documentation for your selected database management system.\n",
        "\n"
      ],
      "metadata": {
        "id": "g39LFS7Rszlv"
      }
    },
    {
      "cell_type": "markdown",
      "source": [
        "##### DCL statements\n",
        "\n",
        "Database administrators generally use DCL statements to manage access to objects in a database by granting, denying, or revoking permissions to specific users or groups.\n",
        "\n",
        "The three main DCL statements are:\n",
        "\n",
        "| Statement | Description |\n",
        "|:- | :- |\n",
        "| GRANT | Grant permission to perform specific actions |\n",
        "| DENY | Deny permission to perform specific actions |\n",
        "| REVOKE | Remove a previously granted permission |\n",
        "\n",
        "For example, the following **GRANT** statement permits a user named *user1* to read, insert, and modify data in the **Product** table.\n",
        "\n",
        "```SQL\n",
        "GRANT SELECT, INSERT, UPDATE\n",
        "ON Product\n",
        "TO user1;\n",
        "```\n",
        "\n"
      ],
      "metadata": {
        "id": "7Jv9MHD7uNGz"
      }
    },
    {
      "cell_type": "markdown",
      "source": [
        "##### DML statements\n",
        "\n",
        "You use DML statements to manipulate the rows in tables. These statements enable you to retrieve (query) data, insert new rows, or modify existing rows. You can also delete rows if you don't need them anymore.\n",
        "\n",
        "The four main DML statements are:\n",
        "\n",
        "| Statement | Description |\n",
        "|:- | :- |\n",
        "| SELECT | Read rows from a table |\n",
        "| INSERT | Insert new rows into a table |\n",
        "| UPDATE | Modify data in existing rows |\n",
        "| DELETE | Delete existing rows |\n",
        "\n",
        "The basic form of an **INSERT** statement will insert one row at a time. By default, the **SELECT**, **UPDATE**, and **DELETE** statements are applied to every row in a table. You usually apply a **WHERE** clause with these statements to specify criteria; only rows that match these criteria will be selected, updated, or deleted.\n",
        "\n",
        "> **Warning:** SQL doesn't provide are you sure? prompts, so be careful when using DELETE or UPDATE without a WHERE clause because you can lose or modify a lot of data.\n",
        "\n",
        "The following code is an example of a SQL statement that selects all columns (indicated by *) from the **Customer** table where the **City** column value is \"Seattle\":\n",
        "\n",
        "```SQL\n",
        "SELECT *\n",
        "FROM Customer\n",
        "WHERE City = 'Seattle';\n",
        "```\n",
        "\n",
        "To retrieve only a specific subset of columns from the table, you list them in the **SELECT** clause, like this:\n",
        "\n",
        "```SQL\n",
        "SELECT FirstName, LastName, Address, City\n",
        "FROM Customer\n",
        "WHERE City = 'Seattle';\n",
        "```\n",
        "\n",
        "If a query returns many rows, they don't necessarily appear in any specific sequence. If you want to sort the data, you can add an **ORDER BY** clause. The data will be sorted by the specified column:\n",
        "\n",
        "```SQL\n",
        "SELECT FirstName, LastName, Address, City\n",
        "FROM Customer\n",
        "WHERE City = 'Seattle'\n",
        "ORDER BY LastName;\n",
        "```\n",
        "\n",
        "You can also run SELECT statements that retrieve data from multiple tables using a **JOIN** clause. Joins indicate how the rows in one table are connected with rows in the other to determine what data to return. A typical join condition matches a foreign key from one table and its associated primary key in the other table.\n",
        "\n",
        "The following query shows an example that joins **Customer** and **Order** tables. The query makes use of table *aliases* to abbreviate the table names when specifying which columns to retrieve in the **SELECT** clause and which columns to match in the **JOIN** clause.\n",
        "\n",
        "```SQL\n",
        "SELECT o.OrderNo, o.OrderDate, c.Address, c.City\n",
        "FROM Order AS o\n",
        "JOIN Customer AS c\n",
        "ON o.Customer = c.ID\n",
        "```\n",
        "\n",
        "The next example shows how to modify an existing row using SQL. It changes the value of the **Address** column in the **Customer** table for rows that have the value 1 in the **ID** column. All other rows are left unchanged:\n",
        "\n",
        "```SQL\n",
        "UPDATE Customer\n",
        "SET Address = '123 High St.'\n",
        "WHERE ID = 1;\n",
        "```\n",
        "\n",
        "> **Warning:** If you omit the **WHERE** clause, an **UPDATE** statement will modify **every** row in the table.\n",
        "\n",
        "Use the **DELETE** statement to remove rows. You specify the table to delete from, and a **WHERE** clause that identifies the rows to be deleted:\n",
        "\n",
        "```SQL\n",
        "DELETE FROM Product\n",
        "WHERE ID = 162;\n",
        "```\n",
        "\n",
        "> **Warning:** If you omit the **WHERE** clause, a **DELETE** statement will remove **every** row from the table.\n",
        "\n",
        "The **INSERT** statement takes a slightly different form. You specify a table and columns in an **INTO** clause, and a list of values to be stored in these columns. Standard SQL only supports inserting one row at a time, as shown in the following example. Some dialects allow you to specify multiple **VALUES** clauses to add several rows at a time:\n",
        "\n",
        "```SQL\n",
        "INSERT INTO Product(ID, Name, Price)\n",
        "VALUES (99, 'Drill', 4.99);\n",
        "```\n",
        "\n",
        "> **Note:** This topic describes some basic SQL statements and syntax in order to help you understand how SQL is used to work with objects in a database. If you want to learn more about querying data with SQL, review the [Get Started Querying with Transact-SQL](https://learn.microsoft.com/en-us/training/paths/get-started-querying-with-transact-sql) learning path on Microsoft Learn.\n",
        "\n"
      ],
      "metadata": {
        "id": "lJQosDlRuNDa"
      }
    },
    {
      "cell_type": "markdown",
      "source": [
        "### Next unit: Describe database objects\n",
        "\n"
      ],
      "metadata": {
        "id": "hXIYyHh9uNBm"
      }
    },
    {
      "cell_type": "markdown",
      "source": [
        "## Unit 5 of 7\n",
        "\n"
      ],
      "metadata": {
        "id": "QFA_XBfpuM_V"
      }
    },
    {
      "cell_type": "markdown",
      "source": [
        "### Describe database objects\n",
        "\n",
        "In addition to tables, a relational database can contain other structures that help to optimize data organization, encapsulate programmatic actions, and improve the speed of access. In this unit, you'll learn about three of these structures in more detail: views, stored procedures, and indexes.\n",
        "\n"
      ],
      "metadata": {
        "id": "cH0XOobEuM9S"
      }
    },
    {
      "cell_type": "markdown",
      "source": [
        "#### What is a view?\n",
        "\n",
        "A view is a virtual table based on the results of a **SELECT** query. You can think of a view as a window on specified rows in one or more underlying tables. For example, you could create a view on the **Order** and **Customer** tables that retrieves order and customer data to provide a single object that makes it easy to determine delivery addresses for orders:\n",
        "\n",
        "```SQL\n",
        "CREATE VIEW Deliveries\n",
        "AS\n",
        "SELECT o.OrderNo, o.OrderDate,\n",
        "       c.FirstName, c.LastName, c.Address, c.City\n",
        "FROM Order AS o JOIN Customer AS c\n",
        "ON o.Customer = c.ID;\n",
        "```\n",
        "\n",
        "You can query the view and filter the data in much the same way as a table. The following query finds details of orders for customers who live in Seattle:\n",
        "\n",
        "```SQL\n",
        "SELECT OrderNo, OrderDate, LastName, Address\n",
        "FROM Deliveries\n",
        "WHERE City = 'Seattle';\n",
        "```\n",
        "\n"
      ],
      "metadata": {
        "id": "6mDxGE49szjN"
      }
    },
    {
      "cell_type": "markdown",
      "source": [
        "#### What is a stored procedure?\n",
        "\n",
        "A stored procedure defines SQL statements that can be run on command. Stored procedures are used to encapsulate programmatic logic in a database for actions that applications need to perform when working with data.\n",
        "\n",
        "You can define a stored procedure with parameters to create a flexible solution for common actions that might need to be applied to data based on a specific key or criteria. For example, the following stored procedure could be defined to change the name of a product based on the specified product ID.\n",
        "\n",
        "```SQL\n",
        "CREATE PROCEDURE RenameProduct\n",
        "    @ProductID INT,\n",
        "    @NewName VARCHAR(20)\n",
        "AS\n",
        "UPDATE Product\n",
        "SET Name = @NewName\n",
        "WHERE ID = @ProductID;\n",
        "```\n",
        "\n",
        "When a product must be renamed, you can execute the stored procedure, passing the ID of the product and the new name to be assigned:\n",
        "\n",
        "```SQL\n",
        "EXEC RenameProduct 201, 'Spanner';\n",
        "```\n",
        "\n"
      ],
      "metadata": {
        "id": "Q__EU2ZiugD_"
      }
    },
    {
      "cell_type": "markdown",
      "source": [
        "#### What is an index?\n",
        "\n",
        "An index helps you search for data in a table. Think of an index over a table like an index at the back of a book. A book index contains a sorted set of references, with the pages on which each reference occurs. When you want to find a reference to an item in the book, you look it up through the index. You can use the page numbers in the index to go directly to the correct pages in the book. Without an index, you might have to read through the entire book to find the references you're looking for.\n",
        "\n",
        "When you create an index in a database, you specify a column from the table, and the index contains a copy of this data in a sorted order, with pointers to the corresponding rows in the table. When the user runs a query that specifies this column in the **WHERE** clause, the database management system can use this index to fetch the data more quickly than if it had to scan through the entire table row by row.\n",
        "\n",
        "For example, you could use the following code to create an index on the **Name** column of the **Product** table:\n",
        "\n",
        "```SQL\n",
        "CREATE INDEX idx_ProductName\n",
        "ON Product(Name);\n",
        "```\n",
        "\n",
        "The index creates a tree-based structure that the database system's query optimizer can use to quickly find rows in the **Product** table based on a specified **Name**.\n",
        "\n",
        "![Example of an index that creates a tree-based structure.](https://learn.microsoft.com/en-us/training/wwl-data-ai/explore-relational-data-offerings/media/index.png)\n",
        "\n",
        "For a table containing few rows, using the index is probably not any more efficient than simply reading the entire table and finding the rows requested by the query (in which case the query optimizer will ignore the index). However, when a table has many rows, indexes can dramatically improve the performance of queries.\n",
        "\n",
        "You can create many indexes on a table. So, if you also wanted to find products based on price, creating another index on the **Price** column in the **Product** table might be useful. However, indexes aren't free. An index consumes storage space, and each time you insert, update, or delete data in a table, the indexes for that table must be maintained. This additional work can slow down insert, update, and delete operations. You must strike a balance between having indexes that speed up your queries versus the cost of performing other operations.\n",
        "\n"
      ],
      "metadata": {
        "id": "qzWB_qChugAr"
      }
    },
    {
      "cell_type": "markdown",
      "source": [
        "### Next unit: Knowledge check\n",
        "\n"
      ],
      "metadata": {
        "id": "2aMOglOXuf-P"
      }
    },
    {
      "cell_type": "markdown",
      "source": [
        "## Unit 6 of 7\n",
        "\n"
      ],
      "metadata": {
        "id": "an-WK-CJuf7u"
      }
    },
    {
      "cell_type": "markdown",
      "source": [
        "### Knowledge check\n",
        "\n",
        "Choose the best response for each of the questions below. Then select Check your answers.\n",
        "\n"
      ],
      "metadata": {
        "id": "uqXg401Buf5Q"
      }
    },
    {
      "cell_type": "markdown",
      "source": [
        "### Check your knowledge\n",
        "\n",
        "1. Which one of the following statements is a characteristic of a relational database?\n",
        "\n",
        "    - ☑ All columns in a table must be of the same data type.\n",
        "    - ☐ A row in a table represents a single instance of an entity.\n",
        "    - ☐ Rows in the same table can contain different columns.\n",
        "\n",
        "2. Which SQL statement is used to query tables and return data?\n",
        "    - ☐ QUERY\n",
        "    - ☐ READ\n",
        "    - ☐ SELECT\n",
        "\n",
        "3. What is an index?\n",
        "    - ☐ A structure that enables queries to locate rows in a table quickly\n",
        "    - ☐ A virtual table based on the results of a query\n",
        "    - ☐ A predefined SQL statement that modifies data\n"
      ],
      "metadata": {
        "id": "96p7QSI_uf2u"
      }
    }
  ]
}