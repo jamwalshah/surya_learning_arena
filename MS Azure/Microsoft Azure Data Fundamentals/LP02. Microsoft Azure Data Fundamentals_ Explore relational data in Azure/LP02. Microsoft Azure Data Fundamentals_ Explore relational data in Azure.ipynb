{
  "nbformat": 4,
  "nbformat_minor": 0,
  "metadata": {
    "colab": {
      "provenance": [],
      "toc_visible": true
    },
    "kernelspec": {
      "name": "python3",
      "display_name": "Python 3"
    },
    "language_info": {
      "name": "python"
    }
  },
  "cells": [
    {
      "cell_type": "markdown",
      "source": [
        "# Microsoft Azure Data Fundamentals: Explore relational data in Azure\n",
        "\n",
        "1 hr 13 min • Learning Path • 2 modules\n",
        "\n",
        "`Beginner` `Data Analyst` `Data Engineer` `Database Administrator` `Developer` `Solution Architect` `Student` `Azure`\n",
        "\n"
      ],
      "metadata": {
        "id": "Hl7lgaLUrkD2"
      }
    },
    {
      "cell_type": "code",
      "source": [
        "%%HTML\n",
        "<iframe width=\"560\" height=\"315\" src=\"https://www.microsoft.com/en-us/videoplayer/embed/RE57xXb?postJsllMsg=true\" frameborder=\"0\" allowfullscreen></iframe>"
      ],
      "metadata": {
        "colab": {
          "base_uri": "https://localhost:8080/",
          "height": 336
        },
        "id": "48K2CEvMrpx5",
        "outputId": "7ebd1d0e-3acc-41d5-ddef-2e4ef3fca2ac"
      },
      "execution_count": 1,
      "outputs": [
        {
          "output_type": "display_data",
          "data": {
            "text/plain": [
              "<IPython.core.display.HTML object>"
            ],
            "text/html": [
              "<iframe width=\"560\" height=\"315\" src=\"https://www.microsoft.com/en-us/videoplayer/embed/RE57xXb?postJsllMsg=true\" frameborder=\"0\" allowfullscreen></iframe>\n"
            ]
          },
          "metadata": {}
        }
      ]
    },
    {
      "cell_type": "markdown",
      "source": [
        "Relational data is at the heart of most business applications, and is the foundation on which many enterprise data solutions are built. Microsoft Azure provides services for managing relational databases, enabling you to build new applications or migrate existing ones to the cloud. This learning path helps you prepare for the [Azure Data Fundamentals](https://learn.microsoft.com/en-us/certifications/azure-data-fundamentals?azure-portal=true)\n",
        "\n"
      ],
      "metadata": {
        "id": "GWk2Av0ArkAd"
      }
    },
    {
      "cell_type": "markdown",
      "source": [
        "## Prerequisites\n",
        "\n",
        "- None\n",
        "\n"
      ],
      "metadata": {
        "id": "BgwACOwurj-m"
      }
    },
    {
      "cell_type": "markdown",
      "source": [
        "## Modules in this learning path\n",
        "\n"
      ],
      "metadata": {
        "id": "Rj-GPQ8nrh2Q"
      }
    },
    {
      "cell_type": "markdown",
      "source": [
        "### Explore fundamental relational data concepts\n",
        "\n",
        "37 min • Module • 7 Units\n",
        "\n",
        "Relational database systems are a common way to store and manage transactional and analytical data in organizations of any size around the world.\n",
        "\n"
      ],
      "metadata": {
        "id": "6g4stI7irhyr"
      }
    },
    {
      "cell_type": "markdown",
      "source": [
        "### Explore relational database services in Azure\n",
        "\n",
        "36 min • Module • 6 Units\n",
        "\n",
        "Microsoft Azure provides multiple services for relational databases. You can choose the relational database management system that's best for your needs, and host relational data in the cloud.\n"
      ],
      "metadata": {
        "id": "n2pL90rCrhwS"
      }
    }
  ]
}