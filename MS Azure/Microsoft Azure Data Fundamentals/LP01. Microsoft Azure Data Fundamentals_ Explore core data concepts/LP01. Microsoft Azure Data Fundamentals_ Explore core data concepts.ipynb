{
  "nbformat": 4,
  "nbformat_minor": 0,
  "metadata": {
    "colab": {
      "provenance": [],
      "toc_visible": true
    },
    "kernelspec": {
      "name": "python3",
      "display_name": "Python 3"
    },
    "language_info": {
      "name": "python"
    }
  },
  "cells": [
    {
      "cell_type": "markdown",
      "source": [
        "# Microsoft Azure Data Fundamentals: Explore core data concepts\n",
        "\n",
        "44 min remaining • Learning Path • 2 modules\n",
        "\n",
        "`Beginner` `Data Analyst` `Data Engineer` `Database Administrator` `Developer` `Solution Architect` `Student` `Azure`\n"
      ],
      "metadata": {
        "id": "hCcrftNIlOSd"
      }
    },
    {
      "cell_type": "code",
      "source": [
        "%%HTML\n",
        "<iframe width=\"560\" height=\"315\" src=\"https://www.microsoft.com/en-us/videoplayer/embed/RE57fRT?postJsllMsg=true\" frameborder=\"0\" allowfullscreen></iframe>"
      ],
      "metadata": {
        "colab": {
          "base_uri": "https://localhost:8080/",
          "height": 336
        },
        "id": "n46uJl0DoFIf",
        "outputId": "76a900a5-0423-439f-a890-9bf08552fe38"
      },
      "execution_count": 1,
      "outputs": [
        {
          "output_type": "display_data",
          "data": {
            "text/plain": [
              "<IPython.core.display.HTML object>"
            ],
            "text/html": [
              "<iframe width=\"560\" height=\"315\" src=\"https://www.microsoft.com/en-us/videoplayer/embed/RE57fRT?postJsllMsg=true\" frameborder=\"0\" allowfullscreen></iframe>\n"
            ]
          },
          "metadata": {}
        }
      ]
    },
    {
      "cell_type": "markdown",
      "source": [
        "Data is the foundation on which all software is built. By learning about common data formats, workloads, roles, and services, you can prepare yourself for a career as a data professional. This learning path helps you prepare for the [Azure Data Fundamentals](https://learn.microsoft.com/en-us/certifications/azure-data-fundamentals?azure-portal=true) certification.\n"
      ],
      "metadata": {
        "id": "sQu8cTUClOPE"
      }
    },
    {
      "cell_type": "markdown",
      "source": [
        "## Prerequisites\n",
        "\n",
        "- None\n"
      ],
      "metadata": {
        "id": "mcmqE1fzlOM4"
      }
    },
    {
      "cell_type": "markdown",
      "source": [
        "## Modules in this learning path\n"
      ],
      "metadata": {
        "id": "pajsGF_flOLC"
      }
    },
    {
      "cell_type": "markdown",
      "source": [
        "### Explore core data concepts\n",
        "\n",
        "29 min • Module • 8 Units\n",
        "\n",
        "Data powers the digital transformation that is sweeping across organizations and society in general. But what is \"data\", and how is it represented and used?\n",
        "\n"
      ],
      "metadata": {
        "id": "Mr1-o_rKlOJB"
      }
    },
    {
      "cell_type": "markdown",
      "source": [
        "### Explore data roles and services\n",
        "\n",
        "15 min • Module • 5 Units\n",
        "\n",
        "Data professionals perform distinct roles in building and managing software solutions, and work with multiple technologies and services to do so.\n",
        "\n"
      ],
      "metadata": {
        "id": "fzCuD-XqlOGu"
      }
    }
  ]
}