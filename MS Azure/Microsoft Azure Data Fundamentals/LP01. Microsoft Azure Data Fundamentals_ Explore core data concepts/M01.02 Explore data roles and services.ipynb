{
  "nbformat": 4,
  "nbformat_minor": 0,
  "metadata": {
    "colab": {
      "provenance": [],
      "toc_visible": true
    },
    "kernelspec": {
      "name": "python3",
      "display_name": "Python 3"
    },
    "language_info": {
      "name": "python"
    }
  },
  "cells": [
    {
      "cell_type": "markdown",
      "source": [
        "# M01.02 Explore data roles and services\n",
        "\n"
      ],
      "metadata": {
        "id": "B-MJNl2ckWaS"
      }
    },
    {
      "cell_type": "markdown",
      "source": [
        "## Unit 1 of 5\n",
        "\n"
      ],
      "metadata": {
        "id": "At2QWn8CkWXA"
      }
    },
    {
      "cell_type": "markdown",
      "source": [
        "### Introduction\n",
        "\n",
        "Over the last decade, the amount of data that systems and devices generate has increased significantly. Because of this increase, new technologies, roles, and approaches to working with data are affecting data professionals. Data professionals typically fulfill different roles when managing, using, and controlling data. In this module, you'll learn about the various roles that organizations often apply to data professionals, the tasks and responsibilities associated with these roles, and the Microsoft Azure services used to perform them.\n",
        "\n"
      ],
      "metadata": {
        "id": "3n1pwJMckWUs"
      }
    },
    {
      "cell_type": "markdown",
      "source": [
        "### Learning objectives\n",
        "\n",
        "In this module you will learn how to:\n",
        "\n",
        "- Identify common data professional roles\n",
        "- Identify common cloud services used by data professionals\n",
        "\n"
      ],
      "metadata": {
        "id": "jXcSQEPskWSH"
      }
    },
    {
      "cell_type": "markdown",
      "source": [
        "### Next unit: Explore job roles in the world of data\n",
        "\n"
      ],
      "metadata": {
        "id": "WDn-tTkekWP8"
      }
    },
    {
      "cell_type": "markdown",
      "source": [
        "## Unit 2 of 5\n",
        "\n"
      ],
      "metadata": {
        "id": "pzoUtD7fkWNm"
      }
    },
    {
      "cell_type": "markdown",
      "source": [
        "### Explore job roles in the world of data\n",
        "\n",
        "There's a wide variety of roles involved in managing, controlling, and using data. Some roles are business-oriented, some involve more engineering, some focus on research, and some are hybrid roles that combine different aspects of data management. Your organization may define roles differently, or give them different names, but the roles described in this unit encapsulate the most common division of tasks and responsibilities.\n",
        "\n",
        "The three key job roles that deal with data in most organizations are:\n",
        "\n",
        "- **Database administrators** manage databases, assigning permissions to users, storing backup copies of data and restore data in the event of a failure.\n",
        "- **Data engineers** manage infrastructure and processes for data integration across the organization, applying data cleaning routines, identifying data governance rules, and implementing pipelines to transfer and transform data between systems.\n",
        "- **Data analysts** explore and analyze data to create visualizations and charts that enable organizations to make informed decisions.\n",
        "\n",
        "> **Note:** The job *roles* define differentiated tasks and responsibilities. In some organizations, the same *person* might perform multiple roles; so in their role as database administrator they might provision a transactional database, and then in their role as a data engineer they might create a pipeline to transfer data from the database to a data warehouse for analysis.\n",
        "\n"
      ],
      "metadata": {
        "id": "D5CpvxZNkWK9"
      }
    },
    {
      "cell_type": "markdown",
      "source": [
        "### Database Administrator\n",
        "\n",
        "![Database administrator icon.](https://learn.microsoft.com/en-us/training/wwl-data-ai/explore-roles-responsibilities-world-of-data/media/2-database-administrator.png) A database administrator is responsible for the design, implementation, maintenance, and operational aspects of on-premises and cloud-based database systems. They're responsible for the overall availability and consistent performance and optimizations of databases. They work with stakeholders to implement policies, tools, and processes for backup and recovery plans to recover following a natural disaster or human-made error.\n",
        "\n",
        "The database administrator is also responsible for managing the security of the data in the database, granting privileges over the data, granting or denying access to users as appropriate.\n",
        "\n"
      ],
      "metadata": {
        "id": "H9gGF5dRkWHc"
      }
    },
    {
      "cell_type": "markdown",
      "source": [
        "### Data Engineer\n",
        "\n",
        "![Data Engineer icon.](https://learn.microsoft.com/en-us/training/wwl-data-ai/explore-roles-responsibilities-world-of-data/media/2-engineer.png) A data engineer collaborates with stakeholders to design and implement data-related workloads, including data ingestion pipelines, cleansing and transformation activities, and data stores for analytical workloads. They use a wide range of data platform technologies, including relational and non-relational databases, file stores, and data streams.\n",
        "\n",
        "They're also responsible for ensuring that the privacy of data is maintained within the cloud and spanning from on-premises to the cloud data stores. They own the management and monitoring of data pipelines to ensure that data loads perform as expected.\n",
        "\n"
      ],
      "metadata": {
        "id": "SgIe2pYvkWFK"
      }
    },
    {
      "cell_type": "markdown",
      "source": [
        "### Data Analyst\n",
        "\n",
        "![Data Analyst icon.](https://learn.microsoft.com/en-us/training/wwl-data-ai/explore-roles-responsibilities-world-of-data/media/2-analyst.png) A data analyst enables businesses to maximize the value of their data assets. They're responsible for exploring data to identify trends and relationships, designing and building analytical models, and enabling advanced analytics capabilities through reports and visualizations.\n",
        "\n",
        "A data analyst processes raw data into relevant insights based on identified business requirements to deliver relevant insights.\n",
        "\n",
        "> **Note:** The roles described here represent the key data-related roles found in most medium to large organizations. There are additional data-related roles not mentioned here, such as *data scientist* and *data architect*; and there are other technical professionals that work with data, including *application developers* and *software engineers*.\n",
        "\n"
      ],
      "metadata": {
        "id": "KeEHsWVQkWC4"
      }
    },
    {
      "cell_type": "markdown",
      "source": [
        "### Next unit: Identify data services\n",
        "\n"
      ],
      "metadata": {
        "id": "TbDbylGBkWAu"
      }
    },
    {
      "cell_type": "markdown",
      "source": [
        "## Unit 3 of 5\n",
        "\n"
      ],
      "metadata": {
        "id": "-vWXhB0AkV-O"
      }
    },
    {
      "cell_type": "markdown",
      "source": [
        "### Identify data services\n",
        "\n",
        "Microsoft Azure is a cloud platform that powers the applications and IT infrastructure for some of the world's largest organizations. It includes many services to support cloud solutions, including transactional and analytical data workloads.\n",
        "\n",
        "Some of the most commonly used cloud services for data are described below.\n",
        "\n",
        "> **Note:** This topic covers only some of the most commonly used data services for modern transactional and analytical solutions. Additional services are also available.\n",
        "\n"
      ],
      "metadata": {
        "id": "Ns7Zyzm9kV8K"
      }
    },
    {
      "cell_type": "markdown",
      "source": [
        "### Azure SQL\n",
        "\n",
        "![Azure SQL logo.](https://learn.microsoft.com/en-us/training/wwl-data-ai/explore-roles-responsibilities-world-of-data/media/azure-sql.png) *Azure SQL* is the collective name for a family of relational database solutions based on the Microsoft SQL Server database engine. Specific Azure SQL services include:\n",
        "\n",
        "- **Azure SQL Database** – a fully managed platform-as-a-service (PaaS) database hosted in Azure\n",
        "- **Azure SQL Managed Instance** – a hosted instance of SQL Server with automated maintenance, which allows more flexible configuration than Azure SQL DB but with more administrative responsibility for the owner.\n",
        "- **Azure SQL VM** – a virtual machine with an installation of SQL Server, allowing maximum configurability with full management responsibility.\n",
        "\n",
        "Database administrators typically provision and manage Azure SQL database systems to support line of business (LOB) applications that need to store transactional data.\n",
        "\n",
        "Data engineers may use Azure SQL database systems as sources for data pipelines that perform extract, transform, and load (ETL) operations to ingest the transactional data into an analytical system.\n",
        "\n",
        "Data analysts may query Azure SQL databases directly to create reports, though in large organizations the data is generally combined with data from other sources in an analytical data store to support enterprise analytics.\n",
        "\n"
      ],
      "metadata": {
        "id": "KGmXrdYYkV3-"
      }
    },
    {
      "cell_type": "markdown",
      "source": [
        "### Azure Database for open-source relational databases\n",
        "\n",
        "![Azure Database for MariaDB, MySQL, and PostreSQL logos.](https://learn.microsoft.com/en-us/training/wwl-data-ai/explore-roles-responsibilities-world-of-data/media/azure-database.png) Azure includes managed services for popular open-source relational database systems, including:\n",
        "\n",
        "- **Azure Database for MySQL** - a simple-to-use open-source database management system that is commonly used in Linux, Apache, MySQL, and PHP (LAMP) stack apps.\n",
        "- **Azure Database for MariaDB** - a newer database management system, created by the original developers of MySQL. The database engine has since been rewritten and optimized to improve performance. MariaDB offers compatibility with Oracle Database (another popular commercial database management system).\n",
        "- **Azure Database for PostgreSQL** - a hybrid relational-object database. You can store data in relational tables, but a PostgreSQL database also enables you to store custom data types, with their own non-relational properties.\n",
        "\n",
        "As with Azure SQL database systems, open-source relational databases are managed by database administrators to support transactional applications, and provide a data source for data engineers building pipelines for analytical solutions and data analysts creating reports.\n",
        "\n"
      ],
      "metadata": {
        "id": "REyhCpNykV1u"
      }
    },
    {
      "cell_type": "markdown",
      "source": [
        "### Azure Cosmos DB\n",
        "\n",
        "![Azure Cosmos DB logo.](https://learn.microsoft.com/en-us/training/wwl-data-ai/explore-roles-responsibilities-world-of-data/media/cosmos-db.png) Azure Cosmos DB is a global-scale non-relational (NoSQL) database system that supports multiple application programming interfaces (APIs), enabling you to store and manage data as JSON documents, key-value pairs, column-families, and graphs.\n",
        "\n",
        "In some organizations, Cosmos DB instances may be provisioned and managed by a database administrator; though often software developers manage NoSQL data storage as part of the overall application architecture. Data engineers often need to integrate Cosmos DB data sources into enterprise analytical solutions that support modeling and reporting by data analysts.\n",
        "\n"
      ],
      "metadata": {
        "id": "8dMxPIapkVzI"
      }
    },
    {
      "cell_type": "markdown",
      "source": [
        "### Azure Storage\n",
        "\n",
        "![Azure Storage logo.](https://learn.microsoft.com/en-us/training/wwl-data-ai/explore-roles-responsibilities-world-of-data/media/azure-storage.png) Azure Storage is a core Azure service that enables you to store data in:\n",
        "\n",
        "- **Blob containers** - scalable, cost-effective storage for binary files.\n",
        "- **File shares** - network file shares such as you typically find in corporate networks.\n",
        "- **Tables** - key-value storage for applications that need to read and write data values quickly.\n",
        "\n",
        "Data engineers use Azure Storage to host *data lakes* - blob storage with a hierarchical namespace that enables files to be organized in folders in a distributed file system.\n",
        "\n"
      ],
      "metadata": {
        "id": "q_Wb0lN8kVw_"
      }
    },
    {
      "cell_type": "markdown",
      "source": [
        "### Azure Data Factory\n",
        "\n",
        "![Azure Data Factory logo.](https://learn.microsoft.com/en-us/training/wwl-data-ai/explore-roles-responsibilities-world-of-data/media/azure-data-factory.png) Azure Data Factory is an Azure service that enables you to define and schedule data pipelines to transfer and transform data. You can integrate your pipelines with other Azure services, enabling you to ingest data from cloud data stores, process the data using cloud-based compute, and persist the results in another data store.\n",
        "\n",
        "Azure Data Factory is used by data engineers to build *extract*, *transform*, and *load* (ETL) solutions that populate analytical data stores with data from transactional systems across the organization.\n",
        "\n"
      ],
      "metadata": {
        "id": "5SNSXfpClU47"
      }
    },
    {
      "cell_type": "markdown",
      "source": [
        "### Azure Synapse Analytics\n",
        "\n",
        "![Azure Synapse Analytics logo.](https://learn.microsoft.com/en-us/training/wwl-data-ai/explore-roles-responsibilities-world-of-data/media/azure-synapse.png) Azure Synapse Analytics is a comprehensive, unified Platform-as-a-Service (PaaS) solution for data analytics that provides a single service interface for multiple analytical capabilities, including:\n",
        "\n",
        "- **Pipelines** - based on the same technology as Azure Data Factory.\n",
        "- **SQL** - a highly scalable SQL database engine, optimized for data warehouse workloads.\n",
        "- **Apache Spark** - an open-source distributed data processing system that supports multiple programming languages and APIs, including Java, Scala, Python, and SQL.\n",
        "- **Azure Synapse Data Explorer** - a high-performance data analytics solution that is optimized for real-time querying of log and telemetry data using Kusto Query Language (KQL).\n",
        "\n",
        "Data engineers can use Azure Synapse Analytics to create a unified data analytics solution that combines data ingestion pipelines, data warehouse storage, and data lake storage through a single service.\n",
        "\n",
        "Data analysts can use SQL and Spark pools through interactive notebooks to explore and analyze data, and take advantage of integration with services such as Azure Machine Learning and Microsoft Power BI to create data models and extract insights from the data.\n",
        "\n"
      ],
      "metadata": {
        "id": "ePRegjkjlU1c"
      }
    },
    {
      "cell_type": "markdown",
      "source": [
        "### Azure Databricks\n",
        "\n",
        "![Azure Databricks logo.](https://learn.microsoft.com/en-us/training/wwl-data-ai/explore-roles-responsibilities-world-of-data/media/azure-databricks.png) Azure Databricks is an Azure-integrated version of the popular Databricks platform, which combines the Apache Spark data processing platform with SQL database semantics and an integrated management interface to enable large-scale data analytics.\n",
        "\n",
        "Data engineers can use existing Databricks and Spark skills to create analytical data stores in Azure Databricks.\n",
        "\n",
        "Data Analysts can use the native notebook support in Azure Databricks to query and visualize data in an easy to use web-based interface.\n",
        "\n"
      ],
      "metadata": {
        "id": "MtWeVYkWlUxO"
      }
    },
    {
      "cell_type": "markdown",
      "source": [
        "### Azure HDInsight\n",
        "\n",
        "![Azure HDInsight logo.](https://learn.microsoft.com/en-us/training/wwl-data-ai/explore-roles-responsibilities-world-of-data/media/hdinsight.png) Azure HDInsight is an Azure service that provides Azure-hosted clusters for popular Apache open-source big data processing technologies, including:\n",
        "\n",
        "- **Apache Spark** - a distributed data processing system that supports multiple programming languages and APIs, including Java, Scala, Python, and SQL.\n",
        "- **Apache Hadoop** - a distributed system that uses *MapReduce* jobs to process large volumes of data efficiently across multiple cluster nodes. MapReduce jobs can be written in Java or abstracted by interfaces such as Apache Hive - a SQL-based API that runs on Hadoop.\n",
        "- **Apache HBase** - an open-source system for large-scale NoSQL data storage and querying.\n",
        "- **Apache Kafka** - a message broker for data stream processing.\n",
        "\n",
        "Data engineers can use Azure HDInsight to support big data analytics workloads that depend on multiple open-source technologies.\n",
        "\n"
      ],
      "metadata": {
        "id": "Hk3MmSlilUvG"
      }
    },
    {
      "cell_type": "markdown",
      "source": [
        "### Azure Stream Analytics\n",
        "\n",
        "![Azure Stream Analytics logo.](https://learn.microsoft.com/en-us/training/wwl-data-ai/explore-roles-responsibilities-world-of-data/media/stream-analytics.png) Azure Stream Analytics is a real-time stream processing engine that captures a stream of data from an input, applies a query to extract and manipulate data from the input stream, and writes the results to an output for analysis or further processing.\n",
        "\n",
        "Data engineers can incorporate Azure Stream Analytics into data analytics architectures that capture streaming data for ingestion into an analytical data store or for real-time visualization.\n",
        "\n"
      ],
      "metadata": {
        "id": "jZoRvV5XlUtg"
      }
    },
    {
      "cell_type": "markdown",
      "source": [
        "### Azure Data Explorer\n",
        "\n",
        "![Azure Data Explorer logo.](https://learn.microsoft.com/en-us/training/wwl-data-ai/explore-roles-responsibilities-world-of-data/media/azure-data-explorer.png) Azure Data Explorer is a standalone service that offers the same high-performance querying of log and telemetry data as the Azure Synapse Data Explorer runtime in Azure Synapse Analytics.\n",
        "\n",
        "Data analysts can use Azure Data Explorer to query and analyze data that includes a timestamp attribute, such as is typically found in log files and *Internet-of-things* (IoT) telemetry data.\n",
        "\n"
      ],
      "metadata": {
        "id": "Xe2s7N5hlUrA"
      }
    },
    {
      "cell_type": "markdown",
      "source": [
        "### Microsoft Purview\n",
        "\n",
        "![Azure Purview logo.](https://learn.microsoft.com/en-us/training/wwl-data-ai/explore-roles-responsibilities-world-of-data/media/azure-purview.png) Microsoft Purview provides a solution for enterprise-wide data governance and discoverability. You can use Microsoft Purview to create a map of your data and track data lineage across multiple data sources and systems, enabling you to find trustworthy data for analysis and reporting.\n",
        "\n",
        "Data engineers can use Microsoft Purview to enforce data governance across the enterprise and ensure the integrity of data used to support analytical workloads.\n",
        "\n"
      ],
      "metadata": {
        "id": "ITINaFP3mGE6"
      }
    },
    {
      "cell_type": "markdown",
      "source": [
        "### Microsoft Fabric\n",
        "\n",
        "![Microsoft Fabric logo.](https://learn.microsoft.com/en-us/training/wwl-data-ai/explore-roles-responsibilities-world-of-data/media/fabric-icon.png) Microsoft Fabric is a unified Software-as-a-Service (SaaS) analytics platform based on open and governed lakehouse that includes functionality to support:\n",
        "\n",
        "- Data ingestion and ETL\n",
        "- Data lakehouse analytics\n",
        "- Data warehouse analytics\n",
        "- Data Science and machine learning\n",
        "- Realtime analytics\n",
        "- Data visualization\n",
        "- Data governance and management\n",
        "\n"
      ],
      "metadata": {
        "id": "NZJ52d97mGBa"
      }
    },
    {
      "cell_type": "markdown",
      "source": [
        "### Next unit: Knowledge check\n",
        "\n"
      ],
      "metadata": {
        "id": "VC9vm4d5mF_U"
      }
    },
    {
      "cell_type": "markdown",
      "source": [
        "## Unit 4 of 5\n",
        "\n"
      ],
      "metadata": {
        "id": "qXmk3sklmF9K"
      }
    },
    {
      "cell_type": "markdown",
      "source": [
        "### Knowledge check\n",
        "\n",
        "Choose the best response for each of the questions below. Then select Check your answers.\n",
        "\n",
        "### Check your knowledge\n",
        "\n",
        "1. Which one of the following tasks is the responsibility of a database administrator?\n",
        "    - ☑ Backing up and restoring databases\n",
        "    - ☐ Creating dashboards and reports\n",
        "    - ☐ Creating pipelines to process data in a data lake\n",
        "\n",
        "2. Which role is most likely to use Azure Data Factory to define a data pipeline for an ETL process?\n",
        "    - ☐ Database Administrator\n",
        "    - ☐ Data Engineer\n",
        "    - ☐ Data Analyst\n",
        "\n",
        "3. Which services would you use as a SaaS solution for data analytics?\n",
        "    - ☐ Azure SQL Database\n",
        "    - ☐ Azure Synapse Analytics\n",
        "    - ☐ Microsoft Fabric\n"
      ],
      "metadata": {
        "id": "NZSsuEeUmF6r"
      }
    },
    {
      "cell_type": "markdown",
      "source": [],
      "metadata": {
        "id": "93xjL8y8lUoz"
      }
    },
    {
      "cell_type": "markdown",
      "source": [],
      "metadata": {
        "id": "bt4__g2UkVun"
      }
    }
  ]
}