{
  "nbformat": 4,
  "nbformat_minor": 0,
  "metadata": {
    "colab": {
      "provenance": [],
      "toc_visible": true
    },
    "kernelspec": {
      "name": "python3",
      "display_name": "Python 3"
    },
    "language_info": {
      "name": "python"
    }
  },
  "cells": [
    {
      "cell_type": "markdown",
      "source": [
        "# Unit 1 of 8\n",
        "\n"
      ],
      "metadata": {
        "id": "z4g_36JZlVzd"
      }
    },
    {
      "cell_type": "markdown",
      "source": [
        "## Introduction\n",
        "In this module, you’ll be introduced to some of the features and tools you can use to help with governance of your Azure environment. You’ll also learn about tools you can use to help keep resources in compliance with corporate or regulatory requirements.\n",
        "\n"
      ],
      "metadata": {
        "id": "pDzbtU1olVv2"
      }
    },
    {
      "cell_type": "markdown",
      "source": [
        "## Learning objectives\n",
        "After completing this module, you’ll be able to:\n",
        "\n",
        "- Describe the purpose of Microsoft Purview.\n",
        "- Describe the purpose of Azure Policy.\n",
        "- Describe the purpose of resource locks.\n",
        "- Describe the purpose of the Service Trust portal.\n",
        "\n"
      ],
      "metadata": {
        "id": "DRbx99dblVuP"
      }
    },
    {
      "cell_type": "markdown",
      "source": [
        "## Next unit: Describe the purpose of Microsoft Purview\n",
        "\n"
      ],
      "metadata": {
        "id": "4odpbOtNlVrk"
      }
    },
    {
      "cell_type": "markdown",
      "source": [
        "# Unit 2 of 8\n",
        "\n"
      ],
      "metadata": {
        "id": "PdYNe22ylVpW"
      }
    },
    {
      "cell_type": "markdown",
      "source": [
        "## Describe the purpose of Microsoft Purview\n",
        "Microsoft Purview is a family of data governance, risk, and compliance solutions that helps you get a single, unified view into your data. Microsoft Purview brings insights about your on-premises, multicloud, and software-as-a-service data together.\n",
        "\n",
        "With Microsoft Purview, you can stay up-to-date on your data landscape thanks to:\n",
        "\n",
        "- Automated data discovery\n",
        "- Sensitive data classification\n",
        "- End-to-end data lineage\n",
        "\n",
        "Two main solution areas comprise Microsoft Purview: risk and compliance and unified data governance.\n",
        "\n",
        "<img src=\"https://learn.microsoft.com/en-us/training/wwl-azure/describe-features-tools-azure-for-governance-compliance/media/purview-solution-areas-ceb1bedf.png\"\n",
        "    alt=\"Illustration showing the main areas for Microsoft Purview.\"\n",
        "    style=\"float: left; margin-right: 10px;\" />\n",
        "\n"
      ],
      "metadata": {
        "id": "igSxsJhFlVm9"
      }
    },
    {
      "cell_type": "markdown",
      "source": [
        "## Microsoft Purview risk and compliance solutions\n",
        "Microsoft 365 features as a core component of the Microsoft Purview risk and compliance solutions. Microsoft Teams, OneDrive, and Exchange are just some of the Microsoft 365 services that Microsoft Purview uses to help manage and monitor your data. Microsoft Purview, by managing and monitoring your data, is able to help your organization:\n",
        "\n",
        "- Protect sensitive data across clouds, apps, and devices.\n",
        "- Identify data risks and manage regulatory compliance requirements.\n",
        "- Get started with regulatory compliance.\n",
        "\n"
      ],
      "metadata": {
        "id": "cNH-56u4l0o5"
      }
    },
    {
      "cell_type": "markdown",
      "source": [
        "## Unified data governance\n",
        "Microsoft Purview has robust, unified data governance solutions that help manage your on-premises, multicloud, and software as a service data. Microsoft Purview’s robust data governance capabilities enable you to manage your data stored in Azure, SQL and Hive databases, locally, and even in other clouds like Amazon S3.\n",
        "\n",
        "Microsoft Purview’s unified data governance helps your organization:\n",
        "\n",
        "- Create an up-to-date map of your entire data estate that includes data classification and end-to-end lineage.\n",
        "- Identify where sensitive data is stored in your estate.\n",
        "- Create a secure environment for data consumers to find valuable data.\n",
        "- Generate insights about how your data is stored and used.\n",
        "- Manage access to the data in your estate securely and at scale.\n",
        "\n"
      ],
      "metadata": {
        "id": "8HtulbE1l0la"
      }
    },
    {
      "cell_type": "markdown",
      "source": [
        "## Next unit: Describe the purpose of Azure Policy\n",
        "\n"
      ],
      "metadata": {
        "id": "uh78Ao_pl0jG"
      }
    },
    {
      "cell_type": "markdown",
      "source": [
        "# Unit 3 of 8\n",
        "\n"
      ],
      "metadata": {
        "id": "ekdV1ZGql0gv"
      }
    },
    {
      "cell_type": "markdown",
      "source": [
        "## Describe the purpose of Azure Policy\n",
        "How do you ensure that your resources stay compliant? Can you be alerted if a resource's configuration has changed?\n",
        "\n",
        "Azure Policy is a service in Azure that enables you to create, assign, and manage policies that control or audit your resources. These policies enforce different rules across your resource configurations so that those configurations stay compliant with corporate standards.\n",
        "\n"
      ],
      "metadata": {
        "id": "47nURwWel0eS"
      }
    },
    {
      "cell_type": "markdown",
      "source": [
        "## How does Azure Policy define policies?\n",
        "Azure Policy enables you to define both individual policies and groups of related policies, known as initiatives. Azure Policy evaluates your resources and highlights resources that aren't compliant with the policies you've created. Azure Policy can also prevent noncompliant resources from being created.\n",
        "\n",
        "Azure Policies can be set at each level, enabling you to set policies on a specific resource, resource group, subscription, and so on. Additionally, Azure Policies are inherited, so if you set a policy at a high level, it will automatically be applied to all of the groupings that fall within the parent. For example, if you set an Azure Policy on a resource group, all resources created within that resource group will automatically receive the same policy.\n",
        "\n",
        "Azure Policy comes with built-in policy and initiative definitions for Storage, Networking, Compute, Security Center, and Monitoring. For example, if you define a policy that allows only a certain size for the virtual machines (VMs) to be used in your environment, that policy is invoked when you create a new VM and whenever you resize existing VMs. Azure Policy also evaluates and monitors all current VMs in your environment, including VMs that were created before the policy was created.\n",
        "\n",
        "In some cases, Azure Policy can automatically remediate noncompliant resources and configurations to ensure the integrity of the state of the resources. For example, if all resources in a certain resource group should be tagged with AppName tag and a value of \"SpecialOrders,\" Azure Policy will automatically apply that tag if it is missing. However, you still retain full control of your environment. If you have a specific resource that you don’t want Azure Policy to automatically fix, you can flag that resource as an exception – and the policy won’t automatically fix that resource.\n",
        "\n",
        "Azure Policy also integrates with Azure DevOps by applying any continuous integration and delivery pipeline policies that pertain to the pre-deployment and post-deployment phases of your applications.\n",
        "\n"
      ],
      "metadata": {
        "id": "fWhlomY4mlj_"
      }
    },
    {
      "cell_type": "markdown",
      "source": [
        "## What are Azure Policy initiatives?\n",
        "An Azure Policy initiative is a way of grouping related policies together. The initiative definition contains all of the policy definitions to help track your compliance state for a larger goal.\n",
        "\n",
        "For example, Azure Policy includes an initiative named Enable Monitoring in Azure Security Center. Its goal is to monitor all available security recommendations for all Azure resource types in Azure Security Center.\n",
        "\n",
        "Under this initiative, the following policy definitions are included:\n",
        "\n",
        "- **Monitor unencrypted SQL Database in Security Center** This policy monitors for unencrypted SQL databases and servers.\n",
        "- **Monitor OS vulnerabilities in Security Center** This policy monitors servers that don't satisfy the configured OS vulnerability baseline.\n",
        "- **Monitor missing Endpoint Protection in Security Center** This policy monitors for servers that don't have an installed endpoint protection agent.\n",
        "\n",
        "In fact, the Enable Monitoring in Azure Security Center initiative contains over 100 separate policy definitions.\n",
        "\n"
      ],
      "metadata": {
        "id": "7jGhLyksmlgi"
      }
    },
    {
      "cell_type": "markdown",
      "source": [
        "## Next unit: Describe the purpose of resource locks\n",
        "\n"
      ],
      "metadata": {
        "id": "i6w8XRbImleL"
      }
    },
    {
      "cell_type": "markdown",
      "source": [
        "# Unit 4 of 8\n",
        "\n"
      ],
      "metadata": {
        "id": "eEl6RmrpmlcC"
      }
    },
    {
      "cell_type": "markdown",
      "source": [
        "## Describe the purpose of resource locks\n",
        "A resource lock prevents resources from being accidentally deleted or changed.\n",
        "\n",
        "Even with Azure role-based access control (Azure RBAC) policies in place, there's still a risk that people with the right level of access could delete critical cloud resources. Resource locks prevent resources from being deleted or updated, depending on the type of lock. Resource locks can be applied to individual resources, resource groups, or even an entire subscription. Resource locks are inherited, meaning that if you place a resource lock on a resource group, all of the resources within the resource group will also have the resource lock applied.\n",
        "\n"
      ],
      "metadata": {
        "id": "4W7mSFicmlZq"
      }
    },
    {
      "cell_type": "markdown",
      "source": [
        "## Types of Resource Locks\n",
        "There are two types of resource locks, one that prevents users from deleting and one that prevents users from changing or deleting a resource.\n",
        "\n",
        "- Delete means authorized users can still read and modify a resource, but they can't delete the resource.\n",
        "- ReadOnly means authorized users can read a resource, but they can't delete or update the resource. Applying this lock is similar to restricting all authorized users to the permissions granted by the Reader role.\n",
        "\n"
      ],
      "metadata": {
        "id": "yEMBfY-Ann91"
      }
    },
    {
      "cell_type": "markdown",
      "source": [
        "## How do I manage resource locks?\n",
        "You can manage resource locks from the Azure portal, PowerShell, the Azure CLI, or from an Azure Resource Manager template.\n",
        "\n",
        "To view, add, or delete locks in the Azure portal, go to the Settings section of any resource's Settings pane in the Azure portal.\n",
        "\n",
        "<img src=\"https://learn.microsoft.com/en-us/training/wwl-azure/describe-features-tools-azure-for-governance-compliance/media/resource-lock-54695e43.png\"\n",
        "    alt=\"A screenshot showing the resource lock control, under settings, for a storage account.\"\n",
        "    style=\"float: left; margin-right: 10px;\" />\n",
        "\n"
      ],
      "metadata": {
        "id": "hi2VgbZsnn6X"
      }
    },
    {
      "cell_type": "markdown",
      "source": [
        "## How do I delete or change a locked resource?\n",
        "Although locking helps prevent accidental changes, you can still make changes by following a two-step process.\n",
        "\n",
        "To modify a locked resource, you must first remove the lock. After you remove the lock, you can apply any action you have permissions to perform. Resource locks apply regardless of RBAC permissions. Even if you're an owner of the resource, you must still remove the lock before you can perform the blocked activity.\n",
        "\n"
      ],
      "metadata": {
        "id": "5rZAx0QKnn4E"
      }
    },
    {
      "cell_type": "markdown",
      "source": [
        "## Next unit: Exercise - Configure a resource lock\n",
        "\n"
      ],
      "metadata": {
        "id": "iunFIUOXnn11"
      }
    },
    {
      "cell_type": "markdown",
      "source": [
        "# Unit 5 of 8\n",
        "\n"
      ],
      "metadata": {
        "id": "qDKBKgezl0bi"
      }
    },
    {
      "cell_type": "markdown",
      "source": [
        "## Exercise - Configure a resource lock\n",
        "In this exercise, you’ll create a resource and configure a resource lock. Storage accounts are one of the easiest types of resource locks to quickly see the impact, so you’ll use a storage account for this exercise.\n",
        "\n",
        "This exercise is a Bring your own subscription exercise, meaning you’ll need to provide your own Azure subscription to complete the exercise. Don’t worry though, the entire exercise can be completed for free with the 12 month free services when you sign up for an Azure account.\n",
        "\n",
        "For help with signing up for an Azure account, see the [Create an Azure account](https://learn.microsoft.com/en-us/learn/modules/create-an-azure-account/) learning module.\n",
        "\n",
        "Once you’ve created your free account, follow the steps below. If you don’t have an Azure account, you can review the steps to see the process for adding a simple resource lock to a resource.\n",
        "\n"
      ],
      "metadata": {
        "id": "tECdoZt3oyao"
      }
    },
    {
      "cell_type": "markdown",
      "source": [
        "## Task 1: Create a resource\n",
        "In order to apply a resource lock, you have to have a resource created in Azure. The first task focuses on creating a resource that you can then lock in subsequent tasks.\n",
        "\n",
        "1. Sign in to the Azure portal at [https://portal.azure.com](https://portal.azure.com/)\n",
        "\n",
        "2. Select Create a resource.\n",
        "\n",
        "3. Under Categories, select Storage.\n",
        "\n",
        "4. Under Storage Account, select Create.\n",
        "\n",
        "5. On the Basics tab of the Create storage account blade, fill in the following information. Leave the defaults for everything else.\n",
        "\n",
        "|Setting\t    |Value  |\n",
        "|:--    |:--    |\n",
        "|Resource group\t    |Create new |\n",
        "|Storage account name\t    |enter a unique storage account name    |\n",
        "|Location\t    |default    |\n",
        "|Performance\t    |Standard   |\n",
        "|Redundancy\t    |Locally redundant storage (LRS)    |\n",
        "\n",
        "6. Select Review + Create to review your storage account settings and allow Azure to validate the configuration.\n",
        "\n",
        "7. Once validated, select Create. Wait for the notification that the account was successfully created.\n",
        "\n",
        "8. Select Go to resource.\n",
        "\n"
      ],
      "metadata": {
        "id": "xw0t0IlaoyXC"
      }
    },
    {
      "cell_type": "markdown",
      "source": [
        "## Task 2: Apply a read-only resource lock\n",
        "In this task you apply a read-only resource lock to the storage account. What impact do you think that will have on the storage account?\n",
        "\n",
        "1. Scroll down until you find the Settings section of the blade on the left of the screen.\n",
        "\n",
        "2. Select Locks.\n",
        "\n",
        "3. Select + Add.\n",
        "\n",
        "<img src=\"https://learn.microsoft.com/en-us/training/wwl-azure/describe-features-tools-azure-for-governance-compliance/media/read-only-lock-e7777623.png\"\n",
        "    alt=\"Screenshot of the Add lock feature on a storage account set for a read-only lock.\"\n",
        "    style=\"float: left; margin-right: 10px;\" />\n",
        "\n",
        "4. Enter a Lock name.\n",
        "\n",
        "5. Verify the Lock type is set to Read-only.\n",
        "\n",
        "6. Select OK.\n",
        "\n"
      ],
      "metadata": {
        "id": "sC-2AvHIoyVA"
      }
    },
    {
      "cell_type": "markdown",
      "source": [
        "## Task 3: Add a container to the storage account\n",
        "In this task, you add a container to the storage account, this container is where you can store your blobs.\n",
        "\n",
        "1. Scroll up until you find the Data storage section of the blade on the left of the screen.\n",
        "\n",
        "2. Select Containers.\n",
        "\n",
        "3. Select + Container.\n",
        "\n",
        "<img src=\"https://learn.microsoft.com/en-us/training/wwl-azure/describe-features-tools-azure-for-governance-compliance/media/add-container-steps-a6739e88.png\"\n",
        "    alt=\"Screenshot of the add container process outlined in this task.\"\n",
        "    style=\"float: left; margin-right: 10px;\" />\n",
        "\n",
        "4. Enter a container name and select Create.\n",
        "\n",
        "5. You should receive an error message: Failed to create storage container.\n",
        "\n",
        "<img src=\"https://learn.microsoft.com/en-us/training/wwl-azure/describe-features-tools-azure-for-governance-compliance/media/failed-to-create-warning-291af699.png\"\n",
        "    alt=\"Screenshot of the Failed to create storage container error message.\"\n",
        "    style=\"float: centre;\" />\n",
        "\n",
        "> Note: The error message lets you know that you couldn't create a storage container because a lock is in place. The read-only lock prevents any create or update operations on the storage account, so you're unable to create a storage container.\n",
        "\n"
      ],
      "metadata": {
        "id": "BGlVOmu7oySs"
      }
    },
    {
      "cell_type": "markdown",
      "source": [
        "## Task 4: Modify the resource lock and create a storage container\n",
        "1. Scroll down until you find the Settings section of the blade on the left of the screen.\n",
        "\n",
        "2. Select Locks.\n",
        "\n",
        "3. Select the read-only resource lock you created.\n",
        "\n",
        "4. Change the Lock type to Delete and select OK.\n",
        "\n",
        "<img src=\"https://learn.microsoft.com/en-us/training/wwl-azure/describe-features-tools-azure-for-governance-compliance/media/resource-lock-change-e5281189.png\"\n",
        "    alt=\"Screenshot midway through task process of changing the lock type on a resource lock.\"\n",
        "    style=\"float: centre;\" />\n",
        "\n",
        "5. Scroll up until you find the Data storage section of the blade on the left of the screen.\n",
        "\n",
        "6. Select Containers.\n",
        "\n",
        "7. Select + Container.\n",
        "\n",
        "8. Enter a container name and select Create.\n",
        "\n",
        "9. Your storage container should appear in your list of containers.\n",
        "\n",
        "You can now understand how the read-only lock prevented you from adding a container to your storage account. Once the lock type was changed (you could have removed it instead), you were able to add a container.\n",
        "\n"
      ],
      "metadata": {
        "id": "6D8sx8e1oyM1"
      }
    },
    {
      "cell_type": "markdown",
      "source": [
        "## Task 5: Delete the storage account\n",
        "You'll actually do this last task twice. Remember that there is a delete lock on the storage account, so you won't actually be able to delete the storage account yet.\n",
        "\n",
        "1. Scroll up until you find Overview at the top of the blade on the left of the screen.\n",
        "\n",
        "2. Select Overview.\n",
        "\n",
        "3. Select Delete.\n",
        "\n",
        "<img src=\"https://learn.microsoft.com/en-us/training/wwl-azure/describe-features-tools-azure-for-governance-compliance/media/storage-overview-page-ec75f9e6.png\"\n",
        "    alt=\"Screenshot of the deletion process for deleting a storage account.\"\n",
        "    style=\"float: left; margin-right: 10px;\" />\n",
        "\n",
        "You should get a notification letting you know you can't delete the resource because it has a delete lock. In order to delete the storage account, you'll need to remove the delete lock.\n",
        "\n",
        "<img src=\"https://learn.microsoft.com/en-us/training/wwl-azure/describe-features-tools-azure-for-governance-compliance/media/storage-delete-lock-warning-5ea6faa5.png\"\n",
        "    alt=\"Screenshot of the Delete storage account error, explaining that a resource lock prevents deletion.\"\n",
        "    style=\"float: centre;\" />\n",
        "\n"
      ],
      "metadata": {
        "id": "vbzgHKeYoyJb"
      }
    },
    {
      "cell_type": "markdown",
      "source": [
        "## Task 6: Remove the delete lock and delete the storage account\n",
        "In the final task, you remove the resource lock and delete the storage account from your Azure account. This step is important. You want to make sure you don't have any idle resource just sitting in your account.\n",
        "\n",
        "1. Select your storage account name in the breadcrumb at the top of the screen.\n",
        "\n",
        "2. Scroll down until you find the Settings section of the blade on the left of the screen.\n",
        "\n",
        "3. Select Locks.\n",
        "\n",
        "4. Select Delete.\n",
        "\n",
        "5. Select Home in the breadcrumb at the top of the screen.\n",
        "\n",
        "6. Select Storage accounts\n",
        "\n",
        "7. Select the storage account you used for this exercise.\n",
        "\n",
        "8. Select Delete.\n",
        "\n",
        "9. To prevent accidental deletion, Azure prompts you to enter the name of the storage account you want to delete. Enter the name of the storage account and select Delete.\n",
        "\n",
        "<img src=\"https://learn.microsoft.com/en-us/training/wwl-azure/describe-features-tools-azure-for-governance-compliance/media/storage-account-delete-f4d60c3b.png\"\n",
        "    alt=\"Screenshot of the deletion confirmation message before deleting a storage account.\"\n",
        "    style=\"float: left; margin-right: 10px;\" />\n",
        "\n",
        "10. You should receive a message that the storage account was deleted. If you go Home > Storage accounts, you should see that the storage account you created for this exercise is gone.\n",
        "\n",
        "Congratulations! You've completed configuring, updating, and removing a resource lock on an Azure resource.\n",
        "\n",
        "> Important: Make sure you complete Task 6, the removal of the storage account. You are solely responsible for the resources in your Azure account. Make sure you clean up your account after completing this exercise.\n",
        "\n"
      ],
      "metadata": {
        "id": "YkPaAbjaoyHC"
      }
    },
    {
      "cell_type": "markdown",
      "source": [
        "## Next unit: Describe the purpose of the Service Trust portal\n",
        "\n"
      ],
      "metadata": {
        "id": "SGzS5qYEoyEq"
      }
    },
    {
      "cell_type": "markdown",
      "source": [
        "# Unit 6 of 8\n",
        "\n"
      ],
      "metadata": {
        "id": "T084PZJ6oyCY"
      }
    },
    {
      "cell_type": "markdown",
      "source": [
        "## Describe the purpose of the Service Trust portal\n",
        "The Microsoft Service Trust Portal is a portal that provides access to various content, tools, and other resources about Microsoft security, privacy, and compliance practices.\n",
        "\n",
        "The Service Trust Portal contains details about Microsoft's implementation of controls and processes that protect our cloud services and the customer data therein. To access some of the resources on the Service Trust Portal, you must sign in as an authenticated user with your Microsoft cloud services account (Microsoft Entra organization account). You'll need to review and accept the Microsoft non-disclosure agreement for compliance materials.\n",
        "\n"
      ],
      "metadata": {
        "id": "zv0wc3xPoyAO"
      }
    },
    {
      "cell_type": "markdown",
      "source": [
        "## Accessing the Service Trust Portal\n",
        "You can access the Service Trust Portal at [https://servicetrust.microsoft.com/](https://servicetrust.microsoft.com/).\n",
        "\n",
        "<img src=\"https://learn.microsoft.com/en-us/training/wwl-azure/describe-features-tools-azure-for-governance-compliance/media/service-trust-portal-f7b27e61.png\"\n",
        "    alt=\"Screenshot of the service trust portal with the main menu items visible.\"\n",
        "    style=\"float: left; margin-right: 10px;\" />\n",
        "\n",
        "The Service Trust Portal features and content are accessible from the main menu. The categories on the main menu are:\n",
        "\n",
        "- **Service Trust Portal** provides a quick access hyperlink to return to the Service Trust Portal home page.\n",
        "- **My Library** lets you save (or pin) documents to quickly access them on your My Library page. You can also set up to receive notifications when documents in your My Library are updated.\n",
        "- **All Documents** is a single landing place for documents on the service trust portal. From **All Documents**, you can pin documents to have them show up in your **My Library**.\n",
        "\n",
        "> Note: Service Trust Portal reports and documents are available to download for at least 12 months after publishing or until a new version of document becomes available.\n",
        "\n"
      ],
      "metadata": {
        "id": "7kz_Fz17ox94"
      }
    },
    {
      "cell_type": "markdown",
      "source": [
        "## Next unit: Knowledge Check\n",
        "\n"
      ],
      "metadata": {
        "id": "zw_MYOz-ox7r"
      }
    },
    {
      "cell_type": "markdown",
      "source": [
        "# Unit 7 of 8\n",
        "\n"
      ],
      "metadata": {
        "id": "XWkMkxGoox5B"
      }
    },
    {
      "cell_type": "markdown",
      "source": [
        "## Knowledge Check\n",
        "Choose the best response for each question. Then select Check your answers.\n",
        "\n"
      ],
      "metadata": {
        "id": "I97MCY-Cox2-"
      }
    },
    {
      "cell_type": "markdown",
      "source": [
        "## Check your knowledge\n",
        "\n",
        "1. How can you prevent creation of non-compliant resources, without having to manually evaluate each resource?\n",
        "- [✅] Azure Policy\n",
        "> Correct. Azure policy lets you create policies and initiatives (groups of policies) that prevent non-compliant resource from being created.\n",
        "- [❌] Azure Purview\n",
        "- [❌] Azure Resource Monitor\n",
        "\n",
        "2. What's the best way to prevent inadvertent deletion of a resource?\n",
        "- [❌] Azure Policy\n",
        "- [❌] Microsoft Purview\n",
        "- [✅] Azure resource locks\n",
        "> Correct. A resource lock can be used to prevent a resource from accidentally being deleted.\n",
        "\n"
      ],
      "metadata": {
        "id": "kccALBfcox0l"
      }
    },
    {
      "cell_type": "markdown",
      "source": [
        "## Next unit: Summary\n",
        "\n"
      ],
      "metadata": {
        "id": "CqBAn1E5oxx8"
      }
    },
    {
      "cell_type": "markdown",
      "source": [
        "# Unit 8 of 8\n",
        "\n"
      ],
      "metadata": {
        "id": "JARcerU3oxvq"
      }
    },
    {
      "cell_type": "markdown",
      "source": [
        "## Summary\n",
        "In this module, you learned about some of the features and tools you can use to help with governance of your Azure environment. You also learned about tools you can use to help keep resources in compliance with corporate or regulatory requirements.\n",
        "\n"
      ],
      "metadata": {
        "id": "95RhDPeroxtV"
      }
    },
    {
      "cell_type": "markdown",
      "source": [
        "## Learning objectives\n",
        "You should now be able to:\n",
        "\n",
        "- Describe the purpose of Microsoft Purview.\n",
        "- Describe the purpose of Azure Policy.\n",
        "- Describe the purpose of resource locks.\n",
        "- Describe the purpose of the Service Trust portal.\n",
        "\n"
      ],
      "metadata": {
        "id": "p7JflySDoxq-"
      }
    },
    {
      "cell_type": "markdown",
      "source": [
        "## Additional resources\n",
        "The following resources provide more information on topics in this module or related to this module.\n",
        "\n",
        "- [Intro to Azure Policy](https://learn.microsoft.com/en-us/learn/modules/intro-to-azure-policy/) is a Microsoft Learn module that introduces you further to Azure Policy.\n",
        "\n"
      ],
      "metadata": {
        "id": "Di6V2QQVoxol"
      }
    }
  ]
}