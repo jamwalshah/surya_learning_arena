{
  "nbformat": 4,
  "nbformat_minor": 0,
  "metadata": {
    "colab": {
      "provenance": [],
      "toc_visible": true
    },
    "kernelspec": {
      "name": "python3",
      "display_name": "Python 3"
    },
    "language_info": {
      "name": "python"
    }
  },
  "cells": [
    {
      "cell_type": "markdown",
      "source": [
        "# Unit 1 of 8\n",
        "\n"
      ],
      "metadata": {
        "id": "z4g_36JZlVzd"
      }
    },
    {
      "cell_type": "markdown",
      "source": [
        "## Introduction\n",
        "In this module, you’ll be introduced to some of the features and tools you can use to help with governance of your Azure environment. You’ll also learn about tools you can use to help keep resources in compliance with corporate or regulatory requirements.\n",
        "\n"
      ],
      "metadata": {
        "id": "pDzbtU1olVv2"
      }
    },
    {
      "cell_type": "markdown",
      "source": [
        "## Learning objectives\n",
        "After completing this module, you’ll be able to:\n",
        "\n",
        "- Describe the purpose of Microsoft Purview.\n",
        "- Describe the purpose of Azure Policy.\n",
        "- Describe the purpose of resource locks.\n",
        "- Describe the purpose of the Service Trust portal.\n",
        "\n"
      ],
      "metadata": {
        "id": "DRbx99dblVuP"
      }
    },
    {
      "cell_type": "markdown",
      "source": [
        "## Next unit: Describe the purpose of Microsoft Purview\n",
        "\n"
      ],
      "metadata": {
        "id": "4odpbOtNlVrk"
      }
    },
    {
      "cell_type": "markdown",
      "source": [
        "# Unit 2 of 8\n",
        "\n"
      ],
      "metadata": {
        "id": "PdYNe22ylVpW"
      }
    },
    {
      "cell_type": "markdown",
      "source": [
        "## Describe the purpose of Microsoft Purview\n",
        "Microsoft Purview is a family of data governance, risk, and compliance solutions that helps you get a single, unified view into your data. Microsoft Purview brings insights about your on-premises, multicloud, and software-as-a-service data together.\n",
        "\n",
        "With Microsoft Purview, you can stay up-to-date on your data landscape thanks to:\n",
        "\n",
        "- Automated data discovery\n",
        "- Sensitive data classification\n",
        "- End-to-end data lineage\n",
        "\n",
        "Two main solution areas comprise Microsoft Purview: risk and compliance and unified data governance.\n",
        "\n",
        "<img src=\"https://learn.microsoft.com/en-us/training/wwl-azure/describe-features-tools-azure-for-governance-compliance/media/purview-solution-areas-ceb1bedf.png\"\n",
        "    alt=\"Illustration showing the main areas for Microsoft Purview.\"\n",
        "    style=\"float: left; margin-right: 10px;\" />\n",
        "\n"
      ],
      "metadata": {
        "id": "igSxsJhFlVm9"
      }
    },
    {
      "cell_type": "markdown",
      "source": [
        "## Microsoft Purview risk and compliance solutions\n",
        "Microsoft 365 features as a core component of the Microsoft Purview risk and compliance solutions. Microsoft Teams, OneDrive, and Exchange are just some of the Microsoft 365 services that Microsoft Purview uses to help manage and monitor your data. Microsoft Purview, by managing and monitoring your data, is able to help your organization:\n",
        "\n",
        "- Protect sensitive data across clouds, apps, and devices.\n",
        "- Identify data risks and manage regulatory compliance requirements.\n",
        "- Get started with regulatory compliance.\n",
        "\n"
      ],
      "metadata": {
        "id": "cNH-56u4l0o5"
      }
    },
    {
      "cell_type": "markdown",
      "source": [
        "## Unified data governance\n",
        "Microsoft Purview has robust, unified data governance solutions that help manage your on-premises, multicloud, and software as a service data. Microsoft Purview’s robust data governance capabilities enable you to manage your data stored in Azure, SQL and Hive databases, locally, and even in other clouds like Amazon S3.\n",
        "\n",
        "Microsoft Purview’s unified data governance helps your organization:\n",
        "\n",
        "- Create an up-to-date map of your entire data estate that includes data classification and end-to-end lineage.\n",
        "- Identify where sensitive data is stored in your estate.\n",
        "- Create a secure environment for data consumers to find valuable data.\n",
        "- Generate insights about how your data is stored and used.\n",
        "- Manage access to the data in your estate securely and at scale.\n",
        "\n"
      ],
      "metadata": {
        "id": "8HtulbE1l0la"
      }
    },
    {
      "cell_type": "markdown",
      "source": [
        "## Next unit: Describe the purpose of Azure Policy\n",
        "\n"
      ],
      "metadata": {
        "id": "uh78Ao_pl0jG"
      }
    },
    {
      "cell_type": "markdown",
      "source": [
        "# Unit 3 of 8\n",
        "\n"
      ],
      "metadata": {
        "id": "ekdV1ZGql0gv"
      }
    },
    {
      "cell_type": "markdown",
      "source": [
        "## Describe the purpose of Azure Policy\n",
        "How do you ensure that your resources stay compliant? Can you be alerted if a resource's configuration has changed?\n",
        "\n",
        "Azure Policy is a service in Azure that enables you to create, assign, and manage policies that control or audit your resources. These policies enforce different rules across your resource configurations so that those configurations stay compliant with corporate standards.\n",
        "\n"
      ],
      "metadata": {
        "id": "47nURwWel0eS"
      }
    },
    {
      "cell_type": "markdown",
      "source": [
        "## How does Azure Policy define policies?\n",
        "Azure Policy enables you to define both individual policies and groups of related policies, known as initiatives. Azure Policy evaluates your resources and highlights resources that aren't compliant with the policies you've created. Azure Policy can also prevent noncompliant resources from being created.\n",
        "\n",
        "Azure Policies can be set at each level, enabling you to set policies on a specific resource, resource group, subscription, and so on. Additionally, Azure Policies are inherited, so if you set a policy at a high level, it will automatically be applied to all of the groupings that fall within the parent. For example, if you set an Azure Policy on a resource group, all resources created within that resource group will automatically receive the same policy.\n",
        "\n",
        "Azure Policy comes with built-in policy and initiative definitions for Storage, Networking, Compute, Security Center, and Monitoring. For example, if you define a policy that allows only a certain size for the virtual machines (VMs) to be used in your environment, that policy is invoked when you create a new VM and whenever you resize existing VMs. Azure Policy also evaluates and monitors all current VMs in your environment, including VMs that were created before the policy was created.\n",
        "\n",
        "In some cases, Azure Policy can automatically remediate noncompliant resources and configurations to ensure the integrity of the state of the resources. For example, if all resources in a certain resource group should be tagged with AppName tag and a value of \"SpecialOrders,\" Azure Policy will automatically apply that tag if it is missing. However, you still retain full control of your environment. If you have a specific resource that you don’t want Azure Policy to automatically fix, you can flag that resource as an exception – and the policy won’t automatically fix that resource.\n",
        "\n",
        "Azure Policy also integrates with Azure DevOps by applying any continuous integration and delivery pipeline policies that pertain to the pre-deployment and post-deployment phases of your applications.\n",
        "\n"
      ],
      "metadata": {
        "id": "fWhlomY4mlj_"
      }
    },
    {
      "cell_type": "markdown",
      "source": [
        "## What are Azure Policy initiatives?\n",
        "An Azure Policy initiative is a way of grouping related policies together. The initiative definition contains all of the policy definitions to help track your compliance state for a larger goal.\n",
        "\n",
        "For example, Azure Policy includes an initiative named Enable Monitoring in Azure Security Center. Its goal is to monitor all available security recommendations for all Azure resource types in Azure Security Center.\n",
        "\n",
        "Under this initiative, the following policy definitions are included:\n",
        "\n",
        "- **Monitor unencrypted SQL Database in Security Center** This policy monitors for unencrypted SQL databases and servers.\n",
        "- **Monitor OS vulnerabilities in Security Center** This policy monitors servers that don't satisfy the configured OS vulnerability baseline.\n",
        "- **Monitor missing Endpoint Protection in Security Center** This policy monitors for servers that don't have an installed endpoint protection agent.\n",
        "\n",
        "In fact, the Enable Monitoring in Azure Security Center initiative contains over 100 separate policy definitions.\n",
        "\n"
      ],
      "metadata": {
        "id": "7jGhLyksmlgi"
      }
    },
    {
      "cell_type": "markdown",
      "source": [
        "## Next unit: Describe the purpose of resource locks\n",
        "\n"
      ],
      "metadata": {
        "id": "i6w8XRbImleL"
      }
    },
    {
      "cell_type": "markdown",
      "source": [
        "# Unit 4 of 8\n",
        "\n"
      ],
      "metadata": {
        "id": "eEl6RmrpmlcC"
      }
    },
    {
      "cell_type": "markdown",
      "source": [
        "## Describe the purpose of resource locks\n",
        "A resource lock prevents resources from being accidentally deleted or changed.\n",
        "\n",
        "Even with Azure role-based access control (Azure RBAC) policies in place, there's still a risk that people with the right level of access could delete critical cloud resources. Resource locks prevent resources from being deleted or updated, depending on the type of lock. Resource locks can be applied to individual resources, resource groups, or even an entire subscription. Resource locks are inherited, meaning that if you place a resource lock on a resource group, all of the resources within the resource group will also have the resource lock applied.\n",
        "\n"
      ],
      "metadata": {
        "id": "4W7mSFicmlZq"
      }
    },
    {
      "cell_type": "markdown",
      "source": [
        "## Types of Resource Locks\n",
        "There are two types of resource locks, one that prevents users from deleting and one that prevents users from changing or deleting a resource.\n",
        "\n",
        "- Delete means authorized users can still read and modify a resource, but they can't delete the resource.\n",
        "- ReadOnly means authorized users can read a resource, but they can't delete or update the resource. Applying this lock is similar to restricting all authorized users to the permissions granted by the Reader role.\n",
        "\n"
      ],
      "metadata": {
        "id": "yEMBfY-Ann91"
      }
    },
    {
      "cell_type": "markdown",
      "source": [
        "## How do I manage resource locks?\n",
        "You can manage resource locks from the Azure portal, PowerShell, the Azure CLI, or from an Azure Resource Manager template.\n",
        "\n",
        "To view, add, or delete locks in the Azure portal, go to the Settings section of any resource's Settings pane in the Azure portal.\n",
        "\n",
        "<img src=\"https://learn.microsoft.com/en-us/training/wwl-azure/describe-features-tools-azure-for-governance-compliance/media/resource-lock-54695e43.png\"\n",
        "    alt=\"A screenshot showing the resource lock control, under settings, for a storage account.\"\n",
        "    style=\"float: left; margin-right: 10px;\" />\n",
        "\n"
      ],
      "metadata": {
        "id": "hi2VgbZsnn6X"
      }
    },
    {
      "cell_type": "markdown",
      "source": [
        "## How do I delete or change a locked resource?\n",
        "Although locking helps prevent accidental changes, you can still make changes by following a two-step process.\n",
        "\n",
        "To modify a locked resource, you must first remove the lock. After you remove the lock, you can apply any action you have permissions to perform. Resource locks apply regardless of RBAC permissions. Even if you're an owner of the resource, you must still remove the lock before you can perform the blocked activity.\n",
        "\n"
      ],
      "metadata": {
        "id": "5rZAx0QKnn4E"
      }
    },
    {
      "cell_type": "markdown",
      "source": [
        "## Next unit: Exercise - Configure a resource lock\n",
        "\n"
      ],
      "metadata": {
        "id": "iunFIUOXnn11"
      }
    },
    {
      "cell_type": "markdown",
      "source": [
        "# Unit 5 of 8\n",
        "\n"
      ],
      "metadata": {
        "id": "qDKBKgezl0bi"
      }
    },
    {
      "cell_type": "code",
      "source": [],
      "metadata": {
        "id": "Y_v42GZvobtr"
      },
      "execution_count": null,
      "outputs": []
    }
  ]
}