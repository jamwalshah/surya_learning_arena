{
  "nbformat": 4,
  "nbformat_minor": 0,
  "metadata": {
    "colab": {
      "provenance": [],
      "toc_visible": true
    },
    "kernelspec": {
      "name": "python3",
      "display_name": "Python 3"
    },
    "language_info": {
      "name": "python"
    }
  },
  "cells": [
    {
      "cell_type": "markdown",
      "source": [
        "# Unit 1 of 6\n",
        "\n"
      ],
      "metadata": {
        "id": "fUAIpgFN8w6s"
      }
    },
    {
      "cell_type": "markdown",
      "source": [
        "## Introduction\n",
        "This module introduces you to features and tools for managing and deploying Azure resources. You learn about the Azure portal (a graphic interface for managing Azure resources), the command line, and scripting tools that help deploy or configure resources. You also learn about Azure services that help you manage your on-premises and multicloud environments from within Azure.\n",
        "\n"
      ],
      "metadata": {
        "id": "MbIARHD58w3S"
      }
    },
    {
      "cell_type": "markdown",
      "source": [
        "## Learning objectives\n",
        "After completing this module, you’ll be able to:\n",
        "\n",
        "- Describe the Azure portal.\n",
        "- Describe Azure Cloud Shell, including Azure CLI and Azure PowerShell.\n",
        "- Describe the purpose of Azure Arc.\n",
        "- Describe Azure Resource Manager (ARM), ARM templates, and Bicep.\n",
        "\n"
      ],
      "metadata": {
        "id": "KyRWncTG8w0n"
      }
    },
    {
      "cell_type": "markdown",
      "source": [
        "## Next unit: Describe tools for interacting with Azure\n",
        "\n"
      ],
      "metadata": {
        "id": "U59lM3zx8wx8"
      }
    },
    {
      "cell_type": "markdown",
      "source": [
        "# Unit 2 of 6\n",
        "\n"
      ],
      "metadata": {
        "id": "A2cFr3738wvT"
      }
    },
    {
      "cell_type": "markdown",
      "source": [
        "## Describe tools for interacting with Azure\n",
        "To get the most out of Azure, you need a way to interact with the Azure environment, the management groups, subscriptions, resource groups, resources, and so on. Azure provides multiple tools for managing your environment, including the:\n",
        "\n",
        "- Azure portal\n",
        "- Azure PowerShell\n",
        "- Azure Command Line Interface (CLI)\n",
        "\n"
      ],
      "metadata": {
        "id": "B4BKjQ838ws4"
      }
    },
    {
      "cell_type": "markdown",
      "source": [
        "### What is the Azure portal?\n",
        "The Azure portal is a web-based, unified console that provides an alternative to command-line tools. With the Azure portal, you can manage your Azure subscription by using a graphical user interface. You can:\n",
        "\n",
        "- Build, manage, and monitor everything from simple web apps to complex cloud deployments\n",
        "- Create custom dashboards for an organized view of resources\n",
        "- Configure accessibility options for an optimal experience\n",
        "\n",
        "The following video introduces you to the Azure portal:\n",
        "\n"
      ],
      "metadata": {
        "id": "wbrI6aq78wqN"
      }
    },
    {
      "cell_type": "code",
      "source": [
        "from IPython.display import HTML\n",
        "\n",
        "# Embedding the video link using HTML iframe\n",
        "video_url = 'https://www.microsoft.com/en-us/videoplayer/embed/RE4ICN6?postJsllMsg=true'\n",
        "embed_code = f'<iframe width=\"560\" height=\"315\" src=\"{video_url}\" frameborder=\"0\" allowfullscreen></iframe>'\n",
        "HTML(embed_code)"
      ],
      "metadata": {
        "colab": {
          "base_uri": "https://localhost:8080/",
          "height": 371
        },
        "id": "S3BGHQxA9WOP",
        "outputId": "6dbbaf85-afda-440c-8374-05ce50d5adb1"
      },
      "execution_count": 1,
      "outputs": [
        {
          "output_type": "stream",
          "name": "stderr",
          "text": [
            "C:\\Users\\surya\\AppData\\Local\\Programs\\Python\\Python312\\Lib\\site-packages\\IPython\\core\\display.py:431: UserWarning: Consider using IPython.display.IFrame instead\n",
            "  warnings.warn(\"Consider using IPython.display.IFrame instead\")\n"
          ]
        },
        {
          "output_type": "execute_result",
          "data": {
            "text/plain": [
              "<IPython.core.display.HTML object>"
            ],
            "text/html": [
              "<iframe width=\"560\" height=\"315\" src=\"https://www.microsoft.com/en-us/videoplayer/embed/RE4ICN6?postJsllMsg=true\" frameborder=\"0\" allowfullscreen></iframe>"
            ]
          },
          "metadata": {},
          "execution_count": 1
        }
      ]
    },
    {
      "cell_type": "markdown",
      "source": [
        "The Azure portal is designed for resiliency and continuous availability. It maintains a presence in every Azure datacenter. This configuration makes the Azure portal resilient to individual datacenter failures and avoids network slowdowns by being close to users. The Azure portal updates continuously and requires no downtime for maintenance activities.\n",
        "\n"
      ],
      "metadata": {
        "id": "H2ZNFYul8wnz"
      }
    },
    {
      "cell_type": "markdown",
      "source": [
        "#### Azure Cloud Shell\n",
        "Azure Cloud Shell is a browser-based shell tool that allows you to create, configure, and manage Azure resources using a shell. Azure Cloud Shell support both Azure PowerShell and the Azure Command Line Interface (CLI), which is a Bash shell.\n",
        "\n",
        "You can access Azure Cloud Shell via the Azure portal by selecting the Cloud Shell icon:\n",
        "\n",
        "<img src=\"https://learn.microsoft.com/en-us/training/wwl-azure/describe-features-tools-manage-deploy-azure-resources/media/cloud-shell-icon-dbf37a88.png\"\n",
        "    alt=\"Screenshot of the Azure portal with the Cloud Shell icon emphasized.\"\n",
        "    style=\"float: left; margin-right: 10px;\" />\n",
        "\n",
        "Azure Cloud Shell has several features that make it a unique offering to support you in managing Azure. Some of those features are:\n",
        "\n",
        "- It is a browser-based shell experience, with no local installation or configuration required.\n",
        "- It is authenticated to your Azure credentials, so when you log in it inherently knows who you are and what permissions you have.\n",
        "- You choose the shell you’re most familiar with; Azure Cloud Shell supports both Azure PowerShell and the Azure CLI (which uses Bash).\n",
        "\n"
      ],
      "metadata": {
        "id": "u3_IONom8wlS"
      }
    },
    {
      "cell_type": "markdown",
      "source": [
        "### What is Azure PowerShell?\n",
        "Azure PowerShell is a shell with which developers, DevOps, and IT professionals can run commands called command-lets (cmdlets). These commands call the Azure REST API to perform management tasks in Azure. Cmdlets can be run independently to handle one-off changes, or they may be combined to help orchestrate complex actions such as:\n",
        "\n",
        "- The routine setup, teardown, and maintenance of a single resource or multiple connected resources.\n",
        "- The deployment of an entire infrastructure, which might contain dozens or hundreds of resources, from imperative code.\n",
        "\n",
        "Capturing the commands in a script makes the process repeatable and automatable.\n",
        "\n",
        "In addition to be available via Azure Cloud Shell, you can install and configure Azure PowerShell on Windows, Linux, and Mac platforms.\n",
        "\n"
      ],
      "metadata": {
        "id": "erZ-B6Wh8wi2"
      }
    },
    {
      "cell_type": "markdown",
      "source": [
        "### What is the Azure CLI?\n",
        "The Azure CLI is functionally equivalent to Azure PowerShell, with the primary difference being the syntax of commands. While Azure PowerShell uses PowerShell commands, the Azure CLI uses Bash commands.\n",
        "\n",
        "The Azure CLI provides the same benefits of handling discrete tasks or orchestrating complex operations through code. It’s also installable on Windows, Linux, and Mac platforms, as well as through Azure Cloud Shell.\n",
        "\n",
        "Due to the similarities in capabilities and access between Azure PowerShell and the Bash based Azure CLI, it mainly comes down to which language you’re most familiar with.\n",
        "\n"
      ],
      "metadata": {
        "id": "ClXCk3Vz8wgV"
      }
    },
    {
      "cell_type": "markdown",
      "source": [
        "## Next unit: Describe the purpose of Azure Arc\n",
        "\n"
      ],
      "metadata": {
        "id": "H6-cM_7m8weC"
      }
    },
    {
      "cell_type": "markdown",
      "source": [
        "# Unit 3 of 6\n",
        "\n"
      ],
      "metadata": {
        "id": "cTxlYF7g8wbk"
      }
    },
    {
      "cell_type": "markdown",
      "source": [
        "## Describe the purpose of Azure Arc\n",
        "Managing hybrid and multi-cloud environments can rapidly get complicated. Azure provides a host of tools to provision, configure, and monitor Azure resources. What about the on-premises resources in a hybrid configuration or the cloud resources in a multi-cloud configuration?\n",
        "\n",
        "In utilizing Azure Resource Manager (ARM), Arc lets you extend your Azure compliance and monitoring to your hybrid and multi-cloud configurations. Azure Arc simplifies governance and management by delivering a consistent multi-cloud and on-premises management platform.\n",
        "\n",
        "Azure Arc provides a centralized, unified way to:\n",
        "\n",
        "- Manage your entire environment together by projecting your existing non-Azure resources into ARM.\n",
        "- Manage multi-cloud and hybrid virtual machines, Kubernetes clusters, and databases as if they are running in Azure.\n",
        "- Use familiar Azure services and management capabilities, regardless of where they live.\n",
        "- Continue using traditional ITOps while introducing DevOps practices to support new cloud and native patterns in your environment.\n",
        "- Configure custom locations as an abstraction layer on top of Azure Arc-enabled Kubernetes clusters and cluster extensions.\n",
        "\n"
      ],
      "metadata": {
        "id": "2xZ85R-t8wZn"
      }
    },
    {
      "cell_type": "markdown",
      "source": [
        "## What can Azure Arc do outside of Azure?\n",
        "Currently, Azure Arc allows you to manage the following resource types hosted outside of Azure:\n",
        "\n",
        "- Servers\n",
        "- Kubernetes clusters\n",
        "- Azure data services\n",
        "- SQL Server\n",
        "- Virtual machines (preview)\n",
        "\n"
      ],
      "metadata": {
        "id": "XPD_HXdM8wW0"
      }
    },
    {
      "cell_type": "markdown",
      "source": [
        "## Next unit: Describe Azure Resource Manager and Azure ARM templates\n",
        "\n"
      ],
      "metadata": {
        "id": "ZyVMo9mm-Ss-"
      }
    },
    {
      "cell_type": "markdown",
      "source": [
        "# Unit 4 of 6\n",
        "\n"
      ],
      "metadata": {
        "id": "RDXbF8j2-SpY"
      }
    },
    {
      "cell_type": "markdown",
      "source": [
        "## Describe Azure Resource Manager and Azure ARM templates\n",
        "Azure Resource Manager (ARM) is the deployment and management service for Azure. It provides a management layer that enables you to create, update, and delete resources in your Azure account. Anytime you do anything with your Azure resources, ARM is involved.\n",
        "\n",
        "When a user sends a request from any of the Azure tools, APIs, or SDKs, ARM receives the request. ARM authenticates and authorizes the request. Then, ARM sends the request to the Azure service, which takes the requested action. You see consistent results and capabilities in all the different tools because all requests are handled through the same API.\n",
        "\n"
      ],
      "metadata": {
        "id": "-DBGR-up-Sm5"
      }
    },
    {
      "cell_type": "markdown",
      "source": [
        "## Azure Resource Manager benefits\n",
        "With Azure Resource Manager, you can:\n",
        "\n",
        "- Manage your infrastructure through declarative templates rather than scripts. A Resource Manager template is a JSON file that defines what you want to deploy to Azure.\n",
        "- Deploy, manage, and monitor all the resources for your solution as a group, rather than handling these resources individually.\n",
        "- Re-deploy your solution throughout the development life-cycle and have confidence your resources are deployed in a consistent state.\n",
        "- Define the dependencies between resources, so they're deployed in the correct order.\n",
        "- Apply access control to all services because RBAC is natively integrated into the management platform.\n",
        "- Apply tags to resources to logically organize all the resources in your subscription.\n",
        "- Clarify your organization's billing by viewing costs for a group of resources that share the same tag.\n",
        "\n",
        "The following video provides an overview of Azure Resource Manager.\n",
        "\n"
      ],
      "metadata": {
        "id": "adaX5K1b-SkN"
      }
    },
    {
      "cell_type": "code",
      "source": [
        "from IPython.display import HTML\n",
        "\n",
        "# Embedding the video link using HTML iframe\n",
        "video_url = 'https://learn-video.azurefd.net/vod/player?id=d257e6ec-abab-47f4-a209-22049e7a40b4'\n",
        "embed_code = f'<iframe width=\"560\" height=\"315\" src=\"{video_url}\" frameborder=\"0\" allowfullscreen></iframe>'\n",
        "HTML(embed_code)"
      ],
      "metadata": {
        "colab": {
          "base_uri": "https://localhost:8080/",
          "height": 336
        },
        "id": "cjYqF_bq_Ia1",
        "outputId": "76a3e17b-d8c0-4f7c-b242-9de20a86bdf0"
      },
      "execution_count": 2,
      "outputs": [
        {
          "output_type": "execute_result",
          "data": {
            "text/plain": [
              "<IPython.core.display.HTML object>"
            ],
            "text/html": [
              "<iframe width=\"560\" height=\"315\" src=\"https://learn-video.azurefd.net/vod/player?id=d257e6ec-abab-47f4-a209-22049e7a40b4\" frameborder=\"0\" allowfullscreen></iframe>"
            ]
          },
          "metadata": {},
          "execution_count": 2
        }
      ]
    },
    {
      "cell_type": "markdown",
      "source": [
        "## Infrastructure as code\n",
        "Infrastructure as code is a concept where you manage your infrastructure as lines of code. At an introductory level, it's things like using Azure Cloud Shell, Azure PowerShell, or the Azure CLI to manage and configure your resources. As you get more comfortable in the cloud, you can use the infrastructure as code concept to manage entire deployments using repeatable templates and configurations. ARM templates and Bicep are two examples of using infrastructure as code with the Azure Resource Manager to maintain your environment.\n",
        "\n"
      ],
      "metadata": {
        "id": "JOJSZjVE-SiH"
      }
    },
    {
      "cell_type": "markdown",
      "source": [
        "### ARM templates\n",
        "By using ARM templates, you can describe the resources you want to use in a declarative JSON format. With an ARM template, the deployment code is verified before any code is run. This ensures that the resources will be created and connected correctly. The template then orchestrates the creation of those resources in parallel. That is, if you need 50 instances of the same resource, all 50 instances are created at the same time.\n",
        "\n",
        "Ultimately, the developer, DevOps professional, or IT professional needs only to define the desired state and configuration of each resource in the ARM template, and the template does the rest. Templates can even execute PowerShell and Bash scripts before or after the resource has been set up.\n",
        "\n"
      ],
      "metadata": {
        "id": "qW0q3dap-Sfg"
      }
    },
    {
      "cell_type": "markdown",
      "source": [
        "#### Benefits of using ARM templates\n",
        "ARM templates provide many benefits when planning for deploying Azure resources. Some of those benefits include:\n",
        "\n",
        "- **Declarative syntax:** ARM templates allow you to create and deploy an entire Azure infrastructure declaratively. Declarative syntax means you declare what you want to deploy but don’t need to write the actual programming commands and sequence to deploy the resources.\n",
        "- **Repeatable results:** Repeatedly deploy your infrastructure throughout the development lifecycle and have confidence your resources are deployed in a consistent manner. You can use the same ARM template to deploy multiple dev/test environments, knowing that all the environments are the same.\n",
        "- **Orchestration:** You don't have to worry about the complexities of ordering operations. Azure Resource Manager orchestrates the deployment of interdependent resources, so they're created in the correct order. When possible, Azure Resource Manager deploys resources in parallel, so your deployments finish faster than serial deployments. You deploy the template through one command, rather than through multiple imperative commands.\n",
        "- **Modular files:** You can break your templates into smaller, reusable components and link them together at deployment time. You can also nest one template inside another template. For example, you could create a template for a VM stack, and then nest that template inside of templates that deploy entire environments, and that VM stack will consistently be deployed in each of the environment templates.\n",
        "- **Extensibility:** With deployment scripts, you can add PowerShell or Bash scripts to your templates. The deployment scripts extend your ability to set up resources during deployment. A script can be included in the template or stored in an external source and referenced in the template. Deployment scripts give you the ability to complete your end-to-end environment setup in a single ARM template.\n",
        "\n"
      ],
      "metadata": {
        "id": "keRN06Hz-Sc7"
      }
    },
    {
      "cell_type": "markdown",
      "source": [
        "### Bicep\n",
        "Bicep is a language that uses declarative syntax to deploy Azure resources. A Bicep file defines the infrastructure and configuration. Then, ARM deploys that environment based on your Bicep file. While similar to an ARM template, which is written in JSON, Bicep files tend to use a simpler, more concise style.\n",
        "\n",
        "Some benefits of Bicep are:\n",
        "\n",
        "- **Support for all resource types and API versions:** Bicep immediately supports all preview and GA versions for Azure services. As soon as a resource provider introduces new resource types and API versions, you can use them in your Bicep file. You don't have to wait for tools to be updated before using the new services.\n",
        "- **Simple syntax:** When compared to the equivalent JSON template, Bicep files are more concise and easier to read. Bicep requires no previous knowledge of programming languages. Bicep syntax is declarative and specifies which resources and resource properties you want to deploy.\n",
        "- **Repeatable results:** Repeatedly deploy your infrastructure throughout the development lifecycle and have confidence your resources are deployed in a consistent manner. Bicep files are idempotent, which means you can deploy the same file many times and get the same resource types in the same state. You can develop one file that represents the desired state, rather than developing lots of separate files to represent updates.\n",
        "- **Orchestration:** You don't have to worry about the complexities of ordering operations. Resource Manager orchestrates the deployment of interdependent resources so they're created in the correct order. When possible, Resource Manager deploys resources in parallel so your deployments finish faster than serial deployments. You deploy the file through one command, rather than through multiple imperative commands.\n",
        "- **Modularity:** You can break your Bicep code into manageable parts by using modules. The module deploys a set of related resources. Modules enable you to reuse code and simplify development. Add the module to a Bicep file anytime you need to deploy those resources.\n",
        "\n"
      ],
      "metadata": {
        "id": "l3qNx96xABVE"
      }
    },
    {
      "cell_type": "markdown",
      "source": [
        "## Next unit: Knowledge check\n",
        "\n"
      ],
      "metadata": {
        "id": "p6adRo6QABIr"
      }
    },
    {
      "cell_type": "markdown",
      "source": [
        "# Unit 5 of 6\n",
        "\n"
      ],
      "metadata": {
        "id": "Njg20vBpABFJ"
      }
    },
    {
      "cell_type": "markdown",
      "source": [
        "## Knowledge check\n",
        "Choose the best response for each question. Then select Check your answers.\n",
        "\n"
      ],
      "metadata": {
        "id": "yRHae6-pABCq"
      }
    },
    {
      "cell_type": "markdown",
      "source": [
        "## Check your knowledge\n",
        "\n",
        "1. What service helps you manage your Azure, on-premises, and multicloud environments?\n",
        "- [✅] Azure Arc\n",
        "> Correct. Azure Arc, working with Azure Resource Manager, lets you extend your Azure compliance and monitoring to your hybrid and multicloud configurations.\n",
        "- [❌] Azure Policy\n",
        "- [❌] Azure Cloud Manager\n",
        "\n",
        "2. What two components could you use to implement a “infrastructure as code” deployment?\n",
        "- [✅] Bicep and ARM Templates\n",
        "> Correct. Bicep and ARM Templates allow you to deploy your resource as code.\n",
        "- [❌] Azure Policy and Azure Arc\n",
        "- [❌] Azure Monitor and Azure Arc\n",
        "\n"
      ],
      "metadata": {
        "id": "LIWzofNW6RpX"
      }
    },
    {
      "cell_type": "markdown",
      "source": [
        "## Next unit: Summary\n",
        "\n"
      ],
      "metadata": {
        "id": "CwiNdGrQ5asK"
      }
    },
    {
      "cell_type": "markdown",
      "source": [
        "# Unit 6 of 6\n",
        "\n"
      ],
      "metadata": {
        "id": "MZjZmiOD5cAr"
      }
    },
    {
      "cell_type": "markdown",
      "source": [
        "## Summary\n",
        "In this module, you were introduced to features and tools for managing and deploying Azure resources. You learned about the Azure portal (a graphic interface for managing Azure resources), command line, and scripting tools that help deploy or configure resources. You also learned about Azure services that help you manage your on-premises and multicloud environment from Azure.\n",
        "\n"
      ],
      "metadata": {
        "id": "6_nkoXAB5b9N"
      }
    },
    {
      "cell_type": "markdown",
      "source": [
        "## Learning objectives\n",
        "You should now be able to:\n",
        "\n",
        "- Describe Azure portal.\n",
        "- Describe Azure Cloud Shell, including Azure CLI and Azure PowerShell.\n",
        "- Describe the purpose of Azure Arc.\n",
        "- Describe Azure Resource Manager (ARM), ARM templates, and Bicep.\n",
        "\n"
      ],
      "metadata": {
        "id": "oY4HEdVi5b6q"
      }
    },
    {
      "cell_type": "markdown",
      "source": [
        "## Additional resources\n",
        "The following resources provide more information on topics in this module or related to this module.\n",
        "\n",
        "- [Implement resource management security](https://learn.microsoft.com/en-us/learn/paths/implement-resource-mgmt-security/) in Azure is a Microsoft Learn learning path that provides more information on managing Azure resources.\n",
        "\n"
      ],
      "metadata": {
        "id": "Nyp2i8Jz5b3f"
      }
    },
    {
      "cell_type": "markdown",
      "source": [
        "## All units complete:\n",
        "\n"
      ],
      "metadata": {
        "id": "fY8f97e55b0l"
      }
    }
  ]
}