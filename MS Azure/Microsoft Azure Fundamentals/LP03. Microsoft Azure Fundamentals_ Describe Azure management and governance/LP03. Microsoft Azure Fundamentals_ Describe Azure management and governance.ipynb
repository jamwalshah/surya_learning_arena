{
  "nbformat": 4,
  "nbformat_minor": 0,
  "metadata": {
    "colab": {
      "provenance": [],
      "toc_visible": true
    },
    "kernelspec": {
      "name": "python3",
      "display_name": "Python 3"
    },
    "language_info": {
      "name": "python"
    }
  },
  "cells": [
    {
      "cell_type": "markdown",
      "source": [
        "# Microsoft Azure Fundamentals: Describe Azure management and governance\n",
        "\n",
        "New to the cloud? Microsoft Azure fundamentals is a three-part series that teaches you basic cloud concepts, provides a streamlined overview of many Azure services, and guides you with hands-on exercises to deploy your very first services for free. Complete all of the learning paths in the series if you are preparing for Exam AZ-900: Microsoft Azure Fundamentals. This is the third learning path in the series, **Azure Fundamentals: Describe Azure management and governance.** The other learning paths in the series are [Part 1: Describe cloud concepts](https://learn.microsoft.com/en-us/training/paths/microsoft-azure-fundamentals-describe-cloud-concepts/) and [Part 2: Describe Azure architecture and services.](https://learn.microsoft.com/en-us/training/paths/azure-fundamentals-describe-azure-architecture-services/)\n",
        "\n",
        "## Prerequisites\n",
        "\n",
        "- Basic familiarity with IT terms and concepts\n",
        "\n"
      ],
      "metadata": {
        "id": "Hv8jQKWXo_xt"
      }
    },
    {
      "cell_type": "markdown",
      "source": [
        "## Modules in this learning path\n",
        "\n"
      ],
      "metadata": {
        "id": "UFrJQxquo_uO"
      }
    },
    {
      "cell_type": "markdown",
      "source": [
        "### Describe cost management in Azure\n",
        "\n",
        "43 min • Module • 9 Units\n",
        "\n",
        "This module explores methods to estimate, track, and manage costs in Azure.\n",
        "\n"
      ],
      "metadata": {
        "id": "DRDrThMRptWE"
      }
    },
    {
      "cell_type": "markdown",
      "source": [
        "### Describe features and tools in Azure for governance and compliance\n",
        "\n",
        "34 min • Module • 8 Units\n",
        "\n",
        "This module introduces you to tools that can help with governance and compliance within Azure.\n",
        "\n"
      ],
      "metadata": {
        "id": "TOUuT1FDptSt"
      }
    },
    {
      "cell_type": "markdown",
      "source": [
        "### Describe features and tools for managing and deploying Azure resources\n",
        "\n",
        "22 min • Module • 6 Units\n",
        "\n",
        "This module covers tools that help you manage your Azure and on-premises resources.\n",
        "\n"
      ],
      "metadata": {
        "id": "Q44Ovt56ptQs"
      }
    },
    {
      "cell_type": "markdown",
      "source": [
        "### Describe monitoring tools in Azure\n",
        "\n",
        "13 min • Module • 6 Units\n",
        "\n",
        "This module covers tools that you can use to monitor your Azure environment.\n",
        "\n"
      ],
      "metadata": {
        "id": "SfapSAXnptOZ"
      }
    }
  ]
}