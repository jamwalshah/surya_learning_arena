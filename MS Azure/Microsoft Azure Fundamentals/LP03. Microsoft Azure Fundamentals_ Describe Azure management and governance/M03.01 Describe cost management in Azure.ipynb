{
  "nbformat": 4,
  "nbformat_minor": 0,
  "metadata": {
    "colab": {
      "provenance": [],
      "toc_visible": true
    },
    "kernelspec": {
      "name": "python3",
      "display_name": "Python 3"
    },
    "language_info": {
      "name": "python"
    }
  },
  "cells": [
    {
      "cell_type": "markdown",
      "source": [
        "# Unit 1 of 9\n",
        "\n"
      ],
      "metadata": {
        "id": "JUObONY5tvay"
      }
    },
    {
      "cell_type": "markdown",
      "source": [
        "## Introduction\n",
        "In this module, you’ll be introduced to factors that impact costs in Azure and tools to help you both predict potential costs and monitor and control costs.\n",
        "\n"
      ],
      "metadata": {
        "id": "aN5-MwM-thwn"
      }
    },
    {
      "cell_type": "markdown",
      "source": [
        "## Learning objectives\n",
        "After completing this module, you’ll be able to:\n",
        "\n",
        "- Describe factors that can affect costs in Azure.\n",
        "- Compare the Pricing calculator and Total Cost of Ownership (TCO) calculator.\n",
        "- Describe the Microsoft Cost Management Tool.\n",
        "- Describe the purpose of tags.\n",
        "\n"
      ],
      "metadata": {
        "id": "Y5gwqKEvthtB"
      }
    },
    {
      "cell_type": "markdown",
      "source": [
        "## Next unit: Describe factors that can affect costs in Azure\n",
        "\n"
      ],
      "metadata": {
        "id": "MSGyuiqZthqY"
      }
    },
    {
      "cell_type": "markdown",
      "source": [
        "# Unit 2 of 9\n",
        "\n"
      ],
      "metadata": {
        "id": "pefJTzzXthoI"
      }
    },
    {
      "cell_type": "markdown",
      "source": [
        "## Describe factors that can affect costs in Azure\n",
        "The following video provides an introduction to things that can impact your costs in Azure.\n",
        "\n"
      ],
      "metadata": {
        "id": "MaS7xYeOthl2"
      }
    },
    {
      "cell_type": "code",
      "source": [
        "from IPython.display import HTML\n",
        "\n",
        "# Embedding the video link using HTML iframe\n",
        "video_url = 'https://www.microsoft.com/en-us/videoplayer/embed/RWGNx4?postJsllMsg=true'\n",
        "embed_code = f'<iframe width=\"560\" height=\"315\" src=\"{video_url}\" frameborder=\"0\" allowfullscreen></iframe>'\n",
        "HTML(embed_code)"
      ],
      "metadata": {
        "colab": {
          "base_uri": "https://localhost:8080/",
          "height": 336
        },
        "id": "OZcJmNZ2t8tp",
        "outputId": "7333191e-8070-436b-ea9f-94518dd51dc8"
      },
      "execution_count": 2,
      "outputs": [
        {
          "output_type": "execute_result",
          "data": {
            "text/plain": [
              "<IPython.core.display.HTML object>"
            ],
            "text/html": [
              "<iframe width=\"560\" height=\"315\" src=\"https://www.microsoft.com/en-us/videoplayer/embed/RWGNx4?postJsllMsg=true\" frameborder=\"0\" allowfullscreen></iframe>"
            ]
          },
          "metadata": {},
          "execution_count": 2
        }
      ]
    },
    {
      "cell_type": "markdown",
      "source": [
        "Azure shifts development costs from the capital expense (CapEx) of building out and maintaining infrastructure and facilities to an operational expense (OpEx) of renting infrastructure as you need it, whether it’s compute, storage, networking, and so on.\n",
        "\n",
        "That OpEx cost can be impacted by many factors. Some of the impacting factors are:\n",
        "\n",
        "- Resource type\n",
        "- Consumption\n",
        "- Maintenance\n",
        "- Geography\n",
        "- Subscription type\n",
        "- Azure Marketplace\n",
        "\n"
      ],
      "metadata": {
        "id": "01_0-AzWthjk"
      }
    },
    {
      "cell_type": "markdown",
      "source": [
        "## Resource type\n",
        "A number of factors influence the cost of Azure resources. The type of resources, the settings for the resource, and the Azure region will all have an impact on how much a resource costs. When you provision an Azure resource, Azure creates metered instances for that resource. The meters track the resources' usage and generate a usage record that is used to calculate your bill.\n",
        "\n"
      ],
      "metadata": {
        "id": "yjf5cTEFthhc"
      }
    },
    {
      "cell_type": "markdown",
      "source": [
        "## Examples\n",
        "With a storage account, you specify a type such as blob, a performance tier, an access tier, redundancy settings, and a region. Creating the same storage account in different regions may show different costs and changing any of the settings may also impact the price.\n",
        "\n",
        "<img src=\"https://learn.microsoft.com/en-us/training/wwl-azure/describe-cost-management-azure/media/blob-storage-768af5f7.png\"\n",
        "    alt=\"Screenshot of storage blob settings showing hot and cool access tiers.\"\n",
        "    style=\"float: left; margin-right: 10px;\" />\n",
        "\n",
        "With a virtual machine (VM), you may have to consider licensing for the operating system or other software, the processor and number of cores for the VM, the attached storage, and the network interface. Just like with storage, provisioning the same virtual machine in different regions may result in different costs.\n",
        "\n",
        "<img src=\"https://learn.microsoft.com/en-us/training/wwl-azure/describe-cost-management-azure/media/virtual-machine-settings-519925fc.png\"\n",
        "    alt=\"Screenshot of Azure virtual machine settings showing the virtual machine size options.\"\n",
        "    style=\"float: left; margin-right: 10px;\" />\n",
        "\n"
      ],
      "metadata": {
        "id": "_y58Pr4uthfC"
      }
    },
    {
      "cell_type": "markdown",
      "source": [
        "## Consumption\n",
        "Pay-as-you-go has been a consistent theme throughout, and that’s the cloud payment model where you pay for the resources that you use during a billing cycle. If you use more compute this cycle, you pay more. If you use less in the current cycle, you pay less. It’s a straight forward pricing mechanism that allows for maximum flexibility.\n",
        "\n",
        "However, Azure also offers the ability to commit to using a set amount of cloud resources in advance and receiving discounts on those “reserved” resources. Many services, including databases, compute, and storage all provide the option to commit to a level of use and receive a discount, in some cases up to 72 percent.\n",
        "\n",
        "When you reserve capacity, you’re committing to using and paying for a certain amount of Azure resources during a given period (typically one or three years). With the back-up of pay-as-you-go, if you see a sudden surge in demand that eclipses what you’ve pre-reserved, you just pay for the additional resources in excess of your reservation. This model allows you to recognize significant savings on reliable, consistent workloads while also having the flexibility to rapidly increase your cloud footprint as the need arises.\n",
        "\n"
      ],
      "metadata": {
        "id": "tIiKeSLVulHZ"
      }
    },
    {
      "cell_type": "markdown",
      "source": [
        "## Maintenance\n",
        "The flexibility of the cloud makes it possible to rapidly adjust resources based on demand. Using resource groups can help keep all of your resources organized. In order to control costs, it’s important to maintain your cloud environment. For example, every time you provision a VM, additional resources such as storage and networking are also provisioned. If you deprovision the VM, those additional resources may not deprovision at the same time, either intentionally or unintentionally. By keeping an eye on your resources and making sure you’re not keeping around resources that are no longer needed, you can help control cloud costs.\n",
        "\n"
      ],
      "metadata": {
        "id": "ExeCKBNxulD-"
      }
    },
    {
      "cell_type": "markdown",
      "source": [
        "## Geography\n",
        "When you provision most resources in Azure, you need to define a region where the resource deploys. Azure infrastructure is distributed globally, which enables you to deploy your services centrally or closest to your customers, or something in between. With this global deployment comes global pricing differences. The cost of power, labor, taxes, and fees vary depending on the location. Due to these variations, Azure resources can differ in costs to deploy depending on the region.\n",
        "\n",
        "Network traffic is also impacted based on geography. For example, it’s less expensive to move information within Europe than to move information from Europe to Asia or South America.\n",
        "\n"
      ],
      "metadata": {
        "id": "hOTzkJtHulA6"
      }
    },
    {
      "cell_type": "markdown",
      "source": [
        "## Network Traffic\n",
        "Billing zones are a factor in determining the cost of some Azure services.\n",
        "\n",
        "Bandwidth refers to data moving in and out of Azure datacenters. Some inbound data transfers (data going into Azure datacenters) are free. For outbound data transfers (data leaving Azure datacenters), data transfer pricing is based on zones.\n",
        "\n",
        "A zone is a geographical grouping of Azure regions for billing purposes. The [bandwidth pricing page](https://azure.microsoft.com/pricing/details/bandwidth/) has additional information on pricing for data ingress, egress, and transfer.\n",
        "\n"
      ],
      "metadata": {
        "id": "1FDzB67nuk-n"
      }
    },
    {
      "cell_type": "markdown",
      "source": [
        "## Subscription type\n",
        "Some Azure subscription types also include usage allowances, which affect costs.\n",
        "\n",
        "For example, an Azure free trial subscription provides access to a number of Azure products that are free for 12 months. It also includes credit to spend within your first 30 days of sign-up. You'll get access to more than 25 products that are always free (based on resource and region availability).\n",
        "\n"
      ],
      "metadata": {
        "id": "AvwxJuSEu-Zi"
      }
    },
    {
      "cell_type": "markdown",
      "source": [
        "## Azure Marketplace\n",
        "Azure Marketplace lets you purchase Azure-based solutions and services from third-party vendors. This could be a server with software preinstalled and configured, or managed network firewall appliances, or connectors to third-party backup services. When you purchase products through Azure Marketplace, you may pay for not only the Azure services that you’re using, but also the services or expertise of the third-party vendor. Billing structures are set by the vendor.\n",
        "\n",
        "All solutions available in Azure Marketplace are certified and compliant with Azure policies and standards. The certification policies may vary based on the service or solution type and Azure service involved. [Commercial marketplace certification policies](https://learn.microsoft.com/en-us/legal/marketplace/certification-policies) has additional information on Azure Marketplace certifications.\n",
        "\n"
      ],
      "metadata": {
        "id": "rJtSEL-yu-7B"
      }
    },
    {
      "cell_type": "markdown",
      "source": [
        "## Next unit: Compare the Pricing and Total Cost of Ownership calculators\n",
        "\n"
      ],
      "metadata": {
        "id": "g0bCb12ku-3Y"
      }
    },
    {
      "cell_type": "markdown",
      "source": [
        "# Unit 3 of 9\n",
        "\n"
      ],
      "metadata": {
        "id": "Bi1DjYyCu-15"
      }
    }
  ]
}