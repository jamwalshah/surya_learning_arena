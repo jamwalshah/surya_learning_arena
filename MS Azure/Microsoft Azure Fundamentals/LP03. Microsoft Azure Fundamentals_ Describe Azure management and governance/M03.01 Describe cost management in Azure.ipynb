{
  "nbformat": 4,
  "nbformat_minor": 0,
  "metadata": {
    "colab": {
      "provenance": [],
      "toc_visible": true
    },
    "kernelspec": {
      "name": "python3",
      "display_name": "Python 3"
    },
    "language_info": {
      "name": "python"
    }
  },
  "cells": [
    {
      "cell_type": "markdown",
      "source": [
        "# Unit 1 of 9\n",
        "\n"
      ],
      "metadata": {
        "id": "JUObONY5tvay"
      }
    },
    {
      "cell_type": "markdown",
      "source": [
        "## Introduction\n",
        "In this module, you’ll be introduced to factors that impact costs in Azure and tools to help you both predict potential costs and monitor and control costs.\n",
        "\n"
      ],
      "metadata": {
        "id": "aN5-MwM-thwn"
      }
    },
    {
      "cell_type": "markdown",
      "source": [
        "## Learning objectives\n",
        "After completing this module, you’ll be able to:\n",
        "\n",
        "- Describe factors that can affect costs in Azure.\n",
        "- Compare the Pricing calculator and Total Cost of Ownership (TCO) calculator.\n",
        "- Describe the Microsoft Cost Management Tool.\n",
        "- Describe the purpose of tags.\n",
        "\n"
      ],
      "metadata": {
        "id": "Y5gwqKEvthtB"
      }
    },
    {
      "cell_type": "markdown",
      "source": [
        "## Next unit: Describe factors that can affect costs in Azure\n",
        "\n"
      ],
      "metadata": {
        "id": "MSGyuiqZthqY"
      }
    },
    {
      "cell_type": "markdown",
      "source": [
        "# Unit 2 of 9\n",
        "\n"
      ],
      "metadata": {
        "id": "pefJTzzXthoI"
      }
    },
    {
      "cell_type": "markdown",
      "source": [
        "## Describe factors that can affect costs in Azure\n",
        "The following video provides an introduction to things that can impact your costs in Azure.\n",
        "\n"
      ],
      "metadata": {
        "id": "MaS7xYeOthl2"
      }
    },
    {
      "cell_type": "code",
      "source": [
        "from IPython.display import HTML\n",
        "\n",
        "# Embedding the video link using HTML iframe\n",
        "video_url = 'https://www.microsoft.com/en-us/videoplayer/embed/RWGNx4?postJsllMsg=true'\n",
        "embed_code = f'<iframe width=\"560\" height=\"315\" src=\"{video_url}\" frameborder=\"0\" allowfullscreen></iframe>'\n",
        "HTML(embed_code)"
      ],
      "metadata": {
        "colab": {
          "base_uri": "https://localhost:8080/",
          "height": 336
        },
        "id": "OZcJmNZ2t8tp",
        "outputId": "7333191e-8070-436b-ea9f-94518dd51dc8"
      },
      "execution_count": 2,
      "outputs": [
        {
          "output_type": "execute_result",
          "data": {
            "text/plain": [
              "<IPython.core.display.HTML object>"
            ],
            "text/html": [
              "<iframe width=\"560\" height=\"315\" src=\"https://www.microsoft.com/en-us/videoplayer/embed/RWGNx4?postJsllMsg=true\" frameborder=\"0\" allowfullscreen></iframe>"
            ]
          },
          "metadata": {},
          "execution_count": 2
        }
      ]
    },
    {
      "cell_type": "markdown",
      "source": [
        "Azure shifts development costs from the capital expense (CapEx) of building out and maintaining infrastructure and facilities to an operational expense (OpEx) of renting infrastructure as you need it, whether it’s compute, storage, networking, and so on.\n",
        "\n",
        "That OpEx cost can be impacted by many factors. Some of the impacting factors are:\n",
        "\n",
        "- Resource type\n",
        "- Consumption\n",
        "- Maintenance\n",
        "- Geography\n",
        "- Subscription type\n",
        "- Azure Marketplace\n",
        "\n"
      ],
      "metadata": {
        "id": "01_0-AzWthjk"
      }
    },
    {
      "cell_type": "markdown",
      "source": [
        "### Resource type\n",
        "A number of factors influence the cost of Azure resources. The type of resources, the settings for the resource, and the Azure region will all have an impact on how much a resource costs. When you provision an Azure resource, Azure creates metered instances for that resource. The meters track the resources' usage and generate a usage record that is used to calculate your bill.\n",
        "\n"
      ],
      "metadata": {
        "id": "yjf5cTEFthhc"
      }
    },
    {
      "cell_type": "markdown",
      "source": [
        "#### Examples\n",
        "With a storage account, you specify a type such as blob, a performance tier, an access tier, redundancy settings, and a region. Creating the same storage account in different regions may show different costs and changing any of the settings may also impact the price.\n",
        "\n",
        "<img src=\"https://learn.microsoft.com/en-us/training/wwl-azure/describe-cost-management-azure/media/blob-storage-768af5f7.png\"\n",
        "    alt=\"Screenshot of storage blob settings showing hot and cool access tiers.\"\n",
        "    style=\"float: left; margin-right: 10px;\" />\n",
        "\n",
        "With a virtual machine (VM), you may have to consider licensing for the operating system or other software, the processor and number of cores for the VM, the attached storage, and the network interface. Just like with storage, provisioning the same virtual machine in different regions may result in different costs.\n",
        "\n",
        "<img src=\"https://learn.microsoft.com/en-us/training/wwl-azure/describe-cost-management-azure/media/virtual-machine-settings-519925fc.png\"\n",
        "    alt=\"Screenshot of Azure virtual machine settings showing the virtual machine size options.\"\n",
        "    style=\"float: left; margin-right: 10px;\" />\n",
        "\n"
      ],
      "metadata": {
        "id": "_y58Pr4uthfC"
      }
    },
    {
      "cell_type": "markdown",
      "source": [
        "### Consumption\n",
        "Pay-as-you-go has been a consistent theme throughout, and that’s the cloud payment model where you pay for the resources that you use during a billing cycle. If you use more compute this cycle, you pay more. If you use less in the current cycle, you pay less. It’s a straight forward pricing mechanism that allows for maximum flexibility.\n",
        "\n",
        "However, Azure also offers the ability to commit to using a set amount of cloud resources in advance and receiving discounts on those “reserved” resources. Many services, including databases, compute, and storage all provide the option to commit to a level of use and receive a discount, in some cases up to 72 percent.\n",
        "\n",
        "When you reserve capacity, you’re committing to using and paying for a certain amount of Azure resources during a given period (typically one or three years). With the back-up of pay-as-you-go, if you see a sudden surge in demand that eclipses what you’ve pre-reserved, you just pay for the additional resources in excess of your reservation. This model allows you to recognize significant savings on reliable, consistent workloads while also having the flexibility to rapidly increase your cloud footprint as the need arises.\n",
        "\n"
      ],
      "metadata": {
        "id": "tIiKeSLVulHZ"
      }
    },
    {
      "cell_type": "markdown",
      "source": [
        "### Maintenance\n",
        "The flexibility of the cloud makes it possible to rapidly adjust resources based on demand. Using resource groups can help keep all of your resources organized. In order to control costs, it’s important to maintain your cloud environment. For example, every time you provision a VM, additional resources such as storage and networking are also provisioned. If you deprovision the VM, those additional resources may not deprovision at the same time, either intentionally or unintentionally. By keeping an eye on your resources and making sure you’re not keeping around resources that are no longer needed, you can help control cloud costs.\n",
        "\n"
      ],
      "metadata": {
        "id": "ExeCKBNxulD-"
      }
    },
    {
      "cell_type": "markdown",
      "source": [
        "### Geography\n",
        "When you provision most resources in Azure, you need to define a region where the resource deploys. Azure infrastructure is distributed globally, which enables you to deploy your services centrally or closest to your customers, or something in between. With this global deployment comes global pricing differences. The cost of power, labor, taxes, and fees vary depending on the location. Due to these variations, Azure resources can differ in costs to deploy depending on the region.\n",
        "\n",
        "Network traffic is also impacted based on geography. For example, it’s less expensive to move information within Europe than to move information from Europe to Asia or South America.\n",
        "\n"
      ],
      "metadata": {
        "id": "hOTzkJtHulA6"
      }
    },
    {
      "cell_type": "markdown",
      "source": [
        "#### Network Traffic\n",
        "Billing zones are a factor in determining the cost of some Azure services.\n",
        "\n",
        "Bandwidth refers to data moving in and out of Azure datacenters. Some inbound data transfers (data going into Azure datacenters) are free. For outbound data transfers (data leaving Azure datacenters), data transfer pricing is based on zones.\n",
        "\n",
        "A zone is a geographical grouping of Azure regions for billing purposes. The [bandwidth pricing page](https://azure.microsoft.com/pricing/details/bandwidth/) has additional information on pricing for data ingress, egress, and transfer.\n",
        "\n"
      ],
      "metadata": {
        "id": "1FDzB67nuk-n"
      }
    },
    {
      "cell_type": "markdown",
      "source": [
        "### Subscription type\n",
        "Some Azure subscription types also include usage allowances, which affect costs.\n",
        "\n",
        "For example, an Azure free trial subscription provides access to a number of Azure products that are free for 12 months. It also includes credit to spend within your first 30 days of sign-up. You'll get access to more than 25 products that are always free (based on resource and region availability).\n",
        "\n"
      ],
      "metadata": {
        "id": "AvwxJuSEu-Zi"
      }
    },
    {
      "cell_type": "markdown",
      "source": [
        "### Azure Marketplace\n",
        "Azure Marketplace lets you purchase Azure-based solutions and services from third-party vendors. This could be a server with software preinstalled and configured, or managed network firewall appliances, or connectors to third-party backup services. When you purchase products through Azure Marketplace, you may pay for not only the Azure services that you’re using, but also the services or expertise of the third-party vendor. Billing structures are set by the vendor.\n",
        "\n",
        "All solutions available in Azure Marketplace are certified and compliant with Azure policies and standards. The certification policies may vary based on the service or solution type and Azure service involved. [Commercial marketplace certification policies](https://learn.microsoft.com/en-us/legal/marketplace/certification-policies) has additional information on Azure Marketplace certifications.\n",
        "\n"
      ],
      "metadata": {
        "id": "rJtSEL-yu-7B"
      }
    },
    {
      "cell_type": "markdown",
      "source": [
        "## Next unit: Compare the Pricing and Total Cost of Ownership calculators\n",
        "\n"
      ],
      "metadata": {
        "id": "g0bCb12ku-3Y"
      }
    },
    {
      "cell_type": "markdown",
      "source": [
        "# Unit 3 of 9\n",
        "\n"
      ],
      "metadata": {
        "id": "Bi1DjYyCu-15"
      }
    },
    {
      "cell_type": "markdown",
      "source": [
        "## Compare the Pricing and Total Cost of Ownership calculators\n",
        "The pricing calculator and the total cost of ownership (TCO) calculator are two calculators that help you understand potential Azure expenses. Both calculators are accessible from the internet, and both calculators allow you to build out a configuration. However, the two calculators have very different purposes.\n",
        "\n"
      ],
      "metadata": {
        "id": "qPyf8vJMoBod"
      }
    },
    {
      "cell_type": "markdown",
      "source": [
        "## Pricing calculator\n",
        "The pricing calculator is designed to give you an estimated cost for provisioning resources in Azure. You can get an estimate for individual resources, build out a solution, or use an example scenario to see an estimate of the Azure spend. The pricing calculator’s focus is on the cost of provisioned resources in Azure.\n",
        "\n",
        "> Note: The Pricing calculator is for information purposes only. The prices are only an estimate. Nothing is provisioned when you add resources to the pricing calculator, and you won't be charged for any services you select.\n",
        "\n",
        "With the pricing calculator, you can estimate the cost of any provisioned resources, including compute, storage, and associated network costs. You can even account for different storage options like storage type, access tier, and redundancy.\n",
        "\n",
        "<img src=\"https://learn.microsoft.com/en-us/training/wwl-azure/describe-cost-management-azure/media/price-calculator-0a750ac3.png\"\n",
        "    alt=\"Screenshot of the pricing calculator for reference.\"\n",
        "    style=\"float: left; margin-right: 10px;\" />\n",
        "\n"
      ],
      "metadata": {
        "id": "wyirKIIBoBlB"
      }
    },
    {
      "cell_type": "markdown",
      "source": [
        "## TCO calculator\n",
        "The TCO calculator is designed to help you compare the costs for running an on-premises infrastructure compared to an Azure Cloud infrastructure. With the TCO calculator, you enter your current infrastructure configuration, including servers, databases, storage, and outbound network traffic. The TCO calculator then compares the anticipated costs for your current environment with an Azure environment supporting the same infrastructure requirements.\n",
        "\n",
        "With the TCO calculator, you enter your configuration, add in assumptions like power and IT labor costs, and are presented with an estimation of the cost difference to run the same environment in your current datacenter or in Azure.\n",
        "\n",
        "<img src=\"https://learn.microsoft.com/en-us/training/wwl-azure/describe-cost-management-azure/media/total-cost-ownership-657fe344.png\"\n",
        "    alt=\"Screenshot of the Total Cost of Ownership calculator.\"\n",
        "    style=\"float: left; margin-right: 10px;\" />\n",
        "\n"
      ],
      "metadata": {
        "id": "58Mmp29yoBe-"
      }
    },
    {
      "cell_type": "markdown",
      "source": [
        "## Next unit: Exercise - Estimate workload costs by using the Pricing calculator\n",
        "\n"
      ],
      "metadata": {
        "id": "R6Vd5VADoBbj"
      }
    },
    {
      "cell_type": "markdown",
      "source": [
        "# Unit 4 of 9\n",
        "\n"
      ],
      "metadata": {
        "id": "fXFsPDbroBY8"
      }
    },
    {
      "cell_type": "markdown",
      "source": [
        "## Exercise - Estimate workload costs by using the Pricing calculator\n",
        "In this exercise, you use the Pricing calculator to estimate the cost of running a basic web application on Azure.\n",
        "\n",
        "Start by defining which Azure services you need.\n",
        "\n",
        "> Note: The Pricing calculator is for information purposes only. The prices are only an estimate, and you won't be charged for any services you select.\n",
        "\n"
      ],
      "metadata": {
        "id": "2x-yQKvvoBMf"
      }
    },
    {
      "cell_type": "markdown",
      "source": [
        "### Define your requirements\n",
        "Before you run the Pricing calculator, you need a sense of what Azure services you need.\n",
        "\n",
        "For a basic web application hosted in your datacenter, you might run a configuration similar to the following.\n",
        "\n",
        "An ASP.NET web application that runs on Windows. The web application provides information about product inventory and pricing. There are two virtual machines that are connected through a central load balancer. The web application connects to a SQL Server database that holds inventory and pricing information.\n",
        "\n",
        "To migrate to Azure, you might:\n",
        "\n",
        "- Use Azure Virtual Machines instances, similar to the virtual machines used in your datacenter.\n",
        "- Use Azure Application Gateway for load balancing.\n",
        "- Use Azure SQL Database to hold inventory and pricing information.\n",
        "\n",
        "Here's a diagram that shows the basic configuration:\n",
        "\n",
        "<img src=\"https://learn.microsoft.com/en-us/training/wwl-azure/describe-cost-management-azure/media/estimate-costs-architecture-171ae4c1.png\"\n",
        "    alt=\"A diagram showing a potential Azure solution for hosting an application.\"\n",
        "    style=\"float: centre; \" />\n",
        "\n",
        "In practice, you would define your requirements in greater detail. But here are some basic facts and requirements to get you started:\n",
        "\n",
        "- The application is used internally. It's not accessible to customers.\n",
        "- This application doesn't require a massive amount of computing power.\n",
        "- The virtual machines and the database run all the time (730 hours per month).\n",
        "- The network processes about 1 TB of data per month.\n",
        "- The database doesn't need to be configured for high-performance workloads and requires no more than 32 GB of storage.\n",
        "\n"
      ],
      "metadata": {
        "id": "9Slxia1qoBI6"
      }
    },
    {
      "cell_type": "markdown",
      "source": [
        "### Explore the Pricing calculator\n",
        "Let's start with a quick tour of the Pricing calculator.\n",
        "\n",
        "1. Go to the [Pricing calculator](https://azure.microsoft.com/pricing/calculator/).\n",
        "\n",
        "2. Notice the following tabs:\n",
        "\n",
        "<img src=\"https://learn.microsoft.com/en-us/training/wwl-azure/describe-cost-management-azure/media/price-calculator-menu-bar-4a43e988.png\"\n",
        "    alt=\"A screenshot of the Pricing calculator menu bar with the Products tab selected.\"\n",
        "    style=\"float: left; margin-right: 10px;\" />\n",
        "\n",
        "- **Products** This is where you choose the Azure services that you want to include in your estimate. You'll likely spend most of your time here.\n",
        "- **Example scenarios** Here you'll find several reference architectures, or common cloud-based solutions that you can use as a starting point.\n",
        "- **Saved estimates** Here you'll find your previously saved estimates.\n",
        "- **FAQs** Here you'll discover answers to frequently asked questions about the Pricing calculator.\n",
        "\n"
      ],
      "metadata": {
        "id": "WEGk3Na5oBGa"
      }
    },
    {
      "cell_type": "markdown",
      "source": [
        "### Estimate your solution\n",
        "Here you add each Azure service that you need to the calculator. Then you configure each service to fit your needs.\n",
        "\n",
        "> Tip: Make sure you have a clean calculator with nothing listed in the estimate. You can reset the estimate by selecting the trash can icon next to each item.\n",
        "\n"
      ],
      "metadata": {
        "id": "xH94W0c80ItD"
      }
    },
    {
      "cell_type": "markdown",
      "source": [
        "#### Add services to the estimate\n",
        "1. On the **Products** tab, select the service from each of these categories:\n",
        "\n",
        "|Category   |Service    |\n",
        "|:--    |:--    |\n",
        "|Compute\t    |**Virtual Machines**   |\n",
        "|Databases  |**Azure SQL Database** |\n",
        "|Networking |**Application Gateway**    |\n",
        "\n",
        "2. Scroll to the bottom of the page. Each service is listed with its default configuration.\n",
        "\n"
      ],
      "metadata": {
        "id": "W9TLM0qvoBDH"
      }
    },
    {
      "cell_type": "markdown",
      "source": [
        "#### Configure services to match your requirements\n",
        "1. Under **Virtual Machines**, set these values:\n",
        "\n",
        "|Setting\t    |Value  |\n",
        "|:--    |:--    |\n",
        "|Region |**West US**    |\n",
        "|Operating system\t    |**Windows**    |\n",
        "|Type   |**(OS Only)**  |\n",
        "|Tier\t    |**Standard**   |\n",
        "|Instance\t    |**D2 v3**  |\n",
        "|Virtual machines\t    |**2 x 730 Hours**  |\n",
        "\n",
        "Leave the remaining settings at their current values.\n",
        "\n",
        "2. Under **Azure SQL Database**, set these values:\n",
        "\n",
        "|Setting\t    |Value  |\n",
        "|:--    |:--    |\n",
        "|Region |**West US**    |\n",
        "|Type   |**Single Database**    |\n",
        "|Backup storage tier\t|**RA-GRS**   |\n",
        "|Purchase model\t    |**vCore**  |\n",
        "|Service tier\t    |**General Purpose**    |\n",
        "|Compute tier\t    |**Provisioned**    |\n",
        "|Generation\t    |**Gen 5**  |\n",
        "|Instance\t    |**8 vCore**    |\n",
        "\n",
        "Leave the remaining settings at their current values.\n",
        "\n",
        "3. Under Application Gateway, set these values:\n",
        "\n",
        "|Setting\t    |Value  |\n",
        "|:--    |:--    |\n",
        "|Region |**West US**    |\n",
        "|Tier   |**Web Application Firewall**   |\n",
        "|Size   |**Medium** |\n",
        "|Gateway hours\t    |**2 x 730 Hours**  |\n",
        "|Data processed\t    |**1 TB**   |\n",
        "|Outbound data transfer\t    |**5 GB** |\n",
        "\n",
        "Leave the remaining settings at their current values.\n",
        "\n"
      ],
      "metadata": {
        "id": "BN3zGmq6oBA0"
      }
    },
    {
      "cell_type": "markdown",
      "source": [
        "### Review, share, and save your estimate\n",
        "At the bottom of the page, you see the total estimated cost of running the solution. You can change the currency type if you want.\n",
        "\n",
        "At this point, you have a few options:\n",
        "\n",
        "- Select **Export** to save your estimate as an Excel document.\n",
        "- Select **Save** or **Save as** to save your estimate to the **Saved Estimates** tab for later.\n",
        "- Select **Share** to generate a URL so you can share the estimate with your team.\n",
        "\n",
        "You now have a cost estimate that you can share with your team. You can make adjustments as you discover any changes to your requirements.\n",
        "\n",
        "Experiment with some of the options you worked with here, or create a purchase plan for a workload you want to run on Azure.\n",
        "\n"
      ],
      "metadata": {
        "id": "c0OYM8GhoA-C"
      }
    },
    {
      "cell_type": "markdown",
      "source": [
        "## Next unit: Exercise - Compare workload costs using the TCO calculator\n",
        "\n"
      ],
      "metadata": {
        "id": "HlJ6DNXUoA7A"
      }
    },
    {
      "cell_type": "markdown",
      "source": [
        "# Unit 5 of 9\n",
        "\n"
      ],
      "metadata": {
        "id": "8O0y3FfboA29"
      }
    },
    {
      "cell_type": "markdown",
      "source": [
        "## Exercise - Compare workload costs using the TCO calculator\n",
        "In this exercise, you use the Total Cost of Ownership (TCO) Calculator to compare the cost of running a sample workload in your datacenter versus on Azure.\n",
        "\n",
        "Assume you're considering moving some of your on-premises workloads to the cloud. But first, you need to understand more about moving from a relatively fixed cost structure to an ongoing monthly cost structure.\n",
        "\n",
        "You'll need to investigate whether there are any potential cost savings in moving your datacenter to the cloud over the next three years. You need to take into account all of the potentially hidden costs involved with operating on-premises and in the cloud.\n",
        "\n",
        "Instead of manually collecting everything you think might be included, you use the TCO Calculator as a starting point. You adjust the provided cost assumptions to match your on-premises environment.\n",
        "\n",
        "> Note: Remember, you don't need an Azure subscription to work with the TCO Calculator.\n",
        "\n",
        "Let's say that:\n",
        "\n",
        "\n",
        "- You run two sets, or banks, of 50 virtual machines (VMs) in each bank.\n",
        "- The first bank of VMs runs Windows Server under Hyper-V virtualization.\n",
        "- The second bank of VMs runs Linux under VMware virtualization.\n",
        "- There's also a storage area network (SAN) with 60 TB of disk storage.\n",
        "- You consume an estimated 15 TB of outbound network bandwidth each month.\n",
        "- There are also a number of databases involved, but for now, you'll omit those details.\n",
        "\n",
        "Recall that the TCO Calculator involves three steps:\n",
        "\n",
        "<img src=\"https://learn.microsoft.com/en-us/training/wwl-azure/describe-cost-management-azure/media/total-cost-ownership-calculator-steps-76e927a5.png\"\n",
        "    alt=\"Illustration of the three steps: define your workloads, adjust assumptions, and view the report.\"\n",
        "    style=\"float: left; margin-right: 10px;\" />\n",
        "\n"
      ],
      "metadata": {
        "id": "nDYe5yHooAzk"
      }
    },
    {
      "cell_type": "markdown",
      "source": [
        "### Define your workloads\n",
        "Enter the specifications of your on-premises infrastructure into the TCO Calculator.\n",
        "\n",
        "1. Go to the [TCO Calculator](https://azure.microsoft.com/pricing/tco/calculator).\n",
        "\n",
        "2. Under **Define your workloads**, select **Add server workload** to create a row for your bank of Windows Server VMs.\n",
        "\n",
        "3. Under **Servers**, set the value for each of these settings:\n",
        "\n",
        "|Setting    |Value  |\n",
        "|:--    |:--    |\n",
        "|Name   |**Servers: Windows VMs**   |\n",
        "|Workload   |**Windows/Linux Server**   |\n",
        "|Environment    |**Virtual Machines**   |\n",
        "|Operating system\t    |**Windows**    |\n",
        "|Operating System License\t    |**Datacenter** |\n",
        "|VMs\t    |**50** |\n",
        "|Virtualization\t    |**Hyper-V**    |\n",
        "|Core(s)\t    |**8**  |\n",
        "|RAM (GB)\t    |**16** |\n",
        "|Optimize by\t    |**CPU**    |\n",
        "|Windows Server 2008/2008 R2\t    |**Off**    |\n",
        "\n",
        "4. Select **Add server workload** to create a second row for your bank of Linux VMs. Then specify these settings:\n",
        "\n",
        "|Setting    |Value  |\n",
        "|:--    |:--    |\n",
        "|Name   |**Servers: Linux VMs** |\n",
        "|Workload   |**Windows/Linux Server**   |\n",
        "|Environment\t    |**Virtual Machines**   |\n",
        "|Operating system\t    |**Linux**  |\n",
        "|VMs\t    |**50** |\n",
        "|Virtualization\t    |**VMware** |\n",
        "|Core(s)\t    |**8**  |\n",
        "|RAM (GB)\t    |**16** |\n",
        "|Optimize by\t    |**CPU**    |\n",
        "\n",
        "5. Under **Storage**, select **Add storage**. Then specify these settings:\n",
        "\n",
        "|Setting\t    |Value  |\n",
        "|:--    |:--    |\n",
        "|Name\t    |**Server Storage** |\n",
        "|Storage type\t    |**Local Disk/SAN** |\n",
        "|Disk type\t    |**HDD**    |\n",
        "|Capacity\t    |**60 TB**  |\n",
        "|Backup\t    |**120 TB** |\n",
        "|Archive\t    |**0 TB**   |\n",
        "\n",
        "6. Under **Networking**, set **Outbound bandwidth** to **15 TB**.\n",
        "\n",
        "7. Select **Next**.\n",
        "\n"
      ],
      "metadata": {
        "id": "g_agb6Ly05Eh"
      }
    },
    {
      "cell_type": "markdown",
      "source": [
        "### Adjust assumptions\n",
        "Here, you specify your currency. For brevity, you leave the remaining fields at their default values.\n",
        "\n",
        "In practice, you would adjust any cost assumptions and make any adjustments to match your current on-premises environment.\n",
        "\n",
        "1. At the top of the page, select your currency. This example uses **US Dollar ($)**.\n",
        "2. Select **Next**.\n",
        "\n"
      ],
      "metadata": {
        "id": "i29uEXuA05BB"
      }
    },
    {
      "cell_type": "markdown",
      "source": [
        "### View the report\n",
        "Take a moment to review the generated report.\n",
        "\n",
        "Remember, you've been tasked to investigate cost savings for your European datacenter over the next three years.\n",
        "\n",
        "To make these adjustments:\n",
        "\n",
        "1. Set **Timeframe** to **3 Years**.\n",
        "2. Set **Region** to **North Europe**.\n",
        "\n",
        "Scroll to the summary at the bottom. You see a comparison of running your workloads in the datacenter versus on Azure.\n",
        "\n",
        "Select **Download** to download or print a copy of the report in PDF format.\n",
        "\n",
        "Great work. You now have the information that you can share with your Chief Financial Officer. If you need to make adjustments, you can revisit the TCO Calculator to generate a fresh report.\n",
        "\n"
      ],
      "metadata": {
        "id": "IjHgzicM04-r"
      }
    },
    {
      "cell_type": "markdown",
      "source": [
        "## Next unit: Describe the Microsoft Cost Management tool\n",
        "\n"
      ],
      "metadata": {
        "id": "fSvxBXt2048f"
      }
    },
    {
      "cell_type": "markdown",
      "source": [
        "# Unit 6 of 9\n",
        "\n"
      ],
      "metadata": {
        "id": "-wlfz3lt046W"
      }
    },
    {
      "cell_type": "markdown",
      "source": [
        "## Describe the Microsoft Cost Management tool\n",
        "Microsoft Azure is a global cloud provider, meaning you can provision resources anywhere in the world. You can provision resources rapidly to meet a sudden demand, or to test out a new feature, or on accident. If you accidentally provision new resources, you may not be aware of them until it’s time for your invoice. Cost Management is a service that helps avoid those situations.\n",
        "\n"
      ],
      "metadata": {
        "id": "eC37SfjvoAvO"
      }
    },
    {
      "cell_type": "markdown",
      "source": [
        "## What is Cost Management?\n",
        "Cost Management provides the ability to quickly check Azure resource costs, create alerts based on resource spend, and create budgets that can be used to automate management of resources.\n",
        "\n",
        "Cost analysis is a subset of Cost Management that provides a quick visual for your Azure costs. Using cost analysis, you can quickly view the total cost in a variety of different ways, including by billing cycle, region, resource, and so on.\n",
        "\n",
        "<img src=\"https://learn.microsoft.com/en-us/training/wwl-azure/describe-cost-management-azure/media/cost-analysis-b52dedab.png\"\n",
        "    alt=\"Screenshot of initial view of cost analysis in the Azure portal.\"\n",
        "    style=\"float: left; margin-right: 10px;\" />\n",
        "\n",
        "You use cost analysis to explore and analyze your organizational costs. You can view aggregated costs by organization to understand where costs are accrued and to identify spending trends. And you can see accumulated costs over time to estimate monthly, quarterly, or even yearly cost trends against a budget.\n",
        "\n"
      ],
      "metadata": {
        "id": "eUuDdEN1Ivai"
      }
    },
    {
      "cell_type": "markdown",
      "source": [
        "## Cost alerts\n",
        "Cost alerts provide a single location to quickly check on all of the different alert types that may show up in the Cost Management service. The three types of alerts that may show up are:\n",
        "\n",
        "- Budget alerts\n",
        "- Credit alerts\n",
        "- Department spending quota alerts.\n",
        "\n"
      ],
      "metadata": {
        "id": "01zrwbGhIvXC"
      }
    },
    {
      "cell_type": "markdown",
      "source": [
        "### Budget alerts\n",
        "Budget alerts notify you when spending, based on usage or cost, reaches or exceeds the amount defined in the alert condition of the budget. Cost Management budgets are created using the Azure portal or the Azure Consumption API.\n",
        "\n",
        "In the Azure portal, budgets are defined by cost. Budgets are defined by cost or by consumption usage when using the Azure Consumption API. Budget alerts support both cost-based and usage-based budgets. Budget alerts are generated automatically whenever the budget alert conditions are met. You can view all cost alerts in the Azure portal. Whenever an alert is generated, it appears in cost alerts. An alert email is also sent to the people in the alert recipients list of the budget.\n",
        "\n"
      ],
      "metadata": {
        "id": "dEzZqBKSIvUP"
      }
    },
    {
      "cell_type": "markdown",
      "source": [
        "### Credit alerts\n",
        "Credit alerts notify you when your Azure credit monetary commitments are consumed. Monetary commitments are for organizations with Enterprise Agreements (EAs). Credit alerts are generated automatically at 90% and at 100% of your Azure credit balance. Whenever an alert is generated, it's reflected in cost alerts, and in the email sent to the account owners.\n",
        "\n"
      ],
      "metadata": {
        "id": "oyrQJwv5IvSH"
      }
    },
    {
      "cell_type": "markdown",
      "source": [
        "### Department spending quota alerts\n",
        "Department spending quota alerts notify you when department spending reaches a fixed threshold of the quota. Spending quotas are configured in the EA portal. Whenever a threshold is met, it generates an email to department owners, and appears in cost alerts. For example, 50 percent or 75 percent of the quota.\n",
        "\n"
      ],
      "metadata": {
        "id": "12jUtfwcIvPn"
      }
    },
    {
      "cell_type": "markdown",
      "source": [
        "## Budgets\n",
        "A budget is where you set a spending limit for Azure. You can set budgets based on a subscription, resource group, service type, or other criteria. When you set a budget, you will also set a budget alert. When the budget hits the budget alert level, it will trigger a budget alert that shows up in the cost alerts area. If configured, budget alerts will also send an email notification that a budget alert threshold has been triggered.\n",
        "\n",
        "A more advanced use of budgets enables budget conditions to trigger automation that suspends or otherwise modifies resources once the trigger condition has occurred.\n",
        "\n"
      ],
      "metadata": {
        "id": "_Ux3YPpboAtf"
      }
    },
    {
      "cell_type": "markdown",
      "source": [
        "## Next unit: Describe the purpose of tags\n",
        "\n"
      ],
      "metadata": {
        "id": "kVWNq0-KJULe"
      }
    },
    {
      "cell_type": "markdown",
      "source": [
        "# Unit 7 of 9\n",
        "\n"
      ],
      "metadata": {
        "id": "eZCfPAPfJUH-"
      }
    }
  ]
}