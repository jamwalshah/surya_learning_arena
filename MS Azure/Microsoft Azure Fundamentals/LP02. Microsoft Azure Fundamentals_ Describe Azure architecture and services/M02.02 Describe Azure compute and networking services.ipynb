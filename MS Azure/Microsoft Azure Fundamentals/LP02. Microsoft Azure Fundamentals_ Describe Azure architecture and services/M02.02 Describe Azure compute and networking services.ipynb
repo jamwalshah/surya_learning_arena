{
  "nbformat": 4,
  "nbformat_minor": 0,
  "metadata": {
    "colab": {
      "provenance": [],
      "toc_visible": true
    },
    "kernelspec": {
      "name": "python3",
      "display_name": "Python 3"
    },
    "language_info": {
      "name": "python"
    }
  },
  "cells": [
    {
      "cell_type": "markdown",
      "source": [
        "# Unit 1 of 14\n",
        "\n"
      ],
      "metadata": {
        "id": "Ycoz262Hc2N_"
      }
    },
    {
      "cell_type": "markdown",
      "source": [
        "## Introduction\n",
        "\n",
        "In this module, you’ll be introduced to the compute and networking services of Azure. You’ll learn about three of the compute options (virtual machines, containers, and Azure functions). You’ll also learn about some of the networking features, such as Azure virtual networks, Azure DNS, and Azure ExpressRoute.\n",
        "\n"
      ],
      "metadata": {
        "id": "9LhI3i10c2KZ"
      }
    },
    {
      "cell_type": "markdown",
      "source": [
        "## Learning Objectives\n",
        "\n",
        "After completing this module, you’ll be able to:\n",
        "\n",
        "- Compare compute types, including container instances, virtual machines, and functions.\n",
        "- Describe virtual machine options, including virtual machines (VMs), virtual machine scale sets, virtual machine availability sets, and Azure Virtual Desktop.\n",
        "- Describe resources required for virtual machines.\n",
        "- Describe application hosting options, including Azure Web Apps, containers, and virtual machines.\n",
        "- Describe virtual networking, including the purpose of Azure Virtual Networks, Azure virtual subnets, peering, Azure DNS, VPN Gateway, and ExpressRoute.\n",
        "- Define public and private endpoints.\n",
        "\n"
      ],
      "metadata": {
        "id": "02Y5ON8ac2Do"
      }
    },
    {
      "cell_type": "markdown",
      "source": [
        "## Next unit: Describe Azure virtual machines\n",
        "\n"
      ],
      "metadata": {
        "id": "L9nNeaOCc2AO"
      }
    },
    {
      "cell_type": "markdown",
      "source": [
        "# Unit 2 of 14\n",
        "\n"
      ],
      "metadata": {
        "id": "zvJzfsG-c1-D"
      }
    },
    {
      "cell_type": "markdown",
      "source": [
        "## Describe Azure virtual machines\n",
        "\n",
        "With Azure Virtual Machines (VMs), you can create and use VMs in the cloud. VMs provide infrastructure as a service (IaaS) in the form of a virtualized server and can be used in many ways. Just like a physical computer, you can customize all of the software running on your VM. VMs are an ideal choice when you need:\n",
        "\n",
        "- Total control over the operating system (OS).\n",
        "- The ability to run custom software.\n",
        "- To use custom hosting configurations.\n",
        "\n",
        "An Azure VM gives you the flexibility of virtualization without having to buy and maintain the physical hardware that runs the VM. However, as an IaaS offering, you still need to configure, update, and maintain the software that runs on the VM.\n",
        "\n",
        "You can even create or use an already created image to rapidly provision VMs. You can create and provision a VM in minutes when you select a pre-configured VM image. An image is a template used to create a VM and may already include an OS and other software, like development tools or web hosting environments.\n",
        "\n"
      ],
      "metadata": {
        "id": "BHaO2asnc18L"
      }
    },
    {
      "cell_type": "markdown",
      "source": [
        "## Scale VMs in Azure\n",
        "\n",
        "You can run single VMs for testing, development, or minor tasks. Or you can group VMs together to provide high availability, scalability, and redundancy. Azure can also manage the grouping of VMs for you with features such as scale sets and availability sets.\n",
        "\n"
      ],
      "metadata": {
        "id": "AeJU4tqXc158"
      }
    },
    {
      "cell_type": "markdown",
      "source": [
        "## Virtual machine scale sets\n",
        "\n",
        "Virtual machine scale sets let you create and manage a group of identical, load-balanced VMs. If you simply created multiple VMs with the same purpose, you’d need to ensure they were all configured identically and then set up network routing parameters to ensure efficiency. You’d also have to monitor the utilization to determine if you need to increase or decrease the number of VMs.\n",
        "\n",
        "Instead, with virtual machine scale sets, Azure automates most of that work. Scale sets allow you to centrally manage, configure, and update a large number of VMs in minutes. The number of VM instances can automatically increase or decrease in response to demand, or you can set it to scale based on a defined schedule. Virtual machine scale sets also automatically deploy a load balancer to make sure that your resources are being used efficiently. With virtual machine scale sets, you can build large-scale services for areas such as compute, big data, and container workloads.\n",
        "\n"
      ],
      "metadata": {
        "id": "7fc9BjiFc14Z"
      }
    },
    {
      "cell_type": "markdown",
      "source": [
        "## Virtual machine availability sets\n",
        "\n",
        "Virtual machine availability sets are another tool to help you build a more resilient, highly available environment. Availability sets are designed to ensure that VMs stagger updates and have varied power and network connectivity, preventing you from losing all your VMs with a single network or power failure.\n",
        "\n",
        "Availability sets do this by grouping VMs in two ways: update domain and fault domain.\n",
        "\n",
        "- **Update domain**: The update domain groups VMs that can be rebooted at the same time. This allows you to apply updates while knowing that only one update domain grouping will be offline at a time. All of the machines in one update domain will be updated. An update group going through the update process is given a 30-minute time to recover before maintenance on the next update domain starts.\n",
        "- **Fault domain**: The fault domain groups your VMs by common power source and network switch. By default, an availability set will split your VMs across up to three fault domains. This helps protect against a physical power or networking failure by having VMs in different fault domains (thus being connected to different power and networking resources).\n",
        "\n",
        "Best of all, there’s no additional cost for configuring an availability set. You only pay for the VM instances you create.\n",
        "\n"
      ],
      "metadata": {
        "id": "kODPpED7c113"
      }
    },
    {
      "cell_type": "markdown",
      "source": [
        "## Examples of when to use VMs\n",
        "\n",
        "Some common examples or use cases for virtual machines include:\n",
        "\n",
        "- **During testing and development**. VMs provide a quick and easy way to create different OS and application configurations. Test and development personnel can then easily delete the VMs when they no longer need them.\n",
        "- **When running applications in the cloud**. The ability to run certain applications in the public cloud as opposed to creating a traditional infrastructure to run them can provide substantial economic benefits. For example, an application might need to handle fluctuations in demand. Shutting down VMs when you don't need them or quickly starting them up to meet a sudden increase in demand means you pay only for the resources you use.\n",
        "- **When extending your datacenter to the cloud**: An organization can extend the capabilities of its own on-premises network by creating a virtual network in Azure and adding VMs to that virtual network. Applications like SharePoint can then run on an Azure VM instead of running locally. This arrangement makes it easier or less expensive to deploy than in an on-premises environment.\n",
        "- **During disaster recovery**: As with running certain types of applications in the cloud and extending an on-premises network to the cloud, you can get significant cost savings by using an IaaS-based approach to disaster recovery. If a primary datacenter fails, you can create VMs running on Azure to run your critical applications and then shut them down when the primary datacenter becomes operational again.\n",
        "\n"
      ],
      "metadata": {
        "id": "BAJdUGQzc1zr"
      }
    },
    {
      "cell_type": "markdown",
      "source": [
        "## Move to the cloud with VMs\n",
        "\n",
        "VMs are also an excellent choice when you move from a physical server to the cloud (also known as lift and shift). You can create an image of the physical server and host it within a VM with little or no changes. Just like a physical on-premises server, you must maintain the VM: you’re responsible for maintaining the installed OS and software.\n",
        "\n"
      ],
      "metadata": {
        "id": "10BxzERIc1wT"
      }
    },
    {
      "cell_type": "markdown",
      "source": [
        "## VM Resources\n",
        "\n",
        "When you provision a VM, you’ll also have the chance to pick the resources that are associated with that VM, including:\n",
        "\n",
        "- Size (purpose, number of processor cores, and amount of RAM)\n",
        "- Storage disks (hard disk drives, solid state drives, etc.)\n",
        "- Networking (virtual network, public IP address, and port configuration)\n",
        "\n"
      ],
      "metadata": {
        "id": "inG5l8Ucc1tx"
      }
    },
    {
      "cell_type": "markdown",
      "source": [
        "## Next unit: Exercise - Create an Azure virtual machine\n",
        "\n"
      ],
      "metadata": {
        "id": "aoGJb2Zmc1q3"
      }
    },
    {
      "cell_type": "markdown",
      "source": [
        "# Unit 3 of 14\n",
        "\n"
      ],
      "metadata": {
        "id": "jwTMbRqSc1oD"
      }
    },
    {
      "cell_type": "markdown",
      "source": [
        "## Exercise - Create an Azure virtual machine\n",
        "\n",
        "In this exercise, you create an Azure virtual machine (VM) and install Nginx, a popular web server.\n",
        "\n",
        "You could use the Azure portal, the Azure CLI, Azure PowerShell, or an Azure Resource Manager (ARM) template.\n",
        "\n",
        "In this instance, you're going to use the Azure CLI.\n",
        "\n"
      ],
      "metadata": {
        "id": "xid0z0L7c1j4"
      }
    },
    {
      "cell_type": "markdown",
      "source": [
        "## Task 1: Create a Linux virtual machine and install Nginx\n",
        "\n",
        "Use the following Azure CLI commands to create a Linux VM and install Nginx. After your VM is created, you'll use the Custom Script Extension to install Nginx. The Custom Script Extension is an easy way to download and run scripts on your Azure VMs. It's just one of the many ways you can configure the system after your VM is up and running.\n",
        "\n",
        "1. From Cloud Shell, run the following `az vm create` command to create a Linux VM:\n",
        "\n",
        "```Azure CLI\n",
        "  --resource-group \"[sandbox resource group name]\" \\\n",
        "  --name my-vm \\\n",
        "  --public-ip-sku Standard \\\n",
        "  --image Ubuntu2204 \\\n",
        "  --admin-username azureuser \\\n",
        "  --generate-ssh-keys\n",
        "```\n",
        "Your VM will take a few moments to come up. You named the VM **my-vm**. You use this name to refer to the VM in later steps.\n",
        "\n",
        "2. Run the following `az vm extension set` command to configure Nginx on your VM:\n",
        "\n",
        "```Azure CLI\n",
        "az vm extension set \\\n",
        "  --resource-group \"[sandbox resource group name]\" \\\n",
        "  --vm-name my-vm \\\n",
        "  --name customScript \\\n",
        "  --publisher Microsoft.Azure.Extensions \\\n",
        "  --version 2.1 \\\n",
        "  --settings '{\"fileUris\":[\"https://raw.githubusercontent.com/MicrosoftDocs/mslearn-welcome-to-azure/master/configure-nginx.sh\"]}' \\\n",
        "  --protected-settings '{\"commandToExecute\": \"./configure-nginx.sh\"}'\n",
        "```\n",
        "\n",
        "This command uses the Custom Script Extension to run a Bash script on your VM. The script is stored on GitHub. While the command runs, you can choose to [examine the Bash script](https://raw.githubusercontent.com/MicrosoftDocs/mslearn-welcome-to-azure/master/configure-nginx.sh) from a separate browser tab. To summarize, the script:\n",
        "\n",
        "1. Runs `apt-get update` to download the latest package information from the internet. This step helps ensure that the next command can locate the latest version of the Nginx package.\n",
        "2. Installs Nginx.\n",
        "3. Sets the home page, */var/www/html/index.html*, to print a welcome message that includes your VM's host name.\n",
        "\n"
      ],
      "metadata": {
        "id": "G6J7SrZLc1gI"
      }
    },
    {
      "cell_type": "markdown",
      "source": [
        "## Continue\n",
        "\n",
        "That's all for this exercise. The sandbox will keep running, and you'll come back to this point in a few units to update the network configuration so you can get to the website.\n",
        "\n"
      ],
      "metadata": {
        "id": "JWWc0_pbc1eF"
      }
    },
    {
      "cell_type": "markdown",
      "source": [
        "## Next unit: Describe Azure virtual desktop\n",
        "\n"
      ],
      "metadata": {
        "id": "gIdM_kVac1Rh"
      }
    },
    {
      "cell_type": "markdown",
      "source": [
        "# Unit 4 of 14\n",
        "\n"
      ],
      "metadata": {
        "id": "kXhU6VrPgC8K"
      }
    },
    {
      "cell_type": "markdown",
      "source": [
        "## Describe Azure virtual desktop\n",
        "\n",
        "Another type of virtual machine is the Azure Virtual Desktop. Azure Virtual Desktop is a desktop and application virtualization service that runs on the cloud. It enables you to use a cloud-hosted version of Windows from any location. Azure Virtual Desktop works across devices and operating systems, and works with apps that you can use to access remote desktops or most modern browsers.\n",
        "\n",
        "The following video gives you an overview of Azure Virtual Desktop:\n",
        "\n"
      ],
      "metadata": {
        "id": "bUlkjM8OgC4w"
      }
    },
    {
      "cell_type": "code",
      "source": [
        "from IPython.display import HTML\n",
        "\n",
        "# Embedding the video link using HTML iframe\n",
        "video_url = 'https://www.microsoft.com/en-us/videoplayer/embed/RE4LRpC?postJsllMsg=true'\n",
        "embed_code = f'<iframe width=\"560\" height=\"315\" src=\"{video_url}\" frameborder=\"0\" allowfullscreen></iframe>'\n",
        "HTML(embed_code)"
      ],
      "metadata": {
        "colab": {
          "base_uri": "https://localhost:8080/",
          "height": 371
        },
        "id": "vesYjsZdHPyq",
        "outputId": "d35c03d8-b552-4943-f4dc-8ab7a9beb089"
      },
      "execution_count": null,
      "outputs": [
        {
          "output_type": "stream",
          "name": "stderr",
          "text": [
            "C:\\Users\\surya\\AppData\\Local\\Programs\\Python\\Python312\\Lib\\site-packages\\IPython\\core\\display.py:431: UserWarning: Consider using IPython.display.IFrame instead\n",
            "  warnings.warn(\"Consider using IPython.display.IFrame instead\")\n"
          ]
        },
        {
          "output_type": "execute_result",
          "data": {
            "text/plain": [
              "<IPython.core.display.HTML object>"
            ],
            "text/html": [
              "<iframe width=\"560\" height=\"315\" src=\"https://www.microsoft.com/en-us/videoplayer/embed/RE4LRpC?postJsllMsg=true\" frameborder=\"0\" allowfullscreen></iframe>"
            ]
          },
          "metadata": {},
          "execution_count": 1
        }
      ]
    },
    {
      "cell_type": "markdown",
      "source": [
        "## Enhance security\n",
        "\n",
        "Azure Virtual Desktop provides centralized security management for users' desktops with Microsoft Entra ID. You can enable multi-factor authentication to secure user sign-ins. You can also secure access to data by assigning granular role-based access controls (RBACs) to users.\n",
        "\n",
        "With Azure Virtual Desktop, the data and apps are separated from the local hardware. The actual desktop and apps are running in the cloud, meaning the risk of confidential data being left on a personal device is reduced. Additionally, user sessions are isolated in both single and multi-session environments.\n",
        "\n"
      ],
      "metadata": {
        "id": "ODcbBs1ugC2v"
      }
    },
    {
      "cell_type": "markdown",
      "source": [
        "## Multi-session Windows 10 or Windows 11 deployment\n",
        "\n",
        "Azure Virtual Desktop lets you use Windows 10 or Windows 11 Enterprise multi-session, the only Windows client-based operating system that enables multiple concurrent users on a single VM. Azure Virtual Desktop also provides a more consistent experience with broader application support compared to Windows Server-based operating systems.\n",
        "\n"
      ],
      "metadata": {
        "id": "oOaZ8c7yHixI"
      }
    },
    {
      "cell_type": "markdown",
      "source": [
        "## Next unit: Describe Azure containers\n",
        "\n"
      ],
      "metadata": {
        "id": "M8QCSh4_Hitn"
      }
    },
    {
      "cell_type": "markdown",
      "source": [
        "# Unit 5 of 14\n",
        "\n"
      ],
      "metadata": {
        "id": "y_zkb3pyHiqx"
      }
    },
    {
      "cell_type": "markdown",
      "source": [
        "## Describe Azure containers\n",
        "\n",
        "While virtual machines are an excellent way to reduce costs versus the investments that are necessary for physical hardware, they're still limited to a single operating system per virtual machine. If you want to run multiple instances of an application on a single host machine, containers are an excellent choice.\n",
        "\n"
      ],
      "metadata": {
        "id": "MOZLFgO0HioR"
      }
    },
    {
      "cell_type": "markdown",
      "source": [
        "## What are containers?\n",
        "\n",
        "Containers are a virtualization environment. Much like running multiple virtual machines on a single physical host, you can run multiple containers on a single physical or virtual host. Unlike virtual machines, you don't manage the operating system for a container. Virtual machines appear to be an instance of an operating system that you can connect to and manage. Containers are lightweight and designed to be created, scaled out, and stopped dynamically. It's possible to create and deploy virtual machines as application demand increases, but containers are a lighter weight, more agile method. Containers are designed to allow you to respond to changes on demand. With containers, you can quickly restart if there's a crash or hardware interruption. One of the most popular container engines is Docker, and Azure supports Docker.\n",
        "\n"
      ],
      "metadata": {
        "id": "hhlRHTXCHil5"
      }
    },
    {
      "cell_type": "markdown",
      "source": [
        "## Compare virtual machines to containers\n",
        "\n",
        "The following video highlights several of the important differences between virtual machines and containers:\n",
        "\n"
      ],
      "metadata": {
        "id": "1EqsI3tiHihD"
      }
    },
    {
      "cell_type": "code",
      "source": [
        "from IPython.display import HTML\n",
        "\n",
        "# Embedding the video link using HTML iframe\n",
        "video_url = 'https://www.microsoft.com/en-us/videoplayer/embed/RE2yuaq?postJsllMsg=true'\n",
        "embed_code = f'<iframe width=\"560\" height=\"315\" src=\"{video_url}\" frameborder=\"0\" allowfullscreen></iframe>'\n",
        "HTML(embed_code)"
      ],
      "metadata": {
        "colab": {
          "base_uri": "https://localhost:8080/",
          "height": 336
        },
        "id": "XlrP1CgiHzxT",
        "outputId": "dda9f98e-1f83-40c4-f6cb-60d89ed80e45"
      },
      "execution_count": null,
      "outputs": [
        {
          "output_type": "execute_result",
          "data": {
            "text/plain": [
              "<IPython.core.display.HTML object>"
            ],
            "text/html": [
              "<iframe width=\"560\" height=\"315\" src=\"https://www.microsoft.com/en-us/videoplayer/embed/RE2yuaq?postJsllMsg=true\" frameborder=\"0\" allowfullscreen></iframe>"
            ]
          },
          "metadata": {},
          "execution_count": 2
        }
      ]
    },
    {
      "cell_type": "markdown",
      "source": [
        "## Azure Container Instances\n",
        "\n",
        "Azure Container Instances offer the fastest and simplest way to run a container in Azure; without having to manage any virtual machines or adopt any additional services. Azure Container Instances are a platform as a service (PaaS) offering. Azure Container Instances allow you to upload your containers and then the service will run the containers for you.\n",
        "\n"
      ],
      "metadata": {
        "id": "WXOd3XGeHifB"
      }
    },
    {
      "cell_type": "markdown",
      "source": [
        "## Azure Container Apps\n",
        "\n",
        "Azure Container Apps are similar in many ways to a container instance. They allow you to get up and running right away, they remove the container management piece, and they're a PaaS offering. Container Apps have extra benefits such as the ability to incorporate load balancing and scaling. These other functions allow you to be more elastic in your design.\n",
        "\n"
      ],
      "metadata": {
        "id": "SVSEcAkqHico"
      }
    },
    {
      "cell_type": "markdown",
      "source": [
        "## Azure Kubernetes Service\n",
        "\n",
        "Azure Kubernetes Service (AKS) is a container orchestration service. An orchestration service manages the lifecycle of containers. When you're deploying a fleet of containers, AKS can make fleet management simpler and more efficient.\n",
        "\n"
      ],
      "metadata": {
        "id": "5J5YqLUfHiaA"
      }
    },
    {
      "cell_type": "markdown",
      "source": [
        "## Use containers in your solutions\n",
        "\n",
        "Containers are often used to create solutions by using a microservice architecture. This architecture is where you break solutions into smaller, independent pieces. For example, you might split a website into a container hosting your front end, another hosting your back end, and a third for storage. This split allows you to separate portions of your app into logical sections that can be maintained, scaled, or updated independently.\n",
        "\n",
        "Imagine your website back-end has reached capacity but the front end and storage aren't being stressed. With containers, you could scale the back end separately to improve performance. If something necessitated such a change, you could also choose to change the storage service or modify the front end without impacting any of the other components.\n",
        "\n"
      ],
      "metadata": {
        "id": "NpKUZByiHiXk"
      }
    },
    {
      "cell_type": "markdown",
      "source": [
        "## Next unit: Describe Azure functions\n",
        "\n"
      ],
      "metadata": {
        "id": "9D9ve7aXgC0a"
      }
    },
    {
      "cell_type": "markdown",
      "source": [
        "# Unit 6 of 14\n",
        "\n"
      ],
      "metadata": {
        "id": "8j5ehMNGIK3k"
      }
    },
    {
      "cell_type": "markdown",
      "source": [
        "## Describe Azure functions\n",
        "\n",
        "Azure Functions is an event-driven, serverless compute option that doesn’t require maintaining virtual machines or containers. If you build an app using VMs or containers, those resources have to be “running” in order for your app to function. With Azure Functions, an event wakes the function, alleviating the need to keep resources provisioned when there are no events.\n",
        "\n"
      ],
      "metadata": {
        "id": "yE6PXOCpIK0A"
      }
    },
    {
      "cell_type": "markdown",
      "source": [
        "## Serverless computing in Azure\n"
      ],
      "metadata": {
        "id": "V9TtE9uXIKkb"
      }
    },
    {
      "cell_type": "code",
      "source": [
        "from IPython.display import HTML\n",
        "\n",
        "# Embedding the video link using HTML iframe\n",
        "video_url = 'https://www.microsoft.com/en-us/videoplayer/embed/RE2yzjL?postJsllMsg=true'\n",
        "embed_code = f'<iframe width=\"560\" height=\"315\" src=\"{video_url}\" frameborder=\"0\" allowfullscreen></iframe>'\n",
        "HTML(embed_code)"
      ],
      "metadata": {
        "colab": {
          "base_uri": "https://localhost:8080/",
          "height": 336
        },
        "id": "or2DJQ0cITWt",
        "outputId": "b542a84e-3afa-476a-bae4-43d881b41507"
      },
      "execution_count": null,
      "outputs": [
        {
          "output_type": "execute_result",
          "data": {
            "text/plain": [
              "<IPython.core.display.HTML object>"
            ],
            "text/html": [
              "<iframe width=\"560\" height=\"315\" src=\"https://www.microsoft.com/en-us/videoplayer/embed/RE2yzjL?postJsllMsg=true\" frameborder=\"0\" allowfullscreen></iframe>"
            ]
          },
          "metadata": {},
          "execution_count": 3
        }
      ]
    },
    {
      "cell_type": "markdown",
      "source": [
        "## Benefits of Azure Functions\n",
        "\n",
        "Using Azure Functions is ideal when you're only concerned about the code running your service and not about the underlying platform or infrastructure. Functions are commonly used when you need to perform work in response to an event (often via a REST request), timer, or message from another Azure service, and when that work can be completed quickly, within seconds or less.\n",
        "\n",
        "Functions scale automatically based on demand, so they may be a good choice when demand is variable.\n",
        "\n",
        "Azure Functions runs your code when it's triggered and automatically de-allocates resources when the function is finished. In this model, you're only charged for the CPU time used while your function runs.\n",
        "\n",
        "Functions can be either stateless or stateful. When they're stateless (the default), they behave as if they're restarted every time they respond to an event. When they're stateful (called Durable Functions), a context is passed through the function to track prior activity.\n",
        "\n",
        "Functions are a key component of serverless computing. They're also a general compute platform for running any type of code. If the needs of the developer's app change, you can deploy the project in an environment that isn't serverless. This flexibility allows you to manage scaling, run on virtual networks, and even completely isolate the functions.\n",
        "\n"
      ],
      "metadata": {
        "id": "UD2bGlGJIKg7"
      }
    },
    {
      "cell_type": "markdown",
      "source": [
        "## Next unit: Describe application hosting options\n",
        "\n"
      ],
      "metadata": {
        "id": "YkqHsOJoIKfQ"
      }
    },
    {
      "cell_type": "markdown",
      "source": [
        "# Unit 7 of 14\n",
        "\n"
      ],
      "metadata": {
        "id": "M9YkYK6CIKcq"
      }
    },
    {
      "cell_type": "markdown",
      "source": [
        "## Describe application hosting options\n",
        "\n",
        "If you need to host your application on Azure, you might initially turn to a virtual machine (VM) or containers. Both VMs and containers provide excellent hosting solutions. VMs give you maximum control of the hosting environment and allow you to configure it exactly how you want. VMs also may be the most familiar hosting method if you’re new to the cloud. Containers, with the ability to isolate and individually manage different aspects of the hosting solution, can also be a robust and compelling option.\n",
        "\n",
        "There are other hosting options that you can use with Azure, including Azure App Service.\n",
        "\n"
      ],
      "metadata": {
        "id": "PQvntM-aIKaL"
      }
    },
    {
      "cell_type": "markdown",
      "source": [
        "## Azure App Service\n",
        "\n",
        "App Service enables you to build and host web apps, background jobs, mobile back-ends, and RESTful APIs in the programming language of your choice without managing infrastructure. It offers automatic scaling and high availability. App Service supports Windows and Linux. It enables automated deployments from GitHub, Azure DevOps, or any Git repo to support a continuous deployment model.\n",
        "\n",
        "Azure App Service is a robust hosting option that you can use to host your apps in Azure. Azure App Service lets you focus on building and maintaining your app, and Azure focuses on keeping the environment up and running.\n",
        "\n",
        "Azure App Service is an HTTP-based service for hosting web applications, REST APIs, and mobile back ends. It supports multiple languages, including .NET, .NET Core, Java, Ruby, Node.js, PHP, or Python. It also supports both Windows and Linux environments.\n",
        "\n"
      ],
      "metadata": {
        "id": "eG4PNaO9IKXp"
      }
    },
    {
      "cell_type": "markdown",
      "source": [
        "## Types of app services\n",
        "\n",
        "With App Service, you can host most common app service styles like:\n",
        "\n",
        "- Web apps\n",
        "- API apps\n",
        "- WebJobs\n",
        "- Mobile apps\n",
        "\n",
        "App Service handles most of the infrastructure decisions you deal with in hosting web-accessible apps:\n",
        "\n",
        "- Deployment and management are integrated into the platform.\n",
        "- Endpoints can be secured.\n",
        "- Sites can be scaled quickly to handle high traffic loads.\n",
        "- The built-in load balancing and traffic manager provide high availability.\n",
        "\n",
        "All of these app styles are hosted in the same infrastructure and share these benefits. This flexibility makes App Service the ideal choice to host web-oriented applications.\n",
        "\n"
      ],
      "metadata": {
        "id": "vJ9b4UFDIKVL"
      }
    },
    {
      "cell_type": "markdown",
      "source": [
        "## Web apps\n",
        "\n",
        "App Service includes full support for hosting web apps by using ASP.NET, ASP.NET Core, Java, Ruby, Node.js, PHP, or Python. You can choose either Windows or Linux as the host operating system.\n",
        "\n"
      ],
      "metadata": {
        "id": "acG2NFG5IKS1"
      }
    },
    {
      "cell_type": "markdown",
      "source": [
        "## API apps\n",
        "\n",
        "Much like hosting a website, you can build REST-based web APIs by using your choice of language and framework. You get full Swagger support and the ability to package and publish your API in Azure Marketplace. The produced apps can be consumed from any HTTP- or HTTPS-based client.\n",
        "\n"
      ],
      "metadata": {
        "id": "K1o8ysdoIKQQ"
      }
    },
    {
      "cell_type": "markdown",
      "source": [
        "## WebJobs\n",
        "\n",
        "You can use the WebJobs feature to run a program (.exe, Java, PHP, Python, or Node.js) or script (.cmd, .bat, PowerShell, or Bash) in the same context as a web app, API app, or mobile app. They can be scheduled or run by a trigger. WebJobs are often used to run background tasks as part of your application logic.\n",
        "\n"
      ],
      "metadata": {
        "id": "wZTgzn9oIKNc"
      }
    },
    {
      "cell_type": "markdown",
      "source": [
        "## Mobile apps\n",
        "\n",
        "Use the Mobile Apps feature of App Service to quickly build a back end for iOS and Android apps. With just a few actions in the Azure portal, you can:\n",
        "\n",
        "- Store mobile app data in a cloud-based SQL database.\n",
        "- Authenticate customers against common social providers, such as MSA, Google, Twitter, and Facebook.\n",
        "- Send push notifications.\n",
        "- Execute custom back-end logic in C# or Node.js.\n",
        "\n",
        "On the mobile app side, there's SDK support for native iOS and Android, Xamarin, and React native apps.\n",
        "\n"
      ],
      "metadata": {
        "id": "kzwrNyxHJKKt"
      }
    },
    {
      "cell_type": "markdown",
      "source": [
        "## Next unit: Describe Azure virtual networking\n",
        "\n"
      ],
      "metadata": {
        "id": "xUf_2wIbJKHL"
      }
    },
    {
      "cell_type": "markdown",
      "source": [
        "# Unit 8 of 14\n",
        "\n"
      ],
      "metadata": {
        "id": "9PG9OpFSJKFa"
      }
    },
    {
      "cell_type": "markdown",
      "source": [
        "## Describe Azure virtual networking\n",
        "\n",
        "Azure virtual networks and virtual subnets enable Azure resources, such as VMs, web apps, and databases, to communicate with each other, with users on the internet, and with your on-premises client computers. You can think of an Azure network as an extension of your on-premises network with resources that link other Azure resources.\n",
        "\n",
        "Azure virtual networks provide the following key networking capabilities:\n",
        "\n",
        "- Isolation and segmentation\n",
        "- Internet communications\n",
        "- Communicate between Azure resources\n",
        "- Communicate with on-premises resources\n",
        "- Route network traffic\n",
        "- Filter network traffic\n",
        "- Connect virtual networks\n",
        "\n",
        "Azure virtual networking supports both public and private endpoints to enable communication between external or internal resources with other internal resources.\n",
        "\n",
        "- Public endpoints have a public IP address and can be accessed from anywhere in the world.\n",
        "- Private endpoints exist within a virtual network and have a private IP address from within the address space of that virtual network.\n",
        "\n"
      ],
      "metadata": {
        "id": "BNYpwLE4JKDe"
      }
    },
    {
      "cell_type": "markdown",
      "source": [
        "### Isolation and segmentation\n",
        "\n",
        "Azure virtual network allows you to create multiple isolated virtual networks. When you set up a virtual network, you define a private IP address space by using either public or private IP address ranges. The IP range only exists within the virtual network and isn't internet routable. You can divide that IP address space into subnets and allocate part of the defined address space to each named subnet.\n",
        "\n",
        "For name resolution, you can use the name resolution service that's built into Azure. You also can configure the virtual network to use either an internal or an external DNS server.\n",
        "\n"
      ],
      "metadata": {
        "id": "J3H9Xn_4JKBh"
      }
    },
    {
      "cell_type": "markdown",
      "source": [
        "### Internet communications\n",
        "\n",
        "You can enable incoming connections from the internet by assigning a public IP address to an Azure resource, or putting the resource behind a public load balancer.\n",
        "\n"
      ],
      "metadata": {
        "id": "T58FQNkeJJ_F"
      }
    },
    {
      "cell_type": "markdown",
      "source": [
        "### Communicate between Azure resources\n",
        "\n",
        "You'll want to enable Azure resources to communicate securely with each other. You can do that in one of two ways:\n",
        "\n",
        "- Virtual networks can connect not only VMs but other Azure resources, such as the App Service Environment for Power Apps, Azure Kubernetes Service, and Azure virtual machine scale sets.\n",
        "- Service endpoints can connect to other Azure resource types, such as Azure SQL databases and storage accounts. This approach enables you to link multiple Azure resources to virtual networks to improve security and provide optimal routing between resources.\n",
        "\n"
      ],
      "metadata": {
        "id": "vRdbrWr4JJwg"
      }
    },
    {
      "cell_type": "markdown",
      "source": [
        "### Communicate with on-premises resources\n",
        "\n",
        "Azure virtual networks enable you to link resources together in your on-premises environment and within your Azure subscription. In effect, you can create a network that spans both your local and cloud environments. There are three mechanisms for you to achieve this connectivity:\n",
        "\n",
        "- Point-to-site virtual private network connections are from a computer outside your organization back into your corporate network. In this case, the client computer initiates an encrypted VPN connection to connect to the Azure virtual network.\n",
        "- Site-to-site virtual private networks link your on-premises VPN device or gateway to the Azure VPN gateway in a virtual network. In effect, the devices in Azure can appear as being on the local network. The connection is encrypted and works over the internet.\n",
        "- Azure ExpressRoute provides a dedicated private connectivity to Azure that doesn't travel over the internet. ExpressRoute is useful for environments where you need greater bandwidth and even higher levels of security.\n",
        "\n"
      ],
      "metadata": {
        "id": "MztCuLRuJ5Ew"
      }
    },
    {
      "cell_type": "markdown",
      "source": [
        "### Route network traffic\n",
        "\n",
        "By default, Azure routes traffic between subnets on any connected virtual networks, on-premises networks, and the internet. You also can control routing and override those settings, as follows:\n",
        "\n",
        "- Route tables allow you to define rules about how traffic should be directed. You can create custom route tables that control how packets are routed between subnets.\n",
        "- Border Gateway Protocol (BGP) works with Azure VPN gateways, Azure Route Server, or Azure ExpressRoute to propagate on-premises BGP routes to Azure virtual networks.\n",
        "\n"
      ],
      "metadata": {
        "id": "xGEZsq3oJ5BR"
      }
    },
    {
      "cell_type": "markdown",
      "source": [
        "### Filter network traffic\n",
        "\n",
        "Azure virtual networks enable you to filter traffic between subnets by using the following approaches:\n",
        "\n",
        "- Network security groups are Azure resources that can contain multiple inbound and outbound security rules. You can define these rules to allow or block traffic, based on factors such as source and destination IP address, port, and protocol.\n",
        "- Network virtual appliances are specialized VMs that can be compared to a hardened network appliance. A network virtual appliance carries out a particular network function, such as running a firewall or performing wide area network (WAN) optimization.\n",
        "\n"
      ],
      "metadata": {
        "id": "K56YhULYJ4-a"
      }
    },
    {
      "cell_type": "markdown",
      "source": [
        "### Connect virtual networks\n",
        "\n",
        "You can link virtual networks together by using virtual network peering. Peering allows two virtual networks to connect directly to each other. Network traffic between peered networks is private, and travels on the Microsoft backbone network, never entering the public internet. Peering enables resources in each virtual network to communicate with each other. These virtual networks can be in separate regions, which allows you to create a global interconnected network through Azure.\n",
        "\n",
        "User-defined routes (UDR) allow you to control the routing tables between subnets within a virtual network or between virtual networks. This allows for greater control over network traffic flow.\n",
        "\n"
      ],
      "metadata": {
        "id": "4idToxwdJ48T"
      }
    },
    {
      "cell_type": "markdown",
      "source": [
        "## Next unit: Exercise - Configure network access\n",
        "\n"
      ],
      "metadata": {
        "id": "n6Zexu-LJ45U"
      }
    },
    {
      "cell_type": "markdown",
      "source": [
        "# Unit 9 of 14\n",
        "\n"
      ],
      "metadata": {
        "id": "ZtziRgYwJ43B"
      }
    },
    {
      "cell_type": "markdown",
      "source": [
        "## Exercise - Configure network access\n",
        "\n",
        "In this exercise, you'll configure the access to the virtual machine (VM) you created earlier in this module.\n",
        "\n",
        "> Important: The Microsoft Learn sandbox should still be running. If the sandbox timed out, you'll need to redo the previous exercise **(Exercise - Create an Azure virtual machine)**.\n",
        "\n",
        "To verify the VM you created previously is still running, use the following command:\n",
        "\n",
        "```Azure CLI\n",
        "az vm list\n",
        "```\n",
        "\n",
        "If you receive an empty response `[]`, you need to complete the first exercise in this module again. If the result lists your current VM and its settings, you may continue.\n",
        "\n",
        "Right now, the VM you created and installed Nginx on isn't accessible from the internet. You'll create a network security group that changes that by allowing inbound HTTP access on port 80.\n",
        "\n"
      ],
      "metadata": {
        "id": "xPtR-qcXJ400"
      }
    },
    {
      "cell_type": "markdown",
      "source": [
        "## Task 1: Access your web server\n",
        "\n",
        "In this procedure, you get the IP address for your VM and attempt to access your web server's home page.\n",
        "\n",
        "1. Run the following `az vm list-ip-addresses` command to get your VM's IP address and store the result as a Bash variable:\n",
        "\n",
        "```Azure CLI\n",
        "IPADDRESS=\"$(az vm list-ip-addresses \\\n",
        "  --resource-group \"[sandbox resource group name]\" \\\n",
        "  --name my-vm \\\n",
        "  --query \"[].virtualMachine.network.publicIpAddresses[*].ipAddress\" \\\n",
        "  --output tsv)\"   \n",
        "```\n",
        "\n",
        "2. Run the following `curl` command to download the home page:\n",
        "\n",
        "```Azure CLI\n",
        "curl --connect-timeout 5 http://$IPADDRESS\n",
        "```\n",
        "\n",
        "The `--connect-timeout` argument specifies to allow up to five seconds for the connection to occur. After five seconds, you see an error message that states that the connection timed out:\n",
        "\n",
        "```Output\n",
        "curl: (28) Connection timed out after 5001 milliseconds\n",
        "```\n",
        "\n",
        "This message means that the VM was not accessible within the timeout period.\n",
        "\n",
        "3. As an optional step, try to access the web server from a browser:\n",
        "\n",
        "    1. Run the following to print your VM's IP address to the console:\n",
        "    \n",
        "    ``` Bash\n",
        "    echo $IPADDRESS\n",
        "    ```\n",
        "    \n",
        "    You see an IP address, for example, 23.102.42.235.\n",
        "    \n",
        "    2. Copy the IP address that you see to the clipboard.\n",
        "    3. Open a new browser tab and go to your web server. After a few moments, you see that the connection isn't happening. If you wait for the browser to time out, you'll see something like this:\n",
        "\n",
        "    ![Screenshot of a web browser showing an error message that says the connection timed out.](https://learn.microsoft.com/en-us/training/wwl-azure/describe-azure-compute-networking-services/media/browser-request-timeout-d7cc0e02.png)\n",
        "    4. Keep this browser tab open for later.\n",
        "\n",
        "\n"
      ],
      "metadata": {
        "id": "wcTY9AoEJ4yb"
      }
    },
    {
      "cell_type": "markdown",
      "source": [
        "## Task 2: List the current network security group rules\n",
        "\n",
        "Your web server wasn't accessible. To find out why, let's examine your current NSG rules.\n",
        "\n",
        "1. Run the following `az network nsg list` command to list the network security groups that are associated with your VM:\n",
        "\n",
        "```Azure CLI\n",
        "az network nsg list \\\n",
        "  --resource-group \"[sandbox resource group name]\" \\\n",
        "  --query '[].name' \\\n",
        "  --output tsv   \n",
        "```\n",
        "\n",
        "You see this:\n",
        "\n",
        "```Output\n",
        "my-vmNSG\n",
        "```\n",
        "\n",
        "Every VM on Azure is associated with at least one network security group. In this case, Azure created an NSG for you called *my-vmNSG*.\n",
        "\n",
        "```Azure CLI\n",
        "az network nsg rule list \\\n",
        "  --resource-group \"[sandbox resource group name]\" \\\n",
        "  --nsg-name my-vmNSG    \n",
        "```\n",
        "\n",
        "You see a large block of text in JSON format in the output. In the next step, you'll run a similar command that makes this output easier to read.\n",
        "\n",
        "2. Run the `az network nsg rule list` command a second time. This time, use the `--query` argument to retrieve only the name, priority, affected ports, and access **(Allow or Deny)** for each rule. The `--output` argument formats the output as a table so that it's easy to read.\n",
        "\n",
        "```Azure CLI\n",
        "az network nsg rule list \\\n",
        "  --resource-group \"[sandbox resource group name]\" \\\n",
        "  --nsg-name my-vmNSG \\\n",
        "  --query '[].{Name:name, Priority:priority, Port:destinationPortRange, Access:access}' \\\n",
        "  --output table    \n",
        "```\n",
        "\n",
        "You see this:\n",
        "\n",
        "```Output\n",
        "    Name              Priority    Port    Access\n",
        "    -----------------  ----------  ------  --------\n",
        "    default-allow-ssh  1000        22      Allow\n",
        "```\n",
        "\n",
        "You see the default rule, *default-allow-ssh*. This rule allows inbound connections over port 22 (SSH). SSH (Secure Shell) is a protocol that's used on Linux to allow administrators to access the system remotely. The priority of this rule is 1000. Rules are processed in priority order, with lower numbers processed before higher numbers.\n",
        "\n",
        "By default, a Linux VM's NSG allows network access only on port 22. This enables administrators to access the system. You need to also allow inbound connections on port 80, which allows access over HTTP.\n",
        "\n",
        "\n"
      ],
      "metadata": {
        "id": "ioSxy50lJ4v7"
      }
    },
    {
      "cell_type": "markdown",
      "source": [
        "## Task 3: Create the network security rule\n",
        "\n",
        "Here, you create a network security rule that allows inbound access on port 80 (HTTP).\n",
        "\n",
        "1. Run the following `az network nsg rule create` command to create a rule called allow-http that allows inbound access on port 80:\n",
        "\n",
        "```Azure CLI\n",
        "az network nsg rule create \\\n",
        "  --resource-group \"[sandbox resource group name]\" \\\n",
        "  --nsg-name my-vmNSG \\\n",
        "  --name allow-http \\\n",
        "  --protocol tcp \\\n",
        "  --priority 100 \\\n",
        "  --destination-port-range 80 \\\n",
        "  --access Allow\n",
        "```\n",
        "\n",
        "For learning purposes, here you set the priority to 100. In this case, the priority doesn't matter. You would need to consider the priority if you had overlapping port ranges.\n",
        "\n",
        "2. To verify the configuration, run `az network nsg rule list` to see the updated list of rules:\n",
        "\n",
        "```Azure CLI\n",
        "az network nsg rule list \\\n",
        "  --resource-group \"[sandbox resource group name]\" \\\n",
        "  --nsg-name my-vmNSG \\\n",
        "  --query '[].{Name:name, Priority:priority, Port:destinationPortRange, Access:access}' \\\n",
        "  --output table\n",
        "```\n",
        "\n",
        "You see this both the *default-allow-ssh* rule and your new rule, *allow-http*:\n",
        "\n",
        "```Output\n",
        "    Name              Priority    Port    Access\n",
        "    -----------------  ----------  ------  --------\n",
        "    default-allow-ssh  1000        22      Allow\n",
        "    allow-http          100        80      Allow\n",
        "```\n",
        "\n"
      ],
      "metadata": {
        "id": "BBUneMZuJ4ts"
      }
    },
    {
      "cell_type": "markdown",
      "source": [
        "## Task 4: Access your web server again\n",
        "\n",
        "Now that you've configured network access to port 80, let's try to access the web server a second time.\n",
        "> Note: After you update the NSG, it may take a few moments before the updated rules propagate. Retry the next step, with pauses between attempts, until you get the desired results.\n",
        "\n",
        "1. Run the same `curl` command that you ran earlier:\n",
        "\n",
        "```bash\n",
        "curl --connect-timeout 5 http://$IPADDRESS\n",
        "```\n",
        "\n",
        "You see this:\n",
        "\n",
        "```HTML\n",
        "<html><body><h2>Welcome to Azure! My name is my-vm.</h2></body></html>\n",
        "```\n",
        "\n",
        "2. As an optional step, refresh your browser tab that points to your web server. You see this:\n",
        "\n",
        "![SA screenshot of a web browser showing the home page from the web server. The home page displays a welcome message.](https://learn.microsoft.com/en-us/training/wwl-azure/describe-azure-compute-networking-services/media/browser-request-successful-df21c6f1.png)\n",
        "\n",
        "Nice work. In practice, you can create a standalone network security group that includes the inbound and outbound network access rules you need. If you have multiple VMs that serve the same purpose, you can assign that NSG to each VM at the time you create it. This technique enables you to control network access to multiple VMs under a single, central set of rules.\n",
        "\n",
        "\n"
      ],
      "metadata": {
        "id": "Law2fyONJ4rE"
      }
    },
    {
      "cell_type": "markdown",
      "source": [
        "## Clean up\n",
        "\n",
        "The sandbox automatically cleans up your resources when you're finished with this module.\n",
        "\n",
        "When you're working in your own subscription, it's a good idea at the end of a project to identify whether you still need the resources you created. Resources that you leave running can cost you money. You can delete resources individually or delete the resource group to delete the entire set of resources.\n",
        "\n"
      ],
      "metadata": {
        "id": "yLAbTuM_J4o8"
      }
    },
    {
      "cell_type": "markdown",
      "source": [
        "## Next unit: Describe Azure virtual private networks\n",
        "\n"
      ],
      "metadata": {
        "id": "NkU66E0lJ4mh"
      }
    },
    {
      "cell_type": "markdown",
      "source": [
        "# Unit 10 of 14\n",
        "\n"
      ],
      "metadata": {
        "id": "fTjTldyiJ4JD"
      }
    },
    {
      "cell_type": "markdown",
      "source": [
        "## Describe Azure virtual private networks\n",
        "\n",
        "A virtual private network (VPN) uses an encrypted tunnel within another network. VPNs are typically deployed to connect two or more trusted private networks to one another over an untrusted network (typically the public internet). Traffic is encrypted while traveling over the untrusted network to prevent eavesdropping or other attacks. VPNs can enable networks to safely and securely share sensitive information.\n",
        "\n"
      ],
      "metadata": {
        "id": "qYmer5pzAMkc"
      }
    },
    {
      "cell_type": "markdown",
      "source": [
        "## VPN gateways\n",
        "\n",
        "A VPN gateway is a type of virtual network gateway. Azure VPN Gateway instances are deployed in a dedicated subnet of the virtual network and enable the following connectivity:\n",
        "\n",
        "- Connect on-premises datacenters to virtual networks through a site-to-site connection.\n",
        "- Connect individual devices to virtual networks through a point-to-site connection.\n",
        "- Connect virtual networks to other virtual networks through a network-to-network connection.\n",
        "\n",
        "All data transfer is encrypted inside a private tunnel as it crosses the internet. You can deploy only one VPN gateway in each virtual network. However, you can use one gateway to connect to multiple locations, which includes other virtual networks or on-premises datacenters.\n",
        "\n",
        "When setting up a VPN gateway, you must specify the type of VPN - either policy-based or route-based. The primary distinction between these two types is how they determine which traffic needs encryption. In Azure, regardless of the VPN type, the method of authentication employed is a pre-shared key.\n",
        "\n",
        "- Policy-based VPN gateways specify statically the IP address of packets that should be encrypted through each tunnel. This type of device evaluates every data packet against those sets of IP addresses to choose the tunnel where that packet is going to be sent through.\n",
        "- In Route-based gateways, IPSec tunnels are modeled as a network interface or virtual tunnel interface. IP routing (either static routes or dynamic routing protocols) decides which one of these tunnel interfaces to use when sending each packet. Route-based VPNs are the preferred connection method for on-premises devices. They're more resilient to topology changes such as the creation of new subnets.\n",
        "\n",
        "Use a route-based VPN gateway if you need any of the following types of connectivity:\n",
        "\n",
        "- Connections between virtual networks\n",
        "- Point-to-site connections\n",
        "- Multi-site connections\n",
        "- Coexistence with an Azure ExpressRoute gateway\n",
        "\n"
      ],
      "metadata": {
        "id": "8jtRjnTxAMg5"
      }
    },
    {
      "cell_type": "markdown",
      "source": [
        "## High-availability scenarios\n",
        "\n",
        "If you’re configuring a VPN to keep your information safe, you also want to be sure that it’s a highly available and fault tolerant VPN configuration. There are a few ways to maximize the resiliency of your VPN gateway.\n",
        "\n"
      ],
      "metadata": {
        "id": "mw0xVVnLAMeT"
      }
    },
    {
      "cell_type": "markdown",
      "source": [
        "## Active/standby\n",
        "\n",
        "By default, VPN gateways are deployed as two instances in an active/standby configuration, even if you only see one VPN gateway resource in Azure. When planned maintenance or unplanned disruption affects the active instance, the standby instance automatically assumes responsibility for connections without any user intervention. Connections are interrupted during this failover, but they're typically restored within a few seconds for planned maintenance and within 90 seconds for unplanned disruptions.\n",
        "\n"
      ],
      "metadata": {
        "id": "D4yU5zf8AMEg"
      }
    },
    {
      "cell_type": "markdown",
      "source": [
        "## Active/active\n",
        "\n",
        "With the introduction of support for the BGP routing protocol, you can also deploy VPN gateways in an active/active configuration. In this configuration, you assign a unique public IP address to each instance. You then create separate tunnels from the on-premises device to each IP address. You can extend the high availability by deploying an additional VPN device on-premises.\n",
        "\n"
      ],
      "metadata": {
        "id": "LRRMwVruAMA-"
      }
    },
    {
      "cell_type": "markdown",
      "source": [
        "## ExpressRoute failover\n",
        "\n",
        "Another high-availability option is to configure a VPN gateway as a secure failover path for ExpressRoute connections. ExpressRoute circuits have resiliency built in. However, they aren't immune to physical problems that affect the cables delivering connectivity or outages that affect the complete ExpressRoute location. In high-availability scenarios, where there's risk associated with an outage of an ExpressRoute circuit, you can also provision a VPN gateway that uses the internet as an alternative method of connectivity. In this way, you can ensure there's always a connection to the virtual networks.\n",
        "\n"
      ],
      "metadata": {
        "id": "n2QZ69MjAL-g"
      }
    },
    {
      "cell_type": "markdown",
      "source": [
        "## Zone-redundant gateways\n",
        "\n",
        "In regions that support availability zones, VPN gateways and ExpressRoute gateways can be deployed in a zone-redundant configuration. This configuration brings resiliency, scalability, and higher availability to virtual network gateways. Deploying gateways in Azure availability zones physically and logically separates gateways within a region while protecting your on-premises network connectivity to Azure from zone-level failures. These gateways require different gateway stock keeping units (SKUs) and use Standard public IP addresses instead of Basic public IP addresses.\n",
        "\n"
      ],
      "metadata": {
        "id": "PpFZ3ixPAL8C"
      }
    },
    {
      "cell_type": "markdown",
      "source": [
        "## Next unit: Describe Azure ExpressRoute\n",
        "\n"
      ],
      "metadata": {
        "id": "pZ8UlPutAL5c"
      }
    },
    {
      "cell_type": "markdown",
      "source": [
        "# Unit 11 of 14\n",
        "\n"
      ],
      "metadata": {
        "id": "lZ4YtMeaAL2E"
      }
    },
    {
      "cell_type": "markdown",
      "source": [
        "## Describe Azure ExpressRoute\n",
        "\n",
        "Azure ExpressRoute lets you extend your on-premises networks into the Microsoft cloud over a private connection, with the help of a connectivity provider. This connection is called an ExpressRoute Circuit. With ExpressRoute, you can establish connections to Microsoft cloud services, such as Microsoft Azure and Microsoft 365. This allows you to connect offices, datacenters, or other facilities to the Microsoft cloud. Each location would have its own ExpressRoute circuit.\n",
        "\n",
        "Connectivity can be from an any-to-any (IP VPN) network, a point-to-point Ethernet network, or a virtual cross-connection through a connectivity provider at a co-location facility. ExpressRoute connections don't go over the public Internet. This allows ExpressRoute connections to offer more reliability, faster speeds, consistent latencies, and higher security than typical connections over the Internet.\n",
        "\n"
      ],
      "metadata": {
        "id": "NDoQbnnNALzr"
      }
    },
    {
      "cell_type": "markdown",
      "source": [
        "## Features and benefits of ExpressRoute\n",
        "\n",
        "There are several benefits to using ExpressRoute as the connection service between Azure and on-premises networks.\n",
        "\n",
        "- Connectivity to Microsoft cloud services across all regions in the geopolitical region.\n",
        "- Global connectivity to Microsoft services across all regions with the ExpressRoute Global Reach.\n",
        "- Dynamic routing between your network and Microsoft via Border Gateway Protocol (BGP).\n",
        "- Built-in redundancy in every peering location for higher reliability.\n",
        "\n"
      ],
      "metadata": {
        "id": "01excgD3ALxt"
      }
    },
    {
      "cell_type": "markdown",
      "source": [
        "## Connectivity to Microsoft cloud services\n",
        "\n",
        "ExpressRoute enables direct access to the following services in all regions:\n",
        "\n",
        "- Microsoft Office 365\n",
        "- Microsoft Dynamics 365\n",
        "- Azure compute services, such as Azure Virtual Machines\n",
        "- Azure cloud services, such as Azure Cosmos DB and Azure Storage\n",
        "\n"
      ],
      "metadata": {
        "id": "nCTk7TiRALvP"
      }
    },
    {
      "cell_type": "markdown",
      "source": [
        "## Global connectivity\n",
        "\n",
        "You can enable ExpressRoute Global Reach to exchange data across your on-premises sites by connecting your ExpressRoute circuits. For example, say you had an office in Asia and a datacenter in Europe, both with ExpressRoute circuits connecting them to the Microsoft network. You could use ExpressRoute Global Reach to connect those two facilities, allowing them to communicate without transferring data over the public internet.\n",
        "\n"
      ],
      "metadata": {
        "id": "1rpxh_sCALsc"
      }
    },
    {
      "cell_type": "markdown",
      "source": [
        "## Dynamic routing\n",
        "\n",
        "ExpressRoute uses the BGP. BGP is used to exchange routes between on-premises networks and resources running in Azure. This protocol enables dynamic routing between your on-premises network and services running in the Microsoft cloud.\n",
        "\n"
      ],
      "metadata": {
        "id": "Lz-fYN-4BQI2"
      }
    },
    {
      "cell_type": "markdown",
      "source": [
        "## Built-in redundancy\n",
        "\n",
        "Each connectivity provider uses redundant devices to ensure that connections established with Microsoft are highly available. You can configure multiple circuits to complement this feature.\n",
        "\n"
      ],
      "metadata": {
        "id": "kPeJLc7LBQFU"
      }
    },
    {
      "cell_type": "markdown",
      "source": [
        "## ExpressRoute connectivity models\n",
        "\n",
        "ExpressRoute supports four models that you can use to connect your on-premises network to the Microsoft cloud:\n",
        "\n",
        "- CloudExchange co-location\n",
        "- Point-to-point Ethernet connection\n",
        "- Any-to-any connection\n",
        "- Directly from ExpressRoute sites\n",
        "\n"
      ],
      "metadata": {
        "id": "Xox96O_qBP-8"
      }
    },
    {
      "cell_type": "markdown",
      "source": [
        "### Co-location at a cloud exchange\n",
        "\n",
        "Co-location refers to your datacenter, office, or other facility being physically co-located at a cloud exchange, such as an ISP. If your facility is co-located at a cloud exchange, you can request a virtual cross-connect to the Microsoft cloud.\n",
        "\n"
      ],
      "metadata": {
        "id": "Z17DdBBEBP7f"
      }
    },
    {
      "cell_type": "markdown",
      "source": [
        "### Point-to-point Ethernet connection\n",
        "\n",
        "Point-to-point ethernet connection refers to using a point-to-point connection to connect your facility to the Microsoft cloud.\n",
        "\n"
      ],
      "metadata": {
        "id": "-ik1dw4zBPel"
      }
    },
    {
      "cell_type": "markdown",
      "source": [
        "### Any-to-any networks\n",
        "\n",
        "With any-to-any connectivity, you can integrate your wide area network (WAN) with Azure by providing connections to your offices and datacenters. Azure integrates with your WAN connection to provide a connection like you would have between your datacenter and any branch offices.\n",
        "\n"
      ],
      "metadata": {
        "id": "vp-SkLYTALqO"
      }
    },
    {
      "cell_type": "markdown",
      "source": [
        "### Directly from ExpressRoute sites\n",
        "\n",
        "You can connect directly into the Microsoft's global network at a peering location strategically distributed across the world. ExpressRoute Direct provides dual 100-Gbps or 10-Gbps connectivity, which supports Active/Active connectivity at scale.\n",
        "\n"
      ],
      "metadata": {
        "id": "9xSg6ui7ALnl"
      }
    },
    {
      "cell_type": "markdown",
      "source": [
        "## Security considerations\n",
        "\n",
        "With ExpressRoute, your data doesn't travel over the public internet, so it's not exposed to the potential risks associated with internet communications. ExpressRoute is a private connection from your on-premises infrastructure to your Azure infrastructure. Even if you have an ExpressRoute connection, DNS queries, certificate revocation list checking, and Azure Content Delivery Network requests are still sent over the public internet.\n",
        "\n"
      ],
      "metadata": {
        "id": "qIl1CCDEBpdn"
      }
    },
    {
      "cell_type": "markdown",
      "source": [
        "## Next unit: Describe Azure DNS\n",
        "\n"
      ],
      "metadata": {
        "id": "4XztX4MmBpRm"
      }
    },
    {
      "cell_type": "markdown",
      "source": [
        "# Unit 12 of 14\n",
        "\n"
      ],
      "metadata": {
        "id": "wuOSfwExBuEo"
      }
    },
    {
      "cell_type": "markdown",
      "source": [
        "## Describe Azure DNS\n",
        "\n",
        "Azure DNS is a hosting service for DNS domains that provides name resolution by using Microsoft Azure infrastructure. By hosting your domains in Azure, you can manage your DNS records using the same credentials, APIs, tools, and billing as your other Azure services.\n",
        "\n"
      ],
      "metadata": {
        "id": "foCMlFyuuU4m"
      }
    },
    {
      "cell_type": "markdown",
      "source": [
        "## Benefits of Azure DNS\n",
        "\n",
        "Azure DNS leverages the scope and scale of Microsoft Azure to provide numerous benefits, including:\n",
        "\n",
        "- Reliability and performance\n",
        "- Security\n",
        "- Ease of Use\n",
        "- Customizable virtual networks\n",
        "- Alias records\n",
        "\n"
      ],
      "metadata": {
        "id": "BeXUyP34uUy_"
      }
    },
    {
      "cell_type": "markdown",
      "source": [
        "### Reliability and performance\n",
        "\n",
        "DNS domains in Azure DNS are hosted on Azure's global network of DNS name servers, providing resiliency and high availability. Azure DNS uses anycast networking, so each DNS query is answered by the closest available DNS server to provide fast performance and high availability for your domain.\n",
        "\n"
      ],
      "metadata": {
        "id": "CCo97UF2uUw1"
      }
    },
    {
      "cell_type": "markdown",
      "source": [
        "### Security\n",
        "\n",
        "Azure DNS is based on Azure Resource Manager, which provides features such as:\n",
        "\n",
        "- Azure role-based access control (Azure RBAC) to control who has access to specific actions for your organization.\n",
        "- Activity logs to monitor how a user in your organization modified a resource or to find an error when troubleshooting.\n",
        "- Resource locking to lock a subscription, resource group, or resource. Locking prevents other users in your organization from accidentally deleting or modifying critical resources.\n",
        "\n"
      ],
      "metadata": {
        "id": "j65TpNtvuUut"
      }
    },
    {
      "cell_type": "markdown",
      "source": [
        "### Ease of use\n",
        "\n",
        "Azure DNS can manage DNS records for your Azure services and provide DNS for your external resources as well. Azure DNS is integrated in the Azure portal and uses the same credentials, support contract, and billing as your other Azure services.\n",
        "\n",
        "Because Azure DNS is running on Azure, it means you can manage your domains and records with the Azure portal, Azure PowerShell cmdlets, and the cross-platform Azure CLI. Applications that require automated DNS management can integrate with the service by using the REST API and SDKs.\n",
        "\n"
      ],
      "metadata": {
        "id": "IhHBEj28uUsb"
      }
    },
    {
      "cell_type": "markdown",
      "source": [
        "### Customizable virtual networks with private domains\n",
        "\n",
        "Azure DNS also supports private DNS domains. This feature allows you to use your own custom domain names in your private virtual networks, rather than being stuck with the Azure-provided names.\n",
        "\n"
      ],
      "metadata": {
        "id": "U9WAsl2OuUof"
      }
    },
    {
      "cell_type": "markdown",
      "source": [
        "### Alias records\n",
        "\n",
        "Azure DNS also supports alias record sets. You can use an alias record set to refer to an Azure resource, such as an Azure public IP address, an Azure Traffic Manager profile, or an Azure Content Delivery Network (CDN) endpoint. If the IP address of the underlying resource changes, the alias record set seamlessly updates itself during DNS resolution. The alias record set points to the service instance, and the service instance is associated with an IP address.\n",
        "\n",
        "> Important: You can't use Azure DNS to buy a domain name. For an annual fee, you can buy a domain name by using App Service domains or a third-party domain name registrar. Once purchased, your domains can be hosted in Azure DNS for record management.\n",
        "\n"
      ],
      "metadata": {
        "id": "Ecp7Tz0XuUmQ"
      }
    },
    {
      "cell_type": "markdown",
      "source": [
        "## Next unit: Knowledge check\n",
        "\n"
      ],
      "metadata": {
        "id": "BPME0dqfuUkY"
      }
    },
    {
      "cell_type": "markdown",
      "source": [
        "# Unit 13 of 14\n",
        "\n"
      ],
      "metadata": {
        "id": "lvpzJYIUuUiW"
      }
    },
    {
      "cell_type": "markdown",
      "source": [
        "## Knowledge check\n",
        "\n",
        "Choose the best response for each question. Then select Check your answers.\n",
        "\n"
      ],
      "metadata": {
        "id": "lqDQ8gXOuUgU"
      }
    },
    {
      "cell_type": "markdown",
      "source": [
        "### Check your knowledge\n",
        "\n",
        "1. Which Azure Virtual Machine feature staggers updates across VMs based on their update domain and fault domain?\n",
        "    - ☑ Availability sets\n",
        "        > Availability sets stagger VM updates based on their update and fault domains.\n",
        "    - ☐ Scale sets\n",
        "    - ☐ Update sets\n",
        "\n",
        "2. Which Azure service allows users to use a cloud hosted version of Windows from any location and connect from most modern browsers?\n",
        "    - ☑ Azure Virtual Desktop\n",
        "       > Azure Virtual Desktop provides access to a cloud-hosted version of Windows, and it works with most modern browsers.\n",
        "    - ☐ Azure Virtual Machines\n",
        "    - ☐ Azure Container Instances\n",
        "\n"
      ],
      "metadata": {
        "id": "KExcP2gmuUeQ"
      }
    },
    {
      "cell_type": "markdown",
      "source": [
        "## Next unit: Summary\n",
        "\n"
      ],
      "metadata": {
        "id": "6wVIizqduUcI"
      }
    },
    {
      "cell_type": "markdown",
      "source": [
        "# Unit 14 of 14\n",
        "\n"
      ],
      "metadata": {
        "id": "M8-OxXjhuUZr"
      }
    },
    {
      "cell_type": "markdown",
      "source": [
        "## Summary\n",
        "\n",
        "In this module, you learned about some of the compute and networking services that are part of Azure. You learned about virtual machines, and the different options associated with them (such as virtual machine scale sets and virtual machine availability sets). You were also introduced to some of the networking capabilities, including virtual networking, ExpressRoute, and virtual private networks.\n",
        "\n"
      ],
      "metadata": {
        "id": "ulnuXKbduUXh"
      }
    },
    {
      "cell_type": "markdown",
      "source": [
        "## Learning objectives\n",
        "\n",
        "You should now be able to:\n",
        "\n",
        "- Compare compute types, including container instances, virtual machines, and functions.\n",
        "- Describe virtual machine options, including virtual machines (VMs), virtual machine scale sets, virtual machine availability sets, and Azure Virtual Desktop.\n",
        "- Describe resources required for virtual machines.\n",
        "- Describe application hosting options, including Azure Web Apps, containers, and virtual machines.\n",
        "- Describe virtual networking, including the purpose of Azure Virtual Networks, Azure virtual subnets, peering, Azure DNS, VPN Gateway, and ExpressRoute.\n",
        "- Define public and private endpoints.\n",
        "\n"
      ],
      "metadata": {
        "id": "9juY-THduUK-"
      }
    },
    {
      "cell_type": "markdown",
      "source": [
        "## Additional resources\n",
        "\n",
        "The following additional resources are intended to provide more information on topics in this module or on additional topics related to this module.\n",
        "\n",
        "- [Host a web application with Azure App Service](https://learn.microsoft.com/en-us/learn/modules/host-a-web-app-with-azure-app-service/) is a Microsoft Learn module that explores the process of hosting a web application in Azure.\n",
        "- [Introduction to Azure network foundation services](https://learn.microsoft.com/en-us/learn/paths/intro-to-azure-network-foundation-services/) is a Microsoft Learn course that provides greater insight and information on networking with Azure.\n",
        "\n"
      ],
      "metadata": {
        "id": "lONGbOa-BkPA"
      }
    },
    {
      "cell_type": "markdown",
      "source": [
        "## All units complete\n",
        "\n"
      ],
      "metadata": {
        "id": "h_vKdTKUBkjM"
      }
    }
  ]
}