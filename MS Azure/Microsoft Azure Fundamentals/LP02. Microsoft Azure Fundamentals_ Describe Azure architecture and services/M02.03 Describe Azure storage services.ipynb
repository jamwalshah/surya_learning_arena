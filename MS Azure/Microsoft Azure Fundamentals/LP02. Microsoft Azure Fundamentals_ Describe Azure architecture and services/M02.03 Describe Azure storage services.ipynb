{
  "nbformat": 4,
  "nbformat_minor": 0,
  "metadata": {
    "colab": {
      "provenance": [],
      "toc_visible": true
    },
    "kernelspec": {
      "name": "python3",
      "display_name": "Python 3"
    },
    "language_info": {
      "name": "python"
    }
  },
  "cells": [
    {
      "cell_type": "markdown",
      "source": [
        "# Unit 1 of 9\n",
        "\n"
      ],
      "metadata": {
        "id": "FNifKusqPrhx"
      }
    },
    {
      "cell_type": "markdown",
      "source": [
        "## Introduction\n",
        "\n",
        "In this module, you’ll be introduced to the Azure storage services. You’ll learn about the Azure Storage Account and how that relates to the different storage services that are available. You’ll also learn about blob storage tiers, data redundancy options, and ways to move data or even entire infrastructures to Azure.\n",
        "\n"
      ],
      "metadata": {
        "id": "DLx_rg69PreK"
      }
    },
    {
      "cell_type": "markdown",
      "source": [
        "## Learning Objectives\n",
        "\n",
        "After completing this module, you’ll be able to:\n",
        "\n",
        "- Compare Azure storage services.\n",
        "- Describe storage tiers.\n",
        "- Describe redundancy options.\n",
        "- Describe storage account options and storage types.\n",
        "- Identify options for moving files, including AzCopy, Azure Storage Explorer, and Azure File Sync.\n",
        "- Describe migration options, including Azure Migrate and Azure Data Box.\n",
        "\n"
      ],
      "metadata": {
        "id": "XTtaTG-yPrb4"
      }
    },
    {
      "cell_type": "markdown",
      "source": [
        "## Next unit: Describe Azure storage accounts\n",
        "\n"
      ],
      "metadata": {
        "id": "_qj2JpxjPrRk"
      }
    },
    {
      "cell_type": "markdown",
      "source": [
        "# Unit 2 of 9\n",
        "\n"
      ],
      "metadata": {
        "id": "t2t6Xk3qPrOJ"
      }
    },
    {
      "cell_type": "markdown",
      "source": [
        "## Describe Azure storage accounts\n",
        "\n",
        "The following video introduces the different services that should be available with Azure Storage.\n",
        "\n"
      ],
      "metadata": {
        "id": "3TV5OngnPrMD"
      }
    },
    {
      "cell_type": "code",
      "source": [
        "from IPython.display import HTML\n",
        "\n",
        "# Embedding the video link using HTML iframe\n",
        "video_url = 'https://www.microsoft.com/en-us/videoplayer/embed/RE4MAbS?postJsllMsg=true'\n",
        "embed_code = f'<iframe width=\"560\" height=\"315\" src=\"{video_url}\" frameborder=\"0\" allowfullscreen></iframe>'\n",
        "HTML(embed_code)"
      ],
      "metadata": {
        "colab": {
          "base_uri": "https://localhost:8080/",
          "height": 371
        },
        "id": "D4pHWzXtQKOw",
        "outputId": "70287fa2-37e3-4ecd-f02d-45c10d3b6a4a"
      },
      "execution_count": null,
      "outputs": [
        {
          "output_type": "stream",
          "name": "stderr",
          "text": [
            "C:\\Users\\surya\\AppData\\Local\\Programs\\Python\\Python312\\Lib\\site-packages\\IPython\\core\\display.py:431: UserWarning: Consider using IPython.display.IFrame instead\n",
            "  warnings.warn(\"Consider using IPython.display.IFrame instead\")\n"
          ]
        },
        {
          "output_type": "execute_result",
          "data": {
            "text/plain": [
              "<IPython.core.display.HTML object>"
            ],
            "text/html": [
              "<iframe width=\"560\" height=\"315\" src=\"https://www.microsoft.com/en-us/videoplayer/embed/RE4MAbS?postJsllMsg=true\" frameborder=\"0\" allowfullscreen></iframe>"
            ]
          },
          "metadata": {},
          "execution_count": 5
        }
      ]
    },
    {
      "cell_type": "markdown",
      "source": [
        "A storage account provides a unique namespace for your Azure Storage data that's accessible from anywhere in the world over HTTP or HTTPS. Data in this account is secure, highly available, durable, and massively scalable.\n",
        "\n",
        "When you create your storage account, you’ll start by picking the storage account type. The type of account determines the storage services and redundancy options and has an impact on the use cases. Below is a list of redundancy options that will be covered later in this module:\n",
        "\n",
        "- Locally redundant storage (LRS)\n",
        "- Geo-redundant storage (GRS)\n",
        "- Read-access geo-redundant storage (RA-GRS)\n",
        "- Zone-redundant storage (ZRS)\n",
        "- Geo-zone-redundant storage (GZRS)\n",
        "- Read-access geo-zone-redundant storage (RA-GZRS)\n",
        "\n",
        "|Type   |Supported services |Redundancy Options |Usage  |\n",
        "|:--    |:--    |:--    |:--    |\n",
        "|Standard general-purpose v2    |Blob Storage (including Data Lake Storage), Queue Storage, Table Storage, and Azure Files  |LRS, GRS, RA-GRS, ZRS, GZRS, RA-GZRS   |Standard storage account type for blobs, file shares, queues, and tables. Recommended for most scenarios using Azure Storage. If you want support for network file system (NFS) in Azure Files, use the premium file shares account type.  |\n",
        "|Premium block blobs    |Blob Storage (including Data Lake Storage) |LRS, ZRS   |Premium storage account type for block blobs and append blobs. Recommended for scenarios with high transaction rates or that use smaller objects or require consistently low storage latency.  |\n",
        "|Premium file shares    |Azure Files    |LRS, ZRS   |Premium storage account type for file shares only. Recommended for enterprise or high-performance scale applications. Use this account type if you want a storage account that supports both Server Message Block (SMB) and NFS file shares.   |\n",
        "|Premium page blobs |Page blobs only    |LRS    |Premium storage account type for page blobs only.  |\n",
        "\n"
      ],
      "metadata": {
        "id": "VtpRNhhAPrJ5"
      }
    },
    {
      "cell_type": "markdown",
      "source": [
        "## Storage account endpoints\n",
        "\n",
        "One of the benefits of using an Azure Storage Account is having a unique namespace in Azure for your data. In order to do this, every storage account in Azure must have a unique-in-Azure account name. The combination of the account name and the Azure Storage service endpoint forms the endpoints for your storage account.\n",
        "\n",
        "When naming your storage account, keep these rules in mind:\n",
        "\n",
        "- Storage account names must be between 3 and 24 characters in length and may contain numbers and lowercase letters only.\n",
        "- Your storage account name must be unique within Azure. No two storage accounts can have the same name. This supports the ability to have a unique, accessible namespace in Azure.\n",
        "\n",
        "The following table shows the endpoint format for Azure Storage services.\n",
        "\n",
        "|Storage service    |Endpoint   |\n",
        "|:--    |:--    |\n",
        "|Blob Storage   |https://<storage-account-name>.blob.core.windows.net   |\n",
        "|Data Lake Storage Gen2 |https://<storage-account-name>.dfs.core.windows.net    |\n",
        "|Azure Files    |https://<storage-account-name>.file.core.windows.net   |\n",
        "|Queue Storage  |https://<storage-account-name>.queue.core.windows.net  |\n",
        "|Table Storage  |https://<storage-account-name>.table.core.windows.net  |\n",
        "\n",
        "\n"
      ],
      "metadata": {
        "id": "S1G0_pjmPrHB"
      }
    },
    {
      "cell_type": "markdown",
      "source": [
        "## Next unit: Describe Azure storage redundancy\n",
        "\n"
      ],
      "metadata": {
        "id": "fnz-Whn3SOe6"
      }
    },
    {
      "cell_type": "markdown",
      "source": [
        "# Unit 3 of 9\n",
        "\n"
      ],
      "metadata": {
        "id": "nSEL-oYETj-q"
      }
    },
    {
      "cell_type": "markdown",
      "source": [
        "## Describe Azure storage redundancy\n",
        "\n",
        "Azure Storage always stores multiple copies of your data so that it's protected from planned and unplanned events such as transient hardware failures, network or power outages, and natural disasters. Redundancy ensures that your storage account meets its availability and durability targets even in the face of failures.\n",
        "\n",
        "When deciding which redundancy option is best for your scenario, consider the tradeoffs between lower costs and higher availability. The factors that help determine which redundancy option you should choose include:\n",
        "\n",
        "- How your data is replicated in the primary region.\n",
        "- Whether your data is replicated to a second region that is geographically distant to the primary region, to protect against regional disasters.\n",
        "- Whether your application requires read access to the replicated data in the secondary region if the primary region becomes unavailable.\n",
        "\n"
      ],
      "metadata": {
        "id": "A-NlTOAHTjMu"
      }
    },
    {
      "cell_type": "markdown",
      "source": [
        "## Redundancy in the primary region\n",
        "\n",
        "Data in an Azure Storage account is always replicated three times in the primary region. Azure Storage offers two options for how your data is replicated in the primary region, locally redundant storage (LRS) and zone-redundant storage (ZRS).\n",
        "\n"
      ],
      "metadata": {
        "id": "dDQF96ytTjJN"
      }
    },
    {
      "cell_type": "markdown",
      "source": [
        "### Locally redundant storage\n",
        "\n",
        "Locally redundant storage (LRS) replicates your data three times within a single data center in the primary region. LRS provides at least 11 nines of durability (99.999999999%) of objects over a given year.\n",
        "\n",
        "![Diagram showing the structure used for locally redundant storage.](https://learn.microsoft.com/en-us/training/wwl-azure/describe-azure-storage-services/media/locally-redundant-storage-37247957.png)\n",
        "\n",
        "LRS is the lowest-cost redundancy option and offers the least durability compared to other options. LRS protects your data against server rack and drive failures. However, if a disaster such as fire or flooding occurs within the data center, all replicas of a storage account using LRS may be lost or unrecoverable. To mitigate this risk, Microsoft recommends using zone-redundant storage (ZRS), geo-redundant storage (GRS), or geo-zone-redundant storage (GZRS).\n",
        "\n"
      ],
      "metadata": {
        "id": "oMlEQ1oQTjGw"
      }
    },
    {
      "cell_type": "markdown",
      "source": [
        "### Zone-redundant storage\n",
        "\n",
        "For Availability Zone-enabled Regions, zone-redundant storage (ZRS) replicates your Azure Storage data synchronously across three Azure availability zones in the primary region. ZRS offers durability for Azure Storage data objects of at least 12 nines (99.9999999999%) over a given year.\n",
        "\n",
        "![Diagram showing ZRS, with a copy of data stored in each of three availability zones.](https://learn.microsoft.com/en-us/training/wwl-azure/describe-azure-storage-services/media/zone-redundant-storage-6dd46d22.png)\n",
        "\n",
        "With ZRS, your data is still accessible for both read and write operations even if a zone becomes unavailable. No remounting of Azure file shares from the connected clients is required. If a zone becomes unavailable, Azure undertakes networking updates, such as DNS repointing. These updates may affect your application if you access data before the updates have completed.\n",
        "\n",
        "Microsoft recommends using ZRS in the primary region for scenarios that require high availability. ZRS is also recommended for restricting replication of data within a country or region to meet data governance requirements.\n",
        "\n"
      ],
      "metadata": {
        "id": "TgXvW9OTTjET"
      }
    },
    {
      "cell_type": "markdown",
      "source": [
        "## Redundancy in a secondary region\n",
        "\n",
        "For applications requiring high durability, you can choose to additionally copy the data in your storage account to a secondary region that is hundreds of miles away from the primary region. If the data in your storage account is copied to a secondary region, then your data is durable even in the event of a catastrophic failure that prevents the data in the primary region from being recovered.\n",
        "\n",
        "When you create a storage account, you select the primary region for the account. The paired secondary region is based on Azure Region Pairs, and can't be changed.\n",
        "\n",
        "Azure Storage offers two options for copying your data to a secondary region: geo-redundant storage (GRS) and geo-zone-redundant storage (GZRS). GRS is similar to running LRS in two regions, and GZRS is similar to running ZRS in the primary region and LRS in the secondary region.\n",
        "\n",
        "By default, data in the secondary region isn't available for read or write access unless there's a failover to the secondary region. If the primary region becomes unavailable, you can choose to fail over to the secondary region. After the failover has completed, the secondary region becomes the primary region, and you can again read and write data.\n",
        "\n",
        "> Important: Because data is replicated to the secondary region asynchronously, a failure that affects the primary region may result in data loss if the primary region can't be recovered. The interval between the most recent writes to the primary region and the last write to the secondary region is known as the recovery point objective (RPO). The RPO indicates the point in time to which data can be recovered. Azure Storage typically has an RPO of less than 15 minutes, although there's currently no SLA on how long it takes to replicate data to the secondary region.\n",
        "\n"
      ],
      "metadata": {
        "id": "ZSfU0N1DSOHN"
      }
    },
    {
      "cell_type": "markdown",
      "source": [
        "## Geo-redundant storage\n",
        "\n",
        "GRS copies your data synchronously three times within a single physical location in the primary region using LRS. It then copies your data asynchronously to a single physical location in the secondary region (the region pair) using LRS. GRS offers durability for Azure Storage data objects of at least 16 nines (99.99999999999999%) over a given year.\n",
        "\n",
        "![Diagram showing GRS, with primary region LRS replicating data to LRS in a second region.](https://learn.microsoft.com/en-us/training/wwl-azure/describe-azure-storage-services/media/geo-redundant-storage-3432d558.png)\n",
        "\n"
      ],
      "metadata": {
        "id": "uph5JnKbSOD5"
      }
    },
    {
      "cell_type": "markdown",
      "source": [
        "## Geo-zone-redundant storage\n",
        "\n",
        "GZRS combines the high availability provided by redundancy across availability zones with protection from regional outages provided by geo-replication. Data in a GZRS storage account is copied across three Azure availability zones in the primary region (similar to ZRS) and is also replicated to a secondary geographic region, using LRS, for protection from regional disasters. Microsoft recommends using GZRS for applications requiring maximum consistency, durability, and availability, excellent performance, and resilience for disaster recovery.\n",
        "\n",
        "![Diagram showing GZRS, with primary region ZRS replicating data to LRS in a second region.](https://learn.microsoft.com/en-us/training/wwl-azure/describe-azure-storage-services/media/geo-zone-redundant-storage-138ab5af.png)\n",
        "\n",
        "\n",
        "GZRS is designed to provide at least 16 nines (99.99999999999999%) of durability of objects over a given year.\n",
        "\n"
      ],
      "metadata": {
        "id": "fDPYzAWWck29"
      }
    },
    {
      "cell_type": "markdown",
      "source": [
        "## Read access to data in the secondary region\n",
        "\n",
        "Geo-redundant storage (with GRS or GZRS) replicates your data to another physical location in the secondary region to protect against regional outages. However, that data is available to be read only if the customer or Microsoft initiates a failover from the primary to secondary region. However, if you enable read access to the secondary region, your data is always available, even when the primary region is running optimally. For read access to the secondary region, enable read-access geo-redundant storage (RA-GRS) or read-access geo-zone-redundant storage (RA-GZRS).\n",
        "\n",
        "> Important: Remember that the data in your secondary region may not be up-to-date due to RPO.\n",
        "\n"
      ],
      "metadata": {
        "id": "b7FTXypyckzV"
      }
    },
    {
      "cell_type": "markdown",
      "source": [
        "## Next unit: Describe Azure storage services\n",
        "\n"
      ],
      "metadata": {
        "id": "4-l8X4LOckwo"
      }
    },
    {
      "cell_type": "markdown",
      "source": [
        "# Unit 4 of 9\n",
        "\n"
      ],
      "metadata": {
        "id": "q9LjZIh7dOky"
      }
    },
    {
      "cell_type": "markdown",
      "source": [
        "## Describe Azure storage services\n",
        "\n",
        "The Azure Storage platform includes the following data services:\n",
        "\n",
        "- **Azure Blobs**: A massively scalable object store for text and binary data. Also includes support for big data analytics through Data Lake Storage Gen2.\n",
        "- **Azure Files**: Managed file shares for cloud or on-premises deployments.\n",
        "- **Azure Queues**: A messaging store for reliable messaging between application components.\n",
        "- **Azure Disks**: Block-level storage volumes for Azure VMs.\n",
        "- **Azure Tables**: NoSQL table option for structured, non-relational data.\n",
        "\n"
      ],
      "metadata": {
        "id": "gCtdcvuSlEFu"
      }
    },
    {
      "cell_type": "markdown",
      "source": [
        "## Benefits of Azure Storage\n",
        "\n",
        "Azure Storage services offer the following benefits for application developers and IT professionals:\n",
        "\n",
        "- **Durable and highly available**. Redundancy ensures that your data is safe if transient hardware failures occur. You can also opt to replicate data across data centers or geographical regions for additional protection from local catastrophes or natural disasters. Data replicated in this way remains highly available if an unexpected outage occurs.\n",
        "- **Secure**. All data written to an Azure storage account is encrypted by the service. Azure Storage provides you with fine-grained control over who has access to your data.\n",
        "- **Scalable**. Azure Storage is designed to be massively scalable to meet the data storage and performance needs of today's applications.\n",
        "- **Managed**. Azure handles hardware maintenance, updates, and critical issues for you.\n",
        "- **Accessible**. Data in Azure Storage is accessible from anywhere in the world over HTTP or HTTPS. Microsoft provides client libraries for Azure Storage in a variety of languages, including .NET, Java, Node.js, Python, PHP, Ruby, Go, and others, as well as a mature REST API. Azure Storage supports scripting in Azure PowerShell or Azure CLI. And the Azure portal and Azure Storage Explorer offer easy visual solutions for working with your data.\n",
        "\n"
      ],
      "metadata": {
        "id": "zCPH26dMlECP"
      }
    },
    {
      "cell_type": "markdown",
      "source": [
        "## Azure Blobs\n",
        "\n",
        "Azure Blob storage is an object storage solution for the cloud. It can store massive amounts of data, such as text or binary data. Azure Blob storage is unstructured, meaning that there are no restrictions on the kinds of data it can hold. Blob storage can manage thousands of simultaneous uploads, massive amounts of video data, constantly growing log files, and can be reached from anywhere with an internet connection.\n",
        "\n",
        "Blobs aren't limited to common file formats. A blob could contain gigabytes of binary data streamed from a scientific instrument, an encrypted message for another application, or data in a custom format for an app you're developing. One advantage of blob storage over disk storage is that it doesn't require developers to think about or manage disks. Data is uploaded as blobs, and Azure takes care of the physical storage needs.\n",
        "\n",
        "Blob storage is ideal for:\n",
        "\n",
        "- Serving images or documents directly to a browser.\n",
        "- Storing files for distributed access.\n",
        "- Streaming video and audio.\n",
        "- Storing data for backup and restore, disaster recovery, and archiving.\n",
        "- Storing data for analysis by an on-premises or Azure-hosted service.\n",
        "\n"
      ],
      "metadata": {
        "id": "AfpvSVvMlEAM"
      }
    },
    {
      "cell_type": "markdown",
      "source": [
        "## Accessing blob storage\n",
        "\n",
        "Objects in blob storage can be accessed from anywhere in the world via HTTP or HTTPS. Users or client applications can access blobs via URLs, the Azure Storage REST API, Azure PowerShell, Azure CLI, or an Azure Storage client library. The storage client libraries are available for multiple languages, including .NET, Java, Node.js, Python, PHP, and Ruby.\n",
        "\n"
      ],
      "metadata": {
        "id": "VjnrItZFlD95"
      }
    },
    {
      "cell_type": "markdown",
      "source": [
        "## Blob storage tiers\n",
        "\n",
        "Data stored in the cloud can grow at an exponential pace. To manage costs for your expanding storage needs, it's helpful to organize your data based on attributes like frequency of access and planned retention period. Data stored in the cloud can be handled differently based on how it's generated, processed, and accessed over its lifetime. Some data is actively accessed and modified throughout its lifetime. Some data is accessed frequently early in its lifetime, with access dropping drastically as the data ages. Some data remains idle in the cloud and is rarely, if ever, accessed after it's stored. To accommodate these different access needs, Azure provides several access tiers, which you can use to balance your storage costs with your access needs.\n",
        "\n",
        "Azure Storage offers different access tiers for your blob storage, helping you store object data in the most cost-effective manner. The available access tiers include:\n",
        "\n",
        "- **Hot access tier:** Optimized for storing data that is accessed frequently (for example, images for your website).\n",
        "- **Cool access tier:** Optimized for data that is infrequently accessed and stored for at least 30 days (for example, invoices for your customers).\n",
        "- **Cold access tier:** Optimized for storing data that is infrequently accessed and stored for at least 90 days.\n",
        "- **Archive access tier:** Appropriate for data that is rarely accessed and stored for at least 180 days, with flexible latency requirements (for example, long-term backups).\n",
        "\n",
        "The following considerations apply to the different access tiers:\n",
        "\n",
        "- Hot and cool access tiers can be set at the account level. The cold and archive access tiers aren't available at the account level.\n",
        "- Hot, cool, cold, and archive tiers can be set at the blob level, during or after upload.\n",
        "- Data in the cool and cold access tiers can tolerate slightly lower availability, but still requires high durability, retrieval latency, and throughput characteristics similar to hot data. For cool and cold data, a lower availability service-level agreement (SLA) and higher access costs compared to hot data are acceptable trade-offs for lower storage costs.\n",
        "- Archive storage stores data offline and offers the lowest storage costs, but also the highest costs to rehydrate and access data.\n",
        "\n"
      ],
      "metadata": {
        "id": "Z1FgVLvolD7o"
      }
    },
    {
      "cell_type": "markdown",
      "source": [
        "## Azure Files\n",
        "\n",
        "Azure File storage offers fully managed file shares in the cloud that are accessible via the industry standard Server Message Block (SMB) or Network File System (NFS) protocols. Azure Files file shares can be mounted concurrently by cloud or on-premises deployments. SMB Azure file shares are accessible from Windows, Linux, and macOS clients. NFS Azure Files shares are accessible from Linux or macOS clients. Additionally, SMB Azure file shares can be cached on Windows Servers with Azure File Sync for fast access near where the data is being used.\n",
        "\n"
      ],
      "metadata": {
        "id": "RgFNwrLOlD5V"
      }
    },
    {
      "cell_type": "markdown",
      "source": [
        "## Azure Files key benefits\n",
        "\n",
        "- **Shared access:** Azure file shares support the industry standard SMB and NFS protocols, meaning you can seamlessly replace your on-premises file shares with Azure file shares without worrying about application compatibility.\n",
        "- **Fully managed:** Azure file shares can be created without the need to manage hardware or an OS. This means you don't have to deal with patching the server OS with critical security upgrades or replacing faulty hard disks.\n",
        "- **Scripting and tooling:** PowerShell cmdlets and Azure CLI can be used to create, mount, and manage Azure file shares as part of the administration of Azure applications. You can create and manage Azure file shares using Azure portal and Azure Storage Explorer.\n",
        "- **Resiliency:** Azure Files has been built from the ground up to always be available. Replacing on-premises file shares with Azure Files means you don't have to wake up in the middle of the night to deal with local power outages or network issues.\n",
        "- **Familiar programmability:** Applications running in Azure can access data in the share via file system I/O APIs. Developers can therefore use their existing code and skills to migrate existing applications. In addition to System IO APIs, you can use Azure Storage Client Libraries or the Azure Storage REST API.\n",
        "\n"
      ],
      "metadata": {
        "id": "fa61V302lD20"
      }
    },
    {
      "cell_type": "markdown",
      "source": [
        "## Azure Queues\n",
        "\n",
        "Azure Queue storage is a service for storing large numbers of messages. Once stored, you can access the messages from anywhere in the world via authenticated calls using HTTP or HTTPS. A queue can contain as many messages as your storage account has room for (potentially millions). Each individual message can be up to 64 KB in size. Queues are commonly used to create a backlog of work to process asynchronously.\n",
        "\n",
        "Queue storage can be combined with compute functions like Azure Functions to take an action when a message is received. For example, you want to perform an action after a customer uploads a form to your website. You could have the submit button on the website trigger a message to the Queue storage. Then, you could use Azure Functions to trigger an action once the message was received.\n",
        "\n"
      ],
      "metadata": {
        "id": "Z9qIQRUhlD0j"
      }
    },
    {
      "cell_type": "markdown",
      "source": [
        "## Azure Disks\n",
        "\n",
        "Azure Disk storage, or Azure managed disks, are block-level storage volumes managed by Azure for use with Azure VMs. Conceptually, they’re the same as a physical disk, but they’re virtualized – offering greater resiliency and availability than a physical disk. With managed disks, all you have to do is provision the disk, and Azure will take care of the rest.\n",
        "\n"
      ],
      "metadata": {
        "id": "-K_QPc7SlDyP"
      }
    },
    {
      "cell_type": "markdown",
      "source": [
        "## Azure Tables\n",
        "\n",
        "Azure Table storage stores large amounts of structured data. Azure tables are a NoSQL datastore that accepts authenticated calls from inside and outside the Azure cloud. This enables you to use Azure tables to build your hybrid or multi-cloud solution and have your data always available. Azure tables are ideal for storing structured, non-relational data.\n",
        "\n"
      ],
      "metadata": {
        "id": "UppmHkillDv1"
      }
    },
    {
      "cell_type": "markdown",
      "source": [
        "## Next unit: Exercise - Create a storage blob\n",
        "\n"
      ],
      "metadata": {
        "id": "Q8LBatMNlDt0"
      }
    },
    {
      "cell_type": "markdown",
      "source": [
        "# Unit 5 of 9\n",
        "\n"
      ],
      "metadata": {
        "id": "IMQ0vgKVlDrj"
      }
    },
    {
      "cell_type": "markdown",
      "source": [
        "## Exercise - Create a storage blob\n",
        "\n",
        "Verify your account\n",
        "\n"
      ],
      "metadata": {
        "id": "7L3LuxAYJG0v"
      }
    },
    {
      "cell_type": "markdown",
      "source": [
        "## Create a storage account\n",
        "\n",
        "In this task, you'll create a new storage account.\n",
        "\n",
        "1. Sign in to the Azure portal at [https://portal.azure.com](https://portal.azure.com)\n",
        "2. Select **Create a resource**.\n",
        "3. Under Categories, select **Storage**.\n",
        "4. Under Storage account, select **Create**.\n",
        "5. On the **Basics** tab of the Create a storage account blade, fill in the following information. Leave the defaults for everything else.\n",
        "\n",
        "|Setting    |Value  |\n",
        "|:--    |:--    |\n",
        "|Subscription   |Concierge Subscription |\n",
        "|Resource group |Select the resource group that starts with **learn**   |\n",
        "|Storage account name   |Create a unique storage account name   |\n",
        "|Region |Leave default  |\n",
        "|Performance    |Standard   |\n",
        "|Redundancy |Locally redundant storage (LRS)    |\n",
        "\n",
        "6. On the **Advanced** tab of the Create a storage account blade, fill in the following information. Leave the defaults for everything else.\n",
        "\n",
        "|Setting    |Value  |\n",
        "|:--    |:--    |\n",
        "|Allow enabling anonymous access on individual containers   |Checked    |\n",
        "\n",
        "\n",
        "![Screenshot showing how to enable anonymous-access containers on a storage account.](https://learn.microsoft.com/en-us/training/wwl-azure/describe-azure-storage-services/media/storage-account-anonymous-containers-5e5f584a.png)\n",
        "\n",
        "7. Select **Review** to review your storage account settings and allow Azure to validate the configuration.\n",
        "8. Once validated, select **Create**. Wait for the notification that the account was successfully created.\n",
        "9. Select **Go to resource**.\n",
        "\n"
      ],
      "metadata": {
        "id": "zYDQj0cVJGxA"
      }
    },
    {
      "cell_type": "markdown",
      "source": [
        "## Work with blob storage\n",
        "\n",
        "In this section, you'll create a Blob container and upload a picture.\n",
        "\n",
        "1. Under **Data storage**, select **Containers**.\n",
        "![Screenshot of the Container add section of a storage account.](https://learn.microsoft.com/en-us/training/wwl-azure/describe-azure-storage-services/media/storage-account-menu-9472480e.png)\n",
        "     \n",
        "2. Select **+ Container** and complete the information.\n",
        "\n",
        "|Setting    |Value  |\n",
        "|:--    |:--    |\n",
        "|Name   |Enter a name for the container |\n",
        "|Anonymous access level |Private (no anonymous access)  |\n",
        "\n",
        "3. Select Create.\n",
        "\n",
        "    > Note: Step 4 will need an image. If you want to upload an image you already have on your computer, continue to Step 4. Otherwise, open a new browser window and search Bing for an image of a flower. Save the image to your computer.\n",
        "\n",
        "4. Back in the Azure portal, select the container you created, then select Upload.\n",
        "5. Browse for the image file you want to upload. Select it and then select upload.\n",
        "\n",
        "    > Note: You can upload as many blobs as you like in this way. New blobs will be listed within the container.\n",
        "\n",
        "6. Select the Blob (file) you just uploaded. You should be on the properties tab.\n",
        "7. Copy the URL from the URL field and paste it into a new tab.\n",
        "\n",
        "    You should receive an error message similar to the following\n",
        "\n",
        "``` html\n",
        "    <Error>\n",
        "        <Code>ResourceNotFound</Code>\n",
        "        <Message>The specified resource does not exist. RequestId:4a4bd3d9-101e-005a-1a3e-84bd42000000</Message>\n",
        "    </Error>\n",
        "```\n",
        "\n"
      ],
      "metadata": {
        "id": "SsZz4XNSJGuS"
      }
    },
    {
      "cell_type": "markdown",
      "source": [
        "## Change the access level of your blob\n",
        "\n",
        "1. Go back to the Azure portal.\n",
        "2. Select Change access level.\n",
        "3. Set the Anonymous access level to Blob (anonymous read access for blobs only).\n",
        "\n",
        "![Screenshot with Change access level highlighted.](https://learn.microsoft.com/en-us/training/wwl-azure/describe-azure-storage-services/media/blob-access-level-213a74e6.png)\n",
        "\n",
        "4. Select OK.\n",
        "5. Refresh the tab where you attempted to access the file earlier.\n",
        "\n",
        "Congratulations - you've completed this exercise. You created a storage account, added a container to the storage account, and then uploaded blobs (files) to your container. Then you changed the access level so you could access your file from the internet.\n",
        "\n"
      ],
      "metadata": {
        "id": "MxzdISoAJGr7"
      }
    },
    {
      "cell_type": "markdown",
      "source": [
        "## Clean up\n",
        "\n",
        "The sandbox automatically cleans up your resources when you're finished with this module.\n",
        "\n",
        "When you're working in your own subscription, it's a good idea at the end of a project to identify whether you still need the resources you created. Resources that you leave running can cost you money. You can delete resources individually or delete the resource group to delete the entire set of resources.\n",
        "\n"
      ],
      "metadata": {
        "id": "HJzU027GJGoO"
      }
    },
    {
      "cell_type": "markdown",
      "source": [
        "## Next unit: Identify Azure data migration options\n",
        "\n"
      ],
      "metadata": {
        "id": "W90gDNQkJGkq"
      }
    },
    {
      "cell_type": "markdown",
      "source": [
        "# Unit 6 of 9\n",
        "\n"
      ],
      "metadata": {
        "id": "dMIa-rYKJGiW"
      }
    },
    {
      "cell_type": "markdown",
      "source": [
        "## Identify Azure data migration options\n",
        "\n",
        "Now that you understand the different storage options within Azure, it’s important to also understand how to get your data and information into Azure. Azure supports both real-time migration of infrastructure, applications, and data using Azure Migrate as well as asynchronous migration of data using Azure Data Box.\n",
        "\n"
      ],
      "metadata": {
        "id": "ug-Ew0jR8Zt4"
      }
    },
    {
      "cell_type": "markdown",
      "source": [
        "## Azure Migrate\n",
        "\n",
        "Azure Migrate is a service that helps you migrate from an on-premises environment to the cloud. Azure Migrate functions as a hub to help you manage the assessment and migration of your on-premises datacenter to Azure. It provides the following:\n",
        "\n",
        "- **Unified migration platform:** A single portal to start, run, and track your migration to Azure.\n",
        "- **Range of tools:** A range of tools for assessment and migration. Azure Migrate tools include Azure Migrate: Discovery and assessment and Azure Migrate: Server Migration. Azure Migrate also integrates with other Azure services and tools, and with independent software vendor (ISV) offerings.\n",
        "- **Assessment and migration:** In the Azure Migrate hub, you can assess and migrate your on-premises infrastructure to Azure.\n",
        "\n"
      ],
      "metadata": {
        "id": "QcEA8D8Y8ZrE"
      }
    },
    {
      "cell_type": "markdown",
      "source": [
        "## Integrated tools\n",
        "\n",
        "In addition to working with tools from ISVs, the Azure Migrate hub also includes the following tools to help with migration:\n",
        "\n",
        "- **Azure Migrate: Discovery and assessment.** Discover and assess on-premises servers running on VMware, Hyper-V, and physical servers in preparation for migration to Azure.\n",
        "- **Azure Migrate: Server Migration.** Migrate VMware VMs, Hyper-V VMs, physical servers, other virtualized servers, and public cloud VMs to Azure.\n",
        "- **Data Migration Assistant.** Data Migration Assistant is a stand-alone tool to assess SQL Servers. It helps pinpoint potential problems blocking migration. It identifies unsupported features, new features that can benefit you after migration, and the right path for database migration.\n",
        "- **Azure Database Migration Service.** Migrate on-premises databases to Azure VMs running SQL Server, Azure SQL Database, or SQL Managed Instances.\n",
        "- **Azure App Service migration assistant.** Azure App Service migration assistant is a standalone tool to assess on-premises websites for migration to Azure App Service. Use Migration Assistant to migrate .NET and PHP web apps to Azure.\n",
        "- **Azure Data Box.** Use Azure Data Box products to move large amounts of offline data to Azure.\n",
        "\n"
      ],
      "metadata": {
        "id": "4wOhnumb8Zn_"
      }
    },
    {
      "cell_type": "markdown",
      "source": [
        "## Azure Data Box\n",
        "\n",
        "Azure Data Box is a physical migration service that helps transfer large amounts of data in a quick, inexpensive, and reliable way. The secure data transfer is accelerated by shipping you a proprietary Data Box storage device that has a maximum usable storage capacity of 80 terabytes. The Data Box is transported to and from your datacenter via a regional carrier. A rugged case protects and secures the Data Box from damage during transit.\n",
        "\n",
        "You can order the Data Box device via the Azure portal to import or export data from Azure. Once the device is received, you can quickly set it up using the local web UI and connect it to your network. Once you’re finished transferring the data (either into or out of Azure), simply return the Data Box. If you’re transferring data into Azure, the data is automatically uploaded once Microsoft receives the Data Box back. The entire process is tracked end-to-end by the Data Box service in the Azure portal.\n",
        "\n"
      ],
      "metadata": {
        "id": "sxN85bth8ZlT"
      }
    },
    {
      "cell_type": "markdown",
      "source": [
        "## Use cases\n",
        "\n",
        "Data Box is ideally suited to transfer data sizes larger than 40 TBs in scenarios with no to limited network connectivity. The data movement can be one-time, periodic, or an initial bulk data transfer followed by periodic transfers.\n",
        "\n",
        "Here are the various scenarios where Data Box can be used to import data to Azure.\n",
        "\n",
        "- Onetime migration - when a large amount of on-premises data is moved to Azure.\n",
        "- Moving a media library from offline tapes into Azure to create an online media library.\n",
        "- Migrating your VM farm, SQL server, and applications to Azure.\n",
        "- Moving historical data to Azure for in-depth analysis and reporting using HDInsight.\n",
        "- Initial bulk transfer - when an initial bulk transfer is done using Data Box (seed) followed by incremental transfers over the network.\n",
        "- Periodic uploads - when large amount of data is generated periodically and needs to be moved to Azure.\n",
        "\n",
        "Here are the various scenarios where Data Box can be used to export data from Azure.\n",
        "\n",
        "- Disaster recovery - when a copy of the data from Azure is restored to an on-premises network. In a typical disaster recovery scenario, a large amount of Azure data is exported to a Data Box. Microsoft then ships this Data Box, and the data is restored on your premises in a short time.\n",
        "- Security requirements - when you need to be able to export data out of Azure due to government or security requirements.\n",
        "- Migrate back to on-premises or to another cloud service provider - when you want to move all the data back to on-premises, or to another cloud service provider, export data via Data Box to migrate the workloads.\n",
        "\n",
        "Once the data from your import order is uploaded to Azure, the disks on the device are wiped clean in accordance with NIST 800-88r1 standards. For an export order, the disks are erased once the device reaches the Azure datacenter.\n",
        "\n"
      ],
      "metadata": {
        "id": "bNHzrS2T8Zib"
      }
    },
    {
      "cell_type": "markdown",
      "source": [
        "## Next unit: Identify Azure file movement options\n",
        "\n"
      ],
      "metadata": {
        "id": "dzoZQWA38ZS7"
      }
    },
    {
      "cell_type": "markdown",
      "source": [
        "# Unit 7 of 9\n",
        "\n"
      ],
      "metadata": {
        "id": "oCk2XnZs8ZPU"
      }
    },
    {
      "cell_type": "markdown",
      "source": [
        "## Identify Azure file movement options\n",
        "\n",
        "In addition to large scale migration using services like Azure Migrate and Azure Data Box, Azure also has tools designed to help you move or interact with individual files or small file groups. Among those tools are AzCopy, Azure Storage Explorer, and Azure File Sync.\n",
        "\n"
      ],
      "metadata": {
        "id": "CTTO7GjM8ZMZ"
      }
    },
    {
      "cell_type": "markdown",
      "source": [
        "## AzCopy\n",
        "\n",
        "AzCopy is a command-line utility that you can use to copy blobs or files to or from your storage account. With AzCopy, you can upload files, download files, copy files between storage accounts, and even synchronize files. AzCopy can even be configured to work with other cloud providers to help move files back and forth between clouds.\n",
        "\n",
        "> Important: Synchronizing blobs or files with AzCopy is one-direction synchronization. When you synchronize, you designated the source and destination, and AzCopy will copy files or blobs in that direction. It doesn't synchronize bi-directionally based on timestamps or other metadata.\n",
        "\n"
      ],
      "metadata": {
        "id": "QjIufs0u8ZJq"
      }
    },
    {
      "cell_type": "markdown",
      "source": [
        "## Azure Storage Explorer\n",
        "\n",
        "Azure Storage Explorer is a standalone app that provides a graphical interface to manage files and blobs in your Azure Storage Account. It works on Windows, macOS, and Linux operating systems and uses AzCopy on the backend to perform all of the file and blob management tasks. With Storage Explorer, you can upload to Azure, download from Azure, or move between storage accounts.\n",
        "\n"
      ],
      "metadata": {
        "id": "Mw7Wkjw_8ZG7"
      }
    },
    {
      "cell_type": "markdown",
      "source": [
        "## Azure File Sync\n",
        "\n",
        "Azure File Sync is a tool that lets you centralize your file shares in Azure Files and keep the flexibility, performance, and compatibility of a Windows file server. It’s almost like turning your Windows file server into a miniature content delivery network. Once you install Azure File Sync on your local Windows server, it will automatically stay bi-directionally synced with your files in Azure.\n",
        "\n",
        "With Azure File Sync, you can:\n",
        "\n",
        "- Use any protocol that's available on Windows Server to access your data locally, including SMB, NFS, and FTPS.\n",
        "- Have as many caches as you need across the world.\n",
        "- Replace a failed local server by installing Azure File Sync on a new server in the same datacenter.\n",
        "- Configure cloud tiering so the most frequently accessed files are replicated locally, while infrequently accessed files are kept in the cloud until requested.\n",
        "\n"
      ],
      "metadata": {
        "id": "krca3IXw8ZEK"
      }
    },
    {
      "cell_type": "markdown",
      "source": [
        "## Next unit: Knowledge check\n",
        "\n"
      ],
      "metadata": {
        "id": "7dJOXZGD8ZBc"
      }
    },
    {
      "cell_type": "markdown",
      "source": [
        "# Unit 8 of 9\n",
        "\n"
      ],
      "metadata": {
        "id": "_5cTAoIx8Y-G"
      }
    },
    {
      "cell_type": "markdown",
      "source": [
        "## Knowledge check\n",
        "\n",
        "Choose the best response for each question. Then select Check your answers.\n",
        "\n"
      ],
      "metadata": {
        "id": "PH84lNzh-OVb"
      }
    },
    {
      "cell_type": "markdown",
      "source": [
        "### Check your knowledge\n",
        "\n",
        "1. Which tool automatically keeps files between an on-premises Windows server and an Azure cloud environment updated?\n",
        "\n",
        "    - ☑ Azure File Sync\n",
        "        > Azure File Sync maintains a bidirectional synchronization of files between your on-premises and cloud Windows servers.\n",
        "    - ☐ Azure Storage Explorer\n",
        "    - ☐ AzCopy\n",
        "\n",
        "2. Which storage redundancy option provides the highest degree of durability, with 16 nines of durability?\n",
        "    - ☐ Locally redundant storage\n",
        "    - ☐ Zone-redundant storage\n",
        "    - ☑ Geo-zone-redundant-storage\n",
        "        > Geo-redundant storage (GRS) and geo-zone-redundant storage (GZRS) both provide 16 nines of durability.\n",
        "\n",
        "3. Which Azure Storage service supports big data analytics, as well as handling text and binary data types?\n",
        "    - ☑ Azure Blobs\n",
        "        > Azure Blobs is a massively scalable object store for text and binary data. Azure Blobs also includes support for big data analytics through Data Lake Storage Gen2.\n",
        "    - ☐ Azure Files\n",
        "    - ☐ Azure Disks\n",
        "\n"
      ],
      "metadata": {
        "id": "_kzAmAOZ-OR4"
      }
    },
    {
      "cell_type": "markdown",
      "source": [
        "## Next unit: Summary\n",
        "\n"
      ],
      "metadata": {
        "id": "1_dGr2JuGWZ3"
      }
    },
    {
      "cell_type": "markdown",
      "source": [
        "# Unit 9 of 9\n",
        "\n"
      ],
      "metadata": {
        "id": "F-2lKedzGWWr"
      }
    },
    {
      "cell_type": "markdown",
      "source": [
        "## Summary\n",
        "\n",
        "In this module, you learned about the Azure storage services. You learned about the Azure Storage Account and how they relate to different storage services. You were introduced to storage blobs and redundancy options, and ways to migrate and move your data both into and within Azure.\n",
        "\n"
      ],
      "metadata": {
        "id": "1KssDH-bGWSY"
      }
    },
    {
      "cell_type": "markdown",
      "source": [
        "## Learning objectives\n",
        "\n",
        "You should now be able to:\n",
        "\n",
        "- Compare Azure storage services.\n",
        "- Describe storage tiers.\n",
        "- Describe redundancy options.\n",
        "- Describe storage account options and storage types.\n",
        "- Identify options for moving files, including AzCopy, Azure Storage Explorer, and Azure File Sync.\n",
        "- Describe migration options, including Azure Migrate and Azure Data Box.\n",
        "\n"
      ],
      "metadata": {
        "id": "Ehoh7P1CGWFI"
      }
    },
    {
      "cell_type": "markdown",
      "source": [
        "## Additional resources\n",
        "\n",
        "The following resources provide more information on topics in this module or related to this module.\n",
        "\n",
        "- [Store data in Azure](https://learn.microsoft.com/en-us/learn/paths/store-data-in-azure/) is a Microsoft Learn course that covers more information about storing data in Azure.\n",
        "- [Microsoft Certified: Azure Data Fundamentals](https://learn.microsoft.com/en-us/learn/certifications/azure-data-fundamentals/) is an entire certification, with associated training that dives deeper into data fundamentals on Azure.\n",
        "\n"
      ],
      "metadata": {
        "id": "wX-oYkpOGWB8"
      }
    },
    {
      "cell_type": "markdown",
      "source": [
        "## All units complete\n"
      ],
      "metadata": {
        "id": "zlxWrlzVWqFE"
      }
    }
  ]
}