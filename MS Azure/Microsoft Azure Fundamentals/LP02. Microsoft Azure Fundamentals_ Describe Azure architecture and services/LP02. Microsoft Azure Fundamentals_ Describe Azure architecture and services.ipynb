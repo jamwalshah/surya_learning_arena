{
  "nbformat": 4,
  "nbformat_minor": 0,
  "metadata": {
    "colab": {
      "provenance": [],
      "toc_visible": true
    },
    "kernelspec": {
      "name": "python3",
      "display_name": "Python 3"
    },
    "language_info": {
      "name": "python"
    }
  },
  "cells": [
    {
      "cell_type": "markdown",
      "source": [
        "## Microsoft Azure Fundamentals: Describe Azure architecture and services\n",
        "New to the cloud? Microsoft Azure fundamentals is a three-part series that teaches you basic cloud concepts, provides a streamlined overview of many Azure services, and guides you with hands-on exercises to deploy your very first services for free. Complete all of the learning paths in the series if you are preparing for Exam AZ-900: Microsoft Azure Fundamentals. This is the second learning path in the series, **Azure Fundamentals: Describe Azure architecture and services**. The other learning paths in the series are [Part 1: Describe cloud concepts](https://learn.microsoft.com/en-us/training/paths/microsoft-azure-fundamentals-describe-cloud-concepts/) and [Part 3: Describe Azure management and governance](https://learn.microsoft.com/en-us/training/paths/describe-azure-management-governance/).\n",
        "\n",
        "### Prerequisites\n",
        "- Basic familiarity with IT terms and concepts\n"
      ],
      "metadata": {
        "id": "yFwQ4DomtI51"
      }
    },
    {
      "cell_type": "markdown",
      "source": [
        "### Modules in this learning path\n"
      ],
      "metadata": {
        "id": "KpXrQrJLtI2W"
      }
    },
    {
      "cell_type": "markdown",
      "source": [
        "#### Describe the core architectural components of Azure\n",
        "48 min • Module • 9 Units\n",
        "\n",
        "This module explains the basic infrastructure components of Microsoft Azure. You'll learn about the physical infrastructure, how resources are managed, and have a chance to create an Azure resource.\n",
        "\n",
        "\n"
      ],
      "metadata": {
        "id": "70NSF-9atIzb"
      }
    },
    {
      "cell_type": "markdown",
      "source": [
        "#### Describe Azure compute and networking services\n",
        "1 hr 8 min • Module • 14 Units\n",
        "\n",
        "This module focuses on some of the computer services and networking services available within Azure.\n",
        "\n",
        "\n"
      ],
      "metadata": {
        "id": "-lMZOmaJtIwk"
      }
    },
    {
      "cell_type": "markdown",
      "source": [
        "#### Describe Azure storage services\n",
        "46 min • Module • 9 Units\n",
        "\n",
        "This module introduces you to storage in Azure, including things such as different types of storage and how a distributed infrastructure can make your data more resilient.\n",
        "\n",
        "\n"
      ],
      "metadata": {
        "id": "YkfAZIC7tIts"
      }
    },
    {
      "cell_type": "markdown",
      "source": [
        "#### Describe Azure identity, access, and security\n",
        "43 min • Module • 11 Units\n",
        "\n",
        "This module covers some of the authorization and authentication methods available with Azure.\n",
        "\n",
        "\n"
      ],
      "metadata": {
        "id": "DzPqT8PNtIqs"
      }
    }
  ]
}