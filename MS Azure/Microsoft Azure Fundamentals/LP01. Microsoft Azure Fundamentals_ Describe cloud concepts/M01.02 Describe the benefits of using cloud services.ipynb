{
  "nbformat": 4,
  "nbformat_minor": 0,
  "metadata": {
    "colab": {
      "provenance": [],
      "toc_visible": true
    },
    "kernelspec": {
      "name": "python3",
      "display_name": "Python 3"
    },
    "language_info": {
      "name": "python"
    }
  },
  "cells": [
    {
      "cell_type": "markdown",
      "source": [
        "# Unit 1 of 7\n",
        "\n"
      ],
      "metadata": {
        "id": "lXuvMJSvJQwJ"
      }
    },
    {
      "cell_type": "markdown",
      "source": [
        "## Introduction\n",
        "In this module, you’ll be introduced to some of the benefits that cloud computing offers. You’ll learn how cloud computing can help you meet variable demand while providing a good experience for your customer. You’ll also learn about security, governance, and overall manageability in the cloud.\n",
        "\n"
      ],
      "metadata": {
        "id": "FaMF8exPJQso"
      }
    },
    {
      "cell_type": "markdown",
      "source": [
        "## Learning Objectives\n",
        "After completing this module, you’ll be able to:\n",
        "\n",
        "- Describe the benefits of high availability and scalability in the cloud.\n",
        "- Describe the benefits of reliability and predictability in the cloud.\n",
        "- Describe the benefits of security and governance in the cloud.\n",
        "- Describe the benefits of manageability in the cloud.\n",
        "\n"
      ],
      "metadata": {
        "id": "sivGBOVqJQp3"
      }
    },
    {
      "cell_type": "markdown",
      "source": [
        "## Next unit: Describe the benefits of high availability and scalability in the cloud\n",
        "\n"
      ],
      "metadata": {
        "id": "g-fWVeZBJQnM"
      }
    },
    {
      "cell_type": "markdown",
      "source": [
        "# Unit 2 of 7\n",
        "\n"
      ],
      "metadata": {
        "id": "9PDaumKB1z8u"
      }
    },
    {
      "cell_type": "markdown",
      "source": [
        "## Describe the benefits of high availability and scalability in the cloud\n",
        "When building or deploying a cloud application, two of the biggest considerations are uptime (or availability) and the ability to handle demand (or scale).\n",
        "\n"
      ],
      "metadata": {
        "id": "87DSyrRk106P"
      }
    },
    {
      "cell_type": "markdown",
      "source": [
        "## High availability\n",
        "When you’re deploying an application, a service, or any IT resources, it’s important the resources are available when needed. High availability focuses on ensuring maximum availability, regardless of disruptions or events that may occur.\n",
        "\n",
        "When you’re architecting your solution, you’ll need to account for service availability guarantees. Azure is a highly available cloud environment with uptime guarantees depending on the service. These guarantees are part of the service-level agreements (SLAs).\n",
        "\n",
        "This short video describes Azure SLAs in more detail.\n",
        "\n"
      ],
      "metadata": {
        "id": "9rJ2Skne102t"
      }
    },
    {
      "cell_type": "code",
      "source": [
        "from IPython.display import HTML\n",
        "\n",
        "# Embedding the video link using HTML iframe\n",
        "video_url = 'https://www.microsoft.com/en-us/videoplayer/embed/RWEA4z?postJsllMsg=true'\n",
        "embed_code = f'<iframe width=\"560\" height=\"315\" src=\"{video_url}\" frameborder=\"0\" allowfullscreen></iframe>'\n",
        "HTML(embed_code)"
      ],
      "metadata": {
        "colab": {
          "base_uri": "https://localhost:8080/",
          "height": 371
        },
        "id": "PqA1wI7J2ELy",
        "outputId": "b53a5b22-25ba-4101-c2f2-7a89bee9b483"
      },
      "execution_count": null,
      "outputs": [
        {
          "output_type": "stream",
          "name": "stderr",
          "text": [
            "C:\\Users\\surya\\AppData\\Local\\Programs\\Python\\Python312\\Lib\\site-packages\\IPython\\core\\display.py:431: UserWarning: Consider using IPython.display.IFrame instead\n",
            "  warnings.warn(\"Consider using IPython.display.IFrame instead\")\n"
          ]
        },
        {
          "output_type": "execute_result",
          "data": {
            "text/plain": [
              "<IPython.core.display.HTML object>"
            ],
            "text/html": [
              "<iframe width=\"560\" height=\"315\" src=\"https://www.microsoft.com/en-us/videoplayer/embed/RWEA4z?postJsllMsg=true\" frameborder=\"0\" allowfullscreen></iframe>"
            ]
          },
          "metadata": {},
          "execution_count": 1
        }
      ]
    },
    {
      "cell_type": "markdown",
      "source": [
        "## Scalability\n",
        "Another major benefit of cloud computing is the scalability of cloud resources. Scalability refers to the ability to adjust resources to meet demand. If you suddenly experience peak traffic and your systems are overwhelmed, the ability to scale means you can add more resources to better handle the increased demand.\n",
        "\n",
        "The other benefit of scalability is that you aren't overpaying for services. Because the cloud is a consumption-based model, you only pay for what you use. If demand drops off, you can reduce your resources and thereby reduce your costs.\n",
        "\n",
        "Scaling generally comes in two varieties: vertical and horizontal. Vertical scaling is focused on increasing or decreasing the capabilities of resources. Horizontal scaling is adding or subtracting the number of resources.\n",
        "\n"
      ],
      "metadata": {
        "id": "CUUWa8i1100P"
      }
    },
    {
      "cell_type": "markdown",
      "source": [
        "### Vertical scaling\n",
        "With vertical scaling, if you were developing an app and you needed more processing power, you could vertically scale up to add more CPUs or RAM to the virtual machine. Conversely, if you realized you had over-specified the needs, you could vertically scale down by lowering the CPU or RAM specifications.\n",
        "\n"
      ],
      "metadata": {
        "id": "86Tok1_z10xy"
      }
    },
    {
      "cell_type": "markdown",
      "source": [
        "### Horizontal scaling\n",
        "With horizontal scaling, if you suddenly experienced a steep jump in demand, your deployed resources could be scaled out (either automatically or manually). For example, you could add additional virtual machines or containers, scaling out. In the same manner, if there was a significant drop in demand, deployed resources could be scaled in (either automatically or manually), scaling in.\n",
        "\n"
      ],
      "metadata": {
        "id": "9m7FxVqB10vm"
      }
    },
    {
      "cell_type": "markdown",
      "source": [
        "## Next unit: Describe the benefits of reliability and predictability in the cloud\n",
        "\n"
      ],
      "metadata": {
        "id": "9_1zW_Hw10tP"
      }
    },
    {
      "cell_type": "markdown",
      "source": [
        "# Unit 3 of 7\n"
      ],
      "metadata": {
        "id": "ivYr9I7Z10q3"
      }
    },
    {
      "cell_type": "markdown",
      "source": [
        "## Describe the benefits of reliability and predictability in the cloud\n",
        "Reliability and predictability are two crucial cloud benefits that help you develop solutions with confidence.\n",
        "\n"
      ],
      "metadata": {
        "id": "n5SzxkKG10og"
      }
    },
    {
      "cell_type": "markdown",
      "source": [
        "## Reliability\n",
        "Reliability is the ability of a system to recover from failures and continue to function. It's also one of the pillars of the Microsoft Azure Well-Architected Framework.\n",
        "\n",
        "The cloud, by virtue of its decentralized design, naturally supports a reliable and resilient infrastructure. With a decentralized design, the cloud enables you to have resources deployed in regions around the world. With this global scale, even if one region has a catastrophic event other regions are still up and running. You can design your applications to automatically take advantage of this increased reliability. In some cases, your cloud environment itself will automatically shift to a different region for you, with no action needed on your part. You’ll learn more about how Azure leverages global scale to provide reliability later in this series.\n",
        "\n"
      ],
      "metadata": {
        "id": "v-H88VFL10mJ"
      }
    },
    {
      "cell_type": "markdown",
      "source": [
        "## Predictability\n",
        "Predictability in the cloud lets you move forward with confidence. Predictability can be focused on performance predictability or cost predictability. Both performance and cost predictability are heavily influenced by the Microsoft Azure Well-Architected Framework. Deploy a solution built around this framework and you have a solution whose cost and performance are predictable.\n",
        "\n"
      ],
      "metadata": {
        "id": "qufuOG4a10j1"
      }
    },
    {
      "cell_type": "markdown",
      "source": [
        "### Performance\n",
        "Performance predictability focuses on predicting the resources needed to deliver a positive experience for your customers. Autoscaling, load balancing, and high availability are just some of the cloud concepts that support performance predictability. If you suddenly need more resources, autoscaling can deploy additional resources to meet the demand, and then scale back when the demand drops. Or if the traffic is heavily focused on one area, load balancing will help redirect some of the overload to less stressed areas.\n",
        "\n"
      ],
      "metadata": {
        "id": "4QVMFnFa10hh"
      }
    },
    {
      "cell_type": "markdown",
      "source": [
        "### Cost\n",
        "Cost predictability is focused on predicting or forecasting the cost of the cloud spend. With the cloud, you can track your resource use in real time, monitor resources to ensure that you’re using them in the most efficient way, and apply data analytics to find patterns and trends that help better plan resource deployments. By operating in the cloud and using cloud analytics and information, you can predict future costs and adjust your resources as needed. You can even use tools like the Total Cost of Ownership (TCO) or Pricing Calculator to get an estimate of potential cloud spend.\n",
        "\n"
      ],
      "metadata": {
        "id": "vqqyEiTS10fO"
      }
    },
    {
      "cell_type": "markdown",
      "source": [
        "## Next unit: Describe the benefits of security and governance in the cloud\n",
        "\n"
      ],
      "metadata": {
        "id": "AojCoy-610cv"
      }
    },
    {
      "cell_type": "markdown",
      "source": [
        "# Unit 4 of 7\n"
      ],
      "metadata": {
        "id": "A52v2-qL10aW"
      }
    },
    {
      "cell_type": "markdown",
      "source": [
        "## Describe the benefits of security and governance in the cloud\n",
        "Whether you’re deploying infrastructure as a service or software as a service, cloud features support governance and compliance. Things like set templates help ensure that all your deployed resources meet corporate standards and government regulatory requirements. Plus, you can update all your deployed resources to new standards as standards change. Cloud-based auditing helps flag any resource that’s out of compliance with your corporate standards and provides mitigation strategies. Depending on your operating model, software patches and updates may also automatically be applied, which helps with both governance and security.\n",
        "\n",
        "On the security side, you can find a cloud solution that matches your security needs. If you want maximum control of security, infrastructure as a service provides you with physical resources but lets you manage the operating systems and installed software, including patches and maintenance. If you want patches and maintenance taken care of automatically, platform as a service or software as a service deployments may be the best cloud strategies for you.\n",
        "\n",
        "And because the cloud is intended as an over-the-internet delivery of IT resources, cloud providers are typically well suited to handle things like distributed denial of service (DDoS) attacks, making your network more robust and secure.\n",
        "\n",
        "By establishing a good governance footprint early, you can keep your cloud footprint updated, secure, and well managed.\n",
        "\n"
      ],
      "metadata": {
        "id": "IZMZV_9310X4"
      }
    },
    {
      "cell_type": "markdown",
      "source": [
        "## Next unit: Describe the benefits of manageability in the cloud\n",
        "\n"
      ],
      "metadata": {
        "id": "PHSlt4S-10Bf"
      }
    },
    {
      "cell_type": "markdown",
      "source": [
        "# Unit 5 of 7\n"
      ],
      "metadata": {
        "id": "ZdgiZXUHMEqt"
      }
    },
    {
      "cell_type": "markdown",
      "source": [
        "## Describe the benefits of manageability in the cloud\n",
        "A major benefit of cloud computing is the manageability options. There are two types of manageability for cloud computing that you’ll learn about in this series, and both are excellent benefits.\n",
        "\n"
      ],
      "metadata": {
        "id": "st5DnfNsyb5E"
      }
    },
    {
      "cell_type": "markdown",
      "source": [
        "### Management of the cloud\n",
        "Management of the cloud speaks to managing your cloud resources. In the cloud, you can:\n",
        "\n",
        "- Automatically scale resource deployment based on need.\n",
        "- Deploy resources based on a pre-configured template, removing the need for manual configuration.\n",
        "- Monitor the health of resources and automatically replace failing resources.\n",
        "- Receive automatic alerts based on configured metrics, so you’re aware of performance in real time.\n",
        "\n"
      ],
      "metadata": {
        "id": "4a20eZ8ayb1j"
      }
    },
    {
      "cell_type": "markdown",
      "source": [
        "### Management in the cloud\n",
        "Management in the cloud speaks to how you’re able to manage your cloud environment and resources. You can manage these:\n",
        "\n",
        "- Through a web portal.\n",
        "- Using a command line interface.\n",
        "- Using APIs.\n",
        "- Using PowerShell.\n",
        "\n"
      ],
      "metadata": {
        "id": "fiQzRuuZybx5"
      }
    },
    {
      "cell_type": "markdown",
      "source": [
        "## Next unit: Knowledge check\n",
        "\n"
      ],
      "metadata": {
        "id": "wrOb8yR4ybts"
      }
    },
    {
      "cell_type": "markdown",
      "source": [
        "# Unit 6 of 7\n"
      ],
      "metadata": {
        "id": "b9Rxb6O5ybgl"
      }
    },
    {
      "cell_type": "markdown",
      "source": [
        "## Knowledge check\n",
        "Choose the best response for each question. Then select Check your answers.\n",
        "\n"
      ],
      "metadata": {
        "id": "PvRsIdwbywWU"
      }
    },
    {
      "cell_type": "markdown",
      "source": [
        "Check your knowledge\n",
        "\n",
        "1. Which type of scaling involves adding or removing resources (such as virtual machines or containers) to meet demand?\n",
        "    - ☐ Vertical scaling\n",
        "    - ☑ Horizontal scaling\n",
        "        > Horizontal scaling is adding or subtracting the number of resources.\n",
        "    - ☐ Direct scaling\n",
        "\n",
        "2. What is characterized as the ability of a system to recover from failures and continue to function?\n",
        "    - ☑ Reliability\n",
        "        > Reliability is the ability of a system to recover from failures and continue to function, and it is one of the pillars of the Microsoft Azure Well-Architected Framework.\n",
        "    - ☐ Predictability\n",
        "    - ☐ Scalability\n",
        "\n"
      ],
      "metadata": {
        "id": "XgXNDPWc0b_m"
      }
    },
    {
      "cell_type": "markdown",
      "source": [
        "## Next unit: Summary\n",
        "\n"
      ],
      "metadata": {
        "id": "GzS_zJ_H0b8K"
      }
    },
    {
      "cell_type": "markdown",
      "source": [
        "# Unit 7 of 7\n",
        "\n"
      ],
      "metadata": {
        "id": "YdBlvRHW0b5W"
      }
    },
    {
      "cell_type": "markdown",
      "source": [
        "## Summary\n",
        "In this module, you learned about some of the benefits of operating in the cloud. You learned about high availability and reliability, and how those work to keep your applications running. You also learned about how the cloud can provide a more secure environment. Finally, you learned that the cloud provides a highly manageable environment for your resources.\n",
        "\n"
      ],
      "metadata": {
        "id": "JeilXXJr0b2h"
      }
    },
    {
      "cell_type": "markdown",
      "source": [
        "## Learning objectives\n",
        "You should now be able to:\n",
        "\n",
        "- Describe the benefits of high availability and scalability in the cloud.\n",
        "- Describe the benefits of reliability and predictability in the cloud.\n",
        "- Describe the benefits of security and governance in the cloud.\n",
        "- Describe the benefits of manageability in the cloud.\n",
        "\n"
      ],
      "metadata": {
        "id": "n0czpXEz0b0K"
      }
    },
    {
      "cell_type": "markdown",
      "source": [
        "## Additional resources\n",
        "The following resources provide more information on topics in this module or related to this module.\n",
        "\n",
        "- [Build great solutions with the Microsoft Azure Well-Architected Framework](https://learn.microsoft.com/en-us/learn/paths/azure-well-architected-framework/) is a Microsoft Learn course that introduces you to the Microsoft Azure Well-Architected Framework.\n",
        "\n"
      ],
      "metadata": {
        "id": "1J5eFH7V0bxV"
      }
    },
    {
      "cell_type": "markdown",
      "source": [
        "## All units complete\n",
        "\n"
      ],
      "metadata": {
        "id": "OnYYFKlw0bul"
      }
    }
  ]
}