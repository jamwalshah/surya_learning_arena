{
  "nbformat": 4,
  "nbformat_minor": 0,
  "metadata": {
    "colab": {
      "provenance": [],
      "toc_visible": true
    },
    "kernelspec": {
      "name": "python3",
      "display_name": "Python 3"
    },
    "language_info": {
      "name": "python"
    }
  },
  "cells": [
    {
      "cell_type": "markdown",
      "source": [
        "# Microsoft Azure Fundamentals: Describe cloud concepts\n",
        "\n",
        "New to the cloud? Microsoft Azure fundamentals is a three-part series that teaches you basic cloud concepts, provides a streamlined overview of many Azure services, and guides you with hands-on exercises to deploy your very first services for free. Complete all of the learning paths in the series if you are preparing for Exam AZ-900: Microsoft Azure Fundamentals. This is the first learning path in the series, **Microsoft Azure Fundamentals: Describe cloud concepts**. The other learning paths in the series are [Part 2: Describe Azure architecture and services](https://learn.microsoft.com/en-us/training/paths/azure-fundamentals-describe-azure-architecture-services/) and [Part 3: Describe Azure management and governance](https://learn.microsoft.com/en-us/training/paths/describe-azure-management-governance/).\n",
        "\n",
        "\n",
        "This learning path helps prepare you for [Exam AZ-900: Microsoft Azure Fundamentals](https://learn.microsoft.com/credentials/certifications/exams/az-900/).\n",
        "\n",
        "## Prerequisites\n",
        "\n",
        "- Basic familiarity with IT terms and concepts\n",
        "\n"
      ],
      "metadata": {
        "id": "42JcESfDrw7Z"
      }
    },
    {
      "cell_type": "markdown",
      "source": [
        "## Modules in this learning path\n",
        "\n"
      ],
      "metadata": {
        "id": "7TMbyt_OGhVH"
      }
    },
    {
      "cell_type": "markdown",
      "source": [
        "### Describe cloud computing\n",
        "\n",
        "23 min • Module • 8 Units\n",
        "\n",
        "This module introduces you to cloud computing. It covers things such as cloud concepts, deployment models, and understanding shared responsibility in the cloud.\n",
        "\n"
      ],
      "metadata": {
        "id": "zvsWoYzGGhRi"
      }
    },
    {
      "cell_type": "markdown",
      "source": [
        "### Describe the benefits of using cloud services\n",
        "\n",
        "17 min • Module • 7 Units\n",
        "\n",
        "This module introduces you to the benefits cloud computing can offer you or your organization.\n",
        "\n"
      ],
      "metadata": {
        "id": "G_LQitdlGhDT"
      }
    },
    {
      "cell_type": "markdown",
      "source": [
        "### Describe cloud service types\n",
        "\n",
        "12 min • Module • 6 Units\n",
        "\n",
        "This module covers the different cloud service types and shares some of the use cases and benefits aligned with each service type.\n",
        "\n"
      ],
      "metadata": {
        "id": "w5T2rREdGg_t"
      }
    }
  ]
}