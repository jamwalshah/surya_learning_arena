{
  "nbformat": 4,
  "nbformat_minor": 0,
  "metadata": {
    "colab": {
      "provenance": [],
      "toc_visible": true
    },
    "kernelspec": {
      "name": "python3",
      "display_name": "Python 3"
    },
    "language_info": {
      "name": "python"
    }
  },
  "cells": [
    {
      "cell_type": "markdown",
      "source": [
        "# Unit 1 of 6\n",
        "\n"
      ],
      "metadata": {
        "id": "710ND6QOH0kB"
      }
    },
    {
      "cell_type": "markdown",
      "source": [
        "## Introduction\n",
        "In this module, you’ll be introduced to cloud service types. You’ll learn how each cloud service type determines the flexibility you’ll have with managing and configuring resources. You'll understand how the shared responsibility model applies to each cloud service type, and about various use cases for each cloud service type.\n",
        "\n"
      ],
      "metadata": {
        "id": "lLcVtxWbH0ge"
      }
    },
    {
      "cell_type": "markdown",
      "source": [
        "## Learning objectives\n",
        "After completing this module, you’ll be able to:\n",
        "\n",
        "- Describe infrastructure as a service (IaaS).\n",
        "- Describe platform as a service (PaaS).\n",
        "- Describe software as a service (SaaS).\n",
        "- Identify appropriate use cases for each cloud service (IaaS, PaaS, SaaS).\n",
        "\n"
      ],
      "metadata": {
        "id": "mcoexJCaH0eC"
      }
    },
    {
      "cell_type": "markdown",
      "source": [
        "## Next unit: Describe Infrastructure as a Service\n",
        "\n"
      ],
      "metadata": {
        "id": "XuLBlenWH0cE"
      }
    },
    {
      "cell_type": "markdown",
      "source": [
        "# Unit 2 of 6\n",
        "\n"
      ],
      "metadata": {
        "id": "lTj1xY4eH0ZU"
      }
    },
    {
      "cell_type": "markdown",
      "source": [
        "## Describe Infrastructure as a Service\n",
        "Infrastructure as a service (IaaS) is the most flexible category of cloud services, as it provides you the maximum amount of control for your cloud resources. In an IaaS model, the cloud provider is responsible for maintaining the hardware, network connectivity (to the internet), and physical security. You’re responsible for everything else: operating system installation, configuration, and maintenance; network configuration; database and storage configuration; and so on. With IaaS, you’re essentially renting the hardware in a cloud datacenter, but what you do with that hardware is up to you.\n",
        "\n"
      ],
      "metadata": {
        "id": "UD-GXWWfH0Wp"
      }
    },
    {
      "cell_type": "markdown",
      "source": [
        "## Shared responsibility model\n",
        "The shared responsibility model applies to all the cloud service types. IaaS places the largest share of responsibility with you. The cloud provider is responsible for maintaining the physical infrastructure and its access to the internet. You’re responsible for installation and configuration, patching and updates, and security.\n",
        "\n",
        "<img src=\"https://learn.microsoft.com/en-us/training/wwl-azure/describe-cloud-service-types/media/shared-responsibility-b3829bfe.svg\"\n",
        "     alt=\"shared-responsibility-model\"\n",
        "     style=\"float: left; margin-right: 10px;\" />\n",
        "\n"
      ],
      "metadata": {
        "id": "ibKdm0qWH0UW"
      }
    },
    {
      "cell_type": "markdown",
      "source": [
        "## Scenarios\n",
        "Some common scenarios where IaaS might make sense include:\n",
        "\n",
        "- Lift-and-shift migration: You’re setting up cloud resources similar to your on-prem datacenter, and then simply moving the things running on-prem to running on the IaaS infrastructure.\n",
        "- Testing and development: You have established configurations for development and test environments that you need to rapidly replicate. You can start up or shut down the different environments rapidly with an IaaS structure, while maintaining complete control.\n",
        "\n"
      ],
      "metadata": {
        "id": "_fLgBxC8H0R2"
      }
    },
    {
      "cell_type": "markdown",
      "source": [
        "## Next unit: Describe Platform as a Service\n",
        "\n"
      ],
      "metadata": {
        "id": "ein0VDPRH0PL"
      }
    },
    {
      "cell_type": "markdown",
      "source": [
        "# Unit 3 of 6\n",
        "\n"
      ],
      "metadata": {
        "id": "QBuHGiObH0M6"
      }
    },
    {
      "cell_type": "markdown",
      "source": [
        "## Describe Platform as a Service\n",
        "Platform as a service (PaaS) is a middle ground between renting space in a datacenter (infrastructure as a service) and paying for a complete and deployed solution (software as a service). In a PaaS environment, the cloud provider maintains the physical infrastructure, physical security, and connection to the internet. They also maintain the operating systems, middleware, development tools, and business intelligence services that make up a cloud solution. In a PaaS scenario, you don't have to worry about the licensing or patching for operating systems and databases.\n",
        "\n",
        "PaaS is well suited to provide a complete development environment without the headache of maintaining all the development infrastructure.\n",
        "\n"
      ],
      "metadata": {
        "id": "M_KhiM4dH0KS"
      }
    },
    {
      "cell_type": "markdown",
      "source": [
        "## Shared responsibility model\n",
        "The shared responsibility model applies to all the cloud service types. PaaS splits the responsibility between you and the cloud provider. The cloud provider is responsible for maintaining the physical infrastructure and its access to the internet, just like in IaaS. In the PaaS model, the cloud provider will also maintain the operating systems, databases, and development tools. Think of PaaS like using a domain joined machine: IT maintains the device with regular updates, patches, and refreshes.\n",
        "\n",
        "Depending on the configuration, you or the cloud provider may be responsible for networking settings and connectivity within your cloud environment, network and application security, and the directory infrastructure.\n",
        "\n",
        "<img src=\"https://learn.microsoft.com/en-us/training/wwl-azure/describe-cloud-service-types/media/shared-responsibility-b3829bfe.svg\"\n",
        "     alt=\"shared-responsibility-model\"\n",
        "     style=\"float: left; margin-right: 10px;\" />\n",
        "\n"
      ],
      "metadata": {
        "id": "EvXeZjxgH0Hn"
      }
    },
    {
      "cell_type": "markdown",
      "source": [
        "## Scenarios\n",
        "Some common scenarios where PaaS might make sense include:\n",
        "\n",
        "- Development framework: PaaS provides a framework that developers can build upon to develop or customize cloud-based applications. Similar to the way you create an Excel macro, PaaS lets developers create applications using built-in software components. Cloud features such as scalability, high-availability, and multi-tenant capability are included, reducing the amount of coding that developers must do.\n",
        "- Analytics or business intelligence: Tools provided as a service with PaaS allow organizations to analyze and mine their data, finding insights and patterns and predicting outcomes to improve forecasting, product design decisions, investment returns, and other business decisions.\n",
        "\n"
      ],
      "metadata": {
        "id": "0IA1bJmzH0E9"
      }
    },
    {
      "cell_type": "markdown",
      "source": [
        "# Unit 4 of 6\n",
        "\n"
      ],
      "metadata": {
        "id": "BKCgqSIiH0BD"
      }
    },
    {
      "cell_type": "markdown",
      "source": [
        "## Describe Software as a Service\n",
        "Software as a service (SaaS) is the most complete cloud service model from a product perspective. With SaaS, you’re essentially renting or using a fully developed application. Email, financial software, messaging applications, and connectivity software are all common examples of a SaaS implementation.\n",
        "\n",
        "While the SaaS model may be the least flexible, it’s also the easiest to get up and running. It requires the least amount of technical knowledge or expertise to fully employ.\n",
        "\n"
      ],
      "metadata": {
        "id": "e-gOd5U4Hz-x"
      }
    },
    {
      "cell_type": "markdown",
      "source": [
        "## Shared responsibility model\n",
        "The shared responsibility model applies to all the cloud service types. SaaS is the model that places the most responsibility with the cloud provider and the least responsibility with the user. In a SaaS environment you’re responsible for the data that you put into the system, the devices that you allow to connect to the system, and the users that have access. Nearly everything else falls to the cloud provider. The cloud provider is responsible for physical security of the datacenters, power, network connectivity, and application development and patching.\n",
        "\n",
        "<img src=\"https://learn.microsoft.com/en-us/training/wwl-azure/describe-cloud-service-types/media/shared-responsibility-b3829bfe.svg\"\n",
        "     alt=\"shared-responsibility-model\"\n",
        "     style=\"float: left; margin-right: 10px;\" />\n",
        "\n"
      ],
      "metadata": {
        "id": "Kcq4icQeHz8Z"
      }
    },
    {
      "cell_type": "markdown",
      "source": [
        "## Scenarios\n",
        "Some common scenarios for SaaS are:\n",
        "\n",
        "- Email and messaging.\n",
        "- Business productivity applications.\n",
        "- Finance and expense tracking.\n",
        "\n"
      ],
      "metadata": {
        "id": "t0FWbk6YHz5s"
      }
    },
    {
      "cell_type": "markdown",
      "source": [
        "## Next unit: Knowledge check\n",
        "\n"
      ],
      "metadata": {
        "id": "8VemKNm8Hz3I"
      }
    },
    {
      "cell_type": "markdown",
      "source": [
        "# Unit 5 of 6\n",
        "\n"
      ],
      "metadata": {
        "id": "1qaZemocHz0o"
      }
    },
    {
      "cell_type": "markdown",
      "source": [
        "## Knowledge check\n",
        "Choose the best response for each question. Then select Check your answers.\n",
        "\n"
      ],
      "metadata": {
        "id": "pT-5ukERHzxu"
      }
    },
    {
      "cell_type": "markdown",
      "source": [
        "## Check your knowledge\n",
        "\n",
        "1. Which cloud service type is most suited to a lift and shift migration from an on-premises datacenter to a cloud deployment?\n",
        "- [✅] Infrastructure as a Service (IaaS)\n",
        "> With an IaaS service type, you can approximate your on-premises environment, making a lift-and-shift transition to the cloud relatively straightforward.\n",
        "- [❌] Platform as a Service (PaaS)\n",
        "- [❌] Software as a Service (SaaS)\n",
        "\n",
        "2. What type of cloud service type would a Finance and Expense tracking solution typically be in?\n",
        "- [❌] Infrastructure as a Service (IaaS)\n",
        "- [❌] Platform as a Service (PaaS)\n",
        "- [✅] Software as a Service (SaaS)\n",
        "> SaaS provides access to software solutions, such as finance and expense tracking, email, or ticketing systems.\n",
        "\n",
        "\n",
        "\n"
      ],
      "metadata": {
        "id": "Hn1GydWQHzvZ"
      }
    },
    {
      "cell_type": "markdown",
      "source": [
        "## Next unit: Summary\n",
        "\n"
      ],
      "metadata": {
        "id": "BIeEuQnpKvTF"
      }
    },
    {
      "cell_type": "markdown",
      "source": [
        "# Unit 6 of 6\n",
        "\n"
      ],
      "metadata": {
        "id": "STxjx2zcKvPo"
      }
    },
    {
      "cell_type": "markdown",
      "source": [
        "## Summary\n",
        "In this module, you learned about the cloud service types and some common scenarios for each type. You also reinforced how the shared responsibility model determines your responsibilities with different cloud service types.\n",
        "\n"
      ],
      "metadata": {
        "id": "X1U2SaWSKvNT"
      }
    },
    {
      "cell_type": "markdown",
      "source": [
        "## Learning objectives\n",
        "You should now be able to:\n",
        "\n",
        "- Describe infrastructure as a service (IaaS).\n",
        "- Describe platform as a service (PaaS).\n",
        "- Describe software as a service (SaaS).\n",
        "- Identify appropriate use cases for each cloud service (IaaS, PaaS, SaaS).\n",
        "\n"
      ],
      "metadata": {
        "id": "X4uCTxzKKvKy"
      }
    },
    {
      "cell_type": "markdown",
      "source": [
        "## All units complete:\n",
        "\n"
      ],
      "metadata": {
        "id": "gegrMYn4KubI"
      }
    }
  ]
}