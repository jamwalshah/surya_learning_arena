{
  "nbformat": 4,
  "nbformat_minor": 0,
  "metadata": {
    "colab": {
      "provenance": [],
      "toc_visible": true
    },
    "kernelspec": {
      "name": "python3",
      "display_name": "Python 3"
    },
    "language_info": {
      "name": "python"
    }
  },
  "cells": [
    {
      "cell_type": "markdown",
      "source": [
        "# Unit 5 of 8"
      ],
      "metadata": {
        "id": "wRsQ0MVfPZyu"
      }
    },
    {
      "cell_type": "markdown",
      "source": [
        "## Define cloud models\n",
        "What are cloud models? The cloud models define the deployment type of cloud resources. The three main cloud models are: private, public, and hybrid.\n",
        "\n"
      ],
      "metadata": {
        "id": "dADBK3UuPZvK"
      }
    },
    {
      "cell_type": "markdown",
      "source": [
        "## Private cloud\n",
        "Let’s start with a private cloud. A private cloud is, in some ways, the natural evolution from a corporate datacenter. It’s a cloud (delivering IT services over the internet) that’s used by a single entity. Private cloud provides much greater control for the company and its IT department. However, it also comes with greater cost and fewer of the benefits of a public cloud deployment. Finally, a private cloud may be hosted from your on site datacenter. It may also be hosted in a dedicated datacenter offsite, potentially even by a third party that has dedicated that datacenter to your company.\n",
        "\n"
      ],
      "metadata": {
        "id": "Zy30ve2UPZrZ"
      }
    },
    {
      "cell_type": "markdown",
      "source": [
        "## Public cloud\n",
        "A public cloud is built, controlled, and maintained by a third-party cloud provider. With a public cloud, anyone that wants to purchase cloud services can access and use resources. The general public availability is a key difference between public and private clouds.\n",
        "\n"
      ],
      "metadata": {
        "id": "_WX7BqYLPZnz"
      }
    },
    {
      "cell_type": "markdown",
      "source": [
        "## Hybrid cloud\n",
        "A hybrid cloud is a computing environment that uses both public and private clouds in an inter-connected environment. A hybrid cloud environment can be used to allow a private cloud to surge for increased, temporary demand by deploying public cloud resources. Hybrid cloud can be used to provide an extra layer of security. For example, users can flexibly choose which services to keep in public cloud and which to deploy to their private cloud infrastructure.\n",
        "\n",
        "The following table highlights a few key comparative aspects between the cloud models.\n",
        "\n",
        "|Public cloud|\tPrivate cloud|\tHybrid cloud|\n",
        "|:--        |:--            |:--            |\n",
        "|No capital expenditures to scale up\t|Organizations have complete control over resources and security\t|Provides the most flexibility\n",
        "|\n",
        "|Applications can be quickly provisioned and deprovisioned\t|Data is not collocated with other organizations’ data\t|Organizations determine where to run their applications\n",
        "|\n",
        "|Organizations pay only for what they use\t|Hardware must be purchased for startup and maintenance\t|Organizations control security, compliance, or legal requirements\n",
        "|\n",
        "|Organizations don’t have complete control over resources and security\t|Organizations are responsible for hardware maintenance and updates\t|   |"
      ],
      "metadata": {
        "id": "dAtz6QPt1HOW"
      }
    },
    {
      "cell_type": "markdown",
      "source": [
        "## Multi-cloud\n",
        "A fourth, and increasingly likely scenario is a multi-cloud scenario. In a multi-cloud scenario, you use multiple public cloud providers. Maybe you use different features from different cloud providers. Or maybe you started your cloud journey with one provider and are in the process of migrating to a different provider. Regardless, in a multi-cloud environment you deal with two (or more) public cloud providers and manage resources and security in both environments.\n",
        "\n"
      ],
      "metadata": {
        "id": "eoxxqK5x1HKw"
      }
    },
    {
      "cell_type": "markdown",
      "source": [
        "## Azure Arc\n",
        "Azure Arc is a set of technologies that helps manage your cloud environment. Azure Arc can help manage your cloud environment, whether it's a public cloud solely on Azure, a private cloud in your datacenter, a hybrid configuration, or even a multi-cloud environment running on multiple cloud providers at once.\n",
        "\n"
      ],
      "metadata": {
        "id": "VoBX0cBI1HIU"
      }
    },
    {
      "cell_type": "markdown",
      "source": [
        "## Azure VMware Solution\n",
        "What if you’re already established with VMware in a private cloud environment but want to migrate to a public or hybrid cloud? Azure VMware Solution lets you run your VMware workloads in Azure with seamless integration and scalability.\n",
        "\n"
      ],
      "metadata": {
        "id": "OGUiDjNu21NB"
      }
    },
    {
      "cell_type": "markdown",
      "source": [
        "# Next unit: Describe the consumption-based model\n",
        "\n"
      ],
      "metadata": {
        "id": "6xWYdEq72142"
      }
    }
  ]
}