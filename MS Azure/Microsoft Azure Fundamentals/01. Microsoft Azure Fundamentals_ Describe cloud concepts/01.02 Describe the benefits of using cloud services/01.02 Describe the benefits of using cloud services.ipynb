{
  "nbformat": 4,
  "nbformat_minor": 0,
  "metadata": {
    "colab": {
      "provenance": [],
      "toc_visible": true
    },
    "kernelspec": {
      "name": "python3",
      "display_name": "Python 3"
    },
    "language_info": {
      "name": "python"
    }
  },
  "cells": [
    {
      "cell_type": "markdown",
      "source": [
        "# Unit 1 of 7\n",
        "\n"
      ],
      "metadata": {
        "id": "lXuvMJSvJQwJ"
      }
    },
    {
      "cell_type": "markdown",
      "source": [
        "## Introduction\n",
        "In this module, you’ll be introduced to some of the benefits that cloud computing offers. You’ll learn how cloud computing can help you meet variable demand while providing a good experience for your customer. You’ll also learn about security, governance, and overall manageability in the cloud.\n",
        "\n"
      ],
      "metadata": {
        "id": "FaMF8exPJQso"
      }
    },
    {
      "cell_type": "markdown",
      "source": [
        "## Learning objectives\n",
        "After completing this module, you’ll be able to:\n",
        "\n",
        "- Describe the benefits of high availability and scalability in the cloud.\n",
        "- Describe the benefits of reliability and predictability in the cloud.\n",
        "- Describe the benefits of security and governance in the cloud.\n",
        "- Describe the benefits of manageability in the cloud.\n",
        "\n"
      ],
      "metadata": {
        "id": "sivGBOVqJQp3"
      }
    },
    {
      "cell_type": "markdown",
      "source": [
        "## Next unit: Describe the benefits of high availability and scalability in the cloud\n",
        "\n"
      ],
      "metadata": {
        "id": "g-fWVeZBJQnM"
      }
    },
    {
      "cell_type": "markdown",
      "source": [
        "# Unit 2 of 7\n",
        "\n"
      ],
      "metadata": {
        "id": "9PDaumKB1z8u"
      }
    },
    {
      "cell_type": "markdown",
      "source": [
        "## Describe the benefits of high availability and scalability in the cloud\n",
        "When building or deploying a cloud application, two of the biggest considerations are uptime (or availability) and the ability to handle demand (or scale).\n",
        "\n"
      ],
      "metadata": {
        "id": "87DSyrRk106P"
      }
    },
    {
      "cell_type": "markdown",
      "source": [
        "## High availability\n",
        "When you’re deploying an application, a service, or any IT resources, it’s important the resources are available when needed. High availability focuses on ensuring maximum availability, regardless of disruptions or events that may occur.\n",
        "\n",
        "When you’re architecting your solution, you’ll need to account for service availability guarantees. Azure is a highly available cloud environment with uptime guarantees depending on the service. These guarantees are part of the service-level agreements (SLAs).\n",
        "\n",
        "This short video describes Azure SLAs in more detail.\n",
        "\n"
      ],
      "metadata": {
        "id": "9rJ2Skne102t"
      }
    },
    {
      "cell_type": "code",
      "source": [
        "from IPython.display import HTML\n",
        "\n",
        "# Embedding the video link using HTML iframe\n",
        "video_url = 'https://www.microsoft.com/en-us/videoplayer/embed/RWEA4z?postJsllMsg=true'\n",
        "embed_code = f'<iframe width=\"560\" height=\"315\" src=\"{video_url}\" frameborder=\"0\" allowfullscreen></iframe>'\n",
        "HTML(embed_code)"
      ],
      "metadata": {
        "colab": {
          "base_uri": "https://localhost:8080/",
          "height": 371
        },
        "id": "PqA1wI7J2ELy",
        "outputId": "e7ec3af9-3f1a-42fd-ebd8-62cc0bf6605e"
      },
      "execution_count": 1,
      "outputs": [
        {
          "output_type": "stream",
          "name": "stderr",
          "text": [
            "C:\\Users\\surya\\AppData\\Local\\Programs\\Python\\Python312\\Lib\\site-packages\\IPython\\core\\display.py:431: UserWarning: Consider using IPython.display.IFrame instead\n",
            "  warnings.warn(\"Consider using IPython.display.IFrame instead\")\n"
          ]
        },
        {
          "output_type": "execute_result",
          "data": {
            "text/plain": [
              "<IPython.core.display.HTML object>"
            ],
            "text/html": [
              "<iframe width=\"560\" height=\"315\" src=\"https://www.microsoft.com/en-us/videoplayer/embed/RWEA4z?postJsllMsg=true\" frameborder=\"0\" allowfullscreen></iframe>"
            ]
          },
          "metadata": {},
          "execution_count": 1
        }
      ]
    },
    {
      "cell_type": "markdown",
      "source": [
        "## Scalability\n",
        "Another major benefit of cloud computing is the scalability of cloud resources. Scalability refers to the ability to adjust resources to meet demand. If you suddenly experience peak traffic and your systems are overwhelmed, the ability to scale means you can add more resources to better handle the increased demand.\n",
        "\n",
        "The other benefit of scalability is that you aren't overpaying for services. Because the cloud is a consumption-based model, you only pay for what you use. If demand drops off, you can reduce your resources and thereby reduce your costs.\n",
        "\n",
        "Scaling generally comes in two varieties: vertical and horizontal. Vertical scaling is focused on increasing or decreasing the capabilities of resources. Horizontal scaling is adding or subtracting the number of resources.\n",
        "\n"
      ],
      "metadata": {
        "id": "CUUWa8i1100P"
      }
    },
    {
      "cell_type": "markdown",
      "source": [
        "## Vertical scaling\n",
        "With vertical scaling, if you were developing an app and you needed more processing power, you could vertically scale up to add more CPUs or RAM to the virtual machine. Conversely, if you realized you had over-specified the needs, you could vertically scale down by lowering the CPU or RAM specifications.\n",
        "\n"
      ],
      "metadata": {
        "id": "86Tok1_z10xy"
      }
    },
    {
      "cell_type": "markdown",
      "source": [
        "## Horizontal scaling\n",
        "With horizontal scaling, if you suddenly experienced a steep jump in demand, your deployed resources could be scaled out (either automatically or manually). For example, you could add additional virtual machines or containers, scaling out. In the same manner, if there was a significant drop in demand, deployed resources could be scaled in (either automatically or manually), scaling in.\n",
        "\n"
      ],
      "metadata": {
        "id": "9m7FxVqB10vm"
      }
    },
    {
      "cell_type": "markdown",
      "source": [
        "## Next unit: Describe the benefits of reliability and predictability in the cloud\n",
        "\n"
      ],
      "metadata": {
        "id": "9_1zW_Hw10tP"
      }
    },
    {
      "cell_type": "markdown",
      "source": [
        "# Unit 3 of 7\n"
      ],
      "metadata": {
        "id": "ivYr9I7Z10q3"
      }
    },
    {
      "cell_type": "markdown",
      "source": [],
      "metadata": {
        "id": "n5SzxkKG10og"
      }
    },
    {
      "cell_type": "markdown",
      "source": [],
      "metadata": {
        "id": "v-H88VFL10mJ"
      }
    },
    {
      "cell_type": "markdown",
      "source": [],
      "metadata": {
        "id": "qufuOG4a10j1"
      }
    },
    {
      "cell_type": "markdown",
      "source": [],
      "metadata": {
        "id": "4QVMFnFa10hh"
      }
    },
    {
      "cell_type": "markdown",
      "source": [],
      "metadata": {
        "id": "vqqyEiTS10fO"
      }
    },
    {
      "cell_type": "markdown",
      "source": [],
      "metadata": {
        "id": "AojCoy-610cv"
      }
    },
    {
      "cell_type": "markdown",
      "source": [],
      "metadata": {
        "id": "A52v2-qL10aW"
      }
    },
    {
      "cell_type": "markdown",
      "source": [],
      "metadata": {
        "id": "IZMZV_9310X4"
      }
    },
    {
      "cell_type": "markdown",
      "source": [],
      "metadata": {
        "id": "PHSlt4S-10Bf"
      }
    }
  ]
}