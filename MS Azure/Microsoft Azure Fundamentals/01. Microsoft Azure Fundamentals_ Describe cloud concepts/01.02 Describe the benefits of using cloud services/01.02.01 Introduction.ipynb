{
  "nbformat": 4,
  "nbformat_minor": 0,
  "metadata": {
    "colab": {
      "provenance": [],
      "toc_visible": true
    },
    "kernelspec": {
      "name": "python3",
      "display_name": "Python 3"
    },
    "language_info": {
      "name": "python"
    }
  },
  "cells": [
    {
      "cell_type": "markdown",
      "source": [
        "# Unit 1 of 7\n",
        "\n"
      ],
      "metadata": {
        "id": "lXuvMJSvJQwJ"
      }
    },
    {
      "cell_type": "markdown",
      "source": [
        "## Introduction\n",
        "In this module, you’ll be introduced to some of the benefits that cloud computing offers. You’ll learn how cloud computing can help you meet variable demand while providing a good experience for your customer. You’ll also learn about security, governance, and overall manageability in the cloud.\n",
        "\n"
      ],
      "metadata": {
        "id": "FaMF8exPJQso"
      }
    },
    {
      "cell_type": "markdown",
      "source": [
        "## Learning objectives\n",
        "After completing this module, you’ll be able to:\n",
        "\n",
        "- Describe the benefits of high availability and scalability in the cloud.\n",
        "- Describe the benefits of reliability and predictability in the cloud.\n",
        "- Describe the benefits of security and governance in the cloud.\n",
        "- Describe the benefits of manageability in the cloud.\n",
        "\n"
      ],
      "metadata": {
        "id": "sivGBOVqJQp3"
      }
    },
    {
      "cell_type": "markdown",
      "source": [
        "# Next unit: Describe the benefits of high availability and scalability in the cloud\n",
        "\n"
      ],
      "metadata": {
        "id": "g-fWVeZBJQnM"
      }
    }
  ]
}