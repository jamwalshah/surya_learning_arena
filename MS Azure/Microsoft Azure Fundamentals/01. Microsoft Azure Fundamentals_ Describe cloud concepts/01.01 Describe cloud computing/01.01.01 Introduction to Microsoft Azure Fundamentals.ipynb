{
  "nbformat": 4,
  "nbformat_minor": 0,
  "metadata": {
    "colab": {
      "provenance": [],
      "toc_visible": true
    },
    "kernelspec": {
      "name": "python3",
      "display_name": "Python 3"
    },
    "language_info": {
      "name": "python"
    }
  },
  "cells": [
    {
      "cell_type": "markdown",
      "source": [
        "# Unit 1 of 8"
      ],
      "metadata": {
        "id": "pJHDlY7mHlBX"
      }
    },
    {
      "cell_type": "markdown",
      "source": [
        "## Introduction to Microsoft Azure Fundamentals\n",
        "Microsoft Azure is a cloud computing platform with an ever-expanding set of services to help you build solutions to meet your business goals. Azure services support everything from simple to complex. Azure has simple web services for hosting your business presence in the cloud. Azure also supports running fully virtualized computers managing your custom software solutions. Azure provides a wealth of cloud-based services like remote storage, database hosting, and centralized account management. Azure also offers new capabilities like artificial intelligence (AI) and Internet of Things (IoT) focused services.\n",
        "\n",
        "In this series, you’ll cover cloud computing basics, be introduced to some of the core services provided by Microsoft Azure, and will learn more about the governance and compliance services that you can use."
      ],
      "metadata": {
        "id": "5egm8hHTFJW0"
      }
    },
    {
      "cell_type": "markdown",
      "source": [
        "## What is Azure Fundamentals?\n",
        "Azure Fundamentals is a series of three learning paths that familiarize you with Azure and its many services and features.\n",
        "\n",
        "Whether you're interested in compute, networking, or storage services; learning about cloud security best practices; or exploring governance and management options, think of Azure Fundamentals as your curated guide to Azure.\n",
        "\n",
        "Azure Fundamentals includes interactive exercises that give you hands-on experience with Azure. Many exercises provide a temporary Azure portal environment called the sandbox, which allows you to practice creating cloud resources for free at your own pace.\n",
        "\n",
        "Technical IT experience isn't required; however, having general IT knowledge will help you get the most from your learning experience."
      ],
      "metadata": {
        "id": "Db8z_y6TGYL0"
      }
    },
    {
      "cell_type": "markdown",
      "source": [
        "## Why should I take Azure Fundamentals?\n",
        "If you're just beginning to work with the cloud, or if you already have cloud experience, Azure Fundamentals provides you with everything you need to get started.\n",
        "\n",
        "No matter your goals, Azure Fundamentals has something for you. You should take this course if you:\n",
        "\n",
        "- Have general interest in Azure or in the cloud\n",
        "- Want to earn official certification from Microsoft (AZ-900)\n",
        "\n",
        "The Azure Fundamentals learning path series can help you prepare for Exam AZ-900: Microsoft Azure Fundamentals. This exam includes three knowledge domain areas:\n",
        "\n",
        "|AZ-900 Domain Area |Weight |\n",
        "|   :---            |---:   |\n",
        "|Describe cloud concepts\t|25-30%|\n",
        "|Describe Azure architecture and services\t|35-40%|\n",
        "|Describe Azure management and governance\t|30-35%|\n",
        "\n",
        "Each domain area maps to a learning path in Azure Fundamentals. The percentages shown indicate the relative weight of each area on the exam. The higher the percentage, the more questions that part of the exam will contain. Be sure to read the exam page for specifics about what skills are covered in each area.\n",
        "\n",
        "This training helps you develop a broad understanding of Azure."
      ],
      "metadata": {
        "id": "ZfdA66asGhSB"
      }
    },
    {
      "cell_type": "markdown",
      "source": [
        "# Next unit: Introduction to cloud computing"
      ],
      "metadata": {
        "id": "rxyJTm4-HqMQ"
      }
    }
  ]
}