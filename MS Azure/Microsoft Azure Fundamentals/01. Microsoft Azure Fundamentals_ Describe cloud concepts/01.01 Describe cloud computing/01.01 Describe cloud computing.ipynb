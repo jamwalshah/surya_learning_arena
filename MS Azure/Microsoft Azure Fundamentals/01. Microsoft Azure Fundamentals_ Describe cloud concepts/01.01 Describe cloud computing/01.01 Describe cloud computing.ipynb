{
  "nbformat": 4,
  "nbformat_minor": 0,
  "metadata": {
    "colab": {
      "provenance": [],
      "toc_visible": true
    },
    "kernelspec": {
      "name": "python3",
      "display_name": "Python 3"
    },
    "language_info": {
      "name": "python"
    }
  },
  "cells": [
    {
      "cell_type": "markdown",
      "source": [
        "# Unit 1 of 8"
      ],
      "metadata": {
        "id": "pJHDlY7mHlBX"
      }
    },
    {
      "cell_type": "markdown",
      "source": [
        "## Introduction to Microsoft Azure Fundamentals\n",
        "Microsoft Azure is a cloud computing platform with an ever-expanding set of services to help you build solutions to meet your business goals. Azure services support everything from simple to complex. Azure has simple web services for hosting your business presence in the cloud. Azure also supports running fully virtualized computers managing your custom software solutions. Azure provides a wealth of cloud-based services like remote storage, database hosting, and centralized account management. Azure also offers new capabilities like artificial intelligence (AI) and Internet of Things (IoT) focused services.\n",
        "\n",
        "In this series, you’ll cover cloud computing basics, be introduced to some of the core services provided by Microsoft Azure, and will learn more about the governance and compliance services that you can use."
      ],
      "metadata": {
        "id": "5egm8hHTFJW0"
      }
    },
    {
      "cell_type": "markdown",
      "source": [
        "## What is Azure Fundamentals?\n",
        "Azure Fundamentals is a series of three learning paths that familiarize you with Azure and its many services and features.\n",
        "\n",
        "Whether you're interested in compute, networking, or storage services; learning about cloud security best practices; or exploring governance and management options, think of Azure Fundamentals as your curated guide to Azure.\n",
        "\n",
        "Azure Fundamentals includes interactive exercises that give you hands-on experience with Azure. Many exercises provide a temporary Azure portal environment called the sandbox, which allows you to practice creating cloud resources for free at your own pace.\n",
        "\n",
        "Technical IT experience isn't required; however, having general IT knowledge will help you get the most from your learning experience."
      ],
      "metadata": {
        "id": "Db8z_y6TGYL0"
      }
    },
    {
      "cell_type": "markdown",
      "source": [
        "## Why should I take Azure Fundamentals?\n",
        "If you're just beginning to work with the cloud, or if you already have cloud experience, Azure Fundamentals provides you with everything you need to get started.\n",
        "\n",
        "No matter your goals, Azure Fundamentals has something for you. You should take this course if you:\n",
        "\n",
        "- Have general interest in Azure or in the cloud\n",
        "- Want to earn official certification from Microsoft (AZ-900)\n",
        "\n",
        "The Azure Fundamentals learning path series can help you prepare for Exam AZ-900: Microsoft Azure Fundamentals. This exam includes three knowledge domain areas:\n",
        "\n",
        "|AZ-900 Domain Area |Weight |\n",
        "|   :---            |---:   |\n",
        "|Describe cloud concepts\t|25-30%|\n",
        "|Describe Azure architecture and services\t|35-40%|\n",
        "|Describe Azure management and governance\t|30-35%|\n",
        "\n",
        "Each domain area maps to a learning path in Azure Fundamentals. The percentages shown indicate the relative weight of each area on the exam. The higher the percentage, the more questions that part of the exam will contain. Be sure to read the exam page for specifics about what skills are covered in each area.\n",
        "\n",
        "This training helps you develop a broad understanding of Azure."
      ],
      "metadata": {
        "id": "ZfdA66asGhSB"
      }
    },
    {
      "cell_type": "markdown",
      "source": [
        "## Next unit: Introduction to cloud computing"
      ],
      "metadata": {
        "id": "rxyJTm4-HqMQ"
      }
    },
    {
      "cell_type": "markdown",
      "source": [
        "# Unit 2 of 8\n",
        "\n"
      ],
      "metadata": {
        "id": "YCWruz6VzKAW"
      }
    },
    {
      "cell_type": "markdown",
      "source": [
        "## Introduction to cloud computing\n",
        "In this module, you’ll be introduced to general cloud concepts. You’ll start with an introduction to the cloud in general. Then you'll dive into concepts like shared responsibility, different cloud models, and explore the unique pricing method for the cloud.\n",
        "\n",
        "\n",
        "If you’re already familiar with cloud computing, this module may be largely review for you.\n",
        "\n"
      ],
      "metadata": {
        "id": "OLW4FqaDzJ9B"
      }
    },
    {
      "cell_type": "markdown",
      "source": [
        "## Learning objectives\n",
        "After completing this module, you’ll be able to:\n",
        "\n",
        "- Define cloud computing.\n",
        "- Describe the shared responsibility model.\n",
        "- Define cloud models, including public, private, and hybrid.\n",
        "- Identify appropriate use cases for each cloud model.\n",
        "- Describe the consumption-based model.\n",
        "- Compare cloud pricing models.\n",
        "\n"
      ],
      "metadata": {
        "id": "l2S5IokIzJ6i"
      }
    },
    {
      "cell_type": "markdown",
      "source": [
        "## Next unit: What is cloud computing\n"
      ],
      "metadata": {
        "id": "wcOEMxAAzJ4K"
      }
    },
    {
      "cell_type": "markdown",
      "source": [
        "# Unit 3 of 8\n"
      ],
      "metadata": {
        "id": "7yzCpZr3zJ1p"
      }
    },
    {
      "cell_type": "markdown",
      "source": [
        "## What is cloud computing\n",
        "Cloud computing is the delivery of computing services over the internet. Computing services include common IT infrastructure such as virtual machines, storage, databases, and networking. Cloud services also expand the traditional IT offerings to include things like Internet of Things (IoT), machine learning (ML), and artificial intelligence (AI).\n",
        "\n",
        "Because cloud computing uses the internet to deliver these services, it doesn’t have to be constrained by physical infrastructure the same way that a traditional datacenter is. That means if you need to increase your IT infrastructure rapidly, you don’t have to wait to build a new datacenter—you can use the cloud to rapidly expand your IT footprint.\n",
        "\n",
        "This short video provides a quick introduction to cloud computing.\n"
      ],
      "metadata": {
        "id": "yczU63AOzJzJ"
      }
    },
    {
      "cell_type": "code",
      "source": [
        "from IPython.display import HTML\n",
        "\n",
        "# Embedding the video link using HTML iframe\n",
        "video_url = 'https://www.microsoft.com/en-us/videoplayer/embed/RE4LyBB'\n",
        "embed_code = f'<iframe width=\"560\" height=\"315\" src=\"{video_url}\" frameborder=\"0\" allowfullscreen></iframe>'\n",
        "HTML(embed_code)"
      ],
      "metadata": {
        "colab": {
          "base_uri": "https://localhost:8080/",
          "height": 336
        },
        "id": "jmeSlC1UzaMR",
        "outputId": "39593fb0-e800-403a-a5c7-a358dc7e2417"
      },
      "execution_count": null,
      "outputs": [
        {
          "output_type": "execute_result",
          "data": {
            "text/plain": [
              "<IPython.core.display.HTML object>"
            ],
            "text/html": [
              "<iframe width=\"560\" height=\"315\" src=\"https://www.microsoft.com/en-us/videoplayer/embed/RE4LyBB\" frameborder=\"0\" allowfullscreen></iframe>"
            ]
          },
          "metadata": {},
          "execution_count": 2
        }
      ]
    },
    {
      "cell_type": "markdown",
      "source": [
        "## Next unit: Describe the shared responsibility model\n"
      ],
      "metadata": {
        "id": "b0a1RUn7zJwn"
      }
    },
    {
      "cell_type": "markdown",
      "source": [
        "# Unit 4 of 8\n"
      ],
      "metadata": {
        "id": "h9RLLBapzJuE"
      }
    },
    {
      "cell_type": "markdown",
      "source": [
        "## Describe the shared responsibility model\n",
        "You may have heard of the shared responsibility model, but you may not understand what it means or how it impacts cloud computing.\n",
        "\n",
        "Start with a traditional corporate datacenter. The company is responsible for maintaining the physical space, ensuring security, and maintaining or replacing the servers if anything happens. The IT department is responsible for maintaining all the infrastructure and software needed to keep the datacenter up and running. They’re also likely to be responsible for keeping all systems patched and on the correct version.\n",
        "\n",
        "With the shared responsibility model, these responsibilities get shared between the cloud provider and the consumer. Physical security, power, cooling, and network connectivity are the responsibility of the cloud provider. The consumer isn’t collocated with the datacenter, so it wouldn’t make sense for the consumer to have any of those responsibilities.\n",
        "\n",
        "At the same time, the consumer is responsible for the data and information stored in the cloud. (You wouldn’t want the cloud provider to be able to read your information.) The consumer is also responsible for access security, meaning you only give access to those who need it.\n",
        "\n",
        "Then, for some things, the responsibility depends on the situation. If you’re using a cloud SQL database, the cloud provider would be responsible for maintaining the actual database. However, you’re still responsible for the data that gets ingested into the database. If you deployed a virtual machine and installed an SQL database on it, you’d be responsible for database patches and updates, as well as maintaining the data and information stored in the database.\n",
        "\n",
        "With an on-premises datacenter, you’re responsible for everything. With cloud computing, those responsibilities shift. The shared responsibility model is heavily tied into the cloud service types (covered later in this learning path): `infrastructure as a service (IaaS)`, `platform as a service (PaaS)`, and `software as a service (SaaS)`. `IaaS` places the most responsibility on the consumer, with the cloud provider being responsible for the basics of physical security, power, and connectivity. On the other end of the spectrum, `SaaS` places most of the responsibility with the cloud provider. `PaaS`, being a middle ground between `IaaS` and `SaaS`, rests somewhere in the middle and evenly distributes responsibility between the cloud provider and the consumer.\n",
        "\n",
        "The following diagram highlights how the Shared Responsibility Model informs who is responsible for what, depending on the cloud service type.\n",
        "\n",
        "<img src=\"https://learn.microsoft.com/en-us/training/wwl-azure/describe-cloud-compute/media/shared-responsibility-b3829bfe.svg\"\n",
        "     alt=\"shared-responsibility\"\n",
        "     style=\"float: left; margin-right: 10px;\" />\n",
        "\n",
        "\n",
        "When using a cloud provider, you’ll always be responsible for:\n",
        "- The information and data stored in the cloud\n",
        "- Devices that are allowed to connect to your cloud (cell phones, computers, and so on)\n",
        "- The accounts and identities of the people, services, and devices within your organization\n",
        "\n",
        "The cloud provider is always responsible for:\n",
        "- The physical datacenter\n",
        "- The physical network\n",
        "- The physical hosts\n",
        "\n",
        "Your service model will determine responsibility for things like:\n",
        "- Operating systems\n",
        "- Network controls\n",
        "- Applications\n",
        "- Identity and infrastructure\n",
        "\n"
      ],
      "metadata": {
        "id": "5B-NtQ5qzJrn"
      }
    },
    {
      "cell_type": "markdown",
      "source": [
        "## Next unit: Define cloud models\n"
      ],
      "metadata": {
        "id": "6nEASAidzJpT"
      }
    },
    {
      "cell_type": "markdown",
      "source": [
        "# Unit 5 of 8\n"
      ],
      "metadata": {
        "id": "KLeY-IMQzJm3"
      }
    },
    {
      "cell_type": "markdown",
      "source": [
        "## Define cloud models\n",
        "What are cloud models? The cloud models define the deployment type of cloud resources. The three main cloud models are: private, public, and hybrid.\n",
        "\n"
      ],
      "metadata": {
        "id": "BLutvcsazJkX"
      }
    },
    {
      "cell_type": "markdown",
      "source": [
        "## Private cloud\n",
        "Let’s start with a private cloud. A private cloud is, in some ways, the natural evolution from a corporate datacenter. It’s a cloud (delivering IT services over the internet) that’s used by a single entity. Private cloud provides much greater control for the company and its IT department. However, it also comes with greater cost and fewer of the benefits of a public cloud deployment. Finally, a private cloud may be hosted from your on site datacenter. It may also be hosted in a dedicated datacenter offsite, potentially even by a third party that has dedicated that datacenter to your company.\n",
        "\n"
      ],
      "metadata": {
        "id": "DSnS-dbPzJh_"
      }
    },
    {
      "cell_type": "markdown",
      "source": [
        "## Public cloud\n",
        "A public cloud is built, controlled, and maintained by a third-party cloud provider. With a public cloud, anyone that wants to purchase cloud services can access and use resources. The general public availability is a key difference between public and private clouds.\n",
        "\n"
      ],
      "metadata": {
        "id": "whyF_GUQzJfo"
      }
    },
    {
      "cell_type": "markdown",
      "source": [
        "## Hybrid cloud\n",
        "A hybrid cloud is a computing environment that uses both public and private clouds in an inter-connected environment. A hybrid cloud environment can be used to allow a private cloud to surge for increased, temporary demand by deploying public cloud resources. Hybrid cloud can be used to provide an extra layer of security. For example, users can flexibly choose which services to keep in public cloud and which to deploy to their private cloud infrastructure.\n",
        "\n",
        "The following table highlights a few key comparative aspects between the cloud models.\n",
        "\n",
        "|Public cloud|\tPrivate cloud|\tHybrid cloud|\n",
        "|:--        |:--            |:--            |\n",
        "|No capital expenditures to scale up\t|Organizations have complete control over resources and security\t|Provides the most flexibility\n",
        "|\n",
        "|Applications can be quickly provisioned and deprovisioned\t|Data is not collocated with other organizations’ data\t|Organizations determine where to run their applications\n",
        "|\n",
        "|Organizations pay only for what they use\t|Hardware must be purchased for startup and maintenance\t|Organizations control security, compliance, or legal requirements\n",
        "|\n",
        "|Organizations don’t have complete control over resources and security\t|Organizations are responsible for hardware maintenance and updates\t| <br/>  |\n",
        "\n",
        "\n",
        "\n"
      ],
      "metadata": {
        "id": "K64VNntuzJdJ"
      }
    },
    {
      "cell_type": "markdown",
      "source": [
        "## Multi-cloud\n",
        "A fourth, and increasingly likely scenario is a multi-cloud scenario. In a multi-cloud scenario, you use multiple public cloud providers. Maybe you use different features from different cloud providers. Or maybe you started your cloud journey with one provider and are in the process of migrating to a different provider. Regardless, in a multi-cloud environment you deal with two (or more) public cloud providers and manage resources and security in both environments.\n",
        "\n"
      ],
      "metadata": {
        "id": "FmucXtFGzJa2"
      }
    },
    {
      "cell_type": "markdown",
      "source": [
        "## Azure Arc\n",
        "Azure Arc is a set of technologies that helps manage your cloud environment. Azure Arc can help manage your cloud environment, whether it's a public cloud solely on Azure, a private cloud in your datacenter, a hybrid configuration, or even a multi-cloud environment running on multiple cloud providers at once.\n",
        "\n"
      ],
      "metadata": {
        "id": "qORPq7dDzJYo"
      }
    },
    {
      "cell_type": "markdown",
      "source": [
        "## Azure VMware Solution\n",
        "What if you’re already established with VMware in a private cloud environment but want to migrate to a public or hybrid cloud? Azure VMware Solution lets you run your VMware workloads in Azure with seamless integration and scalability.\n",
        "\n"
      ],
      "metadata": {
        "id": "BSxtJdcCzJV_"
      }
    },
    {
      "cell_type": "markdown",
      "source": [
        "## Next unit: Describe the consumption-based model\n",
        "\n"
      ],
      "metadata": {
        "id": "nofkCD5DzJT3"
      }
    },
    {
      "cell_type": "markdown",
      "source": [
        "# Unit 6 of 8\n",
        "\n",
        "\n"
      ],
      "metadata": {
        "id": "BBhPCOztzJRm"
      }
    },
    {
      "cell_type": "markdown",
      "source": [
        "## Describe the consumption-based model\n",
        "When comparing IT infrastructure models, there are two types of expenses to consider.\n",
        "\n",
        "1. Capital expenditure (`CapEx`); and\n",
        "2. Operational expenditure (`OpEx`).\n",
        "\n",
        "`CapEx` is typically a one-time, up-front expenditure to purchase or secure tangible resources. A new building, repaving the parking lot, building a datacenter, or buying a company vehicle are examples of CapEx.\n",
        "\n",
        "In contrast, `OpEx` is spending money on services or products over time. Renting a convention center, leasing a company vehicle, or signing up for cloud services are all examples of OpEx.\n",
        "\n",
        "Cloud computing falls under OpEx because cloud computing operates on a consumption-based model. With cloud computing, you don’t pay for the physical infrastructure, the electricity, the security, or anything else associated with maintaining a datacenter. Instead, you pay for the IT resources you use. If you don’t use any IT resources this month, you don’t pay for any IT resources.\n",
        "\n",
        "This consumption-based model has many benefits, including:\n",
        "\n",
        "- No upfront costs.\n",
        "- No need to purchase and manage costly infrastructure that users might not use - to its fullest potential.\n",
        "- The ability to pay for more resources when they're needed.\n",
        "- The ability to stop paying for resources that are no longer needed.\n",
        "\n",
        "With a traditional datacenter, you try to estimate the future resource needs. If you overestimate, you spend more on your datacenter than you need to and potentially waste money. If you underestimate, your datacenter will quickly reach capacity and your applications and services may suffer from decreased performance. Fixing an under-provisioned datacenter can take a long time. You may need to order, receive, and install more hardware. You'll also need to add power, cooling, and networking for the extra hardware.\n",
        "\n",
        "In a cloud-based model, you don’t have to worry about getting the resource needs just right. If you find that you need more virtual machines, you add more. If the demand drops and you don’t need as many virtual machines, you remove machines as needed. Either way, you’re only paying for the virtual machines that you use, not the “extra capacity” that the cloud provider has on hand.\n",
        "\n"
      ],
      "metadata": {
        "id": "YERZRbcNzJPH"
      }
    },
    {
      "cell_type": "markdown",
      "source": [
        "## Compare cloud pricing models\n",
        "Cloud computing is the delivery of computing services over the internet by using a pay-as-you-go pricing model. You typically pay only for the cloud services you use, which helps you:\n",
        "\n",
        "- Plan and manage your operating costs.\n",
        "- Run your infrastructure more efficiently.\n",
        "- Scale as your business needs change.\n",
        "\n",
        "To put it another way, cloud computing is a way to rent compute power and storage from someone else’s datacenter. You can treat cloud resources like you would resources in your own datacenter. However, unlike in your own datacenter, when you're done using cloud resources, you give them back. You’re billed only for what you use.\n",
        "\n",
        "Instead of maintaining CPUs and storage in your datacenter, you rent them for the time that you need them. The cloud provider takes care of maintaining the underlying infrastructure for you. The cloud enables you to quickly solve your toughest business challenges and bring cutting-edge solutions to your users.\n",
        "\n",
        "\n"
      ],
      "metadata": {
        "id": "ZQdTnch2zJM9"
      }
    },
    {
      "cell_type": "markdown",
      "source": [
        "## Next unit: Knowledge check\n"
      ],
      "metadata": {
        "id": "T5w9GHFHzJKl"
      }
    },
    {
      "cell_type": "markdown",
      "source": [
        "## Knowledge check\n",
        "Choose the best response for each question. Then select Check your answers.\n"
      ],
      "metadata": {
        "id": "YfJsbGfU0Mux"
      }
    },
    {
      "cell_type": "markdown",
      "source": [
        "## Check your knowledge\n",
        "1. What is cloud computing?\n",
        "- [✅] Delivery of computing services over the internet.\n",
        "        Cloud computing is the delivery of computing services over the internet.\n",
        "- [❌] Delivery of storage services over the internet.\n",
        "- [❌] Delivery of websites accessible via the internet.\n",
        "\n",
        "\n",
        "2. Which cloud model uses some datacenters focused on providing cloud services to anyone that wants them, and some data centers that are focused on a single customer?\n",
        "- [❌] Public cloud\n",
        "- [✅] Hybrid cloud\n",
        "        The hybrid cloud model is a combination of public cloud and private cloud, using both datacenters dedicated solely to one customer and datacenters that are shared with the public.\n",
        "- [❌] Multi-cloud\n",
        "\n",
        "\n",
        "3. According to the shared responsibility model, which cloud service type places the most responsibility on the customer?\n",
        "- [✅] Infrastructure as a Service (IaaS)\n",
        "        IaaS places the most responsibility on the consumer, with the cloud provider being responsible for the basics of physical security, power, and connectivity.\n",
        "- [❌] Software as a Service (SaaS)\n",
        "- [❌] Platform as a Service (PaaS)\n",
        "\n",
        "\n"
      ],
      "metadata": {
        "id": "Z1m37F1l0MsO"
      }
    },
    {
      "cell_type": "markdown",
      "source": [
        "## Next unit: Summary\n"
      ],
      "metadata": {
        "id": "DQC1sg2L0MqD"
      }
    },
    {
      "cell_type": "markdown",
      "source": [
        "# Unit 8 of 8\n"
      ],
      "metadata": {
        "id": "8TYiBb2wzJIP"
      }
    },
    {
      "cell_type": "markdown",
      "source": [
        "## Summary\n",
        "In this module, you learned about general cloud concepts. You started with things like just understanding what cloud computing is. You also learned about the shared responsibility model and how you and your cloud provider share the responsibility of keeping your information in the cloud secure. You briefly covered the differences between the cloud models (public, private, hybrid, and multi-cloud). Then, you wrapped up with a unit on how the cloud shifts IT spend from a capital expense to an operational expense.\n",
        "\n"
      ],
      "metadata": {
        "id": "O2g_6flv004E"
      }
    },
    {
      "cell_type": "markdown",
      "source": [
        "## Learning objectives\n",
        "You should now be able to:\n",
        "\n",
        "- Define cloud computing.\n",
        "- Describe the shared responsibility model.\n",
        "- Define cloud models, including public, private, and hybrid.\n",
        "- Identify appropriate use cases for each cloud model.\n",
        "- Describe the consumption-based model.\n",
        "- Compare cloud pricing models.\n",
        "\n"
      ],
      "metadata": {
        "id": "44MvE82R000p"
      }
    },
    {
      "cell_type": "markdown",
      "source": [
        "## Additional resources\n",
        "The following resources provide more information on topics in this module or related to this module.\n",
        "\n",
        "- [Shared responsibility model](https://learn.microsoft.com/en-us/azure/security/fundamentals/shared-responsibility) - The shared responsibility model is the sharing of responsibilities for the cloud between you and your cloud provider.\n",
        "- [Introduction to Azure VMware Solution](https://learn.microsoft.com/en-us/learn/modules/intro-azure-vmware-solution/) is a Microsoft Learn course that dives deeper into Azure VMware Solution.\n",
        "- [Introduction to Azure hybrid cloud services](https://learn.microsoft.com/en-us/learn/modules/intro-to-azure-hybrid-services/) is a Microsoft Learn course that explains hybrid cloud in greater detail.\n",
        "\n"
      ],
      "metadata": {
        "id": "EHFs_2eU00y7"
      }
    },
    {
      "cell_type": "markdown",
      "source": [
        "## All units complete:\n"
      ],
      "metadata": {
        "id": "ZnxnwNX100X_"
      }
    }
  ]
}