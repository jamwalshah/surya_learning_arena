{
  "nbformat": 4,
  "nbformat_minor": 0,
  "metadata": {
    "colab": {
      "provenance": [],
      "toc_visible": true
    },
    "kernelspec": {
      "name": "python3",
      "display_name": "Python 3"
    },
    "language_info": {
      "name": "python"
    }
  },
  "cells": [
    {
      "cell_type": "markdown",
      "source": [
        "# Unit 2 of 8"
      ],
      "metadata": {
        "id": "veXCZPNOJoBu"
      }
    },
    {
      "cell_type": "markdown",
      "source": [
        "## Introduction to cloud computing\n",
        "In this module, you’ll be introduced to general cloud concepts. You’ll start with an introduction to the cloud in general. Then you'll dive into concepts like shared responsibility, different cloud models, and explore the unique pricing method for the cloud.\n",
        "\n",
        "If you’re already familiar with cloud computing, this module may be largely review for you."
      ],
      "metadata": {
        "id": "eMIYLUEpJrsu"
      }
    },
    {
      "cell_type": "markdown",
      "source": [
        "## Learning objectives\n",
        "After completing this module, you’ll be able to:\n",
        "\n",
        "- Define cloud computing.\n",
        "- Describe the shared responsibility model.\n",
        "- Define cloud models, including public, private, and hybrid.\n",
        "- Identify appropriate use cases for each cloud model.\n",
        "- Describe the consumption-based model.\n",
        "- Compare cloud pricing models."
      ],
      "metadata": {
        "id": "NnL4qZYcJz-4"
      }
    },
    {
      "cell_type": "markdown",
      "source": [
        "# Next unit: What is cloud computing"
      ],
      "metadata": {
        "id": "bbfJzMHzJ-ky"
      }
    }
  ]
}