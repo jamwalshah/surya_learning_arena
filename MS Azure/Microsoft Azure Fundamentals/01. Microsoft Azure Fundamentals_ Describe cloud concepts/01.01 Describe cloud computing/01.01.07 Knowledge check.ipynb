{
  "nbformat": 4,
  "nbformat_minor": 0,
  "metadata": {
    "colab": {
      "provenance": [],
      "toc_visible": true
    },
    "kernelspec": {
      "name": "python3",
      "display_name": "Python 3"
    },
    "language_info": {
      "name": "python"
    }
  },
  "cells": [
    {
      "cell_type": "markdown",
      "source": [
        "# Unit 7 of 8\n"
      ],
      "metadata": {
        "id": "5sou9dRpmFac"
      }
    },
    {
      "cell_type": "markdown",
      "source": [
        "## Knowledge check\n",
        "Choose the best response for each question. Then select Check your answers.\n",
        "\n"
      ],
      "metadata": {
        "id": "f6iSsQfwmJcU"
      }
    },
    {
      "cell_type": "markdown",
      "source": [
        "## Check your knowledge\n",
        "\n",
        "1. What is cloud computing?\n",
        "- [✅] Delivery of computing services over the internet.\n",
        "        Cloud computing is the delivery of computing services over the internet.\n",
        "- [❌] Delivery of storage services over the internet.\n",
        "- [❌] Delivery of websites accessible via the internet.\n",
        "\n",
        "\n",
        "2. Which cloud model uses some datacenters focused on providing cloud services to anyone that wants them, and some data centers that are focused on a single customer?\n",
        "- [❌] Public cloud\n",
        "- [✅] Hybrid cloud\n",
        "        The hybrid cloud model is a combination of public cloud and private cloud, using both datacenters dedicated solely to one customer and datacenters that are shared with the public.\n",
        "- [❌] Multi-cloud\n",
        "\n",
        "\n",
        "3. According to the shared responsibility model, which cloud service type places the most responsibility on the customer?\n",
        "- [✅] Infrastructure as a Service (IaaS)\n",
        "        IaaS places the most responsibility on the consumer, with the cloud provider being responsible for the basics of physical security, power, and connectivity.\n",
        "- [❌] Software as a Service (SaaS)\n",
        "- [❌] Platform as a Service (PaaS)\n",
        "\n"
      ],
      "metadata": {
        "id": "_fqGBSqOmJY2"
      }
    },
    {
      "cell_type": "markdown",
      "source": [
        "# Next unit: Summary\n",
        "\n"
      ],
      "metadata": {
        "id": "gx7gaduLmJPp"
      }
    }
  ]
}