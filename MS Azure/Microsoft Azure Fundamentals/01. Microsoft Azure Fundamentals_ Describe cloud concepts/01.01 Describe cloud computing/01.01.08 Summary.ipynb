{
  "nbformat": 4,
  "nbformat_minor": 0,
  "metadata": {
    "colab": {
      "provenance": [],
      "toc_visible": true
    },
    "kernelspec": {
      "name": "python3",
      "display_name": "Python 3"
    },
    "language_info": {
      "name": "python"
    }
  },
  "cells": [
    {
      "cell_type": "markdown",
      "source": [
        "# Unit 8 of 8\n",
        "\n"
      ],
      "metadata": {
        "id": "ho_Kaz_VpZAO"
      }
    },
    {
      "cell_type": "markdown",
      "source": [
        "## Summary\n",
        "In this module, you learned about general cloud concepts. You started with things like just understanding what cloud computing is. You also learned about the shared responsibility model and how you and your cloud provider share the responsibility of keeping your information in the cloud secure. You briefly covered the differences between the cloud models (public, private, hybrid, and multi-cloud). Then, you wrapped up with a unit on how the cloud shifts IT spend from a capital expense to an operational expense.\n",
        "\n"
      ],
      "metadata": {
        "id": "e2ezZPDDpcQ1"
      }
    },
    {
      "cell_type": "markdown",
      "source": [
        "## Learning objectives\n",
        "You should now be able to:\n",
        "\n",
        "- Define cloud computing.\n",
        "- Describe the shared responsibility model.\n",
        "- Define cloud models, including public, private, and hybrid.\n",
        "- Identify appropriate use cases for each cloud model.\n",
        "- Describe the consumption-based model.\n",
        "- Compare cloud pricing models.\n",
        "\n"
      ],
      "metadata": {
        "id": "UgbdrSxCpcNa"
      }
    },
    {
      "cell_type": "markdown",
      "source": [
        "## Additional resources\n",
        "The following resources provide more information on topics in this module or related to this module.\n",
        "\n",
        "- [Shared responsibility model](https://learn.microsoft.com/en-us/azure/security/fundamentals/shared-responsibility) - The shared responsibility model is the sharing of responsibilities for the cloud between you and your cloud provider.\n",
        "- [Introduction to Azure VMware Solution](https://learn.microsoft.com/en-us/learn/modules/intro-azure-vmware-solution/) is a Microsoft Learn course that dives deeper into Azure VMware Solution.\n",
        "- [Introduction to Azure hybrid cloud services](https://learn.microsoft.com/en-us/learn/modules/intro-to-azure-hybrid-services/) is a Microsoft Learn course that explains hybrid cloud in greater detail.\n",
        "\n"
      ],
      "metadata": {
        "id": "1taGjBempcKz"
      }
    },
    {
      "cell_type": "markdown",
      "source": [
        "# All units complete:\n",
        "\n"
      ],
      "metadata": {
        "id": "3-9L0euqpboN"
      }
    }
  ]
}