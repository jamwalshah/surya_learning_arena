{
  "nbformat": 4,
  "nbformat_minor": 0,
  "metadata": {
    "colab": {
      "provenance": [],
      "toc_visible": true
    },
    "kernelspec": {
      "name": "python3",
      "display_name": "Python 3"
    },
    "language_info": {
      "name": "python"
    }
  },
  "cells": [
    {
      "cell_type": "markdown",
      "source": [
        "# Unit 4 of 8"
      ],
      "metadata": {
        "id": "oal54gpfFIXx"
      }
    },
    {
      "cell_type": "markdown",
      "source": [
        "## Describe the shared responsibility model\n",
        "You may have heard of the shared responsibility model, but you may not understand what it means or how it impacts cloud computing.\n",
        "\n",
        "Start with a traditional corporate datacenter. The company is responsible for maintaining the physical space, ensuring security, and maintaining or replacing the servers if anything happens. The IT department is responsible for maintaining all the infrastructure and software needed to keep the datacenter up and running. They’re also likely to be responsible for keeping all systems patched and on the correct version.\n",
        "\n",
        "With the shared responsibility model, these responsibilities get shared between the cloud provider and the consumer. Physical security, power, cooling, and network connectivity are the responsibility of the cloud provider. The consumer isn’t collocated with the datacenter, so it wouldn’t make sense for the consumer to have any of those responsibilities.\n",
        "\n",
        "At the same time, the consumer is responsible for the data and information stored in the cloud. (You wouldn’t want the cloud provider to be able to read your information.) The consumer is also responsible for access security, meaning you only give access to those who need it.\n",
        "\n",
        "Then, for some things, the responsibility depends on the situation. If you’re using a cloud SQL database, the cloud provider would be responsible for maintaining the actual database. However, you’re still responsible for the data that gets ingested into the database. If you deployed a virtual machine and installed an SQL database on it, you’d be responsible for database patches and updates, as well as maintaining the data and information stored in the database.\n",
        "\n",
        "With an on-premises datacenter, you’re responsible for everything. With cloud computing, those responsibilities shift. The shared responsibility model is heavily tied into the cloud service types (covered later in this learning path): `infrastructure as a service (IaaS)`, `platform as a service (PaaS)`, and `software as a service (SaaS)`. `IaaS` places the most responsibility on the consumer, with the cloud provider being responsible for the basics of physical security, power, and connectivity. On the other end of the spectrum, `SaaS` places most of the responsibility with the cloud provider. `PaaS`, being a middle ground between `IaaS` and `SaaS`, rests somewhere in the middle and evenly distributes responsibility between the cloud provider and the consumer.\n",
        "\n",
        "The following diagram highlights how the Shared Responsibility Model informs who is responsible for what, depending on the cloud service type.\n",
        "\n",
        "<img src=\"https://learn.microsoft.com/en-us/training/wwl-azure/describe-cloud-compute/media/shared-responsibility-b3829bfe.svg\"\n",
        "     alt=\"shared-responsibility\"\n",
        "     style=\"float: left; margin-right: 10px;\" />\n",
        "\n",
        "\n",
        "When using a cloud provider, you’ll always be responsible for:\n",
        "- The information and data stored in the cloud\n",
        "- Devices that are allowed to connect to your cloud (cell phones, computers, and so on)\n",
        "- The accounts and identities of the people, services, and devices within your organization\n",
        "\n",
        "The cloud provider is always responsible for:\n",
        "- The physical datacenter\n",
        "- The physical network\n",
        "- The physical hosts\n",
        "\n",
        "Your service model will determine responsibility for things like:\n",
        "- Operating systems\n",
        "- Network controls\n",
        "- Applications\n",
        "- Identity and infrastructure"
      ],
      "metadata": {
        "id": "iYFKrvqHFNQ8"
      }
    },
    {
      "cell_type": "markdown",
      "source": [
        "# Next unit: Define cloud models\n"
      ],
      "metadata": {
        "id": "N_PAi1FcFNNZ"
      }
    }
  ]
}