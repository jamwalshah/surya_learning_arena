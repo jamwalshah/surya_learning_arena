{
  "nbformat": 4,
  "nbformat_minor": 0,
  "metadata": {
    "colab": {
      "provenance": [],
      "toc_visible": true
    },
    "kernelspec": {
      "name": "python3",
      "display_name": "Python 3"
    },
    "language_info": {
      "name": "python"
    }
  },
  "cells": [
    {
      "cell_type": "markdown",
      "source": [
        "# Unit 1 of 11\n",
        "\n"
      ],
      "metadata": {
        "id": "8C5le9iRHiOf"
      }
    },
    {
      "cell_type": "markdown",
      "source": [
        "## Introduction\n",
        "In this module, you’ll be introduced to the Azure identity, access, and security services and tools. You’ll learn about directory services in Azure, authentication methods, and access control. You’ll also cover things like Zero Trust and defense in depth, and how they keep your cloud safer. You’ll wrap up with an introduction to Microsoft Defender for Cloud.\n",
        "\n"
      ],
      "metadata": {
        "id": "v6B3OnY9HiK9"
      }
    },
    {
      "cell_type": "markdown",
      "source": [
        "## Learning objectives\n",
        "After completing this module, you’ll be able to:\n",
        "\n",
        "- Describe directory services in Azure, including Microsoft Entra ID and Microsoft Entra Domain Services.\n",
        "- Describe authentication methods in Azure, including single sign-on (SSO), multifactor authentication (MFA), and passwordless.\n",
        "- Describe external identities and guest access in Azure.\n",
        "- Describe Microsoft Entra Conditional Access.\n",
        "- Describe Azure Role Based Access Control (RBAC).\n",
        "- Describe the concept of Zero Trust.\n",
        "- Describe the purpose of the defense in depth model.\n",
        "- Describe the purpose of Microsoft Defender for Cloud.\n",
        "\n"
      ],
      "metadata": {
        "id": "fTRKtKeMHiIW"
      }
    },
    {
      "cell_type": "markdown",
      "source": [
        "## Next unit: Describe Azure directory services\n",
        "\n"
      ],
      "metadata": {
        "id": "shWKQ_FvHiFp"
      }
    },
    {
      "cell_type": "markdown",
      "source": [
        "# Unit 2 of 11\n",
        "\n"
      ],
      "metadata": {
        "id": "29UbCatHHiAR"
      }
    },
    {
      "cell_type": "markdown",
      "source": [
        "## Describe Azure directory services\n",
        "Microsoft Entra ID is a directory service that enables you to sign in and access both Microsoft cloud applications and cloud applications that you develop. Microsoft Entra ID can also help you maintain your on-premises Active Directory deployment.\n",
        "\n",
        "For on-premises environments, Active Directory running on Windows Server provides an identity and access management service that's managed by your organization. Microsoft Entra ID is Microsoft's cloud-based identity and access management service. With Microsoft Entra ID, you control the identity accounts, but Microsoft ensures that the service is available globally. If you've worked with Active Directory, Microsoft Entra ID will be familiar to you.\n",
        "\n",
        "When you secure identities on-premises with Active Directory, Microsoft doesn't monitor sign-in attempts. When you connect Active Directory with Microsoft Entra ID, Microsoft can help protect you by detecting suspicious sign-in attempts at no extra cost. For example, Microsoft Entra ID can detect sign-in attempts from unexpected locations or unknown devices.\n",
        "\n",
        "\n"
      ],
      "metadata": {
        "id": "R0uPHxlwHh8w"
      }
    },
    {
      "cell_type": "markdown",
      "source": [
        "## Who uses Microsoft Entra ID?\n",
        "Microsoft Entra ID is for:\n",
        "\n",
        "- **IT administrators.** Administrators can use Microsoft Entra ID to control access to applications and resources based on their business requirements.\n",
        "- **App developers.** Developers can use Microsoft Entra ID to provide a standards-based approach for adding functionality to applications that they build, such as adding SSO functionality to an app or enabling an app to work with a user's existing credentials.\n",
        "- **Users.** Users can manage their identities and take maintenance actions like self-service password reset.\n",
        "- **Online service subscribers.** Microsoft 365, Microsoft Office 365, Azure, and Microsoft Dynamics CRM Online subscribers are already using Microsoft Entra ID to authenticate into their account.\n",
        "\n"
      ],
      "metadata": {
        "id": "Y0axIjqbHh00"
      }
    },
    {
      "cell_type": "markdown",
      "source": [
        "## What does Microsoft Entra ID do?\n",
        "Microsoft Entra ID provides services such as:\n",
        "\n",
        "- **Authentication:** This includes verifying identity to access applications and resources. It also includes providing functionality such as self-service password reset, multifactor authentication, a custom list of banned passwords, and smart lockout services.\n",
        "- **Single sign-on:** Single sign-on (SSO) enables you to remember only one username and one password to access multiple applications. A single identity is tied to a user, which simplifies the security model. As users change roles or leave an organization, access modifications are tied to that identity, which greatly reduces the effort needed to change or disable accounts.\n",
        "- **Application management:** You can manage your cloud and on-premises apps by using Microsoft Entra ID. Features like Application Proxy, SaaS apps, the My Apps portal, and single sign-on provide a better user experience.\n",
        "- **Device management:** Along with accounts for individual people, Microsoft Entra ID supports the registration of devices. Registration enables devices to be managed through tools like Microsoft Intune. It also allows for device-based Conditional Access policies to restrict access attempts to only those coming from known devices, regardless of the requesting user account.\n",
        "\n"
      ],
      "metadata": {
        "id": "HCBtJQjNHhxQ"
      }
    },
    {
      "cell_type": "markdown",
      "source": [
        "## Can I connect my on-premises AD with Microsoft Entra ID?\n",
        "If you had an on-premises environment running Active Directory and a cloud deployment using Microsoft Entra ID, you would need to maintain two identity sets. However, you can connect Active Directory with Microsoft Entra ID, enabling a consistent identity experience between cloud and on-premises.\n",
        "\n",
        "One method of connecting Microsoft Entra ID with your on-premises AD is using Microsoft Entra Connect. Microsoft Entra Connect synchronizes user identities between on-premises Active Directory and Microsoft Entra ID. Microsoft Entra Connect synchronizes changes between both identity systems, so you can use features like SSO, multifactor authentication, and self-service password reset under both systems.\n",
        "\n",
        "\n"
      ],
      "metadata": {
        "id": "bFnuPBRxHhuj"
      }
    },
    {
      "cell_type": "markdown",
      "source": [
        "## What is Microsoft Entra Domain Services?\n",
        "Microsoft Entra Domain Services is a service that provides managed domain services such as domain join, group policy, lightweight directory access protocol (LDAP), and Kerberos/NTLM authentication. Just like Microsoft Entra ID lets you use directory services without having to maintain the infrastructure supporting it, with Microsoft Entra Domain Services, you get the benefit of domain services without the need to deploy, manage, and patch domain controllers (DCs) in the cloud.\n",
        "\n",
        "A Microsoft Entra Domain Services managed domain lets you run legacy applications in the cloud that can't use modern authentication methods, or where you don't want directory lookups to always go back to an on-premises AD DS environment. You can lift and shift those legacy applications from your on-premises environment into a managed domain, without needing to manage the AD DS environment in the cloud.\n",
        "\n",
        "Microsoft Entra Domain Services integrates with your existing Microsoft Entra tenant. This integration lets users sign into services and applications connected to the managed domain using their existing credentials. You can also use existing groups and user accounts to secure access to resources. These features provide a smoother lift-and-shift of on-premises resources to Azure.\n",
        "\n",
        "\n"
      ],
      "metadata": {
        "id": "Nf-iIMJbHhsR"
      }
    },
    {
      "cell_type": "markdown",
      "source": [
        "## How does Microsoft Entra Domain Services work?\n",
        "When you create a Microsoft Entra Domain Services managed domain, you define a unique namespace. This namespace is the domain name. Two Windows Server domain controllers are then deployed into your selected Azure region. This deployment of DCs is known as a replica set.\n",
        "\n",
        "You don't need to manage, configure, or update these DCs. The Azure platform handles the DCs as part of the managed domain, including backups and encryption at rest using Azure Disk Encryption.\n",
        "\n"
      ],
      "metadata": {
        "id": "SCDtAjgQHhp6"
      }
    },
    {
      "cell_type": "markdown",
      "source": [
        "## Is information synchronized?\n",
        "A managed domain is configured to perform a one-way synchronization from Microsoft Entra ID to Microsoft Entra Domain Services. You can create resources directly in the managed domain, but they aren't synchronized back to Microsoft Entra ID. In a hybrid environment with an on-premises AD DS environment, Microsoft Entra Connect synchronizes identity information with Microsoft Entra ID, which is then synchronized to the managed domain.\n",
        "\n",
        "<img src=\"https://learn.microsoft.com/en-us/training/wwl-azure/describe-azure-identity-access-security/media/azure-active-directory-sync-topology-7359f2b8.png\"\n",
        "     alt=\"Diagram of Microsoft Entra Connect Sync synchronizing information back to the Microsoft Entra tenant from on-premises AD.\"\n",
        "     style=\"float: left; margin-right: 10px;\" />\n",
        "\n",
        "Applications, services, and VMs in Azure that connect to the managed domain can then use common Microsoft Entra Domain Services features such as domain join, group policy, LDAP, and Kerberos/NTLM authentication.\n",
        "\n"
      ],
      "metadata": {
        "id": "jm3KDo1BHhnn"
      }
    },
    {
      "cell_type": "markdown",
      "source": [
        "## Next unit: Describe Azure authentication methods\n",
        "\n"
      ],
      "metadata": {
        "id": "vJrW4FJfJuzr"
      }
    },
    {
      "cell_type": "markdown",
      "source": [
        "# Unit 3 of 11\n",
        "\n"
      ],
      "metadata": {
        "id": "ugmfQy1aJuwF"
      }
    },
    {
      "cell_type": "markdown",
      "source": [
        "## Describe Azure authentication methods\n",
        "Authentication is the process of establishing the identity of a person, service, or device. It requires the person, service, or device to provide some type of credential to prove who they are. Authentication is like presenting ID when you’re traveling. It doesn’t confirm that you’re ticketed, it just proves that you're who you say you are. Azure supports multiple authentication methods, including standard passwords, single sign-on (SSO), multifactor authentication (MFA), and passwordless.\n",
        "\n",
        "For the longest time, security and convenience seemed to be at odds with each other. Thankfully, new authentication solutions provide both security and convenience.\n",
        "\n",
        "The following diagram shows the security level compared to the convenience. Notice Passwordless authentication is high security and high convenience while passwords on their own are low security but high convenience.\n",
        "\n",
        "<img src=\"https://learn.microsoft.com/en-us/training/wwl-azure/describe-azure-identity-access-security/media/passwordless-convenience-security-30321b4d.png\"\n",
        "     alt=\"Four quadrant diagram showing security vs convenience, with Passwords + 2 Factor authentication being high security but low convenience.\"\n",
        "     style=\"float: left; margin-right: 10px;\" />\n",
        "\n"
      ],
      "metadata": {
        "id": "FdgSC54CJuuH"
      }
    },
    {
      "cell_type": "markdown",
      "source": [
        "## What's single sign-on?\n",
        "Single sign-on (SSO) enables a user to sign in one time and use that credential to access multiple resources and applications from different providers. For SSO to work, the different applications and providers must trust the initial authenticator.\n",
        "\n",
        "More identities mean more passwords to remember and change. Password policies can vary among applications. As complexity requirements increase, it becomes increasingly difficult for users to remember them. The more passwords a user has to manage, the greater the risk of a credential-related security incident.\n",
        "\n",
        "Consider the process of managing all those identities. More strain is placed on help desks as they deal with account lockouts and password reset requests. If a user leaves an organization, tracking down all those identities and ensuring they're disabled can be challenging. If an identity is overlooked, this might allow access when it should have been eliminated.\n",
        "\n",
        "With SSO, you need to remember only one ID and one password. Access across applications is granted to a single identity that's tied to the user, which simplifies the security model. As users change roles or leave an organization, access is tied to a single identity. This change greatly reduces the effort needed to change or disable accounts. Using SSO for accounts makes it easier for users to manage their identities and for IT to manage users.\n",
        "\n",
        "> Important: Single sign-on is only as secure as the initial authenticator because the subsequent connections are all based on the security of the initial authenticator.\n",
        "\n"
      ],
      "metadata": {
        "id": "W7Docsf5Juri"
      }
    },
    {
      "cell_type": "markdown",
      "source": [
        "## What’s multifactor authentication?\n",
        "Multifactor authentication is the process of prompting a user for an extra form (or factor) of identification during the sign-in process. MFA helps protect against a password compromise in situations where the password was compromised but the second factor wasn't.\n",
        "\n",
        "Think about how you sign into websites, email, or online services. After entering your username and password, have you ever needed to enter a code that was sent to your phone? If so, you've used multifactor authentication to sign in.\n",
        "\n",
        "Multifactor authentication provides additional security for your identities by requiring two or more elements to fully authenticate. These elements fall into three categories:\n",
        "\n",
        "- Something the user knows – this might be a challenge question.\n",
        "- Something the user has – this might be a code that's sent to the user's mobile phone.\n",
        "- Something the user is – this is typically some sort of biometric property, such as a fingerprint or face scan.\n",
        "\n",
        "Multifactor authentication increases identity security by limiting the impact of credential exposure (for example, stolen usernames and passwords). With multifactor authentication enabled, an attacker who has a user's password would also need to have possession of their phone or their fingerprint to fully authenticate.\n",
        "\n",
        "Compare multifactor authentication with single-factor authentication. Under single-factor authentication, an attacker would need only a username and password to authenticate. Multifactor authentication should be enabled wherever possible because it adds enormous benefits to security.\n",
        "\n",
        "\n"
      ],
      "metadata": {
        "id": "7JpnHHapJupR"
      }
    },
    {
      "cell_type": "markdown",
      "source": [
        "## What's Microsoft Entra multifactor authentication?\n",
        "Microsoft Entra multifactor authentication is a Microsoft service that provides multifactor authentication capabilities. Microsoft Entra multifactor authentication enables users to choose an additional form of authentication during sign-in, such as a phone call or mobile app notification.\n",
        "\n"
      ],
      "metadata": {
        "id": "2v4dvQVqKnMY"
      }
    },
    {
      "cell_type": "markdown",
      "source": [
        "## What’s passwordless authentication?\n",
        "Features like MFA are a great way to secure your organization, but users often get frustrated with the additional security layer on top of having to remember their passwords. People are more likely to comply when it's easy and convenient to do so. Passwordless authentication methods are more convenient because the password is removed and replaced with something you have, plus something you are, or something you know.\n",
        "\n",
        "Passwordless authentication needs to be set up on a device before it can work. For example, your computer is something you have. Once it’s been registered or enrolled, Azure now knows that it’s associated with you. Now that the computer is known, once you provide something you know or are (such as a PIN or fingerprint), you can be authenticated without using a password.\n",
        "\n",
        "Each organization has different needs when it comes to authentication. Microsoft global Azure and Azure Government offer the following three passwordless authentication options that integrate with Microsoft Entra ID:\n",
        "\n",
        "- Windows Hello for Business\n",
        "- Microsoft Authenticator app\n",
        "- FIDO2 security keys\n",
        "\n"
      ],
      "metadata": {
        "id": "JQWmpa-LKnI0"
      }
    },
    {
      "cell_type": "markdown",
      "source": [
        "### Windows Hello for Business\n",
        "Windows Hello for Business is ideal for information workers that have their own designated Windows PC. The biometric and PIN credentials are directly tied to the user's PC, which prevents access from anyone other than the owner. With public key infrastructure (PKI) integration and built-in support for single sign-on (SSO), Windows Hello for Business provides a convenient method for seamlessly accessing corporate resources on-premises and in the cloud.\n",
        "\n"
      ],
      "metadata": {
        "id": "ExQibYgDKnGr"
      }
    },
    {
      "cell_type": "markdown",
      "source": [
        "### Microsoft Authenticator App\n",
        "You can also allow your employee's phone to become a passwordless authentication method. You may already be using the Microsoft Authenticator App as a convenient multifactor authentication option in addition to a password. You can also use the Authenticator App as a passwordless option.\n",
        "\n",
        "The Authenticator App turns any iOS or Android phone into a strong, passwordless credential. Users can sign-in to any platform or browser by getting a notification to their phone, matching a number displayed on the screen to the one on their phone, and then using their biometric (touch or face) or PIN to confirm. Refer to Download and install the Microsoft Authenticator app for installation details.\n",
        "\n"
      ],
      "metadata": {
        "id": "1MKsvgZcKmSY"
      }
    },
    {
      "cell_type": "markdown",
      "source": [
        "### FIDO2 security keys\n",
        "The FIDO (Fast IDentity Online) Alliance helps to promote open authentication standards and reduce the use of passwords as a form of authentication. FIDO2 is the latest standard that incorporates the web authentication (WebAuthn) standard.\n",
        "\n",
        "FIDO2 security keys are an unphishable standards-based passwordless authentication method that can come in any form factor. Fast Identity Online (FIDO) is an open standard for passwordless authentication. FIDO allows users and organizations to leverage the standard to sign-in to their resources without a username or password by using an external security key or a platform key built into a device.\n",
        "\n",
        "Users can register and then select a FIDO2 security key at the sign-in interface as their main means of authentication. These FIDO2 security keys are typically USB devices, but could also use Bluetooth or NFC. With a hardware device that handles the authentication, the security of an account is increased as there's no password that could be exposed or guessed.\n",
        "\n"
      ],
      "metadata": {
        "id": "m2SYmeF5Kmyg"
      }
    },
    {
      "cell_type": "markdown",
      "source": [
        "## Next unit: Describe Azure external identities\n",
        "\n"
      ],
      "metadata": {
        "id": "aR-SB2M6JuSN"
      }
    },
    {
      "cell_type": "markdown",
      "source": [
        "# Unit 4 of 11\n",
        "\n"
      ],
      "metadata": {
        "id": "yMG-SD9wLArf"
      }
    },
    {
      "cell_type": "markdown",
      "source": [
        "## Describe Azure external identities\n",
        "An external identity is a person, device, service, etc. that is outside your organization. Microsoft Entra External ID refers to all the ways you can securely interact with users outside of your organization. If you want to collaborate with partners, distributors, suppliers, or vendors, you can share your resources and define how your internal users can access external organizations. If you're a developer creating consumer-facing apps, you can manage your customers' identity experiences.\n",
        "\n",
        "External identities may sound similar to single sign-on. With External Identities, external users can \"bring their own identities.\" Whether they have a corporate or government-issued digital identity, or an unmanaged social identity like Google or Facebook, they can use their own credentials to sign in. The external user’s identity provider manages their identity, and you manage access to your apps with Microsoft Entra ID or Azure AD B2C to keep your resources protected.\n",
        "\n",
        "<img src=\"https://learn.microsoft.com/en-us/training/wwl-azure/describe-azure-identity-access-security/media/azure-active-directory-external-identities-5a892021.png\"\n",
        "     alt=\"Diagram showing B2B collaborators accessing your tenant and B2C collaborators accessing the AD B2C tennant.\"\n",
        "     style=\"float: left; margin-right: 10px;\" />\n",
        "\n",
        "The following capabilities make up External Identities:\n",
        "\n",
        "- **Business to business (B2B) collaboration** - Collaborate with external users by letting them use their preferred identity to sign-in to your Microsoft applications or other enterprise applications (SaaS apps, custom-developed apps, etc.). B2B collaboration users are represented in your directory, typically as guest users.\n",
        "- **B2B direct connect** - Establish a mutual, two-way trust with another Microsoft Entra organization for seamless collaboration. B2B direct connect currently supports Teams shared channels, enabling external users to access your resources from within their home instances of Teams. B2B direct connect users aren't represented in your directory, but they're visible from within the Teams shared channel and can be monitored in Teams admin center reports.\n",
        "- **Microsoft Azure Active Directory business to customer (B2C)** - Publish modern SaaS apps or custom-developed apps (excluding Microsoft apps) to consumers and customers, while using Azure AD B2C for identity and access management.\n",
        "\n",
        "Depending on how you want to interact with external organizations and the types of resources you need to share, you can use a combination of these capabilities.\n",
        "\n",
        "With Microsoft Entra ID, you can easily enable collaboration across organizational boundaries by using the Microsoft Entra B2B feature. Guest users from other tenants can be invited by administrators or by other users. This capability also applies to social identities such as Microsoft accounts.\n",
        "\n",
        "You also can easily ensure that guest users have appropriate access. You can ask the guests themselves or a decision maker to participate in an access review and recertify (or attest) to the guests' access. The reviewers can give their input on each user's need for continued access, based on suggestions from Microsoft Entra ID. When an access review is finished, you can then make changes and remove access for guests who no longer need it.\n",
        "\n"
      ],
      "metadata": {
        "id": "p3AUH7-HLAoD"
      }
    },
    {
      "cell_type": "markdown",
      "source": [
        "## Next unit: Describe Azure conditional access\n",
        "\n"
      ],
      "metadata": {
        "id": "GDcHa2vbLAke"
      }
    },
    {
      "cell_type": "markdown",
      "source": [
        "# Unit 5 of 11\n",
        "\n"
      ],
      "metadata": {
        "id": "nwf57fMlLAhA"
      }
    },
    {
      "cell_type": "markdown",
      "source": [
        "## Describe Azure conditional access\n",
        "Conditional Access is a tool that Microsoft Entra ID uses to allow (or deny) access to resources based on identity signals. These signals include who the user is, where the user is, and what device the user is requesting access from.\n",
        "\n",
        "Conditional Access helps IT administrators:\n",
        "\n",
        "- Empower users to be productive wherever and whenever.\n",
        "- Protect the organization's assets.\n",
        "\n",
        "Conditional Access also provides a more granular multifactor authentication experience for users. For example, a user might not be challenged for second authentication factor if they're at a known location. However, they might be challenged for a second authentication factor if their sign-in signals are unusual or they're at an unexpected location.\n",
        "\n",
        "During sign-in, Conditional Access collects signals from the user, makes decisions based on those signals, and then enforces that decision by allowing or denying the access request or challenging for a multifactor authentication response.\n",
        "\n",
        "The following diagram illustrates this flow:\n",
        "\n",
        "<img src=\"https://learn.microsoft.com/en-us/training/wwl-azure/describe-azure-identity-access-security/media/conditional-access-9bd268b8.png\"\n",
        "     alt=\"Diagram showing the conditional access flow of a signal leading to a decision, leading to enforcement.\"\n",
        "     style=\"float: left; margin-right: 10px;\" />\n",
        "\n",
        "Here, the signal might be the user's location, the user's device, or the application that the user is trying to access.\n",
        "\n",
        "Based on these signals, the decision might be to allow full access if the user is signing in from their usual location. If the user is signing in from an unusual location or a location that's marked as high risk, then access might be blocked entirely or possibly granted after the user provides a second form of authentication.\n",
        "\n",
        "Enforcement is the action that carries out the decision. For example, the action is to allow access or require the user to provide a second form of authentication.\n",
        "\n"
      ],
      "metadata": {
        "id": "WWdChHBtLAd3"
      }
    },
    {
      "cell_type": "markdown",
      "source": [
        "## When can I use Conditional Access?\n",
        "Conditional Access is useful when you need to:\n",
        "\n",
        "- Require multifactor authentication (MFA) to access an application depending on the requester’s role, location, or network. For example, you could require MFA for administrators but not regular users or for people connecting from outside your corporate network.\n",
        "- Require access to services only through approved client applications. For example, you could limit which email applications are able to connect to your email service.\n",
        "- Require users to access your application only from managed devices. A managed device is a device that meets your standards for security and compliance.\n",
        "- Block access from untrusted sources, such as access from unknown or unexpected locations.\n",
        "\n"
      ],
      "metadata": {
        "id": "pqfY_ar7LAaq"
      }
    },
    {
      "cell_type": "markdown",
      "source": [
        "## Next unit: Describe Azure role-based access control\n",
        "\n"
      ],
      "metadata": {
        "id": "7JnIuRJFLAW6"
      }
    },
    {
      "cell_type": "markdown",
      "source": [
        "# Unit 6 of 11\n",
        "\n"
      ],
      "metadata": {
        "id": "8IQI8_7tLAQ1"
      }
    },
    {
      "cell_type": "markdown",
      "source": [
        "## Describe Azure role-based access control\n",
        "When you have multiple IT and engineering teams, how can you control what access they have to the resources in your cloud environment? The principle of least privilege says you should only grant access up to the level needed to complete a task. If you only need read access to a storage blob, then you should only be granted read access to that storage blob. Write access to that blob shouldn’t be granted, nor should read access to other storage blobs. It’s a good security practice to follow.\n",
        "\n",
        "However, managing that level of permissions for an entire team would become tedious. Instead of defining the detailed access requirements for each individual, and then updating access requirements when new resources are created or new people join the team, Azure enables you to control access through Azure role-based access control (Azure RBAC).\n",
        "\n",
        "Azure provides built-in roles that describe common access rules for cloud resources. You can also define your own roles. Each role has an associated set of access permissions that relate to that role. When you assign individuals or groups to one or more roles, they receive all the associated access permissions.\n",
        "\n",
        "So, if you hire a new engineer and add them to the Azure RBAC group for engineers, they automatically get the same access as the other engineers in the same Azure RBAC group. Similarly, if you add additional resources and point Azure RBAC at them, everyone in that Azure RBAC group will now have those permissions on the new resources as well as the existing resources.\n",
        "\n"
      ],
      "metadata": {
        "id": "lK5aq7sEMiuO"
      }
    },
    {
      "cell_type": "markdown",
      "source": [
        "## How is role-based access control applied to resources?\n",
        "Role-based access control is applied to a scope, which is a resource or set of resources that this access applies to.\n",
        "\n",
        "The following diagram shows the relationship between roles and scopes. A management group, subscription, or resource group might be given the role of owner, so they have increased control and authority. An observer, who isn't expected to make any updates, might be given a role of Reader for the same scope, enabling them to review or observe the management group, subscription, or resource group.\n",
        "\n",
        "<img src=\"https://learn.microsoft.com/en-us/training/wwl-azure/describe-azure-identity-access-security/media/role-based-access-scope-4b12a8f3.png\"\n",
        "     alt=\"A diagram showing scopes and roles. Role and scope combinations map to a specific kind of user or account, such as an observer or an admin.\"\n",
        "     style=\"float: left; margin-right: 10px;\" />\n",
        "\n",
        "Scopes include:\n",
        "\n",
        "- A management group (a collection of multiple subscriptions).\n",
        "- A single subscription.\n",
        "- A resource group.\n",
        "- A single resource.\n",
        "\n",
        "Observers, users managing resources, admins, and automated processes illustrate the kinds of users or accounts that would typically be assigned each of the various roles.\n",
        "\n",
        "Azure RBAC is hierarchical, in that when you grant access at a parent scope, those permissions are inherited by all child scopes. For example:\n",
        "\n",
        "- When you assign the Owner role to a user at the management group scope, that user can manage everything in all subscriptions within the management group.\n",
        "- When you assign the Reader role to a group at the subscription scope, the members of that group can view every resource group and resource within the subscription.\n",
        "\n"
      ],
      "metadata": {
        "id": "aco_xm1XMipX"
      }
    },
    {
      "cell_type": "markdown",
      "source": [
        "## How is Azure RBAC enforced?\n",
        "Azure RBAC is enforced on any action that's initiated against an Azure resource that passes through Azure Resource Manager. Resource Manager is a management service that provides a way to organize and secure your cloud resources.\n",
        "\n",
        "You typically access Resource Manager from the Azure portal, Azure Cloud Shell, Azure PowerShell, and the Azure CLI. Azure RBAC doesn't enforce access permissions at the application or data level. Application security must be handled by your application.\n",
        "\n",
        "Azure RBAC uses an allow model. When you're assigned a role, Azure RBAC allows you to perform actions within the scope of that role. If one role assignment grants you read permissions to a resource group and a different role assignment grants you write permissions to the same resource group, you have both read and write permissions on that resource group.\n",
        "\n"
      ],
      "metadata": {
        "id": "hwIJx236MiXk"
      }
    },
    {
      "cell_type": "markdown",
      "source": [
        "## Next unit: Describe zero trust model\n",
        "\n"
      ],
      "metadata": {
        "id": "u0Yl6-1nMiUC"
      }
    },
    {
      "cell_type": "markdown",
      "source": [
        "# Unit 7 of 11\n",
        "\n"
      ],
      "metadata": {
        "id": "SLFNW3LhMiQF"
      }
    },
    {
      "cell_type": "markdown",
      "source": [
        "## Describe zero trust model\n",
        "Zero Trust is a security model that assumes the worst case scenario and protects resources with that expectation. Zero Trust assumes breach at the outset, and then verifies each request as though it originated from an uncontrolled network.\n",
        "\n",
        "Today, organizations need a new security model that effectively adapts to the complexity of the modern environment; embraces the mobile workforce: and protects people, devices, applications, and data wherever they're located.\n",
        "\n",
        "To address this new world of computing, Microsoft highly recommends the Zero Trust security model, which is based on these guiding principles:\n",
        "\n",
        "- **Verify explicitly** - Always authenticate and authorize based on all available data points.\n",
        "- **Use least privilege access** - Limit user access with Just-In-Time and Just-Enough-Access (JIT/JEA), risk-based adaptive policies, and data protection.\n",
        "- **Assume breach** - Minimize blast radius and segment access. Verify end-to-end encryption. Use analytics to get visibility, drive threat detection, and improve defenses.\n",
        "\n",
        "\n"
      ],
      "metadata": {
        "id": "G6vuAdsUMiL2"
      }
    },
    {
      "cell_type": "markdown",
      "source": [
        "## Adjusting to Zero Trust\n",
        "Traditionally, corporate networks were restricted, protected, and generally assumed safe. Only managed computers could join the network, VPN access was tightly controlled, and personal devices were frequently restricted or blocked.\n",
        "\n",
        "The Zero Trust model flips that scenario. Instead of assuming that a device is safe because it’s within the corporate network, it requires everyone to authenticate. Then grants access based on authentication rather than location.\n",
        "\n",
        "<img src=\"https://learn.microsoft.com/en-us/training/wwl-azure/describe-azure-identity-access-security/media/zero-trust-cf9202be.png\"\n",
        "     alt=\"Diagram comparing zero trust authenticating everyone compared to classic relying on network location.\"\n",
        "     style=\"float: left; margin-right: 10px;\" />\n",
        "\n"
      ],
      "metadata": {
        "id": "lfdnd9lFMiF3"
      }
    },
    {
      "cell_type": "markdown",
      "source": [
        "## Next unit: Describe defense-in-depth\n",
        "\n"
      ],
      "metadata": {
        "id": "KsRbENuSNk1t"
      }
    },
    {
      "cell_type": "markdown",
      "source": [
        "# Unit 8 of 11\n",
        "\n"
      ],
      "metadata": {
        "id": "2TPTh28-Nmes"
      }
    },
    {
      "cell_type": "markdown",
      "source": [
        "## Describe defense-in-depth\n",
        "The objective of defense-in-depth is to protect information and prevent it from being stolen by those who aren't authorized to access it.\n",
        "\n",
        "A defense-in-depth strategy uses a series of mechanisms to slow the advance of an attack that aims at acquiring unauthorized access to data.\n",
        "\n"
      ],
      "metadata": {
        "id": "-tPwYXGDFfEa"
      }
    },
    {
      "cell_type": "markdown",
      "source": [
        "## Layers of defense-in-depth\n",
        "You can visualize defense-in-depth as a set of layers, with the data to be secured at the center and all the other layers functioning to protect that central data layer.\n",
        "\n",
        "<img src=\"https://learn.microsoft.com/en-us/training/wwl-azure/describe-azure-identity-access-security/media/defense-depth-486afc12.png\"\n",
        "     alt=\"A diagram the defense in depth layers. From the center: data, application, compute, network, perimeter, identity & access, physical security.\"\n",
        "     style=\"float: left; margin-right: 10px;\" />\n",
        "\n",
        "Each layer provides protection so that if one layer is breached, a subsequent layer is already in place to prevent further exposure. This approach removes reliance on any single layer of protection. It slows down an attack and provides alert information that security teams can act upon, either automatically or manually.\n",
        "\n",
        "Here's a brief overview of the role of each layer:\n",
        "\n",
        "- The physical security layer is the first line of defense to protect computing hardware in the datacenter.\n",
        "- The identity and access layer controls access to infrastructure and change control.\n",
        "- The perimeter layer uses distributed denial of service (DDoS) protection to filter large-scale attacks before they can cause a denial of service for users.\n",
        "- The network layer limits communication between resources through segmentation and access controls.\n",
        "- The compute layer secures access to virtual machines.\n",
        "- The application layer helps ensure that applications are secure and free of security vulnerabilities.\n",
        "- The data layer controls access to business and customer data that you need to protect.\n",
        "\n",
        "These layers provide a guideline for you to help make security configuration decisions in all of the layers of your applications.\n",
        "\n",
        "Azure provides security tools and features at every level of the defense-in-depth concept. Let's take a closer look at each layer:\n",
        "\n"
      ],
      "metadata": {
        "id": "rhHHzinoFfA4"
      }
    },
    {
      "cell_type": "markdown",
      "source": [
        "### Physical security\n",
        "Physically securing access to buildings and controlling access to computing hardware within the datacenter are the first line of defense.\n",
        "\n",
        "With physical security, the intent is to provide physical safeguards against access to assets. These safeguards ensure that other layers can't be bypassed, and loss or theft is handled appropriately. Microsoft uses various physical security mechanisms in its cloud datacenters.\n",
        "\n"
      ],
      "metadata": {
        "id": "3LhwYRdJFe-r"
      }
    },
    {
      "cell_type": "markdown",
      "source": [
        "### Identity and access\n",
        "The identity and access layer is all about ensuring that identities are secure, that access is granted only to what's needed, and that sign-in events and changes are logged.\n",
        "\n",
        "At this layer, it's important to:\n",
        "\n",
        "- Control access to infrastructure and change control.\n",
        "- Use single sign-on (SSO) and multifactor authentication.\n",
        "- Audit events and changes.\n",
        "\n"
      ],
      "metadata": {
        "id": "5skXNU5dFe8V"
      }
    },
    {
      "cell_type": "markdown",
      "source": [
        "### Perimeter\n",
        "The network perimeter protects from network-based attacks against your resources. Identifying these attacks, eliminating their impact, and alerting you when they happen are important ways to keep your network secure.\n",
        "\n",
        "At this layer, it's important to:\n",
        "\n",
        "- Use DDoS protection to filter large-scale attacks before they can affect the availability of a system for users.\n",
        "- Use perimeter firewalls to identify and alert on malicious attacks against your network.\n",
        "\n"
      ],
      "metadata": {
        "id": "FGGGBfpKFe5w"
      }
    },
    {
      "cell_type": "markdown",
      "source": [
        "### Network\n",
        "At this layer, the focus is on limiting the network connectivity across all your resources to allow only what's required. By limiting this communication, you reduce the risk of an attack spreading to other systems in your network.\n",
        "\n",
        "At this layer, it's important to:\n",
        "\n",
        "- Limit communication between resources.\n",
        "- Deny by default.\n",
        "- Restrict inbound internet access and limit outbound access where appropriate.\n",
        "- Implement secure connectivity to on-premises networks.\n",
        "\n"
      ],
      "metadata": {
        "id": "ucMqkmR-Fe4W"
      }
    },
    {
      "cell_type": "markdown",
      "source": [
        "### Compute\n",
        "Malware, unpatched systems, and improperly secured systems open your environment to attacks. The focus in this layer is on making sure that your compute resources are secure and that you have the proper controls in place to minimize security issues.\n",
        "\n",
        "At this layer, it's important to:\n",
        "\n",
        "- Secure access to virtual machines.\n",
        "- Implement endpoint protection on devices and keep systems patched and current.\n",
        "\n"
      ],
      "metadata": {
        "id": "gapPzHzBFe1-"
      }
    },
    {
      "cell_type": "markdown",
      "source": [
        "### Application\n",
        "Integrating security into the application development lifecycle helps reduce the number of vulnerabilities introduced in code. Every development team should ensure that its applications are secure by default.\n",
        "\n",
        "At this layer, it's important to:\n",
        "\n",
        "- Ensure that applications are secure and free of vulnerabilities.\n",
        "- Store sensitive application secrets in a secure storage medium.\n",
        "- Make security a design requirement for all application development.\n",
        "\n"
      ],
      "metadata": {
        "id": "MelHLj8JFeza"
      }
    },
    {
      "cell_type": "markdown",
      "source": [
        "### Data\n",
        "Those who store and control access to data are responsible for ensuring that it's properly secured. Often, regulatory requirements dictate the controls and processes that must be in place to ensure the confidentiality, integrity, and availability of the data.\n",
        "\n",
        "In almost all cases, attackers are after data:\n",
        "\n",
        "- Stored in a database.\n",
        "- Stored on disk inside virtual machines.\n",
        "- Stored in software as a service (SaaS) applications, such as Office 365.\n",
        "- Managed through cloud storage.\n",
        "\n"
      ],
      "metadata": {
        "id": "Z9OnyIsEFex7"
      }
    },
    {
      "cell_type": "markdown",
      "source": [
        "## Next unit: Describe Microsoft Defender for Cloud\n",
        "\n"
      ],
      "metadata": {
        "id": "GYSUACyjFevs"
      }
    },
    {
      "cell_type": "markdown",
      "source": [
        "# Unit 9 of 11\n",
        "\n"
      ],
      "metadata": {
        "id": "r2WrqquyFetc"
      }
    },
    {
      "cell_type": "markdown",
      "source": [
        "## Describe Microsoft Defender for Cloud\n",
        "Defender for Cloud is a monitoring tool for security posture management and threat protection. It monitors your cloud, on-premises, hybrid, and multi-cloud environments to provide guidance and notifications aimed at strengthening your security posture.\n",
        "\n",
        "Defender for Cloud provides the tools needed to harden your resources, track your security posture, protect against cyber attacks, and streamline security management. Deployment of Defender for Cloud is easy, it’s already natively integrated to Azure.\n",
        "\n"
      ],
      "metadata": {
        "id": "7fn1JqcAFerU"
      }
    },
    {
      "cell_type": "markdown",
      "source": [
        "## Protection everywhere you’re deployed\n",
        "Because Defender for Cloud is an Azure-native service, many Azure services are monitored and protected without needing any deployment. However, if you also have an on-premises datacenter or are also operating in another cloud environment, monitoring of Azure services may not give you a complete picture of your security situation.\n",
        "\n",
        "When necessary, Defender for Cloud can automatically deploy a Log Analytics agent to gather security-related data. For Azure machines, deployment is handled directly. For hybrid and multi-cloud environments, Microsoft Defender plans are extended to non Azure machines with the help of Azure Arc. Cloud security posture management (CSPM) features are extended to multi-cloud machines without the need for any agents.\n",
        "\n"
      ],
      "metadata": {
        "id": "LX94rk8VFepO"
      }
    },
    {
      "cell_type": "markdown",
      "source": [
        "## Azure-native protections\n",
        "Defender for Cloud helps you detect threats across:\n",
        "\n",
        "- Azure PaaS services – Detect threats targeting Azure services including Azure App Service, Azure SQL, Azure Storage Account, and more data services. You can also perform anomaly detection on your Azure activity logs using the native integration with Microsoft Defender for Cloud Apps (formerly known as Microsoft Cloud App Security).\n",
        "- Azure data services – Defender for Cloud includes capabilities that help you automatically classify your data in Azure SQL. You can also get assessments for potential vulnerabilities across Azure SQL and Storage services, and recommendations for how to mitigate them.\n",
        "- Networks – Defender for Cloud helps you limit exposure to brute force attacks. By reducing access to virtual machine ports, using the just-in-time VM access, you can harden your network by preventing unnecessary access. You can set secure access policies on selected ports, for only authorized users, allowed source IP address ranges or IP addresses, and for a limited amount of time.\n",
        "\n"
      ],
      "metadata": {
        "id": "AZzK9F1fFemp"
      }
    },
    {
      "cell_type": "markdown",
      "source": [
        "## Defend your hybrid resources\n",
        "In addition to defending your Azure environment, you can add Defender for Cloud capabilities to your hybrid cloud environment to protect your non-Azure servers. To help you focus on what matters the most, you'll get customized threat intelligence and prioritized alerts according to your specific environment.\n",
        "\n",
        "To extend protection to on-premises machines, deploy Azure Arc and enable Defender for Cloud's enhanced security features.\n",
        "\n"
      ],
      "metadata": {
        "id": "B7ZkI2q2HPoL"
      }
    },
    {
      "cell_type": "markdown",
      "source": [
        "## Defend resources running on other clouds\n",
        "Defender for Cloud can also protect resources in other clouds (such as AWS and GCP).\n",
        "\n",
        "For example, if you've connected an Amazon Web Services (AWS) account to an Azure subscription, you can enable any of these protections:\n",
        "\n",
        "- Defender for Cloud's CSPM features extend to your AWS resources. This agentless plan assesses your AWS resources according to AWS-specific security recommendations, and includes the results in the secure score. The resources will also be assessed for compliance with built-in standards specific to AWS (AWS CIS, AWS PCI DSS, and AWS Foundational Security Best Practices). Defender for Cloud's asset inventory page is a multi-cloud enabled feature helping you manage your AWS resources alongside your Azure resources.\n",
        "- Microsoft Defender for Containers extends its container threat detection and advanced defenses to your Amazon EKS Linux clusters.\n",
        "- Microsoft Defender for Servers brings threat detection and advanced defenses to your Windows and Linux EC2 instances.\n",
        "\n"
      ],
      "metadata": {
        "id": "yHGn_6aEHPkr"
      }
    },
    {
      "cell_type": "markdown",
      "source": [
        "## Assess, Secure, and Defend\n",
        "Defender for Cloud fills three vital needs as you manage the security of your resources and workloads in the cloud and on-premises:\n",
        "\n",
        "- Continuously assess – Know your security posture. Identify and track vulnerabilities.\n",
        "- Secure – Harden resources and services with Azure Security Benchmark.\n",
        "- Defend – Detect and resolve threats to resources, workloads, and services.\n",
        "\n",
        "<img src=\"https://learn.microsoft.com/en-us/training/wwl-azure/describe-azure-identity-access-security/media/assess-secure-defend-46228306.png\"\n",
        "     alt=\"Diagram reinforcing assess, secure, and defend.\"\n",
        "     style=\"float: left; margin-right: 10px;\" />\n",
        "\n"
      ],
      "metadata": {
        "id": "7_2dqkldHPi9"
      }
    },
    {
      "cell_type": "markdown",
      "source": [
        "### Continuously assess\n",
        "Defender for cloud helps you continuously assess your environment. Defender for Cloud includes vulnerability assessment solutions for your virtual machines, container registries, and SQL servers.\n",
        "\n",
        "Microsoft Defender for servers includes automatic, native integration with Microsoft Defender for Endpoint. With this integration enabled, you'll have access to the vulnerability findings from Microsoft threat and vulnerability management.\n",
        "\n",
        "Between these assessment tools you’ll have regular, detailed vulnerability scans that cover your compute, data, and infrastructure. You can review and respond to the results of these scans all from within Defender for Cloud.\n",
        "\n"
      ],
      "metadata": {
        "id": "XNq75jpOH4is"
      }
    },
    {
      "cell_type": "markdown",
      "source": [
        "### Secure\n",
        "From authentication methods to access control to the concept of Zero Trust, security in the cloud is an essential basic that must be done right. In order to be secure in the cloud, you have to ensure your workloads are secure. To secure your workloads, you need security policies in place that are tailored to your environment and situation. Because policies in Defender for Cloud are built on top of Azure Policy controls, you're getting the full range and flexibility of a world-class policy solution. In Defender for Cloud, you can set your policies to run on management groups, across subscriptions, and even for a whole tenant.\n",
        "\n",
        "One of the benefits of moving to the cloud is the ability to grow and scale as you need, adding new services and resources as necessary. Defender for Cloud is constantly monitoring for new resources being deployed across your workloads. Defender for Cloud assesses if new resources are configured according to security best practices. If not, they're flagged and you get a prioritized list of recommendations for what you need to fix. Recommendations help you reduce the attack surface across each of your resources.\n",
        "\n",
        "The list of recommendations is enabled and supported by the Azure Security Benchmark. This Microsoft-authored, Azure-specific, benchmark provides a set of guidelines for security and compliance best practices based on common compliance frameworks.\n",
        "\n",
        "In this way, Defender for Cloud enables you not just to set security policies, but to apply secure configuration standards across your resources.\n",
        "\n",
        "To help you understand how important each recommendation is to your overall security posture, Defender for Cloud groups the recommendations into security controls and adds a secure score value to each control. The secure score gives you an at-a-glance indicator of the health of your security posture, while the controls give you a working list of things to consider to improve your security score and your overall security posture.\n",
        "\n",
        "<img src=\"https://learn.microsoft.com/en-us/training/wwl-azure/describe-azure-identity-access-security/media/defender-for-cloud-d47a71d8.png\"\n",
        "     alt=\"Screenshot showing the Microsoft Defender for Cloud secure score.\"\n",
        "     style=\"float: left; margin-right: 10px;\" />\n",
        "\n"
      ],
      "metadata": {
        "id": "gh1L4lZNH4fC"
      }
    },
    {
      "cell_type": "markdown",
      "source": [
        "### Defend\n",
        "The first two areas were focused on assessing, monitoring, and maintaining your environment. Defender for Cloud also helps you defend your environment by providing security alerts and advanced threat protection features.\n",
        "\n"
      ],
      "metadata": {
        "id": "CRYoZECyH4cq"
      }
    },
    {
      "cell_type": "markdown",
      "source": [
        "#### Security alerts\n",
        "When Defender for Cloud detects a threat in any area of your environment, it generates a security alert. Security alerts:\n",
        "\n",
        "- Describe details of the affected resources\n",
        "- Suggest remediation steps\n",
        "- Provide, in some cases, an option to trigger a logic app in response\n",
        "\n",
        "Whether an alert is generated by Defender for Cloud or received by Defender for Cloud from an integrated security product, you can export it. Defender for Cloud's threat protection includes fusion kill-chain analysis, which automatically correlates alerts in your environment based on cyber kill-chain analysis, to help you better understand the full story of an attack campaign, where it started, and what kind of impact it had on your resources.\n",
        "\n"
      ],
      "metadata": {
        "id": "9mR3YSaKIlOM"
      }
    },
    {
      "cell_type": "markdown",
      "source": [
        "#### Advanced threat protection\n",
        "Defender for cloud provides advanced threat protection features for many of your deployed resources, including virtual machines, SQL databases, containers, web applications, and your network. Protections include securing the management ports of your VMs with just-in-time access, and adaptive application controls to create allowlists for what apps should and shouldn't run on your machines.\n",
        "\n"
      ],
      "metadata": {
        "id": "5PMGDzeIIlKi"
      }
    },
    {
      "cell_type": "markdown",
      "source": [
        "## Next unit: Knowledge check\n",
        "\n"
      ],
      "metadata": {
        "id": "HnohM28vIlHU"
      }
    },
    {
      "cell_type": "markdown",
      "source": [
        "# Unit 10 of 11\n",
        "\n"
      ],
      "metadata": {
        "id": "s9DIhV5fHPga"
      }
    },
    {
      "cell_type": "markdown",
      "source": [
        "## Knowledge check\n",
        "Choose the best response for each question. Then select Check your answers.\n",
        "\n"
      ],
      "metadata": {
        "id": "06v0sM8DI-9A"
      }
    },
    {
      "cell_type": "markdown",
      "source": [
        "## Check your knowledge\n",
        "\n",
        "1. Which Microsoft Entra tool can vary the credentials needed to log in based on signals, such as where the user is located?\n",
        "- [✅] Conditional Access\n",
        "> Conditional Access is a tool that Microsoft Entra ID uses to allow (or deny) access to resources based on identity signals. Conditional Access might challenge you for a second authentication factor if your sign-in signals are unusual or from an unexpected location.\n",
        "- [❌] Guest access\n",
        "- [❌] Passwordless\n",
        "\n",
        "\n",
        "2. Which security model assumes the worst-case security scenario, and protects resources accordingly?\n",
        "- [✅] Zero trust\n",
        "> Zero Trust is a security model that assumes the worst case scenario and protects resources with that expectation.\n",
        "- [❌] Defense-in-depth\n",
        "- [❌] Role-based access control\n",
        "\n",
        "\n",
        "3. A user is simultaneously assigned multiple roles that use role-based access control. What are their actual permissions? The role permissions are: Role 1 - read || Role 2 - write || Role 3 - read and write.\n",
        "- [❌] Read only\n",
        "- [❌] Write only\n",
        "- [✅] Read and write\n",
        "> Role-based access control, using an allow model, grants all of the permissions assigned in all of the assigned roles.\n",
        "\n"
      ],
      "metadata": {
        "id": "eVYNVMGyI-5n"
      }
    },
    {
      "cell_type": "markdown",
      "source": [
        "## All units complete:\n",
        "\n"
      ],
      "metadata": {
        "id": "BiriQETSI-2I"
      }
    },
    {
      "cell_type": "markdown",
      "source": [
        "# Unit 11 of 11\n",
        "\n"
      ],
      "metadata": {
        "id": "FNSB_f5MHPeN"
      }
    },
    {
      "cell_type": "markdown",
      "source": [
        "## Summary\n",
        "In this module, you learned about Azure identity, access, and security services and tools. You covered authentication methods, including which ones are more secure. You learned about restricting access based on a role to help create a more secure environment. And, you learned about the Defense In Depth and Zero Trust models.\n",
        "\n"
      ],
      "metadata": {
        "id": "XXLazdHNjrP-"
      }
    },
    {
      "cell_type": "markdown",
      "source": [
        "## Learning objectives\n",
        "You should now be able to:\n",
        "\n",
        "- Describe directory services in Azure, including Microsoft Entra ID and Microsoft Entra Domain Services.\n",
        "- Describe authentication methods in Azure, including single sign-on (SSO), multifactor authentication (MFA), and passwordless.\n",
        "- Describe external identities and guest access in Azure.\n",
        "- Describe Microsoft Entra Conditional Access.\n",
        "- Describe Azure Role Based Access Control (RBAC).\n",
        "- Describe the concept of Zero Trust.\n",
        "- Describe the purpose of the defense in depth model.\n",
        "- Describe the purpose of Microsoft Defender for Cloud.\n",
        "\n"
      ],
      "metadata": {
        "id": "kouZ_q21jrMm"
      }
    },
    {
      "cell_type": "markdown",
      "source": [
        "## Additional resources\n",
        "The following resources provide more information on topics in this module or related to this module.\n",
        "\n",
        "- [Microsoft Certified: Security, Compliance, and Identity Fundamentals](https://learn.microsoft.com/en-us/learn/certifications/security-compliance-and-identity-fundamentals/) is an entire certification, with associated training, dedicated to helping you better understand and manage Security, Compliance, and identity.\n",
        "\n"
      ],
      "metadata": {
        "id": "mfr5_hU1jrKZ"
      }
    },
    {
      "cell_type": "markdown",
      "source": [
        "## All units complete:\n",
        "\n"
      ],
      "metadata": {
        "id": "Mb1Nh8vDjrID"
      }
    }
  ]
}