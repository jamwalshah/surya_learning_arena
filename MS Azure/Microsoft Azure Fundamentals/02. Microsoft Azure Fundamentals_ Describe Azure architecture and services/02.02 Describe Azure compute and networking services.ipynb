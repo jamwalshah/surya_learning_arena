{
  "nbformat": 4,
  "nbformat_minor": 0,
  "metadata": {
    "colab": {
      "provenance": [],
      "toc_visible": true
    },
    "kernelspec": {
      "name": "python3",
      "display_name": "Python 3"
    },
    "language_info": {
      "name": "python"
    }
  },
  "cells": [
    {
      "cell_type": "markdown",
      "source": [
        "# Unit 1 of 14\n",
        "\n"
      ],
      "metadata": {
        "id": "Ycoz262Hc2N_"
      }
    },
    {
      "cell_type": "markdown",
      "source": [
        "## Introduction\n",
        "In this module, you’ll be introduced to the compute and networking services of Azure. You’ll learn about three of the compute options (virtual machines, containers, and Azure functions). You’ll also learn about some of the networking features, such as Azure virtual networks, Azure DNS, and Azure ExpressRoute.\n",
        "\n"
      ],
      "metadata": {
        "id": "9LhI3i10c2KZ"
      }
    },
    {
      "cell_type": "markdown",
      "source": [
        "## Learning objectives\n",
        "After completing this module, you’ll be able to:\n",
        "\n",
        "- Compare compute types, including container instances, virtual machines, and functions.\n",
        "- Describe virtual machine options, including virtual machines (VMs), virtual machine scale sets, virtual machine availability sets, and Azure Virtual Desktop.\n",
        "- Describe resources required for virtual machines.\n",
        "- Describe application hosting options, including Azure Web Apps, containers, and virtual machines.\n",
        "- Describe virtual networking, including the purpose of Azure Virtual Networks, Azure virtual subnets, peering, Azure DNS, VPN Gateway, and ExpressRoute.\n",
        "- Define public and private endpoints.\n",
        "\n"
      ],
      "metadata": {
        "id": "02Y5ON8ac2Do"
      }
    },
    {
      "cell_type": "markdown",
      "source": [
        "## Next unit: Describe Azure virtual machines\n",
        "\n"
      ],
      "metadata": {
        "id": "L9nNeaOCc2AO"
      }
    },
    {
      "cell_type": "markdown",
      "source": [
        "# Unit 2 of 14\n",
        "\n"
      ],
      "metadata": {
        "id": "zvJzfsG-c1-D"
      }
    },
    {
      "cell_type": "markdown",
      "source": [
        "## Describe Azure virtual machines\n",
        "With Azure Virtual Machines (VMs), you can create and use VMs in the cloud. VMs provide infrastructure as a service (IaaS) in the form of a virtualized server and can be used in many ways. Just like a physical computer, you can customize all of the software running on your VM. VMs are an ideal choice when you need:\n",
        "\n",
        "- Total control over the operating system (OS).\n",
        "- The ability to run custom software.\n",
        "- To use custom hosting configurations.\n",
        "\n",
        "An Azure VM gives you the flexibility of virtualization without having to buy and maintain the physical hardware that runs the VM. However, as an IaaS offering, you still need to configure, update, and maintain the software that runs on the VM.\n",
        "\n",
        "You can even create or use an already created image to rapidly provision VMs. You can create and provision a VM in minutes when you select a preconfigured VM image. An image is a template used to create a VM and may already include an OS and other software, like development tools or web hosting environments.\n",
        "\n"
      ],
      "metadata": {
        "id": "BHaO2asnc18L"
      }
    },
    {
      "cell_type": "markdown",
      "source": [
        "## Scale VMs in Azure\n",
        "You can run single VMs for testing, development, or minor tasks. Or you can group VMs together to provide high availability, scalability, and redundancy. Azure can also manage the grouping of VMs for you with features such as scale sets and availability sets.\n",
        "\n"
      ],
      "metadata": {
        "id": "AeJU4tqXc158"
      }
    },
    {
      "cell_type": "markdown",
      "source": [
        "## Virtual machine scale sets\n",
        "Virtual machine scale sets let you create and manage a group of identical, load-balanced VMs. If you simply created multiple VMs with the same purpose, you’d need to ensure they were all configured identically and then set up network routing parameters to ensure efficiency. You’d also have to monitor the utilization to determine if you need to increase or decrease the number of VMs.\n",
        "\n",
        "Instead, with virtual machine scale sets, Azure automates most of that work. Scale sets allow you to centrally manage, configure, and update a large number of VMs in minutes. The number of VM instances can automatically increase or decrease in response to demand, or you can set it to scale based on a defined schedule. Virtual machine scale sets also automatically deploy a load balancer to make sure that your resources are being used efficiently. With virtual machine scale sets, you can build large-scale services for areas such as compute, big data, and container workloads.\n",
        "\n"
      ],
      "metadata": {
        "id": "7fc9BjiFc14Z"
      }
    },
    {
      "cell_type": "markdown",
      "source": [
        "## Virtual machine availability sets\n",
        "Virtual machine availability sets are another tool to help you build a more resilient, highly available environment. Availability sets are designed to ensure that VMs stagger updates and have varied power and network connectivity, preventing you from losing all your VMs with a single network or power failure.\n",
        "\n",
        "Availability sets do this by grouping VMs in two ways: update domain and fault domain.\n",
        "\n",
        "- **Update domain**: The update domain groups VMs that can be rebooted at the same time. This allows you to apply updates while knowing that only one update domain grouping will be offline at a time. All of the machines in one update domain will be updated. An update group going through the update process is given a 30-minute time to recover before maintenance on the next update domain starts.\n",
        "- **Fault domain**: The fault domain groups your VMs by common power source and network switch. By default, an availability set will split your VMs across up to three fault domains. This helps protect against a physical power or networking failure by having VMs in different fault domains (thus being connected to different power and networking resources).\n",
        "\n",
        "Best of all, there’s no additional cost for configuring an availability set. You only pay for the VM instances you create.\n",
        "\n"
      ],
      "metadata": {
        "id": "kODPpED7c113"
      }
    },
    {
      "cell_type": "markdown",
      "source": [
        "## Examples of when to use VMs\n",
        "Some common examples or use cases for virtual machines include:\n",
        "\n",
        "- **During testing and development**. VMs provide a quick and easy way to create different OS and application configurations. Test and development personnel can then easily delete the VMs when they no longer need them.\n",
        "- **When running applications in the cloud**. The ability to run certain applications in the public cloud as opposed to creating a traditional infrastructure to run them can provide substantial economic benefits. For example, an application might need to handle fluctuations in demand. Shutting down VMs when you don't need them or quickly starting them up to meet a sudden increase in demand means you pay only for the resources you use.\n",
        "- **When extending your datacenter to the cloud**: An organization can extend the capabilities of its own on-premises network by creating a virtual network in Azure and adding VMs to that virtual network. Applications like SharePoint can then run on an Azure VM instead of running locally. This arrangement makes it easier or less expensive to deploy than in an on-premises environment.\n",
        "- **During disaster recovery**: As with running certain types of applications in the cloud and extending an on-premises network to the cloud, you can get significant cost savings by using an IaaS-based approach to disaster recovery. If a primary datacenter fails, you can create VMs running on Azure to run your critical applications and then shut them down when the primary datacenter becomes operational again.\n",
        "\n"
      ],
      "metadata": {
        "id": "BAJdUGQzc1zr"
      }
    },
    {
      "cell_type": "markdown",
      "source": [
        "## Move to the cloud with VMs\n",
        "VMs are also an excellent choice when you move from a physical server to the cloud (also known as lift and shift). You can create an image of the physical server and host it within a VM with little or no changes. Just like a physical on-premises server, you must maintain the VM: you’re responsible for maintaining the installed OS and software.\n",
        "\n"
      ],
      "metadata": {
        "id": "10BxzERIc1wT"
      }
    },
    {
      "cell_type": "markdown",
      "source": [
        "## VM Resources\n",
        "When you provision a VM, you’ll also have the chance to pick the resources that are associated with that VM, including:\n",
        "\n",
        "- Size (purpose, number of processor cores, and amount of RAM)\n",
        "- Storage disks (hard disk drives, solid state drives, etc.)\n",
        "- Networking (virtual network, public IP address, and port configuration)\n",
        "\n"
      ],
      "metadata": {
        "id": "inG5l8Ucc1tx"
      }
    },
    {
      "cell_type": "markdown",
      "source": [
        "## Next unit: Exercise - Create an Azure virtual machine\n",
        "\n"
      ],
      "metadata": {
        "id": "aoGJb2Zmc1q3"
      }
    },
    {
      "cell_type": "markdown",
      "source": [
        "# Unit 3 of 14\n",
        "\n"
      ],
      "metadata": {
        "id": "jwTMbRqSc1oD"
      }
    },
    {
      "cell_type": "markdown",
      "source": [
        "## Exercise - Create an Azure virtual machine\n",
        "In this exercise, you create an Azure virtual machine (VM) and install Nginx, a popular web server.\n",
        "\n",
        "You could use the Azure portal, the Azure CLI, Azure PowerShell, or an Azure Resource Manager (ARM) template.\n",
        "\n",
        "In this instance, you're going to use the Azure CLI.\n",
        "\n"
      ],
      "metadata": {
        "id": "xid0z0L7c1j4"
      }
    },
    {
      "cell_type": "markdown",
      "source": [
        "## Task 1: Create a Linux virtual machine and install Nginx\n",
        "Use the following Azure CLI commands to create a Linux VM and install Nginx. After your VM is created, you'll use the Custom Script Extension to install Nginx. The Custom Script Extension is an easy way to download and run scripts on your Azure VMs. It's just one of the many ways you can configure the system after your VM is up and running.\n",
        "\n",
        "1. From Cloud Shell, run the following `az vm create` command to create a Linux VM:\n",
        "```Azure CLI\n",
        "  --resource-group \"[sandbox resource group name]\" \\\n",
        "  --name my-vm \\\n",
        "  --public-ip-sku Standard \\\n",
        "  --image Ubuntu2204 \\\n",
        "  --admin-username azureuser \\\n",
        "  --generate-ssh-keys\n",
        "```\n",
        "Your VM will take a few moments to come up. You named the VM **my-vm**. You use this name to refer to the VM in later steps.\n",
        "2. Run the following `az vm extension set` command to configure Nginx on your VM:\n",
        "```Azure CLI\n",
        "az vm extension set \\\n",
        "  --resource-group \"[sandbox resource group name]\" \\\n",
        "  --vm-name my-vm \\\n",
        "  --name customScript \\\n",
        "  --publisher Microsoft.Azure.Extensions \\\n",
        "  --version 2.1 \\\n",
        "  --settings '{\"fileUris\":[\"https://raw.githubusercontent.com/MicrosoftDocs/mslearn-welcome-to-azure/master/configure-nginx.sh\"]}' \\\n",
        "  --protected-settings '{\"commandToExecute\": \"./configure-nginx.sh\"}'\n",
        "```\n",
        "This command uses the Custom Script Extension to run a Bash script on your VM. The script is stored on GitHub. While the command runs, you can choose to [examine the Bash script](https://raw.githubusercontent.com/MicrosoftDocs/mslearn-welcome-to-azure/master/configure-nginx.sh) from a separate browser tab. To summarize, the script:\n",
        "1. Runs `apt-get update` to download the latest package information from the internet. This step helps ensure that the next command can locate the latest version of the Nginx package.\n",
        "2. Installs Nginx.\n",
        "3. Sets the home page, */var/www/html/index.html*, to print a welcome message that includes your VM's host name.\n",
        "\n"
      ],
      "metadata": {
        "id": "G6J7SrZLc1gI"
      }
    },
    {
      "cell_type": "markdown",
      "source": [
        "## Continue\n",
        "That's all for this exercise. The sandbox will keep running, and you'll come back to this point in a few units to update the network configuration so you can get to the website.\n",
        "\n"
      ],
      "metadata": {
        "id": "JWWc0_pbc1eF"
      }
    },
    {
      "cell_type": "markdown",
      "source": [
        "## Next unit: Describe Azure virtual desktop\n",
        "\n"
      ],
      "metadata": {
        "id": "gIdM_kVac1Rh"
      }
    },
    {
      "cell_type": "markdown",
      "source": [],
      "metadata": {
        "id": "kXhU6VrPgC8K"
      }
    },
    {
      "cell_type": "markdown",
      "source": [],
      "metadata": {
        "id": "bUlkjM8OgC4w"
      }
    },
    {
      "cell_type": "markdown",
      "source": [],
      "metadata": {
        "id": "ODcbBs1ugC2v"
      }
    },
    {
      "cell_type": "markdown",
      "source": [],
      "metadata": {
        "id": "9D9ve7aXgC0a"
      }
    }
  ]
}