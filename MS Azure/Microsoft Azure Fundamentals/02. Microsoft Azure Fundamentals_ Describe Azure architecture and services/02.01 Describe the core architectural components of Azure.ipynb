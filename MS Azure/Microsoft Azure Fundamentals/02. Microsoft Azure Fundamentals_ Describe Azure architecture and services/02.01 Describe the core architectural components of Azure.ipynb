{
  "nbformat": 4,
  "nbformat_minor": 0,
  "metadata": {
    "colab": {
      "provenance": [],
      "toc_visible": true
    },
    "kernelspec": {
      "name": "python3",
      "display_name": "Python 3"
    },
    "language_info": {
      "name": "python"
    }
  },
  "cells": [
    {
      "cell_type": "markdown",
      "source": [
        "# Unit 1 of 9\n",
        "\n"
      ],
      "metadata": {
        "id": "MVZVnsu1ztVG"
      }
    },
    {
      "cell_type": "markdown",
      "source": [
        "## Introduction\n",
        "In this module, you’ll be introduced to the core architectural components of Azure. You’ll learn about the physical organization of Azure: datacenters, availability zones, and regions; and you’ll learn about the organizational structure of Azure: resources and resource groups, subscriptions, and management groups.\n",
        "\n"
      ],
      "metadata": {
        "id": "4n1N-mnHztPg"
      }
    },
    {
      "cell_type": "markdown",
      "source": [
        "## Learning objectives\n",
        "After completing this module, you’ll be able to:\n",
        "\n",
        "- Describe Azure regions, region pairs, and sovereign regions.\n",
        "- Describe Availability Zones.\n",
        "- Describe Azure datacenters.\n",
        "- Describe Azure resources and Resource Groups.\n",
        "- Describe subscriptions.\n",
        "- Describe management groups.\n",
        "- Describe the hierarchy of resource groups, subscriptions, and management groups.\n",
        "\n"
      ],
      "metadata": {
        "id": "F3wHXQOcztMB"
      }
    },
    {
      "cell_type": "markdown",
      "source": [
        "## Next unit: What is Microsoft Azure\n",
        "\n"
      ],
      "metadata": {
        "id": "LxHvzZm5ztJo"
      }
    },
    {
      "cell_type": "markdown",
      "source": [
        "# Unit 2 of 9\n",
        "\n"
      ],
      "metadata": {
        "id": "aYrWT8lHztHF"
      }
    },
    {
      "cell_type": "markdown",
      "source": [
        "## What is Microsoft Azure\n",
        "\n"
      ],
      "metadata": {
        "id": "S-oDixuBztEO"
      }
    },
    {
      "cell_type": "code",
      "source": [
        "from IPython.display import HTML\n",
        "\n",
        "# Embedding the video link using HTML iframe\n",
        "video_url = 'https://www.microsoft.com/en-us/videoplayer/embed/RWEsag?postJsllMsg=true'\n",
        "embed_code = f'<iframe width=\"560\" height=\"315\" src=\"{video_url}\" frameborder=\"0\" allowfullscreen></iframe>'\n",
        "HTML(embed_code)"
      ],
      "metadata": {
        "colab": {
          "base_uri": "https://localhost:8080/",
          "height": 336
        },
        "id": "n5rEXzvw1J1M",
        "outputId": "399dd943-0e7d-459c-e434-ef4262833df7"
      },
      "execution_count": 2,
      "outputs": [
        {
          "output_type": "execute_result",
          "data": {
            "text/plain": [
              "<IPython.core.display.HTML object>"
            ],
            "text/html": [
              "<iframe width=\"560\" height=\"315\" src=\"https://www.microsoft.com/en-us/videoplayer/embed/RWEsag?postJsllMsg=true\" frameborder=\"0\" allowfullscreen></iframe>"
            ]
          },
          "metadata": {},
          "execution_count": 2
        }
      ]
    },
    {
      "cell_type": "markdown",
      "source": [
        "Azure is a continually expanding set of cloud services that help you meet current and future business challenges. Azure gives you the freedom to build, manage, and deploy applications on a massive global network using your favorite tools and frameworks.\n",
        "\n"
      ],
      "metadata": {
        "id": "Dzyin0JIztBg"
      }
    },
    {
      "cell_type": "markdown",
      "source": [
        "## What does Azure offer?\n",
        "**Limitless innovation**. Build intelligent apps and solutions with advanced technology, tools, and services to take your business to the next level. Seamlessly unify your technology to simplify platform management and to deliver innovations efficiently and securely on a trusted cloud.\n",
        "\n",
        "**Bring ideas to life**: Build on a trusted platform to advance your organization with industry-leading AI and cloud services.\n",
        "**Seamlessly unify**: Efficiently manage all your infrastructure, data, analytics, and AI solutions across an integrated platform.\n",
        "**Innovate on trust**: Rely on trusted technology from a partner who's dedicated to security and responsibility.\n",
        "\n"
      ],
      "metadata": {
        "id": "ZBBuwgwJzs-0"
      }
    },
    {
      "cell_type": "markdown",
      "source": [
        "## What can I do with Azure?\n",
        "Azure provides more than 100 services that enable you to do everything from running your existing applications on virtual machines to exploring new software paradigms, such as intelligent bots and mixed reality.\n",
        "\n",
        "Many teams start exploring the cloud by moving their existing applications to virtual machines (VMs) that run in Azure. Migrating your existing apps to VMs is a good start, but the cloud is much more than a different place to run your VMs.\n",
        "\n",
        "For example, Azure provides artificial intelligence (AI) and machine-learning (ML) services that can naturally communicate with your users through vision, hearing, and speech. It also provides storage solutions that dynamically grow to accommodate massive amounts of data. Azure services enable solutions that aren't feasible without the power of the cloud.\n",
        "\n"
      ],
      "metadata": {
        "id": "33pyV9ZFzs8Y"
      }
    },
    {
      "cell_type": "markdown",
      "source": [
        "## Next unit: Get started with Azure accounts\n",
        "\n"
      ],
      "metadata": {
        "id": "b7wah2H1zs5v"
      }
    },
    {
      "cell_type": "markdown",
      "source": [
        "# Unit 3 of 9\n",
        "\n"
      ],
      "metadata": {
        "id": "Vxm2bIe-zs3K"
      }
    },
    {
      "cell_type": "markdown",
      "source": [
        "## Get started with Azure accounts\n",
        "To create and use Azure services, you need an Azure subscription. When you're completing Learn modules, most of the time a temporary subscription is created for you, which runs in an environment called the Learn sandbox. When you're working with your own applications and business needs, you need to create an Azure account, and a subscription will be created for you. After you've created an Azure account, you're free to create additional subscriptions. For example, your company might use a single Azure account for your business and separate subscriptions for development, marketing, and sales departments. After you've created an Azure subscription, you can start creating Azure resources within each subscription.\n",
        "\n",
        "<img src=\"https://learn.microsoft.com/en-us/training/wwl-azure/describe-core-architectural-components-of-azure/media/account-scope-levels-9ceb3abd.png\"\n",
        "     alt=\"Diagram showing the different levels of account scope\"\n",
        "     style=\"float: left; margin-right: 10px;\" />\n",
        "\n",
        "If you're new to Azure, you can sign up for a free account on the Azure website to start exploring at no cost to you. When you're ready, you can choose to upgrade your free account. You can also create a new subscription that enables you to start paying for Azure services you need beyond the limits of a free account.\n",
        "\n"
      ],
      "metadata": {
        "id": "Cznc0kR7zs0f"
      }
    },
    {
      "cell_type": "markdown",
      "source": [
        "## Create an Azure account\n",
        "You can purchase Azure access directly from Microsoft by signing up on the Azure website or through a Microsoft representative. You can also purchase Azure access through a Microsoft partner. Cloud Solution Provider partners offer a range of complete managed-cloud solutions for Azure.\n",
        "\n"
      ],
      "metadata": {
        "id": "7IGmD5ufzkhD"
      }
    },
    {
      "cell_type": "code",
      "source": [
        "from IPython.display import HTML\n",
        "\n",
        "# Embedding the video link using HTML iframe\n",
        "video_url = 'https://www.microsoft.com/en-us/videoplayer/embed/RWK1QU?postJsllMsg=true'\n",
        "embed_code = f'<iframe width=\"560\" height=\"315\" src=\"{video_url}\" frameborder=\"0\" allowfullscreen></iframe>'\n",
        "HTML(embed_code)"
      ],
      "metadata": {
        "colab": {
          "base_uri": "https://localhost:8080/",
          "height": 336
        },
        "id": "uXIfJcoS2xW4",
        "outputId": "5ca5d956-e000-4de7-a81e-c01ac8f45be9"
      },
      "execution_count": 4,
      "outputs": [
        {
          "output_type": "execute_result",
          "data": {
            "text/plain": [
              "<IPython.core.display.HTML object>"
            ],
            "text/html": [
              "<iframe width=\"560\" height=\"315\" src=\"https://www.microsoft.com/en-us/videoplayer/embed/RWK1QU?postJsllMsg=true\" frameborder=\"0\" allowfullscreen></iframe>"
            ]
          },
          "metadata": {},
          "execution_count": 4
        }
      ]
    },
    {
      "cell_type": "markdown",
      "source": [
        "## What is the Azure free account?\n",
        "The Azure free account includes:\n",
        "\n",
        "- Free access to popular Azure products for 12 months.\n",
        "- A credit to use for the first 30 days.\n",
        "- Access to more than 25 products that are always free.\n",
        "\n",
        "\n",
        "The [Azure free account](https://azure.microsoft.com/free) is an excellent way for new users to get started and explore. To sign up, you need a phone number, a credit card, and a Microsoft or GitHub account. The credit card information is used for identity verification only. You won't be charged for any services until you upgrade to a paid subscription.\n",
        "\n"
      ],
      "metadata": {
        "id": "wkNycSw324hN"
      }
    },
    {
      "cell_type": "markdown",
      "source": [
        "## What is the Azure free student account?\n",
        "The Azure free student account offer includes:\n",
        "\n",
        "- Free access to certain Azure services for 12 months.\n",
        "- A credit to use in the first 12 months.\n",
        "- Free access to certain software developer tools.\n",
        "\n",
        "The [Azure free student account](https://azure.microsoft.com/free/students/) is an offer for students that gives $100 credit and free developer tools. Also, you can sign up without a credit card.\n",
        "\n"
      ],
      "metadata": {
        "id": "cWPPIffY24dr"
      }
    },
    {
      "cell_type": "markdown",
      "source": [
        "## What is the Microsoft Learn sandbox?\n",
        "Many of the Learn exercises use a technology called the sandbox, which creates a temporary subscription that's added to your Azure account. This temporary subscription allows you to create Azure resources during a Learn module. Learn automatically cleans up the temporary resources for you after you've completed the module.\n",
        "\n",
        "When you're completing a Learn module, you're welcome to use your personal subscription to complete the exercises in a module. However, the sandbox is the preferred method to use because it allows you to create and test Azure resources at no cost to you.\n",
        "\n"
      ],
      "metadata": {
        "id": "J6-5x6t024bb"
      }
    },
    {
      "cell_type": "markdown",
      "source": [
        "## Next unit: Exercise - Explore the Learn sandbox\n",
        "\n"
      ],
      "metadata": {
        "id": "cubgHws724Zs"
      }
    },
    {
      "cell_type": "markdown",
      "source": [
        "# Unit 4 of 9\n",
        "\n"
      ],
      "metadata": {
        "id": "v9Rmqfae24Xs"
      }
    },
    {
      "cell_type": "markdown",
      "source": [
        "## Exercise - Explore the Learn sandbox\n",
        "In this exercise, you explore the Learn sandbox. You can interact with the Learn sandbox in three different ways. During exercises, you'll be provided for instructions for at least one of the methods below.\n",
        "\n",
        "You start by activating the Learn sandbox. Then, you’ll investigate each of the methods to work in the Learn sandbox.\n",
        "\n"
      ],
      "metadata": {
        "id": "rtm-r6zl24Vy"
      }
    },
    {
      "cell_type": "markdown",
      "source": [
        "## Activate the Learn Sandbox\n",
        "If you haven’t already, use the Activate sandbox button above to activate the Learn sandbox.\n",
        "\n",
        "If you receive a notice saying Microsoft Learn needs your permission to create Azure resource, use the Review permission button to review and accept the permissions. Once you approve the permissions, it may take a few minutes for the sandbox to activate.\n",
        "\n"
      ],
      "metadata": {
        "id": "rCrzNW94TG_H"
      }
    },
    {
      "cell_type": "markdown",
      "source": [
        "## Task 1: Use the PowerShell CLI\n",
        "Once the sandbox launches, half the screen will be in PowerShell command line interface (CLI) mode. If you’re familiar with PowerShell, you can manage your Azure environment using PowerShell commands.\n",
        "\n",
        "<img src=\"https://learn.microsoft.com/en-us/training/wwl-azure/describe-core-architectural-components-of-azure/media/sandbox-powershell-11569b2c.png\"\n",
        "     alt=\"Diagram showing the different levels of account scope\"\n",
        "     style=\"float: left; margin-right: 10px;\" />\n",
        "\n",
        "> Tip: You can tell you're in PowerShell mode by the PS before your directory on the command line.\n",
        "\n",
        "Use the PowerShell Get-date command to get the current date and time.\n",
        "\n",
        "``` PowerShell\n",
        "Get-date\n",
        "\n",
        "```\n",
        "\n",
        "Most Azure specific commands will start with the letters az. The Get-date command you just ran is a PowerShell specific command. Let's try an Azure command to check what version of the CLI you're using right now.\n",
        "```PowerShell\n",
        "az version\n",
        "```\n",
        "\n"
      ],
      "metadata": {
        "id": "1yph7OcdTG7q"
      }
    },
    {
      "cell_type": "markdown",
      "source": [
        "## Task 2: Use the BASH CLI\n",
        "If you’re more familiar with BASH, you can use BASH command instead by shifting to the BASH CLI.\n",
        "\n",
        "Enter bash to switch to the BASH CLI.\n",
        "\n",
        "```PowerShell\n",
        "bash\n",
        "\n",
        "```\n",
        "<img src=\"https://learn.microsoft.com/en-us/training/wwl-azure/describe-core-architectural-components-of-azure/media/sandbox-bash-363cf104.png\"\n",
        "     alt=\"Diagram showing the different levels of account scope\"\n",
        "     style=\"float: left; margin-right: 10px;\" />\n",
        "\n",
        "> Tip: You can tell you're in BASH mode by the username displayed on the command line. It will be your username@azure.\n",
        "\n",
        "Again, use the Get-date command to get the current date and time.\n",
        "``` Azure CLI\n",
        "Get-date\n",
        "```\n",
        "\n",
        "You received an error because Get-date is a PowerShell specific command.\n",
        "<img src=\"https://learn.microsoft.com/en-us/training/wwl-azure/describe-core-architectural-components-of-azure/media/sandbox-bash-date-8b20e391.png\"\n",
        "     alt=\"Diagram showing the different levels of account scope\"\n",
        "     style=\"float: left; margin-right: 10px;\" />\n",
        "\n",
        "Use the date command to get the current date and time.\n",
        "\n",
        "```Azure CLI\n",
        "date\n",
        "```\n",
        "\n",
        "Just like in the PowerShell mode of the CLI, you can use the letters az to start an Azure command in the BASH mode. Try to run an update to the CLI with az upgrade.\n",
        "```Azure CLI\n",
        "az upgrade\n",
        "```\n",
        "\n",
        "You can change back to PowerShell mode by entering pwsh on the BASH command line.\n"
      ],
      "metadata": {
        "id": "05VhLek9TG4K"
      }
    },
    {
      "cell_type": "markdown",
      "source": [
        "## Task 3: Use Azure CLI interactive mode\n",
        "Another way to interact is using the Azure CLI interactive mode. This changes CLI behavior to more closely resemble an integrated development environment (IDE). Interactive mode provides autocompletion, command descriptions, and even examples. If you’re unfamiliar with BASH and PowerShell, but want to use the command line, interactive mode may help you.\n",
        "\n",
        "Enter az interactive to enter interactive mode.\n",
        "```Azure CLI\n",
        "az interactive\n",
        "```\n",
        "\n",
        "Decide whether you wish to send telemetry data and enter YES or NO.\n",
        "\n",
        "You may have to wait a minute or two to allow the interactive mode to fully initialize. Then, enter the letter “a” and auto-completion should start to work. If auto-completion isn’t working, erase what you’ve entered, wait a bit longer, and try again.\n",
        "\n",
        "<img src=\"https://learn.microsoft.com/en-us/training/wwl-azure/describe-core-architectural-components-of-azure/media/azure-interactive-mode-c8421a2d.png\"\n",
        "     alt=\"Diagram showing the different levels of account scope\"\n",
        "     style=\"float: left; margin-right: 10px;\" />\n",
        "\n",
        "Once initialized, you can use the arrow keys or tab to help complete your commands. Interactive mode is set up specifically for Azure, so you don't need to enter az to start a command (but you can if you want to or are used to it). Try the upgrade or version commands again, but this time without az in front.\n",
        "```Azure CLI\n",
        "version\n",
        "```\n",
        "```Azure CLI\n",
        "upgrade\n",
        "```\n",
        "\n",
        "The commands should have worked the same as before, and given you the same results. Use the exit command to leave interactive mode.\n",
        "```Azure CLI\n",
        "exit\n",
        "```\n",
        "\n"
      ],
      "metadata": {
        "id": "2OTfuaxu24Tn"
      }
    },
    {
      "cell_type": "markdown",
      "source": [
        "## Task 4: Use the Azure portal\n",
        "You’ll also have the option of using the Azure portal during sandbox exercises. You need to use the link provided in the exercise to access the Azure portal. Using the provided link, instead of opening the portal yourself, ensures the correct subscription is used and the exercise remains free for you to complete.\n",
        "\n",
        "Sign in to the [Azure portal](https://portal.azure.com/learn.docs.microsoft.com) to check out the Azure web interface. Once in the portal, you can see all the services Azure has to offer as well as look around at resource groups and so on.\n",
        "\n"
      ],
      "metadata": {
        "id": "5KiKmzCSzkdi"
      }
    },
    {
      "cell_type": "markdown",
      "source": [
        "## Continue\n",
        "You're all set for now. We'll come back to this sandbox later in this module and actually create an Azure resource!\n",
        "\n"
      ],
      "metadata": {
        "id": "eQJOF3jHVu22"
      }
    },
    {
      "cell_type": "markdown",
      "source": [
        "## Azure Cloud Shell\n",
        "\n",
        "This module requires a sandbox to complete. A [sandbox](https://learn.microsoft.com/en-us/training/support/faq?pivots=sandbox) gives you access to Azure resources. Your Azure subscription will not be charged. The sandbox may only be used to complete training on Microsoft Learn. Use for any other reason is prohibited, and may result in permanent loss of access to the sandbox.\n",
        "\n",
        "Microsoft provides this lab experience and related content for educational purposes. All presented information is owned by Microsoft and intended solely for learning about the covered products and services in this Microsoft Learn module."
      ],
      "metadata": {
        "id": "Z7dHTSr-4a6Q"
      }
    },
    {
      "cell_type": "markdown",
      "source": [
        "## Next unit: Describe Azure physical infrastructure\n",
        "\n"
      ],
      "metadata": {
        "id": "SAvt2iTrV0R8"
      }
    },
    {
      "cell_type": "markdown",
      "source": [
        "# Unit 5 of 9\n",
        "\n"
      ],
      "metadata": {
        "id": "jMHuo5_3V2DA"
      }
    },
    {
      "cell_type": "code",
      "execution_count": null,
      "metadata": {
        "id": "SGS8kQYgzg1u"
      },
      "outputs": [],
      "source": []
    }
  ]
}