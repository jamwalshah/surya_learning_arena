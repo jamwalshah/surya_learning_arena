{
  "nbformat": 4,
  "nbformat_minor": 0,
  "metadata": {
    "colab": {
      "provenance": [],
      "toc_visible": true
    },
    "kernelspec": {
      "name": "python3",
      "display_name": "Python 3"
    },
    "language_info": {
      "name": "python"
    }
  },
  "cells": [
    {
      "cell_type": "markdown",
      "source": [
        "# M01.02 Introduction to Azure Data Lake Storage Gen2\n",
        "\n"
      ],
      "metadata": {
        "id": "VfGGdRWLqXwX"
      }
    },
    {
      "cell_type": "markdown",
      "source": [
        "## Unit 1 of 8\n",
        "\n"
      ],
      "metadata": {
        "id": "uztdHTAxqXt_"
      }
    },
    {
      "cell_type": "markdown",
      "source": [
        "### Introduction\n",
        "\n",
        "Many organizations have spent the last two decades building data warehouses and business intelligence (BI) solutions based on relational database systems. Many BI solutions have lost out on opportunities to store unstructured data due to cost and complexity in these types of data in databases.\n",
        "\n",
        "Data lakes have become a common solution to this problem. A data lake provides file-based storage, usually in a distributed file system that supports high scalability for massive volumes of data. Organizations can store structured, semi-structured, and unstructured files in the data lake and then consume them from there in big data processing technologies, such as Apache Spark.\n",
        "\n",
        "Azure Data Lake Storage Gen2 provides a cloud-based solution for data lake storage in Microsoft Azure, and underpins many large-scale analytics solutions built on Azure.\n",
        "\n"
      ],
      "metadata": {
        "id": "JWAccsfeqXrg"
      }
    },
    {
      "cell_type": "markdown",
      "source": [
        "### Next unit: Understand Azure Data Lake Storage Gen2\n",
        "\n"
      ],
      "metadata": {
        "id": "kaT3CdlbqXpL"
      }
    },
    {
      "cell_type": "markdown",
      "source": [
        "## Unit 2 of 8\n",
        "\n"
      ],
      "metadata": {
        "id": "5xsNS3mqqXms"
      }
    },
    {
      "cell_type": "markdown",
      "source": [
        "### Understand Azure Data Lake Storage Gen2\n",
        "\n",
        "A data lake is a repository of data that is stored in its natural format, usually as blobs or files. Azure Data Lake Storage is a comprehensive, massively scalable, secure, and cost-effective data lake solution for high performance analytics built into Azure.\n",
        "\n",
        "![Diagram representing files in Azure data Lake Storage Gen2 being accessed by big data technologies.](https://learn.microsoft.com/en-us/training/data-ai-cert/introduction-to-azure-data-lake-storage/media/azure-data-lake-gen-2.png)\n",
        "\n",
        "Azure Data Lake Storage combines a file system with a storage platform to help you quickly identify insights into your data. Data Lake Storage builds on Azure Blob storage capabilities to optimize it specifically for analytics workloads. This integration enables analytics performance, the tiering and data lifecycle management capabilities of Blob storage, and the high-availability, security, and durability capabilities of Azure Storage.\n",
        "\n"
      ],
      "metadata": {
        "id": "xK8lOo8PqXkU"
      }
    },
    {
      "cell_type": "markdown",
      "source": [
        "#### Benefits\n",
        "\n",
        "Data Lake Storage is designed to deal with this variety and volume of data at exabyte scale while securely handling hundreds of gigabytes of throughput. With this, you can use Data Lake Storage Gen2 as the basis for both real-time and batch solutions.\n",
        "\n"
      ],
      "metadata": {
        "id": "c0ohceEdqXiD"
      }
    },
    {
      "cell_type": "markdown",
      "source": [
        "##### Hadoop compatible access\n",
        "\n",
        "A benefit of Data Lake Storage is that you can treat the data as if it's stored in a Hadoop Distributed File System (HDFS). With this feature, you can store the data in one place and access it through compute technologies including Azure Databricks, Azure HDInsight, and Azure Synapse Analytics without moving the data between environments. The data engineer also has the ability to use storage mechanisms such as the parquet format, which is highly compressed and performs well across multiple platforms using an internal columnar storage.\n",
        "\n"
      ],
      "metadata": {
        "id": "6MasdCFyqXfw"
      }
    },
    {
      "cell_type": "markdown",
      "source": [
        "##### Security\n",
        "\n",
        "Data Lake Storage supports access control lists (ACLs) and Portable Operating System Interface (POSIX) permissions that don't inherit the permissions of the parent directory. In fact, you can set permissions at a directory level or file level for the data stored within the data lake, providing a much more secure storage system. This security is configurable through technologies such as Hive and Spark or utilities such as Azure Storage Explorer, which runs on Windows, macOS, and Linux. All data that is stored is encrypted at rest by using either Microsoft or customer-managed keys.\n",
        "\n"
      ],
      "metadata": {
        "id": "z3RIOof7qXd5"
      }
    },
    {
      "cell_type": "markdown",
      "source": [
        "##### Performance\n",
        "\n",
        "Azure Data Lake Storage organizes the stored data into a hierarchy of directories and subdirectories, much like a file system, for easier navigation. As a result, data processing requires less computational resources, reducing both the time and cost.\n",
        "\n"
      ],
      "metadata": {
        "id": "if0b4K7-qXbs"
      }
    },
    {
      "cell_type": "markdown",
      "source": [
        "##### Data redundancy\n",
        "\n",
        "Data Lake Storage takes advantage of the Azure Blob replication models that provide data redundancy in a single data center with locally redundant storage (LRS), or to a secondary region by using the Geo-redundant storage (GRS) option. This feature ensures that your data is always available and protected if catastrophe strikes.\n",
        "\n",
        "> **Tip:**\\\n",
        "> Whenever planning for a data lake, a data engineer should give thoughtful consideration to structure, data governance, and security. This should include consideration of factors that can influence lake structure and organization, such as:\n",
        "    > - Types of data to be stored\n",
        "    > - How the data will be transformed\n",
        "    > - Who should access the data\n",
        "    > - What are the typical access patterns\n",
        "> This approach will help determine how to plan for access control governance across your lake. Data engineers should be proactive in ensuring that the lake doesn't become the proverbial data swamp which becomes inaccessible and non-useful to users due to the lack of data governance and data quality measures. Establishing a baseline and following best practices for Azure Data Lake will help ensure a proper and robust implementation that will allow the organization to grow and gain insight to achieve more.\n",
        "\n"
      ],
      "metadata": {
        "id": "UOB6YUaWqXZY"
      }
    },
    {
      "cell_type": "markdown",
      "source": [
        "### Next unit: Enable Azure Data Lake Storage Gen2 in Azure Storage\n",
        "\n"
      ],
      "metadata": {
        "id": "YZaFcynYqXXU"
      }
    },
    {
      "cell_type": "markdown",
      "source": [
        "## Unit 3 of 8\n",
        "\n"
      ],
      "metadata": {
        "id": "6tZSvS-oqXVI"
      }
    },
    {
      "cell_type": "markdown",
      "source": [
        "### Enable Azure Data Lake Storage Gen2 in Azure Storage\n",
        "\n",
        "Azure Data Lake Storage Gen2 isn't a standalone Azure service, but rather a configurable capability of a **StorageV2 (General Purpose V2)** Azure Storage.\n",
        "\n",
        "To enable Azure Data Lake Storage Gen2 in an Azure Storage account, you can select the option to **Enable hierarchical namespace** in the **Advanced** page when creating the storage account in the Azure portal:\n",
        "\n",
        "![Screenshot of Advanced Settings for Creating Storage Account.](https://learn.microsoft.com/en-us/training/data-ai-cert/introduction-to-azure-data-lake-storage/media/3-create-storage-account-advanced.png)\n",
        "\n",
        "Alternatively, if you already have an Azure Storage account and want to enable the Azure data Lake Storage Gen2 capability, you can use the **Data Lake Gen2 upgrade** wizard in the Azure portal page for your storage account resource.\n",
        "\n",
        "![Screenshot of Advanced Settings for Creating Storage Account.](https://learn.microsoft.com/en-us/training/data-ai-cert/introduction-to-azure-data-lake-storage/media/3-data-lake-upgrade.png)\n",
        "\n"
      ],
      "metadata": {
        "id": "eE0rTmwGqXS_"
      }
    },
    {
      "cell_type": "markdown",
      "source": [
        "### Next unit: Compare Azure Data Lake Store to Azure Blob storage\n",
        "\n"
      ],
      "metadata": {
        "id": "CMdki5icqXQ1"
      }
    },
    {
      "cell_type": "markdown",
      "source": [
        "## Unit 4 of 8\n",
        "\n"
      ],
      "metadata": {
        "id": "Ij_RD4RbqXOs"
      }
    },
    {
      "cell_type": "markdown",
      "source": [
        "### Compare Azure Data Lake Store to Azure Blob storage\n",
        "\n",
        "In Azure Blob storage, you can store large amounts of unstructured (\"object\") data in a flat namespace within a blob container. Blob names can include \"/\" characters to organize blobs into virtual \"folders\", but in terms of blob manageability the blobs are stored as a single-level hierarchy in a flat namespace.\n",
        "\n",
        "![A diagram of a blob store with a flat namespace.](https://learn.microsoft.com/en-us/training/data-ai-cert/introduction-to-azure-data-lake-storage/media/blob-store.png)\n",
        "\n",
        "You can access this data by using HTTP or HTTPs\n",
        "\n",
        "Azure Data Lake Storage Gen2 builds on blob storage and optimizes I/O of high-volume data by using a hierarchical namespace that organizes blob data into *directories*, and stores metadata about each directory and the files within it. This structure allows operations, such as directory renames and deletes, to be performed in a single atomic operation. Flat namespaces, by contrast, require several operations proportionate to the number of objects in the structure. Hierarchical namespaces keep the data organized, which yields better storage and retrieval performance for an analytical use case and lowers the cost of analysis.\n",
        "\n",
        "![A diagram of a blob store with a hierarchical namespace.](https://learn.microsoft.com/en-us/training/data-ai-cert/introduction-to-azure-data-lake-storage/media/data-lake.png)\n",
        "\n",
        "> Tip:\\\n",
        "> If you want to store data *without performing analysis on the data*, set the **Hierarchical Namespace** option to **Disabled** to set up the storage account as an Azure Blob storage account. You can also use blob storage to archive rarely used data or to store website assets such as images and media.\\\n",
        "> If you are performing analytics on the data, set up the storage account as an Azure Data Lake Storage Gen2 account by setting the **Hierarchical Namespace** option to **Enabled**. Because Azure Data Lake Storage Gen2 is integrated into the Azure Storage platform, applications can use either the Blob APIs or the Azure Data Lake Storage Gen2 file system APIs to access data.\n",
        "\n"
      ],
      "metadata": {
        "id": "iN0Q1qPHqXMf"
      }
    },
    {
      "cell_type": "markdown",
      "source": [
        "### Next unit: Understand the stages for processing big data\n",
        "\n"
      ],
      "metadata": {
        "id": "Xi3u24rtqXKI"
      }
    },
    {
      "cell_type": "markdown",
      "source": [
        "## Unit 5 of 8\n",
        "\n"
      ],
      "metadata": {
        "id": "_J03ZwhYqXIN"
      }
    },
    {
      "cell_type": "markdown",
      "source": [
        "### Understand the stages for processing big data\n",
        "\n",
        "Data lakes have a fundamental role in a wide range of big data architectures. These architectures can involve the creation of:\n",
        "\n",
        "- An enterprise data warehouse.\n",
        "- Advanced analytics against big data.\n",
        "- A real-time analytical solution.\n",
        "\n",
        "There are four stages for processing big data solutions that are common to all architectures:\n",
        "\n",
        "- **Ingest** - The ingestion phase identifies the technology and processes that are used to acquire the source data. This data can come from files, logs, and other types of unstructured data that must be put into the data lake. The technology that is used will vary depending on the frequency that the data is transferred. For example, for batch movement of data, pipelines in Azure Synapse Analytics or Azure Data Factory may be the most appropriate technology to use. For real-time ingestion of data, Apache Kafka for HDInsight or Stream Analytics may be an appropriate choice.\n",
        "- **Store** - The store phase identifies where the ingested data should be placed. Azure Data Lake Storage Gen2 provides a secure and scalable storage solution that is compatible with commonly used big data processing technologies.\n",
        "- **Prep and train** - The prep and train phase identifies the technologies that are used to perform data preparation and model training and scoring for machine learning solutions. Common technologies that are used in this phase are Azure Synapse Analytics, Azure Databricks, Azure HDInsight, and Azure Machine Learning.\n",
        "- **Model and serve** - Finally, the model and serve phase involves the technologies that will present the data to users. These technologies can include visualization tools such as Microsoft Power BI, or analytical data stores such as Azure Synapse Analytics. Often, a combination of multiple technologies will be used depending on the business requirements.\n",
        "\n"
      ],
      "metadata": {
        "id": "5VVOtZu_qXGJ"
      }
    },
    {
      "cell_type": "markdown",
      "source": [
        "### Next unit: Use Azure Data Lake Storage Gen2 in data analytics workloads\n",
        "\n"
      ],
      "metadata": {
        "id": "hDlw66juqXD6"
      }
    },
    {
      "cell_type": "markdown",
      "source": [
        "## Unit 6 of 8\n",
        "\n"
      ],
      "metadata": {
        "id": "ujWolorZqXBy"
      }
    },
    {
      "cell_type": "markdown",
      "source": [
        "### Use Azure Data Lake Storage Gen2 in data analytics workloads\n",
        "\n",
        "Azure Data Lake Store Gen2 is an enabling technology for multiple data analytics use cases. Let's explore a few common types of analytical workload, and identify how Azure Data Lake Storage Gen2 works with other Azure services to support them.\n",
        "\n"
      ],
      "metadata": {
        "id": "zaC5UUffqW_2"
      }
    },
    {
      "cell_type": "markdown",
      "source": [
        "#### Big data processing and analytics\n",
        "\n",
        "![Diagram of Azure Data Lake Storage Gen2 being accessed from Azure Synapse Analytics, Azure Databricks, and Azure HDInsight.](https://learn.microsoft.com/en-us/training/data-ai-cert/introduction-to-azure-data-lake-storage/media/big-data.png)\n",
        "\n",
        "Big data scenarios usually refer to analytical workloads that involve massive *volumes* of data in a *variety* of formats that needs to be processed at a fast *velocity* - the so-called \"three v's\". Azure Data Lake Storage Gen 2 provides a scalable and secure distributed data store on which big data services such as Azure Synapse Analytics, Azure Databricks, and Azure HDInsight can apply data processing frameworks such as Apache Spark, Hive, and Hadoop. The distributed nature of the storage and the processing compute enables tasks to be performed in parallel, resulting in high-performance and scalability even when processing huge amounts of data.\n",
        "\n"
      ],
      "metadata": {
        "id": "tWpCOB7OqW9t"
      }
    },
    {
      "cell_type": "markdown",
      "source": [
        "#### Data warehousing\n",
        "\n",
        "![Diagram of Azure Data Lake Storage Gen2 being used to support a data warehousing solution in Azure Synapse Analytics.](https://learn.microsoft.com/en-us/training/data-ai-cert/introduction-to-azure-data-lake-storage/media/data-warehouse.png)\n",
        "\n",
        "Data warehousing has evolved in recent years to integrate large volumes of data stored as files in a data lake with relational tables in a data warehouse. In a typical example of a data warehousing solution, data is extracted from operational data stores, such as Azure SQL database or Azure Cosmos DB, and transformed into structures more suitable for analytical workloads. Often, the data is staged in a data lake in order to facilitate distributed processing before being loaded into a relational data warehouse. In some cases, the data warehouse uses *external* tables to define a relational metadata layer over files in the data lake and create a hybrid \"data lakehouse\" or \"lake database\" architecture. The data warehouse can then support analytical queries for reporting and visualization.\n",
        "\n",
        "There are multiple ways to implement this kind of data warehousing architecture. The diagram shows a solution in which Azure Synapse Analytics hosts *pipelines* to perform *extract, transform, and load* (ETL) processes using Azure Data Factory technology. These processes extract data from operational data sources and load it into a data lake hosted in an Azure Data Lake Storage Gen2 container. The data is then processed and loaded into a relational data warehouse in an Azure Synapse Analytics dedicated SQL pool, from where it can support data visualization and reporting using Microsoft Power BI.\n",
        "\n"
      ],
      "metadata": {
        "id": "qvGVIpv0qW7y"
      }
    },
    {
      "cell_type": "markdown",
      "source": [
        "#### Real-time data analytics\n",
        "\n",
        "![Diagram of Azure Data Lake Storage Gen2 being used to store the results of real-time data processing in Azure Stream Analytics.](https://learn.microsoft.com/en-us/training/data-ai-cert/introduction-to-azure-data-lake-storage/media/real-time-analytics.png)\n",
        "\n",
        "Increasingly, businesses and other organizations need to capture and analyze perpetual streams of data, and analyze it in real-time (or as near to real-time as possible). These streams of data can be generated from connected devices (often referred to as *internet-of-things* or *IoT* devices) or from data generated by users in social media platforms or other applications. Unlike traditional *batch processing* workloads, streaming data requires a solution that can capture and process a boundless stream of data events as they occur.\n",
        "\n",
        "Streaming events are often captured in a queue for processing. There are multiple technologies you can use to perform this task, including Azure Event Hubs as shown in the image. From here, the data is processed, often to aggregate data over temporal windows (for example to count the number of social media messages with a given tag every five minutes, or to calculate the average reading of an Internet connected sensor per minute). Azure Stream Analytics enables you to create *jobs* that query and aggregate event data as it arrives, and write the results in an output *sink*. One such sink is Azure Data Lake Storage Gen2; from where the captured real-time data can be analyzed and visualized.\n",
        "\n"
      ],
      "metadata": {
        "id": "fu86jgKt0j1R"
      }
    },
    {
      "cell_type": "markdown",
      "source": [
        "#### Data science and machine learning\n",
        "\n",
        "![Diagram of Azure Data Lake Storage Gen2 being used as a source for Azure Machine Learning.](https://learn.microsoft.com/en-us/training/data-ai-cert/introduction-to-azure-data-lake-storage/media/machine-learning.png)\n",
        "\n",
        "Data science involves the statistical analysis of large volumes of data, often using tools such as Apache Spark and scripting languages such as Python. Azure Data Lake Storage Gen 2 provides a highly scalable cloud-based data store for the volumes of data required in data science workloads.\n",
        "\n",
        "Machine learning is a subarea of data science that deals with training predictive models. Model training requires huge amounts of data, and the ability to process that data efficiently. Azure Machine Learning is a cloud service in which data scientists can run Python code in notebooks using dynamically allocated distributed compute resources. The compute processes data in Azure Data Lake Storage Gen2 containers to train models, which can then be deployed as production web services to support predictive analytical workloads.\n",
        "\n"
      ],
      "metadata": {
        "id": "onKwpX9K0jzR"
      }
    },
    {
      "cell_type": "markdown",
      "source": [
        "### Next unit: Knowledge check\n",
        "\n"
      ],
      "metadata": {
        "id": "bq2Vw1hz0jw6"
      }
    },
    {
      "cell_type": "markdown",
      "source": [
        "## Unit 7 of 8\n",
        "\n"
      ],
      "metadata": {
        "id": "aUiisKYX0jup"
      }
    },
    {
      "cell_type": "markdown",
      "source": [
        "### Knowledge check\n",
        "\n"
      ],
      "metadata": {
        "id": "LNR5cv850jsh"
      }
    },
    {
      "cell_type": "markdown",
      "source": [
        "#### Check your knowledge\n",
        "\n",
        "1. Azure Data Lake Storage Gen2 stores data in…\n",
        "\n",
        "    - ☐ A document database hosted in Azure Cosmos DB.\n",
        "    - ☑ An HDFS-compatible file system hosted in Azure Storage.\n",
        "    > That's correct. Azure Data Lake Storage Gen2 stores data in an HDFS compatible file system in an Azure Storage blob container.\n",
        "    - ☐ A relational data warehouse hosted in Azure Synapse Analytics.\n",
        "\n",
        "2. What option must you enable to use Azure Data Lake Storage Gen2?\n",
        "\n",
        "    - ☐ Global replication\n",
        "    - ☐ Data encryption\n",
        "    - ☑ Hierarchical namespace\n",
        "    > That's correct. To enable Azure Data Lake Storage Gen2 containers, you must turn on the Hierarchical namespace option.\n",
        "\n"
      ],
      "metadata": {
        "id": "7EE7SrnM0jqS"
      }
    },
    {
      "cell_type": "markdown",
      "source": [
        "### Next unit: Summary\n",
        "\n"
      ],
      "metadata": {
        "id": "_dBe8xVF0joN"
      }
    },
    {
      "cell_type": "markdown",
      "source": [
        "## Unit 8 of 8\n"
      ],
      "metadata": {
        "id": "HyesFpyZ0jl-"
      }
    },
    {
      "cell_type": "markdown",
      "source": [
        "### Summary\n",
        "\n",
        "Azure Data Lake Storage Gen2 provides a cloud storage service that is available, secure, durable, scalable, and redundant. It's a comprehensive data lake solution.\n",
        "\n",
        "Azure Data Lake Storage brings efficiencies to process big data analytics workloads and can provide data to many compute technologies including Azure Synapse Analytics, Azure HDInsight, and Azure Databricks without needing to move the data around. Creating an Azure Data Lake Storage Gen2 data store can be an important tool in building a big data analytics solution.\n",
        "\n",
        "> **Tip:** To learn more about Azure Data Lake Storage Gen2, see [Introduction to Azure Data Lake Storage Gen2](https://learn.microsoft.com/en-us/azure/storage/blobs/data-lake-storage-introduction) in the Microsoft Azure documentation.\n",
        "\n"
      ],
      "metadata": {
        "id": "1nBiVFcT0jfh"
      }
    },
    {
      "cell_type": "markdown",
      "source": [
        "### All units complete\n"
      ],
      "metadata": {
        "id": "SKSd4aBI0znW"
      }
    }
  ]
}