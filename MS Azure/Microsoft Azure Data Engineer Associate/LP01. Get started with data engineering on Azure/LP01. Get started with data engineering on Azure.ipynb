{
  "nbformat": 4,
  "nbformat_minor": 0,
  "metadata": {
    "colab": {
      "provenance": [],
      "toc_visible": true
    },
    "kernelspec": {
      "name": "python3",
      "display_name": "Python 3"
    },
    "language_info": {
      "name": "python"
    }
  },
  "cells": [
    {
      "cell_type": "markdown",
      "source": [
        "# Get started with data engineering on Azure\n",
        "\n",
        "2 hr 13 min • Learning Path • 3 modules\n",
        "\n",
        "`Intermediate` `Data Engineer` `Azure Data Lake Storage` `Azure Synapse Analytics`\n",
        "\n"
      ],
      "metadata": {
        "id": "C_IfYt6HskbO"
      }
    },
    {
      "cell_type": "markdown",
      "source": [
        "In most organizations, a data engineer is the primary role responsible for integrating, transforming, and consolidating data from various structured and unstructured data systems into structures that are suitable for building analytics solutions. An Azure data engineer also helps ensure that data pipelines and data stores are high-performing, efficient, organized, and reliable, given a specific set of business requirements and constraints.\n",
        "\n"
      ],
      "metadata": {
        "id": "DbcQn1ykskyK"
      }
    },
    {
      "cell_type": "markdown",
      "source": [
        "## Prerequisites\n",
        "\n",
        "Before starting this learning path, you should have completed the [Microsoft Azure Data Fundamentals certification](https://learn.microsoft.com/en-us/certifications/azure-data-fundamentals/) or have equivalent knowledge and experience.\n",
        "\n"
      ],
      "metadata": {
        "id": "Z_5NkevIsk0a"
      }
    },
    {
      "cell_type": "markdown",
      "source": [
        "## Modules in this learning path\n",
        "\n"
      ],
      "metadata": {
        "id": "SyetiE92tTes"
      }
    },
    {
      "cell_type": "markdown",
      "source": [
        "### Introduction to data engineering on Azure\n",
        "\n",
        "21 min • Module • 6 Units\n",
        "\n",
        "Microsoft Azure provides a comprehensive platform for data engineering; but what is data engineering? Complete this module to find out.\n",
        "\n"
      ],
      "metadata": {
        "id": "tlyViKmjtTb1"
      }
    },
    {
      "cell_type": "markdown",
      "source": [
        "### Introduction to Azure Data Lake Storage Gen2\n",
        "\n",
        "30 min • Module • 8 Units\n",
        "\n",
        "Data lakes are a core element of data analytics architectures. Azure Data Lake Storage Gen2 provides a scalable, secure, cloud-based solution for data lake storage.\n",
        "\n"
      ],
      "metadata": {
        "id": "9wg1Lnrtsk2u"
      }
    },
    {
      "cell_type": "markdown",
      "source": [
        "### Introduction to Azure Synapse Analytics\n",
        "\n",
        "1 hr 22 min • Module • 7 Units\n",
        "\n",
        "Learn about the features and capabilities of Azure Synapse Analytics - a cloud-based platform for big data processing and analysis.\n",
        "\n"
      ],
      "metadata": {
        "id": "JceSCV5Isk-u"
      }
    }
  ]
}