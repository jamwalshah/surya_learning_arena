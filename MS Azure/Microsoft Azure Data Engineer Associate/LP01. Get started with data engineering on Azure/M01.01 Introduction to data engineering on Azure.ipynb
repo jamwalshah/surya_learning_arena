{
  "nbformat": 4,
  "nbformat_minor": 0,
  "metadata": {
    "colab": {
      "provenance": [],
      "toc_visible": true
    },
    "kernelspec": {
      "name": "python3",
      "display_name": "Python 3"
    },
    "language_info": {
      "name": "python"
    }
  },
  "cells": [
    {
      "cell_type": "markdown",
      "source": [
        "# M01.01 Introduction to data engineering on Azure\n",
        "\n"
      ],
      "metadata": {
        "id": "qoxfgUkGuotQ"
      }
    },
    {
      "cell_type": "markdown",
      "source": [
        "## Unit 1 of 6\n",
        "\n"
      ],
      "metadata": {
        "id": "_8zrlLU1uorB"
      }
    },
    {
      "cell_type": "markdown",
      "source": [
        "### Introduction\n",
        "\n",
        "In most organizations, a data engineer is the primary role responsible for integrating, transforming, and consolidating data from various structured and unstructured data systems into structures that are suitable for building analytics solutions. An Azure data engineer also helps ensure that data pipelines and data stores are high-performing, efficient, organized, and reliable, given a specific set of business requirements and constraints.\n",
        "\n"
      ],
      "metadata": {
        "id": "rG2S5PNcuoox"
      }
    },
    {
      "cell_type": "markdown",
      "source": [
        "### Next unit: What is data engineering\n",
        "\n"
      ],
      "metadata": {
        "id": "g5MMKsnzuomo"
      }
    },
    {
      "cell_type": "markdown",
      "source": [
        "## Unit 2 of 6\n",
        "\n"
      ],
      "metadata": {
        "id": "GDR9_WKeuokg"
      }
    },
    {
      "cell_type": "markdown",
      "source": [
        "### What is data engineering\n",
        "\n",
        "The data engineer will often work with multiple types of data to perform many operations using many scripting or coding languages that are appropriate to their individual organization.\n",
        "\n"
      ],
      "metadata": {
        "id": "GDjMvKdYuoiQ"
      }
    },
    {
      "cell_type": "markdown",
      "source": [
        "#### Types of data\n",
        "\n",
        "There are three primary types of data that a data engineer will work with.\n",
        "\n",
        "| Structured | Semi-structured | Unstructured |\n",
        "| :-- | :-- | :-- |\n",
        "| ![Diagram of Structured data type.](https://learn.microsoft.com/en-us/training/wwl-data-ai/introduction-to-data-engineering-azure/media/2-structured-data.png)| ![Diagram of Semi-structured data type.](https://learn.microsoft.com/en-us/training/wwl-data-ai/introduction-to-data-engineering-azure/media/2-semi-structured-data.png) | ![Diagram of Unstructured data type.](https://learn.microsoft.com/en-us/training/wwl-data-ai/introduction-to-data-engineering-azure/media/2-unstructured-data.png) |\n",
        "| Structured data primarily comes from table-based source systems such as a relational database or from a flat file such as a comma separated (CSV) file. The primary element of a structured file is that the rows and columns are aligned consistently throughout the file. | Semi-structured data is data such as JavaScript object notation (JSON) files, which may require flattening prior to loading into your source system. When flattened, this data doesn't have to fit neatly into a table structure. | Unstructured data includes data stored as key-value pairs that don't adhere to standard relational models and Other types of unstructured data that are commonly used include portable data format (PDF), word processor documents, and images. |\n",
        "\n"
      ],
      "metadata": {
        "id": "LjCkTr46uogR"
      }
    },
    {
      "cell_type": "markdown",
      "source": [
        "#### Data operations\n",
        "\n",
        "As a data engineer some of the main tasks that you'll perform in Azure include *data integration*, *data transformation*, and *data consolidation*.\n",
        "\n"
      ],
      "metadata": {
        "id": "Zs_TYa_ZyvdX"
      }
    },
    {
      "cell_type": "markdown",
      "source": [
        "##### Data integration\n",
        "\n",
        "![Diagram representing a data integration operation.](https://learn.microsoft.com/en-us/training/wwl-data-ai/introduction-to-data-engineering-azure/media/2-integration-data-operation.png)\n",
        "\n",
        "Data Integration involves establishing links between operational and analytical services and data sources to enable secure, reliable access to data across multiple systems. For example, a business process might rely on data that is spread across multiple systems, and a data engineer is required to establish links so that the required data can be extracted from all of these systems.\n",
        "\n"
      ],
      "metadata": {
        "id": "V8U8hQVFyvbV"
      }
    },
    {
      "cell_type": "markdown",
      "source": [
        "##### Data transformation\n",
        "\n",
        "![Diagram representing a data transformation operation.](https://learn.microsoft.com/en-us/training/wwl-data-ai/introduction-to-data-engineering-azure/media/2-transformation-data-operation.png)\n",
        "\n",
        "Operational data usually needs to be *transformed* into suitable structure and format for analysis, often as part of an *extract, transform, and load* (ETL) process; though increasingly a variation in which you *extract, load, and transform* (ELT) the data is used to quickly ingest the data into a data lake and then apply \"big data\" processing techniques to transform it. Regardless of the approach used, the data is prepared to support downstream analytical needs.\n",
        "\n"
      ],
      "metadata": {
        "id": "h4SaXWbjyvZU"
      }
    },
    {
      "cell_type": "markdown",
      "source": [
        "##### Data consolidation\n",
        "\n",
        "![Diagram representing a data consolidation operation.](https://learn.microsoft.com/en-us/training/wwl-data-ai/introduction-to-data-engineering-azure/media/2-consolidation-data-operation.png)\n",
        "\n",
        "Data consolidation is the process of combining data that has been extracted from multiple data sources into a consistent structure - usually to support analytics and reporting. Commonly, data from operational systems is extracted, transformed, and loaded into analytical stores such as a data lake or data warehouse.\n",
        "\n"
      ],
      "metadata": {
        "id": "unvJxQkWyvVY"
      }
    },
    {
      "cell_type": "markdown",
      "source": [
        "#### Common languages\n",
        "\n",
        "Data Engineers must be proficient with a range of tools and scripting languages - in particular SQL and Python, and potentially others.\n",
        "\n",
        "- **SQL** - One of the most common languages data engineers use is SQL, or Structured Query Language, which is a relatively easy language to learn. SQL uses queries that include SELECT, INSERT, UPDATE, and DELETE statements to directly work with the data stored in tables.\n",
        "\n",
        "- **Python** - Python is one of the most popular and fastest growing programming languages in the world. It's used for all sorts of tasks, including web programming and data analysis. It has emerged as the language to learn for machine learning, and is increasing in popularity in data engineering with the use of notebooks.\n",
        "\n",
        "- **Others** - Depending upon the needs of the organization and your individual skill set, you may also use other popular languages within or outside of notebooks including R, Java, Scala, .NET, and more. The use of notebooks is growing in popularity, and allows collaboration using different languages within the same notebook.\n",
        "\n"
      ],
      "metadata": {
        "id": "GkZGjXoxyvTh"
      }
    },
    {
      "cell_type": "markdown",
      "source": [
        "### Next unit: Important data engineering concepts\n",
        "\n"
      ],
      "metadata": {
        "id": "FxvKQs1PyvRU"
      }
    },
    {
      "cell_type": "markdown",
      "source": [
        "## Unit 3 of 6\n"
      ],
      "metadata": {
        "id": "fhS_OW8IyvPX"
      }
    },
    {
      "cell_type": "markdown",
      "source": [
        "### Important data engineering concepts\n",
        "\n",
        "There are some core concepts with which data engineers should be familiar. These concepts underpin many of the workloads that data engineers must implement and support.\n",
        "\n"
      ],
      "metadata": {
        "id": "J_q3QaUu2rXo"
      }
    },
    {
      "cell_type": "markdown",
      "source": [
        "#### Operational and analytical data\n",
        "\n",
        "![Diagram representing operational and analytical data.](https://learn.microsoft.com/en-us/training/wwl-data-ai/introduction-to-data-engineering-azure/media/4-operational-analytical-data.png)\n",
        "\n",
        "*Operational* data is usually transactional data that is generated and stored by applications, often in a relational or non-relational database. *Analytical* data is data that has been optimized for analysis and reporting, often in a data warehouse.\n",
        "\n",
        "One of the core responsibilities of a data engineer is to design, implement, and manage solutions that integrate operational and analytical data sources or extract operational data from multiple systems, transform it into appropriate structures for analytics, and load it into an analytical data store (usually referred to as ETL solutions).\n",
        "\n"
      ],
      "metadata": {
        "id": "BxoMjzZn2rVe"
      }
    },
    {
      "cell_type": "markdown",
      "source": [
        "#### Streaming data\n",
        "\n",
        "![Diagram representing streaming data.](https://learn.microsoft.com/en-us/training/wwl-data-ai/introduction-to-data-engineering-azure/media/4-stream-data.png)\n",
        "\n",
        "Streaming data refers to perpetual sources of data that generate data values in real-time, often relating to specific events. Common sources of streaming data include internet-of-things (IoT) devices and social media feeds.\n",
        "\n",
        "Data engineers often need to implement solutions that capture real-time stream of data and ingest them into analytical data systems, often combining the real-time data with other application data that is processed in batches.\n",
        "\n"
      ],
      "metadata": {
        "id": "rXn7xsM92rTX"
      }
    },
    {
      "cell_type": "markdown",
      "source": [
        "#### Data pipelines\n",
        "\n",
        "![Diagram representing a data pipeline.](https://learn.microsoft.com/en-us/training/wwl-data-ai/introduction-to-data-engineering-azure/media/4-data-pipeline.png)\n",
        "\n",
        "Data pipelines are used to orchestrate activities that transfer and transform data. Pipelines are the primary way in which data engineers implement repeatable extract, transform, and load (ETL) solutions that can be triggered based on a schedule or in response to events.\n",
        "\n"
      ],
      "metadata": {
        "id": "f4vMqMRX2rRa"
      }
    },
    {
      "cell_type": "markdown",
      "source": [
        "#### Data lakes\n",
        "\n",
        "![Diagram representing a data lake.](https://learn.microsoft.com/en-us/training/wwl-data-ai/introduction-to-data-engineering-azure/media/4-data-lake.png)\n",
        "\n",
        "A data lake is a storage repository that holds large amounts of data in native, raw formats. Data lake stores are optimized for scaling to massive volumes (terabytes or petabytes) of data. The data typically comes from multiple heterogeneous sources, and may be structured, semi-structured, or unstructured.\n",
        "\n",
        "The idea with a data lake is to store everything in its original, untransformed state. This approach differs from a traditional data warehouse, which transforms and processes the data at the time of ingestion.\n",
        "\n"
      ],
      "metadata": {
        "id": "lF_PlvRy2rPH"
      }
    },
    {
      "cell_type": "markdown",
      "source": [
        "#### Data warehouses\n",
        "\n",
        "![Diagram representing a data Warehouse.](https://learn.microsoft.com/en-us/training/wwl-data-ai/introduction-to-data-engineering-azure/media/4-data-warehouse.png)\n",
        "\n",
        "A data warehouse is a centralized repository of integrated data from one or more disparate sources. Data warehouses store current and historical data in relational tables that are organized into a schema that optimizes performance for analytical queries.\n",
        "\n",
        "Data engineers are responsible for designing and implementing relational data warehouses, and managing regular data loads into tables.\n",
        "\n"
      ],
      "metadata": {
        "id": "bnxz4Hlq2rNB"
      }
    },
    {
      "cell_type": "markdown",
      "source": [
        "#### Apache Spark\n",
        "\n",
        "![Diagram representing an Apache Spark cluster.](https://learn.microsoft.com/en-us/training/wwl-data-ai/introduction-to-data-engineering-azure/media/4-apache-spark.png)\n",
        "\n",
        "Apache Spark is a parallel processing framework that takes advantage of in-memory processing and a distributed file storage. It's a common open-source software (OSS) tool for big data scenarios.\n",
        "\n",
        "Data engineers need to be proficient with Spark, using notebooks and other code artifacts to process data in a data lake and prepare it for modeling and analysis.\n",
        "\n"
      ],
      "metadata": {
        "id": "02DbZwBF2rK8"
      }
    },
    {
      "cell_type": "markdown",
      "source": [
        "### Next unit: Data engineering in Microsoft Azure\n",
        "\n"
      ],
      "metadata": {
        "id": "5ZbHTsmR2rI-"
      }
    },
    {
      "cell_type": "markdown",
      "source": [
        "## Unit 4 of 6\n",
        "\n"
      ],
      "metadata": {
        "id": "YhaJ6lpa2rG4"
      }
    },
    {
      "cell_type": "markdown",
      "source": [
        "### Data engineering in Microsoft Azure\n",
        "\n",
        "![Diagram of the flow of a typical enterprise data analytics solution.](https://learn.microsoft.com/en-us/training/wwl-data-ai/introduction-to-data-engineering-azure/media/3-data-engineering-azure.png)\n",
        "\n",
        "Microsoft Azure includes many services that can be used to implement and manage data engineering workloads.\n",
        "\n",
        "The diagram displays the flow from left to right of a typical enterprise data analytics solution, including some of the key Azure services that may be used. Operational data is generated by applications and devices and stored in Azure data storage services such as Azure SQL Database, Azure Cosmos DB, and Microsoft Dataverse. Streaming data is captured in event broker services such as Azure Event Hubs.\n",
        "\n",
        "This operational data must be captured, ingested, and consolidated into analytical stores; from where it can be modeled and visualized in reports and dashboards. These tasks represent the core area of responsibility for the data engineer. The core Azure technologies used to implement data engineering workloads include:\n",
        "\n",
        "- Azure Synapse Analytics\n",
        "- Azure Data Lake Storage Gen2\n",
        "- Azure Stream Analytics\n",
        "- Azure Data Factory\n",
        "- Azure Databricks\n",
        "\n",
        "The analytical data stores that are populated with data produced by data engineering workloads support data modeling and visualization for reporting and analysis, often using sophisticated visualization tools such as Microsoft Power BI.\n",
        "\n"
      ],
      "metadata": {
        "id": "_ruKAT2A2rFB"
      }
    },
    {
      "cell_type": "markdown",
      "source": [
        "### Next unit: Knowledge check\n",
        "\n"
      ],
      "metadata": {
        "id": "oBbtc0Th2rDB"
      }
    },
    {
      "cell_type": "markdown",
      "source": [
        "## Unit 5 of 6\n",
        "\n"
      ],
      "metadata": {
        "id": "NGaLB_9e2rAu"
      }
    },
    {
      "cell_type": "markdown",
      "source": [
        "### Knowledge check\n",
        "\n",
        "Choose the best response for each of the questions.\n",
        "\n",
        "1. Data in a relational database table is…\n",
        "\n",
        "    - ☑ Structured\n",
        "    > asa\n",
        "    - ☐ Semi-structured\n",
        "    - ☐ Unstructured\n",
        "\n",
        "2. In a data lake, data is stored in?\n",
        "\n",
        "    - Relational tables\n",
        "    - Files\n",
        "    - A single JSON document\n",
        "\n",
        "3. Which of the following Azure services provides capabilities for running data pipelines AND managing analytical data in a data lake or relational data warehouse?\n",
        "\n",
        "    - Azure Stream Analytics\n",
        "    - Azure Synapse Analytics\n",
        "    - Azure Databricks\n",
        "\n"
      ],
      "metadata": {
        "id": "Hod8rneSyvNm"
      }
    },
    {
      "cell_type": "markdown",
      "source": [
        "### Next unit: Summary\n",
        "\n"
      ],
      "metadata": {
        "id": "S8Vhmds3yvLo"
      }
    },
    {
      "cell_type": "markdown",
      "source": [
        "## Unit 6 of 6\n",
        "\n"
      ],
      "metadata": {
        "id": "h_5WPgV1uoeN"
      }
    },
    {
      "cell_type": "markdown",
      "source": [],
      "metadata": {
        "id": "yX87ob_h3fDY"
      }
    },
    {
      "cell_type": "markdown",
      "source": [],
      "metadata": {
        "id": "cHeIZqUa3fAi"
      }
    },
    {
      "cell_type": "markdown",
      "source": [],
      "metadata": {
        "id": "xArURm4h3e-D"
      }
    },
    {
      "cell_type": "markdown",
      "source": [],
      "metadata": {
        "id": "Eo_E-P933e75"
      }
    },
    {
      "cell_type": "markdown",
      "source": [],
      "metadata": {
        "id": "ny6pFY7e3e5t"
      }
    }
  ]
}