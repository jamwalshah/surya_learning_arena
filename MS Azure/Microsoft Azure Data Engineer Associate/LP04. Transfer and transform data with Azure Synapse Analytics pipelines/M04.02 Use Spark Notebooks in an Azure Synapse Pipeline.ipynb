{
  "nbformat": 4,
  "nbformat_minor": 0,
  "metadata": {
    "colab": {
      "provenance": [],
      "toc_visible": true
    },
    "kernelspec": {
      "name": "python3",
      "display_name": "Python 3"
    },
    "language_info": {
      "name": "python"
    }
  },
  "cells": [
    {
      "cell_type": "markdown",
      "source": [
        "# M04.02 Use Spark Notebooks in an Azure Synapse Pipeline\n",
        "\n"
      ],
      "metadata": {
        "id": "xIa9sXjDDAoP"
      }
    },
    {
      "cell_type": "markdown",
      "source": [
        "## Unit 1 of 7\n",
        "\n"
      ],
      "metadata": {
        "id": "Rb6kyN0bPovL"
      }
    },
    {
      "cell_type": "markdown",
      "source": [
        "### Introduction\n",
        "\n",
        "With Azure Synapse Analytics pipelines, you can orchestrate data transfer and transformation activities and build data integration solutions across multiple systems. When you're working with analytical data in a data lake, Apache Spark provides a scalable, distributed processing platform that you can use to process huge volumes of data efficiently.\n",
        "\n",
        "The **Synapse Notebook** activity enables you to run data processing code in Spark notebooks as a task in a pipeline; making it possible to automate big data processing and integrate it into *extract, transform, and load* (ETL) workloads.\n",
        "\n"
      ],
      "metadata": {
        "id": "BM0LmKRsPos7"
      }
    },
    {
      "cell_type": "markdown",
      "source": [
        "### Next unit: Understand Synapse Notebooks and Pipelines\n",
        "\n"
      ],
      "metadata": {
        "id": "P6sGkTvdPoqj"
      }
    },
    {
      "cell_type": "markdown",
      "source": [
        "## Unit 2 of 7\n",
        "\n"
      ],
      "metadata": {
        "id": "os8TpoZjPooP"
      }
    },
    {
      "cell_type": "markdown",
      "source": [
        "### Understand Synapse Notebooks and Pipelines\n",
        "\n",
        "Azure Synapse Pipelines enable you to create, run, and manage data integration and data flow activities. While many of these activities are built-into the Azure Synapse Pipeline platform and run natively in the integration runtime for your pipeline, you can also use external processing resources to perform specific tasks. One such external resource is an Apache Spark pool in your Azure Synapse Analytics workspace on which you can run code in a notebook.\n",
        "\n",
        "![Diagram of a pipeline activity running a Spark notebook.](https://learn.microsoft.com/en-us/training/wwl-data-ai/use-spark-notebooks-azure-synapse-pipeline/media/spark-notebook.png)\n",
        "\n",
        "It's common in big data analytics solutions for data engineers to use Spark notebooks for initial data exploration and interactive experimentation when designing data transformation processes. When the transformation logic has been completed, you can perform some final code optimization and refactoring for maintainability, and then include the notebook in a pipeline. The pipeline can then be run on a schedule or in response to an event (such as new data files being loaded into the data lake).\n",
        "\n",
        "The notebook is run on a Spark pool, which you can configure with the appropriate compute resources and Spark runtime for your specific workload. The pipeline itself is run in an integration runtime that orchestrates the activities in the pipeline, coordinating the external services needed to run them.\n",
        "\n",
        "> **Tip:** There are several best practices that can help make working with Spark notebooks more efficient and effective. Some of these include:\n",
        ">\n",
        "> - Keep your code organized: Use clear and descriptive variable and function names, and organize your code into small, reusable chunks.\n",
        "> - Cache intermediate results: Spark allows you to cache intermediate results, which can significantly speed up the performance of your notebook.\n",
        "> - Avoid unnecessary computations: Be mindful of the computations you are performing and try to avoid unnecessary steps. For example, if you only need a subset of your data, filter it out before running any further computations.\n",
        "> - Avoid using collect() unless necessary: When working with large datasets, it is often better to perform operations on the entire dataset rather than bringing the data into the driver node using the collect() method.\n",
        "> - Use Spark UI for monitoring and debugging: Spark's web-based user interface (UI) provides detailed information about the performance of your Spark jobs, including task execution times, input and output data sizes, and more.\n",
        "> - Keep your dependencies version-consistent and updated: when working with Spark, it is important to keep dependencies version-consistent across your cluster and to use the latest version of Spark and other dependencies if possible.\n",
        "\n"
      ],
      "metadata": {
        "id": "qql_brFwPolv"
      }
    },
    {
      "cell_type": "markdown",
      "source": [
        "### Next unit: Use a Synapse notebook activity in a pipeline\n",
        "\n"
      ],
      "metadata": {
        "id": "6gNcgQzDPojf"
      }
    },
    {
      "cell_type": "markdown",
      "source": [
        "## Unit 3 of 7\n",
        "\n"
      ],
      "metadata": {
        "id": "yqCVfXIOPohN"
      }
    },
    {
      "cell_type": "markdown",
      "source": [
        "### Use a Synapse notebook activity in a pipeline\n",
        "\n",
        "To run a Spark notebook in a pipeline, you must add a notebook activity and configure it appropriately. You'll find the **Notebook** activity in the **Synapse** section of the activities pane in the Azure Synapse Analytics pipeline designer.\n",
        "\n",
        "![Screenshot of the Azure Synapse Analytics pipeline designer with a Notebook activity.](https://learn.microsoft.com/en-us/training/wwl-data-ai/use-spark-notebooks-azure-synapse-pipeline/media/notebook-activity.png)\n",
        "\n",
        "> **Tip:** You can also add a notebook to a pipeline from within the notebook editor.\n",
        "\n",
        "To configure the notebook activity, edit the settings in the properties pane beneath the pipeline designer canvas. Notebook activity specific settings include:\n",
        "\n",
        "- **Notebook**: The notebook you want to run. You can select an existing notebook in your Azure Synapse Analytics workspace, or create a new one.\n",
        "- **Spark pool**: The Apache Spark pool on which the notebook should be run.\n",
        "- **Executor size**: The node size for the worker nodes in the pool, which determines the number of processor cores and the amount of memory allocated to worker nodes.\n",
        "- **Dynamically allocate executors**: Configures Spark dynamic allocation, enabling the pool to automatically scale up and down to support the workload.\n",
        "- **Min executors**: The minimum number of executors to be allocated.\n",
        "- **Max executors**: The maximum number of executors to be allocated.\n",
        "- **Driver size**: The node size for the driver node.\n",
        "\n"
      ],
      "metadata": {
        "id": "OPwlenlBPoe0"
      }
    },
    {
      "cell_type": "markdown",
      "source": [
        "### Next unit: Use parameters in a notebook\n",
        "\n"
      ],
      "metadata": {
        "id": "16DGyDE7PocV"
      }
    },
    {
      "cell_type": "markdown",
      "source": [
        "## Unit 4 of 7\n",
        "\n"
      ],
      "metadata": {
        "id": "436grX6PPoaQ"
      }
    },
    {
      "cell_type": "markdown",
      "source": [
        "### Use parameters in a notebook\n",
        "\n",
        "Parameters enable you to dynamically pass values for variables in the notebook each time it's run. This approach provides flexibility, enabling you to adjust the logic encapsulated in the notebook for each run.\n",
        "\n"
      ],
      "metadata": {
        "id": "D9TbC_8gPoX5"
      }
    },
    {
      "cell_type": "markdown",
      "source": [
        "#### Create a *parameters* cell in the notebook\n",
        "\n",
        "To define the parameters for a notebook, you declare and initialize variables in a cell, which you then configure as a **Parameters** cell by using the toggle option in the notebook editor interface.\n",
        "\n",
        "![Screenshot of a parameters cell in a notebook.](https://learn.microsoft.com/en-us/training/wwl-data-ai/use-spark-notebooks-azure-synapse-pipeline/media/parameters-cell.png)\n",
        "\n",
        "Initializing a variable ensures that it has a default value, which will be used if the parameter isn't set in the notebook activity.\n",
        "\n"
      ],
      "metadata": {
        "id": "1q1v9vo1PoVt"
      }
    },
    {
      "cell_type": "markdown",
      "source": [
        "#### Set *base parameters* for the notebook activity\n",
        "\n",
        "After defining a parameters cell in the notebook, you can set values to be used when the notebook is run by a notebook activity in a pipeline. To set parameter values, expand and edit the **Base parameters** section of the settings for the activity.\n",
        "\n",
        "![Screenshot of the base parameters settings for a notebook activity.](https://learn.microsoft.com/en-us/training/wwl-data-ai/use-spark-notebooks-azure-synapse-pipeline/media/base-parameters.png)\n",
        "\n",
        "You can assign explicit parameter values, or use an expression to assign a dynamic value. For example, the expression `@pipeline().RunId` returns the unique identifier for the current run of the pipeline.\n",
        "\n"
      ],
      "metadata": {
        "id": "gWubVV-UPoTZ"
      }
    },
    {
      "cell_type": "markdown",
      "source": [
        "### Next unit: Exercise - Use an Apache Spark notebook in a pipeline\n",
        "\n"
      ],
      "metadata": {
        "id": "9QoDnYRePoRJ"
      }
    },
    {
      "cell_type": "markdown",
      "source": [
        "## Unit 5 of 7\n",
        "\n"
      ],
      "metadata": {
        "id": "E7X-GetNPoO1"
      }
    },
    {
      "cell_type": "markdown",
      "source": [
        "### Exercise - Use an Apache Spark notebook in a pipeline\n",
        "\n",
        "Now it's your chance to integrate spark into an Azure Synapse Analytics pipeline. In this exercise, you'll create a pipeline that includes a notebook activity, and configure parameters for the notebook.\n",
        "\n",
        "> **Note:** To complete this lab, you will need an [Azure subscription](https://azure.microsoft.com/free) in which you have administrative access.\n",
        "\n",
        "Launch the exercise and follow the instructions.\n",
        "\n",
        "[Launch Exercise](https://aka.ms/mslearn-spark-synapse-pipeline)\n",
        "\n"
      ],
      "metadata": {
        "id": "5WATFMSdPoMh"
      }
    },
    {
      "cell_type": "markdown",
      "source": [
        "### Next unit: Knowledge check\n",
        "\n"
      ],
      "metadata": {
        "id": "ipmMlKnTPoKN"
      }
    },
    {
      "cell_type": "markdown",
      "source": [
        "## Unit 6 of 7\n",
        "\n"
      ],
      "metadata": {
        "id": "xQ_Ii04qPoH1"
      }
    },
    {
      "cell_type": "markdown",
      "source": [
        "### Knowledge check\n",
        "\n"
      ],
      "metadata": {
        "id": "wPRLZ1GnPoFd"
      }
    },
    {
      "cell_type": "markdown",
      "source": [
        "#### Check your knowledge\n",
        "\n",
        "1. What kind of pool is required to run a Synapse notebook in a pipeline?\n",
        "\n",
        "    - ☐ A Dedicated SQL pool\n",
        "    - ☐ A Data Explorer pool\n",
        "    - ☑ An Apache Spark pool\n",
        "    > Correct: Notebooks are run in an Apache Spark pool.\n",
        "\n",
        "2. What kind of pipeline activity encapsulates a Synapse notebook?\n",
        "\n",
        "    - ☑ Notebook activity\n",
        "    > Correct: Use a Notebook activity to run a Synapse notebook\n",
        "    - ☐ HDInsight Spark activity\n",
        "    - ☐ Script activity\n",
        "\n",
        "3. A notebook cell contains variable declarations. How can you use them as parameters?\n",
        "\n",
        "    - ☐ Add a %%Spark magic at the beginning of the cell\n",
        "    - ☑ Toggle the Parameters cell setting for the cell\n",
        "    > Correct: Toggle the Parameters cell option to use variables as parameters.\n",
        "    - ☐ Use the var keyword for each variable declaration\n",
        "\n"
      ],
      "metadata": {
        "id": "ZiBmbx_ZPoDV"
      }
    },
    {
      "cell_type": "markdown",
      "source": [
        "### Next unit: Summary\n",
        "\n"
      ],
      "metadata": {
        "id": "bQfDPQWePoAx"
      }
    },
    {
      "cell_type": "markdown",
      "source": [
        "## Unit 7 of 7\n",
        "\n"
      ],
      "metadata": {
        "id": "YM3IEvvzPn-5"
      }
    },
    {
      "cell_type": "markdown",
      "source": [
        "### Summary\n",
        "\n",
        "Apache Spark offers data engineers a powerful platform for transforming and processing data. The ability to include Spark notebooks in a pipeline enables you to automate Spark processing and integrate it into a data integration workflow.\n",
        "\n",
        "> **Tip:** To learn more about using Spark notebooks in an Azure Synapse Analytics pipeline, see [Transform data by running a Synapse notebook](https://learn.microsoft.com/en-us/azure/synapse-analytics/synapse-notebook-activity) in the Azure Synapse Analytics documentation.\n",
        "\n"
      ],
      "metadata": {
        "id": "mTvRo3KcPn8d"
      }
    },
    {
      "cell_type": "markdown",
      "source": [
        "### All units complete\n",
        "\n"
      ],
      "metadata": {
        "id": "8urqU9xaPn6B"
      }
    }
  ]
}