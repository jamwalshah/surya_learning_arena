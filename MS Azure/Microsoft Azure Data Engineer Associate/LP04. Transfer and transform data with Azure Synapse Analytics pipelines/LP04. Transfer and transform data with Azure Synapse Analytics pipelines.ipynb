{
  "nbformat": 4,
  "nbformat_minor": 0,
  "metadata": {
    "colab": {
      "provenance": [],
      "toc_visible": true
    },
    "kernelspec": {
      "name": "python3",
      "display_name": "Python 3"
    },
    "language_info": {
      "name": "python"
    }
  },
  "cells": [
    {
      "cell_type": "markdown",
      "source": [
        "# LP04. Transfer and transform data with Azure Synapse Analytics pipelines\n",
        "\n",
        "1 hr 59 min • Learning Path • 2 modules\n",
        "\n",
        "`Intermediate` `Data Engineer` `Azure Synapse Analytics`\n",
        "\n",
        "Azure Synapse Analytics enables data integration through the use of pipelines, which you can use to automate and orchestrate data transfer and transformation activities.\n",
        "\n"
      ],
      "metadata": {
        "id": "Sl3_itrc0j-w"
      }
    },
    {
      "cell_type": "markdown",
      "source": [
        "## Prerequisites\n",
        "\n",
        "Before starting this learning path, you should be familiar with Azure Synapse Analytics. Consider completing the [Introduction to Azure Synapse Analytics](https://learn.microsoft.com/en-us/training/modules/introduction-azure-synapse-analytics) module first.\n",
        "\n"
      ],
      "metadata": {
        "id": "-dGqfZLh0j8M"
      }
    },
    {
      "cell_type": "markdown",
      "source": [
        "## Modules in this learning path\n",
        "\n"
      ],
      "metadata": {
        "id": "E6wkgZ0z0j50"
      }
    },
    {
      "cell_type": "markdown",
      "source": [
        "### Build a data pipeline in Azure Synapse Analytics\n",
        "\n",
        "1 hr 11 min • Module • 8 Units\n",
        "\n",
        "Pipelines are the lifeblood of a data analytics solution. Learn how to use Azure Synapse Analytics pipelines to build integrated data solutions that extract, transform, and load data across diverse systems.\n",
        "\n"
      ],
      "metadata": {
        "id": "1psaj6gy0j3b"
      }
    },
    {
      "cell_type": "markdown",
      "source": [
        "### Use Spark Notebooks in an Azure Synapse Pipeline\n",
        "\n",
        "48 min • Module • 8 Units\n",
        "\n",
        "Apache Spark provides data engineers with a scalable, distributed data processing platform, which can be integrated into an Azure Synapse Analytics pipeline.\n",
        "\n"
      ],
      "metadata": {
        "id": "-9vYEG3F0j1Y"
      }
    }
  ]
}