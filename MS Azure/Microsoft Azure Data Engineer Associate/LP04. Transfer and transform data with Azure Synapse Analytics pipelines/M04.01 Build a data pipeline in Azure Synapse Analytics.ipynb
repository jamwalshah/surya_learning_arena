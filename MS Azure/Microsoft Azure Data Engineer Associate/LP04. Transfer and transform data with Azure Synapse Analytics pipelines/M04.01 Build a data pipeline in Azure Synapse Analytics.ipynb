{
  "nbformat": 4,
  "nbformat_minor": 0,
  "metadata": {
    "colab": {
      "provenance": [],
      "toc_visible": true
    },
    "kernelspec": {
      "name": "python3",
      "display_name": "Python 3"
    },
    "language_info": {
      "name": "python"
    }
  },
  "cells": [
    {
      "cell_type": "markdown",
      "source": [
        "# M04.01 Build a data pipeline in Azure Synapse Analytics\n",
        "\n"
      ],
      "metadata": {
        "id": "yGjr9PdA7n7j"
      }
    },
    {
      "cell_type": "markdown",
      "source": [
        "## Unit 1 of 8\n",
        "\n"
      ],
      "metadata": {
        "id": "rENuB0ms7n4_"
      }
    },
    {
      "cell_type": "markdown",
      "source": [
        "### Introduction\n",
        "\n",
        "With the wide range of data stores available in Azure, there's the need to manage and orchestrate the movement data between them. In fact, you'll usually want to automate *extract, transform, and load* (ETL) workloads as a regular process in a wider enterprise analytical solution. *Pipelines* are a mechanism for defining and orchestrating data movement activities. In this module, you'll be introduced to Azure Synapse Analytics pipelines, their component parts, and how to implement and run a pipeline in Azure Synapse Studio.\n",
        "\n",
        "> **Note:** Azure Synapse Analytics pipelines are built on the same technology as Azure Data Factory, and offer a similar authoring experience. The authoring processes described in this module are also applicable to Azure Data Factory. For a detailed discussion of the differences between Azure Synapse Analytics pipelines and Azure Data Factory, see [Data integration in Azure Synapse Analytics versus Azure Data Factory](https://learn.microsoft.com/en-us/azure/synapse-analytics/data-integration/concepts-data-factory-differences).\n",
        "\n"
      ],
      "metadata": {
        "id": "cz8FJhbV7n2I"
      }
    },
    {
      "cell_type": "markdown",
      "source": [
        "### Next unit: Understand pipelines in Azure Synapse Analytics\n",
        "\n"
      ],
      "metadata": {
        "id": "buhpGnNx7nvH"
      }
    },
    {
      "cell_type": "markdown",
      "source": [
        "## Unit 2 of 8\n",
        "\n"
      ],
      "metadata": {
        "id": "ZCQ2KN8t7nsz"
      }
    },
    {
      "cell_type": "markdown",
      "source": [
        "### Understand pipelines in Azure Synapse Analytics\n",
        "\n",
        "Pipelines in Azure Synapse Analytics encapsulate a sequence of *activities* that perform data movement and processing tasks. You can use a pipeline to define data transfer and transformation activities, and orchestrate these activities through control flow activities that manage branching, looping, and other typical processing logic. The graphical design tools in Azure Synapse Studio enable you to build complex pipelines with minimal or no coding required.\n",
        "\n"
      ],
      "metadata": {
        "id": "NjfSdsee7npr"
      }
    },
    {
      "cell_type": "markdown",
      "source": [
        "#### Core pipeline concepts\n",
        "\n",
        "Before building pipelines in Azure Synapse Analytics, you should understand a few core concepts.\n",
        "\n",
        "![A diagram showing a pipeline with datasets, an integration runtime, linked services, and datasets.](https://learn.microsoft.com/en-us/training/wwl-azure/build-data-pipeline-azure-synapse-analytics/media/pipeline-concepts.png)\n",
        "\n"
      ],
      "metadata": {
        "id": "AIlLw5g47nnA"
      }
    },
    {
      "cell_type": "markdown",
      "source": [
        "##### Activities\n",
        "\n",
        "Activities are the executable tasks in a pipeline. You can define a flow of activities by connecting them in a sequence. The outcome of a particular activity (success, failure, or completion) can be used to direct the flow to the next activity in the sequence.\n",
        "\n",
        "Activities can encapsulate data transfer operations, including simple data copy operations that extract data from a source and load it to a target (or *sink*), as well as more complex data flows that apply transformations to the data as part of an *extract, transfer, and load* (ETL) operation. Additionally, there are activities that encapsulate processing tasks on specific systems, such as running a Spark notebook or calling an Azure function. Finally, there are *control flow* activities that you can use to implement loops, conditional branching, or manage variable and parameter values.\n",
        "\n"
      ],
      "metadata": {
        "id": "qGps2SCK7nkH"
      }
    },
    {
      "cell_type": "markdown",
      "source": [
        "##### Integration runtime\n",
        "\n",
        "The pipeline requires compute resources and an execution context in which to run. The pipeline's *integration runtime* provides this context, and is used to initiate and coordinate the activities in the pipeline.\n",
        "\n"
      ],
      "metadata": {
        "id": "8q3sZnQr7nhU"
      }
    },
    {
      "cell_type": "markdown",
      "source": [
        "##### Linked services\n",
        "\n",
        "While many of the activities are run directly in the integration runtime for the pipeline, some activities depend on external services. For example, a pipeline might include an activity to run a notebook in Azure Databricks or to call a stored procedure in Azure SQL Database. To enable secure connections to the external services used by your pipelines, you must define *linked services* for them.\n",
        "\n",
        "> **Note:** Linked services are defined at the Azure Synapse Analytics workspace level, and can be shared across multiple pipelines.\n",
        "\n"
      ],
      "metadata": {
        "id": "TphbmWoM7neT"
      }
    },
    {
      "cell_type": "markdown",
      "source": [
        "##### Datasets\n",
        "\n",
        "Most pipelines process data, and the specific data that is consumed and produced by activities in a pipeline is defined using *datasets*. A dataset defines the schema for each data object that will be used in the pipeline, and has an associated linked service to connect to its source. Activities can have datasets as inputs or outputs.\n",
        "\n",
        "> **Note:** Similarly to linked services, datasets are defined at the Azure Synapse Analytics workspace level, and can be shared across multiple pipelines.\n",
        "\n"
      ],
      "metadata": {
        "id": "8CYiED-V7nbf"
      }
    },
    {
      "cell_type": "markdown",
      "source": [
        "### Next unit: Create a pipeline in Azure Synapse Studio\n",
        "\n"
      ],
      "metadata": {
        "id": "_p0x3d4_7nYj"
      }
    },
    {
      "cell_type": "markdown",
      "source": [
        "## Unit 3 of 8\n",
        "\n"
      ],
      "metadata": {
        "id": "btM23ISl7nVt"
      }
    },
    {
      "cell_type": "markdown",
      "source": [
        "### Create a pipeline in Azure Synapse Studio\n",
        "\n",
        "You can create a pipeline in Azure Synapse Studio by using shortcuts on the **Home** page, but the primary place where pipelines are created and managed is the **Integrate** page.\n",
        "\n",
        "When you create a pipeline in Azure Synapse Studio, you can use the graphical design interface.\n",
        "\n",
        "![Screenshot of the pipeline designer in Azure Synapse Studio.](https://learn.microsoft.com/en-us/training/wwl-azure/build-data-pipeline-azure-synapse-analytics/media/pipeline-designer.png)\n",
        "\n",
        "The pipeline designer includes a set of activities, organized into categories, which you can drag onto a visual design canvas. You can select each activity on the canvas and use the properties pane beneath the canvas to configure the settings for that activity.\n",
        "\n",
        "To define the logical sequence of activities, you can connect them by using the **Succeeded**, **Failed**, and **Completed** dependency conditions, which are shown as small icons on the right-hand edge of each activity.\n",
        "\n"
      ],
      "metadata": {
        "id": "grHGVLl97nTM"
      }
    },
    {
      "cell_type": "markdown",
      "source": [
        "#### Defining a pipeline with JSON\n",
        "\n",
        "While the graphical development environment is the preferred way to create a pipeline, you can also create or edit the underlying JSON definition of a pipeline. The following code example shows the JSON definition of a pipeline that includes a **Copy Data** activity:\n",
        "\n",
        "```python\n",
        "{\n",
        "  \"name\": \"CopyPipeline\",\n",
        "  \"properties\": {\n",
        "    \"description\": \"Copy data from a blob to Azure SQL table\",\n",
        "    \"activities\": [\n",
        "      {\n",
        "        \"name\": \"CopyFromBlobToSQL\",\n",
        "        \"type\": \"Copy\",\n",
        "        \"inputs\": [\n",
        "          {\n",
        "            \"name\": \"InputDataset\"\n",
        "          }\n",
        "        ],\n",
        "        \"outputs\": [\n",
        "          {\n",
        "            \"name\": \"OutputDataset\"\n",
        "          }\n",
        "        ],\n",
        "        \"typeProperties\": {\n",
        "          \"source\": {\n",
        "            \"type\": \"BlobSource\"\n",
        "          },\n",
        "          \"sink\": {\n",
        "            \"type\": \"SqlSink\",\n",
        "            \"writeBatchSize\": 10000,\n",
        "            \"writeBatchTimeout\": \"60:00:00\"\n",
        "          }\n",
        "        },\n",
        "        \"policy\": {\n",
        "          \"retry\": 2,\n",
        "          \"timeout\": \"01:00:00\"\n",
        "        }\n",
        "      }\n",
        "    ]\n",
        "  }\n",
        "}\n",
        "```\n",
        "\n"
      ],
      "metadata": {
        "id": "mv6ZjeKS7nQL"
      }
    },
    {
      "cell_type": "markdown",
      "source": [
        "### Next unit: Define data flows\n",
        "\n"
      ],
      "metadata": {
        "id": "tpjnDpwj7nNS"
      }
    },
    {
      "cell_type": "markdown",
      "source": [
        "## Unit 4 of 8\n",
        "\n"
      ],
      "metadata": {
        "id": "upiMRKVL7nKh"
      }
    },
    {
      "cell_type": "markdown",
      "source": [
        "### Define data flows\n",
        "\n",
        "A **Data Flow** is a commonly used activity type to define data flow and transformation. Data flows consist of:\n",
        "\n",
        "- **Sources** - The input data to be transferred.\n",
        "- **Transformations** – Various operations that you can apply to data as it streams through the data flow.\n",
        "- **Sinks** – Targets into which the data will be loaded.\n",
        "\n",
        "When you add a **Data Flow** activity to a pipeline, you can open it in a separate graphical design interface in which to create and configure the required data flow elements.\n",
        "\n",
        "![Screenshot of the graphical designer for a Data Flow activity.](https://learn.microsoft.com/en-us/training/wwl-azure/build-data-pipeline-azure-synapse-analytics/media/data-flow-designer.png)\n",
        "\n",
        "An important part of creating a data flow is to define mappings for the columns as the data flows through the various stages, ensuring column names and data types are defined appropriately. While developing a data flow, you can enable the **Data flow debug** option to pass a subset of data through the flow, which can be useful to test that your columns are mapped correctly.\n",
        "\n",
        "> **Tip:** To learn more about implementing a **Data Flow** activity, see [Data Flow activity in Azure Data Factory and Azure Synapse Analytics](https://learn.microsoft.com/en-us/azure/data-factory/control-flow-execute-data-flow-activity) in the Azure documentation.\n",
        "\n"
      ],
      "metadata": {
        "id": "jJxTGSZ17nHr"
      }
    },
    {
      "cell_type": "markdown",
      "source": [
        "### Next unit: Run a pipeline\n",
        "\n"
      ],
      "metadata": {
        "id": "PtnCpnjN7nFC"
      }
    },
    {
      "cell_type": "markdown",
      "source": [
        "## Unit 5 of 8\n",
        "\n"
      ],
      "metadata": {
        "id": "G28axzKp7nCR"
      }
    },
    {
      "cell_type": "markdown",
      "source": [
        "### Run a pipeline\n",
        "\n",
        "When you’re ready, you can publish a pipeline and use a trigger to run it. Triggers can be defined to run the pipeline:\n",
        "\n",
        "- Immediately\n",
        "- At explicitly scheduled intervals\n",
        "- In response to an event, such as new data files being added to a folder in a data lake.\n",
        "\n",
        "You can monitor each individual run of a pipeline in the **Monitor** page in Azure Synapse Studio.\n",
        "\n",
        "![Screenshot of the Monitor page in Azure Synapse Studio showing pipeline runs.](https://learn.microsoft.com/en-us/training/wwl-azure/build-data-pipeline-azure-synapse-analytics/media/monitor-pipelines.png)\n",
        "\n",
        "The ability to monitor past and ongoing pipeline runs is useful for troubleshooting purposes. Additionally, when combined with the ability to integrate Azure Synapse Analytics and Microsoft Purview, you can use pipeline run history to track data lineage data flows.\n",
        "\n",
        "> **Tip:** To learn more about integration between Azure Synapse Analytics and Microsoft Purview, consider completing the [Integrate Microsoft Purview and Azure Synapse Analytics](https://learn.microsoft.com/en-us/training/modules/integrate-microsoft-purview-azure-synapse-analytics) module.\n",
        "\n"
      ],
      "metadata": {
        "id": "j8reUFw37m_t"
      }
    },
    {
      "cell_type": "markdown",
      "source": [
        "### Next unit: Exercise - Build a data pipeline in Azure Synapse Analytics\n",
        "\n"
      ],
      "metadata": {
        "id": "TS1aZxGa7m7V"
      }
    },
    {
      "cell_type": "markdown",
      "source": [
        "## Unit 6 of 8\n",
        "\n"
      ],
      "metadata": {
        "id": "KKlHWvjf7m5G"
      }
    },
    {
      "cell_type": "markdown",
      "source": [
        "### Exercise - Build a data pipeline in Azure Synapse Analytics\n",
        "\n",
        "Now it's your chance to build an Azure Synapse Analytics pipeline. In this exercise, you'll implement a run an Azure Synapse Analytics pipeline that transfers and transforms data.\n",
        "\n",
        "> **Note:** To complete this lab, you will need an [Azure subscription](https://azure.microsoft.com/free) in which you have administrative access.\n",
        "\n",
        "Launch the exercise and follow the instructions.\n",
        "\n",
        "[Launch Exercise](https://aka.ms/mslearn-build-synapse-pipeline)\n",
        "\n"
      ],
      "metadata": {
        "id": "JEGYF8tg7m2d"
      }
    },
    {
      "cell_type": "markdown",
      "source": [
        "### Next unit: Knowledge check\n",
        "\n"
      ],
      "metadata": {
        "id": "QIFHLUUt7m0B"
      }
    },
    {
      "cell_type": "markdown",
      "source": [
        "## Unit 7 of 8\n",
        "\n"
      ],
      "metadata": {
        "id": "DtKlNG377mxR"
      }
    },
    {
      "cell_type": "markdown",
      "source": [
        "### Knowledge check\n",
        "\n",
        "1. What does a pipeline use to access external data source and processing resources?\n",
        "\n",
        "    - ☐ Data Explorer pools\n",
        "    - ☑ Linked services\n",
        "    > Correct. Linked services encapsulate connections to external services.\n",
        "    - ☐ External tables\n",
        "\n",
        "2. What kind of object should you add to a data flow to define a target to which data is loaded?\n",
        "\n",
        "    - ☐ Source\n",
        "    - ☐ Transformation\n",
        "    - ☑ Sink\n",
        "    > Correct. A sink represents a target in a data flow.\n",
        "\n",
        "3. What must you create to run a pipeline at scheduled intervals?\n",
        "\n",
        "    - ☐ A control flow\n",
        "    - ☑ A trigger\n",
        "    > Correct. A trigger is used to initiate a pipeline run.\n",
        "    - ☐ An activity\n",
        "\n"
      ],
      "metadata": {
        "id": "sovFS-e-7mvC"
      }
    },
    {
      "cell_type": "markdown",
      "source": [
        "### Next unit: Summary\n",
        "\n"
      ],
      "metadata": {
        "id": "FVrwmWxE7mse"
      }
    },
    {
      "cell_type": "markdown",
      "source": [
        "## Unit 8 of 8\n",
        "\n"
      ],
      "metadata": {
        "id": "aDWZ9PS37mp9"
      }
    },
    {
      "cell_type": "markdown",
      "source": [
        "### Summary\n",
        "\n",
        "Azure Synapse Analytics provides data integration services through the creation of *pipelines*. By using pipelines, you can implement complex *extract, transform, and load* (ETL) solutions that support enterprise data analytics.\n",
        "\n",
        "> **Tip:** To learn more about developing and debugging pipelines, see [Iterative development and debugging with Azure Data Factory and Synapse Analytics pipelines](https://learn.microsoft.com/en-us/azure/data-factory/iterative-development-debugging?context=%2Fazure%2Fsynapse-analytics%2Fcontext%2Fcontext&tabs=synapse-analytics)\n",
        "\n"
      ],
      "metadata": {
        "id": "gub05ACq7mnx"
      }
    },
    {
      "cell_type": "markdown",
      "source": [
        "### All units complete\n",
        "\n"
      ],
      "metadata": {
        "id": "zAVmaTjR7mlp"
      }
    }
  ]
}