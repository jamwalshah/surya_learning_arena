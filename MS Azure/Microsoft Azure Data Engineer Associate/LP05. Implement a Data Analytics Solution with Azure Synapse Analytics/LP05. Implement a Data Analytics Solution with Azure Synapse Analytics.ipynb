{
  "nbformat": 4,
  "nbformat_minor": 0,
  "metadata": {
    "colab": {
      "provenance": [],
      "toc_visible": true
    },
    "kernelspec": {
      "name": "python3",
      "display_name": "Python 3"
    },
    "language_info": {
      "name": "python"
    }
  },
  "cells": [
    {
      "cell_type": "markdown",
      "source": [
        "# LP05. Implement a Data Analytics Solution with Azure Synapse Analytics\n",
        "\n",
        "7 hr 30 min • Learning Path • 6 modules\n",
        "\n",
        "`Intermediate` `Data Engineer` `Azure Synapse Analytics`\n",
        "\n"
      ],
      "metadata": {
        "id": "IL8WpzCo0-q_"
      }
    },
    {
      "cell_type": "markdown",
      "source": [
        "## Modules in this learning path\n",
        "\n"
      ],
      "metadata": {
        "id": "iEPUO1MmrL5Q"
      }
    },
    {
      "cell_type": "markdown",
      "source": [
        "### Introduction to Azure Synapse Analytics\n",
        "\n",
        "1 hr 22 min • Module • 7 Units\n",
        "\n",
        "Learn about the features and capabilities of Azure Synapse Analytics - a cloud-based platform for big data processing and analysis.\n",
        "\n"
      ],
      "metadata": {
        "id": "1kwlhl9DrL2v"
      }
    },
    {
      "cell_type": "markdown",
      "source": [
        "### Use Azure Synapse serverless SQL pool to query files in a data lake\n",
        "\n",
        "1 hr 8 min • Module • 7 Units\n",
        "\n",
        "With Azure Synapse serverless SQL pool, you can leverage your SQL skills to explore and analyze data in files, without the need to load the data into a relational database.\n",
        "\n"
      ],
      "metadata": {
        "id": "lP6SOCJ5rL0X"
      }
    },
    {
      "cell_type": "markdown",
      "source": [
        "### Analyze data with Apache Spark in Azure Synapse Analytics\n",
        "\n",
        "1 hr 6 min • Module • 8 Units\n",
        "\n",
        "Apache Spark is a core technology for large-scale data analytics. Learn how to use Spark in Azure Synapse Analytics to analyze and visualize data in a data lake.\n",
        "\n"
      ],
      "metadata": {
        "id": "phF82zCLrLyI"
      }
    },
    {
      "cell_type": "markdown",
      "source": [
        "### Use Delta Lake in Azure Synapse Analytics\n",
        "\n",
        "1 hr 14 min • Module • 9 Units\n",
        "\n",
        "Delta Lake is an open source relational storage area for Spark that you can use to implement a data lakehouse architecture in Azure Synapse Analytics.\n",
        "\n"
      ],
      "metadata": {
        "id": "Pf6qaNo50-oo"
      }
    },
    {
      "cell_type": "markdown",
      "source": [
        "### Analyze data in a relational data warehouse\n",
        "\n",
        "1 hr 29 min • Module • 8 Units\n",
        "\n",
        "Relational data warehouses are a core element of most enterprise Business Intelligence (BI) solutions, and are used as the basis for data models, reports, and analysis.\n",
        "\n"
      ],
      "metadata": {
        "id": "_FHAVQA_0-mg"
      }
    },
    {
      "cell_type": "markdown",
      "source": [
        "### Build a data pipeline in Azure Synapse Analytics\n",
        "\n",
        "1 hr 11 min • Module • 8 Units\n",
        "\n",
        "Pipelines are the lifeblood of a data analytics solution. Learn how to use Azure Synapse Analytics pipelines to build integrated data solutions that extract, transform, and load data across diverse systems.\n",
        "\n"
      ],
      "metadata": {
        "id": "tbilt_hO0-ka"
      }
    }
  ]
}