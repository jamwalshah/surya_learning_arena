{
  "nbformat": 4,
  "nbformat_minor": 0,
  "metadata": {
    "colab": {
      "provenance": [],
      "toc_visible": true
    },
    "kernelspec": {
      "name": "python3",
      "display_name": "Python 3"
    },
    "language_info": {
      "name": "python"
    }
  },
  "cells": [
    {
      "cell_type": "markdown",
      "source": [
        "# M03.01 Analyze data with Apache Spark in Azure Synapse Analytics\n",
        "\n"
      ],
      "metadata": {
        "id": "HLSlrYBw4I4d"
      }
    },
    {
      "cell_type": "markdown",
      "source": [
        "## Unit 1 of 8\n",
        "\n"
      ],
      "metadata": {
        "id": "ldq4GSnDIaN6"
      }
    },
    {
      "cell_type": "markdown",
      "source": [
        "### Introduction\n",
        "\n",
        "Apache Spark is an open source parallel processing framework for large-scale data processing and analytics. Spark has become extremely popular in \"big data\" processing scenarios, and is available in multiple platform implementations; including Azure HDInsight, Azure Databricks, and Azure Synapse Analytics.\n",
        "\n",
        "This module explores how you can use Spark in Azure Synapse Analytics to ingest, process, and analyze data from a data lake. While the core techniques and code described in this module are common to all Spark implementations, the integrated tools and ability to work with Spark in the same environment as other Synapse analytical runtimes are specific to Azure Synapse Analytics.\n",
        "\n",
        "After completing this module, you'll be able to:\n",
        "\n",
        "- Identify core features and capabilities of Apache Spark.\n",
        "- Configure a Spark pool in Azure Synapse Analytics.\n",
        "- Run code to load, analyze, and visualize data in a Spark notebook.\n",
        "\n"
      ],
      "metadata": {
        "id": "mg8EE9mXIaLt"
      }
    },
    {
      "cell_type": "markdown",
      "source": [
        "### Next unit: Get to know Apache Spark\n",
        "\n"
      ],
      "metadata": {
        "id": "6N3_5DEcIaJR"
      }
    },
    {
      "cell_type": "markdown",
      "source": [
        "## Unit 2 of 8\n",
        "\n"
      ],
      "metadata": {
        "id": "cx_al8REIaGs"
      }
    },
    {
      "cell_type": "markdown",
      "source": [
        "### Get to know Apache Spark\n",
        "\n",
        "Apache Spark is distributed data processing framework that enables large-scale data analytics by coordinating work across multiple processing nodes in a cluster.\n",
        "\n"
      ],
      "metadata": {
        "id": "NZPe45gUIaEg"
      }
    },
    {
      "cell_type": "markdown",
      "source": [
        "#### How Spark works\n",
        "\n",
        "Apache Spark applications run as independent sets of processes on a cluster, coordinated by the *SparkContext* object in your main program (called the driver program). The SparkContext connects to the cluster manager, which allocates resources across applications using an implementation of Apache Hadoop YARN. Once connected, Spark acquires executors on nodes in the cluster to run your application code.\n",
        "\n",
        "The SparkContext runs the main function and parallel operations on the cluster nodes, and then collects the results of the operations. The nodes read and write data from and to the file system and cache transformed data in-memory as *Resilient Distributed Datasets* (RDDs).\n",
        "\n",
        "![A diagram of Azure Synapse Apache Spark architecture.](https://learn.microsoft.com/en-us/training/wwl-data-ai/understand-big-data-engineering-with-apache-spark-azure-synapse-analytics/media/synapse-spark-architecture.png)\n",
        "\n",
        "The SparkContext is responsible for converting an application to a *directed acyclic graph* (DAG). The graph consists of individual tasks that get executed within an executor process on the nodes. Each application gets its own executor processes, which stay up for the duration of the whole application and run tasks in multiple threads.\n",
        "\n"
      ],
      "metadata": {
        "id": "3Stk78bpIaCB"
      }
    },
    {
      "cell_type": "markdown",
      "source": [
        "#### Spark pools in Azure Synapse Analytics\n",
        "\n",
        "In Azure Synapse Analytics, a cluster is implemented as a *Spark pool*, which provides a runtime for Spark operations. You can create one or more Spark pools in an Azure Synapse Analytics workspace [by using the Azure portal](https://learn.microsoft.com/en-us/azure/synapse-analytics/quickstart-create-apache-spark-pool-portal), or [in Azure Synapse Studio](https://learn.microsoft.com/en-us/azure/synapse-analytics/quickstart-create-apache-spark-pool-studio). When defining a Spark pool, you can specify configuration options for the pool, including:\n",
        "\n",
        "- A name for the spark pool.\n",
        "- The size of virtual machine (VM) used for the nodes in the pool, including the option to use [hardware accelerated GPU-enabled nodes](https://learn.microsoft.com/en-us/azure/synapse-analytics/quickstart-create-apache-gpu-pool-portal).\n",
        "- The number of nodes in the pool, and whether the pool size is fixed or individual nodes can be brought online dynamically to *auto-scale* the cluster; in which case, you can specify the minimum and maximum number of active nodes.\n",
        "- The version of the *Spark Runtime* to be used in the pool; which dictates the versions of individual components such as Python, Java, and others that get installed.\n",
        "\n",
        "> **Tip:** For more information about Spark pool configuration options, see Apache Spark pool configurations in Azure Synapse Analytics in the Azure Synapse Analytics documentation.\n",
        "\n",
        "Spark pools in an Azure Synapse Analytics Workspace are *serverless* - they start on-demand and stop when idle.\n",
        "\n"
      ],
      "metadata": {
        "id": "7ZETNF56IZ_t"
      }
    },
    {
      "cell_type": "markdown",
      "source": [
        "### Next unit: Use Spark in Azure Synapse Analytics\n",
        "\n"
      ],
      "metadata": {
        "id": "HuOtKEp7IZ9R"
      }
    },
    {
      "cell_type": "markdown",
      "source": [
        "## Unit 3 of 8\n",
        "\n"
      ],
      "metadata": {
        "id": "m4LeJS8AIZ65"
      }
    },
    {
      "cell_type": "markdown",
      "source": [
        "### Use Spark in Azure Synapse Analytics\n",
        "\n",
        "You can run many different kinds of application on Spark, including code in Python or Scala scripts, Java code compiled as a Java Archive (JAR), and others. Spark is commonly used in two kinds of workload:\n",
        "\n",
        "- Batch or stream processing jobs to ingest, clean, and transform data - often running as part of an automated pipeline.\n",
        "- Interactive analytics sessions to explore, analyze, and visualize data.\n",
        "\n"
      ],
      "metadata": {
        "id": "oAlHvNiHIZ4k"
      }
    },
    {
      "cell_type": "markdown",
      "source": [
        "#### Running Spark code in notebooks\n",
        "\n",
        "Azure Synapse Studio includes an integrated notebook interface for working with Spark. Notebooks provide an intuitive way to combine code with Markdown notes, commonly used by data scientists and data analysts. The look and feel of the integrated notebook experience within Azure Synapse Studio is similar to that of Jupyter notebooks - a popular open source notebook platform.\n",
        "\n",
        "![A screenshot of a notebook in Azure Synapse Studio.](https://learn.microsoft.com/en-us/training/wwl-data-ai/understand-big-data-engineering-with-apache-spark-azure-synapse-analytics/media/spark-notebook.png)\n",
        "\n",
        "> **Note:** While usually used interactively, notebooks can be included in automated pipelines and run as an unattended script.\n",
        "\n",
        "Notebooks consist of one or more *cells*, each containing either code or markdown. Code cells in notebooks have some features that can help you be more productive, including:\n",
        "\n",
        "- Syntax highlighting and error support.\n",
        "- Code auto-completion.\n",
        "- Interactive data visualizations.\n",
        "- The ability to export results.\n",
        "\n",
        "> **Tip:** To learn more about working with notebooks in Azure Synapse Analytics, see the [Create, develop, and maintain Synapse notebooks in Azure Synapse Analytics](https://learn.microsoft.com/en-us/azure/synapse-analytics/spark/apache-spark-development-using-notebooks) article in the Azure Synapse Analytics documentation.\n",
        "\n"
      ],
      "metadata": {
        "id": "hwKnyt9hIZ2U"
      }
    },
    {
      "cell_type": "markdown",
      "source": [
        "#### Accessing data from a Synapse Spark pool\n",
        "\n",
        "You can use Spark in Azure Synapse Analytics to work with data from various sources, including:\n",
        "\n",
        "- A data lake based on the primary storage account for the Azure Synapse Analytics workspace.\n",
        "- A data lake based on storage defined as a *linked service* in the workspace.\n",
        "- A dedicated or serverless SQL pool in the workspace.\n",
        "- An Azure SQL or SQL Server database (using the Spark connector for SQL Server)\n",
        "- An Azure Cosmos DB analytical database defined as a *linked service* and configured using *Azure Synapse Link for Cosmos DB*.\n",
        "- An Azure Data Explorer Kusto database defined as a *linked service* in the workspace.\n",
        "- An external Hive metastore defined as a *linked service* in the workspace.\n",
        "\n",
        "One of the most common uses of Spark is to work with data in a data lake, where you can read and write files in multiple commonly used formats, including delimited text, Parquet, Avro, and others.\n",
        "\n"
      ],
      "metadata": {
        "id": "HwsVTlPQIZz0"
      }
    },
    {
      "cell_type": "markdown",
      "source": [
        "### Next unit: Analyze data with Spark\n",
        "\n"
      ],
      "metadata": {
        "id": "Pmv8gtswIZxh"
      }
    },
    {
      "cell_type": "markdown",
      "source": [
        "## Unit 4 of 8\n",
        "\n"
      ],
      "metadata": {
        "id": "HjU6Dc9nIZvR"
      }
    },
    {
      "cell_type": "markdown",
      "source": [
        "### Analyze data with Spark\n",
        "\n",
        "One of the benefits of using Spark is that you can write and run code in various programming languages, enabling you to use the programming skills you already have and to use the most appropriate language for a given task. The default language in a new Azure Synapse Analytics Spark notebook is *PySpark* - a Spark-optimized version of Python, which is commonly used by data scientists and analysts due to its strong support for data manipulation and visualization. Additionally, you can use languages such as *Scala* (a Java-derived language that can be used interactively) and *SQL* (a variant of the commonly used SQL language included in the *Spark SQL* library to work with relational data structures). Software engineers can also create compiled solutions that run on Spark using frameworks such as *Java* and *Microsoft .NET*.\n",
        "\n"
      ],
      "metadata": {
        "id": "hS_OO6U4IZtJ"
      }
    },
    {
      "cell_type": "markdown",
      "source": [
        "#### Exploring data with dataframes\n",
        "\n",
        "Natively, Spark uses a data structure called a *resilient distributed dataset* (RDD); but while you *can* write code that works directly with RDDs, the most commonly used data structure for working with structured data in Spark is the *dataframe*, which is provided as part of the *Spark SQL* library. Dataframes in Spark are similar to those in the ubiquitous *Pandas* Python library, but optimized to work in Spark's distributed processing environment.\n",
        "\n",
        "> **Note:** In addition to the Dataframe API, Spark SQL provides a strongly-typed *Dataset* API that is supported in Java and Scala. We'll focus on the Dataframe API in this module.\n",
        "\n"
      ],
      "metadata": {
        "id": "udJGsO9S4I06"
      }
    },
    {
      "cell_type": "markdown",
      "source": [
        "##### Loading data into a dataframe\n",
        "\n",
        "Let's explore a hypothetical example to see how you can use a dataframe to work with data. Suppose you have the following data in a comma-delimited text file named **products.csv** in the primary storage account for an Azure Synapse Analytics workspace:\n",
        "\n",
        "```csv\n",
        "ProductID,ProductName,Category,ListPrice\n",
        "771,\"Mountain-100 Silver, 38\",Mountain Bikes,3399.9900\n",
        "772,\"Mountain-100 Silver, 42\",Mountain Bikes,3399.9900\n",
        "773,\"Mountain-100 Silver, 44\",Mountain Bikes,3399.9900\n",
        "...\n",
        "```\n",
        "\n",
        "In a Spark notebook, you could use the following PySpark code to load the data into a dataframe and display the first 10 rows:\n",
        "\n",
        "```python\n",
        "%%pyspark\n",
        "df = spark.read.load('abfss://container@store.dfs.core.windows.net/products.csv',\n",
        "    format='csv',\n",
        "    header=True\n",
        ")\n",
        "display(df.limit(10))\n",
        "```\n",
        "\n",
        "The `%%pyspark` line at the beginning is called a *magic*, and tells Spark that the language used in this cell is PySpark. You can select the language you want to use as a default in the toolbar of the Notebook interface, and then use a magic to override that choice for a specific cell. For example, here's the equivalent Scala code for the products data example:\n",
        "\n",
        "```scala\n",
        "%%spark\n",
        "val df = spark.read.format(\"csv\").option(\"header\", \"true\").load(\"abfss://container@store.dfs.core.windows.net/products.csv\")\n",
        "display(df.limit(10))\n",
        "```\n",
        "\n",
        "The magic `%%spark` is used to specify Scala.\n",
        "\n",
        "Both of these code samples would produce output like this:\n",
        "\n",
        "| ProductID | ProductName | Category | ListPrice |\n",
        "| :-- | :-- | :-- | :-- |\n",
        "| 771 | Mountain-100 Silver, 38 | Mountain Bikes | 3399.9900 |\n",
        "| 772 | Mountain-100 Silver, 42 | Mountain Bikes | 3399.9900 |\n",
        "| 773 | Mountain-100 Silver, 44 | Mountain Bikes | 3399.9900 |\n",
        "| ... | ... | ... | ... |\n",
        "\n"
      ],
      "metadata": {
        "id": "I8-5IH6D4IyZ"
      }
    },
    {
      "cell_type": "markdown",
      "source": [
        "##### Specifying a dataframe schema\n",
        "\n",
        "In the previous example, the first row of the CSV file contained the column names, and Spark was able to infer the data type of each column from the data it contains. You can also specify an explicit schema for the data, which is useful when the column names aren't included in the data file, like this CSV example:\n",
        "\n",
        "```csv\n",
        "771,\"Mountain-100 Silver, 38\",Mountain Bikes,3399.9900\n",
        "772,\"Mountain-100 Silver, 42\",Mountain Bikes,3399.9900\n",
        "773,\"Mountain-100 Silver, 44\",Mountain Bikes,3399.9900\n",
        "...\n",
        "```\n",
        "\n",
        "The following PySpark example shows how to specify a schema for the dataframe to be loaded from a file named **product-data.csv** in this format:\n",
        "\n",
        "```python\n",
        "from pyspark.sql.types import *\n",
        "from pyspark.sql.functions import *\n",
        "\n",
        "productSchema = StructType([\n",
        "    StructField(\"ProductID\", IntegerType()),\n",
        "    StructField(\"ProductName\", StringType()),\n",
        "    StructField(\"Category\", StringType()),\n",
        "    StructField(\"ListPrice\", FloatType())\n",
        "    ])\n",
        "\n",
        "df = spark.read.load('abfss://container@store.dfs.core.windows.net/product-data.csv',\n",
        "    format='csv',\n",
        "    schema=productSchema,\n",
        "    header=False)\n",
        "display(df.limit(10))\n",
        "```\n",
        "\n",
        "The results would once again be similar to:\n",
        "\n",
        "| ProductID | ProductName | Category | ListPrice |\n",
        "| :-- | :-- | :-- | :-- |\n",
        "| 771 | Mountain-100 Silver, 38 | Mountain Bikes | 3399.9900 |\n",
        "| 772 | Mountain-100 Silver, 42 | Mountain Bikes | 3399.9900 |\n",
        "| 773 | Mountain-100 Silver, 44 | Mountain Bikes | 3399.9900 |\n",
        "| ... | ... | ... | ... |\n",
        "\n"
      ],
      "metadata": {
        "id": "Ov_kIpIF4IrO"
      }
    },
    {
      "cell_type": "markdown",
      "source": [
        "#### Filtering and grouping dataframes\n",
        "\n",
        "You can use the methods of the Dataframe class to filter, sort, group, and otherwise manipulate the data it contains. For example, the following code example uses the **select** method to retrieve the **ProductName** and **ListPrice** columns from the **df** dataframe containing product data in the previous example:\n",
        "\n",
        "```python\n",
        "pricelist_df = df.select(\"ProductID\", \"ListPrice\")\n",
        "```\n",
        "\n",
        "The results from this code example would look something like this:\n",
        "\n",
        "| ProductID | ListPrice |\n",
        "| :-- | :-- |\n",
        "| 771 | 3399.9900 |\n",
        "| 772 | 3399.9900 |\n",
        "| 773 | 3399.9900 |\n",
        "| ... | ... |\n",
        "\n",
        "In common with most data manipulation methods, **select** returns a new dataframe object.\n",
        "\n",
        "> **Tip:** Selecting a subset of columns from a dataframe is a common operation, which can also be achieved by using the following shorter syntax:\\\n",
        "`pricelist_df = df[\"ProductID\", \"ListPrice\"]`\n",
        "\n",
        "You can \"chain\" methods together to perform a series of manipulations that results in a transformed dataframe. For example, this example code chains the **select** and **where** methods to create a new dataframe containing the **ProductName** and **ListPrice** columns for products with a category of **Mountain Bikes** or **Road Bikes**:\n",
        "\n",
        "```python\n",
        "bikes_df = df.select(\"ProductName\", \"ListPrice\").where((df[\"Category\"]==\"Mountain Bikes\") | (df[\"Category\"]==\"Road Bikes\"))\n",
        "display(bikes_df)\n",
        "```\n",
        "\n",
        "The results from this code example would look something like this:\n",
        "\n",
        "| ProductName | ListPrice |\n",
        "| :-- | :-- |\n",
        "| Mountain-100 Silver, 38 | 3399.9900 |\n",
        "| Road-750 Black, 52 | 539.9900 |\n",
        "| ... | ... |\n",
        "\n",
        "To group and aggregate data, you can use the **groupBy** method and aggregate functions. For example, the following PySpark code counts the number of products for each category:\n",
        "\n",
        "```python\n",
        "counts_df = df.select(\"ProductID\", \"Category\").groupBy(\"Category\").count()\n",
        "display(counts_df)\n",
        "```\n",
        "\n",
        "The results from this code example would look something like this:\n",
        "\n",
        "| Category | count |\n",
        "| :-- | :-- |\n",
        "| Headsets |3 |\n",
        "| Wheels | 14 |\n",
        "| Mountain Bikes | 32 |\n",
        "| ... | ... |\n",
        "\n"
      ],
      "metadata": {
        "id": "vtOyyTIy4Ioe"
      }
    },
    {
      "cell_type": "markdown",
      "source": [
        "#### Using SQL expressions in Spark\n",
        "\n",
        "The Dataframe API is part of a Spark library named Spark SQL, which enables data analysts to use SQL expressions to query and manipulate data.\n",
        "\n"
      ],
      "metadata": {
        "id": "6FzikyBb4ImK"
      }
    },
    {
      "cell_type": "markdown",
      "source": [
        "##### Creating database objects in the Spark catalog\n",
        "\n",
        "The Spark catalog is a metastore for relational data objects such as views and tables. The Spark runtime can use the catalog to seamlessly integrate code written in any Spark-supported language with SQL expressions that may be more natural to some data analysts or developers.\n",
        "\n",
        "One of the simplest ways to make data in a dataframe available for querying in the Spark catalog is to create a temporary view, as shown in the following code example:\n",
        "\n",
        "```python\n",
        "df.createOrReplaceTempView(\"products\")\n",
        "```\n",
        "\n",
        "A *view* is temporary, meaning that it's automatically deleted at the end of the current session. You can also create *tables* that are persisted in the catalog to define a database that can be queried using Spark SQL.\n",
        "\n",
        "> **Note:** We won't explore Spark catalog tables in depth in this module, but it's worth taking the time to highlight a few key points:\n",
        ">\n",
        "> - You can create an empty table by using the `spark.catalog.createTable` method. Tables are metadata structures that store their underlying data in the storage location associated with the catalog. Deleting a table also deletes its underlying data.\n",
        "> - You can save a dataframe as a table by using its `saveAsTable` method.\n",
        "> - You can create an *external* table by using the `spark.catalog.createExternalTable` method. External tables define metadata in the catalog but get their underlying data from an external storage location; typically a folder in a data lake. Deleting an external table does not delete the underlying data.\n",
        "\n"
      ],
      "metadata": {
        "id": "qkegGxFs4Ijx"
      }
    },
    {
      "cell_type": "markdown",
      "source": [
        "##### Using the Spark SQL API to query data\n",
        "\n",
        "You can use the Spark SQL API in code written in any language to query data in the catalog. For example, the following PySpark code uses a SQL query to return data from the **products** view as a dataframe.\n",
        "\n",
        "```python\n",
        "bikes_df = spark.sql(\"SELECT ProductID, ProductName, ListPrice \\\n",
        "                      FROM products \\\n",
        "                      WHERE Category IN ('Mountain Bikes', 'Road Bikes')\")\n",
        "display(bikes_df)\n",
        "```\n",
        "\n",
        "The results from the code example would look similar to the following table:\n",
        "\n",
        "| ProductID | ProductName | ListPrice |\n",
        "| :-- | :-- | :-- |\n",
        "| 38 | Mountain-100 Silver, 38 | 3399.9900 |\n",
        "| 52 | Road-750 Black, 52 | 539.9900 |\n",
        "| ... | ... | ... |\n",
        "\n"
      ],
      "metadata": {
        "id": "wIkf2bUN4Ihi"
      }
    },
    {
      "cell_type": "markdown",
      "source": [
        "##### Using SQL code\n",
        "\n",
        "The previous example demonstrated how to use the Spark SQL API to embed SQL expressions in Spark code. In a notebook, you can also use the `%%sql` magic to run SQL code that queries objects in the catalog, like this:\n",
        "\n",
        "```sql\n",
        "%%sql\n",
        "\n",
        "SELECT Category, COUNT(ProductID) AS ProductCount\n",
        "FROM products\n",
        "GROUP BY Category\n",
        "ORDER BY Category\n",
        "```\n",
        "\n",
        "The SQL code example returns a resultset that is automatically displayed in the notebook as a table, like the one below:\n",
        "\n",
        "| Category | ProductCount |\n",
        "| :-- | :-- |\n",
        "| Bib-Shorts | 3 |\n",
        "| Bike Racks | 1 |\n",
        "| Bike Stands | 1 |\n",
        "| ... |... |\n",
        "\n"
      ],
      "metadata": {
        "id": "8NPH9DfZ4IfS"
      }
    },
    {
      "cell_type": "markdown",
      "source": [
        "### Next unit: Visualize data with Spark\n",
        "\n"
      ],
      "metadata": {
        "id": "Y-0j7UOm4IdG"
      }
    },
    {
      "cell_type": "markdown",
      "source": [
        "## Unit 5 of 8\n",
        "\n"
      ],
      "metadata": {
        "id": "8wCDxz8l4IaJ"
      }
    },
    {
      "cell_type": "markdown",
      "source": [
        "### Visualize data with Spark\n",
        "\n",
        "One of the most intuitive ways to analyze the results of data queries is to visualize them as charts. Notebooks in Azure Synapse Analytics provide some basic charting capabilities in the user interface, and when that functionality doesn't provide what you need, you can use one of the many Python graphics libraries to create and display data visualizations in the notebook.\n",
        "\n"
      ],
      "metadata": {
        "id": "ezk_vL0XJll7"
      }
    },
    {
      "cell_type": "markdown",
      "source": [
        "#### Using built-in notebook charts\n",
        "\n",
        "When you display a dataframe or run a SQL query in a Spark notebook in Azure Synapse Analytics, the results are displayed under the code cell. By default, results are rendered as a table, but you can also change the results view to a chart and use the chart properties to customize how the chart visualizes the data, as shown here:\n",
        "\n",
        "![A notebook displaying a column chart of product counts by category.](https://learn.microsoft.com/en-us/training/wwl-data-ai/understand-big-data-engineering-with-apache-spark-azure-synapse-analytics/media/notebook-chart.png)\n",
        "\n",
        "The built-in charting functionality in notebooks is useful when you're working with results of a query that don't include any existing groupings or aggregations, and you want to quickly summarize the data visually. When you want to have more control over how the data is formatted, or to display values that you have already aggregated in a query, you should consider using a graphics package to create your own visualizations.\n",
        "\n"
      ],
      "metadata": {
        "id": "E0Y702YSJljn"
      }
    },
    {
      "cell_type": "markdown",
      "source": [
        "#### Using graphics packages in code\n",
        "\n",
        "There are many graphics packages that you can use to create data visualizations in code. In particular, Python supports a large selection of packages; most of them built on the base **Matplotlib** library. The output from a graphics library can be rendered in a notebook, making it easy to combine code to ingest and manipulate data with inline data visualizations and markdown cells to provide commentary.\n",
        "\n",
        "For example, you could use the following PySpark code to aggregate data from the hypothetical products data explored previously in this module, and use Matplotlib to create a chart from the aggregated data.\n",
        "\n",
        "```python\n",
        "from matplotlib import pyplot as plt\n",
        "\n",
        "# Get the data as a Pandas dataframe\n",
        "data = spark.sql(\"SELECT Category, COUNT(ProductID) AS ProductCount \\\n",
        "                  FROM products \\\n",
        "                  GROUP BY Category \\\n",
        "                  ORDER BY Category\").toPandas()\n",
        "\n",
        "# Clear the plot area\n",
        "plt.clf()\n",
        "\n",
        "# Create a Figure\n",
        "fig = plt.figure(figsize=(12,8))\n",
        "\n",
        "# Create a bar plot of product counts by category\n",
        "plt.bar(x=data['Category'], height=data['ProductCount'], color='orange')\n",
        "\n",
        "# Customize the chart\n",
        "plt.title('Product Counts by Category')\n",
        "plt.xlabel('Category')\n",
        "plt.ylabel('Products')\n",
        "plt.grid(color='#95a5a6', linestyle='--', linewidth=2, axis='y', alpha=0.7)\n",
        "plt.xticks(rotation=70)\n",
        "\n",
        "# Show the plot area\n",
        "plt.show()\n",
        "```\n",
        "\n",
        "The Matplotlib library requires data to be in a Pandas dataframe rather than a Spark dataframe, so the **toPandas** method is used to convert it. The code then creates a figure with a specified size and plots a bar chart with some custom property configuration before showing the resulting plot.\n",
        "\n",
        "The chart produced by the code would look similar to the following image:\n",
        "\n",
        "![A bar chart showing product counts by category.](https://learn.microsoft.com/en-us/training/wwl-data-ai/understand-big-data-engineering-with-apache-spark-azure-synapse-analytics/media/chart.png)\n",
        "\n",
        "You can use the Matplotlib library to create many kinds of chart; or if preferred, you can use other libraries such as **Seaborn** to create highly customized charts.\n",
        "\n"
      ],
      "metadata": {
        "id": "5qPolAljJlg3"
      }
    },
    {
      "cell_type": "markdown",
      "source": [
        "### Next unit: Exercise - Analyze data with Spark\n",
        "\n"
      ],
      "metadata": {
        "id": "0K0k--wWJleT"
      }
    },
    {
      "cell_type": "markdown",
      "source": [
        "## Unit 6 of 8\n",
        "\n"
      ],
      "metadata": {
        "id": "PtNt_uEFJlbq"
      }
    },
    {
      "cell_type": "markdown",
      "source": [
        "### Exercise - Analyze data with Spark\n",
        "\n",
        "Now it's your opportunity to use a Spark pool in Azure Synapse Analytics. In this exercise, you'll use a provided script to provision an Azure Synapse Analytics workspace in your Azure subscription; and then use a Spark pool to analyze and visualize data from files in a data lake.\n",
        "\n",
        "> **Note:** To complete this lab, you will need an [Azure subscription](https://azure.microsoft.com/free) in which you have administrative access.\n",
        "\n",
        "Launch the exercise and follow the instructions.\n",
        "\n",
        "[Launch Exercise](https://aka.ms/mslearn-synapse-spark)\n",
        "\n"
      ],
      "metadata": {
        "id": "4RJbS7q-JlZH"
      }
    },
    {
      "cell_type": "markdown",
      "source": [
        "### Next unit: Knowledge check\n",
        "\n"
      ],
      "metadata": {
        "id": "KVprnaCNJlWZ"
      }
    },
    {
      "cell_type": "markdown",
      "source": [
        "## Unit 7 of 8\n",
        "\n"
      ],
      "metadata": {
        "id": "Nsvxp3-tJlTt"
      }
    },
    {
      "cell_type": "markdown",
      "source": [
        "### Knowledge check\n",
        "\n"
      ],
      "metadata": {
        "id": "m5tjl8Z8JlNB"
      }
    },
    {
      "cell_type": "markdown",
      "source": [
        "#### Check your knowledge\n",
        "\n",
        "1. Which definition best describes Apache Spark?\n",
        "\n",
        "    - ☐ A highly scalable relational database management system.\n",
        "    - ☐ A virtual server with a Python runtime.\n",
        "    - ☑ A distributed platform for parallel data processing using multiple languages.\n",
        "    > Correct. Spark provides a highly scalable distributed platform on which you can run code written in many languages to process data.\n",
        "\n",
        "2. You need to use Spark to analyze data in a parquet file. What should you do?\n",
        "\n",
        "    - ☑ Load the parquet file into a dataframe.\n",
        "    > Correct. You can load data from files in many formats, including parquet, into a Spark dataframe.\n",
        "    - ☐ Import the data into a table in a serverless SQL pool.\n",
        "    - ☐ Convert the data to CSV format.\n",
        "\n",
        "3. You want to write code in a notebook cell that uses a SQL query to retrieve data from a view in the Spark catalog. Which magic should you use?\n",
        "\n",
        "    - ☐ %%spark\n",
        "    - ☐ %%pyspark\n",
        "    - ☑ %%sql\n",
        "    > Correct. The %%sql magic instructs Spark to interpret the code in the cell as SQL.\n",
        "\n"
      ],
      "metadata": {
        "id": "7CeWxEKZJlKh"
      }
    },
    {
      "cell_type": "markdown",
      "source": [
        "### Next unit: Summary\n",
        "\n"
      ],
      "metadata": {
        "id": "3097-EasJlA5"
      }
    },
    {
      "cell_type": "markdown",
      "source": [
        "## Unit 8 of 8\n",
        "\n"
      ],
      "metadata": {
        "id": "5TARc2oWJk-x"
      }
    },
    {
      "cell_type": "markdown",
      "source": [
        "### Summary\n",
        "\n",
        "Apache Spark is a key technology used in big data analytics, and the Spark pool support in Azure Synapse Analytics enables you to combine big data processing in Spark with large-scale data warehousing in SQL.\n",
        "\n",
        "In this module, you learned how to:\n",
        "\n",
        "- Identify core features and capabilities of Apache Spark.\n",
        "- Configure a Spark pool in Azure Synapse Analytics.\n",
        "- Run code to load, analyze, and visualize data in a Spark notebook.\n",
        "\n"
      ],
      "metadata": {
        "id": "RqCcDANAS5Q7"
      }
    },
    {
      "cell_type": "markdown",
      "source": [
        "### All units complete\n",
        "\n"
      ],
      "metadata": {
        "id": "4FWxUuReS5Oy"
      }
    }
  ]
}