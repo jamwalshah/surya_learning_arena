{
  "nbformat": 4,
  "nbformat_minor": 0,
  "metadata": {
    "colab": {
      "provenance": [],
      "toc_visible": true
    },
    "kernelspec": {
      "name": "python3",
      "display_name": "Python 3"
    },
    "language_info": {
      "name": "python"
    }
  },
  "cells": [
    {
      "cell_type": "markdown",
      "source": [
        "# LP03. Perform data engineering with Azure Synapse Apache Spark Pools\n",
        "\n",
        "3 hr 10 min • Learning Path • 3 modules\n",
        "\n",
        "`Intermediate` `Data Engineer` `Azure Synapse Analytics`\n",
        "\n",
        "Apache Spark is a highly scalable distributed processing solution for big data analytics and transformation. You can leverage its power in Azure Synapse Analytics by using Spark pools.\n",
        "\n"
      ],
      "metadata": {
        "id": "1HVv3J930P54"
      }
    },
    {
      "cell_type": "markdown",
      "source": [
        "## Prerequisites\n",
        "\n",
        "Before starting this learning path, you should be familiar with Azure Synapse Analytics. Consider completing the [Introduction to Azure Synapse Analytics](https://learn.microsoft.com/en-us/training/modules/introduction-azure-synapse-analytics/) module first.\n",
        "\n"
      ],
      "metadata": {
        "id": "qSuLIAC-2GUA"
      }
    },
    {
      "cell_type": "markdown",
      "source": [
        "## Modules in this learning path\n",
        "\n"
      ],
      "metadata": {
        "id": "WJa8XNsN2GRs"
      }
    },
    {
      "cell_type": "markdown",
      "source": [
        "### Analyze data with Apache Spark in Azure Synapse Analytics\n",
        "\n",
        "1 hr 6 min • Module • 8 Units\n",
        "\n",
        "Apache Spark is a core technology for large-scale data analytics. Learn how to use Spark in Azure Synapse Analytics to analyze and visualize data in a data lake.\n",
        "\n"
      ],
      "metadata": {
        "id": "qBkYQFsq2GPg"
      }
    },
    {
      "cell_type": "markdown",
      "source": [
        "### Transform data with Spark in Azure Synapse Analytics\n",
        "\n",
        "50 min • Module • 7 Units\n",
        "\n",
        "Data engineers commonly need to transform large volumes of data. Apache Spark pools in Azure Synapse Analytics provide a distributed processing platform that they can use to accomplish this goal.\n",
        "\n"
      ],
      "metadata": {
        "id": "zjoXZTAZ2GIv"
      }
    },
    {
      "cell_type": "markdown",
      "source": [
        "### Use Delta Lake in Azure Synapse Analytics\n",
        "\n",
        "1 hr 14 min • Module • 9 Units\n",
        "\n",
        "Delta Lake is an open source relational storage area for Spark that you can use to implement a data lakehouse architecture in Azure Synapse Analytics.\n",
        "\n"
      ],
      "metadata": {
        "id": "DYpoqUQI2GGU"
      }
    }
  ]
}