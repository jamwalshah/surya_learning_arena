{
  "nbformat": 4,
  "nbformat_minor": 0,
  "metadata": {
    "colab": {
      "provenance": [],
      "toc_visible": true
    },
    "kernelspec": {
      "name": "python3",
      "display_name": "Python 3"
    },
    "language_info": {
      "name": "python"
    }
  },
  "cells": [
    {
      "cell_type": "markdown",
      "source": [
        "# LP06. Work with Data Warehouses using Azure Synapse Analytics\n",
        "\n",
        "4 hr 20 min • Learning Path • 4 modules\n",
        "\n",
        "`Intermediate` `Data Engineer` `Azure Synapse Analytics`\n",
        "\n",
        "Relational data warehouses are at the heart of many business intelligence and enterprise analytics solutions. You can use Azure Synapse Analytics to implement highly scalable data warehouses in the cloud.\n",
        "\n"
      ],
      "metadata": {
        "id": "4eqBo7iu2NVB"
      }
    },
    {
      "cell_type": "markdown",
      "source": [
        "## Prerequisites\n",
        "\n",
        "Before starting this learning path, you should be familiar with Azure Synapse Analytics. Consider completing the [Introduction to Azure Synapse Analytics](https://learn.microsoft.com/en-us/training/modules/introduction-azure-synapse-analytics/) module first.\n",
        "\n"
      ],
      "metadata": {
        "id": "BRm7OiN8sEfJ"
      }
    },
    {
      "cell_type": "markdown",
      "source": [
        "## Modules in this learning path\n",
        "\n"
      ],
      "metadata": {
        "id": "DsV_IPSA2NR1"
      }
    },
    {
      "cell_type": "markdown",
      "source": [
        "### Analyze data in a relational data warehouse\n",
        "\n",
        "1 hr 29 min • Module • 8 Units\n",
        "\n",
        "Relational data warehouses are a core element of most enterprise Business Intelligence (BI) solutions, and are used as the basis for data models, reports, and analysis.\n",
        "\n"
      ],
      "metadata": {
        "id": "jvscZfEv2NPK"
      }
    },
    {
      "cell_type": "markdown",
      "source": [
        "### Load data into a relational data warehouse\n",
        "\n",
        "1 hr 9 min • Module • 10 Units\n",
        "\n",
        "A core responsibility for a data engineer is to implement a data ingestion solution that loads new data into a relational data warehouse.\n",
        "\n"
      ],
      "metadata": {
        "id": "opqSW5TV2NGJ"
      }
    },
    {
      "cell_type": "markdown",
      "source": [
        "### Manage and monitor data warehouse activities in Azure Synapse Analytics\n",
        "\n",
        "47 min • Module • 8 Units\n",
        "\n",
        "Learn how to manage and monitor Azure Synapse Analytics.\n",
        "\n"
      ],
      "metadata": {
        "id": "DL3oTaFs2NDd"
      }
    },
    {
      "cell_type": "markdown",
      "source": [
        "### Secure a data warehouse in Azure Synapse Analytics\n",
        "\n",
        "55 min • Module • 10 Units\n",
        "\n",
        "Learn how to approach and implement security to protect your data with Azure Synapse Analytics.\n",
        "\n"
      ],
      "metadata": {
        "id": "FRa1CQTD2NBK"
      }
    },
    {
      "cell_type": "markdown",
      "source": [],
      "metadata": {
        "id": "dFRZ7FNa2M-9"
      }
    },
    {
      "cell_type": "markdown",
      "source": [],
      "metadata": {
        "id": "_qRd_vcH2M8h"
      }
    },
    {
      "cell_type": "markdown",
      "source": [],
      "metadata": {
        "id": "plBvlL0d2M6V"
      }
    },
    {
      "cell_type": "markdown",
      "source": [],
      "metadata": {
        "id": "w7UjieP02M4J"
      }
    },
    {
      "cell_type": "markdown",
      "source": [],
      "metadata": {
        "id": "IFah4Caa2M1t"
      }
    },
    {
      "cell_type": "markdown",
      "source": [],
      "metadata": {
        "id": "Kr-xWX7L2Mzh"
      }
    }
  ]
}