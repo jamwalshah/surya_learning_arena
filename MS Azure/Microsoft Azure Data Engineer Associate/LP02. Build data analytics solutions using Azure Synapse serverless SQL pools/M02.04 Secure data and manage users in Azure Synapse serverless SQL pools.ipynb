{
  "nbformat": 4,
  "nbformat_minor": 0,
  "metadata": {
    "colab": {
      "provenance": [],
      "toc_visible": true
    },
    "kernelspec": {
      "name": "python3",
      "display_name": "Python 3"
    },
    "language_info": {
      "name": "python"
    }
  },
  "cells": [
    {
      "cell_type": "markdown",
      "source": [
        "# M02.04 Secure data and manage users in Azure Synapse serverless SQL pools\n",
        "\n"
      ],
      "metadata": {
        "id": "DIhHSja4kVya"
      }
    },
    {
      "cell_type": "markdown",
      "source": [
        "## Unit 1 of 6\n",
        "\n"
      ],
      "metadata": {
        "id": "S_9MbTirkVv7"
      }
    },
    {
      "cell_type": "markdown",
      "source": [
        "### Introduction\n",
        "\n",
        "In this lesson, you will learn how you can set up security when using Azure Synapse serverless SQL pools\n",
        "\n",
        "After the completion of this lesson, you will be able to:\n",
        "\n",
        "- Choose an authentication method in Azure Synapse serverless SQL pools\n",
        "- Manage users in Azure Synapse serverless SQL pools\n",
        "- Manage user permissions in Azure Synapse serverless SQL pools\n",
        "\n"
      ],
      "metadata": {
        "id": "GyDTeOXQkVtb"
      }
    },
    {
      "cell_type": "markdown",
      "source": [
        "### Prerequisites\n",
        "\n",
        "Before taking this lesson, it is recommended that the student is able to:\n",
        "\n",
        "- Log into the Azure portal\n",
        "- Explain the different components of Azure Synapse Analytics\n",
        "- Use Azure Synapse Studio\n",
        "\n"
      ],
      "metadata": {
        "id": "DafUJ0xfkVrC"
      }
    },
    {
      "cell_type": "markdown",
      "source": [
        "### Next unit: Choose an authentication method in Azure Synapse serverless SQL pools\n",
        "\n"
      ],
      "metadata": {
        "id": "oaVl0K_6kVov"
      }
    },
    {
      "cell_type": "markdown",
      "source": [
        "## Unit 2 of 6\n",
        "\n"
      ],
      "metadata": {
        "id": "P5jRdgLQkVmS"
      }
    },
    {
      "cell_type": "markdown",
      "source": [
        "### Choose an authentication method in Azure Synapse serverless SQL pools\n",
        "\n",
        "Serverless SQL pool authentication refers to how users prove their identity when connecting to the endpoint. Two types of authentication are supported:\n",
        "\n",
        "- **SQL Authentication**\n",
        "\n",
        "    This authentication method uses a username and password.\n",
        "\n",
        "- **Microsoft Entra authentication**\n",
        "\n",
        "    This authentication method uses identities managed by Microsoft Entra ID. For Microsoft Entra users, multi-factor authentication can be enabled. Use Active Directory authentication (integrated security) whenever possible.\n",
        "\n"
      ],
      "metadata": {
        "id": "Hd8cmhnZkVj_"
      }
    },
    {
      "cell_type": "markdown",
      "source": [
        "#### Authorization\n",
        "\n",
        "Authorization refers to what a user can do within a serverless SQL pool database and is controlled by your user account's database role memberships and object-level permissions.\n",
        "\n",
        "If SQL Authentication is used, the SQL user exists only in the serverless SQL pool and permissions are scoped to the objects in the serverless SQL pool. Access to securable objects in other services (such as Azure Storage) can't be granted to a SQL user directly since it only exists in scope of serverless SQL pool. The SQL user needs get authorization to access the files in the storage account.\n",
        "\n",
        "If Microsoft Entra authentication is used, a user can sign in to a serverless SQL pool and other services, like Azure Storage, and can grant permissions to the Microsoft Entra user.\n",
        "\n"
      ],
      "metadata": {
        "id": "bY6byxT0kVhS"
      }
    },
    {
      "cell_type": "markdown",
      "source": [
        "#### Access to storage accounts\n",
        "\n",
        "A user that is logged into the serverless SQL pool service must be authorized to access and query the files in Azure Storage. Serverless SQL pool supports the following authorization types:\n",
        "\n",
        "- Anonymous access\n",
        "\n",
        "    To access publicly available files placed on Azure storage accounts that allow anonymous access.\n",
        "\n",
        "- Shared access signature (SAS)\n",
        "\n",
        "    Provides delegated access to resources in storage account. With a SAS, you can grant clients access to resources in storage account, without sharing account keys. A SAS gives you granular control over the type of access you grant to clients who have the SAS: validity interval, granted permissions, acceptable IP address range, acceptable protocol (https/http).\n",
        "\n",
        "- Managed Identity.\n",
        "\n",
        "    Is a feature of Microsoft Entra ID that provides Azure services for serverless SQL pool. Also, it deploys an automatically managed identity in Microsoft Entra ID. This identity can be used to authorize the request for data access in Azure Storage. Before accessing the data, the Azure Storage administrator must grant permissions to Managed Identity for accessing the data. Granting permissions to Managed Identity is done the same way as granting permission to any other Microsoft Entra user.\n",
        "\n",
        "- User Identity\n",
        "\n",
        "    Also known as \"pass-through\", is an authorization type where the identity of the Microsoft Entra user that logged into serverless SQL pool is used to authorize access to the data. Before accessing the data, Azure Storage administrator must grant permissions to Microsoft Entra user for accessing the data. This authorization type uses the Microsoft Entra user that logged into serverless SQL pool, therefore it's not supported for SQL user types.\n",
        "\n",
        "Supported authorization types for database users can be found in the table below:\n",
        "\n",
        "| Authorization type | SQL user | Microsoft Entra user |\n",
        "| :-- | :-- | :-- |\n",
        "| User Identity | Not supported | Supported |\n",
        "| SAS | Supported | Supported |\n",
        "| Managed Identity | Not supported | Supported |\n",
        "\n",
        "Supported storage and authorization types can be found in the table below:\n",
        "\n",
        "| Authorization type | Blob Storage | ADLS Gen1 | ADLS Gen2 |\n",
        "| :-- | :-- | :-- | :-- |\n",
        "|User Identity | Supported - SAS token can be used to access storage that is not protected with firewall | Not supported | Supported - SAS token can be used to access storage that is not protected with firewall |\n",
        "| SAS | Supported | Supported | Supported |\n",
        "| Managed Identity | Supported | Supported | Supported |\n",
        "\n"
      ],
      "metadata": {
        "id": "64z9lIrwkVev"
      }
    },
    {
      "cell_type": "markdown",
      "source": [
        "### Next unit: Manage users in Azure Synapse serverless SQL pools\n",
        "\n"
      ],
      "metadata": {
        "id": "RbHY3EFskVcK"
      }
    },
    {
      "cell_type": "markdown",
      "source": [
        "## Unit 3 of 6\n",
        "\n"
      ],
      "metadata": {
        "id": "hIVjKvozkVZ2"
      }
    },
    {
      "cell_type": "markdown",
      "source": [
        "### Manage users in Azure Synapse serverless SQL pools\n",
        "\n",
        "You can give administrator privileges to a user to Azure Synapse serverless SQL pool. To do this you should open the Azure Synapse workspace and do the following steps:\n",
        "\n",
        "1. Go to **Manage** menu\n",
        "\n",
        "2. Go to **Access control**\n",
        "\n",
        "3. Click on **Add**\n",
        "\n",
        "    ![Setting access controls to the Azure Synapse workspace](https://learn.microsoft.com/en-us/training/wwl-data-ai/secure-data-manage-users-azure-synapse-serverless-sql-pools/media/azure-synapse-workspace-access-control.png)\n",
        "\n",
        "4. Choose **Synapse Administrator**\n",
        "\n",
        "    ![Creating a workspace admin in Azure Synapse workspace](https://learn.microsoft.com/en-us/training/wwl-data-ai/secure-data-manage-users-azure-synapse-serverless-sql-pools/media/azure-synapse-workspace-admin.png#lightbox)\n",
        "\n",
        "5. Select a User or Security group (a security group is the recommended option here)\n",
        "6. Click **Apply**\n",
        "\n",
        "Now this user or group is the administrator of the Azure Synapse workspace and serverless SQL pool.\n",
        "\n"
      ],
      "metadata": {
        "id": "e50P2i2okVXj"
      }
    },
    {
      "cell_type": "markdown",
      "source": [
        "### Next unit: Manage user permissions in Azure Synapse serverless SQL pools\n",
        "\n"
      ],
      "metadata": {
        "id": "_XS7Wj8akVVP"
      }
    },
    {
      "cell_type": "markdown",
      "source": [
        "## Unit 4 of 6\n",
        "\n"
      ],
      "metadata": {
        "id": "JOKRd-zzkVTH"
      }
    },
    {
      "cell_type": "markdown",
      "source": [
        "### Manage user permissions in Azure Synapse serverless SQL pools\n",
        "\n",
        "To secure data, Azure Storage implements an access control model that supports both Azure role-based access control (Azure RBAC) and access control lists (ACLs) like Portable Operating System Interface for Unix (POSIX)\n",
        "\n",
        "You can associate a security principal with an access level for files and directories. These associations are captured in an access control list (ACL). Each file and directory in your storage account has an access control list. When a security principal attempts an operation on a file or directory, an ACL check determines whether that security principal (user, group, service principal, or managed identity) has the correct permission level to perform the operation.\n",
        "\n",
        "There are two kinds of access control lists:\n",
        "\n",
        "- **Access ACLs**\n",
        "\n",
        "    Controls access to an object. Files and directories both have access ACLs.\n",
        "\n",
        "- **Default ACLs**\n",
        "\n",
        "    Are templates of ACLs associated with a directory that determine the access ACLs for any child items that are created under that directory. Files do not have default ACLs.\n",
        "\n",
        "Both access ACLs and default ACLs have the same structure.\n",
        "\n",
        "The permissions on a container object are Read, Write, and Execute, and they can be used on files and directories as shown in the following table:\n",
        "\n"
      ],
      "metadata": {
        "id": "Sr0is7dSkVQz"
      }
    },
    {
      "cell_type": "markdown",
      "source": [
        "#### Levels of permissions\n",
        "\n",
        "| Permission | File | Directory |\n",
        "| :-- | :-- | :-- |\n",
        "| Read (R) | Can read the contents of a file | Requires Read and Execute to list the contents of the directory |\n",
        "| Write (W) | Can write or append to a file | Requires Write and Execute to create child items in a directory |\n",
        "| Execute (X) | Does not mean anything in the context of Data Lake Storage Gen2 | Required to traverse the child items of a directory |\n",
        "\n"
      ],
      "metadata": {
        "id": "FW-l0K2FkVOc"
      }
    },
    {
      "cell_type": "markdown",
      "source": [
        "#### Guidelines in setting up ACLs\n",
        "\n",
        "Always use Microsoft Entra security groups as the assigned principal in an ACL entry. Resist the opportunity to directly assign individual users or service principals. Using this structure will allow you to add and remove users or service principals without the need to reapply ACLs to an entire directory structure. Instead, you can just add or remove users and service principals from the appropriate Microsoft Entra security group.\n",
        "\n",
        "There are many ways to set up groups. For example, imagine that you have a directory named **/LogData** which holds log data that is generated by your server. Azure Data Factory (ADF) ingests data into that folder. Specific users from the service engineering team will upload logs and manage other users of this folder, and various Databricks clusters will analyze logs from that folder.\n",
        "\n",
        "To enable these activities, you could create a LogsWriter group and a LogsReader group. Then, you could assign permissions as follows:\n",
        "\n",
        "- Add the LogsWriter group to the ACL of the **/LogData** directory with rwx permissions.\n",
        "- Add the LogsReader group to the ACL of the **/LogData** directory with r-x permissions.\n",
        "- Add the service principal object or Managed Service Identity (MSI) for ADF to the LogsWriters group.\n",
        "- Add users in the service engineering team to the LogsWriter group.\n",
        "- Add the service principal object or MSI for Databricks to the LogsReader group.\n",
        "\n",
        "If a user in the service engineering team leaves the company, you could just remove them from the LogsWriter group. If you did not add that user to a group, but instead, you added a dedicated ACL entry for that user, you would have to remove that ACL entry from the **/LogData** directory. You would also have to remove the entry from all subdirectories and files in the entire directory hierarchy of the **/LogData** directory.\n",
        "\n"
      ],
      "metadata": {
        "id": "p6DW7tAZkVMG"
      }
    },
    {
      "cell_type": "markdown",
      "source": [
        "#### Roles necessary for serverless SQL pool users\n",
        "\n",
        "For users which need **read only** access you should assign role named **Storage Blob Data Reader**.\n",
        "\n",
        "For users which need **read/write** access you should assign role named **Storage Blob Data Contributor**. Read/Write access is needed if user should have access to create external table as select (CETAS).\n",
        "\n",
        "> **Note:** If user has a role Owner or Contributor, that role is not enough. Azure Data Lake Storage gen 2 has super-roles which should be assigned.\n",
        "\n"
      ],
      "metadata": {
        "id": "u_TWW2IpkVJ3"
      }
    },
    {
      "cell_type": "markdown",
      "source": [
        "#### Database level permission\n",
        "\n",
        "To provide more granular access to the user, you should use Transact-SQL syntax to create logins and users.\n",
        "\n",
        "To grant access to a user to a single serverless SQL pool database, follow the steps in this example:\n",
        "\n",
        "1. Create LOGIN\n",
        "\n",
        "    ```sql\n",
        "    use master\n",
        "    CREATE LOGIN [alias@domain.com] FROM EXTERNAL PROVIDER;\n",
        "    ```\n",
        "\n",
        "2. Create USER\n",
        "\n",
        "    ```sql\n",
        "    use yourdb -- Use your DB name\n",
        "    CREATE USER alias FROM LOGIN [alias@domain.com];\n",
        "    ```\n",
        "\n",
        "3. Add USER to members of the specified role\n",
        "\n",
        "    ```sql\n",
        "    use yourdb -- Use your DB name\n",
        "    alter role db_datareader\n",
        "    Add member alias -- Type USER name from step 2\n",
        "    -- You can use any Database Role which exists\n",
        "    -- (examples: db_owner, db_datareader, db_datawriter)\n",
        "    -- Replace alias with alias of the user you would like to give access and domain with the company domain you are using.\n",
        "    ```\n",
        "\n"
      ],
      "metadata": {
        "id": "qejbBaNrkVHb"
      }
    },
    {
      "cell_type": "markdown",
      "source": [
        "#### Server level permission\n",
        "\n",
        "1. To grant full access to a user to all serverless SQL pool databases, follow the step in this example:\n",
        "\n",
        "    ```sql\n",
        "    CREATE LOGIN [alias@domain.com] FROM EXTERNAL PROVIDER;\n",
        "    ALTER SERVER ROLE sysadmin ADD MEMBER [alias@domain.com];\n",
        "    ```\n",
        "\n"
      ],
      "metadata": {
        "id": "Bq5YYolwkVFS"
      }
    },
    {
      "cell_type": "markdown",
      "source": [
        "### Next unit: Knowledge check\n",
        "\n"
      ],
      "metadata": {
        "id": "8MdvK79VkVDD"
      }
    },
    {
      "cell_type": "markdown",
      "source": [
        "## Unit 5 of 6\n",
        "\n"
      ],
      "metadata": {
        "id": "cylm4WNWkVA3"
      }
    },
    {
      "cell_type": "markdown",
      "source": [
        "### Knowledge check\n",
        "\n",
        "1. Which authentication method would be the likeliest choice to use for an individual who needs to access your serverless SQL pool who works for an external organization?\n",
        "\n",
        "    - ☐ Local authentication.\n",
        "    - ☑ SQL Authentication.\n",
        "    > Correct. SQL Authentication uses an authentication method of a username and password stored within the serverless SQL pool.\n",
        "    - ☐ Microsoft Entra ID.\n",
        "\n",
        "2. Which Azure Synapse Studio hub is where you assign administrator privileges to an Azure Synapse workspace?\n",
        "\n",
        "    - ☑ Manage.\n",
        "    > Correct. The manage hub is the area of Azure Synapse Studio where you assign administrator privileges to an Azure Synapse workspace.\n",
        "    - ☐ Data.\n",
        "    - ☐ Develop.\n",
        "\n",
        "3. Which role enables a user to create external table as select (CETAS) against an Azure Data Lake Gen2 data store?\n",
        "\n",
        "    - ☐ Storage Blob Data Reader.\n",
        "    - ☑ Storage Blob Data Contributor.\n",
        "    > Correct. This provides the read/write access required to execute a create external table as select statement.\n",
        "    - ☐ Executor.\n",
        "\n"
      ],
      "metadata": {
        "id": "VLaBy1pVkU-v"
      }
    },
    {
      "cell_type": "markdown",
      "source": [
        "### Next unit: Summary\n",
        "\n"
      ],
      "metadata": {
        "id": "bL7g3nslzy3a"
      }
    },
    {
      "cell_type": "markdown",
      "source": [
        "## Unit 6 of 6\n",
        "\n"
      ],
      "metadata": {
        "id": "_277Pd6czy01"
      }
    },
    {
      "cell_type": "markdown",
      "source": [
        "### Summary\n",
        "\n",
        "In this lesson, you will learn how you can set up security when using Azure Synapse serverless SQL pools by:\n",
        "\n",
        "- Choosing an authentication method in Azure Synapse serverless SQL pools\n",
        "- Managing users in Azure Synapse serverless SQL pools\n",
        "- Managing user permissions in Azure Synapse serverless SQL pools\n",
        "\n"
      ],
      "metadata": {
        "id": "tgqqq4SkzyyN"
      }
    },
    {
      "cell_type": "markdown",
      "source": [
        "### All units complete\n",
        "\n"
      ],
      "metadata": {
        "id": "E0DGWNjkzyvq"
      }
    }
  ]
}