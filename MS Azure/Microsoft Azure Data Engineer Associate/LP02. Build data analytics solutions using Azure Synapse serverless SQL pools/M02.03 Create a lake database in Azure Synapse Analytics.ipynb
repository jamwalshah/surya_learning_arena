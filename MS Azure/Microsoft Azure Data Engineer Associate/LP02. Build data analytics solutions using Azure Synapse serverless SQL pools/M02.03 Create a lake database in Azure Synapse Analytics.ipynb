{
  "nbformat": 4,
  "nbformat_minor": 0,
  "metadata": {
    "colab": {
      "provenance": [],
      "toc_visible": true
    },
    "kernelspec": {
      "name": "python3",
      "display_name": "Python 3"
    },
    "language_info": {
      "name": "python"
    }
  },
  "cells": [
    {
      "cell_type": "markdown",
      "source": [
        "# M02.03 Create a lake database in Azure Synapse Analytics\n",
        "\n"
      ],
      "metadata": {
        "id": "opdNgt2xkHt-"
      }
    },
    {
      "cell_type": "markdown",
      "source": [
        "## Unit 1 of 8\n",
        "\n"
      ],
      "metadata": {
        "id": "sCtRKpUskHrm"
      }
    },
    {
      "cell_type": "markdown",
      "source": [
        "### Introduction\n",
        "\n",
        "Data analysts and engineers often find themselves forced to choose between the flexibility of storing data files in a data lake, with the advantages of a structured schema in a relational database. *Lake databases* in Azure Synapse Analytics provide a way to combine these two approaches and benefit from an explicit relational schema of tables, views, and relationships that is decoupled from file-based storage.\n",
        "\n",
        "In this module, you'll learn how to:\n",
        "\n",
        "- Understand lake database concepts and components\n",
        "- Describe database templates in Azure Synapse Analytics\n",
        "- Create a lake database\n",
        "\n"
      ],
      "metadata": {
        "id": "0PzlGXkpkHo8"
      }
    },
    {
      "cell_type": "markdown",
      "source": [
        "### Prerequisites\n",
        "\n",
        "Before starting this module, you should have the following prerequisite skills and knowledge:\n",
        "\n",
        "- Familiarity with the Microsoft Azure portal\n",
        "- Familiarity with data lake and data warehouse concepts\n",
        "- Experience of using SQL to query database tables\n",
        "\n"
      ],
      "metadata": {
        "id": "R7m4GXXskHmY"
      }
    },
    {
      "cell_type": "markdown",
      "source": [
        "### Next unit: Understand lake database concepts\n",
        "\n"
      ],
      "metadata": {
        "id": "u9V8UHiBkHkO"
      }
    },
    {
      "cell_type": "markdown",
      "source": [
        "## Unit 2 of 8\n",
        "\n"
      ],
      "metadata": {
        "id": "RiOq2o2OkHhp"
      }
    },
    {
      "cell_type": "markdown",
      "source": [
        "### Understand lake database concepts\n",
        "\n",
        "In a traditional relational database, the database schema is composed of tables, views, and other objects. Tables in a relational database define the entities for which data is stored - for example, a retail database might include tables for products, customers, and orders. Each entity consists of a set of attributes that are defined as columns in the table, and each column has a name and a data type. The data for the tables is stored in the database, and is tightly coupled to the table definition; which enforces data types, nullability, key uniqueness, and referential integrity between related keys. All queries and data manipulations must be performed through the database system.\n",
        "\n",
        "In a data lake, there is no fixed schema. Data is stored in files, which may be structured, semi-structured, or unstructured. Applications and data analysts can work directly with the files in the data lake using the tools of their choice; without the constraints of a relational database system.\n",
        "\n",
        "A *lake database* provides a relational metadata layer over one or more files in a data lake. You can create a lake database that includes definitions for tables, including column names and data types as well as relationships between primary and foreign key columns. The tables reference files in the data lake, enabling you to apply relational semantics to working with the data and querying it using SQL. However, the storage of the data files is decoupled from the database schema; enabling more flexibility than a relational database system typically offers.\n",
        "\n",
        "![Diagram of a relational schema of linked tables overlaying files in a file store.](https://learn.microsoft.com/en-us/training/wwl-data-ai/create-metadata-objects-azure-synapse-serverless-sql-pools/media/lake-database.png)\n",
        "\n"
      ],
      "metadata": {
        "id": "0ndbxdwfkHfc"
      }
    },
    {
      "cell_type": "markdown",
      "source": [
        "#### Lake database schema\n",
        "\n",
        "You can create a lake database in Azure Synapse Analytics, and define the tables that represent the entities for which you need to store data. You can apply proven data modeling principles to create relationships between tables and use appropriate naming conventions for tables, columns, and other database objects.\n",
        "\n",
        "Azure Synapse Analytics includes a graphical database design interface that you can use to model complex database schema, using many of the same best practices for database design that you would apply to a traditional database.\n",
        "\n"
      ],
      "metadata": {
        "id": "794A-yeBkHct"
      }
    },
    {
      "cell_type": "markdown",
      "source": [
        "#### Lake database storage\n",
        "\n",
        "The data for the tables in your lake database is stored in the data lake as Parquet or CSV files. The files can be managed independently of the database tables, making it easier to manage data ingestion and manipulation with a wide variety of data processing tools and technologies.\n",
        "\n"
      ],
      "metadata": {
        "id": "f3Sv3eMkkHaB"
      }
    },
    {
      "cell_type": "markdown",
      "source": [
        "#### Lake database compute\n",
        "\n",
        "To query and manipulate the data through the tables you have defined, you can use an Azure Synapse serverless SQL pool to run SQL queries or an Azure Synapse Apache Spark pool to work with the tables using the Spark SQL API.\n",
        "\n"
      ],
      "metadata": {
        "id": "NAMJvL36kHXd"
      }
    },
    {
      "cell_type": "markdown",
      "source": [
        "### Next unit: Explore database templates\n",
        "\n"
      ],
      "metadata": {
        "id": "dtTvqDH9kHVB"
      }
    },
    {
      "cell_type": "markdown",
      "source": [
        "## Unit 3 of 8\n",
        "\n"
      ],
      "metadata": {
        "id": "JVsq5k7MkHSi"
      }
    },
    {
      "cell_type": "markdown",
      "source": [
        "### Explore database templates\n",
        "\n",
        "You can create a Lake database from an empty schema, to which you add definitions for tables and the relationships between them. However, Azure Synapse Analytics provides a comprehensive collection of database templates that reflect common schemas found in multiple business scenarios; including:\n",
        "\n",
        "- Agriculture\n",
        "- Automotive\n",
        "- Banking\n",
        "- Consumer goods\n",
        "- Energy and commodity trading\n",
        "- Freight and logistics\n",
        "- Fund management\n",
        "- Healthcare insurance\n",
        "- Healthcare provider\n",
        "- Manufacturing\n",
        "- Retail\n",
        "- and many others...\n",
        "\n",
        "![Screenshot of the gallery in Azure Synapse Studio, showing database templates.](https://learn.microsoft.com/en-us/training/wwl-data-ai/create-metadata-objects-azure-synapse-serverless-sql-pools/media/gallery.png)\n",
        "\n",
        "You can use one of the enterprise database templates as the starting point for creating your lake database, or you can start with a blank schema and add and modify tables from the templates as required.\n",
        "\n"
      ],
      "metadata": {
        "id": "3JlKxkookHQR"
      }
    },
    {
      "cell_type": "markdown",
      "source": [
        "### Next unit: Create a lake database\n",
        "\n"
      ],
      "metadata": {
        "id": "mVmoA_fBkHN4"
      }
    },
    {
      "cell_type": "markdown",
      "source": [
        "## Unit 4 of 8\n",
        "\n"
      ],
      "metadata": {
        "id": "EmO36AZJkHLp"
      }
    },
    {
      "cell_type": "markdown",
      "source": [
        "### Create a lake database\n",
        "\n",
        "You can create a lake database using the lake database designer in Azure Synapse Studio. Start by adding a new lake database on the **Data** page, selecting a template from the gallery or starting with a blank lake database; and then add and customize tables using the visual database designer interface.\n",
        "\n",
        "As you create each table, you can specify the type and location of the files you want to use to store the underlying data, or you can create a table from existing files that are already in the data lake. In most cases, it's advisable to store all of the database files in a consistent format within the same root folder in the data lake.\n",
        "\n"
      ],
      "metadata": {
        "id": "fs3HHTGpkHJa"
      }
    },
    {
      "cell_type": "markdown",
      "source": [
        "#### Database designer\n",
        "\n",
        "The database designer interface in Azure Synapse Studio provides a drag-and-drop surface on which you can edit the tables in your database and the relationships between them.\n",
        "\n",
        "![Screenshot of database designer in Azure Synapse Studio.](https://learn.microsoft.com/en-us/training/wwl-data-ai/create-metadata-objects-azure-synapse-serverless-sql-pools/media/database-designer.png#lightbox)\n",
        "\n",
        "Using the database designer, you can define the schema for your database by adding or removing tables and:\n",
        "\n",
        "- Specifying the name and storage settings for each table.\n",
        "- Specifying the names, key usage, nullability, and data types for each column.\n",
        "- Defining relationships between key columns in tables.\n",
        "\n",
        "When your database schema is ready for use, you can publish the database and start using it.\n",
        "\n"
      ],
      "metadata": {
        "id": "63IKWSaykHHN"
      }
    },
    {
      "cell_type": "markdown",
      "source": [
        "### Next unit: Use a lake database\n",
        "\n"
      ],
      "metadata": {
        "id": "AeIfqe6tkHFL"
      }
    },
    {
      "cell_type": "markdown",
      "source": [
        "## Unit 5 of 8\n",
        "\n"
      ],
      "metadata": {
        "id": "1pEH6RY7kHCp"
      }
    },
    {
      "cell_type": "markdown",
      "source": [
        "### Use a lake database\n",
        "\n",
        "After creating a lake database, you can store data files that match the table schemas in the appropriate folders in the data lake, and query them using SQL.\n",
        "\n"
      ],
      "metadata": {
        "id": "9ZRww5PUkHAU"
      }
    },
    {
      "cell_type": "markdown",
      "source": [
        "#### Using a serverless SQL pool\n",
        "\n",
        "You can query a lake database in a SQL script by using a serverless SQL pool.\n",
        "\n",
        "For example, suppose a lake database named **RetailDB** contains an **Customer** table. You could query it using a standard SELECT statement like this:\n",
        "\n",
        "```sql\n",
        "USE RetailDB;\n",
        "GO\n",
        "\n",
        "SELECT CustomerID, FirstName, LastName\n",
        "FROM Customer\n",
        "ORDER BY LastName;\n",
        "```\n",
        "\n",
        "There is no need to use an OPENROWSET function or include any additional code to access the data from the underlying file storage. The serverless SQL pool handles the mapping to the files for you.\n",
        "\n"
      ],
      "metadata": {
        "id": "vInIafDlkG-N"
      }
    },
    {
      "cell_type": "markdown",
      "source": [
        "#### Using an Apache Spark pool\n",
        "\n",
        "In addition to using a serverless SQL pool, you can work with lake database tables using Spark SQL in an Apache Spark pool.\n",
        "\n",
        "For example, you could use the following code to insert a new customer record into the **Customer** table.\n",
        "\n",
        "```sql\n",
        "%%sql\n",
        "INSERT INTO `RetailDB`.`Customer` VALUES (123, 'John', 'Yang')\n",
        "```\n",
        "\n",
        "You could then use the following code to query the table:\n",
        "\n",
        "```sql\n",
        "%%sql\n",
        "SELECT * FROM `RetailDB`.`Customer` WHERE CustomerID = 123\n",
        "```\n",
        "\n"
      ],
      "metadata": {
        "id": "o0Z-qI_8kG7r"
      }
    },
    {
      "cell_type": "markdown",
      "source": [
        "### Next unit: Exercise - Analyze data in a lake database\n",
        "\n"
      ],
      "metadata": {
        "id": "9qJSGI3tkG5Q"
      }
    },
    {
      "cell_type": "markdown",
      "source": [
        "## Unit 6 of 8\n",
        "\n"
      ],
      "metadata": {
        "id": "80xhoYFwkG3G"
      }
    },
    {
      "cell_type": "markdown",
      "source": [
        "### Exercise - Analyze data in a lake database\n",
        "\n",
        "Now it's your opportunity to create and use a lake database. In this exercise, you'll use a provided script to provision an Azure Synapse Analytics workspace in your Azure subscription; and then create a lake database in Azure Synapse Studio.\n",
        "\n",
        "> **Note:** To complete this lab, you will need an [Azure subscription](https://azure.microsoft.com/free) in which you have administrative access.\n",
        "\n",
        "Launch the exercise and follow the instructions.\n",
        "\n",
        "[Launch Exercise](https://aka.ms/mslearn-synapse-lakedb)\n",
        "\n"
      ],
      "metadata": {
        "id": "QTqRtY4qkG0p"
      }
    },
    {
      "cell_type": "markdown",
      "source": [
        "### Next unit: Knowledge check\n",
        "\n"
      ],
      "metadata": {
        "id": "HY7Ojf_rkGyd"
      }
    },
    {
      "cell_type": "markdown",
      "source": [
        "## Unit 7 of 8\n",
        "\n"
      ],
      "metadata": {
        "id": "AH_87U0WkGwR"
      }
    },
    {
      "cell_type": "markdown",
      "source": [
        "### Knowledge check\n",
        "\n",
        "1. Which if the following statements is true of a lake database?\n",
        "\n",
        "    - ☐ Data is stored in a relational database store and can't be directly accessed in the data lake files.\n",
        "    - ☐ Data is stored in files that can't be queried using SQL.\n",
        "    - ☑ A relational schema is overlaid on the underlying files, and can be queried using a serverless SQL pool or a Spark pool.\n",
        "    > Correct. A lake database abstracts files with a relational schema that can be queried using SQL in a serverless SQL pool or a Spark pool.\n",
        "\n",
        "2. You need to create a new lake database for a retail solution. What's the most efficient way to do this?\n",
        "\n",
        "    - ☐ Create a sample database in Azure SQL Database and export the SQL scripts to create the schema for the lake database.\n",
        "    - ☑ Start with the Retail database template in Azure Synapse Studio, and adapt it as necessary.\n",
        "    > Correct. The Gallery in Azure Synapse Studio includes industry-proven database schema templates, including one for retail.\n",
        "    - ☐ Start with an empty database and create a normalized schema.\n",
        "\n",
        "3. You have Parquet files in an existing data lake folder for which you want to create a table in a lake database. What should you do?\n",
        "\n",
        "    - ☐ Use a CREATE EXTERNAL TABLE AS SELECT (CETAS) query to create the table.\n",
        "    - ☐ Convert the files in the folder to CSV format.\n",
        "    - ☑ Use the database designer to create a table based on the existing folder.\n",
        "    > Correct. You can add a table to a database from existing files.\n",
        "\n"
      ],
      "metadata": {
        "id": "cZA_ZeitkGuF"
      }
    },
    {
      "cell_type": "markdown",
      "source": [
        "### Next unit: Summary\n",
        "\n"
      ],
      "metadata": {
        "id": "tZJKmS5RkGr9"
      }
    },
    {
      "cell_type": "markdown",
      "source": [
        "## Unit 8 of 8\n",
        "\n"
      ],
      "metadata": {
        "id": "ten7XYE7kGpa"
      }
    },
    {
      "cell_type": "markdown",
      "source": [
        "### Summary\n",
        "\n",
        "A lake database can provide the benefits of a relational schema and query interface with the flexibility of file storage in a data lake.\n",
        "\n",
        "In this module, you learned how to:\n",
        "\n",
        "- Understand lake database concepts and components\n",
        "- Describe database templates in Azure Synapse Analytics\n",
        "- Create a lake database\n",
        "\n"
      ],
      "metadata": {
        "id": "K7iiM4sVK6bO"
      }
    },
    {
      "cell_type": "markdown",
      "source": [
        "### Learn more\n",
        "\n",
        "To learn more about lake databases, refer to the [Azure Synapse Analytics documentation](https://learn.microsoft.com/en-us/azure/synapse-analytics/database-designer/concepts-lake-database).\n",
        "\n"
      ],
      "metadata": {
        "id": "YPdcXvhDK6Yq"
      }
    },
    {
      "cell_type": "markdown",
      "source": [
        "### All units complete\n",
        "\n"
      ],
      "metadata": {
        "id": "bAfeEEkuK6WJ"
      }
    }
  ]
}