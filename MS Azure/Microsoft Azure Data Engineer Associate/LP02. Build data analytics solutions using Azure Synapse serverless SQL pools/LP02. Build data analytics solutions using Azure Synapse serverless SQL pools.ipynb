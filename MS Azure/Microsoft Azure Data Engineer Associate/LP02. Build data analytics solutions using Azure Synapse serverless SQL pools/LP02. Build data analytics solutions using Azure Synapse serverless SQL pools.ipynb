{
  "nbformat": 4,
  "nbformat_minor": 0,
  "metadata": {
    "colab": {
      "provenance": [],
      "toc_visible": true
    },
    "kernelspec": {
      "name": "python3",
      "display_name": "Python 3"
    },
    "language_info": {
      "name": "python"
    }
  },
  "cells": [
    {
      "cell_type": "markdown",
      "source": [
        "# LP02. Build data analytics solutions using Azure Synapse serverless SQL pools\n",
        "\n",
        "3 hr 17 min • Learning Path • 4 modules\n",
        "\n",
        "`Intermediate` `Data Analyst` `Data Engineer` `Azure Synapse Analytics`\n",
        "\n",
        "If you have large volumes of data stored as files in a data lake, you'll need a convenient way to explore and analyze the data they contain. Azure Synapse Analytics enables you to apply the SQL skills you use in a relational database to files in a data lake.\n",
        "\n"
      ],
      "metadata": {
        "id": "uosIr95KwHyx"
      }
    },
    {
      "cell_type": "markdown",
      "source": [
        "## Prerequisites\n",
        "\n",
        "Consider completing the [Explore data analytics in Azure](https://learn.microsoft.com/en-us/training/paths/azure-data-fundamentals-explore-data-warehouse-analytics?azure-portal=true) and [Get started querying with Transact-SQL](https://learn.microsoft.com/en-us/training/paths/get-started-querying-with-transact-sql?azure-portal-true) learning paths before starting this learning path. You will need knowledge of:\n",
        "\n",
        "- Analytical data workloads in Microsoft Azure\n",
        "- Querying data with Transact-SQL\n",
        "\n"
      ],
      "metadata": {
        "id": "39ydRcSMwHvT"
      }
    },
    {
      "cell_type": "markdown",
      "source": [
        "## Modules in this learning path\n",
        "\n"
      ],
      "metadata": {
        "id": "TIRtDH1lwHs3"
      }
    },
    {
      "cell_type": "markdown",
      "source": [
        "### Use Azure Synapse serverless SQL pool to query files in a data lake\n",
        "\n",
        "1 hr 8 min • Module • 7 Units\n",
        "\n",
        "With Azure Synapse serverless SQL pool, you can leverage your SQL skills to explore and analyze data in files, without the need to load the data into a relational database.\n",
        "\n"
      ],
      "metadata": {
        "id": "l0piP0J-wHqs"
      }
    },
    {
      "cell_type": "markdown",
      "source": [
        "### Use Azure Synapse serverless SQL pools to transform data in a data lake\n",
        "\n",
        "47 min • Module • 7 Units\n",
        "\n",
        "By using a serverless SQL pool in Azure Synapse Analytics, you can use the ubiquitous SQL language to transform data in files in a data lake.\n",
        "\n"
      ],
      "metadata": {
        "id": "VZQb8EdRwHoO"
      }
    },
    {
      "cell_type": "markdown",
      "source": [
        "### Create a lake database in Azure Synapse Analytics\n",
        "\n",
        "1 hr 4 min • Module • 8 Units\n",
        "\n",
        "Why choose between working with files in a data lake or a relational database schema? With lake databases in Azure Synapse Analytics, you can combine the benefits of both.\n",
        "\n"
      ],
      "metadata": {
        "id": "zSwLygJawHlr"
      }
    },
    {
      "cell_type": "markdown",
      "source": [
        "### Secure data and manage users in Azure Synapse serverless SQL pools\n",
        "\n",
        "18 min • Module • 6 Units\n",
        "\n",
        "Learn how you can set up security when using Azure Synapse serverless SQL pools\n",
        "\n"
      ],
      "metadata": {
        "id": "UuAvNQJRwHju"
      }
    }
  ]
}